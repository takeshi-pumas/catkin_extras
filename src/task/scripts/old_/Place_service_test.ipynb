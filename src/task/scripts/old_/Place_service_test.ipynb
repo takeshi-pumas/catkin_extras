{
 "cells": [
  {
   "cell_type": "code",
   "execution_count": 1,
   "id": "e5449f6d",
   "metadata": {},
   "outputs": [],
   "source": [
    "from smach_utils2 import *"
   ]
  },
  {
   "cell_type": "code",
   "execution_count": 2,
   "id": "55ff59b9",
   "metadata": {},
   "outputs": [
    {
     "name": "stdout",
     "output_type": "stream",
     "text": [
      "#############Finding placing in plane#################### 0.58\n",
      "Placing Area at (0.745388388633728, -1.723663568496704, 0.6439441442489624, 0.828220546245575, -1.3616327047348022, 0.6439088582992554)\n"
     ]
    },
    {
     "data": {
      "text/plain": [
       "True"
      ]
     },
     "execution_count": 2,
     "metadata": {},
     "output_type": "execute_result"
    }
   ],
   "source": [
    "head.set_joint_values([ 0.0, -0.5])\n",
    "rospy.sleep(1.0)                \n",
    "find_placing_area(plane_height=.58)"
   ]
  },
  {
   "cell_type": "code",
   "execution_count": 3,
   "id": "bcd99fe9",
   "metadata": {},
   "outputs": [],
   "source": [
    "pos, quat = tf_man.getTF(target_frame = 'placing_area', ref_frame = 'odom')\n",
    "target_pose = Float32MultiArray()\n",
    "target_pose.data = pos\n",
    "offset_point=[0.0,0.0,0.15 ]\n",
    "###################\n",
    "#####################APPLY OFFSET\n",
    "object_point = PointStamped()\n",
    "object_point.header.frame_id = \"placing_area\"    ##userdata.target_object#\"base_link\"\n",
    "object_point.point.x = offset_point[0]\n",
    "object_point.point.y = offset_point[1]\n",
    "object_point.point.z = offset_point[2]\n",
    "transformed_object_point = tfBuffer.transform(object_point, \"map\", timeout=rospy.Duration(1))\n",
    "tf_man.pub_static_tf(pos=[transformed_object_point.point.x,transformed_object_point.point.y,transformed_object_point.point.z],rot=quat,point_name='goal_for_place')\n",
    "##################################################################3\n",
    "rospy.sleep(0.5)\n",
    "pos, quat = tf_man.getTF(target_frame = 'goal_for_place', ref_frame = 'odom')"
   ]
  },
  {
   "cell_type": "code",
   "execution_count": 5,
   "id": "9cc04388",
   "metadata": {},
   "outputs": [
    {
     "data": {
      "text/plain": [
       "array([-1.31165076,  0.43607673,  0.79394414,  0.        ,  0.        ,\n",
       "        0.99784343, -0.06563909])"
      ]
     },
     "execution_count": 5,
     "metadata": {},
     "output_type": "execute_result"
    }
   ],
   "source": [
    "\n",
    "pose_goal=np.concatenate((pos,quat))\n",
    "pose_goal"
   ]
  },
  {
   "cell_type": "code",
   "execution_count": null,
   "id": "10c59ca7",
   "metadata": {},
   "outputs": [],
   "source": []
  }
 ],
 "metadata": {
  "kernelspec": {
   "display_name": "Python 3 (ipykernel)",
   "language": "python",
   "name": "python3"
  },
  "language_info": {
   "codemirror_mode": {
    "name": "ipython",
    "version": 3
   },
   "file_extension": ".py",
   "mimetype": "text/x-python",
   "name": "python",
   "nbconvert_exporter": "python",
   "pygments_lexer": "ipython3",
   "version": "3.8.10"
  }
 },
 "nbformat": 4,
 "nbformat_minor": 5
}
