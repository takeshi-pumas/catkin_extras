{
 "cells": [
  {
   "cell_type": "code",
   "execution_count": 1,
   "id": "1863753f",
   "metadata": {
    "scrolled": false
   },
   "outputs": [
    {
     "name": "stderr",
     "output_type": "stream",
     "text": [
      "/home/roboworks/.local/lib/python3.8/site-packages/pandas/core/computation/expressions.py:20: UserWarning: Pandas requires version '2.7.3' or newer of 'numexpr' (version '2.7.1' currently installed).\n",
      "  from pandas.core.computation.check import NUMEXPR_INSTALLED\n"
     ]
    }
   ],
   "source": [
    "from smach_utils2 import *\n",
    "import matplotlib.pyplot as plt\n",
    "#arm = moveit_commander.MoveGroupCommander('arm')\n"
   ]
  },
  {
   "cell_type": "code",
   "execution_count": null,
   "id": "7513f1e4",
   "metadata": {},
   "outputs": [],
   "source": [
    "omni_base.tiny_move( velX=1.0,std_time=0.2, MAX_VEL=0.3) "
   ]
  },
  {
   "cell_type": "code",
   "execution_count": null,
   "id": "7b915fd4",
   "metadata": {},
   "outputs": [],
   "source": [
    "gripper.steady()"
   ]
  },
  {
   "cell_type": "code",
   "execution_count": null,
   "id": "18183f43",
   "metadata": {},
   "outputs": [],
   "source": [
    "gripper.close(0.0061)"
   ]
  },
  {
   "cell_type": "code",
   "execution_count": null,
   "id": "92c47771",
   "metadata": {},
   "outputs": [],
   "source": [
    "arm=moveit_commander.MoveGroupCommander('arm')"
   ]
  },
  {
   "cell_type": "code",
   "execution_count": null,
   "id": "9fa7ecc1",
   "metadata": {},
   "outputs": [],
   "source": [
    "\n",
    "whole_body=moveit_commander.MoveGroupCommander('whole_body_weighted')"
   ]
  },
  {
   "cell_type": "code",
   "execution_count": null,
   "id": "287ca6e5",
   "metadata": {},
   "outputs": [],
   "source": [
    "pose=whole_body.get_current_pose()\n",
    "pose.pose.position.x,pose.pose.position.y, pose.pose.position.z"
   ]
  },
  {
   "cell_type": "code",
   "execution_count": null,
   "id": "67ca2fb9",
   "metadata": {},
   "outputs": [],
   "source": [
    "whole_body.set_joint_value_target"
   ]
  },
  {
   "cell_type": "code",
   "execution_count": null,
   "id": "acd0214d",
   "metadata": {},
   "outputs": [],
   "source": [
    "wb_v=whole_body.get_current_joint_values()\n",
    "wb_v[3]+=0.1\n",
    "whole_body.set_joint_value_target(wb_v)"
   ]
  },
  {
   "cell_type": "code",
   "execution_count": null,
   "id": "e98fdbd9",
   "metadata": {},
   "outputs": [],
   "source": []
  },
  {
   "cell_type": "code",
   "execution_count": null,
   "id": "1fe458d5",
   "metadata": {},
   "outputs": [],
   "source": []
  },
  {
   "cell_type": "code",
   "execution_count": null,
   "id": "6dd4be85",
   "metadata": {},
   "outputs": [],
   "source": []
  },
  {
   "cell_type": "code",
   "execution_count": null,
   "id": "d0edfc60",
   "metadata": {},
   "outputs": [],
   "source": []
  },
  {
   "cell_type": "code",
   "execution_count": null,
   "id": "4d74ad33",
   "metadata": {},
   "outputs": [],
   "source": [
    "res = omni_base.move_base(known_location='place_shelf', time_out=200)\n",
    "high_shelf_place=np.asarray([0.15050079265248406,\n",
    " -0.5861087653247212,\n",
    " 0.0850017715788356,\n",
    " -0.9342371117035135,\n",
    " 0.022035143687695324,\n",
    " 0.0])\n",
    "mid_shelf_place=np.asarray([0.2556342351169577,\n",
    " -1.6040815280188854,\n",
    " -0.008078345343693893,\n",
    " -0.05795663028496589,\n",
    " 0.0019971082238159354,\n",
    " 0.0])\n",
    "\n",
    "low_shelf_place=np.asarray([0.04577467546491997,\n",
    " -2.262541528018885,\n",
    " 0.00010865465630605087,\n",
    " 0.701618369715034,\n",
    " -0.0003068917761841483,\n",
    " 0.0]\n",
    ")"
   ]
  },
  {
   "cell_type": "code",
   "execution_count": null,
   "id": "c91dbfe8",
   "metadata": {},
   "outputs": [],
   "source": [
    "head.set_joint_values([-0.5,-0.65])\n",
    "arm.set_named_target('go')\n",
    "arm.go()"
   ]
  },
  {
   "cell_type": "code",
   "execution_count": null,
   "id": "dcf7433d",
   "metadata": {},
   "outputs": [],
   "source": [
    "\n",
    "rospy.sleep(0.6)\n",
    "rospy.sleep(0.6)\n",
    "image= cv2.cvtColor(rgbd.get_image(), cv2.COLOR_RGB2BGR)\n",
    "img_msg  = bridge.cv2_to_imgmsg(image)\n",
    "req      = classify_client.request_class()\n",
    "req.in_.image_msgs.append(img_msg)\n",
    "res      = classify_client(req)\n",
    "debug_image=   cv2.cvtColor(bridge.imgmsg_to_cv2(res.debug_image.image_msgs[0]), cv2.COLOR_RGB2BGR)"
   ]
  },
  {
   "cell_type": "code",
   "execution_count": null,
   "id": "26ef0ad1",
   "metadata": {},
   "outputs": [],
   "source": [
    "\n",
    "plt.imshow(debug_image)"
   ]
  },
  {
   "cell_type": "code",
   "execution_count": null,
   "id": "9d11c8df",
   "metadata": {},
   "outputs": [],
   "source": [
    "request= segmentation_server.request_class() \n",
    "\n",
    "\n",
    "\n",
    "request.height.data=-1  #MID SHELF FOR PLACING \n",
    "\n",
    "\n",
    "res=placing_finder_server.call(request)\n",
    "#succ=seg_res_tf(res)\n",
    "print (f'Placing Area at {res.poses.data}')\n",
    "tf_man.pub_static_tf(pos=[res.poses.data[0], res.poses.data[1],res.poses.data[2]], rot =[0,0,0,1], point_name='placing_area')\n",
    "img=bridge.imgmsg_to_cv2(res.im_out.image_msgs[0])\n",
    "#cv2.imshow('our of res'  , img)\n",
    "plt.imshow(img)"
   ]
  },
  {
   "cell_type": "code",
   "execution_count": null,
   "id": "33f348a4",
   "metadata": {},
   "outputs": [],
   "source": [
    "res = omni_base.move_base(known_location='place_shelf', time_out=12)\n"
   ]
  },
  {
   "cell_type": "code",
   "execution_count": null,
   "id": "ee358c14",
   "metadata": {},
   "outputs": [],
   "source": [
    "base_grasp_D(tf_name='placing_area',d_x=0.76, d_y=0.0,timeout=30)\n",
    "arm.go (mid_shelf_place)\n",
    "base_grasp_D(tf_name='placing_area',d_x=0.6, d_y=0.0,timeout=30)\n",
    "gripper.open()"
   ]
  },
  {
   "cell_type": "code",
   "execution_count": null,
   "id": "b3f09264",
   "metadata": {},
   "outputs": [],
   "source": [
    "arm.go (mid_shelf_place)"
   ]
  },
  {
   "cell_type": "code",
   "execution_count": null,
   "id": "3a709112",
   "metadata": {},
   "outputs": [],
   "source": [
    "base_grasp_D(tf_name='placing_area',d_x=0.6, d_y=0.0,timeout=30)\n",
    "gripper.open()"
   ]
  },
  {
   "cell_type": "code",
   "execution_count": null,
   "id": "0dd7fca6",
   "metadata": {
    "scrolled": true
   },
   "outputs": [],
   "source": [
    "\n",
    "for i in range(len(res.poses)):\n",
    "    tf_man.getTF(\"head_rgbd_sensor_rgb_frame\")\n",
    "    tf_man.pub_static_tf(pos=[res.poses[i].position.x ,res.poses[i].position.y,res.poses[i].position.z], rot=[0,0,0,1],ref=\"head_rgbd_sensor_rgb_frame\",point_name=res.names[i].data[4:] )   \n",
    "    rospy.sleep(0.3)    tf_man.change_ref_frame_tf(res.names[i].data[4:])\n",
    "\n"
   ]
  },
  {
   "cell_type": "code",
   "execution_count": null,
   "id": "3a229b93",
   "metadata": {},
   "outputs": [],
   "source": [
    "omni_base.move_d_to(target_distance=0.78,target_link='apple')"
   ]
  },
  {
   "cell_type": "code",
   "execution_count": null,
   "id": "1cdf8e8e",
   "metadata": {},
   "outputs": [],
   "source": [
    "target_object='apple'\n",
    "trans,_=tf_man.getTF(target_object,ref_frame=\"base_link\")\n",
    "trans\n"
   ]
  },
  {
   "cell_type": "code",
   "execution_count": null,
   "id": "f6219c35",
   "metadata": {},
   "outputs": [],
   "source": [
    "#x,y,z= 5.8 , 1.6, 0.47   #SIM TMR\n",
    "#quat=[0.0,0.0,0.0,1.0]\n",
    "x,y,z,=-0.9,-0.7,0\n",
    "quat=[0.0,0.0,0.0,1.0]\n",
    "\n",
    "#x,y,z= -0.522 , -2.84, 0.8   #REAL LAB\n",
    "#quat=[0.0,0.0,0.707,-0.707]\n",
    "tf_man.pub_static_tf(pos=[x,y,z], rot=quat,point_name='shelf') ### Ideal  coordinates to place Bowl\n",
    "\n"
   ]
  },
  {
   "cell_type": "code",
   "execution_count": null,
   "id": "b0e76c9e",
   "metadata": {},
   "outputs": [],
   "source": [
    "line_up_TF()\n",
    "move_D_to(tf_name='shelf')"
   ]
  },
  {
   "cell_type": "code",
   "execution_count": null,
   "id": "658cec04",
   "metadata": {},
   "outputs": [],
   "source": [
    "\n",
    "def line_up_TF(tf_name='placing_area', timeout=30.0):\n",
    "    pose,rot= tf_man.getTF(\"base_link\",ref_frame=tf_name)\n",
    "    delta_th=tf.transformations.euler_from_quaternion(rot)[2]\n",
    "    print (pose[1], delta_th)\n",
    "    timeout = rospy.Time.now().to_sec() + timeout\n",
    "    active= True\n",
    "    while (active and timeout >= rospy.Time.now().to_sec()) and not rospy.is_shutdown():\n",
    "        \n",
    "        if (abs(pose[1])<0.01 and abs(delta_th)<0.05 ): active = False\n",
    "        pose,rot= tf_man.getTF(\"base_link\",ref_frame=tf_name)\n",
    "        delta_th=tf.transformations.euler_from_quaternion(rot)[2]\n",
    "        print (pose[1], delta_th, active)\n",
    "        \n",
    "        if (abs(delta_th)>0.1):pose[1]=0\n",
    "        \n",
    "        omni_base.tiny_move( velX=0.0,velY=-pose[1], velT=-delta_th,std_time=0.2, MAX_VEL=0.3) \n",
    "    return (abs(pose[1])<0.01 and abs(delta_th)<0.1 )\n"
   ]
  },
  {
   "cell_type": "code",
   "execution_count": null,
   "id": "bb2ec9f1",
   "metadata": {},
   "outputs": [],
   "source": []
  },
  {
   "cell_type": "code",
   "execution_count": null,
   "id": "45bb78ce",
   "metadata": {},
   "outputs": [],
   "source": [
    "tf_name='placing_area'\n",
    "pose,rot= tf_man.getTF(\"base_link\",ref_frame=tf_name)\n",
    "delta_th=tf.transformations.euler_from_quaternion(rot)[2]\n",
    "print (delta_th)"
   ]
  },
  {
   "cell_type": "code",
   "execution_count": null,
   "id": "ccc802f4",
   "metadata": {},
   "outputs": [],
   "source": []
  },
  {
   "cell_type": "code",
   "execution_count": null,
   "id": "79cf5e80",
   "metadata": {},
   "outputs": [],
   "source": [
    "\n",
    "def new_move_D_to(tf_name='placing_area',d_x=15 , timeout=30.0):\n",
    "#def base_grasp_D(tf_name,d_x=0.66,d_y=-0.1,timeout=1.0):\n",
    "    timeout = rospy.Time.now().to_sec() + timeout\n",
    "    \n",
    "    \n",
    "   \n",
    "    \n",
    "    succ = False            \n",
    "    i=0\n",
    "    while (not succ and not rospy.is_shutdown():\n",
    "        \n",
    "        rob_pos,rot=tf_man.getTF('base_link')    \n",
    "        robot_yaw=tf.transformations.euler_from_quaternion(rot)[2]\n",
    "        pose,_= tf_man.getTF(\"base_link\",ref_frame=tf_name)\n",
    "        target_yaw = math.atan2(pose[1], pose[0])+np.pi\n",
    "        delta_th=   target_yaw-robot_yaw\n",
    "        delta_th = (delta_th + np.pi) % (2 * np.pi) - np.pi\n",
    "        \n",
    "        print(\"robotyaw {:.2f}, , target_yaw {:.2f}, deltha th {:.2f}\".format(robot_yaw, target_yaw,delta_th))\n",
    "        i+=1                \n",
    "        #trans\n",
    "        eX = np.linalg.norm((pose[0:2]))\n",
    "        eX+= -d_x  #x offest\n",
    "        velX= eX \n",
    "        rospy.loginfo(\"error_D: {:.2f}, , delta_th {:.2f}, target obj frame {}\".format(eX,  delta_th,tf_name))\n",
    "        \n",
    "        \n",
    "        print(\"error_D: {:.2f}, , delta_th {:.2f}, target obj frame {}, D to target{:.2f}\".format(eX,  delta_th,tf_name,np.linalg.norm((pose[0:2]))))  \n",
    "    \n",
    "        if abs(delta_th)>=0.1:\n",
    "            velX=0\n",
    "       \n",
    "        succ =  eX <= 0.1  and abs(delta_th)<=0.1\n",
    "        \n",
    "        corr_velX = max(min(velX, 0.051), -0.051)\n",
    "        \n",
    "        \n",
    "       \n",
    "        print(\"error_D: {:.2f}, , delta_th {:.2f}, target obj frame {}\".format(eX,  delta_th,tf_name))\n",
    "        print (corr_velX)\n",
    "       \n",
    "        omni_base.tiny_move( velX=corr_velX,velY=0, velT=delta_th,std_time=0.2, MAX_VEL=0.3) \n",
    "    return succ\n"
   ]
  },
  {
   "cell_type": "code",
   "execution_count": null,
   "id": "3cdfbe65",
   "metadata": {},
   "outputs": [],
   "source": [
    "new_move_D_to(tf_name='shelf',d_x=0.5)"
   ]
  },
  {
   "cell_type": "code",
   "execution_count": null,
   "id": "f5b708f2",
   "metadata": {},
   "outputs": [],
   "source": [
    "def new_move_D_to(tf_name='placing_area',d_x=15 , timeout=30.0):\n",
    "\n",
    "    timeout = rospy.Time.now().to_sec() + timeout\n",
    "    succ = False            \n",
    "    i=0\n",
    "    while (timeout >= rospy.Time.now().to_sec()) and not succ and not rospy.is_shutdown():\n",
    "        \n",
    "        _,rot=tf_man.getTF('base_link')    \n",
    "        robot_yaw=tf.transformations.euler_from_quaternion(rot)[2]\n",
    "        pose,_= tf_man.getTF(\"base_link\",ref_frame=tf_name)\n",
    "        target_yaw = math.atan2(pose[1], pose[0])+np.pi\n",
    "        delta_th=   target_yaw-robot_yaw\n",
    "        delta_th = (delta_th + np.pi) % (2 * np.pi) - np.pi\n",
    "        i+=1                \n",
    "        eX = np.linalg.norm((pose[0:2]))\n",
    "        eX+= -d_x  #x offest\n",
    "        velX= eX \n",
    "        if abs(delta_th)>=0.1:velX=0\n",
    "        succ =  eX <= 0.1  and abs(delta_th)<=0.1\n",
    "        corr_velX = max(min(velX, 0.051), -0.051)\n",
    "        #if i >=10:\n",
    "        print(\"error_D: {:.2f}, , delta_th {:.2f}, target obj frame {}, D to target{:.2f}\".format(eX,  delta_th,tf_name,np.linalg.norm((pose[0:2]))))  \n",
    "        #    i=0\n",
    "        omni_base.tiny_move( velX=corr_velX,velY=0, velT=delta_th,std_time=0.2, MAX_VEL=0.3) \n",
    "    return succ\n",
    "\n",
    "#------------------------------------------------------"
   ]
  },
  {
   "cell_type": "code",
   "execution_count": null,
   "id": "60b882c9",
   "metadata": {},
   "outputs": [],
   "source": []
  },
  {
   "cell_type": "code",
   "execution_count": null,
   "id": "00edce56",
   "metadata": {},
   "outputs": [],
   "source": []
  },
  {
   "cell_type": "code",
   "execution_count": null,
   "id": "9b9aa232",
   "metadata": {},
   "outputs": [],
   "source": [
    "omni_base.tiny_move( velX=0.0,velY=-pose[1], velT=-delta_th,std_time=0.2, MAX_VEL=0.3) a"
   ]
  },
  {
   "cell_type": "code",
   "execution_count": null,
   "id": "63f70f1b",
   "metadata": {},
   "outputs": [],
   "source": [
    "target_object='apple'\n",
    "_,rot= tf_man.getTF(\"base_link\",ref_frame='map')\n",
    "\n",
    "original_rot=tf.transformations.euler_from_quaternion(rot)[2]\n",
    "trans,_=tf_man.getTF(target_object,ref_frame=\"base_link\")\n",
    "\n",
    "\n",
    "trans , original_rot"
   ]
  },
  {
   "cell_type": "code",
   "execution_count": null,
   "id": "1309b0c4",
   "metadata": {},
   "outputs": [],
   "source": [
    "_,rot= tf_man.getTF(\"base_link\",ref_frame='map')\n",
    "original_rot=tf.transformations.euler_from_quaternion(rot)[2]\n",
    "target_object='apple'\n",
    "\n",
    "\n",
    "succ = False\n",
    "            \n",
    "while not succ:\n",
    "    \n",
    "    _,rot= tf_man.getTF(\"base_link\",ref_frame='map')\n",
    "    trans,_=tf_man.getTF(target_object,ref_frame=\"base_link\")\n",
    "\n",
    "    trans\n",
    "    eX, eY, eZ = trans\n",
    "    \n",
    "    eX+= -0.4\n",
    "    eY+= -.06\n",
    "    \n",
    "    eT= tf.transformations.euler_from_quaternion(rot)[2] - original_rot #Original \n",
    "    print (eT)\n",
    "    if eT > np.pi: eT=-2*np.pi+eT\n",
    "    if eT < -np.pi: eT= 2*np.pi+eT\n",
    "    rospy.loginfo(\"error: {:.2f}, {:.2f}, angle {:.2f}, target obj frame {}\".format(eX, eY , eT,target_object))\n",
    "    X, Y, Z = trans\n",
    "    rospy.loginfo(\"Pose: {:.2f}, {:.2f}, angle {:.2f}, target obj frame {}\".format(X, Y , eT,target_object))\n",
    "    \n",
    "    if abs(eX) <=0.05 :\n",
    "        print ('here')\n",
    "        eX = 0\n",
    "    if abs(eY) <=0.05  :\n",
    "        eY = 0\n",
    "    if abs(eT   ) < 0.1:\n",
    "        eT = 0\n",
    "    succ =  eX == 0 and eY == 0 and eT==0\n",
    "\n",
    "    \n",
    "    omni_base.tiny_move( velX=0.2*+eX,velY=0.3*eY, velT=-eT,std_time=0.2, MAX_VEL=0.3) \n"
   ]
  },
  {
   "cell_type": "code",
   "execution_count": null,
   "id": "17044e0b",
   "metadata": {},
   "outputs": [],
   "source": [
    "res.names"
   ]
  },
  {
   "cell_type": "code",
   "execution_count": null,
   "id": "7c118152",
   "metadata": {},
   "outputs": [],
   "source": [
    "hand_cam= HAND_RGB()\n"
   ]
  },
  {
   "cell_type": "code",
   "execution_count": null,
   "id": "fad6ec04",
   "metadata": {},
   "outputs": [],
   "source": [
    "#clear_octo_client()\n",
    "\n",
    "pickup_pose=[0.65,-1.2,0.0,-1.9, 0.0, 0.0]\n",
    "succ= arm.go(pickup_pose)\n",
    "gripper.open()\n"
   ]
  },
  {
   "cell_type": "code",
   "execution_count": null,
   "id": "ae3d33a9",
   "metadata": {
    "scrolled": true
   },
   "outputs": [],
   "source": [
    "\n",
    "image= cv2.cvtColor(hand_cam.get_image(), cv2.COLOR_RGB2BGR)\n",
    "img_msg  = bridge.cv2_to_imgmsg(image)\n",
    "req      = classify_client.request_class()\n",
    "req.in_.image_msgs.append(img_msg)\n",
    "res      = classify_client(req)\n",
    "debug_image=   cv2.cvtColor(bridge.imgmsg_to_cv2(res.debug_image.image_msgs[0]), cv2.COLOR_RGB2BGR)\n",
    "for i in range(len(res.names)):\n",
    "    if res.names[i].data== '013_apple' or res.names[i].data== '017_orange':\n",
    "        bbM=res.pt_min.data[2*i:2*i+2]\n",
    "        bbm=res.pt_max.data[2*i:2*i+2]\n",
    "        bbx=[bbM,bbm]\n",
    "print(bbx)\n",
    "plt.imshow(debug_image)"
   ]
  },
  {
   "cell_type": "markdown",
   "id": "218fa584",
   "metadata": {},
   "source": [
    "# [(297, 191), (231, 226)]  at pkcp pose #Real Tak\n",
    "### [(323, 266), (280, 215)]  at pkcp pose #Gazebo\n"
   ]
  },
  {
   "cell_type": "code",
   "execution_count": null,
   "id": "c2616e79",
   "metadata": {},
   "outputs": [],
   "source": [
    "eX,eY= 0.3,0.3 \n",
    "\n",
    "while abs(eX) > 0.05 or abs(eY) > 0.05:\n",
    "    image= cv2.cvtColor(hand_cam.get_image(), cv2.COLOR_RGB2BGR)\n",
    "    img_msg  = bridge.cv2_to_imgmsg(image)\n",
    "    req      = classify_client.request_class()\n",
    "    req.in_.image_msgs.append(img_msg)\n",
    "    res      = classify_client(req)\n",
    "\n",
    "\n",
    "    for i in range(len(res.names)):\n",
    "        if res.names[i].data== '013_apple' or res.names[i].data== '017_orange':\n",
    "            bbM=res.pt_min.data[2*i:2*i+2]\n",
    "            bbm=res.pt_max.data[2*i:2*i+2]\n",
    "            bbx=[bbM,bbm]\n",
    "    print(bbx)\n",
    "    eY=(bbx[1][1]-215)/215    #experience value\n",
    "    #print(f'error relative to gripper cam {eY}')\n",
    "\n",
    "\n",
    "    #eX=(bbx[0][0]-323)/323\n",
    "    eY=(bbx[1][1]-239)/239\n",
    "    eX=(bbx[0][0]-312)/312\n",
    "    #eY=(bbx[1][1]-215)/215    #experience value\n",
    "\n",
    "    print(f'error relative to gripper cam ex={eX} ey={eY}')\n",
    "    omni_base.tiny_move(velX=0.5*eX, velY=0.5*-eY, MAX_VEL=0.05) \n",
    "print(f'error relative to gripper cam ex={eX} ey={eY}:::::: Error within tolerance')"
   ]
  },
  {
   "cell_type": "code",
   "execution_count": null,
   "id": "4a6e7d80",
   "metadata": {},
   "outputs": [],
   "source": [
    "bbx"
   ]
  },
  {
   "cell_type": "code",
   "execution_count": null,
   "id": "2b0d6125",
   "metadata": {},
   "outputs": [],
   "source": [
    "eY=(bbx[1][1]-239)/239\n",
    "eX=(bbx[0][0]-312)/312\n",
    "print(f'error relative to gripper cam ex={eX} ey={eY}')\n"
   ]
  },
  {
   "cell_type": "code",
   "execution_count": null,
   "id": "6d8b9804",
   "metadata": {},
   "outputs": [],
   "source": [
    "#omni_base.tiny_move(velX=0.5*eX, velY=0.5*-eY, MAX_VEL=0.05) \n"
   ]
  },
  {
   "cell_type": "code",
   "execution_count": null,
   "id": "91085632",
   "metadata": {
    "scrolled": true
   },
   "outputs": [],
   "source": [
    "clear_octo_client()\n",
    "\n",
    "av=arm.get_current_joint_values()\n",
    "print (av,'av')\n",
    "av[0]+= -0.17###LAB\n",
    "#av[0]+= -0.35###GAZ\n",
    "succ=arm.go(av)\n",
    "rospy.sleep(0.5)\n",
    "gripper.close(force=0.06)"
   ]
  },
  {
   "cell_type": "code",
   "execution_count": null,
   "id": "c6bd60e6",
   "metadata": {},
   "outputs": [],
   "source": [
    "av=arm.get_current_joint_values()\n",
    "print (av,'av')\n",
    "av[0]+= 0.15\n",
    "succ=arm.go(av)\n",
    "omni_base.tiny_move(velX=-0.3, std_time=4.0)\n",
    "arm.set_named_target('go')\n",
    "arm.go()\n",
    "#tf_man.pub_static_tf(point_name='apple')"
   ]
  },
  {
   "cell_type": "code",
   "execution_count": null,
   "id": "d9be2172",
   "metadata": {},
   "outputs": [],
   "source": [
    "plt.imshow(hand_cam.get_image())"
   ]
  },
  {
   "cell_type": "code",
   "execution_count": null,
   "id": "744b1ad8",
   "metadata": {},
   "outputs": [],
   "source": [
    "image= cv2.cvtColor(hand_cam.get_image(), cv2.COLOR_RGB2BGR)\n",
    "img_msg  = bridge.cv2_to_imgmsg(image)\n",
    "req      = classify_client.request_class()\n",
    "req.in_.image_msgs.append(img_msg)\n",
    "res      = classify_client(req)\n",
    "debug_image=   cv2.cvtColor(bridge.imgmsg_to_cv2(res.debug_image.image_msgs[0]), cv2.COLOR_RGB2BGR)\n",
    "plt.imshow(debug_image)"
   ]
  },
  {
   "cell_type": "code",
   "execution_count": null,
   "id": "1d45c932",
   "metadata": {},
   "outputs": [],
   "source": [
    "gripper.open()"
   ]
  },
  {
   "cell_type": "code",
   "execution_count": null,
   "id": "84088f6d",
   "metadata": {},
   "outputs": [],
   "source": [
    "gripper.close(force=0.06)"
   ]
  },
  {
   "cell_type": "code",
   "execution_count": null,
   "id": "01412038",
   "metadata": {},
   "outputs": [],
   "source": [
    "\n",
    "for i in range(len(res.poses)):\n",
    "    tf_man.getTF(\"head_rgbd_sensor_rgb_frame\")\n",
    "    position = [res.poses[i].position.x ,res.poses[i].position.y,res.poses[i].position.z]\n",
    "    tf_man.pub_static_tf(pos= position, rot=[0,0,0,1], ref=\"head_rgbd_sensor_rgb_frame\", point_name=res.names[i].data[4:] )   \n",
    "    rospy.sleep(0.3)\n",
    "    tf_man.change_ref_frame_tf(res.names[i].data[4:])\n",
    "\n",
    "\n"
   ]
  },
  {
   "cell_type": "code",
   "execution_count": null,
   "id": "afd6ec67",
   "metadata": {},
   "outputs": [],
   "source": []
  },
  {
   "cell_type": "code",
   "execution_count": null,
   "id": "e6bd5b2c",
   "metadata": {},
   "outputs": [],
   "source": [
    "def detect_object_yolo(object_name,res):\n",
    "    # find object_name in the response message from object_classification service (Yolo)\n",
    "    objs=[]\n",
    "    for i,name in enumerate(res.names):\n",
    "        objs.append(name.data[4:])\n",
    "        if name.data[4:]==object_name:return res.poses[i]\n",
    "    if object_name=='all':\n",
    "        \n",
    "        return objs\n",
    "    return []"
   ]
  },
  {
   "cell_type": "code",
   "execution_count": null,
   "id": "b620f3f2",
   "metadata": {},
   "outputs": [],
   "source": [
    "#img_msg  = bridge.cv2_to_imgmsg(rgbd.get_image())  #REAL\n",
    "img_msg  = bridge.cv2_to_imgmsg(cv2.cvtColor(rgbd.get_image(), cv2.COLOR_RGB2BGR ))#GAZEB\n",
    "req      = classify_client.request_class()\n",
    "req.in_.image_msgs.append(img_msg)\n",
    "res      = classify_client(req)\n",
    "objects=detect_object_yolo('all',res)   \n",
    "if len (objects)!=0:\n",
    "    for i in range(len(res.poses)):\n",
    "        tf_man.getTF(\"head_rgbd_sensor_rgb_frame\")\n",
    "        position = [res.poses[i].position.x ,res.poses[i].position.y,res.poses[i].position.z]\n",
    "        tf_man.pub_static_tf(pos= position, rot=[0,0,0,1], ref=\"head_rgbd_sensor_rgb_frame\", point_name=res.names[i].data[4:] )   \n",
    "        rospy.sleep(0.3)\n",
    "        tf_man.change_ref_frame_tf(res.names[i].data[4:])\n",
    "        rospy.sleep(0.3)\n",
    "        pose , _=tf_man.getTF(res.names[i].data[4:])\n",
    "        new_row = {'x': pose[0], 'y': pose[1], 'z': pose[2], 'obj_name': res.names[i].data[4:]}\n",
    "        objs.loc[len(objs)] = new_row\n",
    "objs"
   ]
  },
  {
   "cell_type": "code",
   "execution_count": null,
   "id": "784dd119",
   "metadata": {},
   "outputs": [],
   "source": [
    "objs[['x','y','z']].values"
   ]
  },
  {
   "cell_type": "code",
   "execution_count": null,
   "id": "453a1105",
   "metadata": {},
   "outputs": [],
   "source": []
  },
  {
   "cell_type": "code",
   "execution_count": null,
   "id": "832d35b1",
   "metadata": {},
   "outputs": [],
   "source": [
    "#get closest object\n",
    "rob_pos,_=tf_man.getTF('base_link')\n",
    "np.argmin(np.linalg.norm(rob_pos-objs[['x','y','z']].values  , axis=1))\n",
    "objs.iloc[np.argmin(np.linalg.norm(rob_pos-objs[['x','y','z']].values  , axis=1))]['obj_name']"
   ]
  },
  {
   "cell_type": "code",
   "execution_count": null,
   "id": "8f860374",
   "metadata": {},
   "outputs": [],
   "source": [
    "objs[objs['obj_name']==objs.obj_name.values[0]].x.values[0]"
   ]
  },
  {
   "cell_type": "markdown",
   "id": "879e3308",
   "metadata": {},
   "source": [
    "# PLANE 1\n",
    "#### 7.883384\t5.948245\t0.701945,\n",
    "#### 8.214565\t5.962619\t0.700034,\n",
    "#### 8.213697\t6.107727\t0.709487,\n",
    "####  7.893623\t6.082935\t0.693285"
   ]
  },
  {
   "cell_type": "markdown",
   "id": "42916558",
   "metadata": {},
   "source": [
    "# PLANE 2\n",
    "#### 7.88076\t6.086619\t0.416096,\n",
    "#### 8.214128\t5.9663\t0.416672"
   ]
  },
  {
   "cell_type": "markdown",
   "id": "53adeeb0",
   "metadata": {},
   "source": [
    "# Plane 3\n",
    "#### 8.20238\t5.963262\t0.117541"
   ]
  },
  {
   "cell_type": "code",
   "execution_count": null,
   "id": "c8237744",
   "metadata": {},
   "outputs": [],
   "source": [
    "head.set_named_target('neutral')\n",
    "\n",
    "av=arm.get_current_joint_values()\n",
    "av[0]=0.5\n",
    "av[1]=-0.5\n",
    "arm.go(av)\n",
    "head.set_joint_values([-np.pi/2 , -0.5])"
   ]
  },
  {
   "cell_type": "code",
   "execution_count": null,
   "id": "73b6c750",
   "metadata": {},
   "outputs": [],
   "source": [
    "head.set_joint_values([-np.pi/2 , -0.5])"
   ]
  },
  {
   "cell_type": "code",
   "execution_count": null,
   "id": "f03b288d",
   "metadata": {},
   "outputs": [],
   "source": [
    "\n",
    "\n",
    "av=arm.get_current_joint_values()\n",
    "av[0]=0.05\n",
    "\n",
    "arm.go(av)"
   ]
  },
  {
   "cell_type": "code",
   "execution_count": null,
   "id": "d994b8cf",
   "metadata": {},
   "outputs": [],
   "source": [
    "head.set_joint_values([-np.pi/2 , -0.8])\n",
    "\n",
    "av=arm.get_current_joint_values()\n",
    "av[0]=0.0\n",
    "av[1]=-0.5\n",
    "arm.go(av)"
   ]
  },
  {
   "cell_type": "code",
   "execution_count": null,
   "id": "6b1eef31",
   "metadata": {},
   "outputs": [],
   "source": [
    "import pandas as pd\n"
   ]
  },
  {
   "cell_type": "code",
   "execution_count": null,
   "id": "cfcc8d0a",
   "metadata": {},
   "outputs": [],
   "source": [
    "import pandas as pd\n",
    "objs = pd.read_csv ('/home/roboworks/Documents/objs.csv')\n",
    "objs=objs.drop(columns='Unnamed: 0')"
   ]
  },
  {
   "cell_type": "code",
   "execution_count": null,
   "id": "3e373ac0",
   "metadata": {},
   "outputs": [],
   "source": [
    "objs=objs[objs['obj_name'] != 'bowl']"
   ]
  },
  {
   "cell_type": "code",
   "execution_count": null,
   "id": "f8e00d9a",
   "metadata": {},
   "outputs": [],
   "source": [
    "objs"
   ]
  },
  {
   "cell_type": "code",
   "execution_count": null,
   "id": "b513b375",
   "metadata": {},
   "outputs": [],
   "source": [
    "objs[objs['obj_name'] != 'bowl']"
   ]
  },
  {
   "cell_type": "code",
   "execution_count": null,
   "id": "c6d8500a",
   "metadata": {},
   "outputs": [],
   "source": [
    "objs"
   ]
  },
  {
   "cell_type": "code",
   "execution_count": null,
   "id": "4ff3c163",
   "metadata": {},
   "outputs": [],
   "source": [
    "from sklearn.cluster import KMeans\n",
    "shelf_objs=objs[objs['shelves']==True ]\n",
    "sh_o_btm=shelf_objs[shelf_objs['z']<0.2]\n"
   ]
  },
  {
   "cell_type": "code",
   "execution_count": null,
   "id": "7f1e3163",
   "metadata": {},
   "outputs": [],
   "source": [
    "'other' in sh_o_top['category'].values"
   ]
  },
  {
   "cell_type": "code",
   "execution_count": null,
   "id": "ba9d3f6d",
   "metadata": {},
   "outputs": [],
   "source": [
    "shelf_objs=objs[objs['shelves']==True ]\n",
    "\n",
    "sh_o_btm=shelf_objs[shelf_objs['z']<0.2]\n",
    "sh_o_mdl=shelf_objs[(shelf_objs['z']>0.2 )& (shelf_objs['z']<0.5) ]\n",
    "sh_o_top=shelf_objs[(shelf_objs['z']>0.5 )& (shelf_objs['z']<1.5) ]\n",
    "sh_o_btm['category'].value_counts(),sh_o_mdl['category'].value_counts() \n",
    "\n",
    "a= sh_o_btm['category'].value_counts()\n",
    "if 'other' in sh_o_btm['category'].values:a.drop('other', inplace=True)\n",
    "print(f'btm shelf category {a.index[a.argmax()]}')\n",
    "\n",
    "a= sh_o_mdl['category'].value_counts()\n",
    "if 'other' in sh_o_mdl['category'].values:a.drop('other', inplace=True)\n",
    "print(f'middle shelf category {a.index[a.argmax()]}')\n",
    "\n",
    "\n",
    "a= sh_o_top['category'].value_counts()\n",
    "if 'other' in sh_o_top['category'].values:a.drop('other', inplace=True)\n",
    "print(f'top shelf category {a.index[a.argmax()]}')\n"
   ]
  },
  {
   "cell_type": "code",
   "execution_count": null,
   "id": "48b39323",
   "metadata": {},
   "outputs": [],
   "source": []
  },
  {
   "cell_type": "code",
   "execution_count": null,
   "id": "669c37d6",
   "metadata": {},
   "outputs": [],
   "source": [
    "a"
   ]
  },
  {
   "cell_type": "code",
   "execution_count": null,
   "id": "6cb127d3",
   "metadata": {},
   "outputs": [],
   "source": [
    "kitchen =['bowl','spatula','spoon', 'bowl']\n",
    "tools=['extra_large_clamp','large_clamp','small_clamp','medium_clamp','adjustable_wrench',\n",
    "'flat_screwdriver','phillips_screwdriver','wood_block']\n",
    "balls= ['softball','tennis_ball']\n",
    "fruits= ['apple','banana', 'lemon','pear']\n",
    "food =['chips_can'\n",
    ",'mustard_bottle'\n",
    ",'potted_meat_can'\n",
    ",'tomato_soup_can'\n",
    ",'tuna_fish_can']\n",
    "\n",
    "def categorize_objs(name):\n",
    "    if name in kitchen: return 'kitchen'\n",
    "    elif name in tools: return 'tools'\n",
    "    elif name in balls: return 'balls'\n",
    "    elif name in fruits: return 'fruits'\n",
    "    elif name in food: return 'food'\n",
    "    return 'other'\n",
    "cats=[]\n",
    "for name in objs['obj_name']:\n",
    "    cats.append(categorize_objs(name))\n",
    "objs['category'] = cats   \n"
   ]
  },
  {
   "cell_type": "code",
   "execution_count": null,
   "id": "cf6f950f",
   "metadata": {},
   "outputs": [],
   "source": [
    "def categorize_objs(name):\n",
    "    if name in kitchen: return 'kitchen'\n",
    "    elif name in tools: return 'tools'\n",
    "    elif name in balls: return 'balls'\n",
    "    elif name in fruits: return 'fruits'\n",
    "    elif name in food: return 'food'\n",
    "    return 'other'\n",
    "    \n",
    "    "
   ]
  },
  {
   "cell_type": "code",
   "execution_count": null,
   "id": "ff936c6f",
   "metadata": {},
   "outputs": [],
   "source": [
    "cats=[]\n",
    "for name in objs['obj_name']:\n",
    "    cats.append(categorize_objs(name))\n",
    "objs['category'] = cats"
   ]
  },
  {
   "cell_type": "code",
   "execution_count": null,
   "id": "83b2769a",
   "metadata": {},
   "outputs": [],
   "source": []
  },
  {
   "cell_type": "code",
   "execution_count": null,
   "id": "14d9174b",
   "metadata": {},
   "outputs": [],
   "source": [
    "objs"
   ]
  },
  {
   "cell_type": "code",
   "execution_count": null,
   "id": "ff81e9a4",
   "metadata": {},
   "outputs": [],
   "source": [
    "import numpy as np\n",
    "regions={'shelves':np.load('/home/roboworks/Documents/shelf_sim.npy'),'pickup':np.load('/home/roboworks/Documents/pickup_sim.npy')}\n",
    "def is_inside(x,y):return ((area_box[:,1].max() > y) and (area_box[:,1].min() < y)) and ((area_box[:,0].max() > x) and (area_box[0,0].min() < x)) \n",
    "for name in regions:\n",
    "    in_region=[]\n",
    "    area_box=regions[name]\n",
    "    print (area_box,name)\n",
    "    for index, row in objs[['x','y','z']].iterrows():\n",
    "        in_region.append(is_inside(row.x, row.y))\n",
    "        print (row.x, row.y,is_inside(row.x, row.y))\n",
    "    objs[name]=pd.Series(in_region)\n",
    "objs"
   ]
  },
  {
   "cell_type": "code",
   "execution_count": null,
   "id": "398de064",
   "metadata": {},
   "outputs": [],
   "source": []
  },
  {
   "cell_type": "code",
   "execution_count": null,
   "id": "3252ab10",
   "metadata": {},
   "outputs": [],
   "source": [
    "(area_box[:,1].max() > row.y),(area_box[:,1].min() < row.y),((area_box[:,0].max() > row.x) , (area_box[0,0].min() < row.x)) "
   ]
  },
  {
   "cell_type": "code",
   "execution_count": null,
   "id": "638fba63",
   "metadata": {},
   "outputs": [],
   "source": [
    "def is_inside(x,y):return ((area_box[:,1].max() > y) and (area_box[:,1].min() < y)) and ((area_box[:,0].max() > x) and (area_box[0,0].min() < x)) "
   ]
  },
  {
   "cell_type": "code",
   "execution_count": null,
   "id": "478d9dfa",
   "metadata": {},
   "outputs": [],
   "source": [
    "pickup_region=np.zeros((2,2))\n",
    "#np.save('/home/roboworks/Documents/pickup_region.npy', pickup_region)"
   ]
  },
  {
   "cell_type": "code",
   "execution_count": null,
   "id": "5c6be4ff",
   "metadata": {},
   "outputs": [],
   "source": [
    "ab[0,0],ab[0,1]=6,6\n",
    "ab[1,0],ab[1,1]=7,4.0"
   ]
  },
  {
   "cell_type": "code",
   "execution_count": null,
   "id": "f51131d7",
   "metadata": {},
   "outputs": [],
   "source": []
  },
  {
   "cell_type": "code",
   "execution_count": null,
   "id": "e3946dc7",
   "metadata": {},
   "outputs": [],
   "source": [
    "import numpy as np\n",
    "\n",
    "#ab=np.load('/home/roboworks/Documents/pickup_region.npy')\n",
    "ab= np.load('/home/roboworks/Documents/pickup_sim.npy')"
   ]
  },
  {
   "cell_type": "code",
   "execution_count": null,
   "id": "796fa552",
   "metadata": {},
   "outputs": [],
   "source": [
    "\n",
    "ab[0,0]=5.8\n",
    "ab"
   ]
  },
  {
   "cell_type": "code",
   "execution_count": null,
   "id": "48ed00f7",
   "metadata": {},
   "outputs": [],
   "source": [
    "np.save('/home/roboworks/Documents/pickup_region.npy',ab)\n"
   ]
  },
  {
   "cell_type": "code",
   "execution_count": null,
   "id": "35f038e8",
   "metadata": {},
   "outputs": [],
   "source": [
    "#np.save('/home/roboworks/Documents/shelf_sim.npy',ab)\n",
    "np.save('/home/roboworks/Documents/pickup_sim.npy',ab)"
   ]
  },
  {
   "cell_type": "code",
   "execution_count": null,
   "id": "1e45b347",
   "metadata": {},
   "outputs": [],
   "source": [
    "objs[objs['pickup']==True][['x','y','z']].values"
   ]
  },
  {
   "cell_type": "code",
   "execution_count": null,
   "id": "4fe32e47",
   "metadata": {},
   "outputs": [],
   "source": [
    "rob_pos,_=tf_man.getTF('base_link')\n",
    "ix=np.argmin(np.linalg.norm(rob_pos-objs[objs['pickup']==True][['x','y','z']].values  , axis=1))\n",
    "ix\n"
   ]
  },
  {
   "cell_type": "code",
   "execution_count": null,
   "id": "9b982d96",
   "metadata": {},
   "outputs": [],
   "source": []
  },
  {
   "cell_type": "code",
   "execution_count": null,
   "id": "78bbcc36",
   "metadata": {},
   "outputs": [],
   "source": [
    "rob_pos,_=tf_man.getTF('base_link')\n",
    "ix=np.argmin(np.linalg.norm(rob_pos-objs[objs['pickup']==True][['x','y','z']].values  , axis=1))\n",
    "objs[objs['pickup']==True][['obj_name','category']].iloc[ix]\n"
   ]
  },
  {
   "cell_type": "code",
   "execution_count": null,
   "id": "202d265a",
   "metadata": {},
   "outputs": [],
   "source": [
    "ix=np.argmin(np.linalg.norm(rob_pos-objs[objs['pickup']==True][['x','y','z']].values  , axis=1))"
   ]
  },
  {
   "cell_type": "code",
   "execution_count": null,
   "id": "64e2bd3a",
   "metadata": {},
   "outputs": [],
   "source": [
    "pose=np.asarray((8.212561, 6.028789, 0.12))\n",
    "pose"
   ]
  },
  {
   "cell_type": "code",
   "execution_count": null,
   "id": "7e53e11f",
   "metadata": {},
   "outputs": [],
   "source": [
    "tf_man.pub_static_tf(pos=pose,point_name='PLACING')"
   ]
  },
  {
   "cell_type": "code",
   "execution_count": null,
   "id": "7087de0b",
   "metadata": {},
   "outputs": [],
   "source": [
    "#pose=np.asarray((8.212561, 6.028789, 0.12))\n",
    "pose=np.asarray((8.062455, 6.0622816, 0.6610926))\n",
    "tf_man.pub_static_tf(pos=pose,point_name='PLACING')"
   ]
  },
  {
   "cell_type": "code",
   "execution_count": null,
   "id": "9951604d",
   "metadata": {},
   "outputs": [],
   "source": [
    "arm['arm_lift_joint']=0.0"
   ]
  },
  {
   "cell_type": "code",
   "execution_count": null,
   "id": "003aea93",
   "metadata": {},
   "outputs": [],
   "source": [
    "omni_base.move_base(known_location='shelf')"
   ]
  },
  {
   "cell_type": "code",
   "execution_count": null,
   "id": "3af5afc7",
   "metadata": {},
   "outputs": [],
   "source": [
    "omni_base.tiny_move(velT=-0.7,std_time=1)"
   ]
  },
  {
   "cell_type": "code",
   "execution_count": null,
   "id": "08cd0f26",
   "metadata": {},
   "outputs": [],
   "source": [
    "av=arm.get_current_joint_values()\n",
    "high_shelf_place=av\n",
    "high_shelf_place\n"
   ]
  },
  {
   "cell_type": "code",
   "execution_count": null,
   "id": "d87289cb",
   "metadata": {},
   "outputs": [],
   "source": [
    "place_high_shelf=np.asarray([0.15050079265248406,\n",
    " -0.5861087653247212,\n",
    " 0.0850017715788356,\n",
    " -0.9342371117035135,\n",
    " 0.022035143687695324,\n",
    " 0.0])"
   ]
  },
  {
   "cell_type": "code",
   "execution_count": null,
   "id": "c1c7c139",
   "metadata": {},
   "outputs": [],
   "source": [
    "arm.go(place_high_shelf)"
   ]
  },
  {
   "cell_type": "markdown",
   "id": "ce5c7340",
   "metadata": {},
   "source": [
    "av=arm.get_current_joint_values()\n"
   ]
  },
  {
   "cell_type": "code",
   "execution_count": null,
   "id": "637185a4",
   "metadata": {},
   "outputs": [],
   "source": [
    "av=arm.get_current_joint_values()\n",
    "high_shelf_place=av"
   ]
  },
  {
   "cell_type": "code",
   "execution_count": null,
   "id": "f0dd580e",
   "metadata": {},
   "outputs": [],
   "source": [
    "arm.go(high_shelf_place)"
   ]
  },
  {
   "cell_type": "code",
   "execution_count": null,
   "id": "3779c738",
   "metadata": {},
   "outputs": [],
   "source": [
    "av=arm.get_current_joint_values()\n",
    "mid_shelf_place=av\n",
    "mid_shelf_place"
   ]
  },
  {
   "cell_type": "code",
   "execution_count": null,
   "id": "ed9ed98a",
   "metadata": {},
   "outputs": [],
   "source": [
    "av=arm.get_current_joint_values()\n",
    "low_shelf_place=av\n",
    "low_shelf_place"
   ]
  },
  {
   "cell_type": "code",
   "execution_count": null,
   "id": "0731ce32",
   "metadata": {},
   "outputs": [],
   "source": [
    "high_shelf_place,low_shelf_place,mid_shelf_place"
   ]
  },
  {
   "cell_type": "code",
   "execution_count": null,
   "id": "bb2b4422",
   "metadata": {},
   "outputs": [],
   "source": [
    "high_shelf_place=np.asarray([0.4337121304669095,\n",
    " -1.3139266720690426,\n",
    " 0.08621383272112926,\n",
    " -0.4260850221072081,\n",
    " 0.02285051353933021,\n",
    " 0.0])"
   ]
  },
  {
   "cell_type": "code",
   "execution_count": null,
   "id": "f33c79a5",
   "metadata": {},
   "outputs": [],
   "source": [
    "low_shelf_place=np.asarray([-5.465250513158978e-07,\n",
    " -1.8875162206087301,\n",
    " 0.08646571240675005,\n",
    " 0.3040738848075222,\n",
    " 0.022992974203400962,\n",
    " 0.0]\n",
    ")"
   ]
  },
  {
   "cell_type": "code",
   "execution_count": null,
   "id": "05a217f5",
   "metadata": {},
   "outputs": [],
   "source": [
    "high_shelf_place=np.asarray([0.15050079265248406,\n",
    " -0.5861087653247212,\n",
    " 0.0850017715788356,\n",
    " -0.9342371117035135,\n",
    " 0.022035143687695324,\n",
    " 0.0])\n",
    "mid_shelf_place=np.asarray([0.2556342351169577,\n",
    " -1.6040815280188854,\n",
    " -0.008078345343693893,\n",
    " -0.05795663028496589,\n",
    " 0.0019971082238159354,\n",
    " 0.0])\n",
    "\n",
    "low_shelf_place=np.asarray([0.04577467546491997,\n",
    " -2.262541528018885,\n",
    " 0.00010865465630605087,\n",
    " 0.701618369715034,\n",
    " -0.0003068917761841483,\n",
    " 0.0]\n",
    ")"
   ]
  },
  {
   "cell_type": "code",
   "execution_count": null,
   "id": "9df65843",
   "metadata": {},
   "outputs": [],
   "source": [
    "tf_man.getTF('placing_area_top_shelf1')"
   ]
  },
  {
   "cell_type": "code",
   "execution_count": null,
   "id": "612f6650",
   "metadata": {},
   "outputs": [],
   "source": [
    "request= segmentation_server.request_class() \n",
    "#r = cv2.getTrackbarPos('Plane height (cms)', 'class rgbd')\n",
    "#request.height.data=0.9\n",
    "print ('#############Finding placing in plane####################',request.height.data)\n",
    "request.height.data=-1\n",
    "#head.set_joint_values([ 0.1, -0.5])\n",
    "res=placing_finder_server.call(request)\n",
    "#succ=seg_res_tf(res)\n",
    "print (f'Placing Area at {res.poses.data}')\n",
    "tf_man.pub_static_tf(pos=[res.poses.data[0], res.poses.data[1],res.poses.data[2]], rot =[0,0,0,1], point_name='placing_area')\n",
    "img=bridge.imgmsg_to_cv2(res.im_out.image_msgs[0])\n",
    "#cv2.imshow('our of res'  , img)\n",
    "plt.imshow(img)"
   ]
  },
  {
   "cell_type": "code",
   "execution_count": null,
   "id": "04e45744",
   "metadata": {},
   "outputs": [],
   "source": [
    "tf_man.getTF('placing_area')"
   ]
  },
  {
   "cell_type": "code",
   "execution_count": null,
   "id": "b5e65db0",
   "metadata": {},
   "outputs": [],
   "source": [
    "head.set_named_target('neutral')"
   ]
  },
  {
   "cell_type": "code",
   "execution_count": null,
   "id": "a6cbdd8f",
   "metadata": {},
   "outputs": [],
   "source": [
    "arm.set_named_target('go')\n",
    "arm.go()"
   ]
  },
  {
   "cell_type": "code",
   "execution_count": null,
   "id": "91c290a8",
   "metadata": {},
   "outputs": [],
   "source": [
    "res = omni_base.move_base(known_location='place_shelf', time_out=10)"
   ]
  },
  {
   "cell_type": "code",
   "execution_count": null,
   "id": "ba4e0373",
   "metadata": {},
   "outputs": [],
   "source": [
    "high_shelf_place=[0.65,         -1.139,         0.08621,        -0.4260,        0.02285,         0.0]#REAL\n",
    "high_shelf_place=[0.4337,         -1.3139,         0.08621,        -0.4260,        0.02285,         0.0] #GAZ"
   ]
  },
  {
   "cell_type": "code",
   "execution_count": null,
   "id": "bf5fac40",
   "metadata": {},
   "outputs": [],
   "source": [
    "arm.set_joint_value_target(high_shelf_place)\n",
    "arm.go()"
   ]
  },
  {
   "cell_type": "code",
   "execution_count": null,
   "id": "3f9c3f0c",
   "metadata": {},
   "outputs": [],
   "source": [
    "def base_grasp_D(tf_name,d_x=0.66,d_y=-0.1,timeout=1.0):\n",
    "    timeout = rospy.Time.now().to_sec() + timeout\n",
    "    rob_pos,rot=tf_man.getTF('base_link')    \n",
    "    original_rot=tf.transformations.euler_from_quaternion(rot)[2]\n",
    "    succ = False \n",
    "    target_object= tf_name        \n",
    "    while (timeout >= rospy.Time.now().to_sec()) and not succ:            \n",
    "        _,rot= tf_man.getTF(\"base_link\",ref_frame='map')\n",
    "        trans,_=tf_man.getTF(target_object,ref_frame=\"base_link\")\n",
    "        #trans\n",
    "        eX, eY, eZ = trans\n",
    "        eX+= -d_x  #x offest\n",
    "        eY+= -d_y #y Offset\n",
    "        eT= tf.transformations.euler_from_quaternion(rot)[2] - original_rot #Original \n",
    "        print (eT)\n",
    "        if eT > np.pi: eT=-2*np.pi+eT\n",
    "        if eT < -np.pi: eT= 2*np.pi+eT\n",
    "        rospy.loginfo(\"error: {:.2f}, {:.2f}, angle {:.2f}, target obj frame {}\".format(eX, eY , eT,target_object))\n",
    "        X, Y, Z = trans\n",
    "        rospy.loginfo(\"Pose: {:.2f}, {:.2f}, angle {:.2f}, target obj frame {}\".format(X, Y , eT,target_object))\n",
    "        if abs(eX) <=0.05 :\n",
    "            print ('here')\n",
    "            eX = 0\n",
    "        if abs(eY) <=0.05  :\n",
    "            eY = 0\n",
    "        if abs(eT   ) < 0.1:\n",
    "            eT = 0\n",
    "        succ =  eX == 0 and eY == 0 and eT==0            \n",
    "        omni_base.tiny_move( velX=0.2*+eX,velY=0.3*eY, velT=-eT,std_time=0.2, MAX_VEL=0.3) \n",
    "\n",
    "    "
   ]
  },
  {
   "cell_type": "code",
   "execution_count": null,
   "id": "fab5aa52",
   "metadata": {},
   "outputs": [],
   "source": [
    "tf_man.getTF('placing_area')"
   ]
  },
  {
   "cell_type": "code",
   "execution_count": null,
   "id": "bd9383ff",
   "metadata": {},
   "outputs": [],
   "source": [
    "base_grasp_D(tf_name='placing_area')"
   ]
  },
  {
   "cell_type": "code",
   "execution_count": null,
   "id": "f73012ad",
   "metadata": {},
   "outputs": [],
   "source": [
    "base_grasp_D(tf_name='placing_area',d_x=0.76, d_y=0.0,timeout=30)"
   ]
  },
  {
   "cell_type": "code",
   "execution_count": null,
   "id": "b641cb9b",
   "metadata": {},
   "outputs": [],
   "source": [
    "gripper.open()"
   ]
  },
  {
   "cell_type": "code",
   "execution_count": null,
   "id": "4493f052",
   "metadata": {},
   "outputs": [],
   "source": [
    "target_object='placing_area'\n",
    "_,rot= tf_man.getTF(\"base_link\",ref_frame='map')\n",
    "trans,_=tf_man.getTF(target_object,ref_frame=\"base_link\")\n",
    "\n",
    " \n",
    "eX, eY, eZ = trans\n",
    "eT= tf.transformations.euler_from_quaternion(rot)[2] - original_rot #Original \n",
    "print (eT)\n",
    "if eT > np.pi: eT=-2*np.pi+eT\n",
    "if eT < -np.pi: eT= 2*np.pi+eT\n",
    "rospy.loginfo(\"error: {:.2f}, {:.2f}, angle {:.2f}, target obj frame {}\".format(eX, eY , eT,target_object))\n",
    "X, Y, Z = trans\n",
    "rospy.loginfo(\"Pose: {:.2f}, {:.2f}, angle {:.2f}, target obj frame {}\".format(X, Y , eT,target_object))"
   ]
  },
  {
   "cell_type": "code",
   "execution_count": null,
   "id": "68af5863",
   "metadata": {},
   "outputs": [],
   "source": [
    "omni_base.tiny_move( velX=0.1*+eX,velY=0.1*eY, velT=-eT,std_time=0.2, MAX_VEL=0.3) "
   ]
  },
  {
   "cell_type": "code",
   "execution_count": null,
   "id": "e1da1af9",
   "metadata": {},
   "outputs": [],
   "source": [
    "d_x=0.58\n",
    "d_y= 0.1\n",
    "_,rot= tf_man.getTF(\"base_link\",ref_frame='map')\n",
    "trans,_=tf_man.getTF(target_object,ref_frame=\"base_link\")\n",
    "#trans\n",
    "eX, eY, eZ = trans\n",
    "eX+= -d_x  #x offest\n",
    "eY+= -d_y #y Offset\n",
    "eT= tf.transformations.euler_from_quaternion(rot)[2] - original_rot #Original \n",
    "print (eT)\n",
    "if eT > np.pi: eT=-2*np.pi+eT\n",
    "if eT < -np.pi: eT= 2*np.pi+eT\n",
    "rospy.loginfo(\"error: {:.2f}, {:.2f}, angle {:.2f}, target obj frame {}\".format(eX, eY , eT,target_object))\n",
    "X, Y, Z = trans\n",
    "rospy.loginfo(\"Pose: {:.2f}, {:.2f}, angle {:.2f}, target obj frame {}\".format(X, Y , eT,target_object))\n",
    "if abs(eX) <=0.05 :\n",
    "    print ('here')\n",
    "    eX = 0\n",
    "if abs(eY) <=0.05  :\n",
    "    eY = 0\n",
    "if abs(eT   ) < 0.1:\n",
    "    eT = 0\n",
    "succ =  eX == 0 and eY == 0 and eT==0      \n",
    "succ\n",
    "#omni_base.tiny_move( velX=0.2*+eX,velY=0.3*eY, velT=-eT,std_time=0.2, MAX_VEL=0.3) \n"
   ]
  },
  {
   "cell_type": "code",
   "execution_count": null,
   "id": "d029794a",
   "metadata": {},
   "outputs": [],
   "source": [
    "omni_base.tiny_move( velX=0.1*+eX,velY=0.1*eY, velT=-eT,std_time=0.2, MAX_VEL=0.3) "
   ]
  },
  {
   "cell_type": "code",
   "execution_count": null,
   "id": "80e2250d",
   "metadata": {},
   "outputs": [],
   "source": [
    "arm.get_current_pose()"
   ]
  },
  {
   "cell_type": "code",
   "execution_count": null,
   "id": "54b3191e",
   "metadata": {},
   "outputs": [],
   "source": [
    "av=arm.get_current_joint_values()\n",
    "av[0]+=-0.1\n",
    "arm.go(av)"
   ]
  },
  {
   "cell_type": "code",
   "execution_count": null,
   "id": "8ce824e9",
   "metadata": {},
   "outputs": [],
   "source": [
    "arm.set_named_target('go')\n",
    "arm.go()"
   ]
  },
  {
   "cell_type": "code",
   "execution_count": null,
   "id": "3b268623",
   "metadata": {},
   "outputs": [],
   "source": [
    "omni_base.move_base('place_shelf')"
   ]
  },
  {
   "cell_type": "code",
   "execution_count": null,
   "id": "db9e7cf3",
   "metadata": {},
   "outputs": [],
   "source": [
    "whole_body.allow_replanning(True)\n",
    "whole_body.set_num_planning_attempts(10)\n",
    "whole_body.set_planning_time(10.0)\n",
    "whole_body.set_workspace([-2.0, -2.0, 0.0, 2.0, 2.0, 2.0])"
   ]
  },
  {
   "cell_type": "code",
   "execution_count": null,
   "id": "a5c6c444",
   "metadata": {},
   "outputs": [],
   "source": [
    "object_point = PointStamped()\n",
    "object_point"
   ]
  },
  {
   "cell_type": "code",
   "execution_count": null,
   "id": "6dc3cf21",
   "metadata": {},
   "outputs": [],
   "source": [
    "target_position=[1.0,1.0,1.0]\n",
    "object_point = PointStamped()\n",
    "object_point.header.frame_id = \"base_link\"\n",
    "object_point.point.x = target_position[0]\n",
    "object_point.point.y = target_position[1]\n",
    "object_point.point.z = target_position[2]\n",
    "#transformar la posicion del objeto al marco de referencia de la base del robot\n",
    "\n",
    "try:\n",
    "    transformed_object_point = tfBuffer.transform(object_point, \"base_link\", timeout=rospy.Duration(1))\n",
    "    transformed_base = self.tfBuffer.lookup_transform(\"odom\", \"base_link\", rospy.Time(0), timeout=rospy.Duration(1))\n",
    "except :\n",
    "    rospy.WARN(\"Error al transformar la posicion del objeto al marco de referencia\")\n"
   ]
  },
  {
   "cell_type": "code",
   "execution_count": null,
   "id": "81ab79d6",
   "metadata": {},
   "outputs": [],
   "source": [
    "tfBuffer.transform(object_point,'base_link',timeout=rospy.Duration(3))"
   ]
  },
  {
   "cell_type": "code",
   "execution_count": null,
   "id": "314d902d",
   "metadata": {},
   "outputs": [],
   "source": [
    "whole_body.set_start_state_to_current_state()\n",
    "whole_body.set_position_target(position_goal)\n",
    "succ = whole_body.go(wait= True)\n",
    "rospy.sleep(0.5)\n",
    "whole_body.stop()"
   ]
  },
  {
   "cell_type": "code",
   "execution_count": null,
   "id": "33d84152",
   "metadata": {},
   "outputs": [],
   "source": [
    "tfBuffer = tf2_ros.Buffer()\n"
   ]
  },
  {
   "cell_type": "code",
   "execution_count": null,
   "id": "4a92e0bb",
   "metadata": {},
   "outputs": [],
   "source": [
    "omni_base.move_base(known_location='pickup', time_out=200)"
   ]
  },
  {
   "cell_type": "code",
   "execution_count": null,
   "id": "ca5197db",
   "metadata": {},
   "outputs": [],
   "source": [
    "head.set_joint_values([ 0.0, -0.5])\n"
   ]
  },
  {
   "cell_type": "code",
   "execution_count": null,
   "id": "baefc4e8",
   "metadata": {},
   "outputs": [],
   "source": [
    "img_msg  = bridge.cv2_to_imgmsg( cv2.cvtColor(rgbd.get_image(), cv2.COLOR_RGB2BGR))### GAZEBO BGR!?!??!\n",
    "req      = classify_client.request_class()\n",
    "req.in_.image_msgs.append(img_msg)\n",
    "res      = classify_client(req)\n",
    "objects=detect_object_yolo('all',res)   "
   ]
  },
  {
   "cell_type": "code",
   "execution_count": null,
   "id": "355d476a",
   "metadata": {},
   "outputs": [],
   "source": [
    "rospack = rospkg.RosPack()\n",
    "file_path = rospack.get_path('config_files') \n",
    "objs = pd.read_csv (file_path+'/objects.csv')\n",
    "objs=objs.drop(columns='Unnamed: 0')\n",
    "print (objs)"
   ]
  },
  {
   "cell_type": "code",
   "execution_count": null,
   "id": "92497000",
   "metadata": {},
   "outputs": [],
   "source": [
    "def check_if_grasped(pose_target,test_pt,tolerance=0.05):    \n",
    "    return np.linalg.norm(pose_target-obj_pt)<tolerance"
   ]
  },
  {
   "cell_type": "code",
   "execution_count": null,
   "id": "9d338e3f",
   "metadata": {},
   "outputs": [],
   "source": [
    "np.linalg.norm(pose_target-obj_pt)"
   ]
  },
  {
   "cell_type": "code",
   "execution_count": null,
   "id": "f207863e",
   "metadata": {},
   "outputs": [],
   "source": [
    "test_pt=objs[objs['obj_name']=='orange'][['x','y','z']].values\n",
    "check_if_grasped(pose_target,test_pt)"
   ]
  },
  {
   "cell_type": "code",
   "execution_count": null,
   "id": "ebcd3214",
   "metadata": {},
   "outputs": [],
   "source": [
    "def check_if_grasped(pose_target,test_pt,tolerance=0.05):return np.linalg.norm(pose_target-test_pt)<tolerance\n",
    "\n",
    "\n",
    "##############################\n",
    "pose_target,_=tf_man.getTF('plum')\n",
    "#########################\n",
    "\n",
    "if len (objects)!=0 :\n",
    "    for i in range(len(res.poses)):\n",
    "        \n",
    "        position = [res.poses[i].position.x ,res.poses[i].position.y,res.poses[i].position.z]\n",
    "        \n",
    "        object_point = PointStamped()\n",
    "        object_point.header.frame_id = \"head_rgbd_sensor_rgb_frame\"\n",
    "        object_point.point.x = position[0]\n",
    "        object_point.point.y = position[1]\n",
    "        object_point.point.z = position[2]\n",
    "        position_map = tfBuffer.transform(object_point, \"map\", timeout=rospy.Duration(1))\n",
    "        \n",
    "        tf_man.pub_static_tf(pos= [position_map.point.x,position_map.point.y,position_map.point.z], rot=[0,0,0,1], ref=\"map\", point_name=res.names[i].data[4:] )\n",
    "        test_pt=np.asarray((position_map.point.x,position_map.point.y,position_map.point.z))\n",
    "        print (np.linalg.norm(pose_target-test_pt))\n",
    "        if check_if_grasped(pose_target,test_pt):\n",
    "            print (f'Centroid found in area {test_pt}, obj_name: {res.names[i].data[4:]}')\n",
    "            print ('Grasping May have failed')\n",
    "        \n",
    "        \n",
    "        \n",
    "        \n",
    "        "
   ]
  },
  {
   "cell_type": "code",
   "execution_count": null,
   "id": "69dcd095",
   "metadata": {},
   "outputs": [],
   "source": [
    "\n",
    "if len (objects)!=0 :\n",
    "    for i in range(len(res.poses)):\n",
    "        #tf_man.getTF(\"head_rgbd_sensor_rgb_frame\")\n",
    "        position = [res.poses[i].position.x ,res.poses[i].position.y,res.poses[i].position.z]\n",
    "        print ('position,name',position,res.names[i].data[4:])\n",
    "        ##########################################################\n",
    "\n",
    "        object_point = PointStamped()\n",
    "        object_point.header.frame_id = \"head_rgbd_sensor_rgb_frame\"\n",
    "        object_point.point.x = position[0]\n",
    "        object_point.point.y = position[1]\n",
    "        object_point.point.z = position[2]\n",
    "        position_map = tfBuffer.transform(object_point, \"map\", timeout=rospy.Duration(1))\n",
    "        \n",
    "        \n",
    "        \n",
    "        print ('position_map',position_map)\n",
    "        tf_man.pub_static_tf(pos= [position_map.point.x,position_map.point.y,position_map.point.z], rot=[0,0,0,1], ref=\"map\", point_name=res.names[i].data[4:] )\n",
    "        new_row = {'x': position_map.point.x, 'y': position_map.point.y, 'z': position_map.point.z, 'obj_name': res.names[i].data[4:]}\n",
    "        objs.loc[len(objs)] = new_row\n",
    "        ###########################################################"
   ]
  },
  {
   "cell_type": "code",
   "execution_count": null,
   "id": "7213e981",
   "metadata": {},
   "outputs": [],
   "source": [
    "head.to_tf('plum')"
   ]
  },
  {
   "cell_type": "code",
   "execution_count": null,
   "id": "818163ac",
   "metadata": {},
   "outputs": [],
   "source": [
    "base_grasp_D('plum',timeout=30)"
   ]
  },
  {
   "cell_type": "code",
   "execution_count": null,
   "id": "98bd574c",
   "metadata": {},
   "outputs": [],
   "source": [
    "objs['x']"
   ]
  },
  {
   "cell_type": "code",
   "execution_count": null,
   "id": "a5f37b3c",
   "metadata": {},
   "outputs": [],
   "source": [
    "obj_pt=np.asarray((position_map.point.x,\n",
    "position_map.point.y,\n",
    "position_map.point.z))\n",
    "\n",
    "if np.linalg.norm(pose_target-obj_pt)<0.05:print ('I say chale man')"
   ]
  },
  {
   "cell_type": "code",
   "execution_count": null,
   "id": "ba3bb248",
   "metadata": {},
   "outputs": [],
   "source": [
    "pose_target,_=tf_man.getTF('plum')"
   ]
  },
  {
   "cell_type": "code",
   "execution_count": null,
   "id": "cdda717a",
   "metadata": {},
   "outputs": [],
   "source": [
    "objs['x']"
   ]
  },
  {
   "cell_type": "code",
   "execution_count": null,
   "id": "e208afff",
   "metadata": {},
   "outputs": [],
   "source": [
    "\n",
    "np.linalg.norm(pose_target-obj_pt)"
   ]
  },
  {
   "cell_type": "code",
   "execution_count": null,
   "id": "dd25f01a",
   "metadata": {},
   "outputs": [],
   "source": [
    "pose_target"
   ]
  },
  {
   "cell_type": "code",
   "execution_count": null,
   "id": "8258cc58",
   "metadata": {},
   "outputs": [],
   "source": [
    "obj_pt"
   ]
  },
  {
   "cell_type": "code",
   "execution_count": null,
   "id": "b6b6ea7a",
   "metadata": {},
   "outputs": [],
   "source": [
    "av=arm.get_current_joint_values()\n",
    "av"
   ]
  },
  {
   "cell_type": "code",
   "execution_count": null,
   "id": "af884760",
   "metadata": {},
   "outputs": [],
   "source": [
    "brazo.set_joint_values(av[:-1])"
   ]
  },
  {
   "cell_type": "code",
   "execution_count": null,
   "id": "be886615",
   "metadata": {},
   "outputs": [],
   "source": [
    "av= arm.get_current_joint_values()"
   ]
  },
  {
   "cell_type": "code",
   "execution_count": null,
   "id": "da92757d",
   "metadata": {},
   "outputs": [],
   "source": [
    "av"
   ]
  },
  {
   "cell_type": "code",
   "execution_count": null,
   "id": "b210e1f8",
   "metadata": {},
   "outputs": [],
   "source": [
    "head.set_joint_values([0.0 , 0.0])\n",
    "av=arm.get_current_joint_values()\n",
    "av[0]=0.67\n",
    "av[1]=-0.74\n",
    "arm.go(av)\n",
    "head.set_joint_values([-np.pi/2 , -0.7])     "
   ]
  },
  {
   "cell_type": "code",
   "execution_count": null,
   "id": "7cc842d6",
   "metadata": {},
   "outputs": [],
   "source": [
    "rospack = rospkg.RosPack()        \n",
    "file_path = rospack.get_path('config_files') \n",
    "objs = pd.read_csv (file_path+'/objects.csv') #EMPTY DATAFRAME\n",
    "objs=objs.drop(columns='Unnamed: 0')\n",
    "print (objs)\n",
    "file_path = rospack.get_path('config_files')+'/regions'         \n",
    "regions={'shelves':np.load(file_path+'/shelves_region.npy'),'pickup':np.load(file_path+'/pickup_region.npy')}   ## KNOWN REGIONS\n",
    "print (f'Regions for Storing Groceries(Real Robot) {regions}')\n",
    "##TO AVOID SMACH DYING IN CASE NO PLACING AREA IS FOUND, THere is a default that at least allows the test to continue\n",
    "x,y= np.mean(regions['shelves'], axis=0)\n",
    "z=0.44#self.mid_shelf_height=0.4 shelves heights must also be set on SCAN SHELF  state init section."
   ]
  },
  {
   "cell_type": "code",
   "execution_count": null,
   "id": "1118bdfc",
   "metadata": {},
   "outputs": [],
   "source": [
    "tf_man.pub_static_tf(pos=[x,y,0.89],point_name='top_shelf')\n",
    "tf_man.pub_static_tf(pos=[x,y,0.42],point_name='mid_shelf')\n",
    "tf_man.pub_static_tf(pos=[x,y,0.05],point_name='low_shelf')\n",
    "#head.to_tf()"
   ]
  },
  {
   "cell_type": "code",
   "execution_count": null,
   "id": "ee770f35",
   "metadata": {},
   "outputs": [],
   "source": [
    "head.to_tf('low_shelf')"
   ]
  },
  {
   "cell_type": "code",
   "execution_count": null,
   "id": "5f66e066",
   "metadata": {},
   "outputs": [],
   "source": [
    "head.set_joint_values([-0.3,-0.47])"
   ]
  },
  {
   "cell_type": "code",
   "execution_count": null,
   "id": "71e84aec",
   "metadata": {},
   "outputs": [],
   "source": [
    "d_x=0.66\n",
    "d_y=-0.1\n",
    "timeout=1.0\n",
    "rob_pos,rot=tf_man.getTF('base_link')    \n",
    "original_rot=tf.transformations.euler_from_quaternion(rot)[2]\n",
    "succ = False \n",
    "target_object= 'placing_area'        "
   ]
  },
  {
   "cell_type": "code",
   "execution_count": null,
   "id": "e7b88a80",
   "metadata": {},
   "outputs": [],
   "source": [
    "\n",
    "i=0\n",
    "while  not succ and not rospy.is_shutdown():\n",
    "    i+=1\n",
    "    _,rot= tf_man.getTF(\"base_link\",ref_frame='map')\n",
    "    trans,_=tf_man.getTF(target_object,ref_frame=\"base_link\")\n",
    "    #trans\n",
    "    eX, eY, eZ = trans\n",
    "    eX+= -d_x  #x offest\n",
    "    eY+= -d_y #y Offset\n",
    "    eT= tf.transformations.euler_from_quaternion(rot)[2] - original_rot #Original \n",
    "\n",
    "    rospy.loginfo(\"error: {:.2f}, {:.2f}, angle {:.2f}, target obj frame {}\".format(eX, eY , eT,target_object))\n",
    "    #if eT > np.pi: eT=-2*np.pi+eT    #  angle error constricted to values between pi and -pi  \n",
    "    #if eT < -np.pi: eT= 2*np.pi+eT   \n",
    "    eT = (eT + np.pi) % (2 * np.pi) - np.pi\n",
    "\n",
    "    X, Y, Z = trans\n",
    "    rospy.loginfo(\"Pose: {:.2f}, {:.2f}, angle {:.2f}, target obj frame {}\".format(X, Y , eT,target_object))\n",
    "    if abs(eX) <=0.05 :\n",
    "        print ('here')\n",
    "        eX = 0\n",
    "    if abs(eY) <=0.05  :\n",
    "        eY = 0\n",
    "    if abs(eT   ) < 0.03:\n",
    "        eT = 0\n",
    "    succ =  eX == 0 and eY == 0 and eT==0         \n",
    "    velX=0.2*eX\n",
    "    velY=0.3*eY\n",
    "    ############################################\n",
    "    if   velX <= 0: corr_velX= min (-0.0051,velX)\n",
    "    elif velX >  0: corr_velX= max ( 0.0051,velX)\n",
    "    if   velY <= 0: corr_velY= min (-0.0051,velY)\n",
    "    elif velY >  0: corr_velY= max ( 0.005,velY)\n",
    "    #############################################\n",
    "    if i %3 ==0 :\n",
    "        print(\"Pose: {:.2f}, {:.2f}, angle {:.2f}, target obj frame {}\".format(X, Y , eT,target_object))\n",
    "        i=0\n",
    "    omni_base.tiny_move( velX=corr_velX,velY=corr_velY, velT=-eT,std_time=0.2, MAX_VEL=0.3) \n",
    "\n",
    "    "
   ]
  },
  {
   "cell_type": "code",
   "execution_count": null,
   "id": "f06e3229",
   "metadata": {},
   "outputs": [],
   "source": [
    "omni_base.tiny_move( velX=corr_velX,velY=corr_velY, velT=-eT,std_time=0.2, MAX_VEL=0.5, MAX_VEL_THETA=0.3) "
   ]
  },
  {
   "cell_type": "code",
   "execution_count": null,
   "id": "24e187e1",
   "metadata": {},
   "outputs": [],
   "source": []
  },
  {
   "cell_type": "code",
   "execution_count": null,
   "id": "02b8af39",
   "metadata": {},
   "outputs": [],
   "source": [
    "\n",
    "succ=False\n",
    "THRESHOLD = 0.03\n",
    "_, rot  = tf_man.getTF(\"base_link\",ref_frame='map')\n",
    "original_rot=tf.transformations.euler_from_quaternion(rot)[2]\n",
    "    "
   ]
  },
  {
   "cell_type": "code",
   "execution_count": null,
   "id": "5e776cba",
   "metadata": {},
   "outputs": [],
   "source": [
    "\n",
    "while  not succ and not rospy.is_shutdown():\n",
    "    trans,_ = tf_man.getTF(target_frame='placing_area', ref_frame='hand_palm_link')\n",
    "    _, rot  = tf_man.getTF(\"base_link\",ref_frame='map')\n",
    "\n",
    "    if type(trans) is not bool:\n",
    "        _, eY, eX = trans\n",
    "\n",
    "    if abs(eY) < THRESHOLD:\n",
    "        eY = 0\n",
    "    if abs(eX) < THRESHOLD:\n",
    "        eX = 0\n",
    "    eT= tf.transformations.euler_from_quaternion(rot)[2] - original_rot #Original \n",
    "\n",
    "    eT = (eT + np.pi) % (2 * np.pi) - np.pi\n",
    "\n",
    "    print(\"error: {:.2f}, {:.2f}, angle {:.2f}, target obj frame placing area\".format(eX, eY , eT))\n",
    "    if eT > np.pi: eT=-2*np.pi+eT\n",
    "    if eT < -np.pi: eT= 2*np.pi+eT\n",
    "    if abs(eT) < 0.05:\n",
    "        eT=0\n",
    "\n",
    "    if eX >0: velX = max( 0.005,eX)\n",
    "    if eX <=0: velX = min(-0.005,eX)\n",
    "    if eY >0: velY = max( 0.005,eY)\n",
    "    if eY <=0: velY = min(-0.005,eY)\n",
    "    print(\"error: {:.2f}, {:.2f}, angle {:.2f}, target obj frame placing area\".format(eX, eY , eT))\n",
    "    succ =  eX == 0 and eY == 0 and eT==0            \n",
    "    omni_base.tiny_move( velX=0.1*velX,velY=-0.4*velY, velT=-eT,std_time=0.2, MAX_VEL=0.1, MAX_VEL_THETA=0.1) \n"
   ]
  },
  {
   "cell_type": "code",
   "execution_count": null,
   "id": "8f2969da",
   "metadata": {},
   "outputs": [],
   "source": [
    "omni_base.tiny_move( velX=0.1*velX,velY=-0.4*velY, velT=-eT,std_time=0.2, MAX_VEL=0.1, MAX_VEL_THETA=0.1) \n"
   ]
  },
  {
   "cell_type": "code",
   "execution_count": null,
   "id": "1cbf7c37",
   "metadata": {},
   "outputs": [],
   "source": [
    "#omni_base.tiny_move( velX=-1,std_time=1.5,MAX_VEL=1) "
   ]
  },
  {
   "cell_type": "code",
   "execution_count": null,
   "id": "c5029d01",
   "metadata": {},
   "outputs": [],
   "source": [
    "av=arm.get_current_joint_values()\n",
    "av"
   ]
  },
  {
   "cell_type": "code",
   "execution_count": null,
   "id": "244a93ac",
   "metadata": {},
   "outputs": [],
   "source": [
    "av=arm.get_current_joint_values()\n",
    "av"
   ]
  },
  {
   "cell_type": "code",
   "execution_count": null,
   "id": "dcd877ca",
   "metadata": {},
   "outputs": [],
   "source": [
    " transformed_object_point = self.tf2_buffer.transform(object_point, \"odom\", timeout=rospy.Duration(1))"
   ]
  },
  {
   "cell_type": "code",
   "execution_count": null,
   "id": "6581a015",
   "metadata": {},
   "outputs": [],
   "source": [
    "tf_man.pub_static_tf(pos=[4.96,1.41,0],rot=[0,0,0.707,0.707],point_name='pikcup')"
   ]
  },
  {
   "cell_type": "code",
   "execution_count": null,
   "id": "9f06e40b",
   "metadata": {},
   "outputs": [],
   "source": [
    "pose, quat=tf_man.getTF('pikcup')"
   ]
  },
  {
   "cell_type": "code",
   "execution_count": null,
   "id": "3e071005",
   "metadata": {},
   "outputs": [],
   "source": [
    "offset_point=[0.3,0.0,0.01]          # Offset relative to object tf\n",
    "        "
   ]
  },
  {
   "cell_type": "code",
   "execution_count": null,
   "id": "b41454c6",
   "metadata": {},
   "outputs": [],
   "source": [
    "object_point = PointStamped()\n",
    "object_point.header.frame_id = \"pikcup\"#\"base_link\"\n",
    "object_point.point.x = offset_point[0]\n",
    "object_point.point.y = offset_point[1]\n",
    "object_point.point.z = offset_point[2]\n",
    "\n"
   ]
  },
  {
   "cell_type": "code",
   "execution_count": null,
   "id": "08bed0ab",
   "metadata": {},
   "outputs": [],
   "source": [
    "\n",
    "transformed_object_point = tfBuffer.transform(object_point, \"map\", timeout=rospy.Duration(1))\n",
    "\n",
    "tf_man.pub_static_tf(pos=[transformed_object_point.point.x,transformed_object_point.point.y,transformed_object_point.point.z],rot=quat,point_name='pikcup+2')"
   ]
  },
  {
   "cell_type": "code",
   "execution_count": null,
   "id": "736a8baa",
   "metadata": {},
   "outputs": [],
   "source": []
  },
  {
   "cell_type": "code",
   "execution_count": null,
   "id": "e8d3b642",
   "metadata": {},
   "outputs": [],
   "source": [
    "static_transform_stamped = TransformStamped()\n",
    "quat=[0,0,0.707,0.707]\n",
    "# Fill the TransformStamped message with data\n",
    "static_transform_stamped.header.stamp = rospy.Time(0)\n",
    "static_transform_stamped.header.frame_id = 'map'  # parent frame\n",
    "static_transform_stamped.child_frame_id = 'pikcup+2'   # child frame\n",
    "\n",
    "# Translation (x, y, z)\n",
    "static_transform_stamped.transform.translation.x = transformed_object_point.point.x\n",
    "static_transform_stamped.transform.translation.y = transformed_object_point.point.y\n",
    "static_transform_stamped.transform.translation.z = transformed_object_point.point.z\n",
    "\n",
    "# Rotation (roll, pitch, yaw)\n",
    "\n",
    "static_transform_stamped.transform.rotation.x = quat[0]\n",
    "static_transform_stamped.transform.rotation.y = quat[1]\n",
    "static_transform_stamped.transform.rotation.z = quat[2]\n",
    "static_transform_stamped.transform.rotation.w = quat[3]\n",
    "\n",
    "# Broadcast the static transform\n",
    "broad.sendTransform(static_transform_stamped)\n"
   ]
  },
  {
   "cell_type": "code",
   "execution_count": null,
   "id": "94877d21",
   "metadata": {},
   "outputs": [],
   "source": [
    "\n",
    "lis= tf2_ros.TransformListener(tfBuffer)\n",
    "broad= tf2_ros.StaticTransformBroadcaster()\n",
    "#broad.pub_tf()"
   ]
  },
  {
   "cell_type": "code",
   "execution_count": null,
   "id": "e6779b13",
   "metadata": {},
   "outputs": [],
   "source": [
    "static_transform_stamped = TransformStamped()\n",
    "quat=[0,0,0.707,0.707]\n",
    "# Fill the TransformStamped message with data\n",
    "static_transform_stamped.header.stamp = rospy.Time(0)\n",
    "static_transform_stamped.header.frame_id = 'map'  # parent frame\n",
    "static_transform_stamped.child_frame_id = 'pikcup'   # child frame\n",
    "\n",
    "# Translation (x, y, z)\n",
    "static_transform_stamped.transform.translation.x = pose[0]\n",
    "static_transform_stamped.transform.translation.y = pose[1]\n",
    "static_transform_stamped.transform.translation.z = pose[2]\n",
    "\n",
    "# Rotation (roll, pitch, yaw)\n",
    "\n",
    "static_transform_stamped.transform.rotation.x = quat[0]\n",
    "static_transform_stamped.transform.rotation.y = quat[1]\n",
    "static_transform_stamped.transform.rotation.z = quat[2]\n",
    "static_transform_stamped.transform.rotation.w = quat[3]\n",
    "\n",
    "# Broadcast the static transform\n",
    "broad.sendTransform(static_transform_stamped)\n"
   ]
  },
  {
   "cell_type": "code",
   "execution_count": null,
   "id": "7a22a5c9",
   "metadata": {},
   "outputs": [],
   "source": [
    "\n",
    "tf_man.pub_static_tf(pos=translated_point,quat=[0,0,0.707,0.707],point_name='pikcup+1')"
   ]
  },
  {
   "cell_type": "code",
   "execution_count": null,
   "id": "7e782d7e",
   "metadata": {},
   "outputs": [],
   "source": [
    "o=read_yaml('/regions/regions_sim.yaml')\n",
    "df=pd.DataFrame.from_dict(o)\n",
    "area_bo_x=df['shelves'][['x_min','x_max']].values\n",
    "area_bo_y=df['shelves'][['y_min','y_max']].values\n",
    "area_box=np.concatenate((area_bo_x,area_bo_y)).reshape((2,2)).T"
   ]
  },
  {
   "cell_type": "code",
   "execution_count": null,
   "id": "b3446928",
   "metadata": {},
   "outputs": [],
   "source": [
    "string_list=df['shelf']['z'].split(',')\n",
    "top,mid,low=[list(map(float, s.split(','))) for s in string_list]"
   ]
  },
  {
   "cell_type": "code",
   "execution_count": null,
   "id": "1f2439c2",
   "metadata": {},
   "outputs": [],
   "source": [
    "area_bo_x=df['shelves'][['x_min','x_max']].values\n",
    "area_bo_y=df['shelves'][['y_min','y_max']].values\n",
    "area_box=np.concatenate((area_bo_x,area_bo_y)).reshape((2,2)).T\n",
    "print (area_box)\n",
    "print (area_box[:,1])\n",
    "\n",
    "#def is_inside(x,y,z):    return ((area_box[:,1].max() > y) and (area_box[:,1].min() < y)) and ((area_box[:,0].max() > x) and (area_box[0,0].min() < x)) and (pickup_plane_z<z)  \n",
    "def is_inside_top(x,y,z):return ((area_box[:,1].max() > y) and (area_box[:,1].min() < y)) and ((area_box[:,0].max() > x) and (area_box[0,0].min() < x))    and (top_shelf_height < z )  \n",
    "def is_inside_mid(x,y,z):return ((area_box[:,1].max() > y) and (area_box[:,1].min() < y)) and ((area_box[:,0].max() > x) and (area_box[0,0].min() < x))    and ((0.9*top_shelf_height > z) and (mid_shelf_height < z  )  )  \n",
    "def is_inside_low(x,y,z):return ((area_box[:,1].max() > y) and (area_box[:,1].min() < y)) and ((area_box[:,0].max() > x) and (area_box[0,0].min() < x))    and ((0.9*mid_shelf_height > z  )  )"
   ]
  },
  {
   "cell_type": "code",
   "execution_count": null,
   "id": "39ec3708",
   "metadata": {},
   "outputs": [],
   "source": [
    "is_inside_low(1,2,3)"
   ]
  },
  {
   "cell_type": "code",
   "execution_count": null,
   "id": "43480a98",
   "metadata": {},
   "outputs": [],
   "source": [
    "df\n"
   ]
  },
  {
   "cell_type": "code",
   "execution_count": null,
   "id": "6c671586",
   "metadata": {},
   "outputs": [],
   "source": [
    "np.concatenate((area_box,area_boy)).reshape((2,2)).T"
   ]
  },
  {
   "cell_type": "code",
   "execution_count": 17,
   "id": "f7035913",
   "metadata": {},
   "outputs": [
    {
     "data": {
      "text/html": [
       "<div>\n",
       "<style scoped>\n",
       "    .dataframe tbody tr th:only-of-type {\n",
       "        vertical-align: middle;\n",
       "    }\n",
       "\n",
       "    .dataframe tbody tr th {\n",
       "        vertical-align: top;\n",
       "    }\n",
       "\n",
       "    .dataframe thead th {\n",
       "        text-align: right;\n",
       "    }\n",
       "</style>\n",
       "<table border=\"1\" class=\"dataframe\">\n",
       "  <thead>\n",
       "    <tr style=\"text-align: right;\">\n",
       "      <th></th>\n",
       "      <th>name</th>\n",
       "      <th>shape</th>\n",
       "      <th>grasp_mode</th>\n",
       "      <th>offset_x</th>\n",
       "      <th>offset_y</th>\n",
       "      <th>offset_z</th>\n",
       "    </tr>\n",
       "  </thead>\n",
       "  <tbody>\n",
       "    <tr>\n",
       "      <th>0</th>\n",
       "      <td>chips_can</td>\n",
       "      <td>cylinder</td>\n",
       "      <td>above</td>\n",
       "      <td>0.0</td>\n",
       "      <td>0.0</td>\n",
       "      <td>0.06</td>\n",
       "    </tr>\n",
       "    <tr>\n",
       "      <th>1</th>\n",
       "      <td>master_chef_can</td>\n",
       "      <td>box</td>\n",
       "      <td>above</td>\n",
       "      <td>0.0</td>\n",
       "      <td>0.0</td>\n",
       "      <td>0.06</td>\n",
       "    </tr>\n",
       "    <tr>\n",
       "      <th>2</th>\n",
       "      <td>cracker_box</td>\n",
       "      <td>box</td>\n",
       "      <td>pca</td>\n",
       "      <td>-0.1</td>\n",
       "      <td>0.0</td>\n",
       "      <td>0.01</td>\n",
       "    </tr>\n",
       "    <tr>\n",
       "      <th>3</th>\n",
       "      <td>sugar_box</td>\n",
       "      <td>box</td>\n",
       "      <td>frontal</td>\n",
       "      <td>-0.1</td>\n",
       "      <td>0.0</td>\n",
       "      <td>0.01</td>\n",
       "    </tr>\n",
       "    <tr>\n",
       "      <th>4</th>\n",
       "      <td>tomato_soup_can</td>\n",
       "      <td>cylinder</td>\n",
       "      <td>frontal</td>\n",
       "      <td>-0.1</td>\n",
       "      <td>0.0</td>\n",
       "      <td>0.01</td>\n",
       "    </tr>\n",
       "    <tr>\n",
       "      <th>...</th>\n",
       "      <td>...</td>\n",
       "      <td>...</td>\n",
       "      <td>...</td>\n",
       "      <td>...</td>\n",
       "      <td>...</td>\n",
       "      <td>...</td>\n",
       "    </tr>\n",
       "    <tr>\n",
       "      <th>62</th>\n",
       "      <td>c_lego_duplo</td>\n",
       "      <td>cylinder</td>\n",
       "      <td>above</td>\n",
       "      <td>0.0</td>\n",
       "      <td>0.0</td>\n",
       "      <td>0.06</td>\n",
       "    </tr>\n",
       "    <tr>\n",
       "      <th>63</th>\n",
       "      <td>d_lego_duplo</td>\n",
       "      <td>cylinder</td>\n",
       "      <td>above</td>\n",
       "      <td>0.0</td>\n",
       "      <td>0.0</td>\n",
       "      <td>0.06</td>\n",
       "    </tr>\n",
       "    <tr>\n",
       "      <th>64</th>\n",
       "      <td>e_lego_duplo</td>\n",
       "      <td>cylinder</td>\n",
       "      <td>above</td>\n",
       "      <td>0.0</td>\n",
       "      <td>0.0</td>\n",
       "      <td>0.06</td>\n",
       "    </tr>\n",
       "    <tr>\n",
       "      <th>65</th>\n",
       "      <td>f_lego_duplo</td>\n",
       "      <td>cylinder</td>\n",
       "      <td>above</td>\n",
       "      <td>0.0</td>\n",
       "      <td>0.0</td>\n",
       "      <td>0.06</td>\n",
       "    </tr>\n",
       "    <tr>\n",
       "      <th>66</th>\n",
       "      <td>rubiks_cube</td>\n",
       "      <td>box</td>\n",
       "      <td>above</td>\n",
       "      <td>0.0</td>\n",
       "      <td>0.0</td>\n",
       "      <td>0.06</td>\n",
       "    </tr>\n",
       "  </tbody>\n",
       "</table>\n",
       "<p>67 rows × 6 columns</p>\n",
       "</div>"
      ],
      "text/plain": [
       "               name     shape grasp_mode  offset_x  offset_y  offset_z\n",
       "0         chips_can  cylinder      above       0.0       0.0      0.06\n",
       "1   master_chef_can       box      above       0.0       0.0      0.06\n",
       "2       cracker_box       box        pca      -0.1       0.0      0.01\n",
       "3         sugar_box       box    frontal      -0.1       0.0      0.01\n",
       "4   tomato_soup_can  cylinder    frontal      -0.1       0.0      0.01\n",
       "..              ...       ...        ...       ...       ...       ...\n",
       "62     c_lego_duplo  cylinder      above       0.0       0.0      0.06\n",
       "63     d_lego_duplo  cylinder      above       0.0       0.0      0.06\n",
       "64     e_lego_duplo  cylinder      above       0.0       0.0      0.06\n",
       "65     f_lego_duplo  cylinder      above       0.0       0.0      0.06\n",
       "66      rubiks_cube       box      above       0.0       0.0      0.06\n",
       "\n",
       "[67 rows x 6 columns]"
      ]
     },
     "execution_count": 17,
     "metadata": {},
     "output_type": "execute_result"
    }
   ],
   "source": [
    "rospack = rospkg.RosPack()        \n",
    "file_path = rospack.get_path('config_files') \n",
    "\n",
    "grasping_dict = pd.read_csv (file_path+'/GraspingDict.csv')\n",
    "#grasping_dict['grasp_mode']=grasping_dict['grasp_mode'].replace('front', 'frontal')\n",
    "grasping_dict\n",
    "\n"
   ]
  },
  {
   "cell_type": "code",
   "execution_count": 9,
   "id": "a61cc51c",
   "metadata": {},
   "outputs": [
    {
     "data": {
      "text/plain": [
       "array([0., 0., 0.])"
      ]
     },
     "execution_count": 9,
     "metadata": {},
     "output_type": "execute_result"
    },
    {
     "name": "stderr",
     "output_type": "stream",
     "text": [
      "\u001b[33m[ WARN] [1717351093.400437547]: TF_REPEATED_DATA ignoring data with redundant timestamp for frame odom at time 817.873000 according to authority /pose_integrator\u001b[0m\n",
      "\u001b[33m[ WARN] [1717351093.400497327]: TF_REPEATED_DATA ignoring data with redundant timestamp for frame odom at time 817.873000 according to authority /pose_integrator\u001b[0m\n",
      "\u001b[33m[ WARN] [1717351093.400538325]: TF_REPEATED_DATA ignoring data with redundant timestamp for frame odom at time 817.873000 according to authority /pose_integrator\u001b[0m\n",
      "\u001b[33m[ WARN] [1717351093.400585929]: TF_REPEATED_DATA ignoring data with redundant timestamp for frame odom at time 817.873000 according to authority /pose_integrator\u001b[0m\n",
      "\u001b[33m[ WARN] [1717351093.400632964]: TF_REPEATED_DATA ignoring data with redundant timestamp for frame odom at time 817.873000 according to authority /pose_integrator\u001b[0m\n",
      "\u001b[33m[ WARN] [1717351093.400672381]: TF_REPEATED_DATA ignoring data with redundant timestamp for frame odom at time 817.873000 according to authority /pose_integrator\u001b[0m\n"
     ]
    }
   ],
   "source": [
    "target_object='cracker_box'\n",
    "offset_point=grasping_dict[grasping_dict['name']==target_object][['offset_x','offset_y','offset_z']].values[0]\n",
    "offset_point"
   ]
  },
  {
   "cell_type": "code",
   "execution_count": null,
   "id": "1c13b4a7",
   "metadata": {},
   "outputs": [],
   "source": []
  },
  {
   "cell_type": "code",
   "execution_count": null,
   "id": "6abe09bf",
   "metadata": {},
   "outputs": [],
   "source": []
  },
  {
   "cell_type": "code",
   "execution_count": 13,
   "id": "ca2c5c53",
   "metadata": {},
   "outputs": [
    {
     "ename": "KeyError",
     "evalue": "'False: boolean label can not be used without a boolean index'",
     "output_type": "error",
     "traceback": [
      "\u001b[0;31m---------------------------------------------------------------------------\u001b[0m",
      "\u001b[0;31mKeyError\u001b[0m                                  Traceback (most recent call last)",
      "Cell \u001b[0;32mIn[13], line 1\u001b[0m\n\u001b[0;32m----> 1\u001b[0m \u001b[43mgrasping_dict\u001b[49m\u001b[38;5;241;43m.\u001b[39;49m\u001b[43mloc\u001b[49m\u001b[43m[\u001b[49m\u001b[38;5;124;43m'\u001b[39;49m\u001b[38;5;124;43mgrasp_mode\u001b[39;49m\u001b[38;5;124;43m'\u001b[39;49m\u001b[38;5;241;43m==\u001b[39;49m\u001b[38;5;124;43m'\u001b[39;49m\u001b[38;5;124;43mabove\u001b[39;49m\u001b[38;5;124;43m'\u001b[39;49m\u001b[43m]\u001b[49m\n",
      "File \u001b[0;32m~/.local/lib/python3.8/site-packages/pandas/core/indexing.py:1103\u001b[0m, in \u001b[0;36m_LocationIndexer.__getitem__\u001b[0;34m(self, key)\u001b[0m\n\u001b[1;32m   1100\u001b[0m axis \u001b[38;5;241m=\u001b[39m \u001b[38;5;28mself\u001b[39m\u001b[38;5;241m.\u001b[39maxis \u001b[38;5;129;01mor\u001b[39;00m \u001b[38;5;241m0\u001b[39m\n\u001b[1;32m   1102\u001b[0m maybe_callable \u001b[38;5;241m=\u001b[39m com\u001b[38;5;241m.\u001b[39mapply_if_callable(key, \u001b[38;5;28mself\u001b[39m\u001b[38;5;241m.\u001b[39mobj)\n\u001b[0;32m-> 1103\u001b[0m \u001b[38;5;28;01mreturn\u001b[39;00m \u001b[38;5;28;43mself\u001b[39;49m\u001b[38;5;241;43m.\u001b[39;49m\u001b[43m_getitem_axis\u001b[49m\u001b[43m(\u001b[49m\u001b[43mmaybe_callable\u001b[49m\u001b[43m,\u001b[49m\u001b[43m \u001b[49m\u001b[43maxis\u001b[49m\u001b[38;5;241;43m=\u001b[39;49m\u001b[43maxis\u001b[49m\u001b[43m)\u001b[49m\n",
      "File \u001b[0;32m~/.local/lib/python3.8/site-packages/pandas/core/indexing.py:1342\u001b[0m, in \u001b[0;36m_LocIndexer._getitem_axis\u001b[0;34m(self, key, axis)\u001b[0m\n\u001b[1;32m   1339\u001b[0m         \u001b[38;5;28;01mreturn\u001b[39;00m \u001b[38;5;28mself\u001b[39m\u001b[38;5;241m.\u001b[39mobj\u001b[38;5;241m.\u001b[39miloc[\u001b[38;5;28mtuple\u001b[39m(indexer)]\n\u001b[1;32m   1341\u001b[0m \u001b[38;5;66;03m# fall thru to straight lookup\u001b[39;00m\n\u001b[0;32m-> 1342\u001b[0m \u001b[38;5;28;43mself\u001b[39;49m\u001b[38;5;241;43m.\u001b[39;49m\u001b[43m_validate_key\u001b[49m\u001b[43m(\u001b[49m\u001b[43mkey\u001b[49m\u001b[43m,\u001b[49m\u001b[43m \u001b[49m\u001b[43maxis\u001b[49m\u001b[43m)\u001b[49m\n\u001b[1;32m   1343\u001b[0m \u001b[38;5;28;01mreturn\u001b[39;00m \u001b[38;5;28mself\u001b[39m\u001b[38;5;241m.\u001b[39m_get_label(key, axis\u001b[38;5;241m=\u001b[39maxis)\n",
      "File \u001b[0;32m~/.local/lib/python3.8/site-packages/pandas/core/indexing.py:1151\u001b[0m, in \u001b[0;36m_LocIndexer._validate_key\u001b[0;34m(self, key, axis)\u001b[0m\n\u001b[1;32m   1144\u001b[0m ax \u001b[38;5;241m=\u001b[39m \u001b[38;5;28mself\u001b[39m\u001b[38;5;241m.\u001b[39mobj\u001b[38;5;241m.\u001b[39m_get_axis(axis)\n\u001b[1;32m   1145\u001b[0m \u001b[38;5;28;01mif\u001b[39;00m \u001b[38;5;28misinstance\u001b[39m(key, \u001b[38;5;28mbool\u001b[39m) \u001b[38;5;129;01mand\u001b[39;00m \u001b[38;5;129;01mnot\u001b[39;00m (\n\u001b[1;32m   1146\u001b[0m     is_bool_dtype(ax)\n\u001b[1;32m   1147\u001b[0m     \u001b[38;5;129;01mor\u001b[39;00m ax\u001b[38;5;241m.\u001b[39mdtype\u001b[38;5;241m.\u001b[39mname \u001b[38;5;241m==\u001b[39m \u001b[38;5;124m\"\u001b[39m\u001b[38;5;124mboolean\u001b[39m\u001b[38;5;124m\"\u001b[39m\n\u001b[1;32m   1148\u001b[0m     \u001b[38;5;129;01mor\u001b[39;00m \u001b[38;5;28misinstance\u001b[39m(ax, MultiIndex)\n\u001b[1;32m   1149\u001b[0m     \u001b[38;5;129;01mand\u001b[39;00m is_bool_dtype(ax\u001b[38;5;241m.\u001b[39mget_level_values(\u001b[38;5;241m0\u001b[39m))\n\u001b[1;32m   1150\u001b[0m ):\n\u001b[0;32m-> 1151\u001b[0m     \u001b[38;5;28;01mraise\u001b[39;00m \u001b[38;5;167;01mKeyError\u001b[39;00m(\n\u001b[1;32m   1152\u001b[0m         \u001b[38;5;124mf\u001b[39m\u001b[38;5;124m\"\u001b[39m\u001b[38;5;132;01m{\u001b[39;00mkey\u001b[38;5;132;01m}\u001b[39;00m\u001b[38;5;124m: boolean label can not be used without a boolean index\u001b[39m\u001b[38;5;124m\"\u001b[39m\n\u001b[1;32m   1153\u001b[0m     )\n\u001b[1;32m   1155\u001b[0m \u001b[38;5;28;01mif\u001b[39;00m \u001b[38;5;28misinstance\u001b[39m(key, \u001b[38;5;28mslice\u001b[39m) \u001b[38;5;129;01mand\u001b[39;00m (\n\u001b[1;32m   1156\u001b[0m     \u001b[38;5;28misinstance\u001b[39m(key\u001b[38;5;241m.\u001b[39mstart, \u001b[38;5;28mbool\u001b[39m) \u001b[38;5;129;01mor\u001b[39;00m \u001b[38;5;28misinstance\u001b[39m(key\u001b[38;5;241m.\u001b[39mstop, \u001b[38;5;28mbool\u001b[39m)\n\u001b[1;32m   1157\u001b[0m ):\n\u001b[1;32m   1158\u001b[0m     \u001b[38;5;28;01mraise\u001b[39;00m \u001b[38;5;167;01mTypeError\u001b[39;00m(\u001b[38;5;124mf\u001b[39m\u001b[38;5;124m\"\u001b[39m\u001b[38;5;132;01m{\u001b[39;00mkey\u001b[38;5;132;01m}\u001b[39;00m\u001b[38;5;124m: boolean values can not be used in a slice\u001b[39m\u001b[38;5;124m\"\u001b[39m)\n",
      "\u001b[0;31mKeyError\u001b[0m: 'False: boolean label can not be used without a boolean index'"
     ]
    },
    {
     "name": "stderr",
     "output_type": "stream",
     "text": [
      "\u001b[33m[ WARN] [1717351251.926891380]: TF_REPEATED_DATA ignoring data with redundant timestamp for frame odom at time 858.056000 according to authority /pose_integrator\u001b[0m\n",
      "\u001b[33m[ WARN] [1717351251.926938330]: TF_REPEATED_DATA ignoring data with redundant timestamp for frame odom at time 858.056000 according to authority /pose_integrator\u001b[0m\n",
      "\u001b[33m[ WARN] [1717351251.926968197]: TF_REPEATED_DATA ignoring data with redundant timestamp for frame odom at time 858.056000 according to authority /pose_integrator\u001b[0m\n",
      "\u001b[33m[ WARN] [1717351251.926996987]: TF_REPEATED_DATA ignoring data with redundant timestamp for frame odom at time 858.056000 according to authority /pose_integrator\u001b[0m\n",
      "\u001b[33m[ WARN] [1717351251.927025653]: TF_REPEATED_DATA ignoring data with redundant timestamp for frame odom at time 858.056000 according to authority /pose_integrator\u001b[0m\n",
      "\u001b[33m[ WARN] [1717351251.927054141]: TF_REPEATED_DATA ignoring data with redundant timestamp for frame odom at time 858.056000 according to authority /pose_integrator\u001b[0m\n",
      "\u001b[33m[ WARN] [1717351261.792011648]: TF_REPEATED_DATA ignoring data with redundant timestamp for frame odom at time 860.668000 according to authority /pose_integrator\u001b[0m\n",
      "\u001b[33m[ WARN] [1717351261.792061991]: TF_REPEATED_DATA ignoring data with redundant timestamp for frame odom at time 860.668000 according to authority /pose_integrator\u001b[0m\n",
      "\u001b[33m[ WARN] [1717351261.792088367]: TF_REPEATED_DATA ignoring data with redundant timestamp for frame odom at time 860.668000 according to authority /pose_integrator\u001b[0m\n",
      "\u001b[33m[ WARN] [1717351261.792113773]: TF_REPEATED_DATA ignoring data with redundant timestamp for frame odom at time 860.668000 according to authority /pose_integrator\u001b[0m\n",
      "\u001b[33m[ WARN] [1717351261.792138604]: TF_REPEATED_DATA ignoring data with redundant timestamp for frame odom at time 860.668000 according to authority /pose_integrator\u001b[0m\n",
      "\u001b[33m[ WARN] [1717351261.792164223]: TF_REPEATED_DATA ignoring data with redundant timestamp for frame odom at time 860.668000 according to authority /pose_integrator\u001b[0m\n"
     ]
    }
   ],
   "source": []
  },
  {
   "cell_type": "code",
   "execution_count": null,
   "id": "a27b69b2",
   "metadata": {},
   "outputs": [],
   "source": [
    "[0.03,-0.05,+0.08]"
   ]
  },
  {
   "cell_type": "code",
   "execution_count": 20,
   "id": "692f04b6",
   "metadata": {},
   "outputs": [
    {
     "data": {
      "text/html": [
       "<div>\n",
       "<style scoped>\n",
       "    .dataframe tbody tr th:only-of-type {\n",
       "        vertical-align: middle;\n",
       "    }\n",
       "\n",
       "    .dataframe tbody tr th {\n",
       "        vertical-align: top;\n",
       "    }\n",
       "\n",
       "    .dataframe thead th {\n",
       "        text-align: right;\n",
       "    }\n",
       "</style>\n",
       "<table border=\"1\" class=\"dataframe\">\n",
       "  <thead>\n",
       "    <tr style=\"text-align: right;\">\n",
       "      <th></th>\n",
       "      <th>name</th>\n",
       "      <th>shape</th>\n",
       "      <th>grasp_mode</th>\n",
       "      <th>offset_x</th>\n",
       "      <th>offset_y</th>\n",
       "      <th>offset_z</th>\n",
       "    </tr>\n",
       "  </thead>\n",
       "  <tbody>\n",
       "    <tr>\n",
       "      <th>0</th>\n",
       "      <td>chips_can</td>\n",
       "      <td>cylinder</td>\n",
       "      <td>above</td>\n",
       "      <td>0.0</td>\n",
       "      <td>0.0</td>\n",
       "      <td>0.06</td>\n",
       "    </tr>\n",
       "    <tr>\n",
       "      <th>1</th>\n",
       "      <td>master_chef_can</td>\n",
       "      <td>box</td>\n",
       "      <td>above</td>\n",
       "      <td>0.0</td>\n",
       "      <td>0.0</td>\n",
       "      <td>0.06</td>\n",
       "    </tr>\n",
       "    <tr>\n",
       "      <th>2</th>\n",
       "      <td>cracker_box</td>\n",
       "      <td>box</td>\n",
       "      <td>pca</td>\n",
       "      <td>-0.1</td>\n",
       "      <td>0.0</td>\n",
       "      <td>0.01</td>\n",
       "    </tr>\n",
       "    <tr>\n",
       "      <th>3</th>\n",
       "      <td>sugar_box</td>\n",
       "      <td>box</td>\n",
       "      <td>front</td>\n",
       "      <td>-0.1</td>\n",
       "      <td>0.0</td>\n",
       "      <td>0.01</td>\n",
       "    </tr>\n",
       "    <tr>\n",
       "      <th>4</th>\n",
       "      <td>tomato_soup_can</td>\n",
       "      <td>cylinder</td>\n",
       "      <td>front</td>\n",
       "      <td>-0.1</td>\n",
       "      <td>0.0</td>\n",
       "      <td>0.01</td>\n",
       "    </tr>\n",
       "    <tr>\n",
       "      <th>...</th>\n",
       "      <td>...</td>\n",
       "      <td>...</td>\n",
       "      <td>...</td>\n",
       "      <td>...</td>\n",
       "      <td>...</td>\n",
       "      <td>...</td>\n",
       "    </tr>\n",
       "    <tr>\n",
       "      <th>62</th>\n",
       "      <td>c_lego_duplo</td>\n",
       "      <td>cylinder</td>\n",
       "      <td>above</td>\n",
       "      <td>0.0</td>\n",
       "      <td>0.0</td>\n",
       "      <td>0.06</td>\n",
       "    </tr>\n",
       "    <tr>\n",
       "      <th>63</th>\n",
       "      <td>d_lego_duplo</td>\n",
       "      <td>cylinder</td>\n",
       "      <td>above</td>\n",
       "      <td>0.0</td>\n",
       "      <td>0.0</td>\n",
       "      <td>0.06</td>\n",
       "    </tr>\n",
       "    <tr>\n",
       "      <th>64</th>\n",
       "      <td>e_lego_duplo</td>\n",
       "      <td>cylinder</td>\n",
       "      <td>above</td>\n",
       "      <td>0.0</td>\n",
       "      <td>0.0</td>\n",
       "      <td>0.06</td>\n",
       "    </tr>\n",
       "    <tr>\n",
       "      <th>65</th>\n",
       "      <td>f_lego_duplo</td>\n",
       "      <td>cylinder</td>\n",
       "      <td>above</td>\n",
       "      <td>0.0</td>\n",
       "      <td>0.0</td>\n",
       "      <td>0.06</td>\n",
       "    </tr>\n",
       "    <tr>\n",
       "      <th>66</th>\n",
       "      <td>rubiks_cube</td>\n",
       "      <td>box</td>\n",
       "      <td>above</td>\n",
       "      <td>0.0</td>\n",
       "      <td>0.0</td>\n",
       "      <td>0.06</td>\n",
       "    </tr>\n",
       "  </tbody>\n",
       "</table>\n",
       "<p>67 rows × 6 columns</p>\n",
       "</div>"
      ],
      "text/plain": [
       "               name     shape grasp_mode  offset_x  offset_y  offset_z\n",
       "0         chips_can  cylinder      above       0.0       0.0      0.06\n",
       "1   master_chef_can       box      above       0.0       0.0      0.06\n",
       "2       cracker_box       box        pca      -0.1       0.0      0.01\n",
       "3         sugar_box       box      front      -0.1       0.0      0.01\n",
       "4   tomato_soup_can  cylinder      front      -0.1       0.0      0.01\n",
       "..              ...       ...        ...       ...       ...       ...\n",
       "62     c_lego_duplo  cylinder      above       0.0       0.0      0.06\n",
       "63     d_lego_duplo  cylinder      above       0.0       0.0      0.06\n",
       "64     e_lego_duplo  cylinder      above       0.0       0.0      0.06\n",
       "65     f_lego_duplo  cylinder      above       0.0       0.0      0.06\n",
       "66      rubiks_cube       box      above       0.0       0.0      0.06\n",
       "\n",
       "[67 rows x 6 columns]"
      ]
     },
     "execution_count": 20,
     "metadata": {},
     "output_type": "execute_result"
    }
   ],
   "source": [
    "grasping_dict.loc[grasping_dict['name'] == 'bowl', 'offset_x'] = 0.03\n",
    "grasping_dict.loc[grasping_dict['name'] == 'bowl', 'offset_y'] = -0.05\n",
    "grasping_dict.loc[grasping_dict['name'] == 'bowl', 'offset_z'] = 0.08\n",
    "grasping_dict"
   ]
  },
  {
   "cell_type": "code",
   "execution_count": 8,
   "id": "0f938c13",
   "metadata": {},
   "outputs": [],
   "source": [
    "grasping_dict.loc[grasping_dict['grasp_mode']=='front','grasp_mode']='frontal'"
   ]
  },
  {
   "cell_type": "code",
   "execution_count": 9,
   "id": "5c0103d3",
   "metadata": {},
   "outputs": [
    {
     "data": {
      "text/html": [
       "<div>\n",
       "<style scoped>\n",
       "    .dataframe tbody tr th:only-of-type {\n",
       "        vertical-align: middle;\n",
       "    }\n",
       "\n",
       "    .dataframe tbody tr th {\n",
       "        vertical-align: top;\n",
       "    }\n",
       "\n",
       "    .dataframe thead th {\n",
       "        text-align: right;\n",
       "    }\n",
       "</style>\n",
       "<table border=\"1\" class=\"dataframe\">\n",
       "  <thead>\n",
       "    <tr style=\"text-align: right;\">\n",
       "      <th></th>\n",
       "      <th>name</th>\n",
       "      <th>shape</th>\n",
       "      <th>grasp_mode</th>\n",
       "      <th>offset_x</th>\n",
       "      <th>offset_y</th>\n",
       "      <th>offset_z</th>\n",
       "    </tr>\n",
       "  </thead>\n",
       "  <tbody>\n",
       "    <tr>\n",
       "      <th>0</th>\n",
       "      <td>chips_can</td>\n",
       "      <td>cylinder</td>\n",
       "      <td>above</td>\n",
       "      <td>0.0</td>\n",
       "      <td>0.0</td>\n",
       "      <td>0.06</td>\n",
       "    </tr>\n",
       "    <tr>\n",
       "      <th>1</th>\n",
       "      <td>master_chef_can</td>\n",
       "      <td>box</td>\n",
       "      <td>above</td>\n",
       "      <td>0.0</td>\n",
       "      <td>0.0</td>\n",
       "      <td>0.06</td>\n",
       "    </tr>\n",
       "    <tr>\n",
       "      <th>2</th>\n",
       "      <td>cracker_box</td>\n",
       "      <td>box</td>\n",
       "      <td>pca</td>\n",
       "      <td>-0.1</td>\n",
       "      <td>0.0</td>\n",
       "      <td>0.01</td>\n",
       "    </tr>\n",
       "    <tr>\n",
       "      <th>3</th>\n",
       "      <td>frontal</td>\n",
       "      <td>frontal</td>\n",
       "      <td>frontal</td>\n",
       "      <td>frontal</td>\n",
       "      <td>frontal</td>\n",
       "      <td>frontal</td>\n",
       "    </tr>\n",
       "    <tr>\n",
       "      <th>4</th>\n",
       "      <td>frontal</td>\n",
       "      <td>frontal</td>\n",
       "      <td>frontal</td>\n",
       "      <td>frontal</td>\n",
       "      <td>frontal</td>\n",
       "      <td>frontal</td>\n",
       "    </tr>\n",
       "    <tr>\n",
       "      <th>...</th>\n",
       "      <td>...</td>\n",
       "      <td>...</td>\n",
       "      <td>...</td>\n",
       "      <td>...</td>\n",
       "      <td>...</td>\n",
       "      <td>...</td>\n",
       "    </tr>\n",
       "    <tr>\n",
       "      <th>62</th>\n",
       "      <td>c_lego_duplo</td>\n",
       "      <td>cylinder</td>\n",
       "      <td>above</td>\n",
       "      <td>0.0</td>\n",
       "      <td>0.0</td>\n",
       "      <td>0.06</td>\n",
       "    </tr>\n",
       "    <tr>\n",
       "      <th>63</th>\n",
       "      <td>d_lego_duplo</td>\n",
       "      <td>cylinder</td>\n",
       "      <td>above</td>\n",
       "      <td>0.0</td>\n",
       "      <td>0.0</td>\n",
       "      <td>0.06</td>\n",
       "    </tr>\n",
       "    <tr>\n",
       "      <th>64</th>\n",
       "      <td>e_lego_duplo</td>\n",
       "      <td>cylinder</td>\n",
       "      <td>above</td>\n",
       "      <td>0.0</td>\n",
       "      <td>0.0</td>\n",
       "      <td>0.06</td>\n",
       "    </tr>\n",
       "    <tr>\n",
       "      <th>65</th>\n",
       "      <td>f_lego_duplo</td>\n",
       "      <td>cylinder</td>\n",
       "      <td>above</td>\n",
       "      <td>0.0</td>\n",
       "      <td>0.0</td>\n",
       "      <td>0.06</td>\n",
       "    </tr>\n",
       "    <tr>\n",
       "      <th>66</th>\n",
       "      <td>rubiks_cube</td>\n",
       "      <td>box</td>\n",
       "      <td>above</td>\n",
       "      <td>0.0</td>\n",
       "      <td>0.0</td>\n",
       "      <td>0.06</td>\n",
       "    </tr>\n",
       "  </tbody>\n",
       "</table>\n",
       "<p>67 rows × 6 columns</p>\n",
       "</div>"
      ],
      "text/plain": [
       "               name     shape grasp_mode offset_x offset_y offset_z\n",
       "0         chips_can  cylinder      above      0.0      0.0     0.06\n",
       "1   master_chef_can       box      above      0.0      0.0     0.06\n",
       "2       cracker_box       box        pca     -0.1      0.0     0.01\n",
       "3           frontal   frontal    frontal  frontal  frontal  frontal\n",
       "4           frontal   frontal    frontal  frontal  frontal  frontal\n",
       "..              ...       ...        ...      ...      ...      ...\n",
       "62     c_lego_duplo  cylinder      above      0.0      0.0     0.06\n",
       "63     d_lego_duplo  cylinder      above      0.0      0.0     0.06\n",
       "64     e_lego_duplo  cylinder      above      0.0      0.0     0.06\n",
       "65     f_lego_duplo  cylinder      above      0.0      0.0     0.06\n",
       "66      rubiks_cube       box      above      0.0      0.0     0.06\n",
       "\n",
       "[67 rows x 6 columns]"
      ]
     },
     "execution_count": 9,
     "metadata": {},
     "output_type": "execute_result"
    }
   ],
   "source": [
    "grasping_dict"
   ]
  },
  {
   "cell_type": "code",
   "execution_count": null,
   "id": "22a4f50a",
   "metadata": {},
   "outputs": [],
   "source": []
  },
  {
   "cell_type": "markdown",
   "id": "732f2881",
   "metadata": {},
   "source": [
    "grasping_dict['name'] = grasping_dict['name'].map(lambda x: x[4:])\n",
    "grasping_dict"
   ]
  },
  {
   "cell_type": "markdown",
   "id": "e3194328",
   "metadata": {},
   "source": [
    "grasping_dict.to_csv(file_path+'/GraspingDict.csv', index=False)"
   ]
  },
  {
   "cell_type": "markdown",
   "id": "02e8a85d",
   "metadata": {},
   "source": [
    "df = pd.read_csv (file_path+'/GraspingDict.csv')\n"
   ]
  },
  {
   "cell_type": "code",
   "execution_count": 23,
   "id": "ca75278d",
   "metadata": {},
   "outputs": [
    {
     "name": "stderr",
     "output_type": "stream",
     "text": [
      "\u001b[33m[ WARN] [1717352397.702293317]: TF_REPEATED_DATA ignoring data with redundant timestamp for frame odom at time 1134.865000 according to authority /pose_integrator\u001b[0m\n",
      "\u001b[33m[ WARN] [1717352397.702362090]: TF_REPEATED_DATA ignoring data with redundant timestamp for frame odom at time 1134.865000 according to authority /pose_integrator\u001b[0m\n",
      "\u001b[33m[ WARN] [1717352397.702401801]: TF_REPEATED_DATA ignoring data with redundant timestamp for frame odom at time 1134.865000 according to authority /pose_integrator\u001b[0m\n",
      "\u001b[33m[ WARN] [1717352397.702436004]: TF_REPEATED_DATA ignoring data with redundant timestamp for frame odom at time 1134.865000 according to authority /pose_integrator\u001b[0m\n",
      "\u001b[33m[ WARN] [1717352397.702474211]: TF_REPEATED_DATA ignoring data with redundant timestamp for frame odom at time 1134.865000 according to authority /pose_integrator\u001b[0m\n",
      "\u001b[33m[ WARN] [1717352397.702503678]: TF_REPEATED_DATA ignoring data with redundant timestamp for frame odom at time 1134.865000 according to authority /pose_integrator\u001b[0m\n",
      "\u001b[33m[ WARN] [1717352402.589057128]: TF_REPEATED_DATA ignoring data with redundant timestamp for frame odom at time 1136.171000 according to authority /pose_integrator\u001b[0m\n",
      "\u001b[33m[ WARN] [1717352402.589108363]: TF_REPEATED_DATA ignoring data with redundant timestamp for frame odom at time 1136.171000 according to authority /pose_integrator\u001b[0m\n",
      "\u001b[33m[ WARN] [1717352402.589142516]: TF_REPEATED_DATA ignoring data with redundant timestamp for frame odom at time 1136.171000 according to authority /pose_integrator\u001b[0m\n",
      "\u001b[33m[ WARN] [1717352402.589200390]: TF_REPEATED_DATA ignoring data with redundant timestamp for frame odom at time 1136.171000 according to authority /pose_integrator\u001b[0m\n",
      "\u001b[33m[ WARN] [1717352402.589228043]: TF_REPEATED_DATA ignoring data with redundant timestamp for frame odom at time 1136.171000 according to authority /pose_integrator\u001b[0m\n",
      "\u001b[33m[ WARN] [1717352402.589255207]: TF_REPEATED_DATA ignoring data with redundant timestamp for frame odom at time 1136.171000 according to authority /pose_integrator\u001b[0m\n",
      "\u001b[33m[ WARN] [1717352406.438390060]: TF_REPEATED_DATA ignoring data with redundant timestamp for frame odom at time 1137.177000 according to authority /pose_integrator\u001b[0m\n",
      "\u001b[33m[ WARN] [1717352406.438447401]: TF_REPEATED_DATA ignoring data with redundant timestamp for frame odom at time 1137.177000 according to authority /pose_integrator\u001b[0m\n",
      "\u001b[33m[ WARN] [1717352406.438493833]: TF_REPEATED_DATA ignoring data with redundant timestamp for frame odom at time 1137.177000 according to authority /pose_integrator\u001b[0m\n",
      "\u001b[33m[ WARN] [1717352406.438528522]: TF_REPEATED_DATA ignoring data with redundant timestamp for frame odom at time 1137.177000 according to authority /pose_integrator\u001b[0m\n",
      "\u001b[33m[ WARN] [1717352406.438564273]: TF_REPEATED_DATA ignoring data with redundant timestamp for frame odom at time 1137.177000 according to authority /pose_integrator\u001b[0m\n",
      "\u001b[33m[ WARN] [1717352406.438603470]: TF_REPEATED_DATA ignoring data with redundant timestamp for frame odom at time 1137.177000 according to authority /pose_integrator\u001b[0m\n",
      "\u001b[33m[ WARN] [1717352411.578608592]: TF_REPEATED_DATA ignoring data with redundant timestamp for frame odom at time 1138.544000 according to authority /pose_integrator\u001b[0m\n",
      "\u001b[33m[ WARN] [1717352411.578681987]: TF_REPEATED_DATA ignoring data with redundant timestamp for frame odom at time 1138.544000 according to authority /pose_integrator\u001b[0m\n",
      "\u001b[33m[ WARN] [1717352411.578722889]: TF_REPEATED_DATA ignoring data with redundant timestamp for frame odom at time 1138.544000 according to authority /pose_integrator\u001b[0m\n",
      "\u001b[33m[ WARN] [1717352411.578755510]: TF_REPEATED_DATA ignoring data with redundant timestamp for frame odom at time 1138.544000 according to authority /pose_integrator\u001b[0m\n",
      "\u001b[33m[ WARN] [1717352411.578791438]: TF_REPEATED_DATA ignoring data with redundant timestamp for frame odom at time 1138.544000 according to authority /pose_integrator\u001b[0m\n",
      "\u001b[33m[ WARN] [1717352411.578834591]: TF_REPEATED_DATA ignoring data with redundant timestamp for frame odom at time 1138.544000 according to authority /pose_integrator\u001b[0m\n",
      "\u001b[33m[ WARN] [1717352430.753373713]: TF_REPEATED_DATA ignoring data with redundant timestamp for frame odom at time 1143.290000 according to authority /pose_integrator\u001b[0m\n",
      "\u001b[33m[ WARN] [1717352430.753448631]: TF_REPEATED_DATA ignoring data with redundant timestamp for frame odom at time 1143.290000 according to authority /pose_integrator\u001b[0m\n",
      "\u001b[33m[ WARN] [1717352430.753504500]: TF_REPEATED_DATA ignoring data with redundant timestamp for frame odom at time 1143.290000 according to authority /pose_integrator\u001b[0m\n",
      "\u001b[33m[ WARN] [1717352430.753562662]: TF_REPEATED_DATA ignoring data with redundant timestamp for frame odom at time 1143.290000 according to authority /pose_integrator\u001b[0m\n",
      "\u001b[33m[ WARN] [1717352430.753616893]: TF_REPEATED_DATA ignoring data with redundant timestamp for frame odom at time 1143.290000 according to authority /pose_integrator\u001b[0m\n",
      "\u001b[33m[ WARN] [1717352430.753672639]: TF_REPEATED_DATA ignoring data with redundant timestamp for frame odom at time 1143.290000 according to authority /pose_integrator\u001b[0m\n",
      "\u001b[33m[ WARN] [1717352652.811342994]: TF_REPEATED_DATA ignoring data with redundant timestamp for frame odom at time 1193.933000 according to authority /pose_integrator\u001b[0m\n",
      "\u001b[33m[ WARN] [1717352652.811407994]: TF_REPEATED_DATA ignoring data with redundant timestamp for frame odom at time 1193.933000 according to authority /pose_integrator\u001b[0m\n",
      "\u001b[33m[ WARN] [1717352652.811451559]: TF_REPEATED_DATA ignoring data with redundant timestamp for frame odom at time 1193.933000 according to authority /pose_integrator\u001b[0m\n",
      "\u001b[33m[ WARN] [1717352652.811492251]: TF_REPEATED_DATA ignoring data with redundant timestamp for frame odom at time 1193.933000 according to authority /pose_integrator\u001b[0m\n",
      "\u001b[33m[ WARN] [1717352652.811531803]: TF_REPEATED_DATA ignoring data with redundant timestamp for frame odom at time 1193.933000 according to authority /pose_integrator\u001b[0m\n",
      "\u001b[33m[ WARN] [1717352652.811580146]: TF_REPEATED_DATA ignoring data with redundant timestamp for frame odom at time 1193.933000 according to authority /pose_integrator\u001b[0m\n",
      "\u001b[33m[ WARN] [1717352681.694588819]: TF_REPEATED_DATA ignoring data with redundant timestamp for frame odom at time 1200.890000 according to authority /pose_integrator\u001b[0m\n",
      "\u001b[33m[ WARN] [1717352681.694663057]: TF_REPEATED_DATA ignoring data with redundant timestamp for frame odom at time 1200.890000 according to authority /pose_integrator\u001b[0m\n",
      "\u001b[33m[ WARN] [1717352681.694714172]: TF_REPEATED_DATA ignoring data with redundant timestamp for frame odom at time 1200.890000 according to authority /pose_integrator\u001b[0m\n",
      "\u001b[33m[ WARN] [1717352681.694766692]: TF_REPEATED_DATA ignoring data with redundant timestamp for frame odom at time 1200.890000 according to authority /pose_integrator\u001b[0m\n",
      "\u001b[33m[ WARN] [1717352681.694811000]: TF_REPEATED_DATA ignoring data with redundant timestamp for frame odom at time 1200.890000 according to authority /pose_integrator\u001b[0m\n",
      "\u001b[33m[ WARN] [1717352681.694870485]: TF_REPEATED_DATA ignoring data with redundant timestamp for frame odom at time 1200.890000 according to authority /pose_integrator\u001b[0m\n",
      "\u001b[33m[ WARN] [1717352694.914197746]: TF_REPEATED_DATA ignoring data with redundant timestamp for frame odom at time 1203.895000 according to authority /pose_integrator\u001b[0m\n",
      "\u001b[33m[ WARN] [1717352694.914267436]: TF_REPEATED_DATA ignoring data with redundant timestamp for frame odom at time 1203.895000 according to authority /pose_integrator\u001b[0m\n",
      "\u001b[33m[ WARN] [1717352694.914319192]: TF_REPEATED_DATA ignoring data with redundant timestamp for frame odom at time 1203.895000 according to authority /pose_integrator\u001b[0m\n",
      "\u001b[33m[ WARN] [1717352694.914369292]: TF_REPEATED_DATA ignoring data with redundant timestamp for frame odom at time 1203.895000 according to authority /pose_integrator\u001b[0m\n",
      "\u001b[33m[ WARN] [1717352694.914416465]: TF_REPEATED_DATA ignoring data with redundant timestamp for frame odom at time 1203.895000 according to authority /pose_integrator\u001b[0m\n",
      "\u001b[33m[ WARN] [1717352694.914458482]: TF_REPEATED_DATA ignoring data with redundant timestamp for frame odom at time 1203.895000 according to authority /pose_integrator\u001b[0m\n"
     ]
    },
    {
     "name": "stderr",
     "output_type": "stream",
     "text": [
      "\u001b[33m[ WARN] [1717352725.945836427]: TF_REPEATED_DATA ignoring data with redundant timestamp for frame odom at time 1211.159000 according to authority /pose_integrator\u001b[0m\n",
      "\u001b[33m[ WARN] [1717352725.945888117]: TF_REPEATED_DATA ignoring data with redundant timestamp for frame odom at time 1211.159000 according to authority /pose_integrator\u001b[0m\n",
      "\u001b[33m[ WARN] [1717352725.945926353]: TF_REPEATED_DATA ignoring data with redundant timestamp for frame odom at time 1211.159000 according to authority /pose_integrator\u001b[0m\n",
      "\u001b[33m[ WARN] [1717352725.945962597]: TF_REPEATED_DATA ignoring data with redundant timestamp for frame odom at time 1211.159000 according to authority /pose_integrator\u001b[0m\n",
      "\u001b[33m[ WARN] [1717352725.945997241]: TF_REPEATED_DATA ignoring data with redundant timestamp for frame odom at time 1211.159000 according to authority /pose_integrator\u001b[0m\n",
      "\u001b[33m[ WARN] [1717352725.946034234]: TF_REPEATED_DATA ignoring data with redundant timestamp for frame odom at time 1211.159000 according to authority /pose_integrator\u001b[0m\n",
      "\u001b[33m[ WARN] [1717352727.216396804]: TF_REPEATED_DATA ignoring data with redundant timestamp for frame odom at time 1211.501000 according to authority /pose_integrator\u001b[0m\n",
      "\u001b[33m[ WARN] [1717352727.216469203]: TF_REPEATED_DATA ignoring data with redundant timestamp for frame odom at time 1211.501000 according to authority /pose_integrator\u001b[0m\n",
      "\u001b[33m[ WARN] [1717352727.216513362]: TF_REPEATED_DATA ignoring data with redundant timestamp for frame odom at time 1211.501000 according to authority /pose_integrator\u001b[0m\n",
      "\u001b[33m[ WARN] [1717352727.216549846]: TF_REPEATED_DATA ignoring data with redundant timestamp for frame odom at time 1211.501000 according to authority /pose_integrator\u001b[0m\n",
      "\u001b[33m[ WARN] [1717352727.216579149]: TF_REPEATED_DATA ignoring data with redundant timestamp for frame odom at time 1211.501000 according to authority /pose_integrator\u001b[0m\n",
      "\u001b[33m[ WARN] [1717352727.216610861]: TF_REPEATED_DATA ignoring data with redundant timestamp for frame odom at time 1211.501000 according to authority /pose_integrator\u001b[0m\n",
      "\u001b[33m[ WARN] [1717352804.861874361]: TF_REPEATED_DATA ignoring data with redundant timestamp for frame odom at time 1230.305000 according to authority /pose_integrator\u001b[0m\n",
      "\u001b[33m[ WARN] [1717352804.861933836]: TF_REPEATED_DATA ignoring data with redundant timestamp for frame odom at time 1230.305000 according to authority /pose_integrator\u001b[0m\n",
      "\u001b[33m[ WARN] [1717352804.861968586]: TF_REPEATED_DATA ignoring data with redundant timestamp for frame odom at time 1230.305000 according to authority /pose_integrator\u001b[0m\n",
      "\u001b[33m[ WARN] [1717352804.861999714]: TF_REPEATED_DATA ignoring data with redundant timestamp for frame odom at time 1230.305000 according to authority /pose_integrator\u001b[0m\n",
      "\u001b[33m[ WARN] [1717352804.862029177]: TF_REPEATED_DATA ignoring data with redundant timestamp for frame odom at time 1230.305000 according to authority /pose_integrator\u001b[0m\n",
      "\u001b[33m[ WARN] [1717352804.862058820]: TF_REPEATED_DATA ignoring data with redundant timestamp for frame odom at time 1230.305000 according to authority /pose_integrator\u001b[0m\n",
      "\u001b[33m[ WARN] [1717352807.616788307]: TF_REPEATED_DATA ignoring data with redundant timestamp for frame odom at time 1230.965000 according to authority /pose_integrator\u001b[0m\n",
      "\u001b[33m[ WARN] [1717352807.616841217]: TF_REPEATED_DATA ignoring data with redundant timestamp for frame odom at time 1230.965000 according to authority /pose_integrator\u001b[0m\n",
      "\u001b[33m[ WARN] [1717352807.616881406]: TF_REPEATED_DATA ignoring data with redundant timestamp for frame odom at time 1230.965000 according to authority /pose_integrator\u001b[0m\n",
      "\u001b[33m[ WARN] [1717352807.616918485]: TF_REPEATED_DATA ignoring data with redundant timestamp for frame odom at time 1230.965000 according to authority /pose_integrator\u001b[0m\n",
      "\u001b[33m[ WARN] [1717352807.616954338]: TF_REPEATED_DATA ignoring data with redundant timestamp for frame odom at time 1230.965000 according to authority /pose_integrator\u001b[0m\n",
      "\u001b[33m[ WARN] [1717352807.616991623]: TF_REPEATED_DATA ignoring data with redundant timestamp for frame odom at time 1230.965000 according to authority /pose_integrator\u001b[0m\n",
      "\u001b[33m[ WARN] [1717352813.367938189]: TF_REPEATED_DATA ignoring data with redundant timestamp for frame odom at time 1232.437000 according to authority /pose_integrator\u001b[0m\n",
      "\u001b[33m[ WARN] [1717352813.367986709]: TF_REPEATED_DATA ignoring data with redundant timestamp for frame odom at time 1232.437000 according to authority /pose_integrator\u001b[0m\n",
      "\u001b[33m[ WARN] [1717352813.368017696]: TF_REPEATED_DATA ignoring data with redundant timestamp for frame odom at time 1232.437000 according to authority /pose_integrator\u001b[0m\n",
      "\u001b[33m[ WARN] [1717352813.368046289]: TF_REPEATED_DATA ignoring data with redundant timestamp for frame odom at time 1232.437000 according to authority /pose_integrator\u001b[0m\n",
      "\u001b[33m[ WARN] [1717352813.368074263]: TF_REPEATED_DATA ignoring data with redundant timestamp for frame odom at time 1232.437000 according to authority /pose_integrator\u001b[0m\n",
      "\u001b[33m[ WARN] [1717352813.368106022]: TF_REPEATED_DATA ignoring data with redundant timestamp for frame odom at time 1232.437000 according to authority /pose_integrator\u001b[0m\n",
      "\u001b[33m[ WARN] [1717352828.902944264]: TF_REPEATED_DATA ignoring data with redundant timestamp for frame odom at time 1236.267000 according to authority /pose_integrator\u001b[0m\n",
      "\u001b[33m[ WARN] [1717352828.903001873]: TF_REPEATED_DATA ignoring data with redundant timestamp for frame odom at time 1236.267000 according to authority /pose_integrator\u001b[0m\n",
      "\u001b[33m[ WARN] [1717352828.903045322]: TF_REPEATED_DATA ignoring data with redundant timestamp for frame odom at time 1236.267000 according to authority /pose_integrator\u001b[0m\n",
      "\u001b[33m[ WARN] [1717352828.903079172]: TF_REPEATED_DATA ignoring data with redundant timestamp for frame odom at time 1236.267000 according to authority /pose_integrator\u001b[0m\n",
      "\u001b[33m[ WARN] [1717352828.903124968]: TF_REPEATED_DATA ignoring data with redundant timestamp for frame odom at time 1236.267000 according to authority /pose_integrator\u001b[0m\n",
      "\u001b[33m[ WARN] [1717352828.903164626]: TF_REPEATED_DATA ignoring data with redundant timestamp for frame odom at time 1236.267000 according to authority /pose_integrator\u001b[0m\n",
      "\u001b[33m[ WARN] [1717352831.469382125]: TF_REPEATED_DATA ignoring data with redundant timestamp for frame odom at time 1236.899000 according to authority /pose_integrator\u001b[0m\n",
      "\u001b[33m[ WARN] [1717352831.469433063]: TF_REPEATED_DATA ignoring data with redundant timestamp for frame odom at time 1236.899000 according to authority /pose_integrator\u001b[0m\n",
      "\u001b[33m[ WARN] [1717352831.469475747]: TF_REPEATED_DATA ignoring data with redundant timestamp for frame odom at time 1236.899000 according to authority /pose_integrator\u001b[0m\n",
      "\u001b[33m[ WARN] [1717352831.469514259]: TF_REPEATED_DATA ignoring data with redundant timestamp for frame odom at time 1236.899000 according to authority /pose_integrator\u001b[0m\n",
      "\u001b[33m[ WARN] [1717352831.469546430]: TF_REPEATED_DATA ignoring data with redundant timestamp for frame odom at time 1236.899000 according to authority /pose_integrator\u001b[0m\n",
      "\u001b[33m[ WARN] [1717352831.469581544]: TF_REPEATED_DATA ignoring data with redundant timestamp for frame odom at time 1236.899000 according to authority /pose_integrator\u001b[0m\n",
      "\u001b[33m[ WARN] [1717352836.358343015]: TF_REPEATED_DATA ignoring data with redundant timestamp for frame odom at time 1238.079000 according to authority /pose_integrator\u001b[0m\n",
      "\u001b[33m[ WARN] [1717352836.358395139]: TF_REPEATED_DATA ignoring data with redundant timestamp for frame odom at time 1238.079000 according to authority /pose_integrator\u001b[0m\n",
      "\u001b[33m[ WARN] [1717352836.358428617]: TF_REPEATED_DATA ignoring data with redundant timestamp for frame odom at time 1238.079000 according to authority /pose_integrator\u001b[0m\n",
      "\u001b[33m[ WARN] [1717352836.358473725]: TF_REPEATED_DATA ignoring data with redundant timestamp for frame odom at time 1238.079000 according to authority /pose_integrator\u001b[0m\n",
      "\u001b[33m[ WARN] [1717352836.358510295]: TF_REPEATED_DATA ignoring data with redundant timestamp for frame odom at time 1238.079000 according to authority /pose_integrator\u001b[0m\n",
      "\u001b[33m[ WARN] [1717352836.358547415]: TF_REPEATED_DATA ignoring data with redundant timestamp for frame odom at time 1238.079000 according to authority /pose_integrator\u001b[0m\n"
     ]
    },
    {
     "name": "stderr",
     "output_type": "stream",
     "text": [
      "\u001b[33m[ WARN] [1717352851.604980172]: TF_REPEATED_DATA ignoring data with redundant timestamp for frame odom at time 1241.718000 according to authority /pose_integrator\u001b[0m\n",
      "\u001b[33m[ WARN] [1717352851.605033601]: TF_REPEATED_DATA ignoring data with redundant timestamp for frame odom at time 1241.718000 according to authority /pose_integrator\u001b[0m\n",
      "\u001b[33m[ WARN] [1717352851.605072390]: TF_REPEATED_DATA ignoring data with redundant timestamp for frame odom at time 1241.718000 according to authority /pose_integrator\u001b[0m\n",
      "\u001b[33m[ WARN] [1717352851.605105600]: TF_REPEATED_DATA ignoring data with redundant timestamp for frame odom at time 1241.718000 according to authority /pose_integrator\u001b[0m\n",
      "\u001b[33m[ WARN] [1717352851.605138137]: TF_REPEATED_DATA ignoring data with redundant timestamp for frame odom at time 1241.718000 according to authority /pose_integrator\u001b[0m\n",
      "\u001b[33m[ WARN] [1717352851.605169376]: TF_REPEATED_DATA ignoring data with redundant timestamp for frame odom at time 1241.718000 according to authority /pose_integrator\u001b[0m\n",
      "\u001b[33m[ WARN] [1717352863.844226168]: TF_REPEATED_DATA ignoring data with redundant timestamp for frame odom at time 1244.791000 according to authority /pose_integrator\u001b[0m\n",
      "\u001b[33m[ WARN] [1717352863.844302757]: TF_REPEATED_DATA ignoring data with redundant timestamp for frame odom at time 1244.791000 according to authority /pose_integrator\u001b[0m\n",
      "\u001b[33m[ WARN] [1717352863.844360606]: TF_REPEATED_DATA ignoring data with redundant timestamp for frame odom at time 1244.791000 according to authority /pose_integrator\u001b[0m\n",
      "\u001b[33m[ WARN] [1717352863.844412779]: TF_REPEATED_DATA ignoring data with redundant timestamp for frame odom at time 1244.791000 according to authority /pose_integrator\u001b[0m\n",
      "\u001b[33m[ WARN] [1717352863.844455727]: TF_REPEATED_DATA ignoring data with redundant timestamp for frame odom at time 1244.791000 according to authority /pose_integrator\u001b[0m\n",
      "\u001b[33m[ WARN] [1717352863.844495918]: TF_REPEATED_DATA ignoring data with redundant timestamp for frame odom at time 1244.791000 according to authority /pose_integrator\u001b[0m\n",
      "\u001b[33m[ WARN] [1717352879.421261771]: TF_REPEATED_DATA ignoring data with redundant timestamp for frame odom at time 1248.571000 according to authority /pose_integrator\u001b[0m\n",
      "\u001b[33m[ WARN] [1717352879.421315151]: TF_REPEATED_DATA ignoring data with redundant timestamp for frame odom at time 1248.571000 according to authority /pose_integrator\u001b[0m\n",
      "\u001b[33m[ WARN] [1717352879.421355877]: TF_REPEATED_DATA ignoring data with redundant timestamp for frame odom at time 1248.571000 according to authority /pose_integrator\u001b[0m\n",
      "\u001b[33m[ WARN] [1717352879.421394213]: TF_REPEATED_DATA ignoring data with redundant timestamp for frame odom at time 1248.571000 according to authority /pose_integrator\u001b[0m\n",
      "\u001b[33m[ WARN] [1717352879.421433689]: TF_REPEATED_DATA ignoring data with redundant timestamp for frame odom at time 1248.571000 according to authority /pose_integrator\u001b[0m\n",
      "\u001b[33m[ WARN] [1717352879.421475314]: TF_REPEATED_DATA ignoring data with redundant timestamp for frame odom at time 1248.571000 according to authority /pose_integrator\u001b[0m\n",
      "\u001b[33m[ WARN] [1717352880.914679638]: TF_REPEATED_DATA ignoring data with redundant timestamp for frame odom at time 1248.955000 according to authority /pose_integrator\u001b[0m\n",
      "\u001b[33m[ WARN] [1717352880.914741115]: TF_REPEATED_DATA ignoring data with redundant timestamp for frame odom at time 1248.955000 according to authority /pose_integrator\u001b[0m\n",
      "\u001b[33m[ WARN] [1717352880.914774198]: TF_REPEATED_DATA ignoring data with redundant timestamp for frame odom at time 1248.955000 according to authority /pose_integrator\u001b[0m\n",
      "\u001b[33m[ WARN] [1717352880.914804254]: TF_REPEATED_DATA ignoring data with redundant timestamp for frame odom at time 1248.955000 according to authority /pose_integrator\u001b[0m\n",
      "\u001b[33m[ WARN] [1717352880.914843237]: TF_REPEATED_DATA ignoring data with redundant timestamp for frame odom at time 1248.955000 according to authority /pose_integrator\u001b[0m\n",
      "\u001b[33m[ WARN] [1717352880.914882566]: TF_REPEATED_DATA ignoring data with redundant timestamp for frame odom at time 1248.955000 according to authority /pose_integrator\u001b[0m\n",
      "\u001b[33m[ WARN] [1717352890.856937648]: TF_REPEATED_DATA ignoring data with redundant timestamp for frame odom at time 1251.293000 according to authority /pose_integrator\u001b[0m\n",
      "\u001b[33m[ WARN] [1717352890.857002394]: TF_REPEATED_DATA ignoring data with redundant timestamp for frame odom at time 1251.293000 according to authority /pose_integrator\u001b[0m\n",
      "\u001b[33m[ WARN] [1717352890.857052749]: TF_REPEATED_DATA ignoring data with redundant timestamp for frame odom at time 1251.293000 according to authority /pose_integrator\u001b[0m\n",
      "\u001b[33m[ WARN] [1717352890.857101303]: TF_REPEATED_DATA ignoring data with redundant timestamp for frame odom at time 1251.293000 according to authority /pose_integrator\u001b[0m\n",
      "\u001b[33m[ WARN] [1717352890.857153154]: TF_REPEATED_DATA ignoring data with redundant timestamp for frame odom at time 1251.293000 according to authority /pose_integrator\u001b[0m\n",
      "\u001b[33m[ WARN] [1717352890.857194802]: TF_REPEATED_DATA ignoring data with redundant timestamp for frame odom at time 1251.293000 according to authority /pose_integrator\u001b[0m\n",
      "\u001b[33m[ WARN] [1717352891.714133399]: TF_REPEATED_DATA ignoring data with redundant timestamp for frame odom at time 1251.519000 according to authority /pose_integrator\u001b[0m\n",
      "\u001b[33m[ WARN] [1717352891.714181837]: TF_REPEATED_DATA ignoring data with redundant timestamp for frame odom at time 1251.519000 according to authority /pose_integrator\u001b[0m\n",
      "\u001b[33m[ WARN] [1717352891.714209445]: TF_REPEATED_DATA ignoring data with redundant timestamp for frame odom at time 1251.519000 according to authority /pose_integrator\u001b[0m\n",
      "\u001b[33m[ WARN] [1717352891.714233847]: TF_REPEATED_DATA ignoring data with redundant timestamp for frame odom at time 1251.519000 according to authority /pose_integrator\u001b[0m\n",
      "\u001b[33m[ WARN] [1717352891.714256679]: TF_REPEATED_DATA ignoring data with redundant timestamp for frame odom at time 1251.519000 according to authority /pose_integrator\u001b[0m\n",
      "\u001b[33m[ WARN] [1717352891.714284288]: TF_REPEATED_DATA ignoring data with redundant timestamp for frame odom at time 1251.519000 according to authority /pose_integrator\u001b[0m\n",
      "\u001b[33m[ WARN] [1717352959.633590493]: TF_REPEATED_DATA ignoring data with redundant timestamp for frame odom at time 1268.007000 according to authority /pose_integrator\u001b[0m\n",
      "\u001b[33m[ WARN] [1717352959.633644943]: TF_REPEATED_DATA ignoring data with redundant timestamp for frame odom at time 1268.007000 according to authority /pose_integrator\u001b[0m\n",
      "\u001b[33m[ WARN] [1717352959.633682338]: TF_REPEATED_DATA ignoring data with redundant timestamp for frame odom at time 1268.007000 according to authority /pose_integrator\u001b[0m\n",
      "\u001b[33m[ WARN] [1717352959.633715674]: TF_REPEATED_DATA ignoring data with redundant timestamp for frame odom at time 1268.007000 according to authority /pose_integrator\u001b[0m\n",
      "\u001b[33m[ WARN] [1717352959.633743423]: TF_REPEATED_DATA ignoring data with redundant timestamp for frame odom at time 1268.007000 according to authority /pose_integrator\u001b[0m\n",
      "\u001b[33m[ WARN] [1717352959.633770039]: TF_REPEATED_DATA ignoring data with redundant timestamp for frame odom at time 1268.007000 according to authority /pose_integrator\u001b[0m\n",
      "\u001b[33m[ WARN] [1717352973.098443884]: TF_REPEATED_DATA ignoring data with redundant timestamp for frame odom at time 1271.370000 according to authority /pose_integrator\u001b[0m\n",
      "\u001b[33m[ WARN] [1717352973.098489587]: TF_REPEATED_DATA ignoring data with redundant timestamp for frame odom at time 1271.370000 according to authority /pose_integrator\u001b[0m\n",
      "\u001b[33m[ WARN] [1717352973.098519909]: TF_REPEATED_DATA ignoring data with redundant timestamp for frame odom at time 1271.370000 according to authority /pose_integrator\u001b[0m\n",
      "\u001b[33m[ WARN] [1717352973.098548629]: TF_REPEATED_DATA ignoring data with redundant timestamp for frame odom at time 1271.370000 according to authority /pose_integrator\u001b[0m\n",
      "\u001b[33m[ WARN] [1717352973.098592603]: TF_REPEATED_DATA ignoring data with redundant timestamp for frame odom at time 1271.370000 according to authority /pose_integrator\u001b[0m\n",
      "\u001b[33m[ WARN] [1717352973.098620177]: TF_REPEATED_DATA ignoring data with redundant timestamp for frame odom at time 1271.370000 according to authority /pose_integrator\u001b[0m\n"
     ]
    },
    {
     "name": "stderr",
     "output_type": "stream",
     "text": [
      "\u001b[33m[ WARN] [1717352981.681266469]: TF_REPEATED_DATA ignoring data with redundant timestamp for frame odom at time 1273.437000 according to authority /pose_integrator\u001b[0m\n",
      "\u001b[33m[ WARN] [1717352981.681323901]: TF_REPEATED_DATA ignoring data with redundant timestamp for frame odom at time 1273.437000 according to authority /pose_integrator\u001b[0m\n",
      "\u001b[33m[ WARN] [1717352981.681366298]: TF_REPEATED_DATA ignoring data with redundant timestamp for frame odom at time 1273.437000 according to authority /pose_integrator\u001b[0m\n",
      "\u001b[33m[ WARN] [1717352981.681394724]: TF_REPEATED_DATA ignoring data with redundant timestamp for frame odom at time 1273.437000 according to authority /pose_integrator\u001b[0m\n",
      "\u001b[33m[ WARN] [1717352981.681420622]: TF_REPEATED_DATA ignoring data with redundant timestamp for frame odom at time 1273.437000 according to authority /pose_integrator\u001b[0m\n",
      "\u001b[33m[ WARN] [1717352981.681446420]: TF_REPEATED_DATA ignoring data with redundant timestamp for frame odom at time 1273.437000 according to authority /pose_integrator\u001b[0m\n",
      "\u001b[33m[ WARN] [1717353015.456989811]: TF_REPEATED_DATA ignoring data with redundant timestamp for frame odom at time 1281.797000 according to authority /pose_integrator\u001b[0m\n",
      "\u001b[33m[ WARN] [1717353015.457048158]: TF_REPEATED_DATA ignoring data with redundant timestamp for frame odom at time 1281.797000 according to authority /pose_integrator\u001b[0m\n",
      "\u001b[33m[ WARN] [1717353015.457088218]: TF_REPEATED_DATA ignoring data with redundant timestamp for frame odom at time 1281.797000 according to authority /pose_integrator\u001b[0m\n",
      "\u001b[33m[ WARN] [1717353015.457135605]: TF_REPEATED_DATA ignoring data with redundant timestamp for frame odom at time 1281.797000 according to authority /pose_integrator\u001b[0m\n",
      "\u001b[33m[ WARN] [1717353015.457182964]: TF_REPEATED_DATA ignoring data with redundant timestamp for frame odom at time 1281.797000 according to authority /pose_integrator\u001b[0m\n",
      "\u001b[33m[ WARN] [1717353015.457238440]: TF_REPEATED_DATA ignoring data with redundant timestamp for frame odom at time 1281.797000 according to authority /pose_integrator\u001b[0m\n",
      "\u001b[33m[ WARN] [1717353020.557885992]: TF_REPEATED_DATA ignoring data with redundant timestamp for frame odom at time 1283.153000 according to authority /pose_integrator\u001b[0m\n",
      "\u001b[33m[ WARN] [1717353020.557976349]: TF_REPEATED_DATA ignoring data with redundant timestamp for frame odom at time 1283.153000 according to authority /pose_integrator\u001b[0m\n",
      "\u001b[33m[ WARN] [1717353020.558065119]: TF_REPEATED_DATA ignoring data with redundant timestamp for frame odom at time 1283.153000 according to authority /pose_integrator\u001b[0m\n",
      "\u001b[33m[ WARN] [1717353020.558121950]: TF_REPEATED_DATA ignoring data with redundant timestamp for frame odom at time 1283.153000 according to authority /pose_integrator\u001b[0m\n",
      "\u001b[33m[ WARN] [1717353020.558176018]: TF_REPEATED_DATA ignoring data with redundant timestamp for frame odom at time 1283.153000 according to authority /pose_integrator\u001b[0m\n",
      "\u001b[33m[ WARN] [1717353020.558233614]: TF_REPEATED_DATA ignoring data with redundant timestamp for frame odom at time 1283.153000 according to authority /pose_integrator\u001b[0m\n",
      "\u001b[33m[ WARN] [1717353023.006588017]: TF_REPEATED_DATA ignoring data with redundant timestamp for frame odom at time 1283.728000 according to authority /pose_integrator\u001b[0m\n",
      "\u001b[33m[ WARN] [1717353023.008788956]: TF_REPEATED_DATA ignoring data with redundant timestamp for frame odom at time 1283.728000 according to authority /pose_integrator\u001b[0m\n",
      "\u001b[33m[ WARN] [1717353023.008855871]: TF_REPEATED_DATA ignoring data with redundant timestamp for frame odom at time 1283.728000 according to authority /pose_integrator\u001b[0m\n",
      "\u001b[33m[ WARN] [1717353023.008906143]: TF_REPEATED_DATA ignoring data with redundant timestamp for frame odom at time 1283.728000 according to authority /pose_integrator\u001b[0m\n",
      "\u001b[33m[ WARN] [1717353023.008949021]: TF_REPEATED_DATA ignoring data with redundant timestamp for frame odom at time 1283.728000 according to authority /pose_integrator\u001b[0m\n",
      "\u001b[33m[ WARN] [1717353023.008981987]: TF_REPEATED_DATA ignoring data with redundant timestamp for frame odom at time 1283.728000 according to authority /pose_integrator\u001b[0m\n",
      "\u001b[33m[ WARN] [1717353032.201695778]: TF_REPEATED_DATA ignoring data with redundant timestamp for frame odom at time 1285.647000 according to authority /pose_integrator\u001b[0m\n",
      "\u001b[33m[ WARN] [1717353032.201740517]: TF_REPEATED_DATA ignoring data with redundant timestamp for frame odom at time 1285.647000 according to authority /pose_integrator\u001b[0m\n",
      "\u001b[33m[ WARN] [1717353032.201773649]: TF_REPEATED_DATA ignoring data with redundant timestamp for frame odom at time 1285.647000 according to authority /pose_integrator\u001b[0m\n",
      "\u001b[33m[ WARN] [1717353032.201816750]: TF_REPEATED_DATA ignoring data with redundant timestamp for frame odom at time 1285.647000 according to authority /pose_integrator\u001b[0m\n",
      "\u001b[33m[ WARN] [1717353032.201848035]: TF_REPEATED_DATA ignoring data with redundant timestamp for frame odom at time 1285.647000 according to authority /pose_integrator\u001b[0m\n",
      "\u001b[33m[ WARN] [1717353032.201879678]: TF_REPEATED_DATA ignoring data with redundant timestamp for frame odom at time 1285.647000 according to authority /pose_integrator\u001b[0m\n",
      "\u001b[33m[ WARN] [1717353036.686753793]: TF_REPEATED_DATA ignoring data with redundant timestamp for frame odom at time 1286.741000 according to authority /pose_integrator\u001b[0m\n",
      "\u001b[33m[ WARN] [1717353036.686800597]: TF_REPEATED_DATA ignoring data with redundant timestamp for frame odom at time 1286.741000 according to authority /pose_integrator\u001b[0m\n",
      "\u001b[33m[ WARN] [1717353036.686831156]: TF_REPEATED_DATA ignoring data with redundant timestamp for frame odom at time 1286.741000 according to authority /pose_integrator\u001b[0m\n",
      "\u001b[33m[ WARN] [1717353036.686859471]: TF_REPEATED_DATA ignoring data with redundant timestamp for frame odom at time 1286.741000 according to authority /pose_integrator\u001b[0m\n",
      "\u001b[33m[ WARN] [1717353036.686901619]: TF_REPEATED_DATA ignoring data with redundant timestamp for frame odom at time 1286.741000 according to authority /pose_integrator\u001b[0m\n",
      "\u001b[33m[ WARN] [1717353036.686945016]: TF_REPEATED_DATA ignoring data with redundant timestamp for frame odom at time 1286.741000 according to authority /pose_integrator\u001b[0m\n",
      "\u001b[33m[ WARN] [1717353047.799152713]: TF_REPEATED_DATA ignoring data with redundant timestamp for frame odom at time 1289.062000 according to authority /pose_integrator\u001b[0m\n",
      "\u001b[33m[ WARN] [1717353047.799203959]: TF_REPEATED_DATA ignoring data with redundant timestamp for frame odom at time 1289.062000 according to authority /pose_integrator\u001b[0m\n",
      "\u001b[33m[ WARN] [1717353047.799232974]: TF_REPEATED_DATA ignoring data with redundant timestamp for frame odom at time 1289.062000 according to authority /pose_integrator\u001b[0m\n",
      "\u001b[33m[ WARN] [1717353047.799260832]: TF_REPEATED_DATA ignoring data with redundant timestamp for frame odom at time 1289.062000 according to authority /pose_integrator\u001b[0m\n",
      "\u001b[33m[ WARN] [1717353047.799292296]: TF_REPEATED_DATA ignoring data with redundant timestamp for frame odom at time 1289.062000 according to authority /pose_integrator\u001b[0m\n",
      "\u001b[33m[ WARN] [1717353047.799330180]: TF_REPEATED_DATA ignoring data with redundant timestamp for frame odom at time 1289.062000 according to authority /pose_integrator\u001b[0m\n",
      "\u001b[33m[ WARN] [1717353056.103130191]: TF_REPEATED_DATA ignoring data with redundant timestamp for frame odom at time 1290.933000 according to authority /pose_integrator\u001b[0m\n",
      "\u001b[33m[ WARN] [1717353056.103184097]: TF_REPEATED_DATA ignoring data with redundant timestamp for frame odom at time 1290.933000 according to authority /pose_integrator\u001b[0m\n",
      "\u001b[33m[ WARN] [1717353056.103218711]: TF_REPEATED_DATA ignoring data with redundant timestamp for frame odom at time 1290.933000 according to authority /pose_integrator\u001b[0m\n",
      "\u001b[33m[ WARN] [1717353056.103249987]: TF_REPEATED_DATA ignoring data with redundant timestamp for frame odom at time 1290.933000 according to authority /pose_integrator\u001b[0m\n",
      "\u001b[33m[ WARN] [1717353056.103278824]: TF_REPEATED_DATA ignoring data with redundant timestamp for frame odom at time 1290.933000 according to authority /pose_integrator\u001b[0m\n",
      "\u001b[33m[ WARN] [1717353056.103309486]: TF_REPEATED_DATA ignoring data with redundant timestamp for frame odom at time 1290.933000 according to authority /pose_integrator\u001b[0m\n"
     ]
    },
    {
     "name": "stderr",
     "output_type": "stream",
     "text": [
      "\u001b[33m[ WARN] [1717353057.342013130]: TF_REPEATED_DATA ignoring data with redundant timestamp for frame odom at time 1291.225000 according to authority /pose_integrator\u001b[0m\n",
      "\u001b[33m[ WARN] [1717353057.342072846]: TF_REPEATED_DATA ignoring data with redundant timestamp for frame odom at time 1291.225000 according to authority /pose_integrator\u001b[0m\n",
      "\u001b[33m[ WARN] [1717353057.342113971]: TF_REPEATED_DATA ignoring data with redundant timestamp for frame odom at time 1291.225000 according to authority /pose_integrator\u001b[0m\n",
      "\u001b[33m[ WARN] [1717353057.342174445]: TF_REPEATED_DATA ignoring data with redundant timestamp for frame odom at time 1291.225000 according to authority /pose_integrator\u001b[0m\n",
      "\u001b[33m[ WARN] [1717353057.342223870]: TF_REPEATED_DATA ignoring data with redundant timestamp for frame odom at time 1291.225000 according to authority /pose_integrator\u001b[0m\n",
      "\u001b[33m[ WARN] [1717353057.342267730]: TF_REPEATED_DATA ignoring data with redundant timestamp for frame odom at time 1291.225000 according to authority /pose_integrator\u001b[0m\n",
      "\u001b[33m[ WARN] [1717353060.210831541]: TF_REPEATED_DATA ignoring data with redundant timestamp for frame odom at time 1291.826000 according to authority /pose_integrator\u001b[0m\n",
      "\u001b[33m[ WARN] [1717353060.210896367]: TF_REPEATED_DATA ignoring data with redundant timestamp for frame odom at time 1291.826000 according to authority /pose_integrator\u001b[0m\n",
      "\u001b[33m[ WARN] [1717353060.210935599]: TF_REPEATED_DATA ignoring data with redundant timestamp for frame odom at time 1291.826000 according to authority /pose_integrator\u001b[0m\n",
      "\u001b[33m[ WARN] [1717353060.210971428]: TF_REPEATED_DATA ignoring data with redundant timestamp for frame odom at time 1291.826000 according to authority /pose_integrator\u001b[0m\n",
      "\u001b[33m[ WARN] [1717353060.211006450]: TF_REPEATED_DATA ignoring data with redundant timestamp for frame odom at time 1291.826000 according to authority /pose_integrator\u001b[0m\n",
      "\u001b[33m[ WARN] [1717353060.211039471]: TF_REPEATED_DATA ignoring data with redundant timestamp for frame odom at time 1291.826000 according to authority /pose_integrator\u001b[0m\n",
      "\u001b[33m[ WARN] [1717353061.163726606]: TF_REPEATED_DATA ignoring data with redundant timestamp for frame odom at time 1292.028000 according to authority /pose_integrator\u001b[0m\n",
      "\u001b[33m[ WARN] [1717353061.163778558]: TF_REPEATED_DATA ignoring data with redundant timestamp for frame odom at time 1292.028000 according to authority /pose_integrator\u001b[0m\n",
      "\u001b[33m[ WARN] [1717353061.163816270]: TF_REPEATED_DATA ignoring data with redundant timestamp for frame odom at time 1292.028000 according to authority /pose_integrator\u001b[0m\n",
      "\u001b[33m[ WARN] [1717353061.163868366]: TF_REPEATED_DATA ignoring data with redundant timestamp for frame odom at time 1292.028000 according to authority /pose_integrator\u001b[0m\n",
      "\u001b[33m[ WARN] [1717353061.163913358]: TF_REPEATED_DATA ignoring data with redundant timestamp for frame odom at time 1292.028000 according to authority /pose_integrator\u001b[0m\n",
      "\u001b[33m[ WARN] [1717353061.163959499]: TF_REPEATED_DATA ignoring data with redundant timestamp for frame odom at time 1292.028000 according to authority /pose_integrator\u001b[0m\n",
      "\u001b[33m[ WARN] [1717353062.392657485]: TF_REPEATED_DATA ignoring data with redundant timestamp for frame odom at time 1292.353000 according to authority /pose_integrator\u001b[0m\n",
      "\u001b[33m[ WARN] [1717353062.392713992]: TF_REPEATED_DATA ignoring data with redundant timestamp for frame odom at time 1292.353000 according to authority /pose_integrator\u001b[0m\n",
      "\u001b[33m[ WARN] [1717353062.392748665]: TF_REPEATED_DATA ignoring data with redundant timestamp for frame odom at time 1292.353000 according to authority /pose_integrator\u001b[0m\n",
      "\u001b[33m[ WARN] [1717353062.392783283]: TF_REPEATED_DATA ignoring data with redundant timestamp for frame odom at time 1292.353000 according to authority /pose_integrator\u001b[0m\n",
      "\u001b[33m[ WARN] [1717353062.392811463]: TF_REPEATED_DATA ignoring data with redundant timestamp for frame odom at time 1292.353000 according to authority /pose_integrator\u001b[0m\n",
      "\u001b[33m[ WARN] [1717353062.392838324]: TF_REPEATED_DATA ignoring data with redundant timestamp for frame odom at time 1292.353000 according to authority /pose_integrator\u001b[0m\n",
      "\u001b[33m[ WARN] [1717353064.217170492]: TF_REPEATED_DATA ignoring data with redundant timestamp for frame odom at time 1292.754000 according to authority /pose_integrator\u001b[0m\n",
      "\u001b[33m[ WARN] [1717353064.217217257]: TF_REPEATED_DATA ignoring data with redundant timestamp for frame odom at time 1292.754000 according to authority /pose_integrator\u001b[0m\n",
      "\u001b[33m[ WARN] [1717353064.217245590]: TF_REPEATED_DATA ignoring data with redundant timestamp for frame odom at time 1292.754000 according to authority /pose_integrator\u001b[0m\n",
      "\u001b[33m[ WARN] [1717353064.217276990]: TF_REPEATED_DATA ignoring data with redundant timestamp for frame odom at time 1292.754000 according to authority /pose_integrator\u001b[0m\n",
      "\u001b[33m[ WARN] [1717353064.217308800]: TF_REPEATED_DATA ignoring data with redundant timestamp for frame odom at time 1292.754000 according to authority /pose_integrator\u001b[0m\n",
      "\u001b[33m[ WARN] [1717353064.217340043]: TF_REPEATED_DATA ignoring data with redundant timestamp for frame odom at time 1292.754000 according to authority /pose_integrator\u001b[0m\n",
      "\u001b[33m[ WARN] [1717353072.632563295]: TF_REPEATED_DATA ignoring data with redundant timestamp for frame odom at time 1294.661000 according to authority /pose_integrator\u001b[0m\n",
      "\u001b[33m[ WARN] [1717353072.632613873]: TF_REPEATED_DATA ignoring data with redundant timestamp for frame odom at time 1294.661000 according to authority /pose_integrator\u001b[0m\n",
      "\u001b[33m[ WARN] [1717353072.632640429]: TF_REPEATED_DATA ignoring data with redundant timestamp for frame odom at time 1294.661000 according to authority /pose_integrator\u001b[0m\n",
      "\u001b[33m[ WARN] [1717353072.632665234]: TF_REPEATED_DATA ignoring data with redundant timestamp for frame odom at time 1294.661000 according to authority /pose_integrator\u001b[0m\n",
      "\u001b[33m[ WARN] [1717353072.632688539]: TF_REPEATED_DATA ignoring data with redundant timestamp for frame odom at time 1294.661000 according to authority /pose_integrator\u001b[0m\n",
      "\u001b[33m[ WARN] [1717353072.632712996]: TF_REPEATED_DATA ignoring data with redundant timestamp for frame odom at time 1294.661000 according to authority /pose_integrator\u001b[0m\n",
      "\u001b[33m[ WARN] [1717353081.017351169]: TF_REPEATED_DATA ignoring data with redundant timestamp for frame odom at time 1296.416000 according to authority /pose_integrator\u001b[0m\n",
      "\u001b[33m[ WARN] [1717353081.017410122]: TF_REPEATED_DATA ignoring data with redundant timestamp for frame odom at time 1296.416000 according to authority /pose_integrator\u001b[0m\n",
      "\u001b[33m[ WARN] [1717353081.017441937]: TF_REPEATED_DATA ignoring data with redundant timestamp for frame odom at time 1296.416000 according to authority /pose_integrator\u001b[0m\n",
      "\u001b[33m[ WARN] [1717353081.017470265]: TF_REPEATED_DATA ignoring data with redundant timestamp for frame odom at time 1296.416000 according to authority /pose_integrator\u001b[0m\n",
      "\u001b[33m[ WARN] [1717353081.017496669]: TF_REPEATED_DATA ignoring data with redundant timestamp for frame odom at time 1296.416000 according to authority /pose_integrator\u001b[0m\n",
      "\u001b[33m[ WARN] [1717353081.017522217]: TF_REPEATED_DATA ignoring data with redundant timestamp for frame odom at time 1296.416000 according to authority /pose_integrator\u001b[0m\n",
      "\u001b[33m[ WARN] [1717353084.010346685]: TF_REPEATED_DATA ignoring data with redundant timestamp for frame odom at time 1297.095000 according to authority /pose_integrator\u001b[0m\n",
      "\u001b[33m[ WARN] [1717353084.010400826]: TF_REPEATED_DATA ignoring data with redundant timestamp for frame odom at time 1297.095000 according to authority /pose_integrator\u001b[0m\n",
      "\u001b[33m[ WARN] [1717353084.010445338]: TF_REPEATED_DATA ignoring data with redundant timestamp for frame odom at time 1297.095000 according to authority /pose_integrator\u001b[0m\n",
      "\u001b[33m[ WARN] [1717353084.010488657]: TF_REPEATED_DATA ignoring data with redundant timestamp for frame odom at time 1297.095000 according to authority /pose_integrator\u001b[0m\n",
      "\u001b[33m[ WARN] [1717353084.010532346]: TF_REPEATED_DATA ignoring data with redundant timestamp for frame odom at time 1297.095000 according to authority /pose_integrator\u001b[0m\n",
      "\u001b[33m[ WARN] [1717353084.010565919]: TF_REPEATED_DATA ignoring data with redundant timestamp for frame odom at time 1297.095000 according to authority /pose_integrator\u001b[0m\n"
     ]
    },
    {
     "name": "stderr",
     "output_type": "stream",
     "text": [
      "\u001b[33m[ WARN] [1717353090.679950855]: TF_REPEATED_DATA ignoring data with redundant timestamp for frame odom at time 1298.460000 according to authority /pose_integrator\u001b[0m\n",
      "\u001b[33m[ WARN] [1717353090.680006802]: TF_REPEATED_DATA ignoring data with redundant timestamp for frame odom at time 1298.460000 according to authority /pose_integrator\u001b[0m\n",
      "\u001b[33m[ WARN] [1717353090.680043682]: TF_REPEATED_DATA ignoring data with redundant timestamp for frame odom at time 1298.460000 according to authority /pose_integrator\u001b[0m\n",
      "\u001b[33m[ WARN] [1717353090.680078832]: TF_REPEATED_DATA ignoring data with redundant timestamp for frame odom at time 1298.460000 according to authority /pose_integrator\u001b[0m\n",
      "\u001b[33m[ WARN] [1717353090.680113693]: TF_REPEATED_DATA ignoring data with redundant timestamp for frame odom at time 1298.460000 according to authority /pose_integrator\u001b[0m\n",
      "\u001b[33m[ WARN] [1717353090.680147728]: TF_REPEATED_DATA ignoring data with redundant timestamp for frame odom at time 1298.460000 according to authority /pose_integrator\u001b[0m\n",
      "\u001b[33m[ WARN] [1717353091.715083003]: TF_REPEATED_DATA ignoring data with redundant timestamp for frame odom at time 1298.671000 according to authority /pose_integrator\u001b[0m\n",
      "\u001b[33m[ WARN] [1717353091.715147952]: TF_REPEATED_DATA ignoring data with redundant timestamp for frame odom at time 1298.671000 according to authority /pose_integrator\u001b[0m\n",
      "\u001b[33m[ WARN] [1717353091.715214154]: TF_REPEATED_DATA ignoring data with redundant timestamp for frame odom at time 1298.671000 according to authority /pose_integrator\u001b[0m\n",
      "\u001b[33m[ WARN] [1717353091.715265824]: TF_REPEATED_DATA ignoring data with redundant timestamp for frame odom at time 1298.671000 according to authority /pose_integrator\u001b[0m\n",
      "\u001b[33m[ WARN] [1717353091.715297212]: TF_REPEATED_DATA ignoring data with redundant timestamp for frame odom at time 1298.671000 according to authority /pose_integrator\u001b[0m\n",
      "\u001b[33m[ WARN] [1717353091.715320571]: TF_REPEATED_DATA ignoring data with redundant timestamp for frame odom at time 1298.671000 according to authority /pose_integrator\u001b[0m\n",
      "\u001b[33m[ WARN] [1717353093.012473282]: TF_REPEATED_DATA ignoring data with redundant timestamp for frame odom at time 1298.952000 according to authority /pose_integrator\u001b[0m\n",
      "\u001b[33m[ WARN] [1717353093.012541953]: TF_REPEATED_DATA ignoring data with redundant timestamp for frame odom at time 1298.952000 according to authority /pose_integrator\u001b[0m\n",
      "\u001b[33m[ WARN] [1717353093.012586904]: TF_REPEATED_DATA ignoring data with redundant timestamp for frame odom at time 1298.952000 according to authority /pose_integrator\u001b[0m\n",
      "\u001b[33m[ WARN] [1717353093.012636749]: TF_REPEATED_DATA ignoring data with redundant timestamp for frame odom at time 1298.952000 according to authority /pose_integrator\u001b[0m\n",
      "\u001b[33m[ WARN] [1717353093.012686138]: TF_REPEATED_DATA ignoring data with redundant timestamp for frame odom at time 1298.952000 according to authority /pose_integrator\u001b[0m\n",
      "\u001b[33m[ WARN] [1717353093.012722312]: TF_REPEATED_DATA ignoring data with redundant timestamp for frame odom at time 1298.952000 according to authority /pose_integrator\u001b[0m\n",
      "\u001b[33m[ WARN] [1717353103.358461123]: TF_REPEATED_DATA ignoring data with redundant timestamp for frame odom at time 1301.163000 according to authority /pose_integrator\u001b[0m\n",
      "\u001b[33m[ WARN] [1717353103.358512704]: TF_REPEATED_DATA ignoring data with redundant timestamp for frame odom at time 1301.163000 according to authority /pose_integrator\u001b[0m\n",
      "\u001b[33m[ WARN] [1717353103.358546771]: TF_REPEATED_DATA ignoring data with redundant timestamp for frame odom at time 1301.163000 according to authority /pose_integrator\u001b[0m\n",
      "\u001b[33m[ WARN] [1717353103.358585116]: TF_REPEATED_DATA ignoring data with redundant timestamp for frame odom at time 1301.163000 according to authority /pose_integrator\u001b[0m\n",
      "\u001b[33m[ WARN] [1717353103.358630214]: TF_REPEATED_DATA ignoring data with redundant timestamp for frame odom at time 1301.163000 according to authority /pose_integrator\u001b[0m\n",
      "\u001b[33m[ WARN] [1717353103.358692839]: TF_REPEATED_DATA ignoring data with redundant timestamp for frame odom at time 1301.163000 according to authority /pose_integrator\u001b[0m\n",
      "\u001b[33m[ WARN] [1717353104.328647068]: TF_REPEATED_DATA ignoring data with redundant timestamp for frame odom at time 1301.398000 according to authority /pose_integrator\u001b[0m\n",
      "\u001b[33m[ WARN] [1717353104.328701640]: TF_REPEATED_DATA ignoring data with redundant timestamp for frame odom at time 1301.398000 according to authority /pose_integrator\u001b[0m\n",
      "\u001b[33m[ WARN] [1717353104.328741491]: TF_REPEATED_DATA ignoring data with redundant timestamp for frame odom at time 1301.398000 according to authority /pose_integrator\u001b[0m\n",
      "\u001b[33m[ WARN] [1717353104.328771710]: TF_REPEATED_DATA ignoring data with redundant timestamp for frame odom at time 1301.398000 according to authority /pose_integrator\u001b[0m\n",
      "\u001b[33m[ WARN] [1717353104.328804946]: TF_REPEATED_DATA ignoring data with redundant timestamp for frame odom at time 1301.398000 according to authority /pose_integrator\u001b[0m\n",
      "\u001b[33m[ WARN] [1717353104.328834064]: TF_REPEATED_DATA ignoring data with redundant timestamp for frame odom at time 1301.398000 according to authority /pose_integrator\u001b[0m\n",
      "\u001b[33m[ WARN] [1717353105.043970410]: TF_REPEATED_DATA ignoring data with redundant timestamp for frame odom at time 1301.590000 according to authority /pose_integrator\u001b[0m\n",
      "\u001b[33m[ WARN] [1717353105.044030838]: TF_REPEATED_DATA ignoring data with redundant timestamp for frame odom at time 1301.590000 according to authority /pose_integrator\u001b[0m\n",
      "\u001b[33m[ WARN] [1717353105.044067368]: TF_REPEATED_DATA ignoring data with redundant timestamp for frame odom at time 1301.590000 according to authority /pose_integrator\u001b[0m\n",
      "\u001b[33m[ WARN] [1717353105.044099793]: TF_REPEATED_DATA ignoring data with redundant timestamp for frame odom at time 1301.590000 according to authority /pose_integrator\u001b[0m\n",
      "\u001b[33m[ WARN] [1717353105.044131675]: TF_REPEATED_DATA ignoring data with redundant timestamp for frame odom at time 1301.590000 according to authority /pose_integrator\u001b[0m\n",
      "\u001b[33m[ WARN] [1717353105.044163110]: TF_REPEATED_DATA ignoring data with redundant timestamp for frame odom at time 1301.590000 according to authority /pose_integrator\u001b[0m\n",
      "\u001b[33m[ WARN] [1717353114.285867991]: TF_REPEATED_DATA ignoring data with redundant timestamp for frame odom at time 1303.776000 according to authority /pose_integrator\u001b[0m\n",
      "\u001b[33m[ WARN] [1717353114.285913181]: TF_REPEATED_DATA ignoring data with redundant timestamp for frame odom at time 1303.776000 according to authority /pose_integrator\u001b[0m\n",
      "\u001b[33m[ WARN] [1717353114.285950580]: TF_REPEATED_DATA ignoring data with redundant timestamp for frame odom at time 1303.776000 according to authority /pose_integrator\u001b[0m\n",
      "\u001b[33m[ WARN] [1717353114.285977797]: TF_REPEATED_DATA ignoring data with redundant timestamp for frame odom at time 1303.776000 according to authority /pose_integrator\u001b[0m\n",
      "\u001b[33m[ WARN] [1717353114.286005056]: TF_REPEATED_DATA ignoring data with redundant timestamp for frame odom at time 1303.776000 according to authority /pose_integrator\u001b[0m\n",
      "\u001b[33m[ WARN] [1717353114.286032973]: TF_REPEATED_DATA ignoring data with redundant timestamp for frame odom at time 1303.776000 according to authority /pose_integrator\u001b[0m\n",
      "\u001b[33m[ WARN] [1717353124.897450055]: TF_REPEATED_DATA ignoring data with redundant timestamp for frame odom at time 1306.338000 according to authority /pose_integrator\u001b[0m\n",
      "\u001b[33m[ WARN] [1717353124.897522019]: TF_REPEATED_DATA ignoring data with redundant timestamp for frame odom at time 1306.338000 according to authority /pose_integrator\u001b[0m\n",
      "\u001b[33m[ WARN] [1717353124.897561584]: TF_REPEATED_DATA ignoring data with redundant timestamp for frame odom at time 1306.338000 according to authority /pose_integrator\u001b[0m\n",
      "\u001b[33m[ WARN] [1717353124.897597636]: TF_REPEATED_DATA ignoring data with redundant timestamp for frame odom at time 1306.338000 according to authority /pose_integrator\u001b[0m\n",
      "\u001b[33m[ WARN] [1717353124.897630690]: TF_REPEATED_DATA ignoring data with redundant timestamp for frame odom at time 1306.338000 according to authority /pose_integrator\u001b[0m\n",
      "\u001b[33m[ WARN] [1717353124.897656978]: TF_REPEATED_DATA ignoring data with redundant timestamp for frame odom at time 1306.338000 according to authority /pose_integrator\u001b[0m\n"
     ]
    },
    {
     "name": "stderr",
     "output_type": "stream",
     "text": [
      "\u001b[33m[ WARN] [1717353126.933051700]: TF_REPEATED_DATA ignoring data with redundant timestamp for frame odom at time 1306.881000 according to authority /pose_integrator\u001b[0m\n",
      "\u001b[33m[ WARN] [1717353126.933103022]: TF_REPEATED_DATA ignoring data with redundant timestamp for frame odom at time 1306.881000 according to authority /pose_integrator\u001b[0m\n",
      "\u001b[33m[ WARN] [1717353126.933139037]: TF_REPEATED_DATA ignoring data with redundant timestamp for frame odom at time 1306.881000 according to authority /pose_integrator\u001b[0m\n",
      "\u001b[33m[ WARN] [1717353126.933172873]: TF_REPEATED_DATA ignoring data with redundant timestamp for frame odom at time 1306.881000 according to authority /pose_integrator\u001b[0m\n",
      "\u001b[33m[ WARN] [1717353126.933211112]: TF_REPEATED_DATA ignoring data with redundant timestamp for frame odom at time 1306.881000 according to authority /pose_integrator\u001b[0m\n",
      "\u001b[33m[ WARN] [1717353126.933249109]: TF_REPEATED_DATA ignoring data with redundant timestamp for frame odom at time 1306.881000 according to authority /pose_integrator\u001b[0m\n",
      "\u001b[33m[ WARN] [1717353143.945456127]: TF_REPEATED_DATA ignoring data with redundant timestamp for frame odom at time 1311.119000 according to authority /pose_integrator\u001b[0m\n",
      "\u001b[33m[ WARN] [1717353143.945523473]: TF_REPEATED_DATA ignoring data with redundant timestamp for frame odom at time 1311.119000 according to authority /pose_integrator\u001b[0m\n",
      "\u001b[33m[ WARN] [1717353143.945566150]: TF_REPEATED_DATA ignoring data with redundant timestamp for frame odom at time 1311.119000 according to authority /pose_integrator\u001b[0m\n",
      "\u001b[33m[ WARN] [1717353143.945612338]: TF_REPEATED_DATA ignoring data with redundant timestamp for frame odom at time 1311.119000 according to authority /pose_integrator\u001b[0m\n",
      "\u001b[33m[ WARN] [1717353143.945650515]: TF_REPEATED_DATA ignoring data with redundant timestamp for frame odom at time 1311.119000 according to authority /pose_integrator\u001b[0m\n",
      "\u001b[33m[ WARN] [1717353143.945681622]: TF_REPEATED_DATA ignoring data with redundant timestamp for frame odom at time 1311.119000 according to authority /pose_integrator\u001b[0m\n",
      "\u001b[33m[ WARN] [1717353147.225117939]: TF_REPEATED_DATA ignoring data with redundant timestamp for frame odom at time 1312.000000 according to authority /pose_integrator\u001b[0m\n",
      "\u001b[33m[ WARN] [1717353147.225175126]: TF_REPEATED_DATA ignoring data with redundant timestamp for frame odom at time 1312.000000 according to authority /pose_integrator\u001b[0m\n",
      "\u001b[33m[ WARN] [1717353147.225225306]: TF_REPEATED_DATA ignoring data with redundant timestamp for frame odom at time 1312.000000 according to authority /pose_integrator\u001b[0m\n",
      "\u001b[33m[ WARN] [1717353147.225271306]: TF_REPEATED_DATA ignoring data with redundant timestamp for frame odom at time 1312.000000 according to authority /pose_integrator\u001b[0m\n",
      "\u001b[33m[ WARN] [1717353147.225309692]: TF_REPEATED_DATA ignoring data with redundant timestamp for frame odom at time 1312.000000 according to authority /pose_integrator\u001b[0m\n",
      "\u001b[33m[ WARN] [1717353147.225351483]: TF_REPEATED_DATA ignoring data with redundant timestamp for frame odom at time 1312.000000 according to authority /pose_integrator\u001b[0m\n",
      "\u001b[33m[ WARN] [1717353151.887679409]: TF_REPEATED_DATA ignoring data with redundant timestamp for frame odom at time 1313.335000 according to authority /pose_integrator\u001b[0m\n",
      "\u001b[33m[ WARN] [1717353151.887732259]: TF_REPEATED_DATA ignoring data with redundant timestamp for frame odom at time 1313.335000 according to authority /pose_integrator\u001b[0m\n",
      "\u001b[33m[ WARN] [1717353151.887788675]: TF_REPEATED_DATA ignoring data with redundant timestamp for frame odom at time 1313.335000 according to authority /pose_integrator\u001b[0m\n",
      "\u001b[33m[ WARN] [1717353151.887852189]: TF_REPEATED_DATA ignoring data with redundant timestamp for frame odom at time 1313.335000 according to authority /pose_integrator\u001b[0m\n",
      "\u001b[33m[ WARN] [1717353151.887905335]: TF_REPEATED_DATA ignoring data with redundant timestamp for frame odom at time 1313.335000 according to authority /pose_integrator\u001b[0m\n",
      "\u001b[33m[ WARN] [1717353151.887951598]: TF_REPEATED_DATA ignoring data with redundant timestamp for frame odom at time 1313.335000 according to authority /pose_integrator\u001b[0m\n",
      "\u001b[33m[ WARN] [1717353155.053668221]: TF_REPEATED_DATA ignoring data with redundant timestamp for frame odom at time 1314.188000 according to authority /pose_integrator\u001b[0m\n",
      "\u001b[33m[ WARN] [1717353155.053742979]: TF_REPEATED_DATA ignoring data with redundant timestamp for frame odom at time 1314.188000 according to authority /pose_integrator\u001b[0m\n",
      "\u001b[33m[ WARN] [1717353155.053799205]: TF_REPEATED_DATA ignoring data with redundant timestamp for frame odom at time 1314.188000 according to authority /pose_integrator\u001b[0m\n",
      "\u001b[33m[ WARN] [1717353155.053839788]: TF_REPEATED_DATA ignoring data with redundant timestamp for frame odom at time 1314.188000 according to authority /pose_integrator\u001b[0m\n",
      "\u001b[33m[ WARN] [1717353155.053877584]: TF_REPEATED_DATA ignoring data with redundant timestamp for frame odom at time 1314.188000 according to authority /pose_integrator\u001b[0m\n",
      "\u001b[33m[ WARN] [1717353155.053915788]: TF_REPEATED_DATA ignoring data with redundant timestamp for frame odom at time 1314.188000 according to authority /pose_integrator\u001b[0m\n",
      "\u001b[33m[ WARN] [1717353156.101762265]: TF_REPEATED_DATA ignoring data with redundant timestamp for frame odom at time 1314.486000 according to authority /pose_integrator\u001b[0m\n",
      "\u001b[33m[ WARN] [1717353156.101820810]: TF_REPEATED_DATA ignoring data with redundant timestamp for frame odom at time 1314.486000 according to authority /pose_integrator\u001b[0m\n",
      "\u001b[33m[ WARN] [1717353156.101853840]: TF_REPEATED_DATA ignoring data with redundant timestamp for frame odom at time 1314.486000 according to authority /pose_integrator\u001b[0m\n",
      "\u001b[33m[ WARN] [1717353156.101887590]: TF_REPEATED_DATA ignoring data with redundant timestamp for frame odom at time 1314.486000 according to authority /pose_integrator\u001b[0m\n",
      "\u001b[33m[ WARN] [1717353156.101922229]: TF_REPEATED_DATA ignoring data with redundant timestamp for frame odom at time 1314.486000 according to authority /pose_integrator\u001b[0m\n",
      "\u001b[33m[ WARN] [1717353156.101971466]: TF_REPEATED_DATA ignoring data with redundant timestamp for frame odom at time 1314.486000 according to authority /pose_integrator\u001b[0m\n",
      "\u001b[33m[ WARN] [1717353160.637919219]: TF_REPEATED_DATA ignoring data with redundant timestamp for frame odom at time 1315.725000 according to authority /pose_integrator\u001b[0m\n",
      "\u001b[33m[ WARN] [1717353160.637985276]: TF_REPEATED_DATA ignoring data with redundant timestamp for frame odom at time 1315.725000 according to authority /pose_integrator\u001b[0m\n",
      "\u001b[33m[ WARN] [1717353160.638039389]: TF_REPEATED_DATA ignoring data with redundant timestamp for frame odom at time 1315.725000 according to authority /pose_integrator\u001b[0m\n",
      "\u001b[33m[ WARN] [1717353160.638079516]: TF_REPEATED_DATA ignoring data with redundant timestamp for frame odom at time 1315.725000 according to authority /pose_integrator\u001b[0m\n",
      "\u001b[33m[ WARN] [1717353160.638117314]: TF_REPEATED_DATA ignoring data with redundant timestamp for frame odom at time 1315.725000 according to authority /pose_integrator\u001b[0m\n",
      "\u001b[33m[ WARN] [1717353160.638147028]: TF_REPEATED_DATA ignoring data with redundant timestamp for frame odom at time 1315.725000 according to authority /pose_integrator\u001b[0m\n",
      "\u001b[33m[ WARN] [1717353161.611929922]: TF_REPEATED_DATA ignoring data with redundant timestamp for frame odom at time 1316.010000 according to authority /pose_integrator\u001b[0m\n",
      "\u001b[33m[ WARN] [1717353161.612002605]: TF_REPEATED_DATA ignoring data with redundant timestamp for frame odom at time 1316.010000 according to authority /pose_integrator\u001b[0m\n",
      "\u001b[33m[ WARN] [1717353161.612040036]: TF_REPEATED_DATA ignoring data with redundant timestamp for frame odom at time 1316.010000 according to authority /pose_integrator\u001b[0m\n",
      "\u001b[33m[ WARN] [1717353161.612071842]: TF_REPEATED_DATA ignoring data with redundant timestamp for frame odom at time 1316.010000 according to authority /pose_integrator\u001b[0m\n",
      "\u001b[33m[ WARN] [1717353161.612101092]: TF_REPEATED_DATA ignoring data with redundant timestamp for frame odom at time 1316.010000 according to authority /pose_integrator\u001b[0m\n",
      "\u001b[33m[ WARN] [1717353161.612140742]: TF_REPEATED_DATA ignoring data with redundant timestamp for frame odom at time 1316.010000 according to authority /pose_integrator\u001b[0m\n"
     ]
    },
    {
     "name": "stderr",
     "output_type": "stream",
     "text": [
      "\u001b[33m[ WARN] [1717353162.934593819]: TF_REPEATED_DATA ignoring data with redundant timestamp for frame odom at time 1316.361000 according to authority /pose_integrator\u001b[0m\n",
      "\u001b[33m[ WARN] [1717353162.934647607]: TF_REPEATED_DATA ignoring data with redundant timestamp for frame odom at time 1316.361000 according to authority /pose_integrator\u001b[0m\n",
      "\u001b[33m[ WARN] [1717353162.934687814]: TF_REPEATED_DATA ignoring data with redundant timestamp for frame odom at time 1316.361000 according to authority /pose_integrator\u001b[0m\n",
      "\u001b[33m[ WARN] [1717353162.934747589]: TF_REPEATED_DATA ignoring data with redundant timestamp for frame odom at time 1316.361000 according to authority /pose_integrator\u001b[0m\n",
      "\u001b[33m[ WARN] [1717353162.934795461]: TF_REPEATED_DATA ignoring data with redundant timestamp for frame odom at time 1316.361000 according to authority /pose_integrator\u001b[0m\n",
      "\u001b[33m[ WARN] [1717353162.934833295]: TF_REPEATED_DATA ignoring data with redundant timestamp for frame odom at time 1316.361000 according to authority /pose_integrator\u001b[0m\n",
      "\u001b[33m[ WARN] [1717353165.196737567]: TF_REPEATED_DATA ignoring data with redundant timestamp for frame odom at time 1316.932000 according to authority /pose_integrator\u001b[0m\n",
      "\u001b[33m[ WARN] [1717353165.196781420]: TF_REPEATED_DATA ignoring data with redundant timestamp for frame odom at time 1316.932000 according to authority /pose_integrator\u001b[0m\n",
      "\u001b[33m[ WARN] [1717353165.196807754]: TF_REPEATED_DATA ignoring data with redundant timestamp for frame odom at time 1316.932000 according to authority /pose_integrator\u001b[0m\n",
      "\u001b[33m[ WARN] [1717353165.196845212]: TF_REPEATED_DATA ignoring data with redundant timestamp for frame odom at time 1316.932000 according to authority /pose_integrator\u001b[0m\n",
      "\u001b[33m[ WARN] [1717353165.196893354]: TF_REPEATED_DATA ignoring data with redundant timestamp for frame odom at time 1316.932000 according to authority /pose_integrator\u001b[0m\n",
      "\u001b[33m[ WARN] [1717353165.196933510]: TF_REPEATED_DATA ignoring data with redundant timestamp for frame odom at time 1316.932000 according to authority /pose_integrator\u001b[0m\n",
      "\u001b[33m[ WARN] [1717353193.189604824]: TF_REPEATED_DATA ignoring data with redundant timestamp for frame odom at time 1323.830000 according to authority /pose_integrator\u001b[0m\n",
      "\u001b[33m[ WARN] [1717353193.189659981]: TF_REPEATED_DATA ignoring data with redundant timestamp for frame odom at time 1323.830000 according to authority /pose_integrator\u001b[0m\n",
      "\u001b[33m[ WARN] [1717353193.189700934]: TF_REPEATED_DATA ignoring data with redundant timestamp for frame odom at time 1323.830000 according to authority /pose_integrator\u001b[0m\n",
      "\u001b[33m[ WARN] [1717353193.189740943]: TF_REPEATED_DATA ignoring data with redundant timestamp for frame odom at time 1323.830000 according to authority /pose_integrator\u001b[0m\n",
      "\u001b[33m[ WARN] [1717353193.189772101]: TF_REPEATED_DATA ignoring data with redundant timestamp for frame odom at time 1323.830000 according to authority /pose_integrator\u001b[0m\n",
      "\u001b[33m[ WARN] [1717353193.189816724]: TF_REPEATED_DATA ignoring data with redundant timestamp for frame odom at time 1323.830000 according to authority /pose_integrator\u001b[0m\n",
      "\u001b[33m[ WARN] [1717353204.914543273]: TF_REPEATED_DATA ignoring data with redundant timestamp for frame odom at time 1326.462000 according to authority /pose_integrator\u001b[0m\n",
      "\u001b[33m[ WARN] [1717353204.914615140]: TF_REPEATED_DATA ignoring data with redundant timestamp for frame odom at time 1326.462000 according to authority /pose_integrator\u001b[0m\n",
      "\u001b[33m[ WARN] [1717353204.914664686]: TF_REPEATED_DATA ignoring data with redundant timestamp for frame odom at time 1326.462000 according to authority /pose_integrator\u001b[0m\n",
      "\u001b[33m[ WARN] [1717353204.914709462]: TF_REPEATED_DATA ignoring data with redundant timestamp for frame odom at time 1326.462000 according to authority /pose_integrator\u001b[0m\n",
      "\u001b[33m[ WARN] [1717353204.914775424]: TF_REPEATED_DATA ignoring data with redundant timestamp for frame odom at time 1326.462000 according to authority /pose_integrator\u001b[0m\n",
      "\u001b[33m[ WARN] [1717353204.914816998]: TF_REPEATED_DATA ignoring data with redundant timestamp for frame odom at time 1326.462000 according to authority /pose_integrator\u001b[0m\n"
     ]
    }
   ],
   "source": [
    "\n",
    "offset_point=grasping_dict[grasping_dict['name']==target_object][['offset_x','offset_y','offset_z']].values[0]\n"
   ]
  },
  {
   "cell_type": "code",
   "execution_count": 15,
   "id": "0433c614",
   "metadata": {},
   "outputs": [],
   "source": [
    "grasping_dict.to_csv(file_path+'/GraspingDict.csv', index=False)"
   ]
  },
  {
   "cell_type": "code",
   "execution_count": 3,
   "id": "b972b576",
   "metadata": {},
   "outputs": [
    {
     "ename": "IndexError",
     "evalue": "index 0 is out of bounds for axis 0 with size 0",
     "output_type": "error",
     "traceback": [
      "\u001b[0;31m---------------------------------------------------------------------------\u001b[0m",
      "\u001b[0;31mIndexError\u001b[0m                                Traceback (most recent call last)",
      "Cell \u001b[0;32mIn[3], line 1\u001b[0m\n\u001b[0;32m----> 1\u001b[0m offset_point \u001b[38;5;241m=\u001b[39m \u001b[43mgrasping_dict\u001b[49m\u001b[43m[\u001b[49m\u001b[43mgrasping_dict\u001b[49m\u001b[43m[\u001b[49m\u001b[38;5;124;43m'\u001b[39;49m\u001b[38;5;124;43mname\u001b[39;49m\u001b[38;5;124;43m'\u001b[39;49m\u001b[43m]\u001b[49m\u001b[43m \u001b[49m\u001b[38;5;241;43m==\u001b[39;49m\u001b[43m \u001b[49m\u001b[38;5;124;43m'\u001b[39;49m\u001b[38;5;124;43mpeach\u001b[39;49m\u001b[38;5;124;43m'\u001b[39;49m\u001b[43m]\u001b[49m\u001b[43m[\u001b[49m\u001b[43m[\u001b[49m\u001b[38;5;124;43m'\u001b[39;49m\u001b[38;5;124;43moffset_x\u001b[39;49m\u001b[38;5;124;43m'\u001b[39;49m\u001b[43m,\u001b[49m\u001b[43m \u001b[49m\u001b[38;5;124;43m'\u001b[39;49m\u001b[38;5;124;43moffset_y\u001b[39;49m\u001b[38;5;124;43m'\u001b[39;49m\u001b[43m,\u001b[49m\u001b[43m \u001b[49m\u001b[38;5;124;43m'\u001b[39;49m\u001b[38;5;124;43moffset_z\u001b[39;49m\u001b[38;5;124;43m'\u001b[39;49m\u001b[43m]\u001b[49m\u001b[43m]\u001b[49m\u001b[38;5;241;43m.\u001b[39;49m\u001b[43mvalues\u001b[49m\u001b[43m[\u001b[49m\u001b[38;5;241;43m0\u001b[39;49m\u001b[43m]\u001b[49m\n",
      "\u001b[0;31mIndexError\u001b[0m: index 0 is out of bounds for axis 0 with size 0"
     ]
    }
   ],
   "source": [
    "offset_point = grasping_dict[grasping_dict['name'] == 'peach'][['offset_x', 'offset_y', 'offset_z']].values[0]\n"
   ]
  },
  {
   "cell_type": "code",
   "execution_count": 18,
   "id": "c9d8a973",
   "metadata": {},
   "outputs": [
    {
     "data": {
      "text/html": [
       "<div>\n",
       "<style scoped>\n",
       "    .dataframe tbody tr th:only-of-type {\n",
       "        vertical-align: middle;\n",
       "    }\n",
       "\n",
       "    .dataframe tbody tr th {\n",
       "        vertical-align: top;\n",
       "    }\n",
       "\n",
       "    .dataframe thead th {\n",
       "        text-align: right;\n",
       "    }\n",
       "</style>\n",
       "<table border=\"1\" class=\"dataframe\">\n",
       "  <thead>\n",
       "    <tr style=\"text-align: right;\">\n",
       "      <th></th>\n",
       "      <th>name</th>\n",
       "      <th>shape</th>\n",
       "      <th>grasp_mode</th>\n",
       "      <th>offset_x</th>\n",
       "      <th>offset_y</th>\n",
       "      <th>offset_z</th>\n",
       "    </tr>\n",
       "  </thead>\n",
       "  <tbody>\n",
       "    <tr>\n",
       "      <th>14</th>\n",
       "      <td>peach</td>\n",
       "      <td>sphere</td>\n",
       "      <td>frontal</td>\n",
       "      <td>-0.1</td>\n",
       "      <td>0.0</td>\n",
       "      <td>0.01</td>\n",
       "    </tr>\n",
       "  </tbody>\n",
       "</table>\n",
       "</div>"
      ],
      "text/plain": [
       "     name   shape grasp_mode  offset_x  offset_y  offset_z\n",
       "14  peach  sphere    frontal      -0.1       0.0      0.01"
      ]
     },
     "execution_count": 18,
     "metadata": {},
     "output_type": "execute_result"
    },
    {
     "name": "stderr",
     "output_type": "stream",
     "text": [
      "\u001b[33m[ WARN] [1717384625.051134869]: TF_REPEATED_DATA ignoring data with redundant timestamp for frame odom at time 741.813000 according to authority /pose_integrator\u001b[0m\n",
      "\u001b[33m[ WARN] [1717384625.051198111]: TF_REPEATED_DATA ignoring data with redundant timestamp for frame odom at time 741.813000 according to authority /pose_integrator\u001b[0m\n",
      "\u001b[33m[ WARN] [1717384625.051229843]: TF_REPEATED_DATA ignoring data with redundant timestamp for frame odom at time 741.813000 according to authority /pose_integrator\u001b[0m\n",
      "\u001b[33m[ WARN] [1717384625.051263806]: TF_REPEATED_DATA ignoring data with redundant timestamp for frame odom at time 741.813000 according to authority /pose_integrator\u001b[0m\n",
      "\u001b[33m[ WARN] [1717384625.051292315]: TF_REPEATED_DATA ignoring data with redundant timestamp for frame odom at time 741.813000 according to authority /pose_integrator\u001b[0m\n",
      "\u001b[33m[ WARN] [1717384625.051318664]: TF_REPEATED_DATA ignoring data with redundant timestamp for frame odom at time 741.813000 according to authority /pose_integrator\u001b[0m\n",
      "\u001b[33m[ WARN] [1717384679.937505512]: TF_REPEATED_DATA ignoring data with redundant timestamp for frame 015_peach at time 755.415000 according to authority /objs_reco\u001b[0m\n",
      "\u001b[33m[ WARN] [1717384679.937582045]: TF_REPEATED_DATA ignoring data with redundant timestamp for frame 015_peach at time 755.415000 according to authority /objs_reco\u001b[0m\n",
      "\u001b[33m[ WARN] [1717384679.937624057]: TF_REPEATED_DATA ignoring data with redundant timestamp for frame 015_peach at time 755.415000 according to authority /objs_reco\u001b[0m\n",
      "\u001b[33m[ WARN] [1717384679.937662668]: TF_REPEATED_DATA ignoring data with redundant timestamp for frame 015_peach at time 755.415000 according to authority /objs_reco\u001b[0m\n",
      "\u001b[33m[ WARN] [1717384679.937704221]: TF_REPEATED_DATA ignoring data with redundant timestamp for frame 015_peach at time 755.415000 according to authority /objs_reco\u001b[0m\n",
      "\u001b[33m[ WARN] [1717384679.937741852]: TF_REPEATED_DATA ignoring data with redundant timestamp for frame 015_peach at time 755.415000 according to authority /objs_reco\u001b[0m\n",
      "\u001b[33m[ WARN] [1717384716.046632939]: TF_REPEATED_DATA ignoring data with redundant timestamp for frame odom at time 764.722000 according to authority /pose_integrator\u001b[0m\n",
      "\u001b[33m[ WARN] [1717384716.046703851]: TF_REPEATED_DATA ignoring data with redundant timestamp for frame odom at time 764.722000 according to authority /pose_integrator\u001b[0m\n",
      "\u001b[33m[ WARN] [1717384716.046744665]: TF_REPEATED_DATA ignoring data with redundant timestamp for frame odom at time 764.722000 according to authority /pose_integrator\u001b[0m\n",
      "\u001b[33m[ WARN] [1717384716.046773252]: TF_REPEATED_DATA ignoring data with redundant timestamp for frame odom at time 764.722000 according to authority /pose_integrator\u001b[0m\n",
      "\u001b[33m[ WARN] [1717384716.046799998]: TF_REPEATED_DATA ignoring data with redundant timestamp for frame odom at time 764.722000 according to authority /pose_integrator\u001b[0m\n",
      "\u001b[33m[ WARN] [1717384716.046827004]: TF_REPEATED_DATA ignoring data with redundant timestamp for frame odom at time 764.722000 according to authority /pose_integrator\u001b[0m\n",
      "\u001b[33m[ WARN] [1717384720.852866258]: TF_REPEATED_DATA ignoring data with redundant timestamp for frame odom at time 766.024000 according to authority /pose_integrator\u001b[0m\n",
      "\u001b[33m[ WARN] [1717384720.852926093]: TF_REPEATED_DATA ignoring data with redundant timestamp for frame odom at time 766.024000 according to authority /pose_integrator\u001b[0m\n",
      "\u001b[33m[ WARN] [1717384720.852961000]: TF_REPEATED_DATA ignoring data with redundant timestamp for frame odom at time 766.024000 according to authority /pose_integrator\u001b[0m\n",
      "\u001b[33m[ WARN] [1717384720.852993326]: TF_REPEATED_DATA ignoring data with redundant timestamp for frame odom at time 766.024000 according to authority /pose_integrator\u001b[0m\n",
      "\u001b[33m[ WARN] [1717384720.853024361]: TF_REPEATED_DATA ignoring data with redundant timestamp for frame odom at time 766.024000 according to authority /pose_integrator\u001b[0m\n",
      "\u001b[33m[ WARN] [1717384720.853061140]: TF_REPEATED_DATA ignoring data with redundant timestamp for frame odom at time 766.024000 according to authority /pose_integrator\u001b[0m\n",
      "\u001b[33m[ WARN] [1717384745.452051188]: TF_REPEATED_DATA ignoring data with redundant timestamp for frame odom at time 772.394000 according to authority /pose_integrator\u001b[0m\n",
      "\u001b[33m[ WARN] [1717384745.452122426]: TF_REPEATED_DATA ignoring data with redundant timestamp for frame odom at time 772.394000 according to authority /pose_integrator\u001b[0m\n",
      "\u001b[33m[ WARN] [1717384745.452163699]: TF_REPEATED_DATA ignoring data with redundant timestamp for frame odom at time 772.394000 according to authority /pose_integrator\u001b[0m\n",
      "\u001b[33m[ WARN] [1717384745.452207345]: TF_REPEATED_DATA ignoring data with redundant timestamp for frame odom at time 772.394000 according to authority /pose_integrator\u001b[0m\n",
      "\u001b[33m[ WARN] [1717384745.452243802]: TF_REPEATED_DATA ignoring data with redundant timestamp for frame odom at time 772.394000 according to authority /pose_integrator\u001b[0m\n",
      "\u001b[33m[ WARN] [1717384745.452279866]: TF_REPEATED_DATA ignoring data with redundant timestamp for frame odom at time 772.394000 according to authority /pose_integrator\u001b[0m\n",
      "\u001b[33m[ WARN] [1717384750.206521455]: TF_REPEATED_DATA ignoring data with redundant timestamp for frame odom at time 773.680000 according to authority /pose_integrator\u001b[0m\n",
      "\u001b[33m[ WARN] [1717384750.206585803]: TF_REPEATED_DATA ignoring data with redundant timestamp for frame odom at time 773.680000 according to authority /pose_integrator\u001b[0m\n",
      "\u001b[33m[ WARN] [1717384750.206630961]: TF_REPEATED_DATA ignoring data with redundant timestamp for frame odom at time 773.680000 according to authority /pose_integrator\u001b[0m\n",
      "\u001b[33m[ WARN] [1717384750.206677280]: TF_REPEATED_DATA ignoring data with redundant timestamp for frame odom at time 773.680000 according to authority /pose_integrator\u001b[0m\n",
      "\u001b[33m[ WARN] [1717384750.206722599]: TF_REPEATED_DATA ignoring data with redundant timestamp for frame odom at time 773.680000 according to authority /pose_integrator\u001b[0m\n",
      "\u001b[33m[ WARN] [1717384750.206761599]: TF_REPEATED_DATA ignoring data with redundant timestamp for frame odom at time 773.680000 according to authority /pose_integrator\u001b[0m\n",
      "\u001b[33m[ WARN] [1717384799.754604376]: TF_REPEATED_DATA ignoring data with redundant timestamp for frame odom at time 786.375000 according to authority /pose_integrator\u001b[0m\n",
      "\u001b[33m[ WARN] [1717384799.754655505]: TF_REPEATED_DATA ignoring data with redundant timestamp for frame odom at time 786.375000 according to authority /pose_integrator\u001b[0m\n",
      "\u001b[33m[ WARN] [1717384799.754687258]: TF_REPEATED_DATA ignoring data with redundant timestamp for frame odom at time 786.375000 according to authority /pose_integrator\u001b[0m\n",
      "\u001b[33m[ WARN] [1717384799.754716223]: TF_REPEATED_DATA ignoring data with redundant timestamp for frame odom at time 786.375000 according to authority /pose_integrator\u001b[0m\n",
      "\u001b[33m[ WARN] [1717384799.754743913]: TF_REPEATED_DATA ignoring data with redundant timestamp for frame odom at time 786.375000 according to authority /pose_integrator\u001b[0m\n",
      "\u001b[33m[ WARN] [1717384799.754772022]: TF_REPEATED_DATA ignoring data with redundant timestamp for frame odom at time 786.375000 according to authority /pose_integrator\u001b[0m\n",
      "\u001b[33m[ WARN] [1717384805.400903733]: TF_REPEATED_DATA ignoring data with redundant timestamp for frame odom at time 787.836000 according to authority /pose_integrator\u001b[0m\n",
      "\u001b[33m[ WARN] [1717384805.400972177]: TF_REPEATED_DATA ignoring data with redundant timestamp for frame odom at time 787.836000 according to authority /pose_integrator\u001b[0m\n",
      "\u001b[33m[ WARN] [1717384805.401013073]: TF_REPEATED_DATA ignoring data with redundant timestamp for frame odom at time 787.836000 according to authority /pose_integrator\u001b[0m\n",
      "\u001b[33m[ WARN] [1717384805.401053387]: TF_REPEATED_DATA ignoring data with redundant timestamp for frame odom at time 787.836000 according to authority /pose_integrator\u001b[0m\n",
      "\u001b[33m[ WARN] [1717384805.401091789]: TF_REPEATED_DATA ignoring data with redundant timestamp for frame odom at time 787.836000 according to authority /pose_integrator\u001b[0m\n",
      "\u001b[33m[ WARN] [1717384805.401125566]: TF_REPEATED_DATA ignoring data with redundant timestamp for frame odom at time 787.836000 according to authority /pose_integrator\u001b[0m\n"
     ]
    },
    {
     "name": "stderr",
     "output_type": "stream",
     "text": [
      "\u001b[33m[ WARN] [1717384839.292193819]: TF_REPEATED_DATA ignoring data with redundant timestamp for frame odom at time 796.497000 according to authority /pose_integrator\u001b[0m\n",
      "\u001b[33m[ WARN] [1717384839.292259517]: TF_REPEATED_DATA ignoring data with redundant timestamp for frame odom at time 796.497000 according to authority /pose_integrator\u001b[0m\n",
      "\u001b[33m[ WARN] [1717384839.292299921]: TF_REPEATED_DATA ignoring data with redundant timestamp for frame odom at time 796.497000 according to authority /pose_integrator\u001b[0m\n",
      "\u001b[33m[ WARN] [1717384839.292337792]: TF_REPEATED_DATA ignoring data with redundant timestamp for frame odom at time 796.497000 according to authority /pose_integrator\u001b[0m\n",
      "\u001b[33m[ WARN] [1717384839.292377196]: TF_REPEATED_DATA ignoring data with redundant timestamp for frame odom at time 796.497000 according to authority /pose_integrator\u001b[0m\n",
      "\u001b[33m[ WARN] [1717384839.292427353]: TF_REPEATED_DATA ignoring data with redundant timestamp for frame odom at time 796.497000 according to authority /pose_integrator\u001b[0m\n",
      "\u001b[33m[ WARN] [1717384856.368370100]: TF_REPEATED_DATA ignoring data with redundant timestamp for frame odom at time 800.713000 according to authority /pose_integrator\u001b[0m\n",
      "\u001b[33m[ WARN] [1717384856.368434660]: TF_REPEATED_DATA ignoring data with redundant timestamp for frame odom at time 800.713000 according to authority /pose_integrator\u001b[0m\n",
      "\u001b[33m[ WARN] [1717384856.368464657]: TF_REPEATED_DATA ignoring data with redundant timestamp for frame odom at time 800.713000 according to authority /pose_integrator\u001b[0m\n",
      "\u001b[33m[ WARN] [1717384856.368492447]: TF_REPEATED_DATA ignoring data with redundant timestamp for frame odom at time 800.713000 according to authority /pose_integrator\u001b[0m\n",
      "\u001b[33m[ WARN] [1717384856.368519045]: TF_REPEATED_DATA ignoring data with redundant timestamp for frame odom at time 800.713000 according to authority /pose_integrator\u001b[0m\n",
      "\u001b[33m[ WARN] [1717384856.368545823]: TF_REPEATED_DATA ignoring data with redundant timestamp for frame odom at time 800.713000 according to authority /pose_integrator\u001b[0m\n",
      "\u001b[33m[ WARN] [1717384860.807393021]: TF_REPEATED_DATA ignoring data with redundant timestamp for frame odom at time 801.824000 according to authority /pose_integrator\u001b[0m\n",
      "\u001b[33m[ WARN] [1717384860.807462960]: TF_REPEATED_DATA ignoring data with redundant timestamp for frame odom at time 801.824000 according to authority /pose_integrator\u001b[0m\n",
      "\u001b[33m[ WARN] [1717384860.807502978]: TF_REPEATED_DATA ignoring data with redundant timestamp for frame odom at time 801.824000 according to authority /pose_integrator\u001b[0m\n",
      "\u001b[33m[ WARN] [1717384860.807539605]: TF_REPEATED_DATA ignoring data with redundant timestamp for frame odom at time 801.824000 according to authority /pose_integrator\u001b[0m\n",
      "\u001b[33m[ WARN] [1717384860.807581958]: TF_REPEATED_DATA ignoring data with redundant timestamp for frame odom at time 801.824000 according to authority /pose_integrator\u001b[0m\n",
      "\u001b[33m[ WARN] [1717384860.807626868]: TF_REPEATED_DATA ignoring data with redundant timestamp for frame odom at time 801.824000 according to authority /pose_integrator\u001b[0m\n",
      "\u001b[33m[ WARN] [1717384861.925858335]: TF_REPEATED_DATA ignoring data with redundant timestamp for frame odom at time 802.125000 according to authority /pose_integrator\u001b[0m\n",
      "\u001b[33m[ WARN] [1717384861.925910638]: TF_REPEATED_DATA ignoring data with redundant timestamp for frame odom at time 802.125000 according to authority /pose_integrator\u001b[0m\n",
      "\u001b[33m[ WARN] [1717384861.925941989]: TF_REPEATED_DATA ignoring data with redundant timestamp for frame odom at time 802.125000 according to authority /pose_integrator\u001b[0m\n",
      "\u001b[33m[ WARN] [1717384861.925973158]: TF_REPEATED_DATA ignoring data with redundant timestamp for frame odom at time 802.125000 according to authority /pose_integrator\u001b[0m\n",
      "\u001b[33m[ WARN] [1717384861.926003076]: TF_REPEATED_DATA ignoring data with redundant timestamp for frame odom at time 802.125000 according to authority /pose_integrator\u001b[0m\n",
      "\u001b[33m[ WARN] [1717384861.926032013]: TF_REPEATED_DATA ignoring data with redundant timestamp for frame odom at time 802.125000 according to authority /pose_integrator\u001b[0m\n",
      "\u001b[33m[ WARN] [1717384892.857158771]: TF_REPEATED_DATA ignoring data with redundant timestamp for frame odom at time 809.813000 according to authority /pose_integrator\u001b[0m\n",
      "\u001b[33m[ WARN] [1717384892.857222711]: TF_REPEATED_DATA ignoring data with redundant timestamp for frame odom at time 809.813000 according to authority /pose_integrator\u001b[0m\n",
      "\u001b[33m[ WARN] [1717384892.857263481]: TF_REPEATED_DATA ignoring data with redundant timestamp for frame odom at time 809.813000 according to authority /pose_integrator\u001b[0m\n",
      "\u001b[33m[ WARN] [1717384892.857301460]: TF_REPEATED_DATA ignoring data with redundant timestamp for frame odom at time 809.813000 according to authority /pose_integrator\u001b[0m\n",
      "\u001b[33m[ WARN] [1717384892.857331227]: TF_REPEATED_DATA ignoring data with redundant timestamp for frame odom at time 809.813000 according to authority /pose_integrator\u001b[0m\n",
      "\u001b[33m[ WARN] [1717384892.857359614]: TF_REPEATED_DATA ignoring data with redundant timestamp for frame odom at time 809.813000 according to authority /pose_integrator\u001b[0m\n",
      "\u001b[33m[ WARN] [1717384892.996352437]: TF_REPEATED_DATA ignoring data with redundant timestamp for frame odom at time 809.854000 according to authority /pose_integrator\u001b[0m\n",
      "\u001b[33m[ WARN] [1717384892.996437365]: TF_REPEATED_DATA ignoring data with redundant timestamp for frame odom at time 809.854000 according to authority /pose_integrator\u001b[0m\n",
      "\u001b[33m[ WARN] [1717384892.996490586]: TF_REPEATED_DATA ignoring data with redundant timestamp for frame odom at time 809.854000 according to authority /pose_integrator\u001b[0m\n",
      "\u001b[33m[ WARN] [1717384892.996528561]: TF_REPEATED_DATA ignoring data with redundant timestamp for frame odom at time 809.854000 according to authority /pose_integrator\u001b[0m\n",
      "\u001b[33m[ WARN] [1717384892.996557668]: TF_REPEATED_DATA ignoring data with redundant timestamp for frame odom at time 809.854000 according to authority /pose_integrator\u001b[0m\n",
      "\u001b[33m[ WARN] [1717384892.996585768]: TF_REPEATED_DATA ignoring data with redundant timestamp for frame odom at time 809.854000 according to authority /pose_integrator\u001b[0m\n",
      "\u001b[33m[ WARN] [1717384983.288436436]: TF_REPEATED_DATA ignoring data with redundant timestamp for frame odom at time 832.096000 according to authority /pose_integrator\u001b[0m\n",
      "\u001b[33m[ WARN] [1717384983.288492788]: TF_REPEATED_DATA ignoring data with redundant timestamp for frame odom at time 832.096000 according to authority /pose_integrator\u001b[0m\n",
      "\u001b[33m[ WARN] [1717384983.288530572]: TF_REPEATED_DATA ignoring data with redundant timestamp for frame odom at time 832.096000 according to authority /pose_integrator\u001b[0m\n",
      "\u001b[33m[ WARN] [1717384983.288565587]: TF_REPEATED_DATA ignoring data with redundant timestamp for frame odom at time 832.096000 according to authority /pose_integrator\u001b[0m\n",
      "\u001b[33m[ WARN] [1717384983.288600637]: TF_REPEATED_DATA ignoring data with redundant timestamp for frame odom at time 832.096000 according to authority /pose_integrator\u001b[0m\n",
      "\u001b[33m[ WARN] [1717384983.288642452]: TF_REPEATED_DATA ignoring data with redundant timestamp for frame odom at time 832.096000 according to authority /pose_integrator\u001b[0m\n",
      "\u001b[33m[ WARN] [1717385011.353626291]: TF_REPEATED_DATA ignoring data with redundant timestamp for frame odom at time 838.804000 according to authority /pose_integrator\u001b[0m\n",
      "\u001b[33m[ WARN] [1717385011.353690127]: TF_REPEATED_DATA ignoring data with redundant timestamp for frame odom at time 838.804000 according to authority /pose_integrator\u001b[0m\n",
      "\u001b[33m[ WARN] [1717385011.353726996]: TF_REPEATED_DATA ignoring data with redundant timestamp for frame odom at time 838.804000 according to authority /pose_integrator\u001b[0m\n",
      "\u001b[33m[ WARN] [1717385011.353768250]: TF_REPEATED_DATA ignoring data with redundant timestamp for frame odom at time 838.804000 according to authority /pose_integrator\u001b[0m\n",
      "\u001b[33m[ WARN] [1717385011.353810676]: TF_REPEATED_DATA ignoring data with redundant timestamp for frame odom at time 838.804000 according to authority /pose_integrator\u001b[0m\n",
      "\u001b[33m[ WARN] [1717385011.353846674]: TF_REPEATED_DATA ignoring data with redundant timestamp for frame odom at time 838.804000 according to authority /pose_integrator\u001b[0m\n"
     ]
    },
    {
     "name": "stderr",
     "output_type": "stream",
     "text": [
      "\u001b[33m[ WARN] [1717385015.643749155]: TF_REPEATED_DATA ignoring data with redundant timestamp for frame odom at time 839.826000 according to authority /pose_integrator\u001b[0m\n",
      "\u001b[33m[ WARN] [1717385015.643815149]: TF_REPEATED_DATA ignoring data with redundant timestamp for frame odom at time 839.826000 according to authority /pose_integrator\u001b[0m\n",
      "\u001b[33m[ WARN] [1717385015.643867646]: TF_REPEATED_DATA ignoring data with redundant timestamp for frame odom at time 839.826000 according to authority /pose_integrator\u001b[0m\n",
      "\u001b[33m[ WARN] [1717385015.643906911]: TF_REPEATED_DATA ignoring data with redundant timestamp for frame odom at time 839.826000 according to authority /pose_integrator\u001b[0m\n",
      "\u001b[33m[ WARN] [1717385015.643939580]: TF_REPEATED_DATA ignoring data with redundant timestamp for frame odom at time 839.826000 according to authority /pose_integrator\u001b[0m\n",
      "\u001b[33m[ WARN] [1717385015.643986376]: TF_REPEATED_DATA ignoring data with redundant timestamp for frame odom at time 839.826000 according to authority /pose_integrator\u001b[0m\n",
      "\u001b[33m[ WARN] [1717385038.719065410]: TF_REPEATED_DATA ignoring data with redundant timestamp for frame 015_peach at time 845.842000 according to authority /objs_reco\u001b[0m\n",
      "\u001b[33m[ WARN] [1717385038.719124978]: TF_REPEATED_DATA ignoring data with redundant timestamp for frame 015_peach at time 845.842000 according to authority /objs_reco\u001b[0m\n",
      "\u001b[33m[ WARN] [1717385038.719161216]: TF_REPEATED_DATA ignoring data with redundant timestamp for frame 015_peach at time 845.842000 according to authority /objs_reco\u001b[0m\n",
      "\u001b[33m[ WARN] [1717385038.719200526]: TF_REPEATED_DATA ignoring data with redundant timestamp for frame 015_peach at time 845.842000 according to authority /objs_reco\u001b[0m\n",
      "\u001b[33m[ WARN] [1717385038.719241159]: TF_REPEATED_DATA ignoring data with redundant timestamp for frame 015_peach at time 845.842000 according to authority /objs_reco\u001b[0m\n",
      "\u001b[33m[ WARN] [1717385038.719285714]: TF_REPEATED_DATA ignoring data with redundant timestamp for frame 015_peach at time 845.842000 according to authority /objs_reco\u001b[0m\n",
      "\u001b[33m[ WARN] [1717385059.444540528]: TF_REPEATED_DATA ignoring data with redundant timestamp for frame odom at time 851.450000 according to authority /pose_integrator\u001b[0m\n",
      "\u001b[33m[ WARN] [1717385059.444608449]: TF_REPEATED_DATA ignoring data with redundant timestamp for frame odom at time 851.450000 according to authority /pose_integrator\u001b[0m\n",
      "\u001b[33m[ WARN] [1717385059.444660611]: TF_REPEATED_DATA ignoring data with redundant timestamp for frame odom at time 851.450000 according to authority /pose_integrator\u001b[0m\n",
      "\u001b[33m[ WARN] [1717385059.444706319]: TF_REPEATED_DATA ignoring data with redundant timestamp for frame odom at time 851.450000 according to authority /pose_integrator\u001b[0m\n",
      "\u001b[33m[ WARN] [1717385059.444755197]: TF_REPEATED_DATA ignoring data with redundant timestamp for frame odom at time 851.450000 according to authority /pose_integrator\u001b[0m\n",
      "\u001b[33m[ WARN] [1717385059.444796784]: TF_REPEATED_DATA ignoring data with redundant timestamp for frame odom at time 851.450000 according to authority /pose_integrator\u001b[0m\n",
      "\u001b[33m[ WARN] [1717385066.275112855]: TF_REPEATED_DATA ignoring data with redundant timestamp for frame odom at time 853.356000 according to authority /pose_integrator\u001b[0m\n",
      "\u001b[33m[ WARN] [1717385066.275169570]: TF_REPEATED_DATA ignoring data with redundant timestamp for frame odom at time 853.356000 according to authority /pose_integrator\u001b[0m\n",
      "\u001b[33m[ WARN] [1717385066.275212046]: TF_REPEATED_DATA ignoring data with redundant timestamp for frame odom at time 853.356000 according to authority /pose_integrator\u001b[0m\n",
      "\u001b[33m[ WARN] [1717385066.275253807]: TF_REPEATED_DATA ignoring data with redundant timestamp for frame odom at time 853.356000 according to authority /pose_integrator\u001b[0m\n",
      "\u001b[33m[ WARN] [1717385066.275299219]: TF_REPEATED_DATA ignoring data with redundant timestamp for frame odom at time 853.356000 according to authority /pose_integrator\u001b[0m\n",
      "\u001b[33m[ WARN] [1717385066.275336341]: TF_REPEATED_DATA ignoring data with redundant timestamp for frame odom at time 853.356000 according to authority /pose_integrator\u001b[0m\n",
      "\u001b[33m[ WARN] [1717385071.728717445]: TF_REPEATED_DATA ignoring data with redundant timestamp for frame odom at time 854.772000 according to authority /pose_integrator\u001b[0m\n",
      "\u001b[33m[ WARN] [1717385071.728765752]: TF_REPEATED_DATA ignoring data with redundant timestamp for frame odom at time 854.772000 according to authority /pose_integrator\u001b[0m\n",
      "\u001b[33m[ WARN] [1717385071.728794631]: TF_REPEATED_DATA ignoring data with redundant timestamp for frame odom at time 854.772000 according to authority /pose_integrator\u001b[0m\n",
      "\u001b[33m[ WARN] [1717385071.728842225]: TF_REPEATED_DATA ignoring data with redundant timestamp for frame odom at time 854.772000 according to authority /pose_integrator\u001b[0m\n",
      "\u001b[33m[ WARN] [1717385071.728890836]: TF_REPEATED_DATA ignoring data with redundant timestamp for frame odom at time 854.772000 according to authority /pose_integrator\u001b[0m\n",
      "\u001b[33m[ WARN] [1717385071.728929151]: TF_REPEATED_DATA ignoring data with redundant timestamp for frame odom at time 854.772000 according to authority /pose_integrator\u001b[0m\n",
      "\u001b[33m[ WARN] [1717385086.528938043]: TF_REPEATED_DATA ignoring data with redundant timestamp for frame odom at time 858.608000 according to authority /pose_integrator\u001b[0m\n",
      "\u001b[33m[ WARN] [1717385086.529007288]: TF_REPEATED_DATA ignoring data with redundant timestamp for frame odom at time 858.608000 according to authority /pose_integrator\u001b[0m\n",
      "\u001b[33m[ WARN] [1717385086.529042809]: TF_REPEATED_DATA ignoring data with redundant timestamp for frame odom at time 858.608000 according to authority /pose_integrator\u001b[0m\n",
      "\u001b[33m[ WARN] [1717385086.529076275]: TF_REPEATED_DATA ignoring data with redundant timestamp for frame odom at time 858.608000 according to authority /pose_integrator\u001b[0m\n",
      "\u001b[33m[ WARN] [1717385086.529107796]: TF_REPEATED_DATA ignoring data with redundant timestamp for frame odom at time 858.608000 according to authority /pose_integrator\u001b[0m\n",
      "\u001b[33m[ WARN] [1717385086.529138755]: TF_REPEATED_DATA ignoring data with redundant timestamp for frame odom at time 858.608000 according to authority /pose_integrator\u001b[0m\n",
      "\u001b[33m[ WARN] [1717385095.516441587]: TF_REPEATED_DATA ignoring data with redundant timestamp for frame odom at time 861.091000 according to authority /pose_integrator\u001b[0m\n",
      "\u001b[33m[ WARN] [1717385095.516506621]: TF_REPEATED_DATA ignoring data with redundant timestamp for frame odom at time 861.091000 according to authority /pose_integrator\u001b[0m\n",
      "\u001b[33m[ WARN] [1717385095.516559214]: TF_REPEATED_DATA ignoring data with redundant timestamp for frame odom at time 861.091000 according to authority /pose_integrator\u001b[0m\n",
      "\u001b[33m[ WARN] [1717385095.516598242]: TF_REPEATED_DATA ignoring data with redundant timestamp for frame odom at time 861.091000 according to authority /pose_integrator\u001b[0m\n",
      "\u001b[33m[ WARN] [1717385095.516630432]: TF_REPEATED_DATA ignoring data with redundant timestamp for frame odom at time 861.091000 according to authority /pose_integrator\u001b[0m\n",
      "\u001b[33m[ WARN] [1717385095.516680139]: TF_REPEATED_DATA ignoring data with redundant timestamp for frame odom at time 861.091000 according to authority /pose_integrator\u001b[0m\n",
      "\u001b[33m[ WARN] [1717385150.836131010]: TF_REPEATED_DATA ignoring data with redundant timestamp for frame odom at time 875.920000 according to authority /pose_integrator\u001b[0m\n",
      "\u001b[33m[ WARN] [1717385150.836181701]: TF_REPEATED_DATA ignoring data with redundant timestamp for frame odom at time 875.920000 according to authority /pose_integrator\u001b[0m\n",
      "\u001b[33m[ WARN] [1717385150.836211241]: TF_REPEATED_DATA ignoring data with redundant timestamp for frame odom at time 875.920000 according to authority /pose_integrator\u001b[0m\n",
      "\u001b[33m[ WARN] [1717385150.836238077]: TF_REPEATED_DATA ignoring data with redundant timestamp for frame odom at time 875.920000 according to authority /pose_integrator\u001b[0m\n",
      "\u001b[33m[ WARN] [1717385150.836273984]: TF_REPEATED_DATA ignoring data with redundant timestamp for frame odom at time 875.920000 according to authority /pose_integrator\u001b[0m\n",
      "\u001b[33m[ WARN] [1717385150.836304120]: TF_REPEATED_DATA ignoring data with redundant timestamp for frame odom at time 875.920000 according to authority /pose_integrator\u001b[0m\n"
     ]
    },
    {
     "name": "stderr",
     "output_type": "stream",
     "text": [
      "\u001b[33m[ WARN] [1717385197.603599428]: TF_REPEATED_DATA ignoring data with redundant timestamp for frame odom at time 886.317000 according to authority /pose_integrator\u001b[0m\n",
      "\u001b[33m[ WARN] [1717385197.603648494]: TF_REPEATED_DATA ignoring data with redundant timestamp for frame odom at time 886.317000 according to authority /pose_integrator\u001b[0m\n",
      "\u001b[33m[ WARN] [1717385197.603677497]: TF_REPEATED_DATA ignoring data with redundant timestamp for frame odom at time 886.317000 according to authority /pose_integrator\u001b[0m\n",
      "\u001b[33m[ WARN] [1717385197.603704682]: TF_REPEATED_DATA ignoring data with redundant timestamp for frame odom at time 886.317000 according to authority /pose_integrator\u001b[0m\n",
      "\u001b[33m[ WARN] [1717385197.603732033]: TF_REPEATED_DATA ignoring data with redundant timestamp for frame odom at time 886.317000 according to authority /pose_integrator\u001b[0m\n",
      "\u001b[33m[ WARN] [1717385197.603759096]: TF_REPEATED_DATA ignoring data with redundant timestamp for frame odom at time 886.317000 according to authority /pose_integrator\u001b[0m\n",
      "\u001b[33m[ WARN] [1717385237.290222453]: TF_REPEATED_DATA ignoring data with redundant timestamp for frame 015_peach at time 896.294000 according to authority /objs_reco\u001b[0m\n",
      "\u001b[33m[ WARN] [1717385237.290289626]: TF_REPEATED_DATA ignoring data with redundant timestamp for frame 015_peach at time 896.294000 according to authority /objs_reco\u001b[0m\n",
      "\u001b[33m[ WARN] [1717385237.290337392]: TF_REPEATED_DATA ignoring data with redundant timestamp for frame 015_peach at time 896.294000 according to authority /objs_reco\u001b[0m\n",
      "\u001b[33m[ WARN] [1717385237.290374965]: TF_REPEATED_DATA ignoring data with redundant timestamp for frame 015_peach at time 896.294000 according to authority /objs_reco\u001b[0m\n",
      "\u001b[33m[ WARN] [1717385237.290405639]: TF_REPEATED_DATA ignoring data with redundant timestamp for frame 015_peach at time 896.294000 according to authority /objs_reco\u001b[0m\n",
      "\u001b[33m[ WARN] [1717385237.290434902]: TF_REPEATED_DATA ignoring data with redundant timestamp for frame 015_peach at time 896.294000 according to authority /objs_reco\u001b[0m\n",
      "\u001b[33m[ WARN] [1717385391.219625965]: TF_REPEATED_DATA ignoring data with redundant timestamp for frame odom at time 933.506000 according to authority /pose_integrator\u001b[0m\n",
      "\u001b[33m[ WARN] [1717385391.219684460]: TF_REPEATED_DATA ignoring data with redundant timestamp for frame odom at time 933.506000 according to authority /pose_integrator\u001b[0m\n",
      "\u001b[33m[ WARN] [1717385391.219718101]: TF_REPEATED_DATA ignoring data with redundant timestamp for frame odom at time 933.506000 according to authority /pose_integrator\u001b[0m\n",
      "\u001b[33m[ WARN] [1717385391.219767884]: TF_REPEATED_DATA ignoring data with redundant timestamp for frame odom at time 933.506000 according to authority /pose_integrator\u001b[0m\n",
      "\u001b[33m[ WARN] [1717385391.219802355]: TF_REPEATED_DATA ignoring data with redundant timestamp for frame odom at time 933.506000 according to authority /pose_integrator\u001b[0m\n",
      "\u001b[33m[ WARN] [1717385391.219830049]: TF_REPEATED_DATA ignoring data with redundant timestamp for frame odom at time 933.506000 according to authority /pose_integrator\u001b[0m\n",
      "\u001b[33m[ WARN] [1717385438.050466338]: TF_REPEATED_DATA ignoring data with redundant timestamp for frame odom at time 944.862000 according to authority /pose_integrator\u001b[0m\n",
      "\u001b[33m[ WARN] [1717385438.050523422]: TF_REPEATED_DATA ignoring data with redundant timestamp for frame odom at time 944.862000 according to authority /pose_integrator\u001b[0m\n",
      "\u001b[33m[ WARN] [1717385438.050564994]: TF_REPEATED_DATA ignoring data with redundant timestamp for frame odom at time 944.862000 according to authority /pose_integrator\u001b[0m\n",
      "\u001b[33m[ WARN] [1717385438.050614451]: TF_REPEATED_DATA ignoring data with redundant timestamp for frame odom at time 944.862000 according to authority /pose_integrator\u001b[0m\n",
      "\u001b[33m[ WARN] [1717385438.050660906]: TF_REPEATED_DATA ignoring data with redundant timestamp for frame odom at time 944.862000 according to authority /pose_integrator\u001b[0m\n",
      "\u001b[33m[ WARN] [1717385438.050696113]: TF_REPEATED_DATA ignoring data with redundant timestamp for frame odom at time 944.862000 according to authority /pose_integrator\u001b[0m\n",
      "\u001b[33m[ WARN] [1717385487.051706405]: TF_REPEATED_DATA ignoring data with redundant timestamp for frame odom at time 956.753000 according to authority /pose_integrator\u001b[0m\n",
      "\u001b[33m[ WARN] [1717385487.051766116]: TF_REPEATED_DATA ignoring data with redundant timestamp for frame odom at time 956.753000 according to authority /pose_integrator\u001b[0m\n",
      "\u001b[33m[ WARN] [1717385487.051815942]: TF_REPEATED_DATA ignoring data with redundant timestamp for frame odom at time 956.753000 according to authority /pose_integrator\u001b[0m\n",
      "\u001b[33m[ WARN] [1717385487.051853429]: TF_REPEATED_DATA ignoring data with redundant timestamp for frame odom at time 956.753000 according to authority /pose_integrator\u001b[0m\n",
      "\u001b[33m[ WARN] [1717385487.051896376]: TF_REPEATED_DATA ignoring data with redundant timestamp for frame odom at time 956.753000 according to authority /pose_integrator\u001b[0m\n",
      "\u001b[33m[ WARN] [1717385487.051931839]: TF_REPEATED_DATA ignoring data with redundant timestamp for frame odom at time 956.753000 according to authority /pose_integrator\u001b[0m\n",
      "\u001b[33m[ WARN] [1717385490.612397161]: TF_REPEATED_DATA ignoring data with redundant timestamp for frame odom at time 957.748000 according to authority /pose_integrator\u001b[0m\n",
      "\u001b[33m[ WARN] [1717385490.612455410]: TF_REPEATED_DATA ignoring data with redundant timestamp for frame odom at time 957.748000 according to authority /pose_integrator\u001b[0m\n",
      "\u001b[33m[ WARN] [1717385490.612491775]: TF_REPEATED_DATA ignoring data with redundant timestamp for frame odom at time 957.748000 according to authority /pose_integrator\u001b[0m\n",
      "\u001b[33m[ WARN] [1717385490.612524376]: TF_REPEATED_DATA ignoring data with redundant timestamp for frame odom at time 957.748000 according to authority /pose_integrator\u001b[0m\n",
      "\u001b[33m[ WARN] [1717385490.612555929]: TF_REPEATED_DATA ignoring data with redundant timestamp for frame odom at time 957.748000 according to authority /pose_integrator\u001b[0m\n",
      "\u001b[33m[ WARN] [1717385490.612584465]: TF_REPEATED_DATA ignoring data with redundant timestamp for frame odom at time 957.748000 according to authority /pose_integrator\u001b[0m\n",
      "\u001b[33m[ WARN] [1717385504.643567305]: TF_REPEATED_DATA ignoring data with redundant timestamp for frame odom at time 961.307000 according to authority /pose_integrator\u001b[0m\n",
      "\u001b[33m[ WARN] [1717385504.643628545]: TF_REPEATED_DATA ignoring data with redundant timestamp for frame odom at time 961.307000 according to authority /pose_integrator\u001b[0m\n",
      "\u001b[33m[ WARN] [1717385504.643672642]: TF_REPEATED_DATA ignoring data with redundant timestamp for frame odom at time 961.307000 according to authority /pose_integrator\u001b[0m\n",
      "\u001b[33m[ WARN] [1717385504.643715548]: TF_REPEATED_DATA ignoring data with redundant timestamp for frame odom at time 961.307000 according to authority /pose_integrator\u001b[0m\n",
      "\u001b[33m[ WARN] [1717385504.643761595]: TF_REPEATED_DATA ignoring data with redundant timestamp for frame odom at time 961.307000 according to authority /pose_integrator\u001b[0m\n",
      "\u001b[33m[ WARN] [1717385504.643810665]: TF_REPEATED_DATA ignoring data with redundant timestamp for frame odom at time 961.307000 according to authority /pose_integrator\u001b[0m\n",
      "\u001b[33m[ WARN] [1717385507.405283394]: TF_REPEATED_DATA ignoring data with redundant timestamp for frame odom at time 962.081000 according to authority /pose_integrator\u001b[0m\n",
      "\u001b[33m[ WARN] [1717385507.405335425]: TF_REPEATED_DATA ignoring data with redundant timestamp for frame odom at time 962.081000 according to authority /pose_integrator\u001b[0m\n",
      "\u001b[33m[ WARN] [1717385507.405367036]: TF_REPEATED_DATA ignoring data with redundant timestamp for frame odom at time 962.081000 according to authority /pose_integrator\u001b[0m\n",
      "\u001b[33m[ WARN] [1717385507.405395145]: TF_REPEATED_DATA ignoring data with redundant timestamp for frame odom at time 962.081000 according to authority /pose_integrator\u001b[0m\n",
      "\u001b[33m[ WARN] [1717385507.405429934]: TF_REPEATED_DATA ignoring data with redundant timestamp for frame odom at time 962.081000 according to authority /pose_integrator\u001b[0m\n",
      "\u001b[33m[ WARN] [1717385507.405457842]: TF_REPEATED_DATA ignoring data with redundant timestamp for frame odom at time 962.081000 according to authority /pose_integrator\u001b[0m\n"
     ]
    },
    {
     "name": "stderr",
     "output_type": "stream",
     "text": [
      "\u001b[33m[ WARN] [1717385508.514886258]: TF_REPEATED_DATA ignoring data with redundant timestamp for frame odom at time 962.350000 according to authority /pose_integrator\u001b[0m\n",
      "\u001b[33m[ WARN] [1717385508.514952911]: TF_REPEATED_DATA ignoring data with redundant timestamp for frame odom at time 962.350000 according to authority /pose_integrator\u001b[0m\n",
      "\u001b[33m[ WARN] [1717385508.515003286]: TF_REPEATED_DATA ignoring data with redundant timestamp for frame odom at time 962.350000 according to authority /pose_integrator\u001b[0m\n",
      "\u001b[33m[ WARN] [1717385508.515052725]: TF_REPEATED_DATA ignoring data with redundant timestamp for frame odom at time 962.350000 according to authority /pose_integrator\u001b[0m\n",
      "\u001b[33m[ WARN] [1717385508.515104073]: TF_REPEATED_DATA ignoring data with redundant timestamp for frame odom at time 962.350000 according to authority /pose_integrator\u001b[0m\n",
      "\u001b[33m[ WARN] [1717385508.515152032]: TF_REPEATED_DATA ignoring data with redundant timestamp for frame odom at time 962.350000 according to authority /pose_integrator\u001b[0m\n",
      "\u001b[33m[ WARN] [1717385594.775617831]: TF_REPEATED_DATA ignoring data with redundant timestamp for frame odom at time 983.401000 according to authority /pose_integrator\u001b[0m\n",
      "\u001b[33m[ WARN] [1717385594.775678099]: TF_REPEATED_DATA ignoring data with redundant timestamp for frame odom at time 983.401000 according to authority /pose_integrator\u001b[0m\n",
      "\u001b[33m[ WARN] [1717385594.775716235]: TF_REPEATED_DATA ignoring data with redundant timestamp for frame odom at time 983.401000 according to authority /pose_integrator\u001b[0m\n",
      "\u001b[33m[ WARN] [1717385594.775753996]: TF_REPEATED_DATA ignoring data with redundant timestamp for frame odom at time 983.401000 according to authority /pose_integrator\u001b[0m\n",
      "\u001b[33m[ WARN] [1717385594.775797660]: TF_REPEATED_DATA ignoring data with redundant timestamp for frame odom at time 983.401000 according to authority /pose_integrator\u001b[0m\n",
      "\u001b[33m[ WARN] [1717385594.775837668]: TF_REPEATED_DATA ignoring data with redundant timestamp for frame odom at time 983.401000 according to authority /pose_integrator\u001b[0m\n",
      "\u001b[33m[ WARN] [1717385621.195454768]: TF_REPEATED_DATA ignoring data with redundant timestamp for frame odom at time 989.823000 according to authority /pose_integrator\u001b[0m\n",
      "\u001b[33m[ WARN] [1717385621.195531273]: TF_REPEATED_DATA ignoring data with redundant timestamp for frame odom at time 989.823000 according to authority /pose_integrator\u001b[0m\n",
      "\u001b[33m[ WARN] [1717385621.195584656]: TF_REPEATED_DATA ignoring data with redundant timestamp for frame odom at time 989.823000 according to authority /pose_integrator\u001b[0m\n",
      "\u001b[33m[ WARN] [1717385621.195637771]: TF_REPEATED_DATA ignoring data with redundant timestamp for frame odom at time 989.823000 according to authority /pose_integrator\u001b[0m\n",
      "\u001b[33m[ WARN] [1717385621.195692534]: TF_REPEATED_DATA ignoring data with redundant timestamp for frame odom at time 989.823000 according to authority /pose_integrator\u001b[0m\n",
      "\u001b[33m[ WARN] [1717385621.195746546]: TF_REPEATED_DATA ignoring data with redundant timestamp for frame odom at time 989.823000 according to authority /pose_integrator\u001b[0m\n",
      "\u001b[33m[ WARN] [1717385622.184721233]: TF_REPEATED_DATA ignoring data with redundant timestamp for frame odom at time 990.095000 according to authority /pose_integrator\u001b[0m\n",
      "\u001b[33m[ WARN] [1717385622.184801224]: TF_REPEATED_DATA ignoring data with redundant timestamp for frame odom at time 990.095000 according to authority /pose_integrator\u001b[0m\n",
      "\u001b[33m[ WARN] [1717385622.184855166]: TF_REPEATED_DATA ignoring data with redundant timestamp for frame odom at time 990.095000 according to authority /pose_integrator\u001b[0m\n",
      "\u001b[33m[ WARN] [1717385622.184893534]: TF_REPEATED_DATA ignoring data with redundant timestamp for frame odom at time 990.095000 according to authority /pose_integrator\u001b[0m\n",
      "\u001b[33m[ WARN] [1717385622.184934433]: TF_REPEATED_DATA ignoring data with redundant timestamp for frame odom at time 990.095000 according to authority /pose_integrator\u001b[0m\n",
      "\u001b[33m[ WARN] [1717385622.184969892]: TF_REPEATED_DATA ignoring data with redundant timestamp for frame odom at time 990.095000 according to authority /pose_integrator\u001b[0m\n",
      "\u001b[33m[ WARN] [1717385663.889924193]: TF_REPEATED_DATA ignoring data with redundant timestamp for frame odom at time 1000.909000 according to authority /pose_integrator\u001b[0m\n",
      "\u001b[33m[ WARN] [1717385663.890002304]: TF_REPEATED_DATA ignoring data with redundant timestamp for frame odom at time 1000.909000 according to authority /pose_integrator\u001b[0m\n",
      "\u001b[33m[ WARN] [1717385663.890060249]: TF_REPEATED_DATA ignoring data with redundant timestamp for frame odom at time 1000.909000 according to authority /pose_integrator\u001b[0m\n",
      "\u001b[33m[ WARN] [1717385663.890132272]: TF_REPEATED_DATA ignoring data with redundant timestamp for frame odom at time 1000.909000 according to authority /pose_integrator\u001b[0m\n",
      "\u001b[33m[ WARN] [1717385663.890172269]: TF_REPEATED_DATA ignoring data with redundant timestamp for frame odom at time 1000.909000 according to authority /pose_integrator\u001b[0m\n",
      "\u001b[33m[ WARN] [1717385663.890219952]: TF_REPEATED_DATA ignoring data with redundant timestamp for frame odom at time 1000.909000 according to authority /pose_integrator\u001b[0m\n",
      "\u001b[33m[ WARN] [1717385682.396422745]: TF_REPEATED_DATA ignoring data with redundant timestamp for frame odom at time 1005.804000 according to authority /pose_integrator\u001b[0m\n",
      "\u001b[33m[ WARN] [1717385682.396480959]: TF_REPEATED_DATA ignoring data with redundant timestamp for frame odom at time 1005.804000 according to authority /pose_integrator\u001b[0m\n",
      "\u001b[33m[ WARN] [1717385682.396523668]: TF_REPEATED_DATA ignoring data with redundant timestamp for frame odom at time 1005.804000 according to authority /pose_integrator\u001b[0m\n",
      "\u001b[33m[ WARN] [1717385682.396574951]: TF_REPEATED_DATA ignoring data with redundant timestamp for frame odom at time 1005.804000 according to authority /pose_integrator\u001b[0m\n",
      "\u001b[33m[ WARN] [1717385682.396618894]: TF_REPEATED_DATA ignoring data with redundant timestamp for frame odom at time 1005.804000 according to authority /pose_integrator\u001b[0m\n",
      "\u001b[33m[ WARN] [1717385682.396662220]: TF_REPEATED_DATA ignoring data with redundant timestamp for frame odom at time 1005.804000 according to authority /pose_integrator\u001b[0m\n",
      "\u001b[33m[ WARN] [1717385730.591172382]: TF_REPEATED_DATA ignoring data with redundant timestamp for frame odom at time 1017.736000 according to authority /pose_integrator\u001b[0m\n",
      "\u001b[33m[ WARN] [1717385730.591227667]: TF_REPEATED_DATA ignoring data with redundant timestamp for frame odom at time 1017.736000 according to authority /pose_integrator\u001b[0m\n",
      "\u001b[33m[ WARN] [1717385730.591259539]: TF_REPEATED_DATA ignoring data with redundant timestamp for frame odom at time 1017.736000 according to authority /pose_integrator\u001b[0m\n",
      "\u001b[33m[ WARN] [1717385730.591295834]: TF_REPEATED_DATA ignoring data with redundant timestamp for frame odom at time 1017.736000 according to authority /pose_integrator\u001b[0m\n",
      "\u001b[33m[ WARN] [1717385730.591332342]: TF_REPEATED_DATA ignoring data with redundant timestamp for frame odom at time 1017.736000 according to authority /pose_integrator\u001b[0m\n",
      "\u001b[33m[ WARN] [1717385730.591368602]: TF_REPEATED_DATA ignoring data with redundant timestamp for frame odom at time 1017.736000 according to authority /pose_integrator\u001b[0m\n",
      "\u001b[33m[ WARN] [1717385807.608596165]: TF_REPEATED_DATA ignoring data with redundant timestamp for frame odom at time 1034.637000 according to authority /pose_integrator\u001b[0m\n",
      "\u001b[33m[ WARN] [1717385807.608661456]: TF_REPEATED_DATA ignoring data with redundant timestamp for frame odom at time 1034.637000 according to authority /pose_integrator\u001b[0m\n",
      "\u001b[33m[ WARN] [1717385807.608733685]: TF_REPEATED_DATA ignoring data with redundant timestamp for frame odom at time 1034.637000 according to authority /pose_integrator\u001b[0m\n",
      "\u001b[33m[ WARN] [1717385807.608778180]: TF_REPEATED_DATA ignoring data with redundant timestamp for frame odom at time 1034.637000 according to authority /pose_integrator\u001b[0m\n",
      "\u001b[33m[ WARN] [1717385807.608819302]: TF_REPEATED_DATA ignoring data with redundant timestamp for frame odom at time 1034.637000 according to authority /pose_integrator\u001b[0m\n",
      "\u001b[33m[ WARN] [1717385807.608853516]: TF_REPEATED_DATA ignoring data with redundant timestamp for frame odom at time 1034.637000 according to authority /pose_integrator\u001b[0m\n"
     ]
    },
    {
     "name": "stderr",
     "output_type": "stream",
     "text": [
      "\u001b[33m[ WARN] [1717385809.982662154]: TF_REPEATED_DATA ignoring data with redundant timestamp for frame odom at time 1035.142000 according to authority /pose_integrator\u001b[0m\n",
      "\u001b[33m[ WARN] [1717385809.982716608]: TF_REPEATED_DATA ignoring data with redundant timestamp for frame odom at time 1035.142000 according to authority /pose_integrator\u001b[0m\n",
      "\u001b[33m[ WARN] [1717385809.982761637]: TF_REPEATED_DATA ignoring data with redundant timestamp for frame odom at time 1035.142000 according to authority /pose_integrator\u001b[0m\n",
      "\u001b[33m[ WARN] [1717385809.982803508]: TF_REPEATED_DATA ignoring data with redundant timestamp for frame odom at time 1035.142000 according to authority /pose_integrator\u001b[0m\n",
      "\u001b[33m[ WARN] [1717385809.982838933]: TF_REPEATED_DATA ignoring data with redundant timestamp for frame odom at time 1035.142000 according to authority /pose_integrator\u001b[0m\n",
      "\u001b[33m[ WARN] [1717385809.982883054]: TF_REPEATED_DATA ignoring data with redundant timestamp for frame odom at time 1035.142000 according to authority /pose_integrator\u001b[0m\n",
      "\u001b[33m[ WARN] [1717385927.711280915]: TF_REPEATED_DATA ignoring data with redundant timestamp for frame odom at time 1064.316000 according to authority /pose_integrator\u001b[0m\n",
      "\u001b[33m[ WARN] [1717385927.711331571]: TF_REPEATED_DATA ignoring data with redundant timestamp for frame odom at time 1064.316000 according to authority /pose_integrator\u001b[0m\n",
      "\u001b[33m[ WARN] [1717385927.711366006]: TF_REPEATED_DATA ignoring data with redundant timestamp for frame odom at time 1064.316000 according to authority /pose_integrator\u001b[0m\n",
      "\u001b[33m[ WARN] [1717385927.711404446]: TF_REPEATED_DATA ignoring data with redundant timestamp for frame odom at time 1064.316000 according to authority /pose_integrator\u001b[0m\n",
      "\u001b[33m[ WARN] [1717385927.711438626]: TF_REPEATED_DATA ignoring data with redundant timestamp for frame odom at time 1064.316000 according to authority /pose_integrator\u001b[0m\n",
      "\u001b[33m[ WARN] [1717385927.711470820]: TF_REPEATED_DATA ignoring data with redundant timestamp for frame odom at time 1064.316000 according to authority /pose_integrator\u001b[0m\n",
      "\u001b[33m[ WARN] [1717385939.119613305]: TF_REPEATED_DATA ignoring data with redundant timestamp for frame odom at time 1067.157000 according to authority /pose_integrator\u001b[0m\n",
      "\u001b[33m[ WARN] [1717385939.119691966]: TF_REPEATED_DATA ignoring data with redundant timestamp for frame odom at time 1067.157000 according to authority /pose_integrator\u001b[0m\n",
      "\u001b[33m[ WARN] [1717385939.119744491]: TF_REPEATED_DATA ignoring data with redundant timestamp for frame odom at time 1067.157000 according to authority /pose_integrator\u001b[0m\n",
      "\u001b[33m[ WARN] [1717385939.119794378]: TF_REPEATED_DATA ignoring data with redundant timestamp for frame odom at time 1067.157000 according to authority /pose_integrator\u001b[0m\n",
      "\u001b[33m[ WARN] [1717385939.119836952]: TF_REPEATED_DATA ignoring data with redundant timestamp for frame odom at time 1067.157000 according to authority /pose_integrator\u001b[0m\n",
      "\u001b[33m[ WARN] [1717385939.119881224]: TF_REPEATED_DATA ignoring data with redundant timestamp for frame odom at time 1067.157000 according to authority /pose_integrator\u001b[0m\n",
      "\u001b[33m[ WARN] [1717385968.735217916]: TF_REPEATED_DATA ignoring data with redundant timestamp for frame odom at time 1074.047000 according to authority /pose_integrator\u001b[0m\n",
      "\u001b[33m[ WARN] [1717385968.735271444]: TF_REPEATED_DATA ignoring data with redundant timestamp for frame odom at time 1074.047000 according to authority /pose_integrator\u001b[0m\n",
      "\u001b[33m[ WARN] [1717385968.735309362]: TF_REPEATED_DATA ignoring data with redundant timestamp for frame odom at time 1074.047000 according to authority /pose_integrator\u001b[0m\n",
      "\u001b[33m[ WARN] [1717385968.735343246]: TF_REPEATED_DATA ignoring data with redundant timestamp for frame odom at time 1074.047000 according to authority /pose_integrator\u001b[0m\n",
      "\u001b[33m[ WARN] [1717385968.735375785]: TF_REPEATED_DATA ignoring data with redundant timestamp for frame odom at time 1074.047000 according to authority /pose_integrator\u001b[0m\n",
      "\u001b[33m[ WARN] [1717385968.735408419]: TF_REPEATED_DATA ignoring data with redundant timestamp for frame odom at time 1074.047000 according to authority /pose_integrator\u001b[0m\n",
      "\u001b[33m[ WARN] [1717385975.336890527]: TF_REPEATED_DATA ignoring data with redundant timestamp for frame odom at time 1075.572000 according to authority /pose_integrator\u001b[0m\n",
      "\u001b[33m[ WARN] [1717385975.336949109]: TF_REPEATED_DATA ignoring data with redundant timestamp for frame odom at time 1075.572000 according to authority /pose_integrator\u001b[0m\n",
      "\u001b[33m[ WARN] [1717385975.336991027]: TF_REPEATED_DATA ignoring data with redundant timestamp for frame odom at time 1075.572000 according to authority /pose_integrator\u001b[0m\n",
      "\u001b[33m[ WARN] [1717385975.337040849]: TF_REPEATED_DATA ignoring data with redundant timestamp for frame odom at time 1075.572000 according to authority /pose_integrator\u001b[0m\n",
      "\u001b[33m[ WARN] [1717385975.337098375]: TF_REPEATED_DATA ignoring data with redundant timestamp for frame odom at time 1075.572000 according to authority /pose_integrator\u001b[0m\n",
      "\u001b[33m[ WARN] [1717385975.337148433]: TF_REPEATED_DATA ignoring data with redundant timestamp for frame odom at time 1075.572000 according to authority /pose_integrator\u001b[0m\n",
      "\u001b[33m[ WARN] [1717386229.663322389]: TF_REPEATED_DATA ignoring data with redundant timestamp for frame odom at time 1130.455000 according to authority /pose_integrator\u001b[0m\n",
      "\u001b[33m[ WARN] [1717386229.663383522]: TF_REPEATED_DATA ignoring data with redundant timestamp for frame odom at time 1130.455000 according to authority /pose_integrator\u001b[0m\n",
      "\u001b[33m[ WARN] [1717386229.663426023]: TF_REPEATED_DATA ignoring data with redundant timestamp for frame odom at time 1130.455000 according to authority /pose_integrator\u001b[0m\n",
      "\u001b[33m[ WARN] [1717386229.663469352]: TF_REPEATED_DATA ignoring data with redundant timestamp for frame odom at time 1130.455000 according to authority /pose_integrator\u001b[0m\n",
      "\u001b[33m[ WARN] [1717386229.663508562]: TF_REPEATED_DATA ignoring data with redundant timestamp for frame odom at time 1130.455000 according to authority /pose_integrator\u001b[0m\n",
      "\u001b[33m[ WARN] [1717386229.663546331]: TF_REPEATED_DATA ignoring data with redundant timestamp for frame odom at time 1130.455000 according to authority /pose_integrator\u001b[0m\n",
      "\u001b[33m[ WARN] [1717386280.631650550]: TF_REPEATED_DATA ignoring data with redundant timestamp for frame odom at time 1142.073000 according to authority /pose_integrator\u001b[0m\n",
      "\u001b[33m[ WARN] [1717386280.631733555]: TF_REPEATED_DATA ignoring data with redundant timestamp for frame odom at time 1142.073000 according to authority /pose_integrator\u001b[0m\n",
      "\u001b[33m[ WARN] [1717386280.631785049]: TF_REPEATED_DATA ignoring data with redundant timestamp for frame odom at time 1142.073000 according to authority /pose_integrator\u001b[0m\n",
      "\u001b[33m[ WARN] [1717386280.631834568]: TF_REPEATED_DATA ignoring data with redundant timestamp for frame odom at time 1142.073000 according to authority /pose_integrator\u001b[0m\n",
      "\u001b[33m[ WARN] [1717386280.631883299]: TF_REPEATED_DATA ignoring data with redundant timestamp for frame odom at time 1142.073000 according to authority /pose_integrator\u001b[0m\n",
      "\u001b[33m[ WARN] [1717386280.631924455]: TF_REPEATED_DATA ignoring data with redundant timestamp for frame odom at time 1142.073000 according to authority /pose_integrator\u001b[0m\n",
      "\u001b[33m[ WARN] [1717386295.278437909]: TF_REPEATED_DATA ignoring data with redundant timestamp for frame odom at time 1144.802000 according to authority /pose_integrator\u001b[0m\n",
      "\u001b[33m[ WARN] [1717386295.278488413]: TF_REPEATED_DATA ignoring data with redundant timestamp for frame odom at time 1144.802000 according to authority /pose_integrator\u001b[0m\n",
      "\u001b[33m[ WARN] [1717386295.278518882]: TF_REPEATED_DATA ignoring data with redundant timestamp for frame odom at time 1144.802000 according to authority /pose_integrator\u001b[0m\n",
      "\u001b[33m[ WARN] [1717386295.278552720]: TF_REPEATED_DATA ignoring data with redundant timestamp for frame odom at time 1144.802000 according to authority /pose_integrator\u001b[0m\n",
      "\u001b[33m[ WARN] [1717386295.278582098]: TF_REPEATED_DATA ignoring data with redundant timestamp for frame odom at time 1144.802000 according to authority /pose_integrator\u001b[0m\n",
      "\u001b[33m[ WARN] [1717386295.278612074]: TF_REPEATED_DATA ignoring data with redundant timestamp for frame odom at time 1144.802000 according to authority /pose_integrator\u001b[0m\n"
     ]
    },
    {
     "name": "stderr",
     "output_type": "stream",
     "text": [
      "\u001b[33m[ WARN] [1717386303.146991778]: TF_REPEATED_DATA ignoring data with redundant timestamp for frame odom at time 1146.342000 according to authority /pose_integrator\u001b[0m\n",
      "\u001b[33m[ WARN] [1717386303.147057921]: TF_REPEATED_DATA ignoring data with redundant timestamp for frame odom at time 1146.342000 according to authority /pose_integrator\u001b[0m\n",
      "\u001b[33m[ WARN] [1717386303.147103619]: TF_REPEATED_DATA ignoring data with redundant timestamp for frame odom at time 1146.342000 according to authority /pose_integrator\u001b[0m\n",
      "\u001b[33m[ WARN] [1717386303.147142627]: TF_REPEATED_DATA ignoring data with redundant timestamp for frame odom at time 1146.342000 according to authority /pose_integrator\u001b[0m\n",
      "\u001b[33m[ WARN] [1717386303.147181801]: TF_REPEATED_DATA ignoring data with redundant timestamp for frame odom at time 1146.342000 according to authority /pose_integrator\u001b[0m\n",
      "\u001b[33m[ WARN] [1717386303.147213924]: TF_REPEATED_DATA ignoring data with redundant timestamp for frame odom at time 1146.342000 according to authority /pose_integrator\u001b[0m\n",
      "\u001b[33m[ WARN] [1717386307.010510339]: TF_REPEATED_DATA ignoring data with redundant timestamp for frame odom at time 1147.134000 according to authority /pose_integrator\u001b[0m\n",
      "\u001b[33m[ WARN] [1717386307.010588766]: TF_REPEATED_DATA ignoring data with redundant timestamp for frame odom at time 1147.134000 according to authority /pose_integrator\u001b[0m\n",
      "\u001b[33m[ WARN] [1717386307.010646595]: TF_REPEATED_DATA ignoring data with redundant timestamp for frame odom at time 1147.134000 according to authority /pose_integrator\u001b[0m\n",
      "\u001b[33m[ WARN] [1717386307.010696098]: TF_REPEATED_DATA ignoring data with redundant timestamp for frame odom at time 1147.134000 according to authority /pose_integrator\u001b[0m\n",
      "\u001b[33m[ WARN] [1717386307.010743324]: TF_REPEATED_DATA ignoring data with redundant timestamp for frame odom at time 1147.134000 according to authority /pose_integrator\u001b[0m\n",
      "\u001b[33m[ WARN] [1717386307.010801072]: TF_REPEATED_DATA ignoring data with redundant timestamp for frame odom at time 1147.134000 according to authority /pose_integrator\u001b[0m\n",
      "\u001b[33m[ WARN] [1717386308.041272458]: TF_REPEATED_DATA ignoring data with redundant timestamp for frame odom at time 1147.396000 according to authority /pose_integrator\u001b[0m\n",
      "\u001b[33m[ WARN] [1717386308.041317651]: TF_REPEATED_DATA ignoring data with redundant timestamp for frame odom at time 1147.396000 according to authority /pose_integrator\u001b[0m\n",
      "\u001b[33m[ WARN] [1717386308.041355998]: TF_REPEATED_DATA ignoring data with redundant timestamp for frame odom at time 1147.396000 according to authority /pose_integrator\u001b[0m\n",
      "\u001b[33m[ WARN] [1717386308.041393841]: TF_REPEATED_DATA ignoring data with redundant timestamp for frame odom at time 1147.396000 according to authority /pose_integrator\u001b[0m\n",
      "\u001b[33m[ WARN] [1717386308.041425380]: TF_REPEATED_DATA ignoring data with redundant timestamp for frame odom at time 1147.396000 according to authority /pose_integrator\u001b[0m\n",
      "\u001b[33m[ WARN] [1717386308.041454876]: TF_REPEATED_DATA ignoring data with redundant timestamp for frame odom at time 1147.396000 according to authority /pose_integrator\u001b[0m\n",
      "\u001b[33m[ WARN] [1717386357.037414886]: TF_REPEATED_DATA ignoring data with redundant timestamp for frame odom at time 1159.151000 according to authority /pose_integrator\u001b[0m\n",
      "\u001b[33m[ WARN] [1717386357.037472080]: TF_REPEATED_DATA ignoring data with redundant timestamp for frame odom at time 1159.151000 according to authority /pose_integrator\u001b[0m\n",
      "\u001b[33m[ WARN] [1717386357.037521685]: TF_REPEATED_DATA ignoring data with redundant timestamp for frame odom at time 1159.151000 according to authority /pose_integrator\u001b[0m\n",
      "\u001b[33m[ WARN] [1717386357.037558334]: TF_REPEATED_DATA ignoring data with redundant timestamp for frame odom at time 1159.151000 according to authority /pose_integrator\u001b[0m\n",
      "\u001b[33m[ WARN] [1717386357.037600365]: TF_REPEATED_DATA ignoring data with redundant timestamp for frame odom at time 1159.151000 according to authority /pose_integrator\u001b[0m\n",
      "\u001b[33m[ WARN] [1717386357.037646126]: TF_REPEATED_DATA ignoring data with redundant timestamp for frame odom at time 1159.151000 according to authority /pose_integrator\u001b[0m\n",
      "\u001b[33m[ WARN] [1717386462.195931579]: TF_REPEATED_DATA ignoring data with redundant timestamp for frame odom at time 1183.298000 according to authority /pose_integrator\u001b[0m\n",
      "\u001b[33m[ WARN] [1717386462.195991914]: TF_REPEATED_DATA ignoring data with redundant timestamp for frame odom at time 1183.298000 according to authority /pose_integrator\u001b[0m\n",
      "\u001b[33m[ WARN] [1717386462.196024592]: TF_REPEATED_DATA ignoring data with redundant timestamp for frame odom at time 1183.298000 according to authority /pose_integrator\u001b[0m\n",
      "\u001b[33m[ WARN] [1717386462.196055262]: TF_REPEATED_DATA ignoring data with redundant timestamp for frame odom at time 1183.298000 according to authority /pose_integrator\u001b[0m\n",
      "\u001b[33m[ WARN] [1717386462.196094104]: TF_REPEATED_DATA ignoring data with redundant timestamp for frame odom at time 1183.298000 according to authority /pose_integrator\u001b[0m\n",
      "\u001b[33m[ WARN] [1717386462.196126899]: TF_REPEATED_DATA ignoring data with redundant timestamp for frame odom at time 1183.298000 according to authority /pose_integrator\u001b[0m\n",
      "\u001b[33m[ WARN] [1717386462.645917859]: TF_REPEATED_DATA ignoring data with redundant timestamp for frame odom at time 1183.417000 according to authority /pose_integrator\u001b[0m\n",
      "\u001b[33m[ WARN] [1717386462.645979863]: TF_REPEATED_DATA ignoring data with redundant timestamp for frame odom at time 1183.417000 according to authority /pose_integrator\u001b[0m\n",
      "\u001b[33m[ WARN] [1717386462.646019265]: TF_REPEATED_DATA ignoring data with redundant timestamp for frame odom at time 1183.417000 according to authority /pose_integrator\u001b[0m\n",
      "\u001b[33m[ WARN] [1717386462.646049298]: TF_REPEATED_DATA ignoring data with redundant timestamp for frame odom at time 1183.417000 according to authority /pose_integrator\u001b[0m\n",
      "\u001b[33m[ WARN] [1717386462.646076417]: TF_REPEATED_DATA ignoring data with redundant timestamp for frame odom at time 1183.417000 according to authority /pose_integrator\u001b[0m\n",
      "\u001b[33m[ WARN] [1717386462.646104998]: TF_REPEATED_DATA ignoring data with redundant timestamp for frame odom at time 1183.417000 according to authority /pose_integrator\u001b[0m\n",
      "\u001b[33m[ WARN] [1717386475.388578594]: TF_REPEATED_DATA ignoring data with redundant timestamp for frame odom at time 1186.552000 according to authority /pose_integrator\u001b[0m\n",
      "\u001b[33m[ WARN] [1717386475.388624930]: TF_REPEATED_DATA ignoring data with redundant timestamp for frame odom at time 1186.552000 according to authority /pose_integrator\u001b[0m\n",
      "\u001b[33m[ WARN] [1717386475.388654586]: TF_REPEATED_DATA ignoring data with redundant timestamp for frame odom at time 1186.552000 according to authority /pose_integrator\u001b[0m\n",
      "\u001b[33m[ WARN] [1717386475.388689064]: TF_REPEATED_DATA ignoring data with redundant timestamp for frame odom at time 1186.552000 according to authority /pose_integrator\u001b[0m\n",
      "\u001b[33m[ WARN] [1717386475.388718605]: TF_REPEATED_DATA ignoring data with redundant timestamp for frame odom at time 1186.552000 according to authority /pose_integrator\u001b[0m\n",
      "\u001b[33m[ WARN] [1717386475.388747765]: TF_REPEATED_DATA ignoring data with redundant timestamp for frame odom at time 1186.552000 according to authority /pose_integrator\u001b[0m\n",
      "\u001b[33m[ WARN] [1717386506.505030884]: TF_REPEATED_DATA ignoring data with redundant timestamp for frame odom at time 1193.353000 according to authority /pose_integrator\u001b[0m\n",
      "\u001b[33m[ WARN] [1717386506.505079486]: TF_REPEATED_DATA ignoring data with redundant timestamp for frame odom at time 1193.353000 according to authority /pose_integrator\u001b[0m\n",
      "\u001b[33m[ WARN] [1717386506.505109132]: TF_REPEATED_DATA ignoring data with redundant timestamp for frame odom at time 1193.353000 according to authority /pose_integrator\u001b[0m\n",
      "\u001b[33m[ WARN] [1717386506.505137046]: TF_REPEATED_DATA ignoring data with redundant timestamp for frame odom at time 1193.353000 according to authority /pose_integrator\u001b[0m\n",
      "\u001b[33m[ WARN] [1717386506.505164060]: TF_REPEATED_DATA ignoring data with redundant timestamp for frame odom at time 1193.353000 according to authority /pose_integrator\u001b[0m\n",
      "\u001b[33m[ WARN] [1717386506.505190779]: TF_REPEATED_DATA ignoring data with redundant timestamp for frame odom at time 1193.353000 according to authority /pose_integrator\u001b[0m\n"
     ]
    },
    {
     "name": "stderr",
     "output_type": "stream",
     "text": [
      "\u001b[33m[ WARN] [1717386532.715172901]: TF_REPEATED_DATA ignoring data with redundant timestamp for frame odom at time 1199.301000 according to authority /pose_integrator\u001b[0m\n",
      "\u001b[33m[ WARN] [1717386532.715236222]: TF_REPEATED_DATA ignoring data with redundant timestamp for frame odom at time 1199.301000 according to authority /pose_integrator\u001b[0m\n",
      "\u001b[33m[ WARN] [1717386532.715285338]: TF_REPEATED_DATA ignoring data with redundant timestamp for frame odom at time 1199.301000 according to authority /pose_integrator\u001b[0m\n",
      "\u001b[33m[ WARN] [1717386532.715337912]: TF_REPEATED_DATA ignoring data with redundant timestamp for frame odom at time 1199.301000 according to authority /pose_integrator\u001b[0m\n",
      "\u001b[33m[ WARN] [1717386532.715388262]: TF_REPEATED_DATA ignoring data with redundant timestamp for frame odom at time 1199.301000 according to authority /pose_integrator\u001b[0m\n",
      "\u001b[33m[ WARN] [1717386532.715420434]: TF_REPEATED_DATA ignoring data with redundant timestamp for frame odom at time 1199.301000 according to authority /pose_integrator\u001b[0m\n",
      "\u001b[33m[ WARN] [1717386612.922826097]: TF_REPEATED_DATA ignoring data with redundant timestamp for frame odom at time 1218.062000 according to authority /pose_integrator\u001b[0m\n",
      "\u001b[33m[ WARN] [1717386612.922882904]: TF_REPEATED_DATA ignoring data with redundant timestamp for frame odom at time 1218.062000 according to authority /pose_integrator\u001b[0m\n",
      "\u001b[33m[ WARN] [1717386612.922926979]: TF_REPEATED_DATA ignoring data with redundant timestamp for frame odom at time 1218.062000 according to authority /pose_integrator\u001b[0m\n",
      "\u001b[33m[ WARN] [1717386612.922964125]: TF_REPEATED_DATA ignoring data with redundant timestamp for frame odom at time 1218.062000 according to authority /pose_integrator\u001b[0m\n",
      "\u001b[33m[ WARN] [1717386612.923001250]: TF_REPEATED_DATA ignoring data with redundant timestamp for frame odom at time 1218.062000 according to authority /pose_integrator\u001b[0m\n",
      "\u001b[33m[ WARN] [1717386612.923039763]: TF_REPEATED_DATA ignoring data with redundant timestamp for frame odom at time 1218.062000 according to authority /pose_integrator\u001b[0m\n",
      "\u001b[33m[ WARN] [1717386640.485547428]: TF_REPEATED_DATA ignoring data with redundant timestamp for frame odom at time 1224.702000 according to authority /pose_integrator\u001b[0m\n",
      "\u001b[33m[ WARN] [1717386640.485617604]: TF_REPEATED_DATA ignoring data with redundant timestamp for frame odom at time 1224.702000 according to authority /pose_integrator\u001b[0m\n",
      "\u001b[33m[ WARN] [1717386640.485663606]: TF_REPEATED_DATA ignoring data with redundant timestamp for frame odom at time 1224.702000 according to authority /pose_integrator\u001b[0m\n",
      "\u001b[33m[ WARN] [1717386640.485709955]: TF_REPEATED_DATA ignoring data with redundant timestamp for frame odom at time 1224.702000 according to authority /pose_integrator\u001b[0m\n",
      "\u001b[33m[ WARN] [1717386640.485765360]: TF_REPEATED_DATA ignoring data with redundant timestamp for frame odom at time 1224.702000 according to authority /pose_integrator\u001b[0m\n",
      "\u001b[33m[ WARN] [1717386640.485811840]: TF_REPEATED_DATA ignoring data with redundant timestamp for frame odom at time 1224.702000 according to authority /pose_integrator\u001b[0m\n",
      "\u001b[33m[ WARN] [1717386649.696445179]: TF_REPEATED_DATA ignoring data with redundant timestamp for frame odom at time 1227.092000 according to authority /pose_integrator\u001b[0m\n",
      "\u001b[33m[ WARN] [1717386649.696510869]: TF_REPEATED_DATA ignoring data with redundant timestamp for frame odom at time 1227.092000 according to authority /pose_integrator\u001b[0m\n",
      "\u001b[33m[ WARN] [1717386649.696552130]: TF_REPEATED_DATA ignoring data with redundant timestamp for frame odom at time 1227.092000 according to authority /pose_integrator\u001b[0m\n",
      "\u001b[33m[ WARN] [1717386649.696589680]: TF_REPEATED_DATA ignoring data with redundant timestamp for frame odom at time 1227.092000 according to authority /pose_integrator\u001b[0m\n",
      "\u001b[33m[ WARN] [1717386649.696625582]: TF_REPEATED_DATA ignoring data with redundant timestamp for frame odom at time 1227.092000 according to authority /pose_integrator\u001b[0m\n",
      "\u001b[33m[ WARN] [1717386649.696662672]: TF_REPEATED_DATA ignoring data with redundant timestamp for frame odom at time 1227.092000 according to authority /pose_integrator\u001b[0m\n",
      "\u001b[33m[ WARN] [1717386662.336400894]: TF_REPEATED_DATA ignoring data with redundant timestamp for frame odom at time 1229.882000 according to authority /pose_integrator\u001b[0m\n",
      "\u001b[33m[ WARN] [1717386662.336449161]: TF_REPEATED_DATA ignoring data with redundant timestamp for frame odom at time 1229.882000 according to authority /pose_integrator\u001b[0m\n",
      "\u001b[33m[ WARN] [1717386662.336478189]: TF_REPEATED_DATA ignoring data with redundant timestamp for frame odom at time 1229.882000 according to authority /pose_integrator\u001b[0m\n",
      "\u001b[33m[ WARN] [1717386662.336504031]: TF_REPEATED_DATA ignoring data with redundant timestamp for frame odom at time 1229.882000 according to authority /pose_integrator\u001b[0m\n",
      "\u001b[33m[ WARN] [1717386662.336530466]: TF_REPEATED_DATA ignoring data with redundant timestamp for frame odom at time 1229.882000 according to authority /pose_integrator\u001b[0m\n",
      "\u001b[33m[ WARN] [1717386662.336566042]: TF_REPEATED_DATA ignoring data with redundant timestamp for frame odom at time 1229.882000 according to authority /pose_integrator\u001b[0m\n",
      "\u001b[33m[ WARN] [1717386675.636669372]: TF_REPEATED_DATA ignoring data with redundant timestamp for frame odom at time 1233.352000 according to authority /pose_integrator\u001b[0m\n",
      "\u001b[33m[ WARN] [1717386675.636715868]: TF_REPEATED_DATA ignoring data with redundant timestamp for frame odom at time 1233.352000 according to authority /pose_integrator\u001b[0m\n",
      "\u001b[33m[ WARN] [1717386675.636748816]: TF_REPEATED_DATA ignoring data with redundant timestamp for frame odom at time 1233.352000 according to authority /pose_integrator\u001b[0m\n",
      "\u001b[33m[ WARN] [1717386675.636779991]: TF_REPEATED_DATA ignoring data with redundant timestamp for frame odom at time 1233.352000 according to authority /pose_integrator\u001b[0m\n",
      "\u001b[33m[ WARN] [1717386675.636824289]: TF_REPEATED_DATA ignoring data with redundant timestamp for frame odom at time 1233.352000 according to authority /pose_integrator\u001b[0m\n",
      "\u001b[33m[ WARN] [1717386675.636863483]: TF_REPEATED_DATA ignoring data with redundant timestamp for frame odom at time 1233.352000 according to authority /pose_integrator\u001b[0m\n",
      "\u001b[33m[ WARN] [1717386678.485432561]: TF_REPEATED_DATA ignoring data with redundant timestamp for frame odom at time 1234.016000 according to authority /pose_integrator\u001b[0m\n",
      "\u001b[33m[ WARN] [1717386678.493100637]: TF_REPEATED_DATA ignoring data with redundant timestamp for frame odom at time 1234.016000 according to authority /pose_integrator\u001b[0m\n",
      "\u001b[33m[ WARN] [1717386678.493221607]: TF_REPEATED_DATA ignoring data with redundant timestamp for frame odom at time 1234.016000 according to authority /pose_integrator\u001b[0m\n",
      "\u001b[33m[ WARN] [1717386678.493291695]: TF_REPEATED_DATA ignoring data with redundant timestamp for frame odom at time 1234.016000 according to authority /pose_integrator\u001b[0m\n",
      "\u001b[33m[ WARN] [1717386678.493353783]: TF_REPEATED_DATA ignoring data with redundant timestamp for frame odom at time 1234.016000 according to authority /pose_integrator\u001b[0m\n",
      "\u001b[33m[ WARN] [1717386678.493415158]: TF_REPEATED_DATA ignoring data with redundant timestamp for frame odom at time 1234.016000 according to authority /pose_integrator\u001b[0m\n",
      "\u001b[33m[ WARN] [1717386694.272837085]: TF_REPEATED_DATA ignoring data with redundant timestamp for frame odom at time 1237.294000 according to authority /pose_integrator\u001b[0m\n",
      "\u001b[33m[ WARN] [1717386694.272887182]: TF_REPEATED_DATA ignoring data with redundant timestamp for frame odom at time 1237.294000 according to authority /pose_integrator\u001b[0m\n",
      "\u001b[33m[ WARN] [1717386694.272919920]: TF_REPEATED_DATA ignoring data with redundant timestamp for frame odom at time 1237.294000 according to authority /pose_integrator\u001b[0m\n",
      "\u001b[33m[ WARN] [1717386694.272951851]: TF_REPEATED_DATA ignoring data with redundant timestamp for frame odom at time 1237.294000 according to authority /pose_integrator\u001b[0m\n",
      "\u001b[33m[ WARN] [1717386694.272982085]: TF_REPEATED_DATA ignoring data with redundant timestamp for frame odom at time 1237.294000 according to authority /pose_integrator\u001b[0m\n",
      "\u001b[33m[ WARN] [1717386694.273014170]: TF_REPEATED_DATA ignoring data with redundant timestamp for frame odom at time 1237.294000 according to authority /pose_integrator\u001b[0m\n"
     ]
    },
    {
     "name": "stderr",
     "output_type": "stream",
     "text": [
      "\u001b[33m[ WARN] [1717386695.408255175]: TF_REPEATED_DATA ignoring data with redundant timestamp for frame odom at time 1237.584000 according to authority /pose_integrator\u001b[0m\n",
      "\u001b[33m[ WARN] [1717386695.408311677]: TF_REPEATED_DATA ignoring data with redundant timestamp for frame odom at time 1237.584000 according to authority /pose_integrator\u001b[0m\n",
      "\u001b[33m[ WARN] [1717386695.408353695]: TF_REPEATED_DATA ignoring data with redundant timestamp for frame odom at time 1237.584000 according to authority /pose_integrator\u001b[0m\n",
      "\u001b[33m[ WARN] [1717386695.408392987]: TF_REPEATED_DATA ignoring data with redundant timestamp for frame odom at time 1237.584000 according to authority /pose_integrator\u001b[0m\n",
      "\u001b[33m[ WARN] [1717386695.408431606]: TF_REPEATED_DATA ignoring data with redundant timestamp for frame odom at time 1237.584000 according to authority /pose_integrator\u001b[0m\n",
      "\u001b[33m[ WARN] [1717386695.408468220]: TF_REPEATED_DATA ignoring data with redundant timestamp for frame odom at time 1237.584000 according to authority /pose_integrator\u001b[0m\n",
      "\u001b[33m[ WARN] [1717386695.707695289]: TF_REPEATED_DATA ignoring data with redundant timestamp for frame odom at time 1237.671000 according to authority /pose_integrator\u001b[0m\n",
      "\u001b[33m[ WARN] [1717386695.707749387]: TF_REPEATED_DATA ignoring data with redundant timestamp for frame odom at time 1237.671000 according to authority /pose_integrator\u001b[0m\n",
      "\u001b[33m[ WARN] [1717386695.707786021]: TF_REPEATED_DATA ignoring data with redundant timestamp for frame odom at time 1237.671000 according to authority /pose_integrator\u001b[0m\n",
      "\u001b[33m[ WARN] [1717386695.707828756]: TF_REPEATED_DATA ignoring data with redundant timestamp for frame odom at time 1237.671000 according to authority /pose_integrator\u001b[0m\n",
      "\u001b[33m[ WARN] [1717386695.707869381]: TF_REPEATED_DATA ignoring data with redundant timestamp for frame odom at time 1237.671000 according to authority /pose_integrator\u001b[0m\n",
      "\u001b[33m[ WARN] [1717386695.707905235]: TF_REPEATED_DATA ignoring data with redundant timestamp for frame odom at time 1237.671000 according to authority /pose_integrator\u001b[0m\n",
      "\u001b[33m[ WARN] [1717386697.486488409]: TF_REPEATED_DATA ignoring data with redundant timestamp for frame odom at time 1238.120000 according to authority /pose_integrator\u001b[0m\n",
      "\u001b[33m[ WARN] [1717386697.486540388]: TF_REPEATED_DATA ignoring data with redundant timestamp for frame odom at time 1238.120000 according to authority /pose_integrator\u001b[0m\n",
      "\u001b[33m[ WARN] [1717386697.486580432]: TF_REPEATED_DATA ignoring data with redundant timestamp for frame odom at time 1238.120000 according to authority /pose_integrator\u001b[0m\n",
      "\u001b[33m[ WARN] [1717386697.486628348]: TF_REPEATED_DATA ignoring data with redundant timestamp for frame odom at time 1238.120000 according to authority /pose_integrator\u001b[0m\n",
      "\u001b[33m[ WARN] [1717386697.486659411]: TF_REPEATED_DATA ignoring data with redundant timestamp for frame odom at time 1238.120000 according to authority /pose_integrator\u001b[0m\n",
      "\u001b[33m[ WARN] [1717386697.486689538]: TF_REPEATED_DATA ignoring data with redundant timestamp for frame odom at time 1238.120000 according to authority /pose_integrator\u001b[0m\n",
      "\u001b[33m[ WARN] [1717386703.785831160]: TF_REPEATED_DATA ignoring data with redundant timestamp for frame odom at time 1239.651000 according to authority /pose_integrator\u001b[0m\n",
      "\u001b[33m[ WARN] [1717386703.785890948]: TF_REPEATED_DATA ignoring data with redundant timestamp for frame odom at time 1239.651000 according to authority /pose_integrator\u001b[0m\n",
      "\u001b[33m[ WARN] [1717386703.785932862]: TF_REPEATED_DATA ignoring data with redundant timestamp for frame odom at time 1239.651000 according to authority /pose_integrator\u001b[0m\n",
      "\u001b[33m[ WARN] [1717386703.785965467]: TF_REPEATED_DATA ignoring data with redundant timestamp for frame odom at time 1239.651000 according to authority /pose_integrator\u001b[0m\n",
      "\u001b[33m[ WARN] [1717386703.785995921]: TF_REPEATED_DATA ignoring data with redundant timestamp for frame odom at time 1239.651000 according to authority /pose_integrator\u001b[0m\n",
      "\u001b[33m[ WARN] [1717386703.786026744]: TF_REPEATED_DATA ignoring data with redundant timestamp for frame odom at time 1239.651000 according to authority /pose_integrator\u001b[0m\n",
      "\u001b[33m[ WARN] [1717386813.111273947]: TF_REPEATED_DATA ignoring data with redundant timestamp for frame odom at time 1266.193000 according to authority /pose_integrator\u001b[0m\n",
      "\u001b[33m[ WARN] [1717386813.111347223]: TF_REPEATED_DATA ignoring data with redundant timestamp for frame odom at time 1266.193000 according to authority /pose_integrator\u001b[0m\n",
      "\u001b[33m[ WARN] [1717386813.111395866]: TF_REPEATED_DATA ignoring data with redundant timestamp for frame odom at time 1266.193000 according to authority /pose_integrator\u001b[0m\n",
      "\u001b[33m[ WARN] [1717386813.111437932]: TF_REPEATED_DATA ignoring data with redundant timestamp for frame odom at time 1266.193000 according to authority /pose_integrator\u001b[0m\n",
      "\u001b[33m[ WARN] [1717386813.111490341]: TF_REPEATED_DATA ignoring data with redundant timestamp for frame odom at time 1266.193000 according to authority /pose_integrator\u001b[0m\n",
      "\u001b[33m[ WARN] [1717386813.111535916]: TF_REPEATED_DATA ignoring data with redundant timestamp for frame odom at time 1266.193000 according to authority /pose_integrator\u001b[0m\n",
      "\u001b[33m[ WARN] [1717386813.977688170]: TF_REPEATED_DATA ignoring data with redundant timestamp for frame odom at time 1266.440000 according to authority /pose_integrator\u001b[0m\n",
      "\u001b[33m[ WARN] [1717386813.977746044]: TF_REPEATED_DATA ignoring data with redundant timestamp for frame odom at time 1266.440000 according to authority /pose_integrator\u001b[0m\n",
      "\u001b[33m[ WARN] [1717386813.977784324]: TF_REPEATED_DATA ignoring data with redundant timestamp for frame odom at time 1266.440000 according to authority /pose_integrator\u001b[0m\n",
      "\u001b[33m[ WARN] [1717386813.977818715]: TF_REPEATED_DATA ignoring data with redundant timestamp for frame odom at time 1266.440000 according to authority /pose_integrator\u001b[0m\n",
      "\u001b[33m[ WARN] [1717386813.977852257]: TF_REPEATED_DATA ignoring data with redundant timestamp for frame odom at time 1266.440000 according to authority /pose_integrator\u001b[0m\n",
      "\u001b[33m[ WARN] [1717386813.977885532]: TF_REPEATED_DATA ignoring data with redundant timestamp for frame odom at time 1266.440000 according to authority /pose_integrator\u001b[0m\n",
      "\u001b[33m[ WARN] [1717386937.645512660]: TF_REPEATED_DATA ignoring data with redundant timestamp for frame odom at time 1295.662000 according to authority /pose_integrator\u001b[0m\n",
      "\u001b[33m[ WARN] [1717386937.645577640]: TF_REPEATED_DATA ignoring data with redundant timestamp for frame odom at time 1295.662000 according to authority /pose_integrator\u001b[0m\n",
      "\u001b[33m[ WARN] [1717386937.645629772]: TF_REPEATED_DATA ignoring data with redundant timestamp for frame odom at time 1295.662000 according to authority /pose_integrator\u001b[0m\n",
      "\u001b[33m[ WARN] [1717386937.645664171]: TF_REPEATED_DATA ignoring data with redundant timestamp for frame odom at time 1295.662000 according to authority /pose_integrator\u001b[0m\n",
      "\u001b[33m[ WARN] [1717386937.645695242]: TF_REPEATED_DATA ignoring data with redundant timestamp for frame odom at time 1295.662000 according to authority /pose_integrator\u001b[0m\n",
      "\u001b[33m[ WARN] [1717386937.645726214]: TF_REPEATED_DATA ignoring data with redundant timestamp for frame odom at time 1295.662000 according to authority /pose_integrator\u001b[0m\n",
      "\u001b[33m[ WARN] [1717386967.266962526]: TF_REPEATED_DATA ignoring data with redundant timestamp for frame odom at time 1303.124000 according to authority /pose_integrator\u001b[0m\n",
      "\u001b[33m[ WARN] [1717386967.267032652]: TF_REPEATED_DATA ignoring data with redundant timestamp for frame odom at time 1303.124000 according to authority /pose_integrator\u001b[0m\n",
      "\u001b[33m[ WARN] [1717386967.267080898]: TF_REPEATED_DATA ignoring data with redundant timestamp for frame odom at time 1303.124000 according to authority /pose_integrator\u001b[0m\n",
      "\u001b[33m[ WARN] [1717386967.267133429]: TF_REPEATED_DATA ignoring data with redundant timestamp for frame odom at time 1303.124000 according to authority /pose_integrator\u001b[0m\n",
      "\u001b[33m[ WARN] [1717386967.267174271]: TF_REPEATED_DATA ignoring data with redundant timestamp for frame odom at time 1303.124000 according to authority /pose_integrator\u001b[0m\n",
      "\u001b[33m[ WARN] [1717386967.267212457]: TF_REPEATED_DATA ignoring data with redundant timestamp for frame odom at time 1303.124000 according to authority /pose_integrator\u001b[0m\n"
     ]
    },
    {
     "name": "stderr",
     "output_type": "stream",
     "text": [
      "\u001b[33m[ WARN] [1717387159.335574302]: TF_REPEATED_DATA ignoring data with redundant timestamp for frame odom at time 1345.654000 according to authority /pose_integrator\u001b[0m\n",
      "\u001b[33m[ WARN] [1717387159.335639869]: TF_REPEATED_DATA ignoring data with redundant timestamp for frame odom at time 1345.654000 according to authority /pose_integrator\u001b[0m\n",
      "\u001b[33m[ WARN] [1717387159.335685595]: TF_REPEATED_DATA ignoring data with redundant timestamp for frame odom at time 1345.654000 according to authority /pose_integrator\u001b[0m\n",
      "\u001b[33m[ WARN] [1717387159.335716066]: TF_REPEATED_DATA ignoring data with redundant timestamp for frame odom at time 1345.654000 according to authority /pose_integrator\u001b[0m\n",
      "\u001b[33m[ WARN] [1717387159.335760850]: TF_REPEATED_DATA ignoring data with redundant timestamp for frame odom at time 1345.654000 according to authority /pose_integrator\u001b[0m\n",
      "\u001b[33m[ WARN] [1717387159.335807957]: TF_REPEATED_DATA ignoring data with redundant timestamp for frame odom at time 1345.654000 according to authority /pose_integrator\u001b[0m\n",
      "\u001b[33m[ WARN] [1717387247.277072599]: TF_REPEATED_DATA ignoring data with redundant timestamp for frame odom at time 1365.103000 according to authority /pose_integrator\u001b[0m\n",
      "\u001b[33m[ WARN] [1717387247.277143512]: TF_REPEATED_DATA ignoring data with redundant timestamp for frame odom at time 1365.103000 according to authority /pose_integrator\u001b[0m\n",
      "\u001b[33m[ WARN] [1717387247.277195144]: TF_REPEATED_DATA ignoring data with redundant timestamp for frame odom at time 1365.103000 according to authority /pose_integrator\u001b[0m\n",
      "\u001b[33m[ WARN] [1717387247.277245984]: TF_REPEATED_DATA ignoring data with redundant timestamp for frame odom at time 1365.103000 according to authority /pose_integrator\u001b[0m\n",
      "\u001b[33m[ WARN] [1717387247.277289238]: TF_REPEATED_DATA ignoring data with redundant timestamp for frame odom at time 1365.103000 according to authority /pose_integrator\u001b[0m\n",
      "\u001b[33m[ WARN] [1717387247.277332974]: TF_REPEATED_DATA ignoring data with redundant timestamp for frame odom at time 1365.103000 according to authority /pose_integrator\u001b[0m\n",
      "\u001b[33m[ WARN] [1717387411.688090165]: TF_REPEATED_DATA ignoring data with redundant timestamp for frame odom at time 1402.047000 according to authority /pose_integrator\u001b[0m\n",
      "\u001b[33m[ WARN] [1717387411.688142974]: TF_REPEATED_DATA ignoring data with redundant timestamp for frame odom at time 1402.047000 according to authority /pose_integrator\u001b[0m\n",
      "\u001b[33m[ WARN] [1717387411.688180386]: TF_REPEATED_DATA ignoring data with redundant timestamp for frame odom at time 1402.047000 according to authority /pose_integrator\u001b[0m\n",
      "\u001b[33m[ WARN] [1717387411.688215445]: TF_REPEATED_DATA ignoring data with redundant timestamp for frame odom at time 1402.047000 according to authority /pose_integrator\u001b[0m\n",
      "\u001b[33m[ WARN] [1717387411.688249538]: TF_REPEATED_DATA ignoring data with redundant timestamp for frame odom at time 1402.047000 according to authority /pose_integrator\u001b[0m\n",
      "\u001b[33m[ WARN] [1717387411.688295971]: TF_REPEATED_DATA ignoring data with redundant timestamp for frame odom at time 1402.047000 according to authority /pose_integrator\u001b[0m\n",
      "\u001b[33m[ WARN] [1717387575.599291711]: TF_REPEATED_DATA ignoring data with redundant timestamp for frame odom at time 1439.760000 according to authority /pose_integrator\u001b[0m\n",
      "\u001b[33m[ WARN] [1717387575.599354866]: TF_REPEATED_DATA ignoring data with redundant timestamp for frame odom at time 1439.760000 according to authority /pose_integrator\u001b[0m\n",
      "\u001b[33m[ WARN] [1717387575.599389787]: TF_REPEATED_DATA ignoring data with redundant timestamp for frame odom at time 1439.760000 according to authority /pose_integrator\u001b[0m\n",
      "\u001b[33m[ WARN] [1717387575.599418503]: TF_REPEATED_DATA ignoring data with redundant timestamp for frame odom at time 1439.760000 according to authority /pose_integrator\u001b[0m\n",
      "\u001b[33m[ WARN] [1717387575.599446473]: TF_REPEATED_DATA ignoring data with redundant timestamp for frame odom at time 1439.760000 according to authority /pose_integrator\u001b[0m\n",
      "\u001b[33m[ WARN] [1717387575.599473586]: TF_REPEATED_DATA ignoring data with redundant timestamp for frame odom at time 1439.760000 according to authority /pose_integrator\u001b[0m\n"
     ]
    }
   ],
   "source": [
    "grasping_dict[grasping_dict['name'] == 'peach']"
   ]
  },
  {
   "cell_type": "code",
   "execution_count": null,
   "id": "0f62e5d0",
   "metadata": {},
   "outputs": [],
   "source": [
    "grasping_dict.loc[grasping_dict['grasp_mode']=='front',]"
   ]
  }
 ],
 "metadata": {
  "kernelspec": {
   "display_name": "Python 3 (ipykernel)",
   "language": "python",
   "name": "python3"
  },
  "language_info": {
   "codemirror_mode": {
    "name": "ipython",
    "version": 3
   },
   "file_extension": ".py",
   "mimetype": "text/x-python",
   "name": "python",
   "nbconvert_exporter": "python",
   "pygments_lexer": "ipython3",
   "version": "3.8.10"
  }
 },
 "nbformat": 4,
 "nbformat_minor": 5
}
