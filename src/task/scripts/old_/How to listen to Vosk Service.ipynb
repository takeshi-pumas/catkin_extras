{
 "cells": [
  {
   "cell_type": "code",
   "execution_count": 1,
   "id": "e2779b98",
   "metadata": {},
   "outputs": [],
   "source": [
    "from smach_utils2 import *"
   ]
  },
  {
   "cell_type": "code",
   "execution_count": null,
   "id": "03ebdaee",
   "metadata": {},
   "outputs": [],
   "source": [
    "\n"
   ]
  },
  {
   "cell_type": "code",
   "execution_count": 2,
   "id": "657de6b9",
   "metadata": {},
   "outputs": [
    {
     "name": "stdout",
     "output_type": "stream",
     "text": [
      "['yeah'] ################################################# True\n"
     ]
    }
   ],
   "source": [
    "speech = get_keywords_speech(10)\n",
    "\n",
    "speech = speech.split(' ')\n",
    "confirmation_list=['yes','jack','juice', 'takeshi yes','yeah']\n",
    "confirm = any(word in confirmation_list for word in speech)\n",
    "#talk (confirmation)\n",
    "print (speech,\"#################################################\",confirm) \n"
   ]
  },
  {
   "cell_type": "code",
   "execution_count": 3,
   "id": "8b4ead0b",
   "metadata": {},
   "outputs": [
    {
     "data": {
      "text/plain": [
       "['yeah']"
      ]
     },
     "execution_count": 3,
     "metadata": {},
     "output_type": "execute_result"
    }
   ],
   "source": [
    "speech \n"
   ]
  },
  {
   "cell_type": "code",
   "execution_count": 4,
   "id": "04278397",
   "metadata": {},
   "outputs": [
    {
     "data": {
      "text/plain": [
       "True"
      ]
     },
     "execution_count": 4,
     "metadata": {},
     "output_type": "execute_result"
    }
   ],
   "source": [
    "confirm"
   ]
  },
  {
   "cell_type": "code",
   "execution_count": null,
   "id": "eec5eae1",
   "metadata": {},
   "outputs": [],
   "source": []
  },
  {
   "cell_type": "code",
   "execution_count": null,
   "id": "3277af6f",
   "metadata": {},
   "outputs": [],
   "source": []
  }
 ],
 "metadata": {
  "kernelspec": {
   "display_name": "Python 3 (ipykernel)",
   "language": "python",
   "name": "python3"
  },
  "language_info": {
   "codemirror_mode": {
    "name": "ipython",
    "version": 3
   },
   "file_extension": ".py",
   "mimetype": "text/x-python",
   "name": "python",
   "nbconvert_exporter": "python",
   "pygments_lexer": "ipython3",
   "version": "3.8.10"
  }
 },
 "nbformat": 4,
 "nbformat_minor": 5
}
