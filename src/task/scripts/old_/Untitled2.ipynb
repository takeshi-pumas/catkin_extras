{
 "cells": [
  {
   "cell_type": "code",
   "execution_count": 1,
   "id": "fe1dffa3",
   "metadata": {},
   "outputs": [],
   "source": [
    "import sys\n",
    "import copy\n",
    "import rospy\n",
    "import moveit_commander\n",
    "import moveit_msgs.msg\n",
    "import geometry_msgs.msg\n",
    "\n",
    "from std_msgs.msg import String\n",
    "from moveit_commander.conversions import pose_to_list\n",
    "from utils import grasp_utils"
   ]
  },
  {
   "cell_type": "code",
   "execution_count": 2,
   "id": "1457cdba",
   "metadata": {},
   "outputs": [],
   "source": [
    "moveit_commander.roscpp_initialize(sys.argv)\n",
    "rospy.init_node(\"move_group_python_interface_tutorial\", anonymous=True)"
   ]
  },
  {
   "cell_type": "code",
   "execution_count": 3,
   "id": "13c80dea",
   "metadata": {},
   "outputs": [],
   "source": [
    "base = grasp_utils.BASE()\n"
   ]
  },
  {
   "cell_type": "code",
   "execution_count": 5,
   "id": "fadd2e2d",
   "metadata": {},
   "outputs": [],
   "source": [
    "base.tiny_move(velX=-0.01)"
   ]
  },
  {
   "cell_type": "code",
   "execution_count": null,
   "id": "6cd533d9",
   "metadata": {},
   "outputs": [],
   "source": [
    "base.turn_radians(time=1)"
   ]
  },
  {
   "cell_type": "code",
   "execution_count": 9,
   "id": "51e4b83f",
   "metadata": {},
   "outputs": [
    {
     "name": "stdout",
     "output_type": "stream",
     "text": [
      "False\n"
     ]
    }
   ],
   "source": [
    "move_base_back(0.10)"
   ]
  },
  {
   "cell_type": "code",
   "execution_count": 7,
   "id": "4f6edb41",
   "metadata": {},
   "outputs": [
    {
     "name": "stdout",
     "output_type": "stream",
     "text": [
      "============ Planning frame: odom\n",
      "============ End effector link: hand_palm_link\n",
      "============ Available Planning Groups: ['arm', 'base', 'gripper', 'head', 'whole_body', 'whole_body_light', 'whole_body_weighted']\n",
      "============ Printing robot state\n",
      "joint_state: \n",
      "  header: \n",
      "    seq: 0\n",
      "    stamp: \n",
      "      secs: 0\n",
      "      nsecs:         0\n",
      "    frame_id: \"odom\"\n",
      "  name: \n",
      "    - arm_lift_joint\n",
      "    - arm_flex_joint\n",
      "    - arm_roll_joint\n",
      "    - wrist_flex_joint\n",
      "    - wrist_roll_joint\n",
      "    - wrist_ft_sensor_frame_joint\n",
      "    - hand_l_proximal_joint\n",
      "    - hand_l_spring_proximal_joint\n",
      "    - hand_l_mimic_distal_joint\n",
      "    - hand_l_distal_joint\n",
      "    - hand_motor_joint\n",
      "    - hand_r_proximal_joint\n",
      "    - hand_r_spring_proximal_joint\n",
      "    - hand_r_mimic_distal_joint\n",
      "    - hand_r_distal_joint\n",
      "    - base_b_bumper_joint\n",
      "    - base_f_bumper_joint\n",
      "    - base_roll_joint\n",
      "    - base_l_drive_wheel_joint\n",
      "    - base_l_passive_wheel_x_frame_joint\n",
      "    - base_l_passive_wheel_y_frame_joint\n",
      "    - base_l_passive_wheel_z_joint\n",
      "    - base_r_drive_wheel_joint\n",
      "    - base_r_passive_wheel_x_frame_joint\n",
      "    - base_r_passive_wheel_y_frame_joint\n",
      "    - base_r_passive_wheel_z_joint\n",
      "    - torso_lift_joint\n",
      "    - head_pan_joint\n",
      "    - head_tilt_joint\n",
      "  position: [-5.822394259934345e-07, -0.00010790274398431166, -1.5701361156913007, -1.571292388013771, 3.544782716957684e-05, 0.0, 0.04332222855056056, 0.034159738682304486, -0.034159738682304486, -0.13032222855056055, 0.04332222855056056, 0.04332222855056056, 0.022522704212181388, -0.022522704212181388, -0.13032222855056055, 0.0, 0.0, -2.815248144649729e-05, 0.006674969173850798, 0.0, 0.0, 0.0, 0.03045777607105382, 0.0, 0.0, 0.0, -2.9111971299671726e-07, -1.2190984308269037e-05, 0.001925536874950673]\n",
      "  velocity: []\n",
      "  effort: []\n",
      "multi_dof_joint_state: \n",
      "  header: \n",
      "    seq: 0\n",
      "    stamp: \n",
      "      secs: 0\n",
      "      nsecs:         0\n",
      "    frame_id: \"odom\"\n",
      "  joint_names: \n",
      "    - world_joint\n",
      "  transforms: \n",
      "    - \n",
      "      translation: \n",
      "        x: 0.0007731429302437198\n",
      "        y: 0.0004086006983297143\n",
      "        z: 0.0\n",
      "      rotation: \n",
      "        x: 0.0\n",
      "        y: 0.0\n",
      "        z: 0.0018323702270841879\n",
      "        w: 0.9999983212082663\n",
      "  twist: []\n",
      "  wrench: []\n",
      "attached_collision_objects: []\n",
      "is_diff: False\n",
      "\n"
     ]
    },
    {
     "name": "stderr",
     "output_type": "stream",
     "text": [
      "\u001b[33m[ WARN] [1691784161.790104587, 2350.108000000]: Joint values for monitored state are requested but the full state is not known\u001b[0m\n",
      "\u001b[33m[ WARN] [1691784204.608100428, 2363.684000000]: TF_REPEATED_DATA ignoring data with redundant timestamp for frame odom at time 2363.702000 according to authority unknown_publisher\u001b[0m\n",
      "\u001b[33m[ WARN] [1691784208.159960723, 2364.840000000]: TF_REPEATED_DATA ignoring data with redundant timestamp for frame odom at time 2364.866000 according to authority unknown_publisher\u001b[0m\n"
     ]
    }
   ],
   "source": [
    "# We can get the name of the reference frame for this robot:\n",
    "planning_frame = move_group.get_planning_frame()\n",
    "print(\"============ Planning frame: %s\" % planning_frame)\n",
    "\n",
    "# We can also print the name of the end-effector link for this group:\n",
    "eef_link = move_group.get_end_effector_link()\n",
    "print(\"============ End effector link: %s\" % eef_link)\n",
    "\n",
    "# We can get a list of all the groups in the robot:\n",
    "group_names = robot.get_group_names()\n",
    "print(\"============ Available Planning Groups:\", robot.get_group_names())\n",
    "\n",
    "# Sometimes for debugging it is useful to print the entire state of the\n",
    "# robot:\n",
    "print(\"============ Printing robot state\")\n",
    "print(robot.get_current_state())\n",
    "print(\"\")"
   ]
  },
  {
   "cell_type": "code",
   "execution_count": 14,
   "id": "b06fcdfc",
   "metadata": {
    "scrolled": true
   },
   "outputs": [
    {
     "name": "stderr",
     "output_type": "stream",
     "text": [
      "\u001b[33m[ WARN] [1691784349.599754983, 2410.336000000]: TF_REPEATED_DATA ignoring data with redundant timestamp for frame odom at time 2410.361000 according to authority unknown_publisher\u001b[0m\n",
      "\u001b[33m[ WARN] [1691784356.604345052, 2412.586000000]: TF_REPEATED_DATA ignoring data with redundant timestamp for frame odom at time 2412.617000 according to authority unknown_publisher\u001b[0m\n",
      "\u001b[33m[ WARN] [1691784379.512096861, 2419.689000000]: TF_REPEATED_DATA ignoring data with redundant timestamp for frame odom at time 2419.768000 according to authority unknown_publisher\u001b[0m\n",
      "\u001b[33m[ WARN] [1691784379.831716388, 2419.873000000]: TF_REPEATED_DATA ignoring data with redundant timestamp for frame odom at time 2419.908000 according to authority unknown_publisher\u001b[0m\n",
      "\u001b[33m[ WARN] [1691784385.259895205, 2421.392000000]: TF_REPEATED_DATA ignoring data with redundant timestamp for frame odom at time 2421.410000 according to authority unknown_publisher\u001b[0m\n",
      "\u001b[33m[ WARN] [1691784386.164732336, 2421.721000000]: TF_REPEATED_DATA ignoring data with redundant timestamp for frame odom at time 2421.741000 according to authority unknown_publisher\u001b[0m\n",
      "\u001b[33m[ WARN] [1691784392.828451664, 2423.651000000]: TF_REPEATED_DATA ignoring data with redundant timestamp for frame odom at time 2423.693000 according to authority unknown_publisher\u001b[0m\n",
      "\u001b[33m[ WARN] [1691784394.667527258, 2424.214000000]: TF_REPEATED_DATA ignoring data with redundant timestamp for frame odom at time 2424.238000 according to authority unknown_publisher\u001b[0m\n"
     ]
    }
   ],
   "source": [
    "# We get the joint values from the group and change some of the values:\n",
    "joint_goal = move_group.get_current_joint_values()\n",
    "joint_goal[0] = 0\n",
    "joint_goal[1] = tau / 20\n",
    "joint_goal[2] = 0\n",
    "joint_goal[3] = tau / 20\n",
    "joint_goal[4] = 0\n",
    "joint_goal[5] = 0  # 1/6 of a turn\n",
    "joint_goal[6] = 0\n",
    "\n",
    "# The go command can be called with joint values, poses, or without any\n",
    "# parameters if you have already set the pose or joint target for the group\n",
    "move_group.go(joint_goal, wait=True)\n",
    "\n",
    "# Calling ``stop()`` ensures that there is no residual movement\n",
    "move_group.stop()"
   ]
  },
  {
   "cell_type": "code",
   "execution_count": 15,
   "id": "bf774a96",
   "metadata": {
    "scrolled": true
   },
   "outputs": [
    {
     "name": "stdout",
     "output_type": "stream",
     "text": [
      "[0.00012192409760229359, 0.3156177167925415, -0.0003000050920306763, 0.31551792129608314, -1.530789022030632e-05, -3.0121701867003026e-05, -0.0001256141077110584, 1.1189874955519485e-05, 0.0]\n"
     ]
    },
    {
     "name": "stderr",
     "output_type": "stream",
     "text": [
      "\u001b[33m[ WARN] [1691784416.577912374, 2431.337000000]: TF_REPEATED_DATA ignoring data with redundant timestamp for frame odom at time 2431.368000 according to authority unknown_publisher\u001b[0m\n",
      "\u001b[33m[ WARN] [1691784429.684166563, 2435.601000000]: TF_REPEATED_DATA ignoring data with redundant timestamp for frame odom at time 2435.644000 according to authority unknown_publisher\u001b[0m\n",
      "\u001b[33m[ WARN] [1691784446.427100444, 2440.934000000]: TF_REPEATED_DATA ignoring data with redundant timestamp for frame odom at time 2440.967000 according to authority unknown_publisher\u001b[0m\n",
      "\u001b[33m[ WARN] [1691784454.276432393, 2443.392000000]: TF_REPEATED_DATA ignoring data with redundant timestamp for frame odom at time 2443.429000 according to authority unknown_publisher\u001b[0m\n",
      "\u001b[33m[ WARN] [1691784456.767012025, 2444.129000000]: TF_REPEATED_DATA ignoring data with redundant timestamp for frame odom at time 2444.155000 according to authority unknown_publisher\u001b[0m\n",
      "\u001b[33m[ WARN] [1691784458.616563030, 2444.701000000]: TF_REPEATED_DATA ignoring data with redundant timestamp for frame odom at time 2444.718000 according to authority unknown_publisher\u001b[0m\n",
      "\u001b[33m[ WARN] [1691784463.734879195, 2446.207000000]: TF_REPEATED_DATA ignoring data with redundant timestamp for frame odom at time 2446.218000 according to authority unknown_publisher\u001b[0m\n",
      "\u001b[33m[ WARN] [1691784467.812981002, 2447.552000000]: TF_REPEATED_DATA ignoring data with redundant timestamp for frame odom at time 2447.583000 according to authority unknown_publisher\u001b[0m\n",
      "\u001b[33m[ WARN] [1691784468.311312802, 2447.753000000]: TF_REPEATED_DATA ignoring data with redundant timestamp for frame odom at time 2447.804000 according to authority unknown_publisher\u001b[0m\n",
      "\u001b[33m[ WARN] [1691784469.504003083, 2448.139000000]: TF_REPEATED_DATA ignoring data with redundant timestamp for frame odom at time 2448.167000 according to authority unknown_publisher\u001b[0m\n"
     ]
    }
   ],
   "source": [
    "joint_goal = move_group.get_current_joint_values()\n",
    "print(joint_goal)"
   ]
  },
  {
   "cell_type": "code",
   "execution_count": 16,
   "id": "2a0533b6",
   "metadata": {},
   "outputs": [],
   "source": [
    "pose_goal = geometry_msgs.msg.Pose()\n",
    "pose_goal.orientation.w = 1.0\n",
    "pose_goal.position.x = 0.4\n",
    "pose_goal.position.y = 0.1\n",
    "pose_goal.position.z = 0.4\n",
    "\n",
    "move_group.set_pose_target(pose_goal)"
   ]
  },
  {
   "cell_type": "code",
   "execution_count": 17,
   "id": "30b38f02",
   "metadata": {},
   "outputs": [
    {
     "name": "stderr",
     "output_type": "stream",
     "text": [
      "\u001b[33m[ WARN] [1691784517.523115969, 2463.450000000]: TF_REPEATED_DATA ignoring data with redundant timestamp for frame odom at time 2463.474000 according to authority unknown_publisher\u001b[0m\n",
      "\u001b[33m[ WARN] [1691784524.356222639, 2465.563000000]: TF_REPEATED_DATA ignoring data with redundant timestamp for frame odom at time 2465.597000 according to authority unknown_publisher\u001b[0m\n",
      "\u001b[33m[ WARN] [1691784530.331064206, 2467.547000000]: TF_REPEATED_DATA ignoring data with redundant timestamp for frame odom at time 2467.568000 according to authority unknown_publisher\u001b[0m\n",
      "\u001b[33m[ WARN] [1691784542.782372494, 2471.621000000]: TF_REPEATED_DATA ignoring data with redundant timestamp for frame odom at time 2471.659000 according to authority unknown_publisher\u001b[0m\n"
     ]
    }
   ],
   "source": [
    "# `go()` returns a boolean indicating whether the planning and execution was successful.\n",
    "success = move_group.go(wait=True)\n",
    "# Calling `stop()` ensures that there is no residual movement\n",
    "move_group.stop()\n",
    "# It is always good to clear your targets after planning with poses.\n",
    "# Note: there is no equivalent function for clear_joint_value_targets().\n",
    "move_group.clear_pose_targets()"
   ]
  },
  {
   "cell_type": "code",
   "execution_count": 20,
   "id": "261cbd71",
   "metadata": {},
   "outputs": [
    {
     "name": "stderr",
     "output_type": "stream",
     "text": [
      "\u001b[33m[ WARN] [1691784587.869287932, 2486.242000000]: TF_REPEATED_DATA ignoring data with redundant timestamp for frame odom at time 2486.260000 according to authority unknown_publisher\u001b[0m\n"
     ]
    },
    {
     "name": "stdout",
     "output_type": "stream",
     "text": [
      "joint_trajectory: \n",
      "  header: \n",
      "    seq: 0\n",
      "    stamp: \n",
      "      secs: 0\n",
      "      nsecs:         0\n",
      "    frame_id: \"odom\"\n",
      "  joint_names: \n",
      "    - arm_lift_joint\n",
      "    - arm_flex_joint\n",
      "    - arm_roll_joint\n",
      "    - wrist_flex_joint\n",
      "    - wrist_roll_joint\n",
      "    - wrist_ft_sensor_frame_joint\n",
      "  points: \n",
      "    - \n",
      "      positions: [0.04191011291829553, -1.922546191284308, 3.1410046464338217, -1.919200270147848, -0.02484484015536026, 0.0]\n",
      "      velocities: [0.0, 0.0, 0.0, 0.0, 0.0, 0.0]\n",
      "      accelerations: [0.0, 0.0, 0.0, 0.0, 0.0, 0.0]\n",
      "      effort: []\n",
      "      time_from_start: \n",
      "        secs: 0\n",
      "        nsecs:         0\n",
      "    - \n",
      "      positions: [0.03779689027832406, -1.9233064815319345, 3.1410026902496258, -1.919956272519711, -0.02506857670146063, 2e-323]\n",
      "      velocities: [-0.013260440729933034, -0.0007148245804515525, -6.002437868897983e-06, -0.0007015973243845176, -0.0006076609585980702, 2e-323]\n",
      "      accelerations: [-0.029426977655227053, 0.0035453004538417723, -1.2421786288209864e-05, 0.003572891549201482, -0.0010126405080263209, -9e-323]\n",
      "      effort: []\n",
      "      time_from_start: \n",
      "        secs: 0\n",
      "        nsecs: 543087151\n",
      "    - \n",
      "      positions: [0.03344097289618114, -1.9233133112871468, 3.1410007584312525, -1.9199588355496864, -0.02525326601244238, 2e-323]\n",
      "      velocities: [-0.021730213446343218, -8.906965545066978e-05, -9.177031761780005e-06, -6.769172796982689e-05, -0.0010556279080532935, -1.5e-323]\n",
      "      accelerations: [-0.02732972379463708, -0.0005829255922215785, -7.601806429523239e-06, -0.0005552455304045274, -0.0024773275176636082, -1.43e-322]\n",
      "      effort: []\n",
      "      time_from_start: \n",
      "        secs: 0\n",
      "        nsecs: 772986031\n",
      "    - \n",
      "      positions: [0.029091338162275382, -1.9233396489422485, 3.140998992701584, -1.919980879749105, -0.02548534026509227, 1.5e-323]\n",
      "      velocities: [-0.02657409939605936, -2.6645922494496407e-05, -1.1301630340649559e-05, -5.44277724319196e-07, -0.0012579929494790489, 0.0]\n",
      "      accelerations: [-0.02499431922330423, 0.0014770915198261236, -1.6379339797646126e-05, 0.0015001956536770502, 0.0006053711743490843, 3.9e-322]\n",
      "      effort: []\n",
      "      time_from_start: \n",
      "        secs: 0\n",
      "        nsecs: 950425633\n",
      "    - \n",
      "      positions: [0.02472855287513237, -1.9233251535195048, 3.140997065037954, -1.9199621172683088, -0.02566940236416762, 2e-323]\n",
      "      velocities: [-0.028467701977321857, 9.213718503018859e-05, -1.2569430700534632e-05, 0.00011998309897408363, -0.0012030501195150326, 1.235e-321]\n",
      "      accelerations: [0.0021816120794745887, -3.9184820727005884e-05, 1.0788715088943674e-06, -4.128145288714237e-05, 6.564443037152655e-05, 1.5667e-320]\n",
      "      effort: []\n",
      "      time_from_start: \n",
      "        secs: 1\n",
      "        nsecs: 102784795\n",
      "    - \n",
      "      positions: [0.020366010816780744, -1.9233114133800897, 3.140995140197237, -1.9199441094319996, -0.0258540777862191, 3.95e-322]\n",
      "      velocities: [-0.026305015239219128, -3.0439413119020185e-05, -1.1785505490572692e-05, -4.691750965196291e-06, -0.001076039003898044, 1.7e-322]\n",
      "      accelerations: [0.023965028251184708, -0.0014360167040721016, 8.42167054960926e-06, -0.0014592861075008727, 0.0014649232611970236, -2.7233e-320]\n",
      "      effort: []\n",
      "      time_from_start: \n",
      "        secs: 1\n",
      "        nsecs: 256935334\n",
      "    - \n",
      "      positions: [0.016016538060233065, -1.9233382538791333, 3.140993156995198, -1.9199666898166399, -0.026024778521993495, 2e-323]\n",
      "      velocities: [-0.021793036565874162, -6.220780399077697e-05, -9.839649597127705e-06, -4.0873809729418444e-05, -0.0008736467619527041, -1.047e-321]\n",
      "      accelerations: [0.024847760100074952, 0.0008669992977539305, 1.228929834549391e-05, 0.000842550328306882, 0.0007939875307491113, 1.0365e-320]\n",
      "      effort: []\n",
      "      time_from_start: \n",
      "        secs: 1\n",
      "        nsecs: 435856035\n",
      "    - \n",
      "      positions: [0.011656556530244944, -1.9233324641670015, 3.1409912129645394, -1.9199566348144277, -0.026204192775255365, 2e-323]\n",
      "      velocities: [-0.013503438461086606, -2.268080946599283e-06, -5.880259624336377e-06, 1.0971894910902134e-05, -0.0005968616474160094, 0.0]\n",
      "      accelerations: [0.029259065689149627, -0.00014122808908997763, 1.3758931090770401e-05, -0.00016970061934352512, 0.0009952503757050118, 0.0]\n",
      "      effort: []\n",
      "      time_from_start: \n",
      "        secs: 1\n",
      "        nsecs: 662036356\n",
      "    - \n",
      "      positions: [0.007303904031316311, -1.9233494314876356, 3.1409894306028043, -1.919969310445755, -0.026429692886438715, 2e-323]\n",
      "      velocities: [-0.00613125709170465, -5.124917970877699e-05, 0.00014694934181810733, -2.729222881480928e-05, -0.04153423453272812, 0.0]\n",
      "      accelerations: [0.004208759759141886, -5.5576244124082384e-05, 0.0003951086970003657, -1.258203221889309e-05, -0.10826580474042276, 0.0]\n",
      "      effort: []\n",
      "      time_from_start: \n",
      "        secs: 2\n",
      "        nsecs: 225099946\n",
      "    - \n",
      "      positions: [0.0029680822294642084, -1.923418660234045, 3.1412736224378595, -1.9199999932420433, -0.10551552295022203, 2e-323]\n",
      "      velocities: [0.0, 0.0, 0.0, 0.0, 0.0, 0.0]\n",
      "      accelerations: [0.009474989351189489, 0.00015128426974228944, -0.0006210390403249701, 6.705053422003251e-05, 0.17282476815911557, 0.0]\n",
      "      effort: []\n",
      "      time_from_start: \n",
      "        secs: 3\n",
      "        nsecs: 181768161\n",
      "multi_dof_joint_trajectory: \n",
      "  header: \n",
      "    seq: 0\n",
      "    stamp: \n",
      "      secs: 0\n",
      "      nsecs:         0\n",
      "    frame_id: \"odom\"\n",
      "  joint_names: \n",
      "    - world_joint\n",
      "  points: \n",
      "    - \n",
      "      transforms: \n",
      "        - \n",
      "          translation: \n",
      "            x: -0.0507410736320877\n",
      "            y: 0.0063966679200681\n",
      "            z: 0.0\n",
      "          rotation: \n",
      "            x: 0.0\n",
      "            y: 0.0\n",
      "            z: 0.020054088539548046\n",
      "            w: 0.9997988965451242\n",
      "      velocities: \n",
      "        - \n",
      "          linear: \n",
      "            x: 0.0\n",
      "            y: 0.0\n",
      "            z: 0.0\n",
      "          angular: \n",
      "            x: 0.0\n",
      "            y: 0.0\n",
      "            z: 0.0\n",
      "      accelerations: []\n",
      "      time_from_start: \n",
      "        secs: 0\n",
      "        nsecs:         0\n",
      "    - \n",
      "      transforms: \n",
      "        - \n",
      "          translation: \n",
      "            x: -0.0506180025258986\n",
      "            y: 0.015014098168759454\n",
      "            z: 0.0\n",
      "          rotation: \n",
      "            x: 0.0\n",
      "            y: 0.0\n",
      "            z: 0.02006559474251441\n",
      "            w: 0.9997986656860616\n",
      "      velocities: \n",
      "        - \n",
      "          linear: \n",
      "            x: 0.00017035068540513263\n",
      "            y: 0.026706004794455212\n",
      "            z: 0.0\n",
      "          angular: \n",
      "            x: 0.0\n",
      "            y: 0.0\n",
      "            z: -1.2749512259016458e-05\n",
      "      accelerations: []\n",
      "      time_from_start: \n",
      "        secs: 0\n",
      "        nsecs: 543087151\n",
      "    - \n",
      "      transforms: \n",
      "        - \n",
      "          translation: \n",
      "            x: -0.050591773947911034\n",
      "            y: 0.023645541027192213\n",
      "            z: 0.0\n",
      "          rotation: \n",
      "            x: 0.0\n",
      "            y: 0.0\n",
      "            z: 0.020057793444556233\n",
      "            w: 0.9997988222248192\n",
      "      velocities: \n",
      "        - \n",
      "          linear: \n",
      "            x: 0.00015065102059617737\n",
      "            y: 0.043033310971219915\n",
      "            z: 0.0\n",
      "          angular: \n",
      "            x: 0.0\n",
      "            y: 0.0\n",
      "            z: 5.573909700315151e-05\n",
      "      accelerations: []\n",
      "      time_from_start: \n",
      "        secs: 0\n",
      "        nsecs: 772986031\n",
      "    - \n",
      "      transforms: \n",
      "        - \n",
      "          translation: \n",
      "            x: -0.050558554666071565\n",
      "            y: 0.03225528368463333\n",
      "            z: 0.0\n",
      "          rotation: \n",
      "            x: 0.0\n",
      "            y: 0.0\n",
      "            z: 0.02007370294152336\n",
      "            w: 0.9997985029245721\n",
      "      velocities: \n",
      "        - \n",
      "          linear: \n",
      "            x: 0.00017082604813684413\n",
      "            y: 0.05258760271454142\n",
      "            z: 0.0\n",
      "          angular: \n",
      "            x: 0.0\n",
      "            y: 0.0\n",
      "            z: 3.64511462720142e-05\n",
      "      accelerations: []\n",
      "      time_from_start: \n",
      "        secs: 0\n",
      "        nsecs: 950425633\n",
      "    - \n",
      "      transforms: \n",
      "        - \n",
      "          translation: \n",
      "            x: -0.05053502469657978\n",
      "            y: 0.04088690288427298\n",
      "            z: 0.0\n",
      "          rotation: \n",
      "            x: 0.0\n",
      "            y: 0.0\n",
      "            z: 0.02006559474251441\n",
      "            w: 0.9997986656860616\n",
      "      velocities: \n",
      "        - \n",
      "          linear: \n",
      "            x: 0.0001540342725866111\n",
      "            y: 0.056323018414975376\n",
      "            z: 0.0\n",
      "          angular: \n",
      "            x: 0.0\n",
      "            y: 0.0\n",
      "            z: -0.00010384688252316762\n",
      "      accelerations: []\n",
      "      time_from_start: \n",
      "        secs: 1\n",
      "        nsecs: 102784795\n",
      "    - \n",
      "      transforms: \n",
      "        - \n",
      "          translation: \n",
      "            x: -0.05051134238963473\n",
      "            y: 0.04951824389580026\n",
      "            z: 0.0\n",
      "          rotation: \n",
      "            x: 0.0\n",
      "            y: 0.0\n",
      "            z: 0.020057793444556233\n",
      "            w: 0.9997988222248192\n",
      "      velocities: \n",
      "        - \n",
      "          linear: \n",
      "            x: 0.00015324457854510277\n",
      "            y: 0.052135609304442755\n",
      "            z: 0.0\n",
      "          angular: \n",
      "            x: 0.0\n",
      "            y: 0.0\n",
      "            z: -0.00013340173869619043\n",
      "      accelerations: []\n",
      "      time_from_start: \n",
      "        secs: 1\n",
      "        nsecs: 256935334\n",
      "    - \n",
      "      transforms: \n",
      "        - \n",
      "          translation: \n",
      "            x: -0.05048399290731376\n",
      "            y: 0.058156228380202776\n",
      "            z: 0.0\n",
      "          rotation: \n",
      "            x: 0.0\n",
      "            y: 0.0\n",
      "            z: 0.02004298478615323\n",
      "            w: 0.9997991192038839\n",
      "      velocities: \n",
      "        - \n",
      "          linear: \n",
      "            x: 0.00012982976473810258\n",
      "            y: 0.043225249341102674\n",
      "            z: 0.0\n",
      "          angular: \n",
      "            x: 0.0\n",
      "            y: 0.0\n",
      "            z: -0.00012893657961810185\n",
      "      accelerations: []\n",
      "      time_from_start: \n",
      "        secs: 1\n",
      "        nsecs: 435856035\n",
      "    - \n",
      "      transforms: \n",
      "        - \n",
      "          translation: \n",
      "            x: -0.05045983653065117\n",
      "            y: 0.06679003206515674\n",
      "            z: 0.0\n",
      "          rotation: \n",
      "            x: 0.0\n",
      "            y: 0.0\n",
      "            z: 0.020032547905683127\n",
      "            w: 0.9997993283776533\n",
      "      velocities: \n",
      "        - \n",
      "          linear: \n",
      "            x: 8.130365921969498e-05\n",
      "            y: 0.026734193573760563\n",
      "            z: 0.0\n",
      "          angular: \n",
      "            x: 0.0\n",
      "            y: 0.0\n",
      "            z: -2.3730813389406916e-05\n",
      "      accelerations: []\n",
      "      time_from_start: \n",
      "        secs: 1\n",
      "        nsecs: 662036356\n",
      "    - \n",
      "      transforms: \n",
      "        - \n",
      "          translation: \n",
      "            x: -0.05042841425432648\n",
      "            y: 0.07540275000473969\n",
      "            z: 0.0\n",
      "          rotation: \n",
      "            x: 0.0\n",
      "            y: 0.0\n",
      "            z: 0.020045170676717267\n",
      "            w: 0.9997990753809194\n",
      "      velocities: \n",
      "        - \n",
      "          linear: \n",
      "            x: 0.004774553835943664\n",
      "            y: -0.006637766645859387\n",
      "            z: 0.0\n",
      "          angular: \n",
      "            x: 0.0\n",
      "            y: 0.0\n",
      "            z: 0.04130312182631082\n",
      "      accelerations: []\n",
      "      time_from_start: \n",
      "        secs: 2\n",
      "        nsecs: 225099946\n",
      "    - \n",
      "      transforms: \n",
      "        - \n",
      "          translation: \n",
      "            x: -0.04134647420261839\n",
      "            y: 0.04806910697861555\n",
      "            z: 0.0\n",
      "          rotation: \n",
      "            x: 0.0\n",
      "            y: 0.0\n",
      "            z: 0.059503276885687885\n",
      "            w: 0.9982281102232421\n",
      "      velocities: \n",
      "        - \n",
      "          linear: \n",
      "            x: 0.0\n",
      "            y: 0.0\n",
      "            z: 0.0\n",
      "          angular: \n",
      "            x: 0.0\n",
      "            y: 0.0\n",
      "            z: 0.0\n",
      "      accelerations: []\n",
      "      time_from_start: \n",
      "        secs: 3\n",
      "        nsecs: 181768161 0.13043478260869565\n"
     ]
    },
    {
     "name": "stderr",
     "output_type": "stream",
     "text": [
      "\u001b[33m[ WARN] [1691784611.041889020, 2493.340000000]: TF_REPEATED_DATA ignoring data with redundant timestamp for frame odom at time 2493.369000 according to authority unknown_publisher\u001b[0m\n",
      "\u001b[33m[ WARN] [1691784616.606914457, 2495.083000000]: TF_REPEATED_DATA ignoring data with redundant timestamp for frame odom at time 2495.109000 according to authority unknown_publisher\u001b[0m\n",
      "\u001b[33m[ WARN] [1691784616.881487803, 2495.201000000]: TF_REPEATED_DATA ignoring data with redundant timestamp for frame odom at time 2495.238000 according to authority unknown_publisher\u001b[0m\n"
     ]
    }
   ],
   "source": [
    "waypoints = []\n",
    "scale = 1.0\n",
    "wpose = move_group.get_current_pose().pose\n",
    "wpose.position.z -= scale * 0.1  # First move up (z)\n",
    "wpose.position.y += scale * 0.2  # and sideways (y)\n",
    "waypoints.append(copy.deepcopy(wpose))\n",
    "\n",
    "wpose.position.x += scale * 0.1  # Second move forward/backwards in (x)\n",
    "waypoints.append(copy.deepcopy(wpose))\n",
    "\n",
    "wpose.position.y -= scale * 0.1  # Third move sideways (y)\n",
    "waypoints.append(copy.deepcopy(wpose))\n",
    "\n",
    "# We want the Cartesian path to be interpolated at a resolution of 1 cm\n",
    "# which is why we will specify 0.01 as the eef_step in Cartesian\n",
    "# translation.  We will disable the jump threshold by setting it to 0.0,\n",
    "# ignoring the check for infeasible jumps in joint space, which is sufficient\n",
    "# for this tutorial.\n",
    "(plan, fraction) = move_group.compute_cartesian_path(\n",
    "    waypoints, 0.01, 0.0  # waypoints to follow  # eef_step\n",
    ")  # jump_threshold\n",
    "\n",
    "# Note: We are just planning, not asking move_group to actually move the robot yet:\n",
    "print( plan, fraction)"
   ]
  },
  {
   "cell_type": "code",
   "execution_count": 23,
   "id": "9e517a80",
   "metadata": {},
   "outputs": [
    {
     "name": "stderr",
     "output_type": "stream",
     "text": [
      "\u001b[33m[ WARN] [1691784641.083819676, 2503.250000000]: TF_REPEATED_DATA ignoring data with redundant timestamp for frame odom at time 2503.273000 according to authority unknown_publisher\u001b[0m\n"
     ]
    }
   ],
   "source": [
    "display_trajectory = moveit_msgs.msg.DisplayTrajectory()\n",
    "display_trajectory.trajectory_start = robot.get_current_state()\n",
    "display_trajectory.trajectory.append(plan)\n",
    "# Publish\n",
    "display_trajectory_publisher.publish(display_trajectory)"
   ]
  },
  {
   "cell_type": "code",
   "execution_count": 24,
   "id": "0049d1af",
   "metadata": {},
   "outputs": [
    {
     "name": "stderr",
     "output_type": "stream",
     "text": [
      "\u001b[33m[ WARN] [1691784650.768019207, 2506.030000000]: TF_REPEATED_DATA ignoring data with redundant timestamp for frame odom at time 2506.058000 according to authority unknown_publisher\u001b[0m\n",
      "\u001b[33m[ WARN] [1691784662.764246519, 2509.795000000]: TF_REPEATED_DATA ignoring data with redundant timestamp for frame odom at time 2509.819000 according to authority unknown_publisher\u001b[0m\n",
      "\u001b[33m[ WARN] [1691784663.195496858, 2510.008000000]: TF_REPEATED_DATA ignoring data with redundant timestamp for frame odom at time 2510.024000 according to authority unknown_publisher\u001b[0m\n"
     ]
    },
    {
     "data": {
      "text/plain": [
       "True"
      ]
     },
     "execution_count": 24,
     "metadata": {},
     "output_type": "execute_result"
    },
    {
     "name": "stderr",
     "output_type": "stream",
     "text": [
      "\u001b[33m[ WARN] [1691784679.685222620, 2515.170000000]: TF_REPEATED_DATA ignoring data with redundant timestamp for frame odom at time 2515.198000 according to authority unknown_publisher\u001b[0m\n",
      "\u001b[33m[ WARN] [1691784688.074272850, 2517.626000000]: TF_REPEATED_DATA ignoring data with redundant timestamp for frame odom at time 2517.660000 according to authority unknown_publisher\u001b[0m\n"
     ]
    }
   ],
   "source": [
    "move_group.execute(plan, wait=True)"
   ]
  },
  {
   "cell_type": "code",
   "execution_count": 26,
   "id": "1b0c3015",
   "metadata": {},
   "outputs": [
    {
     "name": "stderr",
     "output_type": "stream",
     "text": [
      "\u001b[33m[ WARN] [1691784769.319241917, 2541.938000000]: TF_REPEATED_DATA ignoring data with redundant timestamp for frame odom at time 2541.971000 according to authority unknown_publisher\u001b[0m\n",
      "\u001b[33m[ WARN] [1691784776.047082288, 2543.834000000]: TF_REPEATED_DATA ignoring data with redundant timestamp for frame odom at time 2543.859000 according to authority unknown_publisher\u001b[0m\n",
      "\u001b[33m[ WARN] [1691784779.981702759, 2545.065000000]: TF_REPEATED_DATA ignoring data with redundant timestamp for frame odom at time 2545.089000 according to authority unknown_publisher\u001b[0m\n",
      "\u001b[33m[ WARN] [1691784787.585892703, 2547.491000000]: TF_REPEATED_DATA ignoring data with redundant timestamp for frame odom at time 2547.511000 according to authority unknown_publisher\u001b[0m\n",
      "\u001b[33m[ WARN] [1691784812.375198776, 2555.304000000]: TF_REPEATED_DATA ignoring data with redundant timestamp for frame odom at time 2555.333000 according to authority unknown_publisher\u001b[0m\n"
     ]
    }
   ],
   "source": [
    "box_pose = geometry_msgs.msg.PoseStamped()\n",
    "box_pose.header.frame_id = \"hand_palm_link\"\n",
    "box_pose.pose.orientation.w = 1.0\n",
    "box_pose.pose.position.z = 0.11  # above the panda_hand frame\n",
    "box_name = \"box\"\n",
    "scene.add_box(box_name, box_pose, size=(0.075, 0.075, 0.075))"
   ]
  },
  {
   "cell_type": "code",
   "execution_count": 27,
   "id": "0675e5ee",
   "metadata": {},
   "outputs": [
    {
     "name": "stderr",
     "output_type": "stream",
     "text": [
      "\u001b[33m[ WARN] [1691784825.821696200, 2559.619000000]: TF_REPEATED_DATA ignoring data with redundant timestamp for frame odom at time 2559.643000 according to authority unknown_publisher\u001b[0m\n"
     ]
    }
   ],
   "source": [
    "attached_objects = scene.get_attached_objects([box_name])\n",
    "is_attached = len(attached_objects.keys()) > 0\n",
    "\n",
    "# Test if the box is in the scene.\n",
    "# Note that attaching the box will remove it from known_objects\n",
    "is_known = box_name in scene.get_known_object_names()"
   ]
  },
  {
   "cell_type": "code",
   "execution_count": 28,
   "id": "4f81badc",
   "metadata": {},
   "outputs": [
    {
     "name": "stdout",
     "output_type": "stream",
     "text": [
      "False True\n"
     ]
    }
   ],
   "source": [
    "print(is_attached, is_known)"
   ]
  },
  {
   "cell_type": "code",
   "execution_count": 29,
   "id": "fc9d9bb9",
   "metadata": {},
   "outputs": [
    {
     "name": "stdout",
     "output_type": "stream",
     "text": [
      "{}\n"
     ]
    },
    {
     "name": "stderr",
     "output_type": "stream",
     "text": [
      "\u001b[33m[ WARN] [1691784858.448011387, 2569.887000000]: TF_REPEATED_DATA ignoring data with redundant timestamp for frame odom at time 2569.924000 according to authority unknown_publisher\u001b[0m\n",
      "\u001b[33m[ WARN] [1691784861.648815907, 2570.871000000]: TF_REPEATED_DATA ignoring data with redundant timestamp for frame odom at time 2570.908000 according to authority unknown_publisher\u001b[0m\n",
      "\u001b[33m[ WARN] [1691784896.136395608, 2581.478000000]: TF_REPEATED_DATA ignoring data with redundant timestamp for frame odom at time 2581.519000 according to authority unknown_publisher\u001b[0m\n",
      "\u001b[33m[ WARN] [1691784932.104800322, 2592.818000000]: TF_REPEATED_DATA ignoring data with redundant timestamp for frame odom at time 2592.842000 according to authority unknown_publisher\u001b[0m\n",
      "\u001b[33m[ WARN] [1691784939.480151083, 2595.083000000]: TF_REPEATED_DATA ignoring data with redundant timestamp for frame odom at time 2595.108000 according to authority unknown_publisher\u001b[0m\n"
     ]
    }
   ],
   "source": [
    "print(attached_objects)"
   ]
  },
  {
   "cell_type": "code",
   "execution_count": 31,
   "id": "9d118e0a",
   "metadata": {
    "scrolled": true
   },
   "outputs": [
    {
     "name": "stderr",
     "output_type": "stream",
     "text": [
      "\u001b[33m[ WARN] [1691784962.049017308, 2602.122000000]: TF_REPEATED_DATA ignoring data with redundant timestamp for frame odom at time 2602.134000 according to authority unknown_publisher\u001b[0m\n",
      "\u001b[33m[ WARN] [1691784976.995284578, 2606.490000000]: TF_REPEATED_DATA ignoring data with redundant timestamp for frame odom at time 2606.534000 according to authority unknown_publisher\u001b[0m\n",
      "\u001b[33m[ WARN] [1691784985.881907109, 2609.307000000]: TF_REPEATED_DATA ignoring data with redundant timestamp for frame odom at time 2609.362000 according to authority unknown_publisher\u001b[0m\n",
      "\u001b[33m[ WARN] [1691784992.991246881, 2611.463000000]: TF_REPEATED_DATA ignoring data with redundant timestamp for frame odom at time 2611.484000 according to authority unknown_publisher\u001b[0m\n",
      "\u001b[33m[ WARN] [1691784993.740890791, 2611.755000000]: TF_REPEATED_DATA ignoring data with redundant timestamp for frame odom at time 2611.779000 according to authority unknown_publisher\u001b[0m\n"
     ]
    }
   ],
   "source": [
    "grasping_group = \"whole_body_light\"\n",
    "touch_links = robot.get_link_names(group=grasping_group)\n",
    "scene.attach_box(eef_link, box_name, touch_links=touch_links)"
   ]
  },
  {
   "cell_type": "code",
   "execution_count": 32,
   "id": "7376a4c7",
   "metadata": {},
   "outputs": [
    {
     "name": "stderr",
     "output_type": "stream",
     "text": [
      "\u001b[33m[ WARN] [1691785001.935614934, 2614.509000000]: TF_REPEATED_DATA ignoring data with redundant timestamp for frame odom at time 2614.531000 according to authority unknown_publisher\u001b[0m\n",
      "\u001b[33m[ WARN] [1691785005.514111111, 2615.596000000]: TF_REPEATED_DATA ignoring data with redundant timestamp for frame odom at time 2615.629000 according to authority unknown_publisher\u001b[0m\n",
      "\u001b[33m[ WARN] [1691785011.613053839, 2617.434000000]: TF_REPEATED_DATA ignoring data with redundant timestamp for frame odom at time 2617.465000 according to authority unknown_publisher\u001b[0m\n"
     ]
    }
   ],
   "source": [
    "scene.remove_attached_object(eef_link, name=box_name)"
   ]
  },
  {
   "cell_type": "code",
   "execution_count": 33,
   "id": "6ea5f49b",
   "metadata": {},
   "outputs": [
    {
     "name": "stderr",
     "output_type": "stream",
     "text": [
      "\u001b[33m[ WARN] [1691785020.263906549, 2619.696000000]: TF_REPEATED_DATA ignoring data with redundant timestamp for frame odom at time 2619.722000 according to authority unknown_publisher\u001b[0m\n",
      "\u001b[33m[ WARN] [1691785020.449372210, 2619.762000000]: TF_REPEATED_DATA ignoring data with redundant timestamp for frame odom at time 2619.785000 according to authority unknown_publisher\u001b[0m\n",
      "\u001b[33m[ WARN] [1691785036.999110517, 2623.772000000]: TF_REPEATED_DATA ignoring data with redundant timestamp for frame odom at time 2623.814000 according to authority unknown_publisher\u001b[0m\n",
      "\u001b[33m[ WARN] [1691785037.760686457, 2624.063000000]: TF_REPEATED_DATA ignoring data with redundant timestamp for frame odom at time 2624.084000 according to authority unknown_publisher\u001b[0m\n",
      "\u001b[33m[ WARN] [1691785060.063888846, 2630.386000000]: TF_REPEATED_DATA ignoring data with redundant timestamp for frame odom at time 2630.416000 according to authority unknown_publisher\u001b[0m\n",
      "\u001b[33m[ WARN] [1691785061.405104525, 2630.826000000]: TF_REPEATED_DATA ignoring data with redundant timestamp for frame odom at time 2630.842000 according to authority unknown_publisher\u001b[0m\n",
      "\u001b[33m[ WARN] [1691785098.571881493, 2641.825000000]: TF_REPEATED_DATA ignoring data with redundant timestamp for frame odom at time 2641.867000 according to authority unknown_publisher\u001b[0m\n",
      "\u001b[33m[ WARN] [1691785127.082818736, 2650.690000000]: TF_REPEATED_DATA ignoring data with redundant timestamp for frame odom at time 2650.702000 according to authority unknown_publisher\u001b[0m\n",
      "\u001b[33m[ WARN] [1691785131.039972415, 2652.100000000]: TF_REPEATED_DATA ignoring data with redundant timestamp for frame odom at time 2652.118000 according to authority unknown_publisher\u001b[0m\n",
      "\u001b[33m[ WARN] [1691785135.570256727, 2653.551000000]: TF_REPEATED_DATA ignoring data with redundant timestamp for frame odom at time 2653.589000 according to authority unknown_publisher\u001b[0m\n",
      "\u001b[33m[ WARN] [1691785147.047228482, 2657.253000000]: TF_REPEATED_DATA ignoring data with redundant timestamp for frame odom at time 2657.280000 according to authority unknown_publisher\u001b[0m\n",
      "\u001b[33m[ WARN] [1691785150.867598169, 2658.591000000]: TF_REPEATED_DATA ignoring data with redundant timestamp for frame odom at time 2658.613000 according to authority unknown_publisher\u001b[0m\n",
      "\u001b[33m[ WARN] [1691785159.708049034, 2661.397000000]: TF_REPEATED_DATA ignoring data with redundant timestamp for frame odom at time 2661.422000 according to authority unknown_publisher\u001b[0m\n",
      "\u001b[33m[ WARN] [1691785169.602560385, 2663.921000000]: TF_REPEATED_DATA ignoring data with redundant timestamp for frame odom at time 2663.944000 according to authority unknown_publisher\u001b[0m\n",
      "\u001b[33m[ WARN] [1691785169.903421102, 2664.005000000]: TF_REPEATED_DATA ignoring data with redundant timestamp for frame odom at time 2664.040000 according to authority unknown_publisher\u001b[0m\n",
      "\u001b[33m[ WARN] [1691785188.020363164, 2669.112000000]: TF_REPEATED_DATA ignoring data with redundant timestamp for frame odom at time 2669.172000 according to authority unknown_publisher\u001b[0m\n",
      "\u001b[33m[ WARN] [1691785225.630685721, 2679.567000000]: TF_REPEATED_DATA ignoring data with redundant timestamp for frame odom at time 2679.595000 according to authority unknown_publisher\u001b[0m\n",
      "\u001b[33m[ WARN] [1691785249.824118860, 2687.105000000]: TF_REPEATED_DATA ignoring data with redundant timestamp for frame odom at time 2687.122000 according to authority unknown_publisher\u001b[0m\n",
      "\u001b[33m[ WARN] [1691785278.934232129, 2696.392000000]: TF_REPEATED_DATA ignoring data with redundant timestamp for frame odom at time 2696.421000 according to authority unknown_publisher\u001b[0m\n",
      "\u001b[33m[ WARN] [1691785287.490439890, 2698.829000000]: TF_REPEATED_DATA ignoring data with redundant timestamp for frame odom at time 2698.850000 according to authority unknown_publisher\u001b[0m\n",
      "\u001b[33m[ WARN] [1691785307.614734851, 2704.959000000]: TF_REPEATED_DATA ignoring data with redundant timestamp for frame odom at time 2704.998000 according to authority unknown_publisher\u001b[0m\n",
      "\u001b[33m[ WARN] [1691785339.641821385, 2714.977000000]: TF_REPEATED_DATA ignoring data with redundant timestamp for frame odom at time 2715.028000 according to authority unknown_publisher\u001b[0m\n",
      "\u001b[33m[ WARN] [1691785350.122084028, 2718.076000000]: TF_REPEATED_DATA ignoring data with redundant timestamp for frame odom at time 2718.095000 according to authority unknown_publisher\u001b[0m\n",
      "\u001b[33m[ WARN] [1691785369.175003264, 2723.874000000]: TF_REPEATED_DATA ignoring data with redundant timestamp for frame odom at time 2723.886000 according to authority unknown_publisher\u001b[0m\n",
      "\u001b[33m[ WARN] [1691785397.933643918, 2732.432000000]: TF_REPEATED_DATA ignoring data with redundant timestamp for frame odom at time 2732.466000 according to authority unknown_publisher\u001b[0m\n",
      "\u001b[33m[ WARN] [1691785401.249046585, 2733.307000000]: TF_REPEATED_DATA ignoring data with redundant timestamp for frame odom at time 2733.333000 according to authority unknown_publisher\u001b[0m\n",
      "\u001b[33m[ WARN] [1691785401.410492009, 2733.392000000]: TF_REPEATED_DATA ignoring data with redundant timestamp for frame odom at time 2733.420000 according to authority unknown_publisher\u001b[0m\n",
      "\u001b[33m[ WARN] [1691785414.186241313, 2737.403000000]: TF_REPEATED_DATA ignoring data with redundant timestamp for frame odom at time 2737.425000 according to authority unknown_publisher\u001b[0m\n",
      "\u001b[33m[ WARN] [1691785423.225437854, 2740.256000000]: TF_REPEATED_DATA ignoring data with redundant timestamp for frame odom at time 2740.306000 according to authority unknown_publisher\u001b[0m\n",
      "\u001b[33m[ WARN] [1691785505.907399285, 2765.483000000]: TF_REPEATED_DATA ignoring data with redundant timestamp for frame odom at time 2765.498000 according to authority unknown_publisher\u001b[0m\n",
      "\u001b[33m[ WARN] [1691785506.607824923, 2765.714000000]: TF_REPEATED_DATA ignoring data with redundant timestamp for frame odom at time 2765.737000 according to authority unknown_publisher\u001b[0m\n",
      "\u001b[33m[ WARN] [1691785517.676480701, 2768.938000000]: TF_REPEATED_DATA ignoring data with redundant timestamp for frame odom at time 2768.963000 according to authority unknown_publisher\u001b[0m\n",
      "\u001b[33m[ WARN] [1691785551.787756697, 2779.671000000]: TF_REPEATED_DATA ignoring data with redundant timestamp for frame odom at time 2779.694000 according to authority unknown_publisher\u001b[0m\n",
      "\u001b[33m[ WARN] [1691785551.985449400, 2779.770000000]: TF_REPEATED_DATA ignoring data with redundant timestamp for frame odom at time 2779.790000 according to authority unknown_publisher\u001b[0m\n",
      "\u001b[33m[ WARN] [1691785554.196234312, 2780.413000000]: TF_REPEATED_DATA ignoring data with redundant timestamp for frame odom at time 2780.428000 according to authority unknown_publisher\u001b[0m\n",
      "\u001b[33m[ WARN] [1691785563.274965029, 2783.323000000]: TF_REPEATED_DATA ignoring data with redundant timestamp for frame odom at time 2783.363000 according to authority unknown_publisher\u001b[0m\n",
      "\u001b[33m[ WARN] [1691785564.996282119, 2783.874000000]: TF_REPEATED_DATA ignoring data with redundant timestamp for frame odom at time 2783.895000 according to authority unknown_publisher\u001b[0m\n",
      "\u001b[33m[ WARN] [1691785570.135997799, 2785.495000000]: TF_REPEATED_DATA ignoring data with redundant timestamp for frame odom at time 2785.519000 according to authority unknown_publisher\u001b[0m\n",
      "\u001b[33m[ WARN] [1691785578.096011018, 2787.902000000]: TF_REPEATED_DATA ignoring data with redundant timestamp for frame odom at time 2787.921000 according to authority unknown_publisher\u001b[0m\n",
      "\u001b[33m[ WARN] [1691785613.178345281, 2798.351000000]: TF_REPEATED_DATA ignoring data with redundant timestamp for frame odom at time 2798.384000 according to authority unknown_publisher\u001b[0m\n",
      "\u001b[33m[ WARN] [1691785627.561075862, 2802.726000000]: TF_REPEATED_DATA ignoring data with redundant timestamp for frame odom at time 2802.792000 according to authority unknown_publisher\u001b[0m\n",
      "\u001b[33m[ WARN] [1691785642.034412770, 2807.182000000]: TF_REPEATED_DATA ignoring data with redundant timestamp for frame odom at time 2807.226000 according to authority unknown_publisher\u001b[0m\n",
      "\u001b[33m[ WARN] [1691785662.279108075, 2813.581000000]: TF_REPEATED_DATA ignoring data with redundant timestamp for frame odom at time 2813.598000 according to authority unknown_publisher\u001b[0m\n",
      "\u001b[33m[ WARN] [1691785673.831497926, 2817.226000000]: TF_REPEATED_DATA ignoring data with redundant timestamp for frame odom at time 2817.264000 according to authority unknown_publisher\u001b[0m\n"
     ]
    },
    {
     "name": "stderr",
     "output_type": "stream",
     "text": [
      "\u001b[33m[ WARN] [1691785684.037128004, 2820.562000000]: TF_REPEATED_DATA ignoring data with redundant timestamp for frame odom at time 2820.583000 according to authority unknown_publisher\u001b[0m\n",
      "\u001b[33m[ WARN] [1691785686.353217469, 2821.399000000]: TF_REPEATED_DATA ignoring data with redundant timestamp for frame odom at time 2821.415000 according to authority unknown_publisher\u001b[0m\n",
      "\u001b[33m[ WARN] [1691785713.881580189, 2830.456000000]: TF_REPEATED_DATA ignoring data with redundant timestamp for frame odom at time 2830.480000 according to authority unknown_publisher\u001b[0m\n",
      "\u001b[33m[ WARN] [1691785714.708865445, 2830.801000000]: TF_REPEATED_DATA ignoring data with redundant timestamp for frame odom at time 2830.821000 according to authority unknown_publisher\u001b[0m\n",
      "\u001b[33m[ WARN] [1691785727.664402992, 2834.555000000]: TF_REPEATED_DATA ignoring data with redundant timestamp for frame odom at time 2834.580000 according to authority unknown_publisher\u001b[0m\n",
      "\u001b[33m[ WARN] [1691785755.624930907, 2843.206000000]: TF_REPEATED_DATA ignoring data with redundant timestamp for frame odom at time 2843.239000 according to authority unknown_publisher\u001b[0m\n",
      "\u001b[33m[ WARN] [1691785780.760955994, 2850.099000000]: TF_REPEATED_DATA ignoring data with redundant timestamp for frame odom at time 2850.131000 according to authority unknown_publisher\u001b[0m\n",
      "\u001b[33m[ WARN] [1691785790.461564730, 2852.681000000]: TF_REPEATED_DATA ignoring data with redundant timestamp for frame odom at time 2852.698000 according to authority unknown_publisher\u001b[0m\n",
      "\u001b[33m[ WARN] [1691785798.279109957, 2854.979000000]: TF_REPEATED_DATA ignoring data with redundant timestamp for frame odom at time 2855.003000 according to authority unknown_publisher\u001b[0m\n",
      "\u001b[33m[ WARN] [1691785802.331879432, 2856.297000000]: TF_REPEATED_DATA ignoring data with redundant timestamp for frame odom at time 2856.321000 according to authority unknown_publisher\u001b[0m\n",
      "\u001b[33m[ WARN] [1691785805.544375965, 2857.327000000]: TF_REPEATED_DATA ignoring data with redundant timestamp for frame odom at time 2857.353000 according to authority unknown_publisher\u001b[0m\n",
      "\u001b[33m[ WARN] [1691785810.971132315, 2858.930000000]: TF_REPEATED_DATA ignoring data with redundant timestamp for frame odom at time 2858.951000 according to authority unknown_publisher\u001b[0m\n",
      "\u001b[33m[ WARN] [1691785821.135068860, 2862.129000000]: TF_REPEATED_DATA ignoring data with redundant timestamp for frame odom at time 2862.149000 according to authority unknown_publisher\u001b[0m\n",
      "\u001b[33m[ WARN] [1691785821.586997760, 2862.330000000]: TF_REPEATED_DATA ignoring data with redundant timestamp for frame odom at time 2862.349000 according to authority unknown_publisher\u001b[0m\n",
      "\u001b[33m[ WARN] [1691785848.859641390, 2870.894000000]: TF_REPEATED_DATA ignoring data with redundant timestamp for frame odom at time 2870.924000 according to authority unknown_publisher\u001b[0m\n",
      "\u001b[33m[ WARN] [1691785854.726839150, 2872.771000000]: TF_REPEATED_DATA ignoring data with redundant timestamp for frame odom at time 2872.811000 according to authority unknown_publisher\u001b[0m\n",
      "\u001b[33m[ WARN] [1691785867.108953385, 2876.548000000]: TF_REPEATED_DATA ignoring data with redundant timestamp for frame odom at time 2876.568000 according to authority unknown_publisher\u001b[0m\n",
      "\u001b[33m[ WARN] [1691785869.336665756, 2877.248000000]: TF_REPEATED_DATA ignoring data with redundant timestamp for frame odom at time 2877.268000 according to authority unknown_publisher\u001b[0m\n",
      "\u001b[33m[ WARN] [1691785889.277168574, 2883.264000000]: TF_REPEATED_DATA ignoring data with redundant timestamp for frame odom at time 2883.305000 according to authority unknown_publisher\u001b[0m\n",
      "\u001b[33m[ WARN] [1691785889.610111471, 2883.412000000]: TF_REPEATED_DATA ignoring data with redundant timestamp for frame odom at time 2883.428000 according to authority unknown_publisher\u001b[0m\n",
      "\u001b[33m[ WARN] [1691785921.005375642, 2893.108000000]: TF_REPEATED_DATA ignoring data with redundant timestamp for frame odom at time 2893.144000 according to authority unknown_publisher\u001b[0m\n",
      "\u001b[33m[ WARN] [1691785944.757459065, 2899.973000000]: TF_REPEATED_DATA ignoring data with redundant timestamp for frame odom at time 2900.000000 according to authority unknown_publisher\u001b[0m\n",
      "\u001b[33m[ WARN] [1691785965.685202686, 2904.896000000]: TF_REPEATED_DATA ignoring data with redundant timestamp for frame odom at time 2904.936000 according to authority unknown_publisher\u001b[0m\n",
      "\u001b[33m[ WARN] [1691785994.548074274, 2913.629000000]: TF_REPEATED_DATA ignoring data with redundant timestamp for frame odom at time 2913.662000 according to authority unknown_publisher\u001b[0m\n",
      "\u001b[33m[ WARN] [1691786004.883193351, 2916.557000000]: TF_REPEATED_DATA ignoring data with redundant timestamp for frame odom at time 2916.588000 according to authority unknown_publisher\u001b[0m\n",
      "\u001b[33m[ WARN] [1691786005.009139589, 2916.616000000]: TF_REPEATED_DATA ignoring data with redundant timestamp for frame odom at time 2916.649000 according to authority unknown_publisher\u001b[0m\n",
      "\u001b[33m[ WARN] [1691786022.070492644, 2921.433000000]: TF_REPEATED_DATA ignoring data with redundant timestamp for frame odom at time 2921.459000 according to authority unknown_publisher\u001b[0m\n",
      "\u001b[33m[ WARN] [1691786048.024338980, 2928.860000000]: TF_REPEATED_DATA ignoring data with redundant timestamp for frame odom at time 2928.880000 according to authority unknown_publisher\u001b[0m\n",
      "\u001b[33m[ WARN] [1691786053.974508088, 2930.445000000]: TF_REPEATED_DATA ignoring data with redundant timestamp for frame odom at time 2930.484000 according to authority unknown_publisher\u001b[0m\n",
      "\u001b[33m[ WARN] [1691786056.532161423, 2931.279000000]: TF_REPEATED_DATA ignoring data with redundant timestamp for frame odom at time 2931.305000 according to authority unknown_publisher\u001b[0m\n",
      "\u001b[33m[ WARN] [1691786069.134768203, 2934.977000000]: TF_REPEATED_DATA ignoring data with redundant timestamp for frame odom at time 2935.002000 according to authority unknown_publisher\u001b[0m\n",
      "\u001b[33m[ WARN] [1691786078.600854652, 2937.810000000]: TF_REPEATED_DATA ignoring data with redundant timestamp for frame odom at time 2937.833000 according to authority unknown_publisher\u001b[0m\n",
      "\u001b[33m[ WARN] [1691786079.528258048, 2938.177000000]: TF_REPEATED_DATA ignoring data with redundant timestamp for frame odom at time 2938.177000 according to authority unknown_publisher\u001b[0m\n",
      "\u001b[33m[ WARN] [1691786089.651875254, 2940.969000000]: TF_REPEATED_DATA ignoring data with redundant timestamp for frame odom at time 2941.010000 according to authority unknown_publisher\u001b[0m\n",
      "\u001b[33m[ WARN] [1691786090.658619980, 2941.368000000]: TF_REPEATED_DATA ignoring data with redundant timestamp for frame odom at time 2941.391000 according to authority unknown_publisher\u001b[0m\n",
      "\u001b[33m[ WARN] [1691786103.602752487, 2945.244000000]: TF_REPEATED_DATA ignoring data with redundant timestamp for frame odom at time 2945.263000 according to authority unknown_publisher\u001b[0m\n",
      "\u001b[33m[ WARN] [1691786107.337989372, 2946.310000000]: TF_REPEATED_DATA ignoring data with redundant timestamp for frame odom at time 2946.334000 according to authority unknown_publisher\u001b[0m\n",
      "\u001b[33m[ WARN] [1691786111.521933345, 2947.325000000]: TF_REPEATED_DATA ignoring data with redundant timestamp for frame odom at time 2947.353000 according to authority unknown_publisher\u001b[0m\n",
      "\u001b[33m[ WARN] [1691786166.824181462, 2962.752000000]: TF_REPEATED_DATA ignoring data with redundant timestamp for frame odom at time 2962.772000 according to authority unknown_publisher\u001b[0m\n",
      "\u001b[33m[ WARN] [1691786172.059659656, 2964.264000000]: TF_REPEATED_DATA ignoring data with redundant timestamp for frame odom at time 2964.286000 according to authority unknown_publisher\u001b[0m\n",
      "\u001b[33m[ WARN] [1691786176.208224176, 2965.275000000]: TF_REPEATED_DATA ignoring data with redundant timestamp for frame odom at time 2965.303000 according to authority unknown_publisher\u001b[0m\n",
      "\u001b[33m[ WARN] [1691786179.894760639, 2966.305000000]: TF_REPEATED_DATA ignoring data with redundant timestamp for frame odom at time 2966.349000 according to authority unknown_publisher\u001b[0m\n",
      "\u001b[33m[ WARN] [1691786184.168140583, 2967.479000000]: TF_REPEATED_DATA ignoring data with redundant timestamp for frame odom at time 2967.541000 according to authority unknown_publisher\u001b[0m\n",
      "\u001b[33m[ WARN] [1691786184.902846895, 2967.648000000]: TF_REPEATED_DATA ignoring data with redundant timestamp for frame odom at time 2967.680000 according to authority unknown_publisher\u001b[0m\n"
     ]
    },
    {
     "name": "stderr",
     "output_type": "stream",
     "text": [
      "\u001b[33m[ WARN] [1691786217.728031698, 2977.412000000]: TF_REPEATED_DATA ignoring data with redundant timestamp for frame odom at time 2977.435000 according to authority unknown_publisher\u001b[0m\n",
      "\u001b[33m[ WARN] [1691786220.603592389, 2978.113000000]: TF_REPEATED_DATA ignoring data with redundant timestamp for frame odom at time 2978.140000 according to authority unknown_publisher\u001b[0m\n",
      "\u001b[33m[ WARN] [1691786222.089706069, 2978.765000000]: TF_REPEATED_DATA ignoring data with redundant timestamp for frame odom at time 2978.800000 according to authority unknown_publisher\u001b[0m\n",
      "\u001b[33m[ WARN] [1691786242.213956824, 2984.964000000]: TF_REPEATED_DATA ignoring data with redundant timestamp for frame odom at time 2984.994000 according to authority unknown_publisher\u001b[0m\n",
      "\u001b[33m[ WARN] [1691786242.444590774, 2985.074000000]: TF_REPEATED_DATA ignoring data with redundant timestamp for frame odom at time 2985.101000 according to authority unknown_publisher\u001b[0m\n",
      "\u001b[33m[ WARN] [1691786250.743951752, 2987.871000000]: TF_REPEATED_DATA ignoring data with redundant timestamp for frame odom at time 2987.896000 according to authority unknown_publisher\u001b[0m\n",
      "\u001b[33m[ WARN] [1691786250.952187675, 2987.947000000]: TF_REPEATED_DATA ignoring data with redundant timestamp for frame odom at time 2987.969000 according to authority unknown_publisher\u001b[0m\n",
      "\u001b[33m[ WARN] [1691786274.135956295, 2995.677000000]: TF_REPEATED_DATA ignoring data with redundant timestamp for frame odom at time 2995.717000 according to authority unknown_publisher\u001b[0m\n",
      "\u001b[33m[ WARN] [1691786276.229303137, 2996.535000000]: TF_REPEATED_DATA ignoring data with redundant timestamp for frame odom at time 2996.561000 according to authority unknown_publisher\u001b[0m\n",
      "\u001b[33m[ WARN] [1691786278.479386340, 2997.286000000]: TF_REPEATED_DATA ignoring data with redundant timestamp for frame odom at time 2997.315000 according to authority unknown_publisher\u001b[0m\n",
      "\u001b[33m[ WARN] [1691786279.718567001, 2997.656000000]: TF_REPEATED_DATA ignoring data with redundant timestamp for frame odom at time 2997.679000 according to authority unknown_publisher\u001b[0m\n",
      "\u001b[33m[ WARN] [1691786302.926891151, 3005.204000000]: TF_REPEATED_DATA ignoring data with redundant timestamp for frame odom at time 3005.226000 according to authority unknown_publisher\u001b[0m\n",
      "\u001b[33m[ WARN] [1691786303.727427225, 3005.565000000]: TF_REPEATED_DATA ignoring data with redundant timestamp for frame odom at time 3005.587000 according to authority unknown_publisher\u001b[0m\n",
      "\u001b[33m[ WARN] [1691786314.008056268, 3008.835000000]: TF_REPEATED_DATA ignoring data with redundant timestamp for frame odom at time 3008.886000 according to authority unknown_publisher\u001b[0m\n",
      "\u001b[33m[ WARN] [1691786347.219837878, 3019.258000000]: TF_REPEATED_DATA ignoring data with redundant timestamp for frame odom at time 3019.300000 according to authority unknown_publisher\u001b[0m\n",
      "\u001b[33m[ WARN] [1691786364.653870969, 3024.403000000]: TF_REPEATED_DATA ignoring data with redundant timestamp for frame odom at time 3024.424000 according to authority unknown_publisher\u001b[0m\n",
      "\u001b[33m[ WARN] [1691786366.257598832, 3024.871000000]: TF_REPEATED_DATA ignoring data with redundant timestamp for frame odom at time 3024.888000 according to authority unknown_publisher\u001b[0m\n",
      "\u001b[33m[ WARN] [1691786371.130597108, 3026.187000000]: TF_REPEATED_DATA ignoring data with redundant timestamp for frame odom at time 3026.220000 according to authority unknown_publisher\u001b[0m\n",
      "\u001b[33m[ WARN] [1691786377.536448169, 3028.029000000]: TF_REPEATED_DATA ignoring data with redundant timestamp for frame odom at time 3028.056000 according to authority unknown_publisher\u001b[0m\n",
      "\u001b[33m[ WARN] [1691786380.560394186, 3028.898000000]: TF_REPEATED_DATA ignoring data with redundant timestamp for frame odom at time 3028.898000 according to authority unknown_publisher\u001b[0m\n",
      "\u001b[33m[ WARN] [1691786392.676017867, 3032.694000000]: TF_REPEATED_DATA ignoring data with redundant timestamp for frame odom at time 3032.727000 according to authority unknown_publisher\u001b[0m\n",
      "\u001b[33m[ WARN] [1691786393.144999897, 3032.860000000]: TF_REPEATED_DATA ignoring data with redundant timestamp for frame odom at time 3032.885000 according to authority unknown_publisher\u001b[0m\n",
      "\u001b[33m[ WARN] [1691786396.434415406, 3033.933000000]: TF_REPEATED_DATA ignoring data with redundant timestamp for frame odom at time 3033.953000 according to authority unknown_publisher\u001b[0m\n",
      "\u001b[33m[ WARN] [1691786421.165443589, 3040.942000000]: TF_REPEATED_DATA ignoring data with redundant timestamp for frame odom at time 3040.980000 according to authority unknown_publisher\u001b[0m\n",
      "\u001b[33m[ WARN] [1691786427.702028185, 3042.680000000]: TF_REPEATED_DATA ignoring data with redundant timestamp for frame odom at time 3042.709000 according to authority unknown_publisher\u001b[0m\n",
      "\u001b[33m[ WARN] [1691786449.090398173, 3049.070000000]: TF_REPEATED_DATA ignoring data with redundant timestamp for frame odom at time 3049.102000 according to authority unknown_publisher\u001b[0m\n",
      "\u001b[33m[ WARN] [1691786459.410879236, 3052.407000000]: TF_REPEATED_DATA ignoring data with redundant timestamp for frame odom at time 3052.426000 according to authority unknown_publisher\u001b[0m\n",
      "\u001b[33m[ WARN] [1691786475.046764442, 3057.402000000]: TF_REPEATED_DATA ignoring data with redundant timestamp for frame odom at time 3057.429000 according to authority unknown_publisher\u001b[0m\n",
      "\u001b[33m[ WARN] [1691786488.062137588, 3061.238000000]: TF_REPEATED_DATA ignoring data with redundant timestamp for frame odom at time 3061.271000 according to authority unknown_publisher\u001b[0m\n",
      "\u001b[33m[ WARN] [1691786489.820017651, 3061.856000000]: TF_REPEATED_DATA ignoring data with redundant timestamp for frame odom at time 3061.889000 according to authority unknown_publisher\u001b[0m\n",
      "\u001b[33m[ WARN] [1691786499.512716598, 3064.997000000]: TF_REPEATED_DATA ignoring data with redundant timestamp for frame odom at time 3065.017000 according to authority unknown_publisher\u001b[0m\n",
      "\u001b[33m[ WARN] [1691786503.912159508, 3066.362000000]: TF_REPEATED_DATA ignoring data with redundant timestamp for frame odom at time 3066.379000 according to authority unknown_publisher\u001b[0m\n",
      "\u001b[33m[ WARN] [1691786504.117927949, 3066.449000000]: TF_REPEATED_DATA ignoring data with redundant timestamp for frame odom at time 3066.481000 according to authority unknown_publisher\u001b[0m\n",
      "\u001b[33m[ WARN] [1691786520.413016804, 3071.688000000]: TF_REPEATED_DATA ignoring data with redundant timestamp for frame odom at time 3071.716000 according to authority unknown_publisher\u001b[0m\n",
      "\u001b[33m[ WARN] [1691786527.480435456, 3074.119000000]: TF_REPEATED_DATA ignoring data with redundant timestamp for frame odom at time 3074.141000 according to authority unknown_publisher\u001b[0m\n",
      "\u001b[33m[ WARN] [1691786554.232758277, 3082.484000000]: TF_REPEATED_DATA ignoring data with redundant timestamp for frame odom at time 3082.504000 according to authority unknown_publisher\u001b[0m\n",
      "\u001b[33m[ WARN] [1691786570.435402928, 3087.681000000]: TF_REPEATED_DATA ignoring data with redundant timestamp for frame odom at time 3087.717000 according to authority unknown_publisher\u001b[0m\n",
      "\u001b[33m[ WARN] [1691786589.831966215, 3093.619000000]: TF_REPEATED_DATA ignoring data with redundant timestamp for frame odom at time 3093.651000 according to authority unknown_publisher\u001b[0m\n",
      "\u001b[33m[ WARN] [1691786594.129848760, 3095.067000000]: TF_REPEATED_DATA ignoring data with redundant timestamp for frame odom at time 3095.084000 according to authority unknown_publisher\u001b[0m\n",
      "\u001b[33m[ WARN] [1691786605.150445163, 3098.452000000]: TF_REPEATED_DATA ignoring data with redundant timestamp for frame odom at time 3098.516000 according to authority unknown_publisher\u001b[0m\n",
      "\u001b[33m[ WARN] [1691786616.181417740, 3101.921000000]: TF_REPEATED_DATA ignoring data with redundant timestamp for frame odom at time 3101.943000 according to authority unknown_publisher\u001b[0m\n",
      "\u001b[33m[ WARN] [1691786626.918273739, 3105.329000000]: TF_REPEATED_DATA ignoring data with redundant timestamp for frame odom at time 3105.360000 according to authority unknown_publisher\u001b[0m\n",
      "\u001b[33m[ WARN] [1691786638.833304109, 3108.920000000]: TF_REPEATED_DATA ignoring data with redundant timestamp for frame odom at time 3108.936000 according to authority unknown_publisher\u001b[0m\n",
      "\u001b[33m[ WARN] [1691786640.871358458, 3109.556000000]: TF_REPEATED_DATA ignoring data with redundant timestamp for frame odom at time 3109.580000 according to authority unknown_publisher\u001b[0m\n"
     ]
    },
    {
     "name": "stderr",
     "output_type": "stream",
     "text": [
      "\u001b[33m[ WARN] [1691786647.886315708, 3111.789000000]: TF_REPEATED_DATA ignoring data with redundant timestamp for frame odom at time 3111.813000 according to authority unknown_publisher\u001b[0m\n",
      "\u001b[33m[ WARN] [1691786653.520911767, 3113.582000000]: TF_REPEATED_DATA ignoring data with redundant timestamp for frame odom at time 3113.621000 according to authority unknown_publisher\u001b[0m\n",
      "\u001b[33m[ WARN] [1691786669.316877177, 3118.467000000]: TF_REPEATED_DATA ignoring data with redundant timestamp for frame odom at time 3118.504000 according to authority unknown_publisher\u001b[0m\n",
      "\u001b[33m[ WARN] [1691786674.247359712, 3120.013000000]: TF_REPEATED_DATA ignoring data with redundant timestamp for frame odom at time 3120.031000 according to authority unknown_publisher\u001b[0m\n",
      "\u001b[33m[ WARN] [1691786682.766984988, 3122.803000000]: TF_REPEATED_DATA ignoring data with redundant timestamp for frame odom at time 3122.828000 according to authority unknown_publisher\u001b[0m\n",
      "\u001b[33m[ WARN] [1691786684.270315880, 3123.410000000]: TF_REPEATED_DATA ignoring data with redundant timestamp for frame odom at time 3123.435000 according to authority unknown_publisher\u001b[0m\n",
      "\u001b[33m[ WARN] [1691786717.850755696, 3133.628000000]: TF_REPEATED_DATA ignoring data with redundant timestamp for frame odom at time 3133.648000 according to authority unknown_publisher\u001b[0m\n",
      "\u001b[33m[ WARN] [1691786725.257939278, 3135.865000000]: TF_REPEATED_DATA ignoring data with redundant timestamp for frame odom at time 3135.880000 according to authority unknown_publisher\u001b[0m\n",
      "\u001b[33m[ WARN] [1691786758.199119035, 3146.583000000]: TF_REPEATED_DATA ignoring data with redundant timestamp for frame odom at time 3146.603000 according to authority unknown_publisher\u001b[0m\n",
      "\u001b[33m[ WARN] [1691786758.680491048, 3146.776000000]: TF_REPEATED_DATA ignoring data with redundant timestamp for frame odom at time 3146.807000 according to authority unknown_publisher\u001b[0m\n",
      "\u001b[33m[ WARN] [1691786759.980314657, 3147.273000000]: TF_REPEATED_DATA ignoring data with redundant timestamp for frame odom at time 3147.298000 according to authority unknown_publisher\u001b[0m\n",
      "\u001b[33m[ WARN] [1691786811.934965956, 3163.505000000]: TF_REPEATED_DATA ignoring data with redundant timestamp for frame odom at time 3163.527000 according to authority unknown_publisher\u001b[0m\n",
      "\u001b[33m[ WARN] [1691786837.264752154, 3171.467000000]: TF_REPEATED_DATA ignoring data with redundant timestamp for frame odom at time 3171.519000 according to authority unknown_publisher\u001b[0m\n"
     ]
    }
   ],
   "source": [
    "scene.remove_world_object(box_name)"
   ]
  },
  {
   "cell_type": "code",
   "execution_count": 1,
   "id": "5fe8eeed",
   "metadata": {},
   "outputs": [],
   "source": [
    "from copy import deepcopy\n",
    "import math\n",
    "import sys\n",
    "\n",
    "import geometry_msgs.msg\n",
    "import moveit_commander\n",
    "import moveit_msgs.msg\n",
    "import rospy\n",
    "import shape_msgs.msg\n",
    "from tf.transformations import quaternion_from_euler, quaternion_multiply\n",
    "import trajectory_msgs.msg\n",
    "\n",
    "\n",
    "class MoveItPickAndPlaceDemo():\n",
    "    def __init__(self, wait=0.0):\n",
    "        # initialize\n",
    "        moveit_commander.roscpp_initialize(sys.argv)\n",
    "        rospy.init_node(\"moveit_demo\", anonymous=True)\n",
    "\n",
    "        self.reference_frame = \"odom\"\n",
    "        #arm = moveit_commander.MoveGroupCommander(\"arm\")\n",
    "        #base = moveit_commander.MoveGroupCommander(\"base\")\n",
    "        gripper = moveit_commander.MoveGroupCommander(\"gripper\")\n",
    "        #head = moveit_commander.MoveGroupCommander(\"head\")\n",
    "        self.whole_body = moveit_commander.MoveGroupCommander(\"whole_body\")\n",
    "        self.scene = moveit_commander.PlanningSceneInterface()\n",
    "        self.whole_body.allow_replanning(True)\n",
    "        self.whole_body.set_planning_time(5)\n",
    "        self.whole_body.set_pose_reference_frame(self.reference_frame)\n",
    "        self.end_effector = self.whole_body.get_end_effector_link()\n",
    "        rospy.sleep(1)\n",
    "\n",
    "        # remove all objects\n",
    "        self.scene.remove_attached_object(self.end_effector)\n",
    "        self.scene.remove_world_object()\n",
    "        rospy.sleep(1)\n",
    "\n",
    "        # move_to_neutral\n",
    "        rospy.loginfo(\"step1: move_to_neutral\")\n",
    "        #base.go()\n",
    "        #arm.set_named_target(\"neutral\")\n",
    "        #arm.go()\n",
    "        #head.set_named_target(\"neutral\")\n",
    "        #head.go()\n",
    "        gripper.set_joint_value_target(\"hand_motor_joint\", 0.5)\n",
    "        gripper.go()\n",
    "        rospy.logdebug(\"done\")\n",
    "        rospy.sleep(wait)\n",
    "\n",
    "        # add objects\n",
    "        self.add_box(\"table\",\n",
    "                     [0.3, 0.8, 0.01],\n",
    "                     [0.5, 0.0, 0.5 - 0.01 / 2])\n",
    "        self.add_box(\"wall\",\n",
    "                     [0.3, 0.01, 0.1],\n",
    "                     [0.5, 0.0, 0.5 + 0.1 / 2])\n",
    "        self.add_box(\"target1\",\n",
    "                     [0.02, 0.02, 0.2],\n",
    "                     [0.5, 0.10, 0.5 + 0.2 / 2])\n",
    "        self.add_cylinder(\"target2\",\n",
    "                          0.03, 0.08,\n",
    "                          [0.5, 0.25, 0.5 + 0.08 / 2])\n",
    "        rospy.sleep(1)\n",
    "\n",
    "        # pick target1\n",
    "        self.whole_body.set_support_surface_name(\"table\")\n",
    "        rospy.loginfo(\"step2: pick target1\")\n",
    "        grasps = self.make_grasps(\"target1\",\n",
    "                                  (0.707, 0.0, 0.707, 0.0),\n",
    "                                  quality=lambda x, y, z, roll, pitch, yaw: 1 - abs(pitch),  # noqa\n",
    "                                  x=[-0.07],\n",
    "                                  pitch=[-0.2, -0.1, 0, 0.1, 0.2])\n",
    "        self.pick(\"target1\", grasps)\n",
    "        rospy.logdebug(\"done\")\n",
    "        rospy.sleep(wait)\n",
    "\n",
    "        # place target1\n",
    "        rospy.loginfo(\"step3: place target1\")\n",
    "        location = self.make_place_location(0.4, -0.2, 0.5 + 0.2 / 2)\n",
    "        self.place(\"target1\", location)\n",
    "        rospy.logdebug(\"done\")\n",
    "        rospy.sleep(wait)\n",
    "\n",
    "        gripper.set_joint_value_target(\"hand_motor_joint\", 1.0)\n",
    "        gripper.go()\n",
    "\n",
    "        # pick target2\n",
    "        rospy.loginfo(\"step4: pick target2\")\n",
    "        yaw = [i / 180.0 * math.pi for i in range(0, 360, 30)]\n",
    "        grasps = self.make_grasps(\"target2\",\n",
    "                                  (1, 0, 0, 0),\n",
    "                                  z=[0.1],\n",
    "                                  yaw=yaw)\n",
    "        self.pick(\"target2\", grasps)\n",
    "        rospy.logdebug(\"done\")\n",
    "        rospy.sleep(wait)\n",
    "\n",
    "        # place target2\n",
    "        rospy.loginfo(\"step4: place target2\")\n",
    "        self.whole_body.set_support_surface_name(\"target1\")\n",
    "        location = self.make_place_location(0.4, -0.2, 0.7 + 0.08 / 2)\n",
    "        self.place(\"target2\", location)\n",
    "        rospy.logdebug(\"done\")\n",
    "        rospy.sleep(wait)\n",
    "\n",
    "        # finalize\n",
    "        moveit_commander.roscpp_shutdown()\n",
    "        moveit_commander.os._exit(0)\n",
    "\n",
    "    def pick(self, target, grasps):\n",
    "        n_attempts = 0\n",
    "        max_pick_attempts = 10\n",
    "        result = None\n",
    "\n",
    "        while (result != moveit_msgs.msg.MoveItErrorCodes.SUCCESS) and \\\n",
    "              (n_attempts < max_pick_attempts):\n",
    "            n_attempts += 1\n",
    "            rospy.loginfo(\"Pick attempt: \" + str(n_attempts))\n",
    "            result = self.whole_body.pick(target, grasps)\n",
    "            rospy.sleep(0.2)\n",
    "        if result != moveit_msgs.msg.MoveItErrorCodes.SUCCESS:\n",
    "            self.scene.remove_attached_object(self.end_effector)\n",
    "        return result\n",
    "\n",
    "    def place(self, target, location):\n",
    "        n_attempts = 0\n",
    "        max_pick_attempts = 10\n",
    "        result = None\n",
    "\n",
    "        while (result != moveit_msgs.msg.MoveItErrorCodes.SUCCESS) and \\\n",
    "              (n_attempts < max_pick_attempts):\n",
    "            n_attempts += 1\n",
    "            rospy.loginfo(\"Place attempt: \" + str(n_attempts))\n",
    "            result = self.whole_body.place(target, location)\n",
    "            rospy.sleep(0.2)\n",
    "        if result != moveit_msgs.msg.MoveItErrorCodes.SUCCESS:\n",
    "            self.scene.remove_attached_object(self.end_effector)\n",
    "        return result\n",
    "\n",
    "    def make_gripper_posture(self, pos, effort=0.0):\n",
    "        t = trajectory_msgs.msg.JointTrajectory()\n",
    "        t.joint_names = [\"hand_motor_joint\"]\n",
    "        tp = trajectory_msgs.msg.JointTrajectoryPoint()\n",
    "        tp.positions = [pos]\n",
    "        tp.effort = [effort]\n",
    "        tp.time_from_start = rospy.Duration(2.0)\n",
    "        t.points.append(tp)\n",
    "        return t\n",
    "\n",
    "    def make_gripper_translation(self, min_dist, desired, vector, frame=None):\n",
    "        g = moveit_msgs.msg.GripperTranslation()\n",
    "        g.direction.vector.x = vector[0]\n",
    "        g.direction.vector.y = vector[1]\n",
    "        g.direction.vector.z = vector[2]\n",
    "        if frame is None:\n",
    "            g.direction.header.frame_id = self.end_effector\n",
    "        else:\n",
    "            g.direction.header.frame_id = frame\n",
    "        g.min_distance = min_dist\n",
    "        g.desired_distance = desired\n",
    "        return g\n",
    "\n",
    "    def make_pose(self, init, x, y, z, roll, pitch, yaw):\n",
    "        pose = geometry_msgs.msg.PoseStamped()\n",
    "        pose.header.frame_id = self.reference_frame\n",
    "        q = quaternion_from_euler(roll, pitch, yaw)\n",
    "        q = quaternion_multiply(init, q)\n",
    "        pose.pose.orientation.x = q[0]\n",
    "        pose.pose.orientation.y = q[1]\n",
    "        pose.pose.orientation.z = q[2]\n",
    "        pose.pose.orientation.w = q[3]\n",
    "        pose.pose.position.x = x\n",
    "        pose.pose.position.y = y\n",
    "        pose.pose.position.z = z\n",
    "        return pose\n",
    "\n",
    "    def make_grasps(self, target, init,\n",
    "                    quality=None,\n",
    "                    x=[0], y=[0], z=[0],\n",
    "                    roll=[0], pitch=[0], yaw=[0]):\n",
    "        poses = self.scene.get_object_poses([target])\n",
    "        pose = poses[target]\n",
    "        g = moveit_msgs.msg.Grasp()\n",
    "        g.pre_grasp_posture = self.make_gripper_posture(0.8)\n",
    "        g.grasp_posture = self.make_gripper_posture(0.2, -0.01)\n",
    "        g.pre_grasp_approach \\\n",
    "            = self.make_gripper_translation(0.01, 0.02, [0.0, 0.0, 1.0])\n",
    "        g.post_grasp_retreat \\\n",
    "            = self.make_gripper_translation(0.01, 0.02, [0.0, 0.0, 1.0],\n",
    "                                            \"base_footprint\")\n",
    "        grasps = []\n",
    "        for ix in x:\n",
    "            for iy in y:\n",
    "                for iz in z:\n",
    "                    for iroll in roll:\n",
    "                        for ipitch in pitch:\n",
    "                            for iyaw in yaw:\n",
    "                                x = pose.position.x + ix\n",
    "                                y = pose.position.y + iy\n",
    "                                z = pose.position.z + iz\n",
    "                                g.grasp_pose = self.make_pose(init,\n",
    "                                                              x, y, z,\n",
    "                                                              iroll,\n",
    "                                                              ipitch,\n",
    "                                                              iyaw)\n",
    "            g.id = str(len(grasps))\n",
    "            g.allowed_touch_objects = [\"target1\"]\n",
    "            g.max_contact_force = 0\n",
    "            if quality is None:\n",
    "                g.grasp_quality = 1.0\n",
    "            else:\n",
    "                g.grasp_quality = quality(ix, iy, iz, iroll, ipitch, iyaw)\n",
    "            grasps.append(deepcopy(g))\n",
    "        return grasps\n",
    "\n",
    "    def make_place_location(self, x, y, z):\n",
    "        location = moveit_msgs.msg.PlaceLocation()\n",
    "        location.pre_place_approach \\\n",
    "            = self.make_gripper_translation(0.03, 0.05, [0, 0, -1.0],\n",
    "                                            \"base_footprint\")\n",
    "        location.post_place_posture \\\n",
    "            = self.make_gripper_posture(0.8)\n",
    "        location.post_place_retreat \\\n",
    "            = self.make_gripper_translation(0.03, 0.05, [0, 0, -1.0])\n",
    "        location.place_pose = self.make_pose((0, 0, 0, 1),\n",
    "                                             x, y, z,\n",
    "                                             0, 0, 0)\n",
    "        return location\n",
    "\n",
    "    def add_box(self, name, size, pos):\n",
    "        p = geometry_msgs.msg.PoseStamped()\n",
    "        p.header.frame_id = self.reference_frame\n",
    "        p.pose.position.x = pos[0]\n",
    "        p.pose.position.y = pos[1]\n",
    "        p.pose.position.z = pos[2]\n",
    "        p.pose.orientation.w = 1.0\n",
    "        self.scene.add_box(name, p, size)\n",
    "\n",
    "    def add_cylinder(self, name, radius, height, pos):\n",
    "        p = geometry_msgs.msg.PoseStamped()\n",
    "        p.header.frame_id = self.reference_frame\n",
    "        p.pose.position.x = pos[0]\n",
    "        p.pose.position.y = pos[1]\n",
    "        p.pose.position.z = pos[2]\n",
    "        p.pose.orientation.w = 1.0\n",
    "        self.scene.add_cylinder(name, p, height, radius)"
   ]
  },
  {
   "cell_type": "code",
   "execution_count": 2,
   "id": "24699a59",
   "metadata": {
    "scrolled": true
   },
   "outputs": [
    {
     "name": "stderr",
     "output_type": "stream",
     "text": [
      "\u001b[33m[ WARN] [1691799245.934850605, 2626.848000000]: Link hand_l_finger_vacuum_frame has visual geometry but no collision geometry. Collision geometry will be left empty. Fix your URDF file by explicitly specifying collision geometry.\u001b[0m\n",
      "\u001b[33m[ WARN] [1691799245.949402098, 2626.848000000]: Link head_l_stereo_camera_link has visual geometry but no collision geometry. Collision geometry will be left empty. Fix your URDF file by explicitly specifying collision geometry.\u001b[0m\n",
      "\u001b[33m[ WARN] [1691799245.949629902, 2626.848000000]: Link head_r_stereo_camera_link has visual geometry but no collision geometry. Collision geometry will be left empty. Fix your URDF file by explicitly specifying collision geometry.\u001b[0m\n",
      "\u001b[33m[ WARN] [1691799245.951025177, 2626.848000000]: Group state 'neutral' doesn't specify all group joints in group 'arm'. wrist_ft_sensor_frame_joint is missing.\u001b[0m\n",
      "\u001b[33m[ WARN] [1691799245.951177746, 2626.848000000]: Group state 'go' doesn't specify all group joints in group 'arm'. wrist_ft_sensor_frame_joint is missing.\u001b[0m\n",
      "\u001b[33m[ WARN] [1691799246.137615393, 2626.904000000]: Kinematics solver doesn't support #attempts anymore, but only a timeout.\n",
      "Please remove the parameter '/robot_description_kinematics/arm/kinematics_solver_attempts' from your configuration.\u001b[0m\n",
      "\u001b[33m[ WARN] [1691799246.227867204, 2626.923000000]: IK plugin for group 'whole_body' relies on deprecated API. Please implement initialize(RobotModel, ...).\u001b[0m\n",
      "\u001b[33m[ WARN] [1691799246.237584661, 2626.923000000]: IK plugin for group 'whole_body_weighted' relies on deprecated API. Please implement initialize(RobotModel, ...).\u001b[0m\n",
      "\u001b[33m[ WARN] [1691799246.248547392, 2626.923000000]: IK plugin for group 'whole_body_light' relies on deprecated API. Please implement initialize(RobotModel, ...).\u001b[0m\n",
      "\u001b[33m[ WARN] [1691799257.284187049, 2629.354000000]: TF_REPEATED_DATA ignoring data with redundant timestamp for frame odom at time 2629.374000 according to authority unknown_publisher\u001b[0m\n",
      "\u001b[33m[ WARN] [1691799274.491854166, 2633.353000000]: TF_REPEATED_DATA ignoring data with redundant timestamp for frame odom at time 2633.376000 according to authority unknown_publisher\u001b[0m\n",
      "\u001b[33m[ WARN] [1691799301.706662462, 2640.112000000]: TF_REPEATED_DATA ignoring data with redundant timestamp for frame odom at time 2640.133000 according to authority unknown_publisher\u001b[0m\n",
      "\u001b[33m[ WARN] [1691799330.579060960, 2647.022000000]: TF_REPEATED_DATA ignoring data with redundant timestamp for frame odom at time 2647.057000 according to authority unknown_publisher\u001b[0m\n",
      "\u001b[33m[ WARN] [1691799332.351401621, 2647.496000000]: TF_REPEATED_DATA ignoring data with redundant timestamp for frame odom at time 2647.534000 according to authority unknown_publisher\u001b[0m\n"
     ]
    },
    {
     "name": "stdout",
     "output_type": "stream",
     "text": [
      "[INFO] [1691799361.629952, 2654.665000]: step1: move_to_neutral\n"
     ]
    },
    {
     "name": "stderr",
     "output_type": "stream",
     "text": [
      "\u001b[33m[ WARN] [1691799382.051662920, 2659.620000000]: TF_REPEATED_DATA ignoring data with redundant timestamp for frame odom at time 2659.642000 according to authority unknown_publisher\u001b[0m\n",
      "\u001b[33m[ WARN] [1691799390.898282577, 2661.741000000]: TF_REPEATED_DATA ignoring data with redundant timestamp for frame odom at time 2661.777000 according to authority unknown_publisher\u001b[0m\n",
      "\u001b[33m[ WARN] [1691799429.299844400, 2671.265000000]: TF_REPEATED_DATA ignoring data with redundant timestamp for frame odom at time 2671.294000 according to authority unknown_publisher\u001b[0m\n",
      "\u001b[33m[ WARN] [1691799448.628194774, 2676.076000000]: TF_REPEATED_DATA ignoring data with redundant timestamp for frame odom at time 2676.098000 according to authority unknown_publisher\u001b[0m\n",
      "\u001b[33m[ WARN] [1691799455.836882077, 2677.940000000]: TF_REPEATED_DATA ignoring data with redundant timestamp for frame odom at time 2677.962000 according to authority unknown_publisher\u001b[0m\n",
      "\u001b[33m[ WARN] [1691799458.145395278, 2678.617000000]: TF_REPEATED_DATA ignoring data with redundant timestamp for frame odom at time 2678.630000 according to authority unknown_publisher\u001b[0m\n",
      "\u001b[33m[ WARN] [1691799459.081884387, 2678.846000000]: TF_REPEATED_DATA ignoring data with redundant timestamp for frame odom at time 2678.863000 according to authority unknown_publisher\u001b[0m\n"
     ]
    },
    {
     "name": "stdout",
     "output_type": "stream",
     "text": [
      "[INFO] [1691799460.352370, 2679.159000]: step2: pick target1\n",
      "[INFO] [1691799460.428561, 2679.169000]: Pick attempt: 1\n"
     ]
    },
    {
     "name": "stderr",
     "output_type": "stream",
     "text": [
      "\u001b[33m[ WARN] [1691799473.696146036, 2682.579000000]: TF_REPEATED_DATA ignoring data with redundant timestamp for frame odom at time 2682.597000 according to authority unknown_publisher\u001b[0m\n",
      "\u001b[33m[ WARN] [1691799492.055924332, 2687.000000000]: TF_REPEATED_DATA ignoring data with redundant timestamp for frame odom at time 2687.050000 according to authority unknown_publisher\u001b[0m\n",
      "\u001b[33m[ WARN] [1691799494.398572756, 2687.701000000]: TF_REPEATED_DATA ignoring data with redundant timestamp for frame odom at time 2687.725000 according to authority unknown_publisher\u001b[0m\n"
     ]
    },
    {
     "name": "stdout",
     "output_type": "stream",
     "text": [
      "[INFO] [1691799503.767814, 2689.999000]: step3: place target1\n",
      "[INFO] [1691799503.770815, 2689.999000]: Place attempt: 1\n"
     ]
    },
    {
     "name": "stderr",
     "output_type": "stream",
     "text": [
      "\u001b[33m[ WARN] [1691799510.393000075, 2691.525000000]: TF_REPEATED_DATA ignoring data with redundant timestamp for frame odom at time 2691.550000 according to authority unknown_publisher\u001b[0m\n",
      "\u001b[33m[ WARN] [1691799518.697866810, 2693.696000000]: TF_REPEATED_DATA ignoring data with redundant timestamp for frame odom at time 2693.720000 according to authority unknown_publisher\u001b[0m\n",
      "\u001b[33m[ WARN] [1691799523.413666225, 2694.896000000]: TF_REPEATED_DATA ignoring data with redundant timestamp for frame odom at time 2694.913000 according to authority unknown_publisher\u001b[0m\n",
      "\u001b[33m[ WARN] [1691799524.791717615, 2695.265000000]: TF_REPEATED_DATA ignoring data with redundant timestamp for frame odom at time 2695.283000 according to authority unknown_publisher\u001b[0m\n",
      "\u001b[33m[ WARN] [1691799546.992677952, 2700.488000000]: TF_REPEATED_DATA ignoring data with redundant timestamp for frame odom at time 2700.545000 according to authority unknown_publisher\u001b[0m\n",
      "\u001b[33m[ WARN] [1691799555.220229498, 2702.586000000]: TF_REPEATED_DATA ignoring data with redundant timestamp for frame odom at time 2702.609000 according to authority unknown_publisher\u001b[0m\n",
      "\u001b[33m[ WARN] [1691799567.500750174, 2705.342000000]: TF_REPEATED_DATA ignoring data with redundant timestamp for frame odom at time 2705.372000 according to authority unknown_publisher\u001b[0m\n"
     ]
    },
    {
     "name": "stdout",
     "output_type": "stream",
     "text": [
      "[INFO] [1691799583.589243, 2708.816000]: step4: pick target2\n",
      "[INFO] [1691799583.596842, 2708.816000]: Pick attempt: 1\n"
     ]
    },
    {
     "name": "stderr",
     "output_type": "stream",
     "text": [
      "\u001b[33m[ WARN] [1691799586.767884191, 2709.676000000]: TF_REPEATED_DATA ignoring data with redundant timestamp for frame odom at time 2709.698000 according to authority unknown_publisher\u001b[0m\n",
      "\u001b[33m[ WARN] [1691799591.939351301, 2710.872000000]: TF_REPEATED_DATA ignoring data with redundant timestamp for frame odom at time 2710.899000 according to authority unknown_publisher\u001b[0m\n",
      "\u001b[33m[ WARN] [1691799592.772725360, 2711.123000000]: TF_REPEATED_DATA ignoring data with redundant timestamp for frame odom at time 2711.148000 according to authority unknown_publisher\u001b[0m\n",
      "\u001b[33m[ WARN] [1691799602.014498394, 2713.242000000]: Fail: ABORTED: No motion plan found. No execution attempted.\u001b[0m\n"
     ]
    },
    {
     "name": "stdout",
     "output_type": "stream",
     "text": [
      "[INFO] [1691799602.746590, 2713.442000]: Pick attempt: 2\n"
     ]
    },
    {
     "name": "stderr",
     "output_type": "stream",
     "text": [
      "\u001b[33m[ WARN] [1691799621.315808810, 2717.610000000]: TF_REPEATED_DATA ignoring data with redundant timestamp for frame odom at time 2717.630000 according to authority unknown_publisher\u001b[0m\n",
      "\u001b[33m[ WARN] [1691799645.202022486, 2722.654000000]: TF_REPEATED_DATA ignoring data with redundant timestamp for frame odom at time 2722.688000 according to authority unknown_publisher\u001b[0m\n",
      "\u001b[33m[ WARN] [1691799648.418419005, 2723.363000000]: Fail: ABORTED: No motion plan found. No execution attempted.\u001b[0m\n"
     ]
    },
    {
     "name": "stdout",
     "output_type": "stream",
     "text": [
      "[INFO] [1691799649.454594, 2723.572000]: Pick attempt: 3\n"
     ]
    },
    {
     "name": "stderr",
     "output_type": "stream",
     "text": [
      "\u001b[33m[ WARN] [1691799688.695141999, 2732.157000000]: Fail: ABORTED: No motion plan found. No execution attempted.\u001b[0m\n"
     ]
    },
    {
     "name": "stdout",
     "output_type": "stream",
     "text": [
      "[INFO] [1691799689.334250, 2732.358000]: Pick attempt: 4\n"
     ]
    },
    {
     "name": "stderr",
     "output_type": "stream",
     "text": [
      "\u001b[33m[ WARN] [1691799720.447129014, 2739.292000000]: Fail: ABORTED: No motion plan found. No execution attempted.\u001b[0m\n"
     ]
    },
    {
     "name": "stdout",
     "output_type": "stream",
     "text": [
      "[INFO] [1691799721.333396, 2739.498000]: Pick attempt: 5\n"
     ]
    },
    {
     "name": "stderr",
     "output_type": "stream",
     "text": [
      "\u001b[33m[ WARN] [1691799725.543500024, 2740.638000000]: TF_REPEATED_DATA ignoring data with redundant timestamp for frame odom at time 2740.688000 according to authority unknown_publisher\u001b[0m\n",
      "\u001b[33m[ WARN] [1691799725.760774347, 2740.730000000]: TF_REPEATED_DATA ignoring data with redundant timestamp for frame odom at time 2740.767000 according to authority unknown_publisher\u001b[0m\n",
      "\u001b[33m[ WARN] [1691799739.816735209, 2744.074000000]: TF_REPEATED_DATA ignoring data with redundant timestamp for frame odom at time 2744.132000 according to authority unknown_publisher\u001b[0m\n",
      "\u001b[33m[ WARN] [1691799746.017201021, 2745.427000000]: Fail: ABORTED: No motion plan found. No execution attempted.\u001b[0m\n"
     ]
    },
    {
     "name": "stdout",
     "output_type": "stream",
     "text": [
      "[INFO] [1691799746.949621, 2745.627000]: Pick attempt: 6\n"
     ]
    },
    {
     "name": "stderr",
     "output_type": "stream",
     "text": [
      "\u001b[33m[ WARN] [1691799768.337026613, 2750.442000000]: TF_REPEATED_DATA ignoring data with redundant timestamp for frame odom at time 2750.481000 according to authority unknown_publisher\u001b[0m\n",
      "\u001b[33m[ WARN] [1691799773.795315176, 2751.833000000]: Fail: ABORTED: No motion plan found. No execution attempted.\u001b[0m\n",
      "\u001b[33m[ WARN] [1691799774.075636790, 2751.858000000]: TF_REPEATED_DATA ignoring data with redundant timestamp for frame odom at time 2751.900000 according to authority unknown_publisher\u001b[0m\n"
     ]
    },
    {
     "name": "stdout",
     "output_type": "stream",
     "text": [
      "[INFO] [1691799774.569751, 2752.033000]: Pick attempt: 7\n"
     ]
    },
    {
     "name": "stderr",
     "output_type": "stream",
     "text": [
      "\u001b[33m[ WARN] [1691799800.700354077, 2758.197000000]: Fail: ABORTED: No motion plan found. No execution attempted.\u001b[0m\n"
     ]
    },
    {
     "name": "stdout",
     "output_type": "stream",
     "text": [
      "[INFO] [1691799801.778062, 2758.408000]: Pick attempt: 8\n"
     ]
    },
    {
     "name": "stderr",
     "output_type": "stream",
     "text": [
      "\u001b[33m[ WARN] [1691799810.333288479, 2760.300000000]: TF_REPEATED_DATA ignoring data with redundant timestamp for frame odom at time 2760.316000 according to authority unknown_publisher\u001b[0m\n",
      "\u001b[33m[ WARN] [1691799829.580680590, 2764.693000000]: TF_REPEATED_DATA ignoring data with redundant timestamp for frame odom at time 2764.718000 according to authority unknown_publisher\u001b[0m\n",
      "\u001b[33m[ WARN] [1691799829.963057025, 2764.794000000]: Fail: ABORTED: No motion plan found. No execution attempted.\u001b[0m\n"
     ]
    },
    {
     "ename": "ROSInterruptException",
     "evalue": "ROS shutdown request",
     "output_type": "error",
     "traceback": [
      "\u001b[0;31m---------------------------------------------------------------------------\u001b[0m",
      "\u001b[0;31mROSInterruptException\u001b[0m                     Traceback (most recent call last)",
      "Input \u001b[0;32mIn [2]\u001b[0m, in \u001b[0;36m<cell line: 1>\u001b[0;34m()\u001b[0m\n\u001b[0;32m----> 1\u001b[0m \u001b[43mMoveItPickAndPlaceDemo\u001b[49m\u001b[43m(\u001b[49m\u001b[43m)\u001b[49m\n",
      "Input \u001b[0;32mIn [1]\u001b[0m, in \u001b[0;36mMoveItPickAndPlaceDemo.__init__\u001b[0;34m(self, wait)\u001b[0m\n\u001b[1;32m     89\u001b[0m yaw \u001b[38;5;241m=\u001b[39m [i \u001b[38;5;241m/\u001b[39m \u001b[38;5;241m180.0\u001b[39m \u001b[38;5;241m*\u001b[39m math\u001b[38;5;241m.\u001b[39mpi \u001b[38;5;28;01mfor\u001b[39;00m i \u001b[38;5;129;01min\u001b[39;00m \u001b[38;5;28mrange\u001b[39m(\u001b[38;5;241m0\u001b[39m, \u001b[38;5;241m360\u001b[39m, \u001b[38;5;241m30\u001b[39m)]\n\u001b[1;32m     90\u001b[0m grasps \u001b[38;5;241m=\u001b[39m \u001b[38;5;28mself\u001b[39m\u001b[38;5;241m.\u001b[39mmake_grasps(\u001b[38;5;124m\"\u001b[39m\u001b[38;5;124mtarget2\u001b[39m\u001b[38;5;124m\"\u001b[39m,\n\u001b[1;32m     91\u001b[0m                           (\u001b[38;5;241m1\u001b[39m, \u001b[38;5;241m0\u001b[39m, \u001b[38;5;241m0\u001b[39m, \u001b[38;5;241m0\u001b[39m),\n\u001b[1;32m     92\u001b[0m                           z\u001b[38;5;241m=\u001b[39m[\u001b[38;5;241m0.1\u001b[39m],\n\u001b[1;32m     93\u001b[0m                           yaw\u001b[38;5;241m=\u001b[39myaw)\n\u001b[0;32m---> 94\u001b[0m \u001b[38;5;28;43mself\u001b[39;49m\u001b[38;5;241;43m.\u001b[39;49m\u001b[43mpick\u001b[49m\u001b[43m(\u001b[49m\u001b[38;5;124;43m\"\u001b[39;49m\u001b[38;5;124;43mtarget2\u001b[39;49m\u001b[38;5;124;43m\"\u001b[39;49m\u001b[43m,\u001b[49m\u001b[43m \u001b[49m\u001b[43mgrasps\u001b[49m\u001b[43m)\u001b[49m\n\u001b[1;32m     95\u001b[0m rospy\u001b[38;5;241m.\u001b[39mlogdebug(\u001b[38;5;124m\"\u001b[39m\u001b[38;5;124mdone\u001b[39m\u001b[38;5;124m\"\u001b[39m)\n\u001b[1;32m     96\u001b[0m rospy\u001b[38;5;241m.\u001b[39msleep(wait)\n",
      "Input \u001b[0;32mIn [1]\u001b[0m, in \u001b[0;36mMoveItPickAndPlaceDemo.pick\u001b[0;34m(self, target, grasps)\u001b[0m\n\u001b[1;32m    118\u001b[0m     rospy\u001b[38;5;241m.\u001b[39mloginfo(\u001b[38;5;124m\"\u001b[39m\u001b[38;5;124mPick attempt: \u001b[39m\u001b[38;5;124m\"\u001b[39m \u001b[38;5;241m+\u001b[39m \u001b[38;5;28mstr\u001b[39m(n_attempts))\n\u001b[1;32m    119\u001b[0m     result \u001b[38;5;241m=\u001b[39m \u001b[38;5;28mself\u001b[39m\u001b[38;5;241m.\u001b[39mwhole_body\u001b[38;5;241m.\u001b[39mpick(target, grasps)\n\u001b[0;32m--> 120\u001b[0m     \u001b[43mrospy\u001b[49m\u001b[38;5;241;43m.\u001b[39;49m\u001b[43msleep\u001b[49m\u001b[43m(\u001b[49m\u001b[38;5;241;43m0.2\u001b[39;49m\u001b[43m)\u001b[49m\n\u001b[1;32m    121\u001b[0m \u001b[38;5;28;01mif\u001b[39;00m result \u001b[38;5;241m!=\u001b[39m moveit_msgs\u001b[38;5;241m.\u001b[39mmsg\u001b[38;5;241m.\u001b[39mMoveItErrorCodes\u001b[38;5;241m.\u001b[39mSUCCESS:\n\u001b[1;32m    122\u001b[0m     \u001b[38;5;28mself\u001b[39m\u001b[38;5;241m.\u001b[39mscene\u001b[38;5;241m.\u001b[39mremove_attached_object(\u001b[38;5;28mself\u001b[39m\u001b[38;5;241m.\u001b[39mend_effector)\n",
      "File \u001b[0;32m/opt/ros/noetic/lib/python3/dist-packages/rospy/timer.py:165\u001b[0m, in \u001b[0;36msleep\u001b[0;34m(duration)\u001b[0m\n\u001b[1;32m    163\u001b[0m     \u001b[38;5;28;01mraise\u001b[39;00m rospy\u001b[38;5;241m.\u001b[39mexceptions\u001b[38;5;241m.\u001b[39mROSTimeMovedBackwardsException(time_jump)\n\u001b[1;32m    164\u001b[0m \u001b[38;5;28;01mif\u001b[39;00m rospy\u001b[38;5;241m.\u001b[39mcore\u001b[38;5;241m.\u001b[39mis_shutdown():\n\u001b[0;32m--> 165\u001b[0m     \u001b[38;5;28;01mraise\u001b[39;00m rospy\u001b[38;5;241m.\u001b[39mexceptions\u001b[38;5;241m.\u001b[39mROSInterruptException(\u001b[38;5;124m\"\u001b[39m\u001b[38;5;124mROS shutdown request\u001b[39m\u001b[38;5;124m\"\u001b[39m)\n",
      "\u001b[0;31mROSInterruptException\u001b[0m: ROS shutdown request"
     ]
    }
   ],
   "source": [
    "MoveItPickAndPlaceDemo()"
   ]
  },
  {
   "cell_type": "code",
   "execution_count": null,
   "id": "f7a708a1",
   "metadata": {},
   "outputs": [],
   "source": []
  }
 ],
 "metadata": {
  "kernelspec": {
   "display_name": "Python 3 (ipykernel)",
   "language": "python",
   "name": "python3"
  },
  "language_info": {
   "codemirror_mode": {
    "name": "ipython",
    "version": 3
   },
   "file_extension": ".py",
   "mimetype": "text/x-python",
   "name": "python",
   "nbconvert_exporter": "python",
   "pygments_lexer": "ipython3",
   "version": "3.8.10"
  }
 },
 "nbformat": 4,
 "nbformat_minor": 5
}
