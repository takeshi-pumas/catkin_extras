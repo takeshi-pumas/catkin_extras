{
 "cells": [
  {
   "cell_type": "code",
   "execution_count": null,
   "id": "5bcc8e1d",
   "metadata": {},
   "outputs": [],
   "source": [
    "#-----------------------------------------------------------------\n",
    "def write_tf(pose, q, child_frame=\"\" , parent_frame='map'):\n",
    "    #  pose = trans  q = quaternion  , childframe =\"\"\n",
    "    # format  write the transformstampled message\n",
    "    t= TransformStamped()\n",
    "    t.header.stamp = rospy.Time.now()\n",
    "    #t.header.stamp = rospy.Time(0)\n",
    "    t.header.frame_id =parent_frame\n",
    "    t.child_frame_id =  child_frame\n",
    "    t.transform.translation.x = pose[0]\n",
    "    t.transform.translation.y = pose[1]\n",
    "    t.transform.translation.z = pose[2]\n",
    "    #q = tf.transformations.quaternion_from_euler(eu[0], eu[1], eu[2])\n",
    "    t.transform.rotation.x = q[0]\n",
    "    t.transform.rotation.y = q[1]\n",
    "    t.transform.rotation.z = q[2]\n",
    "    t.transform.rotation.w = q[3]\n",
    "    return t\n",
    "    \n",
    "#-----------------------------------------------------------------\n",
    "def read_tf(t):\n",
    "    # trasnform message to np arrays\n",
    "    pose=np.asarray((\n",
    "        t.transform.translation.x,\n",
    "        t.transform.translation.y,\n",
    "        t.transform.translation.z\n",
    "        ))\n",
    "    quat=np.asarray((\n",
    "        t.transform.rotation.x,\n",
    "        t.transform.rotation.y,\n",
    "        t.transform.rotation.z,\n",
    "        t.transform.rotation.w\n",
    "        ))\n",
    "    \n",
    "    return pose, quat\n",
    "#-----------------------------------------------------------------    "
   ]
  },
  {
   "cell_type": "code",
   "execution_count": null,
   "id": "7b5af462",
   "metadata": {},
   "outputs": [],
   "source": [
    "def points_to_PCA(points):\n",
    "    df=pd.DataFrame(points)\n",
    "    df.columns=[['x','y','z']]\n",
    "    threshold= df_pts['z'].min().values[0]*0.998\n",
    "    print (threshold)\n",
    "    rslt_df = df.loc[df[df['z'] > threshold].index]\n",
    "    points=rslt_df[['x','y','z']].dropna().values\n",
    "    Pca=PCA(n_components=3)\n",
    "    Pca.fit(points)\n",
    "    print('Pca.explained_variance_',Pca.explained_variance_)\n",
    "    ## HOMOGENEUS\n",
    "    E_R= np.zeros((4,4))\n",
    "    E_R[:3,:3]+=R\n",
    "    E_R[-1,-1]=1\n",
    "    return     E_R\n"
   ]
  },
  {
   "cell_type": "code",
   "execution_count": null,
   "id": "e97ec541",
   "metadata": {},
   "outputs": [],
   "source": [
    "def points_to_PCA(points):\n",
    "    df=pd.DataFrame(points)\n",
    "    df.columns=[['x','y','z']]\n",
    "    threshold= df_pts['z'].min().values[0]*0.998\n",
    "    print (threshold)\n",
    "    rslt_df = df.loc[df[df['z'] > threshold].index]\n",
    "\n",
    "    \n",
    "    points=rslt_df[['x','y','z']].dropna().values\n",
    "    Pca=PCA(n_components=3)\n",
    "    Pca.fit(points)\n",
    "    #print('Pca.explained_variance_',Pca.explained_variance_)\n",
    "    ref=np.eye(3)\n",
    "    pcas=Pca.components_\n",
    "    R=[]\n",
    "    R.append(np.dot(pcas[0],ref))\n",
    "    R.append(np.dot(pcas[1],ref))\n",
    "    R.append(np.dot(pcas[2],ref))\n",
    "    R=np.asarray(R)\n",
    "    ## HOMOGENEUS\n",
    "    E_R= np.zeros((4,4))\n",
    "    E_R[:3,:3]+=R\n",
    "    E_R[-1,-1]=1\n",
    "    return     E_R\n"
   ]
  },
  {
   "cell_type": "code",
   "execution_count": null,
   "id": "aae4aa59",
   "metadata": {},
   "outputs": [],
   "source": [
    "import matplotlib.pyplot as plt\n",
    "import numpy as np\n",
    "from mpl_toolkits.mplot3d import Axes3D\n",
    "import seaborn as sns\n",
    "import pandas as pd\n",
    "from sklearn.decomposition import PCA\n",
    "import tf"
   ]
  },
  {
   "cell_type": "code",
   "execution_count": null,
   "id": "1312cf73",
   "metadata": {},
   "outputs": [],
   "source": [
    "points=np.load('/home/roboworks/Documents/points2.npy')\n",
    "df_pts=pd.DataFrame(points.transpose())\n",
    "df_pts.columns=[['x','y','z']]\n",
    "threshold= df_pts['z'].min().values[0]*0.998\n",
    "print (threshold)\n",
    "rslt_df_pts = df_pts[['x','y','z']][df_pts[['x','y','z']] > threshold]\n",
    "print (rslt_df_pts.describe())\n",
    "newpoints=rslt_df_pts[['x','y','z']].values\n",
    "E_R=points_to_PCA(newpoints)\n",
    "print(np.rad2deg(tf.transformations.euler_from_matrix(E_R)))\n",
    "print(np.sign(np.rad2deg(tf.transformations.euler_from_matrix(E_R))[0])*np.rad2deg(tf.transformations.euler_from_matrix(E_R))[1])"
   ]
  },
  {
   "cell_type": "code",
   "execution_count": null,
   "id": "766fb9d2",
   "metadata": {},
   "outputs": [],
   "source": [
    "points=np.load('/home/roboworks/Documents/points2.npy')\n",
    "\n",
    "\n",
    "#points_to_PCA(points.transpose())\n",
    "points.transpose().shape"
   ]
  },
  {
   "cell_type": "code",
   "execution_count": null,
   "id": "6f2b02ab",
   "metadata": {},
   "outputs": [],
   "source": [
    "points.shape"
   ]
  },
  {
   "cell_type": "code",
   "execution_count": null,
   "id": "fea27332",
   "metadata": {},
   "outputs": [],
   "source": [
    "points_to_PCA(points)"
   ]
  },
  {
   "cell_type": "code",
   "execution_count": null,
   "id": "f2abdc22",
   "metadata": {},
   "outputs": [],
   "source": [
    "df_pts"
   ]
  },
  {
   "cell_type": "code",
   "execution_count": null,
   "id": "fe8040dc",
   "metadata": {},
   "outputs": [],
   "source": [
    "rslt_df_pts"
   ]
  },
  {
   "cell_type": "markdown",
   "id": "d964493a",
   "metadata": {},
   "source": [
    "-98.63997914 -40.27221135 107.26441686<br>\n",
    "[ 97.6089583  -39.13610332 119.11722414]<br><br><br><br><br><br><br><br><br>"
   ]
  },
  {
   "cell_type": "code",
   "execution_count": null,
   "id": "000e97c1",
   "metadata": {},
   "outputs": [],
   "source": [
    "tf.transformations.euler_from_quaternion((0.62734299, 0.40730226, 0.66127357, 0.05712182))"
   ]
  },
  {
   "cell_type": "code",
   "execution_count": null,
   "id": "e6119e0d",
   "metadata": {},
   "outputs": [],
   "source": [
    "e_ER=tf.transformations.euler_from_matrix(E_R)\n",
    "q_ET=tf.transformations.quaternion_from_euler(e_ER[0],e_ER[1],e_ER[2])\n",
    "print (q_ET)"
   ]
  },
  {
   "cell_type": "code",
   "execution_count": null,
   "id": "865d5f9d",
   "metadata": {},
   "outputs": [],
   "source": [
    "quat=tf.transformations.quaternion_from_matrix(E_R)\n",
    "print(tf.transformations.euler_from_matrix(E_R))\n",
    "print(quat)"
   ]
  },
  {
   "cell_type": "code",
   "execution_count": null,
   "id": "d1cf34c4",
   "metadata": {},
   "outputs": [],
   "source": [
    "points.shape"
   ]
  },
  {
   "cell_type": "code",
   "execution_count": null,
   "id": "39262b5e",
   "metadata": {},
   "outputs": [],
   "source": [
    "\n",
    "fig = plt.figure()\n",
    "ax = fig.add_subplot(projection='3d')\n",
    "ax.scatter(points[:,0],points[:,1],points[:,2])"
   ]
  },
  {
   "cell_type": "code",
   "execution_count": null,
   "id": "c7e0edd3",
   "metadata": {},
   "outputs": [],
   "source": [
    "points=np.load('/home/roboworks/Documents/points2.npy')\n",
    "\n",
    "fig = plt.figure()\n",
    "ax = fig.add_subplot(projection='3d')\n",
    "ax.scatter(points[:,0],points[:,1],points[:,2])"
   ]
  },
  {
   "cell_type": "code",
   "execution_count": null,
   "id": "b87b2b25",
   "metadata": {},
   "outputs": [],
   "source": [
    "import seaborn as sns\n",
    "import pandas as pd\n",
    "df=pd.DataFrame(points)\n",
    "df.columns=['x','y','z']\n",
    "df.describe()"
   ]
  },
  {
   "cell_type": "code",
   "execution_count": null,
   "id": "111cd987",
   "metadata": {},
   "outputs": [],
   "source": [
    "rslt_df = df[df['z'] > 0.02]\n"
   ]
  },
  {
   "cell_type": "code",
   "execution_count": null,
   "id": "24e157db",
   "metadata": {},
   "outputs": [],
   "source": []
  },
  {
   "cell_type": "code",
   "execution_count": null,
   "id": "2523103f",
   "metadata": {},
   "outputs": [],
   "source": [
    "rslt_df.describe()"
   ]
  },
  {
   "cell_type": "code",
   "execution_count": null,
   "id": "81f2c413",
   "metadata": {},
   "outputs": [],
   "source": [
    "#points=rslt_df[['x','y','z']].sample(30).values\n",
    "points=rslt_df[['x','y','z']].values\n",
    "fig = plt.figure()\n",
    "ax = fig.add_subplot(projection='3d')\n",
    "ax.scatter(points[:,0],points[:,1],points[:,2])\n",
    "pt=rslt_df[['x','y','z']].mean().values\n",
    "ax.scatter(pt[0],pt[1],pt[2],'o')"
   ]
  },
  {
   "cell_type": "code",
   "execution_count": null,
   "id": "557b1b94",
   "metadata": {},
   "outputs": [],
   "source": [
    "E_R=points_to_PCA(points)\n",
    "E_R"
   ]
  },
  {
   "cell_type": "code",
   "execution_count": null,
   "id": "5c2061d5",
   "metadata": {},
   "outputs": [],
   "source": []
  },
  {
   "cell_type": "markdown",
   "id": "5652ea59",
   "metadata": {},
   "source": [
    "[-92.55031776  -0.92126908 118.62054193]<br>\n",
    "[-98.61322822 -44.31230308 106.44802105]<br>\n",
    "[106.458072   -64.33138726 112.32396092]<br>\n",
    "\n"
   ]
  },
  {
   "cell_type": "code",
   "execution_count": null,
   "id": "e39826ae",
   "metadata": {},
   "outputs": [],
   "source": [
    "\n",
    "print(np.rad2deg(tf.transformations.euler_from_matrix(E_R)))"
   ]
  },
  {
   "cell_type": "code",
   "execution_count": null,
   "id": "61e5964b",
   "metadata": {},
   "outputs": [],
   "source": [
    "print(np.rad2deg(tf.transformations.euler_from_matrix(E_R)))"
   ]
  },
  {
   "cell_type": "code",
   "execution_count": null,
   "id": "6d15a294",
   "metadata": {},
   "outputs": [],
   "source": []
  },
  {
   "cell_type": "code",
   "execution_count": null,
   "id": "c063d5b6",
   "metadata": {},
   "outputs": [],
   "source": [
    "quat=tf.transformations.quaternion_from_matrix(E_R)\n",
    "print(tf.transformations.euler_from_matrix(E_R))"
   ]
  },
  {
   "cell_type": "code",
   "execution_count": null,
   "id": "b96d1525",
   "metadata": {},
   "outputs": [],
   "source": [
    "points=rslt_df[['x','y','z']].dropna().values\n",
    "pt=rslt_df[['x','y','z']].mean().values\n"
   ]
  },
  {
   "cell_type": "code",
   "execution_count": null,
   "id": "2bfff52e",
   "metadata": {},
   "outputs": [],
   "source": [
    "from sklearn.decomposition import PCA\n",
    "Pca=PCA(n_components=3)\n",
    "Pca.fit(points)\n",
    "        \n",
    "\n",
    "print(Pca.singular_values_)\n",
    "print(Pca.explained_variance_)\n",
    "norm_expl=Pca.explained_variance_/Pca.explained_variance_.sum()\n",
    "norm_expl"
   ]
  },
  {
   "cell_type": "code",
   "execution_count": null,
   "id": "1acfed0f",
   "metadata": {},
   "outputs": [],
   "source": [
    "Pca.components_"
   ]
  },
  {
   "cell_type": "code",
   "execution_count": null,
   "id": "86f4f0f1",
   "metadata": {},
   "outputs": [],
   "source": [
    "#points=rslt_df[['x','y','z']].sample(300).values\n",
    "points=rslt_df[['x','y','z']].values\n",
    "fig = plt.figure()\n",
    "ax = fig.add_subplot(projection='3d')\n",
    "ax.scatter(points[:,0],points[:,1],points[:,2])\n",
    "pt=rslt_df[['x','y','z']].mean().values\n",
    "ax.scatter(pt[0],pt[1],pt[2],'o')\n"
   ]
  },
  {
   "cell_type": "code",
   "execution_count": null,
   "id": "0d749b77",
   "metadata": {},
   "outputs": [],
   "source": [
    "Pca.components_\n"
   ]
  },
  {
   "cell_type": "code",
   "execution_count": null,
   "id": "037e53c1",
   "metadata": {},
   "outputs": [],
   "source": [
    "np.cross(Pca.components_[0],Pca.components_[1])"
   ]
  },
  {
   "cell_type": "code",
   "execution_count": null,
   "id": "483b228f",
   "metadata": {},
   "outputs": [],
   "source": [
    "pt=rslt_df[['x','y','z']].mean().values\n",
    "pts_1=[]\n",
    "pts_2=[]\n",
    "pts_3=[]\n",
    "p_1=[]\n",
    "p_2=[]\n",
    "p_3=[]\n",
    "\n",
    "pts_1.append(pt)\n",
    "pts_2.append(pt)\n",
    "pts_3.append(pt)\n",
    "for i in range (-5,5):\n",
    "    \n",
    "    pts_1.append(pt +Pca.components_[0]*i/30 )\n",
    "    p_1.append(pt + (np.eye(3)[0]*i/30) )\n",
    "    pts_2.append(pt +Pca.components_[1]*i/30 )\n",
    "    p_2.append(pt + (np.eye(3)[1]*i/30) )\n",
    "    pts_3.append(pt +Pca.components_[2]*i/30 )\n",
    "    p_3.append(pt + (np.eye(3)[2]*i/30) )\n",
    "\n",
    "pts_1=np.asarray(pts_1)  \n",
    "pts_2=np.asarray(pts_2)    \n",
    "pts_3=np.asarray(pts_3)    \n",
    "ps_x=np.asarray(p_1)  \n",
    "ps_y=np.asarray(p_2)  \n",
    "ps_z=np.asarray(p_3)  "
   ]
  },
  {
   "cell_type": "code",
   "execution_count": null,
   "id": "74d747c4",
   "metadata": {},
   "outputs": [],
   "source": [
    "fig = plt.figure()\n",
    "#points=np.load('/home/roboworks/Documents/points.npy')\n",
    "\n",
    "ax = fig.add_subplot(111, projection = '3d')\n",
    "ax.scatter(points[:,0],points[:,1],points[:,2],alpha=0.051,c='c')\n",
    "ax.scatter(pts_1[:,0],pts_1[:,1],pts_1[:,2],c='r')\n",
    "ax.scatter(pts_2[:,0],pts_2[:,1],pts_2[:,2],c='g')\n",
    "ax.scatter(pts_3[:,0],pts_3[:,1],pts_3[:,2],c='b')\n",
    "#ax.scatter(ps_x[:,0],ps_x[:,1],ps_x[:,2],alpha=0.25,c='r')\n",
    "#ax.scatter(ps_y[:,0],ps_y[:,1],ps_y[:,2],alpha=0.25,c='g')\n",
    "#ax.scatter(ps_z[:,0],ps_z[:,1],ps_z[:,2],alpha=0.25,c='b')\n",
    "\n",
    "#ax.scatter(pt[1],pt[0],pt[2],'o', c='y')\n",
    "plt.show()"
   ]
  },
  {
   "cell_type": "code",
   "execution_count": null,
   "id": "47035cca",
   "metadata": {},
   "outputs": [],
   "source": [
    "pts_3"
   ]
  },
  {
   "cell_type": "code",
   "execution_count": null,
   "id": "0b8bd8e0",
   "metadata": {},
   "outputs": [],
   "source": [
    "ref=np.eye(3)\n",
    "pcas=Pca.components_\n",
    "R=[]\n",
    "R.append(np.dot(pcas[0],ref))\n",
    "R.append(np.dot(pcas[1],ref))\n",
    "R.append(np.dot(pcas[2],ref))\n",
    "\n",
    "R=np.asarray(R)\n",
    "## HOMOGENEUS\n",
    "E_R= np.zeros((4,4))\n",
    "E_R[:3,:3]+=R\n",
    "E_R[-1,-1]=1\n",
    "E_R"
   ]
  },
  {
   "cell_type": "code",
   "execution_count": null,
   "id": "21e0d2f7",
   "metadata": {},
   "outputs": [],
   "source": [
    "x_rot=np.asarray(np.matmul(pts_1,R))\n",
    "y_rot=np.asarray(np.matmul(pts_2,R))\n",
    "z_rot=np.asarray(np.matmul(pts_3,R))\n",
    "fig = plt.figure()\n",
    "points=np.load('/home/roboworks/Documents/points.npy')\n",
    "\n",
    "ax = fig.add_subplot(111, projection = '3d')\n",
    "ax.scatter(points[:,0],points[:,1],points[:,2],alpha=0.1,c='c')\n",
    "ax.scatter(pts_1[:,0],pts_1[:,1],pts_1[:,2],c='r')\n",
    "ax.scatter(pts_2[:,0],pts_2[:,1],pts_2[:,2],c='g')\n",
    "ax.scatter(pts_3[:,0],pts_3[:,1],pts_3[:,2],c='b')\n",
    "ax.scatter(ps_x[:,0],ps_x[:,1],ps_x[:,2],alpha=0.15,c='r')\n",
    "ax.scatter(ps_y[:,0],ps_y[:,1],ps_y[:,2],alpha=0.15,c='g')\n",
    "ax.scatter(ps_z[:,0],ps_z[:,1],ps_z[:,2],alpha=0.15,c='b')\n",
    "ax.scatter(x_rot[:,0],x_rot[:,1],x_rot[:,2],alpha=0.5,c='r')\n",
    "ax.scatter(y_rot[:,0],y_rot[:,1],y_rot[:,2],alpha=0.5,c='g')\n",
    "ax.scatter(z_rot[:,0],z_rot[:,1],z_rot[:,2],alpha=0.5,c='b')\n",
    "#ax.scatter(pt[1],pt[0],pt[2],'o', c='y')\n",
    "\n",
    "plt.show()"
   ]
  },
  {
   "cell_type": "code",
   "execution_count": null,
   "id": "f1263f54",
   "metadata": {},
   "outputs": [],
   "source": []
  },
  {
   "cell_type": "code",
   "execution_count": null,
   "id": "446f9a8c",
   "metadata": {},
   "outputs": [],
   "source": []
  },
  {
   "cell_type": "code",
   "execution_count": null,
   "id": "d3176ab9",
   "metadata": {},
   "outputs": [],
   "source": [
    "##  Z=0  ( Proyeccion)\n",
    "fig = plt.figure()\n",
    "ax = fig.add_subplot(111)\n",
    "\n",
    "ax.scatter(pts_1[:,0],pts_1[:,1],alpha=1,c='r')\n",
    "ax.scatter(ps_x[:,0],ps_x[:,1],alpha=0.25,c='r')\n",
    "plt.xlim(0.7,1)\n",
    "plt.ylim(-0.75,0.25)\n",
    "plt.show()"
   ]
  },
  {
   "cell_type": "code",
   "execution_count": null,
   "id": "8b201b71",
   "metadata": {},
   "outputs": [],
   "source": [
    "np.arctan2((pts_1[1,1]-pts_1[0,1]),(pts_1[1,0]-pts_1[0,0]))"
   ]
  },
  {
   "cell_type": "code",
   "execution_count": null,
   "id": "74a2dbb1",
   "metadata": {},
   "outputs": [],
   "source": [
    "ang= -np.arctan2((pts_1[1,1]-pts_1[0,1]),(pts_1[1,0]-pts_1[0,0]))\n",
    "mat=np.mat((np.asarray((np.cos(ang) ,np.sin(ang),0,-1*np.sin(ang),np.cos(ang),0,0,0,1)).reshape((3,3))))"
   ]
  },
  {
   "cell_type": "code",
   "execution_count": null,
   "id": "b4e8e7f9",
   "metadata": {},
   "outputs": [],
   "source": [
    "x_rot=np.asarray(np.matmul(pts_1,R))\n",
    "y_rot=np.asarray(np.matmul(pts_2,R))\n",
    "z_rot=np.asarray(np.matmul(pts_3,R))\n"
   ]
  },
  {
   "cell_type": "code",
   "execution_count": null,
   "id": "162cb29a",
   "metadata": {},
   "outputs": [],
   "source": [
    "\n",
    "fig = plt.figure()\n",
    "ax = fig.add_subplot(111)\n",
    "\n",
    "ax.scatter(pts_1[:,0],pts_1[:,1],alpha=1,c='r')\n",
    "ax.scatter(xy_rot[:,0],xy_rot[:,1],alpha=0.25,c='y')\n",
    "ax.scatter(ps_x[:,0],ps_x[:,1],alpha=0.25,c='r')\n",
    "\n",
    "plt.show()"
   ]
  },
  {
   "cell_type": "code",
   "execution_count": null,
   "id": "83144192",
   "metadata": {},
   "outputs": [],
   "source": [
    "fig = plt.figure()\n",
    "points=np.load('/home/roboworks/Documents/points.npy')\n",
    "\n",
    "ax = fig.add_subplot(111, projection = '3d')\n",
    "ax.scatter(points[:,0],points[:,1],points[:,2],alpha=0.1,c='c')\n",
    "ax.scatter(pts_1[:,0],pts_1[:,1],pts_1[:,2],c='r')\n",
    "ax.scatter(pts_2[:,0],pts_2[:,1],pts_2[:,2],c='g')\n",
    "ax.scatter(pts_3[:,0],pts_3[:,1],pts_3[:,2],c='b')\n",
    "ax.scatter(ps_x[:,0],ps_x[:,1],ps_x[:,2],alpha=0.15,c='r')\n",
    "ax.scatter(ps_y[:,0],ps_y[:,1],ps_y[:,2],alpha=0.15,c='g')\n",
    "ax.scatter(ps_z[:,0],ps_z[:,1],ps_z[:,2],alpha=0.15,c='b')\n",
    "ax.scatter(x_rot[:,0],x_rot[:,1],x_rot[:,2],alpha=0.25,c='r')\n",
    "ax.scatter(y_rot[:,0],y_rot[:,1],y_rot[:,2],alpha=0.25,c='g')\n",
    "ax.scatter(z_rot[:,0],z_rot[:,1],z_rot[:,2],alpha=0.25,c='b')\n",
    "#ax.scatter(pt[1],pt[0],pt[2],'o', c='y')\n",
    "\n",
    "plt.show()"
   ]
  },
  {
   "cell_type": "code",
   "execution_count": null,
   "id": "2814a73c",
   "metadata": {},
   "outputs": [],
   "source": [
    "##y=0\n",
    "##  Z=0  ( Proyeccion)\n",
    "fig = plt.figure()\n",
    "ax = fig.add_subplot(111)\n",
    "\n",
    "ax.scatter(x_rot[:,0],x_rot[:,2],alpha=0.25,c='r')\n",
    "ax.scatter(ps_x[:,0],ps_x[:,2],alpha=0.25,c='r')\n",
    "\n",
    "\n",
    "\n",
    "plt.show()"
   ]
  },
  {
   "cell_type": "code",
   "execution_count": null,
   "id": "e1ccb8aa",
   "metadata": {},
   "outputs": [],
   "source": [
    "ps_y"
   ]
  },
  {
   "cell_type": "code",
   "execution_count": null,
   "id": "df767054",
   "metadata": {},
   "outputs": [],
   "source": []
  },
  {
   "cell_type": "code",
   "execution_count": null,
   "id": "1f5e8318",
   "metadata": {},
   "outputs": [],
   "source": []
  },
  {
   "cell_type": "code",
   "execution_count": null,
   "id": "c119d1a5",
   "metadata": {},
   "outputs": [],
   "source": []
  },
  {
   "cell_type": "code",
   "execution_count": null,
   "id": "3ed77563",
   "metadata": {},
   "outputs": [],
   "source": []
  },
  {
   "cell_type": "code",
   "execution_count": null,
   "id": "cd8a8ee1",
   "metadata": {},
   "outputs": [],
   "source": [
    "pt=rslt_df[['x','y','z']].mean().values\n",
    "pts_1=[]\n",
    "pts_2=[]\n",
    "pts_3=[]\n",
    "\n",
    "pts_1.append(pt)\n",
    "pts_2.append(pt)\n",
    "pts_3.append(pt)\n",
    "\n",
    "for i in range (-5,5):\n",
    "    \n",
    "    pts_1.append(pt +Pca.components_[0]*i/30 )\n",
    "    pts_2.append(pt +Pca.components_[1]*i/30 )\n",
    "    pts_3.append(pt +Pca.components_[2]*i/30 )\n",
    "    \n",
    "pts_1=np.asarray(pts_1)    \n",
    "pts_2=np.asarray(pts_2)    \n",
    "pts_3=np.asarray(pts_3)    \n",
    "fig = plt.figure()\n",
    "points=np.load('/home/roboworks/Documents/points.npy')\n",
    "\n",
    "ax = fig.add_subplot(111, projection = '3d')\n",
    "ax.scatter(points[:,1],points[:,0],points[:,2],alpha=0.1,c='c')\n",
    "ax.scatter(pts_1[:,1],pts_1[:,0],pts_1[:,2],alpha=1,c='r')\n",
    "ax.scatter(pts_2[:,1],pts_2[:,0],pts_2[:,2],c='g')\n",
    "ax.scatter(pts_3[:,1],pts_3[:,0],pts_3[:,2],c='b')\n",
    "#ax.scatter(pt[1],pt[0],pt[2],'o', c='y')\n",
    "fig.canvas.draw()\n",
    "img = np.fromstring(fig.canvas.tostring_rgb(), dtype=np.uint8,\n",
    "            sep='')\n",
    "img  = img.reshape(fig.canvas.get_width_height()[::-1] + (3,))\n"
   ]
  },
  {
   "cell_type": "code",
   "execution_count": null,
   "id": "abe3645d",
   "metadata": {},
   "outputs": [],
   "source": [
    "plt.imshow (img)"
   ]
  },
  {
   "cell_type": "code",
   "execution_count": null,
   "id": "7a27950f",
   "metadata": {},
   "outputs": [],
   "source": [
    "fig.canvas.draw()\n",
    "img = np.fromstring(fig.canvas.tostring_rgb(), dtype=np.uint8,\n",
    "            sep='')\n",
    "img  = img.reshape(fig.canvas.get_width_height()[::-1] + (3,))"
   ]
  },
  {
   "cell_type": "code",
   "execution_count": null,
   "id": "7cb53529",
   "metadata": {},
   "outputs": [],
   "source": [
    "plt.imshow (img)\n"
   ]
  },
  {
   "cell_type": "code",
   "execution_count": null,
   "id": "1e3ce798",
   "metadata": {},
   "outputs": [],
   "source": [
    "#! pip install plotly\n"
   ]
  },
  {
   "cell_type": "code",
   "execution_count": null,
   "id": "7cc7214c",
   "metadata": {},
   "outputs": [],
   "source": [
    "fig = plt.figure()\n",
    "ax = fig.add_subplot(111)\n",
    "\n",
    "ax.scatter(pts_1[:,0],pts_1[:,1],alpha=1,c='r')\n",
    "ax.scatter(pts_2[:,0],pts_2[:,1],alpha=1,c='g')\n",
    "plt.xlim(-0.5, 1.5)\n",
    "\n",
    "plt.show()"
   ]
  },
  {
   "cell_type": "code",
   "execution_count": null,
   "id": "fbd3c43c",
   "metadata": {},
   "outputs": [],
   "source": [
    "np.arctan2((pts_1[1,1]-pts_1[0,1]),(pts_1[1,0]-pts_1[0,0]))"
   ]
  },
  {
   "cell_type": "code",
   "execution_count": null,
   "id": "2ca37356",
   "metadata": {},
   "outputs": [],
   "source": []
  },
  {
   "cell_type": "code",
   "execution_count": null,
   "id": "f503e1be",
   "metadata": {},
   "outputs": [],
   "source": [
    "b=-m*0.91222286-0.08526602"
   ]
  },
  {
   "cell_type": "code",
   "execution_count": null,
   "id": "920554f2",
   "metadata": {},
   "outputs": [],
   "source": []
  },
  {
   "cell_type": "code",
   "execution_count": null,
   "id": "0160c3d0",
   "metadata": {},
   "outputs": [],
   "source": [
    "pts_1[:,:2],pts_1[1,1],pts_1[0,1]"
   ]
  },
  {
   "cell_type": "code",
   "execution_count": null,
   "id": "4d65643a",
   "metadata": {},
   "outputs": [],
   "source": []
  },
  {
   "cell_type": "code",
   "execution_count": null,
   "id": "e41dec03",
   "metadata": {},
   "outputs": [],
   "source": [
    "x_y_1=pts_1[2:-1,:2]\n",
    "x_y_2=pts_2[2:-1,:2]"
   ]
  },
  {
   "cell_type": "code",
   "execution_count": null,
   "id": "dbbac6e1",
   "metadata": {},
   "outputs": [],
   "source": [
    "fig = plt.figure()\n",
    "ax = fig.add_subplot(111)\n",
    "\n",
    "ax.scatter(x_y_1[:,0],x_y_1[:,1],alpha=1,c='r')\n",
    "ax.scatter(x_y_2[:,0],x_y_2[:,1],alpha=1,c='g')\n",
    "ax.scatter(xy_rot[:,0], xy_rot[:,1],alpha=1,c='b')\n",
    "plt.show()"
   ]
  },
  {
   "cell_type": "code",
   "execution_count": null,
   "id": "08e40a19",
   "metadata": {},
   "outputs": [],
   "source": [
    "ang= 0.7\n",
    "mat=np.mat((np.asarray((np.cos(ang) ,np.sin(ang),0,-1*np.sin(ang),np.cos(ang),0,0,0,1)).reshape((3,3))))"
   ]
  },
  {
   "cell_type": "code",
   "execution_count": null,
   "id": "8bd8869a",
   "metadata": {},
   "outputs": [],
   "source": [
    "xy_rot=np.asarray(np.matmul(pts_1,mat))\n",
    "xy2_rot=np.asarray(np.matmul(pts_2,mat))"
   ]
  },
  {
   "cell_type": "code",
   "execution_count": null,
   "id": "9d0d6be1",
   "metadata": {},
   "outputs": [],
   "source": []
  },
  {
   "cell_type": "code",
   "execution_count": null,
   "id": "87aedd7d",
   "metadata": {},
   "outputs": [],
   "source": [
    "\n",
    "fig = plt.figure()\n",
    "ax = fig.add_subplot(111)\n",
    "\n",
    "ax.scatter(x_y_1[:,0],x_y_1[:,1],alpha=1,c='r')\n",
    "ax.scatter(x_y_2[:,0],x_y_2[:,1],alpha=1,c='g')\n",
    "ax.scatter(xy_rot[:,0], xy_rot[:,1],alpha=1,c='r')\n",
    "ax.scatter(xy2_rot[:,0], xy2_rot[:,1],alpha=1,c='g')\n",
    "\n",
    "plt.xlim(0,1)\n",
    "plt.ylim(0,1)\n",
    "plt.show()"
   ]
  },
  {
   "cell_type": "code",
   "execution_count": null,
   "id": "9a7eb31e",
   "metadata": {},
   "outputs": [],
   "source": [
    "x_y_1"
   ]
  },
  {
   "cell_type": "code",
   "execution_count": null,
   "id": "5cb4a3f4",
   "metadata": {},
   "outputs": [],
   "source": [
    "xy_rot.reshape((8,2))"
   ]
  },
  {
   "cell_type": "code",
   "execution_count": null,
   "id": "54c90f02",
   "metadata": {},
   "outputs": [],
   "source": []
  },
  {
   "cell_type": "code",
   "execution_count": null,
   "id": "b72f2827",
   "metadata": {},
   "outputs": [],
   "source": []
  },
  {
   "cell_type": "code",
   "execution_count": null,
   "id": "e52986e2",
   "metadata": {},
   "outputs": [],
   "source": []
  },
  {
   "cell_type": "code",
   "execution_count": null,
   "id": "9ad4dfbe",
   "metadata": {},
   "outputs": [],
   "source": []
  },
  {
   "cell_type": "code",
   "execution_count": null,
   "id": "e6169d09",
   "metadata": {},
   "outputs": [],
   "source": []
  },
  {
   "cell_type": "code",
   "execution_count": null,
   "id": "b05e2ba7",
   "metadata": {},
   "outputs": [],
   "source": []
  },
  {
   "cell_type": "code",
   "execution_count": null,
   "id": "61be700a",
   "metadata": {},
   "outputs": [],
   "source": []
  },
  {
   "cell_type": "code",
   "execution_count": null,
   "id": "1ddd321f",
   "metadata": {},
   "outputs": [],
   "source": []
  },
  {
   "cell_type": "code",
   "execution_count": null,
   "id": "bc28898f",
   "metadata": {},
   "outputs": [],
   "source": []
  },
  {
   "cell_type": "code",
   "execution_count": null,
   "id": "8e09e2c0",
   "metadata": {},
   "outputs": [],
   "source": [
    "pcas=Pca.components_"
   ]
  },
  {
   "cell_type": "code",
   "execution_count": null,
   "id": "7b922b35",
   "metadata": {},
   "outputs": [],
   "source": [
    "ref=np.eye(3)"
   ]
  },
  {
   "cell_type": "code",
   "execution_count": null,
   "id": "880a7591",
   "metadata": {},
   "outputs": [],
   "source": [
    "R=[]\n",
    "R.append(np.dot(pcas[0],ref))\n",
    "R.append(np.dot(pcas[1],ref))\n",
    "R.append(np.dot(pcas[2],ref))\n",
    "\n",
    "R=np.asarray(R)\n",
    "## HOMOGENEUS\n",
    "E_R= np.zeros((4,4))\n",
    "E_R[:3,:3]+=R\n",
    "E_R[-1,-1]=1\n",
    "tf.transformations.quaternion_from_matrix(E_R)"
   ]
  },
  {
   "cell_type": "code",
   "execution_count": null,
   "id": "85a50689",
   "metadata": {},
   "outputs": [],
   "source": []
  },
  {
   "cell_type": "code",
   "execution_count": null,
   "id": "e2ec761f",
   "metadata": {},
   "outputs": [],
   "source": [
    "points.shape"
   ]
  },
  {
   "cell_type": "code",
   "execution_count": null,
   "id": "20a5bd76",
   "metadata": {},
   "outputs": [],
   "source": [
    "cv2.__version__"
   ]
  },
  {
   "cell_type": "code",
   "execution_count": null,
   "id": "d975e6b5",
   "metadata": {},
   "outputs": [],
   "source": [
    "R"
   ]
  },
  {
   "cell_type": "code",
   "execution_count": null,
   "id": "af8e9974",
   "metadata": {},
   "outputs": [],
   "source": [
    "## HOMOGENEUS\n",
    "E_R= np.zeros((4,4))\n",
    "E_R[:3,:3]+=R\n",
    "E_R[-1,-1]=1"
   ]
  },
  {
   "cell_type": "code",
   "execution_count": null,
   "id": "75351618",
   "metadata": {},
   "outputs": [],
   "source": []
  },
  {
   "cell_type": "code",
   "execution_count": null,
   "id": "6f0b1afc",
   "metadata": {},
   "outputs": [],
   "source": [
    "points= rgbd.get_points()"
   ]
  },
  {
   "cell_type": "code",
   "execution_count": null,
   "id": "afd79b31",
   "metadata": {},
   "outputs": [],
   "source": [
    "from smach_utils2 import *\n",
    "import matplotlib.pyplot as plt\n",
    "plt.imshow(img_map[700:1200,700:1400])"
   ]
  },
  {
   "cell_type": "code",
   "execution_count": null,
   "id": "7b3a8829",
   "metadata": {},
   "outputs": [],
   "source": []
  },
  {
   "cell_type": "code",
   "execution_count": null,
   "id": "3f7fa3e3",
   "metadata": {},
   "outputs": [],
   "source": [
    "plt.imshow(img_map[700:1200,700:1400])"
   ]
  },
  {
   "cell_type": "code",
   "execution_count": null,
   "id": "6ba7e43c",
   "metadata": {},
   "outputs": [],
   "source": [
    "mask=cv2.imread('/home/roboworks/Documents/imgcorr.png')\n",
    "plt.imshow (mask[:,:,2]*255)"
   ]
  },
  {
   "cell_type": "code",
   "execution_count": null,
   "id": "82f78a90",
   "metadata": {},
   "outputs": [],
   "source": [
    "img_correc"
   ]
  },
  {
   "cell_type": "code",
   "execution_count": null,
   "id": "854ef810",
   "metadata": {},
   "outputs": [],
   "source": [
    "img=im[:,:,0]"
   ]
  },
  {
   "cell_type": "code",
   "execution_count": null,
   "id": "faf1e3a3",
   "metadata": {},
   "outputs": [],
   "source": [
    "np.where(img==0, )\n",
    "img_corrected = np.where((img==0) ,img,1.0)  #FLOOR"
   ]
  },
  {
   "cell_type": "code",
   "execution_count": null,
   "id": "50d34d9c",
   "metadata": {},
   "outputs": [],
   "source": [
    "plt.imshow (img_corrected*255)"
   ]
  },
  {
   "cell_type": "code",
   "execution_count": null,
   "id": "1e3cbc1c",
   "metadata": {},
   "outputs": [],
   "source": [
    "im.shape"
   ]
  },
  {
   "cell_type": "code",
   "execution_count": null,
   "id": "bac4d614",
   "metadata": {},
   "outputs": [],
   "source": [
    "pts=rgbd.get_points()"
   ]
  },
  {
   "cell_type": "code",
   "execution_count": null,
   "id": "ea94d437",
   "metadata": {},
   "outputs": [],
   "source": [
    "def write_tf(pose, q, child_frame=\"\" , parent_frame='map'):\n",
    "    #  pose = trans  q = quaternion  , childframe =\"\"\n",
    "    # format  write the transformstampled message\n",
    "    t= TransformStamped()\n",
    "    t.header.stamp = rospy.Time.now()\n",
    "    #t.header.stamp = rospy.Time(0)\n",
    "    t.header.frame_id =parent_frame\n",
    "    t.child_frame_id =  child_frame\n",
    "    t.transform.translation.x = pose[0]\n",
    "    t.transform.translation.y = pose[1]\n",
    "    t.transform.translation.z = pose[2]\n",
    "    #q = tf.transformations.quaternion_from_euler(eu[0], eu[1], eu[2])\n",
    "    t.transform.rotation.x = q[0]\n",
    "    t.transform.rotation.y = q[1]\n",
    "    t.transform.rotation.z = q[2]\n",
    "    t.transform.rotation.w = q[3]\n",
    "    return t\n",
    "#-----------------------------------------------------------------\n",
    "def read_tf(t):\n",
    "    # trasnform message to np arrays\n",
    "    pose=np.asarray((\n",
    "        t.transform.translation.x,\n",
    "        t.transform.translation.y,\n",
    "        t.transform.translation.z\n",
    "        ))\n",
    "    quat=np.asarray((\n",
    "        t.transform.rotation.x,\n",
    "        t.transform.rotation.y,\n",
    "        t.transform.rotation.z,\n",
    "        t.transform.rotation.w\n",
    "        ))\n",
    "    \n",
    "    return pose, quat\n",
    "\n",
    "def correct_points(points_msg):\n",
    "\n",
    "    # Function that transforms Point Cloud reference frame from  head, to map. (i.e. sensor coords to map coords )\n",
    "    # img= correct_points() (Returns rgbd depth corrected image)    \n",
    "    #points msg in \n",
    "    #data = rospy.wait_for_message('/hsrb/head_rgbd_sensor/depth_registered/rectified_points', PointCloud2)\n",
    "    \n",
    "\n",
    "    np_data=ros_numpy.numpify(points_msg)\n",
    "\n",
    "    try:\n",
    "        trans = tfBuffer.lookup_transform('map', 'head_rgbd_sensor_link', rospy.Time())\n",
    "                    \n",
    "        trans,rot=read_tf(trans)\n",
    "        print (\"############head\",trans,rot)\n",
    "    except (tf2_ros.LookupException, tf2_ros.ConnectivityException, tf2_ros.ExtrapolationException):\n",
    "        print ( 'No  head TF FOUND')\n",
    "\n",
    "    #trans,rot=tf_listener.lookupTransform('/map', '/head_rgbd_sensor_rgb_frame', rospy.Time(0))\n",
    "    #print (\"############TF1\",trans,rot)\n",
    "    eu=np.asarray(tf.transformations.euler_from_quaternion(rot))\n",
    "    t=TransformStamped()\n",
    "    rot=tf.transformations.quaternion_from_euler(eu[0],eu[1],eu[2])\n",
    "    #rot=tf.transformations.quaternion_from_euler(-eu[1],0,0)\n",
    "    t.header.stamp = points_msg.header.stamp\n",
    "    t.transform.rotation.x = rot[0]\n",
    "    t.transform.rotation.y = rot[1]\n",
    "    t.transform.rotation.z = rot[2]\n",
    "    t.transform.rotation.w = rot[3]\n",
    "    cloud_out = do_transform_cloud(points_msg, t)\n",
    "    np_corrected=ros_numpy.numpify(cloud_out)\n",
    "    corrected=np_corrected.reshape(np_data.shape)\n",
    "    img= np.copy(-corrected['z'])\n",
    "    img[np.isnan(img)]=2\n",
    "    img_corrected = np.where((img<trans[2]*0.96) ,img,5)\n",
    "\n",
    "    return img_corrected , corrected"
   ]
  },
  {
   "cell_type": "code",
   "execution_count": null,
   "id": "1da30146",
   "metadata": {},
   "outputs": [],
   "source": [
    "points_msg=rospy.wait_for_message(\"/hsrb/head_rgbd_sensor/depth_registered/rectified_points\",PointCloud2,timeout=5)"
   ]
  },
  {
   "cell_type": "code",
   "execution_count": null,
   "id": "9993e898",
   "metadata": {},
   "outputs": [],
   "source": [
    "points_data = ros_numpy.numpify(points_msg)\n",
    "img_corrected ,corrected = correct_points(points_msg)\n",
    "for i in range(corrected['x'].shape[0]):\n",
    "    for j in range(corrected['x'].shape[1]):\n",
    "        pass\n",
    "        #print(corrected[['x','y','z']][i,j])"
   ]
  },
  {
   "cell_type": "code",
   "execution_count": null,
   "id": "479b4731",
   "metadata": {},
   "outputs": [],
   "source": [
    "origin_map_img=[round(img_map.shape[0]*0.5) ,round(img_map.shape[1]*0.5)]\n",
    "corrected[0,0]"
   ]
  },
  {
   "cell_type": "code",
   "execution_count": null,
   "id": "52f92e44",
   "metadata": {},
   "outputs": [],
   "source": [
    "\n",
    "points_data[['x','y','z']].shape"
   ]
  },
  {
   "cell_type": "code",
   "execution_count": null,
   "id": "a2289d4e",
   "metadata": {},
   "outputs": [],
   "source": [
    "points_data[['x','y','z']][250,300] , corrected[['x','y','z']][250,300]"
   ]
  },
  {
   "cell_type": "code",
   "execution_count": null,
   "id": "d3820b10",
   "metadata": {},
   "outputs": [],
   "source": [
    "plt.imshow(corrected['x'])"
   ]
  },
  {
   "cell_type": "code",
   "execution_count": null,
   "id": "bb7ec676",
   "metadata": {},
   "outputs": [],
   "source": [
    "corrected[['x','y','z']][240,320]"
   ]
  },
  {
   "cell_type": "code",
   "execution_count": null,
   "id": "3bcef674",
   "metadata": {},
   "outputs": [],
   "source": [
    "robot_pose=get_robot_px()\n",
    "px_pose_robot=np.asarray((origin_map_img[1]+robot_pose[1],origin_map_img[0]+robot_pose[0]))\n",
    "iimg=draw_at(px_pose_robot[0], px_pose_robot[1] , img_map )   #ROBOT PX POSE"
   ]
  },
  {
   "cell_type": "code",
   "execution_count": null,
   "id": "e1198875",
   "metadata": {},
   "outputs": [],
   "source": [
    "plt.imshow (iimg[750:1300,800:1500])"
   ]
  },
  {
   "cell_type": "code",
   "execution_count": null,
   "id": "0bedebb2",
   "metadata": {},
   "outputs": [],
   "source": [
    "corrected[0,0]"
   ]
  },
  {
   "cell_type": "code",
   "execution_count": null,
   "id": "47f80a6e",
   "metadata": {},
   "outputs": [],
   "source": [
    "def draw_at (px,py, contoured):\n",
    "    contoured[px-5:px+5,py-5:py+5]=200\n",
    "    return contoured\n",
    "    "
   ]
  },
  {
   "cell_type": "code",
   "execution_count": null,
   "id": "46048983",
   "metadata": {},
   "outputs": [],
   "source": [
    "origin_map_img=[round(img_map.shape[0]*0.5) ,round(img_map.shape[1]*0.5)]\n",
    "robot_pose=get_robot_px()\n",
    "\n",
    "points_msg=rospy.wait_for_message(\"/hsrb/head_rgbd_sensor/depth_registered/rectified_points\",PointCloud2,timeout=5)\n",
    "points_data = ros_numpy.numpify(points_msg)\n",
    "img_corrected ,corrected = correct_points(points_msg)\n",
    "for i in range (400):\n",
    "    if np.isnan(corrected[i,-1][0]) or np.isnan(corrected[-1,i][0])or np.isnan(corrected[i,0][0]) or np.isnan(corrected[0,i][0]) :print('nan ')\n",
    "        \n",
    "    else:\n",
    "        px_from_pose= origin_map_img[1]+ round(corrected[i,0][1]/pix_per_m)+robot_pose[1],origin_map_img[0]+ round(corrected[i,0][0]/pix_per_m)+robot_pose[0]\n",
    "        iimg=draw_at(px_from_pose[0], px_from_pose[1] , img_map )\n",
    "        px_from_pose= origin_map_img[1]+ round(corrected[i,-1][1]/pix_per_m)+robot_pose[1],origin_map_img[0]+ round(corrected[i,-1][0]/pix_per_m)+robot_pose[0]\n",
    "        iimg=draw_at(px_from_pose[0], px_from_pose[1] , img_map )\n",
    "        px_from_pose= origin_map_img[1]+ round(corrected[0,i][1]/pix_per_m)+robot_pose[1],origin_map_img[0]+ round(corrected[0,i][0]/pix_per_m)+robot_pose[0]\n",
    "        iimg=draw_at(px_from_pose[0], px_from_pose[1] , img_map )\n",
    "        px_from_pose= origin_map_img[1]+ round(corrected[-1,i][1]/pix_per_m)+robot_pose[1],origin_map_img[0]+ round(corrected[-1,i][0]/pix_per_m)+robot_pose[0]\n",
    "        iimg=draw_at(px_from_pose[0], px_from_pose[1] , img_map )\n",
    "\n",
    "\n",
    "\n",
    "plt.imshow(iimg[750:1300,800:1500])\n"
   ]
  },
  {
   "cell_type": "code",
   "execution_count": null,
   "id": "fe8f558e",
   "metadata": {},
   "outputs": [],
   "source": [
    "iimg=draw_at(origin_map_img[1], origin_map_img[0] , img_map )\n",
    "plt.imshow(iimg[750:1300,800:1500])\n"
   ]
  },
  {
   "cell_type": "code",
   "execution_count": null,
   "id": "379033bc",
   "metadata": {},
   "outputs": [],
   "source": [
    "\n",
    "\n",
    "px_from_map=np.asarray((origin_map_img[1]+corrected[-1,-1][0],origin_map_img[0]+corrected[-1,-1][1]))\n",
    "iimg=draw_at(px_from_pose[0], px_from_pose[1] , img_map )\n",
    "plt.imshow(iimg[750:1300,800:1500])\n"
   ]
  },
  {
   "cell_type": "code",
   "execution_count": null,
   "id": "4154d2a2",
   "metadata": {},
   "outputs": [],
   "source": [
    "iimg=draw_at(px_from_pose[0], px_from_pose[1] , img_map )"
   ]
  },
  {
   "cell_type": "code",
   "execution_count": null,
   "id": "e8596a47",
   "metadata": {},
   "outputs": [],
   "source": [
    "plt.imshow(iimg[750:1300,800:1500])"
   ]
  },
  {
   "cell_type": "code",
   "execution_count": null,
   "id": "194e0400",
   "metadata": {},
   "outputs": [],
   "source": [
    "img_map[origin_map_img[1]+ round(corrected[0,0][1]/pix_per_m),origin_map_img[0]+ round(corrected[0,0][0]/pix_per_m)]"
   ]
  },
  {
   "cell_type": "code",
   "execution_count": null,
   "id": "e8283fc4",
   "metadata": {},
   "outputs": [],
   "source": [
    "plt.imshow(corrected['x'])"
   ]
  },
  {
   "cell_type": "code",
   "execution_count": null,
   "id": "82681b1d",
   "metadata": {},
   "outputs": [],
   "source": [
    "corrected[100,500]"
   ]
  },
  {
   "cell_type": "raw",
   "id": "edface7c",
   "metadata": {},
   "source": [
    "from smach_utils2 import *\n"
   ]
  },
  {
   "cell_type": "code",
   "execution_count": null,
   "id": "8927179c",
   "metadata": {},
   "outputs": [],
   "source": [
    "from smach_utils2 import *\n",
    "\n",
    "points_msg=rospy.wait_for_message(\"/hsrb/head_rgbd_sensor/depth_registered/rectified_points\",PointCloud2,timeout=5)"
   ]
  },
  {
   "cell_type": "code",
   "execution_count": null,
   "id": "251bfe41",
   "metadata": {},
   "outputs": [],
   "source": [
    "\n",
    "import matplotlib.pyplot as plt\n",
    "import numpy as np\n",
    "from mpl_toolkits.mplot3d import Axes3D\n",
    "import seaborn as sns\n",
    "import pandas as pd\n",
    "from sklearn.decomposition import PCA\n",
    "import tf"
   ]
  },
  {
   "cell_type": "code",
   "execution_count": 8,
   "id": "2312565b",
   "metadata": {},
   "outputs": [],
   "source": [
    "points_msg=rospy.wait_for_message(\"/hsrb/head_rgbd_sensor/depth_registered/rectified_points\",PointCloud2,timeout=5)"
   ]
  },
  {
   "cell_type": "code",
   "execution_count": 9,
   "id": "8909c2f3",
   "metadata": {},
   "outputs": [],
   "source": [
    "points_data = ros_numpy.numpify(points_msg)\n",
    "image = points_data['rgb'].view((np.uint8, 4))[..., [2, 1, 0]]\n",
    "rgb_image = cv2.cvtColor(image, cv2.COLOR_BGR2RGB)    "
   ]
  },
  {
   "cell_type": "code",
   "execution_count": 10,
   "id": "898adf63",
   "metadata": {},
   "outputs": [],
   "source": [
    "ros_image = bridge.cv2_to_imgmsg(rgb_image, encoding=\"bgr8\")\n",
    "prompt_msg = String()\n",
    "prompt_msg.data = 'bag'\n",
    "response = classify_client_dino(ros_image, prompt_msg)"
   ]
  },
  {
   "cell_type": "code",
   "execution_count": 11,
   "id": "b4b3d295",
   "metadata": {},
   "outputs": [],
   "source": [
    "\n",
    "x_min, y_min, x_max, y_max = response.bounding_boxes.data\n",
    "#y_min=81\n",
    "#y_max=201\n",
    "#x_min=212\n",
    "#x_max=297"
   ]
  },
  {
   "cell_type": "code",
   "execution_count": 12,
   "id": "56f4b543",
   "metadata": {},
   "outputs": [
    {
     "data": {
      "text/plain": [
       "<matplotlib.image.AxesImage at 0x7f89c8721f10>"
      ]
     },
     "execution_count": 12,
     "metadata": {},
     "output_type": "execute_result"
    },
    {
     "data": {
      "image/png": "[encoded data removed]",
      "text/plain": [
       "<Figure size 640x480 with 1 Axes>"
      ]
     },
     "metadata": {},
     "output_type": "display_data"
    }
   ],
   "source": [
    "plt.imshow(rgb_image)"
   ]
  },
  {
   "cell_type": "code",
   "execution_count": 13,
   "id": "2a900bcd",
   "metadata": {},
   "outputs": [],
   "source": [
    "try:\n",
    "        trans = tfBuffer.lookup_transform('map', 'head_rgbd_sensor_link', rospy.Time())\n",
    "\n",
    "        trans,rot=read_tf(trans)\n",
    "        #print (\"############head\",trans,rot)\n",
    "except (tf2_ros.LookupException, tf2_ros.ConnectivityException, tf2_ros.ExtrapolationException):\n",
    "        print ( 'No head TF FOUND')\n",
    "t= write_tf(trans,rot)\n",
    "cloud_out = do_transform_cloud(points_msg, t)"
   ]
  },
  {
   "cell_type": "code",
   "execution_count": null,
   "id": "4a4ece2c",
   "metadata": {},
   "outputs": [],
   "source": []
  },
  {
   "cell_type": "code",
   "execution_count": 14,
   "id": "c8d7d8b1",
   "metadata": {},
   "outputs": [],
   "source": [
    "np_corrected=ros_numpy.numpify(cloud_out)\n",
    "corrected=np_corrected.reshape(points_data.shape)"
   ]
  },
  {
   "cell_type": "code",
   "execution_count": 15,
   "id": "3752b790",
   "metadata": {},
   "outputs": [],
   "source": [
    "orig_image= rgb_image.copy()\n",
    "mask= np.zeros(corrected['z'].shape)#mask    "
   ]
  },
  {
   "cell_type": "code",
   "execution_count": 16,
   "id": "f0451788",
   "metadata": {},
   "outputs": [],
   "source": [
    "#y_min=81\n",
    "#y_max=201\n",
    "#x_min=212\n",
    "#x_max=297\n",
    "mask_bb=cv2.rectangle(mask,(x_min,y_min),(x_max, y_max), (255,255,255), -1)\n",
    "mask_z= corrected['z']>0.01\n",
    "mask = (mask_bb == 255) & (corrected['z'] > 0.01)"
   ]
  },
  {
   "cell_type": "code",
   "execution_count": null,
   "id": "1e403f70",
   "metadata": {},
   "outputs": [],
   "source": []
  },
  {
   "cell_type": "code",
   "execution_count": null,
   "id": "0694b44f",
   "metadata": {},
   "outputs": [],
   "source": []
  },
  {
   "cell_type": "code",
   "execution_count": 17,
   "id": "6ef15967",
   "metadata": {},
   "outputs": [
    {
     "data": {
      "text/plain": [
       "<matplotlib.image.AxesImage at 0x7f8aa2e172e0>"
      ]
     },
     "execution_count": 17,
     "metadata": {},
     "output_type": "execute_result"
    },
    {
     "data": {
      "image/png": "[encoded data removed]",
      "text/plain": [
       "<Figure size 640x480 with 1 Axes>"
      ]
     },
     "metadata": {},
     "output_type": "display_data"
    }
   ],
   "source": [
    "plt.imshow(mask)"
   ]
  },
  {
   "cell_type": "code",
   "execution_count": 18,
   "id": "b6421548",
   "metadata": {},
   "outputs": [],
   "source": [
    "#-----------------------------------------------------------------\n",
    "def points_to_PCA(points):\n",
    "    df=pd.DataFrame(points)\n",
    "    df.columns=['x','y','z']\n",
    "    rslt_df = df[df['z'] > 0.01]\n",
    "    points=rslt_df[['x','y','z']].dropna().values\n",
    "    Pca=PCA(n_components=3)\n",
    "    Pca.fit(points)\n",
    "    print('Pca.explained_variance_',Pca.explained_variance_)\n",
    "    ref=np.eye(3)\n",
    "    pcas=Pca.components_\n",
    "    R=[]\n",
    "    R.append(np.dot(pcas[0],ref))\n",
    "    R.append(np.dot(pcas[1],ref))\n",
    "    R.append(np.dot(pcas[2],ref))\n",
    "    R=np.asarray(R)\n",
    "    ## HOMOGENEUS\n",
    "    E_R= np.zeros((4,4))\n",
    "    E_R[:3,:3]+=R\n",
    "    E_R[-1,-1]=1\n",
    "    return     E_R\n"
   ]
  },
  {
   "cell_type": "code",
   "execution_count": 20,
   "id": "8acbaf73",
   "metadata": {},
   "outputs": [
    {
     "name": "stdout",
     "output_type": "stream",
     "text": [
      "(3, 5230)\n",
      "Pca.explained_variance_ [0.00572725 0.00133717 0.00069291]\n",
      "ANGLE: (1.9985974290791289, -0.9527021627574691, 1.090482093167058)  Degrees: [114.51119763 -54.58581306  62.48002157]\n"
     ]
    }
   ],
   "source": [
    "#_, binary_image = cv2.threshold(mask, 20, 255, cv2.THRESH_BINARY)\n",
    "#individual_mask=(mask*binary_image).astype(np.uint8)        \n",
    "cent=np.asarray(   ((  np.nanmean(corrected['x'][np.where(mask==1)]) ,np.nanmean(corrected['y'][np.where(mask==1)]),np.nanmean(corrected['z'][np.where(mask==1)])       ))      )\n",
    "points_c=np.asarray((corrected['x'][np.where(mask==1)],corrected['y'][np.where(mask==1)],corrected['z'][np.where(mask==1)]))\n",
    "print ( points_c.shape)\n",
    "E_R=points_to_PCA(points_c.transpose())\n",
    "e_ER=tf.transformations.euler_from_matrix(E_R)\n",
    "quat_pca= tf. transformations.quaternion_from_euler(e_ER[0],e_ER[1],e_ER[2])\n",
    "print(\"ANGLE:\",tf.transformations.euler_from_matrix(E_R),\" Degrees:\",np.rad2deg(tf.transformations.euler_from_matrix(E_R)))"
   ]
  },
  {
   "cell_type": "code",
   "execution_count": 21,
   "id": "b31c5024",
   "metadata": {},
   "outputs": [
    {
     "data": {
      "text/plain": [
       "<matplotlib.image.AxesImage at 0x7f8944f714c0>"
      ]
     },
     "execution_count": 21,
     "metadata": {},
     "output_type": "execute_result"
    },
    {
     "data": {
      "image/png": "[encoded data removed]",
      "text/plain": [
       "<Figure size 640x480 with 1 Axes>"
      ]
     },
     "metadata": {},
     "output_type": "display_data"
    }
   ],
   "source": [
    "plt.imshow(mask)"
   ]
  },
  {
   "cell_type": "code",
   "execution_count": 22,
   "id": "3d454ce2",
   "metadata": {},
   "outputs": [
    {
     "data": {
      "text/plain": [
       "<matplotlib.image.AxesImage at 0x7f8944f73370>"
      ]
     },
     "execution_count": 22,
     "metadata": {},
     "output_type": "execute_result"
    },
    {
     "data": {
      "image/png": "[encoded data removed]",
      "text/plain": [
       "<Figure size 640x480 with 1 Axes>"
      ]
     },
     "metadata": {},
     "output_type": "display_data"
    }
   ],
   "source": [
    "plt.imshow(mask*rgb_image[:,:,0])"
   ]
  },
  {
   "cell_type": "code",
   "execution_count": 23,
   "id": "43cce41a",
   "metadata": {},
   "outputs": [
    {
     "data": {
      "text/plain": [
       "<matplotlib.image.AxesImage at 0x7f8944fac4f0>"
      ]
     },
     "execution_count": 23,
     "metadata": {},
     "output_type": "execute_result"
    },
    {
     "data": {
      "image/png": "[encoded data removed]",
      "text/plain": [
       "<Figure size 640x480 with 1 Axes>"
      ]
     },
     "metadata": {},
     "output_type": "display_data"
    },
    {
     "name": "stderr",
     "output_type": "stream",
     "text": [
      "\u001b[33m[ WARN] [1743813700.359236842]: TF_REPEATED_DATA ignoring data with redundant timestamp for frame odom (parent map) at time 1067.128000 according to authority /pose_integrator\u001b[0m\n",
      "\u001b[33m[ WARN] [1743813700.359293149]: TF_REPEATED_DATA ignoring data with redundant timestamp for frame odom (parent map) at time 1067.128000 according to authority /pose_integrator\u001b[0m\n",
      "\u001b[33m[ WARN] [1743813700.359325226]: TF_REPEATED_DATA ignoring data with redundant timestamp for frame odom (parent map) at time 1067.128000 according to authority /pose_integrator\u001b[0m\n",
      "\u001b[33m[ WARN] [1743813700.359363636]: TF_REPEATED_DATA ignoring data with redundant timestamp for frame odom (parent map) at time 1067.128000 according to authority /pose_integrator\u001b[0m\n",
      "\u001b[33m[ WARN] [1743813700.359394665]: TF_REPEATED_DATA ignoring data with redundant timestamp for frame odom (parent map) at time 1067.128000 according to authority /pose_integrator\u001b[0m\n",
      "\u001b[33m[ WARN] [1743813700.359431926]: TF_REPEATED_DATA ignoring data with redundant timestamp for frame odom (parent map) at time 1067.128000 according to authority /pose_integrator\u001b[0m\n",
      "\u001b[33m[ WARN] [1743813747.281632321]: TF_REPEATED_DATA ignoring data with redundant timestamp for frame odom (parent map) at time 1081.895000 according to authority /pose_integrator\u001b[0m\n",
      "\u001b[33m[ WARN] [1743813747.281683228]: TF_REPEATED_DATA ignoring data with redundant timestamp for frame odom (parent map) at time 1081.895000 according to authority /pose_integrator\u001b[0m\n",
      "\u001b[33m[ WARN] [1743813747.281716309]: TF_REPEATED_DATA ignoring data with redundant timestamp for frame odom (parent map) at time 1081.895000 according to authority /pose_integrator\u001b[0m\n",
      "\u001b[33m[ WARN] [1743813747.281754964]: TF_REPEATED_DATA ignoring data with redundant timestamp for frame odom (parent map) at time 1081.895000 according to authority /pose_integrator\u001b[0m\n",
      "\u001b[33m[ WARN] [1743813747.281793814]: TF_REPEATED_DATA ignoring data with redundant timestamp for frame odom (parent map) at time 1081.895000 according to authority /pose_integrator\u001b[0m\n",
      "\u001b[33m[ WARN] [1743813747.281825541]: TF_REPEATED_DATA ignoring data with redundant timestamp for frame odom (parent map) at time 1081.895000 according to authority /pose_integrator\u001b[0m\n",
      "\u001b[33m[ WARN] [1743813758.978353812]: TF_REPEATED_DATA ignoring data with redundant timestamp for frame odom (parent map) at time 1085.343000 according to authority /pose_integrator\u001b[0m\n",
      "\u001b[33m[ WARN] [1743813758.978403640]: TF_REPEATED_DATA ignoring data with redundant timestamp for frame odom (parent map) at time 1085.343000 according to authority /pose_integrator\u001b[0m\n",
      "\u001b[33m[ WARN] [1743813758.978438916]: TF_REPEATED_DATA ignoring data with redundant timestamp for frame odom (parent map) at time 1085.343000 according to authority /pose_integrator\u001b[0m\n",
      "\u001b[33m[ WARN] [1743813758.978466507]: TF_REPEATED_DATA ignoring data with redundant timestamp for frame odom (parent map) at time 1085.343000 according to authority /pose_integrator\u001b[0m\n",
      "\u001b[33m[ WARN] [1743813758.978494809]: TF_REPEATED_DATA ignoring data with redundant timestamp for frame odom (parent map) at time 1085.343000 according to authority /pose_integrator\u001b[0m\n",
      "\u001b[33m[ WARN] [1743813758.978524772]: TF_REPEATED_DATA ignoring data with redundant timestamp for frame odom (parent map) at time 1085.343000 according to authority /pose_integrator\u001b[0m\n",
      "\u001b[33m[ WARN] [1743813762.733655154]: TF_REPEATED_DATA ignoring data with redundant timestamp for frame odom (parent map) at time 1086.621000 according to authority /pose_integrator\u001b[0m\n",
      "\u001b[33m[ WARN] [1743813762.733731311]: TF_REPEATED_DATA ignoring data with redundant timestamp for frame odom (parent map) at time 1086.621000 according to authority /pose_integrator\u001b[0m\n",
      "\u001b[33m[ WARN] [1743813762.733792036]: TF_REPEATED_DATA ignoring data with redundant timestamp for frame odom (parent map) at time 1086.621000 according to authority /pose_integrator\u001b[0m\n",
      "\u001b[33m[ WARN] [1743813762.733849365]: TF_REPEATED_DATA ignoring data with redundant timestamp for frame odom (parent map) at time 1086.621000 according to authority /pose_integrator\u001b[0m\n",
      "\u001b[33m[ WARN] [1743813762.733906313]: TF_REPEATED_DATA ignoring data with redundant timestamp for frame odom (parent map) at time 1086.621000 according to authority /pose_integrator\u001b[0m\n",
      "\u001b[33m[ WARN] [1743813762.733962633]: TF_REPEATED_DATA ignoring data with redundant timestamp for frame odom (parent map) at time 1086.621000 according to authority /pose_integrator\u001b[0m\n",
      "\u001b[33m[ WARN] [1743813771.533677712]: TF_REPEATED_DATA ignoring data with redundant timestamp for frame odom (parent map) at time 1089.325000 according to authority /pose_integrator\u001b[0m\n",
      "\u001b[33m[ WARN] [1743813771.533737074]: TF_REPEATED_DATA ignoring data with redundant timestamp for frame odom (parent map) at time 1089.325000 according to authority /pose_integrator\u001b[0m\n",
      "\u001b[33m[ WARN] [1743813771.533774478]: TF_REPEATED_DATA ignoring data with redundant timestamp for frame odom (parent map) at time 1089.325000 according to authority /pose_integrator\u001b[0m\n",
      "\u001b[33m[ WARN] [1743813771.533945917]: TF_REPEATED_DATA ignoring data with redundant timestamp for frame odom (parent map) at time 1089.325000 according to authority /pose_integrator\u001b[0m\n",
      "\u001b[33m[ WARN] [1743813771.533981109]: TF_REPEATED_DATA ignoring data with redundant timestamp for frame odom (parent map) at time 1089.325000 according to authority /pose_integrator\u001b[0m\n",
      "\u001b[33m[ WARN] [1743813771.534010950]: TF_REPEATED_DATA ignoring data with redundant timestamp for frame odom (parent map) at time 1089.325000 according to authority /pose_integrator\u001b[0m\n",
      "\u001b[33m[ WARN] [1743813772.092421380]: TF_REPEATED_DATA ignoring data with redundant timestamp for frame odom (parent map) at time 1089.531000 according to authority /pose_integrator\u001b[0m\n",
      "\u001b[33m[ WARN] [1743813772.092469385]: TF_REPEATED_DATA ignoring data with redundant timestamp for frame odom (parent map) at time 1089.531000 according to authority /pose_integrator\u001b[0m\n",
      "\u001b[33m[ WARN] [1743813772.092503097]: TF_REPEATED_DATA ignoring data with redundant timestamp for frame odom (parent map) at time 1089.531000 according to authority /pose_integrator\u001b[0m\n",
      "\u001b[33m[ WARN] [1743813772.092536170]: TF_REPEATED_DATA ignoring data with redundant timestamp for frame odom (parent map) at time 1089.531000 according to authority /pose_integrator\u001b[0m\n",
      "\u001b[33m[ WARN] [1743813772.092576117]: TF_REPEATED_DATA ignoring data with redundant timestamp for frame odom (parent map) at time 1089.531000 according to authority /pose_integrator\u001b[0m\n",
      "\u001b[33m[ WARN] [1743813772.092617866]: TF_REPEATED_DATA ignoring data with redundant timestamp for frame odom (parent map) at time 1089.531000 according to authority /pose_integrator\u001b[0m\n",
      "\u001b[33m[ WARN] [1743813772.381393751]: TF_REPEATED_DATA ignoring data with redundant timestamp for frame odom (parent map) at time 1089.612000 according to authority /pose_integrator\u001b[0m\n",
      "\u001b[33m[ WARN] [1743813772.381443089]: TF_REPEATED_DATA ignoring data with redundant timestamp for frame odom (parent map) at time 1089.612000 according to authority /pose_integrator\u001b[0m\n",
      "\u001b[33m[ WARN] [1743813772.381484792]: TF_REPEATED_DATA ignoring data with redundant timestamp for frame odom (parent map) at time 1089.612000 according to authority /pose_integrator\u001b[0m\n",
      "\u001b[33m[ WARN] [1743813772.381511660]: TF_REPEATED_DATA ignoring data with redundant timestamp for frame odom (parent map) at time 1089.612000 according to authority /pose_integrator\u001b[0m\n",
      "\u001b[33m[ WARN] [1743813772.381538250]: TF_REPEATED_DATA ignoring data with redundant timestamp for frame odom (parent map) at time 1089.612000 according to authority /pose_integrator\u001b[0m\n",
      "\u001b[33m[ WARN] [1743813772.381567118]: TF_REPEATED_DATA ignoring data with redundant timestamp for frame odom (parent map) at time 1089.612000 according to authority /pose_integrator\u001b[0m\n",
      "\u001b[33m[ WARN] [1743813780.602475393]: TF_REPEATED_DATA ignoring data with redundant timestamp for frame odom (parent map) at time 1092.296000 according to authority /pose_integrator\u001b[0m\n",
      "\u001b[33m[ WARN] [1743813780.602555154]: TF_REPEATED_DATA ignoring data with redundant timestamp for frame odom (parent map) at time 1092.296000 according to authority /pose_integrator\u001b[0m\n",
      "\u001b[33m[ WARN] [1743813780.602612291]: TF_REPEATED_DATA ignoring data with redundant timestamp for frame odom (parent map) at time 1092.296000 according to authority /pose_integrator\u001b[0m\n",
      "\u001b[33m[ WARN] [1743813780.602666600]: TF_REPEATED_DATA ignoring data with redundant timestamp for frame odom (parent map) at time 1092.296000 according to authority /pose_integrator\u001b[0m\n",
      "\u001b[33m[ WARN] [1743813780.602711951]: TF_REPEATED_DATA ignoring data with redundant timestamp for frame odom (parent map) at time 1092.296000 according to authority /pose_integrator\u001b[0m\n",
      "\u001b[33m[ WARN] [1743813780.602757584]: TF_REPEATED_DATA ignoring data with redundant timestamp for frame odom (parent map) at time 1092.296000 according to authority /pose_integrator\u001b[0m\n"
     ]
    },
    {
     "name": "stderr",
     "output_type": "stream",
     "text": [
      "\u001b[33m[ WARN] [1743813784.437029629]: TF_REPEATED_DATA ignoring data with redundant timestamp for frame odom (parent map) at time 1093.491000 according to authority /pose_integrator\u001b[0m\n",
      "\u001b[33m[ WARN] [1743813784.437087024]: TF_REPEATED_DATA ignoring data with redundant timestamp for frame odom (parent map) at time 1093.491000 according to authority /pose_integrator\u001b[0m\n",
      "\u001b[33m[ WARN] [1743813784.437146819]: TF_REPEATED_DATA ignoring data with redundant timestamp for frame odom (parent map) at time 1093.491000 according to authority /pose_integrator\u001b[0m\n",
      "\u001b[33m[ WARN] [1743813784.437194851]: TF_REPEATED_DATA ignoring data with redundant timestamp for frame odom (parent map) at time 1093.491000 according to authority /pose_integrator\u001b[0m\n",
      "\u001b[33m[ WARN] [1743813784.437245160]: TF_REPEATED_DATA ignoring data with redundant timestamp for frame odom (parent map) at time 1093.491000 according to authority /pose_integrator\u001b[0m\n",
      "\u001b[33m[ WARN] [1743813784.437292638]: TF_REPEATED_DATA ignoring data with redundant timestamp for frame odom (parent map) at time 1093.491000 according to authority /pose_integrator\u001b[0m\n",
      "\u001b[33m[ WARN] [1743813790.367903387]: TF_REPEATED_DATA ignoring data with redundant timestamp for frame odom (parent map) at time 1095.050000 according to authority /pose_integrator\u001b[0m\n",
      "\u001b[33m[ WARN] [1743813790.367969184]: TF_REPEATED_DATA ignoring data with redundant timestamp for frame odom (parent map) at time 1095.050000 according to authority /pose_integrator\u001b[0m\n",
      "\u001b[33m[ WARN] [1743813790.368018075]: TF_REPEATED_DATA ignoring data with redundant timestamp for frame odom (parent map) at time 1095.050000 according to authority /pose_integrator\u001b[0m\n",
      "\u001b[33m[ WARN] [1743813790.368057882]: TF_REPEATED_DATA ignoring data with redundant timestamp for frame odom (parent map) at time 1095.050000 according to authority /pose_integrator\u001b[0m\n",
      "\u001b[33m[ WARN] [1743813790.368097985]: TF_REPEATED_DATA ignoring data with redundant timestamp for frame odom (parent map) at time 1095.050000 according to authority /pose_integrator\u001b[0m\n",
      "\u001b[33m[ WARN] [1743813790.368160156]: TF_REPEATED_DATA ignoring data with redundant timestamp for frame odom (parent map) at time 1095.050000 according to authority /pose_integrator\u001b[0m\n",
      "\u001b[33m[ WARN] [1743813795.817493026]: TF_REPEATED_DATA ignoring data with redundant timestamp for frame odom (parent map) at time 1096.445000 according to authority /pose_integrator\u001b[0m\n",
      "\u001b[33m[ WARN] [1743813795.817560312]: TF_REPEATED_DATA ignoring data with redundant timestamp for frame odom (parent map) at time 1096.445000 according to authority /pose_integrator\u001b[0m\n",
      "\u001b[33m[ WARN] [1743813795.817602312]: TF_REPEATED_DATA ignoring data with redundant timestamp for frame odom (parent map) at time 1096.445000 according to authority /pose_integrator\u001b[0m\n",
      "\u001b[33m[ WARN] [1743813795.817641287]: TF_REPEATED_DATA ignoring data with redundant timestamp for frame odom (parent map) at time 1096.445000 according to authority /pose_integrator\u001b[0m\n",
      "\u001b[33m[ WARN] [1743813795.817684355]: TF_REPEATED_DATA ignoring data with redundant timestamp for frame odom (parent map) at time 1096.445000 according to authority /pose_integrator\u001b[0m\n",
      "\u001b[33m[ WARN] [1743813795.817721828]: TF_REPEATED_DATA ignoring data with redundant timestamp for frame odom (parent map) at time 1096.445000 according to authority /pose_integrator\u001b[0m\n",
      "\u001b[33m[ WARN] [1743813801.021149474]: TF_REPEATED_DATA ignoring data with redundant timestamp for frame odom (parent map) at time 1097.804000 according to authority /pose_integrator\u001b[0m\n",
      "\u001b[33m[ WARN] [1743813801.021206978]: TF_REPEATED_DATA ignoring data with redundant timestamp for frame odom (parent map) at time 1097.804000 according to authority /pose_integrator\u001b[0m\n",
      "\u001b[33m[ WARN] [1743813801.021251403]: TF_REPEATED_DATA ignoring data with redundant timestamp for frame odom (parent map) at time 1097.804000 according to authority /pose_integrator\u001b[0m\n",
      "\u001b[33m[ WARN] [1743813801.021295076]: TF_REPEATED_DATA ignoring data with redundant timestamp for frame odom (parent map) at time 1097.804000 according to authority /pose_integrator\u001b[0m\n",
      "\u001b[33m[ WARN] [1743813801.021334256]: TF_REPEATED_DATA ignoring data with redundant timestamp for frame odom (parent map) at time 1097.804000 according to authority /pose_integrator\u001b[0m\n",
      "\u001b[33m[ WARN] [1743813801.021374322]: TF_REPEATED_DATA ignoring data with redundant timestamp for frame odom (parent map) at time 1097.804000 according to authority /pose_integrator\u001b[0m\n",
      "\u001b[33m[ WARN] [1743813802.042044977]: TF_REPEATED_DATA ignoring data with redundant timestamp for frame odom (parent map) at time 1098.132000 according to authority /pose_integrator\u001b[0m\n",
      "\u001b[33m[ WARN] [1743813802.042115399]: TF_REPEATED_DATA ignoring data with redundant timestamp for frame odom (parent map) at time 1098.132000 according to authority /pose_integrator\u001b[0m\n",
      "\u001b[33m[ WARN] [1743813802.042161182]: TF_REPEATED_DATA ignoring data with redundant timestamp for frame odom (parent map) at time 1098.132000 according to authority /pose_integrator\u001b[0m\n",
      "\u001b[33m[ WARN] [1743813802.042204141]: TF_REPEATED_DATA ignoring data with redundant timestamp for frame odom (parent map) at time 1098.132000 according to authority /pose_integrator\u001b[0m\n",
      "\u001b[33m[ WARN] [1743813802.042237440]: TF_REPEATED_DATA ignoring data with redundant timestamp for frame odom (parent map) at time 1098.132000 according to authority /pose_integrator\u001b[0m\n",
      "\u001b[33m[ WARN] [1743813802.042263031]: TF_REPEATED_DATA ignoring data with redundant timestamp for frame odom (parent map) at time 1098.132000 according to authority /pose_integrator\u001b[0m\n",
      "\u001b[33m[ WARN] [1743813804.826745033]: TF_REPEATED_DATA ignoring data with redundant timestamp for frame odom (parent map) at time 1098.936000 according to authority /pose_integrator\u001b[0m\n",
      "\u001b[33m[ WARN] [1743813804.826788997]: TF_REPEATED_DATA ignoring data with redundant timestamp for frame odom (parent map) at time 1098.936000 according to authority /pose_integrator\u001b[0m\n",
      "\u001b[33m[ WARN] [1743813804.826828396]: TF_REPEATED_DATA ignoring data with redundant timestamp for frame odom (parent map) at time 1098.936000 according to authority /pose_integrator\u001b[0m\n",
      "\u001b[33m[ WARN] [1743813804.826866046]: TF_REPEATED_DATA ignoring data with redundant timestamp for frame odom (parent map) at time 1098.936000 according to authority /pose_integrator\u001b[0m\n",
      "\u001b[33m[ WARN] [1743813804.826907086]: TF_REPEATED_DATA ignoring data with redundant timestamp for frame odom (parent map) at time 1098.936000 according to authority /pose_integrator\u001b[0m\n",
      "\u001b[33m[ WARN] [1743813804.826952009]: TF_REPEATED_DATA ignoring data with redundant timestamp for frame odom (parent map) at time 1098.936000 according to authority /pose_integrator\u001b[0m\n",
      "\u001b[33m[ WARN] [1743813806.507605676]: TF_REPEATED_DATA ignoring data with redundant timestamp for frame odom (parent map) at time 1099.493000 according to authority /pose_integrator\u001b[0m\n",
      "\u001b[33m[ WARN] [1743813806.507670051]: TF_REPEATED_DATA ignoring data with redundant timestamp for frame odom (parent map) at time 1099.493000 according to authority /pose_integrator\u001b[0m\n",
      "\u001b[33m[ WARN] [1743813806.507716716]: TF_REPEATED_DATA ignoring data with redundant timestamp for frame odom (parent map) at time 1099.493000 according to authority /pose_integrator\u001b[0m\n",
      "\u001b[33m[ WARN] [1743813806.507774620]: TF_REPEATED_DATA ignoring data with redundant timestamp for frame odom (parent map) at time 1099.493000 according to authority /pose_integrator\u001b[0m\n",
      "\u001b[33m[ WARN] [1743813806.507817052]: TF_REPEATED_DATA ignoring data with redundant timestamp for frame odom (parent map) at time 1099.493000 according to authority /pose_integrator\u001b[0m\n",
      "\u001b[33m[ WARN] [1743813806.507867108]: TF_REPEATED_DATA ignoring data with redundant timestamp for frame odom (parent map) at time 1099.493000 according to authority /pose_integrator\u001b[0m\n",
      "\u001b[33m[ WARN] [1743813810.681892842]: TF_REPEATED_DATA ignoring data with redundant timestamp for frame odom (parent map) at time 1100.730000 according to authority /pose_integrator\u001b[0m\n",
      "\u001b[33m[ WARN] [1743813810.681957873]: TF_REPEATED_DATA ignoring data with redundant timestamp for frame odom (parent map) at time 1100.730000 according to authority /pose_integrator\u001b[0m\n",
      "\u001b[33m[ WARN] [1743813810.682007474]: TF_REPEATED_DATA ignoring data with redundant timestamp for frame odom (parent map) at time 1100.730000 according to authority /pose_integrator\u001b[0m\n",
      "\u001b[33m[ WARN] [1743813810.682057682]: TF_REPEATED_DATA ignoring data with redundant timestamp for frame odom (parent map) at time 1100.730000 according to authority /pose_integrator\u001b[0m\n",
      "\u001b[33m[ WARN] [1743813810.682096715]: TF_REPEATED_DATA ignoring data with redundant timestamp for frame odom (parent map) at time 1100.730000 according to authority /pose_integrator\u001b[0m\n",
      "\u001b[33m[ WARN] [1743813810.682135068]: TF_REPEATED_DATA ignoring data with redundant timestamp for frame odom (parent map) at time 1100.730000 according to authority /pose_integrator\u001b[0m\n"
     ]
    },
    {
     "name": "stderr",
     "output_type": "stream",
     "text": [
      "\u001b[33m[ WARN] [1743813811.377140351]: TF_REPEATED_DATA ignoring data with redundant timestamp for frame odom (parent map) at time 1100.939000 according to authority /pose_integrator\u001b[0m\n",
      "\u001b[33m[ WARN] [1743813811.377203942]: TF_REPEATED_DATA ignoring data with redundant timestamp for frame odom (parent map) at time 1100.939000 according to authority /pose_integrator\u001b[0m\n",
      "\u001b[33m[ WARN] [1743813811.377234937]: TF_REPEATED_DATA ignoring data with redundant timestamp for frame odom (parent map) at time 1100.939000 according to authority /pose_integrator\u001b[0m\n",
      "\u001b[33m[ WARN] [1743813811.377267033]: TF_REPEATED_DATA ignoring data with redundant timestamp for frame odom (parent map) at time 1100.939000 according to authority /pose_integrator\u001b[0m\n",
      "\u001b[33m[ WARN] [1743813811.377306283]: TF_REPEATED_DATA ignoring data with redundant timestamp for frame odom (parent map) at time 1100.939000 according to authority /pose_integrator\u001b[0m\n",
      "\u001b[33m[ WARN] [1743813811.377346183]: TF_REPEATED_DATA ignoring data with redundant timestamp for frame odom (parent map) at time 1100.939000 according to authority /pose_integrator\u001b[0m\n",
      "\u001b[33m[ WARN] [1743813813.267815971]: TF_REPEATED_DATA ignoring data with redundant timestamp for frame odom (parent map) at time 1101.498000 according to authority /pose_integrator\u001b[0m\n",
      "\u001b[33m[ WARN] [1743813813.267863602]: TF_REPEATED_DATA ignoring data with redundant timestamp for frame odom (parent map) at time 1101.498000 according to authority /pose_integrator\u001b[0m\n",
      "\u001b[33m[ WARN] [1743813813.267896604]: TF_REPEATED_DATA ignoring data with redundant timestamp for frame odom (parent map) at time 1101.498000 according to authority /pose_integrator\u001b[0m\n",
      "\u001b[33m[ WARN] [1743813813.267927982]: TF_REPEATED_DATA ignoring data with redundant timestamp for frame odom (parent map) at time 1101.498000 according to authority /pose_integrator\u001b[0m\n",
      "\u001b[33m[ WARN] [1743813813.267955828]: TF_REPEATED_DATA ignoring data with redundant timestamp for frame odom (parent map) at time 1101.498000 according to authority /pose_integrator\u001b[0m\n",
      "\u001b[33m[ WARN] [1743813813.267987678]: TF_REPEATED_DATA ignoring data with redundant timestamp for frame odom (parent map) at time 1101.498000 according to authority /pose_integrator\u001b[0m\n",
      "\u001b[33m[ WARN] [1743813814.135682885]: TF_REPEATED_DATA ignoring data with redundant timestamp for frame odom (parent map) at time 1101.783000 according to authority /pose_integrator\u001b[0m\n",
      "\u001b[33m[ WARN] [1743813814.135728063]: TF_REPEATED_DATA ignoring data with redundant timestamp for frame odom (parent map) at time 1101.783000 according to authority /pose_integrator\u001b[0m\n",
      "\u001b[33m[ WARN] [1743813814.135758118]: TF_REPEATED_DATA ignoring data with redundant timestamp for frame odom (parent map) at time 1101.783000 according to authority /pose_integrator\u001b[0m\n",
      "\u001b[33m[ WARN] [1743813814.135787556]: TF_REPEATED_DATA ignoring data with redundant timestamp for frame odom (parent map) at time 1101.783000 according to authority /pose_integrator\u001b[0m\n",
      "\u001b[33m[ WARN] [1743813814.135815953]: TF_REPEATED_DATA ignoring data with redundant timestamp for frame odom (parent map) at time 1101.783000 according to authority /pose_integrator\u001b[0m\n",
      "\u001b[33m[ WARN] [1743813814.135855872]: TF_REPEATED_DATA ignoring data with redundant timestamp for frame odom (parent map) at time 1101.783000 according to authority /pose_integrator\u001b[0m\n",
      "\u001b[33m[ WARN] [1743813814.795952677]: TF_REPEATED_DATA ignoring data with redundant timestamp for frame odom (parent map) at time 1101.982000 according to authority /pose_integrator\u001b[0m\n",
      "\u001b[33m[ WARN] [1743813814.796011926]: TF_REPEATED_DATA ignoring data with redundant timestamp for frame odom (parent map) at time 1101.982000 according to authority /pose_integrator\u001b[0m\n",
      "\u001b[33m[ WARN] [1743813814.796053018]: TF_REPEATED_DATA ignoring data with redundant timestamp for frame odom (parent map) at time 1101.982000 according to authority /pose_integrator\u001b[0m\n",
      "\u001b[33m[ WARN] [1743813814.796100013]: TF_REPEATED_DATA ignoring data with redundant timestamp for frame odom (parent map) at time 1101.982000 according to authority /pose_integrator\u001b[0m\n",
      "\u001b[33m[ WARN] [1743813814.796139787]: TF_REPEATED_DATA ignoring data with redundant timestamp for frame odom (parent map) at time 1101.982000 according to authority /pose_integrator\u001b[0m\n",
      "\u001b[33m[ WARN] [1743813814.796195998]: TF_REPEATED_DATA ignoring data with redundant timestamp for frame odom (parent map) at time 1101.982000 according to authority /pose_integrator\u001b[0m\n",
      "\u001b[33m[ WARN] [1743813815.711251825]: TF_REPEATED_DATA ignoring data with redundant timestamp for frame odom (parent map) at time 1102.273000 according to authority /pose_integrator\u001b[0m\n",
      "\u001b[33m[ WARN] [1743813815.711306829]: TF_REPEATED_DATA ignoring data with redundant timestamp for frame odom (parent map) at time 1102.273000 according to authority /pose_integrator\u001b[0m\n",
      "\u001b[33m[ WARN] [1743813815.711355153]: TF_REPEATED_DATA ignoring data with redundant timestamp for frame odom (parent map) at time 1102.273000 according to authority /pose_integrator\u001b[0m\n",
      "\u001b[33m[ WARN] [1743813815.711391720]: TF_REPEATED_DATA ignoring data with redundant timestamp for frame odom (parent map) at time 1102.273000 according to authority /pose_integrator\u001b[0m\n",
      "\u001b[33m[ WARN] [1743813815.711433415]: TF_REPEATED_DATA ignoring data with redundant timestamp for frame odom (parent map) at time 1102.273000 according to authority /pose_integrator\u001b[0m\n",
      "\u001b[33m[ WARN] [1743813815.711477096]: TF_REPEATED_DATA ignoring data with redundant timestamp for frame odom (parent map) at time 1102.273000 according to authority /pose_integrator\u001b[0m\n",
      "\u001b[33m[ WARN] [1743813818.581046076]: TF_REPEATED_DATA ignoring data with redundant timestamp for frame odom (parent map) at time 1103.116000 according to authority /pose_integrator\u001b[0m\n",
      "\u001b[33m[ WARN] [1743813818.581104026]: TF_REPEATED_DATA ignoring data with redundant timestamp for frame odom (parent map) at time 1103.116000 according to authority /pose_integrator\u001b[0m\n",
      "\u001b[33m[ WARN] [1743813818.581141044]: TF_REPEATED_DATA ignoring data with redundant timestamp for frame odom (parent map) at time 1103.116000 according to authority /pose_integrator\u001b[0m\n",
      "\u001b[33m[ WARN] [1743813818.581167397]: TF_REPEATED_DATA ignoring data with redundant timestamp for frame odom (parent map) at time 1103.116000 according to authority /pose_integrator\u001b[0m\n",
      "\u001b[33m[ WARN] [1743813818.581196327]: TF_REPEATED_DATA ignoring data with redundant timestamp for frame odom (parent map) at time 1103.116000 according to authority /pose_integrator\u001b[0m\n",
      "\u001b[33m[ WARN] [1743813818.581230603]: TF_REPEATED_DATA ignoring data with redundant timestamp for frame odom (parent map) at time 1103.116000 according to authority /pose_integrator\u001b[0m\n",
      "\u001b[33m[ WARN] [1743813826.673741321]: TF_REPEATED_DATA ignoring data with redundant timestamp for frame odom (parent map) at time 1105.438000 according to authority /pose_integrator\u001b[0m\n",
      "\u001b[33m[ WARN] [1743813826.673786429]: TF_REPEATED_DATA ignoring data with redundant timestamp for frame odom (parent map) at time 1105.438000 according to authority /pose_integrator\u001b[0m\n",
      "\u001b[33m[ WARN] [1743813826.673809599]: TF_REPEATED_DATA ignoring data with redundant timestamp for frame odom (parent map) at time 1105.438000 according to authority /pose_integrator\u001b[0m\n",
      "\u001b[33m[ WARN] [1743813826.673830401]: TF_REPEATED_DATA ignoring data with redundant timestamp for frame odom (parent map) at time 1105.438000 according to authority /pose_integrator\u001b[0m\n",
      "\u001b[33m[ WARN] [1743813826.673850267]: TF_REPEATED_DATA ignoring data with redundant timestamp for frame odom (parent map) at time 1105.438000 according to authority /pose_integrator\u001b[0m\n",
      "\u001b[33m[ WARN] [1743813826.673870529]: TF_REPEATED_DATA ignoring data with redundant timestamp for frame odom (parent map) at time 1105.438000 according to authority /pose_integrator\u001b[0m\n",
      "\u001b[33m[ WARN] [1743813827.716911539]: TF_REPEATED_DATA ignoring data with redundant timestamp for frame odom (parent map) at time 1105.766000 according to authority /pose_integrator\u001b[0m\n",
      "\u001b[33m[ WARN] [1743813827.716983334]: TF_REPEATED_DATA ignoring data with redundant timestamp for frame odom (parent map) at time 1105.766000 according to authority /pose_integrator\u001b[0m\n",
      "\u001b[33m[ WARN] [1743813827.717025954]: TF_REPEATED_DATA ignoring data with redundant timestamp for frame odom (parent map) at time 1105.766000 according to authority /pose_integrator\u001b[0m\n",
      "\u001b[33m[ WARN] [1743813827.717061019]: TF_REPEATED_DATA ignoring data with redundant timestamp for frame odom (parent map) at time 1105.766000 according to authority /pose_integrator\u001b[0m\n",
      "\u001b[33m[ WARN] [1743813827.717100796]: TF_REPEATED_DATA ignoring data with redundant timestamp for frame odom (parent map) at time 1105.766000 according to authority /pose_integrator\u001b[0m\n",
      "\u001b[33m[ WARN] [1743813827.717134335]: TF_REPEATED_DATA ignoring data with redundant timestamp for frame odom (parent map) at time 1105.766000 according to authority /pose_integrator\u001b[0m\n"
     ]
    },
    {
     "name": "stderr",
     "output_type": "stream",
     "text": [
      "\u001b[33m[ WARN] [1743813828.274828411]: TF_REPEATED_DATA ignoring data with redundant timestamp for frame odom (parent map) at time 1105.943000 according to authority /pose_integrator\u001b[0m\n",
      "\u001b[33m[ WARN] [1743813828.274883093]: TF_REPEATED_DATA ignoring data with redundant timestamp for frame odom (parent map) at time 1105.943000 according to authority /pose_integrator\u001b[0m\n",
      "\u001b[33m[ WARN] [1743813828.274914879]: TF_REPEATED_DATA ignoring data with redundant timestamp for frame odom (parent map) at time 1105.943000 according to authority /pose_integrator\u001b[0m\n",
      "\u001b[33m[ WARN] [1743813828.274940917]: TF_REPEATED_DATA ignoring data with redundant timestamp for frame odom (parent map) at time 1105.943000 according to authority /pose_integrator\u001b[0m\n",
      "\u001b[33m[ WARN] [1743813828.274973263]: TF_REPEATED_DATA ignoring data with redundant timestamp for frame odom (parent map) at time 1105.943000 according to authority /pose_integrator\u001b[0m\n",
      "\u001b[33m[ WARN] [1743813828.274999665]: TF_REPEATED_DATA ignoring data with redundant timestamp for frame odom (parent map) at time 1105.943000 according to authority /pose_integrator\u001b[0m\n",
      "\u001b[33m[ WARN] [1743813828.467193317]: TF_REPEATED_DATA ignoring data with redundant timestamp for frame odom (parent map) at time 1106.012000 according to authority /pose_integrator\u001b[0m\n",
      "\u001b[33m[ WARN] [1743813828.467271502]: TF_REPEATED_DATA ignoring data with redundant timestamp for frame odom (parent map) at time 1106.012000 according to authority /pose_integrator\u001b[0m\n",
      "\u001b[33m[ WARN] [1743813828.467314636]: TF_REPEATED_DATA ignoring data with redundant timestamp for frame odom (parent map) at time 1106.012000 according to authority /pose_integrator\u001b[0m\n",
      "\u001b[33m[ WARN] [1743813828.467352626]: TF_REPEATED_DATA ignoring data with redundant timestamp for frame odom (parent map) at time 1106.012000 according to authority /pose_integrator\u001b[0m\n",
      "\u001b[33m[ WARN] [1743813828.467388067]: TF_REPEATED_DATA ignoring data with redundant timestamp for frame odom (parent map) at time 1106.012000 according to authority /pose_integrator\u001b[0m\n",
      "\u001b[33m[ WARN] [1743813828.467435636]: TF_REPEATED_DATA ignoring data with redundant timestamp for frame odom (parent map) at time 1106.012000 according to authority /pose_integrator\u001b[0m\n",
      "\u001b[33m[ WARN] [1743813829.978541620]: TF_REPEATED_DATA ignoring data with redundant timestamp for frame odom (parent map) at time 1106.509000 according to authority /pose_integrator\u001b[0m\n",
      "\u001b[33m[ WARN] [1743813829.978598948]: TF_REPEATED_DATA ignoring data with redundant timestamp for frame odom (parent map) at time 1106.509000 according to authority /pose_integrator\u001b[0m\n",
      "\u001b[33m[ WARN] [1743813829.978643360]: TF_REPEATED_DATA ignoring data with redundant timestamp for frame odom (parent map) at time 1106.509000 according to authority /pose_integrator\u001b[0m\n",
      "\u001b[33m[ WARN] [1743813829.978679864]: TF_REPEATED_DATA ignoring data with redundant timestamp for frame odom (parent map) at time 1106.509000 according to authority /pose_integrator\u001b[0m\n",
      "\u001b[33m[ WARN] [1743813829.978706015]: TF_REPEATED_DATA ignoring data with redundant timestamp for frame odom (parent map) at time 1106.509000 according to authority /pose_integrator\u001b[0m\n",
      "\u001b[33m[ WARN] [1743813829.978731348]: TF_REPEATED_DATA ignoring data with redundant timestamp for frame odom (parent map) at time 1106.509000 according to authority /pose_integrator\u001b[0m\n",
      "\u001b[33m[ WARN] [1743813830.286761193]: TF_REPEATED_DATA ignoring data with redundant timestamp for frame odom (parent map) at time 1106.587000 according to authority /pose_integrator\u001b[0m\n",
      "\u001b[33m[ WARN] [1743813830.286805991]: TF_REPEATED_DATA ignoring data with redundant timestamp for frame odom (parent map) at time 1106.587000 according to authority /pose_integrator\u001b[0m\n",
      "\u001b[33m[ WARN] [1743813830.286844872]: TF_REPEATED_DATA ignoring data with redundant timestamp for frame odom (parent map) at time 1106.587000 according to authority /pose_integrator\u001b[0m\n",
      "\u001b[33m[ WARN] [1743813830.286887464]: TF_REPEATED_DATA ignoring data with redundant timestamp for frame odom (parent map) at time 1106.587000 according to authority /pose_integrator\u001b[0m\n",
      "\u001b[33m[ WARN] [1743813830.286921608]: TF_REPEATED_DATA ignoring data with redundant timestamp for frame odom (parent map) at time 1106.587000 according to authority /pose_integrator\u001b[0m\n",
      "\u001b[33m[ WARN] [1743813830.286971333]: TF_REPEATED_DATA ignoring data with redundant timestamp for frame odom (parent map) at time 1106.587000 according to authority /pose_integrator\u001b[0m\n",
      "\u001b[33m[ WARN] [1743813830.648981272]: TF_REPEATED_DATA ignoring data with redundant timestamp for frame odom (parent map) at time 1106.717000 according to authority /pose_integrator\u001b[0m\n",
      "\u001b[33m[ WARN] [1743813830.649027094]: TF_REPEATED_DATA ignoring data with redundant timestamp for frame odom (parent map) at time 1106.717000 according to authority /pose_integrator\u001b[0m\n",
      "\u001b[33m[ WARN] [1743813830.649055229]: TF_REPEATED_DATA ignoring data with redundant timestamp for frame odom (parent map) at time 1106.717000 according to authority /pose_integrator\u001b[0m\n",
      "\u001b[33m[ WARN] [1743813830.649081567]: TF_REPEATED_DATA ignoring data with redundant timestamp for frame odom (parent map) at time 1106.717000 according to authority /pose_integrator\u001b[0m\n",
      "\u001b[33m[ WARN] [1743813830.649106352]: TF_REPEATED_DATA ignoring data with redundant timestamp for frame odom (parent map) at time 1106.717000 according to authority /pose_integrator\u001b[0m\n",
      "\u001b[33m[ WARN] [1743813830.649129687]: TF_REPEATED_DATA ignoring data with redundant timestamp for frame odom (parent map) at time 1106.717000 according to authority /pose_integrator\u001b[0m\n",
      "\u001b[33m[ WARN] [1743813831.389874075]: TF_REPEATED_DATA ignoring data with redundant timestamp for frame odom (parent map) at time 1106.956000 according to authority /pose_integrator\u001b[0m\n",
      "\u001b[33m[ WARN] [1743813831.389914521]: TF_REPEATED_DATA ignoring data with redundant timestamp for frame odom (parent map) at time 1106.956000 according to authority /pose_integrator\u001b[0m\n",
      "\u001b[33m[ WARN] [1743813831.389940274]: TF_REPEATED_DATA ignoring data with redundant timestamp for frame odom (parent map) at time 1106.956000 according to authority /pose_integrator\u001b[0m\n",
      "\u001b[33m[ WARN] [1743813831.389964576]: TF_REPEATED_DATA ignoring data with redundant timestamp for frame odom (parent map) at time 1106.956000 according to authority /pose_integrator\u001b[0m\n",
      "\u001b[33m[ WARN] [1743813831.389988160]: TF_REPEATED_DATA ignoring data with redundant timestamp for frame odom (parent map) at time 1106.956000 according to authority /pose_integrator\u001b[0m\n",
      "\u001b[33m[ WARN] [1743813831.390012358]: TF_REPEATED_DATA ignoring data with redundant timestamp for frame odom (parent map) at time 1106.956000 according to authority /pose_integrator\u001b[0m\n",
      "\u001b[33m[ WARN] [1743813831.810458765]: TF_REPEATED_DATA ignoring data with redundant timestamp for frame odom (parent map) at time 1107.110000 according to authority /pose_integrator\u001b[0m\n",
      "\u001b[33m[ WARN] [1743813831.810512273]: TF_REPEATED_DATA ignoring data with redundant timestamp for frame odom (parent map) at time 1107.110000 according to authority /pose_integrator\u001b[0m\n",
      "\u001b[33m[ WARN] [1743813831.810543222]: TF_REPEATED_DATA ignoring data with redundant timestamp for frame odom (parent map) at time 1107.110000 according to authority /pose_integrator\u001b[0m\n",
      "\u001b[33m[ WARN] [1743813831.810571422]: TF_REPEATED_DATA ignoring data with redundant timestamp for frame odom (parent map) at time 1107.110000 according to authority /pose_integrator\u001b[0m\n",
      "\u001b[33m[ WARN] [1743813831.810614205]: TF_REPEATED_DATA ignoring data with redundant timestamp for frame odom (parent map) at time 1107.110000 according to authority /pose_integrator\u001b[0m\n",
      "\u001b[33m[ WARN] [1743813831.810660114]: TF_REPEATED_DATA ignoring data with redundant timestamp for frame odom (parent map) at time 1107.110000 according to authority /pose_integrator\u001b[0m\n",
      "\u001b[33m[ WARN] [1743813833.834831720]: TF_REPEATED_DATA ignoring data with redundant timestamp for frame odom (parent map) at time 1107.765000 according to authority /pose_integrator\u001b[0m\n",
      "\u001b[33m[ WARN] [1743813833.834903900]: TF_REPEATED_DATA ignoring data with redundant timestamp for frame odom (parent map) at time 1107.765000 according to authority /pose_integrator\u001b[0m\n",
      "\u001b[33m[ WARN] [1743813833.834957589]: TF_REPEATED_DATA ignoring data with redundant timestamp for frame odom (parent map) at time 1107.765000 according to authority /pose_integrator\u001b[0m\n",
      "\u001b[33m[ WARN] [1743813833.835010718]: TF_REPEATED_DATA ignoring data with redundant timestamp for frame odom (parent map) at time 1107.765000 according to authority /pose_integrator\u001b[0m\n",
      "\u001b[33m[ WARN] [1743813833.835066669]: TF_REPEATED_DATA ignoring data with redundant timestamp for frame odom (parent map) at time 1107.765000 according to authority /pose_integrator\u001b[0m\n",
      "\u001b[33m[ WARN] [1743813833.835121541]: TF_REPEATED_DATA ignoring data with redundant timestamp for frame odom (parent map) at time 1107.765000 according to authority /pose_integrator\u001b[0m\n"
     ]
    },
    {
     "name": "stderr",
     "output_type": "stream",
     "text": [
      "\u001b[33m[ WARN] [1743813839.272726228]: TF_REPEATED_DATA ignoring data with redundant timestamp for frame odom (parent map) at time 1109.322000 according to authority /pose_integrator\u001b[0m\n",
      "\u001b[33m[ WARN] [1743813839.272792456]: TF_REPEATED_DATA ignoring data with redundant timestamp for frame odom (parent map) at time 1109.322000 according to authority /pose_integrator\u001b[0m\n",
      "\u001b[33m[ WARN] [1743813839.272846738]: TF_REPEATED_DATA ignoring data with redundant timestamp for frame odom (parent map) at time 1109.322000 according to authority /pose_integrator\u001b[0m\n",
      "\u001b[33m[ WARN] [1743813839.272881766]: TF_REPEATED_DATA ignoring data with redundant timestamp for frame odom (parent map) at time 1109.322000 according to authority /pose_integrator\u001b[0m\n",
      "\u001b[33m[ WARN] [1743813839.272910800]: TF_REPEATED_DATA ignoring data with redundant timestamp for frame odom (parent map) at time 1109.322000 according to authority /pose_integrator\u001b[0m\n",
      "\u001b[33m[ WARN] [1743813839.272938978]: TF_REPEATED_DATA ignoring data with redundant timestamp for frame odom (parent map) at time 1109.322000 according to authority /pose_integrator\u001b[0m\n",
      "\u001b[33m[ WARN] [1743813839.940881141]: TF_REPEATED_DATA ignoring data with redundant timestamp for frame odom (parent map) at time 1109.520000 according to authority /pose_integrator\u001b[0m\n",
      "\u001b[33m[ WARN] [1743813839.940947733]: TF_REPEATED_DATA ignoring data with redundant timestamp for frame odom (parent map) at time 1109.520000 according to authority /pose_integrator\u001b[0m\n",
      "\u001b[33m[ WARN] [1743813839.940988708]: TF_REPEATED_DATA ignoring data with redundant timestamp for frame odom (parent map) at time 1109.520000 according to authority /pose_integrator\u001b[0m\n",
      "\u001b[33m[ WARN] [1743813839.941026855]: TF_REPEATED_DATA ignoring data with redundant timestamp for frame odom (parent map) at time 1109.520000 according to authority /pose_integrator\u001b[0m\n",
      "\u001b[33m[ WARN] [1743813839.941073961]: TF_REPEATED_DATA ignoring data with redundant timestamp for frame odom (parent map) at time 1109.520000 according to authority /pose_integrator\u001b[0m\n",
      "\u001b[33m[ WARN] [1743813839.941119161]: TF_REPEATED_DATA ignoring data with redundant timestamp for frame odom (parent map) at time 1109.520000 according to authority /pose_integrator\u001b[0m\n",
      "\u001b[33m[ WARN] [1743813841.257801226]: TF_REPEATED_DATA ignoring data with redundant timestamp for frame odom (parent map) at time 1110.001000 according to authority /pose_integrator\u001b[0m\n",
      "\u001b[33m[ WARN] [1743813841.257869360]: TF_REPEATED_DATA ignoring data with redundant timestamp for frame odom (parent map) at time 1110.001000 according to authority /pose_integrator\u001b[0m\n",
      "\u001b[33m[ WARN] [1743813841.257906159]: TF_REPEATED_DATA ignoring data with redundant timestamp for frame odom (parent map) at time 1110.001000 according to authority /pose_integrator\u001b[0m\n",
      "\u001b[33m[ WARN] [1743813841.257939107]: TF_REPEATED_DATA ignoring data with redundant timestamp for frame odom (parent map) at time 1110.001000 according to authority /pose_integrator\u001b[0m\n",
      "\u001b[33m[ WARN] [1743813841.257974507]: TF_REPEATED_DATA ignoring data with redundant timestamp for frame odom (parent map) at time 1110.001000 according to authority /pose_integrator\u001b[0m\n",
      "\u001b[33m[ WARN] [1743813841.258008541]: TF_REPEATED_DATA ignoring data with redundant timestamp for frame odom (parent map) at time 1110.001000 according to authority /pose_integrator\u001b[0m\n",
      "\u001b[33m[ WARN] [1743813842.650572723]: TF_REPEATED_DATA ignoring data with redundant timestamp for frame odom (parent map) at time 1110.414000 according to authority /pose_integrator\u001b[0m\n",
      "\u001b[33m[ WARN] [1743813842.650626230]: TF_REPEATED_DATA ignoring data with redundant timestamp for frame odom (parent map) at time 1110.414000 according to authority /pose_integrator\u001b[0m\n",
      "\u001b[33m[ WARN] [1743813842.650667545]: TF_REPEATED_DATA ignoring data with redundant timestamp for frame odom (parent map) at time 1110.414000 according to authority /pose_integrator\u001b[0m\n",
      "\u001b[33m[ WARN] [1743813842.650710101]: TF_REPEATED_DATA ignoring data with redundant timestamp for frame odom (parent map) at time 1110.414000 according to authority /pose_integrator\u001b[0m\n",
      "\u001b[33m[ WARN] [1743813842.650743685]: TF_REPEATED_DATA ignoring data with redundant timestamp for frame odom (parent map) at time 1110.414000 according to authority /pose_integrator\u001b[0m\n",
      "\u001b[33m[ WARN] [1743813842.650780913]: TF_REPEATED_DATA ignoring data with redundant timestamp for frame odom (parent map) at time 1110.414000 according to authority /pose_integrator\u001b[0m\n",
      "\u001b[33m[ WARN] [1743813843.230391629]: TF_REPEATED_DATA ignoring data with redundant timestamp for frame odom (parent map) at time 1110.590000 according to authority /pose_integrator\u001b[0m\n",
      "\u001b[33m[ WARN] [1743813843.231841011]: TF_REPEATED_DATA ignoring data with redundant timestamp for frame odom (parent map) at time 1110.590000 according to authority /pose_integrator\u001b[0m\n",
      "\u001b[33m[ WARN] [1743813843.231946375]: TF_REPEATED_DATA ignoring data with redundant timestamp for frame odom (parent map) at time 1110.590000 according to authority /pose_integrator\u001b[0m\n",
      "\u001b[33m[ WARN] [1743813843.231992889]: TF_REPEATED_DATA ignoring data with redundant timestamp for frame odom (parent map) at time 1110.590000 according to authority /pose_integrator\u001b[0m\n",
      "\u001b[33m[ WARN] [1743813843.232047685]: TF_REPEATED_DATA ignoring data with redundant timestamp for frame odom (parent map) at time 1110.590000 according to authority /pose_integrator\u001b[0m\n",
      "\u001b[33m[ WARN] [1743813843.232087102]: TF_REPEATED_DATA ignoring data with redundant timestamp for frame odom (parent map) at time 1110.590000 according to authority /pose_integrator\u001b[0m\n",
      "\u001b[33m[ WARN] [1743813844.472351266]: TF_REPEATED_DATA ignoring data with redundant timestamp for frame odom (parent map) at time 1110.981000 according to authority /pose_integrator\u001b[0m\n",
      "\u001b[33m[ WARN] [1743813844.472404615]: TF_REPEATED_DATA ignoring data with redundant timestamp for frame odom (parent map) at time 1110.981000 according to authority /pose_integrator\u001b[0m\n",
      "\u001b[33m[ WARN] [1743813844.472448373]: TF_REPEATED_DATA ignoring data with redundant timestamp for frame odom (parent map) at time 1110.981000 according to authority /pose_integrator\u001b[0m\n",
      "\u001b[33m[ WARN] [1743813844.472483540]: TF_REPEATED_DATA ignoring data with redundant timestamp for frame odom (parent map) at time 1110.981000 according to authority /pose_integrator\u001b[0m\n",
      "\u001b[33m[ WARN] [1743813844.472514947]: TF_REPEATED_DATA ignoring data with redundant timestamp for frame odom (parent map) at time 1110.981000 according to authority /pose_integrator\u001b[0m\n",
      "\u001b[33m[ WARN] [1743813844.472546443]: TF_REPEATED_DATA ignoring data with redundant timestamp for frame odom (parent map) at time 1110.981000 according to authority /pose_integrator\u001b[0m\n",
      "\u001b[33m[ WARN] [1743813844.999338221]: TF_REPEATED_DATA ignoring data with redundant timestamp for frame odom (parent map) at time 1111.111000 according to authority /pose_integrator\u001b[0m\n",
      "\u001b[33m[ WARN] [1743813844.999401034]: TF_REPEATED_DATA ignoring data with redundant timestamp for frame odom (parent map) at time 1111.111000 according to authority /pose_integrator\u001b[0m\n",
      "\u001b[33m[ WARN] [1743813844.999445183]: TF_REPEATED_DATA ignoring data with redundant timestamp for frame odom (parent map) at time 1111.111000 according to authority /pose_integrator\u001b[0m\n",
      "\u001b[33m[ WARN] [1743813844.999481929]: TF_REPEATED_DATA ignoring data with redundant timestamp for frame odom (parent map) at time 1111.111000 according to authority /pose_integrator\u001b[0m\n",
      "\u001b[33m[ WARN] [1743813844.999519279]: TF_REPEATED_DATA ignoring data with redundant timestamp for frame odom (parent map) at time 1111.111000 according to authority /pose_integrator\u001b[0m\n",
      "\u001b[33m[ WARN] [1743813844.999565404]: TF_REPEATED_DATA ignoring data with redundant timestamp for frame odom (parent map) at time 1111.111000 according to authority /pose_integrator\u001b[0m\n",
      "\u001b[33m[ WARN] [1743813848.584170502]: TF_REPEATED_DATA ignoring data with redundant timestamp for frame odom (parent map) at time 1112.055000 according to authority /pose_integrator\u001b[0m\n",
      "\u001b[33m[ WARN] [1743813848.584213073]: TF_REPEATED_DATA ignoring data with redundant timestamp for frame odom (parent map) at time 1112.055000 according to authority /pose_integrator\u001b[0m\n",
      "\u001b[33m[ WARN] [1743813848.584245578]: TF_REPEATED_DATA ignoring data with redundant timestamp for frame odom (parent map) at time 1112.055000 according to authority /pose_integrator\u001b[0m\n",
      "\u001b[33m[ WARN] [1743813848.584274874]: TF_REPEATED_DATA ignoring data with redundant timestamp for frame odom (parent map) at time 1112.055000 according to authority /pose_integrator\u001b[0m\n",
      "\u001b[33m[ WARN] [1743813848.584323065]: TF_REPEATED_DATA ignoring data with redundant timestamp for frame odom (parent map) at time 1112.055000 according to authority /pose_integrator\u001b[0m\n",
      "\u001b[33m[ WARN] [1743813848.584361278]: TF_REPEATED_DATA ignoring data with redundant timestamp for frame odom (parent map) at time 1112.055000 according to authority /pose_integrator\u001b[0m\n"
     ]
    },
    {
     "name": "stderr",
     "output_type": "stream",
     "text": [
      "\u001b[33m[ WARN] [1743813861.423117724]: TF_REPEATED_DATA ignoring data with redundant timestamp for frame odom (parent map) at time 1115.588000 according to authority /pose_integrator\u001b[0m\n",
      "\u001b[33m[ WARN] [1743813861.423209173]: TF_REPEATED_DATA ignoring data with redundant timestamp for frame odom (parent map) at time 1115.588000 according to authority /pose_integrator\u001b[0m\n",
      "\u001b[33m[ WARN] [1743813861.423265760]: TF_REPEATED_DATA ignoring data with redundant timestamp for frame odom (parent map) at time 1115.588000 according to authority /pose_integrator\u001b[0m\n",
      "\u001b[33m[ WARN] [1743813861.423311954]: TF_REPEATED_DATA ignoring data with redundant timestamp for frame odom (parent map) at time 1115.588000 according to authority /pose_integrator\u001b[0m\n",
      "\u001b[33m[ WARN] [1743813861.423373362]: TF_REPEATED_DATA ignoring data with redundant timestamp for frame odom (parent map) at time 1115.588000 according to authority /pose_integrator\u001b[0m\n",
      "\u001b[33m[ WARN] [1743813861.423427843]: TF_REPEATED_DATA ignoring data with redundant timestamp for frame odom (parent map) at time 1115.588000 according to authority /pose_integrator\u001b[0m\n",
      "\u001b[33m[ WARN] [1743813863.124797944]: TF_REPEATED_DATA ignoring data with redundant timestamp for frame odom (parent map) at time 1116.052000 according to authority /pose_integrator\u001b[0m\n",
      "\u001b[33m[ WARN] [1743813863.124854727]: TF_REPEATED_DATA ignoring data with redundant timestamp for frame odom (parent map) at time 1116.052000 according to authority /pose_integrator\u001b[0m\n",
      "\u001b[33m[ WARN] [1743813863.124895758]: TF_REPEATED_DATA ignoring data with redundant timestamp for frame odom (parent map) at time 1116.052000 according to authority /pose_integrator\u001b[0m\n",
      "\u001b[33m[ WARN] [1743813863.124931856]: TF_REPEATED_DATA ignoring data with redundant timestamp for frame odom (parent map) at time 1116.052000 according to authority /pose_integrator\u001b[0m\n",
      "\u001b[33m[ WARN] [1743813863.124969261]: TF_REPEATED_DATA ignoring data with redundant timestamp for frame odom (parent map) at time 1116.052000 according to authority /pose_integrator\u001b[0m\n",
      "\u001b[33m[ WARN] [1743813863.125011298]: TF_REPEATED_DATA ignoring data with redundant timestamp for frame odom (parent map) at time 1116.052000 according to authority /pose_integrator\u001b[0m\n"
     ]
    }
   ],
   "source": [
    "plt.imshow(mask*corrected['z'],cmap='prism')"
   ]
  },
  {
   "cell_type": "code",
   "execution_count": null,
   "id": "3a445e6a",
   "metadata": {},
   "outputs": [],
   "source": []
  },
  {
   "cell_type": "code",
   "execution_count": null,
   "id": "1a5a5411",
   "metadata": {},
   "outputs": [],
   "source": []
  },
  {
   "cell_type": "code",
   "execution_count": 1,
   "id": "b66cdaed",
   "metadata": {},
   "outputs": [
    {
     "name": "stderr",
     "output_type": "stream",
     "text": [
      "/home/roboworks/.local/lib/python3.8/site-packages/pandas/core/computation/expressions.py:20: UserWarning: Pandas requires version '2.7.3' or newer of 'numexpr' (version '2.7.1' currently installed).\n",
      "  from pandas.core.computation.check import NUMEXPR_INSTALLED\n"
     ]
    }
   ],
   "source": [
    "from lugg_utils import *"
   ]
  },
  {
   "cell_type": "code",
   "execution_count": 7,
   "id": "7289074a",
   "metadata": {},
   "outputs": [],
   "source": [
    "import matplotlib.pyplot as plt\n",
    "import numpy as np\n",
    "from mpl_toolkits.mplot3d import Axes3D\n",
    "import seaborn as sns\n",
    "import pandas as pd\n",
    "from sklearn.decomposition import PCA\n",
    "import tf"
   ]
  },
  {
   "cell_type": "code",
   "execution_count": null,
   "id": "3b3068fa",
   "metadata": {},
   "outputs": [],
   "source": []
  }
 ],
 "metadata": {
  "kernelspec": {
   "display_name": "Python 3 (ipykernel)",
   "language": "python",
   "name": "python3"
  },
  "language_info": {
   "codemirror_mode": {
    "name": "ipython",
    "version": 3
   },
   "file_extension": ".py",
   "mimetype": "text/x-python",
   "name": "python",
   "nbconvert_exporter": "python",
   "pygments_lexer": "ipython3",
   "version": "3.8.10"
  }
 },
 "nbformat": 4,
 "nbformat_minor": 5
}
