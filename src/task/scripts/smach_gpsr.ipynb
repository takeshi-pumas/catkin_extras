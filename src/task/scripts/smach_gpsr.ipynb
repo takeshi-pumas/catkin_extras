{
 "cells": [
  {
   "cell_type": "code",
   "execution_count": null,
   "id": "2f6e0f86",
   "metadata": {},
   "outputs": [],
   "source": []
  },
  {
   "cell_type": "code",
   "execution_count": 1,
   "id": "a505a009",
   "metadata": {},
   "outputs": [],
   "source": [
    "from smach_utils2 import *\n",
    "import matplotlib.pyplot as plt\n",
    "#arm = moveit_commander.MoveGroupCommander('arm')\n"
   ]
  },
  {
   "cell_type": "code",
   "execution_count": 4,
   "id": "64a7e895",
   "metadata": {},
   "outputs": [
    {
     "data": {
      "text/plain": [
       "'ask Where is the person you are looking for?'"
      ]
     },
     "execution_count": 4,
     "metadata": {},
     "output_type": "execute_result"
    }
   ],
   "source": [
    "req = ActionPlannerRequest()\n",
    "req.timeout=300\n",
    "req\n",
    "command=action_planner_server(req)\n",
    "command.plan.data\n",
    "#talk(command.plan.data)"
   ]
  },
  {
   "cell_type": "code",
   "execution_count": null,
   "id": "17a3f402",
   "metadata": {},
   "outputs": [],
   "source": [
    "command.plan.data"
   ]
  },
  {
   "cell_type": "code",
   "execution_count": 6,
   "id": "7d791b44",
   "metadata": {},
   "outputs": [
    {
     "data": {
      "text/plain": [
       "array([[[255, 255, 255],\n",
       "        [255, 255, 255],\n",
       "        [255, 255, 255],\n",
       "        ...,\n",
       "        [255, 255, 255],\n",
       "        [255, 255, 255],\n",
       "        [255, 255, 255]],\n",
       "\n",
       "       [[255, 255, 255],\n",
       "        [255, 255, 255],\n",
       "        [255, 255, 255],\n",
       "        ...,\n",
       "        [255, 255, 255],\n",
       "        [255, 255, 255],\n",
       "        [255, 255, 255]],\n",
       "\n",
       "       [[255, 255, 255],\n",
       "        [255, 255, 255],\n",
       "        [255, 255, 255],\n",
       "        ...,\n",
       "        [255, 255, 255],\n",
       "        [255, 255, 255],\n",
       "        [255, 255, 255]],\n",
       "\n",
       "       ...,\n",
       "\n",
       "       [[172, 164, 121],\n",
       "        [173, 164, 123],\n",
       "        [173, 164, 132],\n",
       "        ...,\n",
       "        [ 15,  19,  32],\n",
       "        [ 13,  21,  32],\n",
       "        [ 13,  19,  38]],\n",
       "\n",
       "       [[172, 165, 124],\n",
       "        [173, 166, 127],\n",
       "        [174, 166, 132],\n",
       "        ...,\n",
       "        [ 18,  21,  33],\n",
       "        [ 15,  22,  33],\n",
       "        [ 16,  20,  35]],\n",
       "\n",
       "       [[176, 168, 128],\n",
       "        [176, 168, 130],\n",
       "        [175, 168, 134],\n",
       "        ...,\n",
       "        [ 19,  21,  34],\n",
       "        [ 16,  23,  34],\n",
       "        [ 16,  21,  33]]], dtype=uint8)"
      ]
     },
     "execution_count": 6,
     "metadata": {},
     "output_type": "execute_result"
    }
   ],
   "source": [
    "rgbd.get_image()"
   ]
  },
  {
   "cell_type": "code",
   "execution_count": 7,
   "id": "d6cbe8bc",
   "metadata": {},
   "outputs": [
    {
     "data": {
      "text/plain": [
       "array([[[255, 255, 255],\n",
       "        [255, 255, 255],\n",
       "        [255, 255, 255],\n",
       "        ...,\n",
       "        [255, 255, 255],\n",
       "        [255, 255, 255],\n",
       "        [255, 255, 255]],\n",
       "\n",
       "       [[255, 255, 255],\n",
       "        [255, 255, 255],\n",
       "        [255, 255, 255],\n",
       "        ...,\n",
       "        [255, 255, 255],\n",
       "        [255, 255, 255],\n",
       "        [255, 255, 255]],\n",
       "\n",
       "       [[255, 255, 255],\n",
       "        [255, 255, 255],\n",
       "        [255, 255, 255],\n",
       "        ...,\n",
       "        [255, 255, 255],\n",
       "        [255, 255, 255],\n",
       "        [255, 255, 255]],\n",
       "\n",
       "       ...,\n",
       "\n",
       "       [[172, 167, 139],\n",
       "        [170, 165, 137],\n",
       "        [172, 161, 133],\n",
       "        ...,\n",
       "        [ 15,  22,  33],\n",
       "        [ 16,  23,  34],\n",
       "        [ 17,  20,  35]],\n",
       "\n",
       "       [[174, 171, 141],\n",
       "        [172, 168, 137],\n",
       "        [174, 165, 129],\n",
       "        ...,\n",
       "        [ 15,  21,  38],\n",
       "        [ 14,  21,  38],\n",
       "        [ 15,  19,  37]],\n",
       "\n",
       "       [[174, 172, 140],\n",
       "        [174, 171, 137],\n",
       "        [177, 169, 131],\n",
       "        ...,\n",
       "        [ 15,  19,  43],\n",
       "        [ 13,  20,  38],\n",
       "        [ 15,  19,  39]]], dtype=uint8)"
      ]
     },
     "execution_count": 7,
     "metadata": {},
     "output_type": "execute_result"
    }
   ],
   "source": [
    "rgbd.get_image()"
   ]
  },
  {
   "cell_type": "code",
   "execution_count": null,
   "id": "94658647",
   "metadata": {},
   "outputs": [],
   "source": []
  },
  {
   "cell_type": "code",
   "execution_count": null,
   "id": "09ff7b48",
   "metadata": {},
   "outputs": [],
   "source": []
  },
  {
   "cell_type": "code",
   "execution_count": null,
   "id": "2f07daa8",
   "metadata": {},
   "outputs": [],
   "source": [
    "actions=[]\n",
    "params=[]\n",
    "for command in command.plan.data.split(','):\n",
    "    print (command)\n",
    "    action = command.split('(')[0]  # Get the part before '('\n",
    "    param = command.split('(')[1][:-1]  # Get the part inside '()'\n",
    "    # Append to the respective arrays\n",
    "    actions.append(action)\n",
    "    params.append(param)"
   ]
  },
  {
   "cell_type": "code",
   "execution_count": null,
   "id": "5887ad81",
   "metadata": {},
   "outputs": [],
   "source": [
    "actions"
   ]
  },
  {
   "cell_type": "code",
   "execution_count": null,
   "id": "5c9da9d4",
   "metadata": {},
   "outputs": [],
   "source": [
    "command_msg.data=\"\"\"Navigate (Counter)\n",
    "PickObject (Cloth)\n",
    "BringObject (Counter -> EnadTable, Place Cloth)\n",
    "IdentifyObject (Cloth on EndTable)\"\"\""
   ]
  },
  {
   "cell_type": "code",
   "execution_count": null,
   "id": "b85fd1f1",
   "metadata": {},
   "outputs": [],
   "source": [
    "\"\"\"Navigate (Counter)\n",
    "PickObject (Cloth)\n",
    "BringObject (Counter -> EndTable, Place Cloth)\n",
    "IdentifyObject (Cloth on EndTable)\"\"\""
   ]
  },
  {
   "cell_type": "code",
   "execution_count": null,
   "id": "31e498a8",
   "metadata": {},
   "outputs": [],
   "source": [
    "plan=\"plan = [ Navigate(Desk),FollowPerson(Skyler),Navigate(DiningRoom)]\"\n",
    "\n",
    "plan.split(\"=\")[1].strip(\"[ ]\")\n"
   ]
  },
  {
   "cell_type": "markdown",
   "id": "ea6ecd1c",
   "metadata": {},
   "source": []
  },
  {
   "cell_type": "code",
   "execution_count": null,
   "id": "6cda60d6",
   "metadata": {},
   "outputs": [],
   "source": [
    "command_msg = String()\n",
    "command_msg.data=plan.split(\"=\")[1].strip(\"[ ]\")\n",
    "        #succ = wait_for_push_hand(100) # NOT GAZEBABLE"
   ]
  },
  {
   "cell_type": "code",
   "execution_count": null,
   "id": "2ab9c88b",
   "metadata": {},
   "outputs": [],
   "source": [
    "plan=\"plan = [ Navigate(Desk),FollowPerson(Skyler),Navigate(DiningRoom)]\"\n",
    "command_msg.data=plan.split(\"=\")[1].strip(\"[ ]\")\n",
    "actions=[]\n",
    "params=[]\n",
    "for command in command_msg.data.split(','):\n",
    "    print (command)\n",
    "    action = command.split('(')[0]  # Get the part before '('\n",
    "    param = command.split('(')[1][:-1]  # Get the part inside '()'\n",
    "    \n",
    "    # Append to the respective arrays\n",
    "    actions.append(action)\n",
    "    params.append(param)\n",
    "actions,params"
   ]
  },
  {
   "cell_type": "code",
   "execution_count": null,
   "id": "a4a2acc3",
   "metadata": {},
   "outputs": [],
   "source": [
    "for command in command_msg.data.split(', '):\n",
    "    print(command.split(' ', 1)[0])"
   ]
  },
  {
   "cell_type": "code",
   "execution_count": null,
   "id": "43eb8908",
   "metadata": {},
   "outputs": [],
   "source": [
    "actions=[]\n",
    "params=[]\n",
    "for command in command_msg.data.split(','):\n",
    "    print(command.split(',')[0].split(' ', 1)[0],command.split(',')[0].split(' ', 1)[1].strip('()'))\n",
    "    actions.append(command.split(',')[0].split(' ', 1)[0])\n",
    "    params.append(command.split(',')[0].split(' ', 1)[1].strip('()'))"
   ]
  },
  {
   "cell_type": "code",
   "execution_count": null,
   "id": "c4fde2aa",
   "metadata": {
    "scrolled": true
   },
   "outputs": [],
   "source": [
    "actions.pop(0)\n",
    "print(f'yo{actions}')"
   ]
  },
  {
   "cell_type": "code",
   "execution_count": null,
   "id": "d61c3428",
   "metadata": {},
   "outputs": [],
   "source": [
    "head.set_joint_values([ 0.0, -0.5])\n",
    "rospy.sleep(5.0)                "
   ]
  },
  {
   "cell_type": "code",
   "execution_count": null,
   "id": "3ecf5a4b",
   "metadata": {},
   "outputs": [],
   "source": [
    "head.set_joint_values([ 0.0, -0.5])\n",
    "rospy.sleep(5.0)                        \n",
    "img_msg  = bridge.cv2_to_imgmsg( cv2.cvtColor(rgbd.get_image(), cv2.COLOR_RGB2BGR))### GAZEBO BGR!?!??!\n",
    "req      = classify_client.request_class()\n",
    "req.in_.image_msgs.append(img_msg)        \n",
    "res      = classify_client(req)\n",
    "objects, poses=detect_object_yolo('cloth',res)   "
   ]
  },
  {
   "cell_type": "code",
   "execution_count": null,
   "id": "49f2d98a",
   "metadata": {},
   "outputs": [],
   "source": [
    "head.set_joint_values([ 0.0, -0.5])\n",
    "rospy.sleep(5.0)                \n",
    "find_placing_area()"
   ]
  },
  {
   "cell_type": "code",
   "execution_count": null,
   "id": "71f9a6f0",
   "metadata": {},
   "outputs": [],
   "source": [
    "pos, quat = tf_man.getTF(target_frame = 'placing_area', ref_frame = 'odom')                  \n",
    "\n",
    "line_up_TF('placing_area')\n"
   ]
  },
  {
   "cell_type": "code",
   "execution_count": null,
   "id": "163a8431",
   "metadata": {},
   "outputs": [],
   "source": []
  },
  {
   "cell_type": "code",
   "execution_count": null,
   "id": "9b816344",
   "metadata": {},
   "outputs": [],
   "source": [
    "\n",
    "from action_server.msg import IdentifyPersonAction, IdentifyPersonGoal\n",
    "\n",
    "\n",
    "\n",
    "client = actionlib.SimpleActionClient('identify_person', IdentifyPersonAction)\n",
    "client.wait_for_server()\n",
    "\n"
   ]
  },
  {
   "cell_type": "code",
   "execution_count": null,
   "id": "2d72adbb",
   "metadata": {},
   "outputs": [],
   "source": [
    "goal = IdentifyPersonGoal(command=\"start\")\n",
    "client.send_goal(goal)\n",
    "\n",
    "client.wait_for_result()\n",
    "result = client.get_result()\n",
    "\n",
    "rospy.loginfo(f\"Result: {result.result}, Name: {result.name}, Face Image Path: {result.face_img_path}\")\n"
   ]
  },
  {
   "cell_type": "code",
   "execution_count": null,
   "id": "c9e4213a",
   "metadata": {},
   "outputs": [],
   "source": [
    "result"
   ]
  },
  {
   "cell_type": "code",
   "execution_count": null,
   "id": "94515740",
   "metadata": {},
   "outputs": [],
   "source": [
    "order=wait_for_qr(25)"
   ]
  },
  {
   "cell_type": "code",
   "execution_count": null,
   "id": "691cdca5",
   "metadata": {},
   "outputs": [],
   "source": [
    "whole_body=moveit_commander.MoveGroupCommander('whole_body')"
   ]
  },
  {
   "cell_type": "code",
   "execution_count": null,
   "id": "062e60a7",
   "metadata": {},
   "outputs": [],
   "source": [
    "pose = whole_body.get_current_pose()\n",
    "pose.pose.position.z"
   ]
  },
  {
   "cell_type": "code",
   "execution_count": null,
   "id": "ef7169e8",
   "metadata": {},
   "outputs": [],
   "source": [
    "pose"
   ]
  },
  {
   "cell_type": "code",
   "execution_count": null,
   "id": "241fa9d4",
   "metadata": {},
   "outputs": [],
   "source": [
    "pose.pose.position.z"
   ]
  },
  {
   "cell_type": "code",
   "execution_count": null,
   "id": "46daa5fa",
   "metadata": {},
   "outputs": [],
   "source": [
    "pose"
   ]
  },
  {
   "cell_type": "code",
   "execution_count": null,
   "id": "b5023edf",
   "metadata": {},
   "outputs": [],
   "source": [
    "arm = moveit_commander.MoveGroupCommander('arm')"
   ]
  },
  {
   "cell_type": "code",
   "execution_count": null,
   "id": "93902b48",
   "metadata": {},
   "outputs": [],
   "source": [
    "camel_to_snake(\"place_action\")"
   ]
  },
  {
   "cell_type": "code",
   "execution_count": null,
   "id": "97a6880e",
   "metadata": {},
   "outputs": [],
   "source": [
    "import re\n",
    "\n",
    "def camel_to_snake(name):\n",
    "    # Converts camelCase or PascalCase to snake_case\n",
    "    return re.sub('([a-z0-9])([A-Z])', r'\\1_\\2', name).lower()\n"
   ]
  },
  {
   "cell_type": "code",
   "execution_count": null,
   "id": "2a97b5fe",
   "metadata": {},
   "outputs": [],
   "source": []
  }
 ],
 "metadata": {
  "kernelspec": {
   "display_name": "Python 3 (ipykernel)",
   "language": "python",
   "name": "python3"
  },
  "language_info": {
   "codemirror_mode": {
    "name": "ipython",
    "version": 3
   },
   "file_extension": ".py",
   "mimetype": "text/x-python",
   "name": "python",
   "nbconvert_exporter": "python",
   "pygments_lexer": "ipython3",
   "version": "3.8.10"
  }
 },
 "nbformat": 4,
 "nbformat_minor": 5
}
