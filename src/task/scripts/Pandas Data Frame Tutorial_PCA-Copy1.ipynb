{
 "cells": [
  {
   "cell_type": "code",
   "execution_count": 1,
   "id": "5bcc8e1d",
   "metadata": {},
   "outputs": [],
   "source": [
    "#-----------------------------------------------------------------\n",
    "def write_tf(pose, q, child_frame=\"\" , parent_frame='map'):\n",
    "    #  pose = trans  q = quaternion  , childframe =\"\"\n",
    "    # format  write the transformstampled message\n",
    "    t= TransformStamped()\n",
    "    t.header.stamp = rospy.Time.now()\n",
    "    #t.header.stamp = rospy.Time(0)\n",
    "    t.header.frame_id =parent_frame\n",
    "    t.child_frame_id =  child_frame\n",
    "    t.transform.translation.x = pose[0]\n",
    "    t.transform.translation.y = pose[1]\n",
    "    t.transform.translation.z = pose[2]\n",
    "    #q = tf.transformations.quaternion_from_euler(eu[0], eu[1], eu[2])\n",
    "    t.transform.rotation.x = q[0]\n",
    "    t.transform.rotation.y = q[1]\n",
    "    t.transform.rotation.z = q[2]\n",
    "    t.transform.rotation.w = q[3]\n",
    "    return t\n",
    "    \n",
    "#-----------------------------------------------------------------\n",
    "def read_tf(t):\n",
    "    # trasnform message to np arrays\n",
    "    pose=np.asarray((\n",
    "        t.transform.translation.x,\n",
    "        t.transform.translation.y,\n",
    "        t.transform.translation.z\n",
    "        ))\n",
    "    quat=np.asarray((\n",
    "        t.transform.rotation.x,\n",
    "        t.transform.rotation.y,\n",
    "        t.transform.rotation.z,\n",
    "        t.transform.rotation.w\n",
    "        ))\n",
    "    \n",
    "    return pose, quat\n",
    "#-----------------------------------------------------------------    "
   ]
  },
  {
   "cell_type": "code",
   "execution_count": 2,
   "id": "7b5af462",
   "metadata": {},
   "outputs": [],
   "source": [
    "def points_to_PCA(points):\n",
    "    df=pd.DataFrame(points)\n",
    "    df.columns=[['x','y','z']]\n",
    "    threshold= df_pts['z'].min().values[0]*0.998\n",
    "    print (threshold)\n",
    "    rslt_df = df.loc[df[df['z'] > threshold].index]\n",
    "    points=rslt_df[['x','y','z']].dropna().values\n",
    "    Pca=PCA(n_components=3)\n",
    "    Pca.fit(points)\n",
    "    print('Pca.explained_variance_',Pca.explained_variance_)\n",
    "    ## HOMOGENEUS\n",
    "    E_R= np.zeros((4,4))\n",
    "    E_R[:3,:3]+=R\n",
    "    E_R[-1,-1]=1\n",
    "    return     E_R\n"
   ]
  },
  {
   "cell_type": "code",
   "execution_count": 3,
   "id": "e97ec541",
   "metadata": {},
   "outputs": [],
   "source": [
    "def points_to_PCA(points):\n",
    "    df=pd.DataFrame(points)\n",
    "    df.columns=[['x','y','z']]\n",
    "    threshold= df_pts['z'].min().values[0]*0.998\n",
    "    print (threshold)\n",
    "    rslt_df = df.loc[df[df['z'] > threshold].index]\n",
    "\n",
    "    \n",
    "    points=rslt_df[['x','y','z']].dropna().values\n",
    "    Pca=PCA(n_components=3)\n",
    "    Pca.fit(points)\n",
    "    #print('Pca.explained_variance_',Pca.explained_variance_)\n",
    "    ref=np.eye(3)\n",
    "    pcas=Pca.components_\n",
    "    R=[]\n",
    "    R.append(np.dot(pcas[0],ref))\n",
    "    R.append(np.dot(pcas[1],ref))\n",
    "    R.append(np.dot(pcas[2],ref))\n",
    "    R=np.asarray(R)\n",
    "    ## HOMOGENEUS\n",
    "    E_R= np.zeros((4,4))\n",
    "    E_R[:3,:3]+=R\n",
    "    E_R[-1,-1]=1\n",
    "    return     E_R\n"
   ]
  },
  {
   "cell_type": "code",
   "execution_count": 4,
   "id": "aae4aa59",
   "metadata": {},
   "outputs": [
    {
     "name": "stderr",
     "output_type": "stream",
     "text": [
      "/home/roboworks/.local/lib/python3.8/site-packages/pandas/core/computation/expressions.py:20: UserWarning: Pandas requires version '2.7.3' or newer of 'numexpr' (version '2.7.1' currently installed).\n",
      "  from pandas.core.computation.check import NUMEXPR_INSTALLED\n"
     ]
    }
   ],
   "source": [
    "import matplotlib.pyplot as plt\n",
    "import numpy as np\n",
    "from mpl_toolkits.mplot3d import Axes3D\n",
    "import seaborn as sns\n",
    "import pandas as pd\n",
    "from sklearn.decomposition import PCA\n",
    "import tf"
   ]
  },
  {
   "cell_type": "code",
   "execution_count": 16,
   "id": "1312cf73",
   "metadata": {},
   "outputs": [
    {
     "name": "stdout",
     "output_type": "stream",
     "text": [
      "-0.00020127125104772858\n",
      "                 x            y            z\n",
      "count  7035.000000  1751.000000  7033.000000\n",
      "mean      3.000815     0.027068     0.108585\n",
      "std       0.280315     0.016597     0.106096\n",
      "min       2.707370    -0.000079    -0.000201\n",
      "25%       2.817379     0.012376    -0.000101\n",
      "50%       2.867103     0.025639     0.091614\n",
      "75%       3.136499     0.041149     0.202052\n",
      "max       3.716195     0.057267     0.336092\n",
      "-0.00020127125104772858\n",
      "[-94.64628425  -0.48914641 169.6480719 ]\n",
      "0.48914641179171825\n"
     ]
    }
   ],
   "source": [
    "points=np.load('/home/roboworks/Documents/points2.npy')\n",
    "df_pts=pd.DataFrame(points.transpose())\n",
    "df_pts.columns=[['x','y','z']]\n",
    "threshold= df_pts['z'].min().values[0]*0.998\n",
    "print (threshold)\n",
    "rslt_df_pts = df_pts[['x','y','z']][df_pts[['x','y','z']] > threshold]\n",
    "print (rslt_df_pts.describe())\n",
    "newpoints=rslt_df_pts[['x','y','z']].values\n",
    "E_R=points_to_PCA(newpoints)\n",
    "print(np.rad2deg(tf.transformations.euler_from_matrix(E_R)))\n",
    "print(np.sign(np.rad2deg(tf.transformations.euler_from_matrix(E_R))[0])*np.rad2deg(tf.transformations.euler_from_matrix(E_R))[1])"
   ]
  },
  {
   "cell_type": "code",
   "execution_count": 14,
   "id": "766fb9d2",
   "metadata": {},
   "outputs": [
    {
     "data": {
      "text/plain": [
       "(7035, 3)"
      ]
     },
     "execution_count": 14,
     "metadata": {},
     "output_type": "execute_result"
    }
   ],
   "source": [
    "points=np.load('/home/roboworks/Documents/points2.npy')\n",
    "\n",
    "\n",
    "#points_to_PCA(points.transpose())\n",
    "points.transpose().shape"
   ]
  },
  {
   "cell_type": "code",
   "execution_count": 13,
   "id": "6f2b02ab",
   "metadata": {},
   "outputs": [
    {
     "data": {
      "text/plain": [
       "(296, 3)"
      ]
     },
     "execution_count": 13,
     "metadata": {},
     "output_type": "execute_result"
    }
   ],
   "source": [
    "points.shape"
   ]
  },
  {
   "cell_type": "code",
   "execution_count": 95,
   "id": "fea27332",
   "metadata": {},
   "outputs": [
    {
     "name": "stdout",
     "output_type": "stream",
     "text": [
      "0.020093663327395917\n",
      "Pca.explained_variance_ [0.09691025 0.00265999 0.00018335]\n"
     ]
    },
    {
     "data": {
      "text/plain": [
       "array([[ 0.98336387,  0.02259623, -0.18023539,  0.        ],\n",
       "       [-0.18056083,  0.01328444, -0.98347396,  0.        ],\n",
       "       [ 0.01982848, -0.99965632, -0.01714361,  0.        ],\n",
       "       [ 0.        ,  0.        ,  0.        ,  1.        ]])"
      ]
     },
     "execution_count": 95,
     "metadata": {},
     "output_type": "execute_result"
    },
    {
     "name": "stderr",
     "output_type": "stream",
     "text": [
      "\u001b[33m[ WARN] [1743781852.631419929]: TF_REPEATED_DATA ignoring data with redundant timestamp for frame odom (parent map) at time 639.455000 according to authority /pose_integrator\u001b[0m\n",
      "\u001b[33m[ WARN] [1743781852.631503022]: TF_REPEATED_DATA ignoring data with redundant timestamp for frame odom (parent map) at time 639.455000 according to authority /pose_integrator\u001b[0m\n",
      "\u001b[33m[ WARN] [1743781852.631566763]: TF_REPEATED_DATA ignoring data with redundant timestamp for frame odom (parent map) at time 639.455000 according to authority /pose_integrator\u001b[0m\n",
      "\u001b[33m[ WARN] [1743781852.631624324]: TF_REPEATED_DATA ignoring data with redundant timestamp for frame odom (parent map) at time 639.455000 according to authority /pose_integrator\u001b[0m\n",
      "\u001b[33m[ WARN] [1743781852.631678784]: TF_REPEATED_DATA ignoring data with redundant timestamp for frame odom (parent map) at time 639.455000 according to authority /pose_integrator\u001b[0m\n",
      "\u001b[33m[ WARN] [1743781852.631730606]: TF_REPEATED_DATA ignoring data with redundant timestamp for frame odom (parent map) at time 639.455000 according to authority /pose_integrator\u001b[0m\n"
     ]
    }
   ],
   "source": [
    "points_to_PCA(points)"
   ]
  },
  {
   "cell_type": "code",
   "execution_count": 96,
   "id": "f2abdc22",
   "metadata": {},
   "outputs": [
    {
     "data": {
      "text/html": [
       "<div>\n",
       "<style scoped>\n",
       "    .dataframe tbody tr th:only-of-type {\n",
       "        vertical-align: middle;\n",
       "    }\n",
       "\n",
       "    .dataframe tbody tr th {\n",
       "        vertical-align: top;\n",
       "    }\n",
       "\n",
       "    .dataframe thead tr th {\n",
       "        text-align: left;\n",
       "    }\n",
       "</style>\n",
       "<table border=\"1\" class=\"dataframe\">\n",
       "  <thead>\n",
       "    <tr>\n",
       "      <th></th>\n",
       "      <th>x</th>\n",
       "      <th>y</th>\n",
       "      <th>z</th>\n",
       "    </tr>\n",
       "  </thead>\n",
       "  <tbody>\n",
       "    <tr>\n",
       "      <th>0</th>\n",
       "      <td>3.389726</td>\n",
       "      <td>0.056739</td>\n",
       "      <td>0.127598</td>\n",
       "    </tr>\n",
       "    <tr>\n",
       "      <th>1</th>\n",
       "      <td>3.389788</td>\n",
       "      <td>0.052852</td>\n",
       "      <td>0.127581</td>\n",
       "    </tr>\n",
       "    <tr>\n",
       "      <th>2</th>\n",
       "      <td>3.389850</td>\n",
       "      <td>0.048965</td>\n",
       "      <td>0.127565</td>\n",
       "    </tr>\n",
       "    <tr>\n",
       "      <th>3</th>\n",
       "      <td>3.389912</td>\n",
       "      <td>0.045078</td>\n",
       "      <td>0.127548</td>\n",
       "    </tr>\n",
       "    <tr>\n",
       "      <th>4</th>\n",
       "      <td>3.389975</td>\n",
       "      <td>0.041190</td>\n",
       "      <td>0.127531</td>\n",
       "    </tr>\n",
       "    <tr>\n",
       "      <th>...</th>\n",
       "      <td>...</td>\n",
       "      <td>...</td>\n",
       "      <td>...</td>\n",
       "    </tr>\n",
       "    <tr>\n",
       "      <th>7030</th>\n",
       "      <td>2.836485</td>\n",
       "      <td>-0.152103</td>\n",
       "      <td>-0.000083</td>\n",
       "    </tr>\n",
       "    <tr>\n",
       "      <th>7031</th>\n",
       "      <td>2.836502</td>\n",
       "      <td>-0.155391</td>\n",
       "      <td>-0.000083</td>\n",
       "    </tr>\n",
       "    <tr>\n",
       "      <th>7032</th>\n",
       "      <td>2.836518</td>\n",
       "      <td>-0.158680</td>\n",
       "      <td>-0.000083</td>\n",
       "    </tr>\n",
       "    <tr>\n",
       "      <th>7033</th>\n",
       "      <td>2.836535</td>\n",
       "      <td>-0.161969</td>\n",
       "      <td>-0.000083</td>\n",
       "    </tr>\n",
       "    <tr>\n",
       "      <th>7034</th>\n",
       "      <td>2.836551</td>\n",
       "      <td>-0.165258</td>\n",
       "      <td>-0.000083</td>\n",
       "    </tr>\n",
       "  </tbody>\n",
       "</table>\n",
       "<p>7035 rows × 3 columns</p>\n",
       "</div>"
      ],
      "text/plain": [
       "             x         y         z\n",
       "0     3.389726  0.056739  0.127598\n",
       "1     3.389788  0.052852  0.127581\n",
       "2     3.389850  0.048965  0.127565\n",
       "3     3.389912  0.045078  0.127548\n",
       "4     3.389975  0.041190  0.127531\n",
       "...        ...       ...       ...\n",
       "7030  2.836485 -0.152103 -0.000083\n",
       "7031  2.836502 -0.155391 -0.000083\n",
       "7032  2.836518 -0.158680 -0.000083\n",
       "7033  2.836535 -0.161969 -0.000083\n",
       "7034  2.836551 -0.165258 -0.000083\n",
       "\n",
       "[7035 rows x 3 columns]"
      ]
     },
     "execution_count": 96,
     "metadata": {},
     "output_type": "execute_result"
    },
    {
     "name": "stderr",
     "output_type": "stream",
     "text": [
      "\u001b[33m[ WARN] [1743781858.322302878]: TF_REPEATED_DATA ignoring data with redundant timestamp for frame odom (parent map) at time 640.381000 according to authority /pose_integrator\u001b[0m\n",
      "\u001b[33m[ WARN] [1743781858.322372096]: TF_REPEATED_DATA ignoring data with redundant timestamp for frame odom (parent map) at time 640.381000 according to authority /pose_integrator\u001b[0m\n",
      "\u001b[33m[ WARN] [1743781858.322426805]: TF_REPEATED_DATA ignoring data with redundant timestamp for frame odom (parent map) at time 640.381000 according to authority /pose_integrator\u001b[0m\n",
      "\u001b[33m[ WARN] [1743781858.322475239]: TF_REPEATED_DATA ignoring data with redundant timestamp for frame odom (parent map) at time 640.381000 according to authority /pose_integrator\u001b[0m\n",
      "\u001b[33m[ WARN] [1743781858.322531282]: TF_REPEATED_DATA ignoring data with redundant timestamp for frame odom (parent map) at time 640.381000 according to authority /pose_integrator\u001b[0m\n",
      "\u001b[33m[ WARN] [1743781858.322575381]: TF_REPEATED_DATA ignoring data with redundant timestamp for frame odom (parent map) at time 640.381000 according to authority /pose_integrator\u001b[0m\n",
      "\u001b[33m[ WARN] [1743781864.245892046]: TF_REPEATED_DATA ignoring data with redundant timestamp for frame odom (parent map) at time 641.354000 according to authority /pose_integrator\u001b[0m\n",
      "\u001b[33m[ WARN] [1743781864.245966094]: TF_REPEATED_DATA ignoring data with redundant timestamp for frame odom (parent map) at time 641.354000 according to authority /pose_integrator\u001b[0m\n",
      "\u001b[33m[ WARN] [1743781864.246015795]: TF_REPEATED_DATA ignoring data with redundant timestamp for frame odom (parent map) at time 641.354000 according to authority /pose_integrator\u001b[0m\n",
      "\u001b[33m[ WARN] [1743781864.246062837]: TF_REPEATED_DATA ignoring data with redundant timestamp for frame odom (parent map) at time 641.354000 according to authority /pose_integrator\u001b[0m\n",
      "\u001b[33m[ WARN] [1743781864.246109033]: TF_REPEATED_DATA ignoring data with redundant timestamp for frame odom (parent map) at time 641.354000 according to authority /pose_integrator\u001b[0m\n",
      "\u001b[33m[ WARN] [1743781864.246154128]: TF_REPEATED_DATA ignoring data with redundant timestamp for frame odom (parent map) at time 641.354000 according to authority /pose_integrator\u001b[0m\n",
      "\u001b[33m[ WARN] [1743781865.569662992]: TF_REPEATED_DATA ignoring data with redundant timestamp for frame odom (parent map) at time 641.568000 according to authority /pose_integrator\u001b[0m\n",
      "\u001b[33m[ WARN] [1743781865.569762515]: TF_REPEATED_DATA ignoring data with redundant timestamp for frame odom (parent map) at time 641.568000 according to authority /pose_integrator\u001b[0m\n",
      "\u001b[33m[ WARN] [1743781865.569847726]: TF_REPEATED_DATA ignoring data with redundant timestamp for frame odom (parent map) at time 641.568000 according to authority /pose_integrator\u001b[0m\n",
      "\u001b[33m[ WARN] [1743781865.569934672]: TF_REPEATED_DATA ignoring data with redundant timestamp for frame odom (parent map) at time 641.568000 according to authority /pose_integrator\u001b[0m\n",
      "\u001b[33m[ WARN] [1743781865.570015372]: TF_REPEATED_DATA ignoring data with redundant timestamp for frame odom (parent map) at time 641.568000 according to authority /pose_integrator\u001b[0m\n",
      "\u001b[33m[ WARN] [1743781865.570079864]: TF_REPEATED_DATA ignoring data with redundant timestamp for frame odom (parent map) at time 641.568000 according to authority /pose_integrator\u001b[0m\n",
      "\u001b[33m[ WARN] [1743781876.891562925]: TF_REPEATED_DATA ignoring data with redundant timestamp for frame odom (parent map) at time 643.500000 according to authority /pose_integrator\u001b[0m\n",
      "\u001b[33m[ WARN] [1743781876.891642657]: TF_REPEATED_DATA ignoring data with redundant timestamp for frame odom (parent map) at time 643.500000 according to authority /pose_integrator\u001b[0m\n",
      "\u001b[33m[ WARN] [1743781876.891701302]: TF_REPEATED_DATA ignoring data with redundant timestamp for frame odom (parent map) at time 643.500000 according to authority /pose_integrator\u001b[0m\n",
      "\u001b[33m[ WARN] [1743781876.891751980]: TF_REPEATED_DATA ignoring data with redundant timestamp for frame odom (parent map) at time 643.500000 according to authority /pose_integrator\u001b[0m\n",
      "\u001b[33m[ WARN] [1743781876.891807567]: TF_REPEATED_DATA ignoring data with redundant timestamp for frame odom (parent map) at time 643.500000 according to authority /pose_integrator\u001b[0m\n",
      "\u001b[33m[ WARN] [1743781876.891867806]: TF_REPEATED_DATA ignoring data with redundant timestamp for frame odom (parent map) at time 643.500000 according to authority /pose_integrator\u001b[0m\n",
      "\u001b[33m[ WARN] [1743781884.044812918]: TF_REPEATED_DATA ignoring data with redundant timestamp for frame odom (parent map) at time 644.766000 according to authority /pose_integrator\u001b[0m\n",
      "\u001b[33m[ WARN] [1743781884.044885929]: TF_REPEATED_DATA ignoring data with redundant timestamp for frame odom (parent map) at time 644.766000 according to authority /pose_integrator\u001b[0m\n",
      "\u001b[33m[ WARN] [1743781884.044944042]: TF_REPEATED_DATA ignoring data with redundant timestamp for frame odom (parent map) at time 644.766000 according to authority /pose_integrator\u001b[0m\n",
      "\u001b[33m[ WARN] [1743781884.044996842]: TF_REPEATED_DATA ignoring data with redundant timestamp for frame odom (parent map) at time 644.766000 according to authority /pose_integrator\u001b[0m\n",
      "\u001b[33m[ WARN] [1743781884.045059891]: TF_REPEATED_DATA ignoring data with redundant timestamp for frame odom (parent map) at time 644.766000 according to authority /pose_integrator\u001b[0m\n",
      "\u001b[33m[ WARN] [1743781884.045147179]: TF_REPEATED_DATA ignoring data with redundant timestamp for frame odom (parent map) at time 644.766000 according to authority /pose_integrator\u001b[0m\n",
      "\u001b[33m[ WARN] [1743781892.284140990]: TF_REPEATED_DATA ignoring data with redundant timestamp for frame odom (parent map) at time 646.101000 according to authority /pose_integrator\u001b[0m\n",
      "\u001b[33m[ WARN] [1743781892.284235379]: TF_REPEATED_DATA ignoring data with redundant timestamp for frame odom (parent map) at time 646.101000 according to authority /pose_integrator\u001b[0m\n",
      "\u001b[33m[ WARN] [1743781892.284302190]: TF_REPEATED_DATA ignoring data with redundant timestamp for frame odom (parent map) at time 646.101000 according to authority /pose_integrator\u001b[0m\n",
      "\u001b[33m[ WARN] [1743781892.284367243]: TF_REPEATED_DATA ignoring data with redundant timestamp for frame odom (parent map) at time 646.101000 according to authority /pose_integrator\u001b[0m\n",
      "\u001b[33m[ WARN] [1743781892.284429849]: TF_REPEATED_DATA ignoring data with redundant timestamp for frame odom (parent map) at time 646.101000 according to authority /pose_integrator\u001b[0m\n",
      "\u001b[33m[ WARN] [1743781892.284493710]: TF_REPEATED_DATA ignoring data with redundant timestamp for frame odom (parent map) at time 646.101000 according to authority /pose_integrator\u001b[0m\n",
      "\u001b[33m[ WARN] [1743781893.083350514]: TF_REPEATED_DATA ignoring data with redundant timestamp for frame odom (parent map) at time 646.239000 according to authority /pose_integrator\u001b[0m\n",
      "\u001b[33m[ WARN] [1743781893.083499510]: TF_REPEATED_DATA ignoring data with redundant timestamp for frame odom (parent map) at time 646.239000 according to authority /pose_integrator\u001b[0m\n",
      "\u001b[33m[ WARN] [1743781893.083561015]: TF_REPEATED_DATA ignoring data with redundant timestamp for frame odom (parent map) at time 646.239000 according to authority /pose_integrator\u001b[0m\n",
      "\u001b[33m[ WARN] [1743781893.083607324]: TF_REPEATED_DATA ignoring data with redundant timestamp for frame odom (parent map) at time 646.239000 according to authority /pose_integrator\u001b[0m\n",
      "\u001b[33m[ WARN] [1743781893.083656400]: TF_REPEATED_DATA ignoring data with redundant timestamp for frame odom (parent map) at time 646.239000 according to authority /pose_integrator\u001b[0m\n",
      "\u001b[33m[ WARN] [1743781893.083707269]: TF_REPEATED_DATA ignoring data with redundant timestamp for frame odom (parent map) at time 646.239000 according to authority /pose_integrator\u001b[0m\n",
      "\u001b[33m[ WARN] [1743781911.084926409]: TF_REPEATED_DATA ignoring data with redundant timestamp for frame odom (parent map) at time 649.215000 according to authority /pose_integrator\u001b[0m\n",
      "\u001b[33m[ WARN] [1743781911.085000908]: TF_REPEATED_DATA ignoring data with redundant timestamp for frame odom (parent map) at time 649.215000 according to authority /pose_integrator\u001b[0m\n",
      "\u001b[33m[ WARN] [1743781911.085062603]: TF_REPEATED_DATA ignoring data with redundant timestamp for frame odom (parent map) at time 649.215000 according to authority /pose_integrator\u001b[0m\n",
      "\u001b[33m[ WARN] [1743781911.085117089]: TF_REPEATED_DATA ignoring data with redundant timestamp for frame odom (parent map) at time 649.215000 according to authority /pose_integrator\u001b[0m\n",
      "\u001b[33m[ WARN] [1743781911.085157427]: TF_REPEATED_DATA ignoring data with redundant timestamp for frame odom (parent map) at time 649.215000 according to authority /pose_integrator\u001b[0m\n",
      "\u001b[33m[ WARN] [1743781911.085193899]: TF_REPEATED_DATA ignoring data with redundant timestamp for frame odom (parent map) at time 649.215000 according to authority /pose_integrator\u001b[0m\n"
     ]
    },
    {
     "name": "stderr",
     "output_type": "stream",
     "text": [
      "\u001b[33m[ WARN] [1743781919.962767447]: TF_REPEATED_DATA ignoring data with redundant timestamp for frame odom (parent map) at time 650.754000 according to authority /pose_integrator\u001b[0m\n",
      "\u001b[33m[ WARN] [1743781919.962875558]: TF_REPEATED_DATA ignoring data with redundant timestamp for frame odom (parent map) at time 650.754000 according to authority /pose_integrator\u001b[0m\n",
      "\u001b[33m[ WARN] [1743781919.962953921]: TF_REPEATED_DATA ignoring data with redundant timestamp for frame odom (parent map) at time 650.754000 according to authority /pose_integrator\u001b[0m\n",
      "\u001b[33m[ WARN] [1743781919.963016573]: TF_REPEATED_DATA ignoring data with redundant timestamp for frame odom (parent map) at time 650.754000 according to authority /pose_integrator\u001b[0m\n",
      "\u001b[33m[ WARN] [1743781919.963087971]: TF_REPEATED_DATA ignoring data with redundant timestamp for frame odom (parent map) at time 650.754000 according to authority /pose_integrator\u001b[0m\n",
      "\u001b[33m[ WARN] [1743781919.963149572]: TF_REPEATED_DATA ignoring data with redundant timestamp for frame odom (parent map) at time 650.754000 according to authority /pose_integrator\u001b[0m\n",
      "\u001b[33m[ WARN] [1743781927.458284043]: TF_REPEATED_DATA ignoring data with redundant timestamp for frame odom (parent map) at time 652.135000 according to authority /pose_integrator\u001b[0m\n",
      "\u001b[33m[ WARN] [1743781927.458395196]: TF_REPEATED_DATA ignoring data with redundant timestamp for frame odom (parent map) at time 652.135000 according to authority /pose_integrator\u001b[0m\n",
      "\u001b[33m[ WARN] [1743781927.458461199]: TF_REPEATED_DATA ignoring data with redundant timestamp for frame odom (parent map) at time 652.135000 according to authority /pose_integrator\u001b[0m\n",
      "\u001b[33m[ WARN] [1743781927.458521362]: TF_REPEATED_DATA ignoring data with redundant timestamp for frame odom (parent map) at time 652.135000 according to authority /pose_integrator\u001b[0m\n",
      "\u001b[33m[ WARN] [1743781927.458579011]: TF_REPEATED_DATA ignoring data with redundant timestamp for frame odom (parent map) at time 652.135000 according to authority /pose_integrator\u001b[0m\n",
      "\u001b[33m[ WARN] [1743781927.458640504]: TF_REPEATED_DATA ignoring data with redundant timestamp for frame odom (parent map) at time 652.135000 according to authority /pose_integrator\u001b[0m\n",
      "\u001b[33m[ WARN] [1743781938.081374970]: TF_REPEATED_DATA ignoring data with redundant timestamp for frame odom (parent map) at time 653.907000 according to authority /pose_integrator\u001b[0m\n",
      "\u001b[33m[ WARN] [1743781938.081464299]: TF_REPEATED_DATA ignoring data with redundant timestamp for frame odom (parent map) at time 653.907000 according to authority /pose_integrator\u001b[0m\n",
      "\u001b[33m[ WARN] [1743781938.081526794]: TF_REPEATED_DATA ignoring data with redundant timestamp for frame odom (parent map) at time 653.907000 according to authority /pose_integrator\u001b[0m\n",
      "\u001b[33m[ WARN] [1743781938.081580113]: TF_REPEATED_DATA ignoring data with redundant timestamp for frame odom (parent map) at time 653.907000 according to authority /pose_integrator\u001b[0m\n",
      "\u001b[33m[ WARN] [1743781938.081645926]: TF_REPEATED_DATA ignoring data with redundant timestamp for frame odom (parent map) at time 653.907000 according to authority /pose_integrator\u001b[0m\n",
      "\u001b[33m[ WARN] [1743781938.081703563]: TF_REPEATED_DATA ignoring data with redundant timestamp for frame odom (parent map) at time 653.907000 according to authority /pose_integrator\u001b[0m\n",
      "\u001b[33m[ WARN] [1743781953.052882680]: TF_REPEATED_DATA ignoring data with redundant timestamp for frame odom (parent map) at time 656.465000 according to authority /pose_integrator\u001b[0m\n",
      "\u001b[33m[ WARN] [1743781953.052973895]: TF_REPEATED_DATA ignoring data with redundant timestamp for frame odom (parent map) at time 656.465000 according to authority /pose_integrator\u001b[0m\n",
      "\u001b[33m[ WARN] [1743781953.053037041]: TF_REPEATED_DATA ignoring data with redundant timestamp for frame odom (parent map) at time 656.465000 according to authority /pose_integrator\u001b[0m\n",
      "\u001b[33m[ WARN] [1743781953.053102015]: TF_REPEATED_DATA ignoring data with redundant timestamp for frame odom (parent map) at time 656.465000 according to authority /pose_integrator\u001b[0m\n",
      "\u001b[33m[ WARN] [1743781953.053159110]: TF_REPEATED_DATA ignoring data with redundant timestamp for frame odom (parent map) at time 656.465000 according to authority /pose_integrator\u001b[0m\n",
      "\u001b[33m[ WARN] [1743781953.053227124]: TF_REPEATED_DATA ignoring data with redundant timestamp for frame odom (parent map) at time 656.465000 according to authority /pose_integrator\u001b[0m\n",
      "\u001b[33m[ WARN] [1743781954.830834304]: TF_REPEATED_DATA ignoring data with redundant timestamp for frame odom (parent map) at time 656.768000 according to authority /pose_integrator\u001b[0m\n",
      "\u001b[33m[ WARN] [1743781954.830921784]: TF_REPEATED_DATA ignoring data with redundant timestamp for frame odom (parent map) at time 656.768000 according to authority /pose_integrator\u001b[0m\n",
      "\u001b[33m[ WARN] [1743781954.830988273]: TF_REPEATED_DATA ignoring data with redundant timestamp for frame odom (parent map) at time 656.768000 according to authority /pose_integrator\u001b[0m\n",
      "\u001b[33m[ WARN] [1743781954.831041404]: TF_REPEATED_DATA ignoring data with redundant timestamp for frame odom (parent map) at time 656.768000 according to authority /pose_integrator\u001b[0m\n",
      "\u001b[33m[ WARN] [1743781954.831088870]: TF_REPEATED_DATA ignoring data with redundant timestamp for frame odom (parent map) at time 656.768000 according to authority /pose_integrator\u001b[0m\n",
      "\u001b[33m[ WARN] [1743781954.831140888]: TF_REPEATED_DATA ignoring data with redundant timestamp for frame odom (parent map) at time 656.768000 according to authority /pose_integrator\u001b[0m\n",
      "\u001b[33m[ WARN] [1743781973.648915224]: TF_REPEATED_DATA ignoring data with redundant timestamp for frame odom (parent map) at time 660.045000 according to authority /pose_integrator\u001b[0m\n",
      "\u001b[33m[ WARN] [1743781973.648991748]: TF_REPEATED_DATA ignoring data with redundant timestamp for frame odom (parent map) at time 660.045000 according to authority /pose_integrator\u001b[0m\n",
      "\u001b[33m[ WARN] [1743781973.649041282]: TF_REPEATED_DATA ignoring data with redundant timestamp for frame odom (parent map) at time 660.045000 according to authority /pose_integrator\u001b[0m\n",
      "\u001b[33m[ WARN] [1743781973.650158312]: TF_REPEATED_DATA ignoring data with redundant timestamp for frame odom (parent map) at time 660.045000 according to authority /pose_integrator\u001b[0m\n",
      "\u001b[33m[ WARN] [1743781973.650257498]: TF_REPEATED_DATA ignoring data with redundant timestamp for frame odom (parent map) at time 660.045000 according to authority /pose_integrator\u001b[0m\n",
      "\u001b[33m[ WARN] [1743781973.650325737]: TF_REPEATED_DATA ignoring data with redundant timestamp for frame odom (parent map) at time 660.045000 according to authority /pose_integrator\u001b[0m\n",
      "\u001b[33m[ WARN] [1743781975.440063307]: TF_REPEATED_DATA ignoring data with redundant timestamp for frame odom (parent map) at time 660.357000 according to authority /pose_integrator\u001b[0m\n",
      "\u001b[33m[ WARN] [1743781975.440131316]: TF_REPEATED_DATA ignoring data with redundant timestamp for frame odom (parent map) at time 660.357000 according to authority /pose_integrator\u001b[0m\n",
      "\u001b[33m[ WARN] [1743781975.440173263]: TF_REPEATED_DATA ignoring data with redundant timestamp for frame odom (parent map) at time 660.357000 according to authority /pose_integrator\u001b[0m\n",
      "\u001b[33m[ WARN] [1743781975.440215751]: TF_REPEATED_DATA ignoring data with redundant timestamp for frame odom (parent map) at time 660.357000 according to authority /pose_integrator\u001b[0m\n",
      "\u001b[33m[ WARN] [1743781975.440258622]: TF_REPEATED_DATA ignoring data with redundant timestamp for frame odom (parent map) at time 660.357000 according to authority /pose_integrator\u001b[0m\n",
      "\u001b[33m[ WARN] [1743781975.440317524]: TF_REPEATED_DATA ignoring data with redundant timestamp for frame odom (parent map) at time 660.357000 according to authority /pose_integrator\u001b[0m\n",
      "\u001b[33m[ WARN] [1743781980.460245739]: TF_REPEATED_DATA ignoring data with redundant timestamp for frame odom (parent map) at time 661.174000 according to authority /pose_integrator\u001b[0m\n",
      "\u001b[33m[ WARN] [1743781980.460347384]: TF_REPEATED_DATA ignoring data with redundant timestamp for frame odom (parent map) at time 661.174000 according to authority /pose_integrator\u001b[0m\n",
      "\u001b[33m[ WARN] [1743781980.460418208]: TF_REPEATED_DATA ignoring data with redundant timestamp for frame odom (parent map) at time 661.174000 according to authority /pose_integrator\u001b[0m\n",
      "\u001b[33m[ WARN] [1743781980.460486032]: TF_REPEATED_DATA ignoring data with redundant timestamp for frame odom (parent map) at time 661.174000 according to authority /pose_integrator\u001b[0m\n",
      "\u001b[33m[ WARN] [1743781980.460553621]: TF_REPEATED_DATA ignoring data with redundant timestamp for frame odom (parent map) at time 661.174000 according to authority /pose_integrator\u001b[0m\n",
      "\u001b[33m[ WARN] [1743781980.460630620]: TF_REPEATED_DATA ignoring data with redundant timestamp for frame odom (parent map) at time 661.174000 according to authority /pose_integrator\u001b[0m\n"
     ]
    },
    {
     "name": "stderr",
     "output_type": "stream",
     "text": [
      "\u001b[33m[ WARN] [1743781983.228406919]: TF_REPEATED_DATA ignoring data with redundant timestamp for frame odom (parent map) at time 661.641000 according to authority /pose_integrator\u001b[0m\n",
      "\u001b[33m[ WARN] [1743781983.228489257]: TF_REPEATED_DATA ignoring data with redundant timestamp for frame odom (parent map) at time 661.641000 according to authority /pose_integrator\u001b[0m\n",
      "\u001b[33m[ WARN] [1743781983.228549896]: TF_REPEATED_DATA ignoring data with redundant timestamp for frame odom (parent map) at time 661.641000 according to authority /pose_integrator\u001b[0m\n",
      "\u001b[33m[ WARN] [1743781983.228611384]: TF_REPEATED_DATA ignoring data with redundant timestamp for frame odom (parent map) at time 661.641000 according to authority /pose_integrator\u001b[0m\n",
      "\u001b[33m[ WARN] [1743781983.228667745]: TF_REPEATED_DATA ignoring data with redundant timestamp for frame odom (parent map) at time 661.641000 according to authority /pose_integrator\u001b[0m\n",
      "\u001b[33m[ WARN] [1743781983.228721564]: TF_REPEATED_DATA ignoring data with redundant timestamp for frame odom (parent map) at time 661.641000 according to authority /pose_integrator\u001b[0m\n",
      "\u001b[33m[ WARN] [1743781985.364683855]: TF_REPEATED_DATA ignoring data with redundant timestamp for frame odom (parent map) at time 662.000000 according to authority /pose_integrator\u001b[0m\n",
      "\u001b[33m[ WARN] [1743781985.364777562]: TF_REPEATED_DATA ignoring data with redundant timestamp for frame odom (parent map) at time 662.000000 according to authority /pose_integrator\u001b[0m\n",
      "\u001b[33m[ WARN] [1743781985.364861140]: TF_REPEATED_DATA ignoring data with redundant timestamp for frame odom (parent map) at time 662.000000 according to authority /pose_integrator\u001b[0m\n",
      "\u001b[33m[ WARN] [1743781985.364928367]: TF_REPEATED_DATA ignoring data with redundant timestamp for frame odom (parent map) at time 662.000000 according to authority /pose_integrator\u001b[0m\n",
      "\u001b[33m[ WARN] [1743781985.364992530]: TF_REPEATED_DATA ignoring data with redundant timestamp for frame odom (parent map) at time 662.000000 according to authority /pose_integrator\u001b[0m\n",
      "\u001b[33m[ WARN] [1743781985.365055482]: TF_REPEATED_DATA ignoring data with redundant timestamp for frame odom (parent map) at time 662.000000 according to authority /pose_integrator\u001b[0m\n",
      "\u001b[33m[ WARN] [1743781994.782838830]: TF_REPEATED_DATA ignoring data with redundant timestamp for frame odom (parent map) at time 663.514000 according to authority /pose_integrator\u001b[0m\n",
      "\u001b[33m[ WARN] [1743781994.782914516]: TF_REPEATED_DATA ignoring data with redundant timestamp for frame odom (parent map) at time 663.514000 according to authority /pose_integrator\u001b[0m\n",
      "\u001b[33m[ WARN] [1743781994.782962503]: TF_REPEATED_DATA ignoring data with redundant timestamp for frame odom (parent map) at time 663.514000 according to authority /pose_integrator\u001b[0m\n",
      "\u001b[33m[ WARN] [1743781994.783000779]: TF_REPEATED_DATA ignoring data with redundant timestamp for frame odom (parent map) at time 663.514000 according to authority /pose_integrator\u001b[0m\n",
      "\u001b[33m[ WARN] [1743781994.783037091]: TF_REPEATED_DATA ignoring data with redundant timestamp for frame odom (parent map) at time 663.514000 according to authority /pose_integrator\u001b[0m\n",
      "\u001b[33m[ WARN] [1743781994.783073110]: TF_REPEATED_DATA ignoring data with redundant timestamp for frame odom (parent map) at time 663.514000 according to authority /pose_integrator\u001b[0m\n",
      "\u001b[33m[ WARN] [1743782003.971009565]: TF_REPEATED_DATA ignoring data with redundant timestamp for frame odom (parent map) at time 665.069000 according to authority /pose_integrator\u001b[0m\n",
      "\u001b[33m[ WARN] [1743782003.971086161]: TF_REPEATED_DATA ignoring data with redundant timestamp for frame odom (parent map) at time 665.069000 according to authority /pose_integrator\u001b[0m\n",
      "\u001b[33m[ WARN] [1743782003.971132983]: TF_REPEATED_DATA ignoring data with redundant timestamp for frame odom (parent map) at time 665.069000 according to authority /pose_integrator\u001b[0m\n",
      "\u001b[33m[ WARN] [1743782003.971177078]: TF_REPEATED_DATA ignoring data with redundant timestamp for frame odom (parent map) at time 665.069000 according to authority /pose_integrator\u001b[0m\n",
      "\u001b[33m[ WARN] [1743782003.971218180]: TF_REPEATED_DATA ignoring data with redundant timestamp for frame odom (parent map) at time 665.069000 according to authority /pose_integrator\u001b[0m\n",
      "\u001b[33m[ WARN] [1743782003.971280185]: TF_REPEATED_DATA ignoring data with redundant timestamp for frame odom (parent map) at time 665.069000 according to authority /pose_integrator\u001b[0m\n"
     ]
    }
   ],
   "source": [
    "df_pts"
   ]
  },
  {
   "cell_type": "code",
   "execution_count": null,
   "id": "fe8040dc",
   "metadata": {},
   "outputs": [],
   "source": [
    "rslt_df_pts"
   ]
  },
  {
   "cell_type": "markdown",
   "id": "d964493a",
   "metadata": {},
   "source": [
    "-98.63997914 -40.27221135 107.26441686<br>\n",
    "[ 97.6089583  -39.13610332 119.11722414]<br><br><br><br><br><br><br><br><br>"
   ]
  },
  {
   "cell_type": "code",
   "execution_count": null,
   "id": "000e97c1",
   "metadata": {},
   "outputs": [],
   "source": [
    "tf.transformations.euler_from_quaternion((0.62734299, 0.40730226, 0.66127357, 0.05712182))"
   ]
  },
  {
   "cell_type": "code",
   "execution_count": null,
   "id": "e6119e0d",
   "metadata": {},
   "outputs": [],
   "source": [
    "e_ER=tf.transformations.euler_from_matrix(E_R)\n",
    "q_ET=tf.transformations.quaternion_from_euler(e_ER[0],e_ER[1],e_ER[2])\n",
    "print (q_ET)"
   ]
  },
  {
   "cell_type": "code",
   "execution_count": null,
   "id": "865d5f9d",
   "metadata": {},
   "outputs": [],
   "source": [
    "quat=tf.transformations.quaternion_from_matrix(E_R)\n",
    "print(tf.transformations.euler_from_matrix(E_R))\n",
    "print(quat)"
   ]
  },
  {
   "cell_type": "code",
   "execution_count": 57,
   "id": "d1cf34c4",
   "metadata": {},
   "outputs": [
    {
     "data": {
      "text/plain": [
       "(7035, 3)"
      ]
     },
     "execution_count": 57,
     "metadata": {},
     "output_type": "execute_result"
    }
   ],
   "source": [
    "points.shape"
   ]
  },
  {
   "cell_type": "code",
   "execution_count": 58,
   "id": "39262b5e",
   "metadata": {},
   "outputs": [
    {
     "data": {
      "text/plain": [
       "<mpl_toolkits.mplot3d.art3d.Path3DCollection at 0x7f9a646a8940>"
      ]
     },
     "execution_count": 58,
     "metadata": {},
     "output_type": "execute_result"
    },
    {
     "data": {
      "image/png": "[encoded data removed]",
      "text/plain": [
       "<Figure size 640x480 with 1 Axes>"
      ]
     },
     "metadata": {},
     "output_type": "display_data"
    }
   ],
   "source": [
    "\n",
    "fig = plt.figure()\n",
    "ax = fig.add_subplot(projection='3d')\n",
    "ax.scatter(points[:,0],points[:,1],points[:,2])"
   ]
  },
  {
   "cell_type": "code",
   "execution_count": 20,
   "id": "c7e0edd3",
   "metadata": {},
   "outputs": [
    {
     "data": {
      "text/plain": [
       "<mpl_toolkits.mplot3d.art3d.Path3DCollection at 0x7f9aa0815430>"
      ]
     },
     "execution_count": 20,
     "metadata": {},
     "output_type": "execute_result"
    },
    {
     "data": {
      "image/png": "[encoded data removed]",
      "text/plain": [
       "<Figure size 640x480 with 1 Axes>"
      ]
     },
     "metadata": {},
     "output_type": "display_data"
    }
   ],
   "source": [
    "points=np.load('/home/roboworks/Documents/points2.npy')\n",
    "\n",
    "fig = plt.figure()\n",
    "ax = fig.add_subplot(projection='3d')\n",
    "ax.scatter(points[:,0],points[:,1],points[:,2])"
   ]
  },
  {
   "cell_type": "code",
   "execution_count": 69,
   "id": "b87b2b25",
   "metadata": {},
   "outputs": [
    {
     "data": {
      "text/html": [
       "<div>\n",
       "<style scoped>\n",
       "    .dataframe tbody tr th:only-of-type {\n",
       "        vertical-align: middle;\n",
       "    }\n",
       "\n",
       "    .dataframe tbody tr th {\n",
       "        vertical-align: top;\n",
       "    }\n",
       "\n",
       "    .dataframe thead th {\n",
       "        text-align: right;\n",
       "    }\n",
       "</style>\n",
       "<table border=\"1\" class=\"dataframe\">\n",
       "  <thead>\n",
       "    <tr style=\"text-align: right;\">\n",
       "      <th></th>\n",
       "      <th>x</th>\n",
       "      <th>y</th>\n",
       "      <th>z</th>\n",
       "    </tr>\n",
       "  </thead>\n",
       "  <tbody>\n",
       "    <tr>\n",
       "      <th>count</th>\n",
       "      <td>7035.000000</td>\n",
       "      <td>1751.000000</td>\n",
       "      <td>7033.000000</td>\n",
       "    </tr>\n",
       "    <tr>\n",
       "      <th>mean</th>\n",
       "      <td>3.000815</td>\n",
       "      <td>0.027068</td>\n",
       "      <td>0.108585</td>\n",
       "    </tr>\n",
       "    <tr>\n",
       "      <th>std</th>\n",
       "      <td>0.280315</td>\n",
       "      <td>0.016597</td>\n",
       "      <td>0.106096</td>\n",
       "    </tr>\n",
       "    <tr>\n",
       "      <th>min</th>\n",
       "      <td>2.707370</td>\n",
       "      <td>-0.000079</td>\n",
       "      <td>-0.000201</td>\n",
       "    </tr>\n",
       "    <tr>\n",
       "      <th>25%</th>\n",
       "      <td>2.817379</td>\n",
       "      <td>0.012376</td>\n",
       "      <td>-0.000101</td>\n",
       "    </tr>\n",
       "    <tr>\n",
       "      <th>50%</th>\n",
       "      <td>2.867103</td>\n",
       "      <td>0.025639</td>\n",
       "      <td>0.091614</td>\n",
       "    </tr>\n",
       "    <tr>\n",
       "      <th>75%</th>\n",
       "      <td>3.136499</td>\n",
       "      <td>0.041149</td>\n",
       "      <td>0.202052</td>\n",
       "    </tr>\n",
       "    <tr>\n",
       "      <th>max</th>\n",
       "      <td>3.716195</td>\n",
       "      <td>0.057267</td>\n",
       "      <td>0.336092</td>\n",
       "    </tr>\n",
       "  </tbody>\n",
       "</table>\n",
       "</div>"
      ],
      "text/plain": [
       "                 x            y            z\n",
       "count  7035.000000  1751.000000  7033.000000\n",
       "mean      3.000815     0.027068     0.108585\n",
       "std       0.280315     0.016597     0.106096\n",
       "min       2.707370    -0.000079    -0.000201\n",
       "25%       2.817379     0.012376    -0.000101\n",
       "50%       2.867103     0.025639     0.091614\n",
       "75%       3.136499     0.041149     0.202052\n",
       "max       3.716195     0.057267     0.336092"
      ]
     },
     "execution_count": 69,
     "metadata": {},
     "output_type": "execute_result"
    }
   ],
   "source": [
    "import seaborn as sns\n",
    "import pandas as pd\n",
    "df=pd.DataFrame(points)\n",
    "df.columns=['x','y','z']\n",
    "df.describe()"
   ]
  },
  {
   "cell_type": "code",
   "execution_count": 70,
   "id": "111cd987",
   "metadata": {},
   "outputs": [],
   "source": [
    "rslt_df = df[df['z'] > 0.02]\n"
   ]
  },
  {
   "cell_type": "code",
   "execution_count": null,
   "id": "24e157db",
   "metadata": {},
   "outputs": [],
   "source": []
  },
  {
   "cell_type": "code",
   "execution_count": 72,
   "id": "2523103f",
   "metadata": {},
   "outputs": [
    {
     "data": {
      "text/html": [
       "<div>\n",
       "<style scoped>\n",
       "    .dataframe tbody tr th:only-of-type {\n",
       "        vertical-align: middle;\n",
       "    }\n",
       "\n",
       "    .dataframe tbody tr th {\n",
       "        vertical-align: top;\n",
       "    }\n",
       "\n",
       "    .dataframe thead th {\n",
       "        text-align: right;\n",
       "    }\n",
       "</style>\n",
       "<table border=\"1\" class=\"dataframe\">\n",
       "  <thead>\n",
       "    <tr style=\"text-align: right;\">\n",
       "      <th></th>\n",
       "      <th>x</th>\n",
       "      <th>y</th>\n",
       "      <th>z</th>\n",
       "    </tr>\n",
       "  </thead>\n",
       "  <tbody>\n",
       "    <tr>\n",
       "      <th>count</th>\n",
       "      <td>4373.000000</td>\n",
       "      <td>975.000000</td>\n",
       "      <td>4373.000000</td>\n",
       "    </tr>\n",
       "    <tr>\n",
       "      <th>mean</th>\n",
       "      <td>2.879517</td>\n",
       "      <td>0.020894</td>\n",
       "      <td>0.174206</td>\n",
       "    </tr>\n",
       "    <tr>\n",
       "      <th>std</th>\n",
       "      <td>0.177241</td>\n",
       "      <td>0.015270</td>\n",
       "      <td>0.081918</td>\n",
       "    </tr>\n",
       "    <tr>\n",
       "      <th>min</th>\n",
       "      <td>2.707370</td>\n",
       "      <td>-0.000079</td>\n",
       "      <td>0.020134</td>\n",
       "    </tr>\n",
       "    <tr>\n",
       "      <th>25%</th>\n",
       "      <td>2.786320</td>\n",
       "      <td>0.009185</td>\n",
       "      <td>0.107490</td>\n",
       "    </tr>\n",
       "    <tr>\n",
       "      <th>50%</th>\n",
       "      <td>2.833725</td>\n",
       "      <td>0.018048</td>\n",
       "      <td>0.177359</td>\n",
       "    </tr>\n",
       "    <tr>\n",
       "      <th>75%</th>\n",
       "      <td>2.876351</td>\n",
       "      <td>0.029611</td>\n",
       "      <td>0.239361</td>\n",
       "    </tr>\n",
       "    <tr>\n",
       "      <th>max</th>\n",
       "      <td>3.390669</td>\n",
       "      <td>0.057179</td>\n",
       "      <td>0.336092</td>\n",
       "    </tr>\n",
       "  </tbody>\n",
       "</table>\n",
       "</div>"
      ],
      "text/plain": [
       "                 x           y            z\n",
       "count  4373.000000  975.000000  4373.000000\n",
       "mean      2.879517    0.020894     0.174206\n",
       "std       0.177241    0.015270     0.081918\n",
       "min       2.707370   -0.000079     0.020134\n",
       "25%       2.786320    0.009185     0.107490\n",
       "50%       2.833725    0.018048     0.177359\n",
       "75%       2.876351    0.029611     0.239361\n",
       "max       3.390669    0.057179     0.336092"
      ]
     },
     "execution_count": 72,
     "metadata": {},
     "output_type": "execute_result"
    }
   ],
   "source": [
    "rslt_df.describe()"
   ]
  },
  {
   "cell_type": "code",
   "execution_count": 73,
   "id": "81f2c413",
   "metadata": {},
   "outputs": [
    {
     "data": {
      "text/plain": [
       "<mpl_toolkits.mplot3d.art3d.Path3DCollection at 0x7f9a647c9820>"
      ]
     },
     "execution_count": 73,
     "metadata": {},
     "output_type": "execute_result"
    },
    {
     "data": {
      "image/png": "[encoded data removed]",
      "text/plain": [
       "<Figure size 640x480 with 1 Axes>"
      ]
     },
     "metadata": {},
     "output_type": "display_data"
    }
   ],
   "source": [
    "#points=rslt_df[['x','y','z']].sample(30).values\n",
    "points=rslt_df[['x','y','z']].values\n",
    "fig = plt.figure()\n",
    "ax = fig.add_subplot(projection='3d')\n",
    "ax.scatter(points[:,0],points[:,1],points[:,2])\n",
    "pt=rslt_df[['x','y','z']].mean().values\n",
    "ax.scatter(pt[0],pt[1],pt[2],'o')"
   ]
  },
  {
   "cell_type": "code",
   "execution_count": 74,
   "id": "557b1b94",
   "metadata": {},
   "outputs": [
    {
     "name": "stdout",
     "output_type": "stream",
     "text": [
      "0.020093663327395917\n",
      "Pca.explained_variance_ [0.09691025 0.00265999 0.00018335]\n"
     ]
    },
    {
     "data": {
      "text/plain": [
       "array([[ 0.98336387,  0.02259623, -0.18023539,  0.        ],\n",
       "       [-0.18056083,  0.01328444, -0.98347396,  0.        ],\n",
       "       [ 0.01982848, -0.99965632, -0.01714361,  0.        ],\n",
       "       [ 0.        ,  0.        ,  0.        ,  1.        ]])"
      ]
     },
     "execution_count": 74,
     "metadata": {},
     "output_type": "execute_result"
    },
    {
     "name": "stderr",
     "output_type": "stream",
     "text": [
      "\u001b[33m[ WARN] [1743781494.278177572]: TF_REPEATED_DATA ignoring data with redundant timestamp for frame odom (parent map) at time 592.020000 according to authority /pose_integrator\u001b[0m\n",
      "\u001b[33m[ WARN] [1743781494.278245105]: TF_REPEATED_DATA ignoring data with redundant timestamp for frame odom (parent map) at time 592.020000 according to authority /pose_integrator\u001b[0m\n",
      "\u001b[33m[ WARN] [1743781494.278288510]: TF_REPEATED_DATA ignoring data with redundant timestamp for frame odom (parent map) at time 592.020000 according to authority /pose_integrator\u001b[0m\n",
      "\u001b[33m[ WARN] [1743781494.278335542]: TF_REPEATED_DATA ignoring data with redundant timestamp for frame odom (parent map) at time 592.020000 according to authority /pose_integrator\u001b[0m\n",
      "\u001b[33m[ WARN] [1743781494.278386882]: TF_REPEATED_DATA ignoring data with redundant timestamp for frame odom (parent map) at time 592.020000 according to authority /pose_integrator\u001b[0m\n",
      "\u001b[33m[ WARN] [1743781494.278437214]: TF_REPEATED_DATA ignoring data with redundant timestamp for frame odom (parent map) at time 592.020000 according to authority /pose_integrator\u001b[0m\n",
      "\u001b[33m[ WARN] [1743781494.687253368]: TF_REPEATED_DATA ignoring data with redundant timestamp for frame odom (parent map) at time 592.097000 according to authority /pose_integrator\u001b[0m\n",
      "\u001b[33m[ WARN] [1743781494.687332323]: TF_REPEATED_DATA ignoring data with redundant timestamp for frame odom (parent map) at time 592.097000 according to authority /pose_integrator\u001b[0m\n",
      "\u001b[33m[ WARN] [1743781494.687392446]: TF_REPEATED_DATA ignoring data with redundant timestamp for frame odom (parent map) at time 592.097000 according to authority /pose_integrator\u001b[0m\n",
      "\u001b[33m[ WARN] [1743781494.687446420]: TF_REPEATED_DATA ignoring data with redundant timestamp for frame odom (parent map) at time 592.097000 according to authority /pose_integrator\u001b[0m\n",
      "\u001b[33m[ WARN] [1743781494.687499178]: TF_REPEATED_DATA ignoring data with redundant timestamp for frame odom (parent map) at time 592.097000 according to authority /pose_integrator\u001b[0m\n",
      "\u001b[33m[ WARN] [1743781494.687554427]: TF_REPEATED_DATA ignoring data with redundant timestamp for frame odom (parent map) at time 592.097000 according to authority /pose_integrator\u001b[0m\n"
     ]
    }
   ],
   "source": [
    "E_R=points_to_PCA(points)\n",
    "E_R"
   ]
  },
  {
   "cell_type": "code",
   "execution_count": null,
   "id": "5c2061d5",
   "metadata": {},
   "outputs": [],
   "source": []
  },
  {
   "cell_type": "markdown",
   "id": "5652ea59",
   "metadata": {},
   "source": [
    "[-92.55031776  -0.92126908 118.62054193]<br>\n",
    "[-98.61322822 -44.31230308 106.44802105]<br>\n",
    "[106.458072   -64.33138726 112.32396092]<br>\n",
    "\n"
   ]
  },
  {
   "cell_type": "code",
   "execution_count": null,
   "id": "e39826ae",
   "metadata": {},
   "outputs": [],
   "source": [
    "\n",
    "print(np.rad2deg(tf.transformations.euler_from_matrix(E_R)))"
   ]
  },
  {
   "cell_type": "code",
   "execution_count": null,
   "id": "61e5964b",
   "metadata": {},
   "outputs": [],
   "source": [
    "print(np.rad2deg(tf.transformations.euler_from_matrix(E_R)))"
   ]
  },
  {
   "cell_type": "code",
   "execution_count": null,
   "id": "6d15a294",
   "metadata": {},
   "outputs": [],
   "source": []
  },
  {
   "cell_type": "code",
   "execution_count": null,
   "id": "c063d5b6",
   "metadata": {},
   "outputs": [],
   "source": [
    "quat=tf.transformations.quaternion_from_matrix(E_R)\n",
    "print(tf.transformations.euler_from_matrix(E_R))"
   ]
  },
  {
   "cell_type": "code",
   "execution_count": null,
   "id": "b96d1525",
   "metadata": {},
   "outputs": [],
   "source": [
    "points=rslt_df[['x','y','z']].dropna().values\n",
    "pt=rslt_df[['x','y','z']].mean().values\n"
   ]
  },
  {
   "cell_type": "code",
   "execution_count": null,
   "id": "2bfff52e",
   "metadata": {},
   "outputs": [],
   "source": [
    "from sklearn.decomposition import PCA\n",
    "Pca=PCA(n_components=3)\n",
    "Pca.fit(points)\n",
    "        \n",
    "\n",
    "print(Pca.singular_values_)\n",
    "print(Pca.explained_variance_)\n",
    "norm_expl=Pca.explained_variance_/Pca.explained_variance_.sum()\n",
    "norm_expl"
   ]
  },
  {
   "cell_type": "code",
   "execution_count": null,
   "id": "1acfed0f",
   "metadata": {},
   "outputs": [],
   "source": [
    "Pca.components_"
   ]
  },
  {
   "cell_type": "code",
   "execution_count": null,
   "id": "86f4f0f1",
   "metadata": {},
   "outputs": [],
   "source": [
    "#points=rslt_df[['x','y','z']].sample(300).values\n",
    "points=rslt_df[['x','y','z']].values\n",
    "fig = plt.figure()\n",
    "ax = fig.add_subplot(projection='3d')\n",
    "ax.scatter(points[:,0],points[:,1],points[:,2])\n",
    "pt=rslt_df[['x','y','z']].mean().values\n",
    "ax.scatter(pt[0],pt[1],pt[2],'o')\n"
   ]
  },
  {
   "cell_type": "code",
   "execution_count": null,
   "id": "0d749b77",
   "metadata": {},
   "outputs": [],
   "source": [
    "Pca.components_\n"
   ]
  },
  {
   "cell_type": "code",
   "execution_count": null,
   "id": "037e53c1",
   "metadata": {},
   "outputs": [],
   "source": [
    "np.cross(Pca.components_[0],Pca.components_[1])"
   ]
  },
  {
   "cell_type": "code",
   "execution_count": null,
   "id": "483b228f",
   "metadata": {},
   "outputs": [],
   "source": [
    "pt=rslt_df[['x','y','z']].mean().values\n",
    "pts_1=[]\n",
    "pts_2=[]\n",
    "pts_3=[]\n",
    "p_1=[]\n",
    "p_2=[]\n",
    "p_3=[]\n",
    "\n",
    "pts_1.append(pt)\n",
    "pts_2.append(pt)\n",
    "pts_3.append(pt)\n",
    "for i in range (-5,5):\n",
    "    \n",
    "    pts_1.append(pt +Pca.components_[0]*i/30 )\n",
    "    p_1.append(pt + (np.eye(3)[0]*i/30) )\n",
    "    pts_2.append(pt +Pca.components_[1]*i/30 )\n",
    "    p_2.append(pt + (np.eye(3)[1]*i/30) )\n",
    "    pts_3.append(pt +Pca.components_[2]*i/30 )\n",
    "    p_3.append(pt + (np.eye(3)[2]*i/30) )\n",
    "\n",
    "pts_1=np.asarray(pts_1)  \n",
    "pts_2=np.asarray(pts_2)    \n",
    "pts_3=np.asarray(pts_3)    \n",
    "ps_x=np.asarray(p_1)  \n",
    "ps_y=np.asarray(p_2)  \n",
    "ps_z=np.asarray(p_3)  "
   ]
  },
  {
   "cell_type": "code",
   "execution_count": null,
   "id": "74d747c4",
   "metadata": {},
   "outputs": [],
   "source": [
    "fig = plt.figure()\n",
    "#points=np.load('/home/roboworks/Documents/points.npy')\n",
    "\n",
    "ax = fig.add_subplot(111, projection = '3d')\n",
    "ax.scatter(points[:,0],points[:,1],points[:,2],alpha=0.051,c='c')\n",
    "ax.scatter(pts_1[:,0],pts_1[:,1],pts_1[:,2],c='r')\n",
    "ax.scatter(pts_2[:,0],pts_2[:,1],pts_2[:,2],c='g')\n",
    "ax.scatter(pts_3[:,0],pts_3[:,1],pts_3[:,2],c='b')\n",
    "#ax.scatter(ps_x[:,0],ps_x[:,1],ps_x[:,2],alpha=0.25,c='r')\n",
    "#ax.scatter(ps_y[:,0],ps_y[:,1],ps_y[:,2],alpha=0.25,c='g')\n",
    "#ax.scatter(ps_z[:,0],ps_z[:,1],ps_z[:,2],alpha=0.25,c='b')\n",
    "\n",
    "#ax.scatter(pt[1],pt[0],pt[2],'o', c='y')\n",
    "plt.show()"
   ]
  },
  {
   "cell_type": "code",
   "execution_count": null,
   "id": "47035cca",
   "metadata": {},
   "outputs": [],
   "source": [
    "pts_3"
   ]
  },
  {
   "cell_type": "code",
   "execution_count": null,
   "id": "0b8bd8e0",
   "metadata": {},
   "outputs": [],
   "source": [
    "ref=np.eye(3)\n",
    "pcas=Pca.components_\n",
    "R=[]\n",
    "R.append(np.dot(pcas[0],ref))\n",
    "R.append(np.dot(pcas[1],ref))\n",
    "R.append(np.dot(pcas[2],ref))\n",
    "\n",
    "R=np.asarray(R)\n",
    "## HOMOGENEUS\n",
    "E_R= np.zeros((4,4))\n",
    "E_R[:3,:3]+=R\n",
    "E_R[-1,-1]=1\n",
    "E_R"
   ]
  },
  {
   "cell_type": "code",
   "execution_count": null,
   "id": "21e0d2f7",
   "metadata": {},
   "outputs": [],
   "source": [
    "x_rot=np.asarray(np.matmul(pts_1,R))\n",
    "y_rot=np.asarray(np.matmul(pts_2,R))\n",
    "z_rot=np.asarray(np.matmul(pts_3,R))\n",
    "fig = plt.figure()\n",
    "points=np.load('/home/roboworks/Documents/points.npy')\n",
    "\n",
    "ax = fig.add_subplot(111, projection = '3d')\n",
    "ax.scatter(points[:,0],points[:,1],points[:,2],alpha=0.1,c='c')\n",
    "ax.scatter(pts_1[:,0],pts_1[:,1],pts_1[:,2],c='r')\n",
    "ax.scatter(pts_2[:,0],pts_2[:,1],pts_2[:,2],c='g')\n",
    "ax.scatter(pts_3[:,0],pts_3[:,1],pts_3[:,2],c='b')\n",
    "ax.scatter(ps_x[:,0],ps_x[:,1],ps_x[:,2],alpha=0.15,c='r')\n",
    "ax.scatter(ps_y[:,0],ps_y[:,1],ps_y[:,2],alpha=0.15,c='g')\n",
    "ax.scatter(ps_z[:,0],ps_z[:,1],ps_z[:,2],alpha=0.15,c='b')\n",
    "ax.scatter(x_rot[:,0],x_rot[:,1],x_rot[:,2],alpha=0.5,c='r')\n",
    "ax.scatter(y_rot[:,0],y_rot[:,1],y_rot[:,2],alpha=0.5,c='g')\n",
    "ax.scatter(z_rot[:,0],z_rot[:,1],z_rot[:,2],alpha=0.5,c='b')\n",
    "#ax.scatter(pt[1],pt[0],pt[2],'o', c='y')\n",
    "\n",
    "plt.show()"
   ]
  },
  {
   "cell_type": "code",
   "execution_count": null,
   "id": "f1263f54",
   "metadata": {},
   "outputs": [],
   "source": []
  },
  {
   "cell_type": "code",
   "execution_count": null,
   "id": "446f9a8c",
   "metadata": {},
   "outputs": [],
   "source": []
  },
  {
   "cell_type": "code",
   "execution_count": null,
   "id": "d3176ab9",
   "metadata": {},
   "outputs": [],
   "source": [
    "##  Z=0  ( Proyeccion)\n",
    "fig = plt.figure()\n",
    "ax = fig.add_subplot(111)\n",
    "\n",
    "ax.scatter(pts_1[:,0],pts_1[:,1],alpha=1,c='r')\n",
    "ax.scatter(ps_x[:,0],ps_x[:,1],alpha=0.25,c='r')\n",
    "plt.xlim(0.7,1)\n",
    "plt.ylim(-0.75,0.25)\n",
    "plt.show()"
   ]
  },
  {
   "cell_type": "code",
   "execution_count": null,
   "id": "8b201b71",
   "metadata": {},
   "outputs": [],
   "source": [
    "np.arctan2((pts_1[1,1]-pts_1[0,1]),(pts_1[1,0]-pts_1[0,0]))"
   ]
  },
  {
   "cell_type": "code",
   "execution_count": null,
   "id": "74a2dbb1",
   "metadata": {},
   "outputs": [],
   "source": [
    "ang= -np.arctan2((pts_1[1,1]-pts_1[0,1]),(pts_1[1,0]-pts_1[0,0]))\n",
    "mat=np.mat((np.asarray((np.cos(ang) ,np.sin(ang),0,-1*np.sin(ang),np.cos(ang),0,0,0,1)).reshape((3,3))))"
   ]
  },
  {
   "cell_type": "code",
   "execution_count": null,
   "id": "b4e8e7f9",
   "metadata": {},
   "outputs": [],
   "source": [
    "x_rot=np.asarray(np.matmul(pts_1,R))\n",
    "y_rot=np.asarray(np.matmul(pts_2,R))\n",
    "z_rot=np.asarray(np.matmul(pts_3,R))\n"
   ]
  },
  {
   "cell_type": "code",
   "execution_count": null,
   "id": "162cb29a",
   "metadata": {},
   "outputs": [],
   "source": [
    "\n",
    "fig = plt.figure()\n",
    "ax = fig.add_subplot(111)\n",
    "\n",
    "ax.scatter(pts_1[:,0],pts_1[:,1],alpha=1,c='r')\n",
    "ax.scatter(xy_rot[:,0],xy_rot[:,1],alpha=0.25,c='y')\n",
    "ax.scatter(ps_x[:,0],ps_x[:,1],alpha=0.25,c='r')\n",
    "\n",
    "plt.show()"
   ]
  },
  {
   "cell_type": "code",
   "execution_count": null,
   "id": "83144192",
   "metadata": {},
   "outputs": [],
   "source": [
    "fig = plt.figure()\n",
    "points=np.load('/home/roboworks/Documents/points.npy')\n",
    "\n",
    "ax = fig.add_subplot(111, projection = '3d')\n",
    "ax.scatter(points[:,0],points[:,1],points[:,2],alpha=0.1,c='c')\n",
    "ax.scatter(pts_1[:,0],pts_1[:,1],pts_1[:,2],c='r')\n",
    "ax.scatter(pts_2[:,0],pts_2[:,1],pts_2[:,2],c='g')\n",
    "ax.scatter(pts_3[:,0],pts_3[:,1],pts_3[:,2],c='b')\n",
    "ax.scatter(ps_x[:,0],ps_x[:,1],ps_x[:,2],alpha=0.15,c='r')\n",
    "ax.scatter(ps_y[:,0],ps_y[:,1],ps_y[:,2],alpha=0.15,c='g')\n",
    "ax.scatter(ps_z[:,0],ps_z[:,1],ps_z[:,2],alpha=0.15,c='b')\n",
    "ax.scatter(x_rot[:,0],x_rot[:,1],x_rot[:,2],alpha=0.25,c='r')\n",
    "ax.scatter(y_rot[:,0],y_rot[:,1],y_rot[:,2],alpha=0.25,c='g')\n",
    "ax.scatter(z_rot[:,0],z_rot[:,1],z_rot[:,2],alpha=0.25,c='b')\n",
    "#ax.scatter(pt[1],pt[0],pt[2],'o', c='y')\n",
    "\n",
    "plt.show()"
   ]
  },
  {
   "cell_type": "code",
   "execution_count": null,
   "id": "2814a73c",
   "metadata": {},
   "outputs": [],
   "source": [
    "##y=0\n",
    "##  Z=0  ( Proyeccion)\n",
    "fig = plt.figure()\n",
    "ax = fig.add_subplot(111)\n",
    "\n",
    "ax.scatter(x_rot[:,0],x_rot[:,2],alpha=0.25,c='r')\n",
    "ax.scatter(ps_x[:,0],ps_x[:,2],alpha=0.25,c='r')\n",
    "\n",
    "\n",
    "\n",
    "plt.show()"
   ]
  },
  {
   "cell_type": "code",
   "execution_count": null,
   "id": "e1ccb8aa",
   "metadata": {},
   "outputs": [],
   "source": [
    "ps_y"
   ]
  },
  {
   "cell_type": "code",
   "execution_count": null,
   "id": "df767054",
   "metadata": {},
   "outputs": [],
   "source": []
  },
  {
   "cell_type": "code",
   "execution_count": null,
   "id": "1f5e8318",
   "metadata": {},
   "outputs": [],
   "source": []
  },
  {
   "cell_type": "code",
   "execution_count": null,
   "id": "c119d1a5",
   "metadata": {},
   "outputs": [],
   "source": []
  },
  {
   "cell_type": "code",
   "execution_count": null,
   "id": "3ed77563",
   "metadata": {},
   "outputs": [],
   "source": []
  },
  {
   "cell_type": "code",
   "execution_count": null,
   "id": "cd8a8ee1",
   "metadata": {},
   "outputs": [],
   "source": [
    "pt=rslt_df[['x','y','z']].mean().values\n",
    "pts_1=[]\n",
    "pts_2=[]\n",
    "pts_3=[]\n",
    "\n",
    "pts_1.append(pt)\n",
    "pts_2.append(pt)\n",
    "pts_3.append(pt)\n",
    "\n",
    "for i in range (-5,5):\n",
    "    \n",
    "    pts_1.append(pt +Pca.components_[0]*i/30 )\n",
    "    pts_2.append(pt +Pca.components_[1]*i/30 )\n",
    "    pts_3.append(pt +Pca.components_[2]*i/30 )\n",
    "    \n",
    "pts_1=np.asarray(pts_1)    \n",
    "pts_2=np.asarray(pts_2)    \n",
    "pts_3=np.asarray(pts_3)    \n",
    "fig = plt.figure()\n",
    "points=np.load('/home/roboworks/Documents/points.npy')\n",
    "\n",
    "ax = fig.add_subplot(111, projection = '3d')\n",
    "ax.scatter(points[:,1],points[:,0],points[:,2],alpha=0.1,c='c')\n",
    "ax.scatter(pts_1[:,1],pts_1[:,0],pts_1[:,2],alpha=1,c='r')\n",
    "ax.scatter(pts_2[:,1],pts_2[:,0],pts_2[:,2],c='g')\n",
    "ax.scatter(pts_3[:,1],pts_3[:,0],pts_3[:,2],c='b')\n",
    "#ax.scatter(pt[1],pt[0],pt[2],'o', c='y')\n",
    "fig.canvas.draw()\n",
    "img = np.fromstring(fig.canvas.tostring_rgb(), dtype=np.uint8,\n",
    "            sep='')\n",
    "img  = img.reshape(fig.canvas.get_width_height()[::-1] + (3,))\n"
   ]
  },
  {
   "cell_type": "code",
   "execution_count": null,
   "id": "abe3645d",
   "metadata": {},
   "outputs": [],
   "source": [
    "plt.imshow (img)"
   ]
  },
  {
   "cell_type": "code",
   "execution_count": null,
   "id": "7a27950f",
   "metadata": {},
   "outputs": [],
   "source": [
    "fig.canvas.draw()\n",
    "img = np.fromstring(fig.canvas.tostring_rgb(), dtype=np.uint8,\n",
    "            sep='')\n",
    "img  = img.reshape(fig.canvas.get_width_height()[::-1] + (3,))"
   ]
  },
  {
   "cell_type": "code",
   "execution_count": null,
   "id": "7cb53529",
   "metadata": {},
   "outputs": [],
   "source": [
    "plt.imshow (img)\n"
   ]
  },
  {
   "cell_type": "code",
   "execution_count": null,
   "id": "1e3ce798",
   "metadata": {},
   "outputs": [],
   "source": [
    "#! pip install plotly\n"
   ]
  },
  {
   "cell_type": "code",
   "execution_count": null,
   "id": "7cc7214c",
   "metadata": {},
   "outputs": [],
   "source": [
    "fig = plt.figure()\n",
    "ax = fig.add_subplot(111)\n",
    "\n",
    "ax.scatter(pts_1[:,0],pts_1[:,1],alpha=1,c='r')\n",
    "ax.scatter(pts_2[:,0],pts_2[:,1],alpha=1,c='g')\n",
    "plt.xlim(-0.5, 1.5)\n",
    "\n",
    "plt.show()"
   ]
  },
  {
   "cell_type": "code",
   "execution_count": null,
   "id": "fbd3c43c",
   "metadata": {},
   "outputs": [],
   "source": [
    "np.arctan2((pts_1[1,1]-pts_1[0,1]),(pts_1[1,0]-pts_1[0,0]))"
   ]
  },
  {
   "cell_type": "code",
   "execution_count": null,
   "id": "2ca37356",
   "metadata": {},
   "outputs": [],
   "source": []
  },
  {
   "cell_type": "code",
   "execution_count": null,
   "id": "f503e1be",
   "metadata": {},
   "outputs": [],
   "source": [
    "b=-m*0.91222286-0.08526602"
   ]
  },
  {
   "cell_type": "code",
   "execution_count": null,
   "id": "920554f2",
   "metadata": {},
   "outputs": [],
   "source": []
  },
  {
   "cell_type": "code",
   "execution_count": null,
   "id": "0160c3d0",
   "metadata": {},
   "outputs": [],
   "source": [
    "pts_1[:,:2],pts_1[1,1],pts_1[0,1]"
   ]
  },
  {
   "cell_type": "code",
   "execution_count": null,
   "id": "4d65643a",
   "metadata": {},
   "outputs": [],
   "source": []
  },
  {
   "cell_type": "code",
   "execution_count": null,
   "id": "e41dec03",
   "metadata": {},
   "outputs": [],
   "source": [
    "x_y_1=pts_1[2:-1,:2]\n",
    "x_y_2=pts_2[2:-1,:2]"
   ]
  },
  {
   "cell_type": "code",
   "execution_count": null,
   "id": "dbbac6e1",
   "metadata": {},
   "outputs": [],
   "source": [
    "fig = plt.figure()\n",
    "ax = fig.add_subplot(111)\n",
    "\n",
    "ax.scatter(x_y_1[:,0],x_y_1[:,1],alpha=1,c='r')\n",
    "ax.scatter(x_y_2[:,0],x_y_2[:,1],alpha=1,c='g')\n",
    "ax.scatter(xy_rot[:,0], xy_rot[:,1],alpha=1,c='b')\n",
    "plt.show()"
   ]
  },
  {
   "cell_type": "code",
   "execution_count": null,
   "id": "08e40a19",
   "metadata": {},
   "outputs": [],
   "source": [
    "ang= 0.7\n",
    "mat=np.mat((np.asarray((np.cos(ang) ,np.sin(ang),0,-1*np.sin(ang),np.cos(ang),0,0,0,1)).reshape((3,3))))"
   ]
  },
  {
   "cell_type": "code",
   "execution_count": null,
   "id": "8bd8869a",
   "metadata": {},
   "outputs": [],
   "source": [
    "xy_rot=np.asarray(np.matmul(pts_1,mat))\n",
    "xy2_rot=np.asarray(np.matmul(pts_2,mat))"
   ]
  },
  {
   "cell_type": "code",
   "execution_count": null,
   "id": "9d0d6be1",
   "metadata": {},
   "outputs": [],
   "source": []
  },
  {
   "cell_type": "code",
   "execution_count": null,
   "id": "87aedd7d",
   "metadata": {},
   "outputs": [],
   "source": [
    "\n",
    "fig = plt.figure()\n",
    "ax = fig.add_subplot(111)\n",
    "\n",
    "ax.scatter(x_y_1[:,0],x_y_1[:,1],alpha=1,c='r')\n",
    "ax.scatter(x_y_2[:,0],x_y_2[:,1],alpha=1,c='g')\n",
    "ax.scatter(xy_rot[:,0], xy_rot[:,1],alpha=1,c='r')\n",
    "ax.scatter(xy2_rot[:,0], xy2_rot[:,1],alpha=1,c='g')\n",
    "\n",
    "plt.xlim(0,1)\n",
    "plt.ylim(0,1)\n",
    "plt.show()"
   ]
  },
  {
   "cell_type": "code",
   "execution_count": null,
   "id": "9a7eb31e",
   "metadata": {},
   "outputs": [],
   "source": [
    "x_y_1"
   ]
  },
  {
   "cell_type": "code",
   "execution_count": null,
   "id": "5cb4a3f4",
   "metadata": {},
   "outputs": [],
   "source": [
    "xy_rot.reshape((8,2))"
   ]
  },
  {
   "cell_type": "code",
   "execution_count": null,
   "id": "54c90f02",
   "metadata": {},
   "outputs": [],
   "source": []
  },
  {
   "cell_type": "code",
   "execution_count": null,
   "id": "b72f2827",
   "metadata": {},
   "outputs": [],
   "source": []
  },
  {
   "cell_type": "code",
   "execution_count": null,
   "id": "e52986e2",
   "metadata": {},
   "outputs": [],
   "source": []
  },
  {
   "cell_type": "code",
   "execution_count": null,
   "id": "9ad4dfbe",
   "metadata": {},
   "outputs": [],
   "source": []
  },
  {
   "cell_type": "code",
   "execution_count": null,
   "id": "e6169d09",
   "metadata": {},
   "outputs": [],
   "source": []
  },
  {
   "cell_type": "code",
   "execution_count": null,
   "id": "b05e2ba7",
   "metadata": {},
   "outputs": [],
   "source": []
  },
  {
   "cell_type": "code",
   "execution_count": null,
   "id": "61be700a",
   "metadata": {},
   "outputs": [],
   "source": []
  },
  {
   "cell_type": "code",
   "execution_count": null,
   "id": "1ddd321f",
   "metadata": {},
   "outputs": [],
   "source": []
  },
  {
   "cell_type": "code",
   "execution_count": null,
   "id": "bc28898f",
   "metadata": {},
   "outputs": [],
   "source": []
  },
  {
   "cell_type": "code",
   "execution_count": null,
   "id": "8e09e2c0",
   "metadata": {},
   "outputs": [],
   "source": [
    "pcas=Pca.components_"
   ]
  },
  {
   "cell_type": "code",
   "execution_count": null,
   "id": "7b922b35",
   "metadata": {},
   "outputs": [],
   "source": [
    "ref=np.eye(3)"
   ]
  },
  {
   "cell_type": "code",
   "execution_count": null,
   "id": "880a7591",
   "metadata": {},
   "outputs": [],
   "source": [
    "R=[]\n",
    "R.append(np.dot(pcas[0],ref))\n",
    "R.append(np.dot(pcas[1],ref))\n",
    "R.append(np.dot(pcas[2],ref))\n",
    "\n",
    "R=np.asarray(R)\n",
    "## HOMOGENEUS\n",
    "E_R= np.zeros((4,4))\n",
    "E_R[:3,:3]+=R\n",
    "E_R[-1,-1]=1\n",
    "tf.transformations.quaternion_from_matrix(E_R)"
   ]
  },
  {
   "cell_type": "code",
   "execution_count": null,
   "id": "85a50689",
   "metadata": {},
   "outputs": [],
   "source": []
  },
  {
   "cell_type": "code",
   "execution_count": null,
   "id": "e2ec761f",
   "metadata": {},
   "outputs": [],
   "source": [
    "points.shape"
   ]
  },
  {
   "cell_type": "code",
   "execution_count": null,
   "id": "20a5bd76",
   "metadata": {},
   "outputs": [],
   "source": [
    "cv2.__version__"
   ]
  },
  {
   "cell_type": "code",
   "execution_count": null,
   "id": "d975e6b5",
   "metadata": {},
   "outputs": [],
   "source": [
    "R"
   ]
  },
  {
   "cell_type": "code",
   "execution_count": null,
   "id": "af8e9974",
   "metadata": {},
   "outputs": [],
   "source": [
    "## HOMOGENEUS\n",
    "E_R= np.zeros((4,4))\n",
    "E_R[:3,:3]+=R\n",
    "E_R[-1,-1]=1"
   ]
  },
  {
   "cell_type": "code",
   "execution_count": null,
   "id": "75351618",
   "metadata": {},
   "outputs": [],
   "source": []
  },
  {
   "cell_type": "code",
   "execution_count": null,
   "id": "6f0b1afc",
   "metadata": {},
   "outputs": [],
   "source": [
    "points= rgbd.get_points()"
   ]
  },
  {
   "cell_type": "code",
   "execution_count": null,
   "id": "afd79b31",
   "metadata": {},
   "outputs": [],
   "source": [
    "from smach_utils2 import *\n",
    "import matplotlib.pyplot as plt\n",
    "plt.imshow(img_map[700:1200,700:1400])"
   ]
  },
  {
   "cell_type": "code",
   "execution_count": null,
   "id": "7b3a8829",
   "metadata": {},
   "outputs": [],
   "source": []
  },
  {
   "cell_type": "code",
   "execution_count": null,
   "id": "3f7fa3e3",
   "metadata": {},
   "outputs": [],
   "source": [
    "plt.imshow(img_map[700:1200,700:1400])"
   ]
  },
  {
   "cell_type": "code",
   "execution_count": null,
   "id": "6ba7e43c",
   "metadata": {},
   "outputs": [],
   "source": [
    "mask=cv2.imread('/home/roboworks/Documents/imgcorr.png')\n",
    "plt.imshow (mask[:,:,2]*255)"
   ]
  },
  {
   "cell_type": "code",
   "execution_count": null,
   "id": "82f78a90",
   "metadata": {},
   "outputs": [],
   "source": [
    "img_correc"
   ]
  },
  {
   "cell_type": "code",
   "execution_count": null,
   "id": "854ef810",
   "metadata": {},
   "outputs": [],
   "source": [
    "img=im[:,:,0]"
   ]
  },
  {
   "cell_type": "code",
   "execution_count": null,
   "id": "faf1e3a3",
   "metadata": {},
   "outputs": [],
   "source": [
    "np.where(img==0, )\n",
    "img_corrected = np.where((img==0) ,img,1.0)  #FLOOR"
   ]
  },
  {
   "cell_type": "code",
   "execution_count": null,
   "id": "50d34d9c",
   "metadata": {},
   "outputs": [],
   "source": [
    "plt.imshow (img_corrected*255)"
   ]
  },
  {
   "cell_type": "code",
   "execution_count": null,
   "id": "1e3cbc1c",
   "metadata": {},
   "outputs": [],
   "source": [
    "im.shape"
   ]
  },
  {
   "cell_type": "code",
   "execution_count": null,
   "id": "bac4d614",
   "metadata": {},
   "outputs": [],
   "source": [
    "pts=rgbd.get_points()"
   ]
  },
  {
   "cell_type": "code",
   "execution_count": null,
   "id": "ea94d437",
   "metadata": {},
   "outputs": [],
   "source": [
    "def write_tf(pose, q, child_frame=\"\" , parent_frame='map'):\n",
    "    #  pose = trans  q = quaternion  , childframe =\"\"\n",
    "    # format  write the transformstampled message\n",
    "    t= TransformStamped()\n",
    "    t.header.stamp = rospy.Time.now()\n",
    "    #t.header.stamp = rospy.Time(0)\n",
    "    t.header.frame_id =parent_frame\n",
    "    t.child_frame_id =  child_frame\n",
    "    t.transform.translation.x = pose[0]\n",
    "    t.transform.translation.y = pose[1]\n",
    "    t.transform.translation.z = pose[2]\n",
    "    #q = tf.transformations.quaternion_from_euler(eu[0], eu[1], eu[2])\n",
    "    t.transform.rotation.x = q[0]\n",
    "    t.transform.rotation.y = q[1]\n",
    "    t.transform.rotation.z = q[2]\n",
    "    t.transform.rotation.w = q[3]\n",
    "    return t\n",
    "#-----------------------------------------------------------------\n",
    "def read_tf(t):\n",
    "    # trasnform message to np arrays\n",
    "    pose=np.asarray((\n",
    "        t.transform.translation.x,\n",
    "        t.transform.translation.y,\n",
    "        t.transform.translation.z\n",
    "        ))\n",
    "    quat=np.asarray((\n",
    "        t.transform.rotation.x,\n",
    "        t.transform.rotation.y,\n",
    "        t.transform.rotation.z,\n",
    "        t.transform.rotation.w\n",
    "        ))\n",
    "    \n",
    "    return pose, quat\n",
    "\n",
    "def correct_points(points_msg):\n",
    "\n",
    "    # Function that transforms Point Cloud reference frame from  head, to map. (i.e. sensor coords to map coords )\n",
    "    # img= correct_points() (Returns rgbd depth corrected image)    \n",
    "    #points msg in \n",
    "    #data = rospy.wait_for_message('/hsrb/head_rgbd_sensor/depth_registered/rectified_points', PointCloud2)\n",
    "    \n",
    "\n",
    "    np_data=ros_numpy.numpify(points_msg)\n",
    "\n",
    "    try:\n",
    "        trans = tfBuffer.lookup_transform('map', 'head_rgbd_sensor_link', rospy.Time())\n",
    "                    \n",
    "        trans,rot=read_tf(trans)\n",
    "        print (\"############head\",trans,rot)\n",
    "    except (tf2_ros.LookupException, tf2_ros.ConnectivityException, tf2_ros.ExtrapolationException):\n",
    "        print ( 'No  head TF FOUND')\n",
    "\n",
    "    #trans,rot=tf_listener.lookupTransform('/map', '/head_rgbd_sensor_rgb_frame', rospy.Time(0))\n",
    "    #print (\"############TF1\",trans,rot)\n",
    "    eu=np.asarray(tf.transformations.euler_from_quaternion(rot))\n",
    "    t=TransformStamped()\n",
    "    rot=tf.transformations.quaternion_from_euler(eu[0],eu[1],eu[2])\n",
    "    #rot=tf.transformations.quaternion_from_euler(-eu[1],0,0)\n",
    "    t.header.stamp = points_msg.header.stamp\n",
    "    t.transform.rotation.x = rot[0]\n",
    "    t.transform.rotation.y = rot[1]\n",
    "    t.transform.rotation.z = rot[2]\n",
    "    t.transform.rotation.w = rot[3]\n",
    "    cloud_out = do_transform_cloud(points_msg, t)\n",
    "    np_corrected=ros_numpy.numpify(cloud_out)\n",
    "    corrected=np_corrected.reshape(np_data.shape)\n",
    "    img= np.copy(-corrected['z'])\n",
    "    img[np.isnan(img)]=2\n",
    "    img_corrected = np.where((img<trans[2]*0.96) ,img,5)\n",
    "\n",
    "    return img_corrected , corrected"
   ]
  },
  {
   "cell_type": "code",
   "execution_count": null,
   "id": "1da30146",
   "metadata": {},
   "outputs": [],
   "source": [
    "points_msg=rospy.wait_for_message(\"/hsrb/head_rgbd_sensor/depth_registered/rectified_points\",PointCloud2,timeout=5)"
   ]
  },
  {
   "cell_type": "code",
   "execution_count": null,
   "id": "9993e898",
   "metadata": {},
   "outputs": [],
   "source": [
    "points_data = ros_numpy.numpify(points_msg)\n",
    "img_corrected ,corrected = correct_points(points_msg)\n",
    "for i in range(corrected['x'].shape[0]):\n",
    "    for j in range(corrected['x'].shape[1]):\n",
    "        pass\n",
    "        #print(corrected[['x','y','z']][i,j])"
   ]
  },
  {
   "cell_type": "code",
   "execution_count": null,
   "id": "479b4731",
   "metadata": {},
   "outputs": [],
   "source": [
    "origin_map_img=[round(img_map.shape[0]*0.5) ,round(img_map.shape[1]*0.5)]\n",
    "corrected[0,0]"
   ]
  },
  {
   "cell_type": "code",
   "execution_count": null,
   "id": "52f92e44",
   "metadata": {},
   "outputs": [],
   "source": [
    "\n",
    "points_data[['x','y','z']].shape"
   ]
  },
  {
   "cell_type": "code",
   "execution_count": null,
   "id": "a2289d4e",
   "metadata": {},
   "outputs": [],
   "source": [
    "points_data[['x','y','z']][250,300] , corrected[['x','y','z']][250,300]"
   ]
  },
  {
   "cell_type": "code",
   "execution_count": null,
   "id": "d3820b10",
   "metadata": {},
   "outputs": [],
   "source": [
    "plt.imshow(corrected['x'])"
   ]
  },
  {
   "cell_type": "code",
   "execution_count": null,
   "id": "bb7ec676",
   "metadata": {},
   "outputs": [],
   "source": [
    "corrected[['x','y','z']][240,320]"
   ]
  },
  {
   "cell_type": "code",
   "execution_count": null,
   "id": "3bcef674",
   "metadata": {},
   "outputs": [],
   "source": [
    "robot_pose=get_robot_px()\n",
    "px_pose_robot=np.asarray((origin_map_img[1]+robot_pose[1],origin_map_img[0]+robot_pose[0]))\n",
    "iimg=draw_at(px_pose_robot[0], px_pose_robot[1] , img_map )   #ROBOT PX POSE"
   ]
  },
  {
   "cell_type": "code",
   "execution_count": null,
   "id": "e1198875",
   "metadata": {},
   "outputs": [],
   "source": [
    "plt.imshow (iimg[750:1300,800:1500])"
   ]
  },
  {
   "cell_type": "code",
   "execution_count": null,
   "id": "0bedebb2",
   "metadata": {},
   "outputs": [],
   "source": [
    "corrected[0,0]"
   ]
  },
  {
   "cell_type": "code",
   "execution_count": null,
   "id": "47f80a6e",
   "metadata": {},
   "outputs": [],
   "source": [
    "def draw_at (px,py, contoured):\n",
    "    contoured[px-5:px+5,py-5:py+5]=200\n",
    "    return contoured\n",
    "    "
   ]
  },
  {
   "cell_type": "code",
   "execution_count": null,
   "id": "46048983",
   "metadata": {},
   "outputs": [],
   "source": [
    "origin_map_img=[round(img_map.shape[0]*0.5) ,round(img_map.shape[1]*0.5)]\n",
    "robot_pose=get_robot_px()\n",
    "\n",
    "points_msg=rospy.wait_for_message(\"/hsrb/head_rgbd_sensor/depth_registered/rectified_points\",PointCloud2,timeout=5)\n",
    "points_data = ros_numpy.numpify(points_msg)\n",
    "img_corrected ,corrected = correct_points(points_msg)\n",
    "for i in range (400):\n",
    "    if np.isnan(corrected[i,-1][0]) or np.isnan(corrected[-1,i][0])or np.isnan(corrected[i,0][0]) or np.isnan(corrected[0,i][0]) :print('nan ')\n",
    "        \n",
    "    else:\n",
    "        px_from_pose= origin_map_img[1]+ round(corrected[i,0][1]/pix_per_m)+robot_pose[1],origin_map_img[0]+ round(corrected[i,0][0]/pix_per_m)+robot_pose[0]\n",
    "        iimg=draw_at(px_from_pose[0], px_from_pose[1] , img_map )\n",
    "        px_from_pose= origin_map_img[1]+ round(corrected[i,-1][1]/pix_per_m)+robot_pose[1],origin_map_img[0]+ round(corrected[i,-1][0]/pix_per_m)+robot_pose[0]\n",
    "        iimg=draw_at(px_from_pose[0], px_from_pose[1] , img_map )\n",
    "        px_from_pose= origin_map_img[1]+ round(corrected[0,i][1]/pix_per_m)+robot_pose[1],origin_map_img[0]+ round(corrected[0,i][0]/pix_per_m)+robot_pose[0]\n",
    "        iimg=draw_at(px_from_pose[0], px_from_pose[1] , img_map )\n",
    "        px_from_pose= origin_map_img[1]+ round(corrected[-1,i][1]/pix_per_m)+robot_pose[1],origin_map_img[0]+ round(corrected[-1,i][0]/pix_per_m)+robot_pose[0]\n",
    "        iimg=draw_at(px_from_pose[0], px_from_pose[1] , img_map )\n",
    "\n",
    "\n",
    "\n",
    "plt.imshow(iimg[750:1300,800:1500])\n"
   ]
  },
  {
   "cell_type": "code",
   "execution_count": null,
   "id": "fe8f558e",
   "metadata": {},
   "outputs": [],
   "source": [
    "iimg=draw_at(origin_map_img[1], origin_map_img[0] , img_map )\n",
    "plt.imshow(iimg[750:1300,800:1500])\n"
   ]
  },
  {
   "cell_type": "code",
   "execution_count": null,
   "id": "379033bc",
   "metadata": {},
   "outputs": [],
   "source": [
    "\n",
    "\n",
    "px_from_map=np.asarray((origin_map_img[1]+corrected[-1,-1][0],origin_map_img[0]+corrected[-1,-1][1]))\n",
    "iimg=draw_at(px_from_pose[0], px_from_pose[1] , img_map )\n",
    "plt.imshow(iimg[750:1300,800:1500])\n"
   ]
  },
  {
   "cell_type": "code",
   "execution_count": null,
   "id": "4154d2a2",
   "metadata": {},
   "outputs": [],
   "source": [
    "iimg=draw_at(px_from_pose[0], px_from_pose[1] , img_map )"
   ]
  },
  {
   "cell_type": "code",
   "execution_count": null,
   "id": "e8596a47",
   "metadata": {},
   "outputs": [],
   "source": [
    "plt.imshow(iimg[750:1300,800:1500])"
   ]
  },
  {
   "cell_type": "code",
   "execution_count": null,
   "id": "194e0400",
   "metadata": {},
   "outputs": [],
   "source": [
    "img_map[origin_map_img[1]+ round(corrected[0,0][1]/pix_per_m),origin_map_img[0]+ round(corrected[0,0][0]/pix_per_m)]"
   ]
  },
  {
   "cell_type": "code",
   "execution_count": null,
   "id": "e8283fc4",
   "metadata": {},
   "outputs": [],
   "source": [
    "plt.imshow(corrected['x'])"
   ]
  },
  {
   "cell_type": "code",
   "execution_count": null,
   "id": "82681b1d",
   "metadata": {},
   "outputs": [],
   "source": [
    "corrected[100,500]"
   ]
  },
  {
   "cell_type": "raw",
   "id": "edface7c",
   "metadata": {},
   "source": [
    "from smach_utils2 import *\n"
   ]
  },
  {
   "cell_type": "code",
   "execution_count": 23,
   "id": "8927179c",
   "metadata": {},
   "outputs": [],
   "source": [
    "from smach_utils2 import *\n",
    "\n",
    "points_msg=rospy.wait_for_message(\"/hsrb/head_rgbd_sensor/depth_registered/rectified_points\",PointCloud2,timeout=5)"
   ]
  },
  {
   "cell_type": "code",
   "execution_count": 1,
   "id": "251bfe41",
   "metadata": {},
   "outputs": [
    {
     "name": "stderr",
     "output_type": "stream",
     "text": [
      "/home/roboworks/.local/lib/python3.8/site-packages/pandas/core/computation/expressions.py:20: UserWarning: Pandas requires version '2.7.3' or newer of 'numexpr' (version '2.7.1' currently installed).\n",
      "  from pandas.core.computation.check import NUMEXPR_INSTALLED\n",
      "\u001b[33m[ WARN] [1743740984.834947761]: TF_REPEATED_DATA ignoring data with redundant timestamp for frame odom (parent map) at time 1164.787000 according to authority /pose_integrator\u001b[0m\n"
     ]
    }
   ],
   "source": [
    "from smach_utils2 import *\n"
   ]
  },
  {
   "cell_type": "code",
   "execution_count": 115,
   "id": "2312565b",
   "metadata": {},
   "outputs": [],
   "source": [
    "points_msg=rospy.wait_for_message(\"/hsrb/head_rgbd_sensor/depth_registered/rectified_points\",PointCloud2,timeout=5)"
   ]
  },
  {
   "cell_type": "code",
   "execution_count": 116,
   "id": "8909c2f3",
   "metadata": {},
   "outputs": [],
   "source": [
    "points_data = ros_numpy.numpify(points_msg)\n",
    "image = points_data['rgb'].view((np.uint8, 4))[..., [2, 1, 0]]\n",
    "rgb_image = cv2.cvtColor(image, cv2.COLOR_BGR2RGB)    "
   ]
  },
  {
   "cell_type": "code",
   "execution_count": 117,
   "id": "56f4b543",
   "metadata": {},
   "outputs": [
    {
     "data": {
      "text/plain": [
       "<matplotlib.image.AxesImage at 0x7f99ac4be1c0>"
      ]
     },
     "execution_count": 117,
     "metadata": {},
     "output_type": "execute_result"
    },
    {
     "name": "stderr",
     "output_type": "stream",
     "text": [
      "\u001b[33m[ WARN] [1743783030.030691241]: TF_REPEATED_DATA ignoring data with redundant timestamp for frame odom (parent map) at time 839.563000 according to authority /pose_integrator\u001b[0m\n",
      "\u001b[33m[ WARN] [1743783030.030748710]: TF_REPEATED_DATA ignoring data with redundant timestamp for frame odom (parent map) at time 839.563000 according to authority /pose_integrator\u001b[0m\n",
      "\u001b[33m[ WARN] [1743783030.030782251]: TF_REPEATED_DATA ignoring data with redundant timestamp for frame odom (parent map) at time 839.563000 according to authority /pose_integrator\u001b[0m\n",
      "\u001b[33m[ WARN] [1743783030.030821786]: TF_REPEATED_DATA ignoring data with redundant timestamp for frame odom (parent map) at time 839.563000 according to authority /pose_integrator\u001b[0m\n",
      "\u001b[33m[ WARN] [1743783030.030865932]: TF_REPEATED_DATA ignoring data with redundant timestamp for frame odom (parent map) at time 839.563000 according to authority /pose_integrator\u001b[0m\n",
      "\u001b[33m[ WARN] [1743783030.030923830]: TF_REPEATED_DATA ignoring data with redundant timestamp for frame odom (parent map) at time 839.563000 according to authority /pose_integrator\u001b[0m\n",
      "\u001b[33m[ WARN] [1743783030.290584176]: TF_REPEATED_DATA ignoring data with redundant timestamp for frame odom (parent map) at time 839.627000 according to authority /pose_integrator\u001b[0m\n",
      "\u001b[33m[ WARN] [1743783030.290634344]: TF_REPEATED_DATA ignoring data with redundant timestamp for frame odom (parent map) at time 839.627000 according to authority /pose_integrator\u001b[0m\n",
      "\u001b[33m[ WARN] [1743783030.290665095]: TF_REPEATED_DATA ignoring data with redundant timestamp for frame odom (parent map) at time 839.627000 according to authority /pose_integrator\u001b[0m\n",
      "\u001b[33m[ WARN] [1743783030.290692514]: TF_REPEATED_DATA ignoring data with redundant timestamp for frame odom (parent map) at time 839.627000 according to authority /pose_integrator\u001b[0m\n",
      "\u001b[33m[ WARN] [1743783030.290735143]: TF_REPEATED_DATA ignoring data with redundant timestamp for frame odom (parent map) at time 839.627000 according to authority /pose_integrator\u001b[0m\n",
      "\u001b[33m[ WARN] [1743783030.290765585]: TF_REPEATED_DATA ignoring data with redundant timestamp for frame odom (parent map) at time 839.627000 according to authority /pose_integrator\u001b[0m\n"
     ]
    },
    {
     "data": {
      "image/png": "[encoded data removed]",
      "text/plain": [
       "<Figure size 640x480 with 1 Axes>"
      ]
     },
     "metadata": {},
     "output_type": "display_data"
    },
    {
     "name": "stderr",
     "output_type": "stream",
     "text": [
      "\u001b[33m[ WARN] [1743783031.112426307]: TF_REPEATED_DATA ignoring data with redundant timestamp for frame odom (parent map) at time 839.825000 according to authority /pose_integrator\u001b[0m\n",
      "\u001b[33m[ WARN] [1743783031.112471498]: TF_REPEATED_DATA ignoring data with redundant timestamp for frame odom (parent map) at time 839.825000 according to authority /pose_integrator\u001b[0m\n",
      "\u001b[33m[ WARN] [1743783031.112499662]: TF_REPEATED_DATA ignoring data with redundant timestamp for frame odom (parent map) at time 839.825000 according to authority /pose_integrator\u001b[0m\n",
      "\u001b[33m[ WARN] [1743783031.112521764]: TF_REPEATED_DATA ignoring data with redundant timestamp for frame odom (parent map) at time 839.825000 according to authority /pose_integrator\u001b[0m\n",
      "\u001b[33m[ WARN] [1743783031.112542847]: TF_REPEATED_DATA ignoring data with redundant timestamp for frame odom (parent map) at time 839.825000 according to authority /pose_integrator\u001b[0m\n",
      "\u001b[33m[ WARN] [1743783031.112563834]: TF_REPEATED_DATA ignoring data with redundant timestamp for frame odom (parent map) at time 839.825000 according to authority /pose_integrator\u001b[0m\n",
      "\u001b[33m[ WARN] [1743783031.600402131]: TF_REPEATED_DATA ignoring data with redundant timestamp for frame odom (parent map) at time 839.996000 according to authority /pose_integrator\u001b[0m\n",
      "\u001b[33m[ WARN] [1743783031.600452954]: TF_REPEATED_DATA ignoring data with redundant timestamp for frame odom (parent map) at time 839.996000 according to authority /pose_integrator\u001b[0m\n",
      "\u001b[33m[ WARN] [1743783031.600490295]: TF_REPEATED_DATA ignoring data with redundant timestamp for frame odom (parent map) at time 839.996000 according to authority /pose_integrator\u001b[0m\n",
      "\u001b[33m[ WARN] [1743783031.600528768]: TF_REPEATED_DATA ignoring data with redundant timestamp for frame odom (parent map) at time 839.996000 according to authority /pose_integrator\u001b[0m\n",
      "\u001b[33m[ WARN] [1743783031.600563858]: TF_REPEATED_DATA ignoring data with redundant timestamp for frame odom (parent map) at time 839.996000 according to authority /pose_integrator\u001b[0m\n",
      "\u001b[33m[ WARN] [1743783031.600596559]: TF_REPEATED_DATA ignoring data with redundant timestamp for frame odom (parent map) at time 839.996000 according to authority /pose_integrator\u001b[0m\n",
      "\u001b[33m[ WARN] [1743783032.290351521]: TF_REPEATED_DATA ignoring data with redundant timestamp for frame odom (parent map) at time 840.184000 according to authority /pose_integrator\u001b[0m\n",
      "\u001b[33m[ WARN] [1743783032.290423687]: TF_REPEATED_DATA ignoring data with redundant timestamp for frame odom (parent map) at time 840.184000 according to authority /pose_integrator\u001b[0m\n",
      "\u001b[33m[ WARN] [1743783032.290484375]: TF_REPEATED_DATA ignoring data with redundant timestamp for frame odom (parent map) at time 840.184000 according to authority /pose_integrator\u001b[0m\n",
      "\u001b[33m[ WARN] [1743783032.290533066]: TF_REPEATED_DATA ignoring data with redundant timestamp for frame odom (parent map) at time 840.184000 according to authority /pose_integrator\u001b[0m\n",
      "\u001b[33m[ WARN] [1743783032.290583378]: TF_REPEATED_DATA ignoring data with redundant timestamp for frame odom (parent map) at time 840.184000 according to authority /pose_integrator\u001b[0m\n",
      "\u001b[33m[ WARN] [1743783032.290640714]: TF_REPEATED_DATA ignoring data with redundant timestamp for frame odom (parent map) at time 840.184000 according to authority /pose_integrator\u001b[0m\n"
     ]
    }
   ],
   "source": [
    "plt.imshow(rgb_image)"
   ]
  },
  {
   "cell_type": "code",
   "execution_count": 118,
   "id": "2a900bcd",
   "metadata": {},
   "outputs": [
    {
     "name": "stderr",
     "output_type": "stream",
     "text": [
      "\u001b[33m[ WARN] [1743783035.924381337]: TF_REPEATED_DATA ignoring data with redundant timestamp for frame odom (parent map) at time 841.038000 according to authority /pose_integrator\u001b[0m\n",
      "\u001b[33m[ WARN] [1743783035.924440184]: TF_REPEATED_DATA ignoring data with redundant timestamp for frame odom (parent map) at time 841.038000 according to authority /pose_integrator\u001b[0m\n",
      "\u001b[33m[ WARN] [1743783035.924480095]: TF_REPEATED_DATA ignoring data with redundant timestamp for frame odom (parent map) at time 841.038000 according to authority /pose_integrator\u001b[0m\n",
      "\u001b[33m[ WARN] [1743783035.924518066]: TF_REPEATED_DATA ignoring data with redundant timestamp for frame odom (parent map) at time 841.038000 according to authority /pose_integrator\u001b[0m\n",
      "\u001b[33m[ WARN] [1743783035.924550438]: TF_REPEATED_DATA ignoring data with redundant timestamp for frame odom (parent map) at time 841.038000 according to authority /pose_integrator\u001b[0m\n",
      "\u001b[33m[ WARN] [1743783035.924577037]: TF_REPEATED_DATA ignoring data with redundant timestamp for frame odom (parent map) at time 841.038000 according to authority /pose_integrator\u001b[0m\n"
     ]
    }
   ],
   "source": [
    "try:\n",
    "        trans = tfBuffer.lookup_transform('map', 'head_rgbd_sensor_link', rospy.Time())\n",
    "\n",
    "        trans,rot=read_tf(trans)\n",
    "        #print (\"############head\",trans,rot)\n",
    "except (tf2_ros.LookupException, tf2_ros.ConnectivityException, tf2_ros.ExtrapolationException):\n",
    "        print ( 'No head TF FOUND')\n",
    "t= write_tf(trans,rot)\n",
    "cloud_out = do_transform_cloud(points_msg, t)"
   ]
  },
  {
   "cell_type": "code",
   "execution_count": null,
   "id": "4a4ece2c",
   "metadata": {},
   "outputs": [],
   "source": []
  },
  {
   "cell_type": "code",
   "execution_count": 119,
   "id": "c8d7d8b1",
   "metadata": {},
   "outputs": [
    {
     "name": "stderr",
     "output_type": "stream",
     "text": [
      "\u001b[33m[ WARN] [1743783038.404733440]: TF_REPEATED_DATA ignoring data with redundant timestamp for frame odom (parent map) at time 841.594000 according to authority /pose_integrator\u001b[0m\n",
      "\u001b[33m[ WARN] [1743783038.404793213]: TF_REPEATED_DATA ignoring data with redundant timestamp for frame odom (parent map) at time 841.594000 according to authority /pose_integrator\u001b[0m\n",
      "\u001b[33m[ WARN] [1743783038.404837263]: TF_REPEATED_DATA ignoring data with redundant timestamp for frame odom (parent map) at time 841.594000 according to authority /pose_integrator\u001b[0m\n",
      "\u001b[33m[ WARN] [1743783038.404871953]: TF_REPEATED_DATA ignoring data with redundant timestamp for frame odom (parent map) at time 841.594000 according to authority /pose_integrator\u001b[0m\n",
      "\u001b[33m[ WARN] [1743783038.404914278]: TF_REPEATED_DATA ignoring data with redundant timestamp for frame odom (parent map) at time 841.594000 according to authority /pose_integrator\u001b[0m\n",
      "\u001b[33m[ WARN] [1743783038.404953348]: TF_REPEATED_DATA ignoring data with redundant timestamp for frame odom (parent map) at time 841.594000 according to authority /pose_integrator\u001b[0m\n",
      "\u001b[33m[ WARN] [1743783042.389597579]: TF_REPEATED_DATA ignoring data with redundant timestamp for frame odom (parent map) at time 842.606000 according to authority /pose_integrator\u001b[0m\n",
      "\u001b[33m[ WARN] [1743783042.389673565]: TF_REPEATED_DATA ignoring data with redundant timestamp for frame odom (parent map) at time 842.606000 according to authority /pose_integrator\u001b[0m\n",
      "\u001b[33m[ WARN] [1743783042.389709983]: TF_REPEATED_DATA ignoring data with redundant timestamp for frame odom (parent map) at time 842.606000 according to authority /pose_integrator\u001b[0m\n",
      "\u001b[33m[ WARN] [1743783042.389752464]: TF_REPEATED_DATA ignoring data with redundant timestamp for frame odom (parent map) at time 842.606000 according to authority /pose_integrator\u001b[0m\n",
      "\u001b[33m[ WARN] [1743783042.389788618]: TF_REPEATED_DATA ignoring data with redundant timestamp for frame odom (parent map) at time 842.606000 according to authority /pose_integrator\u001b[0m\n",
      "\u001b[33m[ WARN] [1743783042.389822172]: TF_REPEATED_DATA ignoring data with redundant timestamp for frame odom (parent map) at time 842.606000 according to authority /pose_integrator\u001b[0m\n"
     ]
    }
   ],
   "source": [
    "np_corrected=ros_numpy.numpify(cloud_out)\n",
    "corrected=np_corrected.reshape(points_data.shape)"
   ]
  },
  {
   "cell_type": "code",
   "execution_count": 122,
   "id": "3752b790",
   "metadata": {},
   "outputs": [
    {
     "name": "stderr",
     "output_type": "stream",
     "text": [
      "\u001b[33m[ WARN] [1743783051.670839199]: TF_REPEATED_DATA ignoring data with redundant timestamp for frame odom (parent map) at time 845.026000 according to authority /pose_integrator\u001b[0m\n",
      "\u001b[33m[ WARN] [1743783051.670911307]: TF_REPEATED_DATA ignoring data with redundant timestamp for frame odom (parent map) at time 845.026000 according to authority /pose_integrator\u001b[0m\n",
      "\u001b[33m[ WARN] [1743783051.670982221]: TF_REPEATED_DATA ignoring data with redundant timestamp for frame odom (parent map) at time 845.026000 according to authority /pose_integrator\u001b[0m\n",
      "\u001b[33m[ WARN] [1743783051.671033287]: TF_REPEATED_DATA ignoring data with redundant timestamp for frame odom (parent map) at time 845.026000 according to authority /pose_integrator\u001b[0m\n",
      "\u001b[33m[ WARN] [1743783051.671100622]: TF_REPEATED_DATA ignoring data with redundant timestamp for frame odom (parent map) at time 845.026000 according to authority /pose_integrator\u001b[0m\n",
      "\u001b[33m[ WARN] [1743783051.671183690]: TF_REPEATED_DATA ignoring data with redundant timestamp for frame odom (parent map) at time 845.026000 according to authority /pose_integrator\u001b[0m\n",
      "\u001b[33m[ WARN] [1743783053.015474815]: TF_REPEATED_DATA ignoring data with redundant timestamp for frame odom (parent map) at time 845.401000 according to authority /pose_integrator\u001b[0m\n",
      "\u001b[33m[ WARN] [1743783053.015547194]: TF_REPEATED_DATA ignoring data with redundant timestamp for frame odom (parent map) at time 845.401000 according to authority /pose_integrator\u001b[0m\n",
      "\u001b[33m[ WARN] [1743783053.015589147]: TF_REPEATED_DATA ignoring data with redundant timestamp for frame odom (parent map) at time 845.401000 according to authority /pose_integrator\u001b[0m\n",
      "\u001b[33m[ WARN] [1743783053.015625855]: TF_REPEATED_DATA ignoring data with redundant timestamp for frame odom (parent map) at time 845.401000 according to authority /pose_integrator\u001b[0m\n",
      "\u001b[33m[ WARN] [1743783053.015660998]: TF_REPEATED_DATA ignoring data with redundant timestamp for frame odom (parent map) at time 845.401000 according to authority /pose_integrator\u001b[0m\n",
      "\u001b[33m[ WARN] [1743783053.015695852]: TF_REPEATED_DATA ignoring data with redundant timestamp for frame odom (parent map) at time 845.401000 according to authority /pose_integrator\u001b[0m\n",
      "\u001b[33m[ WARN] [1743783053.267730296]: TF_REPEATED_DATA ignoring data with redundant timestamp for frame odom (parent map) at time 845.464000 according to authority /pose_integrator\u001b[0m\n",
      "\u001b[33m[ WARN] [1743783053.267799215]: TF_REPEATED_DATA ignoring data with redundant timestamp for frame odom (parent map) at time 845.464000 according to authority /pose_integrator\u001b[0m\n",
      "\u001b[33m[ WARN] [1743783053.267837728]: TF_REPEATED_DATA ignoring data with redundant timestamp for frame odom (parent map) at time 845.464000 according to authority /pose_integrator\u001b[0m\n",
      "\u001b[33m[ WARN] [1743783053.267871202]: TF_REPEATED_DATA ignoring data with redundant timestamp for frame odom (parent map) at time 845.464000 according to authority /pose_integrator\u001b[0m\n",
      "\u001b[33m[ WARN] [1743783053.267901730]: TF_REPEATED_DATA ignoring data with redundant timestamp for frame odom (parent map) at time 845.464000 according to authority /pose_integrator\u001b[0m\n",
      "\u001b[33m[ WARN] [1743783053.267932766]: TF_REPEATED_DATA ignoring data with redundant timestamp for frame odom (parent map) at time 845.464000 according to authority /pose_integrator\u001b[0m\n",
      "\u001b[33m[ WARN] [1743783053.865358098]: TF_REPEATED_DATA ignoring data with redundant timestamp for frame odom (parent map) at time 845.620000 according to authority /pose_integrator\u001b[0m\n",
      "\u001b[33m[ WARN] [1743783053.865440304]: TF_REPEATED_DATA ignoring data with redundant timestamp for frame odom (parent map) at time 845.620000 according to authority /pose_integrator\u001b[0m\n",
      "\u001b[33m[ WARN] [1743783053.865490682]: TF_REPEATED_DATA ignoring data with redundant timestamp for frame odom (parent map) at time 845.620000 according to authority /pose_integrator\u001b[0m\n",
      "\u001b[33m[ WARN] [1743783053.865535036]: TF_REPEATED_DATA ignoring data with redundant timestamp for frame odom (parent map) at time 845.620000 according to authority /pose_integrator\u001b[0m\n",
      "\u001b[33m[ WARN] [1743783053.865583234]: TF_REPEATED_DATA ignoring data with redundant timestamp for frame odom (parent map) at time 845.620000 according to authority /pose_integrator\u001b[0m\n",
      "\u001b[33m[ WARN] [1743783053.865645222]: TF_REPEATED_DATA ignoring data with redundant timestamp for frame odom (parent map) at time 845.620000 according to authority /pose_integrator\u001b[0m\n",
      "\u001b[33m[ WARN] [1743783054.419381785]: TF_REPEATED_DATA ignoring data with redundant timestamp for frame odom (parent map) at time 845.777000 according to authority /pose_integrator\u001b[0m\n",
      "\u001b[33m[ WARN] [1743783054.419451359]: TF_REPEATED_DATA ignoring data with redundant timestamp for frame odom (parent map) at time 845.777000 according to authority /pose_integrator\u001b[0m\n",
      "\u001b[33m[ WARN] [1743783054.419490840]: TF_REPEATED_DATA ignoring data with redundant timestamp for frame odom (parent map) at time 845.777000 according to authority /pose_integrator\u001b[0m\n",
      "\u001b[33m[ WARN] [1743783054.419532081]: TF_REPEATED_DATA ignoring data with redundant timestamp for frame odom (parent map) at time 845.777000 according to authority /pose_integrator\u001b[0m\n",
      "\u001b[33m[ WARN] [1743783054.419563114]: TF_REPEATED_DATA ignoring data with redundant timestamp for frame odom (parent map) at time 845.777000 according to authority /pose_integrator\u001b[0m\n",
      "\u001b[33m[ WARN] [1743783054.419597607]: TF_REPEATED_DATA ignoring data with redundant timestamp for frame odom (parent map) at time 845.777000 according to authority /pose_integrator\u001b[0m\n",
      "\u001b[33m[ WARN] [1743783057.070604070]: TF_REPEATED_DATA ignoring data with redundant timestamp for frame odom (parent map) at time 846.502000 according to authority /pose_integrator\u001b[0m\n",
      "\u001b[33m[ WARN] [1743783057.070648511]: TF_REPEATED_DATA ignoring data with redundant timestamp for frame odom (parent map) at time 846.502000 according to authority /pose_integrator\u001b[0m\n",
      "\u001b[33m[ WARN] [1743783057.070677712]: TF_REPEATED_DATA ignoring data with redundant timestamp for frame odom (parent map) at time 846.502000 according to authority /pose_integrator\u001b[0m\n",
      "\u001b[33m[ WARN] [1743783057.070704782]: TF_REPEATED_DATA ignoring data with redundant timestamp for frame odom (parent map) at time 846.502000 according to authority /pose_integrator\u001b[0m\n",
      "\u001b[33m[ WARN] [1743783057.070731694]: TF_REPEATED_DATA ignoring data with redundant timestamp for frame odom (parent map) at time 846.502000 according to authority /pose_integrator\u001b[0m\n",
      "\u001b[33m[ WARN] [1743783057.070758742]: TF_REPEATED_DATA ignoring data with redundant timestamp for frame odom (parent map) at time 846.502000 according to authority /pose_integrator\u001b[0m\n",
      "\u001b[33m[ WARN] [1743783057.565399403]: TF_REPEATED_DATA ignoring data with redundant timestamp for frame odom (parent map) at time 846.667000 according to authority /pose_integrator\u001b[0m\n",
      "\u001b[33m[ WARN] [1743783057.565453632]: TF_REPEATED_DATA ignoring data with redundant timestamp for frame odom (parent map) at time 846.667000 according to authority /pose_integrator\u001b[0m\n",
      "\u001b[33m[ WARN] [1743783057.565491692]: TF_REPEATED_DATA ignoring data with redundant timestamp for frame odom (parent map) at time 846.667000 according to authority /pose_integrator\u001b[0m\n",
      "\u001b[33m[ WARN] [1743783057.565524964]: TF_REPEATED_DATA ignoring data with redundant timestamp for frame odom (parent map) at time 846.667000 according to authority /pose_integrator\u001b[0m\n",
      "\u001b[33m[ WARN] [1743783057.565559116]: TF_REPEATED_DATA ignoring data with redundant timestamp for frame odom (parent map) at time 846.667000 according to authority /pose_integrator\u001b[0m\n",
      "\u001b[33m[ WARN] [1743783057.565592813]: TF_REPEATED_DATA ignoring data with redundant timestamp for frame odom (parent map) at time 846.667000 according to authority /pose_integrator\u001b[0m\n",
      "\u001b[33m[ WARN] [1743783057.694479885]: TF_REPEATED_DATA ignoring data with redundant timestamp for frame odom (parent map) at time 846.716000 according to authority /pose_integrator\u001b[0m\n",
      "\u001b[33m[ WARN] [1743783057.694528028]: TF_REPEATED_DATA ignoring data with redundant timestamp for frame odom (parent map) at time 846.716000 according to authority /pose_integrator\u001b[0m\n",
      "\u001b[33m[ WARN] [1743783057.694559652]: TF_REPEATED_DATA ignoring data with redundant timestamp for frame odom (parent map) at time 846.716000 according to authority /pose_integrator\u001b[0m\n",
      "\u001b[33m[ WARN] [1743783057.694590019]: TF_REPEATED_DATA ignoring data with redundant timestamp for frame odom (parent map) at time 846.716000 according to authority /pose_integrator\u001b[0m\n",
      "\u001b[33m[ WARN] [1743783057.694622339]: TF_REPEATED_DATA ignoring data with redundant timestamp for frame odom (parent map) at time 846.716000 according to authority /pose_integrator\u001b[0m\n",
      "\u001b[33m[ WARN] [1743783057.694654332]: TF_REPEATED_DATA ignoring data with redundant timestamp for frame odom (parent map) at time 846.716000 according to authority /pose_integrator\u001b[0m\n"
     ]
    },
    {
     "name": "stderr",
     "output_type": "stream",
     "text": [
      "\u001b[33m[ WARN] [1743783058.179107611]: TF_REPEATED_DATA ignoring data with redundant timestamp for frame odom (parent map) at time 846.878000 according to authority /pose_integrator\u001b[0m\n",
      "\u001b[33m[ WARN] [1743783058.179193893]: TF_REPEATED_DATA ignoring data with redundant timestamp for frame odom (parent map) at time 846.878000 according to authority /pose_integrator\u001b[0m\n",
      "\u001b[33m[ WARN] [1743783058.179262839]: TF_REPEATED_DATA ignoring data with redundant timestamp for frame odom (parent map) at time 846.878000 according to authority /pose_integrator\u001b[0m\n",
      "\u001b[33m[ WARN] [1743783058.179322279]: TF_REPEATED_DATA ignoring data with redundant timestamp for frame odom (parent map) at time 846.878000 according to authority /pose_integrator\u001b[0m\n",
      "\u001b[33m[ WARN] [1743783058.179375264]: TF_REPEATED_DATA ignoring data with redundant timestamp for frame odom (parent map) at time 846.878000 according to authority /pose_integrator\u001b[0m\n",
      "\u001b[33m[ WARN] [1743783058.179427449]: TF_REPEATED_DATA ignoring data with redundant timestamp for frame odom (parent map) at time 846.878000 according to authority /pose_integrator\u001b[0m\n",
      "\u001b[33m[ WARN] [1743783058.438953028]: TF_REPEATED_DATA ignoring data with redundant timestamp for frame odom (parent map) at time 846.947000 according to authority /pose_integrator\u001b[0m\n",
      "\u001b[33m[ WARN] [1743783058.439013815]: TF_REPEATED_DATA ignoring data with redundant timestamp for frame odom (parent map) at time 846.947000 according to authority /pose_integrator\u001b[0m\n",
      "\u001b[33m[ WARN] [1743783058.439041211]: TF_REPEATED_DATA ignoring data with redundant timestamp for frame odom (parent map) at time 846.947000 according to authority /pose_integrator\u001b[0m\n",
      "\u001b[33m[ WARN] [1743783058.439074643]: TF_REPEATED_DATA ignoring data with redundant timestamp for frame odom (parent map) at time 846.947000 according to authority /pose_integrator\u001b[0m\n",
      "\u001b[33m[ WARN] [1743783058.439108317]: TF_REPEATED_DATA ignoring data with redundant timestamp for frame odom (parent map) at time 846.947000 according to authority /pose_integrator\u001b[0m\n",
      "\u001b[33m[ WARN] [1743783058.439137802]: TF_REPEATED_DATA ignoring data with redundant timestamp for frame odom (parent map) at time 846.947000 according to authority /pose_integrator\u001b[0m\n",
      "\u001b[33m[ WARN] [1743783058.689738579]: TF_REPEATED_DATA ignoring data with redundant timestamp for frame odom (parent map) at time 847.016000 according to authority /pose_integrator\u001b[0m\n",
      "\u001b[33m[ WARN] [1743783058.689819221]: TF_REPEATED_DATA ignoring data with redundant timestamp for frame odom (parent map) at time 847.016000 according to authority /pose_integrator\u001b[0m\n",
      "\u001b[33m[ WARN] [1743783058.689864097]: TF_REPEATED_DATA ignoring data with redundant timestamp for frame odom (parent map) at time 847.016000 according to authority /pose_integrator\u001b[0m\n",
      "\u001b[33m[ WARN] [1743783058.689899459]: TF_REPEATED_DATA ignoring data with redundant timestamp for frame odom (parent map) at time 847.016000 according to authority /pose_integrator\u001b[0m\n",
      "\u001b[33m[ WARN] [1743783058.689945691]: TF_REPEATED_DATA ignoring data with redundant timestamp for frame odom (parent map) at time 847.016000 according to authority /pose_integrator\u001b[0m\n",
      "\u001b[33m[ WARN] [1743783058.689990651]: TF_REPEATED_DATA ignoring data with redundant timestamp for frame odom (parent map) at time 847.016000 according to authority /pose_integrator\u001b[0m\n",
      "\u001b[33m[ WARN] [1743783059.459466902]: TF_REPEATED_DATA ignoring data with redundant timestamp for frame odom (parent map) at time 847.250000 according to authority /pose_integrator\u001b[0m\n",
      "\u001b[33m[ WARN] [1743783059.461585092]: TF_REPEATED_DATA ignoring data with redundant timestamp for frame odom (parent map) at time 847.250000 according to authority /pose_integrator\u001b[0m\n",
      "\u001b[33m[ WARN] [1743783059.461681182]: TF_REPEATED_DATA ignoring data with redundant timestamp for frame odom (parent map) at time 847.250000 according to authority /pose_integrator\u001b[0m\n",
      "\u001b[33m[ WARN] [1743783059.461724605]: TF_REPEATED_DATA ignoring data with redundant timestamp for frame odom (parent map) at time 847.250000 according to authority /pose_integrator\u001b[0m\n",
      "\u001b[33m[ WARN] [1743783059.461753429]: TF_REPEATED_DATA ignoring data with redundant timestamp for frame odom (parent map) at time 847.250000 according to authority /pose_integrator\u001b[0m\n",
      "\u001b[33m[ WARN] [1743783059.461780032]: TF_REPEATED_DATA ignoring data with redundant timestamp for frame odom (parent map) at time 847.250000 according to authority /pose_integrator\u001b[0m\n",
      "\u001b[33m[ WARN] [1743783061.351770047]: TF_REPEATED_DATA ignoring data with redundant timestamp for frame odom (parent map) at time 847.761000 according to authority /pose_integrator\u001b[0m\n",
      "\u001b[33m[ WARN] [1743783061.351821645]: TF_REPEATED_DATA ignoring data with redundant timestamp for frame odom (parent map) at time 847.761000 according to authority /pose_integrator\u001b[0m\n",
      "\u001b[33m[ WARN] [1743783061.351862127]: TF_REPEATED_DATA ignoring data with redundant timestamp for frame odom (parent map) at time 847.761000 according to authority /pose_integrator\u001b[0m\n",
      "\u001b[33m[ WARN] [1743783061.351893238]: TF_REPEATED_DATA ignoring data with redundant timestamp for frame odom (parent map) at time 847.761000 according to authority /pose_integrator\u001b[0m\n",
      "\u001b[33m[ WARN] [1743783061.351930248]: TF_REPEATED_DATA ignoring data with redundant timestamp for frame odom (parent map) at time 847.761000 according to authority /pose_integrator\u001b[0m\n",
      "\u001b[33m[ WARN] [1743783061.351958240]: TF_REPEATED_DATA ignoring data with redundant timestamp for frame odom (parent map) at time 847.761000 according to authority /pose_integrator\u001b[0m\n",
      "\u001b[33m[ WARN] [1743783062.043852071]: TF_REPEATED_DATA ignoring data with redundant timestamp for frame odom (parent map) at time 847.960000 according to authority /pose_integrator\u001b[0m\n",
      "\u001b[33m[ WARN] [1743783062.043894638]: TF_REPEATED_DATA ignoring data with redundant timestamp for frame odom (parent map) at time 847.960000 according to authority /pose_integrator\u001b[0m\n",
      "\u001b[33m[ WARN] [1743783062.043920872]: TF_REPEATED_DATA ignoring data with redundant timestamp for frame odom (parent map) at time 847.960000 according to authority /pose_integrator\u001b[0m\n",
      "\u001b[33m[ WARN] [1743783062.043945934]: TF_REPEATED_DATA ignoring data with redundant timestamp for frame odom (parent map) at time 847.960000 according to authority /pose_integrator\u001b[0m\n",
      "\u001b[33m[ WARN] [1743783062.043972814]: TF_REPEATED_DATA ignoring data with redundant timestamp for frame odom (parent map) at time 847.960000 according to authority /pose_integrator\u001b[0m\n",
      "\u001b[33m[ WARN] [1743783062.044009461]: TF_REPEATED_DATA ignoring data with redundant timestamp for frame odom (parent map) at time 847.960000 according to authority /pose_integrator\u001b[0m\n",
      "\u001b[33m[ WARN] [1743783064.703379885]: TF_REPEATED_DATA ignoring data with redundant timestamp for frame odom (parent map) at time 848.754000 according to authority /pose_integrator\u001b[0m\n",
      "\u001b[33m[ WARN] [1743783064.703433287]: TF_REPEATED_DATA ignoring data with redundant timestamp for frame odom (parent map) at time 848.754000 according to authority /pose_integrator\u001b[0m\n",
      "\u001b[33m[ WARN] [1743783064.703472356]: TF_REPEATED_DATA ignoring data with redundant timestamp for frame odom (parent map) at time 848.754000 according to authority /pose_integrator\u001b[0m\n",
      "\u001b[33m[ WARN] [1743783064.703508616]: TF_REPEATED_DATA ignoring data with redundant timestamp for frame odom (parent map) at time 848.754000 according to authority /pose_integrator\u001b[0m\n",
      "\u001b[33m[ WARN] [1743783064.703543144]: TF_REPEATED_DATA ignoring data with redundant timestamp for frame odom (parent map) at time 848.754000 according to authority /pose_integrator\u001b[0m\n",
      "\u001b[33m[ WARN] [1743783064.703579107]: TF_REPEATED_DATA ignoring data with redundant timestamp for frame odom (parent map) at time 848.754000 according to authority /pose_integrator\u001b[0m\n",
      "\u001b[33m[ WARN] [1743783065.556846161]: TF_REPEATED_DATA ignoring data with redundant timestamp for frame odom (parent map) at time 848.970000 according to authority /pose_integrator\u001b[0m\n",
      "\u001b[33m[ WARN] [1743783065.556906586]: TF_REPEATED_DATA ignoring data with redundant timestamp for frame odom (parent map) at time 848.970000 according to authority /pose_integrator\u001b[0m\n",
      "\u001b[33m[ WARN] [1743783065.556946694]: TF_REPEATED_DATA ignoring data with redundant timestamp for frame odom (parent map) at time 848.970000 according to authority /pose_integrator\u001b[0m\n",
      "\u001b[33m[ WARN] [1743783065.556981430]: TF_REPEATED_DATA ignoring data with redundant timestamp for frame odom (parent map) at time 848.970000 according to authority /pose_integrator\u001b[0m\n",
      "\u001b[33m[ WARN] [1743783065.557016631]: TF_REPEATED_DATA ignoring data with redundant timestamp for frame odom (parent map) at time 848.970000 according to authority /pose_integrator\u001b[0m\n",
      "\u001b[33m[ WARN] [1743783065.557053871]: TF_REPEATED_DATA ignoring data with redundant timestamp for frame odom (parent map) at time 848.970000 according to authority /pose_integrator\u001b[0m\n"
     ]
    },
    {
     "name": "stderr",
     "output_type": "stream",
     "text": [
      "\u001b[33m[ WARN] [1743783066.951909027]: TF_REPEATED_DATA ignoring data with redundant timestamp for frame odom (parent map) at time 849.344000 according to authority /pose_integrator\u001b[0m\n",
      "\u001b[33m[ WARN] [1743783066.951965978]: TF_REPEATED_DATA ignoring data with redundant timestamp for frame odom (parent map) at time 849.344000 according to authority /pose_integrator\u001b[0m\n",
      "\u001b[33m[ WARN] [1743783066.952001401]: TF_REPEATED_DATA ignoring data with redundant timestamp for frame odom (parent map) at time 849.344000 according to authority /pose_integrator\u001b[0m\n",
      "\u001b[33m[ WARN] [1743783066.952033231]: TF_REPEATED_DATA ignoring data with redundant timestamp for frame odom (parent map) at time 849.344000 according to authority /pose_integrator\u001b[0m\n",
      "\u001b[33m[ WARN] [1743783066.952065320]: TF_REPEATED_DATA ignoring data with redundant timestamp for frame odom (parent map) at time 849.344000 according to authority /pose_integrator\u001b[0m\n",
      "\u001b[33m[ WARN] [1743783066.952103619]: TF_REPEATED_DATA ignoring data with redundant timestamp for frame odom (parent map) at time 849.344000 according to authority /pose_integrator\u001b[0m\n",
      "\u001b[33m[ WARN] [1743783068.344194251]: TF_REPEATED_DATA ignoring data with redundant timestamp for frame odom (parent map) at time 849.747000 according to authority /pose_integrator\u001b[0m\n",
      "\u001b[33m[ WARN] [1743783068.344259101]: TF_REPEATED_DATA ignoring data with redundant timestamp for frame odom (parent map) at time 849.747000 according to authority /pose_integrator\u001b[0m\n",
      "\u001b[33m[ WARN] [1743783068.344310564]: TF_REPEATED_DATA ignoring data with redundant timestamp for frame odom (parent map) at time 849.747000 according to authority /pose_integrator\u001b[0m\n",
      "\u001b[33m[ WARN] [1743783068.344356966]: TF_REPEATED_DATA ignoring data with redundant timestamp for frame odom (parent map) at time 849.747000 according to authority /pose_integrator\u001b[0m\n",
      "\u001b[33m[ WARN] [1743783068.344403268]: TF_REPEATED_DATA ignoring data with redundant timestamp for frame odom (parent map) at time 849.747000 according to authority /pose_integrator\u001b[0m\n",
      "\u001b[33m[ WARN] [1743783068.344453015]: TF_REPEATED_DATA ignoring data with redundant timestamp for frame odom (parent map) at time 849.747000 according to authority /pose_integrator\u001b[0m\n",
      "\u001b[33m[ WARN] [1743783073.909809629]: TF_REPEATED_DATA ignoring data with redundant timestamp for frame odom (parent map) at time 851.228000 according to authority /pose_integrator\u001b[0m\n",
      "\u001b[33m[ WARN] [1743783073.909848747]: TF_REPEATED_DATA ignoring data with redundant timestamp for frame odom (parent map) at time 851.228000 according to authority /pose_integrator\u001b[0m\n",
      "\u001b[33m[ WARN] [1743783073.909872305]: TF_REPEATED_DATA ignoring data with redundant timestamp for frame odom (parent map) at time 851.228000 according to authority /pose_integrator\u001b[0m\n",
      "\u001b[33m[ WARN] [1743783073.909899301]: TF_REPEATED_DATA ignoring data with redundant timestamp for frame odom (parent map) at time 851.228000 according to authority /pose_integrator\u001b[0m\n",
      "\u001b[33m[ WARN] [1743783073.909932715]: TF_REPEATED_DATA ignoring data with redundant timestamp for frame odom (parent map) at time 851.228000 according to authority /pose_integrator\u001b[0m\n",
      "\u001b[33m[ WARN] [1743783073.909967174]: TF_REPEATED_DATA ignoring data with redundant timestamp for frame odom (parent map) at time 851.228000 according to authority /pose_integrator\u001b[0m\n",
      "\u001b[33m[ WARN] [1743783074.433606679]: TF_REPEATED_DATA ignoring data with redundant timestamp for frame odom (parent map) at time 851.392000 according to authority /pose_integrator\u001b[0m\n",
      "\u001b[33m[ WARN] [1743783074.433660917]: TF_REPEATED_DATA ignoring data with redundant timestamp for frame odom (parent map) at time 851.392000 according to authority /pose_integrator\u001b[0m\n",
      "\u001b[33m[ WARN] [1743783074.433696250]: TF_REPEATED_DATA ignoring data with redundant timestamp for frame odom (parent map) at time 851.392000 according to authority /pose_integrator\u001b[0m\n",
      "\u001b[33m[ WARN] [1743783074.433729337]: TF_REPEATED_DATA ignoring data with redundant timestamp for frame odom (parent map) at time 851.392000 according to authority /pose_integrator\u001b[0m\n",
      "\u001b[33m[ WARN] [1743783074.433761532]: TF_REPEATED_DATA ignoring data with redundant timestamp for frame odom (parent map) at time 851.392000 according to authority /pose_integrator\u001b[0m\n",
      "\u001b[33m[ WARN] [1743783074.433794680]: TF_REPEATED_DATA ignoring data with redundant timestamp for frame odom (parent map) at time 851.392000 according to authority /pose_integrator\u001b[0m\n",
      "\u001b[33m[ WARN] [1743783077.564271779]: TF_REPEATED_DATA ignoring data with redundant timestamp for frame odom (parent map) at time 852.214000 according to authority /pose_integrator\u001b[0m\n",
      "\u001b[33m[ WARN] [1743783077.564345539]: TF_REPEATED_DATA ignoring data with redundant timestamp for frame odom (parent map) at time 852.214000 according to authority /pose_integrator\u001b[0m\n",
      "\u001b[33m[ WARN] [1743783077.564398172]: TF_REPEATED_DATA ignoring data with redundant timestamp for frame odom (parent map) at time 852.214000 according to authority /pose_integrator\u001b[0m\n",
      "\u001b[33m[ WARN] [1743783077.564447057]: TF_REPEATED_DATA ignoring data with redundant timestamp for frame odom (parent map) at time 852.214000 according to authority /pose_integrator\u001b[0m\n",
      "\u001b[33m[ WARN] [1743783077.564494434]: TF_REPEATED_DATA ignoring data with redundant timestamp for frame odom (parent map) at time 852.214000 according to authority /pose_integrator\u001b[0m\n",
      "\u001b[33m[ WARN] [1743783077.564527510]: TF_REPEATED_DATA ignoring data with redundant timestamp for frame odom (parent map) at time 852.214000 according to authority /pose_integrator\u001b[0m\n",
      "\u001b[33m[ WARN] [1743783079.608764796]: TF_REPEATED_DATA ignoring data with redundant timestamp for frame odom (parent map) at time 852.742000 according to authority /pose_integrator\u001b[0m\n",
      "\u001b[33m[ WARN] [1743783079.608817428]: TF_REPEATED_DATA ignoring data with redundant timestamp for frame odom (parent map) at time 852.742000 according to authority /pose_integrator\u001b[0m\n",
      "\u001b[33m[ WARN] [1743783079.608857163]: TF_REPEATED_DATA ignoring data with redundant timestamp for frame odom (parent map) at time 852.742000 according to authority /pose_integrator\u001b[0m\n",
      "\u001b[33m[ WARN] [1743783079.608894986]: TF_REPEATED_DATA ignoring data with redundant timestamp for frame odom (parent map) at time 852.742000 according to authority /pose_integrator\u001b[0m\n",
      "\u001b[33m[ WARN] [1743783079.608932433]: TF_REPEATED_DATA ignoring data with redundant timestamp for frame odom (parent map) at time 852.742000 according to authority /pose_integrator\u001b[0m\n",
      "\u001b[33m[ WARN] [1743783079.608969897]: TF_REPEATED_DATA ignoring data with redundant timestamp for frame odom (parent map) at time 852.742000 according to authority /pose_integrator\u001b[0m\n",
      "\u001b[33m[ WARN] [1743783080.356166009]: TF_REPEATED_DATA ignoring data with redundant timestamp for frame odom (parent map) at time 852.938000 according to authority /pose_integrator\u001b[0m\n",
      "\u001b[33m[ WARN] [1743783080.356252560]: TF_REPEATED_DATA ignoring data with redundant timestamp for frame odom (parent map) at time 852.938000 according to authority /pose_integrator\u001b[0m\n",
      "\u001b[33m[ WARN] [1743783080.356298355]: TF_REPEATED_DATA ignoring data with redundant timestamp for frame odom (parent map) at time 852.938000 according to authority /pose_integrator\u001b[0m\n",
      "\u001b[33m[ WARN] [1743783080.356330390]: TF_REPEATED_DATA ignoring data with redundant timestamp for frame odom (parent map) at time 852.938000 according to authority /pose_integrator\u001b[0m\n",
      "\u001b[33m[ WARN] [1743783080.356363651]: TF_REPEATED_DATA ignoring data with redundant timestamp for frame odom (parent map) at time 852.938000 according to authority /pose_integrator\u001b[0m\n",
      "\u001b[33m[ WARN] [1743783080.356400512]: TF_REPEATED_DATA ignoring data with redundant timestamp for frame odom (parent map) at time 852.938000 according to authority /pose_integrator\u001b[0m\n",
      "\u001b[33m[ WARN] [1743783081.860426164]: TF_REPEATED_DATA ignoring data with redundant timestamp for frame odom (parent map) at time 853.340000 according to authority /pose_integrator\u001b[0m\n",
      "\u001b[33m[ WARN] [1743783081.860485262]: TF_REPEATED_DATA ignoring data with redundant timestamp for frame odom (parent map) at time 853.340000 according to authority /pose_integrator\u001b[0m\n",
      "\u001b[33m[ WARN] [1743783081.860529342]: TF_REPEATED_DATA ignoring data with redundant timestamp for frame odom (parent map) at time 853.340000 according to authority /pose_integrator\u001b[0m\n",
      "\u001b[33m[ WARN] [1743783081.860569521]: TF_REPEATED_DATA ignoring data with redundant timestamp for frame odom (parent map) at time 853.340000 according to authority /pose_integrator\u001b[0m\n",
      "\u001b[33m[ WARN] [1743783081.860610585]: TF_REPEATED_DATA ignoring data with redundant timestamp for frame odom (parent map) at time 853.340000 according to authority /pose_integrator\u001b[0m\n",
      "\u001b[33m[ WARN] [1743783081.860644728]: TF_REPEATED_DATA ignoring data with redundant timestamp for frame odom (parent map) at time 853.340000 according to authority /pose_integrator\u001b[0m\n"
     ]
    },
    {
     "name": "stderr",
     "output_type": "stream",
     "text": [
      "\u001b[33m[ WARN] [1743783082.967094418]: TF_REPEATED_DATA ignoring data with redundant timestamp for frame odom (parent map) at time 853.657000 according to authority /pose_integrator\u001b[0m\n",
      "\u001b[33m[ WARN] [1743783082.967161467]: TF_REPEATED_DATA ignoring data with redundant timestamp for frame odom (parent map) at time 853.657000 according to authority /pose_integrator\u001b[0m\n",
      "\u001b[33m[ WARN] [1743783082.967203174]: TF_REPEATED_DATA ignoring data with redundant timestamp for frame odom (parent map) at time 853.657000 according to authority /pose_integrator\u001b[0m\n",
      "\u001b[33m[ WARN] [1743783082.967254486]: TF_REPEATED_DATA ignoring data with redundant timestamp for frame odom (parent map) at time 853.657000 according to authority /pose_integrator\u001b[0m\n",
      "\u001b[33m[ WARN] [1743783082.967295149]: TF_REPEATED_DATA ignoring data with redundant timestamp for frame odom (parent map) at time 853.657000 according to authority /pose_integrator\u001b[0m\n",
      "\u001b[33m[ WARN] [1743783082.967332503]: TF_REPEATED_DATA ignoring data with redundant timestamp for frame odom (parent map) at time 853.657000 according to authority /pose_integrator\u001b[0m\n",
      "\u001b[33m[ WARN] [1743783085.797270865]: TF_REPEATED_DATA ignoring data with redundant timestamp for frame odom (parent map) at time 854.388000 according to authority /pose_integrator\u001b[0m\n",
      "\u001b[33m[ WARN] [1743783085.797334449]: TF_REPEATED_DATA ignoring data with redundant timestamp for frame odom (parent map) at time 854.388000 according to authority /pose_integrator\u001b[0m\n",
      "\u001b[33m[ WARN] [1743783085.797398030]: TF_REPEATED_DATA ignoring data with redundant timestamp for frame odom (parent map) at time 854.388000 according to authority /pose_integrator\u001b[0m\n",
      "\u001b[33m[ WARN] [1743783085.797445687]: TF_REPEATED_DATA ignoring data with redundant timestamp for frame odom (parent map) at time 854.388000 according to authority /pose_integrator\u001b[0m\n",
      "\u001b[33m[ WARN] [1743783085.797488723]: TF_REPEATED_DATA ignoring data with redundant timestamp for frame odom (parent map) at time 854.388000 according to authority /pose_integrator\u001b[0m\n",
      "\u001b[33m[ WARN] [1743783085.797538473]: TF_REPEATED_DATA ignoring data with redundant timestamp for frame odom (parent map) at time 854.388000 according to authority /pose_integrator\u001b[0m\n",
      "\u001b[33m[ WARN] [1743783087.352257014]: TF_REPEATED_DATA ignoring data with redundant timestamp for frame odom (parent map) at time 854.819000 according to authority /pose_integrator\u001b[0m\n",
      "\u001b[33m[ WARN] [1743783087.352301464]: TF_REPEATED_DATA ignoring data with redundant timestamp for frame odom (parent map) at time 854.819000 according to authority /pose_integrator\u001b[0m\n",
      "\u001b[33m[ WARN] [1743783087.352330857]: TF_REPEATED_DATA ignoring data with redundant timestamp for frame odom (parent map) at time 854.819000 according to authority /pose_integrator\u001b[0m\n",
      "\u001b[33m[ WARN] [1743783087.352357531]: TF_REPEATED_DATA ignoring data with redundant timestamp for frame odom (parent map) at time 854.819000 according to authority /pose_integrator\u001b[0m\n",
      "\u001b[33m[ WARN] [1743783087.352384542]: TF_REPEATED_DATA ignoring data with redundant timestamp for frame odom (parent map) at time 854.819000 according to authority /pose_integrator\u001b[0m\n",
      "\u001b[33m[ WARN] [1743783087.352410881]: TF_REPEATED_DATA ignoring data with redundant timestamp for frame odom (parent map) at time 854.819000 according to authority /pose_integrator\u001b[0m\n",
      "\u001b[33m[ WARN] [1743783087.696973322]: TF_REPEATED_DATA ignoring data with redundant timestamp for frame odom (parent map) at time 854.926000 according to authority /pose_integrator\u001b[0m\n",
      "\u001b[33m[ WARN] [1743783087.697024099]: TF_REPEATED_DATA ignoring data with redundant timestamp for frame odom (parent map) at time 854.926000 according to authority /pose_integrator\u001b[0m\n",
      "\u001b[33m[ WARN] [1743783087.697057879]: TF_REPEATED_DATA ignoring data with redundant timestamp for frame odom (parent map) at time 854.926000 according to authority /pose_integrator\u001b[0m\n",
      "\u001b[33m[ WARN] [1743783087.697088982]: TF_REPEATED_DATA ignoring data with redundant timestamp for frame odom (parent map) at time 854.926000 according to authority /pose_integrator\u001b[0m\n",
      "\u001b[33m[ WARN] [1743783087.697122854]: TF_REPEATED_DATA ignoring data with redundant timestamp for frame odom (parent map) at time 854.926000 according to authority /pose_integrator\u001b[0m\n",
      "\u001b[33m[ WARN] [1743783087.697154526]: TF_REPEATED_DATA ignoring data with redundant timestamp for frame odom (parent map) at time 854.926000 according to authority /pose_integrator\u001b[0m\n",
      "\u001b[33m[ WARN] [1743783088.435041374]: TF_REPEATED_DATA ignoring data with redundant timestamp for frame odom (parent map) at time 855.128000 according to authority /pose_integrator\u001b[0m\n",
      "\u001b[33m[ WARN] [1743783088.435114208]: TF_REPEATED_DATA ignoring data with redundant timestamp for frame odom (parent map) at time 855.128000 according to authority /pose_integrator\u001b[0m\n",
      "\u001b[33m[ WARN] [1743783088.435165803]: TF_REPEATED_DATA ignoring data with redundant timestamp for frame odom (parent map) at time 855.128000 according to authority /pose_integrator\u001b[0m\n",
      "\u001b[33m[ WARN] [1743783088.435204118]: TF_REPEATED_DATA ignoring data with redundant timestamp for frame odom (parent map) at time 855.128000 according to authority /pose_integrator\u001b[0m\n",
      "\u001b[33m[ WARN] [1743783088.435285434]: TF_REPEATED_DATA ignoring data with redundant timestamp for frame odom (parent map) at time 855.128000 according to authority /pose_integrator\u001b[0m\n",
      "\u001b[33m[ WARN] [1743783088.435319810]: TF_REPEATED_DATA ignoring data with redundant timestamp for frame odom (parent map) at time 855.128000 according to authority /pose_integrator\u001b[0m\n"
     ]
    }
   ],
   "source": [
    "orig_image= rgb_image.copy()\n",
    "mask= np.zeros(corrected['z'].shape)#mask    "
   ]
  },
  {
   "cell_type": "code",
   "execution_count": 123,
   "id": "f0451788",
   "metadata": {},
   "outputs": [
    {
     "name": "stderr",
     "output_type": "stream",
     "text": [
      "\u001b[33m[ WARN] [1743783089.744287346]: TF_REPEATED_DATA ignoring data with redundant timestamp for frame odom (parent map) at time 855.454000 according to authority /pose_integrator\u001b[0m\n",
      "\u001b[33m[ WARN] [1743783089.744342163]: TF_REPEATED_DATA ignoring data with redundant timestamp for frame odom (parent map) at time 855.454000 according to authority /pose_integrator\u001b[0m\n",
      "\u001b[33m[ WARN] [1743783089.744377625]: TF_REPEATED_DATA ignoring data with redundant timestamp for frame odom (parent map) at time 855.454000 according to authority /pose_integrator\u001b[0m\n",
      "\u001b[33m[ WARN] [1743783089.744410590]: TF_REPEATED_DATA ignoring data with redundant timestamp for frame odom (parent map) at time 855.454000 according to authority /pose_integrator\u001b[0m\n",
      "\u001b[33m[ WARN] [1743783089.744443205]: TF_REPEATED_DATA ignoring data with redundant timestamp for frame odom (parent map) at time 855.454000 according to authority /pose_integrator\u001b[0m\n",
      "\u001b[33m[ WARN] [1743783089.744476121]: TF_REPEATED_DATA ignoring data with redundant timestamp for frame odom (parent map) at time 855.454000 according to authority /pose_integrator\u001b[0m\n",
      "\u001b[33m[ WARN] [1743783089.971864309]: TF_REPEATED_DATA ignoring data with redundant timestamp for frame odom (parent map) at time 855.511000 according to authority /pose_integrator\u001b[0m\n",
      "\u001b[33m[ WARN] [1743783089.971923970]: TF_REPEATED_DATA ignoring data with redundant timestamp for frame odom (parent map) at time 855.511000 according to authority /pose_integrator\u001b[0m\n",
      "\u001b[33m[ WARN] [1743783089.971965934]: TF_REPEATED_DATA ignoring data with redundant timestamp for frame odom (parent map) at time 855.511000 according to authority /pose_integrator\u001b[0m\n",
      "\u001b[33m[ WARN] [1743783089.972015623]: TF_REPEATED_DATA ignoring data with redundant timestamp for frame odom (parent map) at time 855.511000 according to authority /pose_integrator\u001b[0m\n",
      "\u001b[33m[ WARN] [1743783089.972059421]: TF_REPEATED_DATA ignoring data with redundant timestamp for frame odom (parent map) at time 855.511000 according to authority /pose_integrator\u001b[0m\n",
      "\u001b[33m[ WARN] [1743783089.972098592]: TF_REPEATED_DATA ignoring data with redundant timestamp for frame odom (parent map) at time 855.511000 according to authority /pose_integrator\u001b[0m\n",
      "\u001b[33m[ WARN] [1743783090.248192014]: TF_REPEATED_DATA ignoring data with redundant timestamp for frame odom (parent map) at time 855.608000 according to authority /pose_integrator\u001b[0m\n",
      "\u001b[33m[ WARN] [1743783090.248250942]: TF_REPEATED_DATA ignoring data with redundant timestamp for frame odom (parent map) at time 855.608000 according to authority /pose_integrator\u001b[0m\n",
      "\u001b[33m[ WARN] [1743783090.248296159]: TF_REPEATED_DATA ignoring data with redundant timestamp for frame odom (parent map) at time 855.608000 according to authority /pose_integrator\u001b[0m\n",
      "\u001b[33m[ WARN] [1743783090.248339706]: TF_REPEATED_DATA ignoring data with redundant timestamp for frame odom (parent map) at time 855.608000 according to authority /pose_integrator\u001b[0m\n",
      "\u001b[33m[ WARN] [1743783090.248386813]: TF_REPEATED_DATA ignoring data with redundant timestamp for frame odom (parent map) at time 855.608000 according to authority /pose_integrator\u001b[0m\n",
      "\u001b[33m[ WARN] [1743783090.248433252]: TF_REPEATED_DATA ignoring data with redundant timestamp for frame odom (parent map) at time 855.608000 according to authority /pose_integrator\u001b[0m\n",
      "\u001b[33m[ WARN] [1743783090.515633243]: TF_REPEATED_DATA ignoring data with redundant timestamp for frame odom (parent map) at time 855.689000 according to authority /pose_integrator\u001b[0m\n",
      "\u001b[33m[ WARN] [1743783090.515680558]: TF_REPEATED_DATA ignoring data with redundant timestamp for frame odom (parent map) at time 855.689000 according to authority /pose_integrator\u001b[0m\n",
      "\u001b[33m[ WARN] [1743783090.515703153]: TF_REPEATED_DATA ignoring data with redundant timestamp for frame odom (parent map) at time 855.689000 according to authority /pose_integrator\u001b[0m\n",
      "\u001b[33m[ WARN] [1743783090.515724483]: TF_REPEATED_DATA ignoring data with redundant timestamp for frame odom (parent map) at time 855.689000 according to authority /pose_integrator\u001b[0m\n",
      "\u001b[33m[ WARN] [1743783090.515744858]: TF_REPEATED_DATA ignoring data with redundant timestamp for frame odom (parent map) at time 855.689000 according to authority /pose_integrator\u001b[0m\n",
      "\u001b[33m[ WARN] [1743783090.515765484]: TF_REPEATED_DATA ignoring data with redundant timestamp for frame odom (parent map) at time 855.689000 according to authority /pose_integrator\u001b[0m\n"
     ]
    }
   ],
   "source": [
    "y_min=140\n",
    "y_max=286\n",
    "x_min=342\n",
    "x_max=467\n",
    "mask=cv2.rectangle(mask,(x_min,y_min),(x_max, y_max), (255,255,255), -1)"
   ]
  },
  {
   "cell_type": "code",
   "execution_count": 124,
   "id": "b6421548",
   "metadata": {},
   "outputs": [
    {
     "name": "stderr",
     "output_type": "stream",
     "text": [
      "\u001b[33m[ WARN] [1743783090.951132896]: TF_REPEATED_DATA ignoring data with redundant timestamp for frame odom (parent map) at time 855.789000 according to authority /pose_integrator\u001b[0m\n",
      "\u001b[33m[ WARN] [1743783090.951182736]: TF_REPEATED_DATA ignoring data with redundant timestamp for frame odom (parent map) at time 855.789000 according to authority /pose_integrator\u001b[0m\n",
      "\u001b[33m[ WARN] [1743783090.951233637]: TF_REPEATED_DATA ignoring data with redundant timestamp for frame odom (parent map) at time 855.789000 according to authority /pose_integrator\u001b[0m\n",
      "\u001b[33m[ WARN] [1743783090.951288700]: TF_REPEATED_DATA ignoring data with redundant timestamp for frame odom (parent map) at time 855.789000 according to authority /pose_integrator\u001b[0m\n",
      "\u001b[33m[ WARN] [1743783090.951324792]: TF_REPEATED_DATA ignoring data with redundant timestamp for frame odom (parent map) at time 855.789000 according to authority /pose_integrator\u001b[0m\n",
      "\u001b[33m[ WARN] [1743783090.951356206]: TF_REPEATED_DATA ignoring data with redundant timestamp for frame odom (parent map) at time 855.789000 according to authority /pose_integrator\u001b[0m\n",
      "\u001b[33m[ WARN] [1743783091.415546052]: TF_REPEATED_DATA ignoring data with redundant timestamp for frame odom (parent map) at time 855.911000 according to authority /pose_integrator\u001b[0m\n",
      "\u001b[33m[ WARN] [1743783091.415601698]: TF_REPEATED_DATA ignoring data with redundant timestamp for frame odom (parent map) at time 855.911000 according to authority /pose_integrator\u001b[0m\n",
      "\u001b[33m[ WARN] [1743783091.415633430]: TF_REPEATED_DATA ignoring data with redundant timestamp for frame odom (parent map) at time 855.911000 according to authority /pose_integrator\u001b[0m\n",
      "\u001b[33m[ WARN] [1743783091.415668765]: TF_REPEATED_DATA ignoring data with redundant timestamp for frame odom (parent map) at time 855.911000 according to authority /pose_integrator\u001b[0m\n",
      "\u001b[33m[ WARN] [1743783091.415715774]: TF_REPEATED_DATA ignoring data with redundant timestamp for frame odom (parent map) at time 855.911000 according to authority /pose_integrator\u001b[0m\n",
      "\u001b[33m[ WARN] [1743783091.415752508]: TF_REPEATED_DATA ignoring data with redundant timestamp for frame odom (parent map) at time 855.911000 according to authority /pose_integrator\u001b[0m\n",
      "\u001b[33m[ WARN] [1743783092.759834309]: TF_REPEATED_DATA ignoring data with redundant timestamp for frame odom (parent map) at time 856.265000 according to authority /pose_integrator\u001b[0m\n",
      "\u001b[33m[ WARN] [1743783092.759900488]: TF_REPEATED_DATA ignoring data with redundant timestamp for frame odom (parent map) at time 856.265000 according to authority /pose_integrator\u001b[0m\n",
      "\u001b[33m[ WARN] [1743783092.759945671]: TF_REPEATED_DATA ignoring data with redundant timestamp for frame odom (parent map) at time 856.265000 according to authority /pose_integrator\u001b[0m\n",
      "\u001b[33m[ WARN] [1743783092.759990471]: TF_REPEATED_DATA ignoring data with redundant timestamp for frame odom (parent map) at time 856.265000 according to authority /pose_integrator\u001b[0m\n",
      "\u001b[33m[ WARN] [1743783092.760036297]: TF_REPEATED_DATA ignoring data with redundant timestamp for frame odom (parent map) at time 856.265000 according to authority /pose_integrator\u001b[0m\n",
      "\u001b[33m[ WARN] [1743783092.760080646]: TF_REPEATED_DATA ignoring data with redundant timestamp for frame odom (parent map) at time 856.265000 according to authority /pose_integrator\u001b[0m\n",
      "\u001b[33m[ WARN] [1743783093.120919887]: TF_REPEATED_DATA ignoring data with redundant timestamp for frame odom (parent map) at time 856.357000 according to authority /pose_integrator\u001b[0m\n",
      "\u001b[33m[ WARN] [1743783093.120974876]: TF_REPEATED_DATA ignoring data with redundant timestamp for frame odom (parent map) at time 856.357000 according to authority /pose_integrator\u001b[0m\n",
      "\u001b[33m[ WARN] [1743783093.121014662]: TF_REPEATED_DATA ignoring data with redundant timestamp for frame odom (parent map) at time 856.357000 according to authority /pose_integrator\u001b[0m\n",
      "\u001b[33m[ WARN] [1743783093.121051015]: TF_REPEATED_DATA ignoring data with redundant timestamp for frame odom (parent map) at time 856.357000 according to authority /pose_integrator\u001b[0m\n",
      "\u001b[33m[ WARN] [1743783093.121085119]: TF_REPEATED_DATA ignoring data with redundant timestamp for frame odom (parent map) at time 856.357000 according to authority /pose_integrator\u001b[0m\n",
      "\u001b[33m[ WARN] [1743783093.121121838]: TF_REPEATED_DATA ignoring data with redundant timestamp for frame odom (parent map) at time 856.357000 according to authority /pose_integrator\u001b[0m\n",
      "\u001b[33m[ WARN] [1743783093.482213894]: TF_REPEATED_DATA ignoring data with redundant timestamp for frame odom (parent map) at time 856.479000 according to authority /pose_integrator\u001b[0m\n",
      "\u001b[33m[ WARN] [1743783093.482264676]: TF_REPEATED_DATA ignoring data with redundant timestamp for frame odom (parent map) at time 856.479000 according to authority /pose_integrator\u001b[0m\n",
      "\u001b[33m[ WARN] [1743783093.482303704]: TF_REPEATED_DATA ignoring data with redundant timestamp for frame odom (parent map) at time 856.479000 according to authority /pose_integrator\u001b[0m\n",
      "\u001b[33m[ WARN] [1743783093.482339043]: TF_REPEATED_DATA ignoring data with redundant timestamp for frame odom (parent map) at time 856.479000 according to authority /pose_integrator\u001b[0m\n",
      "\u001b[33m[ WARN] [1743783093.482370695]: TF_REPEATED_DATA ignoring data with redundant timestamp for frame odom (parent map) at time 856.479000 according to authority /pose_integrator\u001b[0m\n",
      "\u001b[33m[ WARN] [1743783093.482401751]: TF_REPEATED_DATA ignoring data with redundant timestamp for frame odom (parent map) at time 856.479000 according to authority /pose_integrator\u001b[0m\n",
      "\u001b[33m[ WARN] [1743783093.782987736]: TF_REPEATED_DATA ignoring data with redundant timestamp for frame odom (parent map) at time 856.562000 according to authority /pose_integrator\u001b[0m\n",
      "\u001b[33m[ WARN] [1743783093.783052187]: TF_REPEATED_DATA ignoring data with redundant timestamp for frame odom (parent map) at time 856.562000 according to authority /pose_integrator\u001b[0m\n",
      "\u001b[33m[ WARN] [1743783093.783083129]: TF_REPEATED_DATA ignoring data with redundant timestamp for frame odom (parent map) at time 856.562000 according to authority /pose_integrator\u001b[0m\n",
      "\u001b[33m[ WARN] [1743783093.783113242]: TF_REPEATED_DATA ignoring data with redundant timestamp for frame odom (parent map) at time 856.562000 according to authority /pose_integrator\u001b[0m\n",
      "\u001b[33m[ WARN] [1743783093.783142349]: TF_REPEATED_DATA ignoring data with redundant timestamp for frame odom (parent map) at time 856.562000 according to authority /pose_integrator\u001b[0m\n",
      "\u001b[33m[ WARN] [1743783093.783180701]: TF_REPEATED_DATA ignoring data with redundant timestamp for frame odom (parent map) at time 856.562000 according to authority /pose_integrator\u001b[0m\n",
      "\u001b[33m[ WARN] [1743783094.400980601]: TF_REPEATED_DATA ignoring data with redundant timestamp for frame odom (parent map) at time 856.724000 according to authority /pose_integrator\u001b[0m\n",
      "\u001b[33m[ WARN] [1743783094.401030865]: TF_REPEATED_DATA ignoring data with redundant timestamp for frame odom (parent map) at time 856.724000 according to authority /pose_integrator\u001b[0m\n",
      "\u001b[33m[ WARN] [1743783094.401063409]: TF_REPEATED_DATA ignoring data with redundant timestamp for frame odom (parent map) at time 856.724000 according to authority /pose_integrator\u001b[0m\n",
      "\u001b[33m[ WARN] [1743783094.401096920]: TF_REPEATED_DATA ignoring data with redundant timestamp for frame odom (parent map) at time 856.724000 according to authority /pose_integrator\u001b[0m\n",
      "\u001b[33m[ WARN] [1743783094.401131107]: TF_REPEATED_DATA ignoring data with redundant timestamp for frame odom (parent map) at time 856.724000 according to authority /pose_integrator\u001b[0m\n",
      "\u001b[33m[ WARN] [1743783094.401168486]: TF_REPEATED_DATA ignoring data with redundant timestamp for frame odom (parent map) at time 856.724000 according to authority /pose_integrator\u001b[0m\n"
     ]
    }
   ],
   "source": [
    "#-----------------------------------------------------------------\n",
    "def points_to_PCA(points):\n",
    "    df=pd.DataFrame(points)\n",
    "    df.columns=[['x','y','z']]\n",
    "    threshold= df['z'].min().values[0]*0.998\n",
    "    print (threshold)\n",
    "    rslt_df = df.loc[df[df['z'] > threshold].index]\n",
    "    points=rslt_df[['x','y','z']].dropna().values\n",
    "    Pca=PCA(n_components=3)\n",
    "    Pca.fit(points)\n",
    "    print('Pca.explained_variance_',Pca.explained_variance_)\n",
    "    ref=np.eye(3)\n",
    "    pcas=Pca.components_\n",
    "    R=[]\n",
    "    R.append(np.dot(pcas[0],ref))\n",
    "    R.append(np.dot(pcas[1],ref))\n",
    "    R.append(np.dot(pcas[2],ref))\n",
    "    R=np.asarray(R)\n",
    "    ## HOMOGENEUS\n",
    "    E_R= np.zeros((4,4))\n",
    "    E_R[:3,:3]+=R\n",
    "    E_R[-1,-1]=1\n",
    "    return     E_R\n"
   ]
  },
  {
   "cell_type": "code",
   "execution_count": 125,
   "id": "8acbaf73",
   "metadata": {},
   "outputs": [
    {
     "name": "stderr",
     "output_type": "stream",
     "text": [
      "\u001b[33m[ WARN] [1743783095.111843722]: TF_REPEATED_DATA ignoring data with redundant timestamp for frame odom (parent map) at time 856.922000 according to authority /pose_integrator\u001b[0m\n",
      "\u001b[33m[ WARN] [1743783095.111893431]: TF_REPEATED_DATA ignoring data with redundant timestamp for frame odom (parent map) at time 856.922000 according to authority /pose_integrator\u001b[0m\n",
      "\u001b[33m[ WARN] [1743783095.111921561]: TF_REPEATED_DATA ignoring data with redundant timestamp for frame odom (parent map) at time 856.922000 according to authority /pose_integrator\u001b[0m\n",
      "\u001b[33m[ WARN] [1743783095.111948396]: TF_REPEATED_DATA ignoring data with redundant timestamp for frame odom (parent map) at time 856.922000 according to authority /pose_integrator\u001b[0m\n",
      "\u001b[33m[ WARN] [1743783095.111972032]: TF_REPEATED_DATA ignoring data with redundant timestamp for frame odom (parent map) at time 856.922000 according to authority /pose_integrator\u001b[0m\n",
      "\u001b[33m[ WARN] [1743783095.111995768]: TF_REPEATED_DATA ignoring data with redundant timestamp for frame odom (parent map) at time 856.922000 according to authority /pose_integrator\u001b[0m\n"
     ]
    },
    {
     "name": "stdout",
     "output_type": "stream",
     "text": [
      "(3, 18522)\n",
      "6.549768334662076e-05\n",
      "Pca.explained_variance_ [0.02822566 0.00766454 0.00727983]\n",
      "ANGLE: (-0.3047336399667262, 0.18605542959088286, -2.56869424669053)  Degrees: [ -17.45995145   10.66019087 -147.17533919]\n"
     ]
    },
    {
     "name": "stderr",
     "output_type": "stream",
     "text": [
      "\u001b[33m[ WARN] [1743783095.515775187]: TF_REPEATED_DATA ignoring data with redundant timestamp for frame odom (parent map) at time 857.071000 according to authority /pose_integrator\u001b[0m\n",
      "\u001b[33m[ WARN] [1743783095.515829838]: TF_REPEATED_DATA ignoring data with redundant timestamp for frame odom (parent map) at time 857.071000 according to authority /pose_integrator\u001b[0m\n",
      "\u001b[33m[ WARN] [1743783095.515852808]: TF_REPEATED_DATA ignoring data with redundant timestamp for frame odom (parent map) at time 857.071000 according to authority /pose_integrator\u001b[0m\n",
      "\u001b[33m[ WARN] [1743783095.515876057]: TF_REPEATED_DATA ignoring data with redundant timestamp for frame odom (parent map) at time 857.071000 according to authority /pose_integrator\u001b[0m\n",
      "\u001b[33m[ WARN] [1743783095.515901849]: TF_REPEATED_DATA ignoring data with redundant timestamp for frame odom (parent map) at time 857.071000 according to authority /pose_integrator\u001b[0m\n",
      "\u001b[33m[ WARN] [1743783095.515925418]: TF_REPEATED_DATA ignoring data with redundant timestamp for frame odom (parent map) at time 857.071000 according to authority /pose_integrator\u001b[0m\n",
      "\u001b[33m[ WARN] [1743783097.273585371]: TF_REPEATED_DATA ignoring data with redundant timestamp for frame odom (parent map) at time 857.522000 according to authority /pose_integrator\u001b[0m\n",
      "\u001b[33m[ WARN] [1743783097.273627589]: TF_REPEATED_DATA ignoring data with redundant timestamp for frame odom (parent map) at time 857.522000 according to authority /pose_integrator\u001b[0m\n",
      "\u001b[33m[ WARN] [1743783097.273659010]: TF_REPEATED_DATA ignoring data with redundant timestamp for frame odom (parent map) at time 857.522000 according to authority /pose_integrator\u001b[0m\n",
      "\u001b[33m[ WARN] [1743783097.273684993]: TF_REPEATED_DATA ignoring data with redundant timestamp for frame odom (parent map) at time 857.522000 according to authority /pose_integrator\u001b[0m\n",
      "\u001b[33m[ WARN] [1743783097.273708940]: TF_REPEATED_DATA ignoring data with redundant timestamp for frame odom (parent map) at time 857.522000 according to authority /pose_integrator\u001b[0m\n",
      "\u001b[33m[ WARN] [1743783097.273734392]: TF_REPEATED_DATA ignoring data with redundant timestamp for frame odom (parent map) at time 857.522000 according to authority /pose_integrator\u001b[0m\n",
      "\u001b[33m[ WARN] [1743783098.942966741]: TF_REPEATED_DATA ignoring data with redundant timestamp for frame odom (parent map) at time 857.947000 according to authority /pose_integrator\u001b[0m\n",
      "\u001b[33m[ WARN] [1743783098.943023104]: TF_REPEATED_DATA ignoring data with redundant timestamp for frame odom (parent map) at time 857.947000 according to authority /pose_integrator\u001b[0m\n",
      "\u001b[33m[ WARN] [1743783098.943057079]: TF_REPEATED_DATA ignoring data with redundant timestamp for frame odom (parent map) at time 857.947000 according to authority /pose_integrator\u001b[0m\n",
      "\u001b[33m[ WARN] [1743783098.943096149]: TF_REPEATED_DATA ignoring data with redundant timestamp for frame odom (parent map) at time 857.947000 according to authority /pose_integrator\u001b[0m\n",
      "\u001b[33m[ WARN] [1743783098.943128222]: TF_REPEATED_DATA ignoring data with redundant timestamp for frame odom (parent map) at time 857.947000 according to authority /pose_integrator\u001b[0m\n",
      "\u001b[33m[ WARN] [1743783098.943165802]: TF_REPEATED_DATA ignoring data with redundant timestamp for frame odom (parent map) at time 857.947000 according to authority /pose_integrator\u001b[0m\n",
      "\u001b[33m[ WARN] [1743783099.202538443]: TF_REPEATED_DATA ignoring data with redundant timestamp for frame odom (parent map) at time 858.014000 according to authority /pose_integrator\u001b[0m\n",
      "\u001b[33m[ WARN] [1743783099.202586680]: TF_REPEATED_DATA ignoring data with redundant timestamp for frame odom (parent map) at time 858.014000 according to authority /pose_integrator\u001b[0m\n",
      "\u001b[33m[ WARN] [1743783099.202620893]: TF_REPEATED_DATA ignoring data with redundant timestamp for frame odom (parent map) at time 858.014000 according to authority /pose_integrator\u001b[0m\n",
      "\u001b[33m[ WARN] [1743783099.202654937]: TF_REPEATED_DATA ignoring data with redundant timestamp for frame odom (parent map) at time 858.014000 according to authority /pose_integrator\u001b[0m\n",
      "\u001b[33m[ WARN] [1743783099.202684996]: TF_REPEATED_DATA ignoring data with redundant timestamp for frame odom (parent map) at time 858.014000 according to authority /pose_integrator\u001b[0m\n",
      "\u001b[33m[ WARN] [1743783099.202728186]: TF_REPEATED_DATA ignoring data with redundant timestamp for frame odom (parent map) at time 858.014000 according to authority /pose_integrator\u001b[0m\n",
      "\u001b[33m[ WARN] [1743783101.318485714]: TF_REPEATED_DATA ignoring data with redundant timestamp for frame odom (parent map) at time 858.614000 according to authority /pose_integrator\u001b[0m\n",
      "\u001b[33m[ WARN] [1743783101.318541388]: TF_REPEATED_DATA ignoring data with redundant timestamp for frame odom (parent map) at time 858.614000 according to authority /pose_integrator\u001b[0m\n",
      "\u001b[33m[ WARN] [1743783101.318583481]: TF_REPEATED_DATA ignoring data with redundant timestamp for frame odom (parent map) at time 858.614000 according to authority /pose_integrator\u001b[0m\n",
      "\u001b[33m[ WARN] [1743783101.318615852]: TF_REPEATED_DATA ignoring data with redundant timestamp for frame odom (parent map) at time 858.614000 according to authority /pose_integrator\u001b[0m\n",
      "\u001b[33m[ WARN] [1743783101.318672148]: TF_REPEATED_DATA ignoring data with redundant timestamp for frame odom (parent map) at time 858.614000 according to authority /pose_integrator\u001b[0m\n",
      "\u001b[33m[ WARN] [1743783101.318707762]: TF_REPEATED_DATA ignoring data with redundant timestamp for frame odom (parent map) at time 858.614000 according to authority /pose_integrator\u001b[0m\n"
     ]
    }
   ],
   "source": [
    "_, binary_image = cv2.threshold(mask, 20, 255, cv2.THRESH_BINARY)\n",
    "individual_mask=(mask*binary_image).astype(np.uint8)        \n",
    "cent=np.asarray(   ((  np.nanmean(corrected['x'][np.where(individual_mask==1)]) ,np.nanmean(corrected['y'][np.where(individual_mask==1)]),np.nanmean(corrected['z'][np.where(individual_mask==1)])       ))      )\n",
    "points_c=np.asarray((corrected['x'][np.where(individual_mask==1)],corrected['y'][np.where(individual_mask==1)],corrected['z'][np.where(individual_mask==1)]))\n",
    "print ( points_c.shape)\n",
    "E_R=points_to_PCA(points_c.transpose())\n",
    "e_ER=tf.transformations.euler_from_matrix(E_R)\n",
    "quat_pca= tf. transformations.quaternion_from_euler(e_ER[0],e_ER[1],e_ER[2])\n",
    "print(\"ANGLE:\",tf.transformations.euler_from_matrix(E_R),\" Degrees:\",np.rad2deg(tf.transformations.euler_from_matrix(E_R)))"
   ]
  },
  {
   "cell_type": "code",
   "execution_count": 126,
   "id": "b31c5024",
   "metadata": {},
   "outputs": [
    {
     "data": {
      "text/plain": [
       "<matplotlib.image.AxesImage at 0x7f99a47a7bb0>"
      ]
     },
     "execution_count": 126,
     "metadata": {},
     "output_type": "execute_result"
    },
    {
     "name": "stderr",
     "output_type": "stream",
     "text": [
      "\u001b[33m[ WARN] [1743783102.234945915]: TF_REPEATED_DATA ignoring data with redundant timestamp for frame odom (parent map) at time 858.850000 according to authority /pose_integrator\u001b[0m\n",
      "\u001b[33m[ WARN] [1743783102.234996822]: TF_REPEATED_DATA ignoring data with redundant timestamp for frame odom (parent map) at time 858.850000 according to authority /pose_integrator\u001b[0m\n",
      "\u001b[33m[ WARN] [1743783102.235026527]: TF_REPEATED_DATA ignoring data with redundant timestamp for frame odom (parent map) at time 858.850000 according to authority /pose_integrator\u001b[0m\n",
      "\u001b[33m[ WARN] [1743783102.235050270]: TF_REPEATED_DATA ignoring data with redundant timestamp for frame odom (parent map) at time 858.850000 according to authority /pose_integrator\u001b[0m\n",
      "\u001b[33m[ WARN] [1743783102.235077910]: TF_REPEATED_DATA ignoring data with redundant timestamp for frame odom (parent map) at time 858.850000 according to authority /pose_integrator\u001b[0m\n",
      "\u001b[33m[ WARN] [1743783102.235099717]: TF_REPEATED_DATA ignoring data with redundant timestamp for frame odom (parent map) at time 858.850000 according to authority /pose_integrator\u001b[0m\n",
      "\u001b[33m[ WARN] [1743783102.538344394]: TF_REPEATED_DATA ignoring data with redundant timestamp for frame odom (parent map) at time 858.928000 according to authority /pose_integrator\u001b[0m\n",
      "\u001b[33m[ WARN] [1743783102.538403960]: TF_REPEATED_DATA ignoring data with redundant timestamp for frame odom (parent map) at time 858.928000 according to authority /pose_integrator\u001b[0m\n",
      "\u001b[33m[ WARN] [1743783102.538436354]: TF_REPEATED_DATA ignoring data with redundant timestamp for frame odom (parent map) at time 858.928000 according to authority /pose_integrator\u001b[0m\n",
      "\u001b[33m[ WARN] [1743783102.538469485]: TF_REPEATED_DATA ignoring data with redundant timestamp for frame odom (parent map) at time 858.928000 according to authority /pose_integrator\u001b[0m\n",
      "\u001b[33m[ WARN] [1743783102.538509433]: TF_REPEATED_DATA ignoring data with redundant timestamp for frame odom (parent map) at time 858.928000 according to authority /pose_integrator\u001b[0m\n",
      "\u001b[33m[ WARN] [1743783102.538547742]: TF_REPEATED_DATA ignoring data with redundant timestamp for frame odom (parent map) at time 858.928000 according to authority /pose_integrator\u001b[0m\n",
      "\u001b[33m[ WARN] [1743783102.883541376]: TF_REPEATED_DATA ignoring data with redundant timestamp for frame odom (parent map) at time 859.018000 according to authority /pose_integrator\u001b[0m\n",
      "\u001b[33m[ WARN] [1743783102.883603907]: TF_REPEATED_DATA ignoring data with redundant timestamp for frame odom (parent map) at time 859.018000 according to authority /pose_integrator\u001b[0m\n",
      "\u001b[33m[ WARN] [1743783102.883655670]: TF_REPEATED_DATA ignoring data with redundant timestamp for frame odom (parent map) at time 859.018000 according to authority /pose_integrator\u001b[0m\n",
      "\u001b[33m[ WARN] [1743783102.883701701]: TF_REPEATED_DATA ignoring data with redundant timestamp for frame odom (parent map) at time 859.018000 according to authority /pose_integrator\u001b[0m\n",
      "\u001b[33m[ WARN] [1743783102.883749108]: TF_REPEATED_DATA ignoring data with redundant timestamp for frame odom (parent map) at time 859.018000 according to authority /pose_integrator\u001b[0m\n",
      "\u001b[33m[ WARN] [1743783102.883795710]: TF_REPEATED_DATA ignoring data with redundant timestamp for frame odom (parent map) at time 859.018000 according to authority /pose_integrator\u001b[0m\n"
     ]
    },
    {
     "data": {
      "image/png": "[encoded data removed]",
      "text/plain": [
       "<Figure size 640x480 with 1 Axes>"
      ]
     },
     "metadata": {},
     "output_type": "display_data"
    },
    {
     "name": "stderr",
     "output_type": "stream",
     "text": [
      "\u001b[33m[ WARN] [1743783103.477665841]: TF_REPEATED_DATA ignoring data with redundant timestamp for frame odom (parent map) at time 859.242000 according to authority /pose_integrator\u001b[0m\n",
      "\u001b[33m[ WARN] [1743783103.477732724]: TF_REPEATED_DATA ignoring data with redundant timestamp for frame odom (parent map) at time 859.242000 according to authority /pose_integrator\u001b[0m\n",
      "\u001b[33m[ WARN] [1743783103.477775171]: TF_REPEATED_DATA ignoring data with redundant timestamp for frame odom (parent map) at time 859.242000 according to authority /pose_integrator\u001b[0m\n",
      "\u001b[33m[ WARN] [1743783103.477815515]: TF_REPEATED_DATA ignoring data with redundant timestamp for frame odom (parent map) at time 859.242000 according to authority /pose_integrator\u001b[0m\n",
      "\u001b[33m[ WARN] [1743783103.477853682]: TF_REPEATED_DATA ignoring data with redundant timestamp for frame odom (parent map) at time 859.242000 according to authority /pose_integrator\u001b[0m\n",
      "\u001b[33m[ WARN] [1743783103.477893361]: TF_REPEATED_DATA ignoring data with redundant timestamp for frame odom (parent map) at time 859.242000 according to authority /pose_integrator\u001b[0m\n"
     ]
    }
   ],
   "source": [
    "plt.imshow(mask)"
   ]
  },
  {
   "cell_type": "code",
   "execution_count": 127,
   "id": "8e812347",
   "metadata": {},
   "outputs": [
    {
     "data": {
      "text/html": [
       "<div>\n",
       "<style scoped>\n",
       "    .dataframe tbody tr th:only-of-type {\n",
       "        vertical-align: middle;\n",
       "    }\n",
       "\n",
       "    .dataframe tbody tr th {\n",
       "        vertical-align: top;\n",
       "    }\n",
       "\n",
       "    .dataframe thead th {\n",
       "        text-align: right;\n",
       "    }\n",
       "</style>\n",
       "<table border=\"1\" class=\"dataframe\">\n",
       "  <thead>\n",
       "    <tr style=\"text-align: right;\">\n",
       "      <th></th>\n",
       "      <th>x</th>\n",
       "      <th>y</th>\n",
       "      <th>z</th>\n",
       "    </tr>\n",
       "  </thead>\n",
       "  <tbody>\n",
       "    <tr>\n",
       "      <th>count</th>\n",
       "      <td>18522.000000</td>\n",
       "      <td>18522.000000</td>\n",
       "      <td>18522.000000</td>\n",
       "    </tr>\n",
       "    <tr>\n",
       "      <th>mean</th>\n",
       "      <td>1.370739</td>\n",
       "      <td>-2.017484</td>\n",
       "      <td>0.091928</td>\n",
       "    </tr>\n",
       "    <tr>\n",
       "      <th>std</th>\n",
       "      <td>0.147221</td>\n",
       "      <td>0.110371</td>\n",
       "      <td>0.096510</td>\n",
       "    </tr>\n",
       "    <tr>\n",
       "      <th>min</th>\n",
       "      <td>0.898683</td>\n",
       "      <td>-2.373412</td>\n",
       "      <td>0.000066</td>\n",
       "    </tr>\n",
       "    <tr>\n",
       "      <th>25%</th>\n",
       "      <td>1.368678</td>\n",
       "      <td>-2.073033</td>\n",
       "      <td>0.000089</td>\n",
       "    </tr>\n",
       "    <tr>\n",
       "      <th>50%</th>\n",
       "      <td>1.432219</td>\n",
       "      <td>-2.003415</td>\n",
       "      <td>0.061548</td>\n",
       "    </tr>\n",
       "    <tr>\n",
       "      <th>75%</th>\n",
       "      <td>1.451830</td>\n",
       "      <td>-1.928664</td>\n",
       "      <td>0.181513</td>\n",
       "    </tr>\n",
       "    <tr>\n",
       "      <th>max</th>\n",
       "      <td>1.576946</td>\n",
       "      <td>-1.819445</td>\n",
       "      <td>0.288456</td>\n",
       "    </tr>\n",
       "  </tbody>\n",
       "</table>\n",
       "</div>"
      ],
      "text/plain": [
       "                  x             y             z\n",
       "count  18522.000000  18522.000000  18522.000000\n",
       "mean       1.370739     -2.017484      0.091928\n",
       "std        0.147221      0.110371      0.096510\n",
       "min        0.898683     -2.373412      0.000066\n",
       "25%        1.368678     -2.073033      0.000089\n",
       "50%        1.432219     -2.003415      0.061548\n",
       "75%        1.451830     -1.928664      0.181513\n",
       "max        1.576946     -1.819445      0.288456"
      ]
     },
     "execution_count": 127,
     "metadata": {},
     "output_type": "execute_result"
    },
    {
     "name": "stderr",
     "output_type": "stream",
     "text": [
      "\u001b[33m[ WARN] [1743783104.219063579]: TF_REPEATED_DATA ignoring data with redundant timestamp for frame odom (parent map) at time 859.435000 according to authority /pose_integrator\u001b[0m\n",
      "\u001b[33m[ WARN] [1743783104.219118108]: TF_REPEATED_DATA ignoring data with redundant timestamp for frame odom (parent map) at time 859.435000 according to authority /pose_integrator\u001b[0m\n",
      "\u001b[33m[ WARN] [1743783104.219157878]: TF_REPEATED_DATA ignoring data with redundant timestamp for frame odom (parent map) at time 859.435000 according to authority /pose_integrator\u001b[0m\n",
      "\u001b[33m[ WARN] [1743783104.219199402]: TF_REPEATED_DATA ignoring data with redundant timestamp for frame odom (parent map) at time 859.435000 according to authority /pose_integrator\u001b[0m\n",
      "\u001b[33m[ WARN] [1743783104.219248602]: TF_REPEATED_DATA ignoring data with redundant timestamp for frame odom (parent map) at time 859.435000 according to authority /pose_integrator\u001b[0m\n",
      "\u001b[33m[ WARN] [1743783104.219311334]: TF_REPEATED_DATA ignoring data with redundant timestamp for frame odom (parent map) at time 859.435000 according to authority /pose_integrator\u001b[0m\n",
      "\u001b[33m[ WARN] [1743783104.460079949]: TF_REPEATED_DATA ignoring data with redundant timestamp for frame odom (parent map) at time 859.495000 according to authority /pose_integrator\u001b[0m\n",
      "\u001b[33m[ WARN] [1743783104.460121986]: TF_REPEATED_DATA ignoring data with redundant timestamp for frame odom (parent map) at time 859.495000 according to authority /pose_integrator\u001b[0m\n",
      "\u001b[33m[ WARN] [1743783104.460146795]: TF_REPEATED_DATA ignoring data with redundant timestamp for frame odom (parent map) at time 859.495000 according to authority /pose_integrator\u001b[0m\n",
      "\u001b[33m[ WARN] [1743783104.460176888]: TF_REPEATED_DATA ignoring data with redundant timestamp for frame odom (parent map) at time 859.495000 according to authority /pose_integrator\u001b[0m\n",
      "\u001b[33m[ WARN] [1743783104.460204187]: TF_REPEATED_DATA ignoring data with redundant timestamp for frame odom (parent map) at time 859.495000 according to authority /pose_integrator\u001b[0m\n",
      "\u001b[33m[ WARN] [1743783104.460248130]: TF_REPEATED_DATA ignoring data with redundant timestamp for frame odom (parent map) at time 859.495000 according to authority /pose_integrator\u001b[0m\n",
      "\u001b[33m[ WARN] [1743783104.961880608]: TF_REPEATED_DATA ignoring data with redundant timestamp for frame odom (parent map) at time 859.619000 according to authority /pose_integrator\u001b[0m\n",
      "\u001b[33m[ WARN] [1743783104.961943811]: TF_REPEATED_DATA ignoring data with redundant timestamp for frame odom (parent map) at time 859.619000 according to authority /pose_integrator\u001b[0m\n",
      "\u001b[33m[ WARN] [1743783104.961980398]: TF_REPEATED_DATA ignoring data with redundant timestamp for frame odom (parent map) at time 859.619000 according to authority /pose_integrator\u001b[0m\n",
      "\u001b[33m[ WARN] [1743783104.962017164]: TF_REPEATED_DATA ignoring data with redundant timestamp for frame odom (parent map) at time 859.619000 according to authority /pose_integrator\u001b[0m\n",
      "\u001b[33m[ WARN] [1743783104.962050809]: TF_REPEATED_DATA ignoring data with redundant timestamp for frame odom (parent map) at time 859.619000 according to authority /pose_integrator\u001b[0m\n",
      "\u001b[33m[ WARN] [1743783104.962082888]: TF_REPEATED_DATA ignoring data with redundant timestamp for frame odom (parent map) at time 859.619000 according to authority /pose_integrator\u001b[0m\n"
     ]
    }
   ],
   "source": [
    "points_c=np.asarray((corrected['x'][np.where(individual_mask==1)],corrected['y'][np.where(individual_mask==1)],corrected['z'][np.where(individual_mask==1)]))\n",
    "df=pd.DataFrame(points_c.transpose())\n",
    "df.columns=['x','y','z']\n",
    "df.describe()"
   ]
  },
  {
   "cell_type": "code",
   "execution_count": 128,
   "id": "3a445e6a",
   "metadata": {},
   "outputs": [
    {
     "data": {
      "text/plain": [
       "<mpl_toolkits.mplot3d.art3d.Path3DCollection at 0x7f99ac337d60>"
      ]
     },
     "execution_count": 128,
     "metadata": {},
     "output_type": "execute_result"
    },
    {
     "name": "stderr",
     "output_type": "stream",
     "text": [
      "\u001b[33m[ WARN] [1743783106.880597990]: TF_REPEATED_DATA ignoring data with redundant timestamp for frame odom (parent map) at time 860.137000 according to authority /pose_integrator\u001b[0m\n",
      "\u001b[33m[ WARN] [1743783106.880678132]: TF_REPEATED_DATA ignoring data with redundant timestamp for frame odom (parent map) at time 860.137000 according to authority /pose_integrator\u001b[0m\n",
      "\u001b[33m[ WARN] [1743783106.880726603]: TF_REPEATED_DATA ignoring data with redundant timestamp for frame odom (parent map) at time 860.137000 according to authority /pose_integrator\u001b[0m\n",
      "\u001b[33m[ WARN] [1743783106.880764208]: TF_REPEATED_DATA ignoring data with redundant timestamp for frame odom (parent map) at time 860.137000 according to authority /pose_integrator\u001b[0m\n",
      "\u001b[33m[ WARN] [1743783106.880802854]: TF_REPEATED_DATA ignoring data with redundant timestamp for frame odom (parent map) at time 860.137000 according to authority /pose_integrator\u001b[0m\n",
      "\u001b[33m[ WARN] [1743783106.880866226]: TF_REPEATED_DATA ignoring data with redundant timestamp for frame odom (parent map) at time 860.137000 according to authority /pose_integrator\u001b[0m\n"
     ]
    },
    {
     "data": {
      "image/png": "[encoded data removed]",
      "text/plain": [
       "<Figure size 640x480 with 1 Axes>"
      ]
     },
     "metadata": {},
     "output_type": "display_data"
    }
   ],
   "source": [
    "rslt_df = df[df['z'] > 0.02]\n",
    "points=rslt_df[['x','y','z']].sample(30).values\n",
    "#points=rslt_df[['x','y','z']].values\n",
    "fig = plt.figure()\n",
    "ax = fig.add_subplot(projection='3d')\n",
    "ax.scatter(points[:,0],points[:,1],points[:,2])\n",
    "pt=rslt_df[['x','y','z']].mean().values\n",
    "ax.scatter(pt[0],pt[1],pt[2],'o')"
   ]
  },
  {
   "cell_type": "code",
   "execution_count": 129,
   "id": "3d454ce2",
   "metadata": {},
   "outputs": [
    {
     "data": {
      "text/plain": [
       "<matplotlib.image.AxesImage at 0x7f99ac4994f0>"
      ]
     },
     "execution_count": 129,
     "metadata": {},
     "output_type": "execute_result"
    },
    {
     "name": "stderr",
     "output_type": "stream",
     "text": [
      "\u001b[33m[ WARN] [1743783109.171587664]: TF_REPEATED_DATA ignoring data with redundant timestamp for frame odom (parent map) at time 860.729000 according to authority /pose_integrator\u001b[0m\n",
      "\u001b[33m[ WARN] [1743783109.171661505]: TF_REPEATED_DATA ignoring data with redundant timestamp for frame odom (parent map) at time 860.729000 according to authority /pose_integrator\u001b[0m\n",
      "\u001b[33m[ WARN] [1743783109.171710030]: TF_REPEATED_DATA ignoring data with redundant timestamp for frame odom (parent map) at time 860.729000 according to authority /pose_integrator\u001b[0m\n",
      "\u001b[33m[ WARN] [1743783109.171750437]: TF_REPEATED_DATA ignoring data with redundant timestamp for frame odom (parent map) at time 860.729000 according to authority /pose_integrator\u001b[0m\n",
      "\u001b[33m[ WARN] [1743783109.171786201]: TF_REPEATED_DATA ignoring data with redundant timestamp for frame odom (parent map) at time 860.729000 according to authority /pose_integrator\u001b[0m\n",
      "\u001b[33m[ WARN] [1743783109.171841091]: TF_REPEATED_DATA ignoring data with redundant timestamp for frame odom (parent map) at time 860.729000 according to authority /pose_integrator\u001b[0m\n"
     ]
    },
    {
     "data": {
      "image/png": "[encoded data removed]",
      "text/plain": [
       "<Figure size 640x480 with 1 Axes>"
      ]
     },
     "metadata": {},
     "output_type": "display_data"
    },
    {
     "name": "stderr",
     "output_type": "stream",
     "text": [
      "\u001b[33m[ WARN] [1743783110.223992405]: TF_REPEATED_DATA ignoring data with redundant timestamp for frame odom (parent map) at time 861.057000 according to authority /pose_integrator\u001b[0m\n",
      "\u001b[33m[ WARN] [1743783110.224050473]: TF_REPEATED_DATA ignoring data with redundant timestamp for frame odom (parent map) at time 861.057000 according to authority /pose_integrator\u001b[0m\n",
      "\u001b[33m[ WARN] [1743783110.224082758]: TF_REPEATED_DATA ignoring data with redundant timestamp for frame odom (parent map) at time 861.057000 according to authority /pose_integrator\u001b[0m\n",
      "\u001b[33m[ WARN] [1743783110.224110434]: TF_REPEATED_DATA ignoring data with redundant timestamp for frame odom (parent map) at time 861.057000 according to authority /pose_integrator\u001b[0m\n",
      "\u001b[33m[ WARN] [1743783110.224143663]: TF_REPEATED_DATA ignoring data with redundant timestamp for frame odom (parent map) at time 861.057000 according to authority /pose_integrator\u001b[0m\n",
      "\u001b[33m[ WARN] [1743783110.224182614]: TF_REPEATED_DATA ignoring data with redundant timestamp for frame odom (parent map) at time 861.057000 according to authority /pose_integrator\u001b[0m\n"
     ]
    }
   ],
   "source": [
    "plt.imshow(mask*rgb_image[:,:,0])"
   ]
  },
  {
   "cell_type": "code",
   "execution_count": 130,
   "id": "43cce41a",
   "metadata": {},
   "outputs": [
    {
     "data": {
      "text/plain": [
       "<matplotlib.image.AxesImage at 0x7f99ac490be0>"
      ]
     },
     "execution_count": 130,
     "metadata": {},
     "output_type": "execute_result"
    },
    {
     "data": {
      "image/png": "[encoded data removed]",
      "text/plain": [
       "<Figure size 640x480 with 1 Axes>"
      ]
     },
     "metadata": {},
     "output_type": "display_data"
    },
    {
     "name": "stderr",
     "output_type": "stream",
     "text": [
      "\u001b[33m[ WARN] [1743783114.389373705]: TF_REPEATED_DATA ignoring data with redundant timestamp for frame odom (parent map) at time 862.114000 according to authority /pose_integrator\u001b[0m\n",
      "\u001b[33m[ WARN] [1743783114.389428545]: TF_REPEATED_DATA ignoring data with redundant timestamp for frame odom (parent map) at time 862.114000 according to authority /pose_integrator\u001b[0m\n",
      "\u001b[33m[ WARN] [1743783114.389463450]: TF_REPEATED_DATA ignoring data with redundant timestamp for frame odom (parent map) at time 862.114000 according to authority /pose_integrator\u001b[0m\n",
      "\u001b[33m[ WARN] [1743783114.389491468]: TF_REPEATED_DATA ignoring data with redundant timestamp for frame odom (parent map) at time 862.114000 according to authority /pose_integrator\u001b[0m\n",
      "\u001b[33m[ WARN] [1743783114.389518388]: TF_REPEATED_DATA ignoring data with redundant timestamp for frame odom (parent map) at time 862.114000 according to authority /pose_integrator\u001b[0m\n",
      "\u001b[33m[ WARN] [1743783114.389545528]: TF_REPEATED_DATA ignoring data with redundant timestamp for frame odom (parent map) at time 862.114000 according to authority /pose_integrator\u001b[0m\n",
      "\u001b[33m[ WARN] [1743783114.739124318]: TF_REPEATED_DATA ignoring data with redundant timestamp for frame odom (parent map) at time 862.218000 according to authority /pose_integrator\u001b[0m\n",
      "\u001b[33m[ WARN] [1743783114.739175195]: TF_REPEATED_DATA ignoring data with redundant timestamp for frame odom (parent map) at time 862.218000 according to authority /pose_integrator\u001b[0m\n",
      "\u001b[33m[ WARN] [1743783114.739205558]: TF_REPEATED_DATA ignoring data with redundant timestamp for frame odom (parent map) at time 862.218000 according to authority /pose_integrator\u001b[0m\n",
      "\u001b[33m[ WARN] [1743783114.739232525]: TF_REPEATED_DATA ignoring data with redundant timestamp for frame odom (parent map) at time 862.218000 according to authority /pose_integrator\u001b[0m\n",
      "\u001b[33m[ WARN] [1743783114.739272108]: TF_REPEATED_DATA ignoring data with redundant timestamp for frame odom (parent map) at time 862.218000 according to authority /pose_integrator\u001b[0m\n",
      "\u001b[33m[ WARN] [1743783114.739308446]: TF_REPEATED_DATA ignoring data with redundant timestamp for frame odom (parent map) at time 862.218000 according to authority /pose_integrator\u001b[0m\n",
      "\u001b[33m[ WARN] [1743783114.975380719]: TF_REPEATED_DATA ignoring data with redundant timestamp for frame odom (parent map) at time 862.282000 according to authority /pose_integrator\u001b[0m\n",
      "\u001b[33m[ WARN] [1743783114.975420745]: TF_REPEATED_DATA ignoring data with redundant timestamp for frame odom (parent map) at time 862.282000 according to authority /pose_integrator\u001b[0m\n",
      "\u001b[33m[ WARN] [1743783114.975445708]: TF_REPEATED_DATA ignoring data with redundant timestamp for frame odom (parent map) at time 862.282000 according to authority /pose_integrator\u001b[0m\n",
      "\u001b[33m[ WARN] [1743783114.975473735]: TF_REPEATED_DATA ignoring data with redundant timestamp for frame odom (parent map) at time 862.282000 according to authority /pose_integrator\u001b[0m\n",
      "\u001b[33m[ WARN] [1743783114.975503677]: TF_REPEATED_DATA ignoring data with redundant timestamp for frame odom (parent map) at time 862.282000 according to authority /pose_integrator\u001b[0m\n",
      "\u001b[33m[ WARN] [1743783114.975528124]: TF_REPEATED_DATA ignoring data with redundant timestamp for frame odom (parent map) at time 862.282000 according to authority /pose_integrator\u001b[0m\n",
      "\u001b[33m[ WARN] [1743783115.414739892]: TF_REPEATED_DATA ignoring data with redundant timestamp for frame odom (parent map) at time 862.392000 according to authority /pose_integrator\u001b[0m\n",
      "\u001b[33m[ WARN] [1743783115.414813685]: TF_REPEATED_DATA ignoring data with redundant timestamp for frame odom (parent map) at time 862.392000 according to authority /pose_integrator\u001b[0m\n",
      "\u001b[33m[ WARN] [1743783115.414867139]: TF_REPEATED_DATA ignoring data with redundant timestamp for frame odom (parent map) at time 862.392000 according to authority /pose_integrator\u001b[0m\n",
      "\u001b[33m[ WARN] [1743783115.414914292]: TF_REPEATED_DATA ignoring data with redundant timestamp for frame odom (parent map) at time 862.392000 according to authority /pose_integrator\u001b[0m\n",
      "\u001b[33m[ WARN] [1743783115.414962209]: TF_REPEATED_DATA ignoring data with redundant timestamp for frame odom (parent map) at time 862.392000 according to authority /pose_integrator\u001b[0m\n",
      "\u001b[33m[ WARN] [1743783115.415004036]: TF_REPEATED_DATA ignoring data with redundant timestamp for frame odom (parent map) at time 862.392000 according to authority /pose_integrator\u001b[0m\n",
      "\u001b[33m[ WARN] [1743783116.389174063]: TF_REPEATED_DATA ignoring data with redundant timestamp for frame odom (parent map) at time 862.630000 according to authority /pose_integrator\u001b[0m\n",
      "\u001b[33m[ WARN] [1743783116.389221540]: TF_REPEATED_DATA ignoring data with redundant timestamp for frame odom (parent map) at time 862.630000 according to authority /pose_integrator\u001b[0m\n",
      "\u001b[33m[ WARN] [1743783116.389259257]: TF_REPEATED_DATA ignoring data with redundant timestamp for frame odom (parent map) at time 862.630000 according to authority /pose_integrator\u001b[0m\n",
      "\u001b[33m[ WARN] [1743783116.389311510]: TF_REPEATED_DATA ignoring data with redundant timestamp for frame odom (parent map) at time 862.630000 according to authority /pose_integrator\u001b[0m\n",
      "\u001b[33m[ WARN] [1743783116.389357111]: TF_REPEATED_DATA ignoring data with redundant timestamp for frame odom (parent map) at time 862.630000 according to authority /pose_integrator\u001b[0m\n",
      "\u001b[33m[ WARN] [1743783116.389403017]: TF_REPEATED_DATA ignoring data with redundant timestamp for frame odom (parent map) at time 862.630000 according to authority /pose_integrator\u001b[0m\n",
      "\u001b[33m[ WARN] [1743783117.583203679]: TF_REPEATED_DATA ignoring data with redundant timestamp for frame odom (parent map) at time 862.940000 according to authority /pose_integrator\u001b[0m\n",
      "\u001b[33m[ WARN] [1743783117.583277791]: TF_REPEATED_DATA ignoring data with redundant timestamp for frame odom (parent map) at time 862.940000 according to authority /pose_integrator\u001b[0m\n",
      "\u001b[33m[ WARN] [1743783117.583311486]: TF_REPEATED_DATA ignoring data with redundant timestamp for frame odom (parent map) at time 862.940000 according to authority /pose_integrator\u001b[0m\n",
      "\u001b[33m[ WARN] [1743783117.583347240]: TF_REPEATED_DATA ignoring data with redundant timestamp for frame odom (parent map) at time 862.940000 according to authority /pose_integrator\u001b[0m\n",
      "\u001b[33m[ WARN] [1743783117.583368236]: TF_REPEATED_DATA ignoring data with redundant timestamp for frame odom (parent map) at time 862.940000 according to authority /pose_integrator\u001b[0m\n",
      "\u001b[33m[ WARN] [1743783117.583389206]: TF_REPEATED_DATA ignoring data with redundant timestamp for frame odom (parent map) at time 862.940000 according to authority /pose_integrator\u001b[0m\n",
      "\u001b[33m[ WARN] [1743783118.980067652]: TF_REPEATED_DATA ignoring data with redundant timestamp for frame odom (parent map) at time 863.296000 according to authority /pose_integrator\u001b[0m\n",
      "\u001b[33m[ WARN] [1743783118.980100198]: TF_REPEATED_DATA ignoring data with redundant timestamp for frame odom (parent map) at time 863.296000 according to authority /pose_integrator\u001b[0m\n",
      "\u001b[33m[ WARN] [1743783118.980117709]: TF_REPEATED_DATA ignoring data with redundant timestamp for frame odom (parent map) at time 863.296000 according to authority /pose_integrator\u001b[0m\n",
      "\u001b[33m[ WARN] [1743783118.980133612]: TF_REPEATED_DATA ignoring data with redundant timestamp for frame odom (parent map) at time 863.296000 according to authority /pose_integrator\u001b[0m\n",
      "\u001b[33m[ WARN] [1743783118.980149258]: TF_REPEATED_DATA ignoring data with redundant timestamp for frame odom (parent map) at time 863.296000 according to authority /pose_integrator\u001b[0m\n",
      "\u001b[33m[ WARN] [1743783118.980164361]: TF_REPEATED_DATA ignoring data with redundant timestamp for frame odom (parent map) at time 863.296000 according to authority /pose_integrator\u001b[0m\n",
      "\u001b[33m[ WARN] [1743783121.017149661]: TF_REPEATED_DATA ignoring data with redundant timestamp for frame odom (parent map) at time 863.848000 according to authority /pose_integrator\u001b[0m\n",
      "\u001b[33m[ WARN] [1743783121.017187311]: TF_REPEATED_DATA ignoring data with redundant timestamp for frame odom (parent map) at time 863.848000 according to authority /pose_integrator\u001b[0m\n",
      "\u001b[33m[ WARN] [1743783121.017211535]: TF_REPEATED_DATA ignoring data with redundant timestamp for frame odom (parent map) at time 863.848000 according to authority /pose_integrator\u001b[0m\n",
      "\u001b[33m[ WARN] [1743783121.017234821]: TF_REPEATED_DATA ignoring data with redundant timestamp for frame odom (parent map) at time 863.848000 according to authority /pose_integrator\u001b[0m\n",
      "\u001b[33m[ WARN] [1743783121.017257755]: TF_REPEATED_DATA ignoring data with redundant timestamp for frame odom (parent map) at time 863.848000 according to authority /pose_integrator\u001b[0m\n",
      "\u001b[33m[ WARN] [1743783121.017280656]: TF_REPEATED_DATA ignoring data with redundant timestamp for frame odom (parent map) at time 863.848000 according to authority /pose_integrator\u001b[0m\n"
     ]
    },
    {
     "name": "stderr",
     "output_type": "stream",
     "text": [
      "\u001b[33m[ WARN] [1743783122.559596090]: TF_REPEATED_DATA ignoring data with redundant timestamp for frame odom (parent map) at time 864.244000 according to authority /pose_integrator\u001b[0m\n",
      "\u001b[33m[ WARN] [1743783122.559660504]: TF_REPEATED_DATA ignoring data with redundant timestamp for frame odom (parent map) at time 864.244000 according to authority /pose_integrator\u001b[0m\n",
      "\u001b[33m[ WARN] [1743783122.559700504]: TF_REPEATED_DATA ignoring data with redundant timestamp for frame odom (parent map) at time 864.244000 according to authority /pose_integrator\u001b[0m\n",
      "\u001b[33m[ WARN] [1743783122.559738186]: TF_REPEATED_DATA ignoring data with redundant timestamp for frame odom (parent map) at time 864.244000 according to authority /pose_integrator\u001b[0m\n",
      "\u001b[33m[ WARN] [1743783122.559765514]: TF_REPEATED_DATA ignoring data with redundant timestamp for frame odom (parent map) at time 864.244000 according to authority /pose_integrator\u001b[0m\n",
      "\u001b[33m[ WARN] [1743783122.559789403]: TF_REPEATED_DATA ignoring data with redundant timestamp for frame odom (parent map) at time 864.244000 according to authority /pose_integrator\u001b[0m\n",
      "\u001b[33m[ WARN] [1743783122.827743784]: TF_REPEATED_DATA ignoring data with redundant timestamp for frame odom (parent map) at time 864.329000 according to authority /pose_integrator\u001b[0m\n",
      "\u001b[33m[ WARN] [1743783122.827784935]: TF_REPEATED_DATA ignoring data with redundant timestamp for frame odom (parent map) at time 864.329000 according to authority /pose_integrator\u001b[0m\n",
      "\u001b[33m[ WARN] [1743783122.827816277]: TF_REPEATED_DATA ignoring data with redundant timestamp for frame odom (parent map) at time 864.329000 according to authority /pose_integrator\u001b[0m\n",
      "\u001b[33m[ WARN] [1743783122.827845832]: TF_REPEATED_DATA ignoring data with redundant timestamp for frame odom (parent map) at time 864.329000 according to authority /pose_integrator\u001b[0m\n",
      "\u001b[33m[ WARN] [1743783122.827875392]: TF_REPEATED_DATA ignoring data with redundant timestamp for frame odom (parent map) at time 864.329000 according to authority /pose_integrator\u001b[0m\n",
      "\u001b[33m[ WARN] [1743783122.827907896]: TF_REPEATED_DATA ignoring data with redundant timestamp for frame odom (parent map) at time 864.329000 according to authority /pose_integrator\u001b[0m\n",
      "\u001b[33m[ WARN] [1743783125.148775643]: TF_REPEATED_DATA ignoring data with redundant timestamp for frame odom (parent map) at time 864.922000 according to authority /pose_integrator\u001b[0m\n",
      "\u001b[33m[ WARN] [1743783125.148854275]: TF_REPEATED_DATA ignoring data with redundant timestamp for frame odom (parent map) at time 864.922000 according to authority /pose_integrator\u001b[0m\n",
      "\u001b[33m[ WARN] [1743783125.148917291]: TF_REPEATED_DATA ignoring data with redundant timestamp for frame odom (parent map) at time 864.922000 according to authority /pose_integrator\u001b[0m\n",
      "\u001b[33m[ WARN] [1743783125.148971880]: TF_REPEATED_DATA ignoring data with redundant timestamp for frame odom (parent map) at time 864.922000 according to authority /pose_integrator\u001b[0m\n",
      "\u001b[33m[ WARN] [1743783125.149022440]: TF_REPEATED_DATA ignoring data with redundant timestamp for frame odom (parent map) at time 864.922000 according to authority /pose_integrator\u001b[0m\n",
      "\u001b[33m[ WARN] [1743783125.149068179]: TF_REPEATED_DATA ignoring data with redundant timestamp for frame odom (parent map) at time 864.922000 according to authority /pose_integrator\u001b[0m\n",
      "\u001b[33m[ WARN] [1743783125.406492583]: TF_REPEATED_DATA ignoring data with redundant timestamp for frame odom (parent map) at time 865.000000 according to authority /pose_integrator\u001b[0m\n",
      "\u001b[33m[ WARN] [1743783125.406540652]: TF_REPEATED_DATA ignoring data with redundant timestamp for frame odom (parent map) at time 865.000000 according to authority /pose_integrator\u001b[0m\n",
      "\u001b[33m[ WARN] [1743783125.406576424]: TF_REPEATED_DATA ignoring data with redundant timestamp for frame odom (parent map) at time 865.000000 according to authority /pose_integrator\u001b[0m\n",
      "\u001b[33m[ WARN] [1743783125.406615923]: TF_REPEATED_DATA ignoring data with redundant timestamp for frame odom (parent map) at time 865.000000 according to authority /pose_integrator\u001b[0m\n",
      "\u001b[33m[ WARN] [1743783125.406655779]: TF_REPEATED_DATA ignoring data with redundant timestamp for frame odom (parent map) at time 865.000000 according to authority /pose_integrator\u001b[0m\n",
      "\u001b[33m[ WARN] [1743783125.406702473]: TF_REPEATED_DATA ignoring data with redundant timestamp for frame odom (parent map) at time 865.000000 according to authority /pose_integrator\u001b[0m\n",
      "\u001b[33m[ WARN] [1743783126.715795155]: TF_REPEATED_DATA ignoring data with redundant timestamp for frame odom (parent map) at time 865.297000 according to authority /pose_integrator\u001b[0m\n",
      "\u001b[33m[ WARN] [1743783126.715865327]: TF_REPEATED_DATA ignoring data with redundant timestamp for frame odom (parent map) at time 865.297000 according to authority /pose_integrator\u001b[0m\n",
      "\u001b[33m[ WARN] [1743783126.715907604]: TF_REPEATED_DATA ignoring data with redundant timestamp for frame odom (parent map) at time 865.297000 according to authority /pose_integrator\u001b[0m\n",
      "\u001b[33m[ WARN] [1743783126.715961085]: TF_REPEATED_DATA ignoring data with redundant timestamp for frame odom (parent map) at time 865.297000 according to authority /pose_integrator\u001b[0m\n",
      "\u001b[33m[ WARN] [1743783126.716007482]: TF_REPEATED_DATA ignoring data with redundant timestamp for frame odom (parent map) at time 865.297000 according to authority /pose_integrator\u001b[0m\n",
      "\u001b[33m[ WARN] [1743783126.716057690]: TF_REPEATED_DATA ignoring data with redundant timestamp for frame odom (parent map) at time 865.297000 according to authority /pose_integrator\u001b[0m\n",
      "\u001b[33m[ WARN] [1743783133.268132087]: TF_REPEATED_DATA ignoring data with redundant timestamp for frame odom (parent map) at time 866.975000 according to authority /pose_integrator\u001b[0m\n",
      "\u001b[33m[ WARN] [1743783133.268226347]: TF_REPEATED_DATA ignoring data with redundant timestamp for frame odom (parent map) at time 866.975000 according to authority /pose_integrator\u001b[0m\n",
      "\u001b[33m[ WARN] [1743783133.268280856]: TF_REPEATED_DATA ignoring data with redundant timestamp for frame odom (parent map) at time 866.975000 according to authority /pose_integrator\u001b[0m\n",
      "\u001b[33m[ WARN] [1743783133.268319492]: TF_REPEATED_DATA ignoring data with redundant timestamp for frame odom (parent map) at time 866.975000 according to authority /pose_integrator\u001b[0m\n",
      "\u001b[33m[ WARN] [1743783133.268376257]: TF_REPEATED_DATA ignoring data with redundant timestamp for frame odom (parent map) at time 866.975000 according to authority /pose_integrator\u001b[0m\n",
      "\u001b[33m[ WARN] [1743783133.268415539]: TF_REPEATED_DATA ignoring data with redundant timestamp for frame odom (parent map) at time 866.975000 according to authority /pose_integrator\u001b[0m\n",
      "\u001b[33m[ WARN] [1743783134.374026522]: TF_REPEATED_DATA ignoring data with redundant timestamp for frame odom (parent map) at time 867.280000 according to authority /pose_integrator\u001b[0m\n",
      "\u001b[33m[ WARN] [1743783134.374105352]: TF_REPEATED_DATA ignoring data with redundant timestamp for frame odom (parent map) at time 867.280000 according to authority /pose_integrator\u001b[0m\n",
      "\u001b[33m[ WARN] [1743783134.374153786]: TF_REPEATED_DATA ignoring data with redundant timestamp for frame odom (parent map) at time 867.280000 according to authority /pose_integrator\u001b[0m\n",
      "\u001b[33m[ WARN] [1743783134.374194651]: TF_REPEATED_DATA ignoring data with redundant timestamp for frame odom (parent map) at time 867.280000 according to authority /pose_integrator\u001b[0m\n",
      "\u001b[33m[ WARN] [1743783134.374242647]: TF_REPEATED_DATA ignoring data with redundant timestamp for frame odom (parent map) at time 867.280000 according to authority /pose_integrator\u001b[0m\n",
      "\u001b[33m[ WARN] [1743783134.374291819]: TF_REPEATED_DATA ignoring data with redundant timestamp for frame odom (parent map) at time 867.280000 according to authority /pose_integrator\u001b[0m\n",
      "\u001b[33m[ WARN] [1743783134.813048217]: TF_REPEATED_DATA ignoring data with redundant timestamp for frame odom (parent map) at time 867.387000 according to authority /pose_integrator\u001b[0m\n",
      "\u001b[33m[ WARN] [1743783134.813120104]: TF_REPEATED_DATA ignoring data with redundant timestamp for frame odom (parent map) at time 867.387000 according to authority /pose_integrator\u001b[0m\n",
      "\u001b[33m[ WARN] [1743783134.813166323]: TF_REPEATED_DATA ignoring data with redundant timestamp for frame odom (parent map) at time 867.387000 according to authority /pose_integrator\u001b[0m\n",
      "\u001b[33m[ WARN] [1743783134.813210648]: TF_REPEATED_DATA ignoring data with redundant timestamp for frame odom (parent map) at time 867.387000 according to authority /pose_integrator\u001b[0m\n",
      "\u001b[33m[ WARN] [1743783134.813253610]: TF_REPEATED_DATA ignoring data with redundant timestamp for frame odom (parent map) at time 867.387000 according to authority /pose_integrator\u001b[0m\n",
      "\u001b[33m[ WARN] [1743783134.813296635]: TF_REPEATED_DATA ignoring data with redundant timestamp for frame odom (parent map) at time 867.387000 according to authority /pose_integrator\u001b[0m\n"
     ]
    },
    {
     "name": "stderr",
     "output_type": "stream",
     "text": [
      "\u001b[33m[ WARN] [1743783135.930644438]: TF_REPEATED_DATA ignoring data with redundant timestamp for frame odom (parent map) at time 867.677000 according to authority /pose_integrator\u001b[0m\n",
      "\u001b[33m[ WARN] [1743783135.930719295]: TF_REPEATED_DATA ignoring data with redundant timestamp for frame odom (parent map) at time 867.677000 according to authority /pose_integrator\u001b[0m\n",
      "\u001b[33m[ WARN] [1743783135.930769579]: TF_REPEATED_DATA ignoring data with redundant timestamp for frame odom (parent map) at time 867.677000 according to authority /pose_integrator\u001b[0m\n",
      "\u001b[33m[ WARN] [1743783135.930823310]: TF_REPEATED_DATA ignoring data with redundant timestamp for frame odom (parent map) at time 867.677000 according to authority /pose_integrator\u001b[0m\n",
      "\u001b[33m[ WARN] [1743783135.930889613]: TF_REPEATED_DATA ignoring data with redundant timestamp for frame odom (parent map) at time 867.677000 according to authority /pose_integrator\u001b[0m\n",
      "\u001b[33m[ WARN] [1743783135.930935972]: TF_REPEATED_DATA ignoring data with redundant timestamp for frame odom (parent map) at time 867.677000 according to authority /pose_integrator\u001b[0m\n",
      "\u001b[33m[ WARN] [1743783137.817715759]: TF_REPEATED_DATA ignoring data with redundant timestamp for frame odom (parent map) at time 868.222000 according to authority /pose_integrator\u001b[0m\n",
      "\u001b[33m[ WARN] [1743783137.817796984]: TF_REPEATED_DATA ignoring data with redundant timestamp for frame odom (parent map) at time 868.222000 according to authority /pose_integrator\u001b[0m\n",
      "\u001b[33m[ WARN] [1743783137.817860745]: TF_REPEATED_DATA ignoring data with redundant timestamp for frame odom (parent map) at time 868.222000 according to authority /pose_integrator\u001b[0m\n",
      "\u001b[33m[ WARN] [1743783137.817916182]: TF_REPEATED_DATA ignoring data with redundant timestamp for frame odom (parent map) at time 868.222000 according to authority /pose_integrator\u001b[0m\n",
      "\u001b[33m[ WARN] [1743783137.817966449]: TF_REPEATED_DATA ignoring data with redundant timestamp for frame odom (parent map) at time 868.222000 according to authority /pose_integrator\u001b[0m\n",
      "\u001b[33m[ WARN] [1743783137.818025007]: TF_REPEATED_DATA ignoring data with redundant timestamp for frame odom (parent map) at time 868.222000 according to authority /pose_integrator\u001b[0m\n",
      "\u001b[33m[ WARN] [1743783139.153222413]: TF_REPEATED_DATA ignoring data with redundant timestamp for frame odom (parent map) at time 868.573000 according to authority /pose_integrator\u001b[0m\n",
      "\u001b[33m[ WARN] [1743783139.153280217]: TF_REPEATED_DATA ignoring data with redundant timestamp for frame odom (parent map) at time 868.573000 according to authority /pose_integrator\u001b[0m\n",
      "\u001b[33m[ WARN] [1743783139.153312714]: TF_REPEATED_DATA ignoring data with redundant timestamp for frame odom (parent map) at time 868.573000 according to authority /pose_integrator\u001b[0m\n",
      "\u001b[33m[ WARN] [1743783139.153340310]: TF_REPEATED_DATA ignoring data with redundant timestamp for frame odom (parent map) at time 868.573000 according to authority /pose_integrator\u001b[0m\n",
      "\u001b[33m[ WARN] [1743783139.153370711]: TF_REPEATED_DATA ignoring data with redundant timestamp for frame odom (parent map) at time 868.573000 according to authority /pose_integrator\u001b[0m\n",
      "\u001b[33m[ WARN] [1743783139.153402467]: TF_REPEATED_DATA ignoring data with redundant timestamp for frame odom (parent map) at time 868.573000 according to authority /pose_integrator\u001b[0m\n",
      "\u001b[33m[ WARN] [1743783139.391929123]: TF_REPEATED_DATA ignoring data with redundant timestamp for frame odom (parent map) at time 868.638000 according to authority /pose_integrator\u001b[0m\n",
      "\u001b[33m[ WARN] [1743783139.391991454]: TF_REPEATED_DATA ignoring data with redundant timestamp for frame odom (parent map) at time 868.638000 according to authority /pose_integrator\u001b[0m\n",
      "\u001b[33m[ WARN] [1743783139.392028757]: TF_REPEATED_DATA ignoring data with redundant timestamp for frame odom (parent map) at time 868.638000 according to authority /pose_integrator\u001b[0m\n",
      "\u001b[33m[ WARN] [1743783139.392062571]: TF_REPEATED_DATA ignoring data with redundant timestamp for frame odom (parent map) at time 868.638000 according to authority /pose_integrator\u001b[0m\n",
      "\u001b[33m[ WARN] [1743783139.392095642]: TF_REPEATED_DATA ignoring data with redundant timestamp for frame odom (parent map) at time 868.638000 according to authority /pose_integrator\u001b[0m\n",
      "\u001b[33m[ WARN] [1743783139.392128607]: TF_REPEATED_DATA ignoring data with redundant timestamp for frame odom (parent map) at time 868.638000 according to authority /pose_integrator\u001b[0m\n",
      "\u001b[33m[ WARN] [1743783140.200670376]: TF_REPEATED_DATA ignoring data with redundant timestamp for frame odom (parent map) at time 868.858000 according to authority /pose_integrator\u001b[0m\n",
      "\u001b[33m[ WARN] [1743783140.200726957]: TF_REPEATED_DATA ignoring data with redundant timestamp for frame odom (parent map) at time 868.858000 according to authority /pose_integrator\u001b[0m\n",
      "\u001b[33m[ WARN] [1743783140.200764557]: TF_REPEATED_DATA ignoring data with redundant timestamp for frame odom (parent map) at time 868.858000 according to authority /pose_integrator\u001b[0m\n",
      "\u001b[33m[ WARN] [1743783140.200798156]: TF_REPEATED_DATA ignoring data with redundant timestamp for frame odom (parent map) at time 868.858000 according to authority /pose_integrator\u001b[0m\n",
      "\u001b[33m[ WARN] [1743783140.200842030]: TF_REPEATED_DATA ignoring data with redundant timestamp for frame odom (parent map) at time 868.858000 according to authority /pose_integrator\u001b[0m\n",
      "\u001b[33m[ WARN] [1743783140.200878198]: TF_REPEATED_DATA ignoring data with redundant timestamp for frame odom (parent map) at time 868.858000 according to authority /pose_integrator\u001b[0m\n",
      "\u001b[33m[ WARN] [1743783140.825238418]: TF_REPEATED_DATA ignoring data with redundant timestamp for frame odom (parent map) at time 869.034000 according to authority /pose_integrator\u001b[0m\n",
      "\u001b[33m[ WARN] [1743783140.825275621]: TF_REPEATED_DATA ignoring data with redundant timestamp for frame odom (parent map) at time 869.034000 according to authority /pose_integrator\u001b[0m\n",
      "\u001b[33m[ WARN] [1743783140.825299608]: TF_REPEATED_DATA ignoring data with redundant timestamp for frame odom (parent map) at time 869.034000 according to authority /pose_integrator\u001b[0m\n",
      "\u001b[33m[ WARN] [1743783140.825321945]: TF_REPEATED_DATA ignoring data with redundant timestamp for frame odom (parent map) at time 869.034000 according to authority /pose_integrator\u001b[0m\n",
      "\u001b[33m[ WARN] [1743783140.825343526]: TF_REPEATED_DATA ignoring data with redundant timestamp for frame odom (parent map) at time 869.034000 according to authority /pose_integrator\u001b[0m\n",
      "\u001b[33m[ WARN] [1743783140.825379252]: TF_REPEATED_DATA ignoring data with redundant timestamp for frame odom (parent map) at time 869.034000 according to authority /pose_integrator\u001b[0m\n",
      "\u001b[33m[ WARN] [1743783142.323365719]: TF_REPEATED_DATA ignoring data with redundant timestamp for frame odom (parent map) at time 869.471000 according to authority /pose_integrator\u001b[0m\n",
      "\u001b[33m[ WARN] [1743783142.323423184]: TF_REPEATED_DATA ignoring data with redundant timestamp for frame odom (parent map) at time 869.471000 according to authority /pose_integrator\u001b[0m\n",
      "\u001b[33m[ WARN] [1743783142.323451627]: TF_REPEATED_DATA ignoring data with redundant timestamp for frame odom (parent map) at time 869.471000 according to authority /pose_integrator\u001b[0m\n",
      "\u001b[33m[ WARN] [1743783142.323477598]: TF_REPEATED_DATA ignoring data with redundant timestamp for frame odom (parent map) at time 869.471000 according to authority /pose_integrator\u001b[0m\n",
      "\u001b[33m[ WARN] [1743783142.323505785]: TF_REPEATED_DATA ignoring data with redundant timestamp for frame odom (parent map) at time 869.471000 according to authority /pose_integrator\u001b[0m\n",
      "\u001b[33m[ WARN] [1743783142.323537219]: TF_REPEATED_DATA ignoring data with redundant timestamp for frame odom (parent map) at time 869.471000 according to authority /pose_integrator\u001b[0m\n",
      "\u001b[33m[ WARN] [1743783142.609912785]: TF_REPEATED_DATA ignoring data with redundant timestamp for frame odom (parent map) at time 869.580000 according to authority /pose_integrator\u001b[0m\n",
      "\u001b[33m[ WARN] [1743783142.609969407]: TF_REPEATED_DATA ignoring data with redundant timestamp for frame odom (parent map) at time 869.580000 according to authority /pose_integrator\u001b[0m\n",
      "\u001b[33m[ WARN] [1743783142.609996198]: TF_REPEATED_DATA ignoring data with redundant timestamp for frame odom (parent map) at time 869.580000 according to authority /pose_integrator\u001b[0m\n",
      "\u001b[33m[ WARN] [1743783142.610025619]: TF_REPEATED_DATA ignoring data with redundant timestamp for frame odom (parent map) at time 869.580000 according to authority /pose_integrator\u001b[0m\n",
      "\u001b[33m[ WARN] [1743783142.610051031]: TF_REPEATED_DATA ignoring data with redundant timestamp for frame odom (parent map) at time 869.580000 according to authority /pose_integrator\u001b[0m\n",
      "\u001b[33m[ WARN] [1743783142.610074237]: TF_REPEATED_DATA ignoring data with redundant timestamp for frame odom (parent map) at time 869.580000 according to authority /pose_integrator\u001b[0m\n"
     ]
    },
    {
     "name": "stderr",
     "output_type": "stream",
     "text": [
      "\u001b[33m[ WARN] [1743783143.108868247]: TF_REPEATED_DATA ignoring data with redundant timestamp for frame odom (parent map) at time 869.725000 according to authority /pose_integrator\u001b[0m\n",
      "\u001b[33m[ WARN] [1743783143.108914483]: TF_REPEATED_DATA ignoring data with redundant timestamp for frame odom (parent map) at time 869.725000 according to authority /pose_integrator\u001b[0m\n",
      "\u001b[33m[ WARN] [1743783143.108947461]: TF_REPEATED_DATA ignoring data with redundant timestamp for frame odom (parent map) at time 869.725000 according to authority /pose_integrator\u001b[0m\n",
      "\u001b[33m[ WARN] [1743783143.108975172]: TF_REPEATED_DATA ignoring data with redundant timestamp for frame odom (parent map) at time 869.725000 according to authority /pose_integrator\u001b[0m\n",
      "\u001b[33m[ WARN] [1743783143.109006745]: TF_REPEATED_DATA ignoring data with redundant timestamp for frame odom (parent map) at time 869.725000 according to authority /pose_integrator\u001b[0m\n",
      "\u001b[33m[ WARN] [1743783143.109036589]: TF_REPEATED_DATA ignoring data with redundant timestamp for frame odom (parent map) at time 869.725000 according to authority /pose_integrator\u001b[0m\n",
      "\u001b[33m[ WARN] [1743783143.996725427]: TF_REPEATED_DATA ignoring data with redundant timestamp for frame odom (parent map) at time 869.984000 according to authority /pose_integrator\u001b[0m\n",
      "\u001b[33m[ WARN] [1743783143.996775367]: TF_REPEATED_DATA ignoring data with redundant timestamp for frame odom (parent map) at time 869.984000 according to authority /pose_integrator\u001b[0m\n",
      "\u001b[33m[ WARN] [1743783143.996805668]: TF_REPEATED_DATA ignoring data with redundant timestamp for frame odom (parent map) at time 869.984000 according to authority /pose_integrator\u001b[0m\n",
      "\u001b[33m[ WARN] [1743783143.996839340]: TF_REPEATED_DATA ignoring data with redundant timestamp for frame odom (parent map) at time 869.984000 according to authority /pose_integrator\u001b[0m\n",
      "\u001b[33m[ WARN] [1743783143.996866167]: TF_REPEATED_DATA ignoring data with redundant timestamp for frame odom (parent map) at time 869.984000 according to authority /pose_integrator\u001b[0m\n",
      "\u001b[33m[ WARN] [1743783143.996891250]: TF_REPEATED_DATA ignoring data with redundant timestamp for frame odom (parent map) at time 869.984000 according to authority /pose_integrator\u001b[0m\n",
      "\u001b[33m[ WARN] [1743783149.264221418]: TF_REPEATED_DATA ignoring data with redundant timestamp for frame odom (parent map) at time 871.329000 according to authority /pose_integrator\u001b[0m\n",
      "\u001b[33m[ WARN] [1743783149.264283985]: TF_REPEATED_DATA ignoring data with redundant timestamp for frame odom (parent map) at time 871.329000 according to authority /pose_integrator\u001b[0m\n",
      "\u001b[33m[ WARN] [1743783149.264323177]: TF_REPEATED_DATA ignoring data with redundant timestamp for frame odom (parent map) at time 871.329000 according to authority /pose_integrator\u001b[0m\n",
      "\u001b[33m[ WARN] [1743783149.264364493]: TF_REPEATED_DATA ignoring data with redundant timestamp for frame odom (parent map) at time 871.329000 according to authority /pose_integrator\u001b[0m\n",
      "\u001b[33m[ WARN] [1743783149.264403087]: TF_REPEATED_DATA ignoring data with redundant timestamp for frame odom (parent map) at time 871.329000 according to authority /pose_integrator\u001b[0m\n",
      "\u001b[33m[ WARN] [1743783149.264444039]: TF_REPEATED_DATA ignoring data with redundant timestamp for frame odom (parent map) at time 871.329000 according to authority /pose_integrator\u001b[0m\n",
      "\u001b[33m[ WARN] [1743783150.006494027]: TF_REPEATED_DATA ignoring data with redundant timestamp for frame odom (parent map) at time 871.534000 according to authority /pose_integrator\u001b[0m\n",
      "\u001b[33m[ WARN] [1743783150.006552540]: TF_REPEATED_DATA ignoring data with redundant timestamp for frame odom (parent map) at time 871.534000 according to authority /pose_integrator\u001b[0m\n",
      "\u001b[33m[ WARN] [1743783150.006593708]: TF_REPEATED_DATA ignoring data with redundant timestamp for frame odom (parent map) at time 871.534000 according to authority /pose_integrator\u001b[0m\n",
      "\u001b[33m[ WARN] [1743783150.006639818]: TF_REPEATED_DATA ignoring data with redundant timestamp for frame odom (parent map) at time 871.534000 according to authority /pose_integrator\u001b[0m\n",
      "\u001b[33m[ WARN] [1743783150.006682070]: TF_REPEATED_DATA ignoring data with redundant timestamp for frame odom (parent map) at time 871.534000 according to authority /pose_integrator\u001b[0m\n",
      "\u001b[33m[ WARN] [1743783150.006727919]: TF_REPEATED_DATA ignoring data with redundant timestamp for frame odom (parent map) at time 871.534000 according to authority /pose_integrator\u001b[0m\n",
      "\u001b[33m[ WARN] [1743783154.068004824]: TF_REPEATED_DATA ignoring data with redundant timestamp for frame odom (parent map) at time 872.597000 according to authority /pose_integrator\u001b[0m\n",
      "\u001b[33m[ WARN] [1743783154.068072970]: TF_REPEATED_DATA ignoring data with redundant timestamp for frame odom (parent map) at time 872.597000 according to authority /pose_integrator\u001b[0m\n",
      "\u001b[33m[ WARN] [1743783154.068118034]: TF_REPEATED_DATA ignoring data with redundant timestamp for frame odom (parent map) at time 872.597000 according to authority /pose_integrator\u001b[0m\n",
      "\u001b[33m[ WARN] [1743783154.068164217]: TF_REPEATED_DATA ignoring data with redundant timestamp for frame odom (parent map) at time 872.597000 according to authority /pose_integrator\u001b[0m\n",
      "\u001b[33m[ WARN] [1743783154.068200811]: TF_REPEATED_DATA ignoring data with redundant timestamp for frame odom (parent map) at time 872.597000 according to authority /pose_integrator\u001b[0m\n",
      "\u001b[33m[ WARN] [1743783154.068246187]: TF_REPEATED_DATA ignoring data with redundant timestamp for frame odom (parent map) at time 872.597000 according to authority /pose_integrator\u001b[0m\n",
      "\u001b[33m[ WARN] [1743783155.493914856]: TF_REPEATED_DATA ignoring data with redundant timestamp for frame odom (parent map) at time 873.049000 according to authority /pose_integrator\u001b[0m\n",
      "\u001b[33m[ WARN] [1743783155.493974287]: TF_REPEATED_DATA ignoring data with redundant timestamp for frame odom (parent map) at time 873.049000 according to authority /pose_integrator\u001b[0m\n",
      "\u001b[33m[ WARN] [1743783155.494018506]: TF_REPEATED_DATA ignoring data with redundant timestamp for frame odom (parent map) at time 873.049000 according to authority /pose_integrator\u001b[0m\n",
      "\u001b[33m[ WARN] [1743783155.494055031]: TF_REPEATED_DATA ignoring data with redundant timestamp for frame odom (parent map) at time 873.049000 according to authority /pose_integrator\u001b[0m\n",
      "\u001b[33m[ WARN] [1743783155.494100915]: TF_REPEATED_DATA ignoring data with redundant timestamp for frame odom (parent map) at time 873.049000 according to authority /pose_integrator\u001b[0m\n",
      "\u001b[33m[ WARN] [1743783155.494142627]: TF_REPEATED_DATA ignoring data with redundant timestamp for frame odom (parent map) at time 873.049000 according to authority /pose_integrator\u001b[0m\n",
      "\u001b[33m[ WARN] [1743783156.694714349]: TF_REPEATED_DATA ignoring data with redundant timestamp for frame odom (parent map) at time 873.365000 according to authority /pose_integrator\u001b[0m\n",
      "\u001b[33m[ WARN] [1743783156.694782817]: TF_REPEATED_DATA ignoring data with redundant timestamp for frame odom (parent map) at time 873.365000 according to authority /pose_integrator\u001b[0m\n",
      "\u001b[33m[ WARN] [1743783156.694830854]: TF_REPEATED_DATA ignoring data with redundant timestamp for frame odom (parent map) at time 873.365000 according to authority /pose_integrator\u001b[0m\n",
      "\u001b[33m[ WARN] [1743783156.695185817]: TF_REPEATED_DATA ignoring data with redundant timestamp for frame odom (parent map) at time 873.365000 according to authority /pose_integrator\u001b[0m\n",
      "\u001b[33m[ WARN] [1743783156.695237275]: TF_REPEATED_DATA ignoring data with redundant timestamp for frame odom (parent map) at time 873.365000 according to authority /pose_integrator\u001b[0m\n",
      "\u001b[33m[ WARN] [1743783156.695285750]: TF_REPEATED_DATA ignoring data with redundant timestamp for frame odom (parent map) at time 873.365000 according to authority /pose_integrator\u001b[0m\n",
      "\u001b[33m[ WARN] [1743783158.056116800]: TF_REPEATED_DATA ignoring data with redundant timestamp for frame odom (parent map) at time 873.753000 according to authority /pose_integrator\u001b[0m\n",
      "\u001b[33m[ WARN] [1743783158.056164066]: TF_REPEATED_DATA ignoring data with redundant timestamp for frame odom (parent map) at time 873.753000 according to authority /pose_integrator\u001b[0m\n",
      "\u001b[33m[ WARN] [1743783158.056194374]: TF_REPEATED_DATA ignoring data with redundant timestamp for frame odom (parent map) at time 873.753000 according to authority /pose_integrator\u001b[0m\n",
      "\u001b[33m[ WARN] [1743783158.056229678]: TF_REPEATED_DATA ignoring data with redundant timestamp for frame odom (parent map) at time 873.753000 according to authority /pose_integrator\u001b[0m\n",
      "\u001b[33m[ WARN] [1743783158.056262556]: TF_REPEATED_DATA ignoring data with redundant timestamp for frame odom (parent map) at time 873.753000 according to authority /pose_integrator\u001b[0m\n",
      "\u001b[33m[ WARN] [1743783158.056294668]: TF_REPEATED_DATA ignoring data with redundant timestamp for frame odom (parent map) at time 873.753000 according to authority /pose_integrator\u001b[0m\n"
     ]
    },
    {
     "name": "stderr",
     "output_type": "stream",
     "text": [
      "\u001b[33m[ WARN] [1743783161.283405478]: TF_REPEATED_DATA ignoring data with redundant timestamp for frame odom (parent map) at time 874.613000 according to authority /pose_integrator\u001b[0m\n",
      "\u001b[33m[ WARN] [1743783161.283473618]: TF_REPEATED_DATA ignoring data with redundant timestamp for frame odom (parent map) at time 874.613000 according to authority /pose_integrator\u001b[0m\n",
      "\u001b[33m[ WARN] [1743783161.283513447]: TF_REPEATED_DATA ignoring data with redundant timestamp for frame odom (parent map) at time 874.613000 according to authority /pose_integrator\u001b[0m\n",
      "\u001b[33m[ WARN] [1743783161.283548573]: TF_REPEATED_DATA ignoring data with redundant timestamp for frame odom (parent map) at time 874.613000 according to authority /pose_integrator\u001b[0m\n",
      "\u001b[33m[ WARN] [1743783161.283582308]: TF_REPEATED_DATA ignoring data with redundant timestamp for frame odom (parent map) at time 874.613000 according to authority /pose_integrator\u001b[0m\n",
      "\u001b[33m[ WARN] [1743783161.283619115]: TF_REPEATED_DATA ignoring data with redundant timestamp for frame odom (parent map) at time 874.613000 according to authority /pose_integrator\u001b[0m\n",
      "\u001b[33m[ WARN] [1743783162.470708442]: TF_REPEATED_DATA ignoring data with redundant timestamp for frame odom (parent map) at time 874.885000 according to authority /pose_integrator\u001b[0m\n",
      "\u001b[33m[ WARN] [1743783162.470757468]: TF_REPEATED_DATA ignoring data with redundant timestamp for frame odom (parent map) at time 874.885000 according to authority /pose_integrator\u001b[0m\n",
      "\u001b[33m[ WARN] [1743783162.470793637]: TF_REPEATED_DATA ignoring data with redundant timestamp for frame odom (parent map) at time 874.885000 according to authority /pose_integrator\u001b[0m\n",
      "\u001b[33m[ WARN] [1743783162.470827123]: TF_REPEATED_DATA ignoring data with redundant timestamp for frame odom (parent map) at time 874.885000 according to authority /pose_integrator\u001b[0m\n",
      "\u001b[33m[ WARN] [1743783162.470858095]: TF_REPEATED_DATA ignoring data with redundant timestamp for frame odom (parent map) at time 874.885000 according to authority /pose_integrator\u001b[0m\n",
      "\u001b[33m[ WARN] [1743783162.470889678]: TF_REPEATED_DATA ignoring data with redundant timestamp for frame odom (parent map) at time 874.885000 according to authority /pose_integrator\u001b[0m\n",
      "\u001b[33m[ WARN] [1743783162.805673596]: TF_REPEATED_DATA ignoring data with redundant timestamp for frame odom (parent map) at time 874.964000 according to authority /pose_integrator\u001b[0m\n",
      "\u001b[33m[ WARN] [1743783162.805728027]: TF_REPEATED_DATA ignoring data with redundant timestamp for frame odom (parent map) at time 874.964000 according to authority /pose_integrator\u001b[0m\n",
      "\u001b[33m[ WARN] [1743783162.805758134]: TF_REPEATED_DATA ignoring data with redundant timestamp for frame odom (parent map) at time 874.964000 according to authority /pose_integrator\u001b[0m\n",
      "\u001b[33m[ WARN] [1743783162.805784700]: TF_REPEATED_DATA ignoring data with redundant timestamp for frame odom (parent map) at time 874.964000 according to authority /pose_integrator\u001b[0m\n",
      "\u001b[33m[ WARN] [1743783162.805810737]: TF_REPEATED_DATA ignoring data with redundant timestamp for frame odom (parent map) at time 874.964000 according to authority /pose_integrator\u001b[0m\n",
      "\u001b[33m[ WARN] [1743783162.805837527]: TF_REPEATED_DATA ignoring data with redundant timestamp for frame odom (parent map) at time 874.964000 according to authority /pose_integrator\u001b[0m\n",
      "\u001b[33m[ WARN] [1743783163.078539534]: TF_REPEATED_DATA ignoring data with redundant timestamp for frame odom (parent map) at time 875.053000 according to authority /pose_integrator\u001b[0m\n",
      "\u001b[33m[ WARN] [1743783163.078596864]: TF_REPEATED_DATA ignoring data with redundant timestamp for frame odom (parent map) at time 875.053000 according to authority /pose_integrator\u001b[0m\n",
      "\u001b[33m[ WARN] [1743783163.078637534]: TF_REPEATED_DATA ignoring data with redundant timestamp for frame odom (parent map) at time 875.053000 according to authority /pose_integrator\u001b[0m\n",
      "\u001b[33m[ WARN] [1743783163.078676003]: TF_REPEATED_DATA ignoring data with redundant timestamp for frame odom (parent map) at time 875.053000 according to authority /pose_integrator\u001b[0m\n",
      "\u001b[33m[ WARN] [1743783163.078711300]: TF_REPEATED_DATA ignoring data with redundant timestamp for frame odom (parent map) at time 875.053000 according to authority /pose_integrator\u001b[0m\n",
      "\u001b[33m[ WARN] [1743783163.078743072]: TF_REPEATED_DATA ignoring data with redundant timestamp for frame odom (parent map) at time 875.053000 according to authority /pose_integrator\u001b[0m\n",
      "\u001b[33m[ WARN] [1743783163.727673715]: TF_REPEATED_DATA ignoring data with redundant timestamp for frame odom (parent map) at time 875.213000 according to authority /pose_integrator\u001b[0m\n",
      "\u001b[33m[ WARN] [1743783163.727719675]: TF_REPEATED_DATA ignoring data with redundant timestamp for frame odom (parent map) at time 875.213000 according to authority /pose_integrator\u001b[0m\n",
      "\u001b[33m[ WARN] [1743783163.727750710]: TF_REPEATED_DATA ignoring data with redundant timestamp for frame odom (parent map) at time 875.213000 according to authority /pose_integrator\u001b[0m\n",
      "\u001b[33m[ WARN] [1743783163.727785387]: TF_REPEATED_DATA ignoring data with redundant timestamp for frame odom (parent map) at time 875.213000 according to authority /pose_integrator\u001b[0m\n",
      "\u001b[33m[ WARN] [1743783163.727836858]: TF_REPEATED_DATA ignoring data with redundant timestamp for frame odom (parent map) at time 875.213000 according to authority /pose_integrator\u001b[0m\n",
      "\u001b[33m[ WARN] [1743783163.727873864]: TF_REPEATED_DATA ignoring data with redundant timestamp for frame odom (parent map) at time 875.213000 according to authority /pose_integrator\u001b[0m\n",
      "\u001b[33m[ WARN] [1743783164.263305727]: TF_REPEATED_DATA ignoring data with redundant timestamp for frame odom (parent map) at time 875.396000 according to authority /pose_integrator\u001b[0m\n",
      "\u001b[33m[ WARN] [1743783164.263376638]: TF_REPEATED_DATA ignoring data with redundant timestamp for frame odom (parent map) at time 875.396000 according to authority /pose_integrator\u001b[0m\n",
      "\u001b[33m[ WARN] [1743783164.263414833]: TF_REPEATED_DATA ignoring data with redundant timestamp for frame odom (parent map) at time 875.396000 according to authority /pose_integrator\u001b[0m\n",
      "\u001b[33m[ WARN] [1743783164.263445842]: TF_REPEATED_DATA ignoring data with redundant timestamp for frame odom (parent map) at time 875.396000 according to authority /pose_integrator\u001b[0m\n",
      "\u001b[33m[ WARN] [1743783164.263477589]: TF_REPEATED_DATA ignoring data with redundant timestamp for frame odom (parent map) at time 875.396000 according to authority /pose_integrator\u001b[0m\n",
      "\u001b[33m[ WARN] [1743783164.263504939]: TF_REPEATED_DATA ignoring data with redundant timestamp for frame odom (parent map) at time 875.396000 according to authority /pose_integrator\u001b[0m\n",
      "\u001b[33m[ WARN] [1743783167.314942927]: TF_REPEATED_DATA ignoring data with redundant timestamp for frame odom (parent map) at time 876.180000 according to authority /pose_integrator\u001b[0m\n",
      "\u001b[33m[ WARN] [1743783167.314987850]: TF_REPEATED_DATA ignoring data with redundant timestamp for frame odom (parent map) at time 876.180000 according to authority /pose_integrator\u001b[0m\n",
      "\u001b[33m[ WARN] [1743783167.315015540]: TF_REPEATED_DATA ignoring data with redundant timestamp for frame odom (parent map) at time 876.180000 according to authority /pose_integrator\u001b[0m\n",
      "\u001b[33m[ WARN] [1743783167.315040156]: TF_REPEATED_DATA ignoring data with redundant timestamp for frame odom (parent map) at time 876.180000 according to authority /pose_integrator\u001b[0m\n",
      "\u001b[33m[ WARN] [1743783167.315063505]: TF_REPEATED_DATA ignoring data with redundant timestamp for frame odom (parent map) at time 876.180000 according to authority /pose_integrator\u001b[0m\n",
      "\u001b[33m[ WARN] [1743783167.315087883]: TF_REPEATED_DATA ignoring data with redundant timestamp for frame odom (parent map) at time 876.180000 according to authority /pose_integrator\u001b[0m\n",
      "\u001b[33m[ WARN] [1743783169.504507097]: TF_REPEATED_DATA ignoring data with redundant timestamp for frame odom (parent map) at time 876.789000 according to authority /pose_integrator\u001b[0m\n",
      "\u001b[33m[ WARN] [1743783169.504571921]: TF_REPEATED_DATA ignoring data with redundant timestamp for frame odom (parent map) at time 876.789000 according to authority /pose_integrator\u001b[0m\n",
      "\u001b[33m[ WARN] [1743783169.504617167]: TF_REPEATED_DATA ignoring data with redundant timestamp for frame odom (parent map) at time 876.789000 according to authority /pose_integrator\u001b[0m\n",
      "\u001b[33m[ WARN] [1743783169.504663952]: TF_REPEATED_DATA ignoring data with redundant timestamp for frame odom (parent map) at time 876.789000 according to authority /pose_integrator\u001b[0m\n",
      "\u001b[33m[ WARN] [1743783169.504889760]: TF_REPEATED_DATA ignoring data with redundant timestamp for frame odom (parent map) at time 876.789000 according to authority /pose_integrator\u001b[0m\n",
      "\u001b[33m[ WARN] [1743783169.504941690]: TF_REPEATED_DATA ignoring data with redundant timestamp for frame odom (parent map) at time 876.789000 according to authority /pose_integrator\u001b[0m\n"
     ]
    },
    {
     "name": "stderr",
     "output_type": "stream",
     "text": [
      "\u001b[33m[ WARN] [1743783170.075554852]: TF_REPEATED_DATA ignoring data with redundant timestamp for frame odom (parent map) at time 876.964000 according to authority /pose_integrator\u001b[0m\n",
      "\u001b[33m[ WARN] [1743783170.075604203]: TF_REPEATED_DATA ignoring data with redundant timestamp for frame odom (parent map) at time 876.964000 according to authority /pose_integrator\u001b[0m\n",
      "\u001b[33m[ WARN] [1743783170.075636554]: TF_REPEATED_DATA ignoring data with redundant timestamp for frame odom (parent map) at time 876.964000 according to authority /pose_integrator\u001b[0m\n",
      "\u001b[33m[ WARN] [1743783170.075672345]: TF_REPEATED_DATA ignoring data with redundant timestamp for frame odom (parent map) at time 876.964000 according to authority /pose_integrator\u001b[0m\n",
      "\u001b[33m[ WARN] [1743783170.075705362]: TF_REPEATED_DATA ignoring data with redundant timestamp for frame odom (parent map) at time 876.964000 according to authority /pose_integrator\u001b[0m\n",
      "\u001b[33m[ WARN] [1743783170.075741830]: TF_REPEATED_DATA ignoring data with redundant timestamp for frame odom (parent map) at time 876.964000 according to authority /pose_integrator\u001b[0m\n",
      "\u001b[33m[ WARN] [1743783170.529220805]: TF_REPEATED_DATA ignoring data with redundant timestamp for frame odom (parent map) at time 877.099000 according to authority /pose_integrator\u001b[0m\n",
      "\u001b[33m[ WARN] [1743783170.529260000]: TF_REPEATED_DATA ignoring data with redundant timestamp for frame odom (parent map) at time 877.099000 according to authority /pose_integrator\u001b[0m\n",
      "\u001b[33m[ WARN] [1743783170.529282952]: TF_REPEATED_DATA ignoring data with redundant timestamp for frame odom (parent map) at time 877.099000 according to authority /pose_integrator\u001b[0m\n",
      "\u001b[33m[ WARN] [1743783170.529303439]: TF_REPEATED_DATA ignoring data with redundant timestamp for frame odom (parent map) at time 877.099000 according to authority /pose_integrator\u001b[0m\n",
      "\u001b[33m[ WARN] [1743783170.529323396]: TF_REPEATED_DATA ignoring data with redundant timestamp for frame odom (parent map) at time 877.099000 according to authority /pose_integrator\u001b[0m\n",
      "\u001b[33m[ WARN] [1743783170.529343323]: TF_REPEATED_DATA ignoring data with redundant timestamp for frame odom (parent map) at time 877.099000 according to authority /pose_integrator\u001b[0m\n",
      "\u001b[33m[ WARN] [1743783170.804358730]: TF_REPEATED_DATA ignoring data with redundant timestamp for frame odom (parent map) at time 877.199000 according to authority /pose_integrator\u001b[0m\n",
      "\u001b[33m[ WARN] [1743783170.804417110]: TF_REPEATED_DATA ignoring data with redundant timestamp for frame odom (parent map) at time 877.199000 according to authority /pose_integrator\u001b[0m\n",
      "\u001b[33m[ WARN] [1743783170.804458414]: TF_REPEATED_DATA ignoring data with redundant timestamp for frame odom (parent map) at time 877.199000 according to authority /pose_integrator\u001b[0m\n",
      "\u001b[33m[ WARN] [1743783170.804503645]: TF_REPEATED_DATA ignoring data with redundant timestamp for frame odom (parent map) at time 877.199000 according to authority /pose_integrator\u001b[0m\n",
      "\u001b[33m[ WARN] [1743783170.804545747]: TF_REPEATED_DATA ignoring data with redundant timestamp for frame odom (parent map) at time 877.199000 according to authority /pose_integrator\u001b[0m\n",
      "\u001b[33m[ WARN] [1743783170.804585814]: TF_REPEATED_DATA ignoring data with redundant timestamp for frame odom (parent map) at time 877.199000 according to authority /pose_integrator\u001b[0m\n",
      "\u001b[33m[ WARN] [1743783174.034270107]: TF_REPEATED_DATA ignoring data with redundant timestamp for frame odom (parent map) at time 878.008000 according to authority /pose_integrator\u001b[0m\n",
      "\u001b[33m[ WARN] [1743783174.034316910]: TF_REPEATED_DATA ignoring data with redundant timestamp for frame odom (parent map) at time 878.008000 according to authority /pose_integrator\u001b[0m\n",
      "\u001b[33m[ WARN] [1743783174.034345267]: TF_REPEATED_DATA ignoring data with redundant timestamp for frame odom (parent map) at time 878.008000 according to authority /pose_integrator\u001b[0m\n",
      "\u001b[33m[ WARN] [1743783174.034373983]: TF_REPEATED_DATA ignoring data with redundant timestamp for frame odom (parent map) at time 878.008000 according to authority /pose_integrator\u001b[0m\n",
      "\u001b[33m[ WARN] [1743783174.034405701]: TF_REPEATED_DATA ignoring data with redundant timestamp for frame odom (parent map) at time 878.008000 according to authority /pose_integrator\u001b[0m\n",
      "\u001b[33m[ WARN] [1743783174.034432459]: TF_REPEATED_DATA ignoring data with redundant timestamp for frame odom (parent map) at time 878.008000 according to authority /pose_integrator\u001b[0m\n",
      "\u001b[33m[ WARN] [1743783176.607154189]: TF_REPEATED_DATA ignoring data with redundant timestamp for frame odom (parent map) at time 878.647000 according to authority /pose_integrator\u001b[0m\n",
      "\u001b[33m[ WARN] [1743783176.607201142]: TF_REPEATED_DATA ignoring data with redundant timestamp for frame odom (parent map) at time 878.647000 according to authority /pose_integrator\u001b[0m\n",
      "\u001b[33m[ WARN] [1743783176.607233507]: TF_REPEATED_DATA ignoring data with redundant timestamp for frame odom (parent map) at time 878.647000 according to authority /pose_integrator\u001b[0m\n",
      "\u001b[33m[ WARN] [1743783176.607279719]: TF_REPEATED_DATA ignoring data with redundant timestamp for frame odom (parent map) at time 878.647000 according to authority /pose_integrator\u001b[0m\n",
      "\u001b[33m[ WARN] [1743783176.607317363]: TF_REPEATED_DATA ignoring data with redundant timestamp for frame odom (parent map) at time 878.647000 according to authority /pose_integrator\u001b[0m\n",
      "\u001b[33m[ WARN] [1743783176.607360204]: TF_REPEATED_DATA ignoring data with redundant timestamp for frame odom (parent map) at time 878.647000 according to authority /pose_integrator\u001b[0m\n",
      "\u001b[33m[ WARN] [1743783178.078118820]: TF_REPEATED_DATA ignoring data with redundant timestamp for frame odom (parent map) at time 879.012000 according to authority /pose_integrator\u001b[0m\n",
      "\u001b[33m[ WARN] [1743783178.078177639]: TF_REPEATED_DATA ignoring data with redundant timestamp for frame odom (parent map) at time 879.012000 according to authority /pose_integrator\u001b[0m\n",
      "\u001b[33m[ WARN] [1743783178.078216124]: TF_REPEATED_DATA ignoring data with redundant timestamp for frame odom (parent map) at time 879.012000 according to authority /pose_integrator\u001b[0m\n",
      "\u001b[33m[ WARN] [1743783178.078255199]: TF_REPEATED_DATA ignoring data with redundant timestamp for frame odom (parent map) at time 879.012000 according to authority /pose_integrator\u001b[0m\n",
      "\u001b[33m[ WARN] [1743783178.078291375]: TF_REPEATED_DATA ignoring data with redundant timestamp for frame odom (parent map) at time 879.012000 according to authority /pose_integrator\u001b[0m\n",
      "\u001b[33m[ WARN] [1743783178.078322672]: TF_REPEATED_DATA ignoring data with redundant timestamp for frame odom (parent map) at time 879.012000 according to authority /pose_integrator\u001b[0m\n",
      "\u001b[33m[ WARN] [1743783178.645532550]: TF_REPEATED_DATA ignoring data with redundant timestamp for frame odom (parent map) at time 879.169000 according to authority /pose_integrator\u001b[0m\n",
      "\u001b[33m[ WARN] [1743783178.645606157]: TF_REPEATED_DATA ignoring data with redundant timestamp for frame odom (parent map) at time 879.169000 according to authority /pose_integrator\u001b[0m\n",
      "\u001b[33m[ WARN] [1743783178.645635224]: TF_REPEATED_DATA ignoring data with redundant timestamp for frame odom (parent map) at time 879.169000 according to authority /pose_integrator\u001b[0m\n",
      "\u001b[33m[ WARN] [1743783178.645659498]: TF_REPEATED_DATA ignoring data with redundant timestamp for frame odom (parent map) at time 879.169000 according to authority /pose_integrator\u001b[0m\n",
      "\u001b[33m[ WARN] [1743783178.645685066]: TF_REPEATED_DATA ignoring data with redundant timestamp for frame odom (parent map) at time 879.169000 according to authority /pose_integrator\u001b[0m\n",
      "\u001b[33m[ WARN] [1743783178.645710623]: TF_REPEATED_DATA ignoring data with redundant timestamp for frame odom (parent map) at time 879.169000 according to authority /pose_integrator\u001b[0m\n",
      "\u001b[33m[ WARN] [1743783181.715692523]: TF_REPEATED_DATA ignoring data with redundant timestamp for frame odom (parent map) at time 879.932000 according to authority /pose_integrator\u001b[0m\n",
      "\u001b[33m[ WARN] [1743783181.715740983]: TF_REPEATED_DATA ignoring data with redundant timestamp for frame odom (parent map) at time 879.932000 according to authority /pose_integrator\u001b[0m\n",
      "\u001b[33m[ WARN] [1743783181.715777646]: TF_REPEATED_DATA ignoring data with redundant timestamp for frame odom (parent map) at time 879.932000 according to authority /pose_integrator\u001b[0m\n",
      "\u001b[33m[ WARN] [1743783181.715806690]: TF_REPEATED_DATA ignoring data with redundant timestamp for frame odom (parent map) at time 879.932000 according to authority /pose_integrator\u001b[0m\n",
      "\u001b[33m[ WARN] [1743783181.715834499]: TF_REPEATED_DATA ignoring data with redundant timestamp for frame odom (parent map) at time 879.932000 according to authority /pose_integrator\u001b[0m\n",
      "\u001b[33m[ WARN] [1743783181.715861889]: TF_REPEATED_DATA ignoring data with redundant timestamp for frame odom (parent map) at time 879.932000 according to authority /pose_integrator\u001b[0m\n"
     ]
    },
    {
     "name": "stderr",
     "output_type": "stream",
     "text": [
      "\u001b[33m[ WARN] [1743783182.243667792]: TF_REPEATED_DATA ignoring data with redundant timestamp for frame odom (parent map) at time 880.068000 according to authority /pose_integrator\u001b[0m\n",
      "\u001b[33m[ WARN] [1743783182.243723077]: TF_REPEATED_DATA ignoring data with redundant timestamp for frame odom (parent map) at time 880.068000 according to authority /pose_integrator\u001b[0m\n",
      "\u001b[33m[ WARN] [1743783182.243752615]: TF_REPEATED_DATA ignoring data with redundant timestamp for frame odom (parent map) at time 880.068000 according to authority /pose_integrator\u001b[0m\n",
      "\u001b[33m[ WARN] [1743783182.243782400]: TF_REPEATED_DATA ignoring data with redundant timestamp for frame odom (parent map) at time 880.068000 according to authority /pose_integrator\u001b[0m\n",
      "\u001b[33m[ WARN] [1743783182.243806666]: TF_REPEATED_DATA ignoring data with redundant timestamp for frame odom (parent map) at time 880.068000 according to authority /pose_integrator\u001b[0m\n",
      "\u001b[33m[ WARN] [1743783182.243831543]: TF_REPEATED_DATA ignoring data with redundant timestamp for frame odom (parent map) at time 880.068000 according to authority /pose_integrator\u001b[0m\n",
      "\u001b[33m[ WARN] [1743783183.540212016]: TF_REPEATED_DATA ignoring data with redundant timestamp for frame odom (parent map) at time 880.428000 according to authority /pose_integrator\u001b[0m\n",
      "\u001b[33m[ WARN] [1743783183.540282105]: TF_REPEATED_DATA ignoring data with redundant timestamp for frame odom (parent map) at time 880.428000 according to authority /pose_integrator\u001b[0m\n",
      "\u001b[33m[ WARN] [1743783183.540316386]: TF_REPEATED_DATA ignoring data with redundant timestamp for frame odom (parent map) at time 880.428000 according to authority /pose_integrator\u001b[0m\n",
      "\u001b[33m[ WARN] [1743783183.540349715]: TF_REPEATED_DATA ignoring data with redundant timestamp for frame odom (parent map) at time 880.428000 according to authority /pose_integrator\u001b[0m\n",
      "\u001b[33m[ WARN] [1743783183.540382338]: TF_REPEATED_DATA ignoring data with redundant timestamp for frame odom (parent map) at time 880.428000 according to authority /pose_integrator\u001b[0m\n",
      "\u001b[33m[ WARN] [1743783183.540414354]: TF_REPEATED_DATA ignoring data with redundant timestamp for frame odom (parent map) at time 880.428000 according to authority /pose_integrator\u001b[0m\n",
      "\u001b[33m[ WARN] [1743783183.814547994]: TF_REPEATED_DATA ignoring data with redundant timestamp for frame odom (parent map) at time 880.518000 according to authority /pose_integrator\u001b[0m\n",
      "\u001b[33m[ WARN] [1743783183.814599586]: TF_REPEATED_DATA ignoring data with redundant timestamp for frame odom (parent map) at time 880.518000 according to authority /pose_integrator\u001b[0m\n",
      "\u001b[33m[ WARN] [1743783183.814632981]: TF_REPEATED_DATA ignoring data with redundant timestamp for frame odom (parent map) at time 880.518000 according to authority /pose_integrator\u001b[0m\n",
      "\u001b[33m[ WARN] [1743783183.814672115]: TF_REPEATED_DATA ignoring data with redundant timestamp for frame odom (parent map) at time 880.518000 according to authority /pose_integrator\u001b[0m\n",
      "\u001b[33m[ WARN] [1743783183.814718086]: TF_REPEATED_DATA ignoring data with redundant timestamp for frame odom (parent map) at time 880.518000 according to authority /pose_integrator\u001b[0m\n",
      "\u001b[33m[ WARN] [1743783183.814760048]: TF_REPEATED_DATA ignoring data with redundant timestamp for frame odom (parent map) at time 880.518000 according to authority /pose_integrator\u001b[0m\n",
      "\u001b[33m[ WARN] [1743783184.573861073]: TF_REPEATED_DATA ignoring data with redundant timestamp for frame odom (parent map) at time 880.735000 according to authority /pose_integrator\u001b[0m\n",
      "\u001b[33m[ WARN] [1743783184.573916062]: TF_REPEATED_DATA ignoring data with redundant timestamp for frame odom (parent map) at time 880.735000 according to authority /pose_integrator\u001b[0m\n",
      "\u001b[33m[ WARN] [1743783184.573951390]: TF_REPEATED_DATA ignoring data with redundant timestamp for frame odom (parent map) at time 880.735000 according to authority /pose_integrator\u001b[0m\n",
      "\u001b[33m[ WARN] [1743783184.573982516]: TF_REPEATED_DATA ignoring data with redundant timestamp for frame odom (parent map) at time 880.735000 according to authority /pose_integrator\u001b[0m\n",
      "\u001b[33m[ WARN] [1743783184.574012282]: TF_REPEATED_DATA ignoring data with redundant timestamp for frame odom (parent map) at time 880.735000 according to authority /pose_integrator\u001b[0m\n",
      "\u001b[33m[ WARN] [1743783184.574041222]: TF_REPEATED_DATA ignoring data with redundant timestamp for frame odom (parent map) at time 880.735000 according to authority /pose_integrator\u001b[0m\n",
      "\u001b[33m[ WARN] [1743783185.213310945]: TF_REPEATED_DATA ignoring data with redundant timestamp for frame odom (parent map) at time 880.910000 according to authority /pose_integrator\u001b[0m\n",
      "\u001b[33m[ WARN] [1743783185.213356716]: TF_REPEATED_DATA ignoring data with redundant timestamp for frame odom (parent map) at time 880.910000 according to authority /pose_integrator\u001b[0m\n",
      "\u001b[33m[ WARN] [1743783185.213395426]: TF_REPEATED_DATA ignoring data with redundant timestamp for frame odom (parent map) at time 880.910000 according to authority /pose_integrator\u001b[0m\n",
      "\u001b[33m[ WARN] [1743783185.213421528]: TF_REPEATED_DATA ignoring data with redundant timestamp for frame odom (parent map) at time 880.910000 according to authority /pose_integrator\u001b[0m\n",
      "\u001b[33m[ WARN] [1743783185.213446444]: TF_REPEATED_DATA ignoring data with redundant timestamp for frame odom (parent map) at time 880.910000 according to authority /pose_integrator\u001b[0m\n",
      "\u001b[33m[ WARN] [1743783185.213471237]: TF_REPEATED_DATA ignoring data with redundant timestamp for frame odom (parent map) at time 880.910000 according to authority /pose_integrator\u001b[0m\n",
      "\u001b[33m[ WARN] [1743783185.353319195]: TF_REPEATED_DATA ignoring data with redundant timestamp for frame odom (parent map) at time 880.968000 according to authority /pose_integrator\u001b[0m\n",
      "\u001b[33m[ WARN] [1743783185.353362248]: TF_REPEATED_DATA ignoring data with redundant timestamp for frame odom (parent map) at time 880.968000 according to authority /pose_integrator\u001b[0m\n",
      "\u001b[33m[ WARN] [1743783185.353387786]: TF_REPEATED_DATA ignoring data with redundant timestamp for frame odom (parent map) at time 880.968000 according to authority /pose_integrator\u001b[0m\n",
      "\u001b[33m[ WARN] [1743783185.353412843]: TF_REPEATED_DATA ignoring data with redundant timestamp for frame odom (parent map) at time 880.968000 according to authority /pose_integrator\u001b[0m\n",
      "\u001b[33m[ WARN] [1743783185.353435705]: TF_REPEATED_DATA ignoring data with redundant timestamp for frame odom (parent map) at time 880.968000 according to authority /pose_integrator\u001b[0m\n",
      "\u001b[33m[ WARN] [1743783185.353458385]: TF_REPEATED_DATA ignoring data with redundant timestamp for frame odom (parent map) at time 880.968000 according to authority /pose_integrator\u001b[0m\n",
      "\u001b[33m[ WARN] [1743783186.562840741]: TF_REPEATED_DATA ignoring data with redundant timestamp for frame odom (parent map) at time 881.333000 according to authority /pose_integrator\u001b[0m\n",
      "\u001b[33m[ WARN] [1743783186.562914201]: TF_REPEATED_DATA ignoring data with redundant timestamp for frame odom (parent map) at time 881.333000 according to authority /pose_integrator\u001b[0m\n",
      "\u001b[33m[ WARN] [1743783186.562958516]: TF_REPEATED_DATA ignoring data with redundant timestamp for frame odom (parent map) at time 881.333000 according to authority /pose_integrator\u001b[0m\n",
      "\u001b[33m[ WARN] [1743783186.562991425]: TF_REPEATED_DATA ignoring data with redundant timestamp for frame odom (parent map) at time 881.333000 according to authority /pose_integrator\u001b[0m\n",
      "\u001b[33m[ WARN] [1743783186.563022326]: TF_REPEATED_DATA ignoring data with redundant timestamp for frame odom (parent map) at time 881.333000 according to authority /pose_integrator\u001b[0m\n",
      "\u001b[33m[ WARN] [1743783186.563062124]: TF_REPEATED_DATA ignoring data with redundant timestamp for frame odom (parent map) at time 881.333000 according to authority /pose_integrator\u001b[0m\n",
      "\u001b[33m[ WARN] [1743783187.943322438]: TF_REPEATED_DATA ignoring data with redundant timestamp for frame odom (parent map) at time 881.712000 according to authority /pose_integrator\u001b[0m\n",
      "\u001b[33m[ WARN] [1743783187.943384676]: TF_REPEATED_DATA ignoring data with redundant timestamp for frame odom (parent map) at time 881.712000 according to authority /pose_integrator\u001b[0m\n",
      "\u001b[33m[ WARN] [1743783187.943426295]: TF_REPEATED_DATA ignoring data with redundant timestamp for frame odom (parent map) at time 881.712000 according to authority /pose_integrator\u001b[0m\n",
      "\u001b[33m[ WARN] [1743783187.943458536]: TF_REPEATED_DATA ignoring data with redundant timestamp for frame odom (parent map) at time 881.712000 according to authority /pose_integrator\u001b[0m\n",
      "\u001b[33m[ WARN] [1743783187.943488459]: TF_REPEATED_DATA ignoring data with redundant timestamp for frame odom (parent map) at time 881.712000 according to authority /pose_integrator\u001b[0m\n",
      "\u001b[33m[ WARN] [1743783187.943532920]: TF_REPEATED_DATA ignoring data with redundant timestamp for frame odom (parent map) at time 881.712000 according to authority /pose_integrator\u001b[0m\n"
     ]
    },
    {
     "name": "stderr",
     "output_type": "stream",
     "text": [
      "\u001b[33m[ WARN] [1743783188.583759893]: TF_REPEATED_DATA ignoring data with redundant timestamp for frame odom (parent map) at time 881.890000 according to authority /pose_integrator\u001b[0m\n",
      "\u001b[33m[ WARN] [1743783188.583826184]: TF_REPEATED_DATA ignoring data with redundant timestamp for frame odom (parent map) at time 881.890000 according to authority /pose_integrator\u001b[0m\n",
      "\u001b[33m[ WARN] [1743783188.583872093]: TF_REPEATED_DATA ignoring data with redundant timestamp for frame odom (parent map) at time 881.890000 according to authority /pose_integrator\u001b[0m\n",
      "\u001b[33m[ WARN] [1743783188.583908733]: TF_REPEATED_DATA ignoring data with redundant timestamp for frame odom (parent map) at time 881.890000 according to authority /pose_integrator\u001b[0m\n",
      "\u001b[33m[ WARN] [1743783188.583933337]: TF_REPEATED_DATA ignoring data with redundant timestamp for frame odom (parent map) at time 881.890000 according to authority /pose_integrator\u001b[0m\n",
      "\u001b[33m[ WARN] [1743783188.583955502]: TF_REPEATED_DATA ignoring data with redundant timestamp for frame odom (parent map) at time 881.890000 according to authority /pose_integrator\u001b[0m\n",
      "\u001b[33m[ WARN] [1743783189.078643516]: TF_REPEATED_DATA ignoring data with redundant timestamp for frame odom (parent map) at time 882.051000 according to authority /pose_integrator\u001b[0m\n",
      "\u001b[33m[ WARN] [1743783189.080304334]: TF_REPEATED_DATA ignoring data with redundant timestamp for frame odom (parent map) at time 882.051000 according to authority /pose_integrator\u001b[0m\n",
      "\u001b[33m[ WARN] [1743783189.080361199]: TF_REPEATED_DATA ignoring data with redundant timestamp for frame odom (parent map) at time 882.051000 according to authority /pose_integrator\u001b[0m\n",
      "\u001b[33m[ WARN] [1743783189.080419864]: TF_REPEATED_DATA ignoring data with redundant timestamp for frame odom (parent map) at time 882.051000 according to authority /pose_integrator\u001b[0m\n",
      "\u001b[33m[ WARN] [1743783189.080470756]: TF_REPEATED_DATA ignoring data with redundant timestamp for frame odom (parent map) at time 882.051000 according to authority /pose_integrator\u001b[0m\n",
      "\u001b[33m[ WARN] [1743783189.080517956]: TF_REPEATED_DATA ignoring data with redundant timestamp for frame odom (parent map) at time 882.051000 according to authority /pose_integrator\u001b[0m\n",
      "\u001b[33m[ WARN] [1743783190.350401277]: TF_REPEATED_DATA ignoring data with redundant timestamp for frame odom (parent map) at time 882.366000 according to authority /pose_integrator\u001b[0m\n",
      "\u001b[33m[ WARN] [1743783190.350458769]: TF_REPEATED_DATA ignoring data with redundant timestamp for frame odom (parent map) at time 882.366000 according to authority /pose_integrator\u001b[0m\n",
      "\u001b[33m[ WARN] [1743783190.350498896]: TF_REPEATED_DATA ignoring data with redundant timestamp for frame odom (parent map) at time 882.366000 according to authority /pose_integrator\u001b[0m\n",
      "\u001b[33m[ WARN] [1743783190.350536436]: TF_REPEATED_DATA ignoring data with redundant timestamp for frame odom (parent map) at time 882.366000 according to authority /pose_integrator\u001b[0m\n",
      "\u001b[33m[ WARN] [1743783190.350564997]: TF_REPEATED_DATA ignoring data with redundant timestamp for frame odom (parent map) at time 882.366000 according to authority /pose_integrator\u001b[0m\n",
      "\u001b[33m[ WARN] [1743783190.350598175]: TF_REPEATED_DATA ignoring data with redundant timestamp for frame odom (parent map) at time 882.366000 according to authority /pose_integrator\u001b[0m\n",
      "\u001b[33m[ WARN] [1743783191.421102946]: TF_REPEATED_DATA ignoring data with redundant timestamp for frame odom (parent map) at time 882.670000 according to authority /pose_integrator\u001b[0m\n",
      "\u001b[33m[ WARN] [1743783191.421165351]: TF_REPEATED_DATA ignoring data with redundant timestamp for frame odom (parent map) at time 882.670000 according to authority /pose_integrator\u001b[0m\n",
      "\u001b[33m[ WARN] [1743783191.421209714]: TF_REPEATED_DATA ignoring data with redundant timestamp for frame odom (parent map) at time 882.670000 according to authority /pose_integrator\u001b[0m\n",
      "\u001b[33m[ WARN] [1743783191.421249407]: TF_REPEATED_DATA ignoring data with redundant timestamp for frame odom (parent map) at time 882.670000 according to authority /pose_integrator\u001b[0m\n",
      "\u001b[33m[ WARN] [1743783191.421290269]: TF_REPEATED_DATA ignoring data with redundant timestamp for frame odom (parent map) at time 882.670000 according to authority /pose_integrator\u001b[0m\n",
      "\u001b[33m[ WARN] [1743783191.421339166]: TF_REPEATED_DATA ignoring data with redundant timestamp for frame odom (parent map) at time 882.670000 according to authority /pose_integrator\u001b[0m\n",
      "\u001b[33m[ WARN] [1743783192.108960748]: TF_REPEATED_DATA ignoring data with redundant timestamp for frame odom (parent map) at time 882.836000 according to authority /pose_integrator\u001b[0m\n",
      "\u001b[33m[ WARN] [1743783192.109052428]: TF_REPEATED_DATA ignoring data with redundant timestamp for frame odom (parent map) at time 882.836000 according to authority /pose_integrator\u001b[0m\n",
      "\u001b[33m[ WARN] [1743783192.109108488]: TF_REPEATED_DATA ignoring data with redundant timestamp for frame odom (parent map) at time 882.836000 according to authority /pose_integrator\u001b[0m\n",
      "\u001b[33m[ WARN] [1743783192.109165078]: TF_REPEATED_DATA ignoring data with redundant timestamp for frame odom (parent map) at time 882.836000 according to authority /pose_integrator\u001b[0m\n",
      "\u001b[33m[ WARN] [1743783192.109219180]: TF_REPEATED_DATA ignoring data with redundant timestamp for frame odom (parent map) at time 882.836000 according to authority /pose_integrator\u001b[0m\n",
      "\u001b[33m[ WARN] [1743783192.109272479]: TF_REPEATED_DATA ignoring data with redundant timestamp for frame odom (parent map) at time 882.836000 according to authority /pose_integrator\u001b[0m\n",
      "\u001b[33m[ WARN] [1743783192.292815871]: TF_REPEATED_DATA ignoring data with redundant timestamp for frame odom (parent map) at time 882.889000 according to authority /pose_integrator\u001b[0m\n",
      "\u001b[33m[ WARN] [1743783192.292879507]: TF_REPEATED_DATA ignoring data with redundant timestamp for frame odom (parent map) at time 882.889000 according to authority /pose_integrator\u001b[0m\n",
      "\u001b[33m[ WARN] [1743783192.292927342]: TF_REPEATED_DATA ignoring data with redundant timestamp for frame odom (parent map) at time 882.889000 according to authority /pose_integrator\u001b[0m\n",
      "\u001b[33m[ WARN] [1743783192.292967027]: TF_REPEATED_DATA ignoring data with redundant timestamp for frame odom (parent map) at time 882.889000 according to authority /pose_integrator\u001b[0m\n",
      "\u001b[33m[ WARN] [1743783192.293006069]: TF_REPEATED_DATA ignoring data with redundant timestamp for frame odom (parent map) at time 882.889000 according to authority /pose_integrator\u001b[0m\n",
      "\u001b[33m[ WARN] [1743783192.293043196]: TF_REPEATED_DATA ignoring data with redundant timestamp for frame odom (parent map) at time 882.889000 according to authority /pose_integrator\u001b[0m\n",
      "\u001b[33m[ WARN] [1743783193.152933949]: TF_REPEATED_DATA ignoring data with redundant timestamp for frame odom (parent map) at time 883.087000 according to authority /pose_integrator\u001b[0m\n",
      "\u001b[33m[ WARN] [1743783193.152993614]: TF_REPEATED_DATA ignoring data with redundant timestamp for frame odom (parent map) at time 883.087000 according to authority /pose_integrator\u001b[0m\n",
      "\u001b[33m[ WARN] [1743783193.153041132]: TF_REPEATED_DATA ignoring data with redundant timestamp for frame odom (parent map) at time 883.087000 according to authority /pose_integrator\u001b[0m\n",
      "\u001b[33m[ WARN] [1743783193.153091570]: TF_REPEATED_DATA ignoring data with redundant timestamp for frame odom (parent map) at time 883.087000 according to authority /pose_integrator\u001b[0m\n",
      "\u001b[33m[ WARN] [1743783193.153141144]: TF_REPEATED_DATA ignoring data with redundant timestamp for frame odom (parent map) at time 883.087000 according to authority /pose_integrator\u001b[0m\n",
      "\u001b[33m[ WARN] [1743783193.153175040]: TF_REPEATED_DATA ignoring data with redundant timestamp for frame odom (parent map) at time 883.087000 according to authority /pose_integrator\u001b[0m\n",
      "\u001b[33m[ WARN] [1743783193.490285779]: TF_REPEATED_DATA ignoring data with redundant timestamp for frame odom (parent map) at time 883.215000 according to authority /pose_integrator\u001b[0m\n",
      "\u001b[33m[ WARN] [1743783193.490359813]: TF_REPEATED_DATA ignoring data with redundant timestamp for frame odom (parent map) at time 883.215000 according to authority /pose_integrator\u001b[0m\n",
      "\u001b[33m[ WARN] [1743783193.490394807]: TF_REPEATED_DATA ignoring data with redundant timestamp for frame odom (parent map) at time 883.215000 according to authority /pose_integrator\u001b[0m\n",
      "\u001b[33m[ WARN] [1743783193.490425706]: TF_REPEATED_DATA ignoring data with redundant timestamp for frame odom (parent map) at time 883.215000 according to authority /pose_integrator\u001b[0m\n",
      "\u001b[33m[ WARN] [1743783193.490457536]: TF_REPEATED_DATA ignoring data with redundant timestamp for frame odom (parent map) at time 883.215000 according to authority /pose_integrator\u001b[0m\n",
      "\u001b[33m[ WARN] [1743783193.490494584]: TF_REPEATED_DATA ignoring data with redundant timestamp for frame odom (parent map) at time 883.215000 according to authority /pose_integrator\u001b[0m\n"
     ]
    },
    {
     "name": "stderr",
     "output_type": "stream",
     "text": [
      "\u001b[33m[ WARN] [1743783193.921604233]: TF_REPEATED_DATA ignoring data with redundant timestamp for frame odom (parent map) at time 883.336000 according to authority /pose_integrator\u001b[0m\n",
      "\u001b[33m[ WARN] [1743783193.921669707]: TF_REPEATED_DATA ignoring data with redundant timestamp for frame odom (parent map) at time 883.336000 according to authority /pose_integrator\u001b[0m\n",
      "\u001b[33m[ WARN] [1743783193.921714732]: TF_REPEATED_DATA ignoring data with redundant timestamp for frame odom (parent map) at time 883.336000 according to authority /pose_integrator\u001b[0m\n",
      "\u001b[33m[ WARN] [1743783193.921761609]: TF_REPEATED_DATA ignoring data with redundant timestamp for frame odom (parent map) at time 883.336000 according to authority /pose_integrator\u001b[0m\n",
      "\u001b[33m[ WARN] [1743783193.921803448]: TF_REPEATED_DATA ignoring data with redundant timestamp for frame odom (parent map) at time 883.336000 according to authority /pose_integrator\u001b[0m\n",
      "\u001b[33m[ WARN] [1743783193.921839568]: TF_REPEATED_DATA ignoring data with redundant timestamp for frame odom (parent map) at time 883.336000 according to authority /pose_integrator\u001b[0m\n",
      "\u001b[33m[ WARN] [1743783194.570971332]: TF_REPEATED_DATA ignoring data with redundant timestamp for frame odom (parent map) at time 883.530000 according to authority /pose_integrator\u001b[0m\n",
      "\u001b[33m[ WARN] [1743783194.571009635]: TF_REPEATED_DATA ignoring data with redundant timestamp for frame odom (parent map) at time 883.530000 according to authority /pose_integrator\u001b[0m\n",
      "\u001b[33m[ WARN] [1743783194.571032978]: TF_REPEATED_DATA ignoring data with redundant timestamp for frame odom (parent map) at time 883.530000 according to authority /pose_integrator\u001b[0m\n",
      "\u001b[33m[ WARN] [1743783194.571058204]: TF_REPEATED_DATA ignoring data with redundant timestamp for frame odom (parent map) at time 883.530000 according to authority /pose_integrator\u001b[0m\n",
      "\u001b[33m[ WARN] [1743783194.571083342]: TF_REPEATED_DATA ignoring data with redundant timestamp for frame odom (parent map) at time 883.530000 according to authority /pose_integrator\u001b[0m\n",
      "\u001b[33m[ WARN] [1743783194.571104676]: TF_REPEATED_DATA ignoring data with redundant timestamp for frame odom (parent map) at time 883.530000 according to authority /pose_integrator\u001b[0m\n",
      "\u001b[33m[ WARN] [1743783195.656093317]: TF_REPEATED_DATA ignoring data with redundant timestamp for frame odom (parent map) at time 883.794000 according to authority /pose_integrator\u001b[0m\n",
      "\u001b[33m[ WARN] [1743783195.656152933]: TF_REPEATED_DATA ignoring data with redundant timestamp for frame odom (parent map) at time 883.794000 according to authority /pose_integrator\u001b[0m\n",
      "\u001b[33m[ WARN] [1743783195.656197103]: TF_REPEATED_DATA ignoring data with redundant timestamp for frame odom (parent map) at time 883.794000 according to authority /pose_integrator\u001b[0m\n",
      "\u001b[33m[ WARN] [1743783195.656243434]: TF_REPEATED_DATA ignoring data with redundant timestamp for frame odom (parent map) at time 883.794000 according to authority /pose_integrator\u001b[0m\n",
      "\u001b[33m[ WARN] [1743783195.656281892]: TF_REPEATED_DATA ignoring data with redundant timestamp for frame odom (parent map) at time 883.794000 according to authority /pose_integrator\u001b[0m\n",
      "\u001b[33m[ WARN] [1743783195.656318446]: TF_REPEATED_DATA ignoring data with redundant timestamp for frame odom (parent map) at time 883.794000 according to authority /pose_integrator\u001b[0m\n",
      "\u001b[33m[ WARN] [1743783196.046681036]: TF_REPEATED_DATA ignoring data with redundant timestamp for frame odom (parent map) at time 883.906000 according to authority /pose_integrator\u001b[0m\n",
      "\u001b[33m[ WARN] [1743783196.046736619]: TF_REPEATED_DATA ignoring data with redundant timestamp for frame odom (parent map) at time 883.906000 according to authority /pose_integrator\u001b[0m\n",
      "\u001b[33m[ WARN] [1743783196.046778328]: TF_REPEATED_DATA ignoring data with redundant timestamp for frame odom (parent map) at time 883.906000 according to authority /pose_integrator\u001b[0m\n",
      "\u001b[33m[ WARN] [1743783196.046813447]: TF_REPEATED_DATA ignoring data with redundant timestamp for frame odom (parent map) at time 883.906000 according to authority /pose_integrator\u001b[0m\n",
      "\u001b[33m[ WARN] [1743783196.046846835]: TF_REPEATED_DATA ignoring data with redundant timestamp for frame odom (parent map) at time 883.906000 according to authority /pose_integrator\u001b[0m\n",
      "\u001b[33m[ WARN] [1743783196.046878386]: TF_REPEATED_DATA ignoring data with redundant timestamp for frame odom (parent map) at time 883.906000 according to authority /pose_integrator\u001b[0m\n",
      "\u001b[33m[ WARN] [1743783196.648747424]: TF_REPEATED_DATA ignoring data with redundant timestamp for frame odom (parent map) at time 884.081000 according to authority /pose_integrator\u001b[0m\n",
      "\u001b[33m[ WARN] [1743783196.648801848]: TF_REPEATED_DATA ignoring data with redundant timestamp for frame odom (parent map) at time 884.081000 according to authority /pose_integrator\u001b[0m\n",
      "\u001b[33m[ WARN] [1743783196.648839080]: TF_REPEATED_DATA ignoring data with redundant timestamp for frame odom (parent map) at time 884.081000 according to authority /pose_integrator\u001b[0m\n",
      "\u001b[33m[ WARN] [1743783196.648877364]: TF_REPEATED_DATA ignoring data with redundant timestamp for frame odom (parent map) at time 884.081000 according to authority /pose_integrator\u001b[0m\n",
      "\u001b[33m[ WARN] [1743783196.648916569]: TF_REPEATED_DATA ignoring data with redundant timestamp for frame odom (parent map) at time 884.081000 according to authority /pose_integrator\u001b[0m\n",
      "\u001b[33m[ WARN] [1743783196.648949171]: TF_REPEATED_DATA ignoring data with redundant timestamp for frame odom (parent map) at time 884.081000 according to authority /pose_integrator\u001b[0m\n",
      "\u001b[33m[ WARN] [1743783197.613336117]: TF_REPEATED_DATA ignoring data with redundant timestamp for frame odom (parent map) at time 884.328000 according to authority /pose_integrator\u001b[0m\n",
      "\u001b[33m[ WARN] [1743783197.613416432]: TF_REPEATED_DATA ignoring data with redundant timestamp for frame odom (parent map) at time 884.328000 according to authority /pose_integrator\u001b[0m\n",
      "\u001b[33m[ WARN] [1743783197.613478344]: TF_REPEATED_DATA ignoring data with redundant timestamp for frame odom (parent map) at time 884.328000 according to authority /pose_integrator\u001b[0m\n",
      "\u001b[33m[ WARN] [1743783197.613537299]: TF_REPEATED_DATA ignoring data with redundant timestamp for frame odom (parent map) at time 884.328000 according to authority /pose_integrator\u001b[0m\n",
      "\u001b[33m[ WARN] [1743783197.613595354]: TF_REPEATED_DATA ignoring data with redundant timestamp for frame odom (parent map) at time 884.328000 according to authority /pose_integrator\u001b[0m\n",
      "\u001b[33m[ WARN] [1743783197.613649721]: TF_REPEATED_DATA ignoring data with redundant timestamp for frame odom (parent map) at time 884.328000 according to authority /pose_integrator\u001b[0m\n",
      "\u001b[33m[ WARN] [1743783198.622564966]: TF_REPEATED_DATA ignoring data with redundant timestamp for frame odom (parent map) at time 884.604000 according to authority /pose_integrator\u001b[0m\n",
      "\u001b[33m[ WARN] [1743783198.622662767]: TF_REPEATED_DATA ignoring data with redundant timestamp for frame odom (parent map) at time 884.604000 according to authority /pose_integrator\u001b[0m\n",
      "\u001b[33m[ WARN] [1743783198.622708990]: TF_REPEATED_DATA ignoring data with redundant timestamp for frame odom (parent map) at time 884.604000 according to authority /pose_integrator\u001b[0m\n",
      "\u001b[33m[ WARN] [1743783198.622752125]: TF_REPEATED_DATA ignoring data with redundant timestamp for frame odom (parent map) at time 884.604000 according to authority /pose_integrator\u001b[0m\n",
      "\u001b[33m[ WARN] [1743783198.622791716]: TF_REPEATED_DATA ignoring data with redundant timestamp for frame odom (parent map) at time 884.604000 according to authority /pose_integrator\u001b[0m\n",
      "\u001b[33m[ WARN] [1743783198.622820061]: TF_REPEATED_DATA ignoring data with redundant timestamp for frame odom (parent map) at time 884.604000 according to authority /pose_integrator\u001b[0m\n",
      "\u001b[33m[ WARN] [1743783199.794466710]: TF_REPEATED_DATA ignoring data with redundant timestamp for frame odom (parent map) at time 884.967000 according to authority /pose_integrator\u001b[0m\n",
      "\u001b[33m[ WARN] [1743783199.794507923]: TF_REPEATED_DATA ignoring data with redundant timestamp for frame odom (parent map) at time 884.967000 according to authority /pose_integrator\u001b[0m\n",
      "\u001b[33m[ WARN] [1743783199.794532657]: TF_REPEATED_DATA ignoring data with redundant timestamp for frame odom (parent map) at time 884.967000 according to authority /pose_integrator\u001b[0m\n",
      "\u001b[33m[ WARN] [1743783199.794555856]: TF_REPEATED_DATA ignoring data with redundant timestamp for frame odom (parent map) at time 884.967000 according to authority /pose_integrator\u001b[0m\n",
      "\u001b[33m[ WARN] [1743783199.794580047]: TF_REPEATED_DATA ignoring data with redundant timestamp for frame odom (parent map) at time 884.967000 according to authority /pose_integrator\u001b[0m\n",
      "\u001b[33m[ WARN] [1743783199.794610383]: TF_REPEATED_DATA ignoring data with redundant timestamp for frame odom (parent map) at time 884.967000 according to authority /pose_integrator\u001b[0m\n"
     ]
    },
    {
     "name": "stderr",
     "output_type": "stream",
     "text": [
      "\u001b[33m[ WARN] [1743783201.693602641]: TF_REPEATED_DATA ignoring data with redundant timestamp for frame odom (parent map) at time 885.443000 according to authority /pose_integrator\u001b[0m\n",
      "\u001b[33m[ WARN] [1743783201.693651533]: TF_REPEATED_DATA ignoring data with redundant timestamp for frame odom (parent map) at time 885.443000 according to authority /pose_integrator\u001b[0m\n",
      "\u001b[33m[ WARN] [1743783201.693691234]: TF_REPEATED_DATA ignoring data with redundant timestamp for frame odom (parent map) at time 885.443000 according to authority /pose_integrator\u001b[0m\n",
      "\u001b[33m[ WARN] [1743783201.693725219]: TF_REPEATED_DATA ignoring data with redundant timestamp for frame odom (parent map) at time 885.443000 according to authority /pose_integrator\u001b[0m\n",
      "\u001b[33m[ WARN] [1743783201.693762735]: TF_REPEATED_DATA ignoring data with redundant timestamp for frame odom (parent map) at time 885.443000 according to authority /pose_integrator\u001b[0m\n",
      "\u001b[33m[ WARN] [1743783201.693800927]: TF_REPEATED_DATA ignoring data with redundant timestamp for frame odom (parent map) at time 885.443000 according to authority /pose_integrator\u001b[0m\n",
      "\u001b[33m[ WARN] [1743783202.447373105]: TF_REPEATED_DATA ignoring data with redundant timestamp for frame odom (parent map) at time 885.649000 according to authority /pose_integrator\u001b[0m\n",
      "\u001b[33m[ WARN] [1743783202.447420661]: TF_REPEATED_DATA ignoring data with redundant timestamp for frame odom (parent map) at time 885.649000 according to authority /pose_integrator\u001b[0m\n",
      "\u001b[33m[ WARN] [1743783202.447453514]: TF_REPEATED_DATA ignoring data with redundant timestamp for frame odom (parent map) at time 885.649000 according to authority /pose_integrator\u001b[0m\n",
      "\u001b[33m[ WARN] [1743783202.447485828]: TF_REPEATED_DATA ignoring data with redundant timestamp for frame odom (parent map) at time 885.649000 according to authority /pose_integrator\u001b[0m\n",
      "\u001b[33m[ WARN] [1743783202.447511140]: TF_REPEATED_DATA ignoring data with redundant timestamp for frame odom (parent map) at time 885.649000 according to authority /pose_integrator\u001b[0m\n",
      "\u001b[33m[ WARN] [1743783202.447534532]: TF_REPEATED_DATA ignoring data with redundant timestamp for frame odom (parent map) at time 885.649000 according to authority /pose_integrator\u001b[0m\n",
      "\u001b[33m[ WARN] [1743783205.019762902]: TF_REPEATED_DATA ignoring data with redundant timestamp for frame odom (parent map) at time 886.276000 according to authority /pose_integrator\u001b[0m\n",
      "\u001b[33m[ WARN] [1743783205.019826766]: TF_REPEATED_DATA ignoring data with redundant timestamp for frame odom (parent map) at time 886.276000 according to authority /pose_integrator\u001b[0m\n",
      "\u001b[33m[ WARN] [1743783205.019865950]: TF_REPEATED_DATA ignoring data with redundant timestamp for frame odom (parent map) at time 886.276000 according to authority /pose_integrator\u001b[0m\n",
      "\u001b[33m[ WARN] [1743783205.019903692]: TF_REPEATED_DATA ignoring data with redundant timestamp for frame odom (parent map) at time 886.276000 according to authority /pose_integrator\u001b[0m\n",
      "\u001b[33m[ WARN] [1743783205.019940035]: TF_REPEATED_DATA ignoring data with redundant timestamp for frame odom (parent map) at time 886.276000 according to authority /pose_integrator\u001b[0m\n",
      "\u001b[33m[ WARN] [1743783205.019976660]: TF_REPEATED_DATA ignoring data with redundant timestamp for frame odom (parent map) at time 886.276000 according to authority /pose_integrator\u001b[0m\n",
      "\u001b[33m[ WARN] [1743783209.007774374]: TF_REPEATED_DATA ignoring data with redundant timestamp for frame odom (parent map) at time 887.254000 according to authority /pose_integrator\u001b[0m\n",
      "\u001b[33m[ WARN] [1743783209.007842809]: TF_REPEATED_DATA ignoring data with redundant timestamp for frame odom (parent map) at time 887.254000 according to authority /pose_integrator\u001b[0m\n",
      "\u001b[33m[ WARN] [1743783209.007901686]: TF_REPEATED_DATA ignoring data with redundant timestamp for frame odom (parent map) at time 887.254000 according to authority /pose_integrator\u001b[0m\n",
      "\u001b[33m[ WARN] [1743783209.007950635]: TF_REPEATED_DATA ignoring data with redundant timestamp for frame odom (parent map) at time 887.254000 according to authority /pose_integrator\u001b[0m\n",
      "\u001b[33m[ WARN] [1743783209.007997237]: TF_REPEATED_DATA ignoring data with redundant timestamp for frame odom (parent map) at time 887.254000 according to authority /pose_integrator\u001b[0m\n",
      "\u001b[33m[ WARN] [1743783209.008044782]: TF_REPEATED_DATA ignoring data with redundant timestamp for frame odom (parent map) at time 887.254000 according to authority /pose_integrator\u001b[0m\n",
      "\u001b[33m[ WARN] [1743783209.401285869]: TF_REPEATED_DATA ignoring data with redundant timestamp for frame odom (parent map) at time 887.367000 according to authority /pose_integrator\u001b[0m\n",
      "\u001b[33m[ WARN] [1743783209.401337902]: TF_REPEATED_DATA ignoring data with redundant timestamp for frame odom (parent map) at time 887.367000 according to authority /pose_integrator\u001b[0m\n",
      "\u001b[33m[ WARN] [1743783209.401375892]: TF_REPEATED_DATA ignoring data with redundant timestamp for frame odom (parent map) at time 887.367000 according to authority /pose_integrator\u001b[0m\n",
      "\u001b[33m[ WARN] [1743783209.401406979]: TF_REPEATED_DATA ignoring data with redundant timestamp for frame odom (parent map) at time 887.367000 according to authority /pose_integrator\u001b[0m\n",
      "\u001b[33m[ WARN] [1743783209.401431323]: TF_REPEATED_DATA ignoring data with redundant timestamp for frame odom (parent map) at time 887.367000 according to authority /pose_integrator\u001b[0m\n",
      "\u001b[33m[ WARN] [1743783209.401464097]: TF_REPEATED_DATA ignoring data with redundant timestamp for frame odom (parent map) at time 887.367000 according to authority /pose_integrator\u001b[0m\n",
      "\u001b[33m[ WARN] [1743783209.564980139]: TF_REPEATED_DATA ignoring data with redundant timestamp for frame odom (parent map) at time 887.409000 according to authority /pose_integrator\u001b[0m\n",
      "\u001b[33m[ WARN] [1743783209.565023967]: TF_REPEATED_DATA ignoring data with redundant timestamp for frame odom (parent map) at time 887.409000 according to authority /pose_integrator\u001b[0m\n",
      "\u001b[33m[ WARN] [1743783209.565056336]: TF_REPEATED_DATA ignoring data with redundant timestamp for frame odom (parent map) at time 887.409000 according to authority /pose_integrator\u001b[0m\n",
      "\u001b[33m[ WARN] [1743783209.565087424]: TF_REPEATED_DATA ignoring data with redundant timestamp for frame odom (parent map) at time 887.409000 according to authority /pose_integrator\u001b[0m\n",
      "\u001b[33m[ WARN] [1743783209.565110264]: TF_REPEATED_DATA ignoring data with redundant timestamp for frame odom (parent map) at time 887.409000 according to authority /pose_integrator\u001b[0m\n",
      "\u001b[33m[ WARN] [1743783209.565133265]: TF_REPEATED_DATA ignoring data with redundant timestamp for frame odom (parent map) at time 887.409000 according to authority /pose_integrator\u001b[0m\n",
      "\u001b[33m[ WARN] [1743783210.455829108]: TF_REPEATED_DATA ignoring data with redundant timestamp for frame odom (parent map) at time 887.689000 according to authority /pose_integrator\u001b[0m\n",
      "\u001b[33m[ WARN] [1743783210.455895763]: TF_REPEATED_DATA ignoring data with redundant timestamp for frame odom (parent map) at time 887.689000 according to authority /pose_integrator\u001b[0m\n",
      "\u001b[33m[ WARN] [1743783210.455945489]: TF_REPEATED_DATA ignoring data with redundant timestamp for frame odom (parent map) at time 887.689000 according to authority /pose_integrator\u001b[0m\n",
      "\u001b[33m[ WARN] [1743783210.455991142]: TF_REPEATED_DATA ignoring data with redundant timestamp for frame odom (parent map) at time 887.689000 according to authority /pose_integrator\u001b[0m\n",
      "\u001b[33m[ WARN] [1743783210.456047477]: TF_REPEATED_DATA ignoring data with redundant timestamp for frame odom (parent map) at time 887.689000 according to authority /pose_integrator\u001b[0m\n",
      "\u001b[33m[ WARN] [1743783210.456095410]: TF_REPEATED_DATA ignoring data with redundant timestamp for frame odom (parent map) at time 887.689000 according to authority /pose_integrator\u001b[0m\n",
      "\u001b[33m[ WARN] [1743783211.484222142]: TF_REPEATED_DATA ignoring data with redundant timestamp for frame odom (parent map) at time 887.988000 according to authority /pose_integrator\u001b[0m\n",
      "\u001b[33m[ WARN] [1743783211.484280322]: TF_REPEATED_DATA ignoring data with redundant timestamp for frame odom (parent map) at time 887.988000 according to authority /pose_integrator\u001b[0m\n",
      "\u001b[33m[ WARN] [1743783211.484323100]: TF_REPEATED_DATA ignoring data with redundant timestamp for frame odom (parent map) at time 887.988000 according to authority /pose_integrator\u001b[0m\n",
      "\u001b[33m[ WARN] [1743783211.484364487]: TF_REPEATED_DATA ignoring data with redundant timestamp for frame odom (parent map) at time 887.988000 according to authority /pose_integrator\u001b[0m\n",
      "\u001b[33m[ WARN] [1743783211.484405500]: TF_REPEATED_DATA ignoring data with redundant timestamp for frame odom (parent map) at time 887.988000 according to authority /pose_integrator\u001b[0m\n",
      "\u001b[33m[ WARN] [1743783211.484440304]: TF_REPEATED_DATA ignoring data with redundant timestamp for frame odom (parent map) at time 887.988000 according to authority /pose_integrator\u001b[0m\n"
     ]
    },
    {
     "name": "stderr",
     "output_type": "stream",
     "text": [
      "\u001b[33m[ WARN] [1743783213.226255735]: TF_REPEATED_DATA ignoring data with redundant timestamp for frame odom (parent map) at time 888.396000 according to authority /pose_integrator\u001b[0m\n",
      "\u001b[33m[ WARN] [1743783213.226308319]: TF_REPEATED_DATA ignoring data with redundant timestamp for frame odom (parent map) at time 888.396000 according to authority /pose_integrator\u001b[0m\n",
      "\u001b[33m[ WARN] [1743783213.226352863]: TF_REPEATED_DATA ignoring data with redundant timestamp for frame odom (parent map) at time 888.396000 according to authority /pose_integrator\u001b[0m\n",
      "\u001b[33m[ WARN] [1743783213.226390091]: TF_REPEATED_DATA ignoring data with redundant timestamp for frame odom (parent map) at time 888.396000 according to authority /pose_integrator\u001b[0m\n",
      "\u001b[33m[ WARN] [1743783213.226420372]: TF_REPEATED_DATA ignoring data with redundant timestamp for frame odom (parent map) at time 888.396000 according to authority /pose_integrator\u001b[0m\n",
      "\u001b[33m[ WARN] [1743783213.226445633]: TF_REPEATED_DATA ignoring data with redundant timestamp for frame odom (parent map) at time 888.396000 according to authority /pose_integrator\u001b[0m\n",
      "\u001b[33m[ WARN] [1743783214.445520496]: TF_REPEATED_DATA ignoring data with redundant timestamp for frame odom (parent map) at time 888.683000 according to authority /pose_integrator\u001b[0m\n",
      "\u001b[33m[ WARN] [1743783214.445586309]: TF_REPEATED_DATA ignoring data with redundant timestamp for frame odom (parent map) at time 888.683000 according to authority /pose_integrator\u001b[0m\n",
      "\u001b[33m[ WARN] [1743783214.445639952]: TF_REPEATED_DATA ignoring data with redundant timestamp for frame odom (parent map) at time 888.683000 according to authority /pose_integrator\u001b[0m\n",
      "\u001b[33m[ WARN] [1743783214.445680177]: TF_REPEATED_DATA ignoring data with redundant timestamp for frame odom (parent map) at time 888.683000 according to authority /pose_integrator\u001b[0m\n",
      "\u001b[33m[ WARN] [1743783214.445718905]: TF_REPEATED_DATA ignoring data with redundant timestamp for frame odom (parent map) at time 888.683000 according to authority /pose_integrator\u001b[0m\n",
      "\u001b[33m[ WARN] [1743783214.445757683]: TF_REPEATED_DATA ignoring data with redundant timestamp for frame odom (parent map) at time 888.683000 according to authority /pose_integrator\u001b[0m\n",
      "\u001b[33m[ WARN] [1743783220.525029035]: TF_REPEATED_DATA ignoring data with redundant timestamp for frame odom (parent map) at time 890.153000 according to authority /pose_integrator\u001b[0m\n",
      "\u001b[33m[ WARN] [1743783220.525078869]: TF_REPEATED_DATA ignoring data with redundant timestamp for frame odom (parent map) at time 890.153000 according to authority /pose_integrator\u001b[0m\n",
      "\u001b[33m[ WARN] [1743783220.525108367]: TF_REPEATED_DATA ignoring data with redundant timestamp for frame odom (parent map) at time 890.153000 according to authority /pose_integrator\u001b[0m\n",
      "\u001b[33m[ WARN] [1743783220.525136767]: TF_REPEATED_DATA ignoring data with redundant timestamp for frame odom (parent map) at time 890.153000 according to authority /pose_integrator\u001b[0m\n",
      "\u001b[33m[ WARN] [1743783220.525162970]: TF_REPEATED_DATA ignoring data with redundant timestamp for frame odom (parent map) at time 890.153000 according to authority /pose_integrator\u001b[0m\n",
      "\u001b[33m[ WARN] [1743783220.525187543]: TF_REPEATED_DATA ignoring data with redundant timestamp for frame odom (parent map) at time 890.153000 according to authority /pose_integrator\u001b[0m\n",
      "\u001b[33m[ WARN] [1743783220.967877745]: TF_REPEATED_DATA ignoring data with redundant timestamp for frame odom (parent map) at time 890.296000 according to authority /pose_integrator\u001b[0m\n",
      "\u001b[33m[ WARN] [1743783220.967933999]: TF_REPEATED_DATA ignoring data with redundant timestamp for frame odom (parent map) at time 890.296000 according to authority /pose_integrator\u001b[0m\n",
      "\u001b[33m[ WARN] [1743783220.967985424]: TF_REPEATED_DATA ignoring data with redundant timestamp for frame odom (parent map) at time 890.296000 according to authority /pose_integrator\u001b[0m\n",
      "\u001b[33m[ WARN] [1743783220.968019817]: TF_REPEATED_DATA ignoring data with redundant timestamp for frame odom (parent map) at time 890.296000 according to authority /pose_integrator\u001b[0m\n",
      "\u001b[33m[ WARN] [1743783220.968057640]: TF_REPEATED_DATA ignoring data with redundant timestamp for frame odom (parent map) at time 890.296000 according to authority /pose_integrator\u001b[0m\n",
      "\u001b[33m[ WARN] [1743783220.968099471]: TF_REPEATED_DATA ignoring data with redundant timestamp for frame odom (parent map) at time 890.296000 according to authority /pose_integrator\u001b[0m\n",
      "\u001b[33m[ WARN] [1743783221.484715123]: TF_REPEATED_DATA ignoring data with redundant timestamp for frame odom (parent map) at time 890.422000 according to authority /pose_integrator\u001b[0m\n",
      "\u001b[33m[ WARN] [1743783221.484787531]: TF_REPEATED_DATA ignoring data with redundant timestamp for frame odom (parent map) at time 890.422000 according to authority /pose_integrator\u001b[0m\n",
      "\u001b[33m[ WARN] [1743783221.484842670]: TF_REPEATED_DATA ignoring data with redundant timestamp for frame odom (parent map) at time 890.422000 according to authority /pose_integrator\u001b[0m\n",
      "\u001b[33m[ WARN] [1743783221.484896970]: TF_REPEATED_DATA ignoring data with redundant timestamp for frame odom (parent map) at time 890.422000 according to authority /pose_integrator\u001b[0m\n",
      "\u001b[33m[ WARN] [1743783221.484952757]: TF_REPEATED_DATA ignoring data with redundant timestamp for frame odom (parent map) at time 890.422000 according to authority /pose_integrator\u001b[0m\n",
      "\u001b[33m[ WARN] [1743783221.485010691]: TF_REPEATED_DATA ignoring data with redundant timestamp for frame odom (parent map) at time 890.422000 according to authority /pose_integrator\u001b[0m\n",
      "\u001b[33m[ WARN] [1743783221.700995762]: TF_REPEATED_DATA ignoring data with redundant timestamp for frame odom (parent map) at time 890.493000 according to authority /pose_integrator\u001b[0m\n",
      "\u001b[33m[ WARN] [1743783221.701059750]: TF_REPEATED_DATA ignoring data with redundant timestamp for frame odom (parent map) at time 890.493000 according to authority /pose_integrator\u001b[0m\n",
      "\u001b[33m[ WARN] [1743783221.701109330]: TF_REPEATED_DATA ignoring data with redundant timestamp for frame odom (parent map) at time 890.493000 according to authority /pose_integrator\u001b[0m\n",
      "\u001b[33m[ WARN] [1743783221.701151082]: TF_REPEATED_DATA ignoring data with redundant timestamp for frame odom (parent map) at time 890.493000 according to authority /pose_integrator\u001b[0m\n",
      "\u001b[33m[ WARN] [1743783221.701193221]: TF_REPEATED_DATA ignoring data with redundant timestamp for frame odom (parent map) at time 890.493000 according to authority /pose_integrator\u001b[0m\n",
      "\u001b[33m[ WARN] [1743783221.701238454]: TF_REPEATED_DATA ignoring data with redundant timestamp for frame odom (parent map) at time 890.493000 according to authority /pose_integrator\u001b[0m\n",
      "\u001b[33m[ WARN] [1743783224.915527434]: TF_REPEATED_DATA ignoring data with redundant timestamp for frame odom (parent map) at time 891.308000 according to authority /pose_integrator\u001b[0m\n",
      "\u001b[33m[ WARN] [1743783224.915567424]: TF_REPEATED_DATA ignoring data with redundant timestamp for frame odom (parent map) at time 891.308000 according to authority /pose_integrator\u001b[0m\n",
      "\u001b[33m[ WARN] [1743783224.915591212]: TF_REPEATED_DATA ignoring data with redundant timestamp for frame odom (parent map) at time 891.308000 according to authority /pose_integrator\u001b[0m\n",
      "\u001b[33m[ WARN] [1743783224.915629840]: TF_REPEATED_DATA ignoring data with redundant timestamp for frame odom (parent map) at time 891.308000 according to authority /pose_integrator\u001b[0m\n",
      "\u001b[33m[ WARN] [1743783224.915656810]: TF_REPEATED_DATA ignoring data with redundant timestamp for frame odom (parent map) at time 891.308000 according to authority /pose_integrator\u001b[0m\n",
      "\u001b[33m[ WARN] [1743783224.915683636]: TF_REPEATED_DATA ignoring data with redundant timestamp for frame odom (parent map) at time 891.308000 according to authority /pose_integrator\u001b[0m\n",
      "\u001b[33m[ WARN] [1743783226.782361646]: TF_REPEATED_DATA ignoring data with redundant timestamp for frame odom (parent map) at time 891.733000 according to authority /pose_integrator\u001b[0m\n",
      "\u001b[33m[ WARN] [1743783226.782414843]: TF_REPEATED_DATA ignoring data with redundant timestamp for frame odom (parent map) at time 891.733000 according to authority /pose_integrator\u001b[0m\n",
      "\u001b[33m[ WARN] [1743783226.782452523]: TF_REPEATED_DATA ignoring data with redundant timestamp for frame odom (parent map) at time 891.733000 according to authority /pose_integrator\u001b[0m\n",
      "\u001b[33m[ WARN] [1743783226.782489387]: TF_REPEATED_DATA ignoring data with redundant timestamp for frame odom (parent map) at time 891.733000 according to authority /pose_integrator\u001b[0m\n",
      "\u001b[33m[ WARN] [1743783226.782525010]: TF_REPEATED_DATA ignoring data with redundant timestamp for frame odom (parent map) at time 891.733000 according to authority /pose_integrator\u001b[0m\n",
      "\u001b[33m[ WARN] [1743783226.782562851]: TF_REPEATED_DATA ignoring data with redundant timestamp for frame odom (parent map) at time 891.733000 according to authority /pose_integrator\u001b[0m\n"
     ]
    },
    {
     "name": "stderr",
     "output_type": "stream",
     "text": [
      "\u001b[33m[ WARN] [1743783229.966869056]: TF_REPEATED_DATA ignoring data with redundant timestamp for frame odom (parent map) at time 892.573000 according to authority /pose_integrator\u001b[0m\n",
      "\u001b[33m[ WARN] [1743783229.966929821]: TF_REPEATED_DATA ignoring data with redundant timestamp for frame odom (parent map) at time 892.573000 according to authority /pose_integrator\u001b[0m\n",
      "\u001b[33m[ WARN] [1743783229.966979957]: TF_REPEATED_DATA ignoring data with redundant timestamp for frame odom (parent map) at time 892.573000 according to authority /pose_integrator\u001b[0m\n",
      "\u001b[33m[ WARN] [1743783229.967023850]: TF_REPEATED_DATA ignoring data with redundant timestamp for frame odom (parent map) at time 892.573000 according to authority /pose_integrator\u001b[0m\n",
      "\u001b[33m[ WARN] [1743783229.967066545]: TF_REPEATED_DATA ignoring data with redundant timestamp for frame odom (parent map) at time 892.573000 according to authority /pose_integrator\u001b[0m\n",
      "\u001b[33m[ WARN] [1743783229.967101560]: TF_REPEATED_DATA ignoring data with redundant timestamp for frame odom (parent map) at time 892.573000 according to authority /pose_integrator\u001b[0m\n",
      "\u001b[33m[ WARN] [1743783230.336862896]: TF_REPEATED_DATA ignoring data with redundant timestamp for frame odom (parent map) at time 892.650000 according to authority /pose_integrator\u001b[0m\n",
      "\u001b[33m[ WARN] [1743783230.336919535]: TF_REPEATED_DATA ignoring data with redundant timestamp for frame odom (parent map) at time 892.650000 according to authority /pose_integrator\u001b[0m\n",
      "\u001b[33m[ WARN] [1743783230.336971297]: TF_REPEATED_DATA ignoring data with redundant timestamp for frame odom (parent map) at time 892.650000 according to authority /pose_integrator\u001b[0m\n",
      "\u001b[33m[ WARN] [1743783230.337016661]: TF_REPEATED_DATA ignoring data with redundant timestamp for frame odom (parent map) at time 892.650000 according to authority /pose_integrator\u001b[0m\n",
      "\u001b[33m[ WARN] [1743783230.337055230]: TF_REPEATED_DATA ignoring data with redundant timestamp for frame odom (parent map) at time 892.650000 according to authority /pose_integrator\u001b[0m\n",
      "\u001b[33m[ WARN] [1743783230.337093761]: TF_REPEATED_DATA ignoring data with redundant timestamp for frame odom (parent map) at time 892.650000 according to authority /pose_integrator\u001b[0m\n",
      "\u001b[33m[ WARN] [1743783232.924700564]: TF_REPEATED_DATA ignoring data with redundant timestamp for frame odom (parent map) at time 893.302000 according to authority /pose_integrator\u001b[0m\n",
      "\u001b[33m[ WARN] [1743783232.924759988]: TF_REPEATED_DATA ignoring data with redundant timestamp for frame odom (parent map) at time 893.302000 according to authority /pose_integrator\u001b[0m\n",
      "\u001b[33m[ WARN] [1743783232.924798284]: TF_REPEATED_DATA ignoring data with redundant timestamp for frame odom (parent map) at time 893.302000 according to authority /pose_integrator\u001b[0m\n",
      "\u001b[33m[ WARN] [1743783232.924838881]: TF_REPEATED_DATA ignoring data with redundant timestamp for frame odom (parent map) at time 893.302000 according to authority /pose_integrator\u001b[0m\n",
      "\u001b[33m[ WARN] [1743783232.924877225]: TF_REPEATED_DATA ignoring data with redundant timestamp for frame odom (parent map) at time 893.302000 according to authority /pose_integrator\u001b[0m\n",
      "\u001b[33m[ WARN] [1743783232.924911037]: TF_REPEATED_DATA ignoring data with redundant timestamp for frame odom (parent map) at time 893.302000 according to authority /pose_integrator\u001b[0m\n",
      "\u001b[33m[ WARN] [1743783233.454548945]: TF_REPEATED_DATA ignoring data with redundant timestamp for frame odom (parent map) at time 893.435000 according to authority /pose_integrator\u001b[0m\n",
      "\u001b[33m[ WARN] [1743783233.454606397]: TF_REPEATED_DATA ignoring data with redundant timestamp for frame odom (parent map) at time 893.435000 according to authority /pose_integrator\u001b[0m\n",
      "\u001b[33m[ WARN] [1743783233.454645025]: TF_REPEATED_DATA ignoring data with redundant timestamp for frame odom (parent map) at time 893.435000 according to authority /pose_integrator\u001b[0m\n",
      "\u001b[33m[ WARN] [1743783233.454675399]: TF_REPEATED_DATA ignoring data with redundant timestamp for frame odom (parent map) at time 893.435000 according to authority /pose_integrator\u001b[0m\n",
      "\u001b[33m[ WARN] [1743783233.454711356]: TF_REPEATED_DATA ignoring data with redundant timestamp for frame odom (parent map) at time 893.435000 according to authority /pose_integrator\u001b[0m\n",
      "\u001b[33m[ WARN] [1743783233.454748253]: TF_REPEATED_DATA ignoring data with redundant timestamp for frame odom (parent map) at time 893.435000 according to authority /pose_integrator\u001b[0m\n",
      "\u001b[33m[ WARN] [1743783234.333838363]: TF_REPEATED_DATA ignoring data with redundant timestamp for frame odom (parent map) at time 893.659000 according to authority /pose_integrator\u001b[0m\n",
      "\u001b[33m[ WARN] [1743783234.333878023]: TF_REPEATED_DATA ignoring data with redundant timestamp for frame odom (parent map) at time 893.659000 according to authority /pose_integrator\u001b[0m\n",
      "\u001b[33m[ WARN] [1743783234.333901552]: TF_REPEATED_DATA ignoring data with redundant timestamp for frame odom (parent map) at time 893.659000 according to authority /pose_integrator\u001b[0m\n",
      "\u001b[33m[ WARN] [1743783234.333923255]: TF_REPEATED_DATA ignoring data with redundant timestamp for frame odom (parent map) at time 893.659000 according to authority /pose_integrator\u001b[0m\n",
      "\u001b[33m[ WARN] [1743783234.333945803]: TF_REPEATED_DATA ignoring data with redundant timestamp for frame odom (parent map) at time 893.659000 according to authority /pose_integrator\u001b[0m\n",
      "\u001b[33m[ WARN] [1743783234.333971169]: TF_REPEATED_DATA ignoring data with redundant timestamp for frame odom (parent map) at time 893.659000 according to authority /pose_integrator\u001b[0m\n",
      "\u001b[33m[ WARN] [1743783234.484132143]: TF_REPEATED_DATA ignoring data with redundant timestamp for frame odom (parent map) at time 893.712000 according to authority /pose_integrator\u001b[0m\n",
      "\u001b[33m[ WARN] [1743783234.484187690]: TF_REPEATED_DATA ignoring data with redundant timestamp for frame odom (parent map) at time 893.712000 according to authority /pose_integrator\u001b[0m\n",
      "\u001b[33m[ WARN] [1743783234.484212832]: TF_REPEATED_DATA ignoring data with redundant timestamp for frame odom (parent map) at time 893.712000 according to authority /pose_integrator\u001b[0m\n",
      "\u001b[33m[ WARN] [1743783234.484246511]: TF_REPEATED_DATA ignoring data with redundant timestamp for frame odom (parent map) at time 893.712000 according to authority /pose_integrator\u001b[0m\n",
      "\u001b[33m[ WARN] [1743783234.484268912]: TF_REPEATED_DATA ignoring data with redundant timestamp for frame odom (parent map) at time 893.712000 according to authority /pose_integrator\u001b[0m\n",
      "\u001b[33m[ WARN] [1743783234.484297808]: TF_REPEATED_DATA ignoring data with redundant timestamp for frame odom (parent map) at time 893.712000 according to authority /pose_integrator\u001b[0m\n",
      "\u001b[33m[ WARN] [1743783234.920574493]: TF_REPEATED_DATA ignoring data with redundant timestamp for frame odom (parent map) at time 893.841000 according to authority /pose_integrator\u001b[0m\n",
      "\u001b[33m[ WARN] [1743783234.920641664]: TF_REPEATED_DATA ignoring data with redundant timestamp for frame odom (parent map) at time 893.841000 according to authority /pose_integrator\u001b[0m\n",
      "\u001b[33m[ WARN] [1743783234.920696444]: TF_REPEATED_DATA ignoring data with redundant timestamp for frame odom (parent map) at time 893.841000 according to authority /pose_integrator\u001b[0m\n",
      "\u001b[33m[ WARN] [1743783234.920718267]: TF_REPEATED_DATA ignoring data with redundant timestamp for frame odom (parent map) at time 893.841000 according to authority /pose_integrator\u001b[0m\n",
      "\u001b[33m[ WARN] [1743783234.920739451]: TF_REPEATED_DATA ignoring data with redundant timestamp for frame odom (parent map) at time 893.841000 according to authority /pose_integrator\u001b[0m\n",
      "\u001b[33m[ WARN] [1743783234.920762110]: TF_REPEATED_DATA ignoring data with redundant timestamp for frame odom (parent map) at time 893.841000 according to authority /pose_integrator\u001b[0m\n",
      "\u001b[33m[ WARN] [1743783236.158002864]: TF_REPEATED_DATA ignoring data with redundant timestamp for frame odom (parent map) at time 894.226000 according to authority /pose_integrator\u001b[0m\n",
      "\u001b[33m[ WARN] [1743783236.158057700]: TF_REPEATED_DATA ignoring data with redundant timestamp for frame odom (parent map) at time 894.226000 according to authority /pose_integrator\u001b[0m\n",
      "\u001b[33m[ WARN] [1743783236.158099847]: TF_REPEATED_DATA ignoring data with redundant timestamp for frame odom (parent map) at time 894.226000 according to authority /pose_integrator\u001b[0m\n",
      "\u001b[33m[ WARN] [1743783236.158135326]: TF_REPEATED_DATA ignoring data with redundant timestamp for frame odom (parent map) at time 894.226000 according to authority /pose_integrator\u001b[0m\n",
      "\u001b[33m[ WARN] [1743783236.158168024]: TF_REPEATED_DATA ignoring data with redundant timestamp for frame odom (parent map) at time 894.226000 according to authority /pose_integrator\u001b[0m\n",
      "\u001b[33m[ WARN] [1743783236.158207391]: TF_REPEATED_DATA ignoring data with redundant timestamp for frame odom (parent map) at time 894.226000 according to authority /pose_integrator\u001b[0m\n"
     ]
    },
    {
     "name": "stderr",
     "output_type": "stream",
     "text": [
      "\u001b[33m[ WARN] [1743783236.639215809]: TF_REPEATED_DATA ignoring data with redundant timestamp for frame odom (parent map) at time 894.382000 according to authority /pose_integrator\u001b[0m\n",
      "\u001b[33m[ WARN] [1743783236.639289093]: TF_REPEATED_DATA ignoring data with redundant timestamp for frame odom (parent map) at time 894.382000 according to authority /pose_integrator\u001b[0m\n",
      "\u001b[33m[ WARN] [1743783236.639345281]: TF_REPEATED_DATA ignoring data with redundant timestamp for frame odom (parent map) at time 894.382000 according to authority /pose_integrator\u001b[0m\n",
      "\u001b[33m[ WARN] [1743783236.639392914]: TF_REPEATED_DATA ignoring data with redundant timestamp for frame odom (parent map) at time 894.382000 according to authority /pose_integrator\u001b[0m\n",
      "\u001b[33m[ WARN] [1743783236.639437970]: TF_REPEATED_DATA ignoring data with redundant timestamp for frame odom (parent map) at time 894.382000 according to authority /pose_integrator\u001b[0m\n",
      "\u001b[33m[ WARN] [1743783236.639482036]: TF_REPEATED_DATA ignoring data with redundant timestamp for frame odom (parent map) at time 894.382000 according to authority /pose_integrator\u001b[0m\n",
      "\u001b[33m[ WARN] [1743783236.867231435]: TF_REPEATED_DATA ignoring data with redundant timestamp for frame odom (parent map) at time 894.455000 according to authority /pose_integrator\u001b[0m\n",
      "\u001b[33m[ WARN] [1743783236.867304135]: TF_REPEATED_DATA ignoring data with redundant timestamp for frame odom (parent map) at time 894.455000 according to authority /pose_integrator\u001b[0m\n",
      "\u001b[33m[ WARN] [1743783236.867352760]: TF_REPEATED_DATA ignoring data with redundant timestamp for frame odom (parent map) at time 894.455000 according to authority /pose_integrator\u001b[0m\n",
      "\u001b[33m[ WARN] [1743783236.867400441]: TF_REPEATED_DATA ignoring data with redundant timestamp for frame odom (parent map) at time 894.455000 according to authority /pose_integrator\u001b[0m\n",
      "\u001b[33m[ WARN] [1743783236.867435985]: TF_REPEATED_DATA ignoring data with redundant timestamp for frame odom (parent map) at time 894.455000 according to authority /pose_integrator\u001b[0m\n",
      "\u001b[33m[ WARN] [1743783236.867470127]: TF_REPEATED_DATA ignoring data with redundant timestamp for frame odom (parent map) at time 894.455000 according to authority /pose_integrator\u001b[0m\n",
      "\u001b[33m[ WARN] [1743783238.601826258]: TF_REPEATED_DATA ignoring data with redundant timestamp for frame odom (parent map) at time 894.899000 according to authority /pose_integrator\u001b[0m\n",
      "\u001b[33m[ WARN] [1743783238.601879681]: TF_REPEATED_DATA ignoring data with redundant timestamp for frame odom (parent map) at time 894.899000 according to authority /pose_integrator\u001b[0m\n",
      "\u001b[33m[ WARN] [1743783238.601914379]: TF_REPEATED_DATA ignoring data with redundant timestamp for frame odom (parent map) at time 894.899000 according to authority /pose_integrator\u001b[0m\n",
      "\u001b[33m[ WARN] [1743783238.601968421]: TF_REPEATED_DATA ignoring data with redundant timestamp for frame odom (parent map) at time 894.899000 according to authority /pose_integrator\u001b[0m\n",
      "\u001b[33m[ WARN] [1743783238.602013027]: TF_REPEATED_DATA ignoring data with redundant timestamp for frame odom (parent map) at time 894.899000 according to authority /pose_integrator\u001b[0m\n",
      "\u001b[33m[ WARN] [1743783238.602053503]: TF_REPEATED_DATA ignoring data with redundant timestamp for frame odom (parent map) at time 894.899000 according to authority /pose_integrator\u001b[0m\n",
      "\u001b[33m[ WARN] [1743783238.969255991]: TF_REPEATED_DATA ignoring data with redundant timestamp for frame odom (parent map) at time 894.996000 according to authority /pose_integrator\u001b[0m\n",
      "\u001b[33m[ WARN] [1743783238.969318101]: TF_REPEATED_DATA ignoring data with redundant timestamp for frame odom (parent map) at time 894.996000 according to authority /pose_integrator\u001b[0m\n",
      "\u001b[33m[ WARN] [1743783238.969365456]: TF_REPEATED_DATA ignoring data with redundant timestamp for frame odom (parent map) at time 894.996000 according to authority /pose_integrator\u001b[0m\n",
      "\u001b[33m[ WARN] [1743783238.969407922]: TF_REPEATED_DATA ignoring data with redundant timestamp for frame odom (parent map) at time 894.996000 according to authority /pose_integrator\u001b[0m\n",
      "\u001b[33m[ WARN] [1743783238.969445171]: TF_REPEATED_DATA ignoring data with redundant timestamp for frame odom (parent map) at time 894.996000 according to authority /pose_integrator\u001b[0m\n",
      "\u001b[33m[ WARN] [1743783238.969477935]: TF_REPEATED_DATA ignoring data with redundant timestamp for frame odom (parent map) at time 894.996000 according to authority /pose_integrator\u001b[0m\n",
      "\u001b[33m[ WARN] [1743783244.479803897]: TF_REPEATED_DATA ignoring data with redundant timestamp for frame odom (parent map) at time 896.415000 according to authority /pose_integrator\u001b[0m\n",
      "\u001b[33m[ WARN] [1743783244.479869499]: TF_REPEATED_DATA ignoring data with redundant timestamp for frame odom (parent map) at time 896.415000 according to authority /pose_integrator\u001b[0m\n",
      "\u001b[33m[ WARN] [1743783244.479908048]: TF_REPEATED_DATA ignoring data with redundant timestamp for frame odom (parent map) at time 896.415000 according to authority /pose_integrator\u001b[0m\n",
      "\u001b[33m[ WARN] [1743783244.479943107]: TF_REPEATED_DATA ignoring data with redundant timestamp for frame odom (parent map) at time 896.415000 according to authority /pose_integrator\u001b[0m\n",
      "\u001b[33m[ WARN] [1743783244.479977130]: TF_REPEATED_DATA ignoring data with redundant timestamp for frame odom (parent map) at time 896.415000 according to authority /pose_integrator\u001b[0m\n",
      "\u001b[33m[ WARN] [1743783244.480011095]: TF_REPEATED_DATA ignoring data with redundant timestamp for frame odom (parent map) at time 896.415000 according to authority /pose_integrator\u001b[0m\n",
      "\u001b[33m[ WARN] [1743783247.508142342]: TF_REPEATED_DATA ignoring data with redundant timestamp for frame odom (parent map) at time 897.141000 according to authority /pose_integrator\u001b[0m\n",
      "\u001b[33m[ WARN] [1743783247.508221827]: TF_REPEATED_DATA ignoring data with redundant timestamp for frame odom (parent map) at time 897.141000 according to authority /pose_integrator\u001b[0m\n",
      "\u001b[33m[ WARN] [1743783247.508260484]: TF_REPEATED_DATA ignoring data with redundant timestamp for frame odom (parent map) at time 897.141000 according to authority /pose_integrator\u001b[0m\n",
      "\u001b[33m[ WARN] [1743783247.508292220]: TF_REPEATED_DATA ignoring data with redundant timestamp for frame odom (parent map) at time 897.141000 according to authority /pose_integrator\u001b[0m\n",
      "\u001b[33m[ WARN] [1743783247.508326675]: TF_REPEATED_DATA ignoring data with redundant timestamp for frame odom (parent map) at time 897.141000 according to authority /pose_integrator\u001b[0m\n",
      "\u001b[33m[ WARN] [1743783247.508355443]: TF_REPEATED_DATA ignoring data with redundant timestamp for frame odom (parent map) at time 897.141000 according to authority /pose_integrator\u001b[0m\n",
      "\u001b[33m[ WARN] [1743783249.021027935]: TF_REPEATED_DATA ignoring data with redundant timestamp for frame odom (parent map) at time 897.557000 according to authority /pose_integrator\u001b[0m\n",
      "\u001b[33m[ WARN] [1743783249.021072339]: TF_REPEATED_DATA ignoring data with redundant timestamp for frame odom (parent map) at time 897.557000 according to authority /pose_integrator\u001b[0m\n",
      "\u001b[33m[ WARN] [1743783249.021115768]: TF_REPEATED_DATA ignoring data with redundant timestamp for frame odom (parent map) at time 897.557000 according to authority /pose_integrator\u001b[0m\n",
      "\u001b[33m[ WARN] [1743783249.021147696]: TF_REPEATED_DATA ignoring data with redundant timestamp for frame odom (parent map) at time 897.557000 according to authority /pose_integrator\u001b[0m\n",
      "\u001b[33m[ WARN] [1743783249.021173879]: TF_REPEATED_DATA ignoring data with redundant timestamp for frame odom (parent map) at time 897.557000 according to authority /pose_integrator\u001b[0m\n",
      "\u001b[33m[ WARN] [1743783249.021207417]: TF_REPEATED_DATA ignoring data with redundant timestamp for frame odom (parent map) at time 897.557000 according to authority /pose_integrator\u001b[0m\n",
      "\u001b[33m[ WARN] [1743783249.579660953]: TF_REPEATED_DATA ignoring data with redundant timestamp for frame odom (parent map) at time 897.717000 according to authority /pose_integrator\u001b[0m\n",
      "\u001b[33m[ WARN] [1743783249.579744854]: TF_REPEATED_DATA ignoring data with redundant timestamp for frame odom (parent map) at time 897.717000 according to authority /pose_integrator\u001b[0m\n",
      "\u001b[33m[ WARN] [1743783249.579795836]: TF_REPEATED_DATA ignoring data with redundant timestamp for frame odom (parent map) at time 897.717000 according to authority /pose_integrator\u001b[0m\n",
      "\u001b[33m[ WARN] [1743783249.579843138]: TF_REPEATED_DATA ignoring data with redundant timestamp for frame odom (parent map) at time 897.717000 according to authority /pose_integrator\u001b[0m\n",
      "\u001b[33m[ WARN] [1743783249.579888989]: TF_REPEATED_DATA ignoring data with redundant timestamp for frame odom (parent map) at time 897.717000 according to authority /pose_integrator\u001b[0m\n",
      "\u001b[33m[ WARN] [1743783249.579933809]: TF_REPEATED_DATA ignoring data with redundant timestamp for frame odom (parent map) at time 897.717000 according to authority /pose_integrator\u001b[0m\n"
     ]
    },
    {
     "name": "stderr",
     "output_type": "stream",
     "text": [
      "\u001b[33m[ WARN] [1743783252.130339274]: TF_REPEATED_DATA ignoring data with redundant timestamp for frame odom (parent map) at time 898.432000 according to authority /pose_integrator\u001b[0m\n",
      "\u001b[33m[ WARN] [1743783252.130430757]: TF_REPEATED_DATA ignoring data with redundant timestamp for frame odom (parent map) at time 898.432000 according to authority /pose_integrator\u001b[0m\n",
      "\u001b[33m[ WARN] [1743783252.130484362]: TF_REPEATED_DATA ignoring data with redundant timestamp for frame odom (parent map) at time 898.432000 according to authority /pose_integrator\u001b[0m\n",
      "\u001b[33m[ WARN] [1743783252.130527630]: TF_REPEATED_DATA ignoring data with redundant timestamp for frame odom (parent map) at time 898.432000 according to authority /pose_integrator\u001b[0m\n",
      "\u001b[33m[ WARN] [1743783252.130580157]: TF_REPEATED_DATA ignoring data with redundant timestamp for frame odom (parent map) at time 898.432000 according to authority /pose_integrator\u001b[0m\n",
      "\u001b[33m[ WARN] [1743783252.130648343]: TF_REPEATED_DATA ignoring data with redundant timestamp for frame odom (parent map) at time 898.432000 according to authority /pose_integrator\u001b[0m\n",
      "\u001b[33m[ WARN] [1743783253.039441157]: TF_REPEATED_DATA ignoring data with redundant timestamp for frame odom (parent map) at time 898.734000 according to authority /pose_integrator\u001b[0m\n",
      "\u001b[33m[ WARN] [1743783253.039498414]: TF_REPEATED_DATA ignoring data with redundant timestamp for frame odom (parent map) at time 898.734000 according to authority /pose_integrator\u001b[0m\n",
      "\u001b[33m[ WARN] [1743783253.039534667]: TF_REPEATED_DATA ignoring data with redundant timestamp for frame odom (parent map) at time 898.734000 according to authority /pose_integrator\u001b[0m\n",
      "\u001b[33m[ WARN] [1743783253.039561409]: TF_REPEATED_DATA ignoring data with redundant timestamp for frame odom (parent map) at time 898.734000 according to authority /pose_integrator\u001b[0m\n",
      "\u001b[33m[ WARN] [1743783253.039586576]: TF_REPEATED_DATA ignoring data with redundant timestamp for frame odom (parent map) at time 898.734000 according to authority /pose_integrator\u001b[0m\n",
      "\u001b[33m[ WARN] [1743783253.039617528]: TF_REPEATED_DATA ignoring data with redundant timestamp for frame odom (parent map) at time 898.734000 according to authority /pose_integrator\u001b[0m\n",
      "\u001b[33m[ WARN] [1743783253.960159477]: TF_REPEATED_DATA ignoring data with redundant timestamp for frame odom (parent map) at time 899.039000 according to authority /pose_integrator\u001b[0m\n",
      "\u001b[33m[ WARN] [1743783253.960206787]: TF_REPEATED_DATA ignoring data with redundant timestamp for frame odom (parent map) at time 899.039000 according to authority /pose_integrator\u001b[0m\n",
      "\u001b[33m[ WARN] [1743783253.960237086]: TF_REPEATED_DATA ignoring data with redundant timestamp for frame odom (parent map) at time 899.039000 according to authority /pose_integrator\u001b[0m\n",
      "\u001b[33m[ WARN] [1743783253.960263697]: TF_REPEATED_DATA ignoring data with redundant timestamp for frame odom (parent map) at time 899.039000 according to authority /pose_integrator\u001b[0m\n",
      "\u001b[33m[ WARN] [1743783253.960290574]: TF_REPEATED_DATA ignoring data with redundant timestamp for frame odom (parent map) at time 899.039000 according to authority /pose_integrator\u001b[0m\n",
      "\u001b[33m[ WARN] [1743783253.960316438]: TF_REPEATED_DATA ignoring data with redundant timestamp for frame odom (parent map) at time 899.039000 according to authority /pose_integrator\u001b[0m\n",
      "\u001b[33m[ WARN] [1743783257.951652431]: TF_REPEATED_DATA ignoring data with redundant timestamp for frame odom (parent map) at time 900.000000 according to authority /pose_integrator\u001b[0m\n",
      "\u001b[33m[ WARN] [1743783257.952778392]: TF_REPEATED_DATA ignoring data with redundant timestamp for frame odom (parent map) at time 900.000000 according to authority /pose_integrator\u001b[0m\n",
      "\u001b[33m[ WARN] [1743783257.952864262]: TF_REPEATED_DATA ignoring data with redundant timestamp for frame odom (parent map) at time 900.000000 according to authority /pose_integrator\u001b[0m\n",
      "\u001b[33m[ WARN] [1743783257.952897997]: TF_REPEATED_DATA ignoring data with redundant timestamp for frame odom (parent map) at time 900.000000 according to authority /pose_integrator\u001b[0m\n",
      "\u001b[33m[ WARN] [1743783257.952923802]: TF_REPEATED_DATA ignoring data with redundant timestamp for frame odom (parent map) at time 900.000000 according to authority /pose_integrator\u001b[0m\n",
      "\u001b[33m[ WARN] [1743783257.952948222]: TF_REPEATED_DATA ignoring data with redundant timestamp for frame odom (parent map) at time 900.000000 according to authority /pose_integrator\u001b[0m\n",
      "\u001b[33m[ WARN] [1743783258.702132048]: TF_REPEATED_DATA ignoring data with redundant timestamp for frame odom (parent map) at time 900.199000 according to authority /pose_integrator\u001b[0m\n",
      "\u001b[33m[ WARN] [1743783258.702194923]: TF_REPEATED_DATA ignoring data with redundant timestamp for frame odom (parent map) at time 900.199000 according to authority /pose_integrator\u001b[0m\n",
      "\u001b[33m[ WARN] [1743783258.702238991]: TF_REPEATED_DATA ignoring data with redundant timestamp for frame odom (parent map) at time 900.199000 according to authority /pose_integrator\u001b[0m\n",
      "\u001b[33m[ WARN] [1743783258.702287437]: TF_REPEATED_DATA ignoring data with redundant timestamp for frame odom (parent map) at time 900.199000 according to authority /pose_integrator\u001b[0m\n",
      "\u001b[33m[ WARN] [1743783258.702332750]: TF_REPEATED_DATA ignoring data with redundant timestamp for frame odom (parent map) at time 900.199000 according to authority /pose_integrator\u001b[0m\n",
      "\u001b[33m[ WARN] [1743783258.703179659]: TF_REPEATED_DATA ignoring data with redundant timestamp for frame odom (parent map) at time 900.199000 according to authority /pose_integrator\u001b[0m\n",
      "\u001b[33m[ WARN] [1743783259.440817854]: TF_REPEATED_DATA ignoring data with redundant timestamp for frame odom (parent map) at time 900.374000 according to authority /pose_integrator\u001b[0m\n",
      "\u001b[33m[ WARN] [1743783259.440867820]: TF_REPEATED_DATA ignoring data with redundant timestamp for frame odom (parent map) at time 900.374000 according to authority /pose_integrator\u001b[0m\n",
      "\u001b[33m[ WARN] [1743783259.440911242]: TF_REPEATED_DATA ignoring data with redundant timestamp for frame odom (parent map) at time 900.374000 according to authority /pose_integrator\u001b[0m\n",
      "\u001b[33m[ WARN] [1743783259.440953716]: TF_REPEATED_DATA ignoring data with redundant timestamp for frame odom (parent map) at time 900.374000 according to authority /pose_integrator\u001b[0m\n",
      "\u001b[33m[ WARN] [1743783259.440995234]: TF_REPEATED_DATA ignoring data with redundant timestamp for frame odom (parent map) at time 900.374000 according to authority /pose_integrator\u001b[0m\n",
      "\u001b[33m[ WARN] [1743783259.441035356]: TF_REPEATED_DATA ignoring data with redundant timestamp for frame odom (parent map) at time 900.374000 according to authority /pose_integrator\u001b[0m\n",
      "\u001b[33m[ WARN] [1743783260.150221749]: TF_REPEATED_DATA ignoring data with redundant timestamp for frame odom (parent map) at time 900.558000 according to authority /pose_integrator\u001b[0m\n",
      "\u001b[33m[ WARN] [1743783260.150283035]: TF_REPEATED_DATA ignoring data with redundant timestamp for frame odom (parent map) at time 900.558000 according to authority /pose_integrator\u001b[0m\n",
      "\u001b[33m[ WARN] [1743783260.150326669]: TF_REPEATED_DATA ignoring data with redundant timestamp for frame odom (parent map) at time 900.558000 according to authority /pose_integrator\u001b[0m\n",
      "\u001b[33m[ WARN] [1743783260.150358202]: TF_REPEATED_DATA ignoring data with redundant timestamp for frame odom (parent map) at time 900.558000 according to authority /pose_integrator\u001b[0m\n",
      "\u001b[33m[ WARN] [1743783260.150392251]: TF_REPEATED_DATA ignoring data with redundant timestamp for frame odom (parent map) at time 900.558000 according to authority /pose_integrator\u001b[0m\n",
      "\u001b[33m[ WARN] [1743783260.150430518]: TF_REPEATED_DATA ignoring data with redundant timestamp for frame odom (parent map) at time 900.558000 according to authority /pose_integrator\u001b[0m\n",
      "\u001b[33m[ WARN] [1743783262.933018531]: TF_REPEATED_DATA ignoring data with redundant timestamp for frame odom (parent map) at time 901.198000 according to authority /pose_integrator\u001b[0m\n",
      "\u001b[33m[ WARN] [1743783262.933068797]: TF_REPEATED_DATA ignoring data with redundant timestamp for frame odom (parent map) at time 901.198000 according to authority /pose_integrator\u001b[0m\n",
      "\u001b[33m[ WARN] [1743783262.933102005]: TF_REPEATED_DATA ignoring data with redundant timestamp for frame odom (parent map) at time 901.198000 according to authority /pose_integrator\u001b[0m\n",
      "\u001b[33m[ WARN] [1743783262.933132504]: TF_REPEATED_DATA ignoring data with redundant timestamp for frame odom (parent map) at time 901.198000 according to authority /pose_integrator\u001b[0m\n",
      "\u001b[33m[ WARN] [1743783262.933161395]: TF_REPEATED_DATA ignoring data with redundant timestamp for frame odom (parent map) at time 901.198000 according to authority /pose_integrator\u001b[0m\n",
      "\u001b[33m[ WARN] [1743783262.933189570]: TF_REPEATED_DATA ignoring data with redundant timestamp for frame odom (parent map) at time 901.198000 according to authority /pose_integrator\u001b[0m\n"
     ]
    },
    {
     "name": "stderr",
     "output_type": "stream",
     "text": [
      "\u001b[33m[ WARN] [1743783264.965747929]: TF_REPEATED_DATA ignoring data with redundant timestamp for frame odom (parent map) at time 901.697000 according to authority /pose_integrator\u001b[0m\n",
      "\u001b[33m[ WARN] [1743783264.965801134]: TF_REPEATED_DATA ignoring data with redundant timestamp for frame odom (parent map) at time 901.697000 according to authority /pose_integrator\u001b[0m\n",
      "\u001b[33m[ WARN] [1743783264.965838405]: TF_REPEATED_DATA ignoring data with redundant timestamp for frame odom (parent map) at time 901.697000 according to authority /pose_integrator\u001b[0m\n",
      "\u001b[33m[ WARN] [1743783264.965869909]: TF_REPEATED_DATA ignoring data with redundant timestamp for frame odom (parent map) at time 901.697000 according to authority /pose_integrator\u001b[0m\n",
      "\u001b[33m[ WARN] [1743783264.965907452]: TF_REPEATED_DATA ignoring data with redundant timestamp for frame odom (parent map) at time 901.697000 according to authority /pose_integrator\u001b[0m\n",
      "\u001b[33m[ WARN] [1743783264.965946235]: TF_REPEATED_DATA ignoring data with redundant timestamp for frame odom (parent map) at time 901.697000 according to authority /pose_integrator\u001b[0m\n",
      "\u001b[33m[ WARN] [1743783267.132189625]: TF_REPEATED_DATA ignoring data with redundant timestamp for frame odom (parent map) at time 902.257000 according to authority /pose_integrator\u001b[0m\n",
      "\u001b[33m[ WARN] [1743783267.132233161]: TF_REPEATED_DATA ignoring data with redundant timestamp for frame odom (parent map) at time 902.257000 according to authority /pose_integrator\u001b[0m\n",
      "\u001b[33m[ WARN] [1743783267.132263139]: TF_REPEATED_DATA ignoring data with redundant timestamp for frame odom (parent map) at time 902.257000 according to authority /pose_integrator\u001b[0m\n",
      "\u001b[33m[ WARN] [1743783267.132290199]: TF_REPEATED_DATA ignoring data with redundant timestamp for frame odom (parent map) at time 902.257000 according to authority /pose_integrator\u001b[0m\n",
      "\u001b[33m[ WARN] [1743783267.132316408]: TF_REPEATED_DATA ignoring data with redundant timestamp for frame odom (parent map) at time 902.257000 according to authority /pose_integrator\u001b[0m\n",
      "\u001b[33m[ WARN] [1743783267.132341748]: TF_REPEATED_DATA ignoring data with redundant timestamp for frame odom (parent map) at time 902.257000 according to authority /pose_integrator\u001b[0m\n",
      "\u001b[33m[ WARN] [1743783267.597269443]: TF_REPEATED_DATA ignoring data with redundant timestamp for frame odom (parent map) at time 902.397000 according to authority /pose_integrator\u001b[0m\n",
      "\u001b[33m[ WARN] [1743783267.597318996]: TF_REPEATED_DATA ignoring data with redundant timestamp for frame odom (parent map) at time 902.397000 according to authority /pose_integrator\u001b[0m\n",
      "\u001b[33m[ WARN] [1743783267.597358534]: TF_REPEATED_DATA ignoring data with redundant timestamp for frame odom (parent map) at time 902.397000 according to authority /pose_integrator\u001b[0m\n",
      "\u001b[33m[ WARN] [1743783267.597392058]: TF_REPEATED_DATA ignoring data with redundant timestamp for frame odom (parent map) at time 902.397000 according to authority /pose_integrator\u001b[0m\n",
      "\u001b[33m[ WARN] [1743783267.597427715]: TF_REPEATED_DATA ignoring data with redundant timestamp for frame odom (parent map) at time 902.397000 according to authority /pose_integrator\u001b[0m\n",
      "\u001b[33m[ WARN] [1743783267.597467414]: TF_REPEATED_DATA ignoring data with redundant timestamp for frame odom (parent map) at time 902.397000 according to authority /pose_integrator\u001b[0m\n",
      "\u001b[33m[ WARN] [1743783270.442755179]: TF_REPEATED_DATA ignoring data with redundant timestamp for frame odom (parent map) at time 903.178000 according to authority /pose_integrator\u001b[0m\n",
      "\u001b[33m[ WARN] [1743783270.442836337]: TF_REPEATED_DATA ignoring data with redundant timestamp for frame odom (parent map) at time 903.178000 according to authority /pose_integrator\u001b[0m\n",
      "\u001b[33m[ WARN] [1743783270.442876485]: TF_REPEATED_DATA ignoring data with redundant timestamp for frame odom (parent map) at time 903.178000 according to authority /pose_integrator\u001b[0m\n",
      "\u001b[33m[ WARN] [1743783270.442915075]: TF_REPEATED_DATA ignoring data with redundant timestamp for frame odom (parent map) at time 903.178000 according to authority /pose_integrator\u001b[0m\n",
      "\u001b[33m[ WARN] [1743783270.442949142]: TF_REPEATED_DATA ignoring data with redundant timestamp for frame odom (parent map) at time 903.178000 according to authority /pose_integrator\u001b[0m\n",
      "\u001b[33m[ WARN] [1743783270.442980328]: TF_REPEATED_DATA ignoring data with redundant timestamp for frame odom (parent map) at time 903.178000 according to authority /pose_integrator\u001b[0m\n",
      "\u001b[33m[ WARN] [1743783272.371350138]: TF_REPEATED_DATA ignoring data with redundant timestamp for frame odom (parent map) at time 903.712000 according to authority /pose_integrator\u001b[0m\n",
      "\u001b[33m[ WARN] [1743783272.371413391]: TF_REPEATED_DATA ignoring data with redundant timestamp for frame odom (parent map) at time 903.712000 according to authority /pose_integrator\u001b[0m\n",
      "\u001b[33m[ WARN] [1743783272.371452094]: TF_REPEATED_DATA ignoring data with redundant timestamp for frame odom (parent map) at time 903.712000 according to authority /pose_integrator\u001b[0m\n",
      "\u001b[33m[ WARN] [1743783272.371495183]: TF_REPEATED_DATA ignoring data with redundant timestamp for frame odom (parent map) at time 903.712000 according to authority /pose_integrator\u001b[0m\n",
      "\u001b[33m[ WARN] [1743783272.371538539]: TF_REPEATED_DATA ignoring data with redundant timestamp for frame odom (parent map) at time 903.712000 according to authority /pose_integrator\u001b[0m\n",
      "\u001b[33m[ WARN] [1743783272.371579762]: TF_REPEATED_DATA ignoring data with redundant timestamp for frame odom (parent map) at time 903.712000 according to authority /pose_integrator\u001b[0m\n",
      "\u001b[33m[ WARN] [1743783273.128755685]: TF_REPEATED_DATA ignoring data with redundant timestamp for frame odom (parent map) at time 903.894000 according to authority /pose_integrator\u001b[0m\n",
      "\u001b[33m[ WARN] [1743783273.128829401]: TF_REPEATED_DATA ignoring data with redundant timestamp for frame odom (parent map) at time 903.894000 according to authority /pose_integrator\u001b[0m\n",
      "\u001b[33m[ WARN] [1743783273.128859146]: TF_REPEATED_DATA ignoring data with redundant timestamp for frame odom (parent map) at time 903.894000 according to authority /pose_integrator\u001b[0m\n",
      "\u001b[33m[ WARN] [1743783273.128887908]: TF_REPEATED_DATA ignoring data with redundant timestamp for frame odom (parent map) at time 903.894000 according to authority /pose_integrator\u001b[0m\n",
      "\u001b[33m[ WARN] [1743783273.128911649]: TF_REPEATED_DATA ignoring data with redundant timestamp for frame odom (parent map) at time 903.894000 according to authority /pose_integrator\u001b[0m\n",
      "\u001b[33m[ WARN] [1743783273.128934430]: TF_REPEATED_DATA ignoring data with redundant timestamp for frame odom (parent map) at time 903.894000 according to authority /pose_integrator\u001b[0m\n",
      "\u001b[33m[ WARN] [1743783274.482948145]: TF_REPEATED_DATA ignoring data with redundant timestamp for frame odom (parent map) at time 904.261000 according to authority /pose_integrator\u001b[0m\n",
      "\u001b[33m[ WARN] [1743783274.483019612]: TF_REPEATED_DATA ignoring data with redundant timestamp for frame odom (parent map) at time 904.261000 according to authority /pose_integrator\u001b[0m\n",
      "\u001b[33m[ WARN] [1743783274.483068004]: TF_REPEATED_DATA ignoring data with redundant timestamp for frame odom (parent map) at time 904.261000 according to authority /pose_integrator\u001b[0m\n",
      "\u001b[33m[ WARN] [1743783274.483113501]: TF_REPEATED_DATA ignoring data with redundant timestamp for frame odom (parent map) at time 904.261000 according to authority /pose_integrator\u001b[0m\n",
      "\u001b[33m[ WARN] [1743783274.483158320]: TF_REPEATED_DATA ignoring data with redundant timestamp for frame odom (parent map) at time 904.261000 according to authority /pose_integrator\u001b[0m\n",
      "\u001b[33m[ WARN] [1743783274.483201933]: TF_REPEATED_DATA ignoring data with redundant timestamp for frame odom (parent map) at time 904.261000 according to authority /pose_integrator\u001b[0m\n",
      "\u001b[33m[ WARN] [1743783276.338723419]: TF_REPEATED_DATA ignoring data with redundant timestamp for frame odom (parent map) at time 904.781000 according to authority /pose_integrator\u001b[0m\n",
      "\u001b[33m[ WARN] [1743783276.338829812]: TF_REPEATED_DATA ignoring data with redundant timestamp for frame odom (parent map) at time 904.781000 according to authority /pose_integrator\u001b[0m\n",
      "\u001b[33m[ WARN] [1743783276.338882797]: TF_REPEATED_DATA ignoring data with redundant timestamp for frame odom (parent map) at time 904.781000 according to authority /pose_integrator\u001b[0m\n",
      "\u001b[33m[ WARN] [1743783276.338927716]: TF_REPEATED_DATA ignoring data with redundant timestamp for frame odom (parent map) at time 904.781000 according to authority /pose_integrator\u001b[0m\n",
      "\u001b[33m[ WARN] [1743783276.339002869]: TF_REPEATED_DATA ignoring data with redundant timestamp for frame odom (parent map) at time 904.781000 according to authority /pose_integrator\u001b[0m\n",
      "\u001b[33m[ WARN] [1743783276.339047937]: TF_REPEATED_DATA ignoring data with redundant timestamp for frame odom (parent map) at time 904.781000 according to authority /pose_integrator\u001b[0m\n"
     ]
    },
    {
     "name": "stderr",
     "output_type": "stream",
     "text": [
      "\u001b[33m[ WARN] [1743783277.284387869]: TF_REPEATED_DATA ignoring data with redundant timestamp for frame odom (parent map) at time 904.984000 according to authority /pose_integrator\u001b[0m\n",
      "\u001b[33m[ WARN] [1743783277.284445025]: TF_REPEATED_DATA ignoring data with redundant timestamp for frame odom (parent map) at time 904.984000 according to authority /pose_integrator\u001b[0m\n",
      "\u001b[33m[ WARN] [1743783277.284483512]: TF_REPEATED_DATA ignoring data with redundant timestamp for frame odom (parent map) at time 904.984000 according to authority /pose_integrator\u001b[0m\n",
      "\u001b[33m[ WARN] [1743783277.284516726]: TF_REPEATED_DATA ignoring data with redundant timestamp for frame odom (parent map) at time 904.984000 according to authority /pose_integrator\u001b[0m\n",
      "\u001b[33m[ WARN] [1743783277.284549296]: TF_REPEATED_DATA ignoring data with redundant timestamp for frame odom (parent map) at time 904.984000 according to authority /pose_integrator\u001b[0m\n",
      "\u001b[33m[ WARN] [1743783277.284581018]: TF_REPEATED_DATA ignoring data with redundant timestamp for frame odom (parent map) at time 904.984000 according to authority /pose_integrator\u001b[0m\n",
      "\u001b[33m[ WARN] [1743783279.512613392]: TF_REPEATED_DATA ignoring data with redundant timestamp for frame odom (parent map) at time 905.534000 according to authority /pose_integrator\u001b[0m\n",
      "\u001b[33m[ WARN] [1743783279.512677921]: TF_REPEATED_DATA ignoring data with redundant timestamp for frame odom (parent map) at time 905.534000 according to authority /pose_integrator\u001b[0m\n",
      "\u001b[33m[ WARN] [1743783279.512734155]: TF_REPEATED_DATA ignoring data with redundant timestamp for frame odom (parent map) at time 905.534000 according to authority /pose_integrator\u001b[0m\n",
      "\u001b[33m[ WARN] [1743783279.512781001]: TF_REPEATED_DATA ignoring data with redundant timestamp for frame odom (parent map) at time 905.534000 according to authority /pose_integrator\u001b[0m\n",
      "\u001b[33m[ WARN] [1743783279.512828791]: TF_REPEATED_DATA ignoring data with redundant timestamp for frame odom (parent map) at time 905.534000 according to authority /pose_integrator\u001b[0m\n",
      "\u001b[33m[ WARN] [1743783279.512884030]: TF_REPEATED_DATA ignoring data with redundant timestamp for frame odom (parent map) at time 905.534000 according to authority /pose_integrator\u001b[0m\n",
      "\u001b[33m[ WARN] [1743783280.187200832]: TF_REPEATED_DATA ignoring data with redundant timestamp for frame odom (parent map) at time 905.723000 according to authority /pose_integrator\u001b[0m\n",
      "\u001b[33m[ WARN] [1743783280.187269964]: TF_REPEATED_DATA ignoring data with redundant timestamp for frame odom (parent map) at time 905.723000 according to authority /pose_integrator\u001b[0m\n",
      "\u001b[33m[ WARN] [1743783280.187317441]: TF_REPEATED_DATA ignoring data with redundant timestamp for frame odom (parent map) at time 905.723000 according to authority /pose_integrator\u001b[0m\n",
      "\u001b[33m[ WARN] [1743783280.187361006]: TF_REPEATED_DATA ignoring data with redundant timestamp for frame odom (parent map) at time 905.723000 according to authority /pose_integrator\u001b[0m\n",
      "\u001b[33m[ WARN] [1743783280.187402379]: TF_REPEATED_DATA ignoring data with redundant timestamp for frame odom (parent map) at time 905.723000 according to authority /pose_integrator\u001b[0m\n",
      "\u001b[33m[ WARN] [1743783280.187446886]: TF_REPEATED_DATA ignoring data with redundant timestamp for frame odom (parent map) at time 905.723000 according to authority /pose_integrator\u001b[0m\n",
      "\u001b[33m[ WARN] [1743783280.474245519]: TF_REPEATED_DATA ignoring data with redundant timestamp for frame odom (parent map) at time 905.803000 according to authority /pose_integrator\u001b[0m\n",
      "\u001b[33m[ WARN] [1743783280.474320911]: TF_REPEATED_DATA ignoring data with redundant timestamp for frame odom (parent map) at time 905.803000 according to authority /pose_integrator\u001b[0m\n",
      "\u001b[33m[ WARN] [1743783280.474375440]: TF_REPEATED_DATA ignoring data with redundant timestamp for frame odom (parent map) at time 905.803000 according to authority /pose_integrator\u001b[0m\n",
      "\u001b[33m[ WARN] [1743783280.474425511]: TF_REPEATED_DATA ignoring data with redundant timestamp for frame odom (parent map) at time 905.803000 according to authority /pose_integrator\u001b[0m\n",
      "\u001b[33m[ WARN] [1743783280.474475083]: TF_REPEATED_DATA ignoring data with redundant timestamp for frame odom (parent map) at time 905.803000 according to authority /pose_integrator\u001b[0m\n",
      "\u001b[33m[ WARN] [1743783280.474525722]: TF_REPEATED_DATA ignoring data with redundant timestamp for frame odom (parent map) at time 905.803000 according to authority /pose_integrator\u001b[0m\n",
      "\u001b[33m[ WARN] [1743783280.783842371]: TF_REPEATED_DATA ignoring data with redundant timestamp for frame odom (parent map) at time 905.899000 according to authority /pose_integrator\u001b[0m\n",
      "\u001b[33m[ WARN] [1743783280.783896245]: TF_REPEATED_DATA ignoring data with redundant timestamp for frame odom (parent map) at time 905.899000 according to authority /pose_integrator\u001b[0m\n",
      "\u001b[33m[ WARN] [1743783280.783935317]: TF_REPEATED_DATA ignoring data with redundant timestamp for frame odom (parent map) at time 905.899000 according to authority /pose_integrator\u001b[0m\n",
      "\u001b[33m[ WARN] [1743783280.783975600]: TF_REPEATED_DATA ignoring data with redundant timestamp for frame odom (parent map) at time 905.899000 according to authority /pose_integrator\u001b[0m\n",
      "\u001b[33m[ WARN] [1743783280.784015784]: TF_REPEATED_DATA ignoring data with redundant timestamp for frame odom (parent map) at time 905.899000 according to authority /pose_integrator\u001b[0m\n",
      "\u001b[33m[ WARN] [1743783280.784047061]: TF_REPEATED_DATA ignoring data with redundant timestamp for frame odom (parent map) at time 905.899000 according to authority /pose_integrator\u001b[0m\n",
      "\u001b[33m[ WARN] [1743783281.064183036]: TF_REPEATED_DATA ignoring data with redundant timestamp for frame odom (parent map) at time 905.989000 according to authority /pose_integrator\u001b[0m\n",
      "\u001b[33m[ WARN] [1743783281.064246147]: TF_REPEATED_DATA ignoring data with redundant timestamp for frame odom (parent map) at time 905.989000 according to authority /pose_integrator\u001b[0m\n",
      "\u001b[33m[ WARN] [1743783281.064293257]: TF_REPEATED_DATA ignoring data with redundant timestamp for frame odom (parent map) at time 905.989000 according to authority /pose_integrator\u001b[0m\n",
      "\u001b[33m[ WARN] [1743783281.064335023]: TF_REPEATED_DATA ignoring data with redundant timestamp for frame odom (parent map) at time 905.989000 according to authority /pose_integrator\u001b[0m\n",
      "\u001b[33m[ WARN] [1743783281.064372967]: TF_REPEATED_DATA ignoring data with redundant timestamp for frame odom (parent map) at time 905.989000 according to authority /pose_integrator\u001b[0m\n",
      "\u001b[33m[ WARN] [1743783281.064415121]: TF_REPEATED_DATA ignoring data with redundant timestamp for frame odom (parent map) at time 905.989000 according to authority /pose_integrator\u001b[0m\n",
      "\u001b[33m[ WARN] [1743783281.834573493]: TF_REPEATED_DATA ignoring data with redundant timestamp for frame odom (parent map) at time 906.201000 according to authority /pose_integrator\u001b[0m\n",
      "\u001b[33m[ WARN] [1743783281.834620001]: TF_REPEATED_DATA ignoring data with redundant timestamp for frame odom (parent map) at time 906.201000 according to authority /pose_integrator\u001b[0m\n",
      "\u001b[33m[ WARN] [1743783281.834646268]: TF_REPEATED_DATA ignoring data with redundant timestamp for frame odom (parent map) at time 906.201000 according to authority /pose_integrator\u001b[0m\n",
      "\u001b[33m[ WARN] [1743783281.834669804]: TF_REPEATED_DATA ignoring data with redundant timestamp for frame odom (parent map) at time 906.201000 according to authority /pose_integrator\u001b[0m\n",
      "\u001b[33m[ WARN] [1743783281.834699816]: TF_REPEATED_DATA ignoring data with redundant timestamp for frame odom (parent map) at time 906.201000 according to authority /pose_integrator\u001b[0m\n",
      "\u001b[33m[ WARN] [1743783281.834731014]: TF_REPEATED_DATA ignoring data with redundant timestamp for frame odom (parent map) at time 906.201000 according to authority /pose_integrator\u001b[0m\n",
      "\u001b[33m[ WARN] [1743783283.438027560]: TF_REPEATED_DATA ignoring data with redundant timestamp for frame odom (parent map) at time 906.638000 according to authority /pose_integrator\u001b[0m\n",
      "\u001b[33m[ WARN] [1743783283.438074175]: TF_REPEATED_DATA ignoring data with redundant timestamp for frame odom (parent map) at time 906.638000 according to authority /pose_integrator\u001b[0m\n",
      "\u001b[33m[ WARN] [1743783283.438102852]: TF_REPEATED_DATA ignoring data with redundant timestamp for frame odom (parent map) at time 906.638000 according to authority /pose_integrator\u001b[0m\n",
      "\u001b[33m[ WARN] [1743783283.438128201]: TF_REPEATED_DATA ignoring data with redundant timestamp for frame odom (parent map) at time 906.638000 according to authority /pose_integrator\u001b[0m\n",
      "\u001b[33m[ WARN] [1743783283.438152630]: TF_REPEATED_DATA ignoring data with redundant timestamp for frame odom (parent map) at time 906.638000 according to authority /pose_integrator\u001b[0m\n",
      "\u001b[33m[ WARN] [1743783283.438177038]: TF_REPEATED_DATA ignoring data with redundant timestamp for frame odom (parent map) at time 906.638000 according to authority /pose_integrator\u001b[0m\n",
      "\u001b[33m[ WARN] [1743783283.624116918]: TF_REPEATED_DATA ignoring data with redundant timestamp for frame odom (parent map) at time 906.698000 according to authority /pose_integrator\u001b[0m\n",
      "\u001b[33m[ WARN] [1743783283.624180909]: TF_REPEATED_DATA ignoring data with redundant timestamp for frame odom (parent map) at time 906.698000 according to authority /pose_integrator\u001b[0m\n",
      "\u001b[33m[ WARN] [1743783283.624222346]: TF_REPEATED_DATA ignoring data with redundant timestamp for frame odom (parent map) at time 906.698000 according to authority /pose_integrator\u001b[0m\n",
      "\u001b[33m[ WARN] [1743783283.624266438]: TF_REPEATED_DATA ignoring data with redundant timestamp for frame odom (parent map) at time 906.698000 according to authority /pose_integrator\u001b[0m\n",
      "\u001b[33m[ WARN] [1743783283.624297247]: TF_REPEATED_DATA ignoring data with redundant timestamp for frame odom (parent map) at time 906.698000 according to authority /pose_integrator\u001b[0m\n",
      "\u001b[33m[ WARN] [1743783283.624324774]: TF_REPEATED_DATA ignoring data with redundant timestamp for frame odom (parent map) at time 906.698000 according to authority /pose_integrator\u001b[0m\n"
     ]
    },
    {
     "name": "stderr",
     "output_type": "stream",
     "text": [
      "\u001b[33m[ WARN] [1743783284.572312084]: TF_REPEATED_DATA ignoring data with redundant timestamp for frame odom (parent map) at time 906.986000 according to authority /pose_integrator\u001b[0m\n",
      "\u001b[33m[ WARN] [1743783284.572357138]: TF_REPEATED_DATA ignoring data with redundant timestamp for frame odom (parent map) at time 906.986000 according to authority /pose_integrator\u001b[0m\n",
      "\u001b[33m[ WARN] [1743783284.572394289]: TF_REPEATED_DATA ignoring data with redundant timestamp for frame odom (parent map) at time 906.986000 according to authority /pose_integrator\u001b[0m\n",
      "\u001b[33m[ WARN] [1743783284.572420984]: TF_REPEATED_DATA ignoring data with redundant timestamp for frame odom (parent map) at time 906.986000 according to authority /pose_integrator\u001b[0m\n",
      "\u001b[33m[ WARN] [1743783284.572444649]: TF_REPEATED_DATA ignoring data with redundant timestamp for frame odom (parent map) at time 906.986000 according to authority /pose_integrator\u001b[0m\n",
      "\u001b[33m[ WARN] [1743783284.572468359]: TF_REPEATED_DATA ignoring data with redundant timestamp for frame odom (parent map) at time 906.986000 according to authority /pose_integrator\u001b[0m\n",
      "\u001b[33m[ WARN] [1743783284.864009448]: TF_REPEATED_DATA ignoring data with redundant timestamp for frame odom (parent map) at time 907.082000 according to authority /pose_integrator\u001b[0m\n",
      "\u001b[33m[ WARN] [1743783284.864079401]: TF_REPEATED_DATA ignoring data with redundant timestamp for frame odom (parent map) at time 907.082000 according to authority /pose_integrator\u001b[0m\n",
      "\u001b[33m[ WARN] [1743783284.864125418]: TF_REPEATED_DATA ignoring data with redundant timestamp for frame odom (parent map) at time 907.082000 according to authority /pose_integrator\u001b[0m\n",
      "\u001b[33m[ WARN] [1743783284.864170327]: TF_REPEATED_DATA ignoring data with redundant timestamp for frame odom (parent map) at time 907.082000 according to authority /pose_integrator\u001b[0m\n",
      "\u001b[33m[ WARN] [1743783284.864213873]: TF_REPEATED_DATA ignoring data with redundant timestamp for frame odom (parent map) at time 907.082000 according to authority /pose_integrator\u001b[0m\n",
      "\u001b[33m[ WARN] [1743783284.864255181]: TF_REPEATED_DATA ignoring data with redundant timestamp for frame odom (parent map) at time 907.082000 according to authority /pose_integrator\u001b[0m\n",
      "\u001b[33m[ WARN] [1743783285.060885825]: TF_REPEATED_DATA ignoring data with redundant timestamp for frame odom (parent map) at time 907.130000 according to authority /pose_integrator\u001b[0m\n",
      "\u001b[33m[ WARN] [1743783285.060931192]: TF_REPEATED_DATA ignoring data with redundant timestamp for frame odom (parent map) at time 907.130000 according to authority /pose_integrator\u001b[0m\n",
      "\u001b[33m[ WARN] [1743783285.060962760]: TF_REPEATED_DATA ignoring data with redundant timestamp for frame odom (parent map) at time 907.130000 according to authority /pose_integrator\u001b[0m\n",
      "\u001b[33m[ WARN] [1743783285.060992051]: TF_REPEATED_DATA ignoring data with redundant timestamp for frame odom (parent map) at time 907.130000 according to authority /pose_integrator\u001b[0m\n",
      "\u001b[33m[ WARN] [1743783285.061026153]: TF_REPEATED_DATA ignoring data with redundant timestamp for frame odom (parent map) at time 907.130000 according to authority /pose_integrator\u001b[0m\n",
      "\u001b[33m[ WARN] [1743783285.061067873]: TF_REPEATED_DATA ignoring data with redundant timestamp for frame odom (parent map) at time 907.130000 according to authority /pose_integrator\u001b[0m\n",
      "\u001b[33m[ WARN] [1743783285.341341468]: TF_REPEATED_DATA ignoring data with redundant timestamp for frame odom (parent map) at time 907.220000 according to authority /pose_integrator\u001b[0m\n",
      "\u001b[33m[ WARN] [1743783285.341413480]: TF_REPEATED_DATA ignoring data with redundant timestamp for frame odom (parent map) at time 907.220000 according to authority /pose_integrator\u001b[0m\n",
      "\u001b[33m[ WARN] [1743783285.341465357]: TF_REPEATED_DATA ignoring data with redundant timestamp for frame odom (parent map) at time 907.220000 according to authority /pose_integrator\u001b[0m\n",
      "\u001b[33m[ WARN] [1743783285.341516918]: TF_REPEATED_DATA ignoring data with redundant timestamp for frame odom (parent map) at time 907.220000 according to authority /pose_integrator\u001b[0m\n",
      "\u001b[33m[ WARN] [1743783285.341566639]: TF_REPEATED_DATA ignoring data with redundant timestamp for frame odom (parent map) at time 907.220000 according to authority /pose_integrator\u001b[0m\n",
      "\u001b[33m[ WARN] [1743783285.341615362]: TF_REPEATED_DATA ignoring data with redundant timestamp for frame odom (parent map) at time 907.220000 according to authority /pose_integrator\u001b[0m\n",
      "\u001b[33m[ WARN] [1743783286.379774432]: TF_REPEATED_DATA ignoring data with redundant timestamp for frame odom (parent map) at time 907.496000 according to authority /pose_integrator\u001b[0m\n",
      "\u001b[33m[ WARN] [1743783286.380901260]: TF_REPEATED_DATA ignoring data with redundant timestamp for frame odom (parent map) at time 907.496000 according to authority /pose_integrator\u001b[0m\n",
      "\u001b[33m[ WARN] [1743783286.380982135]: TF_REPEATED_DATA ignoring data with redundant timestamp for frame odom (parent map) at time 907.496000 according to authority /pose_integrator\u001b[0m\n",
      "\u001b[33m[ WARN] [1743783286.381028328]: TF_REPEATED_DATA ignoring data with redundant timestamp for frame odom (parent map) at time 907.496000 according to authority /pose_integrator\u001b[0m\n",
      "\u001b[33m[ WARN] [1743783286.381078712]: TF_REPEATED_DATA ignoring data with redundant timestamp for frame odom (parent map) at time 907.496000 according to authority /pose_integrator\u001b[0m\n",
      "\u001b[33m[ WARN] [1743783286.381125982]: TF_REPEATED_DATA ignoring data with redundant timestamp for frame odom (parent map) at time 907.496000 according to authority /pose_integrator\u001b[0m\n",
      "\u001b[33m[ WARN] [1743783288.543304909]: TF_REPEATED_DATA ignoring data with redundant timestamp for frame odom (parent map) at time 908.066000 according to authority /pose_integrator\u001b[0m\n",
      "\u001b[33m[ WARN] [1743783288.543357078]: TF_REPEATED_DATA ignoring data with redundant timestamp for frame odom (parent map) at time 908.066000 according to authority /pose_integrator\u001b[0m\n",
      "\u001b[33m[ WARN] [1743783288.543394005]: TF_REPEATED_DATA ignoring data with redundant timestamp for frame odom (parent map) at time 908.066000 according to authority /pose_integrator\u001b[0m\n",
      "\u001b[33m[ WARN] [1743783288.543434522]: TF_REPEATED_DATA ignoring data with redundant timestamp for frame odom (parent map) at time 908.066000 according to authority /pose_integrator\u001b[0m\n",
      "\u001b[33m[ WARN] [1743783288.543479021]: TF_REPEATED_DATA ignoring data with redundant timestamp for frame odom (parent map) at time 908.066000 according to authority /pose_integrator\u001b[0m\n",
      "\u001b[33m[ WARN] [1743783288.543522610]: TF_REPEATED_DATA ignoring data with redundant timestamp for frame odom (parent map) at time 908.066000 according to authority /pose_integrator\u001b[0m\n",
      "\u001b[33m[ WARN] [1743783289.680270736]: TF_REPEATED_DATA ignoring data with redundant timestamp for frame odom (parent map) at time 908.359000 according to authority /pose_integrator\u001b[0m\n",
      "\u001b[33m[ WARN] [1743783289.680335685]: TF_REPEATED_DATA ignoring data with redundant timestamp for frame odom (parent map) at time 908.359000 according to authority /pose_integrator\u001b[0m\n",
      "\u001b[33m[ WARN] [1743783289.680373742]: TF_REPEATED_DATA ignoring data with redundant timestamp for frame odom (parent map) at time 908.359000 according to authority /pose_integrator\u001b[0m\n",
      "\u001b[33m[ WARN] [1743783289.680412232]: TF_REPEATED_DATA ignoring data with redundant timestamp for frame odom (parent map) at time 908.359000 according to authority /pose_integrator\u001b[0m\n",
      "\u001b[33m[ WARN] [1743783289.680450973]: TF_REPEATED_DATA ignoring data with redundant timestamp for frame odom (parent map) at time 908.359000 according to authority /pose_integrator\u001b[0m\n",
      "\u001b[33m[ WARN] [1743783289.680493846]: TF_REPEATED_DATA ignoring data with redundant timestamp for frame odom (parent map) at time 908.359000 according to authority /pose_integrator\u001b[0m\n",
      "\u001b[33m[ WARN] [1743783290.408796147]: TF_REPEATED_DATA ignoring data with redundant timestamp for frame odom (parent map) at time 908.573000 according to authority /pose_integrator\u001b[0m\n",
      "\u001b[33m[ WARN] [1743783290.408874103]: TF_REPEATED_DATA ignoring data with redundant timestamp for frame odom (parent map) at time 908.573000 according to authority /pose_integrator\u001b[0m\n",
      "\u001b[33m[ WARN] [1743783290.408908040]: TF_REPEATED_DATA ignoring data with redundant timestamp for frame odom (parent map) at time 908.573000 according to authority /pose_integrator\u001b[0m\n",
      "\u001b[33m[ WARN] [1743783290.408943628]: TF_REPEATED_DATA ignoring data with redundant timestamp for frame odom (parent map) at time 908.573000 according to authority /pose_integrator\u001b[0m\n",
      "\u001b[33m[ WARN] [1743783290.408974283]: TF_REPEATED_DATA ignoring data with redundant timestamp for frame odom (parent map) at time 908.573000 according to authority /pose_integrator\u001b[0m\n",
      "\u001b[33m[ WARN] [1743783290.409004380]: TF_REPEATED_DATA ignoring data with redundant timestamp for frame odom (parent map) at time 908.573000 according to authority /pose_integrator\u001b[0m\n",
      "\u001b[33m[ WARN] [1743783290.549142736]: TF_REPEATED_DATA ignoring data with redundant timestamp for frame odom (parent map) at time 908.622000 according to authority /pose_integrator\u001b[0m\n",
      "\u001b[33m[ WARN] [1743783290.549192843]: TF_REPEATED_DATA ignoring data with redundant timestamp for frame odom (parent map) at time 908.622000 according to authority /pose_integrator\u001b[0m\n",
      "\u001b[33m[ WARN] [1743783290.549226771]: TF_REPEATED_DATA ignoring data with redundant timestamp for frame odom (parent map) at time 908.622000 according to authority /pose_integrator\u001b[0m\n",
      "\u001b[33m[ WARN] [1743783290.549254269]: TF_REPEATED_DATA ignoring data with redundant timestamp for frame odom (parent map) at time 908.622000 according to authority /pose_integrator\u001b[0m\n",
      "\u001b[33m[ WARN] [1743783290.549286631]: TF_REPEATED_DATA ignoring data with redundant timestamp for frame odom (parent map) at time 908.622000 according to authority /pose_integrator\u001b[0m\n",
      "\u001b[33m[ WARN] [1743783290.549317514]: TF_REPEATED_DATA ignoring data with redundant timestamp for frame odom (parent map) at time 908.622000 according to authority /pose_integrator\u001b[0m\n"
     ]
    },
    {
     "name": "stderr",
     "output_type": "stream",
     "text": [
      "\u001b[33m[ WARN] [1743783291.595441149]: TF_REPEATED_DATA ignoring data with redundant timestamp for frame odom (parent map) at time 908.939000 according to authority /pose_integrator\u001b[0m\n",
      "\u001b[33m[ WARN] [1743783291.595513066]: TF_REPEATED_DATA ignoring data with redundant timestamp for frame odom (parent map) at time 908.939000 according to authority /pose_integrator\u001b[0m\n",
      "\u001b[33m[ WARN] [1743783291.595565270]: TF_REPEATED_DATA ignoring data with redundant timestamp for frame odom (parent map) at time 908.939000 according to authority /pose_integrator\u001b[0m\n",
      "\u001b[33m[ WARN] [1743783291.595607321]: TF_REPEATED_DATA ignoring data with redundant timestamp for frame odom (parent map) at time 908.939000 according to authority /pose_integrator\u001b[0m\n",
      "\u001b[33m[ WARN] [1743783291.595668323]: TF_REPEATED_DATA ignoring data with redundant timestamp for frame odom (parent map) at time 908.939000 according to authority /pose_integrator\u001b[0m\n",
      "\u001b[33m[ WARN] [1743783291.595713903]: TF_REPEATED_DATA ignoring data with redundant timestamp for frame odom (parent map) at time 908.939000 according to authority /pose_integrator\u001b[0m\n",
      "\u001b[33m[ WARN] [1743783292.022897943]: TF_REPEATED_DATA ignoring data with redundant timestamp for frame odom (parent map) at time 909.056000 according to authority /pose_integrator\u001b[0m\n",
      "\u001b[33m[ WARN] [1743783292.022961361]: TF_REPEATED_DATA ignoring data with redundant timestamp for frame odom (parent map) at time 909.056000 according to authority /pose_integrator\u001b[0m\n",
      "\u001b[33m[ WARN] [1743783292.023009261]: TF_REPEATED_DATA ignoring data with redundant timestamp for frame odom (parent map) at time 909.056000 according to authority /pose_integrator\u001b[0m\n",
      "\u001b[33m[ WARN] [1743783292.023050365]: TF_REPEATED_DATA ignoring data with redundant timestamp for frame odom (parent map) at time 909.056000 according to authority /pose_integrator\u001b[0m\n",
      "\u001b[33m[ WARN] [1743783292.023089810]: TF_REPEATED_DATA ignoring data with redundant timestamp for frame odom (parent map) at time 909.056000 according to authority /pose_integrator\u001b[0m\n",
      "\u001b[33m[ WARN] [1743783292.023132080]: TF_REPEATED_DATA ignoring data with redundant timestamp for frame odom (parent map) at time 909.056000 according to authority /pose_integrator\u001b[0m\n",
      "\u001b[33m[ WARN] [1743783292.859422706]: TF_REPEATED_DATA ignoring data with redundant timestamp for frame odom (parent map) at time 909.256000 according to authority /pose_integrator\u001b[0m\n",
      "\u001b[33m[ WARN] [1743783292.859493054]: TF_REPEATED_DATA ignoring data with redundant timestamp for frame odom (parent map) at time 909.256000 according to authority /pose_integrator\u001b[0m\n",
      "\u001b[33m[ WARN] [1743783292.859531060]: TF_REPEATED_DATA ignoring data with redundant timestamp for frame odom (parent map) at time 909.256000 according to authority /pose_integrator\u001b[0m\n",
      "\u001b[33m[ WARN] [1743783292.859562739]: TF_REPEATED_DATA ignoring data with redundant timestamp for frame odom (parent map) at time 909.256000 according to authority /pose_integrator\u001b[0m\n",
      "\u001b[33m[ WARN] [1743783292.859601450]: TF_REPEATED_DATA ignoring data with redundant timestamp for frame odom (parent map) at time 909.256000 according to authority /pose_integrator\u001b[0m\n",
      "\u001b[33m[ WARN] [1743783292.859646463]: TF_REPEATED_DATA ignoring data with redundant timestamp for frame odom (parent map) at time 909.256000 according to authority /pose_integrator\u001b[0m\n",
      "\u001b[33m[ WARN] [1743783294.690837837]: TF_REPEATED_DATA ignoring data with redundant timestamp for frame odom (parent map) at time 909.697000 according to authority /pose_integrator\u001b[0m\n",
      "\u001b[33m[ WARN] [1743783294.690896815]: TF_REPEATED_DATA ignoring data with redundant timestamp for frame odom (parent map) at time 909.697000 according to authority /pose_integrator\u001b[0m\n",
      "\u001b[33m[ WARN] [1743783294.690924677]: TF_REPEATED_DATA ignoring data with redundant timestamp for frame odom (parent map) at time 909.697000 according to authority /pose_integrator\u001b[0m\n",
      "\u001b[33m[ WARN] [1743783294.690955315]: TF_REPEATED_DATA ignoring data with redundant timestamp for frame odom (parent map) at time 909.697000 according to authority /pose_integrator\u001b[0m\n",
      "\u001b[33m[ WARN] [1743783294.690986322]: TF_REPEATED_DATA ignoring data with redundant timestamp for frame odom (parent map) at time 909.697000 according to authority /pose_integrator\u001b[0m\n",
      "\u001b[33m[ WARN] [1743783294.691012449]: TF_REPEATED_DATA ignoring data with redundant timestamp for frame odom (parent map) at time 909.697000 according to authority /pose_integrator\u001b[0m\n",
      "\u001b[33m[ WARN] [1743783294.986268414]: TF_REPEATED_DATA ignoring data with redundant timestamp for frame odom (parent map) at time 909.771000 according to authority /pose_integrator\u001b[0m\n",
      "\u001b[33m[ WARN] [1743783294.986313360]: TF_REPEATED_DATA ignoring data with redundant timestamp for frame odom (parent map) at time 909.771000 according to authority /pose_integrator\u001b[0m\n",
      "\u001b[33m[ WARN] [1743783294.986340436]: TF_REPEATED_DATA ignoring data with redundant timestamp for frame odom (parent map) at time 909.771000 according to authority /pose_integrator\u001b[0m\n",
      "\u001b[33m[ WARN] [1743783294.986364248]: TF_REPEATED_DATA ignoring data with redundant timestamp for frame odom (parent map) at time 909.771000 according to authority /pose_integrator\u001b[0m\n",
      "\u001b[33m[ WARN] [1743783294.986389718]: TF_REPEATED_DATA ignoring data with redundant timestamp for frame odom (parent map) at time 909.771000 according to authority /pose_integrator\u001b[0m\n",
      "\u001b[33m[ WARN] [1743783294.986415907]: TF_REPEATED_DATA ignoring data with redundant timestamp for frame odom (parent map) at time 909.771000 according to authority /pose_integrator\u001b[0m\n",
      "\u001b[33m[ WARN] [1743783298.755158182]: TF_REPEATED_DATA ignoring data with redundant timestamp for frame odom (parent map) at time 910.735000 according to authority /pose_integrator\u001b[0m\n",
      "\u001b[33m[ WARN] [1743783298.755200934]: TF_REPEATED_DATA ignoring data with redundant timestamp for frame odom (parent map) at time 910.735000 according to authority /pose_integrator\u001b[0m\n",
      "\u001b[33m[ WARN] [1743783298.755239272]: TF_REPEATED_DATA ignoring data with redundant timestamp for frame odom (parent map) at time 910.735000 according to authority /pose_integrator\u001b[0m\n",
      "\u001b[33m[ WARN] [1743783298.755289200]: TF_REPEATED_DATA ignoring data with redundant timestamp for frame odom (parent map) at time 910.735000 according to authority /pose_integrator\u001b[0m\n",
      "\u001b[33m[ WARN] [1743783298.755336663]: TF_REPEATED_DATA ignoring data with redundant timestamp for frame odom (parent map) at time 910.735000 according to authority /pose_integrator\u001b[0m\n",
      "\u001b[33m[ WARN] [1743783298.755374145]: TF_REPEATED_DATA ignoring data with redundant timestamp for frame odom (parent map) at time 910.735000 according to authority /pose_integrator\u001b[0m\n",
      "\u001b[33m[ WARN] [1743783299.121698250]: TF_REPEATED_DATA ignoring data with redundant timestamp for frame odom (parent map) at time 910.845000 according to authority /pose_integrator\u001b[0m\n",
      "\u001b[33m[ WARN] [1743783299.121752339]: TF_REPEATED_DATA ignoring data with redundant timestamp for frame odom (parent map) at time 910.845000 according to authority /pose_integrator\u001b[0m\n",
      "\u001b[33m[ WARN] [1743783299.121785561]: TF_REPEATED_DATA ignoring data with redundant timestamp for frame odom (parent map) at time 910.845000 according to authority /pose_integrator\u001b[0m\n",
      "\u001b[33m[ WARN] [1743783299.121824626]: TF_REPEATED_DATA ignoring data with redundant timestamp for frame odom (parent map) at time 910.845000 according to authority /pose_integrator\u001b[0m\n",
      "\u001b[33m[ WARN] [1743783299.121857113]: TF_REPEATED_DATA ignoring data with redundant timestamp for frame odom (parent map) at time 910.845000 according to authority /pose_integrator\u001b[0m\n",
      "\u001b[33m[ WARN] [1743783299.121890913]: TF_REPEATED_DATA ignoring data with redundant timestamp for frame odom (parent map) at time 910.845000 according to authority /pose_integrator\u001b[0m\n",
      "\u001b[33m[ WARN] [1743783299.464630143]: TF_REPEATED_DATA ignoring data with redundant timestamp for frame odom (parent map) at time 910.965000 according to authority /pose_integrator\u001b[0m\n",
      "\u001b[33m[ WARN] [1743783299.464695806]: TF_REPEATED_DATA ignoring data with redundant timestamp for frame odom (parent map) at time 910.965000 according to authority /pose_integrator\u001b[0m\n",
      "\u001b[33m[ WARN] [1743783299.464747000]: TF_REPEATED_DATA ignoring data with redundant timestamp for frame odom (parent map) at time 910.965000 according to authority /pose_integrator\u001b[0m\n",
      "\u001b[33m[ WARN] [1743783299.464781799]: TF_REPEATED_DATA ignoring data with redundant timestamp for frame odom (parent map) at time 910.965000 according to authority /pose_integrator\u001b[0m\n",
      "\u001b[33m[ WARN] [1743783299.464830882]: TF_REPEATED_DATA ignoring data with redundant timestamp for frame odom (parent map) at time 910.965000 according to authority /pose_integrator\u001b[0m\n",
      "\u001b[33m[ WARN] [1743783299.464884082]: TF_REPEATED_DATA ignoring data with redundant timestamp for frame odom (parent map) at time 910.965000 according to authority /pose_integrator\u001b[0m\n"
     ]
    },
    {
     "name": "stderr",
     "output_type": "stream",
     "text": [
      "\u001b[33m[ WARN] [1743783301.341889120]: TF_REPEATED_DATA ignoring data with redundant timestamp for frame odom (parent map) at time 911.419000 according to authority /pose_integrator\u001b[0m\n",
      "\u001b[33m[ WARN] [1743783301.341950760]: TF_REPEATED_DATA ignoring data with redundant timestamp for frame odom (parent map) at time 911.419000 according to authority /pose_integrator\u001b[0m\n",
      "\u001b[33m[ WARN] [1743783301.341982938]: TF_REPEATED_DATA ignoring data with redundant timestamp for frame odom (parent map) at time 911.419000 according to authority /pose_integrator\u001b[0m\n",
      "\u001b[33m[ WARN] [1743783301.342021313]: TF_REPEATED_DATA ignoring data with redundant timestamp for frame odom (parent map) at time 911.419000 according to authority /pose_integrator\u001b[0m\n",
      "\u001b[33m[ WARN] [1743783301.342062975]: TF_REPEATED_DATA ignoring data with redundant timestamp for frame odom (parent map) at time 911.419000 according to authority /pose_integrator\u001b[0m\n",
      "\u001b[33m[ WARN] [1743783301.342100661]: TF_REPEATED_DATA ignoring data with redundant timestamp for frame odom (parent map) at time 911.419000 according to authority /pose_integrator\u001b[0m\n",
      "\u001b[33m[ WARN] [1743783301.714770127]: TF_REPEATED_DATA ignoring data with redundant timestamp for frame odom (parent map) at time 911.518000 according to authority /pose_integrator\u001b[0m\n",
      "\u001b[33m[ WARN] [1743783301.714817208]: TF_REPEATED_DATA ignoring data with redundant timestamp for frame odom (parent map) at time 911.518000 according to authority /pose_integrator\u001b[0m\n",
      "\u001b[33m[ WARN] [1743783301.714848097]: TF_REPEATED_DATA ignoring data with redundant timestamp for frame odom (parent map) at time 911.518000 according to authority /pose_integrator\u001b[0m\n",
      "\u001b[33m[ WARN] [1743783301.714895562]: TF_REPEATED_DATA ignoring data with redundant timestamp for frame odom (parent map) at time 911.518000 according to authority /pose_integrator\u001b[0m\n",
      "\u001b[33m[ WARN] [1743783301.714929765]: TF_REPEATED_DATA ignoring data with redundant timestamp for frame odom (parent map) at time 911.518000 according to authority /pose_integrator\u001b[0m\n",
      "\u001b[33m[ WARN] [1743783301.714962359]: TF_REPEATED_DATA ignoring data with redundant timestamp for frame odom (parent map) at time 911.518000 according to authority /pose_integrator\u001b[0m\n",
      "\u001b[33m[ WARN] [1743783303.811058024]: TF_REPEATED_DATA ignoring data with redundant timestamp for frame odom (parent map) at time 911.991000 according to authority /pose_integrator\u001b[0m\n",
      "\u001b[33m[ WARN] [1743783303.811108237]: TF_REPEATED_DATA ignoring data with redundant timestamp for frame odom (parent map) at time 911.991000 according to authority /pose_integrator\u001b[0m\n",
      "\u001b[33m[ WARN] [1743783303.811152379]: TF_REPEATED_DATA ignoring data with redundant timestamp for frame odom (parent map) at time 911.991000 according to authority /pose_integrator\u001b[0m\n",
      "\u001b[33m[ WARN] [1743783303.811192447]: TF_REPEATED_DATA ignoring data with redundant timestamp for frame odom (parent map) at time 911.991000 according to authority /pose_integrator\u001b[0m\n",
      "\u001b[33m[ WARN] [1743783303.811283370]: TF_REPEATED_DATA ignoring data with redundant timestamp for frame odom (parent map) at time 911.991000 according to authority /pose_integrator\u001b[0m\n",
      "\u001b[33m[ WARN] [1743783303.811319880]: TF_REPEATED_DATA ignoring data with redundant timestamp for frame odom (parent map) at time 911.991000 according to authority /pose_integrator\u001b[0m\n",
      "\u001b[33m[ WARN] [1743783304.061366671]: TF_REPEATED_DATA ignoring data with redundant timestamp for frame odom (parent map) at time 912.058000 according to authority /pose_integrator\u001b[0m\n",
      "\u001b[33m[ WARN] [1743783304.061424343]: TF_REPEATED_DATA ignoring data with redundant timestamp for frame odom (parent map) at time 912.058000 according to authority /pose_integrator\u001b[0m\n",
      "\u001b[33m[ WARN] [1743783304.061465558]: TF_REPEATED_DATA ignoring data with redundant timestamp for frame odom (parent map) at time 912.058000 according to authority /pose_integrator\u001b[0m\n",
      "\u001b[33m[ WARN] [1743783304.061492236]: TF_REPEATED_DATA ignoring data with redundant timestamp for frame odom (parent map) at time 912.058000 according to authority /pose_integrator\u001b[0m\n",
      "\u001b[33m[ WARN] [1743783304.061517016]: TF_REPEATED_DATA ignoring data with redundant timestamp for frame odom (parent map) at time 912.058000 according to authority /pose_integrator\u001b[0m\n",
      "\u001b[33m[ WARN] [1743783304.061544437]: TF_REPEATED_DATA ignoring data with redundant timestamp for frame odom (parent map) at time 912.058000 according to authority /pose_integrator\u001b[0m\n",
      "\u001b[33m[ WARN] [1743783305.174942218]: TF_REPEATED_DATA ignoring data with redundant timestamp for frame odom (parent map) at time 912.264000 according to authority /pose_integrator\u001b[0m\n",
      "\u001b[33m[ WARN] [1743783305.175000551]: TF_REPEATED_DATA ignoring data with redundant timestamp for frame odom (parent map) at time 912.264000 according to authority /pose_integrator\u001b[0m\n",
      "\u001b[33m[ WARN] [1743783305.175049787]: TF_REPEATED_DATA ignoring data with redundant timestamp for frame odom (parent map) at time 912.264000 according to authority /pose_integrator\u001b[0m\n",
      "\u001b[33m[ WARN] [1743783305.175089578]: TF_REPEATED_DATA ignoring data with redundant timestamp for frame odom (parent map) at time 912.264000 according to authority /pose_integrator\u001b[0m\n",
      "\u001b[33m[ WARN] [1743783305.175124190]: TF_REPEATED_DATA ignoring data with redundant timestamp for frame odom (parent map) at time 912.264000 according to authority /pose_integrator\u001b[0m\n",
      "\u001b[33m[ WARN] [1743783305.175152456]: TF_REPEATED_DATA ignoring data with redundant timestamp for frame odom (parent map) at time 912.264000 according to authority /pose_integrator\u001b[0m\n",
      "\u001b[33m[ WARN] [1743783306.479593006]: TF_REPEATED_DATA ignoring data with redundant timestamp for frame odom (parent map) at time 912.542000 according to authority /pose_integrator\u001b[0m\n",
      "\u001b[33m[ WARN] [1743783306.479651496]: TF_REPEATED_DATA ignoring data with redundant timestamp for frame odom (parent map) at time 912.542000 according to authority /pose_integrator\u001b[0m\n",
      "\u001b[33m[ WARN] [1743783306.479687500]: TF_REPEATED_DATA ignoring data with redundant timestamp for frame odom (parent map) at time 912.542000 according to authority /pose_integrator\u001b[0m\n",
      "\u001b[33m[ WARN] [1743783306.479727270]: TF_REPEATED_DATA ignoring data with redundant timestamp for frame odom (parent map) at time 912.542000 according to authority /pose_integrator\u001b[0m\n",
      "\u001b[33m[ WARN] [1743783306.479763496]: TF_REPEATED_DATA ignoring data with redundant timestamp for frame odom (parent map) at time 912.542000 according to authority /pose_integrator\u001b[0m\n",
      "\u001b[33m[ WARN] [1743783306.479812268]: TF_REPEATED_DATA ignoring data with redundant timestamp for frame odom (parent map) at time 912.542000 according to authority /pose_integrator\u001b[0m\n",
      "\u001b[33m[ WARN] [1743783309.072626243]: TF_REPEATED_DATA ignoring data with redundant timestamp for frame odom (parent map) at time 913.148000 according to authority /pose_integrator\u001b[0m\n",
      "\u001b[33m[ WARN] [1743783309.072703349]: TF_REPEATED_DATA ignoring data with redundant timestamp for frame odom (parent map) at time 913.148000 according to authority /pose_integrator\u001b[0m\n",
      "\u001b[33m[ WARN] [1743783309.072742362]: TF_REPEATED_DATA ignoring data with redundant timestamp for frame odom (parent map) at time 913.148000 according to authority /pose_integrator\u001b[0m\n",
      "\u001b[33m[ WARN] [1743783309.072774650]: TF_REPEATED_DATA ignoring data with redundant timestamp for frame odom (parent map) at time 913.148000 according to authority /pose_integrator\u001b[0m\n",
      "\u001b[33m[ WARN] [1743783309.072814137]: TF_REPEATED_DATA ignoring data with redundant timestamp for frame odom (parent map) at time 913.148000 according to authority /pose_integrator\u001b[0m\n",
      "\u001b[33m[ WARN] [1743783309.072848180]: TF_REPEATED_DATA ignoring data with redundant timestamp for frame odom (parent map) at time 913.148000 according to authority /pose_integrator\u001b[0m\n",
      "\u001b[33m[ WARN] [1743783309.411406258]: TF_REPEATED_DATA ignoring data with redundant timestamp for frame odom (parent map) at time 913.219000 according to authority /pose_integrator\u001b[0m\n",
      "\u001b[33m[ WARN] [1743783309.411455002]: TF_REPEATED_DATA ignoring data with redundant timestamp for frame odom (parent map) at time 913.219000 according to authority /pose_integrator\u001b[0m\n",
      "\u001b[33m[ WARN] [1743783309.411487043]: TF_REPEATED_DATA ignoring data with redundant timestamp for frame odom (parent map) at time 913.219000 according to authority /pose_integrator\u001b[0m\n",
      "\u001b[33m[ WARN] [1743783309.411515893]: TF_REPEATED_DATA ignoring data with redundant timestamp for frame odom (parent map) at time 913.219000 according to authority /pose_integrator\u001b[0m\n",
      "\u001b[33m[ WARN] [1743783309.411552811]: TF_REPEATED_DATA ignoring data with redundant timestamp for frame odom (parent map) at time 913.219000 according to authority /pose_integrator\u001b[0m\n",
      "\u001b[33m[ WARN] [1743783309.411584413]: TF_REPEATED_DATA ignoring data with redundant timestamp for frame odom (parent map) at time 913.219000 according to authority /pose_integrator\u001b[0m\n"
     ]
    },
    {
     "name": "stderr",
     "output_type": "stream",
     "text": [
      "\u001b[33m[ WARN] [1743783309.966868854]: TF_REPEATED_DATA ignoring data with redundant timestamp for frame odom (parent map) at time 913.350000 according to authority /pose_integrator\u001b[0m\n",
      "\u001b[33m[ WARN] [1743783309.966942330]: TF_REPEATED_DATA ignoring data with redundant timestamp for frame odom (parent map) at time 913.350000 according to authority /pose_integrator\u001b[0m\n",
      "\u001b[33m[ WARN] [1743783309.966982337]: TF_REPEATED_DATA ignoring data with redundant timestamp for frame odom (parent map) at time 913.350000 according to authority /pose_integrator\u001b[0m\n",
      "\u001b[33m[ WARN] [1743783309.967020475]: TF_REPEATED_DATA ignoring data with redundant timestamp for frame odom (parent map) at time 913.350000 according to authority /pose_integrator\u001b[0m\n",
      "\u001b[33m[ WARN] [1743783309.967056976]: TF_REPEATED_DATA ignoring data with redundant timestamp for frame odom (parent map) at time 913.350000 according to authority /pose_integrator\u001b[0m\n",
      "\u001b[33m[ WARN] [1743783309.967093874]: TF_REPEATED_DATA ignoring data with redundant timestamp for frame odom (parent map) at time 913.350000 according to authority /pose_integrator\u001b[0m\n",
      "\u001b[33m[ WARN] [1743783310.700308744]: TF_REPEATED_DATA ignoring data with redundant timestamp for frame odom (parent map) at time 913.519000 according to authority /pose_integrator\u001b[0m\n",
      "\u001b[33m[ WARN] [1743783310.700370943]: TF_REPEATED_DATA ignoring data with redundant timestamp for frame odom (parent map) at time 913.519000 according to authority /pose_integrator\u001b[0m\n",
      "\u001b[33m[ WARN] [1743783310.700407033]: TF_REPEATED_DATA ignoring data with redundant timestamp for frame odom (parent map) at time 913.519000 according to authority /pose_integrator\u001b[0m\n",
      "\u001b[33m[ WARN] [1743783310.700441715]: TF_REPEATED_DATA ignoring data with redundant timestamp for frame odom (parent map) at time 913.519000 according to authority /pose_integrator\u001b[0m\n",
      "\u001b[33m[ WARN] [1743783310.700474918]: TF_REPEATED_DATA ignoring data with redundant timestamp for frame odom (parent map) at time 913.519000 according to authority /pose_integrator\u001b[0m\n",
      "\u001b[33m[ WARN] [1743783310.700508365]: TF_REPEATED_DATA ignoring data with redundant timestamp for frame odom (parent map) at time 913.519000 according to authority /pose_integrator\u001b[0m\n",
      "\u001b[33m[ WARN] [1743783312.569317812]: TF_REPEATED_DATA ignoring data with redundant timestamp for frame odom (parent map) at time 913.951000 according to authority /pose_integrator\u001b[0m\n",
      "\u001b[33m[ WARN] [1743783312.569389277]: TF_REPEATED_DATA ignoring data with redundant timestamp for frame odom (parent map) at time 913.951000 according to authority /pose_integrator\u001b[0m\n",
      "\u001b[33m[ WARN] [1743783312.569435654]: TF_REPEATED_DATA ignoring data with redundant timestamp for frame odom (parent map) at time 913.951000 according to authority /pose_integrator\u001b[0m\n",
      "\u001b[33m[ WARN] [1743783312.569481546]: TF_REPEATED_DATA ignoring data with redundant timestamp for frame odom (parent map) at time 913.951000 according to authority /pose_integrator\u001b[0m\n",
      "\u001b[33m[ WARN] [1743783312.569522824]: TF_REPEATED_DATA ignoring data with redundant timestamp for frame odom (parent map) at time 913.951000 according to authority /pose_integrator\u001b[0m\n",
      "\u001b[33m[ WARN] [1743783312.569565217]: TF_REPEATED_DATA ignoring data with redundant timestamp for frame odom (parent map) at time 913.951000 according to authority /pose_integrator\u001b[0m\n",
      "\u001b[33m[ WARN] [1743783314.869446386]: TF_REPEATED_DATA ignoring data with redundant timestamp for frame odom (parent map) at time 914.476000 according to authority /pose_integrator\u001b[0m\n",
      "\u001b[33m[ WARN] [1743783314.869504616]: TF_REPEATED_DATA ignoring data with redundant timestamp for frame odom (parent map) at time 914.476000 according to authority /pose_integrator\u001b[0m\n",
      "\u001b[33m[ WARN] [1743783314.869539766]: TF_REPEATED_DATA ignoring data with redundant timestamp for frame odom (parent map) at time 914.476000 according to authority /pose_integrator\u001b[0m\n",
      "\u001b[33m[ WARN] [1743783314.869580026]: TF_REPEATED_DATA ignoring data with redundant timestamp for frame odom (parent map) at time 914.476000 according to authority /pose_integrator\u001b[0m\n",
      "\u001b[33m[ WARN] [1743783314.869612670]: TF_REPEATED_DATA ignoring data with redundant timestamp for frame odom (parent map) at time 914.476000 according to authority /pose_integrator\u001b[0m\n",
      "\u001b[33m[ WARN] [1743783314.869648140]: TF_REPEATED_DATA ignoring data with redundant timestamp for frame odom (parent map) at time 914.476000 according to authority /pose_integrator\u001b[0m\n",
      "\u001b[33m[ WARN] [1743783315.434330934]: TF_REPEATED_DATA ignoring data with redundant timestamp for frame odom (parent map) at time 914.615000 according to authority /pose_integrator\u001b[0m\n",
      "\u001b[33m[ WARN] [1743783315.434376934]: TF_REPEATED_DATA ignoring data with redundant timestamp for frame odom (parent map) at time 914.615000 according to authority /pose_integrator\u001b[0m\n",
      "\u001b[33m[ WARN] [1743783315.434417264]: TF_REPEATED_DATA ignoring data with redundant timestamp for frame odom (parent map) at time 914.615000 according to authority /pose_integrator\u001b[0m\n",
      "\u001b[33m[ WARN] [1743783315.434448809]: TF_REPEATED_DATA ignoring data with redundant timestamp for frame odom (parent map) at time 914.615000 according to authority /pose_integrator\u001b[0m\n",
      "\u001b[33m[ WARN] [1743783315.434479237]: TF_REPEATED_DATA ignoring data with redundant timestamp for frame odom (parent map) at time 914.615000 according to authority /pose_integrator\u001b[0m\n",
      "\u001b[33m[ WARN] [1743783315.434515507]: TF_REPEATED_DATA ignoring data with redundant timestamp for frame odom (parent map) at time 914.615000 according to authority /pose_integrator\u001b[0m\n",
      "\u001b[33m[ WARN] [1743783316.184474442]: TF_REPEATED_DATA ignoring data with redundant timestamp for frame odom (parent map) at time 914.834000 according to authority /pose_integrator\u001b[0m\n",
      "\u001b[33m[ WARN] [1743783316.184520668]: TF_REPEATED_DATA ignoring data with redundant timestamp for frame odom (parent map) at time 914.834000 according to authority /pose_integrator\u001b[0m\n",
      "\u001b[33m[ WARN] [1743783316.184547924]: TF_REPEATED_DATA ignoring data with redundant timestamp for frame odom (parent map) at time 914.834000 according to authority /pose_integrator\u001b[0m\n",
      "\u001b[33m[ WARN] [1743783316.184574683]: TF_REPEATED_DATA ignoring data with redundant timestamp for frame odom (parent map) at time 914.834000 according to authority /pose_integrator\u001b[0m\n",
      "\u001b[33m[ WARN] [1743783316.184601638]: TF_REPEATED_DATA ignoring data with redundant timestamp for frame odom (parent map) at time 914.834000 according to authority /pose_integrator\u001b[0m\n",
      "\u001b[33m[ WARN] [1743783316.184641800]: TF_REPEATED_DATA ignoring data with redundant timestamp for frame odom (parent map) at time 914.834000 according to authority /pose_integrator\u001b[0m\n",
      "\u001b[33m[ WARN] [1743783316.492865919]: TF_REPEATED_DATA ignoring data with redundant timestamp for frame odom (parent map) at time 914.925000 according to authority /pose_integrator\u001b[0m\n",
      "\u001b[33m[ WARN] [1743783316.492939678]: TF_REPEATED_DATA ignoring data with redundant timestamp for frame odom (parent map) at time 914.925000 according to authority /pose_integrator\u001b[0m\n",
      "\u001b[33m[ WARN] [1743783316.492995762]: TF_REPEATED_DATA ignoring data with redundant timestamp for frame odom (parent map) at time 914.925000 according to authority /pose_integrator\u001b[0m\n",
      "\u001b[33m[ WARN] [1743783316.493038876]: TF_REPEATED_DATA ignoring data with redundant timestamp for frame odom (parent map) at time 914.925000 according to authority /pose_integrator\u001b[0m\n",
      "\u001b[33m[ WARN] [1743783316.493081765]: TF_REPEATED_DATA ignoring data with redundant timestamp for frame odom (parent map) at time 914.925000 according to authority /pose_integrator\u001b[0m\n",
      "\u001b[33m[ WARN] [1743783316.493118754]: TF_REPEATED_DATA ignoring data with redundant timestamp for frame odom (parent map) at time 914.925000 according to authority /pose_integrator\u001b[0m\n",
      "\u001b[33m[ WARN] [1743783320.176661709]: TF_REPEATED_DATA ignoring data with redundant timestamp for frame odom (parent map) at time 915.889000 according to authority /pose_integrator\u001b[0m\n",
      "\u001b[33m[ WARN] [1743783320.176725741]: TF_REPEATED_DATA ignoring data with redundant timestamp for frame odom (parent map) at time 915.889000 according to authority /pose_integrator\u001b[0m\n",
      "\u001b[33m[ WARN] [1743783320.176768686]: TF_REPEATED_DATA ignoring data with redundant timestamp for frame odom (parent map) at time 915.889000 according to authority /pose_integrator\u001b[0m\n",
      "\u001b[33m[ WARN] [1743783320.176808429]: TF_REPEATED_DATA ignoring data with redundant timestamp for frame odom (parent map) at time 915.889000 according to authority /pose_integrator\u001b[0m\n",
      "\u001b[33m[ WARN] [1743783320.176844138]: TF_REPEATED_DATA ignoring data with redundant timestamp for frame odom (parent map) at time 915.889000 according to authority /pose_integrator\u001b[0m\n",
      "\u001b[33m[ WARN] [1743783320.176875233]: TF_REPEATED_DATA ignoring data with redundant timestamp for frame odom (parent map) at time 915.889000 according to authority /pose_integrator\u001b[0m\n",
      "\u001b[33m[ WARN] [1743783320.342705420]: TF_REPEATED_DATA ignoring data with redundant timestamp for frame odom (parent map) at time 915.941000 according to authority /pose_integrator\u001b[0m\n",
      "\u001b[33m[ WARN] [1743783320.342973916]: TF_REPEATED_DATA ignoring data with redundant timestamp for frame odom (parent map) at time 915.941000 according to authority /pose_integrator\u001b[0m\n",
      "\u001b[33m[ WARN] [1743783320.343024387]: TF_REPEATED_DATA ignoring data with redundant timestamp for frame odom (parent map) at time 915.941000 according to authority /pose_integrator\u001b[0m\n",
      "\u001b[33m[ WARN] [1743783320.343071359]: TF_REPEATED_DATA ignoring data with redundant timestamp for frame odom (parent map) at time 915.941000 according to authority /pose_integrator\u001b[0m\n",
      "\u001b[33m[ WARN] [1743783320.343104523]: TF_REPEATED_DATA ignoring data with redundant timestamp for frame odom (parent map) at time 915.941000 according to authority /pose_integrator\u001b[0m\n",
      "\u001b[33m[ WARN] [1743783320.343139217]: TF_REPEATED_DATA ignoring data with redundant timestamp for frame odom (parent map) at time 915.941000 according to authority /pose_integrator\u001b[0m\n"
     ]
    },
    {
     "name": "stderr",
     "output_type": "stream",
     "text": [
      "\u001b[33m[ WARN] [1743783321.839599745]: TF_REPEATED_DATA ignoring data with redundant timestamp for frame odom (parent map) at time 916.307000 according to authority /pose_integrator\u001b[0m\n",
      "\u001b[33m[ WARN] [1743783321.839648170]: TF_REPEATED_DATA ignoring data with redundant timestamp for frame odom (parent map) at time 916.307000 according to authority /pose_integrator\u001b[0m\n",
      "\u001b[33m[ WARN] [1743783321.839679133]: TF_REPEATED_DATA ignoring data with redundant timestamp for frame odom (parent map) at time 916.307000 according to authority /pose_integrator\u001b[0m\n",
      "\u001b[33m[ WARN] [1743783321.839709122]: TF_REPEATED_DATA ignoring data with redundant timestamp for frame odom (parent map) at time 916.307000 according to authority /pose_integrator\u001b[0m\n",
      "\u001b[33m[ WARN] [1743783321.839754514]: TF_REPEATED_DATA ignoring data with redundant timestamp for frame odom (parent map) at time 916.307000 according to authority /pose_integrator\u001b[0m\n",
      "\u001b[33m[ WARN] [1743783321.839785462]: TF_REPEATED_DATA ignoring data with redundant timestamp for frame odom (parent map) at time 916.307000 according to authority /pose_integrator\u001b[0m\n",
      "\u001b[33m[ WARN] [1743783322.874674824]: TF_REPEATED_DATA ignoring data with redundant timestamp for frame odom (parent map) at time 916.505000 according to authority /pose_integrator\u001b[0m\n",
      "\u001b[33m[ WARN] [1743783322.874727795]: TF_REPEATED_DATA ignoring data with redundant timestamp for frame odom (parent map) at time 916.505000 according to authority /pose_integrator\u001b[0m\n",
      "\u001b[33m[ WARN] [1743783322.874764607]: TF_REPEATED_DATA ignoring data with redundant timestamp for frame odom (parent map) at time 916.505000 according to authority /pose_integrator\u001b[0m\n",
      "\u001b[33m[ WARN] [1743783322.874800182]: TF_REPEATED_DATA ignoring data with redundant timestamp for frame odom (parent map) at time 916.505000 according to authority /pose_integrator\u001b[0m\n",
      "\u001b[33m[ WARN] [1743783322.874828157]: TF_REPEATED_DATA ignoring data with redundant timestamp for frame odom (parent map) at time 916.505000 according to authority /pose_integrator\u001b[0m\n",
      "\u001b[33m[ WARN] [1743783322.874854022]: TF_REPEATED_DATA ignoring data with redundant timestamp for frame odom (parent map) at time 916.505000 according to authority /pose_integrator\u001b[0m\n",
      "\u001b[33m[ WARN] [1743783323.763717190]: TF_REPEATED_DATA ignoring data with redundant timestamp for frame odom (parent map) at time 916.701000 according to authority /pose_integrator\u001b[0m\n",
      "\u001b[33m[ WARN] [1743783323.763783716]: TF_REPEATED_DATA ignoring data with redundant timestamp for frame odom (parent map) at time 916.701000 according to authority /pose_integrator\u001b[0m\n",
      "\u001b[33m[ WARN] [1743783323.763833031]: TF_REPEATED_DATA ignoring data with redundant timestamp for frame odom (parent map) at time 916.701000 according to authority /pose_integrator\u001b[0m\n",
      "\u001b[33m[ WARN] [1743783323.763883750]: TF_REPEATED_DATA ignoring data with redundant timestamp for frame odom (parent map) at time 916.701000 according to authority /pose_integrator\u001b[0m\n",
      "\u001b[33m[ WARN] [1743783323.763923980]: TF_REPEATED_DATA ignoring data with redundant timestamp for frame odom (parent map) at time 916.701000 according to authority /pose_integrator\u001b[0m\n",
      "\u001b[33m[ WARN] [1743783323.763979279]: TF_REPEATED_DATA ignoring data with redundant timestamp for frame odom (parent map) at time 916.701000 according to authority /pose_integrator\u001b[0m\n",
      "\u001b[33m[ WARN] [1743783325.490822482]: TF_REPEATED_DATA ignoring data with redundant timestamp for frame odom (parent map) at time 917.026000 according to authority /pose_integrator\u001b[0m\n",
      "\u001b[33m[ WARN] [1743783325.490872300]: TF_REPEATED_DATA ignoring data with redundant timestamp for frame odom (parent map) at time 917.026000 according to authority /pose_integrator\u001b[0m\n",
      "\u001b[33m[ WARN] [1743783325.490912679]: TF_REPEATED_DATA ignoring data with redundant timestamp for frame odom (parent map) at time 917.026000 according to authority /pose_integrator\u001b[0m\n",
      "\u001b[33m[ WARN] [1743783325.490946481]: TF_REPEATED_DATA ignoring data with redundant timestamp for frame odom (parent map) at time 917.026000 according to authority /pose_integrator\u001b[0m\n",
      "\u001b[33m[ WARN] [1743783325.490975098]: TF_REPEATED_DATA ignoring data with redundant timestamp for frame odom (parent map) at time 917.026000 according to authority /pose_integrator\u001b[0m\n",
      "\u001b[33m[ WARN] [1743783325.491007769]: TF_REPEATED_DATA ignoring data with redundant timestamp for frame odom (parent map) at time 917.026000 according to authority /pose_integrator\u001b[0m\n",
      "\u001b[33m[ WARN] [1743783325.777249413]: TF_REPEATED_DATA ignoring data with redundant timestamp for frame odom (parent map) at time 917.094000 according to authority /pose_integrator\u001b[0m\n",
      "\u001b[33m[ WARN] [1743783325.777323925]: TF_REPEATED_DATA ignoring data with redundant timestamp for frame odom (parent map) at time 917.094000 according to authority /pose_integrator\u001b[0m\n",
      "\u001b[33m[ WARN] [1743783325.777410588]: TF_REPEATED_DATA ignoring data with redundant timestamp for frame odom (parent map) at time 917.094000 according to authority /pose_integrator\u001b[0m\n",
      "\u001b[33m[ WARN] [1743783325.777465172]: TF_REPEATED_DATA ignoring data with redundant timestamp for frame odom (parent map) at time 917.094000 according to authority /pose_integrator\u001b[0m\n",
      "\u001b[33m[ WARN] [1743783325.777518209]: TF_REPEATED_DATA ignoring data with redundant timestamp for frame odom (parent map) at time 917.094000 according to authority /pose_integrator\u001b[0m\n",
      "\u001b[33m[ WARN] [1743783325.777570681]: TF_REPEATED_DATA ignoring data with redundant timestamp for frame odom (parent map) at time 917.094000 according to authority /pose_integrator\u001b[0m\n",
      "\u001b[33m[ WARN] [1743783326.213222915]: TF_REPEATED_DATA ignoring data with redundant timestamp for frame odom (parent map) at time 917.188000 according to authority /pose_integrator\u001b[0m\n",
      "\u001b[33m[ WARN] [1743783326.213273394]: TF_REPEATED_DATA ignoring data with redundant timestamp for frame odom (parent map) at time 917.188000 according to authority /pose_integrator\u001b[0m\n",
      "\u001b[33m[ WARN] [1743783326.213306585]: TF_REPEATED_DATA ignoring data with redundant timestamp for frame odom (parent map) at time 917.188000 according to authority /pose_integrator\u001b[0m\n",
      "\u001b[33m[ WARN] [1743783326.213336790]: TF_REPEATED_DATA ignoring data with redundant timestamp for frame odom (parent map) at time 917.188000 according to authority /pose_integrator\u001b[0m\n",
      "\u001b[33m[ WARN] [1743783326.213369337]: TF_REPEATED_DATA ignoring data with redundant timestamp for frame odom (parent map) at time 917.188000 according to authority /pose_integrator\u001b[0m\n",
      "\u001b[33m[ WARN] [1743783326.213405796]: TF_REPEATED_DATA ignoring data with redundant timestamp for frame odom (parent map) at time 917.188000 according to authority /pose_integrator\u001b[0m\n",
      "\u001b[33m[ WARN] [1743783327.881254752]: TF_REPEATED_DATA ignoring data with redundant timestamp for frame odom (parent map) at time 917.529000 according to authority /pose_integrator\u001b[0m\n",
      "\u001b[33m[ WARN] [1743783327.881296907]: TF_REPEATED_DATA ignoring data with redundant timestamp for frame odom (parent map) at time 917.529000 according to authority /pose_integrator\u001b[0m\n",
      "\u001b[33m[ WARN] [1743783327.881324754]: TF_REPEATED_DATA ignoring data with redundant timestamp for frame odom (parent map) at time 917.529000 according to authority /pose_integrator\u001b[0m\n",
      "\u001b[33m[ WARN] [1743783327.881349244]: TF_REPEATED_DATA ignoring data with redundant timestamp for frame odom (parent map) at time 917.529000 according to authority /pose_integrator\u001b[0m\n",
      "\u001b[33m[ WARN] [1743783327.881376237]: TF_REPEATED_DATA ignoring data with redundant timestamp for frame odom (parent map) at time 917.529000 according to authority /pose_integrator\u001b[0m\n",
      "\u001b[33m[ WARN] [1743783327.881410762]: TF_REPEATED_DATA ignoring data with redundant timestamp for frame odom (parent map) at time 917.529000 according to authority /pose_integrator\u001b[0m\n",
      "\u001b[33m[ WARN] [1743783331.309102550]: TF_REPEATED_DATA ignoring data with redundant timestamp for frame odom (parent map) at time 918.241000 according to authority /pose_integrator\u001b[0m\n",
      "\u001b[33m[ WARN] [1743783331.309184411]: TF_REPEATED_DATA ignoring data with redundant timestamp for frame odom (parent map) at time 918.241000 according to authority /pose_integrator\u001b[0m\n",
      "\u001b[33m[ WARN] [1743783331.309241018]: TF_REPEATED_DATA ignoring data with redundant timestamp for frame odom (parent map) at time 918.241000 according to authority /pose_integrator\u001b[0m\n",
      "\u001b[33m[ WARN] [1743783331.309294391]: TF_REPEATED_DATA ignoring data with redundant timestamp for frame odom (parent map) at time 918.241000 according to authority /pose_integrator\u001b[0m\n",
      "\u001b[33m[ WARN] [1743783331.309343978]: TF_REPEATED_DATA ignoring data with redundant timestamp for frame odom (parent map) at time 918.241000 according to authority /pose_integrator\u001b[0m\n",
      "\u001b[33m[ WARN] [1743783331.309407417]: TF_REPEATED_DATA ignoring data with redundant timestamp for frame odom (parent map) at time 918.241000 according to authority /pose_integrator\u001b[0m\n"
     ]
    },
    {
     "name": "stderr",
     "output_type": "stream",
     "text": [
      "\u001b[33m[ WARN] [1743783336.158495892]: TF_REPEATED_DATA ignoring data with redundant timestamp for frame odom (parent map) at time 919.232000 according to authority /pose_integrator\u001b[0m\n",
      "\u001b[33m[ WARN] [1743783336.158556952]: TF_REPEATED_DATA ignoring data with redundant timestamp for frame odom (parent map) at time 919.232000 according to authority /pose_integrator\u001b[0m\n",
      "\u001b[33m[ WARN] [1743783336.158602905]: TF_REPEATED_DATA ignoring data with redundant timestamp for frame odom (parent map) at time 919.232000 according to authority /pose_integrator\u001b[0m\n",
      "\u001b[33m[ WARN] [1743783336.158638331]: TF_REPEATED_DATA ignoring data with redundant timestamp for frame odom (parent map) at time 919.232000 according to authority /pose_integrator\u001b[0m\n",
      "\u001b[33m[ WARN] [1743783336.158672735]: TF_REPEATED_DATA ignoring data with redundant timestamp for frame odom (parent map) at time 919.232000 according to authority /pose_integrator\u001b[0m\n",
      "\u001b[33m[ WARN] [1743783336.158699874]: TF_REPEATED_DATA ignoring data with redundant timestamp for frame odom (parent map) at time 919.232000 according to authority /pose_integrator\u001b[0m\n",
      "\u001b[33m[ WARN] [1743783336.511303737]: TF_REPEATED_DATA ignoring data with redundant timestamp for frame odom (parent map) at time 919.311000 according to authority /pose_integrator\u001b[0m\n",
      "\u001b[33m[ WARN] [1743783336.511418189]: TF_REPEATED_DATA ignoring data with redundant timestamp for frame odom (parent map) at time 919.311000 according to authority /pose_integrator\u001b[0m\n",
      "\u001b[33m[ WARN] [1743783336.511462752]: TF_REPEATED_DATA ignoring data with redundant timestamp for frame odom (parent map) at time 919.311000 according to authority /pose_integrator\u001b[0m\n",
      "\u001b[33m[ WARN] [1743783336.511504369]: TF_REPEATED_DATA ignoring data with redundant timestamp for frame odom (parent map) at time 919.311000 according to authority /pose_integrator\u001b[0m\n",
      "\u001b[33m[ WARN] [1743783336.511543067]: TF_REPEATED_DATA ignoring data with redundant timestamp for frame odom (parent map) at time 919.311000 according to authority /pose_integrator\u001b[0m\n",
      "\u001b[33m[ WARN] [1743783336.511581416]: TF_REPEATED_DATA ignoring data with redundant timestamp for frame odom (parent map) at time 919.311000 according to authority /pose_integrator\u001b[0m\n",
      "\u001b[33m[ WARN] [1743783338.235405918]: TF_REPEATED_DATA ignoring data with redundant timestamp for frame odom (parent map) at time 919.653000 according to authority /pose_integrator\u001b[0m\n",
      "\u001b[33m[ WARN] [1743783338.235471511]: TF_REPEATED_DATA ignoring data with redundant timestamp for frame odom (parent map) at time 919.653000 according to authority /pose_integrator\u001b[0m\n",
      "\u001b[33m[ WARN] [1743783338.235522514]: TF_REPEATED_DATA ignoring data with redundant timestamp for frame odom (parent map) at time 919.653000 according to authority /pose_integrator\u001b[0m\n",
      "\u001b[33m[ WARN] [1743783338.235580641]: TF_REPEATED_DATA ignoring data with redundant timestamp for frame odom (parent map) at time 919.653000 according to authority /pose_integrator\u001b[0m\n",
      "\u001b[33m[ WARN] [1743783338.235623190]: TF_REPEATED_DATA ignoring data with redundant timestamp for frame odom (parent map) at time 919.653000 according to authority /pose_integrator\u001b[0m\n",
      "\u001b[33m[ WARN] [1743783338.235689048]: TF_REPEATED_DATA ignoring data with redundant timestamp for frame odom (parent map) at time 919.653000 according to authority /pose_integrator\u001b[0m\n",
      "\u001b[33m[ WARN] [1743783342.187551532]: TF_REPEATED_DATA ignoring data with redundant timestamp for frame odom (parent map) at time 920.567000 according to authority /pose_integrator\u001b[0m\n",
      "\u001b[33m[ WARN] [1743783342.187618327]: TF_REPEATED_DATA ignoring data with redundant timestamp for frame odom (parent map) at time 920.567000 according to authority /pose_integrator\u001b[0m\n",
      "\u001b[33m[ WARN] [1743783342.187663980]: TF_REPEATED_DATA ignoring data with redundant timestamp for frame odom (parent map) at time 920.567000 according to authority /pose_integrator\u001b[0m\n",
      "\u001b[33m[ WARN] [1743783342.187706065]: TF_REPEATED_DATA ignoring data with redundant timestamp for frame odom (parent map) at time 920.567000 according to authority /pose_integrator\u001b[0m\n",
      "\u001b[33m[ WARN] [1743783342.187747472]: TF_REPEATED_DATA ignoring data with redundant timestamp for frame odom (parent map) at time 920.567000 according to authority /pose_integrator\u001b[0m\n",
      "\u001b[33m[ WARN] [1743783342.187789657]: TF_REPEATED_DATA ignoring data with redundant timestamp for frame odom (parent map) at time 920.567000 according to authority /pose_integrator\u001b[0m\n",
      "\u001b[33m[ WARN] [1743783347.772442920]: TF_REPEATED_DATA ignoring data with redundant timestamp for frame odom (parent map) at time 921.638000 according to authority /pose_integrator\u001b[0m\n",
      "\u001b[33m[ WARN] [1743783347.772522479]: TF_REPEATED_DATA ignoring data with redundant timestamp for frame odom (parent map) at time 921.638000 according to authority /pose_integrator\u001b[0m\n",
      "\u001b[33m[ WARN] [1743783347.772574301]: TF_REPEATED_DATA ignoring data with redundant timestamp for frame odom (parent map) at time 921.638000 according to authority /pose_integrator\u001b[0m\n",
      "\u001b[33m[ WARN] [1743783347.772623327]: TF_REPEATED_DATA ignoring data with redundant timestamp for frame odom (parent map) at time 921.638000 according to authority /pose_integrator\u001b[0m\n",
      "\u001b[33m[ WARN] [1743783347.772671009]: TF_REPEATED_DATA ignoring data with redundant timestamp for frame odom (parent map) at time 921.638000 according to authority /pose_integrator\u001b[0m\n",
      "\u001b[33m[ WARN] [1743783347.772718888]: TF_REPEATED_DATA ignoring data with redundant timestamp for frame odom (parent map) at time 921.638000 according to authority /pose_integrator\u001b[0m\n",
      "\u001b[33m[ WARN] [1743783350.133457992]: TF_REPEATED_DATA ignoring data with redundant timestamp for frame odom (parent map) at time 922.158000 according to authority /pose_integrator\u001b[0m\n",
      "\u001b[33m[ WARN] [1743783350.133524029]: TF_REPEATED_DATA ignoring data with redundant timestamp for frame odom (parent map) at time 922.158000 according to authority /pose_integrator\u001b[0m\n",
      "\u001b[33m[ WARN] [1743783350.133562341]: TF_REPEATED_DATA ignoring data with redundant timestamp for frame odom (parent map) at time 922.158000 according to authority /pose_integrator\u001b[0m\n",
      "\u001b[33m[ WARN] [1743783350.133596234]: TF_REPEATED_DATA ignoring data with redundant timestamp for frame odom (parent map) at time 922.158000 according to authority /pose_integrator\u001b[0m\n",
      "\u001b[33m[ WARN] [1743783350.133629098]: TF_REPEATED_DATA ignoring data with redundant timestamp for frame odom (parent map) at time 922.158000 according to authority /pose_integrator\u001b[0m\n",
      "\u001b[33m[ WARN] [1743783350.133661501]: TF_REPEATED_DATA ignoring data with redundant timestamp for frame odom (parent map) at time 922.158000 according to authority /pose_integrator\u001b[0m\n",
      "\u001b[33m[ WARN] [1743783352.020240211]: TF_REPEATED_DATA ignoring data with redundant timestamp for frame odom (parent map) at time 922.574000 according to authority /pose_integrator\u001b[0m\n",
      "\u001b[33m[ WARN] [1743783352.020296531]: TF_REPEATED_DATA ignoring data with redundant timestamp for frame odom (parent map) at time 922.574000 according to authority /pose_integrator\u001b[0m\n",
      "\u001b[33m[ WARN] [1743783352.020335307]: TF_REPEATED_DATA ignoring data with redundant timestamp for frame odom (parent map) at time 922.574000 according to authority /pose_integrator\u001b[0m\n",
      "\u001b[33m[ WARN] [1743783352.020377790]: TF_REPEATED_DATA ignoring data with redundant timestamp for frame odom (parent map) at time 922.574000 according to authority /pose_integrator\u001b[0m\n",
      "\u001b[33m[ WARN] [1743783352.020415160]: TF_REPEATED_DATA ignoring data with redundant timestamp for frame odom (parent map) at time 922.574000 according to authority /pose_integrator\u001b[0m\n",
      "\u001b[33m[ WARN] [1743783352.020457893]: TF_REPEATED_DATA ignoring data with redundant timestamp for frame odom (parent map) at time 922.574000 according to authority /pose_integrator\u001b[0m\n",
      "\u001b[33m[ WARN] [1743783355.350702596]: TF_REPEATED_DATA ignoring data with redundant timestamp for frame odom (parent map) at time 923.346000 according to authority /pose_integrator\u001b[0m\n",
      "\u001b[33m[ WARN] [1743783355.350781113]: TF_REPEATED_DATA ignoring data with redundant timestamp for frame odom (parent map) at time 923.346000 according to authority /pose_integrator\u001b[0m\n",
      "\u001b[33m[ WARN] [1743783355.350829608]: TF_REPEATED_DATA ignoring data with redundant timestamp for frame odom (parent map) at time 923.346000 according to authority /pose_integrator\u001b[0m\n",
      "\u001b[33m[ WARN] [1743783355.350874492]: TF_REPEATED_DATA ignoring data with redundant timestamp for frame odom (parent map) at time 923.346000 according to authority /pose_integrator\u001b[0m\n",
      "\u001b[33m[ WARN] [1743783355.350911291]: TF_REPEATED_DATA ignoring data with redundant timestamp for frame odom (parent map) at time 923.346000 according to authority /pose_integrator\u001b[0m\n",
      "\u001b[33m[ WARN] [1743783355.350946639]: TF_REPEATED_DATA ignoring data with redundant timestamp for frame odom (parent map) at time 923.346000 according to authority /pose_integrator\u001b[0m\n"
     ]
    },
    {
     "name": "stderr",
     "output_type": "stream",
     "text": [
      "\u001b[33m[ WARN] [1743783355.639769486]: TF_REPEATED_DATA ignoring data with redundant timestamp for frame odom (parent map) at time 923.407000 according to authority /pose_integrator\u001b[0m\n",
      "\u001b[33m[ WARN] [1743783355.639818411]: TF_REPEATED_DATA ignoring data with redundant timestamp for frame odom (parent map) at time 923.407000 according to authority /pose_integrator\u001b[0m\n",
      "\u001b[33m[ WARN] [1743783355.639848568]: TF_REPEATED_DATA ignoring data with redundant timestamp for frame odom (parent map) at time 923.407000 according to authority /pose_integrator\u001b[0m\n",
      "\u001b[33m[ WARN] [1743783355.639875822]: TF_REPEATED_DATA ignoring data with redundant timestamp for frame odom (parent map) at time 923.407000 according to authority /pose_integrator\u001b[0m\n",
      "\u001b[33m[ WARN] [1743783355.639903428]: TF_REPEATED_DATA ignoring data with redundant timestamp for frame odom (parent map) at time 923.407000 according to authority /pose_integrator\u001b[0m\n",
      "\u001b[33m[ WARN] [1743783355.639931592]: TF_REPEATED_DATA ignoring data with redundant timestamp for frame odom (parent map) at time 923.407000 according to authority /pose_integrator\u001b[0m\n",
      "\u001b[33m[ WARN] [1743783356.117542634]: TF_REPEATED_DATA ignoring data with redundant timestamp for frame odom (parent map) at time 923.523000 according to authority /pose_integrator\u001b[0m\n",
      "\u001b[33m[ WARN] [1743783356.117582208]: TF_REPEATED_DATA ignoring data with redundant timestamp for frame odom (parent map) at time 923.523000 according to authority /pose_integrator\u001b[0m\n",
      "\u001b[33m[ WARN] [1743783356.117604710]: TF_REPEATED_DATA ignoring data with redundant timestamp for frame odom (parent map) at time 923.523000 according to authority /pose_integrator\u001b[0m\n",
      "\u001b[33m[ WARN] [1743783356.117627254]: TF_REPEATED_DATA ignoring data with redundant timestamp for frame odom (parent map) at time 923.523000 according to authority /pose_integrator\u001b[0m\n",
      "\u001b[33m[ WARN] [1743783356.117653884]: TF_REPEATED_DATA ignoring data with redundant timestamp for frame odom (parent map) at time 923.523000 according to authority /pose_integrator\u001b[0m\n",
      "\u001b[33m[ WARN] [1743783356.117681073]: TF_REPEATED_DATA ignoring data with redundant timestamp for frame odom (parent map) at time 923.523000 according to authority /pose_integrator\u001b[0m\n",
      "\u001b[33m[ WARN] [1743783356.591977197]: TF_REPEATED_DATA ignoring data with redundant timestamp for frame odom (parent map) at time 923.661000 according to authority /pose_integrator\u001b[0m\n",
      "\u001b[33m[ WARN] [1743783356.592021975]: TF_REPEATED_DATA ignoring data with redundant timestamp for frame odom (parent map) at time 923.661000 according to authority /pose_integrator\u001b[0m\n",
      "\u001b[33m[ WARN] [1743783356.592052306]: TF_REPEATED_DATA ignoring data with redundant timestamp for frame odom (parent map) at time 923.661000 according to authority /pose_integrator\u001b[0m\n",
      "\u001b[33m[ WARN] [1743783356.592080090]: TF_REPEATED_DATA ignoring data with redundant timestamp for frame odom (parent map) at time 923.661000 according to authority /pose_integrator\u001b[0m\n",
      "\u001b[33m[ WARN] [1743783356.592111809]: TF_REPEATED_DATA ignoring data with redundant timestamp for frame odom (parent map) at time 923.661000 according to authority /pose_integrator\u001b[0m\n",
      "\u001b[33m[ WARN] [1743783356.592184613]: TF_REPEATED_DATA ignoring data with redundant timestamp for frame odom (parent map) at time 923.661000 according to authority /pose_integrator\u001b[0m\n",
      "\u001b[33m[ WARN] [1743783359.656576497]: TF_REPEATED_DATA ignoring data with redundant timestamp for frame odom (parent map) at time 924.414000 according to authority /pose_integrator\u001b[0m\n",
      "\u001b[33m[ WARN] [1743783359.656642033]: TF_REPEATED_DATA ignoring data with redundant timestamp for frame odom (parent map) at time 924.414000 according to authority /pose_integrator\u001b[0m\n",
      "\u001b[33m[ WARN] [1743783359.656698523]: TF_REPEATED_DATA ignoring data with redundant timestamp for frame odom (parent map) at time 924.414000 according to authority /pose_integrator\u001b[0m\n",
      "\u001b[33m[ WARN] [1743783359.656739928]: TF_REPEATED_DATA ignoring data with redundant timestamp for frame odom (parent map) at time 924.414000 according to authority /pose_integrator\u001b[0m\n",
      "\u001b[33m[ WARN] [1743783359.656780628]: TF_REPEATED_DATA ignoring data with redundant timestamp for frame odom (parent map) at time 924.414000 according to authority /pose_integrator\u001b[0m\n",
      "\u001b[33m[ WARN] [1743783359.656827151]: TF_REPEATED_DATA ignoring data with redundant timestamp for frame odom (parent map) at time 924.414000 according to authority /pose_integrator\u001b[0m\n",
      "\u001b[33m[ WARN] [1743783363.710174433]: TF_REPEATED_DATA ignoring data with redundant timestamp for frame odom (parent map) at time 925.286000 according to authority /pose_integrator\u001b[0m\n",
      "\u001b[33m[ WARN] [1743783363.710229230]: TF_REPEATED_DATA ignoring data with redundant timestamp for frame odom (parent map) at time 925.286000 according to authority /pose_integrator\u001b[0m\n",
      "\u001b[33m[ WARN] [1743783363.710264542]: TF_REPEATED_DATA ignoring data with redundant timestamp for frame odom (parent map) at time 925.286000 according to authority /pose_integrator\u001b[0m\n",
      "\u001b[33m[ WARN] [1743783363.710320266]: TF_REPEATED_DATA ignoring data with redundant timestamp for frame odom (parent map) at time 925.286000 according to authority /pose_integrator\u001b[0m\n",
      "\u001b[33m[ WARN] [1743783363.710382480]: TF_REPEATED_DATA ignoring data with redundant timestamp for frame odom (parent map) at time 925.286000 according to authority /pose_integrator\u001b[0m\n",
      "\u001b[33m[ WARN] [1743783363.710434036]: TF_REPEATED_DATA ignoring data with redundant timestamp for frame odom (parent map) at time 925.286000 according to authority /pose_integrator\u001b[0m\n",
      "\u001b[33m[ WARN] [1743783364.162922628]: TF_REPEATED_DATA ignoring data with redundant timestamp for frame odom (parent map) at time 925.399000 according to authority /pose_integrator\u001b[0m\n",
      "\u001b[33m[ WARN] [1743783364.162983668]: TF_REPEATED_DATA ignoring data with redundant timestamp for frame odom (parent map) at time 925.399000 according to authority /pose_integrator\u001b[0m\n",
      "\u001b[33m[ WARN] [1743783364.163030803]: TF_REPEATED_DATA ignoring data with redundant timestamp for frame odom (parent map) at time 925.399000 according to authority /pose_integrator\u001b[0m\n",
      "\u001b[33m[ WARN] [1743783364.163079565]: TF_REPEATED_DATA ignoring data with redundant timestamp for frame odom (parent map) at time 925.399000 according to authority /pose_integrator\u001b[0m\n",
      "\u001b[33m[ WARN] [1743783364.163115228]: TF_REPEATED_DATA ignoring data with redundant timestamp for frame odom (parent map) at time 925.399000 according to authority /pose_integrator\u001b[0m\n",
      "\u001b[33m[ WARN] [1743783364.163146707]: TF_REPEATED_DATA ignoring data with redundant timestamp for frame odom (parent map) at time 925.399000 according to authority /pose_integrator\u001b[0m\n",
      "\u001b[33m[ WARN] [1743783364.742370038]: TF_REPEATED_DATA ignoring data with redundant timestamp for frame odom (parent map) at time 925.573000 according to authority /pose_integrator\u001b[0m\n",
      "\u001b[33m[ WARN] [1743783364.742404562]: TF_REPEATED_DATA ignoring data with redundant timestamp for frame odom (parent map) at time 925.573000 according to authority /pose_integrator\u001b[0m\n",
      "\u001b[33m[ WARN] [1743783364.742425090]: TF_REPEATED_DATA ignoring data with redundant timestamp for frame odom (parent map) at time 925.573000 according to authority /pose_integrator\u001b[0m\n",
      "\u001b[33m[ WARN] [1743783364.742443875]: TF_REPEATED_DATA ignoring data with redundant timestamp for frame odom (parent map) at time 925.573000 according to authority /pose_integrator\u001b[0m\n",
      "\u001b[33m[ WARN] [1743783364.742470854]: TF_REPEATED_DATA ignoring data with redundant timestamp for frame odom (parent map) at time 925.573000 according to authority /pose_integrator\u001b[0m\n",
      "\u001b[33m[ WARN] [1743783364.742501318]: TF_REPEATED_DATA ignoring data with redundant timestamp for frame odom (parent map) at time 925.573000 according to authority /pose_integrator\u001b[0m\n",
      "\u001b[33m[ WARN] [1743783365.135512942]: TF_REPEATED_DATA ignoring data with redundant timestamp for frame odom (parent map) at time 925.657000 according to authority /pose_integrator\u001b[0m\n",
      "\u001b[33m[ WARN] [1743783365.135577701]: TF_REPEATED_DATA ignoring data with redundant timestamp for frame odom (parent map) at time 925.657000 according to authority /pose_integrator\u001b[0m\n",
      "\u001b[33m[ WARN] [1743783365.135619561]: TF_REPEATED_DATA ignoring data with redundant timestamp for frame odom (parent map) at time 925.657000 according to authority /pose_integrator\u001b[0m\n",
      "\u001b[33m[ WARN] [1743783365.135655561]: TF_REPEATED_DATA ignoring data with redundant timestamp for frame odom (parent map) at time 925.657000 according to authority /pose_integrator\u001b[0m\n",
      "\u001b[33m[ WARN] [1743783365.135693732]: TF_REPEATED_DATA ignoring data with redundant timestamp for frame odom (parent map) at time 925.657000 according to authority /pose_integrator\u001b[0m\n",
      "\u001b[33m[ WARN] [1743783365.135733804]: TF_REPEATED_DATA ignoring data with redundant timestamp for frame odom (parent map) at time 925.657000 according to authority /pose_integrator\u001b[0m\n"
     ]
    },
    {
     "name": "stderr",
     "output_type": "stream",
     "text": [
      "\u001b[33m[ WARN] [1743783365.972561703]: TF_REPEATED_DATA ignoring data with redundant timestamp for frame odom (parent map) at time 925.860000 according to authority /pose_integrator\u001b[0m\n",
      "\u001b[33m[ WARN] [1743783365.972608300]: TF_REPEATED_DATA ignoring data with redundant timestamp for frame odom (parent map) at time 925.860000 according to authority /pose_integrator\u001b[0m\n",
      "\u001b[33m[ WARN] [1743783365.972638833]: TF_REPEATED_DATA ignoring data with redundant timestamp for frame odom (parent map) at time 925.860000 according to authority /pose_integrator\u001b[0m\n",
      "\u001b[33m[ WARN] [1743783365.972669025]: TF_REPEATED_DATA ignoring data with redundant timestamp for frame odom (parent map) at time 925.860000 according to authority /pose_integrator\u001b[0m\n",
      "\u001b[33m[ WARN] [1743783365.972697064]: TF_REPEATED_DATA ignoring data with redundant timestamp for frame odom (parent map) at time 925.860000 according to authority /pose_integrator\u001b[0m\n",
      "\u001b[33m[ WARN] [1743783365.972727021]: TF_REPEATED_DATA ignoring data with redundant timestamp for frame odom (parent map) at time 925.860000 according to authority /pose_integrator\u001b[0m\n",
      "\u001b[33m[ WARN] [1743783367.180162812]: TF_REPEATED_DATA ignoring data with redundant timestamp for frame odom (parent map) at time 926.102000 according to authority /pose_integrator\u001b[0m\n",
      "\u001b[33m[ WARN] [1743783367.180225298]: TF_REPEATED_DATA ignoring data with redundant timestamp for frame odom (parent map) at time 926.102000 according to authority /pose_integrator\u001b[0m\n",
      "\u001b[33m[ WARN] [1743783367.180266800]: TF_REPEATED_DATA ignoring data with redundant timestamp for frame odom (parent map) at time 926.102000 according to authority /pose_integrator\u001b[0m\n",
      "\u001b[33m[ WARN] [1743783367.180305093]: TF_REPEATED_DATA ignoring data with redundant timestamp for frame odom (parent map) at time 926.102000 according to authority /pose_integrator\u001b[0m\n",
      "\u001b[33m[ WARN] [1743783367.180344732]: TF_REPEATED_DATA ignoring data with redundant timestamp for frame odom (parent map) at time 926.102000 according to authority /pose_integrator\u001b[0m\n",
      "\u001b[33m[ WARN] [1743783367.180384816]: TF_REPEATED_DATA ignoring data with redundant timestamp for frame odom (parent map) at time 926.102000 according to authority /pose_integrator\u001b[0m\n",
      "\u001b[33m[ WARN] [1743783367.742778862]: TF_REPEATED_DATA ignoring data with redundant timestamp for frame odom (parent map) at time 926.232000 according to authority /pose_integrator\u001b[0m\n",
      "\u001b[33m[ WARN] [1743783367.742842547]: TF_REPEATED_DATA ignoring data with redundant timestamp for frame odom (parent map) at time 926.232000 according to authority /pose_integrator\u001b[0m\n",
      "\u001b[33m[ WARN] [1743783367.742887279]: TF_REPEATED_DATA ignoring data with redundant timestamp for frame odom (parent map) at time 926.232000 according to authority /pose_integrator\u001b[0m\n",
      "\u001b[33m[ WARN] [1743783367.742928338]: TF_REPEATED_DATA ignoring data with redundant timestamp for frame odom (parent map) at time 926.232000 according to authority /pose_integrator\u001b[0m\n",
      "\u001b[33m[ WARN] [1743783367.742970208]: TF_REPEATED_DATA ignoring data with redundant timestamp for frame odom (parent map) at time 926.232000 according to authority /pose_integrator\u001b[0m\n",
      "\u001b[33m[ WARN] [1743783367.743005856]: TF_REPEATED_DATA ignoring data with redundant timestamp for frame odom (parent map) at time 926.232000 according to authority /pose_integrator\u001b[0m\n",
      "\u001b[33m[ WARN] [1743783368.659981360]: TF_REPEATED_DATA ignoring data with redundant timestamp for frame odom (parent map) at time 926.485000 according to authority /pose_integrator\u001b[0m\n",
      "\u001b[33m[ WARN] [1743783368.660040833]: TF_REPEATED_DATA ignoring data with redundant timestamp for frame odom (parent map) at time 926.485000 according to authority /pose_integrator\u001b[0m\n",
      "\u001b[33m[ WARN] [1743783368.660078360]: TF_REPEATED_DATA ignoring data with redundant timestamp for frame odom (parent map) at time 926.485000 according to authority /pose_integrator\u001b[0m\n",
      "\u001b[33m[ WARN] [1743783368.660126354]: TF_REPEATED_DATA ignoring data with redundant timestamp for frame odom (parent map) at time 926.485000 according to authority /pose_integrator\u001b[0m\n",
      "\u001b[33m[ WARN] [1743783368.660149312]: TF_REPEATED_DATA ignoring data with redundant timestamp for frame odom (parent map) at time 926.485000 according to authority /pose_integrator\u001b[0m\n",
      "\u001b[33m[ WARN] [1743783368.660177623]: TF_REPEATED_DATA ignoring data with redundant timestamp for frame odom (parent map) at time 926.485000 according to authority /pose_integrator\u001b[0m\n",
      "\u001b[33m[ WARN] [1743783369.109746713]: TF_REPEATED_DATA ignoring data with redundant timestamp for frame odom (parent map) at time 926.597000 according to authority /pose_integrator\u001b[0m\n",
      "\u001b[33m[ WARN] [1743783369.109800965]: TF_REPEATED_DATA ignoring data with redundant timestamp for frame odom (parent map) at time 926.597000 according to authority /pose_integrator\u001b[0m\n",
      "\u001b[33m[ WARN] [1743783369.109841752]: TF_REPEATED_DATA ignoring data with redundant timestamp for frame odom (parent map) at time 926.597000 according to authority /pose_integrator\u001b[0m\n",
      "\u001b[33m[ WARN] [1743783369.109881326]: TF_REPEATED_DATA ignoring data with redundant timestamp for frame odom (parent map) at time 926.597000 according to authority /pose_integrator\u001b[0m\n",
      "\u001b[33m[ WARN] [1743783369.109918887]: TF_REPEATED_DATA ignoring data with redundant timestamp for frame odom (parent map) at time 926.597000 according to authority /pose_integrator\u001b[0m\n",
      "\u001b[33m[ WARN] [1743783369.109965097]: TF_REPEATED_DATA ignoring data with redundant timestamp for frame odom (parent map) at time 926.597000 according to authority /pose_integrator\u001b[0m\n",
      "\u001b[33m[ WARN] [1743783369.375357236]: TF_REPEATED_DATA ignoring data with redundant timestamp for frame odom (parent map) at time 926.656000 according to authority /pose_integrator\u001b[0m\n",
      "\u001b[33m[ WARN] [1743783369.375403823]: TF_REPEATED_DATA ignoring data with redundant timestamp for frame odom (parent map) at time 926.656000 according to authority /pose_integrator\u001b[0m\n",
      "\u001b[33m[ WARN] [1743783369.375435709]: TF_REPEATED_DATA ignoring data with redundant timestamp for frame odom (parent map) at time 926.656000 according to authority /pose_integrator\u001b[0m\n",
      "\u001b[33m[ WARN] [1743783369.375465359]: TF_REPEATED_DATA ignoring data with redundant timestamp for frame odom (parent map) at time 926.656000 according to authority /pose_integrator\u001b[0m\n",
      "\u001b[33m[ WARN] [1743783369.375495205]: TF_REPEATED_DATA ignoring data with redundant timestamp for frame odom (parent map) at time 926.656000 according to authority /pose_integrator\u001b[0m\n",
      "\u001b[33m[ WARN] [1743783369.375525832]: TF_REPEATED_DATA ignoring data with redundant timestamp for frame odom (parent map) at time 926.656000 according to authority /pose_integrator\u001b[0m\n",
      "\u001b[33m[ WARN] [1743783369.624639788]: TF_REPEATED_DATA ignoring data with redundant timestamp for frame odom (parent map) at time 926.731000 according to authority /pose_integrator\u001b[0m\n",
      "\u001b[33m[ WARN] [1743783369.624696825]: TF_REPEATED_DATA ignoring data with redundant timestamp for frame odom (parent map) at time 926.731000 according to authority /pose_integrator\u001b[0m\n",
      "\u001b[33m[ WARN] [1743783369.624728138]: TF_REPEATED_DATA ignoring data with redundant timestamp for frame odom (parent map) at time 926.731000 according to authority /pose_integrator\u001b[0m\n",
      "\u001b[33m[ WARN] [1743783369.624757620]: TF_REPEATED_DATA ignoring data with redundant timestamp for frame odom (parent map) at time 926.731000 according to authority /pose_integrator\u001b[0m\n",
      "\u001b[33m[ WARN] [1743783369.624788477]: TF_REPEATED_DATA ignoring data with redundant timestamp for frame odom (parent map) at time 926.731000 according to authority /pose_integrator\u001b[0m\n",
      "\u001b[33m[ WARN] [1743783369.624818367]: TF_REPEATED_DATA ignoring data with redundant timestamp for frame odom (parent map) at time 926.731000 according to authority /pose_integrator\u001b[0m\n",
      "\u001b[33m[ WARN] [1743783371.923591094]: TF_REPEATED_DATA ignoring data with redundant timestamp for frame odom (parent map) at time 927.250000 according to authority /pose_integrator\u001b[0m\n",
      "\u001b[33m[ WARN] [1743783371.923633356]: TF_REPEATED_DATA ignoring data with redundant timestamp for frame odom (parent map) at time 927.250000 according to authority /pose_integrator\u001b[0m\n",
      "\u001b[33m[ WARN] [1743783371.923660599]: TF_REPEATED_DATA ignoring data with redundant timestamp for frame odom (parent map) at time 927.250000 according to authority /pose_integrator\u001b[0m\n",
      "\u001b[33m[ WARN] [1743783371.923690656]: TF_REPEATED_DATA ignoring data with redundant timestamp for frame odom (parent map) at time 927.250000 according to authority /pose_integrator\u001b[0m\n",
      "\u001b[33m[ WARN] [1743783371.923714579]: TF_REPEATED_DATA ignoring data with redundant timestamp for frame odom (parent map) at time 927.250000 according to authority /pose_integrator\u001b[0m\n",
      "\u001b[33m[ WARN] [1743783371.923736620]: TF_REPEATED_DATA ignoring data with redundant timestamp for frame odom (parent map) at time 927.250000 according to authority /pose_integrator\u001b[0m\n"
     ]
    },
    {
     "name": "stderr",
     "output_type": "stream",
     "text": [
      "\u001b[33m[ WARN] [1743783373.082058609]: TF_REPEATED_DATA ignoring data with redundant timestamp for frame odom (parent map) at time 927.497000 according to authority /pose_integrator\u001b[0m\n",
      "\u001b[33m[ WARN] [1743783373.082104744]: TF_REPEATED_DATA ignoring data with redundant timestamp for frame odom (parent map) at time 927.497000 according to authority /pose_integrator\u001b[0m\n",
      "\u001b[33m[ WARN] [1743783373.082139171]: TF_REPEATED_DATA ignoring data with redundant timestamp for frame odom (parent map) at time 927.497000 according to authority /pose_integrator\u001b[0m\n",
      "\u001b[33m[ WARN] [1743783373.082166616]: TF_REPEATED_DATA ignoring data with redundant timestamp for frame odom (parent map) at time 927.497000 according to authority /pose_integrator\u001b[0m\n",
      "\u001b[33m[ WARN] [1743783373.082191847]: TF_REPEATED_DATA ignoring data with redundant timestamp for frame odom (parent map) at time 927.497000 according to authority /pose_integrator\u001b[0m\n",
      "\u001b[33m[ WARN] [1743783373.082216077]: TF_REPEATED_DATA ignoring data with redundant timestamp for frame odom (parent map) at time 927.497000 according to authority /pose_integrator\u001b[0m\n",
      "\u001b[33m[ WARN] [1743783373.912774630]: TF_REPEATED_DATA ignoring data with redundant timestamp for frame odom (parent map) at time 927.706000 according to authority /pose_integrator\u001b[0m\n",
      "\u001b[33m[ WARN] [1743783373.912827852]: TF_REPEATED_DATA ignoring data with redundant timestamp for frame odom (parent map) at time 927.706000 according to authority /pose_integrator\u001b[0m\n",
      "\u001b[33m[ WARN] [1743783373.912867197]: TF_REPEATED_DATA ignoring data with redundant timestamp for frame odom (parent map) at time 927.706000 according to authority /pose_integrator\u001b[0m\n",
      "\u001b[33m[ WARN] [1743783373.912895915]: TF_REPEATED_DATA ignoring data with redundant timestamp for frame odom (parent map) at time 927.706000 according to authority /pose_integrator\u001b[0m\n",
      "\u001b[33m[ WARN] [1743783373.912922879]: TF_REPEATED_DATA ignoring data with redundant timestamp for frame odom (parent map) at time 927.706000 according to authority /pose_integrator\u001b[0m\n",
      "\u001b[33m[ WARN] [1743783373.912950544]: TF_REPEATED_DATA ignoring data with redundant timestamp for frame odom (parent map) at time 927.706000 according to authority /pose_integrator\u001b[0m\n",
      "\u001b[33m[ WARN] [1743783381.690798042]: TF_REPEATED_DATA ignoring data with redundant timestamp for frame odom (parent map) at time 929.559000 according to authority /pose_integrator\u001b[0m\n",
      "\u001b[33m[ WARN] [1743783381.690858782]: TF_REPEATED_DATA ignoring data with redundant timestamp for frame odom (parent map) at time 929.559000 according to authority /pose_integrator\u001b[0m\n",
      "\u001b[33m[ WARN] [1743783381.690904346]: TF_REPEATED_DATA ignoring data with redundant timestamp for frame odom (parent map) at time 929.559000 according to authority /pose_integrator\u001b[0m\n",
      "\u001b[33m[ WARN] [1743783381.690950329]: TF_REPEATED_DATA ignoring data with redundant timestamp for frame odom (parent map) at time 929.559000 according to authority /pose_integrator\u001b[0m\n",
      "\u001b[33m[ WARN] [1743783381.690994509]: TF_REPEATED_DATA ignoring data with redundant timestamp for frame odom (parent map) at time 929.559000 according to authority /pose_integrator\u001b[0m\n",
      "\u001b[33m[ WARN] [1743783381.691037800]: TF_REPEATED_DATA ignoring data with redundant timestamp for frame odom (parent map) at time 929.559000 according to authority /pose_integrator\u001b[0m\n",
      "\u001b[33m[ WARN] [1743783384.969188149]: TF_REPEATED_DATA ignoring data with redundant timestamp for frame odom (parent map) at time 930.291000 according to authority /pose_integrator\u001b[0m\n",
      "\u001b[33m[ WARN] [1743783384.969249959]: TF_REPEATED_DATA ignoring data with redundant timestamp for frame odom (parent map) at time 930.291000 according to authority /pose_integrator\u001b[0m\n",
      "\u001b[33m[ WARN] [1743783384.969288331]: TF_REPEATED_DATA ignoring data with redundant timestamp for frame odom (parent map) at time 930.291000 according to authority /pose_integrator\u001b[0m\n",
      "\u001b[33m[ WARN] [1743783384.969322361]: TF_REPEATED_DATA ignoring data with redundant timestamp for frame odom (parent map) at time 930.291000 according to authority /pose_integrator\u001b[0m\n",
      "\u001b[33m[ WARN] [1743783384.969350825]: TF_REPEATED_DATA ignoring data with redundant timestamp for frame odom (parent map) at time 930.291000 according to authority /pose_integrator\u001b[0m\n",
      "\u001b[33m[ WARN] [1743783384.969379985]: TF_REPEATED_DATA ignoring data with redundant timestamp for frame odom (parent map) at time 930.291000 according to authority /pose_integrator\u001b[0m\n",
      "\u001b[33m[ WARN] [1743783386.836708830]: TF_REPEATED_DATA ignoring data with redundant timestamp for frame odom (parent map) at time 930.700000 according to authority /pose_integrator\u001b[0m\n",
      "\u001b[33m[ WARN] [1743783386.836788546]: TF_REPEATED_DATA ignoring data with redundant timestamp for frame odom (parent map) at time 930.700000 according to authority /pose_integrator\u001b[0m\n",
      "\u001b[33m[ WARN] [1743783386.836837855]: TF_REPEATED_DATA ignoring data with redundant timestamp for frame odom (parent map) at time 930.700000 according to authority /pose_integrator\u001b[0m\n",
      "\u001b[33m[ WARN] [1743783386.836867165]: TF_REPEATED_DATA ignoring data with redundant timestamp for frame odom (parent map) at time 930.700000 according to authority /pose_integrator\u001b[0m\n",
      "\u001b[33m[ WARN] [1743783386.836892988]: TF_REPEATED_DATA ignoring data with redundant timestamp for frame odom (parent map) at time 930.700000 according to authority /pose_integrator\u001b[0m\n",
      "\u001b[33m[ WARN] [1743783386.836918093]: TF_REPEATED_DATA ignoring data with redundant timestamp for frame odom (parent map) at time 930.700000 according to authority /pose_integrator\u001b[0m\n",
      "\u001b[33m[ WARN] [1743783387.118063216]: TF_REPEATED_DATA ignoring data with redundant timestamp for frame odom (parent map) at time 930.760000 according to authority /pose_integrator\u001b[0m\n",
      "\u001b[33m[ WARN] [1743783387.118114748]: TF_REPEATED_DATA ignoring data with redundant timestamp for frame odom (parent map) at time 930.760000 according to authority /pose_integrator\u001b[0m\n",
      "\u001b[33m[ WARN] [1743783387.118156751]: TF_REPEATED_DATA ignoring data with redundant timestamp for frame odom (parent map) at time 930.760000 according to authority /pose_integrator\u001b[0m\n",
      "\u001b[33m[ WARN] [1743783387.118181173]: TF_REPEATED_DATA ignoring data with redundant timestamp for frame odom (parent map) at time 930.760000 according to authority /pose_integrator\u001b[0m\n",
      "\u001b[33m[ WARN] [1743783387.118208714]: TF_REPEATED_DATA ignoring data with redundant timestamp for frame odom (parent map) at time 930.760000 according to authority /pose_integrator\u001b[0m\n",
      "\u001b[33m[ WARN] [1743783387.118237443]: TF_REPEATED_DATA ignoring data with redundant timestamp for frame odom (parent map) at time 930.760000 according to authority /pose_integrator\u001b[0m\n",
      "\u001b[33m[ WARN] [1743783388.361507972]: TF_REPEATED_DATA ignoring data with redundant timestamp for frame odom (parent map) at time 931.080000 according to authority /pose_integrator\u001b[0m\n",
      "\u001b[33m[ WARN] [1743783388.361551719]: TF_REPEATED_DATA ignoring data with redundant timestamp for frame odom (parent map) at time 931.080000 according to authority /pose_integrator\u001b[0m\n",
      "\u001b[33m[ WARN] [1743783388.361579606]: TF_REPEATED_DATA ignoring data with redundant timestamp for frame odom (parent map) at time 931.080000 according to authority /pose_integrator\u001b[0m\n",
      "\u001b[33m[ WARN] [1743783388.361605784]: TF_REPEATED_DATA ignoring data with redundant timestamp for frame odom (parent map) at time 931.080000 according to authority /pose_integrator\u001b[0m\n",
      "\u001b[33m[ WARN] [1743783388.361628851]: TF_REPEATED_DATA ignoring data with redundant timestamp for frame odom (parent map) at time 931.080000 according to authority /pose_integrator\u001b[0m\n",
      "\u001b[33m[ WARN] [1743783388.361654408]: TF_REPEATED_DATA ignoring data with redundant timestamp for frame odom (parent map) at time 931.080000 according to authority /pose_integrator\u001b[0m\n",
      "\u001b[33m[ WARN] [1743783389.353997433]: TF_REPEATED_DATA ignoring data with redundant timestamp for frame odom (parent map) at time 931.305000 according to authority /pose_integrator\u001b[0m\n",
      "\u001b[33m[ WARN] [1743783389.354044809]: TF_REPEATED_DATA ignoring data with redundant timestamp for frame odom (parent map) at time 931.305000 according to authority /pose_integrator\u001b[0m\n",
      "\u001b[33m[ WARN] [1743783389.354082225]: TF_REPEATED_DATA ignoring data with redundant timestamp for frame odom (parent map) at time 931.305000 according to authority /pose_integrator\u001b[0m\n",
      "\u001b[33m[ WARN] [1743783389.354120788]: TF_REPEATED_DATA ignoring data with redundant timestamp for frame odom (parent map) at time 931.305000 according to authority /pose_integrator\u001b[0m\n",
      "\u001b[33m[ WARN] [1743783389.354179287]: TF_REPEATED_DATA ignoring data with redundant timestamp for frame odom (parent map) at time 931.305000 according to authority /pose_integrator\u001b[0m\n",
      "\u001b[33m[ WARN] [1743783389.354210672]: TF_REPEATED_DATA ignoring data with redundant timestamp for frame odom (parent map) at time 931.305000 according to authority /pose_integrator\u001b[0m\n"
     ]
    },
    {
     "name": "stderr",
     "output_type": "stream",
     "text": [
      "\u001b[33m[ WARN] [1743783392.306244217]: TF_REPEATED_DATA ignoring data with redundant timestamp for frame odom (parent map) at time 931.905000 according to authority /pose_integrator\u001b[0m\n",
      "\u001b[33m[ WARN] [1743783392.306291563]: TF_REPEATED_DATA ignoring data with redundant timestamp for frame odom (parent map) at time 931.905000 according to authority /pose_integrator\u001b[0m\n",
      "\u001b[33m[ WARN] [1743783392.306321362]: TF_REPEATED_DATA ignoring data with redundant timestamp for frame odom (parent map) at time 931.905000 according to authority /pose_integrator\u001b[0m\n",
      "\u001b[33m[ WARN] [1743783392.306349053]: TF_REPEATED_DATA ignoring data with redundant timestamp for frame odom (parent map) at time 931.905000 according to authority /pose_integrator\u001b[0m\n",
      "\u001b[33m[ WARN] [1743783392.306376139]: TF_REPEATED_DATA ignoring data with redundant timestamp for frame odom (parent map) at time 931.905000 according to authority /pose_integrator\u001b[0m\n",
      "\u001b[33m[ WARN] [1743783392.306402645]: TF_REPEATED_DATA ignoring data with redundant timestamp for frame odom (parent map) at time 931.905000 according to authority /pose_integrator\u001b[0m\n",
      "\u001b[33m[ WARN] [1743783397.667472702]: TF_REPEATED_DATA ignoring data with redundant timestamp for frame odom (parent map) at time 933.028000 according to authority /pose_integrator\u001b[0m\n",
      "\u001b[33m[ WARN] [1743783397.667527099]: TF_REPEATED_DATA ignoring data with redundant timestamp for frame odom (parent map) at time 933.028000 according to authority /pose_integrator\u001b[0m\n",
      "\u001b[33m[ WARN] [1743783397.667566994]: TF_REPEATED_DATA ignoring data with redundant timestamp for frame odom (parent map) at time 933.028000 according to authority /pose_integrator\u001b[0m\n",
      "\u001b[33m[ WARN] [1743783397.667606301]: TF_REPEATED_DATA ignoring data with redundant timestamp for frame odom (parent map) at time 933.028000 according to authority /pose_integrator\u001b[0m\n",
      "\u001b[33m[ WARN] [1743783397.667640064]: TF_REPEATED_DATA ignoring data with redundant timestamp for frame odom (parent map) at time 933.028000 according to authority /pose_integrator\u001b[0m\n",
      "\u001b[33m[ WARN] [1743783397.667681473]: TF_REPEATED_DATA ignoring data with redundant timestamp for frame odom (parent map) at time 933.028000 according to authority /pose_integrator\u001b[0m\n",
      "\u001b[33m[ WARN] [1743783398.748215259]: TF_REPEATED_DATA ignoring data with redundant timestamp for frame odom (parent map) at time 933.296000 according to authority /pose_integrator\u001b[0m\n",
      "\u001b[33m[ WARN] [1743783398.748267396]: TF_REPEATED_DATA ignoring data with redundant timestamp for frame odom (parent map) at time 933.296000 according to authority /pose_integrator\u001b[0m\n",
      "\u001b[33m[ WARN] [1743783398.748298721]: TF_REPEATED_DATA ignoring data with redundant timestamp for frame odom (parent map) at time 933.296000 according to authority /pose_integrator\u001b[0m\n",
      "\u001b[33m[ WARN] [1743783398.748330729]: TF_REPEATED_DATA ignoring data with redundant timestamp for frame odom (parent map) at time 933.296000 according to authority /pose_integrator\u001b[0m\n",
      "\u001b[33m[ WARN] [1743783398.748367428]: TF_REPEATED_DATA ignoring data with redundant timestamp for frame odom (parent map) at time 933.296000 according to authority /pose_integrator\u001b[0m\n",
      "\u001b[33m[ WARN] [1743783398.748410144]: TF_REPEATED_DATA ignoring data with redundant timestamp for frame odom (parent map) at time 933.296000 according to authority /pose_integrator\u001b[0m\n",
      "\u001b[33m[ WARN] [1743783402.706077138]: TF_REPEATED_DATA ignoring data with redundant timestamp for frame odom (parent map) at time 934.218000 according to authority /pose_integrator\u001b[0m\n",
      "\u001b[33m[ WARN] [1743783402.706144938]: TF_REPEATED_DATA ignoring data with redundant timestamp for frame odom (parent map) at time 934.218000 according to authority /pose_integrator\u001b[0m\n",
      "\u001b[33m[ WARN] [1743783402.706208946]: TF_REPEATED_DATA ignoring data with redundant timestamp for frame odom (parent map) at time 934.218000 according to authority /pose_integrator\u001b[0m\n",
      "\u001b[33m[ WARN] [1743783402.706248969]: TF_REPEATED_DATA ignoring data with redundant timestamp for frame odom (parent map) at time 934.218000 according to authority /pose_integrator\u001b[0m\n",
      "\u001b[33m[ WARN] [1743783402.706296373]: TF_REPEATED_DATA ignoring data with redundant timestamp for frame odom (parent map) at time 934.218000 according to authority /pose_integrator\u001b[0m\n",
      "\u001b[33m[ WARN] [1743783402.706332952]: TF_REPEATED_DATA ignoring data with redundant timestamp for frame odom (parent map) at time 934.218000 according to authority /pose_integrator\u001b[0m\n",
      "\u001b[33m[ WARN] [1743783405.528663975]: TF_REPEATED_DATA ignoring data with redundant timestamp for frame odom (parent map) at time 934.862000 according to authority /pose_integrator\u001b[0m\n",
      "\u001b[33m[ WARN] [1743783405.528722845]: TF_REPEATED_DATA ignoring data with redundant timestamp for frame odom (parent map) at time 934.862000 according to authority /pose_integrator\u001b[0m\n",
      "\u001b[33m[ WARN] [1743783405.528755464]: TF_REPEATED_DATA ignoring data with redundant timestamp for frame odom (parent map) at time 934.862000 according to authority /pose_integrator\u001b[0m\n",
      "\u001b[33m[ WARN] [1743783405.528784401]: TF_REPEATED_DATA ignoring data with redundant timestamp for frame odom (parent map) at time 934.862000 according to authority /pose_integrator\u001b[0m\n",
      "\u001b[33m[ WARN] [1743783405.528812676]: TF_REPEATED_DATA ignoring data with redundant timestamp for frame odom (parent map) at time 934.862000 according to authority /pose_integrator\u001b[0m\n",
      "\u001b[33m[ WARN] [1743783405.528857835]: TF_REPEATED_DATA ignoring data with redundant timestamp for frame odom (parent map) at time 934.862000 according to authority /pose_integrator\u001b[0m\n",
      "\u001b[33m[ WARN] [1743783406.138218350]: TF_REPEATED_DATA ignoring data with redundant timestamp for frame odom (parent map) at time 934.994000 according to authority /pose_integrator\u001b[0m\n",
      "\u001b[33m[ WARN] [1743783406.138278832]: TF_REPEATED_DATA ignoring data with redundant timestamp for frame odom (parent map) at time 934.994000 according to authority /pose_integrator\u001b[0m\n",
      "\u001b[33m[ WARN] [1743783406.138315762]: TF_REPEATED_DATA ignoring data with redundant timestamp for frame odom (parent map) at time 934.994000 according to authority /pose_integrator\u001b[0m\n",
      "\u001b[33m[ WARN] [1743783406.138351354]: TF_REPEATED_DATA ignoring data with redundant timestamp for frame odom (parent map) at time 934.994000 according to authority /pose_integrator\u001b[0m\n",
      "\u001b[33m[ WARN] [1743783406.138385297]: TF_REPEATED_DATA ignoring data with redundant timestamp for frame odom (parent map) at time 934.994000 according to authority /pose_integrator\u001b[0m\n",
      "\u001b[33m[ WARN] [1743783406.138419214]: TF_REPEATED_DATA ignoring data with redundant timestamp for frame odom (parent map) at time 934.994000 according to authority /pose_integrator\u001b[0m\n",
      "\u001b[33m[ WARN] [1743783406.319952763]: TF_REPEATED_DATA ignoring data with redundant timestamp for frame odom (parent map) at time 935.064000 according to authority /pose_integrator\u001b[0m\n",
      "\u001b[33m[ WARN] [1743783406.320001731]: TF_REPEATED_DATA ignoring data with redundant timestamp for frame odom (parent map) at time 935.064000 according to authority /pose_integrator\u001b[0m\n",
      "\u001b[33m[ WARN] [1743783406.320035364]: TF_REPEATED_DATA ignoring data with redundant timestamp for frame odom (parent map) at time 935.064000 according to authority /pose_integrator\u001b[0m\n",
      "\u001b[33m[ WARN] [1743783406.320079580]: TF_REPEATED_DATA ignoring data with redundant timestamp for frame odom (parent map) at time 935.064000 according to authority /pose_integrator\u001b[0m\n",
      "\u001b[33m[ WARN] [1743783406.320111694]: TF_REPEATED_DATA ignoring data with redundant timestamp for frame odom (parent map) at time 935.064000 according to authority /pose_integrator\u001b[0m\n",
      "\u001b[33m[ WARN] [1743783406.320142051]: TF_REPEATED_DATA ignoring data with redundant timestamp for frame odom (parent map) at time 935.064000 according to authority /pose_integrator\u001b[0m\n",
      "\u001b[33m[ WARN] [1743783422.689799047]: TF_REPEATED_DATA ignoring data with redundant timestamp for frame odom (parent map) at time 938.724000 according to authority /pose_integrator\u001b[0m\n",
      "\u001b[33m[ WARN] [1743783422.689865914]: TF_REPEATED_DATA ignoring data with redundant timestamp for frame odom (parent map) at time 938.724000 according to authority /pose_integrator\u001b[0m\n",
      "\u001b[33m[ WARN] [1743783422.689911189]: TF_REPEATED_DATA ignoring data with redundant timestamp for frame odom (parent map) at time 938.724000 according to authority /pose_integrator\u001b[0m\n",
      "\u001b[33m[ WARN] [1743783422.689967749]: TF_REPEATED_DATA ignoring data with redundant timestamp for frame odom (parent map) at time 938.724000 according to authority /pose_integrator\u001b[0m\n",
      "\u001b[33m[ WARN] [1743783422.690019426]: TF_REPEATED_DATA ignoring data with redundant timestamp for frame odom (parent map) at time 938.724000 according to authority /pose_integrator\u001b[0m\n",
      "\u001b[33m[ WARN] [1743783422.690064591]: TF_REPEATED_DATA ignoring data with redundant timestamp for frame odom (parent map) at time 938.724000 according to authority /pose_integrator\u001b[0m\n"
     ]
    },
    {
     "name": "stderr",
     "output_type": "stream",
     "text": [
      "\u001b[33m[ WARN] [1743783423.438864603]: TF_REPEATED_DATA ignoring data with redundant timestamp for frame odom (parent map) at time 938.959000 according to authority /pose_integrator\u001b[0m\n",
      "\u001b[33m[ WARN] [1743783423.438917539]: TF_REPEATED_DATA ignoring data with redundant timestamp for frame odom (parent map) at time 938.959000 according to authority /pose_integrator\u001b[0m\n",
      "\u001b[33m[ WARN] [1743783423.438946809]: TF_REPEATED_DATA ignoring data with redundant timestamp for frame odom (parent map) at time 938.959000 according to authority /pose_integrator\u001b[0m\n",
      "\u001b[33m[ WARN] [1743783423.438974434]: TF_REPEATED_DATA ignoring data with redundant timestamp for frame odom (parent map) at time 938.959000 according to authority /pose_integrator\u001b[0m\n",
      "\u001b[33m[ WARN] [1743783423.439001920]: TF_REPEATED_DATA ignoring data with redundant timestamp for frame odom (parent map) at time 938.959000 according to authority /pose_integrator\u001b[0m\n",
      "\u001b[33m[ WARN] [1743783423.439029885]: TF_REPEATED_DATA ignoring data with redundant timestamp for frame odom (parent map) at time 938.959000 according to authority /pose_integrator\u001b[0m\n",
      "\u001b[33m[ WARN] [1743783428.876634791]: TF_REPEATED_DATA ignoring data with redundant timestamp for frame odom (parent map) at time 940.345000 according to authority /pose_integrator\u001b[0m\n",
      "\u001b[33m[ WARN] [1743783428.876702386]: TF_REPEATED_DATA ignoring data with redundant timestamp for frame odom (parent map) at time 940.345000 according to authority /pose_integrator\u001b[0m\n",
      "\u001b[33m[ WARN] [1743783428.876747387]: TF_REPEATED_DATA ignoring data with redundant timestamp for frame odom (parent map) at time 940.345000 according to authority /pose_integrator\u001b[0m\n",
      "\u001b[33m[ WARN] [1743783428.876796796]: TF_REPEATED_DATA ignoring data with redundant timestamp for frame odom (parent map) at time 940.345000 according to authority /pose_integrator\u001b[0m\n",
      "\u001b[33m[ WARN] [1743783428.876855382]: TF_REPEATED_DATA ignoring data with redundant timestamp for frame odom (parent map) at time 940.345000 according to authority /pose_integrator\u001b[0m\n",
      "\u001b[33m[ WARN] [1743783428.876896747]: TF_REPEATED_DATA ignoring data with redundant timestamp for frame odom (parent map) at time 940.345000 according to authority /pose_integrator\u001b[0m\n",
      "\u001b[33m[ WARN] [1743783434.813985547]: TF_REPEATED_DATA ignoring data with redundant timestamp for frame odom (parent map) at time 941.836000 according to authority /pose_integrator\u001b[0m\n",
      "\u001b[33m[ WARN] [1743783434.814048163]: TF_REPEATED_DATA ignoring data with redundant timestamp for frame odom (parent map) at time 941.836000 according to authority /pose_integrator\u001b[0m\n",
      "\u001b[33m[ WARN] [1743783434.814086674]: TF_REPEATED_DATA ignoring data with redundant timestamp for frame odom (parent map) at time 941.836000 according to authority /pose_integrator\u001b[0m\n",
      "\u001b[33m[ WARN] [1743783434.814119159]: TF_REPEATED_DATA ignoring data with redundant timestamp for frame odom (parent map) at time 941.836000 according to authority /pose_integrator\u001b[0m\n",
      "\u001b[33m[ WARN] [1743783434.814153279]: TF_REPEATED_DATA ignoring data with redundant timestamp for frame odom (parent map) at time 941.836000 according to authority /pose_integrator\u001b[0m\n",
      "\u001b[33m[ WARN] [1743783434.814188773]: TF_REPEATED_DATA ignoring data with redundant timestamp for frame odom (parent map) at time 941.836000 according to authority /pose_integrator\u001b[0m\n",
      "\u001b[33m[ WARN] [1743783441.615215109]: TF_REPEATED_DATA ignoring data with redundant timestamp for frame odom (parent map) at time 943.426000 according to authority /pose_integrator\u001b[0m\n",
      "\u001b[33m[ WARN] [1743783441.615304310]: TF_REPEATED_DATA ignoring data with redundant timestamp for frame odom (parent map) at time 943.426000 according to authority /pose_integrator\u001b[0m\n",
      "\u001b[33m[ WARN] [1743783441.615360336]: TF_REPEATED_DATA ignoring data with redundant timestamp for frame odom (parent map) at time 943.426000 according to authority /pose_integrator\u001b[0m\n",
      "\u001b[33m[ WARN] [1743783441.615410429]: TF_REPEATED_DATA ignoring data with redundant timestamp for frame odom (parent map) at time 943.426000 according to authority /pose_integrator\u001b[0m\n",
      "\u001b[33m[ WARN] [1743783441.615456464]: TF_REPEATED_DATA ignoring data with redundant timestamp for frame odom (parent map) at time 943.426000 according to authority /pose_integrator\u001b[0m\n",
      "\u001b[33m[ WARN] [1743783441.615502242]: TF_REPEATED_DATA ignoring data with redundant timestamp for frame odom (parent map) at time 943.426000 according to authority /pose_integrator\u001b[0m\n",
      "\u001b[33m[ WARN] [1743783448.824633623]: TF_REPEATED_DATA ignoring data with redundant timestamp for frame odom (parent map) at time 945.083000 according to authority /pose_integrator\u001b[0m\n",
      "\u001b[33m[ WARN] [1743783448.824695380]: TF_REPEATED_DATA ignoring data with redundant timestamp for frame odom (parent map) at time 945.083000 according to authority /pose_integrator\u001b[0m\n",
      "\u001b[33m[ WARN] [1743783448.824731216]: TF_REPEATED_DATA ignoring data with redundant timestamp for frame odom (parent map) at time 945.083000 according to authority /pose_integrator\u001b[0m\n",
      "\u001b[33m[ WARN] [1743783448.824763722]: TF_REPEATED_DATA ignoring data with redundant timestamp for frame odom (parent map) at time 945.083000 according to authority /pose_integrator\u001b[0m\n",
      "\u001b[33m[ WARN] [1743783448.824800261]: TF_REPEATED_DATA ignoring data with redundant timestamp for frame odom (parent map) at time 945.083000 according to authority /pose_integrator\u001b[0m\n",
      "\u001b[33m[ WARN] [1743783448.824837672]: TF_REPEATED_DATA ignoring data with redundant timestamp for frame odom (parent map) at time 945.083000 according to authority /pose_integrator\u001b[0m\n",
      "\u001b[33m[ WARN] [1743783456.632873951]: TF_REPEATED_DATA ignoring data with redundant timestamp for frame odom (parent map) at time 946.964000 according to authority /pose_integrator\u001b[0m\n",
      "\u001b[33m[ WARN] [1743783456.632932844]: TF_REPEATED_DATA ignoring data with redundant timestamp for frame odom (parent map) at time 946.964000 according to authority /pose_integrator\u001b[0m\n",
      "\u001b[33m[ WARN] [1743783456.632970078]: TF_REPEATED_DATA ignoring data with redundant timestamp for frame odom (parent map) at time 946.964000 according to authority /pose_integrator\u001b[0m\n",
      "\u001b[33m[ WARN] [1743783456.633004009]: TF_REPEATED_DATA ignoring data with redundant timestamp for frame odom (parent map) at time 946.964000 according to authority /pose_integrator\u001b[0m\n",
      "\u001b[33m[ WARN] [1743783456.633035620]: TF_REPEATED_DATA ignoring data with redundant timestamp for frame odom (parent map) at time 946.964000 according to authority /pose_integrator\u001b[0m\n",
      "\u001b[33m[ WARN] [1743783456.633068249]: TF_REPEATED_DATA ignoring data with redundant timestamp for frame odom (parent map) at time 946.964000 according to authority /pose_integrator\u001b[0m\n",
      "\u001b[33m[ WARN] [1743783457.236439486]: TF_REPEATED_DATA ignoring data with redundant timestamp for frame odom (parent map) at time 947.140000 according to authority /pose_integrator\u001b[0m\n",
      "\u001b[33m[ WARN] [1743783457.236514720]: TF_REPEATED_DATA ignoring data with redundant timestamp for frame odom (parent map) at time 947.140000 according to authority /pose_integrator\u001b[0m\n",
      "\u001b[33m[ WARN] [1743783457.236568405]: TF_REPEATED_DATA ignoring data with redundant timestamp for frame odom (parent map) at time 947.140000 according to authority /pose_integrator\u001b[0m\n",
      "\u001b[33m[ WARN] [1743783457.236625239]: TF_REPEATED_DATA ignoring data with redundant timestamp for frame odom (parent map) at time 947.140000 according to authority /pose_integrator\u001b[0m\n",
      "\u001b[33m[ WARN] [1743783457.236681827]: TF_REPEATED_DATA ignoring data with redundant timestamp for frame odom (parent map) at time 947.140000 according to authority /pose_integrator\u001b[0m\n",
      "\u001b[33m[ WARN] [1743783457.236738250]: TF_REPEATED_DATA ignoring data with redundant timestamp for frame odom (parent map) at time 947.140000 according to authority /pose_integrator\u001b[0m\n",
      "\u001b[33m[ WARN] [1743783458.763021780]: TF_REPEATED_DATA ignoring data with redundant timestamp for frame odom (parent map) at time 947.525000 according to authority /pose_integrator\u001b[0m\n",
      "\u001b[33m[ WARN] [1743783458.763082503]: TF_REPEATED_DATA ignoring data with redundant timestamp for frame odom (parent map) at time 947.525000 according to authority /pose_integrator\u001b[0m\n",
      "\u001b[33m[ WARN] [1743783458.763124413]: TF_REPEATED_DATA ignoring data with redundant timestamp for frame odom (parent map) at time 947.525000 according to authority /pose_integrator\u001b[0m\n",
      "\u001b[33m[ WARN] [1743783458.763163910]: TF_REPEATED_DATA ignoring data with redundant timestamp for frame odom (parent map) at time 947.525000 according to authority /pose_integrator\u001b[0m\n",
      "\u001b[33m[ WARN] [1743783458.763204705]: TF_REPEATED_DATA ignoring data with redundant timestamp for frame odom (parent map) at time 947.525000 according to authority /pose_integrator\u001b[0m\n",
      "\u001b[33m[ WARN] [1743783458.763249776]: TF_REPEATED_DATA ignoring data with redundant timestamp for frame odom (parent map) at time 947.525000 according to authority /pose_integrator\u001b[0m\n"
     ]
    },
    {
     "name": "stderr",
     "output_type": "stream",
     "text": [
      "\u001b[33m[ WARN] [1743783459.691195833]: TF_REPEATED_DATA ignoring data with redundant timestamp for frame odom (parent map) at time 947.771000 according to authority /pose_integrator\u001b[0m\n",
      "\u001b[33m[ WARN] [1743783459.691262950]: TF_REPEATED_DATA ignoring data with redundant timestamp for frame odom (parent map) at time 947.771000 according to authority /pose_integrator\u001b[0m\n",
      "\u001b[33m[ WARN] [1743783459.691298710]: TF_REPEATED_DATA ignoring data with redundant timestamp for frame odom (parent map) at time 947.771000 according to authority /pose_integrator\u001b[0m\n",
      "\u001b[33m[ WARN] [1743783459.691327835]: TF_REPEATED_DATA ignoring data with redundant timestamp for frame odom (parent map) at time 947.771000 according to authority /pose_integrator\u001b[0m\n",
      "\u001b[33m[ WARN] [1743783459.691362028]: TF_REPEATED_DATA ignoring data with redundant timestamp for frame odom (parent map) at time 947.771000 according to authority /pose_integrator\u001b[0m\n",
      "\u001b[33m[ WARN] [1743783459.691392925]: TF_REPEATED_DATA ignoring data with redundant timestamp for frame odom (parent map) at time 947.771000 according to authority /pose_integrator\u001b[0m\n",
      "\u001b[33m[ WARN] [1743783461.566213117]: TF_REPEATED_DATA ignoring data with redundant timestamp for frame odom (parent map) at time 948.299000 according to authority /pose_integrator\u001b[0m\n",
      "\u001b[33m[ WARN] [1743783461.566264181]: TF_REPEATED_DATA ignoring data with redundant timestamp for frame odom (parent map) at time 948.299000 according to authority /pose_integrator\u001b[0m\n",
      "\u001b[33m[ WARN] [1743783461.566309162]: TF_REPEATED_DATA ignoring data with redundant timestamp for frame odom (parent map) at time 948.299000 according to authority /pose_integrator\u001b[0m\n",
      "\u001b[33m[ WARN] [1743783461.566358221]: TF_REPEATED_DATA ignoring data with redundant timestamp for frame odom (parent map) at time 948.299000 according to authority /pose_integrator\u001b[0m\n",
      "\u001b[33m[ WARN] [1743783461.566388790]: TF_REPEATED_DATA ignoring data with redundant timestamp for frame odom (parent map) at time 948.299000 according to authority /pose_integrator\u001b[0m\n",
      "\u001b[33m[ WARN] [1743783461.566419791]: TF_REPEATED_DATA ignoring data with redundant timestamp for frame odom (parent map) at time 948.299000 according to authority /pose_integrator\u001b[0m\n",
      "\u001b[33m[ WARN] [1743783478.841992873]: TF_REPEATED_DATA ignoring data with redundant timestamp for frame odom (parent map) at time 952.413000 according to authority /pose_integrator\u001b[0m\n",
      "\u001b[33m[ WARN] [1743783478.842048219]: TF_REPEATED_DATA ignoring data with redundant timestamp for frame odom (parent map) at time 952.413000 according to authority /pose_integrator\u001b[0m\n",
      "\u001b[33m[ WARN] [1743783478.842082684]: TF_REPEATED_DATA ignoring data with redundant timestamp for frame odom (parent map) at time 952.413000 according to authority /pose_integrator\u001b[0m\n",
      "\u001b[33m[ WARN] [1743783478.842111008]: TF_REPEATED_DATA ignoring data with redundant timestamp for frame odom (parent map) at time 952.413000 according to authority /pose_integrator\u001b[0m\n",
      "\u001b[33m[ WARN] [1743783478.842139309]: TF_REPEATED_DATA ignoring data with redundant timestamp for frame odom (parent map) at time 952.413000 according to authority /pose_integrator\u001b[0m\n",
      "\u001b[33m[ WARN] [1743783478.842175050]: TF_REPEATED_DATA ignoring data with redundant timestamp for frame odom (parent map) at time 952.413000 according to authority /pose_integrator\u001b[0m\n"
     ]
    }
   ],
   "source": [
    "plt.imshow(mask*corrected['z'],cmap='prism')"
   ]
  },
  {
   "cell_type": "code",
   "execution_count": null,
   "id": "1a5a5411",
   "metadata": {},
   "outputs": [],
   "source": []
  }
 ],
 "metadata": {
  "kernelspec": {
   "display_name": "Python 3 (ipykernel)",
   "language": "python",
   "name": "python3"
  },
  "language_info": {
   "codemirror_mode": {
    "name": "ipython",
    "version": 3
   },
   "file_extension": ".py",
   "mimetype": "text/x-python",
   "name": "python",
   "nbconvert_exporter": "python",
   "pygments_lexer": "ipython3",
   "version": "3.8.10"
  }
 },
 "nbformat": 4,
 "nbformat_minor": 5
}
