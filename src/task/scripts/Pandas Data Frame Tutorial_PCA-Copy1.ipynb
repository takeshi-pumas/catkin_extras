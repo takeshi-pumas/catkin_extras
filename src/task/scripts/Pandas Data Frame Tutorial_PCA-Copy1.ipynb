{
 "cells": [
  {
   "cell_type": "code",
   "execution_count": 11,
   "id": "d543798b",
   "metadata": {},
   "outputs": [
    {
     "name": "stderr",
     "output_type": "stream",
     "text": [
      "\u001b[33m[ WARN] [1743741371.440632511]: TF_REPEATED_DATA ignoring data with redundant timestamp for frame odom (parent map) at time 1224.032000 according to authority /pose_integrator\u001b[0m\n",
      "\u001b[33m[ WARN] [1743741371.440705079]: TF_REPEATED_DATA ignoring data with redundant timestamp for frame odom (parent map) at time 1224.032000 according to authority /pose_integrator\u001b[0m\n",
      "\u001b[33m[ WARN] [1743741371.440749929]: TF_REPEATED_DATA ignoring data with redundant timestamp for frame odom (parent map) at time 1224.032000 according to authority /pose_integrator\u001b[0m\n",
      "\u001b[33m[ WARN] [1743741371.440793522]: TF_REPEATED_DATA ignoring data with redundant timestamp for frame odom (parent map) at time 1224.032000 according to authority /pose_integrator\u001b[0m\n",
      "\u001b[33m[ WARN] [1743741371.440845090]: TF_REPEATED_DATA ignoring data with redundant timestamp for frame odom (parent map) at time 1224.032000 according to authority /pose_integrator\u001b[0m\n",
      "\u001b[33m[ WARN] [1743741371.440891656]: TF_REPEATED_DATA ignoring data with redundant timestamp for frame odom (parent map) at time 1224.032000 according to authority /pose_integrator\u001b[0m\n"
     ]
    }
   ],
   "source": [
    "#-----------------------------------------------------------------\n",
    "def write_tf(pose, q, child_frame=\"\" , parent_frame='map'):\n",
    "    #  pose = trans  q = quaternion  , childframe =\"\"\n",
    "    # format  write the transformstampled message\n",
    "    t= TransformStamped()\n",
    "    t.header.stamp = rospy.Time.now()\n",
    "    #t.header.stamp = rospy.Time(0)\n",
    "    t.header.frame_id =parent_frame\n",
    "    t.child_frame_id =  child_frame\n",
    "    t.transform.translation.x = pose[0]\n",
    "    t.transform.translation.y = pose[1]\n",
    "    t.transform.translation.z = pose[2]\n",
    "    #q = tf.transformations.quaternion_from_euler(eu[0], eu[1], eu[2])\n",
    "    t.transform.rotation.x = q[0]\n",
    "    t.transform.rotation.y = q[1]\n",
    "    t.transform.rotation.z = q[2]\n",
    "    t.transform.rotation.w = q[3]\n",
    "    return t\n",
    "    \n",
    "#-----------------------------------------------------------------\n",
    "def read_tf(t):\n",
    "    # trasnform message to np arrays\n",
    "    pose=np.asarray((\n",
    "        t.transform.translation.x,\n",
    "        t.transform.translation.y,\n",
    "        t.transform.translation.z\n",
    "        ))\n",
    "    quat=np.asarray((\n",
    "        t.transform.rotation.x,\n",
    "        t.transform.rotation.y,\n",
    "        t.transform.rotation.z,\n",
    "        t.transform.rotation.w\n",
    "        ))\n",
    "    \n",
    "    return pose, quat\n",
    "#-----------------------------------------------------------------    "
   ]
  },
  {
   "cell_type": "code",
   "execution_count": 30,
   "id": "7b5af462",
   "metadata": {},
   "outputs": [],
   "source": [
    "def points_to_PCA(points):\n",
    "    df=pd.DataFrame(points)\n",
    "    df.columns=[['x','y','z']]\n",
    "    threshold= df_pts['z'].min().values[0]*0.998\n",
    "    print (threshold)\n",
    "    rslt_df = df.loc[df[df['z'] > threshold].index]\n",
    "    points=rslt_df[['x','y','z']].dropna().values\n",
    "    Pca=PCA(n_components=3)\n",
    "    Pca.fit(points)\n",
    "    print('Pca.explained_variance_',Pca.explained_variance_)\n",
    "    ## HOMOGENEUS\n",
    "    E_R= np.zeros((4,4))\n",
    "    E_R[:3,:3]+=R\n",
    "    E_R[-1,-1]=1\n",
    "    return     E_R\n"
   ]
  },
  {
   "cell_type": "code",
   "execution_count": 31,
   "id": "e97ec541",
   "metadata": {},
   "outputs": [],
   "source": [
    "def points_to_PCA(points):\n",
    "    df=pd.DataFrame(points)\n",
    "    df.columns=[['x','y','z']]\n",
    "    threshold= df_pts['z'].min().values[0]*0.998\n",
    "    print (threshold)\n",
    "    rslt_df = df.loc[df[df['z'] > threshold].index]\n",
    "\n",
    "    \n",
    "    points=rslt_df[['x','y','z']].dropna().values\n",
    "    Pca=PCA(n_components=3)\n",
    "    Pca.fit(points)\n",
    "    #print('Pca.explained_variance_',Pca.explained_variance_)\n",
    "    ref=np.eye(3)\n",
    "    pcas=Pca.components_\n",
    "    R=[]\n",
    "    R.append(np.dot(pcas[0],ref))\n",
    "    R.append(np.dot(pcas[1],ref))\n",
    "    R.append(np.dot(pcas[2],ref))\n",
    "    R=np.asarray(R)\n",
    "    ## HOMOGENEUS\n",
    "    E_R= np.zeros((4,4))\n",
    "    E_R[:3,:3]+=R\n",
    "    E_R[-1,-1]=1\n",
    "    return     E_R\n"
   ]
  },
  {
   "cell_type": "code",
   "execution_count": 6,
   "id": "aae4aa59",
   "metadata": {},
   "outputs": [],
   "source": [
    "import matplotlib.pyplot as plt\n",
    "import numpy as np\n",
    "from mpl_toolkits.mplot3d import Axes3D\n",
    "import seaborn as sns\n",
    "import pandas as pd\n",
    "from sklearn.decomposition import PCA\n",
    "import tf"
   ]
  },
  {
   "cell_type": "code",
   "execution_count": null,
   "id": "1312cf73",
   "metadata": {},
   "outputs": [],
   "source": [
    "points=np.load('/home/roboworks/Documents/points.npy')\n",
    "df_pts=pd.DataFrame(points)\n",
    "df_pts.columns=[['x','y','z']]\n",
    "threshold= df_pts['z'].min().values[0]*0.998\n",
    "print (threshold)\n",
    "rslt_df_pts = df_pts[['x','y','z']][df_pts[['x','y','z']] > threshold]\n",
    "print (rslt_df_pts.describe())\n",
    "newpoints=rslt_df_pts[['x','y','z']].values\n",
    "E_R=points_to_PCA(newpoints)\n",
    "print(np.rad2deg(tf.transformations.euler_from_matrix(E_R)))\n",
    "print(np.sign(np.rad2deg(tf.transformations.euler_from_matrix(E_R))[0])*np.rad2deg(tf.transformations.euler_from_matrix(E_R))[1])"
   ]
  },
  {
   "cell_type": "code",
   "execution_count": null,
   "id": "766fb9d2",
   "metadata": {},
   "outputs": [],
   "source": [
    "points=np.load('/home/roboworks/Documents/points2.npy')\n",
    "\n",
    "points\n",
    "points_to_PCA(points)\n",
    "points.shape"
   ]
  },
  {
   "cell_type": "code",
   "execution_count": null,
   "id": "6f2b02ab",
   "metadata": {},
   "outputs": [],
   "source": [
    "rslt_df_pts = df_pts.loc[df_pts[df_pts['z'] > threshold].index]\n",
    "\n",
    "points=rslt_df_pts[['x','y','z']].dropna().values   \n",
    "points"
   ]
  },
  {
   "cell_type": "code",
   "execution_count": null,
   "id": "fea27332",
   "metadata": {},
   "outputs": [],
   "source": [
    "points_to_PCA(points)"
   ]
  },
  {
   "cell_type": "code",
   "execution_count": null,
   "id": "f2abdc22",
   "metadata": {},
   "outputs": [],
   "source": [
    "df_pts"
   ]
  },
  {
   "cell_type": "code",
   "execution_count": null,
   "id": "fe8040dc",
   "metadata": {},
   "outputs": [],
   "source": [
    "rslt_df_pts"
   ]
  },
  {
   "cell_type": "markdown",
   "id": "d964493a",
   "metadata": {},
   "source": [
    "-98.63997914 -40.27221135 107.26441686<br>\n",
    "[ 97.6089583  -39.13610332 119.11722414]<br><br><br><br><br><br><br><br><br>"
   ]
  },
  {
   "cell_type": "code",
   "execution_count": null,
   "id": "000e97c1",
   "metadata": {},
   "outputs": [],
   "source": [
    "tf.transformations.euler_from_quaternion((0.62734299, 0.40730226, 0.66127357, 0.05712182))"
   ]
  },
  {
   "cell_type": "code",
   "execution_count": null,
   "id": "e6119e0d",
   "metadata": {},
   "outputs": [],
   "source": [
    "e_ER=tf.transformations.euler_from_matrix(E_R)\n",
    "q_ET=tf.transformations.quaternion_from_euler(e_ER[0],e_ER[1],e_ER[2])\n",
    "print (q_ET)"
   ]
  },
  {
   "cell_type": "code",
   "execution_count": null,
   "id": "865d5f9d",
   "metadata": {},
   "outputs": [],
   "source": [
    "quat=tf.transformations.quaternion_from_matrix(E_R)\n",
    "print(tf.transformations.euler_from_matrix(E_R))\n",
    "print(quat)"
   ]
  },
  {
   "cell_type": "code",
   "execution_count": null,
   "id": "d1cf34c4",
   "metadata": {},
   "outputs": [],
   "source": [
    "points.shape"
   ]
  },
  {
   "cell_type": "code",
   "execution_count": null,
   "id": "39262b5e",
   "metadata": {},
   "outputs": [],
   "source": [
    "\n",
    "fig = plt.figure()\n",
    "ax = fig.add_subplot(projection='3d')\n",
    "ax.scatter(points[:,0],points[:,1],points[:,2])"
   ]
  },
  {
   "cell_type": "code",
   "execution_count": null,
   "id": "c7e0edd3",
   "metadata": {},
   "outputs": [],
   "source": [
    "points=np.load('/home/roboworks/Documents/points2.npy')\n",
    "\n",
    "fig = plt.figure()\n",
    "ax = fig.add_subplot(projection='3d')\n",
    "ax.scatter(points[:,0],points[:,1],points[:,2])"
   ]
  },
  {
   "cell_type": "code",
   "execution_count": null,
   "id": "b87b2b25",
   "metadata": {},
   "outputs": [],
   "source": [
    "import seaborn as sns\n",
    "import pandas as pd\n",
    "df=pd.DataFrame(points)\n",
    "df.columns=[['x','y','z']]\n",
    "df.describe()"
   ]
  },
  {
   "cell_type": "code",
   "execution_count": null,
   "id": "111cd987",
   "metadata": {},
   "outputs": [],
   "source": [
    "threshold= df['z'].min().values[0]*0.998\n",
    "threshold"
   ]
  },
  {
   "cell_type": "code",
   "execution_count": null,
   "id": "24e157db",
   "metadata": {},
   "outputs": [],
   "source": [
    "threshold= df['z'].min().values[0]*0.998\n",
    " # ( remove some ground)\n",
    "#threshsold=-0.978\n",
    "rslt_df = df[['x','y','z']][df[['x','y','z']] > threshold]"
   ]
  },
  {
   "cell_type": "code",
   "execution_count": null,
   "id": "2523103f",
   "metadata": {},
   "outputs": [],
   "source": [
    "rslt_df.describe()"
   ]
  },
  {
   "cell_type": "code",
   "execution_count": null,
   "id": "81f2c413",
   "metadata": {},
   "outputs": [],
   "source": [
    "#points=rslt_df[['x','y','z']].sample(30).values\n",
    "points=rslt_df[['x','y','z']].values\n",
    "fig = plt.figure()\n",
    "ax = fig.add_subplot(projection='3d')\n",
    "ax.scatter(points[:,0],points[:,1],points[:,2])\n",
    "pt=rslt_df[['x','y','z']].mean().values\n",
    "ax.scatter(pt[0],pt[1],pt[2],'o')"
   ]
  },
  {
   "cell_type": "code",
   "execution_count": null,
   "id": "557b1b94",
   "metadata": {},
   "outputs": [],
   "source": [
    "E_R=points_to_PCA(points)\n",
    "E_R"
   ]
  },
  {
   "cell_type": "code",
   "execution_count": null,
   "id": "5c2061d5",
   "metadata": {},
   "outputs": [],
   "source": []
  },
  {
   "cell_type": "markdown",
   "id": "5652ea59",
   "metadata": {},
   "source": [
    "[-92.55031776  -0.92126908 118.62054193]<br>\n",
    "[-98.61322822 -44.31230308 106.44802105]<br>\n",
    "[106.458072   -64.33138726 112.32396092]<br>\n",
    "\n"
   ]
  },
  {
   "cell_type": "code",
   "execution_count": null,
   "id": "e39826ae",
   "metadata": {},
   "outputs": [],
   "source": [
    "\n",
    "print(np.rad2deg(tf.transformations.euler_from_matrix(E_R)))"
   ]
  },
  {
   "cell_type": "code",
   "execution_count": null,
   "id": "61e5964b",
   "metadata": {},
   "outputs": [],
   "source": [
    "print(np.rad2deg(tf.transformations.euler_from_matrix(E_R)))"
   ]
  },
  {
   "cell_type": "code",
   "execution_count": null,
   "id": "6d15a294",
   "metadata": {},
   "outputs": [],
   "source": []
  },
  {
   "cell_type": "code",
   "execution_count": null,
   "id": "c063d5b6",
   "metadata": {},
   "outputs": [],
   "source": [
    "quat=tf.transformations.quaternion_from_matrix(E_R)\n",
    "print(tf.transformations.euler_from_matrix(E_R))"
   ]
  },
  {
   "cell_type": "code",
   "execution_count": null,
   "id": "b96d1525",
   "metadata": {},
   "outputs": [],
   "source": [
    "points=rslt_df[['x','y','z']].dropna().values\n",
    "pt=rslt_df[['x','y','z']].mean().values\n"
   ]
  },
  {
   "cell_type": "code",
   "execution_count": null,
   "id": "2bfff52e",
   "metadata": {},
   "outputs": [],
   "source": [
    "from sklearn.decomposition import PCA\n",
    "Pca=PCA(n_components=3)\n",
    "Pca.fit(points)\n",
    "        \n",
    "\n",
    "print(Pca.singular_values_)\n",
    "print(Pca.explained_variance_)\n",
    "norm_expl=Pca.explained_variance_/Pca.explained_variance_.sum()\n",
    "norm_expl"
   ]
  },
  {
   "cell_type": "code",
   "execution_count": null,
   "id": "1acfed0f",
   "metadata": {},
   "outputs": [],
   "source": [
    "Pca.components_"
   ]
  },
  {
   "cell_type": "code",
   "execution_count": null,
   "id": "86f4f0f1",
   "metadata": {},
   "outputs": [],
   "source": [
    "#points=rslt_df[['x','y','z']].sample(300).values\n",
    "points=rslt_df[['x','y','z']].values\n",
    "fig = plt.figure()\n",
    "ax = fig.add_subplot(projection='3d')\n",
    "ax.scatter(points[:,0],points[:,1],points[:,2])\n",
    "pt=rslt_df[['x','y','z']].mean().values\n",
    "ax.scatter(pt[0],pt[1],pt[2],'o')\n"
   ]
  },
  {
   "cell_type": "code",
   "execution_count": null,
   "id": "0d749b77",
   "metadata": {},
   "outputs": [],
   "source": [
    "Pca.components_\n"
   ]
  },
  {
   "cell_type": "code",
   "execution_count": null,
   "id": "037e53c1",
   "metadata": {},
   "outputs": [],
   "source": [
    "np.cross(Pca.components_[0],Pca.components_[1])"
   ]
  },
  {
   "cell_type": "code",
   "execution_count": null,
   "id": "483b228f",
   "metadata": {},
   "outputs": [],
   "source": [
    "pt=rslt_df[['x','y','z']].mean().values\n",
    "pts_1=[]\n",
    "pts_2=[]\n",
    "pts_3=[]\n",
    "p_1=[]\n",
    "p_2=[]\n",
    "p_3=[]\n",
    "\n",
    "pts_1.append(pt)\n",
    "pts_2.append(pt)\n",
    "pts_3.append(pt)\n",
    "for i in range (-5,5):\n",
    "    \n",
    "    pts_1.append(pt +Pca.components_[0]*i/30 )\n",
    "    p_1.append(pt + (np.eye(3)[0]*i/30) )\n",
    "    pts_2.append(pt +Pca.components_[1]*i/30 )\n",
    "    p_2.append(pt + (np.eye(3)[1]*i/30) )\n",
    "    pts_3.append(pt +Pca.components_[2]*i/30 )\n",
    "    p_3.append(pt + (np.eye(3)[2]*i/30) )\n",
    "\n",
    "pts_1=np.asarray(pts_1)  \n",
    "pts_2=np.asarray(pts_2)    \n",
    "pts_3=np.asarray(pts_3)    \n",
    "ps_x=np.asarray(p_1)  \n",
    "ps_y=np.asarray(p_2)  \n",
    "ps_z=np.asarray(p_3)  "
   ]
  },
  {
   "cell_type": "code",
   "execution_count": null,
   "id": "74d747c4",
   "metadata": {},
   "outputs": [],
   "source": [
    "fig = plt.figure()\n",
    "#points=np.load('/home/roboworks/Documents/points.npy')\n",
    "\n",
    "ax = fig.add_subplot(111, projection = '3d')\n",
    "ax.scatter(points[:,0],points[:,1],points[:,2],alpha=0.051,c='c')\n",
    "ax.scatter(pts_1[:,0],pts_1[:,1],pts_1[:,2],c='r')\n",
    "ax.scatter(pts_2[:,0],pts_2[:,1],pts_2[:,2],c='g')\n",
    "ax.scatter(pts_3[:,0],pts_3[:,1],pts_3[:,2],c='b')\n",
    "#ax.scatter(ps_x[:,0],ps_x[:,1],ps_x[:,2],alpha=0.25,c='r')\n",
    "#ax.scatter(ps_y[:,0],ps_y[:,1],ps_y[:,2],alpha=0.25,c='g')\n",
    "#ax.scatter(ps_z[:,0],ps_z[:,1],ps_z[:,2],alpha=0.25,c='b')\n",
    "\n",
    "#ax.scatter(pt[1],pt[0],pt[2],'o', c='y')\n",
    "plt.show()"
   ]
  },
  {
   "cell_type": "code",
   "execution_count": null,
   "id": "47035cca",
   "metadata": {},
   "outputs": [],
   "source": [
    "pts_3"
   ]
  },
  {
   "cell_type": "code",
   "execution_count": null,
   "id": "0b8bd8e0",
   "metadata": {},
   "outputs": [],
   "source": [
    "ref=np.eye(3)\n",
    "pcas=Pca.components_\n",
    "R=[]\n",
    "R.append(np.dot(pcas[0],ref))\n",
    "R.append(np.dot(pcas[1],ref))\n",
    "R.append(np.dot(pcas[2],ref))\n",
    "\n",
    "R=np.asarray(R)\n",
    "## HOMOGENEUS\n",
    "E_R= np.zeros((4,4))\n",
    "E_R[:3,:3]+=R\n",
    "E_R[-1,-1]=1\n",
    "E_R"
   ]
  },
  {
   "cell_type": "code",
   "execution_count": null,
   "id": "21e0d2f7",
   "metadata": {},
   "outputs": [],
   "source": [
    "x_rot=np.asarray(np.matmul(pts_1,R))\n",
    "y_rot=np.asarray(np.matmul(pts_2,R))\n",
    "z_rot=np.asarray(np.matmul(pts_3,R))\n",
    "fig = plt.figure()\n",
    "points=np.load('/home/roboworks/Documents/points.npy')\n",
    "\n",
    "ax = fig.add_subplot(111, projection = '3d')\n",
    "ax.scatter(points[:,0],points[:,1],points[:,2],alpha=0.1,c='c')\n",
    "ax.scatter(pts_1[:,0],pts_1[:,1],pts_1[:,2],c='r')\n",
    "ax.scatter(pts_2[:,0],pts_2[:,1],pts_2[:,2],c='g')\n",
    "ax.scatter(pts_3[:,0],pts_3[:,1],pts_3[:,2],c='b')\n",
    "ax.scatter(ps_x[:,0],ps_x[:,1],ps_x[:,2],alpha=0.15,c='r')\n",
    "ax.scatter(ps_y[:,0],ps_y[:,1],ps_y[:,2],alpha=0.15,c='g')\n",
    "ax.scatter(ps_z[:,0],ps_z[:,1],ps_z[:,2],alpha=0.15,c='b')\n",
    "ax.scatter(x_rot[:,0],x_rot[:,1],x_rot[:,2],alpha=0.5,c='r')\n",
    "ax.scatter(y_rot[:,0],y_rot[:,1],y_rot[:,2],alpha=0.5,c='g')\n",
    "ax.scatter(z_rot[:,0],z_rot[:,1],z_rot[:,2],alpha=0.5,c='b')\n",
    "#ax.scatter(pt[1],pt[0],pt[2],'o', c='y')\n",
    "\n",
    "plt.show()"
   ]
  },
  {
   "cell_type": "code",
   "execution_count": null,
   "id": "f1263f54",
   "metadata": {},
   "outputs": [],
   "source": []
  },
  {
   "cell_type": "code",
   "execution_count": null,
   "id": "446f9a8c",
   "metadata": {},
   "outputs": [],
   "source": []
  },
  {
   "cell_type": "code",
   "execution_count": null,
   "id": "d3176ab9",
   "metadata": {},
   "outputs": [],
   "source": [
    "##  Z=0  ( Proyeccion)\n",
    "fig = plt.figure()\n",
    "ax = fig.add_subplot(111)\n",
    "\n",
    "ax.scatter(pts_1[:,0],pts_1[:,1],alpha=1,c='r')\n",
    "ax.scatter(ps_x[:,0],ps_x[:,1],alpha=0.25,c='r')\n",
    "plt.xlim(0.7,1)\n",
    "plt.ylim(-0.75,0.25)\n",
    "plt.show()"
   ]
  },
  {
   "cell_type": "code",
   "execution_count": null,
   "id": "8b201b71",
   "metadata": {},
   "outputs": [],
   "source": [
    "np.arctan2((pts_1[1,1]-pts_1[0,1]),(pts_1[1,0]-pts_1[0,0]))"
   ]
  },
  {
   "cell_type": "code",
   "execution_count": null,
   "id": "74a2dbb1",
   "metadata": {},
   "outputs": [],
   "source": [
    "ang= -np.arctan2((pts_1[1,1]-pts_1[0,1]),(pts_1[1,0]-pts_1[0,0]))\n",
    "mat=np.mat((np.asarray((np.cos(ang) ,np.sin(ang),0,-1*np.sin(ang),np.cos(ang),0,0,0,1)).reshape((3,3))))"
   ]
  },
  {
   "cell_type": "code",
   "execution_count": null,
   "id": "b4e8e7f9",
   "metadata": {},
   "outputs": [],
   "source": [
    "x_rot=np.asarray(np.matmul(pts_1,R))\n",
    "y_rot=np.asarray(np.matmul(pts_2,R))\n",
    "z_rot=np.asarray(np.matmul(pts_3,R))\n"
   ]
  },
  {
   "cell_type": "code",
   "execution_count": null,
   "id": "162cb29a",
   "metadata": {},
   "outputs": [],
   "source": [
    "\n",
    "fig = plt.figure()\n",
    "ax = fig.add_subplot(111)\n",
    "\n",
    "ax.scatter(pts_1[:,0],pts_1[:,1],alpha=1,c='r')\n",
    "ax.scatter(xy_rot[:,0],xy_rot[:,1],alpha=0.25,c='y')\n",
    "ax.scatter(ps_x[:,0],ps_x[:,1],alpha=0.25,c='r')\n",
    "\n",
    "plt.show()"
   ]
  },
  {
   "cell_type": "code",
   "execution_count": null,
   "id": "83144192",
   "metadata": {},
   "outputs": [],
   "source": [
    "fig = plt.figure()\n",
    "points=np.load('/home/roboworks/Documents/points.npy')\n",
    "\n",
    "ax = fig.add_subplot(111, projection = '3d')\n",
    "ax.scatter(points[:,0],points[:,1],points[:,2],alpha=0.1,c='c')\n",
    "ax.scatter(pts_1[:,0],pts_1[:,1],pts_1[:,2],c='r')\n",
    "ax.scatter(pts_2[:,0],pts_2[:,1],pts_2[:,2],c='g')\n",
    "ax.scatter(pts_3[:,0],pts_3[:,1],pts_3[:,2],c='b')\n",
    "ax.scatter(ps_x[:,0],ps_x[:,1],ps_x[:,2],alpha=0.15,c='r')\n",
    "ax.scatter(ps_y[:,0],ps_y[:,1],ps_y[:,2],alpha=0.15,c='g')\n",
    "ax.scatter(ps_z[:,0],ps_z[:,1],ps_z[:,2],alpha=0.15,c='b')\n",
    "ax.scatter(x_rot[:,0],x_rot[:,1],x_rot[:,2],alpha=0.25,c='r')\n",
    "ax.scatter(y_rot[:,0],y_rot[:,1],y_rot[:,2],alpha=0.25,c='g')\n",
    "ax.scatter(z_rot[:,0],z_rot[:,1],z_rot[:,2],alpha=0.25,c='b')\n",
    "#ax.scatter(pt[1],pt[0],pt[2],'o', c='y')\n",
    "\n",
    "plt.show()"
   ]
  },
  {
   "cell_type": "code",
   "execution_count": null,
   "id": "2814a73c",
   "metadata": {},
   "outputs": [],
   "source": [
    "##y=0\n",
    "##  Z=0  ( Proyeccion)\n",
    "fig = plt.figure()\n",
    "ax = fig.add_subplot(111)\n",
    "\n",
    "ax.scatter(x_rot[:,0],x_rot[:,2],alpha=0.25,c='r')\n",
    "ax.scatter(ps_x[:,0],ps_x[:,2],alpha=0.25,c='r')\n",
    "\n",
    "\n",
    "\n",
    "plt.show()"
   ]
  },
  {
   "cell_type": "code",
   "execution_count": null,
   "id": "e1ccb8aa",
   "metadata": {},
   "outputs": [],
   "source": [
    "ps_y"
   ]
  },
  {
   "cell_type": "code",
   "execution_count": null,
   "id": "df767054",
   "metadata": {},
   "outputs": [],
   "source": []
  },
  {
   "cell_type": "code",
   "execution_count": null,
   "id": "1f5e8318",
   "metadata": {},
   "outputs": [],
   "source": []
  },
  {
   "cell_type": "code",
   "execution_count": null,
   "id": "c119d1a5",
   "metadata": {},
   "outputs": [],
   "source": []
  },
  {
   "cell_type": "code",
   "execution_count": null,
   "id": "3ed77563",
   "metadata": {},
   "outputs": [],
   "source": []
  },
  {
   "cell_type": "code",
   "execution_count": null,
   "id": "cd8a8ee1",
   "metadata": {},
   "outputs": [],
   "source": [
    "pt=rslt_df[['x','y','z']].mean().values\n",
    "pts_1=[]\n",
    "pts_2=[]\n",
    "pts_3=[]\n",
    "\n",
    "pts_1.append(pt)\n",
    "pts_2.append(pt)\n",
    "pts_3.append(pt)\n",
    "\n",
    "for i in range (-5,5):\n",
    "    \n",
    "    pts_1.append(pt +Pca.components_[0]*i/30 )\n",
    "    pts_2.append(pt +Pca.components_[1]*i/30 )\n",
    "    pts_3.append(pt +Pca.components_[2]*i/30 )\n",
    "    \n",
    "pts_1=np.asarray(pts_1)    \n",
    "pts_2=np.asarray(pts_2)    \n",
    "pts_3=np.asarray(pts_3)    \n",
    "fig = plt.figure()\n",
    "points=np.load('/home/roboworks/Documents/points.npy')\n",
    "\n",
    "ax = fig.add_subplot(111, projection = '3d')\n",
    "ax.scatter(points[:,1],points[:,0],points[:,2],alpha=0.1,c='c')\n",
    "ax.scatter(pts_1[:,1],pts_1[:,0],pts_1[:,2],alpha=1,c='r')\n",
    "ax.scatter(pts_2[:,1],pts_2[:,0],pts_2[:,2],c='g')\n",
    "ax.scatter(pts_3[:,1],pts_3[:,0],pts_3[:,2],c='b')\n",
    "#ax.scatter(pt[1],pt[0],pt[2],'o', c='y')\n",
    "fig.canvas.draw()\n",
    "img = np.fromstring(fig.canvas.tostring_rgb(), dtype=np.uint8,\n",
    "            sep='')\n",
    "img  = img.reshape(fig.canvas.get_width_height()[::-1] + (3,))\n"
   ]
  },
  {
   "cell_type": "code",
   "execution_count": null,
   "id": "abe3645d",
   "metadata": {},
   "outputs": [],
   "source": [
    "plt.imshow (img)"
   ]
  },
  {
   "cell_type": "code",
   "execution_count": null,
   "id": "7a27950f",
   "metadata": {},
   "outputs": [],
   "source": [
    "fig.canvas.draw()\n",
    "img = np.fromstring(fig.canvas.tostring_rgb(), dtype=np.uint8,\n",
    "            sep='')\n",
    "img  = img.reshape(fig.canvas.get_width_height()[::-1] + (3,))"
   ]
  },
  {
   "cell_type": "code",
   "execution_count": null,
   "id": "7cb53529",
   "metadata": {},
   "outputs": [],
   "source": [
    "plt.imshow (img)\n"
   ]
  },
  {
   "cell_type": "code",
   "execution_count": null,
   "id": "1e3ce798",
   "metadata": {},
   "outputs": [],
   "source": [
    "#! pip install plotly\n"
   ]
  },
  {
   "cell_type": "code",
   "execution_count": null,
   "id": "7cc7214c",
   "metadata": {},
   "outputs": [],
   "source": [
    "fig = plt.figure()\n",
    "ax = fig.add_subplot(111)\n",
    "\n",
    "ax.scatter(pts_1[:,0],pts_1[:,1],alpha=1,c='r')\n",
    "ax.scatter(pts_2[:,0],pts_2[:,1],alpha=1,c='g')\n",
    "plt.xlim(-0.5, 1.5)\n",
    "\n",
    "plt.show()"
   ]
  },
  {
   "cell_type": "code",
   "execution_count": null,
   "id": "fbd3c43c",
   "metadata": {},
   "outputs": [],
   "source": [
    "np.arctan2((pts_1[1,1]-pts_1[0,1]),(pts_1[1,0]-pts_1[0,0]))"
   ]
  },
  {
   "cell_type": "code",
   "execution_count": null,
   "id": "2ca37356",
   "metadata": {},
   "outputs": [],
   "source": []
  },
  {
   "cell_type": "code",
   "execution_count": null,
   "id": "f503e1be",
   "metadata": {},
   "outputs": [],
   "source": [
    "b=-m*0.91222286-0.08526602"
   ]
  },
  {
   "cell_type": "code",
   "execution_count": null,
   "id": "920554f2",
   "metadata": {},
   "outputs": [],
   "source": []
  },
  {
   "cell_type": "code",
   "execution_count": null,
   "id": "0160c3d0",
   "metadata": {},
   "outputs": [],
   "source": [
    "pts_1[:,:2],pts_1[1,1],pts_1[0,1]"
   ]
  },
  {
   "cell_type": "code",
   "execution_count": null,
   "id": "4d65643a",
   "metadata": {},
   "outputs": [],
   "source": []
  },
  {
   "cell_type": "code",
   "execution_count": null,
   "id": "e41dec03",
   "metadata": {},
   "outputs": [],
   "source": [
    "x_y_1=pts_1[2:-1,:2]\n",
    "x_y_2=pts_2[2:-1,:2]"
   ]
  },
  {
   "cell_type": "code",
   "execution_count": null,
   "id": "dbbac6e1",
   "metadata": {},
   "outputs": [],
   "source": [
    "fig = plt.figure()\n",
    "ax = fig.add_subplot(111)\n",
    "\n",
    "ax.scatter(x_y_1[:,0],x_y_1[:,1],alpha=1,c='r')\n",
    "ax.scatter(x_y_2[:,0],x_y_2[:,1],alpha=1,c='g')\n",
    "ax.scatter(xy_rot[:,0], xy_rot[:,1],alpha=1,c='b')\n",
    "plt.show()"
   ]
  },
  {
   "cell_type": "code",
   "execution_count": null,
   "id": "08e40a19",
   "metadata": {},
   "outputs": [],
   "source": [
    "ang= 0.7\n",
    "mat=np.mat((np.asarray((np.cos(ang) ,np.sin(ang),0,-1*np.sin(ang),np.cos(ang),0,0,0,1)).reshape((3,3))))"
   ]
  },
  {
   "cell_type": "code",
   "execution_count": null,
   "id": "8bd8869a",
   "metadata": {},
   "outputs": [],
   "source": [
    "xy_rot=np.asarray(np.matmul(pts_1,mat))\n",
    "xy2_rot=np.asarray(np.matmul(pts_2,mat))"
   ]
  },
  {
   "cell_type": "code",
   "execution_count": null,
   "id": "9d0d6be1",
   "metadata": {},
   "outputs": [],
   "source": []
  },
  {
   "cell_type": "code",
   "execution_count": null,
   "id": "87aedd7d",
   "metadata": {},
   "outputs": [],
   "source": [
    "\n",
    "fig = plt.figure()\n",
    "ax = fig.add_subplot(111)\n",
    "\n",
    "ax.scatter(x_y_1[:,0],x_y_1[:,1],alpha=1,c='r')\n",
    "ax.scatter(x_y_2[:,0],x_y_2[:,1],alpha=1,c='g')\n",
    "ax.scatter(xy_rot[:,0], xy_rot[:,1],alpha=1,c='r')\n",
    "ax.scatter(xy2_rot[:,0], xy2_rot[:,1],alpha=1,c='g')\n",
    "\n",
    "plt.xlim(0,1)\n",
    "plt.ylim(0,1)\n",
    "plt.show()"
   ]
  },
  {
   "cell_type": "code",
   "execution_count": null,
   "id": "9a7eb31e",
   "metadata": {},
   "outputs": [],
   "source": [
    "x_y_1"
   ]
  },
  {
   "cell_type": "code",
   "execution_count": null,
   "id": "5cb4a3f4",
   "metadata": {},
   "outputs": [],
   "source": [
    "xy_rot.reshape((8,2))"
   ]
  },
  {
   "cell_type": "code",
   "execution_count": null,
   "id": "54c90f02",
   "metadata": {},
   "outputs": [],
   "source": []
  },
  {
   "cell_type": "code",
   "execution_count": null,
   "id": "b72f2827",
   "metadata": {},
   "outputs": [],
   "source": []
  },
  {
   "cell_type": "code",
   "execution_count": null,
   "id": "e52986e2",
   "metadata": {},
   "outputs": [],
   "source": []
  },
  {
   "cell_type": "code",
   "execution_count": null,
   "id": "9ad4dfbe",
   "metadata": {},
   "outputs": [],
   "source": []
  },
  {
   "cell_type": "code",
   "execution_count": null,
   "id": "e6169d09",
   "metadata": {},
   "outputs": [],
   "source": []
  },
  {
   "cell_type": "code",
   "execution_count": null,
   "id": "b05e2ba7",
   "metadata": {},
   "outputs": [],
   "source": []
  },
  {
   "cell_type": "code",
   "execution_count": null,
   "id": "61be700a",
   "metadata": {},
   "outputs": [],
   "source": []
  },
  {
   "cell_type": "code",
   "execution_count": null,
   "id": "1ddd321f",
   "metadata": {},
   "outputs": [],
   "source": []
  },
  {
   "cell_type": "code",
   "execution_count": null,
   "id": "bc28898f",
   "metadata": {},
   "outputs": [],
   "source": []
  },
  {
   "cell_type": "code",
   "execution_count": null,
   "id": "8e09e2c0",
   "metadata": {},
   "outputs": [],
   "source": [
    "pcas=Pca.components_"
   ]
  },
  {
   "cell_type": "code",
   "execution_count": null,
   "id": "7b922b35",
   "metadata": {},
   "outputs": [],
   "source": [
    "ref=np.eye(3)"
   ]
  },
  {
   "cell_type": "code",
   "execution_count": null,
   "id": "880a7591",
   "metadata": {},
   "outputs": [],
   "source": [
    "R=[]\n",
    "R.append(np.dot(pcas[0],ref))\n",
    "R.append(np.dot(pcas[1],ref))\n",
    "R.append(np.dot(pcas[2],ref))\n",
    "\n",
    "R=np.asarray(R)\n",
    "## HOMOGENEUS\n",
    "E_R= np.zeros((4,4))\n",
    "E_R[:3,:3]+=R\n",
    "E_R[-1,-1]=1\n",
    "tf.transformations.quaternion_from_matrix(E_R)"
   ]
  },
  {
   "cell_type": "code",
   "execution_count": null,
   "id": "85a50689",
   "metadata": {},
   "outputs": [],
   "source": []
  },
  {
   "cell_type": "code",
   "execution_count": null,
   "id": "e2ec761f",
   "metadata": {},
   "outputs": [],
   "source": [
    "points.shape"
   ]
  },
  {
   "cell_type": "code",
   "execution_count": null,
   "id": "20a5bd76",
   "metadata": {},
   "outputs": [],
   "source": [
    "cv2.__version__"
   ]
  },
  {
   "cell_type": "code",
   "execution_count": null,
   "id": "d975e6b5",
   "metadata": {},
   "outputs": [],
   "source": [
    "R"
   ]
  },
  {
   "cell_type": "code",
   "execution_count": null,
   "id": "af8e9974",
   "metadata": {},
   "outputs": [],
   "source": [
    "## HOMOGENEUS\n",
    "E_R= np.zeros((4,4))\n",
    "E_R[:3,:3]+=R\n",
    "E_R[-1,-1]=1"
   ]
  },
  {
   "cell_type": "code",
   "execution_count": null,
   "id": "75351618",
   "metadata": {},
   "outputs": [],
   "source": []
  },
  {
   "cell_type": "code",
   "execution_count": null,
   "id": "6f0b1afc",
   "metadata": {},
   "outputs": [],
   "source": [
    "points= rgbd.get_points()"
   ]
  },
  {
   "cell_type": "code",
   "execution_count": null,
   "id": "afd79b31",
   "metadata": {},
   "outputs": [],
   "source": [
    "from smach_utils2 import *\n",
    "import matplotlib.pyplot as plt\n",
    "plt.imshow(img_map[700:1200,700:1400])"
   ]
  },
  {
   "cell_type": "code",
   "execution_count": null,
   "id": "7b3a8829",
   "metadata": {},
   "outputs": [],
   "source": []
  },
  {
   "cell_type": "code",
   "execution_count": null,
   "id": "3f7fa3e3",
   "metadata": {},
   "outputs": [],
   "source": [
    "plt.imshow(img_map[700:1200,700:1400])"
   ]
  },
  {
   "cell_type": "code",
   "execution_count": null,
   "id": "6ba7e43c",
   "metadata": {},
   "outputs": [],
   "source": [
    "mask=cv2.imread('/home/roboworks/Documents/imgcorr.png')\n",
    "plt.imshow (mask[:,:,2]*255)"
   ]
  },
  {
   "cell_type": "code",
   "execution_count": null,
   "id": "82f78a90",
   "metadata": {},
   "outputs": [],
   "source": [
    "img_correc"
   ]
  },
  {
   "cell_type": "code",
   "execution_count": null,
   "id": "854ef810",
   "metadata": {},
   "outputs": [],
   "source": [
    "img=im[:,:,0]"
   ]
  },
  {
   "cell_type": "code",
   "execution_count": null,
   "id": "faf1e3a3",
   "metadata": {},
   "outputs": [],
   "source": [
    "np.where(img==0, )\n",
    "img_corrected = np.where((img==0) ,img,1.0)  #FLOOR"
   ]
  },
  {
   "cell_type": "code",
   "execution_count": null,
   "id": "50d34d9c",
   "metadata": {},
   "outputs": [],
   "source": [
    "plt.imshow (img_corrected*255)"
   ]
  },
  {
   "cell_type": "code",
   "execution_count": null,
   "id": "1e3cbc1c",
   "metadata": {},
   "outputs": [],
   "source": [
    "im.shape"
   ]
  },
  {
   "cell_type": "code",
   "execution_count": null,
   "id": "bac4d614",
   "metadata": {},
   "outputs": [],
   "source": [
    "pts=rgbd.get_points()"
   ]
  },
  {
   "cell_type": "code",
   "execution_count": null,
   "id": "ea94d437",
   "metadata": {},
   "outputs": [],
   "source": [
    "def write_tf(pose, q, child_frame=\"\" , parent_frame='map'):\n",
    "    #  pose = trans  q = quaternion  , childframe =\"\"\n",
    "    # format  write the transformstampled message\n",
    "    t= TransformStamped()\n",
    "    t.header.stamp = rospy.Time.now()\n",
    "    #t.header.stamp = rospy.Time(0)\n",
    "    t.header.frame_id =parent_frame\n",
    "    t.child_frame_id =  child_frame\n",
    "    t.transform.translation.x = pose[0]\n",
    "    t.transform.translation.y = pose[1]\n",
    "    t.transform.translation.z = pose[2]\n",
    "    #q = tf.transformations.quaternion_from_euler(eu[0], eu[1], eu[2])\n",
    "    t.transform.rotation.x = q[0]\n",
    "    t.transform.rotation.y = q[1]\n",
    "    t.transform.rotation.z = q[2]\n",
    "    t.transform.rotation.w = q[3]\n",
    "    return t\n",
    "#-----------------------------------------------------------------\n",
    "def read_tf(t):\n",
    "    # trasnform message to np arrays\n",
    "    pose=np.asarray((\n",
    "        t.transform.translation.x,\n",
    "        t.transform.translation.y,\n",
    "        t.transform.translation.z\n",
    "        ))\n",
    "    quat=np.asarray((\n",
    "        t.transform.rotation.x,\n",
    "        t.transform.rotation.y,\n",
    "        t.transform.rotation.z,\n",
    "        t.transform.rotation.w\n",
    "        ))\n",
    "    \n",
    "    return pose, quat\n",
    "\n",
    "def correct_points(points_msg):\n",
    "\n",
    "    # Function that transforms Point Cloud reference frame from  head, to map. (i.e. sensor coords to map coords )\n",
    "    # img= correct_points() (Returns rgbd depth corrected image)    \n",
    "    #points msg in \n",
    "    #data = rospy.wait_for_message('/hsrb/head_rgbd_sensor/depth_registered/rectified_points', PointCloud2)\n",
    "    \n",
    "\n",
    "    np_data=ros_numpy.numpify(points_msg)\n",
    "\n",
    "    try:\n",
    "        trans = tfBuffer.lookup_transform('map', 'head_rgbd_sensor_link', rospy.Time())\n",
    "                    \n",
    "        trans,rot=read_tf(trans)\n",
    "        print (\"############head\",trans,rot)\n",
    "    except (tf2_ros.LookupException, tf2_ros.ConnectivityException, tf2_ros.ExtrapolationException):\n",
    "        print ( 'No  head TF FOUND')\n",
    "\n",
    "    #trans,rot=tf_listener.lookupTransform('/map', '/head_rgbd_sensor_rgb_frame', rospy.Time(0))\n",
    "    #print (\"############TF1\",trans,rot)\n",
    "    eu=np.asarray(tf.transformations.euler_from_quaternion(rot))\n",
    "    t=TransformStamped()\n",
    "    rot=tf.transformations.quaternion_from_euler(eu[0],eu[1],eu[2])\n",
    "    #rot=tf.transformations.quaternion_from_euler(-eu[1],0,0)\n",
    "    t.header.stamp = points_msg.header.stamp\n",
    "    t.transform.rotation.x = rot[0]\n",
    "    t.transform.rotation.y = rot[1]\n",
    "    t.transform.rotation.z = rot[2]\n",
    "    t.transform.rotation.w = rot[3]\n",
    "    cloud_out = do_transform_cloud(points_msg, t)\n",
    "    np_corrected=ros_numpy.numpify(cloud_out)\n",
    "    corrected=np_corrected.reshape(np_data.shape)\n",
    "    img= np.copy(-corrected['z'])\n",
    "    img[np.isnan(img)]=2\n",
    "    img_corrected = np.where((img<trans[2]*0.96) ,img,5)\n",
    "\n",
    "    return img_corrected , corrected"
   ]
  },
  {
   "cell_type": "code",
   "execution_count": null,
   "id": "1da30146",
   "metadata": {},
   "outputs": [],
   "source": [
    "points_msg=rospy.wait_for_message(\"/hsrb/head_rgbd_sensor/depth_registered/rectified_points\",PointCloud2,timeout=5)"
   ]
  },
  {
   "cell_type": "code",
   "execution_count": null,
   "id": "9993e898",
   "metadata": {},
   "outputs": [],
   "source": [
    "points_data = ros_numpy.numpify(points_msg)\n",
    "img_corrected ,corrected = correct_points(points_msg)\n",
    "for i in range(corrected['x'].shape[0]):\n",
    "    for j in range(corrected['x'].shape[1]):\n",
    "        pass\n",
    "        #print(corrected[['x','y','z']][i,j])"
   ]
  },
  {
   "cell_type": "code",
   "execution_count": null,
   "id": "479b4731",
   "metadata": {},
   "outputs": [],
   "source": [
    "origin_map_img=[round(img_map.shape[0]*0.5) ,round(img_map.shape[1]*0.5)]\n",
    "corrected[0,0]"
   ]
  },
  {
   "cell_type": "code",
   "execution_count": null,
   "id": "52f92e44",
   "metadata": {},
   "outputs": [],
   "source": [
    "\n",
    "points_data[['x','y','z']].shape"
   ]
  },
  {
   "cell_type": "code",
   "execution_count": null,
   "id": "a2289d4e",
   "metadata": {},
   "outputs": [],
   "source": [
    "points_data[['x','y','z']][250,300] , corrected[['x','y','z']][250,300]"
   ]
  },
  {
   "cell_type": "code",
   "execution_count": null,
   "id": "d3820b10",
   "metadata": {},
   "outputs": [],
   "source": [
    "plt.imshow(corrected['x'])"
   ]
  },
  {
   "cell_type": "code",
   "execution_count": null,
   "id": "bb7ec676",
   "metadata": {},
   "outputs": [],
   "source": [
    "corrected[['x','y','z']][240,320]"
   ]
  },
  {
   "cell_type": "code",
   "execution_count": null,
   "id": "3bcef674",
   "metadata": {},
   "outputs": [],
   "source": [
    "robot_pose=get_robot_px()\n",
    "px_pose_robot=np.asarray((origin_map_img[1]+robot_pose[1],origin_map_img[0]+robot_pose[0]))\n",
    "iimg=draw_at(px_pose_robot[0], px_pose_robot[1] , img_map )   #ROBOT PX POSE"
   ]
  },
  {
   "cell_type": "code",
   "execution_count": null,
   "id": "e1198875",
   "metadata": {},
   "outputs": [],
   "source": [
    "plt.imshow (iimg[750:1300,800:1500])"
   ]
  },
  {
   "cell_type": "code",
   "execution_count": null,
   "id": "0bedebb2",
   "metadata": {},
   "outputs": [],
   "source": [
    "corrected[0,0]"
   ]
  },
  {
   "cell_type": "code",
   "execution_count": null,
   "id": "47f80a6e",
   "metadata": {},
   "outputs": [],
   "source": [
    "def draw_at (px,py, contoured):\n",
    "    contoured[px-5:px+5,py-5:py+5]=200\n",
    "    return contoured\n",
    "    "
   ]
  },
  {
   "cell_type": "code",
   "execution_count": null,
   "id": "46048983",
   "metadata": {},
   "outputs": [],
   "source": [
    "origin_map_img=[round(img_map.shape[0]*0.5) ,round(img_map.shape[1]*0.5)]\n",
    "robot_pose=get_robot_px()\n",
    "\n",
    "points_msg=rospy.wait_for_message(\"/hsrb/head_rgbd_sensor/depth_registered/rectified_points\",PointCloud2,timeout=5)\n",
    "points_data = ros_numpy.numpify(points_msg)\n",
    "img_corrected ,corrected = correct_points(points_msg)\n",
    "for i in range (400):\n",
    "    if np.isnan(corrected[i,-1][0]) or np.isnan(corrected[-1,i][0])or np.isnan(corrected[i,0][0]) or np.isnan(corrected[0,i][0]) :print('nan ')\n",
    "        \n",
    "    else:\n",
    "        px_from_pose= origin_map_img[1]+ round(corrected[i,0][1]/pix_per_m)+robot_pose[1],origin_map_img[0]+ round(corrected[i,0][0]/pix_per_m)+robot_pose[0]\n",
    "        iimg=draw_at(px_from_pose[0], px_from_pose[1] , img_map )\n",
    "        px_from_pose= origin_map_img[1]+ round(corrected[i,-1][1]/pix_per_m)+robot_pose[1],origin_map_img[0]+ round(corrected[i,-1][0]/pix_per_m)+robot_pose[0]\n",
    "        iimg=draw_at(px_from_pose[0], px_from_pose[1] , img_map )\n",
    "        px_from_pose= origin_map_img[1]+ round(corrected[0,i][1]/pix_per_m)+robot_pose[1],origin_map_img[0]+ round(corrected[0,i][0]/pix_per_m)+robot_pose[0]\n",
    "        iimg=draw_at(px_from_pose[0], px_from_pose[1] , img_map )\n",
    "        px_from_pose= origin_map_img[1]+ round(corrected[-1,i][1]/pix_per_m)+robot_pose[1],origin_map_img[0]+ round(corrected[-1,i][0]/pix_per_m)+robot_pose[0]\n",
    "        iimg=draw_at(px_from_pose[0], px_from_pose[1] , img_map )\n",
    "\n",
    "\n",
    "\n",
    "plt.imshow(iimg[750:1300,800:1500])\n"
   ]
  },
  {
   "cell_type": "code",
   "execution_count": null,
   "id": "fe8f558e",
   "metadata": {},
   "outputs": [],
   "source": [
    "iimg=draw_at(origin_map_img[1], origin_map_img[0] , img_map )\n",
    "plt.imshow(iimg[750:1300,800:1500])\n"
   ]
  },
  {
   "cell_type": "code",
   "execution_count": null,
   "id": "379033bc",
   "metadata": {},
   "outputs": [],
   "source": [
    "\n",
    "\n",
    "px_from_map=np.asarray((origin_map_img[1]+corrected[-1,-1][0],origin_map_img[0]+corrected[-1,-1][1]))\n",
    "iimg=draw_at(px_from_pose[0], px_from_pose[1] , img_map )\n",
    "plt.imshow(iimg[750:1300,800:1500])\n"
   ]
  },
  {
   "cell_type": "code",
   "execution_count": null,
   "id": "4154d2a2",
   "metadata": {},
   "outputs": [],
   "source": [
    "iimg=draw_at(px_from_pose[0], px_from_pose[1] , img_map )"
   ]
  },
  {
   "cell_type": "code",
   "execution_count": null,
   "id": "e8596a47",
   "metadata": {},
   "outputs": [],
   "source": [
    "plt.imshow(iimg[750:1300,800:1500])"
   ]
  },
  {
   "cell_type": "code",
   "execution_count": null,
   "id": "194e0400",
   "metadata": {},
   "outputs": [],
   "source": [
    "img_map[origin_map_img[1]+ round(corrected[0,0][1]/pix_per_m),origin_map_img[0]+ round(corrected[0,0][0]/pix_per_m)]"
   ]
  },
  {
   "cell_type": "code",
   "execution_count": null,
   "id": "e8283fc4",
   "metadata": {},
   "outputs": [],
   "source": [
    "plt.imshow(corrected['x'])"
   ]
  },
  {
   "cell_type": "code",
   "execution_count": null,
   "id": "82681b1d",
   "metadata": {},
   "outputs": [],
   "source": [
    "corrected[100,500]"
   ]
  },
  {
   "cell_type": "raw",
   "id": "edface7c",
   "metadata": {},
   "source": [
    "from smach_utils2 import *\n"
   ]
  },
  {
   "cell_type": "code",
   "execution_count": null,
   "id": "8927179c",
   "metadata": {},
   "outputs": [],
   "source": [
    "from smach_utils2 import *\n",
    "\n",
    "points_msg=rospy.wait_for_message(\"/hsrb/head_rgbd_sensor/depth_registered/rectified_points\",PointCloud2,timeout=5)"
   ]
  },
  {
   "cell_type": "code",
   "execution_count": 1,
   "id": "251bfe41",
   "metadata": {},
   "outputs": [
    {
     "name": "stderr",
     "output_type": "stream",
     "text": [
      "/home/roboworks/.local/lib/python3.8/site-packages/pandas/core/computation/expressions.py:20: UserWarning: Pandas requires version '2.7.3' or newer of 'numexpr' (version '2.7.1' currently installed).\n",
      "  from pandas.core.computation.check import NUMEXPR_INSTALLED\n",
      "\u001b[33m[ WARN] [1743740984.834947761]: TF_REPEATED_DATA ignoring data with redundant timestamp for frame odom (parent map) at time 1164.787000 according to authority /pose_integrator\u001b[0m\n"
     ]
    }
   ],
   "source": [
    "from smach_utils2 import *\n"
   ]
  },
  {
   "cell_type": "code",
   "execution_count": 2,
   "id": "2312565b",
   "metadata": {},
   "outputs": [
    {
     "name": "stderr",
     "output_type": "stream",
     "text": [
      "\u001b[33m[ WARN] [1743741008.461976581]: TF_REPEATED_DATA ignoring data with redundant timestamp for frame odom (parent map) at time 1168.523000 according to authority /pose_integrator\u001b[0m\n",
      "\u001b[33m[ WARN] [1743741008.462047860]: TF_REPEATED_DATA ignoring data with redundant timestamp for frame odom (parent map) at time 1168.523000 according to authority /pose_integrator\u001b[0m\n",
      "\u001b[33m[ WARN] [1743741008.462097237]: TF_REPEATED_DATA ignoring data with redundant timestamp for frame odom (parent map) at time 1168.523000 according to authority /pose_integrator\u001b[0m\n",
      "\u001b[33m[ WARN] [1743741008.462137565]: TF_REPEATED_DATA ignoring data with redundant timestamp for frame odom (parent map) at time 1168.523000 according to authority /pose_integrator\u001b[0m\n",
      "\u001b[33m[ WARN] [1743741008.462188299]: TF_REPEATED_DATA ignoring data with redundant timestamp for frame odom (parent map) at time 1168.523000 according to authority /pose_integrator\u001b[0m\n",
      "\u001b[33m[ WARN] [1743741008.462244680]: TF_REPEATED_DATA ignoring data with redundant timestamp for frame odom (parent map) at time 1168.523000 according to authority /pose_integrator\u001b[0m\n",
      "\u001b[33m[ WARN] [1743741008.930376462]: TF_REPEATED_DATA ignoring data with redundant timestamp for frame odom (parent map) at time 1168.615000 according to authority /pose_integrator\u001b[0m\n",
      "\u001b[33m[ WARN] [1743741008.932355855]: TF_REPEATED_DATA ignoring data with redundant timestamp for frame odom (parent map) at time 1168.615000 according to authority /pose_integrator\u001b[0m\n",
      "\u001b[33m[ WARN] [1743741008.932442323]: TF_REPEATED_DATA ignoring data with redundant timestamp for frame odom (parent map) at time 1168.615000 according to authority /pose_integrator\u001b[0m\n",
      "\u001b[33m[ WARN] [1743741008.932516738]: TF_REPEATED_DATA ignoring data with redundant timestamp for frame odom (parent map) at time 1168.615000 according to authority /pose_integrator\u001b[0m\n",
      "\u001b[33m[ WARN] [1743741008.932580842]: TF_REPEATED_DATA ignoring data with redundant timestamp for frame odom (parent map) at time 1168.615000 according to authority /pose_integrator\u001b[0m\n",
      "\u001b[33m[ WARN] [1743741008.932658132]: TF_REPEATED_DATA ignoring data with redundant timestamp for frame odom (parent map) at time 1168.615000 according to authority /pose_integrator\u001b[0m\n"
     ]
    }
   ],
   "source": [
    "points_msg=rospy.wait_for_message(\"/hsrb/head_rgbd_sensor/depth_registered/rectified_points\",PointCloud2,timeout=5)"
   ]
  },
  {
   "cell_type": "code",
   "execution_count": 5,
   "id": "8909c2f3",
   "metadata": {},
   "outputs": [],
   "source": [
    "points_data = ros_numpy.numpify(points_msg)\n",
    "image = points_data['rgb'].view((np.uint8, 4))[..., [2, 1, 0]]\n",
    "rgb_image = cv2.cvtColor(image, cv2.COLOR_BGR2RGB)    "
   ]
  },
  {
   "cell_type": "code",
   "execution_count": 7,
   "id": "26323923",
   "metadata": {},
   "outputs": [
    {
     "data": {
      "text/plain": [
       "<matplotlib.image.AxesImage at 0x7fb322af5e20>"
      ]
     },
     "execution_count": 7,
     "metadata": {},
     "output_type": "execute_result"
    },
    {
     "data": {
      "image/png": "[encoded data removed]",
      "text/plain": [
       "<Figure size 640x480 with 1 Axes>"
      ]
     },
     "metadata": {},
     "output_type": "display_data"
    },
    {
     "name": "stderr",
     "output_type": "stream",
     "text": [
      "\u001b[33m[ WARN] [1743741319.505359939]: TF_REPEATED_DATA ignoring data with redundant timestamp for frame odom (parent map) at time 1216.032000 according to authority /pose_integrator\u001b[0m\n",
      "\u001b[33m[ WARN] [1743741319.505500765]: TF_REPEATED_DATA ignoring data with redundant timestamp for frame odom (parent map) at time 1216.032000 according to authority /pose_integrator\u001b[0m\n",
      "\u001b[33m[ WARN] [1743741319.505576802]: TF_REPEATED_DATA ignoring data with redundant timestamp for frame odom (parent map) at time 1216.032000 according to authority /pose_integrator\u001b[0m\n",
      "\u001b[33m[ WARN] [1743741319.505645918]: TF_REPEATED_DATA ignoring data with redundant timestamp for frame odom (parent map) at time 1216.032000 according to authority /pose_integrator\u001b[0m\n",
      "\u001b[33m[ WARN] [1743741319.505714131]: TF_REPEATED_DATA ignoring data with redundant timestamp for frame odom (parent map) at time 1216.032000 according to authority /pose_integrator\u001b[0m\n",
      "\u001b[33m[ WARN] [1743741319.505781793]: TF_REPEATED_DATA ignoring data with redundant timestamp for frame odom (parent map) at time 1216.032000 according to authority /pose_integrator\u001b[0m\n"
     ]
    }
   ],
   "source": [
    "plt.imshow(rgb_image)"
   ]
  },
  {
   "cell_type": "code",
   "execution_count": 10,
   "id": "042e148a",
   "metadata": {},
   "outputs": [],
   "source": [
    "try:\n",
    "        trans = tfBuffer.lookup_transform('map', 'head_rgbd_sensor_link', rospy.Time())\n",
    "\n",
    "        trans,rot=read_tf(trans)\n",
    "        #print (\"############head\",trans,rot)\n",
    "except (tf2_ros.LookupException, tf2_ros.ConnectivityException, tf2_ros.ExtrapolationException):\n",
    "        print ( 'No head TF FOUND')\n",
    "t= write_tf(trans,rot)\n",
    "cloud_out = do_transform_cloud(points_msg, t)"
   ]
  },
  {
   "cell_type": "code",
   "execution_count": 13,
   "id": "3ebd4331",
   "metadata": {},
   "outputs": [],
   "source": [
    "np_corrected=ros_numpy.numpify(cloud_out)\n",
    "corrected=np_corrected.reshape(points_data.shape)"
   ]
  },
  {
   "cell_type": "code",
   "execution_count": 23,
   "id": "6cd22def",
   "metadata": {},
   "outputs": [],
   "source": [
    "orig_image= rgb_image.copy()\n",
    "mask= np.zeros(corrected['z'].shape)#mask    "
   ]
  },
  {
   "cell_type": "code",
   "execution_count": 24,
   "id": "f105aeb4",
   "metadata": {},
   "outputs": [],
   "source": [
    "y_min=138\n",
    "y_max=261\n",
    "x_min=445\n",
    "x_max=522\n",
    "mask=cv2.rectangle(mask,(x_min,y_min),(x_max, y_max), (255,255,255), -1)"
   ]
  },
  {
   "cell_type": "code",
   "execution_count": 33,
   "id": "8884835f",
   "metadata": {},
   "outputs": [],
   "source": [
    "#-----------------------------------------------------------------\n",
    "def points_to_PCA(points):\n",
    "    df=pd.DataFrame(points)\n",
    "    df.columns=[['x','y','z']]\n",
    "    threshold= df['z'].min().values[0]*0.998\n",
    "    print (threshold)\n",
    "    rslt_df = df.loc[df[df['z'] > threshold].index]\n",
    "    points=rslt_df[['x','y','z']].dropna().values\n",
    "    Pca=PCA(n_components=3)\n",
    "    Pca.fit(points)\n",
    "    print('Pca.explained_variance_',Pca.explained_variance_)\n",
    "    ref=np.eye(3)\n",
    "    pcas=Pca.components_\n",
    "    R=[]\n",
    "    R.append(np.dot(pcas[0],ref))\n",
    "    R.append(np.dot(pcas[1],ref))\n",
    "    R.append(np.dot(pcas[2],ref))\n",
    "    R=np.asarray(R)\n",
    "    ## HOMOGENEUS\n",
    "    E_R= np.zeros((4,4))\n",
    "    E_R[:3,:3]+=R\n",
    "    E_R[-1,-1]=1\n",
    "    return     E_R\n"
   ]
  },
  {
   "cell_type": "code",
   "execution_count": 34,
   "id": "aa1ffd2d",
   "metadata": {},
   "outputs": [
    {
     "name": "stdout",
     "output_type": "stream",
     "text": [
      "(3, 9672)\n",
      "-0.00033625644067069514\n",
      "Pca.explained_variance_ [0.044803   0.00612735 0.00353513]\n",
      "ANGLE: (-1.3018462751139728, 0.02060195197056404, 0.3235436962456698)  Degrees: [-74.59029714   1.1804049   18.53768828]\n"
     ]
    },
    {
     "name": "stderr",
     "output_type": "stream",
     "text": [
      "\u001b[33m[ WARN] [1743742208.808183642]: TF_REPEATED_DATA ignoring data with redundant timestamp for frame odom (parent map) at time 1355.992000 according to authority /pose_integrator\u001b[0m\n",
      "\u001b[33m[ WARN] [1743742208.808248053]: TF_REPEATED_DATA ignoring data with redundant timestamp for frame odom (parent map) at time 1355.992000 according to authority /pose_integrator\u001b[0m\n",
      "\u001b[33m[ WARN] [1743742208.808288997]: TF_REPEATED_DATA ignoring data with redundant timestamp for frame odom (parent map) at time 1355.992000 according to authority /pose_integrator\u001b[0m\n",
      "\u001b[33m[ WARN] [1743742208.808384446]: TF_REPEATED_DATA ignoring data with redundant timestamp for frame odom (parent map) at time 1355.992000 according to authority /pose_integrator\u001b[0m\n",
      "\u001b[33m[ WARN] [1743742208.808450375]: TF_REPEATED_DATA ignoring data with redundant timestamp for frame odom (parent map) at time 1355.992000 according to authority /pose_integrator\u001b[0m\n",
      "\u001b[33m[ WARN] [1743742208.808507087]: TF_REPEATED_DATA ignoring data with redundant timestamp for frame odom (parent map) at time 1355.992000 according to authority /pose_integrator\u001b[0m\n",
      "\u001b[33m[ WARN] [1743742302.914400884]: TF_REPEATED_DATA ignoring data with redundant timestamp for frame odom (parent map) at time 1371.114000 according to authority /pose_integrator\u001b[0m\n",
      "\u001b[33m[ WARN] [1743742302.914484276]: TF_REPEATED_DATA ignoring data with redundant timestamp for frame odom (parent map) at time 1371.114000 according to authority /pose_integrator\u001b[0m\n",
      "\u001b[33m[ WARN] [1743742302.914541833]: TF_REPEATED_DATA ignoring data with redundant timestamp for frame odom (parent map) at time 1371.114000 according to authority /pose_integrator\u001b[0m\n",
      "\u001b[33m[ WARN] [1743742302.914604934]: TF_REPEATED_DATA ignoring data with redundant timestamp for frame odom (parent map) at time 1371.114000 according to authority /pose_integrator\u001b[0m\n",
      "\u001b[33m[ WARN] [1743742302.914662526]: TF_REPEATED_DATA ignoring data with redundant timestamp for frame odom (parent map) at time 1371.114000 according to authority /pose_integrator\u001b[0m\n",
      "\u001b[33m[ WARN] [1743742302.914709384]: TF_REPEATED_DATA ignoring data with redundant timestamp for frame odom (parent map) at time 1371.114000 according to authority /pose_integrator\u001b[0m\n",
      "\u001b[33m[ WARN] [1743742427.007688850]: TF_REPEATED_DATA ignoring data with redundant timestamp for frame odom (parent map) at time 1389.996000 according to authority /pose_integrator\u001b[0m\n",
      "\u001b[33m[ WARN] [1743742427.007787375]: TF_REPEATED_DATA ignoring data with redundant timestamp for frame odom (parent map) at time 1389.996000 according to authority /pose_integrator\u001b[0m\n",
      "\u001b[33m[ WARN] [1743742427.007858985]: TF_REPEATED_DATA ignoring data with redundant timestamp for frame odom (parent map) at time 1389.996000 according to authority /pose_integrator\u001b[0m\n",
      "\u001b[33m[ WARN] [1743742427.007923180]: TF_REPEATED_DATA ignoring data with redundant timestamp for frame odom (parent map) at time 1389.996000 according to authority /pose_integrator\u001b[0m\n",
      "\u001b[33m[ WARN] [1743742427.007985732]: TF_REPEATED_DATA ignoring data with redundant timestamp for frame odom (parent map) at time 1389.996000 according to authority /pose_integrator\u001b[0m\n",
      "\u001b[33m[ WARN] [1743742427.008047239]: TF_REPEATED_DATA ignoring data with redundant timestamp for frame odom (parent map) at time 1389.996000 according to authority /pose_integrator\u001b[0m\n",
      "\u001b[33m[ WARN] [1743742515.329913059]: TF_REPEATED_DATA ignoring data with redundant timestamp for frame odom (parent map) at time 1403.387000 according to authority /pose_integrator\u001b[0m\n",
      "\u001b[33m[ WARN] [1743742515.329986463]: TF_REPEATED_DATA ignoring data with redundant timestamp for frame odom (parent map) at time 1403.387000 according to authority /pose_integrator\u001b[0m\n",
      "\u001b[33m[ WARN] [1743742515.330038768]: TF_REPEATED_DATA ignoring data with redundant timestamp for frame odom (parent map) at time 1403.387000 according to authority /pose_integrator\u001b[0m\n",
      "\u001b[33m[ WARN] [1743742515.330086248]: TF_REPEATED_DATA ignoring data with redundant timestamp for frame odom (parent map) at time 1403.387000 according to authority /pose_integrator\u001b[0m\n",
      "\u001b[33m[ WARN] [1743742515.330135020]: TF_REPEATED_DATA ignoring data with redundant timestamp for frame odom (parent map) at time 1403.387000 according to authority /pose_integrator\u001b[0m\n",
      "\u001b[33m[ WARN] [1743742515.330182940]: TF_REPEATED_DATA ignoring data with redundant timestamp for frame odom (parent map) at time 1403.387000 according to authority /pose_integrator\u001b[0m\n"
     ]
    }
   ],
   "source": [
    "_, binary_image = cv2.threshold(mask, 20, 255, cv2.THRESH_BINARY)\n",
    "individual_mask=(mask*binary_image).astype(np.uint8)        \n",
    "cent=np.asarray(   ((  np.nanmean(corrected['x'][np.where(individual_mask==1)]) ,np.nanmean(corrected['y'][np.where(individual_mask==1)]),np.nanmean(corrected['z'][np.where(individual_mask==1)])       ))      )\n",
    "points_c=np.asarray((corrected['x'][np.where(individual_mask==1)],corrected['y'][np.where(individual_mask==1)],corrected['z'][np.where(individual_mask==1)]))\n",
    "print ( points_c.shape)\n",
    "E_R=points_to_PCA(points_c.transpose())\n",
    "e_ER=tf.transformations.euler_from_matrix(E_R)\n",
    "quat_pca= tf. transformations.quaternion_from_euler(e_ER[0],e_ER[1],e_ER[2])\n",
    "print(\"ANGLE:\",tf.transformations.euler_from_matrix(E_R),\" Degrees:\",np.rad2deg(tf.transformations.euler_from_matrix(E_R)))"
   ]
  },
  {
   "cell_type": "code",
   "execution_count": 25,
   "id": "b09b9d6d",
   "metadata": {},
   "outputs": [
    {
     "data": {
      "text/plain": [
       "<matplotlib.image.AxesImage at 0x7fb321824880>"
      ]
     },
     "execution_count": 25,
     "metadata": {},
     "output_type": "execute_result"
    },
    {
     "data": {
      "image/png": "[encoded data removed]",
      "text/plain": [
       "<Figure size 640x480 with 1 Axes>"
      ]
     },
     "metadata": {},
     "output_type": "display_data"
    },
    {
     "name": "stderr",
     "output_type": "stream",
     "text": [
      "\u001b[33m[ WARN] [1743741857.624823491]: TF_REPEATED_DATA ignoring data with redundant timestamp for frame odom (parent map) at time 1300.347000 according to authority /pose_integrator\u001b[0m\n",
      "\u001b[33m[ WARN] [1743741857.624903551]: TF_REPEATED_DATA ignoring data with redundant timestamp for frame odom (parent map) at time 1300.347000 according to authority /pose_integrator\u001b[0m\n",
      "\u001b[33m[ WARN] [1743741857.624958411]: TF_REPEATED_DATA ignoring data with redundant timestamp for frame odom (parent map) at time 1300.347000 according to authority /pose_integrator\u001b[0m\n",
      "\u001b[33m[ WARN] [1743741857.625003152]: TF_REPEATED_DATA ignoring data with redundant timestamp for frame odom (parent map) at time 1300.347000 according to authority /pose_integrator\u001b[0m\n",
      "\u001b[33m[ WARN] [1743741857.625049070]: TF_REPEATED_DATA ignoring data with redundant timestamp for frame odom (parent map) at time 1300.347000 according to authority /pose_integrator\u001b[0m\n",
      "\u001b[33m[ WARN] [1743741857.625099976]: TF_REPEATED_DATA ignoring data with redundant timestamp for frame odom (parent map) at time 1300.347000 according to authority /pose_integrator\u001b[0m\n",
      "\u001b[33m[ WARN] [1743741894.243901253]: TF_REPEATED_DATA ignoring data with redundant timestamp for frame odom (parent map) at time 1306.145000 according to authority /pose_integrator\u001b[0m\n",
      "\u001b[33m[ WARN] [1743741894.243995512]: TF_REPEATED_DATA ignoring data with redundant timestamp for frame odom (parent map) at time 1306.145000 according to authority /pose_integrator\u001b[0m\n",
      "\u001b[33m[ WARN] [1743741894.244051839]: TF_REPEATED_DATA ignoring data with redundant timestamp for frame odom (parent map) at time 1306.145000 according to authority /pose_integrator\u001b[0m\n",
      "\u001b[33m[ WARN] [1743741894.244104079]: TF_REPEATED_DATA ignoring data with redundant timestamp for frame odom (parent map) at time 1306.145000 according to authority /pose_integrator\u001b[0m\n",
      "\u001b[33m[ WARN] [1743741894.245009171]: TF_REPEATED_DATA ignoring data with redundant timestamp for frame odom (parent map) at time 1306.145000 according to authority /pose_integrator\u001b[0m\n",
      "\u001b[33m[ WARN] [1743741894.245101753]: TF_REPEATED_DATA ignoring data with redundant timestamp for frame odom (parent map) at time 1306.145000 according to authority /pose_integrator\u001b[0m\n",
      "\u001b[33m[ WARN] [1743741903.075615809]: TF_REPEATED_DATA ignoring data with redundant timestamp for frame odom (parent map) at time 1307.523000 according to authority /pose_integrator\u001b[0m\n",
      "\u001b[33m[ WARN] [1743741903.075726256]: TF_REPEATED_DATA ignoring data with redundant timestamp for frame odom (parent map) at time 1307.523000 according to authority /pose_integrator\u001b[0m\n",
      "\u001b[33m[ WARN] [1743741903.075806896]: TF_REPEATED_DATA ignoring data with redundant timestamp for frame odom (parent map) at time 1307.523000 according to authority /pose_integrator\u001b[0m\n",
      "\u001b[33m[ WARN] [1743741903.075871708]: TF_REPEATED_DATA ignoring data with redundant timestamp for frame odom (parent map) at time 1307.523000 according to authority /pose_integrator\u001b[0m\n",
      "\u001b[33m[ WARN] [1743741903.075933162]: TF_REPEATED_DATA ignoring data with redundant timestamp for frame odom (parent map) at time 1307.523000 according to authority /pose_integrator\u001b[0m\n",
      "\u001b[33m[ WARN] [1743741903.075995197]: TF_REPEATED_DATA ignoring data with redundant timestamp for frame odom (parent map) at time 1307.523000 according to authority /pose_integrator\u001b[0m\n",
      "\u001b[33m[ WARN] [1743741933.417982048]: TF_REPEATED_DATA ignoring data with redundant timestamp for frame odom (parent map) at time 1312.435000 according to authority /pose_integrator\u001b[0m\n",
      "\u001b[33m[ WARN] [1743741933.418051922]: TF_REPEATED_DATA ignoring data with redundant timestamp for frame odom (parent map) at time 1312.435000 according to authority /pose_integrator\u001b[0m\n",
      "\u001b[33m[ WARN] [1743741933.418092398]: TF_REPEATED_DATA ignoring data with redundant timestamp for frame odom (parent map) at time 1312.435000 according to authority /pose_integrator\u001b[0m\n",
      "\u001b[33m[ WARN] [1743741933.418129049]: TF_REPEATED_DATA ignoring data with redundant timestamp for frame odom (parent map) at time 1312.435000 according to authority /pose_integrator\u001b[0m\n",
      "\u001b[33m[ WARN] [1743741933.418165193]: TF_REPEATED_DATA ignoring data with redundant timestamp for frame odom (parent map) at time 1312.435000 according to authority /pose_integrator\u001b[0m\n",
      "\u001b[33m[ WARN] [1743741933.418201103]: TF_REPEATED_DATA ignoring data with redundant timestamp for frame odom (parent map) at time 1312.435000 according to authority /pose_integrator\u001b[0m\n",
      "\u001b[33m[ WARN] [1743741937.198646950]: TF_REPEATED_DATA ignoring data with redundant timestamp for frame odom (parent map) at time 1313.070000 according to authority /pose_integrator\u001b[0m\n",
      "\u001b[33m[ WARN] [1743741937.198734027]: TF_REPEATED_DATA ignoring data with redundant timestamp for frame odom (parent map) at time 1313.070000 according to authority /pose_integrator\u001b[0m\n",
      "\u001b[33m[ WARN] [1743741937.198775502]: TF_REPEATED_DATA ignoring data with redundant timestamp for frame odom (parent map) at time 1313.070000 according to authority /pose_integrator\u001b[0m\n",
      "\u001b[33m[ WARN] [1743741937.198815021]: TF_REPEATED_DATA ignoring data with redundant timestamp for frame odom (parent map) at time 1313.070000 according to authority /pose_integrator\u001b[0m\n",
      "\u001b[33m[ WARN] [1743741937.198870042]: TF_REPEATED_DATA ignoring data with redundant timestamp for frame odom (parent map) at time 1313.070000 according to authority /pose_integrator\u001b[0m\n",
      "\u001b[33m[ WARN] [1743741937.198910964]: TF_REPEATED_DATA ignoring data with redundant timestamp for frame odom (parent map) at time 1313.070000 according to authority /pose_integrator\u001b[0m\n"
     ]
    }
   ],
   "source": [
    "plt.imshow(mask)"
   ]
  },
  {
   "cell_type": "code",
   "execution_count": null,
   "id": "390b3e2d",
   "metadata": {},
   "outputs": [],
   "source": []
  }
 ],
 "metadata": {
  "kernelspec": {
   "display_name": "Python 3 (ipykernel)",
   "language": "python",
   "name": "python3"
  },
  "language_info": {
   "codemirror_mode": {
    "name": "ipython",
    "version": 3
   },
   "file_extension": ".py",
   "mimetype": "text/x-python",
   "name": "python",
   "nbconvert_exporter": "python",
   "pygments_lexer": "ipython3",
   "version": "3.8.10"
  }
 },
 "nbformat": 4,
 "nbformat_minor": 5
}
