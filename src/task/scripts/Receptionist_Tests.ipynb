{
 "cells": [
  {
   "cell_type": "code",
   "execution_count": 1,
   "id": "5eff9884",
   "metadata": {},
   "outputs": [],
   "source": [
    "import matplotlib.pyplot as plt\n"
   ]
  },
  {
   "cell_type": "code",
   "execution_count": 2,
   "id": "ffe70468",
   "metadata": {},
   "outputs": [
    {
     "name": "stderr",
     "output_type": "stream",
     "text": [
      "/home/roboworks/.local/lib/python3.8/site-packages/pandas/core/computation/expressions.py:20: UserWarning: Pandas requires version '2.7.3' or newer of 'numexpr' (version '2.7.1' currently installed).\n",
      "  from pandas.core.computation.check import NUMEXPR_INSTALLED\n"
     ]
    }
   ],
   "source": [
    "from smach_utils_receptionist import *\n"
   ]
  },
  {
   "cell_type": "code",
   "execution_count": 11,
   "id": "f410bda3",
   "metadata": {},
   "outputs": [
    {
     "data": {
      "text/html": [
       "<div>\n",
       "<style scoped>\n",
       "    .dataframe tbody tr th:only-of-type {\n",
       "        vertical-align: middle;\n",
       "    }\n",
       "\n",
       "    .dataframe tbody tr th {\n",
       "        vertical-align: top;\n",
       "    }\n",
       "\n",
       "    .dataframe thead th {\n",
       "        text-align: right;\n",
       "    }\n",
       "</style>\n",
       "<table border=\"1\" class=\"dataframe\">\n",
       "  <thead>\n",
       "    <tr style=\"text-align: right;\">\n",
       "      <th></th>\n",
       "      <th>x</th>\n",
       "      <th>y</th>\n",
       "      <th>th</th>\n",
       "      <th>qx</th>\n",
       "      <th>qy</th>\n",
       "      <th>qz</th>\n",
       "      <th>qw</th>\n",
       "      <th>child_id_frame</th>\n",
       "    </tr>\n",
       "  </thead>\n",
       "  <tbody>\n",
       "    <tr>\n",
       "      <th>3</th>\n",
       "      <td>-1.444</td>\n",
       "      <td>-1.314</td>\n",
       "      <td>-3.121</td>\n",
       "      <td>0.0</td>\n",
       "      <td>0.0</td>\n",
       "      <td>-0.999</td>\n",
       "      <td>0.010</td>\n",
       "      <td>seat_place_1</td>\n",
       "    </tr>\n",
       "    <tr>\n",
       "      <th>4</th>\n",
       "      <td>-1.472</td>\n",
       "      <td>-0.761</td>\n",
       "      <td>3.093</td>\n",
       "      <td>0.0</td>\n",
       "      <td>0.0</td>\n",
       "      <td>0.999</td>\n",
       "      <td>0.024</td>\n",
       "      <td>seat_place_2</td>\n",
       "    </tr>\n",
       "    <tr>\n",
       "      <th>5</th>\n",
       "      <td>-1.484</td>\n",
       "      <td>-1.751</td>\n",
       "      <td>-3.095</td>\n",
       "      <td>0.0</td>\n",
       "      <td>0.0</td>\n",
       "      <td>-0.999</td>\n",
       "      <td>0.023</td>\n",
       "      <td>seat_place_3</td>\n",
       "    </tr>\n",
       "    <tr>\n",
       "      <th>6</th>\n",
       "      <td>-0.818</td>\n",
       "      <td>-1.912</td>\n",
       "      <td>-1.511</td>\n",
       "      <td>0.0</td>\n",
       "      <td>0.0</td>\n",
       "      <td>-0.685</td>\n",
       "      <td>0.727</td>\n",
       "      <td>seat_place_4</td>\n",
       "    </tr>\n",
       "    <tr>\n",
       "      <th>7</th>\n",
       "      <td>-1.094</td>\n",
       "      <td>0.107</td>\n",
       "      <td>1.582</td>\n",
       "      <td>0.0</td>\n",
       "      <td>0.0</td>\n",
       "      <td>0.711</td>\n",
       "      <td>0.702</td>\n",
       "      <td>seat_place_5</td>\n",
       "    </tr>\n",
       "  </tbody>\n",
       "</table>\n",
       "</div>"
      ],
      "text/plain": [
       "       x      y     th   qx   qy     qz     qw child_id_frame\n",
       "3 -1.444 -1.314 -3.121  0.0  0.0 -0.999  0.010   seat_place_1\n",
       "4 -1.472 -0.761  3.093  0.0  0.0  0.999  0.024   seat_place_2\n",
       "5 -1.484 -1.751 -3.095  0.0  0.0 -0.999  0.023   seat_place_3\n",
       "6 -0.818 -1.912 -1.511  0.0  0.0 -0.685  0.727   seat_place_4\n",
       "7 -1.094  0.107  1.582  0.0  0.0  0.711  0.702   seat_place_5"
      ]
     },
     "execution_count": 11,
     "metadata": {},
     "output_type": "execute_result"
    }
   ],
   "source": [
    "df=yaml_to_df()\n",
    "seat_places = df[df['child_id_frame'].str.startswith('seat_place_')]\n",
    "for index, row in seat_places.iterrows():\n",
    "    x = row['x']\n",
    "    y = row['y']\n",
    "    z = 1.0\n",
    "    child_id = row['child_id_frame']\n",
    "    print(f\"{child_id}: x = {x}, y = {y}, z = {z}\")\n",
    "    tf_man.pub_static_tf(pos=[x,y,1.0],rot=[0,0,0,1],point_name=child_id)\n",
    "\n",
    "seat_places"
   ]
  },
  {
   "cell_type": "code",
   "execution_count": 3,
   "id": "9e8e8113",
   "metadata": {},
   "outputs": [],
   "source": [
    "def wait_for_faces_2_tf(timeout=10 , name=''):  #USB CAM JUST F\n",
    "    \n",
    "    rospy.sleep(0.3)\n",
    "    \n",
    "    start_time = rospy.get_time()\n",
    "    strings=Strings()\n",
    "    string_msg= String()\n",
    "    string_msg.data='Anyone'\n",
    "    while rospy.get_time() - start_time < timeout:\n",
    "        req=RecognizeFaceRequest()\n",
    "        #img=rgbd.get_image()\n",
    "        #print ('Got  image with shape',img.shape)\n",
    "        #req.Ids.ids.append(string_msg)\n",
    "        #img_msg=bridge.cv2_to_imgmsg(img[:,150:-150])\n",
    "        #req.in_.image_msgs.append(img_msg)\n",
    "\n",
    "\n",
    "        data = rospy.wait_for_message(\"/usb_cam/image_raw\",Image) \n",
    "        img = bridge.imgmsg_to_cv2(data)#, \"bgr8\")   \n",
    "        req.in_.image_msgs.append(data)\n",
    "        res= recognize_face(req)\n",
    "\n",
    "\n",
    "        #NO FACE FOUND\n",
    "        if res.Ids.ids[0].data == 'NO_FACE':\n",
    "            print ('No face FOund Keep scanning')\n",
    "            \n",
    "            return None, None\n",
    "        #AT LEAST ONE FACE FOUND\n",
    "        else:\n",
    "            print('at least one face found')\n",
    "            return res , img\n",
    "            #    return new_res , img\n",
    "\n",
    "\n"
   ]
  },
  {
   "cell_type": "code",
   "execution_count": 4,
   "id": "e64ad125",
   "metadata": {},
   "outputs": [],
   "source": [
    " #------------------------------------------------------\n",
    "def wait_for_face(timeout=10 , name=''):\n",
    "    \n",
    "    rospy.sleep(0.3)\n",
    "    \n",
    "    start_time = rospy.get_time()\n",
    "    strings=Strings()\n",
    "    string_msg= String()\n",
    "    string_msg.data='Anyone'\n",
    "    while rospy.get_time() - start_time < timeout:\n",
    "        req=RecognizeFaceRequest()\n",
    "        #img=rgbd.get_image()\n",
    "        #print ('Got  image with shape',img.shape)\n",
    "        #req.Ids.ids.append(string_msg)\n",
    "        #img_msg=bridge.cv2_to_imgmsg(img[:,150:-150])\n",
    "        #req.in_.image_msgs.append(img_msg)\n",
    "\n",
    "\n",
    "        data = rospy.wait_for_message(\"/usb_cam/image_raw\",Image) \n",
    "        img = bridge.imgmsg_to_cv2(data)#, \"bgr8\")   \n",
    "        req.in_.image_msgs.append(data)\n",
    "        res= recognize_face(req)\n",
    "\n",
    "\n",
    "        #NO FACE FOUND\n",
    "        if res.Ids.ids[0].data == 'NO_FACE':\n",
    "            print ('No face FOund Keep scanning')\n",
    "            \n",
    "            return None, None\n",
    "        #AT LEAST ONE FACE FOUND\n",
    "        else:\n",
    "            print(f'num faces detected{len(res.Ids.ids)}')\n",
    "            ds_to_faces=[]\n",
    "            for i , idface in enumerate(res.Ids.ids):\n",
    "                print (i,idface.data)\n",
    "                ds_to_faces.append(res.Ds.data[i])    ##\n",
    "                if (idface.data)==name :\n",
    "                    new_res= RecognizeFaceResponse()\n",
    "                    new_res.Ds.data= res.Ds.data[i]\n",
    "                    new_res.Angs.data= res.Angs.data[i:i+4]\n",
    "                    new_res.Ids.ids=res.Ids.ids[i].data\n",
    "                    print('return res,img',new_res)\n",
    "                    print ('hit',idface.data, 'at' , res.Ds.data[i]  , 'meters')\n",
    "                    ds_to_faces=[]\n",
    "                    return new_res , img\n",
    "\n",
    "            if len (ds_to_faces)!=0:\n",
    "                i=np.argmin(ds_to_faces)\n",
    "                new_res= RecognizeFaceResponse()\n",
    "                new_res.Ds.data= res.Ds.data[i]\n",
    "                new_res.Angs.data= res.Angs.data[i:i+4]\n",
    "                new_res.Ids.ids=res.Ids.ids[i].data\n",
    "                print('return res,img',new_res)\n",
    "                ds_to_faces=[]\n",
    "                return new_res , img"
   ]
  },
  {
   "cell_type": "code",
   "execution_count": 5,
   "id": "6fff4e25",
   "metadata": {},
   "outputs": [
    {
     "name": "stdout",
     "output_type": "stream",
     "text": [
      "num faces detected1\n",
      "0 jack\n",
      "return res,img Ds: \n",
      "  data: 0.7314285635948181\n",
      "Angs: \n",
      "  data: [116.0, 236.0, 270.0, 81.0]\n",
      "Ids: \n",
      "  ids: \"jack\"\n",
      "Ds: \n",
      "  data: 0.7314285635948181\n",
      "Angs: \n",
      "  data: [116.0, 236.0, 270.0, 81.0]\n",
      "Ids: \n",
      "  ids: \"jack\"\n"
     ]
    }
   ],
   "source": [
    "res, face_img = wait_for_face()  # default 10 secs\n",
    "data = rospy.wait_for_message(\"/usb_cam/image_raw\",Image)   #DEBUG REMOVE\n",
    "img = bridge.imgmsg_to_cv2(data)#, \"bgr8\")        \n",
    "print (res)"
   ]
  },
  {
   "cell_type": "code",
   "execution_count": 13,
   "id": "c1058de6",
   "metadata": {},
   "outputs": [
    {
     "name": "stdout",
     "output_type": "stream",
     "text": [
      "at least one face found\n"
     ]
    },
    {
     "data": {
      "text/plain": [
       "Ds: \n",
       "  data: [0.7211267352104187]\n",
       "Angs: \n",
       "  data: [139.0, 296.0, 268.0, 167.0]\n",
       "Ids: \n",
       "  ids: \n",
       "    - \n",
       "      data: \"jack\""
      ]
     },
     "execution_count": 13,
     "metadata": {},
     "output_type": "execute_result"
    }
   ],
   "source": [
    "points= rgbd.get_points()\n",
    "res, face_img = wait_for_faces_2_tf()  # default 10 secs\n",
    "res"
   ]
  },
  {
   "cell_type": "code",
   "execution_count": 38,
   "id": "332439b3",
   "metadata": {},
   "outputs": [
    {
     "data": {
      "text/html": [
       "<div>\n",
       "<style scoped>\n",
       "    .dataframe tbody tr th:only-of-type {\n",
       "        vertical-align: middle;\n",
       "    }\n",
       "\n",
       "    .dataframe tbody tr th {\n",
       "        vertical-align: top;\n",
       "    }\n",
       "\n",
       "    .dataframe thead th {\n",
       "        text-align: right;\n",
       "    }\n",
       "</style>\n",
       "<table border=\"1\" class=\"dataframe\">\n",
       "  <thead>\n",
       "    <tr style=\"text-align: right;\">\n",
       "      <th></th>\n",
       "      <th>x</th>\n",
       "      <th>y</th>\n",
       "      <th>th</th>\n",
       "      <th>qx</th>\n",
       "      <th>qy</th>\n",
       "      <th>qz</th>\n",
       "      <th>qw</th>\n",
       "      <th>child_id_frame</th>\n",
       "    </tr>\n",
       "  </thead>\n",
       "  <tbody>\n",
       "    <tr>\n",
       "      <th>3</th>\n",
       "      <td>-1.444</td>\n",
       "      <td>-1.314</td>\n",
       "      <td>-3.121</td>\n",
       "      <td>0.0</td>\n",
       "      <td>0.0</td>\n",
       "      <td>-0.999</td>\n",
       "      <td>0.010</td>\n",
       "      <td>seat_place_1</td>\n",
       "    </tr>\n",
       "    <tr>\n",
       "      <th>4</th>\n",
       "      <td>-1.472</td>\n",
       "      <td>-0.761</td>\n",
       "      <td>3.093</td>\n",
       "      <td>0.0</td>\n",
       "      <td>0.0</td>\n",
       "      <td>0.999</td>\n",
       "      <td>0.024</td>\n",
       "      <td>seat_place_2</td>\n",
       "    </tr>\n",
       "    <tr>\n",
       "      <th>5</th>\n",
       "      <td>-1.484</td>\n",
       "      <td>-1.751</td>\n",
       "      <td>-3.095</td>\n",
       "      <td>0.0</td>\n",
       "      <td>0.0</td>\n",
       "      <td>-0.999</td>\n",
       "      <td>0.023</td>\n",
       "      <td>seat_place_3</td>\n",
       "    </tr>\n",
       "    <tr>\n",
       "      <th>6</th>\n",
       "      <td>-0.818</td>\n",
       "      <td>-1.912</td>\n",
       "      <td>-1.511</td>\n",
       "      <td>0.0</td>\n",
       "      <td>0.0</td>\n",
       "      <td>-0.685</td>\n",
       "      <td>0.727</td>\n",
       "      <td>seat_place_4</td>\n",
       "    </tr>\n",
       "    <tr>\n",
       "      <th>7</th>\n",
       "      <td>-1.094</td>\n",
       "      <td>0.107</td>\n",
       "      <td>1.582</td>\n",
       "      <td>0.0</td>\n",
       "      <td>0.0</td>\n",
       "      <td>0.711</td>\n",
       "      <td>0.702</td>\n",
       "      <td>seat_place_5</td>\n",
       "    </tr>\n",
       "  </tbody>\n",
       "</table>\n",
       "</div>"
      ],
      "text/plain": [
       "       x      y     th   qx   qy     qz     qw child_id_frame\n",
       "3 -1.444 -1.314 -3.121  0.0  0.0 -0.999  0.010   seat_place_1\n",
       "4 -1.472 -0.761  3.093  0.0  0.0  0.999  0.024   seat_place_2\n",
       "5 -1.484 -1.751 -3.095  0.0  0.0 -0.999  0.023   seat_place_3\n",
       "6 -0.818 -1.912 -1.511  0.0  0.0 -0.685  0.727   seat_place_4\n",
       "7 -1.094  0.107  1.582  0.0  0.0  0.711  0.702   seat_place_5"
      ]
     },
     "execution_count": 38,
     "metadata": {},
     "output_type": "execute_result"
    }
   ],
   "source": [
    "seat_places"
   ]
  },
  {
   "cell_type": "code",
   "execution_count": 8,
   "id": "20f7fc71",
   "metadata": {},
   "outputs": [
    {
     "data": {
      "text/plain": [
       "<matplotlib.image.AxesImage at 0x7f8dd80aae50>"
      ]
     },
     "execution_count": 8,
     "metadata": {},
     "output_type": "execute_result"
    },
    {
     "data": {
      "image/png": "[encoded data removed]",
      "text/plain": [
       "<Figure size 640x480 with 1 Axes>"
      ]
     },
     "metadata": {},
     "output_type": "display_data"
    }
   ],
   "source": [
    "plt.imshow(face_img[int(res.Angs.data[0]):int(res.Angs.data[2]),int(res.Angs.data[3]):int(res.Angs.data[1])])"
   ]
  },
  {
   "cell_type": "code",
   "execution_count": 23,
   "id": "a06e8a57",
   "metadata": {},
   "outputs": [
    {
     "name": "stdout",
     "output_type": "stream",
     "text": [
      "face0 , jack, bbox [139 296 268 167], cent[-0.39914313, -0.13225105, 2.0515797] \n",
      "seat_place_3\n"
     ]
    }
   ],
   "source": [
    "for i , idface in enumerate(res.Ids.ids):\n",
    "    bbox=np.asarray(res.Angs.data[4*i:4*i+4],dtype=int)\n",
    "    cent=[np.nanmean(points['x'][bbox[0]:bbox[2],bbox[3]:bbox[1]]),np.nanmean(points['y'][bbox[0]:bbox[2],bbox[3]:bbox[1]]),np.nanmean(points['z'][bbox[0]:bbox[2],bbox[3]:bbox[1]])]\n",
    "    \n",
    "    tf_man.pub_static_tf(pos=cent, point_name=idface.data, ref=\"head_rgbd_sensor_rgb_frame\")\n",
    "    rospy.sleep(0.1)\n",
    "    tf_man.change_ref_frame_tf(idface.data)\n",
    "    rospy.sleep(0.1)\n",
    "    pose,_= tf_man.getTF(idface.data)\n",
    "    print (f'face{i} , {idface.data}, bbox {bbox}, cent{cent} ')\n",
    "    print (seat_places['child_id_frame'].iloc[np.linalg.norm(seat_places[['x','y']].values- pose[:2], axis=1).argmin()])\n",
    "    \n",
    "    "
   ]
  },
  {
   "cell_type": "code",
   "execution_count": 55,
   "id": "32f27ec5",
   "metadata": {},
   "outputs": [
    {
     "data": {
      "text/plain": [
       "True"
      ]
     },
     "execution_count": 55,
     "metadata": {},
     "output_type": "execute_result"
    }
   ],
   "source": [
    "head.turn_base_gaze2(tf = 'seat_place_1', to_gaze = 'base_link')"
   ]
  },
  {
   "cell_type": "code",
   "execution_count": 16,
   "id": "1305a25b",
   "metadata": {},
   "outputs": [
    {
     "data": {
      "text/plain": [
       "'seat_place_3'"
      ]
     },
     "execution_count": 16,
     "metadata": {},
     "output_type": "execute_result"
    }
   ],
   "source": [
    "seat_places['child_id_frame'].iloc[np.linalg.norm(seat_places[['x','y']].values- pose[:2], axis=1).argmin()]"
   ]
  },
  {
   "cell_type": "code",
   "execution_count": null,
   "id": "f9a8c446",
   "metadata": {},
   "outputs": [],
   "source": [
    "#plt.imshow(face_img[142:365,0:216])\n",
    "plt.imshow(face_img[bbox[0]:bbox[2],bbox[3]:bbox[1]])"
   ]
  },
  {
   "cell_type": "code",
   "execution_count": null,
   "id": "eb517004",
   "metadata": {},
   "outputs": [],
   "source": [
    "bbox=np.asarray(res.Angs.data[i:i+4],dtype=int)\n",
    "bbox"
   ]
  },
  {
   "cell_type": "code",
   "execution_count": null,
   "id": "2fe451b5",
   "metadata": {},
   "outputs": [],
   "source": [
    "points= rgbd.get_points()"
   ]
  },
  {
   "cell_type": "code",
   "execution_count": null,
   "id": "c6233552",
   "metadata": {},
   "outputs": [],
   "source": [
    "cent=np.asarray((np.mean(points['x'][int(res.Angs.data[0]):int(res.Angs.data[2]),int(res.Angs.data[3]):int(res.Angs.data[1])]),np.mean(points['y'][int(res.Angs.data[0]):int(res.Angs.data[2]),int(res.Angs.data[3]):int(res.Angs.data[1])]),np.mean(points['z'][int(res.Angs.data[0]):int(res.Angs.data[2]),int(res.Angs.data[3]):int(res.Angs.data[1])])))\n",
    "tf_man.pub_static_tf(pos= cent , rot=[0,0,0,1], ref=\"head_rgbd_sensor_rgb_frame\", point_name=res.Ids.ids[0] )\n",
    "#rospy.sleep(0.1)\n",
    "#tf_man.change_ref_frame_tf(res.Ids.ids)"
   ]
  },
  {
   "cell_type": "code",
   "execution_count": null,
   "id": "4e519a58",
   "metadata": {},
   "outputs": [],
   "source": [
    "plt.imshow(rgbd.get_points()['z'][int(res.Angs.data[0]):int(res.Angs.data[2]),int(res.Angs.data[3]):int(res.Angs.data[1])], cmap='prism')"
   ]
  },
  {
   "cell_type": "code",
   "execution_count": null,
   "id": "0d376076",
   "metadata": {},
   "outputs": [],
   "source": [
    "plt.imshow(face_img[int(res.Angs.data[0]):int(res.Angs.data[2]),int(res.Angs.data[3]):int(res.Angs.data[1])])"
   ]
  },
  {
   "cell_type": "code",
   "execution_count": null,
   "id": "3011b608",
   "metadata": {},
   "outputs": [],
   "source": [
    "plt.imshow(img[239:368,96:225,:])"
   ]
  },
  {
   "cell_type": "code",
   "execution_count": null,
   "id": "0a30b0e2",
   "metadata": {},
   "outputs": [],
   "source": [
    "res\n"
   ]
  },
  {
   "cell_type": "code",
   "execution_count": null,
   "id": "d8465f34",
   "metadata": {},
   "outputs": [],
   "source": [
    "data = rospy.wait_for_message(\"/usb_cam/image_raw\",Image)   #DEBUG REMOVE\n",
    "img = bridge.imgmsg_to_cv2(data)#, \"bgr8\")                  #DEBUG REMOVE\n",
    "req=RecognizeFaceRequest()\n",
    "print ('Got  image with shape',img.shape)\n",
    "#req.Ids.ids.append(string_msg)\n",
    "#img_msg=bridge.cv2_to_imgmsg(img[:,150:-150])\n",
    "#req.in_.image_msgs.append(img_msg)\n",
    "req.in_.image_msgs.append(data)"
   ]
  },
  {
   "cell_type": "code",
   "execution_count": null,
   "id": "d6817eed",
   "metadata": {},
   "outputs": [],
   "source": [
    "plt.imshow(img)"
   ]
  },
  {
   "cell_type": "code",
   "execution_count": null,
   "id": "3e7a6a30",
   "metadata": {},
   "outputs": [],
   "source": [
    "import face_recognition\n"
   ]
  },
  {
   "cell_type": "code",
   "execution_count": null,
   "id": "e0e02b78",
   "metadata": {},
   "outputs": [],
   "source": [
    "face_locations=face_recognition.face_locations(img)\n"
   ]
  },
  {
   "cell_type": "code",
   "execution_count": null,
   "id": "ad462938",
   "metadata": {},
   "outputs": [],
   "source": [
    "face_locations[0]"
   ]
  },
  {
   "cell_type": "code",
   "execution_count": null,
   "id": "3abdff9b",
   "metadata": {},
   "outputs": [],
   "source": [
    "analyze_face_from_image(img,'jack')"
   ]
  },
  {
   "cell_type": "code",
   "execution_count": null,
   "id": "0c9a8d5d",
   "metadata": {},
   "outputs": [],
   "source": [
    "description=analyze_face_from_image(img,'jack')\n",
    "description"
   ]
  },
  {
   "cell_type": "code",
   "execution_count": null,
   "id": "21a7e5e6",
   "metadata": {},
   "outputs": [],
   "source": [
    "Angs=[]\n",
    "if len (face_locations)>0:\n",
    "\n",
    "\n",
    "        print ('faces found ->', len (face_locations))\n",
    "\n",
    "        for face_location in face_locations:\n",
    "\n",
    "\n",
    "                Angs.append( int (face_location[0]) )#Bounding Box\n",
    "                Angs.append( int (face_location[1]) )#Bounding Box\n",
    "                Angs.append( int (face_location[2]) )#Bounding Box\n",
    "                Angs.append( int (face_location[3]) )#Bounding Box\n",
    "\n"
   ]
  },
  {
   "cell_type": "code",
   "execution_count": null,
   "id": "6286c2a3",
   "metadata": {},
   "outputs": [],
   "source": [
    "Angs"
   ]
  },
  {
   "cell_type": "code",
   "execution_count": 10,
   "id": "4888d6e6",
   "metadata": {},
   "outputs": [],
   "source": [
    "file_name    = rospy.get_param(\"file_name\", \"/known_locations.yaml\")"
   ]
  },
  {
   "cell_type": "code",
   "execution_count": 11,
   "id": "e24d409b",
   "metadata": {},
   "outputs": [],
   "source": [
    "def yaml_to_df():\n",
    "    con = read_yaml(known_locations_file =file_name)\n",
    "    values=[]\n",
    "    locations=[]\n",
    "    for c in con:\n",
    "        locations.append(c)\n",
    "\n",
    "        for i in range(len(con[c])):\n",
    "            values.append(list(con[c][i].values())[0])\n",
    "\n",
    "    data=np.asarray(values).reshape((int(len(values)/7),7))    #x , y ,theta  ,quat   since z always 0\n",
    "    df= pd.DataFrame( data)\n",
    "    df.columns=['x','y','th','qx','qy','qz','qw']\n",
    "    df['child_id_frame']=locations\n",
    "    return df\n",
    "\n"
   ]
  },
  {
   "cell_type": "code",
   "execution_count": 12,
   "id": "d4014aa8",
   "metadata": {},
   "outputs": [],
   "source": [
    "df=yaml_to_df()"
   ]
  },
  {
   "cell_type": "code",
   "execution_count": 13,
   "id": "af64ae86",
   "metadata": {},
   "outputs": [],
   "source": [
    "seat_places = df[df['child_id_frame'].str.startswith('seat_place_')]"
   ]
  },
  {
   "cell_type": "code",
   "execution_count": null,
   "id": "422e853a",
   "metadata": {},
   "outputs": [],
   "source": []
  },
  {
   "cell_type": "code",
   "execution_count": 49,
   "id": "043e4170",
   "metadata": {},
   "outputs": [
    {
     "name": "stdout",
     "output_type": "stream",
     "text": [
      "seat_place_1: x = -1.444, y = -1.314, z = 1.0\n",
      "seat_place_2: x = -1.472, y = -0.761, z = 1.0\n",
      "seat_place_3: x = -1.484, y = -1.751, z = 1.0\n",
      "seat_place_4: x = -0.818, y = -1.912, z = 1.0\n",
      "seat_place_5: x = -1.094, y = 0.107, z = 1.0\n"
     ]
    }
   ],
   "source": [
    "for index, row in seat_places.iterrows():\n",
    "    x = row['x']\n",
    "    y = row['y']\n",
    "    z = 1.0\n",
    "    child_id = row['child_id_frame']\n",
    "    print(f\"{child_id}: x = {x}, y = {y}, z = {z}\")\n",
    "    tf_man.pub_static_tf(pos=[x,y,1.0],rot=[0,0,0,1],point_name=child_id)\n"
   ]
  },
  {
   "cell_type": "code",
   "execution_count": 14,
   "id": "761f35f6",
   "metadata": {},
   "outputs": [
    {
     "ename": "NameError",
     "evalue": "name 'pose' is not defined",
     "output_type": "error",
     "traceback": [
      "\u001b[0;31m---------------------------------------------------------------------------\u001b[0m",
      "\u001b[0;31mNameError\u001b[0m                                 Traceback (most recent call last)",
      "Cell \u001b[0;32mIn[14], line 1\u001b[0m\n\u001b[0;32m----> 1\u001b[0m seat_places[\u001b[38;5;124m'\u001b[39m\u001b[38;5;124mchild_id_frame\u001b[39m\u001b[38;5;124m'\u001b[39m]\u001b[38;5;241m.\u001b[39miloc[np\u001b[38;5;241m.\u001b[39mlinalg\u001b[38;5;241m.\u001b[39mnorm(seat_places[[\u001b[38;5;124m'\u001b[39m\u001b[38;5;124mx\u001b[39m\u001b[38;5;124m'\u001b[39m,\u001b[38;5;124m'\u001b[39m\u001b[38;5;124my\u001b[39m\u001b[38;5;124m'\u001b[39m]]\u001b[38;5;241m.\u001b[39mvalues\u001b[38;5;241m-\u001b[39m \u001b[43mpose\u001b[49m[:\u001b[38;5;241m2\u001b[39m], axis\u001b[38;5;241m=\u001b[39m\u001b[38;5;241m1\u001b[39m)\u001b[38;5;241m.\u001b[39margmin()]\n",
      "\u001b[0;31mNameError\u001b[0m: name 'pose' is not defined"
     ]
    }
   ],
   "source": [
    "seat_places['child_id_frame'].iloc[np.linalg.norm(seat_places[['x','y']].values- pose[:2], axis=1).argmin()]"
   ]
  },
  {
   "cell_type": "code",
   "execution_count": null,
   "id": "89fe1b97",
   "metadata": {},
   "outputs": [],
   "source": [
    "seat_places"
   ]
  },
  {
   "cell_type": "code",
   "execution_count": 18,
   "id": "96f5d1ec",
   "metadata": {},
   "outputs": [
    {
     "data": {
      "text/plain": [
       "array([8.27414564, 8.12120091, 8.47579472, 7.93961805, 7.53947916])"
      ]
     },
     "execution_count": 18,
     "metadata": {},
     "output_type": "execute_result"
    }
   ],
   "source": [
    "np.linalg.norm(seat_places[['x','y']].values- pose[:2], axis=1)"
   ]
  },
  {
   "cell_type": "code",
   "execution_count": 21,
   "id": "72039c88",
   "metadata": {},
   "outputs": [],
   "source": [
    "for seat_D in np.linalg.norm(seat_places[['x','y']].values- pose[:2], axis=1):\n",
    "    if seat_D < 0.3:print (seat_D)"
   ]
  },
  {
   "cell_type": "code",
   "execution_count": 46,
   "id": "623c13d0",
   "metadata": {},
   "outputs": [
    {
     "name": "stdout",
     "output_type": "stream",
     "text": [
      "x\n",
      "y\n",
      "th\n",
      "qx\n",
      "qy\n",
      "qz\n",
      "qw\n",
      "child_id_frame\n"
     ]
    }
   ],
   "source": [
    "for row in seat_places:\n",
    "    print(row)"
   ]
  },
  {
   "cell_type": "code",
   "execution_count": null,
   "id": "1c3d4753",
   "metadata": {},
   "outputs": [],
   "source": []
  }
 ],
 "metadata": {
  "kernelspec": {
   "display_name": "Python 3 (ipykernel)",
   "language": "python",
   "name": "python3"
  },
  "language_info": {
   "codemirror_mode": {
    "name": "ipython",
    "version": 3
   },
   "file_extension": ".py",
   "mimetype": "text/x-python",
   "name": "python",
   "nbconvert_exporter": "python",
   "pygments_lexer": "ipython3",
   "version": "3.8.10"
  }
 },
 "nbformat": 4,
 "nbformat_minor": 5
}
