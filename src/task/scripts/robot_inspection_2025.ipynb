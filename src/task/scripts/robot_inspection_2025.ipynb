{
 "cells": [
  {
   "cell_type": "code",
   "execution_count": null,
   "metadata": {},
   "outputs": [],
   "source": [
    "from smach_utils_receptionist import *"
   ]
  },
  {
   "cell_type": "code",
   "execution_count": null,
   "metadata": {},
   "outputs": [],
   "source": [
    "rospy.loginfo('STATE : Wait for Wait_push_hand')\n",
    "head.set_named_target('neutral')\n",
    "brazo.set_named_target('go')\n",
    "voice.talk('Gently... push my hand to begin')"
   ]
  },
  {
   "cell_type": "code",
   "execution_count": null,
   "metadata": {},
   "outputs": [],
   "source": [
    "voice.talk(\"I am going to the beverage area\")\n",
    "\n",
    "try:\n",
    "    res = omni_base.move_base(known_location='beverage_area', timeout=20)\n",
    "    if res:\n",
    "        voice.talk(\"I have arrived at the beverage area\")\n",
    "    else:\n",
    "\n",
    "        voice.talk(\"Navigation failed, retrying...\")\n",
    "\n",
    "print(f\"Navigation result: {res}\")\n",
    "\n",
    "voice.talk(\"Navigation failed, retrying...\")"
   ]
  },
  {
   "cell_type": "code",
   "execution_count": null,
   "metadata": {},
   "outputs": [],
   "source": []
  }
 ],
 "metadata": {
  "kernelspec": {
   "display_name": "Python 3",
   "language": "python",
   "name": "python3"
  },
  "language_info": {
   "codemirror_mode": {
    "name": "ipython",
    "version": 3
   },
   "file_extension": ".py",
   "mimetype": "text/x-python",
   "name": "python",
   "nbconvert_exporter": "python",
   "pygments_lexer": "ipython3",
   "version": "3.8.10"
  }
 },
 "nbformat": 4,
 "nbformat_minor": 2
}
