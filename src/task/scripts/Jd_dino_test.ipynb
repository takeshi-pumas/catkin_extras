{
 "cells": [
  {
   "cell_type": "code",
   "execution_count": 1,
   "id": "24675773-f6f4-4c26-b91d-a4b32bd702cc",
   "metadata": {},
   "outputs": [
    {
     "name": "stderr",
     "output_type": "stream",
     "text": [
      "/home/roboworks/.local/lib/python3.8/site-packages/pandas/core/computation/expressions.py:20: UserWarning: Pandas requires version '2.7.3' or newer of 'numexpr' (version '2.7.1' currently installed).\n",
      "  from pandas.core.computation.check import NUMEXPR_INSTALLED\n"
     ]
    }
   ],
   "source": [
    "from smach_utils_receptionist import *"
   ]
  },
  {
   "cell_type": "code",
   "execution_count": 2,
   "id": "146449ab-2e86-4e6e-825b-08714084e3ba",
   "metadata": {},
   "outputs": [
    {
     "name": "stdout",
     "output_type": "stream",
     "text": [
      "False\n"
     ]
    }
   ],
   "source": [
    "res = omni_base.move_base(known_location='beverage_area',timeout=20)\n",
    "if res:\n",
    "    voice.talk(\"I will check if there is coke here\")\n",
    "else:\n",
    "    voice.talk('Navigation Failed, retrying')\n",
    "print(res)"
   ]
  },
  {
   "cell_type": "code",
   "execution_count": 3,
   "id": "825b0d4b-0924-41e2-a823-06ae8b541278",
   "metadata": {},
   "outputs": [
    {
     "name": "stdout",
     "output_type": "stream",
     "text": [
      "[INFO] [1742851833.662794]: STATE : INITIAL\n",
      "[INFO] [1742851833.675649]: Try of 5 attempts\n",
      "Place_1 [-0.33, -1.7, -0.05]\n",
      "Place_2 [-0.82, -1.61, -1.51]\n",
      "Place_3 [-1.12, -0.45, 3.1]\n"
     ]
    }
   ],
   "source": [
    "rospy.loginfo('STATE : INITIAL')\n",
    "rospy.loginfo(f'Try of 5 attempts')\n",
    "party.clean_knowledge(host_name = \"john\", host_location = \"Place_3\")\n",
    "#party.publish_tf_seats()\n",
    "places_2_tf()\n",
    "\n",
    "###-----INIT GRAMMAR FOR VOSK\n",
    "###-----Use with get_keywords_speech()\n",
    "###-----------SPEECH REC\n",
    "#drinks=['coke','juice','beer', 'water', 'soda', 'wine', 'i want a', 'i would like a']\n",
    "#drinks = ['coke','juice','milk', 'water', 'soda', 'wine', \n",
    "#          'i want a', 'i would like a', 'tea', 'icedtea', 'cola', 'redwine', 'orangejuice', 'tropicaljuice']\n",
    "drinks = ['water', 'soda', 'coke', 'juice', 'iced tea', 'i want a', 'i would like a']\n",
    "#names=['rebeca','ana','jack', 'michael', ' my name is' , 'i am','george','mary','ruben','oscar','yolo','mitzi']\n",
    "#names = [' my name is' , 'i am','adel', 'angel', 'axel', \n",
    "#         'charlie', 'jane', 'john', 'jules', 'morgan', 'paris', 'robin', 'simone', 'jack']\n",
    "names = ['my name is', 'i am','john', 'jack', 'paris', 'charlie', 'simone', 'robin', 'jane', 'jules']\n",
    "confirmation = ['yes','no', 'robot yes', 'robot no','not','now','nope','yeah']                     \n",
    "gram = drinks + names + confirmation                                                                                \n",
    "\n"
   ]
  },
  {
   "cell_type": "code",
   "execution_count": 4,
   "id": "48e109b7-0cd5-45d8-ada2-57eefdd8a07b",
   "metadata": {},
   "outputs": [
    {
     "name": "stdout",
     "output_type": "stream",
     "text": [
      "[INFO] [1742851840.243937]: STATE : navigate to known beverage area\n",
      "Try of 3 attempts\n"
     ]
    }
   ],
   "source": [
    "rospy.loginfo('STATE : navigate to known beverage area')\n",
    "print('Try of 3 attempts')\n",
    "# voice.talk('Navigating to ,living room')\n",
    "#res = omni_base.move_base(known_location='beverage_area')\n"
   ]
  },
  {
   "cell_type": "code",
   "execution_count": 5,
   "id": "a5e44a60-16ea-4b91-9ee8-7e339c26604d",
   "metadata": {},
   "outputs": [
    {
     "name": "stdout",
     "output_type": "stream",
     "text": [
      "True\n"
     ]
    }
   ],
   "source": [
    "set_grammar(gram)\n",
    "print(\"True\")"
   ]
  },
  {
   "cell_type": "code",
   "execution_count": 15,
   "id": "4f9b7c6f-a595-4668-be8d-87947424cfb3",
   "metadata": {},
   "outputs": [
    {
     "name": "stdout",
     "output_type": "stream",
     "text": [
      "[INFO] [1742852201.382057]: Nube de puntos recibida. Enviando solicitud de segmentación...\n",
      "Message Received\n",
      "Result: right for drink: lipton\n"
     ]
    }
   ],
   "source": [
    "voice.talk('Scanning table')\n",
    "head.set_joint_values([0.0, -0.3])\n",
    "\n",
    "favorite_drink = \"lipton\"\n",
    "res,position = get_favorite_drink_location(favorite_drink)\n",
    "\n",
    "if res:\n",
    "    voice.talk(f\"I found a {favorite_drink} on the {position}, take it please.\")\n",
    "else:\n",
    "    voice.talk(f'There is no {favorite_drink}, if you want to, take another one.')"
   ]
  },
  {
   "cell_type": "code",
   "execution_count": 2,
   "id": "7982b212-79d6-44a1-9000-440aed0d2a4b",
   "metadata": {},
   "outputs": [
    {
     "name": "stdout",
     "output_type": "stream",
     "text": [
      "[INFO] [1747358390.566973, 103.441000]: Nube de puntos recibida. Enviando solicitud de segmentación...\n"
     ]
    },
    {
     "ename": "KeyboardInterrupt",
     "evalue": "",
     "output_type": "error",
     "traceback": [
      "\u001b[0;31m---------------------------------------------------------------------------\u001b[0m",
      "\u001b[0;31mKeyboardInterrupt\u001b[0m                         Traceback (most recent call last)",
      "Cell \u001b[0;32mIn[2], line 2\u001b[0m\n\u001b[1;32m      1\u001b[0m favorite_drink \u001b[38;5;241m=\u001b[39m \u001b[38;5;124m\"\u001b[39m\u001b[38;5;124mperson\u001b[39m\u001b[38;5;124m\"\u001b[39m\n\u001b[0;32m----> 2\u001b[0m res,position \u001b[38;5;241m=\u001b[39m \u001b[43mget_favorite_drink_location\u001b[49m\u001b[43m(\u001b[49m\u001b[43mfavorite_drink\u001b[49m\u001b[43m)\u001b[49m\n",
      "File \u001b[0;32m~/catkin_extras/src/task/scripts/smach_utils_receptionist.py:242\u001b[0m, in \u001b[0;36mget_favorite_drink_location\u001b[0;34m(favorite_drink)\u001b[0m\n\u001b[1;32m    240\u001b[0m \u001b[38;5;66;03m# Nombre de la región a segmentar (ajustar según el YAML)\u001b[39;00m\n\u001b[1;32m    241\u001b[0m region_name \u001b[38;5;241m=\u001b[39m \u001b[38;5;124m\"\u001b[39m\u001b[38;5;124mbeverage_area\u001b[39m\u001b[38;5;124m\"\u001b[39m\n\u001b[0;32m--> 242\u001b[0m \u001b[43mrospy\u001b[49m\u001b[38;5;241;43m.\u001b[39;49m\u001b[43mwait_for_service\u001b[49m\u001b[43m(\u001b[49m\u001b[38;5;124;43m\"\u001b[39;49m\u001b[38;5;124;43msegment_region\u001b[39;49m\u001b[38;5;124;43m\"\u001b[39;49m\u001b[43m)\u001b[49m\n\u001b[1;32m    243\u001b[0m \u001b[38;5;28;01mtry\u001b[39;00m:\n\u001b[1;32m    244\u001b[0m     request \u001b[38;5;241m=\u001b[39m SegmentRegionRequest(pointcloud\u001b[38;5;241m=\u001b[39mpointcloud_msg, region_name\u001b[38;5;241m=\u001b[39mregion_name)\n",
      "File \u001b[0;32m/opt/ros/noetic/lib/python3/dist-packages/rospy/impl/tcpros_service.py:164\u001b[0m, in \u001b[0;36mwait_for_service\u001b[0;34m(service, timeout)\u001b[0m\n\u001b[1;32m    162\u001b[0m         contact_failed \u001b[38;5;241m=\u001b[39m \u001b[38;5;28;01mTrue\u001b[39;00m\n\u001b[1;32m    163\u001b[0m         rospy\u001b[38;5;241m.\u001b[39mcore\u001b[38;5;241m.\u001b[39mlogwarn_throttle(\u001b[38;5;241m10\u001b[39m, \u001b[38;5;124m\"\u001b[39m\u001b[38;5;124mwait_for_service(\u001b[39m\u001b[38;5;132;01m%s\u001b[39;00m\u001b[38;5;124m): failed to contact, will keep trying\u001b[39m\u001b[38;5;124m\"\u001b[39m\u001b[38;5;241m%\u001b[39mresolved_name)\n\u001b[0;32m--> 164\u001b[0m     \u001b[43mtime\u001b[49m\u001b[38;5;241;43m.\u001b[39;49m\u001b[43msleep\u001b[49m\u001b[43m(\u001b[49m\u001b[38;5;241;43m0.3\u001b[39;49m\u001b[43m)\u001b[49m\n\u001b[1;32m    165\u001b[0m \u001b[38;5;28;01mif\u001b[39;00m rospy\u001b[38;5;241m.\u001b[39mcore\u001b[38;5;241m.\u001b[39mis_shutdown():\n\u001b[1;32m    166\u001b[0m     \u001b[38;5;28;01mraise\u001b[39;00m ROSInterruptException(\u001b[38;5;124m\"\u001b[39m\u001b[38;5;124mrospy shutdown\u001b[39m\u001b[38;5;124m\"\u001b[39m)\n",
      "\u001b[0;31mKeyboardInterrupt\u001b[0m: "
     ]
    }
   ],
   "source": [
    "favorite_drink = \"person\"\n",
    "res,position = get_favorite_drink_location(favorite_drink)\n"
   ]
  },
  {
   "cell_type": "code",
   "execution_count": 7,
   "id": "31368bd2-d7e2-41e4-942d-28e71dff8807",
   "metadata": {},
   "outputs": [],
   "source": [
    "rospy.wait_for_service('grounding_dino_detect')"
   ]
  },
  {
   "cell_type": "code",
   "execution_count": 8,
   "id": "fc1441d1",
   "metadata": {},
   "outputs": [],
   "source": [
    "classify_client_dino = rospy.ServiceProxy('grounding_dino_detect', Classify_dino)\n"
   ]
  },
  {
   "cell_type": "code",
   "execution_count": 31,
   "id": "906abac8-bc17-4a0d-9209-f27752f4528f",
   "metadata": {},
   "outputs": [],
   "source": [
    "img=rgbd.get_image()\n",
    "#cv2.imwrite('img.png',img)\n",
    "img = cv2.cvtColor(img, cv2.COLOR_BGR2RGB)\n",
    "# Convert image to ROS format\n",
    "ros_image = bridge.cv2_to_imgmsg(img, encoding=\"bgr8\")"
   ]
  },
  {
   "cell_type": "code",
   "execution_count": 75,
   "id": "f01bb3ba",
   "metadata": {},
   "outputs": [
    {
     "data": {
      "text/plain": [
       "<matplotlib.image.AxesImage at 0x7fcf8b883c70>"
      ]
     },
     "execution_count": 75,
     "metadata": {},
     "output_type": "execute_result"
    },
    {
     "data": {
      "image/png": "[encoded data removed]",
      "text/plain": [
       "<Figure size 640x480 with 1 Axes>"
      ]
     },
     "metadata": {},
     "output_type": "display_data"
    },
    {
     "name": "stderr",
     "output_type": "stream",
     "text": [
      "Warning: TF_REPEATED_DATA ignoring data with redundant timestamp for frame odom (parent map) at time 695.350000 according to authority /pose_integrator\n",
      "         at line 278 in /tmp/binarydeb/ros-noetic-tf2-0.7.7/src/buffer_core.cpp\n",
      "Warning: TF_REPEATED_DATA ignoring data with redundant timestamp for frame odom (parent map) at time 695.350000 according to authority /pose_integrator\n",
      "         at line 278 in /tmp/binarydeb/ros-noetic-tf2-0.7.7/src/buffer_core.cpp\n",
      "Warning: TF_REPEATED_DATA ignoring data with redundant timestamp for frame odom (parent map) at time 695.350000 according to authority /pose_integrator\n",
      "         at line 278 in /tmp/binarydeb/ros-noetic-tf2-0.7.7/src/buffer_core.cpp\n",
      "Warning: TF_REPEATED_DATA ignoring data with redundant timestamp for frame odom (parent map) at time 695.350000 according to authority /pose_integrator\n",
      "         at line 278 in /tmp/binarydeb/ros-noetic-tf2-0.7.7/src/buffer_core.cpp\n",
      "Warning: TF_REPEATED_DATA ignoring data with redundant timestamp for frame odom (parent map) at time 695.350000 according to authority /pose_integrator\n",
      "         at line 278 in /tmp/binarydeb/ros-noetic-tf2-0.7.7/src/buffer_core.cpp\n",
      "Warning: TF_REPEATED_DATA ignoring data with redundant timestamp for frame odom (parent map) at time 695.350000 according to authority /pose_integrator\n",
      "         at line 278 in /tmp/binarydeb/ros-noetic-tf2-0.7.7/src/buffer_core.cpp\n",
      "Warning: TF_REPEATED_DATA ignoring data with redundant timestamp for frame odom (parent map) at time 695.350000 according to authority /pose_integrator\n",
      "         at line 278 in /tmp/binarydeb/ros-noetic-tf2-0.7.7/src/buffer_core.cpp\n"
     ]
    }
   ],
   "source": [
    "img=rgbd.get_image()\n",
    "\n",
    "plt.imshow(img)"
   ]
  },
  {
   "cell_type": "code",
   "execution_count": 59,
   "id": "2fb403c8",
   "metadata": {},
   "outputs": [],
   "source": [
    "prompt_msg = String()\n",
    "prompt_msg.data = ' white shirt'\n",
    "\n",
    "response = classify_client_dino(ros_image, prompt_msg)"
   ]
  },
  {
   "cell_type": "code",
   "execution_count": 60,
   "id": "dca30c88",
   "metadata": {},
   "outputs": [],
   "source": [
    "debug_image = bridge.imgmsg_to_cv2(response.image, desired_encoding=\"bgr8\")"
   ]
  },
  {
   "cell_type": "code",
   "execution_count": 61,
   "id": "856fce40",
   "metadata": {},
   "outputs": [],
   "source": [
    "import matplotlib.pyplot as plt\n",
    "\n"
   ]
  },
  {
   "cell_type": "code",
   "execution_count": 62,
   "id": "821c0594",
   "metadata": {},
   "outputs": [
    {
     "data": {
      "text/plain": [
       "<matplotlib.image.AxesImage at 0x7fcf8c371160>"
      ]
     },
     "execution_count": 62,
     "metadata": {},
     "output_type": "execute_result"
    },
    {
     "data": {
      "image/png": "[encoded data removed]",
      "text/plain": [
       "<Figure size 640x480 with 1 Axes>"
      ]
     },
     "metadata": {},
     "output_type": "display_data"
    }
   ],
   "source": [
    "\n",
    "plt.imshow(debug_image)"
   ]
  },
  {
   "cell_type": "code",
   "execution_count": 26,
   "id": "21107f0f",
   "metadata": {},
   "outputs": [],
   "source": [
    "from transformers import BlipProcessor, BlipForConditionalGeneration\n",
    "from PIL import Image\n",
    "\n"
   ]
  },
  {
   "cell_type": "code",
   "execution_count": 63,
   "id": "f330b2dd",
   "metadata": {},
   "outputs": [
    {
     "data": {
      "application/vnd.jupyter.widget-view+json": {
       "model_id": "d9c6c8c8b02f4fab9653af6144324686",
       "version_major": 2,
       "version_minor": 0
      },
      "text/plain": [
       "preprocessor_config.json:   0%|          | 0.00/287 [00:00<?, ?B/s]"
      ]
     },
     "metadata": {},
     "output_type": "display_data"
    },
    {
     "data": {
      "application/vnd.jupyter.widget-view+json": {
       "model_id": "c1d4702155b64bf69c3d13471eef9a94",
       "version_major": 2,
       "version_minor": 0
      },
      "text/plain": [
       "tokenizer_config.json:   0%|          | 0.00/506 [00:00<?, ?B/s]"
      ]
     },
     "metadata": {},
     "output_type": "display_data"
    },
    {
     "data": {
      "application/vnd.jupyter.widget-view+json": {
       "model_id": "59ee830763f346e38c7c99fbfceee495",
       "version_major": 2,
       "version_minor": 0
      },
      "text/plain": [
       "vocab.txt:   0%|          | 0.00/232k [00:00<?, ?B/s]"
      ]
     },
     "metadata": {},
     "output_type": "display_data"
    },
    {
     "data": {
      "application/vnd.jupyter.widget-view+json": {
       "model_id": "f93f43125969445aa02bf05b281c0ae7",
       "version_major": 2,
       "version_minor": 0
      },
      "text/plain": [
       "tokenizer.json:   0%|          | 0.00/711k [00:00<?, ?B/s]"
      ]
     },
     "metadata": {},
     "output_type": "display_data"
    },
    {
     "data": {
      "application/vnd.jupyter.widget-view+json": {
       "model_id": "3f79446371dc4d2ea26d2e1b3b4ecf6e",
       "version_major": 2,
       "version_minor": 0
      },
      "text/plain": [
       "special_tokens_map.json:   0%|          | 0.00/125 [00:00<?, ?B/s]"
      ]
     },
     "metadata": {},
     "output_type": "display_data"
    },
    {
     "data": {
      "application/vnd.jupyter.widget-view+json": {
       "model_id": "bc1889785fb5418088874a015cc8ebe6",
       "version_major": 2,
       "version_minor": 0
      },
      "text/plain": [
       "config.json:   0%|          | 0.00/4.56k [00:00<?, ?B/s]"
      ]
     },
     "metadata": {},
     "output_type": "display_data"
    },
    {
     "data": {
      "application/vnd.jupyter.widget-view+json": {
       "model_id": "357618b3488a4ec482e17f3ecb4cb016",
       "version_major": 2,
       "version_minor": 0
      },
      "text/plain": [
       "pytorch_model.bin:   0%|          | 0.00/990M [00:00<?, ?B/s]"
      ]
     },
     "metadata": {},
     "output_type": "display_data"
    },
    {
     "data": {
      "application/vnd.jupyter.widget-view+json": {
       "model_id": "e44db9450a3e42139b148d497dcccfdb",
       "version_major": 2,
       "version_minor": 0
      },
      "text/plain": [
       "model.safetensors:   0%|          | 0.00/990M [00:00<?, ?B/s]"
      ]
     },
     "metadata": {},
     "output_type": "display_data"
    }
   ],
   "source": [
    "processor = BlipProcessor.from_pretrained(\"Salesforce/blip-image-captioning-base\")\n",
    "model = BlipForConditionalGeneration.from_pretrained(\"Salesforce/blip-image-captioning-base\")\n"
   ]
  },
  {
   "cell_type": "code",
   "execution_count": 64,
   "id": "d5a699d1",
   "metadata": {},
   "outputs": [],
   "source": [
    "pil_image = Image.fromarray(img)"
   ]
  },
  {
   "cell_type": "code",
   "execution_count": 65,
   "id": "0554e4fb",
   "metadata": {},
   "outputs": [
    {
     "name": "stderr",
     "output_type": "stream",
     "text": [
      "Warning: TF_REPEATED_DATA ignoring data with redundant timestamp for frame odom (parent map) at time 417.510000 according to authority /pose_integrator\n",
      "         at line 278 in /tmp/binarydeb/ros-noetic-tf2-0.7.7/src/buffer_core.cpp\n",
      "Warning: TF_REPEATED_DATA ignoring data with redundant timestamp for frame odom (parent map) at time 417.510000 according to authority /pose_integrator\n",
      "         at line 278 in /tmp/binarydeb/ros-noetic-tf2-0.7.7/src/buffer_core.cpp\n",
      "Warning: TF_REPEATED_DATA ignoring data with redundant timestamp for frame odom (parent map) at time 417.510000 according to authority /pose_integrator\n",
      "         at line 278 in /tmp/binarydeb/ros-noetic-tf2-0.7.7/src/buffer_core.cpp\n",
      "Warning: TF_REPEATED_DATA ignoring data with redundant timestamp for frame odom (parent map) at time 417.510000 according to authority /pose_integrator\n",
      "         at line 278 in /tmp/binarydeb/ros-noetic-tf2-0.7.7/src/buffer_core.cpp\n",
      "Warning: TF_REPEATED_DATA ignoring data with redundant timestamp for frame odom (parent map) at time 417.510000 according to authority /pose_integrator\n",
      "         at line 278 in /tmp/binarydeb/ros-noetic-tf2-0.7.7/src/buffer_core.cpp\n",
      "Warning: TF_REPEATED_DATA ignoring data with redundant timestamp for frame odom (parent map) at time 417.510000 according to authority /pose_integrator\n",
      "         at line 278 in /tmp/binarydeb/ros-noetic-tf2-0.7.7/src/buffer_core.cpp\n",
      "Warning: TF_REPEATED_DATA ignoring data with redundant timestamp for frame odom (parent map) at time 417.510000 according to authority /pose_integrator\n",
      "         at line 278 in /tmp/binarydeb/ros-noetic-tf2-0.7.7/src/buffer_core.cpp\n",
      "/home/roboworks/.local/lib/python3.8/site-packages/transformers/generation/utils.py:1375: UserWarning: Using the model-agnostic default `max_length` (=20) to control the generation length. We recommend setting `max_new_tokens` to control the maximum length of the generation.\n",
      "  warnings.warn(\n"
     ]
    },
    {
     "name": "stdout",
     "output_type": "stream",
     "text": [
      "Caption: a man standing in a room with a light on\n"
     ]
    },
    {
     "name": "stderr",
     "output_type": "stream",
     "text": [
      "Warning: TF_REPEATED_DATA ignoring data with redundant timestamp for frame odom (parent map) at time 444.068000 according to authority /pose_integrator\n",
      "         at line 278 in /tmp/binarydeb/ros-noetic-tf2-0.7.7/src/buffer_core.cpp\n",
      "Warning: TF_REPEATED_DATA ignoring data with redundant timestamp for frame odom (parent map) at time 444.068000 according to authority /pose_integrator\n",
      "         at line 278 in /tmp/binarydeb/ros-noetic-tf2-0.7.7/src/buffer_core.cpp\n",
      "Warning: TF_REPEATED_DATA ignoring data with redundant timestamp for frame odom (parent map) at time 444.068000 according to authority /pose_integrator\n",
      "         at line 278 in /tmp/binarydeb/ros-noetic-tf2-0.7.7/src/buffer_core.cpp\n",
      "Warning: TF_REPEATED_DATA ignoring data with redundant timestamp for frame odom (parent map) at time 444.068000 according to authority /pose_integrator\n",
      "         at line 278 in /tmp/binarydeb/ros-noetic-tf2-0.7.7/src/buffer_core.cpp\n",
      "Warning: TF_REPEATED_DATA ignoring data with redundant timestamp for frame odom (parent map) at time 444.068000 according to authority /pose_integrator\n",
      "         at line 278 in /tmp/binarydeb/ros-noetic-tf2-0.7.7/src/buffer_core.cpp\n",
      "Warning: TF_REPEATED_DATA ignoring data with redundant timestamp for frame odom (parent map) at time 444.068000 according to authority /pose_integrator\n",
      "         at line 278 in /tmp/binarydeb/ros-noetic-tf2-0.7.7/src/buffer_core.cpp\n",
      "Warning: TF_REPEATED_DATA ignoring data with redundant timestamp for frame odom (parent map) at time 444.068000 according to authority /pose_integrator\n",
      "         at line 278 in /tmp/binarydeb/ros-noetic-tf2-0.7.7/src/buffer_core.cpp\n",
      "Warning: TF_REPEATED_DATA ignoring data with redundant timestamp for frame odom (parent map) at time 445.671000 according to authority /pose_integrator\n",
      "         at line 278 in /tmp/binarydeb/ros-noetic-tf2-0.7.7/src/buffer_core.cpp\n",
      "Warning: TF_REPEATED_DATA ignoring data with redundant timestamp for frame odom (parent map) at time 445.671000 according to authority /pose_integrator\n",
      "         at line 278 in /tmp/binarydeb/ros-noetic-tf2-0.7.7/src/buffer_core.cpp\n",
      "Warning: TF_REPEATED_DATA ignoring data with redundant timestamp for frame odom (parent map) at time 445.671000 according to authority /pose_integrator\n",
      "         at line 278 in /tmp/binarydeb/ros-noetic-tf2-0.7.7/src/buffer_core.cpp\n",
      "Warning: TF_REPEATED_DATA ignoring data with redundant timestamp for frame odom (parent map) at time 445.671000 according to authority /pose_integrator\n",
      "         at line 278 in /tmp/binarydeb/ros-noetic-tf2-0.7.7/src/buffer_core.cpp\n",
      "Warning: TF_REPEATED_DATA ignoring data with redundant timestamp for frame odom (parent map) at time 445.671000 according to authority /pose_integrator\n",
      "         at line 278 in /tmp/binarydeb/ros-noetic-tf2-0.7.7/src/buffer_core.cpp\n",
      "Warning: TF_REPEATED_DATA ignoring data with redundant timestamp for frame odom (parent map) at time 445.671000 according to authority /pose_integrator\n",
      "         at line 278 in /tmp/binarydeb/ros-noetic-tf2-0.7.7/src/buffer_core.cpp\n",
      "Warning: TF_REPEATED_DATA ignoring data with redundant timestamp for frame odom (parent map) at time 445.671000 according to authority /pose_integrator\n",
      "         at line 278 in /tmp/binarydeb/ros-noetic-tf2-0.7.7/src/buffer_core.cpp\n"
     ]
    }
   ],
   "source": [
    "# Generate caption\n",
    "inputs = processor(images=pil_image, return_tensors=\"pt\")\n",
    "out = model.generate(**inputs)\n",
    "caption = processor.decode(out[0], skip_special_tokens=True)\n",
    "\n",
    "print(\"Caption:\", caption)"
   ]
  },
  {
   "cell_type": "code",
   "execution_count": 67,
   "id": "c571e9ae",
   "metadata": {},
   "outputs": [
    {
     "name": "stderr",
     "output_type": "stream",
     "text": [
      "Warning: TF_REPEATED_DATA ignoring data with redundant timestamp for frame odom (parent map) at time 471.324000 according to authority /pose_integrator\n",
      "         at line 278 in /tmp/binarydeb/ros-noetic-tf2-0.7.7/src/buffer_core.cpp\n",
      "Warning: TF_REPEATED_DATA ignoring data with redundant timestamp for frame odom (parent map) at time 471.324000 according to authority /pose_integrator\n",
      "         at line 278 in /tmp/binarydeb/ros-noetic-tf2-0.7.7/src/buffer_core.cpp\n",
      "Warning: TF_REPEATED_DATA ignoring data with redundant timestamp for frame odom (parent map) at time 471.324000 according to authority /pose_integrator\n",
      "         at line 278 in /tmp/binarydeb/ros-noetic-tf2-0.7.7/src/buffer_core.cpp\n",
      "Warning: TF_REPEATED_DATA ignoring data with redundant timestamp for frame odom (parent map) at time 471.324000 according to authority /pose_integrator\n",
      "         at line 278 in /tmp/binarydeb/ros-noetic-tf2-0.7.7/src/buffer_core.cpp\n",
      "Warning: TF_REPEATED_DATA ignoring data with redundant timestamp for frame odom (parent map) at time 471.324000 according to authority /pose_integrator\n",
      "         at line 278 in /tmp/binarydeb/ros-noetic-tf2-0.7.7/src/buffer_core.cpp\n",
      "Warning: TF_REPEATED_DATA ignoring data with redundant timestamp for frame odom (parent map) at time 471.324000 according to authority /pose_integrator\n",
      "         at line 278 in /tmp/binarydeb/ros-noetic-tf2-0.7.7/src/buffer_core.cpp\n",
      "Warning: TF_REPEATED_DATA ignoring data with redundant timestamp for frame odom (parent map) at time 471.324000 according to authority /pose_integrator\n",
      "         at line 278 in /tmp/binarydeb/ros-noetic-tf2-0.7.7/src/buffer_core.cpp\n"
     ]
    },
    {
     "name": "stdout",
     "output_type": "stream",
     "text": [
      "Answer: is someone wearing a dark shirt?\n"
     ]
    },
    {
     "name": "stderr",
     "output_type": "stream",
     "text": [
      "Warning: TF_REPEATED_DATA ignoring data with redundant timestamp for frame odom (parent map) at time 474.849000 according to authority /pose_integrator\n",
      "         at line 278 in /tmp/binarydeb/ros-noetic-tf2-0.7.7/src/buffer_core.cpp\n",
      "Warning: TF_REPEATED_DATA ignoring data with redundant timestamp for frame odom (parent map) at time 474.849000 according to authority /pose_integrator\n",
      "         at line 278 in /tmp/binarydeb/ros-noetic-tf2-0.7.7/src/buffer_core.cpp\n",
      "Warning: TF_REPEATED_DATA ignoring data with redundant timestamp for frame odom (parent map) at time 474.849000 according to authority /pose_integrator\n",
      "         at line 278 in /tmp/binarydeb/ros-noetic-tf2-0.7.7/src/buffer_core.cpp\n",
      "Warning: TF_REPEATED_DATA ignoring data with redundant timestamp for frame odom (parent map) at time 474.849000 according to authority /pose_integrator\n",
      "         at line 278 in /tmp/binarydeb/ros-noetic-tf2-0.7.7/src/buffer_core.cpp\n",
      "Warning: TF_REPEATED_DATA ignoring data with redundant timestamp for frame odom (parent map) at time 474.849000 according to authority /pose_integrator\n",
      "         at line 278 in /tmp/binarydeb/ros-noetic-tf2-0.7.7/src/buffer_core.cpp\n",
      "Warning: TF_REPEATED_DATA ignoring data with redundant timestamp for frame odom (parent map) at time 474.849000 according to authority /pose_integrator\n",
      "         at line 278 in /tmp/binarydeb/ros-noetic-tf2-0.7.7/src/buffer_core.cpp\n",
      "Warning: TF_REPEATED_DATA ignoring data with redundant timestamp for frame odom (parent map) at time 474.849000 according to authority /pose_integrator\n",
      "         at line 278 in /tmp/binarydeb/ros-noetic-tf2-0.7.7/src/buffer_core.cpp\n"
     ]
    }
   ],
   "source": []
  },
  {
   "cell_type": "code",
   "execution_count": 68,
   "id": "eecab805",
   "metadata": {},
   "outputs": [
    {
     "data": {
      "application/vnd.jupyter.widget-view+json": {
       "model_id": "0c651eb866394569a6c9e0bb035ba1bb",
       "version_major": 2,
       "version_minor": 0
      },
      "text/plain": [
       "preprocessor_config.json:   0%|          | 0.00/445 [00:00<?, ?B/s]"
      ]
     },
     "metadata": {},
     "output_type": "display_data"
    },
    {
     "data": {
      "application/vnd.jupyter.widget-view+json": {
       "model_id": "b573e05932e64799b32c3c12ffd287e3",
       "version_major": 2,
       "version_minor": 0
      },
      "text/plain": [
       "tokenizer_config.json:   0%|          | 0.00/592 [00:00<?, ?B/s]"
      ]
     },
     "metadata": {},
     "output_type": "display_data"
    },
    {
     "data": {
      "application/vnd.jupyter.widget-view+json": {
       "model_id": "bc9d52b1346f4bd7bd0aaf1b32434d61",
       "version_major": 2,
       "version_minor": 0
      },
      "text/plain": [
       "vocab.txt:   0%|          | 0.00/232k [00:00<?, ?B/s]"
      ]
     },
     "metadata": {},
     "output_type": "display_data"
    },
    {
     "data": {
      "application/vnd.jupyter.widget-view+json": {
       "model_id": "05f29a544bcb46c08c1b6d03ef9dc336",
       "version_major": 2,
       "version_minor": 0
      },
      "text/plain": [
       "tokenizer.json:   0%|          | 0.00/711k [00:00<?, ?B/s]"
      ]
     },
     "metadata": {},
     "output_type": "display_data"
    },
    {
     "data": {
      "application/vnd.jupyter.widget-view+json": {
       "model_id": "eebeb907e76b4c8885373296e208cadf",
       "version_major": 2,
       "version_minor": 0
      },
      "text/plain": [
       "special_tokens_map.json:   0%|          | 0.00/125 [00:00<?, ?B/s]"
      ]
     },
     "metadata": {},
     "output_type": "display_data"
    },
    {
     "data": {
      "application/vnd.jupyter.widget-view+json": {
       "model_id": "146a70ec94384961aed45d035678ee1d",
       "version_major": 2,
       "version_minor": 0
      },
      "text/plain": [
       "config.json:   0%|          | 0.00/4.56k [00:00<?, ?B/s]"
      ]
     },
     "metadata": {},
     "output_type": "display_data"
    },
    {
     "data": {
      "application/vnd.jupyter.widget-view+json": {
       "model_id": "8f1e43117c0641f1ad583fdc667c807b",
       "version_major": 2,
       "version_minor": 0
      },
      "text/plain": [
       "model.safetensors:   0%|          | 0.00/1.54G [00:00<?, ?B/s]"
      ]
     },
     "metadata": {},
     "output_type": "display_data"
    },
    {
     "name": "stderr",
     "output_type": "stream",
     "text": [
      "Warning: TF_REPEATED_DATA ignoring data with redundant timestamp for frame odom (parent map) at time 532.158000 according to authority /pose_integrator\n",
      "         at line 278 in /tmp/binarydeb/ros-noetic-tf2-0.7.7/src/buffer_core.cpp\n",
      "Warning: TF_REPEATED_DATA ignoring data with redundant timestamp for frame odom (parent map) at time 532.158000 according to authority /pose_integrator\n",
      "         at line 278 in /tmp/binarydeb/ros-noetic-tf2-0.7.7/src/buffer_core.cpp\n",
      "Warning: TF_REPEATED_DATA ignoring data with redundant timestamp for frame odom (parent map) at time 532.158000 according to authority /pose_integrator\n",
      "         at line 278 in /tmp/binarydeb/ros-noetic-tf2-0.7.7/src/buffer_core.cpp\n",
      "Warning: TF_REPEATED_DATA ignoring data with redundant timestamp for frame odom (parent map) at time 532.158000 according to authority /pose_integrator\n",
      "         at line 278 in /tmp/binarydeb/ros-noetic-tf2-0.7.7/src/buffer_core.cpp\n",
      "Warning: TF_REPEATED_DATA ignoring data with redundant timestamp for frame odom (parent map) at time 532.158000 according to authority /pose_integrator\n",
      "         at line 278 in /tmp/binarydeb/ros-noetic-tf2-0.7.7/src/buffer_core.cpp\n",
      "Warning: TF_REPEATED_DATA ignoring data with redundant timestamp for frame odom (parent map) at time 532.158000 according to authority /pose_integrator\n",
      "         at line 278 in /tmp/binarydeb/ros-noetic-tf2-0.7.7/src/buffer_core.cpp\n",
      "Warning: TF_REPEATED_DATA ignoring data with redundant timestamp for frame odom (parent map) at time 532.158000 according to authority /pose_integrator\n",
      "         at line 278 in /tmp/binarydeb/ros-noetic-tf2-0.7.7/src/buffer_core.cpp\n"
     ]
    }
   ],
   "source": [
    "from transformers import BlipProcessor, BlipForQuestionAnswering\n",
    "\n",
    "processor = BlipProcessor.from_pretrained(\"Salesforce/blip-vqa-base\")\n",
    "model = BlipForQuestionAnswering.from_pretrained(\"Salesforce/blip-vqa-base\")\n"
   ]
  },
  {
   "cell_type": "code",
   "execution_count": 73,
   "id": "8d32f4a1",
   "metadata": {},
   "outputs": [
    {
     "name": "stderr",
     "output_type": "stream",
     "text": [
      "Warning: TF_REPEATED_DATA ignoring data with redundant timestamp for frame odom (parent map) at time 567.648000 according to authority /pose_integrator\n",
      "         at line 278 in /tmp/binarydeb/ros-noetic-tf2-0.7.7/src/buffer_core.cpp\n",
      "Warning: TF_REPEATED_DATA ignoring data with redundant timestamp for frame odom (parent map) at time 567.648000 according to authority /pose_integrator\n",
      "         at line 278 in /tmp/binarydeb/ros-noetic-tf2-0.7.7/src/buffer_core.cpp\n",
      "Warning: TF_REPEATED_DATA ignoring data with redundant timestamp for frame odom (parent map) at time 567.648000 according to authority /pose_integrator\n",
      "         at line 278 in /tmp/binarydeb/ros-noetic-tf2-0.7.7/src/buffer_core.cpp\n",
      "Warning: TF_REPEATED_DATA ignoring data with redundant timestamp for frame odom (parent map) at time 567.648000 according to authority /pose_integrator\n",
      "         at line 278 in /tmp/binarydeb/ros-noetic-tf2-0.7.7/src/buffer_core.cpp\n",
      "Warning: TF_REPEATED_DATA ignoring data with redundant timestamp for frame odom (parent map) at time 567.648000 according to authority /pose_integrator\n",
      "         at line 278 in /tmp/binarydeb/ros-noetic-tf2-0.7.7/src/buffer_core.cpp\n",
      "Warning: TF_REPEATED_DATA ignoring data with redundant timestamp for frame odom (parent map) at time 567.648000 according to authority /pose_integrator\n",
      "         at line 278 in /tmp/binarydeb/ros-noetic-tf2-0.7.7/src/buffer_core.cpp\n",
      "Warning: TF_REPEATED_DATA ignoring data with redundant timestamp for frame odom (parent map) at time 567.648000 according to authority /pose_integrator\n",
      "         at line 278 in /tmp/binarydeb/ros-noetic-tf2-0.7.7/src/buffer_core.cpp\n"
     ]
    },
    {
     "name": "stdout",
     "output_type": "stream",
     "text": [
      "Answer: 0\n"
     ]
    }
   ],
   "source": [
    "# Ask your question\n",
    "question = \"how many people are wearing shorts?\"\n",
    "# Run inference\n",
    "inputs = processor(images=pil_image, text=question, return_tensors=\"pt\")\n",
    "out = model.generate(**inputs)\n",
    "answer = processor.decode(out[0], skip_special_tokens=True)\n",
    "\n",
    "print(\"Answer:\", answer)\n"
   ]
  },
  {
   "cell_type": "code",
   "execution_count": null,
   "id": "3d33cbd0",
   "metadata": {},
   "outputs": [],
   "source": []
  }
 ],
 "metadata": {
  "kernelspec": {
   "display_name": "Python 3 (ipykernel)",
   "language": "python",
   "name": "python3"
  },
  "language_info": {
   "codemirror_mode": {
    "name": "ipython",
    "version": 3
   },
   "file_extension": ".py",
   "mimetype": "text/x-python",
   "name": "python",
   "nbconvert_exporter": "python",
   "pygments_lexer": "ipython3",
   "version": "3.8.10"
  }
 },
 "nbformat": 4,
 "nbformat_minor": 5
}
