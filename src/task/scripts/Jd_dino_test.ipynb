{
 "cells": [
  {
   "cell_type": "code",
   "execution_count": 1,
   "id": "24675773-f6f4-4c26-b91d-a4b32bd702cc",
   "metadata": {},
   "outputs": [],
   "source": [
    "from smach_utils_receptionist import *"
   ]
  },
  {
   "cell_type": "code",
   "execution_count": 2,
   "id": "825b0d4b-0924-41e2-a823-06ae8b541278",
   "metadata": {},
   "outputs": [
    {
     "name": "stdout",
     "output_type": "stream",
     "text": [
      "[INFO] [1740435185.906260]: STATE : INITIAL\n",
      "[INFO] [1740435185.909604]: Try of 5 attempts\n",
      "Place_1 [-0.33, -1.7, -0.05]\n",
      "Place_2 [-0.82, -1.61, -1.51]\n",
      "Place_3 [-1.12, -0.45, 3.1]\n"
     ]
    }
   ],
   "source": [
    "rospy.loginfo('STATE : INITIAL')\n",
    "rospy.loginfo(f'Try of 5 attempts')\n",
    "party.clean_knowledge(host_name = \"john\", host_location = \"Place_3\")\n",
    "#party.publish_tf_seats()\n",
    "places_2_tf()\n",
    "\n",
    "###-----INIT GRAMMAR FOR VOSK\n",
    "###-----Use with get_keywords_speech()\n",
    "###-----------SPEECH REC\n",
    "#drinks=['coke','juice','beer', 'water', 'soda', 'wine', 'i want a', 'i would like a']\n",
    "#drinks = ['coke','juice','milk', 'water', 'soda', 'wine', \n",
    "#          'i want a', 'i would like a', 'tea', 'icedtea', 'cola', 'redwine', 'orangejuice', 'tropicaljuice']\n",
    "drinks = ['water', 'soda', 'coke', 'juice', 'iced tea', 'i want a', 'i would like a']\n",
    "#names=['rebeca','ana','jack', 'michael', ' my name is' , 'i am','george','mary','ruben','oscar','yolo','mitzi']\n",
    "#names = [' my name is' , 'i am','adel', 'angel', 'axel', \n",
    "#         'charlie', 'jane', 'john', 'jules', 'morgan', 'paris', 'robin', 'simone', 'jack']\n",
    "names = ['my name is', 'i am','john', 'jack', 'paris', 'charlie', 'simone', 'robin', 'jane', 'jules']\n",
    "confirmation = ['yes','no', 'robot yes', 'robot no','not','now','nope','yeah']                     \n",
    "gram = drinks + names + confirmation                                                                                \n",
    "\n"
   ]
  },
  {
   "cell_type": "code",
   "execution_count": 3,
   "id": "48e109b7-0cd5-45d8-ada2-57eefdd8a07b",
   "metadata": {},
   "outputs": [
    {
     "name": "stdout",
     "output_type": "stream",
     "text": [
      "[INFO] [1740435192.908805]: STATE : navigate to known beverage area\n",
      "Try of 3 attempts\n"
     ]
    }
   ],
   "source": [
    "rospy.loginfo('STATE : navigate to known beverage area')\n",
    "print('Try of 3 attempts')\n",
    "# voice.talk('Navigating to ,living room')\n",
    "res = omni_base.move_base(known_location='beverage_area')\n"
   ]
  },
  {
   "cell_type": "code",
   "execution_count": 4,
   "id": "a5e44a60-16ea-4b91-9ee8-7e339c26604d",
   "metadata": {},
   "outputs": [
    {
     "data": {
      "text/plain": [
       "result: True"
      ]
     },
     "execution_count": 4,
     "metadata": {},
     "output_type": "execute_result"
    }
   ],
   "source": [
    "set_grammar(gram)"
   ]
  },
  {
   "cell_type": "code",
   "execution_count": 18,
   "id": "4f9b7c6f-a595-4668-be8d-87947424cfb3",
   "metadata": {},
   "outputs": [
    {
     "name": "stdout",
     "output_type": "stream",
     "text": [
      "Message Received\n",
      "Result: left for drink: coke\n"
     ]
    }
   ],
   "source": [
    "voice.talk('Scanning table')\n",
    "head.set_joint_values([0.0, -0.1])\n",
    "\n",
    "favorite_drink = \"coke\"\n",
    "res,position = get_favorite_drink_location(favorite_drink)\n",
    "\n",
    "if res:\n",
    "    voice.talk(f\"I found a {favorite_drink} on the {position}, take it please.\")\n",
    "else:\n",
    "    voice.talk(f'There is no {favorite_drink}, if you want to, take another one.')"
   ]
  },
  {
   "cell_type": "code",
   "execution_count": null,
   "id": "1e87742c-0501-421c-89bf-04ff576a8456",
   "metadata": {},
   "outputs": [],
   "source": []
  }
 ],
 "metadata": {
  "kernelspec": {
   "display_name": "Python 3 (ipykernel)",
   "language": "python",
   "name": "python3"
  },
  "language_info": {
   "codemirror_mode": {
    "name": "ipython",
    "version": 3
   },
   "file_extension": ".py",
   "mimetype": "text/x-python",
   "name": "python",
   "nbconvert_exporter": "python",
   "pygments_lexer": "ipython3",
   "version": "3.8.10"
  }
 },
 "nbformat": 4,
 "nbformat_minor": 5
}
