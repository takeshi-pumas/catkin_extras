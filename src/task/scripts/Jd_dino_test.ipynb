{
 "cells": [
  {
   "cell_type": "code",
   "execution_count": 1,
   "id": "24675773-f6f4-4c26-b91d-a4b32bd702cc",
   "metadata": {},
   "outputs": [],
   "source": [
    "from smach_utils_receptionist import *"
   ]
  },
  {
   "cell_type": "code",
   "execution_count": 2,
   "id": "146449ab-2e86-4e6e-825b-08714084e3ba",
   "metadata": {},
   "outputs": [
    {
     "name": "stdout",
     "output_type": "stream",
     "text": [
      "False\n"
     ]
    }
   ],
   "source": [
    "res = omni_base.move_base(known_location='beverage_area',timeout=20)\n",
    "if res:\n",
    "    voice.talk(\"I will check if there is coke here\")\n",
    "else:\n",
    "    voice.talk('Navigation Failed, retrying')\n",
    "print(res)"
   ]
  },
  {
   "cell_type": "code",
   "execution_count": 3,
   "id": "825b0d4b-0924-41e2-a823-06ae8b541278",
   "metadata": {},
   "outputs": [
    {
     "name": "stdout",
     "output_type": "stream",
     "text": [
      "[INFO] [1743453270.844428]: STATE : INITIAL\n",
      "[INFO] [1743453270.877702]: Try of 5 attempts\n",
      "Place_1 [-0.33, -1.7, -0.05]\n",
      "Place_2 [-0.82, -1.61, -1.51]\n",
      "Place_3 [-1.12, -0.45, 3.1]\n"
     ]
    }
   ],
   "source": [
    "rospy.loginfo('STATE : INITIAL')\n",
    "rospy.loginfo(f'Try of 5 attempts')\n",
    "party.clean_knowledge(host_name = \"john\", host_location = \"Place_3\")\n",
    "#party.publish_tf_seats()\n",
    "places_2_tf()\n",
    "\n",
    "###-----INIT GRAMMAR FOR VOSK\n",
    "###-----Use with get_keywords_speech()\n",
    "###-----------SPEECH REC\n",
    "#drinks=['coke','juice','beer', 'water', 'soda', 'wine', 'i want a', 'i would like a']\n",
    "#drinks = ['coke','juice','milk', 'water', 'soda', 'wine', \n",
    "#          'i want a', 'i would like a', 'tea', 'icedtea', 'cola', 'redwine', 'orangejuice', 'tropicaljuice']\n",
    "drinks = ['water', 'soda', 'coke', 'juice', 'iced tea', 'i want a', 'i would like a']\n",
    "#names=['rebeca','ana','jack', 'michael', ' my name is' , 'i am','george','mary','ruben','oscar','yolo','mitzi']\n",
    "#names = [' my name is' , 'i am','adel', 'angel', 'axel', \n",
    "#         'charlie', 'jane', 'john', 'jules', 'morgan', 'paris', 'robin', 'simone', 'jack']\n",
    "names = ['my name is', 'i am','john', 'jack', 'paris', 'charlie', 'simone', 'robin', 'jane', 'jules']\n",
    "confirmation = ['yes','no', 'robot yes', 'robot no','not','now','nope','yeah']                     \n",
    "gram = drinks + names + confirmation                                                                                \n",
    "\n"
   ]
  },
  {
   "cell_type": "code",
   "execution_count": 4,
   "id": "48e109b7-0cd5-45d8-ada2-57eefdd8a07b",
   "metadata": {},
   "outputs": [
    {
     "name": "stdout",
     "output_type": "stream",
     "text": [
      "[INFO] [1743453280.585207]: STATE : navigate to known beverage area\n",
      "Try of 3 attempts\n"
     ]
    }
   ],
   "source": [
    "rospy.loginfo('STATE : navigate to known beverage area')\n",
    "print('Try of 3 attempts')\n",
    "# voice.talk('Navigating to ,living room')\n",
    "#res = omni_base.move_base(known_location='beverage_area')\n"
   ]
  },
  {
   "cell_type": "code",
   "execution_count": 5,
   "id": "a5e44a60-16ea-4b91-9ee8-7e339c26604d",
   "metadata": {},
   "outputs": [
    {
     "name": "stdout",
     "output_type": "stream",
     "text": [
      "True\n"
     ]
    }
   ],
   "source": [
    "set_grammar(gram)\n",
    "print(\"True\")"
   ]
  },
  {
   "cell_type": "code",
   "execution_count": 7,
   "id": "4f9b7c6f-a595-4668-be8d-87947424cfb3",
   "metadata": {},
   "outputs": [
    {
     "name": "stdout",
     "output_type": "stream",
     "text": [
      "[INFO] [1743453312.370949]: Nube de puntos recibida. Enviando solicitud de segmentación...\n",
      "Message Received\n",
      "Result: not found for drink: coke\n"
     ]
    }
   ],
   "source": [
    "voice.talk('Scanning table')\n",
    "head.set_joint_values([0.0, -0.3])\n",
    "\n",
    "favorite_drink = \"coke\"\n",
    "res,position = get_favorite_drink_location(favorite_drink)\n",
    "\n",
    "if res:\n",
    "    voice.talk(f\"I found a {favorite_drink} on the {position}, take it please.\")\n",
    "else:\n",
    "    voice.talk(f'There is no {favorite_drink}, if you want to, take another one.')"
   ]
  },
  {
   "cell_type": "code",
   "execution_count": 2,
   "id": "7982b212-79d6-44a1-9000-440aed0d2a4b",
   "metadata": {},
   "outputs": [
    {
     "ename": "TypeError",
     "evalue": "Your input type is not a numpy array",
     "output_type": "error",
     "traceback": [
      "\u001b[0;31m---------------------------------------------------------------------------\u001b[0m",
      "\u001b[0;31mTypeError\u001b[0m                                 Traceback (most recent call last)",
      "Cell \u001b[0;32mIn[2], line 1\u001b[0m\n\u001b[0;32m----> 1\u001b[0m \u001b[43manalyze_face_from_image\u001b[49m\u001b[43m(\u001b[49m\u001b[43mrgbd\u001b[49m\u001b[38;5;241;43m.\u001b[39;49m\u001b[43mget_image\u001b[49m\u001b[43m)\u001b[49m\n",
      "File \u001b[0;32m~/Repositories/catkin_extras/src/task/scripts/smach_utils_receptionist.py:186\u001b[0m, in \u001b[0;36manalyze_face_from_image\u001b[0;34m(cv2_img, name)\u001b[0m\n\u001b[1;32m    184\u001b[0m string_msg\u001b[38;5;241m.\u001b[39mdata\u001b[38;5;241m=\u001b[39m\u001b[38;5;124m'\u001b[39m\u001b[38;5;124manalyze \u001b[39m\u001b[38;5;124m'\u001b[39m\n\u001b[1;32m    185\u001b[0m req\u001b[38;5;241m.\u001b[39mIds\u001b[38;5;241m.\u001b[39mids\u001b[38;5;241m.\u001b[39mappend(string_msg)\n\u001b[0;32m--> 186\u001b[0m img_msg\u001b[38;5;241m=\u001b[39m\u001b[43mbridge\u001b[49m\u001b[38;5;241;43m.\u001b[39;49m\u001b[43mcv2_to_imgmsg\u001b[49m\u001b[43m(\u001b[49m\u001b[43mcv2_img\u001b[49m\u001b[43m)\u001b[49m\n\u001b[1;32m    187\u001b[0m req\u001b[38;5;241m.\u001b[39min_\u001b[38;5;241m.\u001b[39mimage_msgs\u001b[38;5;241m.\u001b[39mappend(img_msg)\n\u001b[1;32m    188\u001b[0m \u001b[38;5;66;03m#res=recognize(req)\u001b[39;00m\n\u001b[1;32m    189\u001b[0m \n\u001b[1;32m    190\u001b[0m \u001b[38;5;66;03m#service call\u001b[39;00m\n",
      "File \u001b[0;32m/opt/ros/noetic/lib/python3/dist-packages/cv_bridge/core.py:251\u001b[0m, in \u001b[0;36mCvBridge.cv2_to_imgmsg\u001b[0;34m(self, cvim, encoding, header)\u001b[0m\n\u001b[1;32m    249\u001b[0m \u001b[38;5;28;01mimport\u001b[39;00m\u001b[38;5;250m \u001b[39m\u001b[38;5;21;01mnumpy\u001b[39;00m\u001b[38;5;250m \u001b[39m\u001b[38;5;28;01mas\u001b[39;00m\u001b[38;5;250m \u001b[39m\u001b[38;5;21;01mnp\u001b[39;00m\n\u001b[1;32m    250\u001b[0m \u001b[38;5;28;01mif\u001b[39;00m \u001b[38;5;129;01mnot\u001b[39;00m \u001b[38;5;28misinstance\u001b[39m(cvim, (np\u001b[38;5;241m.\u001b[39mndarray, np\u001b[38;5;241m.\u001b[39mgeneric)):\n\u001b[0;32m--> 251\u001b[0m     \u001b[38;5;28;01mraise\u001b[39;00m \u001b[38;5;167;01mTypeError\u001b[39;00m(\u001b[38;5;124m'\u001b[39m\u001b[38;5;124mYour input type is not a numpy array\u001b[39m\u001b[38;5;124m'\u001b[39m)\n\u001b[1;32m    252\u001b[0m img_msg \u001b[38;5;241m=\u001b[39m sensor_msgs\u001b[38;5;241m.\u001b[39mmsg\u001b[38;5;241m.\u001b[39mImage()\n\u001b[1;32m    253\u001b[0m img_msg\u001b[38;5;241m.\u001b[39mheight \u001b[38;5;241m=\u001b[39m cvim\u001b[38;5;241m.\u001b[39mshape[\u001b[38;5;241m0\u001b[39m]\n",
      "\u001b[0;31mTypeError\u001b[0m: Your input type is not a numpy array"
     ]
    }
   ],
   "source": [
    "\n",
    "analyze_face_from_image(rgbd.get_image)\n"
   ]
  },
  {
   "cell_type": "code",
   "execution_count": null,
   "id": "31368bd2-d7e2-41e4-942d-28e71dff8807",
   "metadata": {},
   "outputs": [],
   "source": []
  },
  {
   "cell_type": "code",
   "execution_count": null,
   "id": "906abac8-bc17-4a0d-9209-f27752f4528f",
   "metadata": {},
   "outputs": [],
   "source": []
  }
 ],
 "metadata": {
  "kernelspec": {
   "display_name": "Python 3 (ipykernel)",
   "language": "python",
   "name": "python3"
  },
  "language_info": {
   "codemirror_mode": {
    "name": "ipython",
    "version": 3
   },
   "file_extension": ".py",
   "mimetype": "text/x-python",
   "name": "python",
   "nbconvert_exporter": "python",
   "pygments_lexer": "ipython3",
   "version": "3.8.10"
  }
 },
 "nbformat": 4,
 "nbformat_minor": 5
}
