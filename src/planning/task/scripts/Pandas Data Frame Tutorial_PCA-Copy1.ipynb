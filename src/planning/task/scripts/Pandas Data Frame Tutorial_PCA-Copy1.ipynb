{
 "cells": [
  {
   "cell_type": "code",
   "execution_count": 51,
   "id": "7b5af462",
   "metadata": {},
   "outputs": [],
   "source": [
    "def points_to_PCA(points):\n",
    "    df=pd.DataFrame(points)\n",
    "    df.columns=[['x','y','z']]\n",
    "    threshold= df_pts['z'].min().values[0]*0.998\n",
    "    print (threshold)\n",
    "    rslt_df = df.loc[df[df['z'] > threshold].index]\n",
    "    points=rslt_df[['x','y','z']].dropna().values\n",
    "    Pca=PCA(n_components=3)\n",
    "    Pca.fit(points)\n",
    "    print('Pca.explained_variance_',Pca.explained_variance_)\n",
    "    ## HOMOGENEUS\n",
    "    E_R= np.zeros((4,4))\n",
    "    E_R[:3,:3]+=R\n",
    "    E_R[-1,-1]=1\n",
    "    return     E_R\n"
   ]
  },
  {
   "cell_type": "code",
   "execution_count": 41,
   "id": "e97ec541",
   "metadata": {},
   "outputs": [],
   "source": [
    "def points_to_PCA(points):\n",
    "    df=pd.DataFrame(points)\n",
    "    df.columns=[['x','y','z']]\n",
    "    threshold= df_pts['z'].min().values[0]*0.998\n",
    "    print (threshold)\n",
    "    rslt_df = df.loc[df[df['z'] > threshold].index]\n",
    "\n",
    "    \n",
    "    points=rslt_df[['x','y','z']].dropna().values\n",
    "    Pca=PCA(n_components=3)\n",
    "    Pca.fit(points)\n",
    "    #print('Pca.explained_variance_',Pca.explained_variance_)\n",
    "    ref=np.eye(3)\n",
    "    pcas=Pca.components_\n",
    "    R=[]\n",
    "    R.append(np.dot(pcas[0],ref))\n",
    "    R.append(np.dot(pcas[1],ref))\n",
    "    R.append(np.dot(pcas[2],ref))\n",
    "    R=np.asarray(R)\n",
    "    ## HOMOGENEUS\n",
    "    E_R= np.zeros((4,4))\n",
    "    E_R[:3,:3]+=R\n",
    "    E_R[-1,-1]=1\n",
    "    return     E_R\n"
   ]
  },
  {
   "cell_type": "code",
   "execution_count": 52,
   "id": "aae4aa59",
   "metadata": {},
   "outputs": [],
   "source": [
    "import matplotlib.pyplot as plt\n",
    "import numpy as np\n",
    "from mpl_toolkits.mplot3d import Axes3D\n",
    "import seaborn as sns\n",
    "import pandas as pd\n",
    "from sklearn.decomposition import PCA\n",
    "import tf"
   ]
  },
  {
   "cell_type": "code",
   "execution_count": 53,
   "id": "1312cf73",
   "metadata": {},
   "outputs": [
    {
     "name": "stdout",
     "output_type": "stream",
     "text": [
      "-0.8176450374126434\n",
      "         x            y            z\n",
      "count  0.0  4504.000000  4501.000000\n",
      "mean   NaN     0.204665    -0.295690\n",
      "std    NaN     0.090121     0.079579\n",
      "min    NaN     0.101890    -0.807760\n",
      "25%    NaN     0.150711    -0.339426\n",
      "50%    NaN     0.196851    -0.289332\n",
      "75%    NaN     0.241784    -0.239937\n",
      "max    NaN     0.893897    -0.190164\n",
      "-0.8176450374126434\n"
     ]
    },
    {
     "ename": "ValueError",
     "evalue": "Found array with 0 sample(s) (shape=(0, 3)) while a minimum of 1 is required.",
     "output_type": "error",
     "traceback": [
      "\u001b[0;31m---------------------------------------------------------------------------\u001b[0m",
      "\u001b[0;31mValueError\u001b[0m                                Traceback (most recent call last)",
      "Cell \u001b[0;32mIn[53], line 9\u001b[0m\n\u001b[1;32m      7\u001b[0m \u001b[38;5;28mprint\u001b[39m (rslt_df_pts\u001b[38;5;241m.\u001b[39mdescribe())\n\u001b[1;32m      8\u001b[0m newpoints\u001b[38;5;241m=\u001b[39mrslt_df_pts[[\u001b[38;5;124m'\u001b[39m\u001b[38;5;124mx\u001b[39m\u001b[38;5;124m'\u001b[39m,\u001b[38;5;124m'\u001b[39m\u001b[38;5;124my\u001b[39m\u001b[38;5;124m'\u001b[39m,\u001b[38;5;124m'\u001b[39m\u001b[38;5;124mz\u001b[39m\u001b[38;5;124m'\u001b[39m]]\u001b[38;5;241m.\u001b[39mvalues\n\u001b[0;32m----> 9\u001b[0m E_R\u001b[38;5;241m=\u001b[39m\u001b[43mpoints_to_PCA\u001b[49m\u001b[43m(\u001b[49m\u001b[43mnewpoints\u001b[49m\u001b[43m)\u001b[49m\n\u001b[1;32m     10\u001b[0m \u001b[38;5;28mprint\u001b[39m(np\u001b[38;5;241m.\u001b[39mrad2deg(tf\u001b[38;5;241m.\u001b[39mtransformations\u001b[38;5;241m.\u001b[39meuler_from_matrix(E_R)))\n\u001b[1;32m     11\u001b[0m \u001b[38;5;28mprint\u001b[39m(np\u001b[38;5;241m.\u001b[39msign(np\u001b[38;5;241m.\u001b[39mrad2deg(tf\u001b[38;5;241m.\u001b[39mtransformations\u001b[38;5;241m.\u001b[39meuler_from_matrix(E_R))[\u001b[38;5;241m0\u001b[39m])\u001b[38;5;241m*\u001b[39mnp\u001b[38;5;241m.\u001b[39mrad2deg(tf\u001b[38;5;241m.\u001b[39mtransformations\u001b[38;5;241m.\u001b[39meuler_from_matrix(E_R))[\u001b[38;5;241m1\u001b[39m])\n",
      "Cell \u001b[0;32mIn[51], line 9\u001b[0m, in \u001b[0;36mpoints_to_PCA\u001b[0;34m(points)\u001b[0m\n\u001b[1;32m      7\u001b[0m points\u001b[38;5;241m=\u001b[39mrslt_df[[\u001b[38;5;124m'\u001b[39m\u001b[38;5;124mx\u001b[39m\u001b[38;5;124m'\u001b[39m,\u001b[38;5;124m'\u001b[39m\u001b[38;5;124my\u001b[39m\u001b[38;5;124m'\u001b[39m,\u001b[38;5;124m'\u001b[39m\u001b[38;5;124mz\u001b[39m\u001b[38;5;124m'\u001b[39m]]\u001b[38;5;241m.\u001b[39mdropna()\u001b[38;5;241m.\u001b[39mvalues\n\u001b[1;32m      8\u001b[0m Pca\u001b[38;5;241m=\u001b[39mPCA(n_components\u001b[38;5;241m=\u001b[39m\u001b[38;5;241m3\u001b[39m)\n\u001b[0;32m----> 9\u001b[0m \u001b[43mPca\u001b[49m\u001b[38;5;241;43m.\u001b[39;49m\u001b[43mfit\u001b[49m\u001b[43m(\u001b[49m\u001b[43mpoints\u001b[49m\u001b[43m)\u001b[49m\n\u001b[1;32m     10\u001b[0m \u001b[38;5;28mprint\u001b[39m(\u001b[38;5;124m'\u001b[39m\u001b[38;5;124mPca.explained_variance_\u001b[39m\u001b[38;5;124m'\u001b[39m,Pca\u001b[38;5;241m.\u001b[39mexplained_variance_)\n\u001b[1;32m     11\u001b[0m \u001b[38;5;66;03m## HOMOGENEUS\u001b[39;00m\n",
      "File \u001b[0;32m/usr/lib/python3/dist-packages/sklearn/decomposition/_pca.py:344\u001b[0m, in \u001b[0;36mPCA.fit\u001b[0;34m(self, X, y)\u001b[0m\n\u001b[1;32m    327\u001b[0m \u001b[38;5;28;01mdef\u001b[39;00m \u001b[38;5;21mfit\u001b[39m(\u001b[38;5;28mself\u001b[39m, X, y\u001b[38;5;241m=\u001b[39m\u001b[38;5;28;01mNone\u001b[39;00m):\n\u001b[1;32m    328\u001b[0m \u001b[38;5;250m    \u001b[39m\u001b[38;5;124;03m\"\"\"Fit the model with X.\u001b[39;00m\n\u001b[1;32m    329\u001b[0m \n\u001b[1;32m    330\u001b[0m \u001b[38;5;124;03m    Parameters\u001b[39;00m\n\u001b[0;32m   (...)\u001b[0m\n\u001b[1;32m    342\u001b[0m \u001b[38;5;124;03m        Returns the instance itself.\u001b[39;00m\n\u001b[1;32m    343\u001b[0m \u001b[38;5;124;03m    \"\"\"\u001b[39;00m\n\u001b[0;32m--> 344\u001b[0m     \u001b[38;5;28;43mself\u001b[39;49m\u001b[38;5;241;43m.\u001b[39;49m\u001b[43m_fit\u001b[49m\u001b[43m(\u001b[49m\u001b[43mX\u001b[49m\u001b[43m)\u001b[49m\n\u001b[1;32m    345\u001b[0m     \u001b[38;5;28;01mreturn\u001b[39;00m \u001b[38;5;28mself\u001b[39m\n",
      "File \u001b[0;32m/usr/lib/python3/dist-packages/sklearn/decomposition/_pca.py:390\u001b[0m, in \u001b[0;36mPCA._fit\u001b[0;34m(self, X)\u001b[0m\n\u001b[1;32m    386\u001b[0m \u001b[38;5;28;01mif\u001b[39;00m issparse(X):\n\u001b[1;32m    387\u001b[0m     \u001b[38;5;28;01mraise\u001b[39;00m \u001b[38;5;167;01mTypeError\u001b[39;00m(\u001b[38;5;124m'\u001b[39m\u001b[38;5;124mPCA does not support sparse input. See \u001b[39m\u001b[38;5;124m'\u001b[39m\n\u001b[1;32m    388\u001b[0m                     \u001b[38;5;124m'\u001b[39m\u001b[38;5;124mTruncatedSVD for a possible alternative.\u001b[39m\u001b[38;5;124m'\u001b[39m)\n\u001b[0;32m--> 390\u001b[0m X \u001b[38;5;241m=\u001b[39m \u001b[43mcheck_array\u001b[49m\u001b[43m(\u001b[49m\u001b[43mX\u001b[49m\u001b[43m,\u001b[49m\u001b[43m \u001b[49m\u001b[43mdtype\u001b[49m\u001b[38;5;241;43m=\u001b[39;49m\u001b[43m[\u001b[49m\u001b[43mnp\u001b[49m\u001b[38;5;241;43m.\u001b[39;49m\u001b[43mfloat64\u001b[49m\u001b[43m,\u001b[49m\u001b[43m \u001b[49m\u001b[43mnp\u001b[49m\u001b[38;5;241;43m.\u001b[39;49m\u001b[43mfloat32\u001b[49m\u001b[43m]\u001b[49m\u001b[43m,\u001b[49m\u001b[43m \u001b[49m\u001b[43mensure_2d\u001b[49m\u001b[38;5;241;43m=\u001b[39;49m\u001b[38;5;28;43;01mTrue\u001b[39;49;00m\u001b[43m,\u001b[49m\n\u001b[1;32m    391\u001b[0m \u001b[43m                \u001b[49m\u001b[43mcopy\u001b[49m\u001b[38;5;241;43m=\u001b[39;49m\u001b[38;5;28;43mself\u001b[39;49m\u001b[38;5;241;43m.\u001b[39;49m\u001b[43mcopy\u001b[49m\u001b[43m)\u001b[49m\n\u001b[1;32m    393\u001b[0m \u001b[38;5;66;03m# Handle n_components==None\u001b[39;00m\n\u001b[1;32m    394\u001b[0m \u001b[38;5;28;01mif\u001b[39;00m \u001b[38;5;28mself\u001b[39m\u001b[38;5;241m.\u001b[39mn_components \u001b[38;5;129;01mis\u001b[39;00m \u001b[38;5;28;01mNone\u001b[39;00m:\n",
      "File \u001b[0;32m/usr/lib/python3/dist-packages/sklearn/utils/validation.py:583\u001b[0m, in \u001b[0;36mcheck_array\u001b[0;34m(array, accept_sparse, accept_large_sparse, dtype, order, copy, force_all_finite, ensure_2d, allow_nd, ensure_min_samples, ensure_min_features, warn_on_dtype, estimator)\u001b[0m\n\u001b[1;32m    581\u001b[0m     n_samples \u001b[38;5;241m=\u001b[39m _num_samples(array)\n\u001b[1;32m    582\u001b[0m     \u001b[38;5;28;01mif\u001b[39;00m n_samples \u001b[38;5;241m<\u001b[39m ensure_min_samples:\n\u001b[0;32m--> 583\u001b[0m         \u001b[38;5;28;01mraise\u001b[39;00m \u001b[38;5;167;01mValueError\u001b[39;00m(\u001b[38;5;124m\"\u001b[39m\u001b[38;5;124mFound array with \u001b[39m\u001b[38;5;132;01m%d\u001b[39;00m\u001b[38;5;124m sample(s) (shape=\u001b[39m\u001b[38;5;132;01m%s\u001b[39;00m\u001b[38;5;124m) while a\u001b[39m\u001b[38;5;124m\"\u001b[39m\n\u001b[1;32m    584\u001b[0m                          \u001b[38;5;124m\"\u001b[39m\u001b[38;5;124m minimum of \u001b[39m\u001b[38;5;132;01m%d\u001b[39;00m\u001b[38;5;124m is required\u001b[39m\u001b[38;5;132;01m%s\u001b[39;00m\u001b[38;5;124m.\u001b[39m\u001b[38;5;124m\"\u001b[39m\n\u001b[1;32m    585\u001b[0m                          \u001b[38;5;241m%\u001b[39m (n_samples, array\u001b[38;5;241m.\u001b[39mshape, ensure_min_samples,\n\u001b[1;32m    586\u001b[0m                             context))\n\u001b[1;32m    588\u001b[0m \u001b[38;5;28;01mif\u001b[39;00m ensure_min_features \u001b[38;5;241m>\u001b[39m \u001b[38;5;241m0\u001b[39m \u001b[38;5;129;01mand\u001b[39;00m array\u001b[38;5;241m.\u001b[39mndim \u001b[38;5;241m==\u001b[39m \u001b[38;5;241m2\u001b[39m:\n\u001b[1;32m    589\u001b[0m     n_features \u001b[38;5;241m=\u001b[39m array\u001b[38;5;241m.\u001b[39mshape[\u001b[38;5;241m1\u001b[39m]\n",
      "\u001b[0;31mValueError\u001b[0m: Found array with 0 sample(s) (shape=(0, 3)) while a minimum of 1 is required."
     ]
    }
   ],
   "source": [
    "points=np.load('/home/roboworks/Documents/points.npy')\n",
    "df_pts=pd.DataFrame(points)\n",
    "df_pts.columns=[['x','y','z']]\n",
    "threshold= df_pts['z'].min().values[0]*0.998\n",
    "print (threshold)\n",
    "rslt_df_pts = df_pts[['x','y','z']][df_pts[['x','y','z']] > threshold]\n",
    "print (rslt_df_pts.describe())\n",
    "newpoints=rslt_df_pts[['x','y','z']].values\n",
    "E_R=points_to_PCA(newpoints)\n",
    "print(np.rad2deg(tf.transformations.euler_from_matrix(E_R)))\n",
    "print(np.sign(np.rad2deg(tf.transformations.euler_from_matrix(E_R))[0])*np.rad2deg(tf.transformations.euler_from_matrix(E_R))[1])"
   ]
  },
  {
   "cell_type": "code",
   "execution_count": 55,
   "id": "766fb9d2",
   "metadata": {},
   "outputs": [
    {
     "name": "stdout",
     "output_type": "stream",
     "text": [
      "-0.8176450374126434\n",
      "Pca.explained_variance_ [0.3526262  0.00359363 0.00316018]\n"
     ]
    },
    {
     "ename": "NameError",
     "evalue": "name 'R' is not defined",
     "output_type": "error",
     "traceback": [
      "\u001b[0;31m---------------------------------------------------------------------------\u001b[0m",
      "\u001b[0;31mNameError\u001b[0m                                 Traceback (most recent call last)",
      "Cell \u001b[0;32mIn[55], line 2\u001b[0m\n\u001b[1;32m      1\u001b[0m points\u001b[38;5;241m=\u001b[39mnp\u001b[38;5;241m.\u001b[39mload(\u001b[38;5;124m'\u001b[39m\u001b[38;5;124m/home/roboworks/Documents/points.npy\u001b[39m\u001b[38;5;124m'\u001b[39m)\n\u001b[0;32m----> 2\u001b[0m \u001b[43mpoints_to_PCA\u001b[49m\u001b[43m(\u001b[49m\u001b[43mpoints\u001b[49m\u001b[43m)\u001b[49m\n",
      "Cell \u001b[0;32mIn[51], line 13\u001b[0m, in \u001b[0;36mpoints_to_PCA\u001b[0;34m(points)\u001b[0m\n\u001b[1;32m     11\u001b[0m \u001b[38;5;66;03m## HOMOGENEUS\u001b[39;00m\n\u001b[1;32m     12\u001b[0m E_R\u001b[38;5;241m=\u001b[39m np\u001b[38;5;241m.\u001b[39mzeros((\u001b[38;5;241m4\u001b[39m,\u001b[38;5;241m4\u001b[39m))\n\u001b[0;32m---> 13\u001b[0m E_R[:\u001b[38;5;241m3\u001b[39m,:\u001b[38;5;241m3\u001b[39m]\u001b[38;5;241m+\u001b[39m\u001b[38;5;241m=\u001b[39m\u001b[43mR\u001b[49m\n\u001b[1;32m     14\u001b[0m E_R[\u001b[38;5;241m-\u001b[39m\u001b[38;5;241m1\u001b[39m,\u001b[38;5;241m-\u001b[39m\u001b[38;5;241m1\u001b[39m]\u001b[38;5;241m=\u001b[39m\u001b[38;5;241m1\u001b[39m\n\u001b[1;32m     15\u001b[0m \u001b[38;5;28;01mreturn\u001b[39;00m     E_R\n",
      "\u001b[0;31mNameError\u001b[0m: name 'R' is not defined"
     ]
    }
   ],
   "source": [
    "points=np.load('/home/roboworks/Documents/points.npy')\n",
    "points_to_PCA(points)"
   ]
  },
  {
   "cell_type": "code",
   "execution_count": 49,
   "id": "6f2b02ab",
   "metadata": {},
   "outputs": [
    {
     "data": {
      "text/plain": [
       "array([[-3.9290233 ,  0.24618034, -0.4549061 ],\n",
       "       [-3.9289348 ,  0.25333342, -0.4549061 ],\n",
       "       [-3.9288464 ,  0.26048648, -0.4549061 ],\n",
       "       ...,\n",
       "       [-1.5430702 ,  0.27700236, -0.37683213],\n",
       "       [-1.5430338 ,  0.27994555, -0.37683213],\n",
       "       [-1.5517868 ,  0.28450012, -0.37897867]], dtype=float32)"
      ]
     },
     "execution_count": 49,
     "metadata": {},
     "output_type": "execute_result"
    }
   ],
   "source": [
    "rslt_df_pts = df_pts.loc[df_pts[df_pts['z'] > threshold].index]\n",
    "\n",
    "points=rslt_df_pts[['x','y','z']].dropna().values   \n",
    "points"
   ]
  },
  {
   "cell_type": "code",
   "execution_count": 50,
   "id": "fea27332",
   "metadata": {},
   "outputs": [
    {
     "name": "stdout",
     "output_type": "stream",
     "text": [
      "-0.8176450374126434\n"
     ]
    },
    {
     "data": {
      "text/plain": [
       "array([[-0.98865271,  0.11402415, -0.09779868,  0.        ],\n",
       "       [ 0.12707962,  0.98200059, -0.13973355,  0.        ],\n",
       "       [ 0.08010537, -0.1505762 , -0.98534757,  0.        ],\n",
       "       [ 0.        ,  0.        ,  0.        ,  1.        ]])"
      ]
     },
     "execution_count": 50,
     "metadata": {},
     "output_type": "execute_result"
    }
   ],
   "source": [
    "points_to_PCA(points)"
   ]
  },
  {
   "cell_type": "code",
   "execution_count": 45,
   "id": "f2abdc22",
   "metadata": {},
   "outputs": [
    {
     "data": {
      "text/html": [
       "<div>\n",
       "<style scoped>\n",
       "    .dataframe tbody tr th:only-of-type {\n",
       "        vertical-align: middle;\n",
       "    }\n",
       "\n",
       "    .dataframe tbody tr th {\n",
       "        vertical-align: top;\n",
       "    }\n",
       "\n",
       "    .dataframe thead tr th {\n",
       "        text-align: left;\n",
       "    }\n",
       "</style>\n",
       "<table border=\"1\" class=\"dataframe\">\n",
       "  <thead>\n",
       "    <tr>\n",
       "      <th></th>\n",
       "      <th>x</th>\n",
       "      <th>y</th>\n",
       "      <th>z</th>\n",
       "    </tr>\n",
       "  </thead>\n",
       "  <tbody>\n",
       "    <tr>\n",
       "      <th>0</th>\n",
       "      <td>-3.929023</td>\n",
       "      <td>0.246180</td>\n",
       "      <td>-0.454906</td>\n",
       "    </tr>\n",
       "    <tr>\n",
       "      <th>1</th>\n",
       "      <td>-3.928935</td>\n",
       "      <td>0.253333</td>\n",
       "      <td>-0.454906</td>\n",
       "    </tr>\n",
       "    <tr>\n",
       "      <th>2</th>\n",
       "      <td>-3.928846</td>\n",
       "      <td>0.260486</td>\n",
       "      <td>-0.454906</td>\n",
       "    </tr>\n",
       "    <tr>\n",
       "      <th>3</th>\n",
       "      <td>-3.940012</td>\n",
       "      <td>0.268406</td>\n",
       "      <td>-0.456209</td>\n",
       "    </tr>\n",
       "    <tr>\n",
       "      <th>4</th>\n",
       "      <td>-3.939924</td>\n",
       "      <td>0.275580</td>\n",
       "      <td>-0.456209</td>\n",
       "    </tr>\n",
       "    <tr>\n",
       "      <th>...</th>\n",
       "      <td>...</td>\n",
       "      <td>...</td>\n",
       "      <td>...</td>\n",
       "    </tr>\n",
       "    <tr>\n",
       "      <th>4499</th>\n",
       "      <td>-1.543143</td>\n",
       "      <td>0.271116</td>\n",
       "      <td>-0.376832</td>\n",
       "    </tr>\n",
       "    <tr>\n",
       "      <th>4500</th>\n",
       "      <td>-1.549943</td>\n",
       "      <td>0.275273</td>\n",
       "      <td>-0.378502</td>\n",
       "    </tr>\n",
       "    <tr>\n",
       "      <th>4501</th>\n",
       "      <td>-1.543070</td>\n",
       "      <td>0.277002</td>\n",
       "      <td>-0.376832</td>\n",
       "    </tr>\n",
       "    <tr>\n",
       "      <th>4502</th>\n",
       "      <td>-1.543034</td>\n",
       "      <td>0.279946</td>\n",
       "      <td>-0.376832</td>\n",
       "    </tr>\n",
       "    <tr>\n",
       "      <th>4503</th>\n",
       "      <td>-1.551787</td>\n",
       "      <td>0.284500</td>\n",
       "      <td>-0.378979</td>\n",
       "    </tr>\n",
       "  </tbody>\n",
       "</table>\n",
       "<p>4504 rows × 3 columns</p>\n",
       "</div>"
      ],
      "text/plain": [
       "             x         y         z\n",
       "0    -3.929023  0.246180 -0.454906\n",
       "1    -3.928935  0.253333 -0.454906\n",
       "2    -3.928846  0.260486 -0.454906\n",
       "3    -3.940012  0.268406 -0.456209\n",
       "4    -3.939924  0.275580 -0.456209\n",
       "...        ...       ...       ...\n",
       "4499 -1.543143  0.271116 -0.376832\n",
       "4500 -1.549943  0.275273 -0.378502\n",
       "4501 -1.543070  0.277002 -0.376832\n",
       "4502 -1.543034  0.279946 -0.376832\n",
       "4503 -1.551787  0.284500 -0.378979\n",
       "\n",
       "[4504 rows x 3 columns]"
      ]
     },
     "execution_count": 45,
     "metadata": {},
     "output_type": "execute_result"
    }
   ],
   "source": [
    "df_pts"
   ]
  },
  {
   "cell_type": "code",
   "execution_count": 24,
   "id": "fe8040dc",
   "metadata": {},
   "outputs": [
    {
     "data": {
      "text/html": [
       "<div>\n",
       "<style scoped>\n",
       "    .dataframe tbody tr th:only-of-type {\n",
       "        vertical-align: middle;\n",
       "    }\n",
       "\n",
       "    .dataframe tbody tr th {\n",
       "        vertical-align: top;\n",
       "    }\n",
       "\n",
       "    .dataframe thead tr th {\n",
       "        text-align: left;\n",
       "    }\n",
       "</style>\n",
       "<table border=\"1\" class=\"dataframe\">\n",
       "  <thead>\n",
       "    <tr>\n",
       "      <th></th>\n",
       "      <th>x</th>\n",
       "      <th>y</th>\n",
       "      <th>z</th>\n",
       "    </tr>\n",
       "  </thead>\n",
       "  <tbody>\n",
       "    <tr>\n",
       "      <th>0</th>\n",
       "      <td>NaN</td>\n",
       "      <td>NaN</td>\n",
       "      <td>-1.044415</td>\n",
       "    </tr>\n",
       "    <tr>\n",
       "      <th>1</th>\n",
       "      <td>NaN</td>\n",
       "      <td>NaN</td>\n",
       "      <td>-0.890275</td>\n",
       "    </tr>\n",
       "    <tr>\n",
       "      <th>2</th>\n",
       "      <td>NaN</td>\n",
       "      <td>NaN</td>\n",
       "      <td>-0.891583</td>\n",
       "    </tr>\n",
       "    <tr>\n",
       "      <th>3</th>\n",
       "      <td>NaN</td>\n",
       "      <td>NaN</td>\n",
       "      <td>-0.886725</td>\n",
       "    </tr>\n",
       "    <tr>\n",
       "      <th>4</th>\n",
       "      <td>NaN</td>\n",
       "      <td>NaN</td>\n",
       "      <td>-0.886164</td>\n",
       "    </tr>\n",
       "    <tr>\n",
       "      <th>...</th>\n",
       "      <td>...</td>\n",
       "      <td>...</td>\n",
       "      <td>...</td>\n",
       "    </tr>\n",
       "    <tr>\n",
       "      <th>6371</th>\n",
       "      <td>NaN</td>\n",
       "      <td>NaN</td>\n",
       "      <td>-0.568124</td>\n",
       "    </tr>\n",
       "    <tr>\n",
       "      <th>6372</th>\n",
       "      <td>NaN</td>\n",
       "      <td>NaN</td>\n",
       "      <td>-0.568754</td>\n",
       "    </tr>\n",
       "    <tr>\n",
       "      <th>6373</th>\n",
       "      <td>NaN</td>\n",
       "      <td>NaN</td>\n",
       "      <td>-0.568754</td>\n",
       "    </tr>\n",
       "    <tr>\n",
       "      <th>6374</th>\n",
       "      <td>NaN</td>\n",
       "      <td>NaN</td>\n",
       "      <td>-0.568754</td>\n",
       "    </tr>\n",
       "    <tr>\n",
       "      <th>6375</th>\n",
       "      <td>NaN</td>\n",
       "      <td>NaN</td>\n",
       "      <td>-0.568754</td>\n",
       "    </tr>\n",
       "  </tbody>\n",
       "</table>\n",
       "<p>6376 rows × 3 columns</p>\n",
       "</div>"
      ],
      "text/plain": [
       "       x   y         z\n",
       "0    NaN NaN -1.044415\n",
       "1    NaN NaN -0.890275\n",
       "2    NaN NaN -0.891583\n",
       "3    NaN NaN -0.886725\n",
       "4    NaN NaN -0.886164\n",
       "...   ..  ..       ...\n",
       "6371 NaN NaN -0.568124\n",
       "6372 NaN NaN -0.568754\n",
       "6373 NaN NaN -0.568754\n",
       "6374 NaN NaN -0.568754\n",
       "6375 NaN NaN -0.568754\n",
       "\n",
       "[6376 rows x 3 columns]"
      ]
     },
     "execution_count": 24,
     "metadata": {},
     "output_type": "execute_result"
    }
   ],
   "source": [
    "rslt_df_pts"
   ]
  },
  {
   "cell_type": "markdown",
   "id": "d964493a",
   "metadata": {},
   "source": [
    "-98.63997914 -40.27221135 107.26441686<br>\n",
    "[ 97.6089583  -39.13610332 119.11722414]<br><br><br><br><br><br><br><br><br>"
   ]
  },
  {
   "cell_type": "code",
   "execution_count": 58,
   "id": "000e97c1",
   "metadata": {},
   "outputs": [
    {
     "data": {
      "text/plain": [
       "(1.76320783147644, -0.8997299069579695, 1.9090676341633042)"
      ]
     },
     "execution_count": 58,
     "metadata": {},
     "output_type": "execute_result"
    }
   ],
   "source": [
    "tf.transformations.euler_from_quaternion((0.62734299, 0.40730226, 0.66127357, 0.05712182))"
   ]
  },
  {
   "cell_type": "code",
   "execution_count": 55,
   "id": "e6119e0d",
   "metadata": {},
   "outputs": [
    {
     "name": "stdout",
     "output_type": "stream",
     "text": [
      "[0.62734299 0.40730226 0.66127357 0.05712182]\n"
     ]
    }
   ],
   "source": [
    "e_ER=tf.transformations.euler_from_matrix(E_R)\n",
    "q_ET=tf.transformations.quaternion_from_euler(e_ER[0],e_ER[1],e_ER[2])\n",
    "print (q_ET)"
   ]
  },
  {
   "cell_type": "code",
   "execution_count": 56,
   "id": "865d5f9d",
   "metadata": {},
   "outputs": [
    {
     "name": "stdout",
     "output_type": "stream",
     "text": [
      "(1.7632078343909006, -0.8997299052423405, 1.9090676189144598)\n",
      "[-0.07025736  0.15546858  0.68484499  0.18685679]\n"
     ]
    }
   ],
   "source": [
    "quat=tf.transformations.quaternion_from_matrix(E_R)\n",
    "print(tf.transformations.euler_from_matrix(E_R))\n",
    "print(quat)"
   ]
  },
  {
   "cell_type": "code",
   "execution_count": 15,
   "id": "d1cf34c4",
   "metadata": {},
   "outputs": [
    {
     "data": {
      "text/plain": [
       "(32844, 3)"
      ]
     },
     "execution_count": 15,
     "metadata": {},
     "output_type": "execute_result"
    }
   ],
   "source": [
    "points.shape"
   ]
  },
  {
   "cell_type": "code",
   "execution_count": 16,
   "id": "39262b5e",
   "metadata": {},
   "outputs": [
    {
     "data": {
      "text/plain": [
       "<mpl_toolkits.mplot3d.art3d.Path3DCollection at 0x7f9474390100>"
      ]
     },
     "execution_count": 16,
     "metadata": {},
     "output_type": "execute_result"
    },
    {
     "data": {
      "image/png": "[encoded data removed]",
      "text/plain": [
       "<Figure size 640x480 with 1 Axes>"
      ]
     },
     "metadata": {},
     "output_type": "display_data"
    }
   ],
   "source": [
    "\n",
    "fig = plt.figure()\n",
    "ax = fig.add_subplot(projection='3d')\n",
    "ax.scatter(points[:,0],points[:,1],points[:,2])"
   ]
  },
  {
   "cell_type": "code",
   "execution_count": 35,
   "id": "c7e0edd3",
   "metadata": {},
   "outputs": [
    {
     "data": {
      "text/plain": [
       "<mpl_toolkits.mplot3d.art3d.Path3DCollection at 0x7f9474815e80>"
      ]
     },
     "execution_count": 35,
     "metadata": {},
     "output_type": "execute_result"
    },
    {
     "data": {
      "image/png": "[encoded data removed]",
      "text/plain": [
       "<Figure size 640x480 with 1 Axes>"
      ]
     },
     "metadata": {},
     "output_type": "display_data"
    }
   ],
   "source": [
    "points=np.load('/home/roboworks/Documents/points.npy')\n",
    "\n",
    "fig = plt.figure()\n",
    "ax = fig.add_subplot(projection='3d')\n",
    "ax.scatter(points[:,0],points[:,1],points[:,2])"
   ]
  },
  {
   "cell_type": "code",
   "execution_count": 36,
   "id": "b87b2b25",
   "metadata": {},
   "outputs": [
    {
     "data": {
      "text/html": [
       "<div>\n",
       "<style scoped>\n",
       "    .dataframe tbody tr th:only-of-type {\n",
       "        vertical-align: middle;\n",
       "    }\n",
       "\n",
       "    .dataframe tbody tr th {\n",
       "        vertical-align: top;\n",
       "    }\n",
       "\n",
       "    .dataframe thead tr th {\n",
       "        text-align: left;\n",
       "    }\n",
       "</style>\n",
       "<table border=\"1\" class=\"dataframe\">\n",
       "  <thead>\n",
       "    <tr>\n",
       "      <th></th>\n",
       "      <th>x</th>\n",
       "      <th>y</th>\n",
       "      <th>z</th>\n",
       "    </tr>\n",
       "  </thead>\n",
       "  <tbody>\n",
       "    <tr>\n",
       "      <th>count</th>\n",
       "      <td>32844.000000</td>\n",
       "      <td>32844.000000</td>\n",
       "      <td>32844.000000</td>\n",
       "    </tr>\n",
       "    <tr>\n",
       "      <th>mean</th>\n",
       "      <td>0.512478</td>\n",
       "      <td>0.048385</td>\n",
       "      <td>-0.453960</td>\n",
       "    </tr>\n",
       "    <tr>\n",
       "      <th>std</th>\n",
       "      <td>0.124202</td>\n",
       "      <td>0.061713</td>\n",
       "      <td>0.084102</td>\n",
       "    </tr>\n",
       "    <tr>\n",
       "      <th>min</th>\n",
       "      <td>0.421437</td>\n",
       "      <td>-0.080955</td>\n",
       "      <td>-0.554469</td>\n",
       "    </tr>\n",
       "    <tr>\n",
       "      <th>25%</th>\n",
       "      <td>0.444932</td>\n",
       "      <td>-0.001408</td>\n",
       "      <td>-0.554431</td>\n",
       "    </tr>\n",
       "    <tr>\n",
       "      <th>50%</th>\n",
       "      <td>0.468248</td>\n",
       "      <td>0.044933</td>\n",
       "      <td>-0.453286</td>\n",
       "    </tr>\n",
       "    <tr>\n",
       "      <th>75%</th>\n",
       "      <td>0.500826</td>\n",
       "      <td>0.092983</td>\n",
       "      <td>-0.365755</td>\n",
       "    </tr>\n",
       "    <tr>\n",
       "      <th>max</th>\n",
       "      <td>0.905239</td>\n",
       "      <td>0.209750</td>\n",
       "      <td>-0.341045</td>\n",
       "    </tr>\n",
       "  </tbody>\n",
       "</table>\n",
       "</div>"
      ],
      "text/plain": [
       "                  x             y             z\n",
       "count  32844.000000  32844.000000  32844.000000\n",
       "mean       0.512478      0.048385     -0.453960\n",
       "std        0.124202      0.061713      0.084102\n",
       "min        0.421437     -0.080955     -0.554469\n",
       "25%        0.444932     -0.001408     -0.554431\n",
       "50%        0.468248      0.044933     -0.453286\n",
       "75%        0.500826      0.092983     -0.365755\n",
       "max        0.905239      0.209750     -0.341045"
      ]
     },
     "execution_count": 36,
     "metadata": {},
     "output_type": "execute_result"
    }
   ],
   "source": [
    "import seaborn as sns\n",
    "import pandas as pd\n",
    "df=pd.DataFrame(points)\n",
    "df.columns=[['x','y','z']]\n",
    "df.describe()"
   ]
  },
  {
   "cell_type": "code",
   "execution_count": 31,
   "id": "111cd987",
   "metadata": {},
   "outputs": [
    {
     "data": {
      "text/plain": [
       "-0.5533600513935089"
      ]
     },
     "execution_count": 31,
     "metadata": {},
     "output_type": "execute_result"
    }
   ],
   "source": [
    "threshold= df['z'].min().values[0]*0.998\n",
    "threshold"
   ]
  },
  {
   "cell_type": "code",
   "execution_count": 37,
   "id": "24e157db",
   "metadata": {},
   "outputs": [],
   "source": [
    "threshold= df['z'].min().values[0]*0.998\n",
    " # ( remove some ground)\n",
    "#threshsold=-0.978\n",
    "rslt_df = df[['x','y','z']][df[['x','y','z']] > threshold]"
   ]
  },
  {
   "cell_type": "code",
   "execution_count": 38,
   "id": "2523103f",
   "metadata": {},
   "outputs": [
    {
     "data": {
      "text/html": [
       "<div>\n",
       "<style scoped>\n",
       "    .dataframe tbody tr th:only-of-type {\n",
       "        vertical-align: middle;\n",
       "    }\n",
       "\n",
       "    .dataframe tbody tr th {\n",
       "        vertical-align: top;\n",
       "    }\n",
       "\n",
       "    .dataframe thead tr th {\n",
       "        text-align: left;\n",
       "    }\n",
       "</style>\n",
       "<table border=\"1\" class=\"dataframe\">\n",
       "  <thead>\n",
       "    <tr>\n",
       "      <th></th>\n",
       "      <th>x</th>\n",
       "      <th>y</th>\n",
       "      <th>z</th>\n",
       "    </tr>\n",
       "  </thead>\n",
       "  <tbody>\n",
       "    <tr>\n",
       "      <th>count</th>\n",
       "      <td>32844.000000</td>\n",
       "      <td>32844.000000</td>\n",
       "      <td>29581.000000</td>\n",
       "    </tr>\n",
       "    <tr>\n",
       "      <th>mean</th>\n",
       "      <td>0.512478</td>\n",
       "      <td>0.048385</td>\n",
       "      <td>-0.442874</td>\n",
       "    </tr>\n",
       "    <tr>\n",
       "      <th>std</th>\n",
       "      <td>0.124202</td>\n",
       "      <td>0.061713</td>\n",
       "      <td>0.081340</td>\n",
       "    </tr>\n",
       "    <tr>\n",
       "      <th>min</th>\n",
       "      <td>0.421437</td>\n",
       "      <td>-0.080955</td>\n",
       "      <td>-0.554458</td>\n",
       "    </tr>\n",
       "    <tr>\n",
       "      <th>25%</th>\n",
       "      <td>0.444932</td>\n",
       "      <td>-0.001408</td>\n",
       "      <td>-0.528947</td>\n",
       "    </tr>\n",
       "    <tr>\n",
       "      <th>50%</th>\n",
       "      <td>0.468248</td>\n",
       "      <td>0.044933</td>\n",
       "      <td>-0.435664</td>\n",
       "    </tr>\n",
       "    <tr>\n",
       "      <th>75%</th>\n",
       "      <td>0.500826</td>\n",
       "      <td>0.092983</td>\n",
       "      <td>-0.358146</td>\n",
       "    </tr>\n",
       "    <tr>\n",
       "      <th>max</th>\n",
       "      <td>0.905239</td>\n",
       "      <td>0.209750</td>\n",
       "      <td>-0.341045</td>\n",
       "    </tr>\n",
       "  </tbody>\n",
       "</table>\n",
       "</div>"
      ],
      "text/plain": [
       "                  x             y             z\n",
       "count  32844.000000  32844.000000  29581.000000\n",
       "mean       0.512478      0.048385     -0.442874\n",
       "std        0.124202      0.061713      0.081340\n",
       "min        0.421437     -0.080955     -0.554458\n",
       "25%        0.444932     -0.001408     -0.528947\n",
       "50%        0.468248      0.044933     -0.435664\n",
       "75%        0.500826      0.092983     -0.358146\n",
       "max        0.905239      0.209750     -0.341045"
      ]
     },
     "execution_count": 38,
     "metadata": {},
     "output_type": "execute_result"
    }
   ],
   "source": [
    "rslt_df.describe()"
   ]
  },
  {
   "cell_type": "code",
   "execution_count": 39,
   "id": "81f2c413",
   "metadata": {},
   "outputs": [
    {
     "data": {
      "text/plain": [
       "<mpl_toolkits.mplot3d.art3d.Path3DCollection at 0x7f947405fd00>"
      ]
     },
     "execution_count": 39,
     "metadata": {},
     "output_type": "execute_result"
    },
    {
     "data": {
      "image/png": "[encoded data removed]",
      "text/plain": [
       "<Figure size 640x480 with 1 Axes>"
      ]
     },
     "metadata": {},
     "output_type": "display_data"
    }
   ],
   "source": [
    "#points=rslt_df[['x','y','z']].sample(30).values\n",
    "points=rslt_df[['x','y','z']].values\n",
    "fig = plt.figure()\n",
    "ax = fig.add_subplot(projection='3d')\n",
    "ax.scatter(points[:,0],points[:,1],points[:,2])\n",
    "pt=rslt_df[['x','y','z']].mean().values\n",
    "ax.scatter(pt[0],pt[1],pt[2],'o')"
   ]
  },
  {
   "cell_type": "code",
   "execution_count": 10,
   "id": "557b1b94",
   "metadata": {},
   "outputs": [
    {
     "data": {
      "text/plain": [
       "array([[ 0.15188494, -0.27694651, -0.94880521,  0.        ],\n",
       "       [-0.72475928,  0.62149817, -0.29742855,  0.        ],\n",
       "       [ 0.67205286,  0.73283041, -0.10632335,  0.        ],\n",
       "       [ 0.        ,  0.        ,  0.        ,  1.        ]])"
      ]
     },
     "execution_count": 10,
     "metadata": {},
     "output_type": "execute_result"
    }
   ],
   "source": [
    "E_R=points_to_PCA(points)\n",
    "E_R"
   ]
  },
  {
   "cell_type": "code",
   "execution_count": null,
   "id": "5c2061d5",
   "metadata": {},
   "outputs": [],
   "source": []
  },
  {
   "cell_type": "markdown",
   "id": "5652ea59",
   "metadata": {},
   "source": [
    "[-92.55031776  -0.92126908 118.62054193]<br>\n",
    "[-98.61322822 -44.31230308 106.44802105]<br>\n",
    "[106.458072   -64.33138726 112.32396092]<br>\n",
    "\n"
   ]
  },
  {
   "cell_type": "code",
   "execution_count": 106,
   "id": "e39826ae",
   "metadata": {},
   "outputs": [
    {
     "name": "stdout",
     "output_type": "stream",
     "text": [
      "[ -7.60804157 -17.54308394   5.8741358 ]\n"
     ]
    }
   ],
   "source": [
    "\n",
    "print(np.rad2deg(tf.transformations.euler_from_matrix(E_R)))"
   ]
  },
  {
   "cell_type": "code",
   "execution_count": 107,
   "id": "61e5964b",
   "metadata": {},
   "outputs": [
    {
     "name": "stdout",
     "output_type": "stream",
     "text": [
      "[ -7.60804157 -17.54308394   5.8741358 ]\n"
     ]
    }
   ],
   "source": [
    "print(np.rad2deg(tf.transformations.euler_from_matrix(E_R)))"
   ]
  },
  {
   "cell_type": "code",
   "execution_count": null,
   "id": "6d15a294",
   "metadata": {},
   "outputs": [],
   "source": []
  },
  {
   "cell_type": "code",
   "execution_count": 11,
   "id": "c063d5b6",
   "metadata": {},
   "outputs": [
    {
     "name": "stdout",
     "output_type": "stream",
     "text": [
      "(1.714876862054434, -0.7369775182748745, -1.3642197851893056)\n"
     ]
    }
   ],
   "source": [
    "quat=tf.transformations.quaternion_from_matrix(E_R)\n",
    "print(tf.transformations.euler_from_matrix(E_R))"
   ]
  },
  {
   "cell_type": "code",
   "execution_count": 109,
   "id": "b96d1525",
   "metadata": {},
   "outputs": [],
   "source": [
    "points=rslt_df[['x','y','z']].dropna().values\n",
    "pt=rslt_df[['x','y','z']].mean().values\n"
   ]
  },
  {
   "cell_type": "code",
   "execution_count": 110,
   "id": "2bfff52e",
   "metadata": {},
   "outputs": [
    {
     "name": "stdout",
     "output_type": "stream",
     "text": [
      "[17.078924  9.206206  5.075701]\n",
      "[0.01610299 0.00467894 0.00142226]\n"
     ]
    },
    {
     "data": {
      "text/plain": [
       "array([0.72522336, 0.21072313, 0.06405351], dtype=float32)"
      ]
     },
     "execution_count": 110,
     "metadata": {},
     "output_type": "execute_result"
    }
   ],
   "source": [
    "from sklearn.decomposition import PCA\n",
    "Pca=PCA(n_components=3)\n",
    "Pca.fit(points)\n",
    "        \n",
    "\n",
    "print(Pca.singular_values_)\n",
    "print(Pca.explained_variance_)\n",
    "norm_expl=Pca.explained_variance_/Pca.explained_variance_.sum()\n",
    "norm_expl"
   ]
  },
  {
   "cell_type": "code",
   "execution_count": 111,
   "id": "1acfed0f",
   "metadata": {},
   "outputs": [
    {
     "data": {
      "text/plain": [
       "array([[ 0.9484839 ,  0.14114004, -0.2836508 ],\n",
       "       [ 0.09758356, -0.9819081 , -0.1622774 ],\n",
       "       [ 0.30142286, -0.12623787,  0.94509697]], dtype=float32)"
      ]
     },
     "execution_count": 111,
     "metadata": {},
     "output_type": "execute_result"
    }
   ],
   "source": [
    "Pca.components_"
   ]
  },
  {
   "cell_type": "code",
   "execution_count": 112,
   "id": "86f4f0f1",
   "metadata": {},
   "outputs": [
    {
     "data": {
      "text/plain": [
       "<mpl_toolkits.mplot3d.art3d.Path3DCollection at 0x7f78fba8a0a0>"
      ]
     },
     "execution_count": 112,
     "metadata": {},
     "output_type": "execute_result"
    },
    {
     "data": {
      "image/png": "[encoded data removed]",
      "text/plain": [
       "<Figure size 640x480 with 1 Axes>"
      ]
     },
     "metadata": {},
     "output_type": "display_data"
    }
   ],
   "source": [
    "#points=rslt_df[['x','y','z']].sample(300).values\n",
    "points=rslt_df[['x','y','z']].values\n",
    "fig = plt.figure()\n",
    "ax = fig.add_subplot(projection='3d')\n",
    "ax.scatter(points[:,0],points[:,1],points[:,2])\n",
    "pt=rslt_df[['x','y','z']].mean().values\n",
    "ax.scatter(pt[0],pt[1],pt[2],'o')\n"
   ]
  },
  {
   "cell_type": "code",
   "execution_count": 113,
   "id": "0d749b77",
   "metadata": {},
   "outputs": [
    {
     "data": {
      "text/plain": [
       "array([[ 0.9484839 ,  0.14114004, -0.2836508 ],\n",
       "       [ 0.09758356, -0.9819081 , -0.1622774 ],\n",
       "       [ 0.30142286, -0.12623787,  0.94509697]], dtype=float32)"
      ]
     },
     "execution_count": 113,
     "metadata": {},
     "output_type": "execute_result"
    }
   ],
   "source": [
    "Pca.components_\n"
   ]
  },
  {
   "cell_type": "code",
   "execution_count": 114,
   "id": "037e53c1",
   "metadata": {},
   "outputs": [
    {
     "data": {
      "text/plain": [
       "array([-0.30142283,  0.12623785, -0.94509697], dtype=float32)"
      ]
     },
     "execution_count": 114,
     "metadata": {},
     "output_type": "execute_result"
    }
   ],
   "source": [
    "np.cross(Pca.components_[0],Pca.components_[1])"
   ]
  },
  {
   "cell_type": "code",
   "execution_count": 115,
   "id": "483b228f",
   "metadata": {},
   "outputs": [],
   "source": [
    "pt=rslt_df[['x','y','z']].mean().values\n",
    "pts_1=[]\n",
    "pts_2=[]\n",
    "pts_3=[]\n",
    "p_1=[]\n",
    "p_2=[]\n",
    "p_3=[]\n",
    "\n",
    "pts_1.append(pt)\n",
    "pts_2.append(pt)\n",
    "pts_3.append(pt)\n",
    "for i in range (-5,5):\n",
    "    \n",
    "    pts_1.append(pt +Pca.components_[0]*i/30 )\n",
    "    p_1.append(pt + (np.eye(3)[0]*i/30) )\n",
    "    pts_2.append(pt +Pca.components_[1]*i/30 )\n",
    "    p_2.append(pt + (np.eye(3)[1]*i/30) )\n",
    "    pts_3.append(pt +Pca.components_[2]*i/30 )\n",
    "    p_3.append(pt + (np.eye(3)[2]*i/30) )\n",
    "\n",
    "pts_1=np.asarray(pts_1)  \n",
    "pts_2=np.asarray(pts_2)    \n",
    "pts_3=np.asarray(pts_3)    \n",
    "ps_x=np.asarray(p_1)  \n",
    "ps_y=np.asarray(p_2)  \n",
    "ps_z=np.asarray(p_3)  "
   ]
  },
  {
   "cell_type": "code",
   "execution_count": 116,
   "id": "74d747c4",
   "metadata": {},
   "outputs": [
    {
     "data": {
      "image/png": "[encoded data removed]",
      "text/plain": [
       "<Figure size 640x480 with 1 Axes>"
      ]
     },
     "metadata": {},
     "output_type": "display_data"
    }
   ],
   "source": [
    "fig = plt.figure()\n",
    "#points=np.load('/home/roboworks/Documents/points.npy')\n",
    "\n",
    "ax = fig.add_subplot(111, projection = '3d')\n",
    "ax.scatter(points[:,0],points[:,1],points[:,2],alpha=0.051,c='c')\n",
    "ax.scatter(pts_1[:,0],pts_1[:,1],pts_1[:,2],c='r')\n",
    "ax.scatter(pts_2[:,0],pts_2[:,1],pts_2[:,2],c='g')\n",
    "ax.scatter(pts_3[:,0],pts_3[:,1],pts_3[:,2],c='b')\n",
    "#ax.scatter(ps_x[:,0],ps_x[:,1],ps_x[:,2],alpha=0.25,c='r')\n",
    "#ax.scatter(ps_y[:,0],ps_y[:,1],ps_y[:,2],alpha=0.25,c='g')\n",
    "#ax.scatter(ps_z[:,0],ps_z[:,1],ps_z[:,2],alpha=0.25,c='b')\n",
    "\n",
    "#ax.scatter(pt[1],pt[0],pt[2],'o', c='y')\n",
    "plt.show()"
   ]
  },
  {
   "cell_type": "code",
   "execution_count": null,
   "id": "47035cca",
   "metadata": {},
   "outputs": [],
   "source": [
    "pts_3"
   ]
  },
  {
   "cell_type": "code",
   "execution_count": null,
   "id": "0b8bd8e0",
   "metadata": {},
   "outputs": [],
   "source": [
    "ref=np.eye(3)\n",
    "pcas=Pca.components_\n",
    "R=[]\n",
    "R.append(np.dot(pcas[0],ref))\n",
    "R.append(np.dot(pcas[1],ref))\n",
    "R.append(np.dot(pcas[2],ref))\n",
    "\n",
    "R=np.asarray(R)\n",
    "## HOMOGENEUS\n",
    "E_R= np.zeros((4,4))\n",
    "E_R[:3,:3]+=R\n",
    "E_R[-1,-1]=1\n",
    "E_R"
   ]
  },
  {
   "cell_type": "code",
   "execution_count": null,
   "id": "21e0d2f7",
   "metadata": {},
   "outputs": [],
   "source": [
    "x_rot=np.asarray(np.matmul(pts_1,R))\n",
    "y_rot=np.asarray(np.matmul(pts_2,R))\n",
    "z_rot=np.asarray(np.matmul(pts_3,R))\n",
    "fig = plt.figure()\n",
    "points=np.load('/home/roboworks/Documents/points.npy')\n",
    "\n",
    "ax = fig.add_subplot(111, projection = '3d')\n",
    "ax.scatter(points[:,0],points[:,1],points[:,2],alpha=0.1,c='c')\n",
    "ax.scatter(pts_1[:,0],pts_1[:,1],pts_1[:,2],c='r')\n",
    "ax.scatter(pts_2[:,0],pts_2[:,1],pts_2[:,2],c='g')\n",
    "ax.scatter(pts_3[:,0],pts_3[:,1],pts_3[:,2],c='b')\n",
    "ax.scatter(ps_x[:,0],ps_x[:,1],ps_x[:,2],alpha=0.15,c='r')\n",
    "ax.scatter(ps_y[:,0],ps_y[:,1],ps_y[:,2],alpha=0.15,c='g')\n",
    "ax.scatter(ps_z[:,0],ps_z[:,1],ps_z[:,2],alpha=0.15,c='b')\n",
    "ax.scatter(x_rot[:,0],x_rot[:,1],x_rot[:,2],alpha=0.5,c='r')\n",
    "ax.scatter(y_rot[:,0],y_rot[:,1],y_rot[:,2],alpha=0.5,c='g')\n",
    "ax.scatter(z_rot[:,0],z_rot[:,1],z_rot[:,2],alpha=0.5,c='b')\n",
    "#ax.scatter(pt[1],pt[0],pt[2],'o', c='y')\n",
    "\n",
    "plt.show()"
   ]
  },
  {
   "cell_type": "code",
   "execution_count": null,
   "id": "f1263f54",
   "metadata": {},
   "outputs": [],
   "source": []
  },
  {
   "cell_type": "code",
   "execution_count": null,
   "id": "446f9a8c",
   "metadata": {},
   "outputs": [],
   "source": []
  },
  {
   "cell_type": "code",
   "execution_count": null,
   "id": "d3176ab9",
   "metadata": {},
   "outputs": [],
   "source": [
    "##  Z=0  ( Proyeccion)\n",
    "fig = plt.figure()\n",
    "ax = fig.add_subplot(111)\n",
    "\n",
    "ax.scatter(pts_1[:,0],pts_1[:,1],alpha=1,c='r')\n",
    "ax.scatter(ps_x[:,0],ps_x[:,1],alpha=0.25,c='r')\n",
    "plt.xlim(0.7,1)\n",
    "plt.ylim(-0.75,0.25)\n",
    "plt.show()"
   ]
  },
  {
   "cell_type": "code",
   "execution_count": null,
   "id": "8b201b71",
   "metadata": {},
   "outputs": [],
   "source": [
    "np.arctan2((pts_1[1,1]-pts_1[0,1]),(pts_1[1,0]-pts_1[0,0]))"
   ]
  },
  {
   "cell_type": "code",
   "execution_count": null,
   "id": "74a2dbb1",
   "metadata": {},
   "outputs": [],
   "source": [
    "ang= -np.arctan2((pts_1[1,1]-pts_1[0,1]),(pts_1[1,0]-pts_1[0,0]))\n",
    "mat=np.mat((np.asarray((np.cos(ang) ,np.sin(ang),0,-1*np.sin(ang),np.cos(ang),0,0,0,1)).reshape((3,3))))"
   ]
  },
  {
   "cell_type": "code",
   "execution_count": null,
   "id": "b4e8e7f9",
   "metadata": {},
   "outputs": [],
   "source": [
    "x_rot=np.asarray(np.matmul(pts_1,R))\n",
    "y_rot=np.asarray(np.matmul(pts_2,R))\n",
    "z_rot=np.asarray(np.matmul(pts_3,R))\n"
   ]
  },
  {
   "cell_type": "code",
   "execution_count": null,
   "id": "162cb29a",
   "metadata": {},
   "outputs": [],
   "source": [
    "\n",
    "fig = plt.figure()\n",
    "ax = fig.add_subplot(111)\n",
    "\n",
    "ax.scatter(pts_1[:,0],pts_1[:,1],alpha=1,c='r')\n",
    "ax.scatter(xy_rot[:,0],xy_rot[:,1],alpha=0.25,c='y')\n",
    "ax.scatter(ps_x[:,0],ps_x[:,1],alpha=0.25,c='r')\n",
    "\n",
    "plt.show()"
   ]
  },
  {
   "cell_type": "code",
   "execution_count": null,
   "id": "83144192",
   "metadata": {},
   "outputs": [],
   "source": [
    "fig = plt.figure()\n",
    "points=np.load('/home/roboworks/Documents/points.npy')\n",
    "\n",
    "ax = fig.add_subplot(111, projection = '3d')\n",
    "ax.scatter(points[:,0],points[:,1],points[:,2],alpha=0.1,c='c')\n",
    "ax.scatter(pts_1[:,0],pts_1[:,1],pts_1[:,2],c='r')\n",
    "ax.scatter(pts_2[:,0],pts_2[:,1],pts_2[:,2],c='g')\n",
    "ax.scatter(pts_3[:,0],pts_3[:,1],pts_3[:,2],c='b')\n",
    "ax.scatter(ps_x[:,0],ps_x[:,1],ps_x[:,2],alpha=0.15,c='r')\n",
    "ax.scatter(ps_y[:,0],ps_y[:,1],ps_y[:,2],alpha=0.15,c='g')\n",
    "ax.scatter(ps_z[:,0],ps_z[:,1],ps_z[:,2],alpha=0.15,c='b')\n",
    "ax.scatter(x_rot[:,0],x_rot[:,1],x_rot[:,2],alpha=0.25,c='r')\n",
    "ax.scatter(y_rot[:,0],y_rot[:,1],y_rot[:,2],alpha=0.25,c='g')\n",
    "ax.scatter(z_rot[:,0],z_rot[:,1],z_rot[:,2],alpha=0.25,c='b')\n",
    "#ax.scatter(pt[1],pt[0],pt[2],'o', c='y')\n",
    "\n",
    "plt.show()"
   ]
  },
  {
   "cell_type": "code",
   "execution_count": null,
   "id": "2814a73c",
   "metadata": {},
   "outputs": [],
   "source": [
    "##y=0\n",
    "##  Z=0  ( Proyeccion)\n",
    "fig = plt.figure()\n",
    "ax = fig.add_subplot(111)\n",
    "\n",
    "ax.scatter(x_rot[:,0],x_rot[:,2],alpha=0.25,c='r')\n",
    "ax.scatter(ps_x[:,0],ps_x[:,2],alpha=0.25,c='r')\n",
    "\n",
    "\n",
    "\n",
    "plt.show()"
   ]
  },
  {
   "cell_type": "code",
   "execution_count": null,
   "id": "e1ccb8aa",
   "metadata": {},
   "outputs": [],
   "source": [
    "ps_y"
   ]
  },
  {
   "cell_type": "code",
   "execution_count": null,
   "id": "df767054",
   "metadata": {},
   "outputs": [],
   "source": []
  },
  {
   "cell_type": "code",
   "execution_count": null,
   "id": "1f5e8318",
   "metadata": {},
   "outputs": [],
   "source": []
  },
  {
   "cell_type": "code",
   "execution_count": null,
   "id": "c119d1a5",
   "metadata": {},
   "outputs": [],
   "source": []
  },
  {
   "cell_type": "code",
   "execution_count": null,
   "id": "3ed77563",
   "metadata": {},
   "outputs": [],
   "source": []
  },
  {
   "cell_type": "code",
   "execution_count": null,
   "id": "cd8a8ee1",
   "metadata": {},
   "outputs": [],
   "source": [
    "pt=rslt_df[['x','y','z']].mean().values\n",
    "pts_1=[]\n",
    "pts_2=[]\n",
    "pts_3=[]\n",
    "\n",
    "pts_1.append(pt)\n",
    "pts_2.append(pt)\n",
    "pts_3.append(pt)\n",
    "\n",
    "for i in range (-5,5):\n",
    "    \n",
    "    pts_1.append(pt +Pca.components_[0]*i/30 )\n",
    "    pts_2.append(pt +Pca.components_[1]*i/30 )\n",
    "    pts_3.append(pt +Pca.components_[2]*i/30 )\n",
    "    \n",
    "pts_1=np.asarray(pts_1)    \n",
    "pts_2=np.asarray(pts_2)    \n",
    "pts_3=np.asarray(pts_3)    \n",
    "fig = plt.figure()\n",
    "points=np.load('/home/roboworks/Documents/points.npy')\n",
    "\n",
    "ax = fig.add_subplot(111, projection = '3d')\n",
    "ax.scatter(points[:,1],points[:,0],points[:,2],alpha=0.1,c='c')\n",
    "ax.scatter(pts_1[:,1],pts_1[:,0],pts_1[:,2],alpha=1,c='r')\n",
    "ax.scatter(pts_2[:,1],pts_2[:,0],pts_2[:,2],c='g')\n",
    "ax.scatter(pts_3[:,1],pts_3[:,0],pts_3[:,2],c='b')\n",
    "#ax.scatter(pt[1],pt[0],pt[2],'o', c='y')\n",
    "fig.canvas.draw()\n",
    "img = np.fromstring(fig.canvas.tostring_rgb(), dtype=np.uint8,\n",
    "            sep='')\n",
    "img  = img.reshape(fig.canvas.get_width_height()[::-1] + (3,))\n"
   ]
  },
  {
   "cell_type": "code",
   "execution_count": null,
   "id": "abe3645d",
   "metadata": {},
   "outputs": [],
   "source": [
    "plt.imshow (img)"
   ]
  },
  {
   "cell_type": "code",
   "execution_count": null,
   "id": "7a27950f",
   "metadata": {},
   "outputs": [],
   "source": [
    "fig.canvas.draw()\n",
    "img = np.fromstring(fig.canvas.tostring_rgb(), dtype=np.uint8,\n",
    "            sep='')\n",
    "img  = img.reshape(fig.canvas.get_width_height()[::-1] + (3,))"
   ]
  },
  {
   "cell_type": "code",
   "execution_count": null,
   "id": "7cb53529",
   "metadata": {},
   "outputs": [],
   "source": [
    "plt.imshow (img)\n"
   ]
  },
  {
   "cell_type": "code",
   "execution_count": null,
   "id": "1e3ce798",
   "metadata": {},
   "outputs": [],
   "source": [
    "#! pip install plotly\n"
   ]
  },
  {
   "cell_type": "code",
   "execution_count": null,
   "id": "7cc7214c",
   "metadata": {},
   "outputs": [],
   "source": [
    "fig = plt.figure()\n",
    "ax = fig.add_subplot(111)\n",
    "\n",
    "ax.scatter(pts_1[:,0],pts_1[:,1],alpha=1,c='r')\n",
    "ax.scatter(pts_2[:,0],pts_2[:,1],alpha=1,c='g')\n",
    "plt.xlim(-0.5, 1.5)\n",
    "\n",
    "plt.show()"
   ]
  },
  {
   "cell_type": "code",
   "execution_count": null,
   "id": "fbd3c43c",
   "metadata": {},
   "outputs": [],
   "source": [
    "np.arctan2((pts_1[1,1]-pts_1[0,1]),(pts_1[1,0]-pts_1[0,0]))"
   ]
  },
  {
   "cell_type": "code",
   "execution_count": null,
   "id": "2ca37356",
   "metadata": {},
   "outputs": [],
   "source": []
  },
  {
   "cell_type": "code",
   "execution_count": null,
   "id": "f503e1be",
   "metadata": {},
   "outputs": [],
   "source": [
    "b=-m*0.91222286-0.08526602"
   ]
  },
  {
   "cell_type": "code",
   "execution_count": null,
   "id": "920554f2",
   "metadata": {},
   "outputs": [],
   "source": []
  },
  {
   "cell_type": "code",
   "execution_count": null,
   "id": "0160c3d0",
   "metadata": {},
   "outputs": [],
   "source": [
    "pts_1[:,:2],pts_1[1,1],pts_1[0,1]"
   ]
  },
  {
   "cell_type": "code",
   "execution_count": null,
   "id": "4d65643a",
   "metadata": {},
   "outputs": [],
   "source": []
  },
  {
   "cell_type": "code",
   "execution_count": null,
   "id": "e41dec03",
   "metadata": {},
   "outputs": [],
   "source": [
    "x_y_1=pts_1[2:-1,:2]\n",
    "x_y_2=pts_2[2:-1,:2]"
   ]
  },
  {
   "cell_type": "code",
   "execution_count": null,
   "id": "dbbac6e1",
   "metadata": {},
   "outputs": [],
   "source": [
    "fig = plt.figure()\n",
    "ax = fig.add_subplot(111)\n",
    "\n",
    "ax.scatter(x_y_1[:,0],x_y_1[:,1],alpha=1,c='r')\n",
    "ax.scatter(x_y_2[:,0],x_y_2[:,1],alpha=1,c='g')\n",
    "ax.scatter(xy_rot[:,0], xy_rot[:,1],alpha=1,c='b')\n",
    "plt.show()"
   ]
  },
  {
   "cell_type": "code",
   "execution_count": null,
   "id": "08e40a19",
   "metadata": {},
   "outputs": [],
   "source": [
    "ang= 0.7\n",
    "mat=np.mat((np.asarray((np.cos(ang) ,np.sin(ang),0,-1*np.sin(ang),np.cos(ang),0,0,0,1)).reshape((3,3))))"
   ]
  },
  {
   "cell_type": "code",
   "execution_count": null,
   "id": "8bd8869a",
   "metadata": {},
   "outputs": [],
   "source": [
    "xy_rot=np.asarray(np.matmul(pts_1,mat))\n",
    "xy2_rot=np.asarray(np.matmul(pts_2,mat))"
   ]
  },
  {
   "cell_type": "code",
   "execution_count": null,
   "id": "9d0d6be1",
   "metadata": {},
   "outputs": [],
   "source": []
  },
  {
   "cell_type": "code",
   "execution_count": null,
   "id": "87aedd7d",
   "metadata": {},
   "outputs": [],
   "source": [
    "\n",
    "fig = plt.figure()\n",
    "ax = fig.add_subplot(111)\n",
    "\n",
    "ax.scatter(x_y_1[:,0],x_y_1[:,1],alpha=1,c='r')\n",
    "ax.scatter(x_y_2[:,0],x_y_2[:,1],alpha=1,c='g')\n",
    "ax.scatter(xy_rot[:,0], xy_rot[:,1],alpha=1,c='r')\n",
    "ax.scatter(xy2_rot[:,0], xy2_rot[:,1],alpha=1,c='g')\n",
    "\n",
    "plt.xlim(0,1)\n",
    "plt.ylim(0,1)\n",
    "plt.show()"
   ]
  },
  {
   "cell_type": "code",
   "execution_count": null,
   "id": "9a7eb31e",
   "metadata": {},
   "outputs": [],
   "source": [
    "x_y_1"
   ]
  },
  {
   "cell_type": "code",
   "execution_count": null,
   "id": "5cb4a3f4",
   "metadata": {},
   "outputs": [],
   "source": [
    "xy_rot.reshape((8,2))"
   ]
  },
  {
   "cell_type": "code",
   "execution_count": null,
   "id": "54c90f02",
   "metadata": {},
   "outputs": [],
   "source": []
  },
  {
   "cell_type": "code",
   "execution_count": null,
   "id": "b72f2827",
   "metadata": {},
   "outputs": [],
   "source": []
  },
  {
   "cell_type": "code",
   "execution_count": null,
   "id": "e52986e2",
   "metadata": {},
   "outputs": [],
   "source": []
  },
  {
   "cell_type": "code",
   "execution_count": null,
   "id": "9ad4dfbe",
   "metadata": {},
   "outputs": [],
   "source": []
  },
  {
   "cell_type": "code",
   "execution_count": null,
   "id": "e6169d09",
   "metadata": {},
   "outputs": [],
   "source": []
  },
  {
   "cell_type": "code",
   "execution_count": null,
   "id": "b05e2ba7",
   "metadata": {},
   "outputs": [],
   "source": []
  },
  {
   "cell_type": "code",
   "execution_count": null,
   "id": "61be700a",
   "metadata": {},
   "outputs": [],
   "source": []
  },
  {
   "cell_type": "code",
   "execution_count": null,
   "id": "1ddd321f",
   "metadata": {},
   "outputs": [],
   "source": []
  },
  {
   "cell_type": "code",
   "execution_count": null,
   "id": "bc28898f",
   "metadata": {},
   "outputs": [],
   "source": []
  },
  {
   "cell_type": "code",
   "execution_count": null,
   "id": "8e09e2c0",
   "metadata": {},
   "outputs": [],
   "source": [
    "pcas=Pca.components_"
   ]
  },
  {
   "cell_type": "code",
   "execution_count": null,
   "id": "7b922b35",
   "metadata": {},
   "outputs": [],
   "source": [
    "ref=np.eye(3)"
   ]
  },
  {
   "cell_type": "code",
   "execution_count": null,
   "id": "880a7591",
   "metadata": {},
   "outputs": [],
   "source": [
    "R=[]\n",
    "R.append(np.dot(pcas[0],ref))\n",
    "R.append(np.dot(pcas[1],ref))\n",
    "R.append(np.dot(pcas[2],ref))\n",
    "\n",
    "R=np.asarray(R)\n",
    "## HOMOGENEUS\n",
    "E_R= np.zeros((4,4))\n",
    "E_R[:3,:3]+=R\n",
    "E_R[-1,-1]=1\n",
    "tf.transformations.quaternion_from_matrix(E_R)"
   ]
  },
  {
   "cell_type": "code",
   "execution_count": null,
   "id": "85a50689",
   "metadata": {},
   "outputs": [],
   "source": []
  },
  {
   "cell_type": "code",
   "execution_count": null,
   "id": "e2ec761f",
   "metadata": {},
   "outputs": [],
   "source": [
    "points.shape"
   ]
  },
  {
   "cell_type": "code",
   "execution_count": null,
   "id": "20a5bd76",
   "metadata": {},
   "outputs": [],
   "source": [
    "cv2.__version__"
   ]
  },
  {
   "cell_type": "code",
   "execution_count": null,
   "id": "d975e6b5",
   "metadata": {},
   "outputs": [],
   "source": [
    "R"
   ]
  },
  {
   "cell_type": "code",
   "execution_count": null,
   "id": "af8e9974",
   "metadata": {},
   "outputs": [],
   "source": [
    "## HOMOGENEUS\n",
    "E_R= np.zeros((4,4))\n",
    "E_R[:3,:3]+=R\n",
    "E_R[-1,-1]=1"
   ]
  },
  {
   "cell_type": "code",
   "execution_count": null,
   "id": "75351618",
   "metadata": {},
   "outputs": [],
   "source": []
  },
  {
   "cell_type": "code",
   "execution_count": null,
   "id": "6f0b1afc",
   "metadata": {},
   "outputs": [],
   "source": [
    "points= rgbd.get_points()"
   ]
  },
  {
   "cell_type": "code",
   "execution_count": null,
   "id": "afd79b31",
   "metadata": {},
   "outputs": [],
   "source": [
    "from smach_utils2 import *\n",
    "import matplotlib.pyplot as plt\n",
    "plt.imshow(img_map[700:1200,700:1400])"
   ]
  },
  {
   "cell_type": "code",
   "execution_count": null,
   "id": "7b3a8829",
   "metadata": {},
   "outputs": [],
   "source": []
  },
  {
   "cell_type": "code",
   "execution_count": null,
   "id": "3f7fa3e3",
   "metadata": {},
   "outputs": [],
   "source": [
    "plt.imshow(img_map[700:1200,700:1400])"
   ]
  },
  {
   "cell_type": "code",
   "execution_count": null,
   "id": "6ba7e43c",
   "metadata": {},
   "outputs": [],
   "source": [
    "mask=cv2.imread('/home/roboworks/Documents/imgcorr.png')\n",
    "plt.imshow (mask[:,:,2]*255)"
   ]
  },
  {
   "cell_type": "code",
   "execution_count": null,
   "id": "82f78a90",
   "metadata": {},
   "outputs": [],
   "source": [
    "img_correc"
   ]
  },
  {
   "cell_type": "code",
   "execution_count": null,
   "id": "854ef810",
   "metadata": {},
   "outputs": [],
   "source": [
    "img=im[:,:,0]"
   ]
  },
  {
   "cell_type": "code",
   "execution_count": null,
   "id": "faf1e3a3",
   "metadata": {},
   "outputs": [],
   "source": [
    "np.where(img==0, )\n",
    "img_corrected = np.where((img==0) ,img,1.0)  #FLOOR"
   ]
  },
  {
   "cell_type": "code",
   "execution_count": null,
   "id": "50d34d9c",
   "metadata": {},
   "outputs": [],
   "source": [
    "plt.imshow (img_corrected*255)"
   ]
  },
  {
   "cell_type": "code",
   "execution_count": null,
   "id": "1e3cbc1c",
   "metadata": {},
   "outputs": [],
   "source": [
    "im.shape"
   ]
  },
  {
   "cell_type": "code",
   "execution_count": null,
   "id": "bac4d614",
   "metadata": {},
   "outputs": [],
   "source": [
    "pts=rgbd.get_points()"
   ]
  },
  {
   "cell_type": "code",
   "execution_count": null,
   "id": "ea94d437",
   "metadata": {},
   "outputs": [],
   "source": [
    "def write_tf(pose, q, child_frame=\"\" , parent_frame='map'):\n",
    "    #  pose = trans  q = quaternion  , childframe =\"\"\n",
    "    # format  write the transformstampled message\n",
    "    t= TransformStamped()\n",
    "    t.header.stamp = rospy.Time.now()\n",
    "    #t.header.stamp = rospy.Time(0)\n",
    "    t.header.frame_id =parent_frame\n",
    "    t.child_frame_id =  child_frame\n",
    "    t.transform.translation.x = pose[0]\n",
    "    t.transform.translation.y = pose[1]\n",
    "    t.transform.translation.z = pose[2]\n",
    "    #q = tf.transformations.quaternion_from_euler(eu[0], eu[1], eu[2])\n",
    "    t.transform.rotation.x = q[0]\n",
    "    t.transform.rotation.y = q[1]\n",
    "    t.transform.rotation.z = q[2]\n",
    "    t.transform.rotation.w = q[3]\n",
    "    return t\n",
    "#-----------------------------------------------------------------\n",
    "def read_tf(t):\n",
    "    # trasnform message to np arrays\n",
    "    pose=np.asarray((\n",
    "        t.transform.translation.x,\n",
    "        t.transform.translation.y,\n",
    "        t.transform.translation.z\n",
    "        ))\n",
    "    quat=np.asarray((\n",
    "        t.transform.rotation.x,\n",
    "        t.transform.rotation.y,\n",
    "        t.transform.rotation.z,\n",
    "        t.transform.rotation.w\n",
    "        ))\n",
    "    \n",
    "    return pose, quat\n",
    "\n",
    "def correct_points(points_msg):\n",
    "\n",
    "    # Function that transforms Point Cloud reference frame from  head, to map. (i.e. sensor coords to map coords )\n",
    "    # img= correct_points() (Returns rgbd depth corrected image)    \n",
    "    #points msg in \n",
    "    #data = rospy.wait_for_message('/hsrb/head_rgbd_sensor/depth_registered/rectified_points', PointCloud2)\n",
    "    \n",
    "\n",
    "    np_data=ros_numpy.numpify(points_msg)\n",
    "\n",
    "    try:\n",
    "        trans = tfBuffer.lookup_transform('map', 'head_rgbd_sensor_link', rospy.Time())\n",
    "                    \n",
    "        trans,rot=read_tf(trans)\n",
    "        print (\"############head\",trans,rot)\n",
    "    except (tf2_ros.LookupException, tf2_ros.ConnectivityException, tf2_ros.ExtrapolationException):\n",
    "        print ( 'No  head TF FOUND')\n",
    "\n",
    "    #trans,rot=tf_listener.lookupTransform('/map', '/head_rgbd_sensor_rgb_frame', rospy.Time(0))\n",
    "    #print (\"############TF1\",trans,rot)\n",
    "    eu=np.asarray(tf.transformations.euler_from_quaternion(rot))\n",
    "    t=TransformStamped()\n",
    "    rot=tf.transformations.quaternion_from_euler(eu[0],eu[1],eu[2])\n",
    "    #rot=tf.transformations.quaternion_from_euler(-eu[1],0,0)\n",
    "    t.header.stamp = points_msg.header.stamp\n",
    "    t.transform.rotation.x = rot[0]\n",
    "    t.transform.rotation.y = rot[1]\n",
    "    t.transform.rotation.z = rot[2]\n",
    "    t.transform.rotation.w = rot[3]\n",
    "    cloud_out = do_transform_cloud(points_msg, t)\n",
    "    np_corrected=ros_numpy.numpify(cloud_out)\n",
    "    corrected=np_corrected.reshape(np_data.shape)\n",
    "    img= np.copy(-corrected['z'])\n",
    "    img[np.isnan(img)]=2\n",
    "    img_corrected = np.where((img<trans[2]*0.96) ,img,5)\n",
    "\n",
    "    return img_corrected , corrected"
   ]
  },
  {
   "cell_type": "code",
   "execution_count": null,
   "id": "1da30146",
   "metadata": {},
   "outputs": [],
   "source": [
    "points_msg=rospy.wait_for_message(\"/hsrb/head_rgbd_sensor/depth_registered/rectified_points\",PointCloud2,timeout=5)"
   ]
  },
  {
   "cell_type": "code",
   "execution_count": null,
   "id": "9993e898",
   "metadata": {},
   "outputs": [],
   "source": [
    "points_data = ros_numpy.numpify(points_msg)\n",
    "img_corrected ,corrected = correct_points(points_msg)\n",
    "for i in range(corrected['x'].shape[0]):\n",
    "    for j in range(corrected['x'].shape[1]):\n",
    "        pass\n",
    "        #print(corrected[['x','y','z']][i,j])"
   ]
  },
  {
   "cell_type": "code",
   "execution_count": null,
   "id": "479b4731",
   "metadata": {},
   "outputs": [],
   "source": [
    "origin_map_img=[round(img_map.shape[0]*0.5) ,round(img_map.shape[1]*0.5)]\n",
    "corrected[0,0]"
   ]
  },
  {
   "cell_type": "code",
   "execution_count": null,
   "id": "52f92e44",
   "metadata": {},
   "outputs": [],
   "source": [
    "\n",
    "points_data[['x','y','z']].shape"
   ]
  },
  {
   "cell_type": "code",
   "execution_count": null,
   "id": "a2289d4e",
   "metadata": {},
   "outputs": [],
   "source": [
    "points_data[['x','y','z']][250,300] , corrected[['x','y','z']][250,300]"
   ]
  },
  {
   "cell_type": "code",
   "execution_count": null,
   "id": "d3820b10",
   "metadata": {},
   "outputs": [],
   "source": [
    "plt.imshow(corrected['x'])"
   ]
  },
  {
   "cell_type": "code",
   "execution_count": null,
   "id": "bb7ec676",
   "metadata": {},
   "outputs": [],
   "source": [
    "corrected[['x','y','z']][240,320]"
   ]
  },
  {
   "cell_type": "code",
   "execution_count": null,
   "id": "3bcef674",
   "metadata": {},
   "outputs": [],
   "source": [
    "robot_pose=get_robot_px()\n",
    "px_pose_robot=np.asarray((origin_map_img[1]+robot_pose[1],origin_map_img[0]+robot_pose[0]))\n",
    "iimg=draw_at(px_pose_robot[0], px_pose_robot[1] , img_map )   #ROBOT PX POSE"
   ]
  },
  {
   "cell_type": "code",
   "execution_count": null,
   "id": "e1198875",
   "metadata": {},
   "outputs": [],
   "source": [
    "plt.imshow (iimg[750:1300,800:1500])"
   ]
  },
  {
   "cell_type": "code",
   "execution_count": null,
   "id": "0bedebb2",
   "metadata": {},
   "outputs": [],
   "source": [
    "corrected[0,0]"
   ]
  },
  {
   "cell_type": "code",
   "execution_count": null,
   "id": "47f80a6e",
   "metadata": {},
   "outputs": [],
   "source": [
    "def draw_at (px,py, contoured):\n",
    "    contoured[px-5:px+5,py-5:py+5]=200\n",
    "    return contoured\n",
    "    "
   ]
  },
  {
   "cell_type": "code",
   "execution_count": null,
   "id": "46048983",
   "metadata": {},
   "outputs": [],
   "source": [
    "origin_map_img=[round(img_map.shape[0]*0.5) ,round(img_map.shape[1]*0.5)]\n",
    "robot_pose=get_robot_px()\n",
    "\n",
    "points_msg=rospy.wait_for_message(\"/hsrb/head_rgbd_sensor/depth_registered/rectified_points\",PointCloud2,timeout=5)\n",
    "points_data = ros_numpy.numpify(points_msg)\n",
    "img_corrected ,corrected = correct_points(points_msg)\n",
    "for i in range (400):\n",
    "    if np.isnan(corrected[i,-1][0]) or np.isnan(corrected[-1,i][0])or np.isnan(corrected[i,0][0]) or np.isnan(corrected[0,i][0]) :print('nan ')\n",
    "        \n",
    "    else:\n",
    "        px_from_pose= origin_map_img[1]+ round(corrected[i,0][1]/pix_per_m)+robot_pose[1],origin_map_img[0]+ round(corrected[i,0][0]/pix_per_m)+robot_pose[0]\n",
    "        iimg=draw_at(px_from_pose[0], px_from_pose[1] , img_map )\n",
    "        px_from_pose= origin_map_img[1]+ round(corrected[i,-1][1]/pix_per_m)+robot_pose[1],origin_map_img[0]+ round(corrected[i,-1][0]/pix_per_m)+robot_pose[0]\n",
    "        iimg=draw_at(px_from_pose[0], px_from_pose[1] , img_map )\n",
    "        px_from_pose= origin_map_img[1]+ round(corrected[0,i][1]/pix_per_m)+robot_pose[1],origin_map_img[0]+ round(corrected[0,i][0]/pix_per_m)+robot_pose[0]\n",
    "        iimg=draw_at(px_from_pose[0], px_from_pose[1] , img_map )\n",
    "        px_from_pose= origin_map_img[1]+ round(corrected[-1,i][1]/pix_per_m)+robot_pose[1],origin_map_img[0]+ round(corrected[-1,i][0]/pix_per_m)+robot_pose[0]\n",
    "        iimg=draw_at(px_from_pose[0], px_from_pose[1] , img_map )\n",
    "\n",
    "\n",
    "\n",
    "plt.imshow(iimg[750:1300,800:1500])\n"
   ]
  },
  {
   "cell_type": "code",
   "execution_count": null,
   "id": "fe8f558e",
   "metadata": {},
   "outputs": [],
   "source": [
    "iimg=draw_at(origin_map_img[1], origin_map_img[0] , img_map )\n",
    "plt.imshow(iimg[750:1300,800:1500])\n"
   ]
  },
  {
   "cell_type": "code",
   "execution_count": null,
   "id": "379033bc",
   "metadata": {},
   "outputs": [],
   "source": [
    "\n",
    "\n",
    "px_from_map=np.asarray((origin_map_img[1]+corrected[-1,-1][0],origin_map_img[0]+corrected[-1,-1][1]))\n",
    "iimg=draw_at(px_from_pose[0], px_from_pose[1] , img_map )\n",
    "plt.imshow(iimg[750:1300,800:1500])\n"
   ]
  },
  {
   "cell_type": "code",
   "execution_count": null,
   "id": "4154d2a2",
   "metadata": {},
   "outputs": [],
   "source": [
    "iimg=draw_at(px_from_pose[0], px_from_pose[1] , img_map )"
   ]
  },
  {
   "cell_type": "code",
   "execution_count": null,
   "id": "e8596a47",
   "metadata": {},
   "outputs": [],
   "source": [
    "plt.imshow(iimg[750:1300,800:1500])"
   ]
  },
  {
   "cell_type": "code",
   "execution_count": null,
   "id": "194e0400",
   "metadata": {},
   "outputs": [],
   "source": [
    "img_map[origin_map_img[1]+ round(corrected[0,0][1]/pix_per_m),origin_map_img[0]+ round(corrected[0,0][0]/pix_per_m)]"
   ]
  },
  {
   "cell_type": "code",
   "execution_count": null,
   "id": "e8283fc4",
   "metadata": {},
   "outputs": [],
   "source": [
    "plt.imshow(corrected['x'])"
   ]
  },
  {
   "cell_type": "code",
   "execution_count": null,
   "id": "82681b1d",
   "metadata": {},
   "outputs": [],
   "source": [
    "corrected[100,500]"
   ]
  },
  {
   "cell_type": "raw",
   "id": "edface7c",
   "metadata": {},
   "source": [
    "corre"
   ]
  }
 ],
 "metadata": {
  "kernelspec": {
   "display_name": "Python 3 (ipykernel)",
   "language": "python",
   "name": "python3"
  },
  "language_info": {
   "codemirror_mode": {
    "name": "ipython",
    "version": 3
   },
   "file_extension": ".py",
   "mimetype": "text/x-python",
   "name": "python",
   "nbconvert_exporter": "python",
   "pygments_lexer": "ipython3",
   "version": "3.8.10"
  }
 },
 "nbformat": 4,
 "nbformat_minor": 5
}
