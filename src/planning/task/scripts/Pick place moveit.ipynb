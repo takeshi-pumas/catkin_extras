{
 "cells": [
  {
   "cell_type": "code",
   "execution_count": 1,
   "id": "aaad88df",
   "metadata": {},
   "outputs": [],
   "source": [
    "import rospy\n",
    "import moveit_commander\n",
    "import moveit_msgs\n",
    "import geometry_msgs.msg as geometry_msgs\n",
    "import tf2_geometry_msgs\n",
    "import shape_msgs\n",
    "from math import pi\n",
    "import tf\n",
    "from trajectory_msgs.msg import JointTrajectoryPoint\n",
    "import sys"
   ]
  },
  {
   "cell_type": "code",
   "execution_count": 2,
   "id": "fb447b0e",
   "metadata": {},
   "outputs": [],
   "source": [
    "rospy.init_node('hsrb_arm_pick_place', anonymous=True)\n",
    "#rospy.sleep(1.0)\n",
    "moveit_commander.roscpp_initialize(sys.argv)\n"
   ]
  },
  {
   "cell_type": "code",
   "execution_count": 7,
   "id": "250ace87",
   "metadata": {},
   "outputs": [],
   "source": [
    "def open_gripper(posture):\n",
    "    posture.joint_names = [\"hand_motor_joint\"]\n",
    "    posture.points = [JointTrajectoryPoint()]\n",
    "    posture.points[0].positions = [0.04]\n",
    "    posture.points[0].time_from_start = rospy.Duration(0.5)\n",
    "\n",
    "def closed_gripper(posture):\n",
    "    posture.joint_names = [\"hand_motor_joint\"]\n",
    "    posture.points = [JointTrajectoryPoint()]\n",
    "    posture.points[0].positions = [0.0]\n",
    "    posture.points[0].time_from_start = rospy.Duration(0.5)\n",
    "\n",
    "def pick(move_group):\n",
    "    grasps = []\n",
    "    grasps.append(moveit_msgs.msg.Grasp())\n",
    "    #print (grasps[0])\n",
    "\n",
    "    # Setting grasp pose\n",
    "    grasp_pose = geometry_msgs.PoseStamped()\n",
    "    grasp_pose.header.frame_id = \"odom\"\n",
    "    orientation = tf.transformations.quaternion_from_euler(-pi/4, -pi/8, -pi/4)\n",
    "    grasp_pose.pose.orientation = geometry_msgs.Quaternion(*orientation)\n",
    "    grasp_pose.pose.position.x = 0.415\n",
    "    grasp_pose.pose.position.y = 0\n",
    "    grasp_pose.pose.position.z = 0.5\n",
    "    grasps[0].grasp_pose = grasp_pose\n",
    "\n",
    "    # Setting pre-grasp approach\n",
    "    pre_grasp_approach = moveit_msgs.msg.GripperTranslation()\n",
    "    pre_grasp_approach.direction.header.frame_id = \"odom\"\n",
    "    pre_grasp_approach.direction.vector.x = 1.0\n",
    "    pre_grasp_approach.min_distance = 0.095\n",
    "    pre_grasp_approach.desired_distance = 0.115\n",
    "    grasps[0].pre_grasp_approach = pre_grasp_approach\n",
    "\n",
    "    # Setting post-grasp retreat\n",
    "    post_grasp_retreat = moveit_msgs.msg.GripperTranslation()\n",
    "    post_grasp_retreat.direction.header.frame_id = \"odom\"\n",
    "    post_grasp_retreat.direction.vector.z = 1.0\n",
    "    post_grasp_retreat.min_distance = 0.1\n",
    "    post_grasp_retreat.desired_distance = 0.25\n",
    "    grasps[0].post_grasp_retreat = post_grasp_retreat\n",
    "\n",
    "    # Setting posture of eef before grasp\n",
    "    open_gripper(grasps[0].pre_grasp_posture)\n",
    "\n",
    "    # Setting posture of eef during grasp\n",
    "    closed_gripper(grasps[0].grasp_posture)\n",
    "\n",
    "    # Set support surface as table1\n",
    "    move_group.set_support_surface_name(\"table1\")\n",
    "\n",
    "    # Call pick to pick up the object using the grasps given\n",
    "    move_group.pick(\"obj\", grasps[0], only_plan = False)\n",
    "\n",
    "def place(move_group):\n",
    "    place_location = []\n",
    "    place_location.append(moveit_msgs.msg.PlaceLocation())\n",
    "\n",
    "    # Setting place location pose\n",
    "    place_pose = geometry_msgs.PoseStamped()\n",
    "    place_pose.header.frame_id = \"odom\"\n",
    "    \n",
    "    orientation = tf.transformations.quaternion_from_euler(0, 0, pi/4)\n",
    "    place_pose.pose.orientation = geometry_msgs.Quaternion(*orientation)\n",
    "\n",
    "    place_pose.pose.position.x = 0\n",
    "    place_pose.pose.position.y = 0.5\n",
    "    place_pose.pose.position.z = 0.5\n",
    "    place_location[0].place_pose = place_pose.pose\n",
    "\n",
    "    # Setting pre-place approach\n",
    "    pre_place_approach = moveit_msgs.msg.GripperTranslation()\n",
    "    pre_place_approach.direction.header.frame_id = \"odom\"\n",
    "    pre_place_approach.direction.vector.z = -1.0\n",
    "    pre_place_approach.min_distance = 0.095\n",
    "    pre_place_approach.desired_distance = 0.115\n",
    "    place_location[0].pre_place_approach = pre_place_approach\n",
    "\n",
    "    # Setting post-place retreat\n",
    "    post_place_retreat = moveit_msgs.msg.GripperTranslation()\n",
    "    post_place_retreat.direction.header.frame_id = \"odom\"\n",
    "    post_place_retreat.direction.vector.y = -1.0\n",
    "    post_place_retreat.min_distance = 0.1\n",
    "    post_place_retreat.desired_distance = 0.25\n",
    "    place_location[0].post_place_retreat = post_place_retreat\n",
    "\n",
    "    # Setting posture of eef after placing object\n",
    "    open_gripper(place_location[0].post_place_posture)\n",
    "\n",
    "    # Set support surface as table2\n",
    "    move_group.set_support_surface_name(\"table2\")\n",
    "\n",
    "    # Call place to place the object using the place locations given\n",
    "    move_group.place(\"obj\", place_location)\n",
    "\n",
    "def add_collision_objects(scene):\n",
    "    collision_objects = []\n",
    "\n",
    "    # Add the first table where the cube will originally be kept.\n",
    "    pose = geometry_msgs.PoseStamped()\n",
    "    pose.header.frame_id = \"odom\"\n",
    "    pose.pose.position.x = 0.5\n",
    "    pose.pose.position.y = 0\n",
    "    pose.pose.position.z = 0.2\n",
    "    pose.pose.orientation.w = 1.0\n",
    "    scene.add_box(\"table1\", pose, size = [0.2, 0.4, 0.4])\n",
    "\n",
    "    # Add the second table where we will be placing the cube.\n",
    "    pose = geometry_msgs.PoseStamped()\n",
    "    pose.header.frame_id = \"odom\"\n",
    "    pose.pose.position.x = 0\n",
    "    pose.pose.position.y = 0.5\n",
    "    pose.pose.position.z = 0.2\n",
    "    pose.pose.orientation.w = 1.0\n",
    "    scene.add_box(\"table2\", pose, size = [0.4, 0.2, 0.4])\n",
    "\n",
    "    # Define the object that we will be manipulating\n",
    "    pose = geometry_msgs.PoseStamped()\n",
    "    pose.header.frame_id = \"odom\"\n",
    "    pose.pose.position.x = 0.5\n",
    "    pose.pose.position.y = 0\n",
    "    pose.pose.position.z = 0.5\n",
    "    pose.pose.orientation.w = 1.0\n",
    "    scene.add_box(\"obj\", pose, size = [0.02, 0.02, 0.2])"
   ]
  },
  {
   "cell_type": "code",
   "execution_count": 4,
   "id": "18aa15e5",
   "metadata": {
    "scrolled": true
   },
   "outputs": [
    {
     "name": "stderr",
     "output_type": "stream",
     "text": [
      "\u001b[33m[ WARN] [1691692148.636829906]: Link hand_l_finger_vacuum_frame has visual geometry but no collision geometry. Collision geometry will be left empty. Fix your URDF file by explicitly specifying collision geometry.\u001b[0m\n",
      "\u001b[33m[ WARN] [1691692148.639449815]: Link head_l_stereo_camera_link has visual geometry but no collision geometry. Collision geometry will be left empty. Fix your URDF file by explicitly specifying collision geometry.\u001b[0m\n",
      "\u001b[33m[ WARN] [1691692148.639477752]: Link head_r_stereo_camera_link has visual geometry but no collision geometry. Collision geometry will be left empty. Fix your URDF file by explicitly specifying collision geometry.\u001b[0m\n",
      "\u001b[33m[ WARN] [1691692148.640240427]: Group state 'neutral' doesn't specify all group joints in group 'arm'. wrist_ft_sensor_frame_joint is missing.\u001b[0m\n",
      "\u001b[33m[ WARN] [1691692148.640283354]: Group state 'go' doesn't specify all group joints in group 'arm'. wrist_ft_sensor_frame_joint is missing.\u001b[0m\n",
      "\u001b[33m[ WARN] [1691692149.114802892]: Kinematics solver doesn't support #attempts anymore, but only a timeout.\n",
      "Please remove the parameter '/robot_description_kinematics/arm/kinematics_solver_attempts' from your configuration.\u001b[0m\n",
      "\u001b[33m[ WARN] [1691692149.335382036]: IK plugin for group 'whole_body' relies on deprecated API. Please implement initialize(RobotModel, ...).\u001b[0m\n",
      "\u001b[33m[ WARN] [1691692149.362482025]: IK plugin for group 'whole_body_weighted' relies on deprecated API. Please implement initialize(RobotModel, ...).\u001b[0m\n",
      "\u001b[33m[ WARN] [1691692149.387486779]: IK plugin for group 'whole_body_light' relies on deprecated API. Please implement initialize(RobotModel, ...).\u001b[0m\n"
     ]
    }
   ],
   "source": [
    "robot = moveit_commander.RobotCommander()\n",
    "group = moveit_commander.MoveGroupCommander(\"whole_body_light\")\n",
    "group.set_planning_time(45.0)\n",
    "scene = moveit_commander.PlanningSceneInterface()"
   ]
  },
  {
   "cell_type": "code",
   "execution_count": 5,
   "id": "b40e85fd",
   "metadata": {},
   "outputs": [],
   "source": [
    "add_collision_objects(scene)"
   ]
  },
  {
   "cell_type": "code",
   "execution_count": 6,
   "id": "f0550fb2",
   "metadata": {
    "scrolled": false
   },
   "outputs": [
    {
     "name": "stderr",
     "output_type": "stream",
     "text": [
      "\u001b[33m[ WARN] [1691692165.492646000]: Fail: ABORTED: No motion plan found. No execution attempted.\u001b[0m\n"
     ]
    }
   ],
   "source": [
    "pick(group)"
   ]
  },
  {
   "cell_type": "code",
   "execution_count": 7,
   "id": "c3ec1dfd",
   "metadata": {},
   "outputs": [
    {
     "ename": "AttributeError",
     "evalue": "'Pose' object has no attribute 'header'",
     "output_type": "error",
     "traceback": [
      "\u001b[0;31m---------------------------------------------------------------------------\u001b[0m",
      "\u001b[0;31mAttributeError\u001b[0m                            Traceback (most recent call last)",
      "Input \u001b[0;32mIn [7]\u001b[0m, in \u001b[0;36m<cell line: 1>\u001b[0;34m()\u001b[0m\n\u001b[0;32m----> 1\u001b[0m \u001b[43mplace\u001b[49m\u001b[43m(\u001b[49m\u001b[43mgroup\u001b[49m\u001b[43m)\u001b[49m\n",
      "Input \u001b[0;32mIn [3]\u001b[0m, in \u001b[0;36mplace\u001b[0;34m(move_group)\u001b[0m\n\u001b[1;32m     92\u001b[0m move_group\u001b[38;5;241m.\u001b[39mset_support_surface_name(\u001b[38;5;124m\"\u001b[39m\u001b[38;5;124mtable2\u001b[39m\u001b[38;5;124m\"\u001b[39m)\n\u001b[1;32m     94\u001b[0m \u001b[38;5;66;03m# Call place to place the object using the place locations given\u001b[39;00m\n\u001b[0;32m---> 95\u001b[0m \u001b[43mmove_group\u001b[49m\u001b[38;5;241;43m.\u001b[39;49m\u001b[43mplace\u001b[49m\u001b[43m(\u001b[49m\u001b[38;5;124;43m\"\u001b[39;49m\u001b[38;5;124;43mobj\u001b[39;49m\u001b[38;5;124;43m\"\u001b[39;49m\u001b[43m,\u001b[49m\u001b[43m \u001b[49m\u001b[43mplace_location\u001b[49m\u001b[43m)\u001b[49m\n",
      "File \u001b[0;32m/opt/ros/noetic/lib/python3/dist-packages/moveit_commander/move_group.py:739\u001b[0m, in \u001b[0;36mMoveGroupCommander.place\u001b[0;34m(self, object_name, location, plan_only)\u001b[0m\n\u001b[1;32m    735\u001b[0m \u001b[38;5;28;01mif\u001b[39;00m location:\n\u001b[1;32m    736\u001b[0m     \u001b[38;5;28;01mif\u001b[39;00m \u001b[38;5;28mtype\u001b[39m(location[\u001b[38;5;241m0\u001b[39m]) \u001b[38;5;129;01mis\u001b[39;00m PlaceLocation:\n\u001b[1;32m    737\u001b[0m         result \u001b[38;5;241m=\u001b[39m \u001b[38;5;28mself\u001b[39m\u001b[38;5;241m.\u001b[39m_g\u001b[38;5;241m.\u001b[39mplace_locations_list(\n\u001b[1;32m    738\u001b[0m             object_name,\n\u001b[0;32m--> 739\u001b[0m             [conversions\u001b[38;5;241m.\u001b[39mmsg_to_string(x) \u001b[38;5;28;01mfor\u001b[39;00m x \u001b[38;5;129;01min\u001b[39;00m location],\n\u001b[1;32m    740\u001b[0m             plan_only,\n\u001b[1;32m    741\u001b[0m         )\n\u001b[1;32m    742\u001b[0m     \u001b[38;5;28;01melif\u001b[39;00m \u001b[38;5;28mtype\u001b[39m(location[\u001b[38;5;241m0\u001b[39m]) \u001b[38;5;129;01mis\u001b[39;00m PoseStamped:\n\u001b[1;32m    743\u001b[0m         result \u001b[38;5;241m=\u001b[39m \u001b[38;5;28mself\u001b[39m\u001b[38;5;241m.\u001b[39m_g\u001b[38;5;241m.\u001b[39mplace_poses_list(\n\u001b[1;32m    744\u001b[0m             object_name,\n\u001b[1;32m    745\u001b[0m             [conversions\u001b[38;5;241m.\u001b[39mmsg_to_string(x) \u001b[38;5;28;01mfor\u001b[39;00m x \u001b[38;5;129;01min\u001b[39;00m location],\n\u001b[1;32m    746\u001b[0m             plan_only,\n\u001b[1;32m    747\u001b[0m         )\n",
      "File \u001b[0;32m/opt/ros/noetic/lib/python3/dist-packages/moveit_commander/move_group.py:739\u001b[0m, in \u001b[0;36m<listcomp>\u001b[0;34m(.0)\u001b[0m\n\u001b[1;32m    735\u001b[0m \u001b[38;5;28;01mif\u001b[39;00m location:\n\u001b[1;32m    736\u001b[0m     \u001b[38;5;28;01mif\u001b[39;00m \u001b[38;5;28mtype\u001b[39m(location[\u001b[38;5;241m0\u001b[39m]) \u001b[38;5;129;01mis\u001b[39;00m PlaceLocation:\n\u001b[1;32m    737\u001b[0m         result \u001b[38;5;241m=\u001b[39m \u001b[38;5;28mself\u001b[39m\u001b[38;5;241m.\u001b[39m_g\u001b[38;5;241m.\u001b[39mplace_locations_list(\n\u001b[1;32m    738\u001b[0m             object_name,\n\u001b[0;32m--> 739\u001b[0m             [\u001b[43mconversions\u001b[49m\u001b[38;5;241;43m.\u001b[39;49m\u001b[43mmsg_to_string\u001b[49m\u001b[43m(\u001b[49m\u001b[43mx\u001b[49m\u001b[43m)\u001b[49m \u001b[38;5;28;01mfor\u001b[39;00m x \u001b[38;5;129;01min\u001b[39;00m location],\n\u001b[1;32m    740\u001b[0m             plan_only,\n\u001b[1;32m    741\u001b[0m         )\n\u001b[1;32m    742\u001b[0m     \u001b[38;5;28;01melif\u001b[39;00m \u001b[38;5;28mtype\u001b[39m(location[\u001b[38;5;241m0\u001b[39m]) \u001b[38;5;129;01mis\u001b[39;00m PoseStamped:\n\u001b[1;32m    743\u001b[0m         result \u001b[38;5;241m=\u001b[39m \u001b[38;5;28mself\u001b[39m\u001b[38;5;241m.\u001b[39m_g\u001b[38;5;241m.\u001b[39mplace_poses_list(\n\u001b[1;32m    744\u001b[0m             object_name,\n\u001b[1;32m    745\u001b[0m             [conversions\u001b[38;5;241m.\u001b[39mmsg_to_string(x) \u001b[38;5;28;01mfor\u001b[39;00m x \u001b[38;5;129;01min\u001b[39;00m location],\n\u001b[1;32m    746\u001b[0m             plan_only,\n\u001b[1;32m    747\u001b[0m         )\n",
      "File \u001b[0;32m/opt/ros/noetic/lib/python3/dist-packages/moveit_commander/conversions.py:50\u001b[0m, in \u001b[0;36mmsg_to_string\u001b[0;34m(msg)\u001b[0m\n\u001b[1;32m     48\u001b[0m \u001b[38;5;28;01mdef\u001b[39;00m \u001b[38;5;21mmsg_to_string\u001b[39m(msg):\n\u001b[1;32m     49\u001b[0m     buf \u001b[38;5;241m=\u001b[39m StringIO()\n\u001b[0;32m---> 50\u001b[0m     \u001b[43mmsg\u001b[49m\u001b[38;5;241;43m.\u001b[39;49m\u001b[43mserialize\u001b[49m\u001b[43m(\u001b[49m\u001b[43mbuf\u001b[49m\u001b[43m)\u001b[49m\n\u001b[1;32m     51\u001b[0m     \u001b[38;5;28;01mreturn\u001b[39;00m buf\u001b[38;5;241m.\u001b[39mgetvalue()\n",
      "File \u001b[0;32m/opt/ros/noetic/lib/python3/dist-packages/moveit_msgs/msg/_PlaceLocation.py:239\u001b[0m, in \u001b[0;36mPlaceLocation.serialize\u001b[0;34m(self, buff)\u001b[0m\n\u001b[1;32m    237\u001b[0m   buff\u001b[38;5;241m.\u001b[39mwrite(_get_struct_2i()\u001b[38;5;241m.\u001b[39mpack(_x\u001b[38;5;241m.\u001b[39msecs, _x\u001b[38;5;241m.\u001b[39mnsecs))\n\u001b[1;32m    238\u001b[0m _x \u001b[38;5;241m=\u001b[39m \u001b[38;5;28mself\u001b[39m\n\u001b[0;32m--> 239\u001b[0m buff\u001b[38;5;241m.\u001b[39mwrite(_get_struct_3I()\u001b[38;5;241m.\u001b[39mpack(\u001b[43m_x\u001b[49m\u001b[38;5;241;43m.\u001b[39;49m\u001b[43mplace_pose\u001b[49m\u001b[38;5;241;43m.\u001b[39;49m\u001b[43mheader\u001b[49m\u001b[38;5;241m.\u001b[39mseq, _x\u001b[38;5;241m.\u001b[39mplace_pose\u001b[38;5;241m.\u001b[39mheader\u001b[38;5;241m.\u001b[39mstamp\u001b[38;5;241m.\u001b[39msecs, _x\u001b[38;5;241m.\u001b[39mplace_pose\u001b[38;5;241m.\u001b[39mheader\u001b[38;5;241m.\u001b[39mstamp\u001b[38;5;241m.\u001b[39mnsecs))\n\u001b[1;32m    240\u001b[0m _x \u001b[38;5;241m=\u001b[39m \u001b[38;5;28mself\u001b[39m\u001b[38;5;241m.\u001b[39mplace_pose\u001b[38;5;241m.\u001b[39mheader\u001b[38;5;241m.\u001b[39mframe_id\n\u001b[1;32m    241\u001b[0m length \u001b[38;5;241m=\u001b[39m \u001b[38;5;28mlen\u001b[39m(_x)\n",
      "\u001b[0;31mAttributeError\u001b[0m: 'Pose' object has no attribute 'header'"
     ]
    }
   ],
   "source": [
    "place(group)"
   ]
  },
  {
   "cell_type": "code",
   "execution_count": null,
   "id": "9f6ebe84",
   "metadata": {},
   "outputs": [],
   "source": []
  }
 ],
 "metadata": {
  "kernelspec": {
   "display_name": "Python 3 (ipykernel)",
   "language": "python",
   "name": "python3"
  },
  "language_info": {
   "codemirror_mode": {
    "name": "ipython",
    "version": 3
   },
   "file_extension": ".py",
   "mimetype": "text/x-python",
   "name": "python",
   "nbconvert_exporter": "python",
   "pygments_lexer": "ipython3",
   "version": "3.8.10"
  }
 },
 "nbformat": 4,
 "nbformat_minor": 5
}
