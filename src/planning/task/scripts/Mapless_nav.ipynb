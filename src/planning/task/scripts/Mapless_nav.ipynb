{
 "cells": [
  {
   "cell_type": "code",
   "execution_count": 5,
   "id": "36791919",
   "metadata": {},
   "outputs": [],
   "source": [
    "import rospy\n",
    "from sensor_msgs.msg import Image , LaserScan , PointCloud2\n",
    "rospy.init_node(\"mapless_nav\")\n",
    "from hmm_navigation.msg import NavigateActionGoal , NavigateActionResult   ###BETA OPTIONAL\n",
    "import actionlib\n",
    "from move_base_msgs.msg import MoveBaseAction, MoveBaseGoal\n",
    "from geometry_msgs.msg import PoseStamped , Point, Quaternion\n",
    "import tf"
   ]
  },
  {
   "cell_type": "code",
   "execution_count": 6,
   "id": "ede7c11b",
   "metadata": {},
   "outputs": [],
   "source": [
    "#import smach_utils2\n",
    "import actionlib\n",
    "from move_base_msgs.msg import MoveBaseAction, MoveBaseGoal\n",
    "import tf\n",
    "import rospy\n"
   ]
  },
  {
   "cell_type": "code",
   "execution_count": 7,
   "id": "6d9f379a",
   "metadata": {},
   "outputs": [],
   "source": [
    "navclient = actionlib.SimpleActionClient('/move_base/move', MoveBaseAction)  #TOYOTA NAV\n",
    "\n",
    "def move_base_toyota(goal_x,goal_y,goal_yaw,time_out=10):\n",
    "\n",
    "    \n",
    "    \n",
    "    \n",
    "    #using nav client and toyota navigation go to x,y,yaw\n",
    "    #To Do: PUMAS NAVIGATION\n",
    "    pose = PoseStamped()\n",
    "    pose.header.stamp = rospy.Time(0)\n",
    "    pose.header.frame_id = \"map\"\n",
    "    pose.pose.position = Point(goal_x, goal_y, 0)\n",
    "    quat = tf.transformations.quaternion_from_euler(0, 0, goal_yaw)\n",
    "    pose.pose.orientation = Quaternion(*quat)\n",
    "\n",
    "\n",
    "    # create a MOVE BASE GOAL\n",
    "    goal = MoveBaseGoal()\n",
    "    goal.target_pose = pose\n",
    "\n",
    "    # send message to the action server\n",
    "    navclient.send_goal(goal)\n",
    "\n",
    "    # wait for the action server to complete the order\n",
    "    navclient.wait_for_result(timeout=rospy.Duration(time_out))\n",
    "\n",
    "    # print result of navigation\n",
    "    action_state = navclient.get_state()\n",
    "    return navclient.get_state()"
   ]
  },
  {
   "cell_type": "markdown",
   "id": "ca5c96be",
   "metadata": {},
   "source": []
  },
  {
   "cell_type": "code",
   "execution_count": 9,
   "id": "10e943c4",
   "metadata": {},
   "outputs": [
    {
     "data": {
      "text/plain": [
       "8"
      ]
     },
     "execution_count": 9,
     "metadata": {},
     "output_type": "execute_result"
    }
   ],
   "source": [
    "move_base_toyota(0.60,0.0,0)"
   ]
  },
  {
   "cell_type": "code",
   "execution_count": null,
   "id": "84ebcfb9",
   "metadata": {},
   "outputs": [],
   "source": [
    "a"
   ]
  },
  {
   "cell_type": "code",
   "execution_count": null,
   "id": "8974c97c",
   "metadata": {},
   "outputs": [],
   "source": []
  }
 ],
 "metadata": {
  "kernelspec": {
   "display_name": "Python 3 (ipykernel)",
   "language": "python",
   "name": "python3"
  },
  "language_info": {
   "codemirror_mode": {
    "name": "ipython",
    "version": 3
   },
   "file_extension": ".py",
   "mimetype": "text/x-python",
   "name": "python",
   "nbconvert_exporter": "python",
   "pygments_lexer": "ipython3",
   "version": "3.8.10"
  }
 },
 "nbformat": 4,
 "nbformat_minor": 5
}
