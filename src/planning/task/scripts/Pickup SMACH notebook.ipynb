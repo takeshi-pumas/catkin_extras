{
 "cells": [
  {
   "cell_type": "code",
   "execution_count": 1,
   "id": "1863753f",
   "metadata": {
    "scrolled": true
   },
   "outputs": [
    {
     "name": "stderr",
     "output_type": "stream",
     "text": [
      "\u001b[33m[ WARN] [1691683864.909906516]: Link hand_l_finger_vacuum_frame has visual geometry but no collision geometry. Collision geometry will be left empty. Fix your URDF file by explicitly specifying collision geometry.\u001b[0m\n",
      "\u001b[33m[ WARN] [1691683864.913581341]: Link head_l_stereo_camera_link has visual geometry but no collision geometry. Collision geometry will be left empty. Fix your URDF file by explicitly specifying collision geometry.\u001b[0m\n",
      "\u001b[33m[ WARN] [1691683864.913611447]: Link head_r_stereo_camera_link has visual geometry but no collision geometry. Collision geometry will be left empty. Fix your URDF file by explicitly specifying collision geometry.\u001b[0m\n",
      "\u001b[33m[ WARN] [1691683864.914503331]: Group state 'neutral' doesn't specify all group joints in group 'arm'. wrist_ft_sensor_frame_joint is missing.\u001b[0m\n",
      "\u001b[33m[ WARN] [1691683864.914525249]: Group state 'go' doesn't specify all group joints in group 'arm'. wrist_ft_sensor_frame_joint is missing.\u001b[0m\n",
      "\u001b[33m[ WARN] [1691683865.357940443]: Kinematics solver doesn't support #attempts anymore, but only a timeout.\n",
      "Please remove the parameter '/robot_description_kinematics/arm/kinematics_solver_attempts' from your configuration.\u001b[0m\n",
      "\u001b[33m[ WARN] [1691683865.554507250]: IK plugin for group 'whole_body' relies on deprecated API. Please implement initialize(RobotModel, ...).\u001b[0m\n",
      "\u001b[33m[ WARN] [1691683865.577786898]: IK plugin for group 'whole_body_weighted' relies on deprecated API. Please implement initialize(RobotModel, ...).\u001b[0m\n",
      "\u001b[33m[ WARN] [1691683865.602474301]: IK plugin for group 'whole_body_light' relies on deprecated API. Please implement initialize(RobotModel, ...).\u001b[0m\n"
     ]
    }
   ],
   "source": [
    "from smach_utils_pick_and_place import *"
   ]
  },
  {
   "cell_type": "code",
   "execution_count": 2,
   "id": "0c86d438",
   "metadata": {},
   "outputs": [],
   "source": [
    "#arm = moveit_commander.MoveGroupCommander('arm')\n",
    "#arm.set_num_planning_attempts= 10\n",
    "wb = moveit_commander.MoveGroupCommander('whole_body_weighted')\n",
    "def add_object_to_scene(scene, object_name, pose, size):\n",
    "    object_pose = PoseStamped()\n",
    "    object_pose.header.frame_id = arm.get_planning_frame()\n",
    "    object_pose.pose = pose\n",
    "\n",
    "    scene.add_box(object_name, object_pose, size)"
   ]
  },
  {
   "cell_type": "code",
   "execution_count": 3,
   "id": "0935ffb3",
   "metadata": {},
   "outputs": [],
   "source": [
    "pos,rot = tf_man.getTF(target_frame=\"ar_marker/201\", ref_frame=\"hand_palm_link\")\n",
    "tf_man.pub_static_tf(pos = pos, rot= rot, point_name='cassette', ref=\"hand_palm_link\")\n",
    "tf_man.change_ref_frame_tf(point_name=\"cassette\", new_frame=\"map\")\n",
    "tf_man.pub_static_tf(pos=[pos[0] + 0.085, 0, 0.10], rot=[0, 0, 0, 1], point_name='goal', ref=\"hand_palm_link\")"
   ]
  },
  {
   "cell_type": "code",
   "execution_count": 4,
   "id": "c6a10255",
   "metadata": {},
   "outputs": [],
   "source": [
    "arm.set_named_target(\"neutral\")"
   ]
  },
  {
   "cell_type": "code",
   "execution_count": 5,
   "id": "441a73b7",
   "metadata": {},
   "outputs": [
    {
     "data": {
      "text/plain": [
       "True"
      ]
     },
     "execution_count": 5,
     "metadata": {},
     "output_type": "execute_result"
    }
   ],
   "source": [
    "arm.go()"
   ]
  },
  {
   "cell_type": "code",
   "execution_count": 6,
   "id": "416eb351",
   "metadata": {},
   "outputs": [],
   "source": [
    "pos, rot = tf_man.getTF(target_frame = 'goal', ref_frame=\"odom\")\n",
    "position = Point(*pos)\n",
    "quat = Quaternion(*rot)"
   ]
  },
  {
   "cell_type": "code",
   "execution_count": 7,
   "id": "a249037d",
   "metadata": {},
   "outputs": [
    {
     "name": "stdout",
     "output_type": "stream",
     "text": [
      "position: \n",
      "  x: 0.4146908718154058\n",
      "  y: 0.040188624513908144\n",
      "  z: 0.8724750507742834\n",
      "orientation: \n",
      "  x: -0.7051986132384626\n",
      "  y: 0.04901358645255551\n",
      "  z: -0.7056153189466273\n",
      "  w: -0.048985772398275174\n"
     ]
    }
   ],
   "source": [
    "goal_pose = Pose()\n",
    "goal_pose.position = position\n",
    "goal_pose.orientation = quat\n",
    "print(goal_pose)"
   ]
  },
  {
   "cell_type": "code",
   "execution_count": 8,
   "id": "b1078e99",
   "metadata": {},
   "outputs": [],
   "source": [
    "#clear_octo_client()\n",
    "#arm.get_planning_time()\n",
    "#arm.allow_looking(True)\n",
    "#arm.set_num_planning_attempts\n",
    "#arm.clear_path_constraints()"
   ]
  },
  {
   "cell_type": "code",
   "execution_count": 9,
   "id": "00a0ab10",
   "metadata": {},
   "outputs": [],
   "source": [
    "cabeza.set_named_target(\"neutral\")\n",
    "arm.set_pose_target(goal_pose)"
   ]
  },
  {
   "cell_type": "code",
   "execution_count": 10,
   "id": "859e89b2",
   "metadata": {},
   "outputs": [
    {
     "data": {
      "text/plain": [
       "workspace_parameters: \n",
       "  header: \n",
       "    seq: 0\n",
       "    stamp: \n",
       "      secs: 0\n",
       "      nsecs:         0\n",
       "    frame_id: ''\n",
       "  min_corner: \n",
       "    x: 0.0\n",
       "    y: 0.0\n",
       "    z: 0.0\n",
       "  max_corner: \n",
       "    x: 0.0\n",
       "    y: 0.0\n",
       "    z: 0.0\n",
       "start_state: \n",
       "  joint_state: \n",
       "    header: \n",
       "      seq: 0\n",
       "      stamp: \n",
       "        secs: 0\n",
       "        nsecs:         0\n",
       "      frame_id: ''\n",
       "    name: []\n",
       "    position: []\n",
       "    velocity: []\n",
       "    effort: []\n",
       "  multi_dof_joint_state: \n",
       "    header: \n",
       "      seq: 0\n",
       "      stamp: \n",
       "        secs: 0\n",
       "        nsecs:         0\n",
       "      frame_id: ''\n",
       "    joint_names: []\n",
       "    transforms: []\n",
       "    twist: []\n",
       "    wrench: []\n",
       "  attached_collision_objects: []\n",
       "  is_diff: True\n",
       "goal_constraints: \n",
       "  - \n",
       "    name: ''\n",
       "    joint_constraints: []\n",
       "    position_constraints: \n",
       "      - \n",
       "        header: \n",
       "          seq: 0\n",
       "          stamp: \n",
       "            secs: 0\n",
       "            nsecs:         0\n",
       "          frame_id: \"odom\"\n",
       "        link_name: \"hand_palm_link\"\n",
       "        target_point_offset: \n",
       "          x: 0.0\n",
       "          y: 0.0\n",
       "          z: 0.0\n",
       "        constraint_region: \n",
       "          primitives: \n",
       "            - \n",
       "              type: 2\n",
       "              dimensions: [0.0001]\n",
       "          primitive_poses: \n",
       "            - \n",
       "              position: \n",
       "                x: 0.5580594041096517\n",
       "                y: 0.06588019540257296\n",
       "                z: 0.8720899822011331\n",
       "              orientation: \n",
       "                x: 0.0\n",
       "                y: 0.0\n",
       "                z: 0.0\n",
       "                w: 1.0\n",
       "          meshes: []\n",
       "          mesh_poses: []\n",
       "        weight: 1.0\n",
       "    orientation_constraints: \n",
       "      - \n",
       "        header: \n",
       "          seq: 0\n",
       "          stamp: \n",
       "            secs: 0\n",
       "            nsecs:         0\n",
       "          frame_id: \"odom\"\n",
       "        orientation: \n",
       "          x: -0.7052513674325422\n",
       "          y: -0.04800163682637454\n",
       "          z: -0.7057124302224227\n",
       "          w: 0.04781545175024337\n",
       "        link_name: \"hand_palm_link\"\n",
       "        absolute_x_axis_tolerance: 0.001\n",
       "        absolute_y_axis_tolerance: 0.001\n",
       "        absolute_z_axis_tolerance: 0.001\n",
       "        parameterization: 0\n",
       "        weight: 1.0\n",
       "    visibility_constraints: []\n",
       "path_constraints: \n",
       "  name: ''\n",
       "  joint_constraints: []\n",
       "  position_constraints: []\n",
       "  orientation_constraints: []\n",
       "  visibility_constraints: []\n",
       "trajectory_constraints: \n",
       "  constraints: []\n",
       "reference_trajectories: []\n",
       "pipeline_id: ''\n",
       "planner_id: ''\n",
       "group_name: \"arm\"\n",
       "num_planning_attempts: 1\n",
       "allowed_planning_time: 5.0\n",
       "max_velocity_scaling_factor: 0.1\n",
       "max_acceleration_scaling_factor: 0.1\n",
       "cartesian_speed_limited_link: ''\n",
       "max_cartesian_speed: 0.0"
      ]
     },
     "execution_count": 10,
     "metadata": {},
     "output_type": "execute_result"
    }
   ],
   "source": [
    "#arm.go()\n",
    "arm.construct_motion_plan_request()"
   ]
  },
  {
   "cell_type": "code",
   "execution_count": 50,
   "id": "db668ff0",
   "metadata": {
    "scrolled": true
   },
   "outputs": [
    {
     "name": "stdout",
     "output_type": "stream",
     "text": [
      "[INFO] [1691614250.268674]: Distance to goal: 0.31, 0.01\n",
      "[INFO] [1691614250.473066]: Distance to goal: 0.30, -0.00\n",
      "[INFO] [1691614250.677178]: Distance to goal: 0.27, -0.00\n",
      "[INFO] [1691614250.880480]: Distance to goal: 0.26, -0.01\n",
      "[INFO] [1691614251.085984]: Distance to goal: 0.24, -0.01\n",
      "[INFO] [1691614251.292483]: Distance to goal: 0.21, -0.01\n",
      "[INFO] [1691614251.497704]: Distance to goal: 0.20, -0.01\n",
      "[INFO] [1691614251.702469]: Distance to goal: 0.18, -0.02\n",
      "[INFO] [1691614251.907971]: Distance to goal: 0.16, -0.02\n",
      "[INFO] [1691614252.112696]: Distance to goal: 0.15, -0.02\n",
      "[INFO] [1691614252.318752]: Distance to goal: 0.14, -0.02\n",
      "[INFO] [1691614252.524636]: Distance to goal: 0.13, -0.02\n",
      "[INFO] [1691614252.730635]: Distance to goal: 0.11, -0.02\n",
      "[INFO] [1691614252.935005]: Distance to goal: 0.10, -0.02\n",
      "[INFO] [1691614253.139434]: Distance to goal: 0.09, -0.01\n",
      "[INFO] [1691614253.346719]: Distance to goal: 0.09, -0.01\n",
      "[INFO] [1691614253.551226]: Distance to goal: 0.07, -0.01\n",
      "[INFO] [1691614253.759522]: Distance to goal: 0.07, -0.01\n",
      "[INFO] [1691614253.965690]: Distance to goal: 0.06, -0.01\n",
      "[INFO] [1691614254.172040]: Distance to goal: 0.06, -0.01\n",
      "[INFO] [1691614254.376472]: Distance to goal: 0.05, -0.01\n",
      "[INFO] [1691614254.581656]: Distance to goal: 0.05, -0.01\n",
      "[INFO] [1691614254.786241]: Distance to goal: 0.04, -0.01\n",
      "[INFO] [1691614254.991967]: Distance to goal: 0.04, -0.01\n",
      "[INFO] [1691614255.198091]: Distance to goal: 0.03, -0.01\n",
      "[INFO] [1691614255.403052]: Distance to goal: 0.03, -0.01\n",
      "[INFO] [1691614255.613066]: Distance to goal: 0.03, -0.01\n",
      "[INFO] [1691614255.817083]: Distance to goal: 0.02, -0.01\n",
      "[INFO] [1691614256.024366]: Distance to goal: 0.02, -0.01\n",
      "[INFO] [1691614256.228233]: Distance to goal: 0.02, -0.01\n",
      "[INFO] [1691614256.435659]: Distance to goal: 0.02, -0.01\n",
      "[INFO] [1691614256.640335]: Distance to goal: 0.02, -0.01\n",
      "[INFO] [1691614256.844702]: Distance to goal: 0.02, -0.01\n",
      "[INFO] [1691614257.051249]: Distance to goal: 0.01, -0.01\n",
      "[INFO] [1691614257.256722]: Distance to goal: 0.01, -0.01\n",
      "[INFO] [1691614257.462802]: Distance to goal: 0.01, -0.00\n",
      "[INFO] [1691614257.666916]: Distance to goal: 0.01, -0.00\n"
     ]
    },
    {
     "data": {
      "text/plain": [
       "True"
      ]
     },
     "execution_count": 50,
     "metadata": {},
     "output_type": "execute_result"
    }
   ],
   "source": [
    "brazo.move_hand_to_target(target_frame=\"cassette\", THRESHOLD = 0.01)"
   ]
  },
  {
   "cell_type": "code",
   "execution_count": 53,
   "id": "34424a9c",
   "metadata": {},
   "outputs": [],
   "source": [
    "omni_base.tiny_move(velX=0.05, MAX_VEL=0.01)"
   ]
  },
  {
   "cell_type": "code",
   "execution_count": 54,
   "id": "10395420",
   "metadata": {},
   "outputs": [],
   "source": [
    "gripper.close()"
   ]
  },
  {
   "cell_type": "code",
   "execution_count": 55,
   "id": "d90df4e5",
   "metadata": {},
   "outputs": [],
   "source": [
    "ap = brazo.get_joint_values()"
   ]
  },
  {
   "cell_type": "code",
   "execution_count": 56,
   "id": "279d2753",
   "metadata": {},
   "outputs": [
    {
     "data": {
      "text/plain": [
       "True"
      ]
     },
     "execution_count": 56,
     "metadata": {},
     "output_type": "execute_result"
    }
   ],
   "source": [
    "ap[0]+= 0.05\n",
    "brazo.set_joint_values(ap)"
   ]
  },
  {
   "cell_type": "code",
   "execution_count": 57,
   "id": "1d700cba",
   "metadata": {},
   "outputs": [
    {
     "data": {
      "text/plain": [
       "[-0.019295884389545197, -0.2022459259575491, -0.28068189503734003]"
      ]
     },
     "execution_count": 57,
     "metadata": {},
     "output_type": "execute_result"
    }
   ],
   "source": [
    "wrist.get_force()"
   ]
  },
  {
   "cell_type": "code",
   "execution_count": 64,
   "id": "3c66b9eb",
   "metadata": {},
   "outputs": [],
   "source": [
    "omni_base.tiny_move(velX=-0.05)"
   ]
  },
  {
   "cell_type": "code",
   "execution_count": 65,
   "id": "78884ed3",
   "metadata": {},
   "outputs": [
    {
     "data": {
      "text/plain": [
       "True"
      ]
     },
     "execution_count": 65,
     "metadata": {},
     "output_type": "execute_result"
    }
   ],
   "source": [
    "arm.set_named_target(\"go\")\n",
    "arm.go()"
   ]
  },
  {
   "cell_type": "code",
   "execution_count": 10,
   "id": "8311df46",
   "metadata": {},
   "outputs": [],
   "source": [
    "scene = moveit_commander.PlanningSceneInterface()\n",
    "pos,rot = tf_man.getTF(target_frame=\"ar_marker/201\", ref_frame=\"odom\")\n",
    "pos[2] += 0.08\n",
    "position = Point(*pos)\n",
    "quat = Quaternion(*[0,0,0,1])\n",
    "goal_pose = Pose()\n",
    "goal_pose.position = position\n",
    "goal_pose.orientation = quat\n",
    "# Nombre del objeto y tamaño\n",
    "object_name = \"cassette\"\n",
    "object_size = (0.1, 0.02, 0.1)\n",
    "\n",
    "# Posición y orientación del objeto\n",
    "\n",
    "\n",
    "# Agregar el objeto a la escena\n",
    "add_object_to_scene(scene, object_name, goal_pose, object_size)"
   ]
  },
  {
   "cell_type": "code",
   "execution_count": 12,
   "id": "acdedcf9",
   "metadata": {},
   "outputs": [
    {
     "name": "stderr",
     "output_type": "stream",
     "text": [
      "\u001b[33m[ WARN] [1691683934.208877743]: Fail: ABORTED: No motion plan found. No execution attempted.\u001b[0m\n"
     ]
    },
    {
     "data": {
      "text/plain": [
       "-1"
      ]
     },
     "execution_count": 12,
     "metadata": {},
     "output_type": "execute_result"
    }
   ],
   "source": [
    "wb.pick(object_name=\"cassette\")"
   ]
  },
  {
   "cell_type": "code",
   "execution_count": 27,
   "id": "ecffc1fb",
   "metadata": {},
   "outputs": [],
   "source": [
    "import sys\n",
    "import rospy\n",
    "import moveit_commander\n",
    "import moveit_msgs.msg\n",
    "import geometry_msgs.msg\n",
    "\n",
    "def pick_demo():\n",
    "    # Inicializar el nodo ROS\n",
    "    #rospy.init_node('pick_demo', anonymous=True)\n",
    "\n",
    "    # Inicializar MoveIt! Commander\n",
    "    #moveit_commander.roscpp_initialize(sys.argv)\n",
    "    robot = moveit_commander.RobotCommander()\n",
    "    scene = moveit_commander.PlanningSceneInterface()\n",
    "    #wb = moveit_commander.MoveGroupCommander(\"whole_body_weighted\")  # Nombre del grupo de manipulación\n",
    "\n",
    "    # Nombre del objeto a recoger\n",
    "    object_name = \"cassette\"\n",
    "\n",
    "    # Crear un mensaje de agarre\n",
    "    grasp = moveit_msgs.msg.Grasp()\n",
    "    grasp.id = \"my_grasp\"\n",
    "\n",
    "    # Definir la pose del objeto para agarrar\n",
    "    #object_pose = geometry_msgs.msg.PoseStamped()\n",
    "    #object_pose.header.frame_id = robot.get_planning_frame()\n",
    "    #object_pose.pose.position.x = 0.5\n",
    "    #object_pose.pose.position.y = 0.0\n",
    "    #object_pose.pose.position.z = 0.1\n",
    "    #object_pose.pose.orientation.w = 1.0\n",
    "    pos,rot = tf_man.getTF(target_frame=\"ar_marker/201\", ref_frame=\"odom\")\n",
    "    pos[2] += 0.08\n",
    "    position = Point(*pos)\n",
    "    quat = Quaternion(*[0,0,0,1])\n",
    "    goal_pose = Pose()\n",
    "    goal_pose.position = position\n",
    "    goal_pose.orientation = quat\n",
    "    # Nombre del objeto y tamaño\n",
    "    object_name = \"cassette\"\n",
    "    object_size = (0.1, 0.02, 0.1)\n",
    "\n",
    "# Posición y orientación del objeto\n",
    "\n",
    "\n",
    "# Agregar el objeto a la escena\n",
    "    add_object_to_scene(scene, object_name, goal_pose, object_size)\n",
    "\n",
    "    grasp.grasp_pose = goal_pose\n",
    "\n",
    "    # Configurar la prensa\n",
    "    gripper_joint_values = [0.5]  # Valores de las articulaciones del gripper\n",
    "    grasp.pre_grasp_posture = robot.get_current_state().joint_state.position\n",
    "\n",
    "    # Definir la postura de agarre\n",
    "    grasp.grasp_posture = robot.get_current_state().joint_state.position\n",
    "\n",
    "    # Definir la tolerancia de toque\n",
    "    grasp.grasp_quality = 1.0\n",
    "\n",
    "    # Definir la orientación de la prensa\n",
    "    grasp.allowed_touch_objects = [object_name]\n",
    "\n",
    "    # Configurar los planes de agarre y retirada\n",
    "    approach = moveit_msgs.msg.PlanningScene()\n",
    "\n",
    "    approach_group_name = wb.get_name()\n",
    "    approach_group_name = approach_group_name + \"_t\"\n",
    "    #approach.group_name = approach_group_name\n",
    "    #approach.allowed_planning_time = 5.0\n",
    "    #approach.planner_id = \"RRTConnectkConfigDefault\"\n",
    "\n",
    "    retreat = moveit_msgs.msg.PlanningScene()\n",
    "    retreat_group_name = wb.get_name()\n",
    "    retreat_group_name = retreat_group_name + \"_t\"\n",
    "    #retreat.group_name = retreat_group_name\n",
    "    #retreat.allowed_planning_time = 5.0\n",
    "    #retreat.planner_id = \"RRTConnectkConfigDefault\"\n",
    "\n",
    "    # Agregar el objeto a la escena\n",
    "    #scene.add_box(object_name, object_pose, size=(0.05, 0.05, 0.05))\n",
    "\n",
    "    # Llamar a la función pick\n",
    "    wb.pick(object_name, grasp)"
   ]
  },
  {
   "cell_type": "code",
   "execution_count": 28,
   "id": "2c0a2972",
   "metadata": {},
   "outputs": [
    {
     "ename": "AttributeError",
     "evalue": "'tuple' object has no attribute 'header'",
     "output_type": "error",
     "traceback": [
      "\u001b[0;31m---------------------------------------------------------------------------\u001b[0m",
      "\u001b[0;31mAttributeError\u001b[0m                            Traceback (most recent call last)",
      "Input \u001b[0;32mIn [28]\u001b[0m, in \u001b[0;36m<cell line: 1>\u001b[0;34m()\u001b[0m\n\u001b[0;32m----> 1\u001b[0m \u001b[43mpick_demo\u001b[49m\u001b[43m(\u001b[49m\u001b[43m)\u001b[49m\n",
      "Input \u001b[0;32mIn [27]\u001b[0m, in \u001b[0;36mpick_demo\u001b[0;34m()\u001b[0m\n\u001b[1;32m     74\u001b[0m retreat_group_name \u001b[38;5;241m=\u001b[39m retreat_group_name \u001b[38;5;241m+\u001b[39m \u001b[38;5;124m\"\u001b[39m\u001b[38;5;124m_t\u001b[39m\u001b[38;5;124m\"\u001b[39m\n\u001b[1;32m     75\u001b[0m \u001b[38;5;66;03m#retreat.group_name = retreat_group_name\u001b[39;00m\n\u001b[1;32m     76\u001b[0m \u001b[38;5;66;03m#retreat.allowed_planning_time = 5.0\u001b[39;00m\n\u001b[1;32m     77\u001b[0m \u001b[38;5;66;03m#retreat.planner_id = \"RRTConnectkConfigDefault\"\u001b[39;00m\n\u001b[0;32m   (...)\u001b[0m\n\u001b[1;32m     81\u001b[0m \n\u001b[1;32m     82\u001b[0m \u001b[38;5;66;03m# Llamar a la función pick\u001b[39;00m\n\u001b[0;32m---> 83\u001b[0m \u001b[43mwb\u001b[49m\u001b[38;5;241;43m.\u001b[39;49m\u001b[43mpick\u001b[49m\u001b[43m(\u001b[49m\u001b[43mobject_name\u001b[49m\u001b[43m,\u001b[49m\u001b[43m \u001b[49m\u001b[43mgrasp\u001b[49m\u001b[43m)\u001b[49m\n",
      "File \u001b[0;32m/opt/ros/noetic/lib/python3/dist-packages/moveit_commander/move_group.py:707\u001b[0m, in \u001b[0;36mMoveGroupCommander.pick\u001b[0;34m(self, object_name, grasp, plan_only)\u001b[0m\n\u001b[1;32m    704\u001b[0m \u001b[38;5;124;03m\"\"\"Pick the named object. A grasp message, or a list of Grasp messages can also be specified as argument.\"\"\"\u001b[39;00m\n\u001b[1;32m    705\u001b[0m \u001b[38;5;28;01mif\u001b[39;00m \u001b[38;5;28mtype\u001b[39m(grasp) \u001b[38;5;129;01mis\u001b[39;00m Grasp:\n\u001b[1;32m    706\u001b[0m     \u001b[38;5;28;01mreturn\u001b[39;00m \u001b[38;5;28mself\u001b[39m\u001b[38;5;241m.\u001b[39m_g\u001b[38;5;241m.\u001b[39mpick(\n\u001b[0;32m--> 707\u001b[0m         object_name, \u001b[43mconversions\u001b[49m\u001b[38;5;241;43m.\u001b[39;49m\u001b[43mmsg_to_string\u001b[49m\u001b[43m(\u001b[49m\u001b[43mgrasp\u001b[49m\u001b[43m)\u001b[49m, plan_only\n\u001b[1;32m    708\u001b[0m     )\n\u001b[1;32m    709\u001b[0m \u001b[38;5;28;01melse\u001b[39;00m:\n\u001b[1;32m    710\u001b[0m     \u001b[38;5;28;01mreturn\u001b[39;00m \u001b[38;5;28mself\u001b[39m\u001b[38;5;241m.\u001b[39m_g\u001b[38;5;241m.\u001b[39mpick(\n\u001b[1;32m    711\u001b[0m         object_name, [conversions\u001b[38;5;241m.\u001b[39mmsg_to_string(x) \u001b[38;5;28;01mfor\u001b[39;00m x \u001b[38;5;129;01min\u001b[39;00m grasp], plan_only\n\u001b[1;32m    712\u001b[0m     )\n",
      "File \u001b[0;32m/opt/ros/noetic/lib/python3/dist-packages/moveit_commander/conversions.py:50\u001b[0m, in \u001b[0;36mmsg_to_string\u001b[0;34m(msg)\u001b[0m\n\u001b[1;32m     48\u001b[0m \u001b[38;5;28;01mdef\u001b[39;00m \u001b[38;5;21mmsg_to_string\u001b[39m(msg):\n\u001b[1;32m     49\u001b[0m     buf \u001b[38;5;241m=\u001b[39m StringIO()\n\u001b[0;32m---> 50\u001b[0m     \u001b[43mmsg\u001b[49m\u001b[38;5;241;43m.\u001b[39;49m\u001b[43mserialize\u001b[49m\u001b[43m(\u001b[49m\u001b[43mbuf\u001b[49m\u001b[43m)\u001b[49m\n\u001b[1;32m     51\u001b[0m     \u001b[38;5;28;01mreturn\u001b[39;00m buf\u001b[38;5;241m.\u001b[39mgetvalue()\n",
      "File \u001b[0;32m/opt/ros/noetic/lib/python3/dist-packages/moveit_msgs/msg/_Grasp.py:234\u001b[0m, in \u001b[0;36mGrasp.serialize\u001b[0;34m(self, buff)\u001b[0m\n\u001b[1;32m    232\u001b[0m buff\u001b[38;5;241m.\u001b[39mwrite(struct\u001b[38;5;241m.\u001b[39mStruct(\u001b[38;5;124m'\u001b[39m\u001b[38;5;124m<I\u001b[39m\u001b[38;5;132;01m%s\u001b[39;00m\u001b[38;5;124ms\u001b[39m\u001b[38;5;124m'\u001b[39m\u001b[38;5;241m%\u001b[39mlength)\u001b[38;5;241m.\u001b[39mpack(length, _x))\n\u001b[1;32m    233\u001b[0m _x \u001b[38;5;241m=\u001b[39m \u001b[38;5;28mself\u001b[39m\n\u001b[0;32m--> 234\u001b[0m buff\u001b[38;5;241m.\u001b[39mwrite(_get_struct_3I()\u001b[38;5;241m.\u001b[39mpack(\u001b[43m_x\u001b[49m\u001b[38;5;241;43m.\u001b[39;49m\u001b[43mpre_grasp_posture\u001b[49m\u001b[38;5;241;43m.\u001b[39;49m\u001b[43mheader\u001b[49m\u001b[38;5;241m.\u001b[39mseq, _x\u001b[38;5;241m.\u001b[39mpre_grasp_posture\u001b[38;5;241m.\u001b[39mheader\u001b[38;5;241m.\u001b[39mstamp\u001b[38;5;241m.\u001b[39msecs, _x\u001b[38;5;241m.\u001b[39mpre_grasp_posture\u001b[38;5;241m.\u001b[39mheader\u001b[38;5;241m.\u001b[39mstamp\u001b[38;5;241m.\u001b[39mnsecs))\n\u001b[1;32m    235\u001b[0m _x \u001b[38;5;241m=\u001b[39m \u001b[38;5;28mself\u001b[39m\u001b[38;5;241m.\u001b[39mpre_grasp_posture\u001b[38;5;241m.\u001b[39mheader\u001b[38;5;241m.\u001b[39mframe_id\n\u001b[1;32m    236\u001b[0m length \u001b[38;5;241m=\u001b[39m \u001b[38;5;28mlen\u001b[39m(_x)\n",
      "\u001b[0;31mAttributeError\u001b[0m: 'tuple' object has no attribute 'header'"
     ]
    }
   ],
   "source": [
    "pick_demo()"
   ]
  },
  {
   "cell_type": "code",
   "execution_count": null,
   "id": "f488d8bf",
   "metadata": {},
   "outputs": [],
   "source": [
    "#!/usr/bin/env python3\n",
    "\n",
    "import rospy\n",
    "import moveit_commander\n",
    "import moveit_msgs.msg\n",
    "import geometry_msgs.msg\n",
    "import tf2_geometry_msgs\n",
    "from math import pi\n",
    "\n",
    "def open_gripper(posture):\n",
    "    posture.joint_names = [\"hand_motor_joint\"]\n",
    "    posture.points = [moveit_msgs.msg.JointTrajectoryPoint()]\n",
    "    posture.points[0].positions = [0.04]\n",
    "    posture.points[0].time_from_start = rospy.Duration(0.5)\n",
    "\n",
    "def closed_gripper(posture):\n",
    "    posture.joint_names = [\"hand_motor_joint\"\"]\n",
    "    posture.points = [moveit_msgs.msg.JointTrajectoryPoint()]\n",
    "    posture.points[0].positions = [0.0]\n",
    "    posture.points[0].time_from_start = rospy.Duration(0.5)\n",
    "\n",
    "def pick(move_group):\n",
    "    grasps = []\n",
    "    grasps.append(moveit_msgs.msg.Grasp())\n",
    "\n",
    "    # Setting grasp pose\n",
    "    grasp_pose = geometry_msgs.msg.PoseStamped()\n",
    "    grasp_pose.header.frame_id = \"odom\"\n",
    "    grasp_pose.pose.orientation = tf2_geometry_msgs.msg.Quaternion()\n",
    "    orientation = tf2_geometry_msgs.msg.Quaternion()\n",
    "    orientation.setRPY(-pi/4, -pi/8, -pi/4)\n",
    "    grasp_pose.pose.orientation = orientation\n",
    "    grasp_pose.pose.position.x = 0.415\n",
    "    grasp_pose.pose.position.y = 0\n",
    "    grasp_pose.pose.position.z = 0.5\n",
    "    grasps[0].grasp_pose = grasp_pose.pose\n",
    "\n",
    "    # Setting pre-grasp approach\n",
    "    pre_grasp_approach = moveit_msgs.msg.GripperTranslation()\n",
    "    pre_grasp_approach.direction.header.frame_id = \"odom\"\n",
    "    pre_grasp_approach.direction.vector.x = 1.0\n",
    "    pre_grasp_approach.min_distance = 0.095\n",
    "    pre_grasp_approach.desired_distance = 0.115\n",
    "    grasps[0].pre_grasp_approach = pre_grasp_approach\n",
    "\n",
    "    # Setting post-grasp retreat\n",
    "    post_grasp_retreat = moveit_msgs.msg.GripperTranslation()\n",
    "    post_grasp_retreat.direction.header.frame_id = \"odom\"\n",
    "    post_grasp_retreat.direction.vector.z = 1.0\n",
    "    post_grasp_retreat.min_distance = 0.1\n",
    "    post_grasp_retreat.desired_distance = 0.25\n",
    "    grasps[0].post_grasp_retreat = post_grasp_retreat\n",
    "\n",
    "    # Setting posture of eef before grasp\n",
    "    open_gripper(grasps[0].pre_grasp_posture)\n",
    "\n",
    "    # Setting posture of eef during grasp\n",
    "    closed_gripper(grasps[0].grasp_posture)\n",
    "\n",
    "    # Set support surface as table1\n",
    "    move_group.set_support_surface_name(\"table1\")\n",
    "\n",
    "    # Call pick to pick up the object using the grasps given\n",
    "    move_group.pick(\"object\", grasps)\n",
    "\n",
    "def place(move_group):\n",
    "    place_location = []\n",
    "    place_location.append(moveit_msgs.msg.PlaceLocation())\n",
    "\n",
    "    # Setting place location pose\n",
    "    place_pose = geometry_msgs.msg.PoseStamped()\n",
    "    place_pose.header.frame_id = \"odom\"\n",
    "    orientation = tf2_geometry_msgs.msg.Quaternion()\n",
    "    orientation.setRPY(0, 0, pi/4)\n",
    "    place_pose.pose.orientation = orientation\n",
    "    place_pose.pose.position.x = 0\n",
    "    place_pose.pose.position.y = 0.5\n",
    "    place_pose.pose.position.z = 0.5\n",
    "    place_location[0].place_pose = place_pose.pose\n",
    "\n",
    "    # Setting pre-place approach\n",
    "    pre_place_approach = moveit_msgs.msg.GripperTranslation()\n",
    "    pre_place_approach.direction.header.frame_id = \"odom\"\n",
    "    pre_place_approach.direction.vector.z = -1.0\n",
    "    pre_place_approach.min_distance = 0.095\n",
    "    pre_place_approach.desired_distance = 0.115\n",
    "    place_location[0].pre_place_approach = pre_place_approach\n",
    "\n",
    "    # Setting post-place retreat\n",
    "    post_place_retreat = moveit_msgs.msg.GripperTranslation()\n",
    "    post_place_retreat.direction.header.frame_id = \"odom\"\n",
    "    post_place_retreat.direction.vector.y = -1.0\n",
    "    post_place_retreat.min_distance = 0.1\n",
    "    post_place_retreat.desired_distance = 0.25\n",
    "    place_location[0].post_place_retreat = post_place_retreat\n",
    "\n",
    "    # Setting posture of eef after placing object\n",
    "    open_gripper(place_location[0].post_place_posture)\n",
    "\n",
    "    # Set support surface as table2\n",
    "    move_group.set_support_surface_name(\"table2\")\n",
    "\n",
    "    # Call place to place the object using the place locations given\n",
    "    move_group.place(\"object\", place_location)\n",
    "\n",
    "def add_collision_objects(scene):\n",
    "    collision_objects = []\n",
    "\n",
    "    # Add the first table where the cube will originally be kept.\n",
    "    table1 = moveit_msgs.msg.CollisionObject()\n",
    "    table1.id = \"table1\"\n",
    "    table1.header.frame_id = \"odom\"\n",
    "    table1.primitives.append(geometry_msgs.msg.SolidPrimitive())\n",
    "    table1.primitives[0].type = table1.primitives[0].BOX\n",
    "    table1.primitives[0].dimensions = [0.2, 0.4, 0.4]\n",
    "    table1.primitive_poses.append(geometry_msgs.msg.Pose())\n",
    "    table1.primitive_poses[0].position.x = 0.5\n",
    "    table1.primitive_poses[0].position.y = 0\n",
    "    table1.primitive_poses[0].position.z = 0.2\n",
    "    table1.primitive_poses[0].orientation.w = 1.0\n",
    "    table1.operation = table1.ADD\n",
    "    collision_objects.append(table1)\n",
    "\n",
    "    # Add the second table where we will be placing the cube.\n",
    "    table2 = moveit_msgs.msg.CollisionObject()\n",
    "    table2.id = \"table2\"\n",
    "    table2.header.frame_id = \"odom\"\n",
    "    table2.primitives.append(geometry_msgs.msg.SolidPrimitive())\n",
    "    table2.primitives[0].type = table2.primitives[0].BOX\n",
    "    table2.primitives[0].dimensions = [0.4, 0.2, 0.4]\n",
    "    table2.primitive_poses.append(geometry_msgs.msg.Pose())\n",
    "    table2.primitive_poses[0].position.x = 0\n",
    "    table2.primitive_poses[0].position.y = 0.5\n",
    "    table2.primitive_poses[0].position.z = 0.2\n",
    "    table2.primitive_poses[0].orientation.w = 1.0\n",
    "    table2.operation = table2.ADD\n",
    "    collision_objects.append(table2)\n",
    "\n",
    "    # Define the object that we will be manipulating\n",
    "    obj = moveit_msgs.msg.CollisionObject()\n",
    "    obj.header.frame_id = \"odom\"\n",
    "    obj.id = \"object\"\n",
    "    obj.primitives.append(geometry_msgs.msg.SolidPrimitive())\n",
    "    obj.primitives[0].type = obj.primitives[0].BOX\n",
    "    obj.primitives[0].dimensions = [0.02, 0.02, 0.2]\n",
    "    obj.primitive_poses.append(geometry_msgs.msg.Pose())\n",
    "    obj.primitive_poses[0].position.x = 0.5\n",
    "    obj.primitive_poses[0].position.y = 0\n",
    "    obj.primitive_poses[0].position.z = 0.5\n",
    "    obj.primitive_poses[0].orientation.w = 1.0\n",
    "    obj.operation = obj.ADD\n",
    "    collision_objects.append(obj)\n",
    "\n",
    "    scene.add_collision_objects(collision_objects)\n",
    "\n",
    "def main():\n",
    "    rospy.init_node('hsrb_arm_pick_place', anonymous=True)\n",
    "    rospy.sleep(1.0)\n",
    "    moveit_commander.roscpp_initialize(sys.argv)\n",
    "    robot = moveit_commander.RobotCommander()\n",
    "    group = moveit_commander.MoveGroupCommander(\"whole_body_weighted\")\n",
    "    group.set_planning_time(45.0)\n",
    "    scene = moveit_commander.PlanningSceneInterface()\n",
    "\n",
    "    add_collision_objects(scene)\n",
    "\n",
    "    rospy.sleep(1.0)\n",
    "\n",
    "    pick(group)\n",
    "\n",
    "    rospy.sleep(1.0)\n",
    "\n",
    "    place(group)\n",
    "\n",
    "    rospy.spin()\n",
    "\n",
    "if __name__ == '__main__':\n",
    "    try:\n",
    "        main()\n",
    "    except rospy.ROSInterruptException:\n",
    "        pass\n"
   ]
  }
 ],
 "metadata": {
  "kernelspec": {
   "display_name": "Python 3 (ipykernel)",
   "language": "python",
   "name": "python3"
  },
  "language_info": {
   "codemirror_mode": {
    "name": "ipython",
    "version": 3
   },
   "file_extension": ".py",
   "mimetype": "text/x-python",
   "name": "python",
   "nbconvert_exporter": "python",
   "pygments_lexer": "ipython3",
   "version": "3.8.10"
  }
 },
 "nbformat": 4,
 "nbformat_minor": 5
}
