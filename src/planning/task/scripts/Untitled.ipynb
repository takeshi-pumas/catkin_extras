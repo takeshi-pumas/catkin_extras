{
 "cells": [
  {
   "cell_type": "code",
   "execution_count": 1,
   "id": "9fb97171",
   "metadata": {},
   "outputs": [
    {
     "name": "stderr",
     "output_type": "stream",
     "text": [
      "\u001b[33m[ WARN] [1688561570.931106976]: TF_REPEATED_DATA ignoring data with redundant timestamp for frame odom at time 1003.767000 according to authority /pose_integrator\u001b[0m\n"
     ]
    }
   ],
   "source": [
    "from smach_utils2 import *"
   ]
  },
  {
   "cell_type": "code",
   "execution_count": 14,
   "id": "ad2ae412",
   "metadata": {
    "scrolled": true
   },
   "outputs": [
    {
     "name": "stderr",
     "output_type": "stream",
     "text": [
      "\u001b[33m[ WARN] [1688562167.978274270]: TF_REPEATED_DATA ignoring data with redundant timestamp for frame odom at time 1258.041000 according to authority /pose_integrator\u001b[0m\n",
      "\u001b[33m[ WARN] [1688562167.978367066]: TF_REPEATED_DATA ignoring data with redundant timestamp for frame odom at time 1258.041000 according to authority /pose_integrator\u001b[0m\n",
      "\u001b[33m[ WARN] [1688562167.978424035]: TF_REPEATED_DATA ignoring data with redundant timestamp for frame odom at time 1258.041000 according to authority /pose_integrator\u001b[0m\n",
      "\u001b[33m[ WARN] [1688562167.978471513]: TF_REPEATED_DATA ignoring data with redundant timestamp for frame odom at time 1258.041000 according to authority /pose_integrator\u001b[0m\n",
      "\u001b[33m[ WARN] [1688562167.978510661]: TF_REPEATED_DATA ignoring data with redundant timestamp for frame odom at time 1258.041000 according to authority /pose_integrator\u001b[0m\n",
      "\u001b[33m[ WARN] [1688562167.978558023]: TF_REPEATED_DATA ignoring data with redundant timestamp for frame odom at time 1258.041000 according to authority /pose_integrator\u001b[0m\n",
      "\u001b[33m[ WARN] [1688562170.525006342]: TF_REPEATED_DATA ignoring data with redundant timestamp for frame odom at time 1258.897000 according to authority /pose_integrator\u001b[0m\n",
      "\u001b[33m[ WARN] [1688562170.525060163]: TF_REPEATED_DATA ignoring data with redundant timestamp for frame odom at time 1258.897000 according to authority /pose_integrator\u001b[0m\n",
      "\u001b[33m[ WARN] [1688562170.525100373]: TF_REPEATED_DATA ignoring data with redundant timestamp for frame odom at time 1258.897000 according to authority /pose_integrator\u001b[0m\n",
      "\u001b[33m[ WARN] [1688562170.525127868]: TF_REPEATED_DATA ignoring data with redundant timestamp for frame odom at time 1258.897000 according to authority /pose_integrator\u001b[0m\n",
      "\u001b[33m[ WARN] [1688562170.525153538]: TF_REPEATED_DATA ignoring data with redundant timestamp for frame odom at time 1258.897000 according to authority /pose_integrator\u001b[0m\n",
      "\u001b[33m[ WARN] [1688562170.525193176]: TF_REPEATED_DATA ignoring data with redundant timestamp for frame odom at time 1258.897000 according to authority /pose_integrator\u001b[0m\n",
      "\u001b[33m[ WARN] [1688562170.633952414]: TF_REPEATED_DATA ignoring data with redundant timestamp for frame odom at time 1258.941000 according to authority /pose_integrator\u001b[0m\n",
      "\u001b[33m[ WARN] [1688562170.634002503]: TF_REPEATED_DATA ignoring data with redundant timestamp for frame odom at time 1258.941000 according to authority /pose_integrator\u001b[0m\n",
      "\u001b[33m[ WARN] [1688562170.634034147]: TF_REPEATED_DATA ignoring data with redundant timestamp for frame odom at time 1258.941000 according to authority /pose_integrator\u001b[0m\n",
      "\u001b[33m[ WARN] [1688562170.634061350]: TF_REPEATED_DATA ignoring data with redundant timestamp for frame odom at time 1258.941000 according to authority /pose_integrator\u001b[0m\n",
      "\u001b[33m[ WARN] [1688562170.634087885]: TF_REPEATED_DATA ignoring data with redundant timestamp for frame odom at time 1258.941000 according to authority /pose_integrator\u001b[0m\n",
      "\u001b[33m[ WARN] [1688562170.634114428]: TF_REPEATED_DATA ignoring data with redundant timestamp for frame odom at time 1258.941000 according to authority /pose_integrator\u001b[0m\n"
     ]
    },
    {
     "name": "stdout",
     "output_type": "stream",
     "text": [
      "x: -0.3426056504249573\n",
      "y: -0.7509381175041199\n",
      "z: 2.2705464363098145\n"
     ]
    }
   ],
   "source": [
    "human_pose = detect_human_to_tf()"
   ]
  },
  {
   "cell_type": "code",
   "execution_count": 15,
   "id": "c5fbbbb7",
   "metadata": {},
   "outputs": [
    {
     "name": "stdout",
     "output_type": "stream",
     "text": [
      "True\n"
     ]
    }
   ],
   "source": [
    "print(human_pose)"
   ]
  },
  {
   "cell_type": "code",
   "execution_count": 17,
   "id": "188c8ec2",
   "metadata": {},
   "outputs": [
    {
     "name": "stdout",
     "output_type": "stream",
     "text": [
      "Distance to face is :  2.594015128593624\n",
      "Navigation status:  1\n",
      "Navigation status:  1\n",
      "Navigation status:  3\n"
     ]
    },
    {
     "data": {
      "text/plain": [
       "True"
      ]
     },
     "execution_count": 17,
     "metadata": {},
     "output_type": "execute_result"
    },
    {
     "name": "stdout",
     "output_type": "stream",
     "text": [
      "Navigation status:  1\n",
      "Navigation status:  1\n",
      "Navigation status:  3\n"
     ]
    },
    {
     "name": "stderr",
     "output_type": "stream",
     "text": [
      "\u001b[33m[ WARN] [1688562475.323889198]: TF_REPEATED_DATA ignoring data with redundant timestamp for frame odom at time 1388.320000 according to authority /pose_integrator\u001b[0m\n",
      "\u001b[33m[ WARN] [1688562475.323953459]: TF_REPEATED_DATA ignoring data with redundant timestamp for frame odom at time 1388.320000 according to authority /pose_integrator\u001b[0m\n",
      "\u001b[33m[ WARN] [1688562475.323991904]: TF_REPEATED_DATA ignoring data with redundant timestamp for frame odom at time 1388.320000 according to authority /pose_integrator\u001b[0m\n",
      "\u001b[33m[ WARN] [1688562475.324021828]: TF_REPEATED_DATA ignoring data with redundant timestamp for frame odom at time 1388.320000 according to authority /pose_integrator\u001b[0m\n",
      "\u001b[33m[ WARN] [1688562475.324048702]: TF_REPEATED_DATA ignoring data with redundant timestamp for frame odom at time 1388.320000 according to authority /pose_integrator\u001b[0m\n",
      "\u001b[33m[ WARN] [1688562475.324085410]: TF_REPEATED_DATA ignoring data with redundant timestamp for frame odom at time 1388.320000 according to authority /pose_integrator\u001b[0m\n",
      "\u001b[33m[ WARN] [1688562478.856065877]: TF_REPEATED_DATA ignoring data with redundant timestamp for frame odom at time 1389.638000 according to authority /pose_integrator\u001b[0m\n",
      "\u001b[33m[ WARN] [1688562478.856124262]: TF_REPEATED_DATA ignoring data with redundant timestamp for frame odom at time 1389.638000 according to authority /pose_integrator\u001b[0m\n",
      "\u001b[33m[ WARN] [1688562478.856159339]: TF_REPEATED_DATA ignoring data with redundant timestamp for frame odom at time 1389.638000 according to authority /pose_integrator\u001b[0m\n",
      "\u001b[33m[ WARN] [1688562478.856190019]: TF_REPEATED_DATA ignoring data with redundant timestamp for frame odom at time 1389.638000 according to authority /pose_integrator\u001b[0m\n",
      "\u001b[33m[ WARN] [1688562478.856220153]: TF_REPEATED_DATA ignoring data with redundant timestamp for frame odom at time 1389.638000 according to authority /pose_integrator\u001b[0m\n",
      "\u001b[33m[ WARN] [1688562478.856250783]: TF_REPEATED_DATA ignoring data with redundant timestamp for frame odom at time 1389.638000 according to authority /pose_integrator\u001b[0m\n",
      "\u001b[33m[ WARN] [1688562506.682963345]: TF_REPEATED_DATA ignoring data with redundant timestamp for frame odom at time 1401.287000 according to authority /pose_integrator\u001b[0m\n",
      "\u001b[33m[ WARN] [1688562506.683024590]: TF_REPEATED_DATA ignoring data with redundant timestamp for frame odom at time 1401.287000 according to authority /pose_integrator\u001b[0m\n",
      "\u001b[33m[ WARN] [1688562506.683063417]: TF_REPEATED_DATA ignoring data with redundant timestamp for frame odom at time 1401.287000 according to authority /pose_integrator\u001b[0m\n",
      "\u001b[33m[ WARN] [1688562506.683100901]: TF_REPEATED_DATA ignoring data with redundant timestamp for frame odom at time 1401.287000 according to authority /pose_integrator\u001b[0m\n",
      "\u001b[33m[ WARN] [1688562506.683142401]: TF_REPEATED_DATA ignoring data with redundant timestamp for frame odom at time 1401.287000 according to authority /pose_integrator\u001b[0m\n",
      "\u001b[33m[ WARN] [1688562506.683184902]: TF_REPEATED_DATA ignoring data with redundant timestamp for frame odom at time 1401.287000 according to authority /pose_integrator\u001b[0m\n",
      "\u001b[33m[ WARN] [1688562983.550253206]: TF_REPEATED_DATA ignoring data with redundant timestamp for frame odom at time 1605.523000 according to authority /pose_integrator\u001b[0m\n",
      "\u001b[33m[ WARN] [1688562983.550318370]: TF_REPEATED_DATA ignoring data with redundant timestamp for frame odom at time 1605.523000 according to authority /pose_integrator\u001b[0m\n",
      "\u001b[33m[ WARN] [1688562983.550363339]: TF_REPEATED_DATA ignoring data with redundant timestamp for frame odom at time 1605.523000 according to authority /pose_integrator\u001b[0m\n",
      "\u001b[33m[ WARN] [1688562983.550407660]: TF_REPEATED_DATA ignoring data with redundant timestamp for frame odom at time 1605.523000 according to authority /pose_integrator\u001b[0m\n",
      "\u001b[33m[ WARN] [1688562983.550465381]: TF_REPEATED_DATA ignoring data with redundant timestamp for frame odom at time 1605.523000 according to authority /pose_integrator\u001b[0m\n",
      "\u001b[33m[ WARN] [1688562983.550504604]: TF_REPEATED_DATA ignoring data with redundant timestamp for frame odom at time 1605.523000 according to authority /pose_integrator\u001b[0m\n"
     ]
    }
   ],
   "source": [
    "            #place_face = place.replace(\"_\", \"_face\")\n",
    "            trans,_  = tf_man.getTF(target_frame = 'human', ref_frame= 'base_link')\n",
    "            distance = np.linalg.norm(np.array(trans))\n",
    "            print(\"Distance to face is : \", distance)\n",
    "            omni_base.move_d_to(distance*0.9, 'human') "
   ]
  },
  {
   "cell_type": "code",
   "execution_count": null,
   "id": "8ee7c543",
   "metadata": {},
   "outputs": [],
   "source": []
  }
 ],
 "metadata": {
  "kernelspec": {
   "display_name": "Python 3 (ipykernel)",
   "language": "python",
   "name": "python3"
  },
  "language_info": {
   "codemirror_mode": {
    "name": "ipython",
    "version": 3
   },
   "file_extension": ".py",
   "mimetype": "text/x-python",
   "name": "python",
   "nbconvert_exporter": "python",
   "pygments_lexer": "ipython3",
   "version": "3.8.10"
  }
 },
 "nbformat": 4,
 "nbformat_minor": 5
}
