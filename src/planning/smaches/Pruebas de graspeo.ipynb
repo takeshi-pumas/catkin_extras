{
 "cells": [
  {
   "cell_type": "raw",
   "metadata": {},
   "source": [
    "# Pruebas de pre grasp, grasp y post grasp del proyecto de Automatización de reproducción de cassetes"
   ]
  },
  {
   "cell_type": "raw",
   "metadata": {},
   "source": [
    "# para la prueba se supone que el robot está colocado en la posicion x, y, theta deseados "
   ]
  },
  {
   "cell_type": "code",
   "execution_count": 4,
   "metadata": {},
   "outputs": [],
   "source": [
    "#!/usr/bin/env python3\n",
    "import sys\n",
    "import smach\n",
    "import rospy\n",
    "import cv2 as cv\n",
    "import numpy as np\n",
    "from std_srvs.srv import Empty\n",
    "import moveit_commander\n",
    "import moveit_msgs.msg\n",
    "from geometry_msgs.msg import PoseStamped\n",
    "import tf2_ros as tf2\n",
    "from tf2_sensor_msgs.tf2_sensor_msgs import do_transform_cloud\n",
    "from utils_takeshi import *\n",
    "from utils.grasp_utils import *\n",
    "from utils.nav_utils import *"
   ]
  },
  {
   "cell_type": "code",
   "execution_count": 3,
   "metadata": {},
   "outputs": [],
   "source": [
    "np.float = np.float64\n",
    "import ros_numpy"
   ]
  },
  {
   "cell_type": "code",
   "execution_count": 7,
   "metadata": {
    "scrolled": true
   },
   "outputs": [],
   "source": [
    "global head, wb, arm, tf_man, gaze, robot, scene #wbw, wbl\n",
    "global rgbd, hand_cam, wrist, gripper, grasp_base, clear_octo_client, service_client, AR_starter, AR_stopper\n",
    "\n",
    "moveit_commander.roscpp_initialize(sys.argv)\n",
    "rospy.init_node('pruebas_de_graspeo')\n",
    "\n",
    "# head = moveit_commander.MoveGroupCommander('head')\n",
    "# wb = moveit_commander.MoveGroupCommander('whole_body')\n",
    "# arm =  moveit_commander.MoveGroupCommander('arm')\n",
    "# wbl = moveit_commander.MoveGroupCommander('whole_body_light')\n",
    "#wbw.set_workspace([-6.0, -6.0, 6.0, 6.0]) \n",
    "#wbl.set_workspace([-6.0, -6.0, 6.0, 6.0])  \n",
    "# wb.set_workspace([-6.0, -6.0, 6.0, 6.0])  \n",
    "    \n",
    "# robot = moveit_commander.RobotCommander()\n",
    "# scene = moveit_commander.PlanningSceneInterface()\n",
    "\n",
    "tf_man = TF_MANAGER()\n",
    "rgbd = RGBD()\n",
    "hand_cam = HAND_RGB()\n",
    "wrist = WRIST_SENSOR()\n",
    "gripper = GRIPPER()\n",
    "grasp_base = OMNIBASE()\n",
    "gaze = GAZE()\n",
    "arm=ARM()\n",
    "clear_octo_client = rospy.ServiceProxy('/clear_octomap', Empty)\n",
    "# AR_starter = rospy.ServiceProxy('/marker/start_recognition',Empty)\n",
    "# AR_stopper = rospy.ServiceProxy('/marker/stop_recognition',Empty)\n",
    "  \n",
    "# head.set_planning_time(0.3)\n",
    "# head.set_num_planning_attempts(1)\n",
    "# wb.set_num_planning_attempts(10)"
   ]
  },
  {
   "cell_type": "code",
   "execution_count": 11,
   "metadata": {
    "scrolled": true
   },
   "outputs": [
    {
     "name": "stdout",
     "output_type": "stream",
     "text": [
      "[INFO] [1727287808.050641]: Cant clear octomap\n"
     ]
    },
    {
     "ename": "NameError",
     "evalue": "name 'head' is not defined",
     "output_type": "error",
     "traceback": [
      "\u001b[0;31m---------------------------------------------------------------------------\u001b[0m",
      "\u001b[0;31mNameError\u001b[0m                                 Traceback (most recent call last)",
      "Input \u001b[0;32mIn [11]\u001b[0m, in \u001b[0;36m<cell line: 14>\u001b[0;34m()\u001b[0m\n\u001b[1;32m     12\u001b[0m \u001b[38;5;66;03m#arm.go()\u001b[39;00m\n\u001b[1;32m     13\u001b[0m gripper\u001b[38;5;241m.\u001b[39msteady()\n\u001b[0;32m---> 14\u001b[0m \u001b[43mhead\u001b[49m\u001b[38;5;241m.\u001b[39mset_named_target(\u001b[38;5;124m'\u001b[39m\u001b[38;5;124mneutral\u001b[39m\u001b[38;5;124m'\u001b[39m)\n\u001b[1;32m     15\u001b[0m succ \u001b[38;5;241m=\u001b[39m head\u001b[38;5;241m.\u001b[39mgo()\n\u001b[1;32m     16\u001b[0m \u001b[38;5;28;01mif\u001b[39;00m succ:\n",
      "\u001b[0;31mNameError\u001b[0m: name 'head' is not defined"
     ]
    }
   ],
   "source": [
    "#State initial\n",
    "gripper.open()\n",
    "#arm.clear_pose_targets()\n",
    "#wb.clear_pose_targets()\n",
    "try:\n",
    "    clear_octo_client()\n",
    "    AR_stopper.call()\n",
    "except:\n",
    "    rospy.loginfo('Cant clear octomap')\n",
    "#Takeshi neutral\n",
    "arm.set_named_target('go')\n",
    "#arm.go()\n",
    "gripper.steady()\n",
    "head.set_named_target('neutral')\n",
    "succ = head.go()\n",
    "if succ:\n",
    "    return 'succ'\n",
    "else:\n",
    "    return 'failed'"
   ]
  },
  {
   "cell_type": "code",
   "execution_count": 12,
   "metadata": {},
   "outputs": [
    {
     "name": "stdout",
     "output_type": "stream",
     "text": [
      "[INFO] [1727287825.674469]: Cant clear octomap\n"
     ]
    },
    {
     "ename": "AttributeError",
     "evalue": "'ARM' object has no attribute 'go'",
     "output_type": "error",
     "traceback": [
      "\u001b[0;31m---------------------------------------------------------------------------\u001b[0m",
      "\u001b[0;31mAttributeError\u001b[0m                            Traceback (most recent call last)",
      "Input \u001b[0;32mIn [12]\u001b[0m, in \u001b[0;36m<cell line: 9>\u001b[0;34m()\u001b[0m\n\u001b[1;32m      7\u001b[0m rospy\u001b[38;5;241m.\u001b[39msleep(\u001b[38;5;241m0.2\u001b[39m)\n\u001b[1;32m      8\u001b[0m arm\u001b[38;5;241m.\u001b[39mset_named_target(\u001b[38;5;124m'\u001b[39m\u001b[38;5;124mgo\u001b[39m\u001b[38;5;124m'\u001b[39m)\n\u001b[0;32m----> 9\u001b[0m \u001b[43marm\u001b[49m\u001b[38;5;241;43m.\u001b[39;49m\u001b[43mgo\u001b[49m()\n\u001b[1;32m     10\u001b[0m hcp \u001b[38;5;241m=\u001b[39m gaze\u001b[38;5;241m.\u001b[39mrelative(\u001b[38;5;241m1\u001b[39m,\u001b[38;5;241m0\u001b[39m,\u001b[38;5;241m0.7\u001b[39m)\n\u001b[1;32m     11\u001b[0m head\u001b[38;5;241m.\u001b[39mset_joint_value_target(hcp)\n",
      "\u001b[0;31mAttributeError\u001b[0m: 'ARM' object has no attribute 'go'"
     ]
    }
   ],
   "source": [
    "        # State Find AR marker\n",
    "        try:\n",
    "            AR_starter.call()\n",
    "            clear_octo_client()\n",
    "        except:\n",
    "            rospy.loginfo('Cant clear octomap')\n",
    "        rospy.sleep(0.2)\n",
    "        arm.set_named_target('go')\n",
    "        arm.go()\n",
    "        hcp = gaze.relative(1,0,0.7)\n",
    "        head.set_joint_value_target(hcp)\n",
    "        head.go()\n",
    "        succ = False\n",
    "        flag = 1\n",
    "        while not succ:\n",
    "            trans,rot = tf_man.getTF(target_frame='ar_marker/201', ref_frame='base_link')\n",
    "            print(trans)\n",
    "            if type(trans) is not bool:\n",
    "                tf_man.pub_static_tf(pos=trans, rot=rot, point_name='cassette', ref='base_link')\n",
    "                rospy.sleep(0.8)\n",
    "                while not tf_man.change_ref_frame_tf(point_name='cassette', new_frame='map'):\n",
    "                    rospy.sleep(0.8)\n",
    "                    rospy.loginfo('Change reference frame is not done yet')\n",
    "#                 return 'succ'\n",
    "            else:\n",
    "                gazeY = 0.5 \n",
    "                if flag == 1:\n",
    "                    flag += 1\n",
    "                elif flag == 2:\n",
    "                    gazeY = -0.5\n",
    "                    flag += 1\n",
    "                else:\n",
    "                    head.set_named_target('neutral')\n",
    "                    head.go() \n",
    "#                     return 'tries'\n",
    "                hcp = gaze.relative(0.7,gazeY,0.7)\n",
    "                head.set_joint_value_target(hcp)\n",
    "                head.go()\n",
    "                rospy.sleep(0.3)"
   ]
  },
  {
   "cell_type": "code",
   "execution_count": 10,
   "metadata": {},
   "outputs": [
    {
     "ename": "SyntaxError",
     "evalue": "unexpected EOF while parsing (2898252367.py, line 23)",
     "output_type": "error",
     "traceback": [
      "\u001b[0;36m  Input \u001b[0;32mIn [10]\u001b[0;36m\u001b[0m\n\u001b[0;31m    #                 return 'tries'\u001b[0m\n\u001b[0m                                    ^\u001b[0m\n\u001b[0;31mSyntaxError\u001b[0m\u001b[0;31m:\u001b[0m unexpected EOF while parsing\n"
     ]
    }
   ],
   "source": [
    "        #AR alignment\n",
    "        AR_stopper.call()\n",
    "        head.set_named_target('neutral')\n",
    "        head.go()\n",
    "        arm.set_named_target('go')\n",
    "        arm.go()\n",
    "        succ = False\n",
    "        THRESHOLD = 0.08\n",
    "        while not succ:\n",
    "            try:\n",
    "                trans, rot = tf_man.getTF(target_frame='cassette', ref_frame='base_link')\n",
    "                euler = tf.transformations.euler_from_quaternion(rot)\n",
    "                theta = euler[2]\n",
    "                e = theta + 1.57\n",
    "                rospy.loginfo(\"Its missing to turn {:.2f} radians\".format(e))\n",
    "                if abs(e) < THRESHOLD:\n",
    "                    talk(\"I am aligned\")\n",
    "#                     return 'succ'\n",
    "                else:\n",
    "                    rospy.sleep(0.1)\n",
    "                    grasp_base.tiny_move(velT = 0.4*e, std_time=0.1)\n",
    "            except:\n",
    "                print('hola')\n",
    "#                 return 'tries'"
   ]
  },
  {
   "cell_type": "code",
   "execution_count": 7,
   "metadata": {},
   "outputs": [
    {
     "ename": "NameError",
     "evalue": "name 'gripper' is not defined",
     "output_type": "error",
     "traceback": [
      "\u001b[0;31m---------------------------------------------------------------------------\u001b[0m",
      "\u001b[0;31mNameError\u001b[0m                                 Traceback (most recent call last)",
      "Input \u001b[0;32mIn [7]\u001b[0m, in \u001b[0;36m<cell line: 2>\u001b[0;34m()\u001b[0m\n\u001b[1;32m      1\u001b[0m \u001b[38;5;66;03m# State Pre grasp pose\u001b[39;00m\n\u001b[0;32m----> 2\u001b[0m \u001b[43mgripper\u001b[49m\u001b[38;5;241m.\u001b[39mopen()\n\u001b[1;32m      3\u001b[0m arm\u001b[38;5;241m.\u001b[39mset_named_target(\u001b[38;5;124m'\u001b[39m\u001b[38;5;124mneutral\u001b[39m\u001b[38;5;124m'\u001b[39m)\n\u001b[1;32m      4\u001b[0m arm\u001b[38;5;241m.\u001b[39mgo()\n",
      "\u001b[0;31mNameError\u001b[0m: name 'gripper' is not defined"
     ]
    }
   ],
   "source": [
    "        # State Pre grasp pose\n",
    "        gripper.open()\n",
    "        arm.set_named_target('neutral')\n",
    "        arm.go()\n",
    "        #Set pose\n",
    "        trans = False\n",
    "        pos = False\n",
    "        while (type(trans) is bool) and (type(pos) is bool) :\n",
    "            trans,_ = tf_man.getTF(target_frame='cassette', ref_frame='hand_palm_link')\n",
    "            pos,_ = tf_man.getTF(target_frame='hand_palm_link', ref_frame='odom')\n",
    "        tf_man.pub_tf(point_name='goal_pose', pos=[trans[2]+0.1, 0.0, 0.11], ref='hand_palm_link')\n",
    "        rospy.sleep(0.5)\n",
    "        pos, rot = tf_man.getTF(target_frame='goal_pose', ref_frame='odom')\n",
    "\n",
    "        # while type(pos) is bool:\n",
    "            # print('stucked')\n",
    "            # pos, rot = tf_man.getTF(target_frame='goal_pose', ref_frame='odom')\n",
    "        if type(pos) is not bool:\n",
    "            pose_goal = set_pose_goal(pos=pos, rot=rot)\n",
    "            arm.set_start_state_to_current_state() \n",
    "            arm.set_pose_target(pose_goal)\n",
    "            succ, plan, _, _ = arm.plan()\n",
    "            if succ:\n",
    "                arm.execute(plan)\n",
    "            else:\n",
    "                rospy.loginfo('I could not plan to goal pose')\n",
    "                return 'tries'\n",
    "        else:\n",
    "            return 'tries'\n",
    "        #Align along X and Y axis\n",
    "        succ = False\n",
    "        THRESHOLD = 0.01\n",
    "        while not succ:\n",
    "            trans,_ = tf_man.getTF(target_frame='cassette', ref_frame='hand_palm_link')\n",
    "            if type(trans) is not bool:\n",
    "                _, eY, eX = trans\n",
    "                rospy.loginfo(\"Distance to goal: {:.2f}, {:.2f}\".format(eX, eY))\n",
    "                if abs(eY) < THRESHOLD:\n",
    "                    eY = 0\n",
    "                if abs(eX) < THRESHOLD:\n",
    "                    eX = 0\n",
    "                succ =  eX == 0 and eY == 0\n",
    "                    # grasp_base.tiny_move(velY=-0.4*trans[1], std_time=0.2, MAX_VEL=0.3)\n",
    "                grasp_base.tiny_move(velX=0.3*eX, velY=-0.4*eY, std_time=0.2, MAX_VEL=0.3) #Pending test\n",
    "        return 'succ'"
   ]
  },
  {
   "cell_type": "code",
   "execution_count": 4,
   "metadata": {
    "scrolled": true
   },
   "outputs": [
    {
     "ename": "KeyboardInterrupt",
     "evalue": "",
     "output_type": "error",
     "traceback": [
      "\u001b[0;31m---------------------------------------------------------------------------\u001b[0m",
      "\u001b[0;31mLookupException\u001b[0m                           Traceback (most recent call last)",
      "\u001b[0;32m<ipython-input-4-3db704ad7f9e>\u001b[0m in \u001b[0;36m<module>\u001b[0;34m\u001b[0m\n\u001b[1;32m     11\u001b[0m     \u001b[0;32mtry\u001b[0m\u001b[0;34m:\u001b[0m\u001b[0;34m\u001b[0m\u001b[0;34m\u001b[0m\u001b[0m\n\u001b[0;32m---> 12\u001b[0;31m         \u001b[0mt\u001b[0m \u001b[0;34m=\u001b[0m \u001b[0mtfbuff\u001b[0m\u001b[0;34m.\u001b[0m\u001b[0mlookup_transform\u001b[0m\u001b[0;34m(\u001b[0m\u001b[0;34m'base_link'\u001b[0m\u001b[0;34m,\u001b[0m \u001b[0;34m'ar_marker/201'\u001b[0m\u001b[0;34m,\u001b[0m \u001b[0mrospy\u001b[0m\u001b[0;34m.\u001b[0m\u001b[0mTime\u001b[0m\u001b[0;34m(\u001b[0m\u001b[0;36m0\u001b[0m\u001b[0;34m)\u001b[0m \u001b[0;34m)\u001b[0m\u001b[0;34m\u001b[0m\u001b[0;34m\u001b[0m\u001b[0m\n\u001b[0m\u001b[1;32m     13\u001b[0m         \u001b[0mrospy\u001b[0m\u001b[0;34m.\u001b[0m\u001b[0msleep\u001b[0m\u001b[0;34m(\u001b[0m\u001b[0;36m0.3\u001b[0m\u001b[0;34m)\u001b[0m\u001b[0;34m\u001b[0m\u001b[0;34m\u001b[0m\u001b[0m\n",
      "\u001b[0;32m/opt/ros/noetic/lib/python3/dist-packages/tf2_ros/buffer.py\u001b[0m in \u001b[0;36mlookup_transform\u001b[0;34m(self, target_frame, source_frame, time, timeout)\u001b[0m\n\u001b[1;32m     85\u001b[0m         \u001b[0mself\u001b[0m\u001b[0;34m.\u001b[0m\u001b[0mcan_transform\u001b[0m\u001b[0;34m(\u001b[0m\u001b[0mtarget_frame\u001b[0m\u001b[0;34m,\u001b[0m \u001b[0msource_frame\u001b[0m\u001b[0;34m,\u001b[0m \u001b[0mtime\u001b[0m\u001b[0;34m,\u001b[0m \u001b[0mtimeout\u001b[0m\u001b[0;34m)\u001b[0m\u001b[0;34m\u001b[0m\u001b[0;34m\u001b[0m\u001b[0m\n\u001b[0;32m---> 86\u001b[0;31m         \u001b[0;32mreturn\u001b[0m \u001b[0mself\u001b[0m\u001b[0;34m.\u001b[0m\u001b[0mlookup_transform_core\u001b[0m\u001b[0;34m(\u001b[0m\u001b[0mtarget_frame\u001b[0m\u001b[0;34m,\u001b[0m \u001b[0msource_frame\u001b[0m\u001b[0;34m,\u001b[0m \u001b[0mtime\u001b[0m\u001b[0;34m)\u001b[0m\u001b[0;34m\u001b[0m\u001b[0;34m\u001b[0m\u001b[0m\n\u001b[0m\u001b[1;32m     87\u001b[0m \u001b[0;34m\u001b[0m\u001b[0m\n",
      "\u001b[0;31mLookupException\u001b[0m: \"ar_marker/201\" passed to lookupTransform argument source_frame does not exist. ",
      "\nDuring handling of the above exception, another exception occurred:\n",
      "\u001b[0;31mKeyboardInterrupt\u001b[0m                         Traceback (most recent call last)",
      "\u001b[0;32m<ipython-input-4-3db704ad7f9e>\u001b[0m in \u001b[0;36m<module>\u001b[0;34m\u001b[0m\n\u001b[1;32m     26\u001b[0m             \u001b[0mtiny_move_base\u001b[0m\u001b[0;34m(\u001b[0m\u001b[0mx\u001b[0m\u001b[0;34m=\u001b[0m\u001b[0;36m0.5\u001b[0m\u001b[0;34m,\u001b[0m\u001b[0mstd_time\u001b[0m\u001b[0;34m=\u001b[0m\u001b[0;36m0.1\u001b[0m\u001b[0;34m)\u001b[0m\u001b[0;34m\u001b[0m\u001b[0;34m\u001b[0m\u001b[0m\n\u001b[1;32m     27\u001b[0m     \u001b[0;32mexcept\u001b[0m\u001b[0;34m:\u001b[0m\u001b[0;34m\u001b[0m\u001b[0;34m\u001b[0m\u001b[0m\n\u001b[0;32m---> 28\u001b[0;31m         \u001b[0mtiny_move_base\u001b[0m\u001b[0;34m(\u001b[0m\u001b[0mx\u001b[0m\u001b[0;34m=\u001b[0m\u001b[0;36m0.5\u001b[0m\u001b[0;34m,\u001b[0m\u001b[0mstd_time\u001b[0m\u001b[0;34m=\u001b[0m\u001b[0;36m0.1\u001b[0m\u001b[0;34m)\u001b[0m\u001b[0;34m\u001b[0m\u001b[0;34m\u001b[0m\u001b[0m\n\u001b[0m",
      "\u001b[0;32m<ipython-input-3-7b2e275827a5>\u001b[0m in \u001b[0;36mtiny_move_base\u001b[0;34m(x, y, theta, std_time, MAX_VEL)\u001b[0m\n\u001b[1;32m    361\u001b[0m         \u001b[0mnewVelX\u001b[0m \u001b[0;34m=\u001b[0m \u001b[0mvelX\u001b[0m\u001b[0;34m\u001b[0m\u001b[0;34m\u001b[0m\u001b[0m\n\u001b[1;32m    362\u001b[0m         \u001b[0mnewVelY\u001b[0m \u001b[0;34m=\u001b[0m \u001b[0mvelY\u001b[0m\u001b[0;34m\u001b[0m\u001b[0;34m\u001b[0m\u001b[0m\n\u001b[0;32m--> 363\u001b[0;31m     \u001b[0mmove_base\u001b[0m\u001b[0;34m(\u001b[0m\u001b[0mnewVelX\u001b[0m\u001b[0;34m,\u001b[0m \u001b[0mnewVelY\u001b[0m\u001b[0;34m,\u001b[0m \u001b[0mtheta\u001b[0m\u001b[0;34m/\u001b[0m\u001b[0mstd_time\u001b[0m\u001b[0;34m,\u001b[0m \u001b[0mtime\u001b[0m\u001b[0;34m)\u001b[0m\u001b[0;34m\u001b[0m\u001b[0;34m\u001b[0m\u001b[0m\n\u001b[0m\u001b[1;32m    364\u001b[0m \u001b[0;34m\u001b[0m\u001b[0m\n\u001b[1;32m    365\u001b[0m \u001b[0;32mdef\u001b[0m \u001b[0mmove_base_vel\u001b[0m\u001b[0;34m(\u001b[0m\u001b[0mvx\u001b[0m\u001b[0;34m,\u001b[0m \u001b[0mvy\u001b[0m\u001b[0;34m,\u001b[0m \u001b[0mvw\u001b[0m\u001b[0;34m)\u001b[0m\u001b[0;34m:\u001b[0m\u001b[0;34m\u001b[0m\u001b[0;34m\u001b[0m\u001b[0m\n",
      "\u001b[0;32m<ipython-input-3-7b2e275827a5>\u001b[0m in \u001b[0;36mmove_base\u001b[0;34m(x, y, yaw, timeout)\u001b[0m\n\u001b[1;32m    373\u001b[0m     \u001b[0mstart_time\u001b[0m \u001b[0;34m=\u001b[0m \u001b[0mrospy\u001b[0m\u001b[0;34m.\u001b[0m\u001b[0mTime\u001b[0m\u001b[0;34m.\u001b[0m\u001b[0mnow\u001b[0m\u001b[0;34m(\u001b[0m\u001b[0;34m)\u001b[0m\u001b[0;34m.\u001b[0m\u001b[0mto_sec\u001b[0m\u001b[0;34m(\u001b[0m\u001b[0;34m)\u001b[0m\u001b[0;34m\u001b[0m\u001b[0;34m\u001b[0m\u001b[0m\n\u001b[1;32m    374\u001b[0m     \u001b[0;32mwhile\u001b[0m \u001b[0mrospy\u001b[0m\u001b[0;34m.\u001b[0m\u001b[0mTime\u001b[0m\u001b[0;34m.\u001b[0m\u001b[0mnow\u001b[0m\u001b[0;34m(\u001b[0m\u001b[0;34m)\u001b[0m\u001b[0;34m.\u001b[0m\u001b[0mto_sec\u001b[0m\u001b[0;34m(\u001b[0m\u001b[0;34m)\u001b[0m \u001b[0;34m-\u001b[0m \u001b[0mstart_time\u001b[0m \u001b[0;34m<\u001b[0m \u001b[0mtimeout\u001b[0m\u001b[0;34m:\u001b[0m\u001b[0;34m\u001b[0m\u001b[0;34m\u001b[0m\u001b[0m\n\u001b[0;32m--> 375\u001b[0;31m         \u001b[0mmove_base_vel\u001b[0m\u001b[0;34m(\u001b[0m\u001b[0mx\u001b[0m\u001b[0;34m,\u001b[0m \u001b[0my\u001b[0m\u001b[0;34m,\u001b[0m \u001b[0myaw\u001b[0m\u001b[0;34m)\u001b[0m\u001b[0;34m\u001b[0m\u001b[0;34m\u001b[0m\u001b[0m\n\u001b[0m\u001b[1;32m    376\u001b[0m \u001b[0;34m\u001b[0m\u001b[0m\n\u001b[1;32m    377\u001b[0m \u001b[0;32mdef\u001b[0m \u001b[0mtable_alignment\u001b[0m\u001b[0;34m(\u001b[0m\u001b[0;34m)\u001b[0m\u001b[0;34m:\u001b[0m\u001b[0;34m\u001b[0m\u001b[0;34m\u001b[0m\u001b[0m\n",
      "\u001b[0;32m<ipython-input-3-7b2e275827a5>\u001b[0m in \u001b[0;36mmove_base_vel\u001b[0;34m(vx, vy, vw)\u001b[0m\n\u001b[1;32m    368\u001b[0m     \u001b[0mtwist\u001b[0m\u001b[0;34m.\u001b[0m\u001b[0mlinear\u001b[0m\u001b[0;34m.\u001b[0m\u001b[0my\u001b[0m \u001b[0;34m=\u001b[0m \u001b[0mvy\u001b[0m\u001b[0;34m\u001b[0m\u001b[0;34m\u001b[0m\u001b[0m\n\u001b[1;32m    369\u001b[0m     \u001b[0mtwist\u001b[0m\u001b[0;34m.\u001b[0m\u001b[0mangular\u001b[0m\u001b[0;34m.\u001b[0m\u001b[0mz\u001b[0m \u001b[0;34m=\u001b[0m \u001b[0mvw\u001b[0m\u001b[0;34m\u001b[0m\u001b[0;34m\u001b[0m\u001b[0m\n\u001b[0;32m--> 370\u001b[0;31m     \u001b[0mbase_vel_pub\u001b[0m\u001b[0;34m.\u001b[0m\u001b[0mpublish\u001b[0m\u001b[0;34m(\u001b[0m\u001b[0mtwist\u001b[0m\u001b[0;34m)\u001b[0m\u001b[0;34m\u001b[0m\u001b[0;34m\u001b[0m\u001b[0m\n\u001b[0m\u001b[1;32m    371\u001b[0m \u001b[0;34m\u001b[0m\u001b[0m\n\u001b[1;32m    372\u001b[0m \u001b[0;32mdef\u001b[0m \u001b[0mmove_base\u001b[0m\u001b[0;34m(\u001b[0m\u001b[0mx\u001b[0m\u001b[0;34m,\u001b[0m\u001b[0my\u001b[0m\u001b[0;34m,\u001b[0m\u001b[0myaw\u001b[0m\u001b[0;34m,\u001b[0m\u001b[0mtimeout\u001b[0m\u001b[0;34m=\u001b[0m\u001b[0;36m0.2\u001b[0m\u001b[0;34m)\u001b[0m\u001b[0;34m:\u001b[0m\u001b[0;34m\u001b[0m\u001b[0;34m\u001b[0m\u001b[0m\n",
      "\u001b[0;32m/opt/ros/noetic/lib/python3/dist-packages/rospy/topics.py\u001b[0m in \u001b[0;36mpublish\u001b[0;34m(self, *args, **kwds)\u001b[0m\n\u001b[1;32m    880\u001b[0m         \u001b[0;32mtry\u001b[0m\u001b[0;34m:\u001b[0m\u001b[0;34m\u001b[0m\u001b[0;34m\u001b[0m\u001b[0m\n\u001b[1;32m    881\u001b[0m             \u001b[0mself\u001b[0m\u001b[0;34m.\u001b[0m\u001b[0mimpl\u001b[0m\u001b[0;34m.\u001b[0m\u001b[0macquire\u001b[0m\u001b[0;34m(\u001b[0m\u001b[0;34m)\u001b[0m\u001b[0;34m\u001b[0m\u001b[0;34m\u001b[0m\u001b[0m\n\u001b[0;32m--> 882\u001b[0;31m             \u001b[0mself\u001b[0m\u001b[0;34m.\u001b[0m\u001b[0mimpl\u001b[0m\u001b[0;34m.\u001b[0m\u001b[0mpublish\u001b[0m\u001b[0;34m(\u001b[0m\u001b[0mdata\u001b[0m\u001b[0;34m)\u001b[0m\u001b[0;34m\u001b[0m\u001b[0;34m\u001b[0m\u001b[0m\n\u001b[0m\u001b[1;32m    883\u001b[0m         \u001b[0;32mexcept\u001b[0m \u001b[0mgenpy\u001b[0m\u001b[0;34m.\u001b[0m\u001b[0mSerializationError\u001b[0m \u001b[0;32mas\u001b[0m \u001b[0me\u001b[0m\u001b[0;34m:\u001b[0m\u001b[0;34m\u001b[0m\u001b[0;34m\u001b[0m\u001b[0m\n\u001b[1;32m    884\u001b[0m             \u001b[0;31m# can't go to rospy.logerr(), b/c this could potentially recurse\u001b[0m\u001b[0;34m\u001b[0m\u001b[0;34m\u001b[0m\u001b[0;34m\u001b[0m\u001b[0m\n",
      "\u001b[0;32m/opt/ros/noetic/lib/python3/dist-packages/rospy/topics.py\u001b[0m in \u001b[0;36mpublish\u001b[0;34m(self, message, connection_override)\u001b[0m\n\u001b[1;32m   1073\u001b[0m                 \u001b[0;32mtry\u001b[0m\u001b[0;34m:\u001b[0m\u001b[0;34m\u001b[0m\u001b[0;34m\u001b[0m\u001b[0m\n\u001b[1;32m   1074\u001b[0m                     \u001b[0;32mif\u001b[0m \u001b[0;32mnot\u001b[0m \u001b[0mis_shutdown\u001b[0m\u001b[0;34m(\u001b[0m\u001b[0;34m)\u001b[0m\u001b[0;34m:\u001b[0m\u001b[0;34m\u001b[0m\u001b[0;34m\u001b[0m\u001b[0m\n\u001b[0;32m-> 1075\u001b[0;31m                         \u001b[0mc\u001b[0m\u001b[0;34m.\u001b[0m\u001b[0mwrite_data\u001b[0m\u001b[0;34m(\u001b[0m\u001b[0mdata\u001b[0m\u001b[0;34m)\u001b[0m\u001b[0;34m\u001b[0m\u001b[0;34m\u001b[0m\u001b[0m\n\u001b[0m\u001b[1;32m   1076\u001b[0m                 \u001b[0;32mexcept\u001b[0m \u001b[0mTransportTerminated\u001b[0m \u001b[0;32mas\u001b[0m \u001b[0me\u001b[0m\u001b[0;34m:\u001b[0m\u001b[0;34m\u001b[0m\u001b[0;34m\u001b[0m\u001b[0m\n\u001b[1;32m   1077\u001b[0m                     \u001b[0mlogdebug\u001b[0m\u001b[0;34m(\u001b[0m\u001b[0;34m\"publisher connection to [%s] terminated, see errorlog for details:\\n%s\"\u001b[0m\u001b[0;34m%\u001b[0m\u001b[0;34m(\u001b[0m\u001b[0mc\u001b[0m\u001b[0;34m.\u001b[0m\u001b[0mendpoint_id\u001b[0m\u001b[0;34m,\u001b[0m \u001b[0mtraceback\u001b[0m\u001b[0;34m.\u001b[0m\u001b[0mformat_exc\u001b[0m\u001b[0;34m(\u001b[0m\u001b[0;34m)\u001b[0m\u001b[0;34m)\u001b[0m\u001b[0;34m)\u001b[0m\u001b[0;34m\u001b[0m\u001b[0;34m\u001b[0m\u001b[0m\n",
      "\u001b[0;32m/opt/ros/noetic/lib/python3/dist-packages/rospy/impl/tcpros_pubsub.py\u001b[0m in \u001b[0;36mwrite_data\u001b[0;34m(self, data)\u001b[0m\n\u001b[1;32m    418\u001b[0m             \u001b[0mself\u001b[0m\u001b[0;34m.\u001b[0m\u001b[0m_cond_data_available\u001b[0m\u001b[0;34m.\u001b[0m\u001b[0mnotify\u001b[0m\u001b[0;34m(\u001b[0m\u001b[0;34m)\u001b[0m\u001b[0;34m\u001b[0m\u001b[0;34m\u001b[0m\u001b[0m\n\u001b[1;32m    419\u001b[0m         \u001b[0;31m# effectively yields the rest of the thread quantum\u001b[0m\u001b[0;34m\u001b[0m\u001b[0;34m\u001b[0m\u001b[0;34m\u001b[0m\u001b[0m\n\u001b[0;32m--> 420\u001b[0;31m         \u001b[0mtime\u001b[0m\u001b[0;34m.\u001b[0m\u001b[0msleep\u001b[0m\u001b[0;34m(\u001b[0m\u001b[0;36m0\u001b[0m\u001b[0;34m)\u001b[0m\u001b[0;34m\u001b[0m\u001b[0;34m\u001b[0m\u001b[0m\n\u001b[0m\u001b[1;32m    421\u001b[0m         \u001b[0;32mreturn\u001b[0m \u001b[0;32mTrue\u001b[0m\u001b[0;34m\u001b[0m\u001b[0;34m\u001b[0m\u001b[0m\n\u001b[1;32m    422\u001b[0m \u001b[0;34m\u001b[0m\u001b[0m\n",
      "\u001b[0;31mKeyboardInterrupt\u001b[0m: "
     ]
    }
   ],
   "source": [
    "# FIND AR MARKER\n",
    "hcp = head.get_current_joint_values()\n",
    "# print(hcp)\n",
    "hcp[0]=0.4\n",
    "hcp[1]= -0.2\n",
    "head.set_joint_value_target(hcp)\n",
    "head.go()\n",
    "succ = False\n",
    "last = 0\n",
    "while not succ:\n",
    "    try:\n",
    "        t = tfbuff.lookup_transform('base_link', 'ar_marker/201', rospy.Time(0) )\n",
    "        rospy.sleep(0.3)\n",
    "        trans, _ = tf2_obj_2_arr(t)\n",
    "        distanceX = trans[0]\n",
    "        print(distanceX)\n",
    "        if distanceX < 0.60 and distanceX > 0.55:\n",
    "            hcp = head.get_current_joint_values()\n",
    "            hcp[0] += 0.3\n",
    "            hcp[1] = -0.2\n",
    "            head.set_joint_value_target(hcp)\n",
    "            head.go()\n",
    "        if distanceX < 0.45:\n",
    "            succ = True\n",
    "        else:\n",
    "            tiny_move_base(x=0.5,std_time=0.1)\n",
    "    except:\n",
    "        tiny_move_base(x=0.5,std_time=0.1)"
   ]
  },
  {
   "cell_type": "code",
   "execution_count": 5,
   "metadata": {
    "scrolled": true
   },
   "outputs": [],
   "source": [
    "tiny_move_base(theta=1.5707,std_time=2)"
   ]
  },
  {
   "cell_type": "code",
   "execution_count": 5,
   "metadata": {},
   "outputs": [
    {
     "data": {
      "text/plain": [
       "True"
      ]
     },
     "execution_count": 5,
     "metadata": {},
     "output_type": "execute_result"
    }
   ],
   "source": [
    "# arm.set_named_target('neutral')\n",
    "\n",
    "# arm.go()\n",
    "hcp = head.get_current_joint_values()\n",
    "hcp[0] = -0.1\n",
    "hcp[1] = -0.5\n",
    "head.set_joint_value_target(hcp)\n",
    "head.go()\n",
    "# start_AR_recognition()\n",
    "# starter = rospy.ServiceProxy('/marker/start_recognition',Empty)\n",
    "# stopper = rospy.ServiceProxy('/marker/stop_recognition', Empty)"
   ]
  },
  {
   "cell_type": "code",
   "execution_count": null,
   "metadata": {},
   "outputs": [],
   "source": []
  },
  {
   "cell_type": "code",
   "execution_count": 4,
   "metadata": {
    "scrolled": true
   },
   "outputs": [
    {
     "data": {
      "text/plain": []
     },
     "execution_count": 4,
     "metadata": {},
     "output_type": "execute_result"
    }
   ],
   "source": [
    "starter.call()\n",
    "# static_publish_ARmarker()"
   ]
  },
  {
   "cell_type": "code",
   "execution_count": 10,
   "metadata": {
    "scrolled": true
   },
   "outputs": [
    {
     "name": "stdout",
     "output_type": "stream",
     "text": [
      "[[-0.12267153  0.413494    1.1211635 ]\n",
      " [-0.10409301  0.31896338  1.2245353 ]\n",
      " [-0.575319    0.33617282  1.1287789 ]\n",
      " [-1.0722715  -0.97066474  3.063259  ]]\n"
     ]
    },
    {
     "data": {
      "image/png": "[encoded data removed]",
      "text/plain": [
       "<Figure size 432x288 with 4 Axes>"
      ]
     },
     "metadata": {
      "needs_background": "light"
     },
     "output_type": "display_data"
    },
    {
     "name": "stderr",
     "output_type": "stream",
     "text": [
      "\u001b[33m[ WARN] [1661539857.577818147, 230.766000000]: TF_REPEATED_DATA ignoring data with redundant timestamp for frame odom at time 230.784000 according to authority /pose_integrator\u001b[0m\n",
      "\u001b[33m[ WARN] [1661539857.578063668, 230.766000000]: TF_REPEATED_DATA ignoring data with redundant timestamp for frame odom at time 230.784000 according to authority unknown_publisher\u001b[0m\n",
      "\u001b[33m[ WARN] [1661539864.196925861, 232.002000000]: TF_REPEATED_DATA ignoring data with redundant timestamp for frame odom at time 232.026000 according to authority /pose_integrator\u001b[0m\n",
      "\u001b[33m[ WARN] [1661539864.200189622, 232.002000000]: TF_REPEATED_DATA ignoring data with redundant timestamp for frame odom at time 232.026000 according to authority unknown_publisher\u001b[0m\n",
      "\u001b[33m[ WARN] [1661539864.774273744, 232.128000000]: TF_REPEATED_DATA ignoring data with redundant timestamp for frame odom at time 232.227000 according to authority unknown_publisher\u001b[0m\n",
      "\u001b[33m[ WARN] [1661539864.779747023, 232.128000000]: TF_REPEATED_DATA ignoring data with redundant timestamp for frame odom at time 232.227000 according to authority /pose_integrator\u001b[0m\n",
      "\u001b[33m[ WARN] [1661539869.942400441, 233.094000000]: TF_REPEATED_DATA ignoring data with redundant timestamp for frame odom at time 233.109000 according to authority unknown_publisher\u001b[0m\n",
      "\u001b[33m[ WARN] [1661539869.944937213, 233.094000000]: TF_REPEATED_DATA ignoring data with redundant timestamp for frame odom at time 233.109000 according to authority /pose_integrator\u001b[0m\n",
      "\u001b[33m[ WARN] [1661539871.923262207, 233.427000000]: TF_REPEATED_DATA ignoring data with redundant timestamp for frame odom at time 233.499000 according to authority /pose_integrator\u001b[0m\n",
      "\u001b[33m[ WARN] [1661539871.926961175, 233.427000000]: TF_REPEATED_DATA ignoring data with redundant timestamp for frame odom at time 233.499000 according to authority unknown_publisher\u001b[0m\n",
      "\u001b[33m[ WARN] [1661539874.433882304, 233.913000000]: TF_REPEATED_DATA ignoring data with redundant timestamp for frame odom at time 233.940000 according to authority unknown_publisher\u001b[0m\n",
      "\u001b[33m[ WARN] [1661539874.441279724, 233.913000000]: TF_REPEATED_DATA ignoring data with redundant timestamp for frame odom at time 233.940000 according to authority /pose_integrator\u001b[0m\n",
      "\u001b[33m[ WARN] [1661539878.644368081, 234.624000000]: TF_REPEATED_DATA ignoring data with redundant timestamp for frame odom at time 234.654000 according to authority unknown_publisher\u001b[0m\n",
      "\u001b[33m[ WARN] [1661539878.646315861, 234.624000000]: TF_REPEATED_DATA ignoring data with redundant timestamp for frame odom at time 234.654000 according to authority /pose_integrator\u001b[0m\n",
      "\u001b[33m[ WARN] [1661539882.814379063, 235.326000000]: TF_REPEATED_DATA ignoring data with redundant timestamp for frame odom at time 235.365000 according to authority unknown_publisher\u001b[0m\n",
      "\u001b[33m[ WARN] [1661539882.815884060, 235.326000000]: TF_REPEATED_DATA ignoring data with redundant timestamp for frame odom at time 235.365000 according to authority /pose_integrator\u001b[0m\n",
      "\u001b[33m[ WARN] [1661539885.870352660, 235.986000000]: TF_REPEATED_DATA ignoring data with redundant timestamp for frame odom at time 235.986000 according to authority unknown_publisher\u001b[0m\n",
      "\u001b[33m[ WARN] [1661539885.870496353, 235.986000000]: TF_REPEATED_DATA ignoring data with redundant timestamp for frame odom at time 235.986000 according to authority /pose_integrator\u001b[0m\n",
      "\u001b[33m[ WARN] [1661539896.847531755, 237.939000000]: TF_REPEATED_DATA ignoring data with redundant timestamp for frame odom at time 237.963000 according to authority unknown_publisher\u001b[0m\n",
      "\u001b[33m[ WARN] [1661539896.847727236, 237.939000000]: TF_REPEATED_DATA ignoring data with redundant timestamp for frame odom at time 237.963000 according to authority /pose_integrator\u001b[0m\n",
      "\u001b[33m[ WARN] [1661539902.758996190, 239.163000000]: TF_REPEATED_DATA ignoring data with redundant timestamp for frame odom at time 239.229000 according to authority /pose_integrator\u001b[0m\n",
      "\u001b[33m[ WARN] [1661539902.759199637, 239.163000000]: TF_REPEATED_DATA ignoring data with redundant timestamp for frame odom at time 239.229000 according to authority unknown_publisher\u001b[0m\n",
      "\u001b[33m[ WARN] [1661539912.232542325, 240.948000000]: TF_REPEATED_DATA ignoring data with redundant timestamp for frame odom at time 240.987000 according to authority /pose_integrator\u001b[0m\n",
      "\u001b[33m[ WARN] [1661539912.232967309, 240.948000000]: TF_REPEATED_DATA ignoring data with redundant timestamp for frame odom at time 240.987000 according to authority unknown_publisher\u001b[0m\n",
      "\u001b[33m[ WARN] [1661539914.002090184, 241.230000000]: TF_REPEATED_DATA ignoring data with redundant timestamp for frame odom at time 241.299000 according to authority /pose_integrator\u001b[0m\n",
      "\u001b[33m[ WARN] [1661539914.002314874, 241.230000000]: TF_REPEATED_DATA ignoring data with redundant timestamp for frame odom at time 241.299000 according to authority unknown_publisher\u001b[0m\n",
      "\u001b[33m[ WARN] [1661539917.024152916, 241.845000000]: TF_REPEATED_DATA ignoring data with redundant timestamp for frame odom at time 241.878000 according to authority unknown_publisher\u001b[0m\n",
      "\u001b[33m[ WARN] [1661539917.025841846, 241.845000000]: TF_REPEATED_DATA ignoring data with redundant timestamp for frame odom at time 241.878000 according to authority /pose_integrator\u001b[0m\n",
      "\u001b[33m[ WARN] [1661539920.590249272, 242.454000000]: TF_REPEATED_DATA ignoring data with redundant timestamp for frame odom at time 242.484000 according to authority /pose_integrator\u001b[0m\n",
      "\u001b[33m[ WARN] [1661539920.594665663, 242.454000000]: TF_REPEATED_DATA ignoring data with redundant timestamp for frame odom at time 242.484000 according to authority unknown_publisher\u001b[0m\n",
      "\u001b[33m[ WARN] [1661539922.847112390, 242.844000000]: TF_REPEATED_DATA ignoring data with redundant timestamp for frame odom at time 242.844000 according to authority unknown_publisher\u001b[0m\n",
      "\u001b[33m[ WARN] [1661539922.847442580, 242.844000000]: TF_REPEATED_DATA ignoring data with redundant timestamp for frame odom at time 242.844000 according to authority /pose_integrator\u001b[0m\n",
      "\u001b[33m[ WARN] [1661539934.959736678, 244.659000000]: TF_REPEATED_DATA ignoring data with redundant timestamp for frame odom at time 244.704000 according to authority unknown_publisher\u001b[0m\n",
      "\u001b[33m[ WARN] [1661539934.965911313, 244.659000000]: TF_REPEATED_DATA ignoring data with redundant timestamp for frame odom at time 244.704000 according to authority /pose_integrator\u001b[0m\n",
      "\u001b[33m[ WARN] [1661539935.382326800, 244.791000000]: TF_REPEATED_DATA ignoring data with redundant timestamp for frame odom at time 244.791000 according to authority unknown_publisher\u001b[0m\n",
      "\u001b[33m[ WARN] [1661539935.389952547, 244.791000000]: TF_REPEATED_DATA ignoring data with redundant timestamp for frame odom at time 244.791000 according to authority /pose_integrator\u001b[0m\n",
      "\u001b[33m[ WARN] [1661539940.459201223, 245.727000000]: TF_REPEATED_DATA ignoring data with redundant timestamp for frame odom at time 245.760000 according to authority /pose_integrator\u001b[0m\n",
      "\u001b[33m[ WARN] [1661539940.460310720, 245.727000000]: TF_REPEATED_DATA ignoring data with redundant timestamp for frame odom at time 245.760000 according to authority unknown_publisher\u001b[0m\n",
      "\u001b[33m[ WARN] [1661539941.043397789, 245.811000000]: TF_REPEATED_DATA ignoring data with redundant timestamp for frame odom at time 245.871000 according to authority unknown_publisher\u001b[0m\n",
      "\u001b[33m[ WARN] [1661539941.043887006, 245.811000000]: TF_REPEATED_DATA ignoring data with redundant timestamp for frame odom at time 245.871000 according to authority /pose_integrator\u001b[0m\n",
      "\u001b[33m[ WARN] [1661539952.763582050, 247.953000000]: TF_REPEATED_DATA ignoring data with redundant timestamp for frame odom at time 247.977000 according to authority /pose_integrator\u001b[0m\n",
      "\u001b[33m[ WARN] [1661539952.765090118, 247.953000000]: TF_REPEATED_DATA ignoring data with redundant timestamp for frame odom at time 247.977000 according to authority unknown_publisher\u001b[0m\n",
      "\u001b[33m[ WARN] [1661539965.041036862, 249.726000000]: TF_REPEATED_DATA ignoring data with redundant timestamp for frame odom at time 249.753000 according to authority /pose_integrator\u001b[0m\n",
      "\u001b[33m[ WARN] [1661539965.044233121, 249.726000000]: TF_REPEATED_DATA ignoring data with redundant timestamp for frame odom at time 249.753000 according to authority unknown_publisher\u001b[0m\n"
     ]
    },
    {
     "name": "stderr",
     "output_type": "stream",
     "text": [
      "\u001b[33m[ WARN] [1661539980.361936090, 252.246000000]: TF_REPEATED_DATA ignoring data with redundant timestamp for frame odom at time 252.288000 according to authority unknown_publisher\u001b[0m\n",
      "\u001b[33m[ WARN] [1661539980.363259660, 252.246000000]: TF_REPEATED_DATA ignoring data with redundant timestamp for frame odom at time 252.288000 according to authority /pose_integrator\u001b[0m\n",
      "\u001b[33m[ WARN] [1661539988.046171832, 253.950000000]: TF_REPEATED_DATA ignoring data with redundant timestamp for frame odom at time 253.989000 according to authority /pose_integrator\u001b[0m\n",
      "\u001b[33m[ WARN] [1661539988.047416990, 253.950000000]: TF_REPEATED_DATA ignoring data with redundant timestamp for frame odom at time 253.989000 according to authority unknown_publisher\u001b[0m\n",
      "\u001b[33m[ WARN] [1661539988.656922233, 254.046000000]: TF_REPEATED_DATA ignoring data with redundant timestamp for frame odom at time 254.112000 according to authority unknown_publisher\u001b[0m\n",
      "\u001b[33m[ WARN] [1661539988.657654747, 254.046000000]: TF_REPEATED_DATA ignoring data with redundant timestamp for frame odom at time 254.112000 according to authority /pose_integrator\u001b[0m\n",
      "\u001b[33m[ WARN] [1661540001.805089368, 256.368000000]: TF_REPEATED_DATA ignoring data with redundant timestamp for frame odom at time 256.389000 according to authority /pose_integrator\u001b[0m\n",
      "\u001b[33m[ WARN] [1661540001.808898004, 256.368000000]: TF_REPEATED_DATA ignoring data with redundant timestamp for frame odom at time 256.389000 according to authority unknown_publisher\u001b[0m\n",
      "\u001b[33m[ WARN] [1661540003.513207490, 256.626000000]: TF_REPEATED_DATA ignoring data with redundant timestamp for frame odom at time 256.692000 according to authority unknown_publisher\u001b[0m\n",
      "\u001b[33m[ WARN] [1661540003.523738935, 256.626000000]: TF_REPEATED_DATA ignoring data with redundant timestamp for frame odom at time 256.692000 according to authority /pose_integrator\u001b[0m\n",
      "\u001b[33m[ WARN] [1661540005.693030361, 256.968000000]: TF_REPEATED_DATA ignoring data with redundant timestamp for frame odom at time 256.989000 according to authority unknown_publisher\u001b[0m\n",
      "\u001b[33m[ WARN] [1661540005.694464124, 256.968000000]: TF_REPEATED_DATA ignoring data with redundant timestamp for frame odom at time 256.989000 according to authority /pose_integrator\u001b[0m\n",
      "\u001b[33m[ WARN] [1661540016.816388128, 259.110000000]: TF_REPEATED_DATA ignoring data with redundant timestamp for frame odom at time 259.110000 according to authority /pose_integrator\u001b[0m\n",
      "\u001b[33m[ WARN] [1661540016.817135549, 259.110000000]: TF_REPEATED_DATA ignoring data with redundant timestamp for frame odom at time 259.110000 according to authority unknown_publisher\u001b[0m\n",
      "\u001b[33m[ WARN] [1661540017.940298890, 259.392000000]: TF_REPEATED_DATA ignoring data with redundant timestamp for frame odom at time 259.422000 according to authority /pose_integrator\u001b[0m\n",
      "\u001b[33m[ WARN] [1661540017.941014724, 259.392000000]: TF_REPEATED_DATA ignoring data with redundant timestamp for frame odom at time 259.422000 according to authority unknown_publisher\u001b[0m\n",
      "\u001b[33m[ WARN] [1661540028.833672546, 261.345000000]: TF_REPEATED_DATA ignoring data with redundant timestamp for frame odom at time 261.345000 according to authority unknown_publisher\u001b[0m\n",
      "\u001b[33m[ WARN] [1661540028.833939023, 261.345000000]: TF_REPEATED_DATA ignoring data with redundant timestamp for frame odom at time 261.345000 according to authority /pose_integrator\u001b[0m\n",
      "\u001b[33m[ WARN] [1661540038.084194180, 262.800000000]: TF_REPEATED_DATA ignoring data with redundant timestamp for frame odom at time 262.833000 according to authority /pose_integrator\u001b[0m\n",
      "\u001b[33m[ WARN] [1661540038.084448169, 262.800000000]: TF_REPEATED_DATA ignoring data with redundant timestamp for frame odom at time 262.833000 according to authority unknown_publisher\u001b[0m\n",
      "\u001b[33m[ WARN] [1661540045.571838800, 264.006000000]: TF_REPEATED_DATA ignoring data with redundant timestamp for frame odom at time 264.027000 according to authority unknown_publisher\u001b[0m\n",
      "\u001b[33m[ WARN] [1661540045.572032258, 264.006000000]: TF_REPEATED_DATA ignoring data with redundant timestamp for frame odom at time 264.027000 according to authority /pose_integrator\u001b[0m\n",
      "\u001b[33m[ WARN] [1661540046.210531886, 264.138000000]: TF_REPEATED_DATA ignoring data with redundant timestamp for frame odom at time 264.159000 according to authority unknown_publisher\u001b[0m\n",
      "\u001b[33m[ WARN] [1661540046.210928071, 264.138000000]: TF_REPEATED_DATA ignoring data with redundant timestamp for frame odom at time 264.159000 according to authority /pose_integrator\u001b[0m\n",
      "\u001b[33m[ WARN] [1661540061.326116334, 266.715000000]: TF_REPEATED_DATA ignoring data with redundant timestamp for frame odom at time 266.772000 according to authority /pose_integrator\u001b[0m\n",
      "\u001b[33m[ WARN] [1661540061.326564647, 266.715000000]: TF_REPEATED_DATA ignoring data with redundant timestamp for frame odom at time 266.772000 according to authority unknown_publisher\u001b[0m\n",
      "\u001b[33m[ WARN] [1661540074.158382270, 268.812000000]: TF_REPEATED_DATA ignoring data with redundant timestamp for frame odom at time 268.836000 according to authority /pose_integrator\u001b[0m\n",
      "\u001b[33m[ WARN] [1661540074.158597713, 268.812000000]: TF_REPEATED_DATA ignoring data with redundant timestamp for frame odom at time 268.836000 according to authority unknown_publisher\u001b[0m\n",
      "\u001b[33m[ WARN] [1661540076.586156362, 269.208000000]: TF_REPEATED_DATA ignoring data with redundant timestamp for frame odom at time 269.277000 according to authority unknown_publisher\u001b[0m\n",
      "\u001b[33m[ WARN] [1661540076.586341529, 269.208000000]: TF_REPEATED_DATA ignoring data with redundant timestamp for frame odom at time 269.277000 according to authority /pose_integrator\u001b[0m\n",
      "\u001b[33m[ WARN] [1661540081.741434490, 270.213000000]: TF_REPEATED_DATA ignoring data with redundant timestamp for frame odom at time 270.237000 according to authority /pose_integrator\u001b[0m\n",
      "\u001b[33m[ WARN] [1661540081.744308258, 270.213000000]: TF_REPEATED_DATA ignoring data with redundant timestamp for frame odom at time 270.237000 according to authority unknown_publisher\u001b[0m\n",
      "\u001b[33m[ WARN] [1661540084.546160155, 270.759000000]: TF_REPEATED_DATA ignoring data with redundant timestamp for frame odom at time 270.792000 according to authority /pose_integrator\u001b[0m\n",
      "\u001b[33m[ WARN] [1661540084.548328667, 270.759000000]: TF_REPEATED_DATA ignoring data with redundant timestamp for frame odom at time 270.792000 according to authority unknown_publisher\u001b[0m\n",
      "\u001b[33m[ WARN] [1661540087.146699773, 271.188000000]: TF_REPEATED_DATA ignoring data with redundant timestamp for frame odom at time 271.296000 according to authority unknown_publisher\u001b[0m\n",
      "\u001b[33m[ WARN] [1661540087.156115166, 271.296000000]: TF_REPEATED_DATA ignoring data with redundant timestamp for frame odom at time 271.296000 according to authority /pose_integrator\u001b[0m\n",
      "\u001b[33m[ WARN] [1661540093.400533395, 272.505000000]: TF_REPEATED_DATA ignoring data with redundant timestamp for frame odom at time 272.532000 according to authority /pose_integrator\u001b[0m\n",
      "\u001b[33m[ WARN] [1661540093.400716212, 272.505000000]: TF_REPEATED_DATA ignoring data with redundant timestamp for frame odom at time 272.532000 according to authority unknown_publisher\u001b[0m\n",
      "\u001b[33m[ WARN] [1661540095.078609177, 272.829000000]: TF_REPEATED_DATA ignoring data with redundant timestamp for frame odom at time 272.919000 according to authority /pose_integrator\u001b[0m\n",
      "\u001b[33m[ WARN] [1661540095.079211628, 272.829000000]: TF_REPEATED_DATA ignoring data with redundant timestamp for frame odom at time 272.919000 according to authority unknown_publisher\u001b[0m\n",
      "\u001b[33m[ WARN] [1661540096.341458827, 273.084000000]: TF_REPEATED_DATA ignoring data with redundant timestamp for frame odom at time 273.138000 according to authority /pose_integrator\u001b[0m\n",
      "\u001b[33m[ WARN] [1661540096.342261428, 273.084000000]: TF_REPEATED_DATA ignoring data with redundant timestamp for frame odom at time 273.138000 according to authority unknown_publisher\u001b[0m\n",
      "\u001b[33m[ WARN] [1661540098.017898284, 273.387000000]: TF_REPEATED_DATA ignoring data with redundant timestamp for frame odom at time 273.408000 according to authority /pose_integrator\u001b[0m\n",
      "\u001b[33m[ WARN] [1661540098.024006004, 273.387000000]: TF_REPEATED_DATA ignoring data with redundant timestamp for frame odom at time 273.408000 according to authority unknown_publisher\u001b[0m\n"
     ]
    },
    {
     "name": "stderr",
     "output_type": "stream",
     "text": [
      "\u001b[33m[ WARN] [1661540106.356728982, 274.746000000]: TF_REPEATED_DATA ignoring data with redundant timestamp for frame odom at time 274.785000 according to authority unknown_publisher\u001b[0m\n",
      "\u001b[33m[ WARN] [1661540106.358084764, 274.746000000]: TF_REPEATED_DATA ignoring data with redundant timestamp for frame odom at time 274.785000 according to authority /pose_integrator\u001b[0m\n",
      "\u001b[33m[ WARN] [1661540111.359904547, 275.589000000]: TF_REPEATED_DATA ignoring data with redundant timestamp for frame odom at time 275.616000 according to authority /pose_integrator\u001b[0m\n",
      "\u001b[33m[ WARN] [1661540111.361483919, 275.589000000]: TF_REPEATED_DATA ignoring data with redundant timestamp for frame odom at time 275.616000 according to authority unknown_publisher\u001b[0m\n",
      "\u001b[33m[ WARN] [1661540130.327886225, 278.850000000]: TF_REPEATED_DATA ignoring data with redundant timestamp for frame odom at time 278.850000 according to authority /pose_integrator\u001b[0m\n",
      "\u001b[33m[ WARN] [1661540130.347794117, 278.850000000]: TF_REPEATED_DATA ignoring data with redundant timestamp for frame odom at time 278.850000 according to authority unknown_publisher\u001b[0m\n",
      "\u001b[33m[ WARN] [1661540136.891752437, 279.921000000]: TF_REPEATED_DATA ignoring data with redundant timestamp for frame odom at time 279.945000 according to authority unknown_publisher\u001b[0m\n",
      "\u001b[33m[ WARN] [1661540136.893962523, 279.921000000]: TF_REPEATED_DATA ignoring data with redundant timestamp for frame odom at time 279.945000 according to authority /pose_integrator\u001b[0m\n",
      "\u001b[33m[ WARN] [1661540143.470178687, 281.103000000]: TF_REPEATED_DATA ignoring data with redundant timestamp for frame odom at time 281.136000 according to authority unknown_publisher\u001b[0m\n",
      "\u001b[33m[ WARN] [1661540143.470660646, 281.103000000]: TF_REPEATED_DATA ignoring data with redundant timestamp for frame odom at time 281.136000 according to authority /pose_integrator\u001b[0m\n",
      "\u001b[33m[ WARN] [1661540148.432300698, 282.000000000]: TF_REPEATED_DATA ignoring data with redundant timestamp for frame odom at time 282.054000 according to authority /pose_integrator\u001b[0m\n",
      "\u001b[33m[ WARN] [1661540148.451002492, 282.000000000]: TF_REPEATED_DATA ignoring data with redundant timestamp for frame odom at time 282.054000 according to authority unknown_publisher\u001b[0m\n",
      "\u001b[33m[ WARN] [1661540154.813890235, 283.209000000]: TF_REPEATED_DATA ignoring data with redundant timestamp for frame odom at time 283.239000 according to authority unknown_publisher\u001b[0m\n",
      "\u001b[33m[ WARN] [1661540154.819227678, 283.209000000]: TF_REPEATED_DATA ignoring data with redundant timestamp for frame odom at time 283.239000 according to authority /pose_integrator\u001b[0m\n",
      "\u001b[33m[ WARN] [1661540180.644476983, 287.769000000]: TF_REPEATED_DATA ignoring data with redundant timestamp for frame odom at time 287.838000 according to authority /pose_integrator\u001b[0m\n",
      "\u001b[33m[ WARN] [1661540180.646575001, 287.769000000]: TF_REPEATED_DATA ignoring data with redundant timestamp for frame odom at time 287.838000 according to authority unknown_publisher\u001b[0m\n",
      "\u001b[33m[ WARN] [1661540182.106213910, 288.030000000]: TF_REPEATED_DATA ignoring data with redundant timestamp for frame odom at time 288.078000 according to authority unknown_publisher\u001b[0m\n",
      "\u001b[33m[ WARN] [1661540182.106294312, 288.030000000]: TF_REPEATED_DATA ignoring data with redundant timestamp for frame odom at time 288.078000 according to authority /pose_integrator\u001b[0m\n",
      "\u001b[33m[ WARN] [1661540189.927973947, 289.368000000]: TF_REPEATED_DATA ignoring data with redundant timestamp for frame odom at time 289.470000 according to authority unknown_publisher\u001b[0m\n",
      "\u001b[33m[ WARN] [1661540189.929036295, 289.368000000]: TF_REPEATED_DATA ignoring data with redundant timestamp for frame odom at time 289.470000 according to authority /pose_integrator\u001b[0m\n",
      "\u001b[33m[ WARN] [1661540190.810032651, 289.599000000]: TF_REPEATED_DATA ignoring data with redundant timestamp for frame odom at time 289.638000 according to authority unknown_publisher\u001b[0m\n",
      "\u001b[33m[ WARN] [1661540190.814208594, 289.599000000]: TF_REPEATED_DATA ignoring data with redundant timestamp for frame odom at time 289.638000 according to authority /pose_integrator\u001b[0m\n",
      "\u001b[33m[ WARN] [1661540219.002634987, 294.285000000]: TF_REPEATED_DATA ignoring data with redundant timestamp for frame odom at time 294.339000 according to authority /pose_integrator\u001b[0m\n",
      "\u001b[33m[ WARN] [1661540219.016710629, 294.339000000]: TF_REPEATED_DATA ignoring data with redundant timestamp for frame odom at time 294.339000 according to authority unknown_publisher\u001b[0m\n",
      "\u001b[33m[ WARN] [1661540221.310849162, 294.645000000]: TF_REPEATED_DATA ignoring data with redundant timestamp for frame odom at time 294.681000 according to authority /pose_integrator\u001b[0m\n",
      "\u001b[33m[ WARN] [1661540221.314545024, 294.645000000]: TF_REPEATED_DATA ignoring data with redundant timestamp for frame odom at time 294.681000 according to authority unknown_publisher\u001b[0m\n",
      "\u001b[33m[ WARN] [1661540233.057818579, 296.811000000]: TF_REPEATED_DATA ignoring data with redundant timestamp for frame odom at time 296.889000 according to authority /pose_integrator\u001b[0m\n",
      "\u001b[33m[ WARN] [1661540233.058720896, 296.811000000]: TF_REPEATED_DATA ignoring data with redundant timestamp for frame odom at time 296.889000 according to authority unknown_publisher\u001b[0m\n",
      "\u001b[33m[ WARN] [1661540233.597430813, 296.922000000]: TF_REPEATED_DATA ignoring data with redundant timestamp for frame odom at time 296.973000 according to authority /pose_integrator\u001b[0m\n",
      "\u001b[33m[ WARN] [1661540233.597908189, 296.922000000]: TF_REPEATED_DATA ignoring data with redundant timestamp for frame odom at time 296.973000 according to authority unknown_publisher\u001b[0m\n",
      "\u001b[33m[ WARN] [1661540240.765283142, 298.044000000]: TF_REPEATED_DATA ignoring data with redundant timestamp for frame odom at time 298.089000 according to authority unknown_publisher\u001b[0m\n",
      "\u001b[33m[ WARN] [1661540240.780525183, 298.044000000]: TF_REPEATED_DATA ignoring data with redundant timestamp for frame odom at time 298.089000 according to authority /pose_integrator\u001b[0m\n",
      "\u001b[33m[ WARN] [1661540248.517270728, 299.304000000]: TF_REPEATED_DATA ignoring data with redundant timestamp for frame odom at time 299.346000 according to authority /pose_integrator\u001b[0m\n",
      "\u001b[33m[ WARN] [1661540248.521869507, 299.304000000]: TF_REPEATED_DATA ignoring data with redundant timestamp for frame odom at time 299.346000 according to authority unknown_publisher\u001b[0m\n",
      "\u001b[33m[ WARN] [1661540250.222438788, 299.631000000]: TF_REPEATED_DATA ignoring data with redundant timestamp for frame odom at time 299.664000 according to authority /pose_integrator\u001b[0m\n",
      "\u001b[33m[ WARN] [1661540250.222693787, 299.631000000]: TF_REPEATED_DATA ignoring data with redundant timestamp for frame odom at time 299.664000 according to authority unknown_publisher\u001b[0m\n",
      "\u001b[33m[ WARN] [1661540253.218827530, 300.210000000]: TF_REPEATED_DATA ignoring data with redundant timestamp for frame odom at time 300.249000 according to authority unknown_publisher\u001b[0m\n",
      "\u001b[33m[ WARN] [1661540253.218971979, 300.210000000]: TF_REPEATED_DATA ignoring data with redundant timestamp for frame odom at time 300.249000 according to authority /pose_integrator\u001b[0m\n",
      "\u001b[33m[ WARN] [1661540256.065048361, 300.774000000]: TF_REPEATED_DATA ignoring data with redundant timestamp for frame odom at time 300.804000 according to authority unknown_publisher\u001b[0m\n",
      "\u001b[33m[ WARN] [1661540256.065811037, 300.774000000]: TF_REPEATED_DATA ignoring data with redundant timestamp for frame odom at time 300.804000 according to authority /pose_integrator\u001b[0m\n",
      "\u001b[33m[ WARN] [1661540267.004469851, 302.646000000]: TF_REPEATED_DATA ignoring data with redundant timestamp for frame odom at time 302.685000 according to authority /pose_integrator\u001b[0m\n",
      "\u001b[33m[ WARN] [1661540267.005276430, 302.646000000]: TF_REPEATED_DATA ignoring data with redundant timestamp for frame odom at time 302.685000 according to authority unknown_publisher\u001b[0m\n",
      "\u001b[33m[ WARN] [1661540276.715935011, 304.536000000]: TF_REPEATED_DATA ignoring data with redundant timestamp for frame odom at time 304.572000 according to authority unknown_publisher\u001b[0m\n",
      "\u001b[33m[ WARN] [1661540276.716231546, 304.536000000]: TF_REPEATED_DATA ignoring data with redundant timestamp for frame odom at time 304.572000 according to authority /pose_integrator\u001b[0m\n"
     ]
    },
    {
     "name": "stderr",
     "output_type": "stream",
     "text": [
      "\u001b[33m[ WARN] [1661540282.757965271, 305.754000000]: TF_REPEATED_DATA ignoring data with redundant timestamp for frame odom at time 305.754000 according to authority /pose_integrator\u001b[0m\n",
      "\u001b[33m[ WARN] [1661540282.759377055, 305.754000000]: TF_REPEATED_DATA ignoring data with redundant timestamp for frame odom at time 305.754000 according to authority unknown_publisher\u001b[0m\n",
      "\u001b[33m[ WARN] [1661540288.678249746, 306.810000000]: TF_REPEATED_DATA ignoring data with redundant timestamp for frame odom at time 306.846000 according to authority /pose_integrator\u001b[0m\n",
      "\u001b[33m[ WARN] [1661540288.682255046, 306.810000000]: TF_REPEATED_DATA ignoring data with redundant timestamp for frame odom at time 306.846000 according to authority unknown_publisher\u001b[0m\n",
      "\u001b[33m[ WARN] [1661540312.141483067, 310.707000000]: TF_REPEATED_DATA ignoring data with redundant timestamp for frame odom at time 310.731000 according to authority /pose_integrator\u001b[0m\n",
      "\u001b[33m[ WARN] [1661540312.143230207, 310.707000000]: TF_REPEATED_DATA ignoring data with redundant timestamp for frame odom at time 310.731000 according to authority unknown_publisher\u001b[0m\n",
      "\u001b[33m[ WARN] [1661540314.445562908, 310.983000000]: TF_REPEATED_DATA ignoring data with redundant timestamp for frame odom at time 311.067000 according to authority /pose_integrator\u001b[0m\n",
      "\u001b[33m[ WARN] [1661540314.446022139, 310.983000000]: TF_REPEATED_DATA ignoring data with redundant timestamp for frame odom at time 311.067000 according to authority unknown_publisher\u001b[0m\n",
      "\u001b[33m[ WARN] [1661540318.028557614, 311.625000000]: TF_REPEATED_DATA ignoring data with redundant timestamp for frame odom at time 311.661000 according to authority unknown_publisher\u001b[0m\n",
      "\u001b[33m[ WARN] [1661540318.030498143, 311.625000000]: TF_REPEATED_DATA ignoring data with redundant timestamp for frame odom at time 311.661000 according to authority /pose_integrator\u001b[0m\n",
      "\u001b[33m[ WARN] [1661540320.729754706, 312.150000000]: TF_REPEATED_DATA ignoring data with redundant timestamp for frame odom at time 312.177000 according to authority /pose_integrator\u001b[0m\n",
      "\u001b[33m[ WARN] [1661540320.734330512, 312.150000000]: TF_REPEATED_DATA ignoring data with redundant timestamp for frame odom at time 312.177000 according to authority unknown_publisher\u001b[0m\n",
      "\u001b[33m[ WARN] [1661540324.049125606, 312.756000000]: TF_REPEATED_DATA ignoring data with redundant timestamp for frame odom at time 312.789000 according to authority /pose_integrator\u001b[0m\n",
      "\u001b[33m[ WARN] [1661540324.052594751, 312.756000000]: TF_REPEATED_DATA ignoring data with redundant timestamp for frame odom at time 312.789000 according to authority unknown_publisher\u001b[0m\n",
      "\u001b[33m[ WARN] [1661540335.694778022, 314.619000000]: TF_REPEATED_DATA ignoring data with redundant timestamp for frame odom at time 314.640000 according to authority /pose_integrator\u001b[0m\n",
      "\u001b[33m[ WARN] [1661540335.695283671, 314.619000000]: TF_REPEATED_DATA ignoring data with redundant timestamp for frame odom at time 314.640000 according to authority unknown_publisher\u001b[0m\n",
      "\u001b[33m[ WARN] [1661540336.044368576, 314.691000000]: TF_REPEATED_DATA ignoring data with redundant timestamp for frame odom at time 314.715000 according to authority /pose_integrator\u001b[0m\n",
      "\u001b[33m[ WARN] [1661540336.056827056, 314.691000000]: TF_REPEATED_DATA ignoring data with redundant timestamp for frame odom at time 314.715000 according to authority unknown_publisher\u001b[0m\n",
      "\u001b[33m[ WARN] [1661540336.438546050, 314.820000000]: TF_REPEATED_DATA ignoring data with redundant timestamp for frame odom at time 314.898000 according to authority /pose_integrator\u001b[0m\n",
      "\u001b[33m[ WARN] [1661540336.441498343, 314.820000000]: TF_REPEATED_DATA ignoring data with redundant timestamp for frame odom at time 314.898000 according to authority unknown_publisher\u001b[0m\n",
      "\u001b[33m[ WARN] [1661540343.998768832, 316.053000000]: TF_REPEATED_DATA ignoring data with redundant timestamp for frame odom at time 316.095000 according to authority unknown_publisher\u001b[0m\n",
      "\u001b[33m[ WARN] [1661540344.000116927, 316.053000000]: TF_REPEATED_DATA ignoring data with redundant timestamp for frame odom at time 316.095000 according to authority /pose_integrator\u001b[0m\n",
      "\u001b[33m[ WARN] [1661540346.857409187, 316.542000000]: TF_REPEATED_DATA ignoring data with redundant timestamp for frame odom at time 316.584000 according to authority /pose_integrator\u001b[0m\n",
      "\u001b[33m[ WARN] [1661540346.858709813, 316.542000000]: TF_REPEATED_DATA ignoring data with redundant timestamp for frame odom at time 316.584000 according to authority unknown_publisher\u001b[0m\n",
      "\u001b[33m[ WARN] [1661540348.160817519, 316.815000000]: TF_REPEATED_DATA ignoring data with redundant timestamp for frame odom at time 316.839000 according to authority /pose_integrator\u001b[0m\n",
      "\u001b[33m[ WARN] [1661540348.163407291, 316.815000000]: TF_REPEATED_DATA ignoring data with redundant timestamp for frame odom at time 316.839000 according to authority unknown_publisher\u001b[0m\n",
      "\u001b[33m[ WARN] [1661540348.461604630, 316.854000000]: TF_REPEATED_DATA ignoring data with redundant timestamp for frame odom at time 316.890000 according to authority /pose_integrator\u001b[0m\n",
      "\u001b[33m[ WARN] [1661540348.463189562, 316.854000000]: TF_REPEATED_DATA ignoring data with redundant timestamp for frame odom at time 316.890000 according to authority unknown_publisher\u001b[0m\n",
      "\u001b[33m[ WARN] [1661540351.507271089, 317.457000000]: TF_REPEATED_DATA ignoring data with redundant timestamp for frame odom at time 317.496000 according to authority unknown_publisher\u001b[0m\n",
      "\u001b[33m[ WARN] [1661540351.507347718, 317.457000000]: TF_REPEATED_DATA ignoring data with redundant timestamp for frame odom at time 317.496000 according to authority /pose_integrator\u001b[0m\n",
      "\u001b[33m[ WARN] [1661540365.090869278, 319.836000000]: TF_REPEATED_DATA ignoring data with redundant timestamp for frame odom at time 319.836000 according to authority /pose_integrator\u001b[0m\n",
      "\u001b[33m[ WARN] [1661540365.091567451, 319.836000000]: TF_REPEATED_DATA ignoring data with redundant timestamp for frame odom at time 319.836000 according to authority unknown_publisher\u001b[0m\n",
      "\u001b[33m[ WARN] [1661540366.740713408, 320.049000000]: TF_REPEATED_DATA ignoring data with redundant timestamp for frame odom at time 320.079000 according to authority /pose_integrator\u001b[0m\n",
      "\u001b[33m[ WARN] [1661540366.741819766, 320.049000000]: TF_REPEATED_DATA ignoring data with redundant timestamp for frame odom at time 320.079000 according to authority unknown_publisher\u001b[0m\n",
      "\u001b[33m[ WARN] [1661540376.091362613, 321.675000000]: TF_REPEATED_DATA ignoring data with redundant timestamp for frame odom at time 321.696000 according to authority unknown_publisher\u001b[0m\n",
      "\u001b[33m[ WARN] [1661540376.094877440, 321.696000000]: TF_REPEATED_DATA ignoring data with redundant timestamp for frame odom at time 321.696000 according to authority /pose_integrator\u001b[0m\n",
      "\u001b[33m[ WARN] [1661540386.661028049, 323.229000000]: TF_REPEATED_DATA ignoring data with redundant timestamp for frame odom at time 323.274000 according to authority unknown_publisher\u001b[0m\n",
      "\u001b[33m[ WARN] [1661540386.662331041, 323.229000000]: TF_REPEATED_DATA ignoring data with redundant timestamp for frame odom at time 323.274000 according to authority /pose_integrator\u001b[0m\n",
      "\u001b[33m[ WARN] [1661540396.602207289, 324.690000000]: TF_REPEATED_DATA ignoring data with redundant timestamp for frame odom at time 324.777000 according to authority /pose_integrator\u001b[0m\n",
      "\u001b[33m[ WARN] [1661540396.603441315, 324.690000000]: TF_REPEATED_DATA ignoring data with redundant timestamp for frame odom at time 324.777000 according to authority unknown_publisher\u001b[0m\n",
      "\u001b[33m[ WARN] [1661540396.922212752, 324.777000000]: TF_REPEATED_DATA ignoring data with redundant timestamp for frame odom at time 324.855000 according to authority /pose_integrator\u001b[0m\n",
      "\u001b[33m[ WARN] [1661540396.929857284, 324.777000000]: TF_REPEATED_DATA ignoring data with redundant timestamp for frame odom at time 324.855000 according to authority unknown_publisher\u001b[0m\n",
      "\u001b[33m[ WARN] [1661540406.965119875, 326.469000000]: TF_REPEATED_DATA ignoring data with redundant timestamp for frame odom at time 326.511000 according to authority unknown_publisher\u001b[0m\n",
      "\u001b[33m[ WARN] [1661540406.966995433, 326.469000000]: TF_REPEATED_DATA ignoring data with redundant timestamp for frame odom at time 326.511000 according to authority /pose_integrator\u001b[0m\n"
     ]
    },
    {
     "name": "stderr",
     "output_type": "stream",
     "text": [
      "\u001b[33m[ WARN] [1661540408.950075100, 326.766000000]: TF_REPEATED_DATA ignoring data with redundant timestamp for frame odom at time 326.808000 according to authority unknown_publisher\u001b[0m\n",
      "\u001b[33m[ WARN] [1661540408.950204971, 326.766000000]: TF_REPEATED_DATA ignoring data with redundant timestamp for frame odom at time 326.808000 according to authority /pose_integrator\u001b[0m\n",
      "\u001b[33m[ WARN] [1661540414.070570810, 327.726000000]: TF_REPEATED_DATA ignoring data with redundant timestamp for frame odom at time 327.780000 according to authority /pose_integrator\u001b[0m\n",
      "\u001b[33m[ WARN] [1661540414.070811246, 327.726000000]: TF_REPEATED_DATA ignoring data with redundant timestamp for frame odom at time 327.780000 according to authority unknown_publisher\u001b[0m\n",
      "\u001b[33m[ WARN] [1661540415.718333390, 328.020000000]: TF_REPEATED_DATA ignoring data with redundant timestamp for frame odom at time 328.113000 according to authority unknown_publisher\u001b[0m\n",
      "\u001b[33m[ WARN] [1661540415.718750410, 328.020000000]: TF_REPEATED_DATA ignoring data with redundant timestamp for frame odom at time 328.113000 according to authority /pose_integrator\u001b[0m\n",
      "\u001b[33m[ WARN] [1661540418.662800699, 328.656000000]: TF_REPEATED_DATA ignoring data with redundant timestamp for frame odom at time 328.677000 according to authority /pose_integrator\u001b[0m\n",
      "\u001b[33m[ WARN] [1661540418.665912020, 328.656000000]: TF_REPEATED_DATA ignoring data with redundant timestamp for frame odom at time 328.677000 according to authority unknown_publisher\u001b[0m\n",
      "\u001b[33m[ WARN] [1661540423.221835095, 329.298000000]: TF_REPEATED_DATA ignoring data with redundant timestamp for frame arm_flex_link at time 329.421000 according to authority unknown_publisher\u001b[0m\n",
      "\u001b[33m[ WARN] [1661540423.221942280, 329.298000000]: TF_REPEATED_DATA ignoring data with redundant timestamp for frame arm_lift_link at time 329.421000 according to authority unknown_publisher\u001b[0m\n",
      "\u001b[33m[ WARN] [1661540423.222011571, 329.298000000]: TF_REPEATED_DATA ignoring data with redundant timestamp for frame arm_roll_link at time 329.421000 according to authority unknown_publisher\u001b[0m\n",
      "\u001b[33m[ WARN] [1661540423.222069868, 329.298000000]: TF_REPEATED_DATA ignoring data with redundant timestamp for frame base_b_bumper_link at time 329.421000 according to authority unknown_publisher\u001b[0m\n",
      "\u001b[33m[ WARN] [1661540423.222124274, 329.298000000]: TF_REPEATED_DATA ignoring data with redundant timestamp for frame base_f_bumper_link at time 329.421000 according to authority unknown_publisher\u001b[0m\n",
      "\u001b[33m[ WARN] [1661540423.222186196, 329.298000000]: TF_REPEATED_DATA ignoring data with redundant timestamp for frame base_l_drive_wheel_link at time 329.421000 according to authority unknown_publisher\u001b[0m\n",
      "\u001b[33m[ WARN] [1661540423.222233826, 329.298000000]: TF_REPEATED_DATA ignoring data with redundant timestamp for frame base_l_passive_wheel_x_frame at time 329.421000 according to authority unknown_publisher\u001b[0m\n",
      "\u001b[33m[ WARN] [1661540423.222277314, 329.298000000]: TF_REPEATED_DATA ignoring data with redundant timestamp for frame base_l_passive_wheel_y_frame at time 329.421000 according to authority unknown_publisher\u001b[0m\n",
      "\u001b[33m[ WARN] [1661540423.222316058, 329.298000000]: TF_REPEATED_DATA ignoring data with redundant timestamp for frame base_l_passive_wheel_z_link at time 329.421000 according to authority unknown_publisher\u001b[0m\n",
      "\u001b[33m[ WARN] [1661540423.222353773, 329.298000000]: TF_REPEATED_DATA ignoring data with redundant timestamp for frame base_r_drive_wheel_link at time 329.421000 according to authority unknown_publisher\u001b[0m\n",
      "\u001b[33m[ WARN] [1661540423.222388754, 329.298000000]: TF_REPEATED_DATA ignoring data with redundant timestamp for frame base_r_passive_wheel_x_frame at time 329.421000 according to authority unknown_publisher\u001b[0m\n",
      "\u001b[33m[ WARN] [1661540423.222420196, 329.298000000]: TF_REPEATED_DATA ignoring data with redundant timestamp for frame base_r_passive_wheel_y_frame at time 329.421000 according to authority unknown_publisher\u001b[0m\n",
      "\u001b[33m[ WARN] [1661540423.222463554, 329.298000000]: TF_REPEATED_DATA ignoring data with redundant timestamp for frame base_r_passive_wheel_z_link at time 329.421000 according to authority unknown_publisher\u001b[0m\n",
      "\u001b[33m[ WARN] [1661540423.222495306, 329.298000000]: TF_REPEATED_DATA ignoring data with redundant timestamp for frame base_roll_link at time 329.421000 according to authority unknown_publisher\u001b[0m\n",
      "\u001b[33m[ WARN] [1661540423.222524867, 329.298000000]: TF_REPEATED_DATA ignoring data with redundant timestamp for frame hand_l_distal_link at time 329.421000 according to authority unknown_publisher\u001b[0m\n",
      "\u001b[33m[ WARN] [1661540423.222555645, 329.298000000]: TF_REPEATED_DATA ignoring data with redundant timestamp for frame hand_l_mimic_distal_link at time 329.421000 according to authority unknown_publisher\u001b[0m\n",
      "\u001b[33m[ WARN] [1661540423.222583817, 329.298000000]: TF_REPEATED_DATA ignoring data with redundant timestamp for frame hand_l_proximal_link at time 329.421000 according to authority unknown_publisher\u001b[0m\n",
      "\u001b[33m[ WARN] [1661540423.222614104, 329.298000000]: TF_REPEATED_DATA ignoring data with redundant timestamp for frame hand_l_spring_proximal_link at time 329.421000 according to authority unknown_publisher\u001b[0m\n",
      "\u001b[33m[ WARN] [1661540423.222643236, 329.298000000]: TF_REPEATED_DATA ignoring data with redundant timestamp for frame hand_motor_dummy_link at time 329.421000 according to authority unknown_publisher\u001b[0m\n",
      "\u001b[33m[ WARN] [1661540423.222672899, 329.298000000]: TF_REPEATED_DATA ignoring data with redundant timestamp for frame hand_r_distal_link at time 329.421000 according to authority unknown_publisher\u001b[0m\n",
      "\u001b[33m[ WARN] [1661540423.222698126, 329.298000000]: TF_REPEATED_DATA ignoring data with redundant timestamp for frame hand_r_mimic_distal_link at time 329.421000 according to authority unknown_publisher\u001b[0m\n",
      "\u001b[33m[ WARN] [1661540423.222724985, 329.298000000]: TF_REPEATED_DATA ignoring data with redundant timestamp for frame hand_r_proximal_link at time 329.421000 according to authority unknown_publisher\u001b[0m\n",
      "\u001b[33m[ WARN] [1661540423.222753373, 329.298000000]: TF_REPEATED_DATA ignoring data with redundant timestamp for frame hand_r_spring_proximal_link at time 329.421000 according to authority unknown_publisher\u001b[0m\n",
      "\u001b[33m[ WARN] [1661540423.222780875, 329.298000000]: TF_REPEATED_DATA ignoring data with redundant timestamp for frame head_pan_link at time 329.421000 according to authority unknown_publisher\u001b[0m\n",
      "\u001b[33m[ WARN] [1661540423.222811962, 329.298000000]: TF_REPEATED_DATA ignoring data with redundant timestamp for frame head_tilt_link at time 329.421000 according to authority unknown_publisher\u001b[0m\n",
      "\u001b[33m[ WARN] [1661540423.222839843, 329.298000000]: TF_REPEATED_DATA ignoring data with redundant timestamp for frame torso_lift_link at time 329.421000 according to authority unknown_publisher\u001b[0m\n",
      "\u001b[33m[ WARN] [1661540423.222866520, 329.298000000]: TF_REPEATED_DATA ignoring data with redundant timestamp for frame wrist_flex_link at time 329.421000 according to authority unknown_publisher\u001b[0m\n",
      "\u001b[33m[ WARN] [1661540423.222893602, 329.298000000]: TF_REPEATED_DATA ignoring data with redundant timestamp for frame wrist_ft_sensor_frame at time 329.421000 according to authority unknown_publisher\u001b[0m\n",
      "\u001b[33m[ WARN] [1661540423.223003603, 329.298000000]: TF_REPEATED_DATA ignoring data with redundant timestamp for frame wrist_ft_sensor_mount_link at time 329.421000 according to authority unknown_publisher\u001b[0m\n",
      "\u001b[33m[ WARN] [1661540423.225996544, 329.298000000]: TF_REPEATED_DATA ignoring data with redundant timestamp for frame arm_flex_link at time 329.421000 according to authority /robot_state_publisher\u001b[0m\n",
      "\u001b[33m[ WARN] [1661540423.226174780, 329.298000000]: TF_REPEATED_DATA ignoring data with redundant timestamp for frame arm_lift_link at time 329.421000 according to authority /robot_state_publisher\u001b[0m\n",
      "\u001b[33m[ WARN] [1661540423.226277123, 329.298000000]: TF_REPEATED_DATA ignoring data with redundant timestamp for frame arm_roll_link at time 329.421000 according to authority /robot_state_publisher\u001b[0m\n",
      "\u001b[33m[ WARN] [1661540423.226375434, 329.298000000]: TF_REPEATED_DATA ignoring data with redundant timestamp for frame base_b_bumper_link at time 329.421000 according to authority /robot_state_publisher\u001b[0m\n",
      "\u001b[33m[ WARN] [1661540423.226449336, 329.298000000]: TF_REPEATED_DATA ignoring data with redundant timestamp for frame base_f_bumper_link at time 329.421000 according to authority /robot_state_publisher\u001b[0m\n",
      "\u001b[33m[ WARN] [1661540423.226514193, 329.298000000]: TF_REPEATED_DATA ignoring data with redundant timestamp for frame base_l_drive_wheel_link at time 329.421000 according to authority /robot_state_publisher\u001b[0m\n",
      "\u001b[33m[ WARN] [1661540423.226559898, 329.298000000]: TF_REPEATED_DATA ignoring data with redundant timestamp for frame base_l_passive_wheel_x_frame at time 329.421000 according to authority /robot_state_publisher\u001b[0m\n",
      "\u001b[33m[ WARN] [1661540423.226604076, 329.298000000]: TF_REPEATED_DATA ignoring data with redundant timestamp for frame base_l_passive_wheel_y_frame at time 329.421000 according to authority /robot_state_publisher\u001b[0m\n",
      "\u001b[33m[ WARN] [1661540423.226634430, 329.298000000]: TF_REPEATED_DATA ignoring data with redundant timestamp for frame base_l_passive_wheel_z_link at time 329.421000 according to authority /robot_state_publisher\u001b[0m\n",
      "\u001b[33m[ WARN] [1661540423.226660088, 329.298000000]: TF_REPEATED_DATA ignoring data with redundant timestamp for frame base_r_drive_wheel_link at time 329.421000 according to authority /robot_state_publisher\u001b[0m\n",
      "\u001b[33m[ WARN] [1661540423.226693688, 329.298000000]: TF_REPEATED_DATA ignoring data with redundant timestamp for frame base_r_passive_wheel_x_frame at time 329.421000 according to authority /robot_state_publisher\u001b[0m\n",
      "\u001b[33m[ WARN] [1661540423.226765855, 329.298000000]: TF_REPEATED_DATA ignoring data with redundant timestamp for frame base_r_passive_wheel_y_frame at time 329.421000 according to authority /robot_state_publisher\u001b[0m\n",
      "\u001b[33m[ WARN] [1661540423.226839854, 329.298000000]: TF_REPEATED_DATA ignoring data with redundant timestamp for frame base_r_passive_wheel_z_link at time 329.421000 according to authority /robot_state_publisher\u001b[0m\n",
      "\u001b[33m[ WARN] [1661540423.226899035, 329.298000000]: TF_REPEATED_DATA ignoring data with redundant timestamp for frame base_roll_link at time 329.421000 according to authority /robot_state_publisher\u001b[0m\n",
      "\u001b[33m[ WARN] [1661540423.226966437, 329.298000000]: TF_REPEATED_DATA ignoring data with redundant timestamp for frame hand_l_distal_link at time 329.421000 according to authority /robot_state_publisher\u001b[0m\n",
      "\u001b[33m[ WARN] [1661540423.227017372, 329.298000000]: TF_REPEATED_DATA ignoring data with redundant timestamp for frame hand_l_mimic_distal_link at time 329.421000 according to authority /robot_state_publisher\u001b[0m\n",
      "\u001b[33m[ WARN] [1661540423.227052517, 329.298000000]: TF_REPEATED_DATA ignoring data with redundant timestamp for frame hand_l_proximal_link at time 329.421000 according to authority /robot_state_publisher\u001b[0m\n",
      "\u001b[33m[ WARN] [1661540423.227102506, 329.298000000]: TF_REPEATED_DATA ignoring data with redundant timestamp for frame hand_l_spring_proximal_link at time 329.421000 according to authority /robot_state_publisher\u001b[0m\n",
      "\u001b[33m[ WARN] [1661540423.227136467, 329.298000000]: TF_REPEATED_DATA ignoring data with redundant timestamp for frame hand_motor_dummy_link at time 329.421000 according to authority /robot_state_publisher\u001b[0m\n",
      "\u001b[33m[ WARN] [1661540423.227171280, 329.298000000]: TF_REPEATED_DATA ignoring data with redundant timestamp for frame hand_r_distal_link at time 329.421000 according to authority /robot_state_publisher\u001b[0m\n",
      "\u001b[33m[ WARN] [1661540423.227203854, 329.298000000]: TF_REPEATED_DATA ignoring data with redundant timestamp for frame hand_r_mimic_distal_link at time 329.421000 according to authority /robot_state_publisher\u001b[0m\n",
      "\u001b[33m[ WARN] [1661540423.227235847, 329.298000000]: TF_REPEATED_DATA ignoring data with redundant timestamp for frame hand_r_proximal_link at time 329.421000 according to authority /robot_state_publisher\u001b[0m\n",
      "\u001b[33m[ WARN] [1661540423.227260922, 329.298000000]: TF_REPEATED_DATA ignoring data with redundant timestamp for frame hand_r_spring_proximal_link at time 329.421000 according to authority /robot_state_publisher\u001b[0m\n",
      "\u001b[33m[ WARN] [1661540423.227299837, 329.298000000]: TF_REPEATED_DATA ignoring data with redundant timestamp for frame head_pan_link at time 329.421000 according to authority /robot_state_publisher\u001b[0m\n",
      "\u001b[33m[ WARN] [1661540423.227363334, 329.298000000]: TF_REPEATED_DATA ignoring data with redundant timestamp for frame head_tilt_link at time 329.421000 according to authority /robot_state_publisher\u001b[0m\n",
      "\u001b[33m[ WARN] [1661540423.227409903, 329.298000000]: TF_REPEATED_DATA ignoring data with redundant timestamp for frame torso_lift_link at time 329.421000 according to authority /robot_state_publisher\u001b[0m\n",
      "\u001b[33m[ WARN] [1661540423.227455159, 329.298000000]: TF_REPEATED_DATA ignoring data with redundant timestamp for frame wrist_flex_link at time 329.421000 according to authority /robot_state_publisher\u001b[0m\n",
      "\u001b[33m[ WARN] [1661540423.227493307, 329.298000000]: TF_REPEATED_DATA ignoring data with redundant timestamp for frame wrist_ft_sensor_frame at time 329.421000 according to authority /robot_state_publisher\u001b[0m\n",
      "\u001b[33m[ WARN] [1661540423.227530113, 329.298000000]: TF_REPEATED_DATA ignoring data with redundant timestamp for frame wrist_ft_sensor_mount_link at time 329.421000 according to authority /robot_state_publisher\u001b[0m\n"
     ]
    },
    {
     "name": "stderr",
     "output_type": "stream",
     "text": [
      "\u001b[33m[ WARN] [1661540431.099456094, 330.777000000]: TF_REPEATED_DATA ignoring data with redundant timestamp for frame odom at time 330.768000 according to authority unknown_publisher\u001b[0m\n",
      "\u001b[33m[ WARN] [1661540431.100651275, 330.777000000]: TF_REPEATED_DATA ignoring data with redundant timestamp for frame odom at time 330.768000 according to authority /pose_integrator\u001b[0m\n",
      "\u001b[33m[ WARN] [1661540433.376458974, 331.095000000]: TF_REPEATED_DATA ignoring data with redundant timestamp for frame odom at time 331.209000 according to authority /pose_integrator\u001b[0m\n",
      "\u001b[33m[ WARN] [1661540433.380301240, 331.095000000]: TF_REPEATED_DATA ignoring data with redundant timestamp for frame odom at time 331.209000 according to authority unknown_publisher\u001b[0m\n",
      "\u001b[33m[ WARN] [1661540436.496090448, 331.662000000]: TF_REPEATED_DATA ignoring data with redundant timestamp for frame odom at time 331.683000 according to authority unknown_publisher\u001b[0m\n",
      "\u001b[33m[ WARN] [1661540436.497282254, 331.662000000]: TF_REPEATED_DATA ignoring data with redundant timestamp for frame odom at time 331.683000 according to authority /pose_integrator\u001b[0m\n",
      "\u001b[33m[ WARN] [1661540443.892744485, 332.895000000]: TF_REPEATED_DATA ignoring data with redundant timestamp for frame odom at time 332.952000 according to authority unknown_publisher\u001b[0m\n",
      "\u001b[33m[ WARN] [1661540443.901980379, 332.895000000]: TF_REPEATED_DATA ignoring data with redundant timestamp for frame odom at time 332.952000 according to authority /pose_integrator\u001b[0m\n",
      "\u001b[33m[ WARN] [1661540444.349634642, 332.952000000]: TF_REPEATED_DATA ignoring data with redundant timestamp for frame arm_flex_link at time 333.159000 according to authority unknown_publisher\u001b[0m\n",
      "\u001b[33m[ WARN] [1661540444.349725977, 332.952000000]: TF_REPEATED_DATA ignoring data with redundant timestamp for frame arm_lift_link at time 333.159000 according to authority unknown_publisher\u001b[0m\n",
      "\u001b[33m[ WARN] [1661540444.349761327, 332.952000000]: TF_REPEATED_DATA ignoring data with redundant timestamp for frame arm_roll_link at time 333.159000 according to authority unknown_publisher\u001b[0m\n",
      "\u001b[33m[ WARN] [1661540444.349794766, 332.952000000]: TF_REPEATED_DATA ignoring data with redundant timestamp for frame base_b_bumper_link at time 333.159000 according to authority unknown_publisher\u001b[0m\n",
      "\u001b[33m[ WARN] [1661540444.349827712, 332.952000000]: TF_REPEATED_DATA ignoring data with redundant timestamp for frame base_f_bumper_link at time 333.159000 according to authority unknown_publisher\u001b[0m\n",
      "\u001b[33m[ WARN] [1661540444.349867798, 332.952000000]: TF_REPEATED_DATA ignoring data with redundant timestamp for frame base_l_drive_wheel_link at time 333.159000 according to authority unknown_publisher\u001b[0m\n",
      "\u001b[33m[ WARN] [1661540444.349909205, 332.952000000]: TF_REPEATED_DATA ignoring data with redundant timestamp for frame base_l_passive_wheel_x_frame at time 333.159000 according to authority unknown_publisher\u001b[0m\n",
      "\u001b[33m[ WARN] [1661540444.349945493, 332.952000000]: TF_REPEATED_DATA ignoring data with redundant timestamp for frame base_l_passive_wheel_y_frame at time 333.159000 according to authority unknown_publisher\u001b[0m\n",
      "\u001b[33m[ WARN] [1661540444.349979939, 332.952000000]: TF_REPEATED_DATA ignoring data with redundant timestamp for frame base_l_passive_wheel_z_link at time 333.159000 according to authority unknown_publisher\u001b[0m\n",
      "\u001b[33m[ WARN] [1661540444.350018895, 332.952000000]: TF_REPEATED_DATA ignoring data with redundant timestamp for frame base_r_drive_wheel_link at time 333.159000 according to authority unknown_publisher\u001b[0m\n",
      "\u001b[33m[ WARN] [1661540444.350051890, 332.952000000]: TF_REPEATED_DATA ignoring data with redundant timestamp for frame base_r_passive_wheel_x_frame at time 333.159000 according to authority unknown_publisher\u001b[0m\n",
      "\u001b[33m[ WARN] [1661540444.350089967, 332.952000000]: TF_REPEATED_DATA ignoring data with redundant timestamp for frame base_r_passive_wheel_y_frame at time 333.159000 according to authority unknown_publisher\u001b[0m\n",
      "\u001b[33m[ WARN] [1661540444.350125931, 332.952000000]: TF_REPEATED_DATA ignoring data with redundant timestamp for frame base_r_passive_wheel_z_link at time 333.159000 according to authority unknown_publisher\u001b[0m\n",
      "\u001b[33m[ WARN] [1661540444.350159625, 332.952000000]: TF_REPEATED_DATA ignoring data with redundant timestamp for frame base_roll_link at time 333.159000 according to authority unknown_publisher\u001b[0m\n",
      "\u001b[33m[ WARN] [1661540444.350193689, 332.952000000]: TF_REPEATED_DATA ignoring data with redundant timestamp for frame hand_l_distal_link at time 333.159000 according to authority unknown_publisher\u001b[0m\n",
      "\u001b[33m[ WARN] [1661540444.350231539, 332.952000000]: TF_REPEATED_DATA ignoring data with redundant timestamp for frame hand_l_mimic_distal_link at time 333.159000 according to authority unknown_publisher\u001b[0m\n",
      "\u001b[33m[ WARN] [1661540444.350262377, 332.952000000]: TF_REPEATED_DATA ignoring data with redundant timestamp for frame hand_l_proximal_link at time 333.159000 according to authority unknown_publisher\u001b[0m\n",
      "\u001b[33m[ WARN] [1661540444.350295792, 332.952000000]: TF_REPEATED_DATA ignoring data with redundant timestamp for frame hand_l_spring_proximal_link at time 333.159000 according to authority unknown_publisher\u001b[0m\n",
      "\u001b[33m[ WARN] [1661540444.350327642, 332.952000000]: TF_REPEATED_DATA ignoring data with redundant timestamp for frame hand_motor_dummy_link at time 333.159000 according to authority unknown_publisher\u001b[0m\n",
      "\u001b[33m[ WARN] [1661540444.350360768, 332.952000000]: TF_REPEATED_DATA ignoring data with redundant timestamp for frame hand_r_distal_link at time 333.159000 according to authority unknown_publisher\u001b[0m\n",
      "\u001b[33m[ WARN] [1661540444.350384449, 332.952000000]: TF_REPEATED_DATA ignoring data with redundant timestamp for frame hand_r_mimic_distal_link at time 333.159000 according to authority unknown_publisher\u001b[0m\n",
      "\u001b[33m[ WARN] [1661540444.350415425, 332.952000000]: TF_REPEATED_DATA ignoring data with redundant timestamp for frame hand_r_proximal_link at time 333.159000 according to authority unknown_publisher\u001b[0m\n",
      "\u001b[33m[ WARN] [1661540444.350439024, 332.952000000]: TF_REPEATED_DATA ignoring data with redundant timestamp for frame hand_r_spring_proximal_link at time 333.159000 according to authority unknown_publisher\u001b[0m\n",
      "\u001b[33m[ WARN] [1661540444.350460280, 332.952000000]: TF_REPEATED_DATA ignoring data with redundant timestamp for frame head_pan_link at time 333.159000 according to authority unknown_publisher\u001b[0m\n",
      "\u001b[33m[ WARN] [1661540444.350482547, 332.952000000]: TF_REPEATED_DATA ignoring data with redundant timestamp for frame head_tilt_link at time 333.159000 according to authority unknown_publisher\u001b[0m\n",
      "\u001b[33m[ WARN] [1661540444.350503777, 332.952000000]: TF_REPEATED_DATA ignoring data with redundant timestamp for frame torso_lift_link at time 333.159000 according to authority unknown_publisher\u001b[0m\n",
      "\u001b[33m[ WARN] [1661540444.350524645, 332.952000000]: TF_REPEATED_DATA ignoring data with redundant timestamp for frame wrist_flex_link at time 333.159000 according to authority unknown_publisher\u001b[0m\n",
      "\u001b[33m[ WARN] [1661540444.350551351, 332.952000000]: TF_REPEATED_DATA ignoring data with redundant timestamp for frame wrist_ft_sensor_frame at time 333.159000 according to authority unknown_publisher\u001b[0m\n",
      "\u001b[33m[ WARN] [1661540444.350578120, 332.952000000]: TF_REPEATED_DATA ignoring data with redundant timestamp for frame wrist_ft_sensor_mount_link at time 333.159000 according to authority unknown_publisher\u001b[0m\n",
      "\u001b[33m[ WARN] [1661540444.352750056, 332.952000000]: TF_REPEATED_DATA ignoring data with redundant timestamp for frame arm_flex_link at time 333.159000 according to authority /robot_state_publisher\u001b[0m\n",
      "\u001b[33m[ WARN] [1661540444.352850623, 332.952000000]: TF_REPEATED_DATA ignoring data with redundant timestamp for frame arm_lift_link at time 333.159000 according to authority /robot_state_publisher\u001b[0m\n",
      "\u001b[33m[ WARN] [1661540444.353011618, 332.952000000]: TF_REPEATED_DATA ignoring data with redundant timestamp for frame arm_roll_link at time 333.159000 according to authority /robot_state_publisher\u001b[0m\n",
      "\u001b[33m[ WARN] [1661540444.353141393, 332.952000000]: TF_REPEATED_DATA ignoring data with redundant timestamp for frame base_b_bumper_link at time 333.159000 according to authority /robot_state_publisher\u001b[0m\n",
      "\u001b[33m[ WARN] [1661540444.353283770, 332.952000000]: TF_REPEATED_DATA ignoring data with redundant timestamp for frame base_f_bumper_link at time 333.159000 according to authority /robot_state_publisher\u001b[0m\n",
      "\u001b[33m[ WARN] [1661540444.353503690, 332.952000000]: TF_REPEATED_DATA ignoring data with redundant timestamp for frame base_l_drive_wheel_link at time 333.159000 according to authority /robot_state_publisher\u001b[0m\n",
      "\u001b[33m[ WARN] [1661540444.353647033, 332.952000000]: TF_REPEATED_DATA ignoring data with redundant timestamp for frame base_l_passive_wheel_x_frame at time 333.159000 according to authority /robot_state_publisher\u001b[0m\n",
      "\u001b[33m[ WARN] [1661540444.353746173, 332.952000000]: TF_REPEATED_DATA ignoring data with redundant timestamp for frame base_l_passive_wheel_y_frame at time 333.159000 according to authority /robot_state_publisher\u001b[0m\n",
      "\u001b[33m[ WARN] [1661540444.353835510, 332.952000000]: TF_REPEATED_DATA ignoring data with redundant timestamp for frame base_l_passive_wheel_z_link at time 333.159000 according to authority /robot_state_publisher\u001b[0m\n",
      "\u001b[33m[ WARN] [1661540444.353925141, 332.952000000]: TF_REPEATED_DATA ignoring data with redundant timestamp for frame base_r_drive_wheel_link at time 333.159000 according to authority /robot_state_publisher\u001b[0m\n",
      "\u001b[33m[ WARN] [1661540444.354012143, 332.952000000]: TF_REPEATED_DATA ignoring data with redundant timestamp for frame base_r_passive_wheel_x_frame at time 333.159000 according to authority /robot_state_publisher\u001b[0m\n",
      "\u001b[33m[ WARN] [1661540444.354073387, 332.952000000]: TF_REPEATED_DATA ignoring data with redundant timestamp for frame base_r_passive_wheel_y_frame at time 333.159000 according to authority /robot_state_publisher\u001b[0m\n",
      "\u001b[33m[ WARN] [1661540444.354182021, 332.952000000]: TF_REPEATED_DATA ignoring data with redundant timestamp for frame base_r_passive_wheel_z_link at time 333.159000 according to authority /robot_state_publisher\u001b[0m\n",
      "\u001b[33m[ WARN] [1661540444.354298592, 332.952000000]: TF_REPEATED_DATA ignoring data with redundant timestamp for frame base_roll_link at time 333.159000 according to authority /robot_state_publisher\u001b[0m\n",
      "\u001b[33m[ WARN] [1661540444.354371872, 332.952000000]: TF_REPEATED_DATA ignoring data with redundant timestamp for frame hand_l_distal_link at time 333.159000 according to authority /robot_state_publisher\u001b[0m\n",
      "\u001b[33m[ WARN] [1661540444.354447660, 332.952000000]: TF_REPEATED_DATA ignoring data with redundant timestamp for frame hand_l_mimic_distal_link at time 333.159000 according to authority /robot_state_publisher\u001b[0m\n",
      "\u001b[33m[ WARN] [1661540444.354514033, 332.952000000]: TF_REPEATED_DATA ignoring data with redundant timestamp for frame hand_l_proximal_link at time 333.159000 according to authority /robot_state_publisher\u001b[0m\n",
      "\u001b[33m[ WARN] [1661540444.354552255, 332.952000000]: TF_REPEATED_DATA ignoring data with redundant timestamp for frame hand_l_spring_proximal_link at time 333.159000 according to authority /robot_state_publisher\u001b[0m\n",
      "\u001b[33m[ WARN] [1661540444.354618221, 332.952000000]: TF_REPEATED_DATA ignoring data with redundant timestamp for frame hand_motor_dummy_link at time 333.159000 according to authority /robot_state_publisher\u001b[0m\n",
      "\u001b[33m[ WARN] [1661540444.354665596, 332.952000000]: TF_REPEATED_DATA ignoring data with redundant timestamp for frame hand_r_distal_link at time 333.159000 according to authority /robot_state_publisher\u001b[0m\n",
      "\u001b[33m[ WARN] [1661540444.354729108, 332.952000000]: TF_REPEATED_DATA ignoring data with redundant timestamp for frame hand_r_mimic_distal_link at time 333.159000 according to authority /robot_state_publisher\u001b[0m\n",
      "\u001b[33m[ WARN] [1661540444.354882244, 332.952000000]: TF_REPEATED_DATA ignoring data with redundant timestamp for frame hand_r_proximal_link at time 333.159000 according to authority /robot_state_publisher\u001b[0m\n",
      "\u001b[33m[ WARN] [1661540444.354934469, 332.952000000]: TF_REPEATED_DATA ignoring data with redundant timestamp for frame hand_r_spring_proximal_link at time 333.159000 according to authority /robot_state_publisher\u001b[0m\n",
      "\u001b[33m[ WARN] [1661540444.354979896, 332.952000000]: TF_REPEATED_DATA ignoring data with redundant timestamp for frame head_pan_link at time 333.159000 according to authority /robot_state_publisher\u001b[0m\n",
      "\u001b[33m[ WARN] [1661540444.355053618, 332.952000000]: TF_REPEATED_DATA ignoring data with redundant timestamp for frame head_tilt_link at time 333.159000 according to authority /robot_state_publisher\u001b[0m\n",
      "\u001b[33m[ WARN] [1661540444.355116866, 332.952000000]: TF_REPEATED_DATA ignoring data with redundant timestamp for frame torso_lift_link at time 333.159000 according to authority /robot_state_publisher\u001b[0m\n",
      "\u001b[33m[ WARN] [1661540444.355186888, 332.952000000]: TF_REPEATED_DATA ignoring data with redundant timestamp for frame wrist_flex_link at time 333.159000 according to authority /robot_state_publisher\u001b[0m\n",
      "\u001b[33m[ WARN] [1661540444.355262627, 332.952000000]: TF_REPEATED_DATA ignoring data with redundant timestamp for frame wrist_ft_sensor_frame at time 333.159000 according to authority /robot_state_publisher\u001b[0m\n",
      "\u001b[33m[ WARN] [1661540444.355313542, 332.952000000]: TF_REPEATED_DATA ignoring data with redundant timestamp for frame wrist_ft_sensor_mount_link at time 333.159000 according to authority /robot_state_publisher\u001b[0m\n"
     ]
    },
    {
     "name": "stderr",
     "output_type": "stream",
     "text": [
      "\u001b[33m[ WARN] [1661540446.377084040, 333.465000000]: TF_REPEATED_DATA ignoring data with redundant timestamp for frame odom at time 333.495000 according to authority unknown_publisher\u001b[0m\n",
      "\u001b[33m[ WARN] [1661540446.391830640, 333.465000000]: TF_REPEATED_DATA ignoring data with redundant timestamp for frame odom at time 333.495000 according to authority /pose_integrator\u001b[0m\n",
      "\u001b[33m[ WARN] [1661540447.329434369, 333.648000000]: TF_REPEATED_DATA ignoring data with redundant timestamp for frame odom at time 333.705000 according to authority /pose_integrator\u001b[0m\n",
      "\u001b[33m[ WARN] [1661540447.329658673, 333.648000000]: TF_REPEATED_DATA ignoring data with redundant timestamp for frame odom at time 333.705000 according to authority unknown_publisher\u001b[0m\n",
      "\u001b[33m[ WARN] [1661540450.484127727, 334.101000000]: TF_REPEATED_DATA ignoring data with redundant timestamp for frame odom at time 334.149000 according to authority /pose_integrator\u001b[0m\n",
      "\u001b[33m[ WARN] [1661540450.490304526, 334.101000000]: TF_REPEATED_DATA ignoring data with redundant timestamp for frame odom at time 334.149000 according to authority unknown_publisher\u001b[0m\n",
      "\u001b[33m[ WARN] [1661540456.351779137, 334.890000000]: TF_REPEATED_DATA ignoring data with redundant timestamp for frame odom at time 334.917000 according to authority unknown_publisher\u001b[0m\n",
      "\u001b[33m[ WARN] [1661540456.353324618, 334.890000000]: TF_REPEATED_DATA ignoring data with redundant timestamp for frame odom at time 334.917000 according to authority /pose_integrator\u001b[0m\n",
      "\u001b[33m[ WARN] [1661540457.226470842, 335.007000000]: TF_REPEATED_DATA ignoring data with redundant timestamp for frame odom at time 335.229000 according to authority /pose_integrator\u001b[0m\n",
      "\u001b[33m[ WARN] [1661540457.227324714, 335.007000000]: TF_REPEATED_DATA ignoring data with redundant timestamp for frame odom at time 335.229000 according to authority unknown_publisher\u001b[0m\n",
      "\u001b[33m[ WARN] [1661540459.649835019, 335.577000000]: TF_REPEATED_DATA ignoring data with redundant timestamp for frame odom at time 335.613000 according to authority unknown_publisher\u001b[0m\n",
      "\u001b[33m[ WARN] [1661540459.650411583, 335.577000000]: TF_REPEATED_DATA ignoring data with redundant timestamp for frame odom at time 335.613000 according to authority /pose_integrator\u001b[0m\n",
      "\u001b[33m[ WARN] [1661540467.499959261, 336.831000000]: TF_REPEATED_DATA ignoring data with redundant timestamp for frame odom at time 336.909000 according to authority /pose_integrator\u001b[0m\n",
      "\u001b[33m[ WARN] [1661540467.503233720, 336.831000000]: TF_REPEATED_DATA ignoring data with redundant timestamp for frame odom at time 336.909000 according to authority unknown_publisher\u001b[0m\n",
      "\u001b[33m[ WARN] [1661540482.016346790, 338.943000000]: TF_REPEATED_DATA ignoring data with redundant timestamp for frame odom at time 339.012000 according to authority unknown_publisher\u001b[0m\n",
      "\u001b[33m[ WARN] [1661540482.021381870, 338.943000000]: TF_REPEATED_DATA ignoring data with redundant timestamp for frame odom at time 339.012000 according to authority /pose_integrator\u001b[0m\n",
      "\u001b[33m[ WARN] [1661540486.199880707, 339.585000000]: TF_REPEATED_DATA ignoring data with redundant timestamp for frame odom at time 339.657000 according to authority /pose_integrator\u001b[0m\n",
      "\u001b[33m[ WARN] [1661540486.200472099, 339.585000000]: TF_REPEATED_DATA ignoring data with redundant timestamp for frame odom at time 339.657000 according to authority unknown_publisher\u001b[0m\n",
      "\u001b[33m[ WARN] [1661540496.234640057, 341.472000000]: TF_REPEATED_DATA ignoring data with redundant timestamp for frame odom at time 341.523000 according to authority /pose_integrator\u001b[0m\n",
      "\u001b[33m[ WARN] [1661540496.239071046, 341.472000000]: TF_REPEATED_DATA ignoring data with redundant timestamp for frame odom at time 341.523000 according to authority unknown_publisher\u001b[0m\n",
      "\u001b[33m[ WARN] [1661540497.190234066, 341.694000000]: TF_REPEATED_DATA ignoring data with redundant timestamp for frame odom at time 341.760000 according to authority unknown_publisher\u001b[0m\n",
      "\u001b[33m[ WARN] [1661540497.190892262, 341.694000000]: TF_REPEATED_DATA ignoring data with redundant timestamp for frame odom at time 341.760000 according to authority /pose_integrator\u001b[0m\n",
      "\u001b[33m[ WARN] [1661540500.344391092, 342.291000000]: TF_REPEATED_DATA ignoring data with redundant timestamp for frame odom at time 342.324000 according to authority unknown_publisher\u001b[0m\n",
      "\u001b[33m[ WARN] [1661540500.348656291, 342.291000000]: TF_REPEATED_DATA ignoring data with redundant timestamp for frame odom at time 342.324000 according to authority /pose_integrator\u001b[0m\n",
      "\u001b[33m[ WARN] [1661540501.267378015, 342.411000000]: TF_REPEATED_DATA ignoring data with redundant timestamp for frame odom at time 342.429000 according to authority /pose_integrator\u001b[0m\n",
      "\u001b[33m[ WARN] [1661540501.267956330, 342.411000000]: TF_REPEATED_DATA ignoring data with redundant timestamp for frame odom at time 342.429000 according to authority unknown_publisher\u001b[0m\n"
     ]
    }
   ],
   "source": [
    "# arm.get_current_joint_values()\n",
    "# close_gripper(1)\n",
    "# open_gripper(0.5)\n",
    "cents, xyz, images = plane_seg_square_imgs(lower=500, higher= 9000,low_plane=0.0,high_plane=0.7)\n",
    "print(cents)"
   ]
  },
  {
   "cell_type": "code",
   "execution_count": 8,
   "metadata": {
    "scrolled": true
   },
   "outputs": [
    {
     "data": {
      "text/plain": [
       "header: \n",
       "  seq: 0\n",
       "  stamp: \n",
       "    secs: 1663181324\n",
       "    nsecs: 633357286\n",
       "  frame_id: \"base_link\"\n",
       "child_frame_id: \"ar_marker/201\"\n",
       "transform: \n",
       "  translation: \n",
       "    x: 0.5901338296430858\n",
       "    y: 0.5444007193021916\n",
       "    z: 0.6943078975420713\n",
       "  rotation: \n",
       "    x: -0.9921537780872313\n",
       "    y: -0.048471471905746466\n",
       "    z: 0.011546236702967599\n",
       "    w: 0.11466508385957298"
      ]
     },
     "execution_count": 8,
     "metadata": {},
     "output_type": "execute_result"
    }
   ],
   "source": [
    "tfbuff.lookup_transform('base_link','ar_marker/201',rospy.Time(0))"
   ]
  },
  {
   "cell_type": "code",
   "execution_count": 7,
   "metadata": {
    "scrolled": true
   },
   "outputs": [
    {
     "name": "stdout",
     "output_type": "stream",
     "text": [
      "[-0.9907683411141247, -0.07520694940789449, 0.0229383361916285, 0.11043478500673563]\n"
     ]
    },
    {
     "data": {
      "text/plain": [
       "(-2.917344570848489, 0.02884622836342712, 0.15477302553663333)"
      ]
     },
     "execution_count": 7,
     "metadata": {},
     "output_type": "execute_result"
    }
   ],
   "source": [
    "t = tfbuff.lookup_transform('base_link','ar_marker/201',rospy.Time(0))\n",
    "trans,rot = tf2_obj_2_arr(t)\n",
    "print(rot)\n",
    "tf.transformations.euler_from_quaternion(rot)"
   ]
  },
  {
   "cell_type": "code",
   "execution_count": 9,
   "metadata": {},
   "outputs": [
    {
     "name": "stdout",
     "output_type": "stream",
     "text": [
      "[-0.7059708202192447, 0.6953403211755309, -0.09173526642618814, 0.09844632872886791]\n"
     ]
    },
    {
     "data": {
      "text/plain": [
       "(-2.8717475022302272, 0.007382628172537523, -1.554622223577454)"
      ]
     },
     "execution_count": 9,
     "metadata": {},
     "output_type": "execute_result"
    }
   ],
   "source": [
    "t = tfbuff.lookup_transform('base_link','ar_marker/201',rospy.Time(0))\n",
    "trans,rot = tf2_obj_2_arr(t)\n",
    "print(rot)\n",
    "tf.transformations.euler_from_quaternion(rot)"
   ]
  },
  {
   "cell_type": "code",
   "execution_count": 23,
   "metadata": {
    "scrolled": true
   },
   "outputs": [
    {
     "name": "stdout",
     "output_type": "stream",
     "text": [
      "1.528891340943456\n",
      "1.5234766078038895\n",
      "1.5226312936974002\n",
      "1.3789880517267126\n",
      "1.2645262403092452\n",
      "1.1875323262261157\n",
      "1.0857421655506934\n",
      "1.0333927611450127\n",
      "0.8905882694630014\n",
      "0.9172924317788429\n",
      "0.9172924317788429\n",
      "0.9172924317788429\n",
      "0.9172924317788429\n",
      "0.9172924317788429\n",
      "0.9172924317788429\n",
      "0.9172924317788429\n",
      "0.9172924317788429\n",
      "0.9172924317788429\n",
      "0.9172924317788429\n",
      "0.9172924317788429\n",
      "0.9172924317788429\n",
      "-0.018372864206141815\n",
      "estoy alineado krnal\n",
      "shutdown request: new node registered with same name\n"
     ]
    }
   ],
   "source": [
    "# intento de vuelta\n",
    "succ = False\n",
    "THRESHOLD = 0.1\n",
    "hcp = [0.6,-0.1]\n",
    "flag = True\n",
    "while not succ:\n",
    "    try:\n",
    "        t = tfbuff.lookup_transform('base_link','ar_marker/201',rospy.Time(0))\n",
    "        _, rot = tf2_obj_2_arr(t)\n",
    "#     print(rot)\n",
    "        euler = tf.transformations.euler_from_quaternion(rot)\n",
    "        theta = euler[2]\n",
    "        e = theta + 1.57\n",
    "        print(e)\n",
    "        if abs(e) < THRESHOLD:\n",
    "            print('estoy alineado krnal')\n",
    "            succ = True\n",
    "            hcp[0] = 0.0\n",
    "            head.set_joint_value_target(hcp)\n",
    "            head.go()\n",
    "        else:\n",
    "            rospy.sleep(0.55)\n",
    "            tiny_move_base(theta = 0.02*e, std_time=0.2)\n",
    "    except:\n",
    "        hcp[0] -= 0.2\n",
    "        head.set_joint_value_target(hcp)\n",
    "        head.go()\n",
    "        "
   ]
  },
  {
   "cell_type": "code",
   "execution_count": 7,
   "metadata": {},
   "outputs": [
    {
     "data": {
      "text/plain": [
       "False"
      ]
     },
     "execution_count": 7,
     "metadata": {},
     "output_type": "execute_result"
    }
   ],
   "source": [
    "hcp=[0,0]\n",
    "hcp[0]= 0.6\n",
    "hcp[1]= -0.1\n",
    "head.set_joint_value_target(hcp)\n",
    "head.go()\n",
    "        "
   ]
  },
  {
   "cell_type": "code",
   "execution_count": 31,
   "metadata": {},
   "outputs": [
    {
     "data": {
      "text/plain": [
       "True"
      ]
     },
     "execution_count": 31,
     "metadata": {},
     "output_type": "execute_result"
    }
   ],
   "source": [
    "acp = arm.get_current_joint_values()\n",
    "acp[0] = 0.69\n",
    "arm.set_joint_value_target(acp)\n",
    "arm.go()"
   ]
  },
  {
   "cell_type": "code",
   "execution_count": 32,
   "metadata": {},
   "outputs": [
    {
     "data": {
      "text/plain": [
       "True"
      ]
     },
     "execution_count": 32,
     "metadata": {},
     "output_type": "execute_result"
    }
   ],
   "source": [
    "acp = arm.get_current_joint_values()\n",
    "acp[0] = 0.69\n",
    "arm.set_joint_value_target(acp)\n",
    "arm.go()\n",
    "rospy.sleep(0.3)\n",
    "tiny_move_base(x=-0.2)\n",
    "arm.set_named_target('go')\n",
    "arm.go()"
   ]
  },
  {
   "cell_type": "code",
   "execution_count": 29,
   "metadata": {
    "scrolled": true
   },
   "outputs": [
    {
     "data": {
      "text/plain": [
       "False"
      ]
     },
     "execution_count": 29,
     "metadata": {},
     "output_type": "execute_result"
    }
   ],
   "source": [
    "arm.set_named_target('neutral')\n",
    "arm.go()"
   ]
  },
  {
   "cell_type": "code",
   "execution_count": 39,
   "metadata": {},
   "outputs": [],
   "source": [
    "tiny_move_base(y = 0.1,std_time=0.1)"
   ]
  },
  {
   "cell_type": "code",
   "execution_count": 13,
   "metadata": {},
   "outputs": [
    {
     "name": "stdout",
     "output_type": "stream",
     "text": [
      "0.18206044985683112 -0.07963676197958103\n",
      "0.18077576898262848 -0.08204285837805414\n",
      "0.16376267821065316 -0.05799227993958983\n",
      "0.14912171320579481 -0.029690443332722694\n",
      "0.1297656616285232 -0.006464209257546261\n",
      "0.11706898613260186 0.011072387461636468\n",
      "0.09961603066927394 0.025464086583341705\n",
      "0.06165537424209311 0.03123962812630171\n",
      "0.042112388788395294 0.004777305724930236\n",
      "0.029347725306565264 -0.009126465317773003\n",
      "0.019078794314005942 -0.02641238450546396\n",
      "-0.01923277895010389 -0.02557613299206324\n",
      "-0.035685880512142276 -0.026318878588169448\n",
      "-0.035685880512142276 -0.026318878588169448\n",
      "-0.032739539748185775 0.02910410571583938\n",
      "-0.01566133829922778 0.03699763488155755\n",
      "-0.01566133829922778 0.03699763488155755\n",
      "0.0012475152873097084 0.017285147550490765\n"
     ]
    }
   ],
   "source": [
    "X_OFFSET = 0.0\n",
    "Y_OFFSET = 0.19\n",
    "Z_OFFSET = 0.135\n",
    "\n",
    "# X_OFFSET = 0.0\n",
    "# Y_OFFSET = 0.0\n",
    "# Z_OFFSET = 0.135\n",
    "THRESHOLD = 0.025\n",
    "# THRESHOLD_y = 0.015\n",
    "hcp = head.get_current_joint_values()\n",
    "hcp[0] = -0.1\n",
    "hcp[1] = -0.5\n",
    "head.set_joint_value_target(hcp)\n",
    "head.go()\n",
    "while(True):\n",
    "    try:\n",
    "        t = tfbuff.lookup_transform('hand_palm_link', 'ar_marker/201', rospy.Time(0) )\n",
    "#         t = tfbuff.lookup_transform('hand_palm_link', 'ar_marker/4000', rospy.Time(0) )\n",
    "        traf = t.transform.translation\n",
    "        rospy.sleep(.6)\n",
    "        # tiny_move_base(y = 0.163)\n",
    "        ex = x = traf.x + X_OFFSET\n",
    "        ey = -traf.y + Y_OFFSET\n",
    "        print(ex, ey)\n",
    "        if abs(ex) > THRESHOLD:\n",
    "            tiny_move_base(x = ex)#, y = -traf.y + Y_OFFSET)\n",
    "        if abs(ey) > THRESHOLD:\n",
    "            tiny_move_base(y = ey)\n",
    "        if (abs(ex) <= THRESHOLD and abs(ey) <= THRESHOLD):\n",
    "            hcp[0] = 0\n",
    "            head.set_joint_value_target(hcp)\n",
    "            head.go()\n",
    "            break\n",
    "    except:\n",
    "        hcp = head.get_current_joint_values()\n",
    "        hcp[0] -= 0.1   \n",
    "        print(hcp[0])\n",
    "        head.set_joint_value_target(hcp)\n",
    "        head.go()\n",
    "        if hcp[0] < -1:\n",
    "            hcp[0] = 0.1\n",
    "            head.set_joint_value_target(hcp)\n",
    "            head.go()\n",
    "            print('Ive lost the reference')\n",
    "            break"
   ]
  },
  {
   "cell_type": "code",
   "execution_count": 16,
   "metadata": {},
   "outputs": [
    {
     "data": {
      "text/plain": [
       "array([[[16, 16, 16],\n",
       "        [16, 16, 16],\n",
       "        [11, 18, 14],\n",
       "        ...,\n",
       "        [20, 15, 18],\n",
       "        [16, 15, 18],\n",
       "        [16, 15, 18]],\n",
       "\n",
       "       [[18, 16, 16],\n",
       "        [18, 16, 16],\n",
       "        [16, 16, 16],\n",
       "        ...,\n",
       "        [20, 15, 18],\n",
       "        [13, 16, 18],\n",
       "        [13, 16, 18]],\n",
       "\n",
       "       [[16, 16, 16],\n",
       "        [16, 16, 16],\n",
       "        [13, 17, 16],\n",
       "        ...,\n",
       "        [20, 15, 18],\n",
       "        [16, 15, 18],\n",
       "        [16, 15, 18]],\n",
       "\n",
       "       ...,\n",
       "\n",
       "       [[16, 16, 16],\n",
       "        [16, 16, 16],\n",
       "        [16, 16, 16],\n",
       "        ...,\n",
       "        [20, 17, 13],\n",
       "        [20, 16, 16],\n",
       "        [20, 16, 16]],\n",
       "\n",
       "       [[16, 16, 16],\n",
       "        [16, 16, 16],\n",
       "        [16, 16, 16],\n",
       "        ...,\n",
       "        [20, 16, 16],\n",
       "        [16, 16, 16],\n",
       "        [16, 16, 16]],\n",
       "\n",
       "       [[16, 16, 16],\n",
       "        [16, 16, 16],\n",
       "        [16, 16, 16],\n",
       "        ...,\n",
       "        [20, 17, 13],\n",
       "        [16, 16, 16],\n",
       "        [16, 16, 16]]], dtype=uint8)"
      ]
     },
     "execution_count": 16,
     "metadata": {},
     "output_type": "execute_result"
    }
   ],
   "source": [
    "hand_cam.get_image()"
   ]
  },
  {
   "cell_type": "code",
   "execution_count": 117,
   "metadata": {},
   "outputs": [
    {
     "name": "stdout",
     "output_type": "stream",
     "text": [
      "header: \n",
      "  seq: 0\n",
      "  stamp: \n",
      "    secs: 1662408747\n",
      "    nsecs: 123095036\n",
      "  frame_id: \"head_l_stereo_camera_frame\"\n",
      "child_frame_id: \"ar_marker/201\"\n",
      "transform: \n",
      "  translation: \n",
      "    x: -0.14347501605042673\n",
      "    y: 0.15732225270132918\n",
      "    z: 0.5154270624021277\n",
      "  rotation: \n",
      "    x: -0.3222956746461686\n",
      "    y: -0.1456418210249864\n",
      "    z: -0.2527666914397325\n",
      "    w: 0.9005681305551001\n"
     ]
    }
   ],
   "source": [
    "tr = tfbuff.lookup_transform('head_l_stereo_camera_frame', 'ar_marker/201', rospy.Time(0))\n",
    "print(tr)"
   ]
  },
  {
   "cell_type": "code",
   "execution_count": 95,
   "metadata": {},
   "outputs": [
    {
     "name": "stdout",
     "output_type": "stream",
     "text": [
      "-0.18241688078796336 -0.03828563605475077\n"
     ]
    },
    {
     "name": "stderr",
     "output_type": "stream",
     "text": [
      "[WARN] [1661454076.973070]: Inbound TCP/IP connection failed: connection from sender terminated before handshake header received. 0 bytes were received. Please check sender for additional details.\n"
     ]
    }
   ],
   "source": [
    "tiny_move_base(x=-ex)\n",
    "# tiny_move_base(y = -ey)\n",
    "print(ex,ey)"
   ]
  },
  {
   "cell_type": "code",
   "execution_count": 45,
   "metadata": {},
   "outputs": [
    {
     "data": {
      "text/plain": [
       "False"
      ]
     },
     "execution_count": 45,
     "metadata": {},
     "output_type": "execute_result"
    }
   ],
   "source": [
    "acp = arm.get_current_joint_values()\n",
    "acp[0]-= 0.01\n",
    "arm.set_pose_target(acp)\n",
    "arm.go()"
   ]
  },
  {
   "cell_type": "code",
   "execution_count": 24,
   "metadata": {},
   "outputs": [
    {
     "name": "stdout",
     "output_type": "stream",
     "text": [
      "0.008520200142226764\n"
     ]
    }
   ],
   "source": [
    "transf = tfbuff.lookup_transform('map', 'cassette', rospy.Time(0))\n",
    "trans,_= tf2_obj_2_arr(transf)\n",
    "\n",
    "transf2 = tfbuff.lookup_transform('map', 'hand_palm_link', rospy.Time(0))\n",
    "trans2,_ = tf2_obj_2_arr(transf2)\n",
    "\n",
    "e = trans2[1]-trans[1]\n",
    "wb_cp = whole_body.get_current_pose()\n",
    "wb_cp.pose.position.y += e\n",
    "whole_body.set_pose_target(wb_cp)\n",
    "whole_body.go()\n",
    "\n",
    "print(e)"
   ]
  },
  {
   "cell_type": "code",
   "execution_count": null,
   "metadata": {},
   "outputs": [],
   "source": []
  },
  {
   "cell_type": "code",
   "execution_count": 13,
   "metadata": {},
   "outputs": [
    {
     "data": {
      "text/plain": [
       "True"
      ]
     },
     "execution_count": 13,
     "metadata": {},
     "output_type": "execute_result"
    }
   ],
   "source": [
    "arm.set_named_target('neutral')\n",
    "arm.go()"
   ]
  },
  {
   "cell_type": "code",
   "execution_count": 19,
   "metadata": {},
   "outputs": [
    {
     "data": {
      "text/plain": [
       "True"
      ]
     },
     "execution_count": 19,
     "metadata": {},
     "output_type": "execute_result"
    }
   ],
   "source": [
    "armCV=arm.get_current_joint_values()\n",
    "armCV[4]=0\n",
    "arm.set_joint_value_target(armCV)\n",
    "arm.go()"
   ]
  },
  {
   "cell_type": "code",
   "execution_count": 9,
   "metadata": {
    "scrolled": true
   },
   "outputs": [
    {
     "name": "stderr",
     "output_type": "stream",
     "text": [
      "\u001b[33m[ WARN] [1663893119.067582684, 58.809000000]: TF_REPEATED_DATA ignoring data with redundant timestamp for frame odom at time 58.878000 according to authority unknown_publisher\u001b[0m\n",
      "\u001b[33m[ WARN] [1663893119.068682608, 58.809000000]: TF_REPEATED_DATA ignoring data with redundant timestamp for frame odom at time 58.878000 according to authority /pose_integrator\u001b[0m\n",
      "\u001b[33m[ WARN] [1663893119.904871982, 58.995000000]: TF_REPEATED_DATA ignoring data with redundant timestamp for frame odom at time 59.019000 according to authority unknown_publisher\u001b[0m\n",
      "\u001b[33m[ WARN] [1663893119.905679698, 58.995000000]: TF_REPEATED_DATA ignoring data with redundant timestamp for frame odom at time 59.019000 according to authority /pose_integrator\u001b[0m\n",
      "\u001b[33m[ WARN] [1663893124.766849215, 59.454000000]: TF_REPEATED_DATA ignoring data with redundant timestamp for frame odom at time 59.502000 according to authority /pose_integrator\u001b[0m\n",
      "\u001b[33m[ WARN] [1663893124.769590969, 59.454000000]: TF_REPEATED_DATA ignoring data with redundant timestamp for frame odom at time 59.502000 according to authority unknown_publisher\u001b[0m\n",
      "\u001b[33m[ WARN] [1663893126.690402229, 59.634000000]: TF_REPEATED_DATA ignoring data with redundant timestamp for frame odom at time 59.655000 according to authority /pose_integrator\u001b[0m\n",
      "\u001b[33m[ WARN] [1663893126.692989328, 59.634000000]: TF_REPEATED_DATA ignoring data with redundant timestamp for frame odom at time 59.655000 according to authority unknown_publisher\u001b[0m\n",
      "\u001b[33m[ WARN] [1663893129.786628230, 59.910000000]: TF_REPEATED_DATA ignoring data with redundant timestamp for frame odom at time 59.952000 according to authority unknown_publisher\u001b[0m\n",
      "\u001b[33m[ WARN] [1663893129.786972497, 59.910000000]: TF_REPEATED_DATA ignoring data with redundant timestamp for frame odom at time 59.952000 according to authority /pose_integrator\u001b[0m\n",
      "\u001b[33m[ WARN] [1663893130.675153861, 60.000000000]: TF_REPEATED_DATA ignoring data with redundant timestamp for frame odom at time 60.093000 according to authority /pose_integrator\u001b[0m\n",
      "\u001b[33m[ WARN] [1663893130.678399623, 60.000000000]: TF_REPEATED_DATA ignoring data with redundant timestamp for frame odom at time 60.093000 according to authority unknown_publisher\u001b[0m\n",
      "\u001b[33m[ WARN] [1663893142.064935270, 61.341000000]: TF_REPEATED_DATA ignoring data with redundant timestamp for frame odom at time 61.383000 according to authority /pose_integrator\u001b[0m\n",
      "\u001b[33m[ WARN] [1663893142.065577562, 61.341000000]: TF_REPEATED_DATA ignoring data with redundant timestamp for frame odom at time 61.383000 according to authority unknown_publisher\u001b[0m\n",
      "\u001b[33m[ WARN] [1663893150.824392195, 62.340000000]: TF_REPEATED_DATA ignoring data with redundant timestamp for frame arm_flex_link at time 62.508000 according to authority /robot_state_publisher\u001b[0m\n",
      "\u001b[33m[ WARN] [1663893150.824490595, 62.340000000]: TF_REPEATED_DATA ignoring data with redundant timestamp for frame arm_lift_link at time 62.508000 according to authority /robot_state_publisher\u001b[0m\n",
      "\u001b[33m[ WARN] [1663893150.824528811, 62.340000000]: TF_REPEATED_DATA ignoring data with redundant timestamp for frame arm_roll_link at time 62.508000 according to authority /robot_state_publisher\u001b[0m\n",
      "\u001b[33m[ WARN] [1663893150.824590953, 62.340000000]: TF_REPEATED_DATA ignoring data with redundant timestamp for frame base_b_bumper_link at time 62.508000 according to authority /robot_state_publisher\u001b[0m\n",
      "\u001b[33m[ WARN] [1663893150.824635546, 62.340000000]: TF_REPEATED_DATA ignoring data with redundant timestamp for frame base_f_bumper_link at time 62.508000 according to authority /robot_state_publisher\u001b[0m\n",
      "\u001b[33m[ WARN] [1663893150.824689358, 62.340000000]: TF_REPEATED_DATA ignoring data with redundant timestamp for frame base_l_drive_wheel_link at time 62.508000 according to authority /robot_state_publisher\u001b[0m\n",
      "\u001b[33m[ WARN] [1663893150.824775878, 62.340000000]: TF_REPEATED_DATA ignoring data with redundant timestamp for frame base_l_passive_wheel_x_frame at time 62.508000 according to authority /robot_state_publisher\u001b[0m\n",
      "\u001b[33m[ WARN] [1663893150.824835982, 62.340000000]: TF_REPEATED_DATA ignoring data with redundant timestamp for frame base_l_passive_wheel_y_frame at time 62.508000 according to authority /robot_state_publisher\u001b[0m\n",
      "\u001b[33m[ WARN] [1663893150.824881887, 62.340000000]: TF_REPEATED_DATA ignoring data with redundant timestamp for frame base_l_passive_wheel_z_link at time 62.508000 according to authority /robot_state_publisher\u001b[0m\n",
      "\u001b[33m[ WARN] [1663893150.824919188, 62.340000000]: TF_REPEATED_DATA ignoring data with redundant timestamp for frame base_r_drive_wheel_link at time 62.508000 according to authority /robot_state_publisher\u001b[0m\n",
      "\u001b[33m[ WARN] [1663893150.824954609, 62.340000000]: TF_REPEATED_DATA ignoring data with redundant timestamp for frame base_r_passive_wheel_x_frame at time 62.508000 according to authority /robot_state_publisher\u001b[0m\n",
      "\u001b[33m[ WARN] [1663893150.825000407, 62.340000000]: TF_REPEATED_DATA ignoring data with redundant timestamp for frame base_r_passive_wheel_y_frame at time 62.508000 according to authority /robot_state_publisher\u001b[0m\n",
      "\u001b[33m[ WARN] [1663893150.825039305, 62.340000000]: TF_REPEATED_DATA ignoring data with redundant timestamp for frame base_r_passive_wheel_z_link at time 62.508000 according to authority /robot_state_publisher\u001b[0m\n",
      "\u001b[33m[ WARN] [1663893150.825086247, 62.340000000]: TF_REPEATED_DATA ignoring data with redundant timestamp for frame base_roll_link at time 62.508000 according to authority /robot_state_publisher\u001b[0m\n",
      "\u001b[33m[ WARN] [1663893150.825125598, 62.340000000]: TF_REPEATED_DATA ignoring data with redundant timestamp for frame hand_l_distal_link at time 62.508000 according to authority /robot_state_publisher\u001b[0m\n",
      "\u001b[33m[ WARN] [1663893150.825169324, 62.340000000]: TF_REPEATED_DATA ignoring data with redundant timestamp for frame hand_l_mimic_distal_link at time 62.508000 according to authority /robot_state_publisher\u001b[0m\n",
      "\u001b[33m[ WARN] [1663893150.825242058, 62.340000000]: TF_REPEATED_DATA ignoring data with redundant timestamp for frame hand_l_proximal_link at time 62.508000 according to authority /robot_state_publisher\u001b[0m\n",
      "\u001b[33m[ WARN] [1663893150.825904371, 62.340000000]: TF_REPEATED_DATA ignoring data with redundant timestamp for frame hand_l_spring_proximal_link at time 62.508000 according to authority /robot_state_publisher\u001b[0m\n",
      "\u001b[33m[ WARN] [1663893150.826044817, 62.340000000]: TF_REPEATED_DATA ignoring data with redundant timestamp for frame hand_motor_dummy_link at time 62.508000 according to authority /robot_state_publisher\u001b[0m\n",
      "\u001b[33m[ WARN] [1663893150.826147060, 62.340000000]: TF_REPEATED_DATA ignoring data with redundant timestamp for frame hand_r_distal_link at time 62.508000 according to authority /robot_state_publisher\u001b[0m\n",
      "\u001b[33m[ WARN] [1663893150.826216912, 62.340000000]: TF_REPEATED_DATA ignoring data with redundant timestamp for frame hand_r_mimic_distal_link at time 62.508000 according to authority /robot_state_publisher\u001b[0m\n",
      "\u001b[33m[ WARN] [1663893150.826288048, 62.340000000]: TF_REPEATED_DATA ignoring data with redundant timestamp for frame hand_r_proximal_link at time 62.508000 according to authority /robot_state_publisher\u001b[0m\n",
      "\u001b[33m[ WARN] [1663893150.826349940, 62.340000000]: TF_REPEATED_DATA ignoring data with redundant timestamp for frame hand_r_spring_proximal_link at time 62.508000 according to authority /robot_state_publisher\u001b[0m\n",
      "\u001b[33m[ WARN] [1663893150.826510214, 62.340000000]: TF_REPEATED_DATA ignoring data with redundant timestamp for frame head_pan_link at time 62.508000 according to authority /robot_state_publisher\u001b[0m\n",
      "\u001b[33m[ WARN] [1663893150.826614529, 62.340000000]: TF_REPEATED_DATA ignoring data with redundant timestamp for frame head_tilt_link at time 62.508000 according to authority /robot_state_publisher\u001b[0m\n",
      "\u001b[33m[ WARN] [1663893150.826725384, 62.340000000]: TF_REPEATED_DATA ignoring data with redundant timestamp for frame torso_lift_link at time 62.508000 according to authority /robot_state_publisher\u001b[0m\n",
      "\u001b[33m[ WARN] [1663893150.827910902, 62.340000000]: TF_REPEATED_DATA ignoring data with redundant timestamp for frame wrist_flex_link at time 62.508000 according to authority /robot_state_publisher\u001b[0m\n",
      "\u001b[33m[ WARN] [1663893150.828086828, 62.340000000]: TF_REPEATED_DATA ignoring data with redundant timestamp for frame wrist_ft_sensor_frame at time 62.508000 according to authority /robot_state_publisher\u001b[0m\n",
      "\u001b[33m[ WARN] [1663893150.828169088, 62.340000000]: TF_REPEATED_DATA ignoring data with redundant timestamp for frame wrist_ft_sensor_mount_link at time 62.508000 according to authority /robot_state_publisher\u001b[0m\n",
      "\u001b[33m[ WARN] [1663893150.829674297, 62.340000000]: TF_REPEATED_DATA ignoring data with redundant timestamp for frame arm_flex_link at time 62.508000 according to authority unknown_publisher\u001b[0m\n",
      "\u001b[33m[ WARN] [1663893150.829878686, 62.340000000]: TF_REPEATED_DATA ignoring data with redundant timestamp for frame arm_lift_link at time 62.508000 according to authority unknown_publisher\u001b[0m\n",
      "\u001b[33m[ WARN] [1663893150.830031796, 62.340000000]: TF_REPEATED_DATA ignoring data with redundant timestamp for frame arm_roll_link at time 62.508000 according to authority unknown_publisher\u001b[0m\n",
      "\u001b[33m[ WARN] [1663893150.830166122, 62.340000000]: TF_REPEATED_DATA ignoring data with redundant timestamp for frame base_b_bumper_link at time 62.508000 according to authority unknown_publisher\u001b[0m\n",
      "\u001b[33m[ WARN] [1663893150.830297329, 62.340000000]: TF_REPEATED_DATA ignoring data with redundant timestamp for frame base_f_bumper_link at time 62.508000 according to authority unknown_publisher\u001b[0m\n",
      "\u001b[33m[ WARN] [1663893150.830422458, 62.340000000]: TF_REPEATED_DATA ignoring data with redundant timestamp for frame base_l_drive_wheel_link at time 62.508000 according to authority unknown_publisher\u001b[0m\n",
      "\u001b[33m[ WARN] [1663893150.830561825, 62.340000000]: TF_REPEATED_DATA ignoring data with redundant timestamp for frame base_l_passive_wheel_x_frame at time 62.508000 according to authority unknown_publisher\u001b[0m\n",
      "\u001b[33m[ WARN] [1663893150.830760100, 62.340000000]: TF_REPEATED_DATA ignoring data with redundant timestamp for frame base_l_passive_wheel_y_frame at time 62.508000 according to authority unknown_publisher\u001b[0m\n",
      "\u001b[33m[ WARN] [1663893150.830898094, 62.340000000]: TF_REPEATED_DATA ignoring data with redundant timestamp for frame base_l_passive_wheel_z_link at time 62.508000 according to authority unknown_publisher\u001b[0m\n",
      "\u001b[33m[ WARN] [1663893150.831017319, 62.340000000]: TF_REPEATED_DATA ignoring data with redundant timestamp for frame base_r_drive_wheel_link at time 62.508000 according to authority unknown_publisher\u001b[0m\n",
      "\u001b[33m[ WARN] [1663893150.831142555, 62.340000000]: TF_REPEATED_DATA ignoring data with redundant timestamp for frame base_r_passive_wheel_x_frame at time 62.508000 according to authority unknown_publisher\u001b[0m\n",
      "\u001b[33m[ WARN] [1663893150.831274874, 62.340000000]: TF_REPEATED_DATA ignoring data with redundant timestamp for frame base_r_passive_wheel_y_frame at time 62.508000 according to authority unknown_publisher\u001b[0m\n",
      "\u001b[33m[ WARN] [1663893150.831366070, 62.340000000]: TF_REPEATED_DATA ignoring data with redundant timestamp for frame base_r_passive_wheel_z_link at time 62.508000 according to authority unknown_publisher\u001b[0m\n",
      "\u001b[33m[ WARN] [1663893150.847742412, 62.340000000]: TF_REPEATED_DATA ignoring data with redundant timestamp for frame base_roll_link at time 62.508000 according to authority unknown_publisher\u001b[0m\n",
      "\u001b[33m[ WARN] [1663893150.847881375, 62.340000000]: TF_REPEATED_DATA ignoring data with redundant timestamp for frame hand_l_distal_link at time 62.508000 according to authority unknown_publisher\u001b[0m\n",
      "\u001b[33m[ WARN] [1663893150.847974930, 62.340000000]: TF_REPEATED_DATA ignoring data with redundant timestamp for frame hand_l_mimic_distal_link at time 62.508000 according to authority unknown_publisher\u001b[0m\n",
      "\u001b[33m[ WARN] [1663893150.848044625, 62.340000000]: TF_REPEATED_DATA ignoring data with redundant timestamp for frame hand_l_proximal_link at time 62.508000 according to authority unknown_publisher\u001b[0m\n",
      "\u001b[33m[ WARN] [1663893150.848478382, 62.340000000]: TF_REPEATED_DATA ignoring data with redundant timestamp for frame hand_l_spring_proximal_link at time 62.508000 according to authority unknown_publisher\u001b[0m\n",
      "\u001b[33m[ WARN] [1663893150.850372293, 62.340000000]: TF_REPEATED_DATA ignoring data with redundant timestamp for frame hand_motor_dummy_link at time 62.508000 according to authority unknown_publisher\u001b[0m\n",
      "\u001b[33m[ WARN] [1663893150.850588009, 62.340000000]: TF_REPEATED_DATA ignoring data with redundant timestamp for frame hand_r_distal_link at time 62.508000 according to authority unknown_publisher\u001b[0m\n",
      "\u001b[33m[ WARN] [1663893150.852150739, 62.340000000]: TF_REPEATED_DATA ignoring data with redundant timestamp for frame hand_r_mimic_distal_link at time 62.508000 according to authority unknown_publisher\u001b[0m\n",
      "\u001b[33m[ WARN] [1663893150.852291434, 62.340000000]: TF_REPEATED_DATA ignoring data with redundant timestamp for frame hand_r_proximal_link at time 62.508000 according to authority unknown_publisher\u001b[0m\n",
      "\u001b[33m[ WARN] [1663893150.852344655, 62.340000000]: TF_REPEATED_DATA ignoring data with redundant timestamp for frame hand_r_spring_proximal_link at time 62.508000 according to authority unknown_publisher\u001b[0m\n",
      "\u001b[33m[ WARN] [1663893150.852377991, 62.340000000]: TF_REPEATED_DATA ignoring data with redundant timestamp for frame head_pan_link at time 62.508000 according to authority unknown_publisher\u001b[0m\n",
      "\u001b[33m[ WARN] [1663893150.854190920, 62.340000000]: TF_REPEATED_DATA ignoring data with redundant timestamp for frame head_tilt_link at time 62.508000 according to authority unknown_publisher\u001b[0m\n",
      "\u001b[33m[ WARN] [1663893150.854246388, 62.340000000]: TF_REPEATED_DATA ignoring data with redundant timestamp for frame torso_lift_link at time 62.508000 according to authority unknown_publisher\u001b[0m\n",
      "\u001b[33m[ WARN] [1663893150.854275857, 62.340000000]: TF_REPEATED_DATA ignoring data with redundant timestamp for frame wrist_flex_link at time 62.508000 according to authority unknown_publisher\u001b[0m\n",
      "\u001b[33m[ WARN] [1663893150.854303992, 62.340000000]: TF_REPEATED_DATA ignoring data with redundant timestamp for frame wrist_ft_sensor_frame at time 62.508000 according to authority unknown_publisher\u001b[0m\n",
      "\u001b[33m[ WARN] [1663893150.854340174, 62.340000000]: TF_REPEATED_DATA ignoring data with redundant timestamp for frame wrist_ft_sensor_mount_link at time 62.508000 according to authority unknown_publisher\u001b[0m\n"
     ]
    }
   ],
   "source": [
    "        grasp_from_above_joints=[0.59,-1.3376,0,-1.8275,0.0,0.0]\n",
    "        arm.set_joint_value_target(grasp_from_above_joints)\n",
    "        succ = arm.go()"
   ]
  },
  {
   "cell_type": "code",
   "execution_count": 13,
   "metadata": {
    "scrolled": true
   },
   "outputs": [
    {
     "name": "stdout",
     "output_type": "stream",
     "text": [
      "0.0\n"
     ]
    },
    {
     "name": "stderr",
     "output_type": "stream",
     "text": [
      "\u001b[33m[ WARN] [1663893236.010020806, 71.559000000]: TF_REPEATED_DATA ignoring data with redundant timestamp for frame odom at time 71.589000 according to authority unknown_publisher\u001b[0m\n",
      "\u001b[33m[ WARN] [1663893236.011090905, 71.559000000]: TF_REPEATED_DATA ignoring data with redundant timestamp for frame odom at time 71.589000 according to authority /pose_integrator\u001b[0m\n",
      "\u001b[33m[ WARN] [1663893242.093210993, 72.153000000]: TF_REPEATED_DATA ignoring data with redundant timestamp for frame odom at time 72.201000 according to authority unknown_publisher\u001b[0m\n",
      "\u001b[33m[ WARN] [1663893242.098812416, 72.153000000]: TF_REPEATED_DATA ignoring data with redundant timestamp for frame odom at time 72.201000 according to authority /pose_integrator\u001b[0m\n",
      "\u001b[33m[ WARN] [1663893254.910834482, 73.461000000]: TF_REPEATED_DATA ignoring data with redundant timestamp for frame odom at time 73.509000 according to authority /pose_integrator\u001b[0m\n",
      "\u001b[33m[ WARN] [1663893254.911142835, 73.461000000]: TF_REPEATED_DATA ignoring data with redundant timestamp for frame odom at time 73.509000 according to authority unknown_publisher\u001b[0m\n",
      "\u001b[33m[ WARN] [1663893256.183574643, 73.617000000]: TF_REPEATED_DATA ignoring data with redundant timestamp for frame odom at time 73.692000 according to authority /pose_integrator\u001b[0m\n",
      "\u001b[33m[ WARN] [1663893256.183933930, 73.617000000]: TF_REPEATED_DATA ignoring data with redundant timestamp for frame odom at time 73.692000 according to authority unknown_publisher\u001b[0m\n",
      "\u001b[33m[ WARN] [1663893256.962924851, 73.731000000]: TF_REPEATED_DATA ignoring data with redundant timestamp for frame odom at time 73.761000 according to authority /pose_integrator\u001b[0m\n",
      "\u001b[33m[ WARN] [1663893256.964856463, 73.731000000]: TF_REPEATED_DATA ignoring data with redundant timestamp for frame odom at time 73.761000 according to authority unknown_publisher\u001b[0m\n",
      "\u001b[33m[ WARN] [1663893262.871412956, 74.424000000]: TF_REPEATED_DATA ignoring data with redundant timestamp for frame odom at time 74.448000 according to authority /pose_integrator\u001b[0m\n",
      "\u001b[33m[ WARN] [1663893262.871862565, 74.424000000]: TF_REPEATED_DATA ignoring data with redundant timestamp for frame odom at time 74.448000 according to authority unknown_publisher\u001b[0m\n",
      "\u001b[33m[ WARN] [1663893265.268724990, 74.865000000]: TF_REPEATED_DATA ignoring data with redundant timestamp for frame odom at time 74.910000 according to authority unknown_publisher\u001b[0m\n",
      "\u001b[33m[ WARN] [1663893265.270231256, 74.910000000]: TF_REPEATED_DATA ignoring data with redundant timestamp for frame odom at time 74.910000 according to authority /pose_integrator\u001b[0m\n",
      "\u001b[33m[ WARN] [1663893270.555879260, 75.594000000]: TF_REPEATED_DATA ignoring data with redundant timestamp for frame odom at time 75.627000 according to authority unknown_publisher\u001b[0m\n",
      "\u001b[33m[ WARN] [1663893270.556371342, 75.594000000]: TF_REPEATED_DATA ignoring data with redundant timestamp for frame odom at time 75.627000 according to authority /pose_integrator\u001b[0m\n",
      "\u001b[33m[ WARN] [1663893277.140098266, 76.251000000]: TF_REPEATED_DATA ignoring data with redundant timestamp for frame odom at time 76.338000 according to authority unknown_publisher\u001b[0m\n",
      "\u001b[33m[ WARN] [1663893277.143687425, 76.251000000]: TF_REPEATED_DATA ignoring data with redundant timestamp for frame odom at time 76.338000 according to authority /pose_integrator\u001b[0m\n",
      "\u001b[33m[ WARN] [1663893278.482025671, 76.476000000]: TF_REPEATED_DATA ignoring data with redundant timestamp for frame odom at time 76.521000 according to authority /pose_integrator\u001b[0m\n",
      "\u001b[33m[ WARN] [1663893278.482720482, 76.476000000]: TF_REPEATED_DATA ignoring data with redundant timestamp for frame odom at time 76.521000 according to authority unknown_publisher\u001b[0m\n",
      "\u001b[33m[ WARN] [1663893287.234543683, 77.199000000]: TF_REPEATED_DATA ignoring data with redundant timestamp for frame odom at time 77.238000 according to authority /pose_integrator\u001b[0m\n",
      "\u001b[33m[ WARN] [1663893287.236146640, 77.199000000]: TF_REPEATED_DATA ignoring data with redundant timestamp for frame odom at time 77.238000 according to authority unknown_publisher\u001b[0m\n",
      "\u001b[33m[ WARN] [1663893302.274574002, 78.792000000]: TF_REPEATED_DATA ignoring data with redundant timestamp for frame odom at time 78.816000 according to authority unknown_publisher\u001b[0m\n",
      "\u001b[33m[ WARN] [1663893302.275568217, 78.792000000]: TF_REPEATED_DATA ignoring data with redundant timestamp for frame odom at time 78.816000 according to authority /pose_integrator\u001b[0m\n",
      "\u001b[33m[ WARN] [1663893304.983790592, 79.035000000]: TF_REPEATED_DATA ignoring data with redundant timestamp for frame odom at time 79.152000 according to authority /pose_integrator\u001b[0m\n",
      "\u001b[33m[ WARN] [1663893304.985589194, 79.035000000]: TF_REPEATED_DATA ignoring data with redundant timestamp for frame odom at time 79.152000 according to authority unknown_publisher\u001b[0m\n",
      "\u001b[33m[ WARN] [1663893318.034550738, 80.187000000]: TF_REPEATED_DATA ignoring data with redundant timestamp for frame odom at time 80.232000 according to authority /pose_integrator\u001b[0m\n",
      "\u001b[33m[ WARN] [1663893318.035196441, 80.187000000]: TF_REPEATED_DATA ignoring data with redundant timestamp for frame odom at time 80.232000 according to authority unknown_publisher\u001b[0m\n",
      "\u001b[33m[ WARN] [1663893333.601378615, 81.663000000]: TF_REPEATED_DATA ignoring data with redundant timestamp for frame odom at time 81.720000 according to authority /pose_integrator\u001b[0m\n",
      "\u001b[33m[ WARN] [1663893333.601669806, 81.663000000]: TF_REPEATED_DATA ignoring data with redundant timestamp for frame odom at time 81.720000 according to authority unknown_publisher\u001b[0m\n",
      "\u001b[33m[ WARN] [1663893334.525018265, 81.762000000]: TF_REPEATED_DATA ignoring data with redundant timestamp for frame odom at time 81.810000 according to authority /pose_integrator\u001b[0m\n",
      "\u001b[33m[ WARN] [1663893334.530891184, 81.762000000]: TF_REPEATED_DATA ignoring data with redundant timestamp for frame odom at time 81.810000 according to authority unknown_publisher\u001b[0m\n",
      "\u001b[33m[ WARN] [1663893353.841326565, 83.535000000]: TF_REPEATED_DATA ignoring data with redundant timestamp for frame odom at time 83.574000 according to authority /pose_integrator\u001b[0m\n",
      "\u001b[33m[ WARN] [1663893353.842153469, 83.535000000]: TF_REPEATED_DATA ignoring data with redundant timestamp for frame odom at time 83.574000 according to authority unknown_publisher\u001b[0m\n",
      "\u001b[33m[ WARN] [1663893355.939510737, 83.838000000]: TF_REPEATED_DATA ignoring data with redundant timestamp for frame odom at time 83.886000 according to authority unknown_publisher\u001b[0m\n",
      "\u001b[33m[ WARN] [1663893355.940462503, 83.838000000]: TF_REPEATED_DATA ignoring data with redundant timestamp for frame odom at time 83.886000 according to authority /pose_integrator\u001b[0m\n",
      "\u001b[33m[ WARN] [1663893375.100602661, 85.860000000]: TF_REPEATED_DATA ignoring data with redundant timestamp for frame odom at time 85.914000 according to authority unknown_publisher\u001b[0m\n",
      "\u001b[33m[ WARN] [1663893375.101275377, 85.860000000]: TF_REPEATED_DATA ignoring data with redundant timestamp for frame odom at time 85.914000 according to authority /pose_integrator\u001b[0m\n",
      "\u001b[33m[ WARN] [1663893380.394722012, 86.616000000]: TF_REPEATED_DATA ignoring data with redundant timestamp for frame odom at time 86.682000 according to authority unknown_publisher\u001b[0m\n",
      "\u001b[33m[ WARN] [1663893380.395452343, 86.616000000]: TF_REPEATED_DATA ignoring data with redundant timestamp for frame odom at time 86.682000 according to authority /pose_integrator\u001b[0m\n",
      "\u001b[33m[ WARN] [1663893382.359823970, 86.949000000]: TF_REPEATED_DATA ignoring data with redundant timestamp for frame odom at time 86.988000 according to authority /pose_integrator\u001b[0m\n",
      "\u001b[33m[ WARN] [1663893382.369956756, 86.988000000]: TF_REPEATED_DATA ignoring data with redundant timestamp for frame odom at time 86.988000 according to authority unknown_publisher\u001b[0m\n",
      "\u001b[33m[ WARN] [1663893386.913356432, 87.663000000]: TF_REPEATED_DATA ignoring data with redundant timestamp for frame odom at time 87.711000 according to authority /pose_integrator\u001b[0m\n",
      "\u001b[33m[ WARN] [1663893386.914636082, 87.663000000]: TF_REPEATED_DATA ignoring data with redundant timestamp for frame odom at time 87.711000 according to authority unknown_publisher\u001b[0m\n",
      "\u001b[33m[ WARN] [1663893402.115692972, 89.370000000]: TF_REPEATED_DATA ignoring data with redundant timestamp for frame odom at time 89.394000 according to authority unknown_publisher\u001b[0m\n",
      "\u001b[33m[ WARN] [1663893402.115846470, 89.370000000]: TF_REPEATED_DATA ignoring data with redundant timestamp for frame odom at time 89.394000 according to authority /pose_integrator\u001b[0m\n"
     ]
    },
    {
     "name": "stderr",
     "output_type": "stream",
     "text": [
      "\u001b[33m[ WARN] [1663893403.663462274, 89.466000000]: TF_REPEATED_DATA ignoring data with redundant timestamp for frame odom at time 89.502000 according to authority /pose_integrator\u001b[0m\n",
      "\u001b[33m[ WARN] [1663893403.664179987, 89.466000000]: TF_REPEATED_DATA ignoring data with redundant timestamp for frame odom at time 89.502000 according to authority unknown_publisher\u001b[0m\n",
      "\u001b[33m[ WARN] [1663893409.734886901, 90.111000000]: TF_REPEATED_DATA ignoring data with redundant timestamp for frame odom at time 90.138000 according to authority unknown_publisher\u001b[0m\n",
      "\u001b[33m[ WARN] [1663893409.736443690, 90.111000000]: TF_REPEATED_DATA ignoring data with redundant timestamp for frame odom at time 90.138000 according to authority /pose_integrator\u001b[0m\n",
      "\u001b[33m[ WARN] [1663893411.611596228, 90.303000000]: TF_REPEATED_DATA ignoring data with redundant timestamp for frame odom at time 90.327000 according to authority /pose_integrator\u001b[0m\n",
      "\u001b[33m[ WARN] [1663893411.612508082, 90.303000000]: TF_REPEATED_DATA ignoring data with redundant timestamp for frame odom at time 90.327000 according to authority unknown_publisher\u001b[0m\n",
      "\u001b[33m[ WARN] [1663893413.911245243, 90.534000000]: TF_REPEATED_DATA ignoring data with redundant timestamp for frame odom at time 90.555000 according to authority /pose_integrator\u001b[0m\n",
      "\u001b[33m[ WARN] [1663893413.911799787, 90.534000000]: TF_REPEATED_DATA ignoring data with redundant timestamp for frame odom at time 90.555000 according to authority unknown_publisher\u001b[0m\n",
      "\u001b[33m[ WARN] [1663893414.631212537, 90.624000000]: TF_REPEATED_DATA ignoring data with redundant timestamp for frame odom at time 90.669000 according to authority unknown_publisher\u001b[0m\n",
      "\u001b[33m[ WARN] [1663893414.635453601, 90.624000000]: TF_REPEATED_DATA ignoring data with redundant timestamp for frame odom at time 90.669000 according to authority /pose_integrator\u001b[0m\n",
      "\u001b[33m[ WARN] [1663893416.324441410, 90.849000000]: TF_REPEATED_DATA ignoring data with redundant timestamp for frame odom at time 90.909000 according to authority unknown_publisher\u001b[0m\n",
      "\u001b[33m[ WARN] [1663893416.326092967, 90.849000000]: TF_REPEATED_DATA ignoring data with redundant timestamp for frame odom at time 90.909000 according to authority /pose_integrator\u001b[0m\n",
      "\u001b[33m[ WARN] [1663893421.785590197, 91.425000000]: TF_REPEATED_DATA ignoring data with redundant timestamp for frame odom at time 91.467000 according to authority /pose_integrator\u001b[0m\n",
      "\u001b[33m[ WARN] [1663893421.787145935, 91.425000000]: TF_REPEATED_DATA ignoring data with redundant timestamp for frame odom at time 91.467000 according to authority unknown_publisher\u001b[0m\n",
      "\u001b[33m[ WARN] [1663893425.932245501, 91.821000000]: TF_REPEATED_DATA ignoring data with redundant timestamp for frame odom at time 91.842000 according to authority unknown_publisher\u001b[0m\n",
      "\u001b[33m[ WARN] [1663893425.932548854, 91.821000000]: TF_REPEATED_DATA ignoring data with redundant timestamp for frame odom at time 91.842000 according to authority /pose_integrator\u001b[0m\n",
      "\u001b[33m[ WARN] [1663893427.812805590, 92.010000000]: TF_REPEATED_DATA ignoring data with redundant timestamp for frame odom at time 92.037000 according to authority unknown_publisher\u001b[0m\n",
      "\u001b[33m[ WARN] [1663893427.814236913, 92.010000000]: TF_REPEATED_DATA ignoring data with redundant timestamp for frame odom at time 92.037000 according to authority /pose_integrator\u001b[0m\n",
      "\u001b[33m[ WARN] [1663893432.247180075, 92.580000000]: TF_REPEATED_DATA ignoring data with redundant timestamp for frame odom at time 92.604000 according to authority /pose_integrator\u001b[0m\n",
      "\u001b[33m[ WARN] [1663893432.253775263, 92.580000000]: TF_REPEATED_DATA ignoring data with redundant timestamp for frame odom at time 92.604000 according to authority unknown_publisher\u001b[0m\n",
      "\u001b[33m[ WARN] [1663893434.613884552, 92.910000000]: TF_REPEATED_DATA ignoring data with redundant timestamp for frame odom at time 93.015000 according to authority unknown_publisher\u001b[0m\n",
      "\u001b[33m[ WARN] [1663893434.614123798, 92.910000000]: TF_REPEATED_DATA ignoring data with redundant timestamp for frame odom at time 93.015000 according to authority /pose_integrator\u001b[0m\n",
      "\u001b[33m[ WARN] [1663893437.741921044, 93.240000000]: TF_REPEATED_DATA ignoring data with redundant timestamp for frame odom at time 93.273000 according to authority /pose_integrator\u001b[0m\n",
      "\u001b[33m[ WARN] [1663893437.745561898, 93.240000000]: TF_REPEATED_DATA ignoring data with redundant timestamp for frame odom at time 93.273000 according to authority unknown_publisher\u001b[0m\n",
      "\u001b[33m[ WARN] [1663893438.589422259, 93.378000000]: TF_REPEATED_DATA ignoring data with redundant timestamp for frame odom at time 93.420000 according to authority unknown_publisher\u001b[0m\n",
      "\u001b[33m[ WARN] [1663893438.592132897, 93.378000000]: TF_REPEATED_DATA ignoring data with redundant timestamp for frame odom at time 93.420000 according to authority /pose_integrator\u001b[0m\n",
      "\u001b[33m[ WARN] [1663893447.241244998, 94.440000000]: TF_REPEATED_DATA ignoring data with redundant timestamp for frame odom at time 94.518000 according to authority /pose_integrator\u001b[0m\n",
      "\u001b[33m[ WARN] [1663893447.241503664, 94.440000000]: TF_REPEATED_DATA ignoring data with redundant timestamp for frame odom at time 94.518000 according to authority unknown_publisher\u001b[0m\n",
      "\u001b[33m[ WARN] [1663893478.826917784, 98.151000000]: TF_REPEATED_DATA ignoring data with redundant timestamp for frame odom at time 98.205000 according to authority /pose_integrator\u001b[0m\n",
      "\u001b[33m[ WARN] [1663893478.828507146, 98.151000000]: TF_REPEATED_DATA ignoring data with redundant timestamp for frame odom at time 98.205000 according to authority unknown_publisher\u001b[0m\n",
      "\u001b[33m[ WARN] [1663893484.211154988, 98.895000000]: TF_REPEATED_DATA ignoring data with redundant timestamp for frame odom at time 98.979000 according to authority unknown_publisher\u001b[0m\n",
      "\u001b[33m[ WARN] [1663893484.212580674, 98.895000000]: TF_REPEATED_DATA ignoring data with redundant timestamp for frame odom at time 98.979000 according to authority /pose_integrator\u001b[0m\n",
      "\u001b[33m[ WARN] [1663893500.722102007, 100.476000000]: TF_REPEATED_DATA ignoring data with redundant timestamp for frame odom at time 100.503000 according to authority unknown_publisher\u001b[0m\n",
      "\u001b[33m[ WARN] [1663893500.726674609, 100.476000000]: TF_REPEATED_DATA ignoring data with redundant timestamp for frame odom at time 100.503000 according to authority /pose_integrator\u001b[0m\n",
      "\u001b[33m[ WARN] [1663893517.810563932, 102.279000000]: TF_REPEATED_DATA ignoring data with redundant timestamp for frame odom at time 102.339000 according to authority /pose_integrator\u001b[0m\n",
      "\u001b[33m[ WARN] [1663893517.810742173, 102.279000000]: TF_REPEATED_DATA ignoring data with redundant timestamp for frame odom at time 102.339000 according to authority unknown_publisher\u001b[0m\n",
      "\u001b[33m[ WARN] [1663893527.520338252, 103.392000000]: TF_REPEATED_DATA ignoring data with redundant timestamp for frame odom at time 103.461000 according to authority unknown_publisher\u001b[0m\n",
      "\u001b[33m[ WARN] [1663893527.523350717, 103.392000000]: TF_REPEATED_DATA ignoring data with redundant timestamp for frame odom at time 103.461000 according to authority /pose_integrator\u001b[0m\n",
      "\u001b[33m[ WARN] [1663893529.244830099, 103.614000000]: TF_REPEATED_DATA ignoring data with redundant timestamp for frame odom at time 103.614000 according to authority /pose_integrator\u001b[0m\n",
      "\u001b[33m[ WARN] [1663893529.245531860, 103.614000000]: TF_REPEATED_DATA ignoring data with redundant timestamp for frame odom at time 103.614000 according to authority unknown_publisher\u001b[0m\n",
      "\u001b[33m[ WARN] [1663893549.028617750, 105.858000000]: TF_REPEATED_DATA ignoring data with redundant timestamp for frame odom at time 105.891000 according to authority /pose_integrator\u001b[0m\n",
      "\u001b[33m[ WARN] [1663893549.028997029, 105.858000000]: TF_REPEATED_DATA ignoring data with redundant timestamp for frame odom at time 105.891000 according to authority unknown_publisher\u001b[0m\n",
      "\u001b[33m[ WARN] [1663893550.742234709, 105.996000000]: TF_REPEATED_DATA ignoring data with redundant timestamp for frame odom at time 106.080000 according to authority /pose_integrator\u001b[0m\n",
      "\u001b[33m[ WARN] [1663893550.747304070, 105.996000000]: TF_REPEATED_DATA ignoring data with redundant timestamp for frame odom at time 106.080000 according to authority unknown_publisher\u001b[0m\n",
      "\u001b[33m[ WARN] [1663893563.242565032, 107.424000000]: TF_REPEATED_DATA ignoring data with redundant timestamp for frame odom at time 107.499000 according to authority /pose_integrator\u001b[0m\n",
      "\u001b[33m[ WARN] [1663893563.249411847, 107.424000000]: TF_REPEATED_DATA ignoring data with redundant timestamp for frame odom at time 107.499000 according to authority unknown_publisher\u001b[0m\n"
     ]
    },
    {
     "name": "stderr",
     "output_type": "stream",
     "text": [
      "\u001b[33m[ WARN] [1663893575.486823795, 108.705000000]: TF_REPEATED_DATA ignoring data with redundant timestamp for frame odom at time 108.813000 according to authority /pose_integrator\u001b[0m\n",
      "\u001b[33m[ WARN] [1663893575.492731570, 108.705000000]: TF_REPEATED_DATA ignoring data with redundant timestamp for frame odom at time 108.813000 according to authority unknown_publisher\u001b[0m\n",
      "\u001b[33m[ WARN] [1663893583.755039970, 109.602000000]: TF_REPEATED_DATA ignoring data with redundant timestamp for frame odom at time 109.635000 according to authority unknown_publisher\u001b[0m\n",
      "\u001b[33m[ WARN] [1663893583.755099672, 109.602000000]: TF_REPEATED_DATA ignoring data with redundant timestamp for frame odom at time 109.635000 according to authority /pose_integrator\u001b[0m\n",
      "\u001b[33m[ WARN] [1663893584.360921202, 109.683000000]: TF_REPEATED_DATA ignoring data with redundant timestamp for frame odom at time 109.710000 according to authority /pose_integrator\u001b[0m\n",
      "\u001b[33m[ WARN] [1663893584.364897425, 109.683000000]: TF_REPEATED_DATA ignoring data with redundant timestamp for frame odom at time 109.710000 according to authority unknown_publisher\u001b[0m\n",
      "\u001b[33m[ WARN] [1663893599.211172506, 110.850000000]: TF_REPEATED_DATA ignoring data with redundant timestamp for frame odom at time 110.928000 according to authority unknown_publisher\u001b[0m\n",
      "\u001b[33m[ WARN] [1663893599.216593817, 110.850000000]: TF_REPEATED_DATA ignoring data with redundant timestamp for frame odom at time 110.928000 according to authority /pose_integrator\u001b[0m\n",
      "\u001b[33m[ WARN] [1663893611.829992999, 112.425000000]: TF_REPEATED_DATA ignoring data with redundant timestamp for frame odom at time 112.488000 according to authority /pose_integrator\u001b[0m\n",
      "\u001b[33m[ WARN] [1663893611.832159942, 112.425000000]: TF_REPEATED_DATA ignoring data with redundant timestamp for frame odom at time 112.488000 according to authority unknown_publisher\u001b[0m\n",
      "\u001b[33m[ WARN] [1663893620.433859857, 113.595000000]: TF_REPEATED_DATA ignoring data with redundant timestamp for frame odom at time 113.634000 according to authority unknown_publisher\u001b[0m\n",
      "\u001b[33m[ WARN] [1663893620.436387417, 113.595000000]: TF_REPEATED_DATA ignoring data with redundant timestamp for frame odom at time 113.634000 according to authority /pose_integrator\u001b[0m\n",
      "\u001b[33m[ WARN] [1663893621.467918960, 113.694000000]: TF_REPEATED_DATA ignoring data with redundant timestamp for frame odom at time 113.730000 according to authority /pose_integrator\u001b[0m\n",
      "\u001b[33m[ WARN] [1663893621.470895093, 113.694000000]: TF_REPEATED_DATA ignoring data with redundant timestamp for frame odom at time 113.730000 according to authority unknown_publisher\u001b[0m\n",
      "\u001b[33m[ WARN] [1663893622.132605441, 113.769000000]: TF_REPEATED_DATA ignoring data with redundant timestamp for frame odom at time 113.850000 according to authority unknown_publisher\u001b[0m\n",
      "\u001b[33m[ WARN] [1663893622.136382548, 113.769000000]: TF_REPEATED_DATA ignoring data with redundant timestamp for frame odom at time 113.850000 according to authority /pose_integrator\u001b[0m\n",
      "\u001b[33m[ WARN] [1663893632.263146412, 114.894000000]: TF_REPEATED_DATA ignoring data with redundant timestamp for frame odom at time 114.936000 according to authority unknown_publisher\u001b[0m\n",
      "\u001b[33m[ WARN] [1663893632.263431415, 114.894000000]: TF_REPEATED_DATA ignoring data with redundant timestamp for frame odom at time 114.936000 according to authority /pose_integrator\u001b[0m\n",
      "\u001b[33m[ WARN] [1663893639.880709619, 115.533000000]: TF_REPEATED_DATA ignoring data with redundant timestamp for frame odom at time 115.578000 according to authority unknown_publisher\u001b[0m\n",
      "\u001b[33m[ WARN] [1663893639.881416753, 115.533000000]: TF_REPEATED_DATA ignoring data with redundant timestamp for frame odom at time 115.578000 according to authority /pose_integrator\u001b[0m\n",
      "\u001b[33m[ WARN] [1663893656.398839250, 117.303000000]: TF_REPEATED_DATA ignoring data with redundant timestamp for frame odom at time 117.336000 according to authority /pose_integrator\u001b[0m\n",
      "\u001b[33m[ WARN] [1663893656.398911190, 117.303000000]: TF_REPEATED_DATA ignoring data with redundant timestamp for frame odom at time 117.336000 according to authority unknown_publisher\u001b[0m\n",
      "\u001b[33m[ WARN] [1663893672.452560968, 118.935000000]: TF_REPEATED_DATA ignoring data with redundant timestamp for frame odom at time 119.028000 according to authority /pose_integrator\u001b[0m\n",
      "\u001b[33m[ WARN] [1663893672.453041390, 118.935000000]: TF_REPEATED_DATA ignoring data with redundant timestamp for frame odom at time 119.028000 according to authority unknown_publisher\u001b[0m\n",
      "\u001b[33m[ WARN] [1663893674.999763413, 119.286000000]: TF_REPEATED_DATA ignoring data with redundant timestamp for frame odom at time 119.322000 according to authority unknown_publisher\u001b[0m\n",
      "\u001b[33m[ WARN] [1663893675.001117022, 119.286000000]: TF_REPEATED_DATA ignoring data with redundant timestamp for frame odom at time 119.322000 according to authority /pose_integrator\u001b[0m\n",
      "\u001b[33m[ WARN] [1663893684.931914421, 120.339000000]: TF_REPEATED_DATA ignoring data with redundant timestamp for frame odom at time 120.411000 according to authority /pose_integrator\u001b[0m\n",
      "\u001b[33m[ WARN] [1663893684.933570088, 120.339000000]: TF_REPEATED_DATA ignoring data with redundant timestamp for frame odom at time 120.411000 according to authority unknown_publisher\u001b[0m\n",
      "\u001b[33m[ WARN] [1663893705.217122727, 122.259000000]: TF_REPEATED_DATA ignoring data with redundant timestamp for frame odom at time 122.289000 according to authority /pose_integrator\u001b[0m\n",
      "\u001b[33m[ WARN] [1663893705.218323686, 122.259000000]: TF_REPEATED_DATA ignoring data with redundant timestamp for frame odom at time 122.289000 according to authority unknown_publisher\u001b[0m\n",
      "\u001b[33m[ WARN] [1663893710.860832006, 122.622000000]: TF_REPEATED_DATA ignoring data with redundant timestamp for frame odom at time 122.688000 according to authority unknown_publisher\u001b[0m\n",
      "\u001b[33m[ WARN] [1663893710.861210006, 122.622000000]: TF_REPEATED_DATA ignoring data with redundant timestamp for frame odom at time 122.688000 according to authority /pose_integrator\u001b[0m\n",
      "\u001b[33m[ WARN] [1663893724.443470434, 123.840000000]: TF_REPEATED_DATA ignoring data with redundant timestamp for frame odom at time 123.879000 according to authority unknown_publisher\u001b[0m\n",
      "\u001b[33m[ WARN] [1663893724.443661106, 123.840000000]: TF_REPEATED_DATA ignoring data with redundant timestamp for frame odom at time 123.879000 according to authority /pose_integrator\u001b[0m\n",
      "\u001b[33m[ WARN] [1663893733.776128304, 124.707000000]: TF_REPEATED_DATA ignoring data with redundant timestamp for frame odom at time 124.794000 according to authority unknown_publisher\u001b[0m\n",
      "\u001b[33m[ WARN] [1663893733.777449636, 124.707000000]: TF_REPEATED_DATA ignoring data with redundant timestamp for frame odom at time 124.794000 according to authority /pose_integrator\u001b[0m\n",
      "\u001b[33m[ WARN] [1663893738.561954020, 125.280000000]: TF_REPEATED_DATA ignoring data with redundant timestamp for frame odom at time 125.304000 according to authority /pose_integrator\u001b[0m\n",
      "\u001b[33m[ WARN] [1663893738.562548286, 125.280000000]: TF_REPEATED_DATA ignoring data with redundant timestamp for frame odom at time 125.304000 according to authority unknown_publisher\u001b[0m\n",
      "\u001b[33m[ WARN] [1663893780.583956192, 129.294000000]: TF_REPEATED_DATA ignoring data with redundant timestamp for frame odom at time 129.360000 according to authority /pose_integrator\u001b[0m\n",
      "\u001b[33m[ WARN] [1663893780.593899041, 129.294000000]: TF_REPEATED_DATA ignoring data with redundant timestamp for frame odom at time 129.360000 according to authority unknown_publisher\u001b[0m\n",
      "\u001b[33m[ WARN] [1663893781.377451048, 129.429000000]: TF_REPEATED_DATA ignoring data with redundant timestamp for frame odom at time 129.471000 according to authority unknown_publisher\u001b[0m\n",
      "\u001b[33m[ WARN] [1663893781.381472573, 129.429000000]: TF_REPEATED_DATA ignoring data with redundant timestamp for frame odom at time 129.471000 according to authority /pose_integrator\u001b[0m\n",
      "\u001b[33m[ WARN] [1663893789.685599130, 130.272000000]: TF_REPEATED_DATA ignoring data with redundant timestamp for frame odom at time 130.329000 according to authority unknown_publisher\u001b[0m\n",
      "\u001b[33m[ WARN] [1663893789.685971625, 130.272000000]: TF_REPEATED_DATA ignoring data with redundant timestamp for frame odom at time 130.329000 according to authority /pose_integrator\u001b[0m\n"
     ]
    },
    {
     "name": "stderr",
     "output_type": "stream",
     "text": [
      "\u001b[33m[ WARN] [1663893797.440355868, 131.250000000]: TF_REPEATED_DATA ignoring data with redundant timestamp for frame odom at time 131.298000 according to authority unknown_publisher\u001b[0m\n",
      "\u001b[33m[ WARN] [1663893797.441406669, 131.250000000]: TF_REPEATED_DATA ignoring data with redundant timestamp for frame odom at time 131.298000 according to authority /pose_integrator\u001b[0m\n",
      "\u001b[33m[ WARN] [1663893817.982343735, 133.131000000]: TF_REPEATED_DATA ignoring data with redundant timestamp for frame odom at time 133.173000 according to authority unknown_publisher\u001b[0m\n",
      "\u001b[33m[ WARN] [1663893817.982444636, 133.131000000]: TF_REPEATED_DATA ignoring data with redundant timestamp for frame odom at time 133.173000 according to authority /pose_integrator\u001b[0m\n",
      "\u001b[33m[ WARN] [1663893821.753327433, 133.575000000]: TF_REPEATED_DATA ignoring data with redundant timestamp for frame odom at time 133.638000 according to authority unknown_publisher\u001b[0m\n",
      "\u001b[33m[ WARN] [1663893821.753818721, 133.575000000]: TF_REPEATED_DATA ignoring data with redundant timestamp for frame odom at time 133.638000 according to authority /pose_integrator\u001b[0m\n",
      "\u001b[33m[ WARN] [1663893837.057738102, 135.051000000]: TF_REPEATED_DATA ignoring data with redundant timestamp for frame odom at time 135.102000 according to authority /pose_integrator\u001b[0m\n",
      "\u001b[33m[ WARN] [1663893837.059142411, 135.051000000]: TF_REPEATED_DATA ignoring data with redundant timestamp for frame odom at time 135.102000 according to authority unknown_publisher\u001b[0m\n",
      "\u001b[33m[ WARN] [1663893838.529062564, 135.249000000]: TF_REPEATED_DATA ignoring data with redundant timestamp for frame odom at time 135.285000 according to authority /pose_integrator\u001b[0m\n",
      "\u001b[33m[ WARN] [1663893838.531186408, 135.249000000]: TF_REPEATED_DATA ignoring data with redundant timestamp for frame odom at time 135.285000 according to authority unknown_publisher\u001b[0m\n",
      "\u001b[33m[ WARN] [1663893841.488083454, 135.603000000]: TF_REPEATED_DATA ignoring data with redundant timestamp for frame odom at time 135.639000 according to authority unknown_publisher\u001b[0m\n",
      "\u001b[33m[ WARN] [1663893841.489183042, 135.603000000]: TF_REPEATED_DATA ignoring data with redundant timestamp for frame odom at time 135.639000 according to authority /pose_integrator\u001b[0m\n",
      "\u001b[33m[ WARN] [1663893842.332559982, 135.675000000]: TF_REPEATED_DATA ignoring data with redundant timestamp for frame odom at time 135.711000 according to authority /pose_integrator\u001b[0m\n",
      "\u001b[33m[ WARN] [1663893842.333321751, 135.675000000]: TF_REPEATED_DATA ignoring data with redundant timestamp for frame odom at time 135.711000 according to authority unknown_publisher\u001b[0m\n",
      "\u001b[33m[ WARN] [1663893845.219708170, 135.900000000]: TF_REPEATED_DATA ignoring data with redundant timestamp for frame odom at time 135.963000 according to authority unknown_publisher\u001b[0m\n",
      "\u001b[33m[ WARN] [1663893845.222704309, 135.900000000]: TF_REPEATED_DATA ignoring data with redundant timestamp for frame odom at time 135.963000 according to authority /pose_integrator\u001b[0m\n",
      "\u001b[33m[ WARN] [1663893872.002690658, 138.468000000]: TF_REPEATED_DATA ignoring data with redundant timestamp for frame odom at time 138.486000 according to authority /pose_integrator\u001b[0m\n",
      "\u001b[33m[ WARN] [1663893872.005153538, 138.468000000]: TF_REPEATED_DATA ignoring data with redundant timestamp for frame odom at time 138.486000 according to authority unknown_publisher\u001b[0m\n",
      "\u001b[33m[ WARN] [1663893878.857779319, 139.254000000]: TF_REPEATED_DATA ignoring data with redundant timestamp for frame odom at time 139.314000 according to authority /pose_integrator\u001b[0m\n",
      "\u001b[33m[ WARN] [1663893878.858009521, 139.254000000]: TF_REPEATED_DATA ignoring data with redundant timestamp for frame odom at time 139.314000 according to authority unknown_publisher\u001b[0m\n",
      "\u001b[33m[ WARN] [1663893882.199158984, 139.551000000]: TF_REPEATED_DATA ignoring data with redundant timestamp for frame odom at time 139.614000 according to authority /pose_integrator\u001b[0m\n",
      "\u001b[33m[ WARN] [1663893882.203859116, 139.551000000]: TF_REPEATED_DATA ignoring data with redundant timestamp for frame odom at time 139.614000 according to authority unknown_publisher\u001b[0m\n",
      "\u001b[33m[ WARN] [1663893889.805003522, 140.100000000]: TF_REPEATED_DATA ignoring data with redundant timestamp for frame odom at time 140.169000 according to authority unknown_publisher\u001b[0m\n",
      "\u001b[33m[ WARN] [1663893889.806078499, 140.100000000]: TF_REPEATED_DATA ignoring data with redundant timestamp for frame odom at time 140.169000 according to authority /pose_integrator\u001b[0m\n",
      "\u001b[33m[ WARN] [1663893891.004144665, 140.223000000]: TF_REPEATED_DATA ignoring data with redundant timestamp for frame odom at time 140.244000 according to authority unknown_publisher\u001b[0m\n",
      "\u001b[33m[ WARN] [1663893891.006095120, 140.223000000]: TF_REPEATED_DATA ignoring data with redundant timestamp for frame odom at time 140.244000 according to authority /pose_integrator\u001b[0m\n",
      "\u001b[33m[ WARN] [1663893924.813287815, 142.839000000]: TF_REPEATED_DATA ignoring data with redundant timestamp for frame odom at time 142.866000 according to authority unknown_publisher\u001b[0m\n",
      "\u001b[33m[ WARN] [1663893924.813497890, 142.839000000]: TF_REPEATED_DATA ignoring data with redundant timestamp for frame odom at time 142.866000 according to authority /pose_integrator\u001b[0m\n",
      "\u001b[33m[ WARN] [1663893946.826138988, 144.834000000]: TF_REPEATED_DATA ignoring data with redundant timestamp for frame odom at time 144.858000 according to authority unknown_publisher\u001b[0m\n",
      "\u001b[33m[ WARN] [1663893946.830897162, 144.834000000]: TF_REPEATED_DATA ignoring data with redundant timestamp for frame odom at time 144.858000 according to authority /pose_integrator\u001b[0m\n",
      "\u001b[33m[ WARN] [1663893969.241838460, 146.889000000]: TF_REPEATED_DATA ignoring data with redundant timestamp for frame odom at time 146.937000 according to authority unknown_publisher\u001b[0m\n",
      "\u001b[33m[ WARN] [1663893969.244248932, 146.889000000]: TF_REPEATED_DATA ignoring data with redundant timestamp for frame odom at time 146.937000 according to authority /pose_integrator\u001b[0m\n",
      "\u001b[33m[ WARN] [1663893996.915934503, 149.283000000]: TF_REPEATED_DATA ignoring data with redundant timestamp for frame odom at time 149.307000 according to authority unknown_publisher\u001b[0m\n",
      "\u001b[33m[ WARN] [1663893996.922842768, 149.283000000]: TF_REPEATED_DATA ignoring data with redundant timestamp for frame odom at time 149.307000 according to authority /pose_integrator\u001b[0m\n",
      "\u001b[33m[ WARN] [1663894010.742777711, 150.231000000]: TF_REPEATED_DATA ignoring data with redundant timestamp for frame odom at time 150.231000 according to authority /pose_integrator\u001b[0m\n",
      "\u001b[33m[ WARN] [1663894010.744603483, 150.231000000]: TF_REPEATED_DATA ignoring data with redundant timestamp for frame odom at time 150.231000 according to authority unknown_publisher\u001b[0m\n",
      "\u001b[33m[ WARN] [1663894014.675471478, 150.423000000]: TF_REPEATED_DATA ignoring data with redundant timestamp for frame odom at time 150.477000 according to authority /pose_integrator\u001b[0m\n",
      "\u001b[33m[ WARN] [1663894014.679466867, 150.423000000]: TF_REPEATED_DATA ignoring data with redundant timestamp for frame odom at time 150.477000 according to authority unknown_publisher\u001b[0m\n",
      "\u001b[33m[ WARN] [1663894018.503702793, 150.630000000]: TF_REPEATED_DATA ignoring data with redundant timestamp for frame odom at time 150.705000 according to authority /pose_integrator\u001b[0m\n",
      "\u001b[33m[ WARN] [1663894018.504268830, 150.630000000]: TF_REPEATED_DATA ignoring data with redundant timestamp for frame odom at time 150.705000 according to authority unknown_publisher\u001b[0m\n",
      "\u001b[33m[ WARN] [1663894019.758590321, 150.759000000]: TF_REPEATED_DATA ignoring data with redundant timestamp for frame odom at time 150.780000 according to authority /pose_integrator\u001b[0m\n",
      "\u001b[33m[ WARN] [1663894019.759560208, 150.759000000]: TF_REPEATED_DATA ignoring data with redundant timestamp for frame odom at time 150.780000 according to authority unknown_publisher\u001b[0m\n",
      "\u001b[33m[ WARN] [1663894024.223539222, 151.068000000]: TF_REPEATED_DATA ignoring data with redundant timestamp for frame odom at time 151.107000 according to authority /pose_integrator\u001b[0m\n",
      "\u001b[33m[ WARN] [1663894024.223958701, 151.068000000]: TF_REPEATED_DATA ignoring data with redundant timestamp for frame odom at time 151.107000 according to authority unknown_publisher\u001b[0m\n"
     ]
    },
    {
     "name": "stderr",
     "output_type": "stream",
     "text": [
      "\u001b[33m[ WARN] [1663894027.259440768, 151.335000000]: TF_REPEATED_DATA ignoring data with redundant timestamp for frame odom at time 151.377000 according to authority /pose_integrator\u001b[0m\n",
      "\u001b[33m[ WARN] [1663894027.263878592, 151.335000000]: TF_REPEATED_DATA ignoring data with redundant timestamp for frame odom at time 151.377000 according to authority unknown_publisher\u001b[0m\n",
      "\u001b[33m[ WARN] [1663894032.221163062, 151.746000000]: TF_REPEATED_DATA ignoring data with redundant timestamp for frame odom at time 151.827000 according to authority unknown_publisher\u001b[0m\n",
      "\u001b[33m[ WARN] [1663894032.221813247, 151.746000000]: TF_REPEATED_DATA ignoring data with redundant timestamp for frame odom at time 151.827000 according to authority /pose_integrator\u001b[0m\n",
      "\u001b[33m[ WARN] [1663894036.638149136, 152.100000000]: TF_REPEATED_DATA ignoring data with redundant timestamp for frame odom at time 152.199000 according to authority unknown_publisher\u001b[0m\n",
      "\u001b[33m[ WARN] [1663894036.638651268, 152.100000000]: TF_REPEATED_DATA ignoring data with redundant timestamp for frame odom at time 152.199000 according to authority /pose_integrator\u001b[0m\n",
      "\u001b[33m[ WARN] [1663894041.341818286, 152.544000000]: TF_REPEATED_DATA ignoring data with redundant timestamp for frame odom at time 152.571000 according to authority /pose_integrator\u001b[0m\n",
      "\u001b[33m[ WARN] [1663894041.341922678, 152.544000000]: TF_REPEATED_DATA ignoring data with redundant timestamp for frame odom at time 152.571000 according to authority unknown_publisher\u001b[0m\n",
      "\u001b[33m[ WARN] [1663894043.517646856, 152.685000000]: TF_REPEATED_DATA ignoring data with redundant timestamp for frame odom at time 152.703000 according to authority unknown_publisher\u001b[0m\n",
      "\u001b[33m[ WARN] [1663894043.517750218, 152.685000000]: TF_REPEATED_DATA ignoring data with redundant timestamp for frame odom at time 152.703000 according to authority /pose_integrator\u001b[0m\n",
      "\u001b[33m[ WARN] [1663894055.128351699, 153.354000000]: TF_REPEATED_DATA ignoring data with redundant timestamp for frame odom at time 153.393000 according to authority unknown_publisher\u001b[0m\n",
      "\u001b[33m[ WARN] [1663894055.129750129, 153.354000000]: TF_REPEATED_DATA ignoring data with redundant timestamp for frame odom at time 153.393000 according to authority /pose_integrator\u001b[0m\n",
      "\u001b[33m[ WARN] [1663894061.873601206, 153.912000000]: TF_REPEATED_DATA ignoring data with redundant timestamp for frame odom at time 153.939000 according to authority /pose_integrator\u001b[0m\n",
      "\u001b[33m[ WARN] [1663894061.873805521, 153.912000000]: TF_REPEATED_DATA ignoring data with redundant timestamp for frame odom at time 153.939000 according to authority unknown_publisher\u001b[0m\n",
      "\u001b[33m[ WARN] [1663894068.049642092, 154.365000000]: TF_REPEATED_DATA ignoring data with redundant timestamp for frame odom at time 154.392000 according to authority /pose_integrator\u001b[0m\n",
      "\u001b[33m[ WARN] [1663894068.050319739, 154.365000000]: TF_REPEATED_DATA ignoring data with redundant timestamp for frame odom at time 154.392000 according to authority unknown_publisher\u001b[0m\n",
      "\u001b[33m[ WARN] [1663894090.625514635, 156.252000000]: TF_REPEATED_DATA ignoring data with redundant timestamp for frame odom at time 156.282000 according to authority /pose_integrator\u001b[0m\n",
      "\u001b[33m[ WARN] [1663894090.625753755, 156.252000000]: TF_REPEATED_DATA ignoring data with redundant timestamp for frame odom at time 156.282000 according to authority unknown_publisher\u001b[0m\n",
      "\u001b[33m[ WARN] [1663894098.034367931, 156.771000000]: TF_REPEATED_DATA ignoring data with redundant timestamp for frame odom at time 156.807000 according to authority /pose_integrator\u001b[0m\n",
      "\u001b[33m[ WARN] [1663894098.035039573, 156.771000000]: TF_REPEATED_DATA ignoring data with redundant timestamp for frame odom at time 156.807000 according to authority unknown_publisher\u001b[0m\n",
      "\u001b[33m[ WARN] [1663894104.340575003, 157.293000000]: TF_REPEATED_DATA ignoring data with redundant timestamp for frame odom at time 157.323000 according to authority unknown_publisher\u001b[0m\n",
      "\u001b[33m[ WARN] [1663894104.344148702, 157.293000000]: TF_REPEATED_DATA ignoring data with redundant timestamp for frame odom at time 157.323000 according to authority /pose_integrator\u001b[0m\n",
      "\u001b[33m[ WARN] [1663894115.575001134, 158.427000000]: TF_REPEATED_DATA ignoring data with redundant timestamp for frame odom at time 158.427000 according to authority unknown_publisher\u001b[0m\n",
      "\u001b[33m[ WARN] [1663894115.575103814, 158.427000000]: TF_REPEATED_DATA ignoring data with redundant timestamp for frame odom at time 158.427000 according to authority /pose_integrator\u001b[0m\n",
      "\u001b[33m[ WARN] [1663894123.562804709, 158.913000000]: TF_REPEATED_DATA ignoring data with redundant timestamp for frame odom at time 158.958000 according to authority /pose_integrator\u001b[0m\n",
      "\u001b[33m[ WARN] [1663894123.563906732, 158.913000000]: TF_REPEATED_DATA ignoring data with redundant timestamp for frame odom at time 158.958000 according to authority unknown_publisher\u001b[0m\n",
      "\u001b[33m[ WARN] [1663894125.214342346, 159.042000000]: TF_REPEATED_DATA ignoring data with redundant timestamp for frame odom at time 159.111000 according to authority unknown_publisher\u001b[0m\n",
      "\u001b[33m[ WARN] [1663894125.215306628, 159.042000000]: TF_REPEATED_DATA ignoring data with redundant timestamp for frame odom at time 159.111000 according to authority /pose_integrator\u001b[0m\n",
      "\u001b[33m[ WARN] [1663894126.353339312, 159.255000000]: TF_REPEATED_DATA ignoring data with redundant timestamp for frame odom at time 159.294000 according to authority unknown_publisher\u001b[0m\n",
      "\u001b[33m[ WARN] [1663894126.356291024, 159.255000000]: TF_REPEATED_DATA ignoring data with redundant timestamp for frame odom at time 159.294000 according to authority /pose_integrator\u001b[0m\n",
      "\u001b[33m[ WARN] [1663894140.243759584, 160.674000000]: TF_REPEATED_DATA ignoring data with redundant timestamp for frame odom at time 160.719000 according to authority /pose_integrator\u001b[0m\n",
      "\u001b[33m[ WARN] [1663894140.244477601, 160.674000000]: TF_REPEATED_DATA ignoring data with redundant timestamp for frame odom at time 160.719000 according to authority unknown_publisher\u001b[0m\n",
      "\u001b[33m[ WARN] [1663894146.339657972, 161.205000000]: TF_REPEATED_DATA ignoring data with redundant timestamp for frame odom at time 161.346000 according to authority /pose_integrator\u001b[0m\n",
      "\u001b[33m[ WARN] [1663894146.340655893, 161.205000000]: TF_REPEATED_DATA ignoring data with redundant timestamp for frame odom at time 161.346000 according to authority unknown_publisher\u001b[0m\n",
      "\u001b[33m[ WARN] [1663894155.710669257, 162.435000000]: TF_REPEATED_DATA ignoring data with redundant timestamp for frame odom at time 162.495000 according to authority /pose_integrator\u001b[0m\n",
      "\u001b[33m[ WARN] [1663894155.711757688, 162.435000000]: TF_REPEATED_DATA ignoring data with redundant timestamp for frame odom at time 162.495000 according to authority unknown_publisher\u001b[0m\n",
      "\u001b[33m[ WARN] [1663894156.077438124, 162.504000000]: TF_REPEATED_DATA ignoring data with redundant timestamp for frame odom at time 162.570000 according to authority unknown_publisher\u001b[0m\n",
      "\u001b[33m[ WARN] [1663894156.079078667, 162.504000000]: TF_REPEATED_DATA ignoring data with redundant timestamp for frame odom at time 162.570000 according to authority /pose_integrator\u001b[0m\n",
      "\u001b[33m[ WARN] [1663894157.111454487, 162.642000000]: TF_REPEATED_DATA ignoring data with redundant timestamp for frame odom at time 162.681000 according to authority /pose_integrator\u001b[0m\n",
      "\u001b[33m[ WARN] [1663894157.112062977, 162.642000000]: TF_REPEATED_DATA ignoring data with redundant timestamp for frame odom at time 162.681000 according to authority unknown_publisher\u001b[0m\n",
      "\u001b[33m[ WARN] [1663894160.948403975, 162.978000000]: TF_REPEATED_DATA ignoring data with redundant timestamp for frame odom at time 163.005000 according to authority /pose_integrator\u001b[0m\n",
      "\u001b[33m[ WARN] [1663894160.948555845, 162.978000000]: TF_REPEATED_DATA ignoring data with redundant timestamp for frame odom at time 163.005000 according to authority unknown_publisher\u001b[0m\n",
      "\u001b[33m[ WARN] [1663894169.016329207, 163.527000000]: TF_REPEATED_DATA ignoring data with redundant timestamp for frame odom at time 163.593000 according to authority unknown_publisher\u001b[0m\n",
      "\u001b[33m[ WARN] [1663894169.016572005, 163.527000000]: TF_REPEATED_DATA ignoring data with redundant timestamp for frame odom at time 163.593000 according to authority /pose_integrator\u001b[0m\n"
     ]
    },
    {
     "name": "stderr",
     "output_type": "stream",
     "text": [
      "\u001b[33m[ WARN] [1663894188.363683996, 165.498000000]: TF_REPEATED_DATA ignoring data with redundant timestamp for frame odom at time 165.555000 according to authority /pose_integrator\u001b[0m\n",
      "\u001b[33m[ WARN] [1663894188.364976351, 165.498000000]: TF_REPEATED_DATA ignoring data with redundant timestamp for frame odom at time 165.555000 according to authority unknown_publisher\u001b[0m\n",
      "\u001b[33m[ WARN] [1663894190.604333493, 165.819000000]: TF_REPEATED_DATA ignoring data with redundant timestamp for frame odom at time 165.861000 according to authority unknown_publisher\u001b[0m\n",
      "\u001b[33m[ WARN] [1663894190.605220767, 165.819000000]: TF_REPEATED_DATA ignoring data with redundant timestamp for frame odom at time 165.861000 according to authority /pose_integrator\u001b[0m\n",
      "\u001b[33m[ WARN] [1663894193.566340997, 165.984000000]: TF_REPEATED_DATA ignoring data with redundant timestamp for frame odom at time 166.047000 according to authority /pose_integrator\u001b[0m\n",
      "\u001b[33m[ WARN] [1663894193.567132978, 165.984000000]: TF_REPEATED_DATA ignoring data with redundant timestamp for frame odom at time 166.047000 according to authority unknown_publisher\u001b[0m\n",
      "\u001b[33m[ WARN] [1663894210.422526566, 167.280000000]: TF_REPEATED_DATA ignoring data with redundant timestamp for frame odom at time 167.334000 according to authority unknown_publisher\u001b[0m\n",
      "\u001b[33m[ WARN] [1663894210.423095513, 167.280000000]: TF_REPEATED_DATA ignoring data with redundant timestamp for frame odom at time 167.334000 according to authority /pose_integrator\u001b[0m\n",
      "\u001b[33m[ WARN] [1663894211.810795406, 167.424000000]: TF_REPEATED_DATA ignoring data with redundant timestamp for frame odom at time 167.448000 according to authority unknown_publisher\u001b[0m\n",
      "\u001b[33m[ WARN] [1663894211.811335059, 167.424000000]: TF_REPEATED_DATA ignoring data with redundant timestamp for frame odom at time 167.448000 according to authority /pose_integrator\u001b[0m\n",
      "\u001b[33m[ WARN] [1663894213.522252284, 167.613000000]: TF_REPEATED_DATA ignoring data with redundant timestamp for frame odom at time 167.649000 according to authority unknown_publisher\u001b[0m\n",
      "\u001b[33m[ WARN] [1663894213.522614067, 167.613000000]: TF_REPEATED_DATA ignoring data with redundant timestamp for frame odom at time 167.649000 according to authority /pose_integrator\u001b[0m\n",
      "\u001b[33m[ WARN] [1663894226.060627196, 168.972000000]: TF_REPEATED_DATA ignoring data with redundant timestamp for frame odom at time 169.041000 according to authority unknown_publisher\u001b[0m\n",
      "\u001b[33m[ WARN] [1663894226.062924121, 168.972000000]: TF_REPEATED_DATA ignoring data with redundant timestamp for frame odom at time 169.041000 according to authority /pose_integrator\u001b[0m\n",
      "\u001b[33m[ WARN] [1663894241.492644575, 170.568000000]: TF_REPEATED_DATA ignoring data with redundant timestamp for frame odom at time 170.601000 according to authority unknown_publisher\u001b[0m\n",
      "\u001b[33m[ WARN] [1663894241.496298252, 170.568000000]: TF_REPEATED_DATA ignoring data with redundant timestamp for frame odom at time 170.601000 according to authority /pose_integrator\u001b[0m\n",
      "\u001b[33m[ WARN] [1663894258.498158166, 172.668000000]: TF_REPEATED_DATA ignoring data with redundant timestamp for frame odom at time 172.746000 according to authority unknown_publisher\u001b[0m\n",
      "\u001b[33m[ WARN] [1663894258.498939673, 172.668000000]: TF_REPEATED_DATA ignoring data with redundant timestamp for frame odom at time 172.746000 according to authority /pose_integrator\u001b[0m\n",
      "\u001b[33m[ WARN] [1663894260.743202168, 173.004000000]: TF_REPEATED_DATA ignoring data with redundant timestamp for frame odom at time 173.094000 according to authority /pose_integrator\u001b[0m\n",
      "\u001b[33m[ WARN] [1663894260.743453581, 173.004000000]: TF_REPEATED_DATA ignoring data with redundant timestamp for frame odom at time 173.094000 according to authority unknown_publisher\u001b[0m\n",
      "\u001b[33m[ WARN] [1663894261.574624069, 173.142000000]: TF_REPEATED_DATA ignoring data with redundant timestamp for frame odom at time 173.196000 according to authority /pose_integrator\u001b[0m\n",
      "\u001b[33m[ WARN] [1663894261.576404656, 173.142000000]: TF_REPEATED_DATA ignoring data with redundant timestamp for frame odom at time 173.196000 according to authority unknown_publisher\u001b[0m\n",
      "\u001b[33m[ WARN] [1663894271.950455470, 174.360000000]: TF_REPEATED_DATA ignoring data with redundant timestamp for frame odom at time 174.429000 according to authority /pose_integrator\u001b[0m\n",
      "\u001b[33m[ WARN] [1663894271.951078594, 174.360000000]: TF_REPEATED_DATA ignoring data with redundant timestamp for frame odom at time 174.429000 according to authority unknown_publisher\u001b[0m\n",
      "\u001b[33m[ WARN] [1663894281.145520583, 175.191000000]: TF_REPEATED_DATA ignoring data with redundant timestamp for frame odom at time 175.248000 according to authority unknown_publisher\u001b[0m\n",
      "\u001b[33m[ WARN] [1663894281.146750640, 175.191000000]: TF_REPEATED_DATA ignoring data with redundant timestamp for frame odom at time 175.248000 according to authority /pose_integrator\u001b[0m\n",
      "\u001b[33m[ WARN] [1663894291.083458033, 176.235000000]: TF_REPEATED_DATA ignoring data with redundant timestamp for frame odom at time 176.268000 according to authority /pose_integrator\u001b[0m\n",
      "\u001b[33m[ WARN] [1663894291.087438040, 176.235000000]: TF_REPEATED_DATA ignoring data with redundant timestamp for frame odom at time 176.268000 according to authority unknown_publisher\u001b[0m\n",
      "\u001b[33m[ WARN] [1663894291.576749447, 176.343000000]: TF_REPEATED_DATA ignoring data with redundant timestamp for frame odom at time 176.430000 according to authority /pose_integrator\u001b[0m\n",
      "\u001b[33m[ WARN] [1663894291.577956994, 176.343000000]: TF_REPEATED_DATA ignoring data with redundant timestamp for frame odom at time 176.430000 according to authority unknown_publisher\u001b[0m\n",
      "\u001b[33m[ WARN] [1663894302.156671058, 177.585000000]: TF_REPEATED_DATA ignoring data with redundant timestamp for frame odom at time 177.726000 according to authority unknown_publisher\u001b[0m\n",
      "\u001b[33m[ WARN] [1663894302.157124194, 177.585000000]: TF_REPEATED_DATA ignoring data with redundant timestamp for frame odom at time 177.726000 according to authority /pose_integrator\u001b[0m\n",
      "\u001b[33m[ WARN] [1663894303.825312349, 177.993000000]: TF_REPEATED_DATA ignoring data with redundant timestamp for frame odom at time 178.023000 according to authority unknown_publisher\u001b[0m\n",
      "\u001b[33m[ WARN] [1663894303.825690355, 177.993000000]: TF_REPEATED_DATA ignoring data with redundant timestamp for frame odom at time 178.023000 according to authority /pose_integrator\u001b[0m\n",
      "\u001b[33m[ WARN] [1663894310.119858543, 178.632000000]: TF_REPEATED_DATA ignoring data with redundant timestamp for frame odom at time 178.716000 according to authority /pose_integrator\u001b[0m\n",
      "\u001b[33m[ WARN] [1663894310.121192097, 178.632000000]: TF_REPEATED_DATA ignoring data with redundant timestamp for frame odom at time 178.716000 according to authority unknown_publisher\u001b[0m\n",
      "\u001b[33m[ WARN] [1663894321.065626329, 179.838000000]: TF_REPEATED_DATA ignoring data with redundant timestamp for frame odom at time 179.850000 according to authority /pose_integrator\u001b[0m\n",
      "\u001b[33m[ WARN] [1663894321.065831900, 179.838000000]: TF_REPEATED_DATA ignoring data with redundant timestamp for frame odom at time 179.850000 according to authority unknown_publisher\u001b[0m\n",
      "\u001b[33m[ WARN] [1663894323.156801056, 180.081000000]: TF_REPEATED_DATA ignoring data with redundant timestamp for frame odom at time 180.135000 according to authority /pose_integrator\u001b[0m\n",
      "\u001b[33m[ WARN] [1663894323.182958580, 180.135000000]: TF_REPEATED_DATA ignoring data with redundant timestamp for frame odom at time 180.135000 according to authority unknown_publisher\u001b[0m\n",
      "\u001b[33m[ WARN] [1663894339.248789201, 181.860000000]: TF_REPEATED_DATA ignoring data with redundant timestamp for frame odom at time 181.980000 according to authority unknown_publisher\u001b[0m\n",
      "\u001b[33m[ WARN] [1663894339.248991254, 181.860000000]: TF_REPEATED_DATA ignoring data with redundant timestamp for frame odom at time 181.980000 according to authority /pose_integrator\u001b[0m\n",
      "\u001b[33m[ WARN] [1663894341.813474344, 182.307000000]: TF_REPEATED_DATA ignoring data with redundant timestamp for frame odom at time 182.367000 according to authority /pose_integrator\u001b[0m\n",
      "\u001b[33m[ WARN] [1663894341.815969555, 182.307000000]: TF_REPEATED_DATA ignoring data with redundant timestamp for frame odom at time 182.367000 according to authority unknown_publisher\u001b[0m\n"
     ]
    },
    {
     "name": "stderr",
     "output_type": "stream",
     "text": [
      "\u001b[33m[ WARN] [1663894347.370455642, 182.919000000]: TF_REPEATED_DATA ignoring data with redundant timestamp for frame odom at time 182.985000 according to authority /pose_integrator\u001b[0m\n",
      "\u001b[33m[ WARN] [1663894347.370914372, 182.919000000]: TF_REPEATED_DATA ignoring data with redundant timestamp for frame odom at time 182.985000 according to authority unknown_publisher\u001b[0m\n"
     ]
    }
   ],
   "source": [
    "import sys\n",
    "import copy\n",
    "import rospy\n",
    "import moveit_commander\n",
    "import moveit_msgs.msg\n",
    "import geometry_msgs.msg\n",
    "display_trajectory_publisher = rospy.Publisher(\n",
    "            \"/move_group/display_planned_path\",\n",
    "            moveit_msgs.msg.DisplayTrajectory,\n",
    "            queue_size=20,\n",
    "        )\n",
    "waypoints = []\n",
    "scale = 1\n",
    "wpose = whole_body.get_current_pose().pose\n",
    "wpose.position.z += scale * 0.1  # First move up (z)\n",
    "waypoints.append(copy.deepcopy(wpose))\n",
    "\n",
    "wpose.position.x += scale * 0.1  # Second move forward/backwards in (x)\n",
    "wpose.position.y += scale * 0.1\n",
    "waypoints.append(copy.deepcopy(wpose))\n",
    "\n",
    "(plan, fraction) = arm.compute_cartesian_path(\n",
    "    waypoints, 0.01, 0.0  # waypoints to follow  # eef_step\n",
    ")  # jump_threshold\n",
    "display_trajectory = moveit_msgs.msg.DisplayTrajectory()\n",
    "display_trajectory.trajectory_start = robot.get_current_state()\n",
    "display_trajectory.trajectory.append(plan)\n",
    "# Publish\n",
    "display_trajectory_publisher.publish(display_trajectory)\n",
    "print(fraction)"
   ]
  },
  {
   "cell_type": "code",
   "execution_count": 24,
   "metadata": {},
   "outputs": [
    {
     "name": "stderr",
     "output_type": "stream",
     "text": [
      "\u001b[33m[ WARN] [1663897315.859170131, 504.933000000]: TF_REPEATED_DATA ignoring data with redundant timestamp for frame odom at time 504.996000 according to authority /pose_integrator\u001b[0m\n",
      "\u001b[33m[ WARN] [1663897315.871492443, 504.933000000]: TF_REPEATED_DATA ignoring data with redundant timestamp for frame odom at time 504.996000 according to authority unknown_publisher\u001b[0m\n",
      "\u001b[33m[ WARN] [1663897322.743384420, 505.869000000]: TF_REPEATED_DATA ignoring data with redundant timestamp for frame odom at time 505.902000 according to authority /pose_integrator\u001b[0m\n",
      "\u001b[33m[ WARN] [1663897322.749883126, 505.869000000]: TF_REPEATED_DATA ignoring data with redundant timestamp for frame odom at time 505.902000 according to authority unknown_publisher\u001b[0m\n",
      "\u001b[33m[ WARN] [1663897327.153289555, 506.397000000]: TF_REPEATED_DATA ignoring data with redundant timestamp for frame odom at time 506.523000 according to authority /pose_integrator\u001b[0m\n",
      "\u001b[33m[ WARN] [1663897327.154054708, 506.397000000]: TF_REPEATED_DATA ignoring data with redundant timestamp for frame odom at time 506.523000 according to authority unknown_publisher\u001b[0m\n",
      "\u001b[33m[ WARN] [1663897330.223751812, 506.877000000]: TF_REPEATED_DATA ignoring data with redundant timestamp for frame odom at time 506.925000 according to authority /pose_integrator\u001b[0m\n",
      "\u001b[33m[ WARN] [1663897330.228485398, 506.877000000]: TF_REPEATED_DATA ignoring data with redundant timestamp for frame odom at time 506.925000 according to authority unknown_publisher\u001b[0m\n",
      "\u001b[33m[ WARN] [1663897341.683357277, 508.101000000]: TF_REPEATED_DATA ignoring data with redundant timestamp for frame odom at time 508.137000 according to authority /pose_integrator\u001b[0m\n",
      "\u001b[33m[ WARN] [1663897341.683608507, 508.101000000]: TF_REPEATED_DATA ignoring data with redundant timestamp for frame odom at time 508.137000 according to authority unknown_publisher\u001b[0m\n",
      "\u001b[33m[ WARN] [1663897349.332403144, 508.836000000]: TF_REPEATED_DATA ignoring data with redundant timestamp for frame odom at time 508.866000 according to authority /pose_integrator\u001b[0m\n",
      "\u001b[33m[ WARN] [1663897349.333264149, 508.836000000]: TF_REPEATED_DATA ignoring data with redundant timestamp for frame odom at time 508.866000 according to authority unknown_publisher\u001b[0m\n",
      "\u001b[33m[ WARN] [1663897378.826212047, 512.181000000]: TF_REPEATED_DATA ignoring data with redundant timestamp for frame odom at time 512.217000 according to authority unknown_publisher\u001b[0m\n",
      "\u001b[33m[ WARN] [1663897378.841057637, 512.196000000]: TF_REPEATED_DATA ignoring data with redundant timestamp for frame odom at time 512.217000 according to authority /pose_integrator\u001b[0m\n",
      "\u001b[33m[ WARN] [1663897395.065796316, 513.834000000]: TF_REPEATED_DATA ignoring data with redundant timestamp for frame odom at time 513.870000 according to authority /pose_integrator\u001b[0m\n",
      "\u001b[33m[ WARN] [1663897395.066618923, 513.834000000]: TF_REPEATED_DATA ignoring data with redundant timestamp for frame odom at time 513.870000 according to authority unknown_publisher\u001b[0m\n"
     ]
    },
    {
     "data": {
      "text/plain": [
       "True"
      ]
     },
     "execution_count": 24,
     "metadata": {},
     "output_type": "execute_result"
    },
    {
     "name": "stderr",
     "output_type": "stream",
     "text": [
      "\u001b[33m[ WARN] [1663897405.817101651, 515.097000000]: TF_REPEATED_DATA ignoring data with redundant timestamp for frame arm_flex_link at time 515.316000 according to authority /robot_state_publisher\u001b[0m\n",
      "\u001b[33m[ WARN] [1663897405.817379729, 515.097000000]: TF_REPEATED_DATA ignoring data with redundant timestamp for frame arm_lift_link at time 515.316000 according to authority /robot_state_publisher\u001b[0m\n",
      "\u001b[33m[ WARN] [1663897405.817503343, 515.097000000]: TF_REPEATED_DATA ignoring data with redundant timestamp for frame arm_roll_link at time 515.316000 according to authority /robot_state_publisher\u001b[0m\n",
      "\u001b[33m[ WARN] [1663897405.817627162, 515.097000000]: TF_REPEATED_DATA ignoring data with redundant timestamp for frame base_b_bumper_link at time 515.316000 according to authority /robot_state_publisher\u001b[0m\n",
      "\u001b[33m[ WARN] [1663897405.817742345, 515.097000000]: TF_REPEATED_DATA ignoring data with redundant timestamp for frame base_f_bumper_link at time 515.316000 according to authority /robot_state_publisher\u001b[0m\n",
      "\u001b[33m[ WARN] [1663897405.817876115, 515.097000000]: TF_REPEATED_DATA ignoring data with redundant timestamp for frame base_l_drive_wheel_link at time 515.316000 according to authority /robot_state_publisher\u001b[0m\n",
      "\u001b[33m[ WARN] [1663897405.818104406, 515.097000000]: TF_REPEATED_DATA ignoring data with redundant timestamp for frame base_l_passive_wheel_x_frame at time 515.316000 according to authority /robot_state_publisher\u001b[0m\n",
      "\u001b[33m[ WARN] [1663897405.818226590, 515.097000000]: TF_REPEATED_DATA ignoring data with redundant timestamp for frame base_l_passive_wheel_y_frame at time 515.316000 according to authority /robot_state_publisher\u001b[0m\n",
      "\u001b[33m[ WARN] [1663897405.818350443, 515.097000000]: TF_REPEATED_DATA ignoring data with redundant timestamp for frame base_l_passive_wheel_z_link at time 515.316000 according to authority /robot_state_publisher\u001b[0m\n",
      "\u001b[33m[ WARN] [1663897405.818574328, 515.097000000]: TF_REPEATED_DATA ignoring data with redundant timestamp for frame base_r_drive_wheel_link at time 515.316000 according to authority /robot_state_publisher\u001b[0m\n",
      "\u001b[33m[ WARN] [1663897405.818711699, 515.097000000]: TF_REPEATED_DATA ignoring data with redundant timestamp for frame base_r_passive_wheel_x_frame at time 515.316000 according to authority /robot_state_publisher\u001b[0m\n",
      "\u001b[33m[ WARN] [1663897405.818922818, 515.097000000]: TF_REPEATED_DATA ignoring data with redundant timestamp for frame base_r_passive_wheel_y_frame at time 515.316000 according to authority /robot_state_publisher\u001b[0m\n",
      "\u001b[33m[ WARN] [1663897405.819061943, 515.097000000]: TF_REPEATED_DATA ignoring data with redundant timestamp for frame base_r_passive_wheel_z_link at time 515.316000 according to authority /robot_state_publisher\u001b[0m\n",
      "\u001b[33m[ WARN] [1663897405.819181525, 515.097000000]: TF_REPEATED_DATA ignoring data with redundant timestamp for frame base_roll_link at time 515.316000 according to authority /robot_state_publisher\u001b[0m\n",
      "\u001b[33m[ WARN] [1663897405.819307063, 515.097000000]: TF_REPEATED_DATA ignoring data with redundant timestamp for frame hand_l_distal_link at time 515.316000 according to authority /robot_state_publisher\u001b[0m\n",
      "\u001b[33m[ WARN] [1663897405.819435011, 515.097000000]: TF_REPEATED_DATA ignoring data with redundant timestamp for frame hand_l_mimic_distal_link at time 515.316000 according to authority /robot_state_publisher\u001b[0m\n",
      "\u001b[33m[ WARN] [1663897405.819626060, 515.097000000]: TF_REPEATED_DATA ignoring data with redundant timestamp for frame hand_l_proximal_link at time 515.316000 according to authority /robot_state_publisher\u001b[0m\n",
      "\u001b[33m[ WARN] [1663897405.819742114, 515.097000000]: TF_REPEATED_DATA ignoring data with redundant timestamp for frame hand_l_spring_proximal_link at time 515.316000 according to authority /robot_state_publisher\u001b[0m\n",
      "\u001b[33m[ WARN] [1663897405.819854283, 515.097000000]: TF_REPEATED_DATA ignoring data with redundant timestamp for frame hand_motor_dummy_link at time 515.316000 according to authority /robot_state_publisher\u001b[0m\n",
      "\u001b[33m[ WARN] [1663897405.819959244, 515.097000000]: TF_REPEATED_DATA ignoring data with redundant timestamp for frame hand_r_distal_link at time 515.316000 according to authority /robot_state_publisher\u001b[0m\n",
      "\u001b[33m[ WARN] [1663897405.820078058, 515.097000000]: TF_REPEATED_DATA ignoring data with redundant timestamp for frame hand_r_mimic_distal_link at time 515.316000 according to authority /robot_state_publisher\u001b[0m\n",
      "\u001b[33m[ WARN] [1663897405.820373339, 515.097000000]: TF_REPEATED_DATA ignoring data with redundant timestamp for frame hand_r_proximal_link at time 515.316000 according to authority /robot_state_publisher\u001b[0m\n",
      "\u001b[33m[ WARN] [1663897405.820878005, 515.097000000]: TF_REPEATED_DATA ignoring data with redundant timestamp for frame hand_r_spring_proximal_link at time 515.316000 according to authority /robot_state_publisher\u001b[0m\n",
      "\u001b[33m[ WARN] [1663897405.827936200, 515.097000000]: TF_REPEATED_DATA ignoring data with redundant timestamp for frame arm_flex_link at time 515.316000 according to authority unknown_publisher\u001b[0m\n",
      "\u001b[33m[ WARN] [1663897405.828200097, 515.097000000]: TF_REPEATED_DATA ignoring data with redundant timestamp for frame arm_lift_link at time 515.316000 according to authority unknown_publisher\u001b[0m\n",
      "\u001b[33m[ WARN] [1663897405.828420799, 515.097000000]: TF_REPEATED_DATA ignoring data with redundant timestamp for frame arm_roll_link at time 515.316000 according to authority unknown_publisher\u001b[0m\n",
      "\u001b[33m[ WARN] [1663897405.828553981, 515.097000000]: TF_REPEATED_DATA ignoring data with redundant timestamp for frame base_b_bumper_link at time 515.316000 according to authority unknown_publisher\u001b[0m\n",
      "\u001b[33m[ WARN] [1663897405.828784859, 515.097000000]: TF_REPEATED_DATA ignoring data with redundant timestamp for frame base_f_bumper_link at time 515.316000 according to authority unknown_publisher\u001b[0m\n",
      "\u001b[33m[ WARN] [1663897405.828979787, 515.097000000]: TF_REPEATED_DATA ignoring data with redundant timestamp for frame base_l_drive_wheel_link at time 515.316000 according to authority unknown_publisher\u001b[0m\n",
      "\u001b[33m[ WARN] [1663897405.829162993, 515.097000000]: TF_REPEATED_DATA ignoring data with redundant timestamp for frame base_l_passive_wheel_x_frame at time 515.316000 according to authority unknown_publisher\u001b[0m\n",
      "\u001b[33m[ WARN] [1663897405.829317410, 515.097000000]: TF_REPEATED_DATA ignoring data with redundant timestamp for frame base_l_passive_wheel_y_frame at time 515.316000 according to authority unknown_publisher\u001b[0m\n",
      "\u001b[33m[ WARN] [1663897405.829563047, 515.097000000]: TF_REPEATED_DATA ignoring data with redundant timestamp for frame base_l_passive_wheel_z_link at time 515.316000 according to authority unknown_publisher\u001b[0m\n",
      "\u001b[33m[ WARN] [1663897405.829663350, 515.097000000]: TF_REPEATED_DATA ignoring data with redundant timestamp for frame base_r_drive_wheel_link at time 515.316000 according to authority unknown_publisher\u001b[0m\n",
      "\u001b[33m[ WARN] [1663897405.830380593, 515.097000000]: TF_REPEATED_DATA ignoring data with redundant timestamp for frame base_r_passive_wheel_x_frame at time 515.316000 according to authority unknown_publisher\u001b[0m\n",
      "\u001b[33m[ WARN] [1663897405.830533073, 515.097000000]: TF_REPEATED_DATA ignoring data with redundant timestamp for frame base_r_passive_wheel_y_frame at time 515.316000 according to authority unknown_publisher\u001b[0m\n",
      "\u001b[33m[ WARN] [1663897405.830623056, 515.097000000]: TF_REPEATED_DATA ignoring data with redundant timestamp for frame base_r_passive_wheel_z_link at time 515.316000 according to authority unknown_publisher\u001b[0m\n",
      "\u001b[33m[ WARN] [1663897405.830717046, 515.097000000]: TF_REPEATED_DATA ignoring data with redundant timestamp for frame base_roll_link at time 515.316000 according to authority unknown_publisher\u001b[0m\n",
      "\u001b[33m[ WARN] [1663897405.830904853, 515.097000000]: TF_REPEATED_DATA ignoring data with redundant timestamp for frame hand_l_distal_link at time 515.316000 according to authority unknown_publisher\u001b[0m\n",
      "\u001b[33m[ WARN] [1663897405.831081924, 515.097000000]: TF_REPEATED_DATA ignoring data with redundant timestamp for frame hand_l_mimic_distal_link at time 515.316000 according to authority unknown_publisher\u001b[0m\n",
      "\u001b[33m[ WARN] [1663897405.831272503, 515.097000000]: TF_REPEATED_DATA ignoring data with redundant timestamp for frame hand_l_proximal_link at time 515.316000 according to authority unknown_publisher\u001b[0m\n",
      "\u001b[33m[ WARN] [1663897405.831366688, 515.097000000]: TF_REPEATED_DATA ignoring data with redundant timestamp for frame hand_l_spring_proximal_link at time 515.316000 according to authority unknown_publisher\u001b[0m\n",
      "\u001b[33m[ WARN] [1663897405.831458864, 515.097000000]: TF_REPEATED_DATA ignoring data with redundant timestamp for frame hand_motor_dummy_link at time 515.316000 according to authority unknown_publisher\u001b[0m\n",
      "\u001b[33m[ WARN] [1663897405.831615523, 515.097000000]: TF_REPEATED_DATA ignoring data with redundant timestamp for frame hand_r_distal_link at time 515.316000 according to authority unknown_publisher\u001b[0m\n",
      "\u001b[33m[ WARN] [1663897405.831712710, 515.097000000]: TF_REPEATED_DATA ignoring data with redundant timestamp for frame hand_r_mimic_distal_link at time 515.316000 according to authority unknown_publisher\u001b[0m\n",
      "\u001b[33m[ WARN] [1663897405.831807526, 515.097000000]: TF_REPEATED_DATA ignoring data with redundant timestamp for frame hand_r_proximal_link at time 515.316000 according to authority unknown_publisher\u001b[0m\n",
      "\u001b[33m[ WARN] [1663897405.831914412, 515.097000000]: TF_REPEATED_DATA ignoring data with redundant timestamp for frame hand_r_spring_proximal_link at time 515.316000 according to authority unknown_publisher\u001b[0m\n",
      "\u001b[33m[ WARN] [1663897405.832004891, 515.097000000]: TF_REPEATED_DATA ignoring data with redundant timestamp for frame head_pan_link at time 515.316000 according to authority unknown_publisher\u001b[0m\n",
      "\u001b[33m[ WARN] [1663897405.832100321, 515.097000000]: TF_REPEATED_DATA ignoring data with redundant timestamp for frame head_tilt_link at time 515.316000 according to authority unknown_publisher\u001b[0m\n",
      "\u001b[33m[ WARN] [1663897405.832190564, 515.097000000]: TF_REPEATED_DATA ignoring data with redundant timestamp for frame torso_lift_link at time 515.316000 according to authority unknown_publisher\u001b[0m\n",
      "\u001b[33m[ WARN] [1663897405.832281085, 515.097000000]: TF_REPEATED_DATA ignoring data with redundant timestamp for frame wrist_flex_link at time 515.316000 according to authority unknown_publisher\u001b[0m\n",
      "\u001b[33m[ WARN] [1663897405.832373749, 515.097000000]: TF_REPEATED_DATA ignoring data with redundant timestamp for frame wrist_ft_sensor_frame at time 515.316000 according to authority unknown_publisher\u001b[0m\n",
      "\u001b[33m[ WARN] [1663897405.832467572, 515.097000000]: TF_REPEATED_DATA ignoring data with redundant timestamp for frame wrist_ft_sensor_mount_link at time 515.316000 according to authority unknown_publisher\u001b[0m\n",
      "\u001b[33m[ WARN] [1663897405.832577115, 515.097000000]: TF_REPEATED_DATA ignoring data with redundant timestamp for frame head_pan_link at time 515.316000 according to authority /robot_state_publisher\u001b[0m\n",
      "\u001b[33m[ WARN] [1663897405.834183941, 515.097000000]: TF_REPEATED_DATA ignoring data with redundant timestamp for frame head_tilt_link at time 515.316000 according to authority /robot_state_publisher\u001b[0m\n",
      "\u001b[33m[ WARN] [1663897405.834306768, 515.097000000]: TF_REPEATED_DATA ignoring data with redundant timestamp for frame torso_lift_link at time 515.316000 according to authority /robot_state_publisher\u001b[0m\n",
      "\u001b[33m[ WARN] [1663897405.834417500, 515.097000000]: TF_REPEATED_DATA ignoring data with redundant timestamp for frame wrist_flex_link at time 515.316000 according to authority /robot_state_publisher\u001b[0m\n",
      "\u001b[33m[ WARN] [1663897405.834526555, 515.097000000]: TF_REPEATED_DATA ignoring data with redundant timestamp for frame wrist_ft_sensor_frame at time 515.316000 according to authority /robot_state_publisher\u001b[0m\n",
      "\u001b[33m[ WARN] [1663897405.834633328, 515.097000000]: TF_REPEATED_DATA ignoring data with redundant timestamp for frame wrist_ft_sensor_mount_link at time 515.316000 according to authority /robot_state_publisher\u001b[0m\n"
     ]
    },
    {
     "name": "stderr",
     "output_type": "stream",
     "text": [
      "\u001b[33m[ WARN] [1663897411.491589583, 515.697000000]: TF_REPEATED_DATA ignoring data with redundant timestamp for frame odom at time 515.727000 according to authority unknown_publisher\u001b[0m\n",
      "\u001b[33m[ WARN] [1663897411.491666816, 515.697000000]: TF_REPEATED_DATA ignoring data with redundant timestamp for frame odom at time 515.727000 according to authority /pose_integrator\u001b[0m\n"
     ]
    }
   ],
   "source": [
    "        open_gripper()\n",
    "        rospy.sleep(0.3)\n",
    "        acp = [0.56,-1.3376,0,-1.8275,0.0,0.0]\n",
    "        arm.set_joint_value_target(acp)\n",
    "        arm.go()\n",
    "        close_gripper()\n",
    "        rospy.sleep(0.3)\n",
    "#         gripper.command(0.0) #close\n",
    "        \n",
    "        check_grasp_joints=[0.69,-1.3376,0,-1.8275,0.0,0.0]\n",
    "        arm.set_joint_value_target(check_grasp_joints)\n",
    "        arm.go()\n",
    "        \n",
    "        check_grasp_joints=[0.69,-1.3376,-0.8,-1.8275,0.0,0.0]\n",
    "        arm.set_joint_value_target(check_grasp_joints)\n",
    "        arm.go()"
   ]
  },
  {
   "cell_type": "code",
   "execution_count": 11,
   "metadata": {},
   "outputs": [
    {
     "data": {
      "text/plain": [
       "False"
      ]
     },
     "execution_count": 11,
     "metadata": {},
     "output_type": "execute_result"
    },
    {
     "name": "stderr",
     "output_type": "stream",
     "text": [
      "\u001b[33m[ WARN] [1663893192.794081619, 67.158000000]: TF_REPEATED_DATA ignoring data with redundant timestamp for frame odom at time 67.209000 according to authority unknown_publisher\u001b[0m\n",
      "\u001b[33m[ WARN] [1663893192.795523278, 67.158000000]: TF_REPEATED_DATA ignoring data with redundant timestamp for frame odom at time 67.209000 according to authority /pose_integrator\u001b[0m\n",
      "\u001b[33m[ WARN] [1663893200.189194602, 68.010000000]: TF_REPEATED_DATA ignoring data with redundant timestamp for frame odom at time 68.040000 according to authority /pose_integrator\u001b[0m\n",
      "\u001b[33m[ WARN] [1663893200.191104056, 68.010000000]: TF_REPEATED_DATA ignoring data with redundant timestamp for frame odom at time 68.040000 according to authority unknown_publisher\u001b[0m\n",
      "\u001b[33m[ WARN] [1663893200.692492538, 68.076000000]: TF_REPEATED_DATA ignoring data with redundant timestamp for frame odom at time 68.112000 according to authority unknown_publisher\u001b[0m\n",
      "\u001b[33m[ WARN] [1663893200.692822747, 68.076000000]: TF_REPEATED_DATA ignoring data with redundant timestamp for frame odom at time 68.112000 according to authority /pose_integrator\u001b[0m\n",
      "\u001b[33m[ WARN] [1663893206.627310419, 68.649000000]: TF_REPEATED_DATA ignoring data with redundant timestamp for frame odom at time 68.682000 according to authority unknown_publisher\u001b[0m\n",
      "\u001b[33m[ WARN] [1663893206.627387788, 68.649000000]: TF_REPEATED_DATA ignoring data with redundant timestamp for frame odom at time 68.682000 according to authority /pose_integrator\u001b[0m\n"
     ]
    }
   ],
   "source": [
    "whole_body.execute(plan)"
   ]
  },
  {
   "cell_type": "raw",
   "metadata": {},
   "source": [
    "# recornize cassette position\n",
    "# move base to 0.6m away from the recognized position of cassette\n",
    "# move arm to \"grasp_from_above_joints\" position\n",
    "# calculate the correct location of the base getting the tf of hand_palm_link\n",
    "# grasp cassette, go to neutral position"
   ]
  },
  {
   "cell_type": "code",
   "execution_count": 22,
   "metadata": {},
   "outputs": [],
   "source": [
    "open_gripper()"
   ]
  },
  {
   "cell_type": "code",
   "execution_count": 6,
   "metadata": {},
   "outputs": [
    {
     "name": "stdout",
     "output_type": "stream",
     "text": [
      "1\n"
     ]
    },
    {
     "ename": "TypeError",
     "evalue": "'bool' object is not subscriptable",
     "output_type": "error",
     "traceback": [
      "\u001b[0;31m---------------------------------------------------------------------------\u001b[0m",
      "\u001b[0;31mTypeError\u001b[0m                                 Traceback (most recent call last)",
      "Input \u001b[0;32mIn [6]\u001b[0m, in \u001b[0;36m<cell line: 13>\u001b[0;34m()\u001b[0m\n\u001b[1;32m     11\u001b[0m     trans,_ \u001b[38;5;241m=\u001b[39m tf_man\u001b[38;5;241m.\u001b[39mgetTF(target_frame\u001b[38;5;241m=\u001b[39m\u001b[38;5;124m'\u001b[39m\u001b[38;5;124mcassette\u001b[39m\u001b[38;5;124m'\u001b[39m, ref_frame\u001b[38;5;241m=\u001b[39m\u001b[38;5;124m'\u001b[39m\u001b[38;5;124mhand_palm_link\u001b[39m\u001b[38;5;124m'\u001b[39m)\n\u001b[1;32m     12\u001b[0m     pos,_ \u001b[38;5;241m=\u001b[39m tf_man\u001b[38;5;241m.\u001b[39mgetTF(target_frame\u001b[38;5;241m=\u001b[39m\u001b[38;5;124m'\u001b[39m\u001b[38;5;124mhand_palm_link\u001b[39m\u001b[38;5;124m'\u001b[39m, ref_frame\u001b[38;5;241m=\u001b[39m\u001b[38;5;124m'\u001b[39m\u001b[38;5;124modom\u001b[39m\u001b[38;5;124m'\u001b[39m)\n\u001b[0;32m---> 13\u001b[0m tf_man\u001b[38;5;241m.\u001b[39mpub_tf(point_name\u001b[38;5;241m=\u001b[39m\u001b[38;5;124m'\u001b[39m\u001b[38;5;124mgoal_pose\u001b[39m\u001b[38;5;124m'\u001b[39m, pos\u001b[38;5;241m=\u001b[39m[\u001b[43mtrans\u001b[49m\u001b[43m[\u001b[49m\u001b[38;5;241;43m2\u001b[39;49m\u001b[43m]\u001b[49m\u001b[38;5;241m+\u001b[39m\u001b[38;5;241m0.1\u001b[39m, \u001b[38;5;241m0.0\u001b[39m, \u001b[38;5;241m0.11\u001b[39m], ref\u001b[38;5;241m=\u001b[39m\u001b[38;5;124m'\u001b[39m\u001b[38;5;124mhand_palm_link\u001b[39m\u001b[38;5;124m'\u001b[39m)\n\u001b[1;32m     14\u001b[0m rospy\u001b[38;5;241m.\u001b[39msleep(\u001b[38;5;241m0.5\u001b[39m)\n\u001b[1;32m     15\u001b[0m pos, rot \u001b[38;5;241m=\u001b[39m tf_man\u001b[38;5;241m.\u001b[39mgetTF(target_frame\u001b[38;5;241m=\u001b[39m\u001b[38;5;124m'\u001b[39m\u001b[38;5;124mgoal_pose\u001b[39m\u001b[38;5;124m'\u001b[39m, ref_frame\u001b[38;5;241m=\u001b[39m\u001b[38;5;124m'\u001b[39m\u001b[38;5;124modom\u001b[39m\u001b[38;5;124m'\u001b[39m)\n",
      "\u001b[0;31mTypeError\u001b[0m: 'bool' object is not subscriptable"
     ]
    }
   ],
   "source": [
    "        gripper.open()\n",
    "#         arm.set_named_target('neutral')\n",
    "#         arm.go()\n",
    "        #Set pose\n",
    "        trans = False\n",
    "        pos = False\n",
    "#         i=1\n",
    "        while (type(trans) is bool) and (type(pos) is bool) :\n",
    "#             print(i)\n",
    "#             i =+1\n",
    "            trans,_ = tf_man.getTF(target_frame='cassette', ref_frame='hand_palm_link')\n",
    "            pos,_ = tf_man.getTF(target_frame='hand_palm_link', ref_frame='odom')\n",
    "        tf_man.pub_tf(point_name='goal_pose', pos=[trans[2]+0.1, 0.0, 0.11], ref='hand_palm_link')\n",
    "        rospy.sleep(0.5)\n",
    "        pos, rot = tf_man.getTF(target_frame='goal_pose', ref_frame='odom')\n",
    "\n",
    "        if type(pos) is not bool:\n",
    "            pose_goal = set_pose_goal(pos=pos, rot=rot)\n",
    "#             arm.set_start_state_to_current_state() \n",
    "#             arm.set_pose_target(pose_goal)\n",
    "            succ, plan, _, _ = arm.plan()\n",
    "            if succ:\n",
    "#                 print(plan)\n",
    "                arm.execute(plan)\n",
    "            else:\n",
    "                rospy.loginfo('I could not plan to goal pose')\n",
    "                return 'tries'\n",
    "        else:\n",
    "            return 'tries'"
   ]
  },
  {
   "cell_type": "code",
   "execution_count": 8,
   "metadata": {},
   "outputs": [],
   "source": [
    "from grasp_utils import *\n",
    "grip = GRIPPER()"
   ]
  },
  {
   "cell_type": "code",
   "execution_count": 13,
   "metadata": {},
   "outputs": [],
   "source": [
    "grip.close()"
   ]
  },
  {
   "cell_type": "code",
   "execution_count": 16,
   "metadata": {},
   "outputs": [],
   "source": [
    "grip.open()"
   ]
  },
  {
   "cell_type": "code",
   "execution_count": 17,
   "metadata": {},
   "outputs": [],
   "source": [
    "grip.steady()"
   ]
  },
  {
   "cell_type": "code",
   "execution_count": 3,
   "metadata": {},
   "outputs": [],
   "source": [
    "rospy.init_node('tfs')\n",
    "tf_man = TF_MANAGER()"
   ]
  },
  {
   "cell_type": "code",
   "execution_count": 4,
   "metadata": {},
   "outputs": [],
   "source": [
    "pos, rot = tf_man.getTF(target_frame='ar_marker/7', ref_frame='base_link')"
   ]
  },
  {
   "cell_type": "code",
   "execution_count": 5,
   "metadata": {},
   "outputs": [
    {
     "ename": "TypeError",
     "evalue": "'bool' object is not subscriptable",
     "output_type": "error",
     "traceback": [
      "\u001b[0;31m---------------------------------------------------------------------------\u001b[0m",
      "\u001b[0;31mTypeError\u001b[0m                                 Traceback (most recent call last)",
      "Input \u001b[0;32mIn [5]\u001b[0m, in \u001b[0;36m<cell line: 1>\u001b[0;34m()\u001b[0m\n\u001b[0;32m----> 1\u001b[0m \u001b[43mtf\u001b[49m\u001b[38;5;241;43m.\u001b[39;49m\u001b[43mtransformations\u001b[49m\u001b[38;5;241;43m.\u001b[39;49m\u001b[43meuler_from_quaternion\u001b[49m\u001b[43m(\u001b[49m\u001b[43mrot\u001b[49m\u001b[43m)\u001b[49m\n",
      "File \u001b[0;32m/opt/ros/noetic/lib/python3/dist-packages/tf/transformations.py:1097\u001b[0m, in \u001b[0;36meuler_from_quaternion\u001b[0;34m(quaternion, axes)\u001b[0m\n\u001b[1;32m   1089\u001b[0m \u001b[38;5;28;01mdef\u001b[39;00m \u001b[38;5;21meuler_from_quaternion\u001b[39m(quaternion, axes\u001b[38;5;241m=\u001b[39m\u001b[38;5;124m'\u001b[39m\u001b[38;5;124msxyz\u001b[39m\u001b[38;5;124m'\u001b[39m):\n\u001b[1;32m   1090\u001b[0m     \u001b[38;5;124;03m\"\"\"Return Euler angles from quaternion for specified axis sequence.\u001b[39;00m\n\u001b[1;32m   1091\u001b[0m \n\u001b[1;32m   1092\u001b[0m \u001b[38;5;124;03m    >>> angles = euler_from_quaternion([0.06146124, 0, 0, 0.99810947])\u001b[39;00m\n\u001b[0;32m   (...)\u001b[0m\n\u001b[1;32m   1095\u001b[0m \n\u001b[1;32m   1096\u001b[0m \u001b[38;5;124;03m    \"\"\"\u001b[39;00m\n\u001b[0;32m-> 1097\u001b[0m     \u001b[38;5;28;01mreturn\u001b[39;00m euler_from_matrix(\u001b[43mquaternion_matrix\u001b[49m\u001b[43m(\u001b[49m\u001b[43mquaternion\u001b[49m\u001b[43m)\u001b[49m, axes)\n",
      "File \u001b[0;32m/opt/ros/noetic/lib/python3/dist-packages/tf/transformations.py:1182\u001b[0m, in \u001b[0;36mquaternion_matrix\u001b[0;34m(quaternion)\u001b[0m\n\u001b[1;32m   1174\u001b[0m \u001b[38;5;28;01mdef\u001b[39;00m \u001b[38;5;21mquaternion_matrix\u001b[39m(quaternion):\n\u001b[1;32m   1175\u001b[0m     \u001b[38;5;124;03m\"\"\"Return homogeneous rotation matrix from quaternion.\u001b[39;00m\n\u001b[1;32m   1176\u001b[0m \n\u001b[1;32m   1177\u001b[0m \u001b[38;5;124;03m    >>> R = quaternion_matrix([0.06146124, 0, 0, 0.99810947])\u001b[39;00m\n\u001b[0;32m   (...)\u001b[0m\n\u001b[1;32m   1180\u001b[0m \n\u001b[1;32m   1181\u001b[0m \u001b[38;5;124;03m    \"\"\"\u001b[39;00m\n\u001b[0;32m-> 1182\u001b[0m     q \u001b[38;5;241m=\u001b[39m numpy\u001b[38;5;241m.\u001b[39marray(\u001b[43mquaternion\u001b[49m\u001b[43m[\u001b[49m\u001b[43m:\u001b[49m\u001b[38;5;241;43m4\u001b[39;49m\u001b[43m]\u001b[49m, dtype\u001b[38;5;241m=\u001b[39mnumpy\u001b[38;5;241m.\u001b[39mfloat64, copy\u001b[38;5;241m=\u001b[39m\u001b[38;5;28;01mTrue\u001b[39;00m)\n\u001b[1;32m   1183\u001b[0m     nq \u001b[38;5;241m=\u001b[39m numpy\u001b[38;5;241m.\u001b[39mdot(q, q)\n\u001b[1;32m   1184\u001b[0m     \u001b[38;5;28;01mif\u001b[39;00m nq \u001b[38;5;241m<\u001b[39m _EPS:\n",
      "\u001b[0;31mTypeError\u001b[0m: 'bool' object is not subscriptable"
     ]
    }
   ],
   "source": [
    "tf.transformations.euler_from_quaternion(rot)"
   ]
  },
  {
   "cell_type": "code",
   "execution_count": 36,
   "metadata": {},
   "outputs": [
    {
     "name": "stdout",
     "output_type": "stream",
     "text": [
      "0.10773587915765426 0.029705648429379564 0.023337468704812014\n"
     ]
    }
   ],
   "source": [
    "\n",
    "trans,rot = tf_man.getTF(target_frame='ar_marker/7', ref_frame='base_link')\n",
    "euler = tf.transformations.euler_from_quaternion(rot)\n",
    "theta = euler[2] \n",
    "if type(trans) is not bool:\n",
    "    eX, eY, _ = trans\n",
    "    eY = eY \n",
    "    eX -= 0.40\n",
    "    eT = theta + 1.57\n",
    "    print(eX,eY, eT)\n",
    "    grasp_base.tiny_move(velX=0.1*eX, velY=0.1*eY, velT= 0.1*eT, std_time=0.2)"
   ]
  },
  {
   "cell_type": "code",
   "execution_count": null,
   "metadata": {},
   "outputs": [],
   "source": []
  },
  {
   "cell_type": "code",
   "execution_count": 3,
   "metadata": {},
   "outputs": [],
   "source": [
    "import moveit_commander\n",
    "import moveit_msgs\n",
    "import geometry_msgs\n",
    "import numpy as np"
   ]
  },
  {
   "cell_type": "code",
   "execution_count": 9,
   "metadata": {},
   "outputs": [
    {
     "name": "stdout",
     "output_type": "stream",
     "text": [
      "joint_trajectory: \n",
      "  header: \n",
      "    seq: 0\n",
      "    stamp: \n",
      "      secs: 0\n",
      "      nsecs:         0\n",
      "    frame_id: ''\n",
      "  joint_names: []\n",
      "  points: []\n",
      "multi_dof_joint_trajectory: \n",
      "  header: \n",
      "    seq: 0\n",
      "    stamp: \n",
      "      secs: 0\n",
      "      nsecs:         0\n",
      "    frame_id: ''\n",
      "  joint_names: []\n",
      "  points: []\n"
     ]
    },
    {
     "ename": "TypeError",
     "evalue": "unhashable type: 'RobotTrajectory'",
     "output_type": "error",
     "traceback": [
      "\u001b[0;31m---------------------------------------------------------------------------\u001b[0m",
      "\u001b[0;31mTypeError\u001b[0m                                 Traceback (most recent call last)",
      "Input \u001b[0;32mIn [9]\u001b[0m, in \u001b[0;36m<cell line: 46>\u001b[0;34m()\u001b[0m\n\u001b[1;32m     40\u001b[0m     pose\u001b[38;5;241m.\u001b[39morientation\u001b[38;5;241m.\u001b[39mw \u001b[38;5;241m=\u001b[39m \u001b[38;5;241m1\u001b[39m\n\u001b[1;32m     42\u001b[0m     \u001b[38;5;66;03m# Add the target as a waypoint to the trajectory\u001b[39;00m\n\u001b[1;32m     43\u001b[0m \u001b[38;5;66;03m#     trajectory.multi_dof_joint_trajectory.points. add_point(move_group.get_current_pose().pose, move_group.get_current_velocity(), 0.0, pose, [0.0, 0.0, 0.0], [0.0, 0.0, 0.0])\u001b[39;00m\n\u001b[1;32m     44\u001b[0m \n\u001b[1;32m     45\u001b[0m \u001b[38;5;66;03m# Plan the trajectory\u001b[39;00m\n\u001b[0;32m---> 46\u001b[0m plan \u001b[38;5;241m=\u001b[39m \u001b[43mmove_group\u001b[49m\u001b[38;5;241;43m.\u001b[39;49m\u001b[43mplan\u001b[49m\u001b[43m(\u001b[49m\u001b[43mtrajectory\u001b[49m\u001b[43m)\u001b[49m\n\u001b[1;32m     48\u001b[0m \u001b[38;5;66;03m# Execute the plan\u001b[39;00m\n\u001b[1;32m     49\u001b[0m move_group\u001b[38;5;241m.\u001b[39mexecute(plan)\n",
      "File \u001b[0;32m/opt/ros/noetic/lib/python3/dist-packages/moveit_commander/move_group.py:631\u001b[0m, in \u001b[0;36mMoveGroupCommander.plan\u001b[0;34m(self, joints)\u001b[0m\n\u001b[1;32m    629\u001b[0m \u001b[38;5;28;01melif\u001b[39;00m joints \u001b[38;5;129;01mis\u001b[39;00m \u001b[38;5;129;01mnot\u001b[39;00m \u001b[38;5;28;01mNone\u001b[39;00m:\n\u001b[1;32m    630\u001b[0m     \u001b[38;5;28;01mtry\u001b[39;00m:\n\u001b[0;32m--> 631\u001b[0m         \u001b[38;5;28mself\u001b[39m\u001b[38;5;241m.\u001b[39mset_joint_value_target(\u001b[38;5;28;43mself\u001b[39;49m\u001b[38;5;241;43m.\u001b[39;49m\u001b[43mget_remembered_joint_values\u001b[49m\u001b[43m(\u001b[49m\u001b[43m)\u001b[49m\u001b[43m[\u001b[49m\u001b[43mjoints\u001b[49m\u001b[43m]\u001b[49m)\n\u001b[1;32m    632\u001b[0m     \u001b[38;5;28;01mexcept\u001b[39;00m MoveItCommanderException:\n\u001b[1;32m    633\u001b[0m         \u001b[38;5;28mself\u001b[39m\u001b[38;5;241m.\u001b[39mset_joint_value_target(joints)\n",
      "\u001b[0;31mTypeError\u001b[0m: unhashable type: 'RobotTrajectory'"
     ]
    },
    {
     "name": "stderr",
     "output_type": "stream",
     "text": [
      "\u001b[33m[ WARN] [1673311527.040089824, 2520.018000000]: TF_REPEATED_DATA ignoring data with redundant timestamp for frame odom at time 2520.050000 according to authority /pose_integrator\u001b[0m\n",
      "\u001b[33m[ WARN] [1673311527.040173477, 2520.018000000]: TF_REPEATED_DATA ignoring data with redundant timestamp for frame odom at time 2520.050000 according to authority /pose_integrator\u001b[0m\n",
      "\u001b[33m[ WARN] [1673311527.043798834, 2520.018000000]: TF_REPEATED_DATA ignoring data with redundant timestamp for frame odom at time 2520.050000 according to authority unknown_publisher\u001b[0m\n",
      "\u001b[33m[ WARN] [1673311534.060574463, 2521.164000000]: TF_REPEATED_DATA ignoring data with redundant timestamp for frame odom at time 2521.196000 according to authority /pose_integrator\u001b[0m\n",
      "\u001b[33m[ WARN] [1673311534.060653978, 2521.164000000]: TF_REPEATED_DATA ignoring data with redundant timestamp for frame odom at time 2521.196000 according to authority /pose_integrator\u001b[0m\n",
      "\u001b[33m[ WARN] [1673311534.060775056, 2521.164000000]: TF_REPEATED_DATA ignoring data with redundant timestamp for frame odom at time 2521.196000 according to authority unknown_publisher\u001b[0m\n",
      "\u001b[33m[ WARN] [1673311535.251971132, 2521.445000000]: TF_REPEATED_DATA ignoring data with redundant timestamp for frame odom at time 2521.459000 according to authority /pose_integrator\u001b[0m\n",
      "\u001b[33m[ WARN] [1673311535.252070027, 2521.445000000]: TF_REPEATED_DATA ignoring data with redundant timestamp for frame odom at time 2521.459000 according to authority /pose_integrator\u001b[0m\n",
      "\u001b[33m[ WARN] [1673311535.256028143, 2521.445000000]: TF_REPEATED_DATA ignoring data with redundant timestamp for frame odom at time 2521.459000 according to authority unknown_publisher\u001b[0m\n",
      "\u001b[33m[ WARN] [1673311556.109140451, 2525.108000000]: TF_REPEATED_DATA ignoring data with redundant timestamp for frame odom at time 2525.150000 according to authority /pose_integrator\u001b[0m\n",
      "\u001b[33m[ WARN] [1673311556.109230223, 2525.108000000]: TF_REPEATED_DATA ignoring data with redundant timestamp for frame odom at time 2525.150000 according to authority /pose_integrator\u001b[0m\n",
      "\u001b[33m[ WARN] [1673311556.114825729, 2525.108000000]: TF_REPEATED_DATA ignoring data with redundant timestamp for frame odom at time 2525.150000 according to authority unknown_publisher\u001b[0m\n",
      "\u001b[33m[ WARN] [1673311559.105228475, 2525.678000000]: TF_REPEATED_DATA ignoring data with redundant timestamp for frame odom at time 2525.710000 according to authority /pose_integrator\u001b[0m\n",
      "\u001b[33m[ WARN] [1673311559.105310458, 2525.678000000]: TF_REPEATED_DATA ignoring data with redundant timestamp for frame odom at time 2525.710000 according to authority /pose_integrator\u001b[0m\n",
      "\u001b[33m[ WARN] [1673311559.106729777, 2525.678000000]: TF_REPEATED_DATA ignoring data with redundant timestamp for frame odom at time 2525.710000 according to authority unknown_publisher\u001b[0m\n",
      "\u001b[33m[ WARN] [1673311627.210969447, 2535.999000000]: TF_REPEATED_DATA ignoring data with redundant timestamp for frame odom at time 2536.068000 according to authority /pose_integrator\u001b[0m\n",
      "\u001b[33m[ WARN] [1673311627.211316911, 2535.999000000]: TF_REPEATED_DATA ignoring data with redundant timestamp for frame odom at time 2536.068000 according to authority unknown_publisher\u001b[0m\n",
      "\u001b[33m[ WARN] [1673311627.211532690, 2535.999000000]: TF_REPEATED_DATA ignoring data with redundant timestamp for frame odom at time 2536.068000 according to authority /pose_integrator\u001b[0m\n",
      "\u001b[33m[ WARN] [1673311629.471528488, 2536.513000000]: TF_REPEATED_DATA ignoring data with redundant timestamp for frame odom at time 2536.555000 according to authority unknown_publisher\u001b[0m\n",
      "\u001b[33m[ WARN] [1673311629.472466579, 2536.513000000]: TF_REPEATED_DATA ignoring data with redundant timestamp for frame odom at time 2536.555000 according to authority /pose_integrator\u001b[0m\n",
      "\u001b[33m[ WARN] [1673311629.472545375, 2536.513000000]: TF_REPEATED_DATA ignoring data with redundant timestamp for frame odom at time 2536.555000 according to authority /pose_integrator\u001b[0m\n",
      "\u001b[33m[ WARN] [1673311631.458590170, 2536.910000000]: TF_REPEATED_DATA ignoring data with redundant timestamp for frame odom at time 2536.949000 according to authority unknown_publisher\u001b[0m\n",
      "\u001b[33m[ WARN] [1673311631.460346797, 2536.910000000]: TF_REPEATED_DATA ignoring data with redundant timestamp for frame odom at time 2536.949000 according to authority /pose_integrator\u001b[0m\n",
      "\u001b[33m[ WARN] [1673311631.460545771, 2536.910000000]: TF_REPEATED_DATA ignoring data with redundant timestamp for frame odom at time 2536.949000 according to authority /pose_integrator\u001b[0m\n",
      "\u001b[33m[ WARN] [1673311634.430223193, 2537.560000000]: TF_REPEATED_DATA ignoring data with redundant timestamp for frame odom at time 2537.584000 according to authority unknown_publisher\u001b[0m\n",
      "\u001b[33m[ WARN] [1673311634.432269059, 2537.560000000]: TF_REPEATED_DATA ignoring data with redundant timestamp for frame odom at time 2537.584000 according to authority /pose_integrator\u001b[0m\n",
      "\u001b[33m[ WARN] [1673311634.432341414, 2537.560000000]: TF_REPEATED_DATA ignoring data with redundant timestamp for frame odom at time 2537.584000 according to authority /pose_integrator\u001b[0m\n",
      "\u001b[33m[ WARN] [1673311685.764338947, 2547.312000000]: TF_REPEATED_DATA ignoring data with redundant timestamp for frame odom at time 2547.362000 according to authority /pose_integrator\u001b[0m\n",
      "\u001b[33m[ WARN] [1673311685.764429119, 2547.312000000]: TF_REPEATED_DATA ignoring data with redundant timestamp for frame odom at time 2547.362000 according to authority /pose_integrator\u001b[0m\n",
      "\u001b[33m[ WARN] [1673311685.764664156, 2547.312000000]: TF_REPEATED_DATA ignoring data with redundant timestamp for frame odom at time 2547.362000 according to authority unknown_publisher\u001b[0m\n",
      "\u001b[33m[ WARN] [1673311721.715129546, 2553.863000000]: TF_REPEATED_DATA ignoring data with redundant timestamp for frame odom at time 2553.901000 according to authority /pose_integrator\u001b[0m\n",
      "\u001b[33m[ WARN] [1673311721.715419339, 2553.863000000]: TF_REPEATED_DATA ignoring data with redundant timestamp for frame odom at time 2553.901000 according to authority /pose_integrator\u001b[0m\n",
      "\u001b[33m[ WARN] [1673311721.722127952, 2553.863000000]: TF_REPEATED_DATA ignoring data with redundant timestamp for frame odom at time 2553.901000 according to authority unknown_publisher\u001b[0m\n",
      "\u001b[33m[ WARN] [1673311723.981825539, 2554.301000000]: TF_REPEATED_DATA ignoring data with redundant timestamp for frame odom at time 2554.366000 according to authority /pose_integrator\u001b[0m\n",
      "\u001b[33m[ WARN] [1673311723.981918185, 2554.301000000]: TF_REPEATED_DATA ignoring data with redundant timestamp for frame odom at time 2554.366000 according to authority /pose_integrator\u001b[0m\n",
      "\u001b[33m[ WARN] [1673311723.983592724, 2554.301000000]: TF_REPEATED_DATA ignoring data with redundant timestamp for frame odom at time 2554.366000 according to authority unknown_publisher\u001b[0m\n",
      "\u001b[33m[ WARN] [1673311752.257966735, 2559.677000000]: TF_REPEATED_DATA ignoring data with redundant timestamp for frame odom at time 2559.701000 according to authority unknown_publisher\u001b[0m\n",
      "\u001b[33m[ WARN] [1673311752.258565676, 2559.677000000]: TF_REPEATED_DATA ignoring data with redundant timestamp for frame odom at time 2559.701000 according to authority /pose_integrator\u001b[0m\n",
      "\u001b[33m[ WARN] [1673311752.258632103, 2559.677000000]: TF_REPEATED_DATA ignoring data with redundant timestamp for frame odom at time 2559.701000 according to authority /pose_integrator\u001b[0m\n",
      "\u001b[33m[ WARN] [1673311752.470858378, 2559.705000000]: TF_REPEATED_DATA ignoring data with redundant timestamp for frame odom at time 2559.752000 according to authority /pose_integrator\u001b[0m\n",
      "\u001b[33m[ WARN] [1673311752.470979500, 2559.705000000]: TF_REPEATED_DATA ignoring data with redundant timestamp for frame odom at time 2559.752000 according to authority /pose_integrator\u001b[0m\n",
      "\u001b[33m[ WARN] [1673311752.471549305, 2559.705000000]: TF_REPEATED_DATA ignoring data with redundant timestamp for frame odom at time 2559.752000 according to authority unknown_publisher\u001b[0m\n",
      "\u001b[33m[ WARN] [1673311753.340862636, 2559.982000000]: TF_REPEATED_DATA ignoring data with redundant timestamp for frame odom at time 2560.000000 according to authority unknown_publisher\u001b[0m\n",
      "\u001b[33m[ WARN] [1673311753.342797867, 2559.982000000]: TF_REPEATED_DATA ignoring data with redundant timestamp for frame odom at time 2560.000000 according to authority /pose_integrator\u001b[0m\n",
      "\u001b[33m[ WARN] [1673311753.342879956, 2559.982000000]: TF_REPEATED_DATA ignoring data with redundant timestamp for frame odom at time 2560.000000 according to authority /pose_integrator\u001b[0m\n"
     ]
    },
    {
     "name": "stderr",
     "output_type": "stream",
     "text": [
      "\u001b[33m[ WARN] [1673311761.177326033, 2561.385000000]: TF_REPEATED_DATA ignoring data with redundant timestamp for frame odom at time 2561.407000 according to authority /pose_integrator\u001b[0m\n",
      "\u001b[33m[ WARN] [1673311761.177406534, 2561.385000000]: TF_REPEATED_DATA ignoring data with redundant timestamp for frame odom at time 2561.407000 according to authority /pose_integrator\u001b[0m\n",
      "\u001b[33m[ WARN] [1673311761.177952017, 2561.385000000]: TF_REPEATED_DATA ignoring data with redundant timestamp for frame odom at time 2561.407000 according to authority unknown_publisher\u001b[0m\n",
      "\u001b[33m[ WARN] [1673311767.661363527, 2562.363000000]: TF_REPEATED_DATA ignoring data with redundant timestamp for frame odom at time 2562.379000 according to authority unknown_publisher\u001b[0m\n",
      "\u001b[33m[ WARN] [1673311767.664368670, 2562.363000000]: TF_REPEATED_DATA ignoring data with redundant timestamp for frame odom at time 2562.379000 according to authority /pose_integrator\u001b[0m\n",
      "\u001b[33m[ WARN] [1673311767.664540298, 2562.363000000]: TF_REPEATED_DATA ignoring data with redundant timestamp for frame odom at time 2562.379000 according to authority /pose_integrator\u001b[0m\n"
     ]
    }
   ],
   "source": [
    "# import moveit_commander\n",
    "# import moveit_msgs\n",
    "# import geometry_msgs\n",
    "# import numpy as np\n",
    "# import tf\n",
    "\n",
    "# Create a move group for the manipulator\n",
    "# move_group = moveit_commander.MoveGroupCommander(\"manipulator\")\n",
    "\n",
    "# Set the planner to use\n",
    "# move_group.set_planner_id(\"RRTConnectkConfigDefault\")\n",
    "\n",
    "# Set the reference frame for the points\n",
    "# move_group.set_pose_reference_frame(\"base_link\")\n",
    "\n",
    "# Set the maximum velocity and acceleration for the group\n",
    "# move_group.set_max_velocity_scaling_factor(0.5)\n",
    "# move_group.set_max_acceleration_scaling_factor(0.5)\n",
    "\n",
    "move_group = arm\n",
    "\n",
    "# Create an empty trajectory\n",
    "trajectory = moveit_msgs.msg.RobotTrajectory()\n",
    "print(trajectory)\n",
    "arm.set_named_target('neutral')\n",
    "arm.go()\n",
    "# Add each target as a waypoint in the trajectory\n",
    "for theta in range (0, 90):\n",
    "    # Create a pose for the target\n",
    "    deg = np.deg2rad(theta)\n",
    "    \n",
    "    pose = geometry_msgs.msg.Pose()\n",
    "    pose.position.x = 0.0\n",
    "    pose.position.y = np.sin(deg)\n",
    "    pose.position.z = np.cos(deg)\n",
    "#     quat = tf.transformations.quaternion_from_euler(target[3], target[4], target[5])\n",
    "#     pose.orientation.x = quat[0]\n",
    "#     pose.orientation.y = quat[1]\n",
    "#     pose.orientation.z = quat[2]\n",
    "    pose.orientation.w = 1\n",
    "    \n",
    "    # Add the target as a waypoint to the trajectory\n",
    "    trajectory.joint_trajectory.points.append add_point(move_group.get_current_pose().pose, move_group.get_current_velocity(), 0.0, pose, [0.0, 0.0, 0.0], [0.0, 0.0, 0.0])\n",
    "\n",
    "# Plan the trajectory\n",
    "plan = move_group.plan(trajectory)\n",
    "\n",
    "# Execute the plan\n",
    "move_group.execute(plan)\n"
   ]
  },
  {
   "cell_type": "code",
   "execution_count": 11,
   "metadata": {},
   "outputs": [
    {
     "name": "stderr",
     "output_type": "stream",
     "text": [
      "\u001b[33m[ WARN] [1673312589.133236230, 2703.711000000]: TF_REPEATED_DATA ignoring data with redundant timestamp for frame odom at time 2703.751000 according to authority /pose_integrator\u001b[0m\n",
      "\u001b[33m[ WARN] [1673312589.133330313, 2703.711000000]: TF_REPEATED_DATA ignoring data with redundant timestamp for frame odom at time 2703.751000 according to authority /pose_integrator\u001b[0m\n",
      "\u001b[33m[ WARN] [1673312589.140468264, 2703.711000000]: TF_REPEATED_DATA ignoring data with redundant timestamp for frame odom at time 2703.751000 according to authority unknown_publisher\u001b[0m\n",
      "\u001b[33m[ WARN] [1673312652.903702835, 2713.257000000]: TF_REPEATED_DATA ignoring data with redundant timestamp for frame odom at time 2713.307000 according to authority unknown_publisher\u001b[0m\n",
      "\u001b[33m[ WARN] [1673312652.905322149, 2713.257000000]: TF_REPEATED_DATA ignoring data with redundant timestamp for frame odom at time 2713.307000 according to authority /pose_integrator\u001b[0m\n",
      "\u001b[33m[ WARN] [1673312652.905481677, 2713.257000000]: TF_REPEATED_DATA ignoring data with redundant timestamp for frame odom at time 2713.307000 according to authority /pose_integrator\u001b[0m\n",
      "\u001b[33m[ WARN] [1673312798.290850064, 2736.590000000]: TF_REPEATED_DATA ignoring data with redundant timestamp for frame odom at time 2736.623000 according to authority /pose_integrator\u001b[0m\n",
      "\u001b[33m[ WARN] [1673312798.290930938, 2736.590000000]: TF_REPEATED_DATA ignoring data with redundant timestamp for frame odom at time 2736.623000 according to authority /pose_integrator\u001b[0m\n",
      "\u001b[33m[ WARN] [1673312798.293377657, 2736.590000000]: TF_REPEATED_DATA ignoring data with redundant timestamp for frame odom at time 2736.623000 according to authority unknown_publisher\u001b[0m\n",
      "\u001b[33m[ WARN] [1673312824.396675657, 2740.206000000]: TF_REPEATED_DATA ignoring data with redundant timestamp for frame odom at time 2740.239000 according to authority unknown_publisher\u001b[0m\n",
      "\u001b[33m[ WARN] [1673312824.397589873, 2740.206000000]: TF_REPEATED_DATA ignoring data with redundant timestamp for frame odom at time 2740.239000 according to authority /pose_integrator\u001b[0m\n",
      "\u001b[33m[ WARN] [1673312824.397672675, 2740.206000000]: TF_REPEATED_DATA ignoring data with redundant timestamp for frame odom at time 2740.239000 according to authority /pose_integrator\u001b[0m\n",
      "\u001b[33m[ WARN] [1673312867.713136913, 2747.500000000]: TF_REPEATED_DATA ignoring data with redundant timestamp for frame odom at time 2747.514000 according to authority unknown_publisher\u001b[0m\n",
      "\u001b[33m[ WARN] [1673312867.713968098, 2747.500000000]: TF_REPEATED_DATA ignoring data with redundant timestamp for frame odom at time 2747.514000 according to authority /pose_integrator\u001b[0m\n",
      "\u001b[33m[ WARN] [1673312867.714142992, 2747.500000000]: TF_REPEATED_DATA ignoring data with redundant timestamp for frame odom at time 2747.514000 according to authority /pose_integrator\u001b[0m\n",
      "\u001b[33m[ WARN] [1673312914.563427587, 2755.251000000]: TF_REPEATED_DATA ignoring data with redundant timestamp for frame odom at time 2755.275000 according to authority unknown_publisher\u001b[0m\n",
      "\u001b[33m[ WARN] [1673312914.564420928, 2755.251000000]: TF_REPEATED_DATA ignoring data with redundant timestamp for frame odom at time 2755.275000 according to authority /pose_integrator\u001b[0m\n",
      "\u001b[33m[ WARN] [1673312914.564499681, 2755.251000000]: TF_REPEATED_DATA ignoring data with redundant timestamp for frame odom at time 2755.275000 according to authority /pose_integrator\u001b[0m\n",
      "\u001b[33m[ WARN] [1673312938.432664367, 2759.280000000]: TF_REPEATED_DATA ignoring data with redundant timestamp for frame odom at time 2759.313000 according to authority /pose_integrator\u001b[0m\n",
      "\u001b[33m[ WARN] [1673312938.432763815, 2759.280000000]: TF_REPEATED_DATA ignoring data with redundant timestamp for frame odom at time 2759.313000 according to authority /pose_integrator\u001b[0m\n",
      "\u001b[33m[ WARN] [1673312938.433060923, 2759.280000000]: TF_REPEATED_DATA ignoring data with redundant timestamp for frame odom at time 2759.313000 according to authority unknown_publisher\u001b[0m\n",
      "\u001b[33m[ WARN] [1673312953.812010550, 2762.020000000]: TF_REPEATED_DATA ignoring data with redundant timestamp for frame odom at time 2762.062000 according to authority /pose_integrator\u001b[0m\n",
      "\u001b[33m[ WARN] [1673312953.812095013, 2762.020000000]: TF_REPEATED_DATA ignoring data with redundant timestamp for frame odom at time 2762.062000 according to authority /pose_integrator\u001b[0m\n",
      "\u001b[33m[ WARN] [1673312953.813351116, 2762.020000000]: TF_REPEATED_DATA ignoring data with redundant timestamp for frame odom at time 2762.062000 according to authority unknown_publisher\u001b[0m\n",
      "\u001b[33m[ WARN] [1673312970.926566843, 2765.322000000]: TF_REPEATED_DATA ignoring data with redundant timestamp for frame odom at time 2765.372000 according to authority /pose_integrator\u001b[0m\n",
      "\u001b[33m[ WARN] [1673312970.926663376, 2765.322000000]: TF_REPEATED_DATA ignoring data with redundant timestamp for frame odom at time 2765.372000 according to authority /pose_integrator\u001b[0m\n",
      "\u001b[33m[ WARN] [1673312970.930723814, 2765.322000000]: TF_REPEATED_DATA ignoring data with redundant timestamp for frame odom at time 2765.372000 according to authority unknown_publisher\u001b[0m\n",
      "\u001b[33m[ WARN] [1673312991.425348219, 2768.708000000]: TF_REPEATED_DATA ignoring data with redundant timestamp for frame odom at time 2768.764000 according to authority unknown_publisher\u001b[0m\n",
      "\u001b[33m[ WARN] [1673312991.425538371, 2768.708000000]: TF_REPEATED_DATA ignoring data with redundant timestamp for frame odom at time 2768.764000 according to authority /pose_integrator\u001b[0m\n",
      "\u001b[33m[ WARN] [1673312991.425693792, 2768.708000000]: TF_REPEATED_DATA ignoring data with redundant timestamp for frame odom at time 2768.764000 according to authority /pose_integrator\u001b[0m\n",
      "\u001b[33m[ WARN] [1673313026.311893389, 2775.260000000]: TF_REPEATED_DATA ignoring data with redundant timestamp for frame odom at time 2775.278000 according to authority /pose_integrator\u001b[0m\n",
      "\u001b[33m[ WARN] [1673313026.312031089, 2775.260000000]: TF_REPEATED_DATA ignoring data with redundant timestamp for frame odom at time 2775.278000 according to authority /pose_integrator\u001b[0m\n",
      "\u001b[33m[ WARN] [1673313026.312749269, 2775.260000000]: TF_REPEATED_DATA ignoring data with redundant timestamp for frame odom at time 2775.278000 according to authority unknown_publisher\u001b[0m\n",
      "\u001b[33m[ WARN] [1673313072.847511677, 2783.192000000]: TF_REPEATED_DATA ignoring data with redundant timestamp for frame odom at time 2783.210000 according to authority /pose_integrator\u001b[0m\n",
      "\u001b[33m[ WARN] [1673313072.847607760, 2783.192000000]: TF_REPEATED_DATA ignoring data with redundant timestamp for frame odom at time 2783.210000 according to authority /pose_integrator\u001b[0m\n",
      "\u001b[33m[ WARN] [1673313072.852872013, 2783.192000000]: TF_REPEATED_DATA ignoring data with redundant timestamp for frame odom at time 2783.210000 according to authority unknown_publisher\u001b[0m\n",
      "\u001b[33m[ WARN] [1673313087.931659591, 2785.904000000]: TF_REPEATED_DATA ignoring data with redundant timestamp for frame odom at time 2785.940000 according to authority /pose_integrator\u001b[0m\n",
      "\u001b[33m[ WARN] [1673313087.931790220, 2785.904000000]: TF_REPEATED_DATA ignoring data with redundant timestamp for frame odom at time 2785.940000 according to authority /pose_integrator\u001b[0m\n",
      "\u001b[33m[ WARN] [1673313087.932813947, 2785.904000000]: TF_REPEATED_DATA ignoring data with redundant timestamp for frame odom at time 2785.940000 according to authority unknown_publisher\u001b[0m\n",
      "\u001b[33m[ WARN] [1673313113.919680971, 2790.480000000]: TF_REPEATED_DATA ignoring data with redundant timestamp for frame odom at time 2790.505000 according to authority unknown_publisher\u001b[0m\n",
      "\u001b[33m[ WARN] [1673313113.919856281, 2790.480000000]: TF_REPEATED_DATA ignoring data with redundant timestamp for frame odom at time 2790.505000 according to authority /pose_integrator\u001b[0m\n",
      "\u001b[33m[ WARN] [1673313113.919930262, 2790.480000000]: TF_REPEATED_DATA ignoring data with redundant timestamp for frame odom at time 2790.505000 according to authority /pose_integrator\u001b[0m\n",
      "\u001b[33m[ WARN] [1673313180.582923892, 2802.826000000]: TF_REPEATED_DATA ignoring data with redundant timestamp for frame odom at time 2802.857000 according to authority unknown_publisher\u001b[0m\n",
      "\u001b[33m[ WARN] [1673313180.583215414, 2802.826000000]: TF_REPEATED_DATA ignoring data with redundant timestamp for frame odom at time 2802.857000 according to authority /pose_integrator\u001b[0m\n",
      "\u001b[33m[ WARN] [1673313180.583370147, 2802.826000000]: TF_REPEATED_DATA ignoring data with redundant timestamp for frame odom at time 2802.857000 according to authority /pose_integrator\u001b[0m\n"
     ]
    },
    {
     "name": "stderr",
     "output_type": "stream",
     "text": [
      "\u001b[33m[ WARN] [1673313197.469442818, 2806.095000000]: TF_REPEATED_DATA ignoring data with redundant timestamp for frame odom at time 2806.120000 according to authority /pose_integrator\u001b[0m\n",
      "\u001b[33m[ WARN] [1673313197.469638890, 2806.095000000]: TF_REPEATED_DATA ignoring data with redundant timestamp for frame odom at time 2806.120000 according to authority /pose_integrator\u001b[0m\n",
      "\u001b[33m[ WARN] [1673313197.470908730, 2806.095000000]: TF_REPEATED_DATA ignoring data with redundant timestamp for frame odom at time 2806.120000 according to authority unknown_publisher\u001b[0m\n",
      "\u001b[33m[ WARN] [1673313230.366060556, 2812.082000000]: TF_REPEATED_DATA ignoring data with redundant timestamp for frame odom at time 2812.120000 according to authority /pose_integrator\u001b[0m\n",
      "\u001b[33m[ WARN] [1673313230.366163828, 2812.082000000]: TF_REPEATED_DATA ignoring data with redundant timestamp for frame odom at time 2812.120000 according to authority /pose_integrator\u001b[0m\n",
      "\u001b[33m[ WARN] [1673313230.368407540, 2812.082000000]: TF_REPEATED_DATA ignoring data with redundant timestamp for frame odom at time 2812.120000 according to authority unknown_publisher\u001b[0m\n",
      "\u001b[33m[ WARN] [1673313253.548866330, 2816.251000000]: TF_REPEATED_DATA ignoring data with redundant timestamp for frame odom at time 2816.277000 according to authority /pose_integrator\u001b[0m\n",
      "\u001b[33m[ WARN] [1673313253.548940930, 2816.251000000]: TF_REPEATED_DATA ignoring data with redundant timestamp for frame odom at time 2816.277000 according to authority /pose_integrator\u001b[0m\n",
      "\u001b[33m[ WARN] [1673313253.556867819, 2816.251000000]: TF_REPEATED_DATA ignoring data with redundant timestamp for frame odom at time 2816.277000 according to authority unknown_publisher\u001b[0m\n",
      "\u001b[33m[ WARN] [1673313255.326777208, 2816.631000000]: TF_REPEATED_DATA ignoring data with redundant timestamp for frame odom at time 2816.702000 according to authority /pose_integrator\u001b[0m\n",
      "\u001b[33m[ WARN] [1673313255.326849620, 2816.631000000]: TF_REPEATED_DATA ignoring data with redundant timestamp for frame odom at time 2816.702000 according to authority /pose_integrator\u001b[0m\n",
      "\u001b[33m[ WARN] [1673313255.328840971, 2816.631000000]: TF_REPEATED_DATA ignoring data with redundant timestamp for frame odom at time 2816.702000 according to authority unknown_publisher\u001b[0m\n",
      "\u001b[33m[ WARN] [1673313289.796041598, 2823.055000000]: TF_REPEATED_DATA ignoring data with redundant timestamp for frame odom at time 2823.068000 according to authority /pose_integrator\u001b[0m\n",
      "\u001b[33m[ WARN] [1673313289.796128742, 2823.055000000]: TF_REPEATED_DATA ignoring data with redundant timestamp for frame odom at time 2823.068000 according to authority /pose_integrator\u001b[0m\n",
      "\u001b[33m[ WARN] [1673313289.796272210, 2823.055000000]: TF_REPEATED_DATA ignoring data with redundant timestamp for frame odom at time 2823.068000 according to authority unknown_publisher\u001b[0m\n",
      "\u001b[33m[ WARN] [1673313291.003234682, 2823.268000000]: TF_REPEATED_DATA ignoring data with redundant timestamp for frame odom at time 2823.295000 according to authority /pose_integrator\u001b[0m\n",
      "\u001b[33m[ WARN] [1673313291.003345481, 2823.268000000]: TF_REPEATED_DATA ignoring data with redundant timestamp for frame odom at time 2823.295000 according to authority /pose_integrator\u001b[0m\n",
      "\u001b[33m[ WARN] [1673313291.003478077, 2823.268000000]: TF_REPEATED_DATA ignoring data with redundant timestamp for frame odom at time 2823.295000 according to authority unknown_publisher\u001b[0m\n",
      "\u001b[33m[ WARN] [1673313395.421567865, 2841.720000000]: TF_REPEATED_DATA ignoring data with redundant timestamp for frame odom at time 2841.777000 according to authority /pose_integrator\u001b[0m\n",
      "\u001b[33m[ WARN] [1673313395.421717896, 2841.720000000]: TF_REPEATED_DATA ignoring data with redundant timestamp for frame odom at time 2841.777000 according to authority /pose_integrator\u001b[0m\n",
      "\u001b[33m[ WARN] [1673313395.425574476, 2841.720000000]: TF_REPEATED_DATA ignoring data with redundant timestamp for frame odom at time 2841.777000 according to authority unknown_publisher\u001b[0m\n",
      "\u001b[33m[ WARN] [1673313396.646701780, 2841.913000000]: TF_REPEATED_DATA ignoring data with redundant timestamp for frame odom at time 2841.987000 according to authority /pose_integrator\u001b[0m\n",
      "\u001b[33m[ WARN] [1673313396.646938904, 2841.913000000]: TF_REPEATED_DATA ignoring data with redundant timestamp for frame odom at time 2841.987000 according to authority /pose_integrator\u001b[0m\n",
      "\u001b[33m[ WARN] [1673313396.648018596, 2841.913000000]: TF_REPEATED_DATA ignoring data with redundant timestamp for frame odom at time 2841.987000 according to authority unknown_publisher\u001b[0m\n",
      "\u001b[33m[ WARN] [1673313408.136475512, 2843.705000000]: TF_REPEATED_DATA ignoring data with redundant timestamp for frame odom at time 2843.733000 according to authority /pose_integrator\u001b[0m\n",
      "\u001b[33m[ WARN] [1673313408.136585133, 2843.705000000]: TF_REPEATED_DATA ignoring data with redundant timestamp for frame odom at time 2843.733000 according to authority /pose_integrator\u001b[0m\n",
      "\u001b[33m[ WARN] [1673313408.141802283, 2843.705000000]: TF_REPEATED_DATA ignoring data with redundant timestamp for frame odom at time 2843.733000 according to authority unknown_publisher\u001b[0m\n",
      "\u001b[33m[ WARN] [1673313416.138841152, 2845.420000000]: TF_REPEATED_DATA ignoring data with redundant timestamp for frame odom at time 2845.462000 according to authority unknown_publisher\u001b[0m\n",
      "\u001b[33m[ WARN] [1673313416.141305995, 2845.420000000]: TF_REPEATED_DATA ignoring data with redundant timestamp for frame odom at time 2845.462000 according to authority /pose_integrator\u001b[0m\n",
      "\u001b[33m[ WARN] [1673313416.141385745, 2845.420000000]: TF_REPEATED_DATA ignoring data with redundant timestamp for frame odom at time 2845.462000 according to authority /pose_integrator\u001b[0m\n",
      "\u001b[33m[ WARN] [1673313423.104534754, 2846.712000000]: TF_REPEATED_DATA ignoring data with redundant timestamp for frame odom at time 2846.751000 according to authority unknown_publisher\u001b[0m\n",
      "\u001b[33m[ WARN] [1673313423.107387178, 2846.712000000]: TF_REPEATED_DATA ignoring data with redundant timestamp for frame odom at time 2846.751000 according to authority /pose_integrator\u001b[0m\n",
      "\u001b[33m[ WARN] [1673313423.110193259, 2846.712000000]: TF_REPEATED_DATA ignoring data with redundant timestamp for frame odom at time 2846.751000 according to authority /pose_integrator\u001b[0m\n",
      "\u001b[33m[ WARN] [1673313438.378722204, 2849.747000000]: TF_REPEATED_DATA ignoring data with redundant timestamp for frame odom at time 2849.785000 according to authority /pose_integrator\u001b[0m\n",
      "\u001b[33m[ WARN] [1673313438.378953343, 2849.747000000]: TF_REPEATED_DATA ignoring data with redundant timestamp for frame odom at time 2849.785000 according to authority /pose_integrator\u001b[0m\n",
      "\u001b[33m[ WARN] [1673313438.384813988, 2849.747000000]: TF_REPEATED_DATA ignoring data with redundant timestamp for frame odom at time 2849.785000 according to authority unknown_publisher\u001b[0m\n",
      "\u001b[33m[ WARN] [1673313518.779092516, 2864.502000000]: TF_REPEATED_DATA ignoring data with redundant timestamp for frame odom at time 2864.537000 according to authority unknown_publisher\u001b[0m\n",
      "\u001b[33m[ WARN] [1673313518.779394873, 2864.502000000]: TF_REPEATED_DATA ignoring data with redundant timestamp for frame odom at time 2864.537000 according to authority /pose_integrator\u001b[0m\n",
      "\u001b[33m[ WARN] [1673313518.779449756, 2864.502000000]: TF_REPEATED_DATA ignoring data with redundant timestamp for frame odom at time 2864.537000 according to authority /pose_integrator\u001b[0m\n",
      "\u001b[33m[ WARN] [1673313523.106408121, 2865.289000000]: TF_REPEATED_DATA ignoring data with redundant timestamp for frame odom at time 2865.347000 according to authority /pose_integrator\u001b[0m\n",
      "\u001b[33m[ WARN] [1673313523.106526780, 2865.289000000]: TF_REPEATED_DATA ignoring data with redundant timestamp for frame odom at time 2865.347000 according to authority /pose_integrator\u001b[0m\n",
      "\u001b[33m[ WARN] [1673313523.107422868, 2865.289000000]: TF_REPEATED_DATA ignoring data with redundant timestamp for frame odom at time 2865.347000 according to authority unknown_publisher\u001b[0m\n",
      "\u001b[33m[ WARN] [1673313529.616458374, 2866.491000000]: TF_REPEATED_DATA ignoring data with redundant timestamp for frame odom at time 2866.516000 according to authority /pose_integrator\u001b[0m\n",
      "\u001b[33m[ WARN] [1673313529.616547017, 2866.491000000]: TF_REPEATED_DATA ignoring data with redundant timestamp for frame odom at time 2866.516000 according to authority /pose_integrator\u001b[0m\n",
      "\u001b[33m[ WARN] [1673313529.616639141, 2866.491000000]: TF_REPEATED_DATA ignoring data with redundant timestamp for frame odom at time 2866.516000 according to authority unknown_publisher\u001b[0m\n"
     ]
    },
    {
     "name": "stderr",
     "output_type": "stream",
     "text": [
      "\u001b[33m[ WARN] [1673313573.925574658, 2874.242000000]: TF_REPEATED_DATA ignoring data with redundant timestamp for frame odom at time 2874.283000 according to authority /pose_integrator\u001b[0m\n",
      "\u001b[33m[ WARN] [1673313573.925670234, 2874.242000000]: TF_REPEATED_DATA ignoring data with redundant timestamp for frame odom at time 2874.283000 according to authority /pose_integrator\u001b[0m\n",
      "\u001b[33m[ WARN] [1673313573.926436245, 2874.242000000]: TF_REPEATED_DATA ignoring data with redundant timestamp for frame odom at time 2874.283000 according to authority unknown_publisher\u001b[0m\n",
      "\u001b[33m[ WARN] [1673313660.913938691, 2889.287000000]: TF_REPEATED_DATA ignoring data with redundant timestamp for frame odom at time 2889.328000 according to authority unknown_publisher\u001b[0m\n",
      "\u001b[33m[ WARN] [1673313660.914672154, 2889.287000000]: TF_REPEATED_DATA ignoring data with redundant timestamp for frame odom at time 2889.328000 according to authority /pose_integrator\u001b[0m\n",
      "\u001b[33m[ WARN] [1673313660.914732910, 2889.287000000]: TF_REPEATED_DATA ignoring data with redundant timestamp for frame odom at time 2889.328000 according to authority /pose_integrator\u001b[0m\n",
      "\u001b[33m[ WARN] [1673313662.491599138, 2889.636000000]: TF_REPEATED_DATA ignoring data with redundant timestamp for frame odom at time 2889.661000 according to authority unknown_publisher\u001b[0m\n",
      "\u001b[33m[ WARN] [1673313662.492666549, 2889.636000000]: TF_REPEATED_DATA ignoring data with redundant timestamp for frame odom at time 2889.661000 according to authority /pose_integrator\u001b[0m\n",
      "\u001b[33m[ WARN] [1673313662.492777884, 2889.636000000]: TF_REPEATED_DATA ignoring data with redundant timestamp for frame odom at time 2889.661000 according to authority /pose_integrator\u001b[0m\n",
      "\u001b[33m[ WARN] [1673313675.525187026, 2891.908000000]: TF_REPEATED_DATA ignoring data with redundant timestamp for frame odom at time 2891.942000 according to authority /pose_integrator\u001b[0m\n",
      "\u001b[33m[ WARN] [1673313675.525271851, 2891.908000000]: TF_REPEATED_DATA ignoring data with redundant timestamp for frame odom at time 2891.942000 according to authority /pose_integrator\u001b[0m\n",
      "\u001b[33m[ WARN] [1673313675.527916590, 2891.908000000]: TF_REPEATED_DATA ignoring data with redundant timestamp for frame odom at time 2891.942000 according to authority unknown_publisher\u001b[0m\n",
      "\u001b[33m[ WARN] [1673313690.199565432, 2894.530000000]: TF_REPEATED_DATA ignoring data with redundant timestamp for frame odom at time 2894.594000 according to authority /pose_integrator\u001b[0m\n",
      "\u001b[33m[ WARN] [1673313690.199664325, 2894.530000000]: TF_REPEATED_DATA ignoring data with redundant timestamp for frame odom at time 2894.594000 according to authority /pose_integrator\u001b[0m\n",
      "\u001b[33m[ WARN] [1673313690.201045421, 2894.530000000]: TF_REPEATED_DATA ignoring data with redundant timestamp for frame odom at time 2894.594000 according to authority unknown_publisher\u001b[0m\n",
      "\u001b[33m[ WARN] [1673313696.395812018, 2895.718000000]: TF_REPEATED_DATA ignoring data with redundant timestamp for frame odom at time 2895.745000 according to authority /pose_integrator\u001b[0m\n",
      "\u001b[33m[ WARN] [1673313696.395903081, 2895.718000000]: TF_REPEATED_DATA ignoring data with redundant timestamp for frame odom at time 2895.745000 according to authority /pose_integrator\u001b[0m\n",
      "\u001b[33m[ WARN] [1673313696.396475897, 2895.718000000]: TF_REPEATED_DATA ignoring data with redundant timestamp for frame odom at time 2895.745000 according to authority unknown_publisher\u001b[0m\n",
      "\u001b[33m[ WARN] [1673313703.448499784, 2897.129000000]: TF_REPEATED_DATA ignoring data with redundant timestamp for frame odom at time 2897.174000 according to authority unknown_publisher\u001b[0m\n",
      "\u001b[33m[ WARN] [1673313703.448601761, 2897.129000000]: TF_REPEATED_DATA ignoring data with redundant timestamp for frame odom at time 2897.174000 according to authority /pose_integrator\u001b[0m\n",
      "\u001b[33m[ WARN] [1673313703.448674688, 2897.129000000]: TF_REPEATED_DATA ignoring data with redundant timestamp for frame odom at time 2897.174000 according to authority /pose_integrator\u001b[0m\n",
      "\u001b[33m[ WARN] [1673313722.657182530, 2900.837000000]: TF_REPEATED_DATA ignoring data with redundant timestamp for frame odom at time 2900.886000 according to authority unknown_publisher\u001b[0m\n",
      "\u001b[33m[ WARN] [1673313722.657663421, 2900.837000000]: TF_REPEATED_DATA ignoring data with redundant timestamp for frame odom at time 2900.886000 according to authority /pose_integrator\u001b[0m\n",
      "\u001b[33m[ WARN] [1673313722.657795945, 2900.837000000]: TF_REPEATED_DATA ignoring data with redundant timestamp for frame odom at time 2900.886000 according to authority /pose_integrator\u001b[0m\n",
      "\u001b[33m[ WARN] [1673313731.782067435, 2902.583000000]: TF_REPEATED_DATA ignoring data with redundant timestamp for frame odom at time 2902.619000 according to authority unknown_publisher\u001b[0m\n",
      "\u001b[33m[ WARN] [1673313731.782886403, 2902.583000000]: TF_REPEATED_DATA ignoring data with redundant timestamp for frame odom at time 2902.619000 according to authority /pose_integrator\u001b[0m\n",
      "\u001b[33m[ WARN] [1673313731.782966193, 2902.583000000]: TF_REPEATED_DATA ignoring data with redundant timestamp for frame odom at time 2902.619000 according to authority /pose_integrator\u001b[0m\n",
      "\u001b[33m[ WARN] [1673313777.697311414, 2910.355000000]: TF_REPEATED_DATA ignoring data with redundant timestamp for frame odom at time 2910.428000 according to authority /pose_integrator\u001b[0m\n",
      "\u001b[33m[ WARN] [1673313777.697436725, 2910.355000000]: TF_REPEATED_DATA ignoring data with redundant timestamp for frame odom at time 2910.428000 according to authority /pose_integrator\u001b[0m\n",
      "\u001b[33m[ WARN] [1673313777.697973594, 2910.355000000]: TF_REPEATED_DATA ignoring data with redundant timestamp for frame odom at time 2910.428000 according to authority unknown_publisher\u001b[0m\n",
      "\u001b[33m[ WARN] [1673313778.090884251, 2910.483000000]: TF_REPEATED_DATA ignoring data with redundant timestamp for frame odom at time 2910.528000 according to authority unknown_publisher\u001b[0m\n",
      "\u001b[33m[ WARN] [1673313778.093449789, 2910.483000000]: TF_REPEATED_DATA ignoring data with redundant timestamp for frame odom at time 2910.528000 according to authority /pose_integrator\u001b[0m\n",
      "\u001b[33m[ WARN] [1673313778.093563122, 2910.483000000]: TF_REPEATED_DATA ignoring data with redundant timestamp for frame odom at time 2910.528000 according to authority /pose_integrator\u001b[0m\n",
      "\u001b[33m[ WARN] [1673313786.409408302, 2911.957000000]: TF_REPEATED_DATA ignoring data with redundant timestamp for frame odom at time 2911.983000 according to authority unknown_publisher\u001b[0m\n",
      "\u001b[33m[ WARN] [1673313786.410780959, 2911.957000000]: TF_REPEATED_DATA ignoring data with redundant timestamp for frame odom at time 2911.983000 according to authority /pose_integrator\u001b[0m\n",
      "\u001b[33m[ WARN] [1673313786.410857114, 2911.957000000]: TF_REPEATED_DATA ignoring data with redundant timestamp for frame odom at time 2911.983000 according to authority /pose_integrator\u001b[0m\n",
      "\u001b[33m[ WARN] [1673313835.845085578, 2920.491000000]: TF_REPEATED_DATA ignoring data with redundant timestamp for frame odom at time 2920.519000 according to authority /pose_integrator\u001b[0m\n",
      "\u001b[33m[ WARN] [1673313835.845191235, 2920.491000000]: TF_REPEATED_DATA ignoring data with redundant timestamp for frame odom at time 2920.519000 according to authority /pose_integrator\u001b[0m\n",
      "\u001b[33m[ WARN] [1673313835.848268545, 2920.491000000]: TF_REPEATED_DATA ignoring data with redundant timestamp for frame odom at time 2920.519000 according to authority unknown_publisher\u001b[0m\n",
      "\u001b[33m[ WARN] [1673313850.497334838, 2923.268000000]: TF_REPEATED_DATA ignoring data with redundant timestamp for frame odom at time 2923.295000 according to authority /pose_integrator\u001b[0m\n",
      "\u001b[33m[ WARN] [1673313850.497407558, 2923.268000000]: TF_REPEATED_DATA ignoring data with redundant timestamp for frame odom at time 2923.295000 according to authority /pose_integrator\u001b[0m\n",
      "\u001b[33m[ WARN] [1673313850.500851059, 2923.268000000]: TF_REPEATED_DATA ignoring data with redundant timestamp for frame odom at time 2923.295000 according to authority unknown_publisher\u001b[0m\n",
      "\u001b[33m[ WARN] [1673313858.031866631, 2924.621000000]: TF_REPEATED_DATA ignoring data with redundant timestamp for frame odom at time 2924.650000 according to authority /pose_integrator\u001b[0m\n",
      "\u001b[33m[ WARN] [1673313858.032066068, 2924.621000000]: TF_REPEATED_DATA ignoring data with redundant timestamp for frame odom at time 2924.650000 according to authority /pose_integrator\u001b[0m\n",
      "\u001b[33m[ WARN] [1673313858.032604289, 2924.621000000]: TF_REPEATED_DATA ignoring data with redundant timestamp for frame odom at time 2924.650000 according to authority unknown_publisher\u001b[0m\n"
     ]
    },
    {
     "name": "stderr",
     "output_type": "stream",
     "text": [
      "\u001b[33m[ WARN] [1673313899.217870033, 2930.805000000]: TF_REPEATED_DATA ignoring data with redundant timestamp for frame odom at time 2930.839000 according to authority unknown_publisher\u001b[0m\n",
      "\u001b[33m[ WARN] [1673313899.233962653, 2930.805000000]: TF_REPEATED_DATA ignoring data with redundant timestamp for frame odom at time 2930.839000 according to authority /pose_integrator\u001b[0m\n",
      "\u001b[33m[ WARN] [1673313899.234064889, 2930.805000000]: TF_REPEATED_DATA ignoring data with redundant timestamp for frame odom at time 2930.839000 according to authority /pose_integrator\u001b[0m\n",
      "\u001b[33m[ WARN] [1673313915.899682535, 2933.295000000]: TF_REPEATED_DATA ignoring data with redundant timestamp for frame odom at time 2933.357000 according to authority /pose_integrator\u001b[0m\n",
      "\u001b[33m[ WARN] [1673313915.899854078, 2933.295000000]: TF_REPEATED_DATA ignoring data with redundant timestamp for frame odom at time 2933.357000 according to authority /pose_integrator\u001b[0m\n",
      "\u001b[33m[ WARN] [1673313915.905554584, 2933.295000000]: TF_REPEATED_DATA ignoring data with redundant timestamp for frame odom at time 2933.357000 according to authority unknown_publisher\u001b[0m\n",
      "\u001b[33m[ WARN] [1673313954.489092982, 2938.881000000]: TF_REPEATED_DATA ignoring data with redundant timestamp for frame odom at time 2938.948000 according to authority /pose_integrator\u001b[0m\n",
      "\u001b[33m[ WARN] [1673313954.489205218, 2938.881000000]: TF_REPEATED_DATA ignoring data with redundant timestamp for frame odom at time 2938.948000 according to authority /pose_integrator\u001b[0m\n",
      "\u001b[33m[ WARN] [1673313954.489653397, 2938.881000000]: TF_REPEATED_DATA ignoring data with redundant timestamp for frame odom at time 2938.948000 according to authority unknown_publisher\u001b[0m\n",
      "\u001b[33m[ WARN] [1673313956.072731889, 2939.264000000]: TF_REPEATED_DATA ignoring data with redundant timestamp for frame odom at time 2939.291000 according to authority unknown_publisher\u001b[0m\n",
      "\u001b[33m[ WARN] [1673313956.075737126, 2939.264000000]: TF_REPEATED_DATA ignoring data with redundant timestamp for frame odom at time 2939.291000 according to authority /pose_integrator\u001b[0m\n",
      "\u001b[33m[ WARN] [1673313956.075885990, 2939.264000000]: TF_REPEATED_DATA ignoring data with redundant timestamp for frame odom at time 2939.291000 according to authority /pose_integrator\u001b[0m\n",
      "\u001b[33m[ WARN] [1673313963.145370482, 2940.462000000]: TF_REPEATED_DATA ignoring data with redundant timestamp for frame odom at time 2940.496000 according to authority /pose_integrator\u001b[0m\n",
      "\u001b[33m[ WARN] [1673313963.145470324, 2940.462000000]: TF_REPEATED_DATA ignoring data with redundant timestamp for frame odom at time 2940.496000 according to authority /pose_integrator\u001b[0m\n",
      "\u001b[33m[ WARN] [1673313963.145596783, 2940.462000000]: TF_REPEATED_DATA ignoring data with redundant timestamp for frame odom at time 2940.496000 according to authority unknown_publisher\u001b[0m\n",
      "\u001b[33m[ WARN] [1673313965.435551784, 2940.855000000]: TF_REPEATED_DATA ignoring data with redundant timestamp for frame odom at time 2940.875000 according to authority /pose_integrator\u001b[0m\n",
      "\u001b[33m[ WARN] [1673313965.435661209, 2940.855000000]: TF_REPEATED_DATA ignoring data with redundant timestamp for frame odom at time 2940.875000 according to authority /pose_integrator\u001b[0m\n",
      "\u001b[33m[ WARN] [1673313965.437716717, 2940.855000000]: TF_REPEATED_DATA ignoring data with redundant timestamp for frame odom at time 2940.875000 according to authority unknown_publisher\u001b[0m\n",
      "\u001b[33m[ WARN] [1673313978.509054381, 2942.732000000]: TF_REPEATED_DATA ignoring data with redundant timestamp for frame odom at time 2942.772000 according to authority /pose_integrator\u001b[0m\n",
      "\u001b[33m[ WARN] [1673313978.509133033, 2942.732000000]: TF_REPEATED_DATA ignoring data with redundant timestamp for frame odom at time 2942.772000 according to authority /pose_integrator\u001b[0m\n",
      "\u001b[33m[ WARN] [1673313978.509266337, 2942.732000000]: TF_REPEATED_DATA ignoring data with redundant timestamp for frame odom at time 2942.772000 according to authority unknown_publisher\u001b[0m\n",
      "\u001b[33m[ WARN] [1673313982.211385215, 2943.270000000]: TF_REPEATED_DATA ignoring data with redundant timestamp for frame odom at time 2943.293000 according to authority /pose_integrator\u001b[0m\n",
      "\u001b[33m[ WARN] [1673313982.211473607, 2943.270000000]: TF_REPEATED_DATA ignoring data with redundant timestamp for frame odom at time 2943.293000 according to authority /pose_integrator\u001b[0m\n",
      "\u001b[33m[ WARN] [1673313982.213275877, 2943.270000000]: TF_REPEATED_DATA ignoring data with redundant timestamp for frame odom at time 2943.293000 according to authority unknown_publisher\u001b[0m\n",
      "\u001b[33m[ WARN] [1673314013.268788361, 2947.794000000]: TF_REPEATED_DATA ignoring data with redundant timestamp for frame odom at time 2947.828000 according to authority /pose_integrator\u001b[0m\n",
      "\u001b[33m[ WARN] [1673314013.268863111, 2947.794000000]: TF_REPEATED_DATA ignoring data with redundant timestamp for frame odom at time 2947.828000 according to authority /pose_integrator\u001b[0m\n",
      "\u001b[33m[ WARN] [1673314013.269082167, 2947.794000000]: TF_REPEATED_DATA ignoring data with redundant timestamp for frame odom at time 2947.828000 according to authority unknown_publisher\u001b[0m\n",
      "\u001b[33m[ WARN] [1673314026.571206491, 2950.381000000]: TF_REPEATED_DATA ignoring data with redundant timestamp for frame odom at time 2950.416000 according to authority unknown_publisher\u001b[0m\n",
      "\u001b[33m[ WARN] [1673314026.571395706, 2950.381000000]: TF_REPEATED_DATA ignoring data with redundant timestamp for frame odom at time 2950.416000 according to authority /pose_integrator\u001b[0m\n",
      "\u001b[33m[ WARN] [1673314026.571477239, 2950.381000000]: TF_REPEATED_DATA ignoring data with redundant timestamp for frame odom at time 2950.416000 according to authority /pose_integrator\u001b[0m\n",
      "\u001b[33m[ WARN] [1673314030.291939592, 2951.167000000]: TF_REPEATED_DATA ignoring data with redundant timestamp for frame odom at time 2951.207000 according to authority unknown_publisher\u001b[0m\n",
      "\u001b[33m[ WARN] [1673314030.292245403, 2951.167000000]: TF_REPEATED_DATA ignoring data with redundant timestamp for frame odom at time 2951.207000 according to authority /pose_integrator\u001b[0m\n",
      "\u001b[33m[ WARN] [1673314030.292319951, 2951.167000000]: TF_REPEATED_DATA ignoring data with redundant timestamp for frame odom at time 2951.207000 according to authority /pose_integrator\u001b[0m\n",
      "\u001b[33m[ WARN] [1673314089.048313802, 2960.740000000]: TF_REPEATED_DATA ignoring data with redundant timestamp for frame odom at time 2960.777000 according to authority unknown_publisher\u001b[0m\n",
      "\u001b[33m[ WARN] [1673314089.050069073, 2960.740000000]: TF_REPEATED_DATA ignoring data with redundant timestamp for frame odom at time 2960.777000 according to authority /pose_integrator\u001b[0m\n",
      "\u001b[33m[ WARN] [1673314089.050151909, 2960.740000000]: TF_REPEATED_DATA ignoring data with redundant timestamp for frame odom at time 2960.777000 according to authority /pose_integrator\u001b[0m\n",
      "\u001b[33m[ WARN] [1673314172.877965940, 2974.109000000]: TF_REPEATED_DATA ignoring data with redundant timestamp for frame odom at time 2974.132000 according to authority unknown_publisher\u001b[0m\n",
      "\u001b[33m[ WARN] [1673314172.880088291, 2974.109000000]: TF_REPEATED_DATA ignoring data with redundant timestamp for frame odom at time 2974.132000 according to authority /pose_integrator\u001b[0m\n",
      "\u001b[33m[ WARN] [1673314172.880195264, 2974.109000000]: TF_REPEATED_DATA ignoring data with redundant timestamp for frame odom at time 2974.132000 according to authority /pose_integrator\u001b[0m\n",
      "\u001b[33m[ WARN] [1673314178.781122518, 2975.123000000]: TF_REPEATED_DATA ignoring data with redundant timestamp for frame odom at time 2975.123000 according to authority unknown_publisher\u001b[0m\n",
      "\u001b[33m[ WARN] [1673314178.781900958, 2975.123000000]: TF_REPEATED_DATA ignoring data with redundant timestamp for frame odom at time 2975.123000 according to authority /pose_integrator\u001b[0m\n",
      "\u001b[33m[ WARN] [1673314178.781990282, 2975.123000000]: TF_REPEATED_DATA ignoring data with redundant timestamp for frame odom at time 2975.123000 according to authority /pose_integrator\u001b[0m\n",
      "\u001b[33m[ WARN] [1673314212.079026039, 2980.682000000]: TF_REPEATED_DATA ignoring data with redundant timestamp for frame odom at time 2980.711000 according to authority /pose_integrator\u001b[0m\n",
      "\u001b[33m[ WARN] [1673314212.079195614, 2980.682000000]: TF_REPEATED_DATA ignoring data with redundant timestamp for frame odom at time 2980.711000 according to authority /pose_integrator\u001b[0m\n",
      "\u001b[33m[ WARN] [1673314212.079311664, 2980.682000000]: TF_REPEATED_DATA ignoring data with redundant timestamp for frame odom at time 2980.711000 according to authority unknown_publisher\u001b[0m\n"
     ]
    }
   ],
   "source": [
    "move_group = moveit_commander.MoveGroupCommandInterpreter() "
   ]
  },
  {
   "cell_type": "code",
   "execution_count": 23,
   "metadata": {},
   "outputs": [
    {
     "name": "stderr",
     "output_type": "stream",
     "text": [
      "\u001b[33m[ WARN] [1673316532.450148778, 3410.584000000]: TF_REPEATED_DATA ignoring data with redundant timestamp for frame odom at time 3410.635000 according to authority unknown_publisher\u001b[0m\n",
      "\u001b[33m[ WARN] [1673316561.557681852, 3417.602000000]: TF_REPEATED_DATA ignoring data with redundant timestamp for frame odom at time 3410.635000 according to authority /pose_integrator\u001b[0m\n",
      "\u001b[33m[ WARN] [1673316561.557828271, 3417.602000000]: TF_REPEATED_DATA ignoring data with redundant timestamp for frame odom at time 3410.635000 according to authority /pose_integrator\u001b[0m\n",
      "\u001b[33m[ WARN] [1673316564.745600967, 3418.389000000]: TF_REPEATED_DATA ignoring data with redundant timestamp for frame odom at time 3418.445000 according to authority unknown_publisher\u001b[0m\n",
      "\u001b[33m[ WARN] [1673316564.746124260, 3418.389000000]: TF_REPEATED_DATA ignoring data with redundant timestamp for frame odom at time 3418.445000 according to authority /pose_integrator\u001b[0m\n",
      "\u001b[33m[ WARN] [1673316564.746183999, 3418.389000000]: TF_REPEATED_DATA ignoring data with redundant timestamp for frame odom at time 3418.445000 according to authority /pose_integrator\u001b[0m\n",
      "\u001b[33m[ WARN] [1673316567.645201326, 3419.139000000]: TF_REPEATED_DATA ignoring data with redundant timestamp for frame odom at time 3419.193000 according to authority unknown_publisher\u001b[0m\n",
      "\u001b[33m[ WARN] [1673316567.645404614, 3419.139000000]: TF_REPEATED_DATA ignoring data with redundant timestamp for frame odom at time 3419.193000 according to authority /pose_integrator\u001b[0m\n",
      "\u001b[33m[ WARN] [1673316567.645461888, 3419.139000000]: TF_REPEATED_DATA ignoring data with redundant timestamp for frame odom at time 3419.193000 according to authority /pose_integrator\u001b[0m\n",
      "\u001b[33m[ WARN] [1673316612.835399866, 3429.539000000]: TF_REPEATED_DATA ignoring data with redundant timestamp for frame odom at time 3429.565000 according to authority /pose_integrator\u001b[0m\n",
      "\u001b[33m[ WARN] [1673316612.835759526, 3429.539000000]: TF_REPEATED_DATA ignoring data with redundant timestamp for frame odom at time 3429.565000 according to authority /pose_integrator\u001b[0m\n",
      "\u001b[33m[ WARN] [1673316612.838732986, 3429.539000000]: TF_REPEATED_DATA ignoring data with redundant timestamp for frame odom at time 3429.565000 according to authority unknown_publisher\u001b[0m\n",
      "\u001b[33m[ WARN] [1673316615.021859015, 3429.933000000]: TF_REPEATED_DATA ignoring data with redundant timestamp for frame odom at time 3429.987000 according to authority /pose_integrator\u001b[0m\n",
      "\u001b[33m[ WARN] [1673316615.021941666, 3429.933000000]: TF_REPEATED_DATA ignoring data with redundant timestamp for frame odom at time 3429.987000 according to authority /pose_integrator\u001b[0m\n",
      "\u001b[33m[ WARN] [1673316615.022389016, 3429.933000000]: TF_REPEATED_DATA ignoring data with redundant timestamp for frame odom at time 3429.987000 according to authority unknown_publisher\u001b[0m\n"
     ]
    }
   ],
   "source": [
    "\n",
    "\n",
    "wbw = moveit_commander.MoveGroupCommander('whole_body_weighted')"
   ]
  },
  {
   "cell_type": "code",
   "execution_count": 20,
   "metadata": {
    "scrolled": true
   },
   "outputs": [
    {
     "name": "stderr",
     "output_type": "stream",
     "text": [
      "\u001b[33m[ WARN] [1673315594.426131730, 3211.305000000]: TF_REPEATED_DATA ignoring data with redundant timestamp for frame odom at time 3211.342000 according to authority /pose_integrator\u001b[0m\n",
      "\u001b[33m[ WARN] [1673315594.426205178, 3211.305000000]: TF_REPEATED_DATA ignoring data with redundant timestamp for frame odom at time 3211.342000 according to authority /pose_integrator\u001b[0m\n",
      "\u001b[33m[ WARN] [1673315594.428382081, 3211.305000000]: TF_REPEATED_DATA ignoring data with redundant timestamp for frame odom at time 3211.342000 according to authority unknown_publisher\u001b[0m\n",
      "\u001b[33m[ WARN] [1673315597.006372420, 3211.806000000]: TF_REPEATED_DATA ignoring data with redundant timestamp for frame odom at time 3211.857000 according to authority /pose_integrator\u001b[0m\n",
      "\u001b[33m[ WARN] [1673315597.006446069, 3211.806000000]: TF_REPEATED_DATA ignoring data with redundant timestamp for frame odom at time 3211.857000 according to authority /pose_integrator\u001b[0m\n",
      "\u001b[33m[ WARN] [1673315597.010439847, 3211.806000000]: TF_REPEATED_DATA ignoring data with redundant timestamp for frame odom at time 3211.857000 according to authority unknown_publisher\u001b[0m\n",
      "\u001b[33m[ WARN] [1673315601.077574194, 3212.725000000]: TF_REPEATED_DATA ignoring data with redundant timestamp for frame odom at time 3212.760000 according to authority unknown_publisher\u001b[0m\n",
      "\u001b[33m[ WARN] [1673315601.077648214, 3212.725000000]: TF_REPEATED_DATA ignoring data with redundant timestamp for frame odom at time 3212.760000 according to authority /pose_integrator\u001b[0m\n",
      "\u001b[33m[ WARN] [1673315601.077710490, 3212.725000000]: TF_REPEATED_DATA ignoring data with redundant timestamp for frame odom at time 3212.760000 according to authority /pose_integrator\u001b[0m\n",
      "\u001b[33m[ WARN] [1673315602.949612256, 3213.134000000]: TF_REPEATED_DATA ignoring data with redundant timestamp for frame odom at time 3213.175000 according to authority unknown_publisher\u001b[0m\n",
      "\u001b[33m[ WARN] [1673315602.950230248, 3213.134000000]: TF_REPEATED_DATA ignoring data with redundant timestamp for frame odom at time 3213.175000 according to authority /pose_integrator\u001b[0m\n",
      "\u001b[33m[ WARN] [1673315602.950303066, 3213.134000000]: TF_REPEATED_DATA ignoring data with redundant timestamp for frame odom at time 3213.175000 according to authority /pose_integrator\u001b[0m\n",
      "\u001b[33m[ WARN] [1673315644.907873272, 3222.240000000]: TF_REPEATED_DATA ignoring data with redundant timestamp for frame odom at time 3222.258000 according to authority /pose_integrator\u001b[0m\n",
      "\u001b[33m[ WARN] [1673315644.907950959, 3222.240000000]: TF_REPEATED_DATA ignoring data with redundant timestamp for frame odom at time 3222.258000 according to authority /pose_integrator\u001b[0m\n",
      "\u001b[33m[ WARN] [1673315644.908102293, 3222.240000000]: TF_REPEATED_DATA ignoring data with redundant timestamp for frame odom at time 3222.258000 according to authority unknown_publisher\u001b[0m\n",
      "\u001b[33m[ WARN] [1673315653.980109984, 3224.404000000]: TF_REPEATED_DATA ignoring data with redundant timestamp for frame odom at time 3224.455000 according to authority unknown_publisher\u001b[0m\n",
      "\u001b[33m[ WARN] [1673315653.980428409, 3224.404000000]: TF_REPEATED_DATA ignoring data with redundant timestamp for frame odom at time 3224.455000 according to authority /pose_integrator\u001b[0m\n",
      "\u001b[33m[ WARN] [1673315653.980490129, 3224.404000000]: TF_REPEATED_DATA ignoring data with redundant timestamp for frame odom at time 3224.455000 according to authority /pose_integrator\u001b[0m\n",
      "\u001b[33m[ WARN] [1673315693.617551680, 3232.100000000]: TF_REPEATED_DATA ignoring data with redundant timestamp for frame odom at time 3232.136000 according to authority /pose_integrator\u001b[0m\n",
      "\u001b[33m[ WARN] [1673315693.617674636, 3232.100000000]: TF_REPEATED_DATA ignoring data with redundant timestamp for frame odom at time 3232.136000 according to authority /pose_integrator\u001b[0m\n",
      "\u001b[33m[ WARN] [1673315693.618557142, 3232.100000000]: TF_REPEATED_DATA ignoring data with redundant timestamp for frame odom at time 3232.136000 according to authority unknown_publisher\u001b[0m\n",
      "\u001b[33m[ WARN] [1673315730.513957609, 3239.564000000]: TF_REPEATED_DATA ignoring data with redundant timestamp for frame odom at time 3239.602000 according to authority /pose_integrator\u001b[0m\n",
      "\u001b[33m[ WARN] [1673315730.514045113, 3239.564000000]: TF_REPEATED_DATA ignoring data with redundant timestamp for frame odom at time 3239.602000 according to authority /pose_integrator\u001b[0m\n",
      "\u001b[33m[ WARN] [1673315730.514124406, 3239.564000000]: TF_REPEATED_DATA ignoring data with redundant timestamp for frame odom at time 3239.602000 according to authority unknown_publisher\u001b[0m\n",
      "\u001b[33m[ WARN] [1673315736.936608091, 3240.589000000]: TF_REPEATED_DATA ignoring data with redundant timestamp for frame odom at time 3240.626000 according to authority unknown_publisher\u001b[0m\n",
      "\u001b[33m[ WARN] [1673315736.936851214, 3240.589000000]: TF_REPEATED_DATA ignoring data with redundant timestamp for frame odom at time 3240.626000 according to authority /pose_integrator\u001b[0m\n",
      "\u001b[33m[ WARN] [1673315736.936922535, 3240.589000000]: TF_REPEATED_DATA ignoring data with redundant timestamp for frame odom at time 3240.626000 according to authority /pose_integrator\u001b[0m\n",
      "\u001b[33m[ WARN] [1673315737.400510205, 3240.693000000]: TF_REPEATED_DATA ignoring data with redundant timestamp for frame odom at time 3240.729000 according to authority unknown_publisher\u001b[0m\n",
      "\u001b[33m[ WARN] [1673315737.401629221, 3240.693000000]: TF_REPEATED_DATA ignoring data with redundant timestamp for frame odom at time 3240.729000 according to authority /pose_integrator\u001b[0m\n",
      "\u001b[33m[ WARN] [1673315737.401708783, 3240.693000000]: TF_REPEATED_DATA ignoring data with redundant timestamp for frame odom at time 3240.729000 according to authority /pose_integrator\u001b[0m\n",
      "\u001b[33m[ WARN] [1673315744.061800884, 3242.412000000]: TF_REPEATED_DATA ignoring data with redundant timestamp for frame odom at time 3242.432000 according to authority /pose_integrator\u001b[0m\n",
      "\u001b[33m[ WARN] [1673315744.061872402, 3242.412000000]: TF_REPEATED_DATA ignoring data with redundant timestamp for frame odom at time 3242.432000 according to authority /pose_integrator\u001b[0m\n",
      "\u001b[33m[ WARN] [1673315744.062911379, 3242.412000000]: TF_REPEATED_DATA ignoring data with redundant timestamp for frame odom at time 3242.432000 according to authority unknown_publisher\u001b[0m\n",
      "\u001b[33m[ WARN] [1673315759.857704351, 3245.700000000]: TF_REPEATED_DATA ignoring data with redundant timestamp for frame odom at time 3245.717000 according to authority unknown_publisher\u001b[0m\n",
      "\u001b[33m[ WARN] [1673315759.857903982, 3245.700000000]: TF_REPEATED_DATA ignoring data with redundant timestamp for frame odom at time 3245.717000 according to authority /pose_integrator\u001b[0m\n",
      "\u001b[33m[ WARN] [1673315759.857962650, 3245.700000000]: TF_REPEATED_DATA ignoring data with redundant timestamp for frame odom at time 3245.717000 according to authority /pose_integrator\u001b[0m\n",
      "\u001b[33m[ WARN] [1673315776.385037730, 3249.219000000]: TF_REPEATED_DATA ignoring data with redundant timestamp for frame odom at time 3249.244000 according to authority /pose_integrator\u001b[0m\n",
      "\u001b[33m[ WARN] [1673315776.385160058, 3249.219000000]: TF_REPEATED_DATA ignoring data with redundant timestamp for frame odom at time 3249.244000 according to authority /pose_integrator\u001b[0m\n",
      "\u001b[33m[ WARN] [1673315776.385233373, 3249.219000000]: TF_REPEATED_DATA ignoring data with redundant timestamp for frame odom at time 3249.244000 according to authority unknown_publisher\u001b[0m\n"
     ]
    },
    {
     "data": {
      "text/plain": [
       "False"
      ]
     },
     "execution_count": 20,
     "metadata": {},
     "output_type": "execute_result"
    },
    {
     "name": "stderr",
     "output_type": "stream",
     "text": [
      "\u001b[33m[ WARN] [1673315822.891646192, 3258.117000000]: TF_REPEATED_DATA ignoring data with redundant timestamp for frame odom at time 3258.170000 according to authority /pose_integrator\u001b[0m\n",
      "\u001b[33m[ WARN] [1673315822.891767874, 3258.117000000]: TF_REPEATED_DATA ignoring data with redundant timestamp for frame odom at time 3258.170000 according to authority /pose_integrator\u001b[0m\n",
      "\u001b[33m[ WARN] [1673315822.894591361, 3258.117000000]: TF_REPEATED_DATA ignoring data with redundant timestamp for frame odom at time 3258.170000 according to authority unknown_publisher\u001b[0m\n",
      "\u001b[33m[ WARN] [1673315833.667340595, 3260.424000000]: TF_REPEATED_DATA ignoring data with redundant timestamp for frame odom at time 3260.481000 according to authority /pose_integrator\u001b[0m\n",
      "\u001b[33m[ WARN] [1673315833.667436160, 3260.424000000]: TF_REPEATED_DATA ignoring data with redundant timestamp for frame odom at time 3260.481000 according to authority /pose_integrator\u001b[0m\n",
      "\u001b[33m[ WARN] [1673315833.667505545, 3260.424000000]: TF_REPEATED_DATA ignoring data with redundant timestamp for frame odom at time 3260.481000 according to authority unknown_publisher\u001b[0m\n"
     ]
    }
   ],
   "source": [
    "arm.set_named_target('neutral')\n",
    "arm.go()\n",
    "_,rot =tf_man.getTF(target_frame='hand_palm_link', ref_frame='odom')\n",
    "waypoints = []\n",
    "Pose.position.x = 0.5\n",
    "Pose.position.y = 0.5\n",
    "Pose.position.z = 0.5\n",
    "\n",
    "Pose.orientation.x = rot[0]\n",
    "Pose.orientation.y = rot[1]\n",
    "Pose.orientation.z = rot[2]\n",
    "Pose.orientation.w = rot[3]\n",
    "\n",
    "Pose2 = geometry_msgs.msg.Pose()\n",
    "Pose2.position.x = 0.5\n",
    "Pose2.position.y = -0.5\n",
    "Pose2.position.z = 0.5\n",
    "Pose2.orientation.x = rot[0]\n",
    "Pose2.orientation.y = rot[1]\n",
    "Pose2.orientation.z = rot[2]\n",
    "Pose2.orientation.w = rot[3]\n",
    "Pose3 = geometry_msgs.msg.Pose()\n",
    "Pose3.position.x = -0.5\n",
    "Pose3.position.y = -0.5\n",
    "Pose3.position.z = 0.5\n",
    "Pose3.orientation.x = rot[0]\n",
    "Pose3.orientation.y = rot[1]\n",
    "Pose3.orientation.z = rot[2]\n",
    "Pose3.orientation.w = rot[3]\n",
    "\n",
    "waypoints.append(Pose)\n",
    "waypoints.append(Pose2)\n",
    "waypoints.append(Pose3)\n",
    "\n",
    "# Plan a path for the end effector to follow\n",
    "(plan, fraction) = wb.compute_cartesian_path(waypoints, 0.01, 0.0)\n",
    "\n",
    "# Execute the planned path\n",
    "wb.execute(plan)"
   ]
  },
  {
   "cell_type": "code",
   "execution_count": 15,
   "metadata": {
    "scrolled": true
   },
   "outputs": [
    {
     "name": "stdout",
     "output_type": "stream",
     "text": [
      "1.0\n"
     ]
    },
    {
     "data": {
      "text/plain": [
       "False"
      ]
     },
     "execution_count": 15,
     "metadata": {},
     "output_type": "execute_result"
    }
   ],
   "source": [
    "arm.set_named_target('neutral')\n",
    "arm.go()\n",
    "pos,rot =tf_man.getTF(target_frame='hand_palm_link', ref_frame='odom')\n",
    "waypoints = []\n",
    "\n",
    "for i in range(0,360):\n",
    "    theta = np.deg2rad(i)\n",
    "    Pose = geometry_msgs.msg.Pose()\n",
    "    Pose.position.x = 0.0\n",
    "    Pose.position.y = 0.2*np.sin(theta) + pos[1]\n",
    "    Pose.position.z = 0.3*np.cos(theta) + pos[2]\n",
    "\n",
    "    Pose.orientation.x = rot[0]\n",
    "    Pose.orientation.y = rot[1]\n",
    "    Pose.orientation.z = rot[2]\n",
    "    Pose.orientation.w = rot[3]\n",
    "\n",
    "\n",
    "    waypoints.append(Pose)\n",
    "\n",
    "\n",
    "# Plan a path for the end effector to follow\n",
    "(plan, fraction) = wb.compute_cartesian_path(waypoints, 0.01, 0.0)\n",
    "\n",
    "print(fraction)\n",
    "\n",
    "# Execute the planned path\n",
    "wb.execute(plan)"
   ]
  },
  {
   "cell_type": "code",
   "execution_count": 11,
   "metadata": {},
   "outputs": [],
   "source": [
    "display_trajectory_publisher = rospy.Publisher(\n",
    "    \"/move_group/display_planned_path\",\n",
    "    moveit_msgs.msg.DisplayTrajectory,\n",
    "    queue_size=20,\n",
    ")"
   ]
  },
  {
   "cell_type": "code",
   "execution_count": 12,
   "metadata": {},
   "outputs": [
    {
     "name": "stderr",
     "output_type": "stream",
     "text": [
      "\u001b[33m[ WARN] [1673318253.549586022, 2477.820000000]: TF_REPEATED_DATA ignoring data with redundant timestamp for frame odom at time 2477.874000 according to authority unknown_publisher\u001b[0m\n",
      "\u001b[33m[ WARN] [1673318253.550840123, 2477.820000000]: TF_REPEATED_DATA ignoring data with redundant timestamp for frame odom at time 2477.874000 according to authority /pose_integrator\u001b[0m\n",
      "\u001b[33m[ WARN] [1673318253.552161862, 2477.820000000]: TF_REPEATED_DATA ignoring data with redundant timestamp for frame odom at time 2477.874000 according to authority /pose_integrator\u001b[0m\n",
      "\u001b[33m[ WARN] [1673318272.433832996, 2482.545000000]: TF_REPEATED_DATA ignoring data with redundant timestamp for frame odom at time 2482.573000 according to authority unknown_publisher\u001b[0m\n",
      "\u001b[33m[ WARN] [1673318272.439533358, 2482.573000000]: TF_REPEATED_DATA ignoring data with redundant timestamp for frame odom at time 2482.573000 according to authority /pose_integrator\u001b[0m\n",
      "\u001b[33m[ WARN] [1673318272.439846278, 2482.573000000]: TF_REPEATED_DATA ignoring data with redundant timestamp for frame odom at time 2482.573000 according to authority /pose_integrator\u001b[0m\n",
      "\u001b[33m[ WARN] [1673318273.137470587, 2482.714000000]: TF_REPEATED_DATA ignoring data with redundant timestamp for frame odom at time 2482.743000 according to authority unknown_publisher\u001b[0m\n",
      "\u001b[33m[ WARN] [1673318273.137793013, 2482.714000000]: TF_REPEATED_DATA ignoring data with redundant timestamp for frame odom at time 2482.743000 according to authority /pose_integrator\u001b[0m\n",
      "\u001b[33m[ WARN] [1673318273.137885713, 2482.714000000]: TF_REPEATED_DATA ignoring data with redundant timestamp for frame odom at time 2482.743000 according to authority /pose_integrator\u001b[0m\n",
      "\u001b[33m[ WARN] [1673318290.626936865, 2486.848000000]: TF_REPEATED_DATA ignoring data with redundant timestamp for frame odom at time 2486.891000 according to authority unknown_publisher\u001b[0m\n",
      "\u001b[33m[ WARN] [1673318290.636971473, 2486.891000000]: TF_REPEATED_DATA ignoring data with redundant timestamp for frame odom at time 2486.891000 according to authority /pose_integrator\u001b[0m\n",
      "\u001b[33m[ WARN] [1673318290.637140210, 2486.891000000]: TF_REPEATED_DATA ignoring data with redundant timestamp for frame odom at time 2486.891000 according to authority /pose_integrator\u001b[0m\n"
     ]
    }
   ],
   "source": [
    "##Display trajectory\n",
    "robot = moveit_commander.RobotCommander()\n",
    "display_trajectory = moveit_msgs.msg.DisplayTrajectory()\n",
    "display_trajectory.trajectory_start = robot.get_current_state()\n",
    "display_trajectory.trajectory.append(plan)\n",
    "# Publish\n",
    "display_trajectory_publisher.publish(display_trajectory)"
   ]
  },
  {
   "cell_type": "code",
   "execution_count": 7,
   "metadata": {},
   "outputs": [
    {
     "data": {
      "text/plain": [
       "[[0.15805690187737723, 0.07799969663624323, 0.8254968539565795],\n",
       " [-8.301068150751266e-05,\n",
       "  -4.332608288021555e-10,\n",
       "  -0.9999999964748175,\n",
       "  -1.2632951125992185e-05]]"
      ]
     },
     "execution_count": 7,
     "metadata": {},
     "output_type": "execute_result"
    }
   ],
   "source": [
    "tf_man.getTF(target_frame='hand_palm_link', ref_frame='base_link')"
   ]
  },
  {
   "cell_type": "code",
   "execution_count": 1,
   "metadata": {},
   "outputs": [],
   "source": [
    "from utils.grasp_utils import *\n",
    "import rospy\n",
    "from segmentation.srv import *\n",
    "from utils.nav_utils import *\n",
    "import tf2_ros\n",
    "from geometry_msgs.msg import TransformStamped, PoseStamped"
   ]
  },
  {
   "cell_type": "code",
   "execution_count": 2,
   "metadata": {},
   "outputs": [],
   "source": [
    "rospy.init_node('pruebas_de_graspeo')\n",
    "arm = ARM()\n",
    "segment = rospy.ServiceProxy('/segment', Segmentation)\n",
    "base = OMNIBASE()\n",
    "tf_man = TF_MANAGER()\n",
    "head = GAZE()\n",
    "gripper = GRIPPER()"
   ]
  },
  {
   "cell_type": "code",
   "execution_count": 11,
   "metadata": {},
   "outputs": [
    {
     "data": {
      "text/plain": [
       "[-0.048782673896787365, -1.2206605171300773]"
      ]
     },
     "execution_count": 11,
     "metadata": {},
     "output_type": "execute_result"
    }
   ],
   "source": [
    "#head.set_named_target('down')\n",
    "arm.set_joint_values()\n",
    "head.relative(0.5,0,0)"
   ]
  },
  {
   "cell_type": "code",
   "execution_count": 47,
   "metadata": {},
   "outputs": [],
   "source": [
    "res = segment.call()"
   ]
  },
  {
   "cell_type": "code",
   "execution_count": 48,
   "metadata": {},
   "outputs": [
    {
     "name": "stdout",
     "output_type": "stream",
     "text": [
      "(0.048815567046403885, -0.17258669435977936, 0.9371992349624634)\n"
     ]
    }
   ],
   "source": [
    "print(res.poses.data)"
   ]
  },
  {
   "cell_type": "code",
   "execution_count": 49,
   "metadata": {},
   "outputs": [
    {
     "name": "stdout",
     "output_type": "stream",
     "text": [
      "0\n"
     ]
    },
    {
     "data": {
      "text/plain": [
       "True"
      ]
     },
     "execution_count": 49,
     "metadata": {},
     "output_type": "execute_result"
    }
   ],
   "source": [
    "centroids = res.poses.data\n",
    "closest = [100,100,100]\n",
    "min_dist = 100\n",
    "i = 0\n",
    "while len(centroids) >= 3:\n",
    "    print(i)\n",
    "    centroid = centroids[:3]\n",
    "    tf_man.pub_static_tf(pos=centroid, point_name='target', ref='head_rgbd_sensor_rgb_frame')\n",
    "    pos,_=tf_man.getTF(target_frame='target', ref_frame='base_link')\n",
    "    dist = np.linalg.norm(np.array(pos))\n",
    "    if dist < min_dist:\n",
    "        min_dist = dist\n",
    "        closest = centroid\n",
    "    centroids = centroids[3:]\n",
    "    i +=1\n",
    "\n",
    "if min_dist < 1.5:\n",
    "    tf_man.pub_static_tf(pos=closest, point_name='target', ref='head_rgbd_sensor_rgb_frame')\n",
    "    rospy.sleep(0.8)\n",
    "    tf_man.change_ref_frame_tf(point_name='target', new_frame='map')\n",
    "    return 'succ'\n",
    "else:\n",
    "    return 'failed'"
   ]
  },
  {
   "cell_type": "code",
   "execution_count": 50,
   "metadata": {},
   "outputs": [],
   "source": [
    "#acp=arm.get_joint_values()\n",
    "#arm.set_joint_values([0.27, -2.09, 0.0, -1.12, 0.0])\n",
    "arm.set_named_target('grasp_floor')"
   ]
  },
  {
   "cell_type": "code",
   "execution_count": 51,
   "metadata": {},
   "outputs": [],
   "source": [
    "gripper.open()"
   ]
  },
  {
   "cell_type": "code",
   "execution_count": 52,
   "metadata": {
    "scrolled": true
   },
   "outputs": [
    {
     "name": "stdout",
     "output_type": "stream",
     "text": [
      "[INFO] [1682102666.003576]: Distance to goal: 0.32, -0.14\n",
      "[INFO] [1682102666.208000]: Distance to goal: 0.31, -0.13\n",
      "[INFO] [1682102666.410859]: Distance to goal: 0.29, -0.11\n",
      "[INFO] [1682102666.613734]: Distance to goal: 0.27, -0.08\n",
      "[INFO] [1682102666.816677]: Distance to goal: 0.24, -0.07\n",
      "[INFO] [1682102667.020314]: Distance to goal: 0.23, -0.05\n",
      "[INFO] [1682102667.223539]: Distance to goal: 0.21, -0.04\n",
      "[INFO] [1682102667.427191]: Distance to goal: 0.19, -0.03\n",
      "[INFO] [1682102667.629514]: Distance to goal: 0.17, -0.02\n",
      "[INFO] [1682102667.831697]: Distance to goal: 0.16, -0.02\n",
      "[INFO] [1682102668.033903]: Distance to goal: 0.14, -0.01\n",
      "[INFO] [1682102668.237273]: Distance to goal: 0.13, -0.01\n",
      "[INFO] [1682102668.440382]: Distance to goal: 0.12, -0.01\n",
      "[INFO] [1682102668.643804]: Distance to goal: 0.11, -0.01\n",
      "[INFO] [1682102668.845633]: Distance to goal: 0.10, -0.01\n",
      "[INFO] [1682102669.047753]: Distance to goal: 0.09, -0.01\n",
      "[INFO] [1682102669.249763]: Distance to goal: 0.09, -0.01\n",
      "[INFO] [1682102669.453422]: Distance to goal: 0.08, -0.01\n",
      "[INFO] [1682102669.656951]: Distance to goal: 0.07, -0.01\n",
      "[INFO] [1682102669.859158]: Distance to goal: 0.07, -0.01\n",
      "[INFO] [1682102670.062453]: Distance to goal: 0.06, -0.01\n",
      "[INFO] [1682102670.269129]: Distance to goal: 0.06, -0.01\n",
      "[INFO] [1682102670.472463]: Distance to goal: 0.05, -0.01\n",
      "[INFO] [1682102670.676827]: Distance to goal: 0.05, -0.01\n",
      "[INFO] [1682102670.879109]: Distance to goal: 0.04, -0.01\n",
      "[INFO] [1682102671.082178]: Distance to goal: 0.04, -0.01\n",
      "[INFO] [1682102671.284630]: Distance to goal: 0.04, -0.01\n",
      "[INFO] [1682102671.488831]: Distance to goal: 0.03, -0.01\n",
      "[INFO] [1682102671.692105]: Distance to goal: 0.03, -0.01\n",
      "[INFO] [1682102671.896193]: Distance to goal: 0.03, -0.01\n",
      "[INFO] [1682102672.098145]: Distance to goal: 0.03, -0.01\n",
      "[INFO] [1682102672.302721]: Distance to goal: 0.02, -0.01\n",
      "[INFO] [1682102672.505252]: Distance to goal: 0.02, -0.01\n",
      "[INFO] [1682102672.708440]: Distance to goal: 0.02, -0.01\n",
      "[INFO] [1682102672.912691]: Distance to goal: 0.02, -0.00\n",
      "[INFO] [1682102673.117848]: Distance to goal: 0.01, -0.00\n",
      "[INFO] [1682102673.321694]: Distance to goal: 0.01, -0.00\n",
      "[INFO] [1682102673.523935]: Distance to goal: 0.01, 0.00\n",
      "[INFO] [1682102673.726522]: Distance to goal: 0.01, 0.00\n"
     ]
    },
    {
     "data": {
      "text/plain": [
       "True"
      ]
     },
     "execution_count": 52,
     "metadata": {},
     "output_type": "execute_result"
    }
   ],
   "source": [
    "#import tf2_ros\n",
    "arm.move_hand_to_target(THRESHOLD=0.01)"
   ]
  },
  {
   "cell_type": "code",
   "execution_count": 53,
   "metadata": {},
   "outputs": [
    {
     "name": "stdout",
     "output_type": "stream",
     "text": [
      "[0.23000097243709725, -2.0903535280188854, 1.654656305749569e-06, -1.1200016302849658, 8.010822381621097e-05]\n"
     ]
    }
   ],
   "source": [
    "acp = arm.get_joint_values()\n",
    "acp[0]-=0.04\n",
    "print(acp)"
   ]
  },
  {
   "cell_type": "code",
   "execution_count": 54,
   "metadata": {},
   "outputs": [],
   "source": [
    "gripper.open()"
   ]
  },
  {
   "cell_type": "code",
   "execution_count": 55,
   "metadata": {},
   "outputs": [
    {
     "data": {
      "text/plain": [
       "True"
      ]
     },
     "execution_count": 55,
     "metadata": {},
     "output_type": "execute_result"
    }
   ],
   "source": [
    "arm.set_joint_values(acp)"
   ]
  },
  {
   "cell_type": "code",
   "execution_count": 56,
   "metadata": {},
   "outputs": [
    {
     "data": {
      "text/plain": [
       "True"
      ]
     },
     "execution_count": 56,
     "metadata": {},
     "output_type": "execute_result"
    }
   ],
   "source": [
    "gripper.close()\n",
    "acp = arm.get_joint_values()\n",
    "acp[0] += 0.07\n",
    "arm.set_joint_values(acp)"
   ]
  },
  {
   "cell_type": "code",
   "execution_count": 57,
   "metadata": {},
   "outputs": [
    {
     "data": {
      "text/plain": [
       "True"
      ]
     },
     "execution_count": 57,
     "metadata": {},
     "output_type": "execute_result"
    }
   ],
   "source": [
    "arm.set_joint_values()"
   ]
  },
  {
   "cell_type": "code",
   "execution_count": 24,
   "metadata": {},
   "outputs": [],
   "source": [
    "arm.set_named_target('neutral')"
   ]
  },
  {
   "cell_type": "code",
   "execution_count": 46,
   "metadata": {},
   "outputs": [],
   "source": [
    "gripper.open()"
   ]
  },
  {
   "cell_type": "code",
   "execution_count": 58,
   "metadata": {},
   "outputs": [],
   "source": [
    "gripper.steady()"
   ]
  },
  {
   "cell_type": "code",
   "execution_count": 1,
   "metadata": {},
   "outputs": [],
   "source": [
    "import rospy\n",
    "from utils.misc_utils import *\n",
    "from utils.grasp_utils import *\n",
    "\n",
    "rospy.init_node('tf')\n",
    "\n",
    "tf_man = TF()\n",
    "head = HEAD()\n",
    "arm = ARM()"
   ]
  },
  {
   "cell_type": "code",
   "execution_count": 4,
   "metadata": {},
   "outputs": [],
   "source": [
    "succ, trans, rot = tf_man.getTF(target = '/hand_palm_link')"
   ]
  },
  {
   "cell_type": "code",
   "execution_count": 5,
   "metadata": {
    "scrolled": false
   },
   "outputs": [
    {
     "data": {
      "text/plain": [
       "[0.1641931855765989, 0.07435092090753424, 0.8254969847184105]"
      ]
     },
     "execution_count": 5,
     "metadata": {},
     "output_type": "execute_result"
    }
   ],
   "source": [
    "trans"
   ]
  },
  {
   "cell_type": "code",
   "execution_count": 9,
   "metadata": {
    "scrolled": true
   },
   "outputs": [
    {
     "data": {
      "text/plain": [
       "True"
      ]
     },
     "execution_count": 9,
     "metadata": {},
     "output_type": "execute_result"
    }
   ],
   "source": [
    "tf_man.pubTF(pos= [1,20,1],TF_name = \"prueba\")"
   ]
  },
  {
   "cell_type": "code",
   "execution_count": 7,
   "metadata": {},
   "outputs": [
    {
     "name": "stderr",
     "output_type": "stream",
     "text": [
      "Warning: TF_REPEATED_DATA ignoring data with redundant timestamp for frame odom at time 2602.048000 according to authority /pose_integrator\n",
      "         at line 278 in /tmp/binarydeb/ros-noetic-tf2-0.7.6/src/buffer_core.cpp\n"
     ]
    },
    {
     "data": {
      "text/plain": [
       "True"
      ]
     },
     "execution_count": 7,
     "metadata": {},
     "output_type": "execute_result"
    }
   ],
   "source": [
    "tf_man.changeRefFrameTF(TF_name = \"prueba\", new_ref= 'hand_palm_link')"
   ]
  },
  {
   "cell_type": "code",
   "execution_count": 25,
   "metadata": {},
   "outputs": [
    {
     "name": "stderr",
     "output_type": "stream",
     "text": [
      "Warning: TF_REPEATED_DATA ignoring data with redundant timestamp for frame odom at time 2613.863000 according to authority /pose_integrator\n",
      "         at line 278 in /tmp/binarydeb/ros-noetic-tf2-0.7.6/src/buffer_core.cpp\n"
     ]
    }
   ],
   "source": [
    "succ, trans, rot = tf_man.getTF(target = '/prueba')"
   ]
  },
  {
   "cell_type": "code",
   "execution_count": 26,
   "metadata": {},
   "outputs": [
    {
     "data": {
      "text/plain": [
       "False"
      ]
     },
     "execution_count": 26,
     "metadata": {},
     "output_type": "execute_result"
    },
    {
     "name": "stderr",
     "output_type": "stream",
     "text": [
      "Warning: TF_REPEATED_DATA ignoring data with redundant timestamp for frame odom at time 2615.939000 according to authority /pose_integrator\n",
      "         at line 278 in /tmp/binarydeb/ros-noetic-tf2-0.7.6/src/buffer_core.cpp\n",
      "Warning: TF_REPEATED_DATA ignoring data with redundant timestamp for frame odom at time 2619.286000 according to authority /pose_integrator\n",
      "         at line 278 in /tmp/binarydeb/ros-noetic-tf2-0.7.6/src/buffer_core.cpp\n",
      "Warning: TF_REPEATED_DATA ignoring data with redundant timestamp for frame odom at time 2625.620000 according to authority /pose_integrator\n",
      "         at line 278 in /tmp/binarydeb/ros-noetic-tf2-0.7.6/src/buffer_core.cpp\n",
      "Warning: TF_REPEATED_DATA ignoring data with redundant timestamp for frame odom at time 2625.713000 according to authority /pose_integrator\n",
      "         at line 278 in /tmp/binarydeb/ros-noetic-tf2-0.7.6/src/buffer_core.cpp\n",
      "Warning: TF_REPEATED_DATA ignoring data with redundant timestamp for frame odom at time 2625.792000 according to authority /pose_integrator\n",
      "         at line 278 in /tmp/binarydeb/ros-noetic-tf2-0.7.6/src/buffer_core.cpp\n",
      "Warning: TF_REPEATED_DATA ignoring data with redundant timestamp for frame odom at time 2627.383000 according to authority /pose_integrator\n",
      "         at line 278 in /tmp/binarydeb/ros-noetic-tf2-0.7.6/src/buffer_core.cpp\n",
      "Warning: TF_REPEATED_DATA ignoring data with redundant timestamp for frame odom at time 2632.772000 according to authority /pose_integrator\n",
      "         at line 278 in /tmp/binarydeb/ros-noetic-tf2-0.7.6/src/buffer_core.cpp\n",
      "Warning: TF_REPEATED_DATA ignoring data with redundant timestamp for frame odom at time 2633.338000 according to authority /pose_integrator\n",
      "         at line 278 in /tmp/binarydeb/ros-noetic-tf2-0.7.6/src/buffer_core.cpp\n",
      "Warning: TF_REPEATED_DATA ignoring data with redundant timestamp for frame odom at time 2639.985000 according to authority /pose_integrator\n",
      "         at line 278 in /tmp/binarydeb/ros-noetic-tf2-0.7.6/src/buffer_core.cpp\n",
      "Warning: TF_REPEATED_DATA ignoring data with redundant timestamp for frame odom at time 2646.451000 according to authority /pose_integrator\n",
      "         at line 278 in /tmp/binarydeb/ros-noetic-tf2-0.7.6/src/buffer_core.cpp\n",
      "Warning: TF_REPEATED_DATA ignoring data with redundant timestamp for frame odom at time 2654.825000 according to authority /pose_integrator\n",
      "         at line 278 in /tmp/binarydeb/ros-noetic-tf2-0.7.6/src/buffer_core.cpp\n",
      "Warning: TF_REPEATED_DATA ignoring data with redundant timestamp for frame odom at time 2659.749000 according to authority /pose_integrator\n",
      "         at line 278 in /tmp/binarydeb/ros-noetic-tf2-0.7.6/src/buffer_core.cpp\n",
      "Warning: TF_REPEATED_DATA ignoring data with redundant timestamp for frame odom at time 2665.807000 according to authority /pose_integrator\n",
      "         at line 278 in /tmp/binarydeb/ros-noetic-tf2-0.7.6/src/buffer_core.cpp\n",
      "Warning: TF_REPEATED_DATA ignoring data with redundant timestamp for frame odom at time 2666.415000 according to authority /pose_integrator\n",
      "         at line 278 in /tmp/binarydeb/ros-noetic-tf2-0.7.6/src/buffer_core.cpp\n",
      "Warning: TF_REPEATED_DATA ignoring data with redundant timestamp for frame odom at time 2669.636000 according to authority /pose_integrator\n",
      "         at line 278 in /tmp/binarydeb/ros-noetic-tf2-0.7.6/src/buffer_core.cpp\n",
      "Warning: TF_REPEATED_DATA ignoring data with redundant timestamp for frame odom at time 2672.773000 according to authority /pose_integrator\n",
      "         at line 278 in /tmp/binarydeb/ros-noetic-tf2-0.7.6/src/buffer_core.cpp\n",
      "Warning: TF_REPEATED_DATA ignoring data with redundant timestamp for frame odom at time 2673.501000 according to authority /pose_integrator\n",
      "         at line 278 in /tmp/binarydeb/ros-noetic-tf2-0.7.6/src/buffer_core.cpp\n",
      "Warning: TF_REPEATED_DATA ignoring data with redundant timestamp for frame odom at time 2679.426000 according to authority /pose_integrator\n",
      "         at line 278 in /tmp/binarydeb/ros-noetic-tf2-0.7.6/src/buffer_core.cpp\n",
      "Warning: TF_REPEATED_DATA ignoring data with redundant timestamp for frame odom at time 2688.318000 according to authority /pose_integrator\n",
      "         at line 278 in /tmp/binarydeb/ros-noetic-tf2-0.7.6/src/buffer_core.cpp\n",
      "Warning: TF_REPEATED_DATA ignoring data with redundant timestamp for frame odom at time 2690.050000 according to authority /pose_integrator\n",
      "         at line 278 in /tmp/binarydeb/ros-noetic-tf2-0.7.6/src/buffer_core.cpp\n",
      "Warning: TF_REPEATED_DATA ignoring data with redundant timestamp for frame odom at time 2694.179000 according to authority /pose_integrator\n",
      "         at line 278 in /tmp/binarydeb/ros-noetic-tf2-0.7.6/src/buffer_core.cpp\n",
      "Warning: TF_REPEATED_DATA ignoring data with redundant timestamp for frame odom at time 2698.978000 according to authority /pose_integrator\n",
      "         at line 278 in /tmp/binarydeb/ros-noetic-tf2-0.7.6/src/buffer_core.cpp\n",
      "Warning: TF_REPEATED_DATA ignoring data with redundant timestamp for frame odom at time 2700.748000 according to authority /pose_integrator\n",
      "         at line 278 in /tmp/binarydeb/ros-noetic-tf2-0.7.6/src/buffer_core.cpp\n",
      "Warning: TF_REPEATED_DATA ignoring data with redundant timestamp for frame odom at time 2703.369000 according to authority /pose_integrator\n",
      "         at line 278 in /tmp/binarydeb/ros-noetic-tf2-0.7.6/src/buffer_core.cpp\n",
      "Warning: TF_REPEATED_DATA ignoring data with redundant timestamp for frame odom at time 2703.847000 according to authority /pose_integrator\n",
      "         at line 278 in /tmp/binarydeb/ros-noetic-tf2-0.7.6/src/buffer_core.cpp\n",
      "Warning: TF_REPEATED_DATA ignoring data with redundant timestamp for frame odom at time 2714.322000 according to authority /pose_integrator\n",
      "         at line 278 in /tmp/binarydeb/ros-noetic-tf2-0.7.6/src/buffer_core.cpp\n",
      "Warning: TF_REPEATED_DATA ignoring data with redundant timestamp for frame odom at time 2717.197000 according to authority /pose_integrator\n",
      "         at line 278 in /tmp/binarydeb/ros-noetic-tf2-0.7.6/src/buffer_core.cpp\n",
      "Warning: TF_REPEATED_DATA ignoring data with redundant timestamp for frame odom at time 2722.553000 according to authority /pose_integrator\n",
      "         at line 278 in /tmp/binarydeb/ros-noetic-tf2-0.7.6/src/buffer_core.cpp\n",
      "Warning: TF_REPEATED_DATA ignoring data with redundant timestamp for frame odom at time 2722.620000 according to authority /pose_integrator\n",
      "         at line 278 in /tmp/binarydeb/ros-noetic-tf2-0.7.6/src/buffer_core.cpp\n",
      "Warning: TF_REPEATED_DATA ignoring data with redundant timestamp for frame odom at time 2722.754000 according to authority /pose_integrator\n",
      "         at line 278 in /tmp/binarydeb/ros-noetic-tf2-0.7.6/src/buffer_core.cpp\n",
      "Warning: TF_REPEATED_DATA ignoring data with redundant timestamp for frame odom at time 2726.196000 according to authority /pose_integrator\n",
      "         at line 278 in /tmp/binarydeb/ros-noetic-tf2-0.7.6/src/buffer_core.cpp\n",
      "Warning: TF_REPEATED_DATA ignoring data with redundant timestamp for frame odom at time 2732.520000 according to authority /pose_integrator\n",
      "         at line 278 in /tmp/binarydeb/ros-noetic-tf2-0.7.6/src/buffer_core.cpp\n",
      "Warning: TF_REPEATED_DATA ignoring data with redundant timestamp for frame odom at time 2738.113000 according to authority /pose_integrator\n",
      "         at line 278 in /tmp/binarydeb/ros-noetic-tf2-0.7.6/src/buffer_core.cpp\n",
      "Warning: TF_REPEATED_DATA ignoring data with redundant timestamp for frame odom at time 2739.571000 according to authority /pose_integrator\n",
      "         at line 278 in /tmp/binarydeb/ros-noetic-tf2-0.7.6/src/buffer_core.cpp\n",
      "Warning: TF_REPEATED_DATA ignoring data with redundant timestamp for frame odom at time 2740.973000 according to authority /pose_integrator\n",
      "         at line 278 in /tmp/binarydeb/ros-noetic-tf2-0.7.6/src/buffer_core.cpp\n",
      "Warning: TF_REPEATED_DATA ignoring data with redundant timestamp for frame odom at time 2741.353000 according to authority /pose_integrator\n",
      "         at line 278 in /tmp/binarydeb/ros-noetic-tf2-0.7.6/src/buffer_core.cpp\n",
      "Warning: TF_REPEATED_DATA ignoring data with redundant timestamp for frame odom at time 2745.264000 according to authority /pose_integrator\n",
      "         at line 278 in /tmp/binarydeb/ros-noetic-tf2-0.7.6/src/buffer_core.cpp\n",
      "Warning: TF_REPEATED_DATA ignoring data with redundant timestamp for frame odom at time 2745.334000 according to authority /pose_integrator\n",
      "         at line 278 in /tmp/binarydeb/ros-noetic-tf2-0.7.6/src/buffer_core.cpp\n"
     ]
    },
    {
     "name": "stderr",
     "output_type": "stream",
     "text": [
      "Warning: TF_REPEATED_DATA ignoring data with redundant timestamp for frame odom at time 2745.564000 according to authority /pose_integrator\n",
      "         at line 278 in /tmp/binarydeb/ros-noetic-tf2-0.7.6/src/buffer_core.cpp\n",
      "Warning: TF_REPEATED_DATA ignoring data with redundant timestamp for frame odom at time 2746.832000 according to authority /pose_integrator\n",
      "         at line 278 in /tmp/binarydeb/ros-noetic-tf2-0.7.6/src/buffer_core.cpp\n",
      "Warning: TF_REPEATED_DATA ignoring data with redundant timestamp for frame odom at time 2748.194000 according to authority /pose_integrator\n",
      "         at line 278 in /tmp/binarydeb/ros-noetic-tf2-0.7.6/src/buffer_core.cpp\n",
      "Warning: TF_REPEATED_DATA ignoring data with redundant timestamp for frame odom at time 2752.159000 according to authority /pose_integrator\n",
      "         at line 278 in /tmp/binarydeb/ros-noetic-tf2-0.7.6/src/buffer_core.cpp\n",
      "Warning: TF_REPEATED_DATA ignoring data with redundant timestamp for frame odom at time 2767.649000 according to authority /pose_integrator\n",
      "         at line 278 in /tmp/binarydeb/ros-noetic-tf2-0.7.6/src/buffer_core.cpp\n",
      "Warning: TF_REPEATED_DATA ignoring data with redundant timestamp for frame odom at time 2770.711000 according to authority /pose_integrator\n",
      "         at line 278 in /tmp/binarydeb/ros-noetic-tf2-0.7.6/src/buffer_core.cpp\n",
      "Warning: TF_REPEATED_DATA ignoring data with redundant timestamp for frame odom at time 2770.905000 according to authority /pose_integrator\n",
      "         at line 278 in /tmp/binarydeb/ros-noetic-tf2-0.7.6/src/buffer_core.cpp\n",
      "Warning: TF_REPEATED_DATA ignoring data with redundant timestamp for frame odom at time 2775.845000 according to authority /pose_integrator\n",
      "         at line 278 in /tmp/binarydeb/ros-noetic-tf2-0.7.6/src/buffer_core.cpp\n",
      "Warning: TF_REPEATED_DATA ignoring data with redundant timestamp for frame odom at time 2781.092000 according to authority /pose_integrator\n",
      "         at line 278 in /tmp/binarydeb/ros-noetic-tf2-0.7.6/src/buffer_core.cpp\n",
      "Warning: TF_REPEATED_DATA ignoring data with redundant timestamp for frame odom at time 2781.728000 according to authority /pose_integrator\n",
      "         at line 278 in /tmp/binarydeb/ros-noetic-tf2-0.7.6/src/buffer_core.cpp\n",
      "Warning: TF_REPEATED_DATA ignoring data with redundant timestamp for frame odom at time 2785.267000 according to authority /pose_integrator\n",
      "         at line 278 in /tmp/binarydeb/ros-noetic-tf2-0.7.6/src/buffer_core.cpp\n",
      "Warning: TF_REPEATED_DATA ignoring data with redundant timestamp for frame odom at time 2785.603000 according to authority /pose_integrator\n",
      "         at line 278 in /tmp/binarydeb/ros-noetic-tf2-0.7.6/src/buffer_core.cpp\n",
      "Warning: TF_REPEATED_DATA ignoring data with redundant timestamp for frame odom at time 2786.835000 according to authority /pose_integrator\n",
      "         at line 278 in /tmp/binarydeb/ros-noetic-tf2-0.7.6/src/buffer_core.cpp\n",
      "Warning: TF_REPEATED_DATA ignoring data with redundant timestamp for frame odom at time 2796.886000 according to authority /pose_integrator\n",
      "         at line 278 in /tmp/binarydeb/ros-noetic-tf2-0.7.6/src/buffer_core.cpp\n",
      "Warning: TF_REPEATED_DATA ignoring data with redundant timestamp for frame odom at time 2799.789000 according to authority /pose_integrator\n",
      "         at line 278 in /tmp/binarydeb/ros-noetic-tf2-0.7.6/src/buffer_core.cpp\n",
      "Warning: TF_REPEATED_DATA ignoring data with redundant timestamp for frame odom at time 2804.515000 according to authority /pose_integrator\n",
      "         at line 278 in /tmp/binarydeb/ros-noetic-tf2-0.7.6/src/buffer_core.cpp\n",
      "Warning: TF_REPEATED_DATA ignoring data with redundant timestamp for frame odom at time 2804.785000 according to authority /pose_integrator\n",
      "         at line 278 in /tmp/binarydeb/ros-noetic-tf2-0.7.6/src/buffer_core.cpp\n",
      "Warning: TF_REPEATED_DATA ignoring data with redundant timestamp for frame odom at time 2808.172000 according to authority /pose_integrator\n",
      "         at line 278 in /tmp/binarydeb/ros-noetic-tf2-0.7.6/src/buffer_core.cpp\n",
      "Warning: TF_REPEATED_DATA ignoring data with redundant timestamp for frame odom at time 2814.770000 according to authority /pose_integrator\n",
      "         at line 278 in /tmp/binarydeb/ros-noetic-tf2-0.7.6/src/buffer_core.cpp\n",
      "Warning: TF_REPEATED_DATA ignoring data with redundant timestamp for frame odom at time 2821.498000 according to authority /pose_integrator\n",
      "         at line 278 in /tmp/binarydeb/ros-noetic-tf2-0.7.6/src/buffer_core.cpp\n",
      "Warning: TF_REPEATED_DATA ignoring data with redundant timestamp for frame odom at time 2827.124000 according to authority /pose_integrator\n",
      "         at line 278 in /tmp/binarydeb/ros-noetic-tf2-0.7.6/src/buffer_core.cpp\n",
      "Warning: TF_REPEATED_DATA ignoring data with redundant timestamp for frame odom at time 2828.795000 according to authority /pose_integrator\n",
      "         at line 278 in /tmp/binarydeb/ros-noetic-tf2-0.7.6/src/buffer_core.cpp\n",
      "Warning: TF_REPEATED_DATA ignoring data with redundant timestamp for frame odom at time 2830.285000 according to authority /pose_integrator\n",
      "         at line 278 in /tmp/binarydeb/ros-noetic-tf2-0.7.6/src/buffer_core.cpp\n",
      "Warning: TF_REPEATED_DATA ignoring data with redundant timestamp for frame odom at time 2833.747000 according to authority /pose_integrator\n",
      "         at line 278 in /tmp/binarydeb/ros-noetic-tf2-0.7.6/src/buffer_core.cpp\n",
      "Warning: TF_REPEATED_DATA ignoring data with redundant timestamp for frame odom at time 2845.713000 according to authority /pose_integrator\n",
      "         at line 278 in /tmp/binarydeb/ros-noetic-tf2-0.7.6/src/buffer_core.cpp\n",
      "Warning: TF_REPEATED_DATA ignoring data with redundant timestamp for frame odom at time 2851.663000 according to authority /pose_integrator\n",
      "         at line 278 in /tmp/binarydeb/ros-noetic-tf2-0.7.6/src/buffer_core.cpp\n",
      "Warning: TF_REPEATED_DATA ignoring data with redundant timestamp for frame odom at time 2854.441000 according to authority /pose_integrator\n",
      "         at line 278 in /tmp/binarydeb/ros-noetic-tf2-0.7.6/src/buffer_core.cpp\n",
      "Warning: TF_REPEATED_DATA ignoring data with redundant timestamp for frame odom at time 2863.918000 according to authority /pose_integrator\n",
      "         at line 278 in /tmp/binarydeb/ros-noetic-tf2-0.7.6/src/buffer_core.cpp\n",
      "Warning: TF_REPEATED_DATA ignoring data with redundant timestamp for frame odom at time 2864.320000 according to authority /pose_integrator\n",
      "         at line 278 in /tmp/binarydeb/ros-noetic-tf2-0.7.6/src/buffer_core.cpp\n",
      "Warning: TF_REPEATED_DATA ignoring data with redundant timestamp for frame odom at time 2864.387000 according to authority /pose_integrator\n",
      "         at line 278 in /tmp/binarydeb/ros-noetic-tf2-0.7.6/src/buffer_core.cpp\n",
      "Warning: TF_REPEATED_DATA ignoring data with redundant timestamp for frame odom at time 2867.348000 according to authority /pose_integrator\n",
      "         at line 278 in /tmp/binarydeb/ros-noetic-tf2-0.7.6/src/buffer_core.cpp\n",
      "Warning: TF_REPEATED_DATA ignoring data with redundant timestamp for frame odom at time 2869.613000 according to authority /pose_integrator\n",
      "         at line 278 in /tmp/binarydeb/ros-noetic-tf2-0.7.6/src/buffer_core.cpp\n",
      "Warning: TF_REPEATED_DATA ignoring data with redundant timestamp for frame odom at time 2870.845000 according to authority /pose_integrator\n",
      "         at line 278 in /tmp/binarydeb/ros-noetic-tf2-0.7.6/src/buffer_core.cpp\n",
      "Warning: TF_REPEATED_DATA ignoring data with redundant timestamp for frame odom at time 2870.946000 according to authority /pose_integrator\n",
      "         at line 278 in /tmp/binarydeb/ros-noetic-tf2-0.7.6/src/buffer_core.cpp\n",
      "Warning: TF_REPEATED_DATA ignoring data with redundant timestamp for frame odom at time 2874.125000 according to authority /pose_integrator\n",
      "         at line 278 in /tmp/binarydeb/ros-noetic-tf2-0.7.6/src/buffer_core.cpp\n",
      "Warning: TF_REPEATED_DATA ignoring data with redundant timestamp for frame odom at time 2875.178000 according to authority /pose_integrator\n",
      "         at line 278 in /tmp/binarydeb/ros-noetic-tf2-0.7.6/src/buffer_core.cpp\n",
      "Warning: TF_REPEATED_DATA ignoring data with redundant timestamp for frame odom at time 2876.440000 according to authority /pose_integrator\n",
      "         at line 278 in /tmp/binarydeb/ros-noetic-tf2-0.7.6/src/buffer_core.cpp\n",
      "Warning: TF_REPEATED_DATA ignoring data with redundant timestamp for frame odom at time 2886.699000 according to authority /pose_integrator\n",
      "         at line 278 in /tmp/binarydeb/ros-noetic-tf2-0.7.6/src/buffer_core.cpp\n"
     ]
    },
    {
     "name": "stderr",
     "output_type": "stream",
     "text": [
      "Warning: TF_REPEATED_DATA ignoring data with redundant timestamp for frame odom at time 2888.744000 according to authority /pose_integrator\n",
      "         at line 278 in /tmp/binarydeb/ros-noetic-tf2-0.7.6/src/buffer_core.cpp\n",
      "Warning: TF_REPEATED_DATA ignoring data with redundant timestamp for frame odom at time 2890.145000 according to authority /pose_integrator\n",
      "         at line 278 in /tmp/binarydeb/ros-noetic-tf2-0.7.6/src/buffer_core.cpp\n",
      "Warning: TF_REPEATED_DATA ignoring data with redundant timestamp for frame odom at time 2892.730000 according to authority /pose_integrator\n",
      "         at line 278 in /tmp/binarydeb/ros-noetic-tf2-0.7.6/src/buffer_core.cpp\n",
      "Warning: TF_REPEATED_DATA ignoring data with redundant timestamp for frame odom at time 2893.712000 according to authority /pose_integrator\n",
      "         at line 278 in /tmp/binarydeb/ros-noetic-tf2-0.7.6/src/buffer_core.cpp\n",
      "Warning: TF_REPEATED_DATA ignoring data with redundant timestamp for frame odom at time 2894.004000 according to authority /pose_integrator\n",
      "         at line 278 in /tmp/binarydeb/ros-noetic-tf2-0.7.6/src/buffer_core.cpp\n",
      "Warning: TF_REPEATED_DATA ignoring data with redundant timestamp for frame odom at time 2897.460000 according to authority /pose_integrator\n",
      "         at line 278 in /tmp/binarydeb/ros-noetic-tf2-0.7.6/src/buffer_core.cpp\n",
      "Warning: TF_REPEATED_DATA ignoring data with redundant timestamp for frame odom at time 2901.855000 according to authority /pose_integrator\n",
      "         at line 278 in /tmp/binarydeb/ros-noetic-tf2-0.7.6/src/buffer_core.cpp\n",
      "Warning: TF_REPEATED_DATA ignoring data with redundant timestamp for frame odom at time 2901.931000 according to authority /pose_integrator\n",
      "         at line 278 in /tmp/binarydeb/ros-noetic-tf2-0.7.6/src/buffer_core.cpp\n",
      "Warning: TF_REPEATED_DATA ignoring data with redundant timestamp for frame odom at time 2903.140000 according to authority /pose_integrator\n",
      "         at line 278 in /tmp/binarydeb/ros-noetic-tf2-0.7.6/src/buffer_core.cpp\n",
      "Warning: TF_REPEATED_DATA ignoring data with redundant timestamp for frame odom at time 2909.680000 according to authority /pose_integrator\n",
      "         at line 278 in /tmp/binarydeb/ros-noetic-tf2-0.7.6/src/buffer_core.cpp\n",
      "Warning: TF_REPEATED_DATA ignoring data with redundant timestamp for frame odom at time 2911.061000 according to authority /pose_integrator\n",
      "         at line 278 in /tmp/binarydeb/ros-noetic-tf2-0.7.6/src/buffer_core.cpp\n",
      "Warning: TF_REPEATED_DATA ignoring data with redundant timestamp for frame odom at time 2912.804000 according to authority /pose_integrator\n",
      "         at line 278 in /tmp/binarydeb/ros-noetic-tf2-0.7.6/src/buffer_core.cpp\n",
      "Warning: TF_REPEATED_DATA ignoring data with redundant timestamp for frame odom at time 2913.166000 according to authority /pose_integrator\n",
      "         at line 278 in /tmp/binarydeb/ros-noetic-tf2-0.7.6/src/buffer_core.cpp\n",
      "Warning: TF_REPEATED_DATA ignoring data with redundant timestamp for frame odom at time 2916.700000 according to authority /pose_integrator\n",
      "         at line 278 in /tmp/binarydeb/ros-noetic-tf2-0.7.6/src/buffer_core.cpp\n",
      "Warning: TF_REPEATED_DATA ignoring data with redundant timestamp for frame odom at time 2920.753000 according to authority /pose_integrator\n",
      "         at line 278 in /tmp/binarydeb/ros-noetic-tf2-0.7.6/src/buffer_core.cpp\n",
      "Warning: TF_REPEATED_DATA ignoring data with redundant timestamp for frame odom at time 2923.955000 according to authority /pose_integrator\n",
      "         at line 278 in /tmp/binarydeb/ros-noetic-tf2-0.7.6/src/buffer_core.cpp\n",
      "Warning: TF_REPEATED_DATA ignoring data with redundant timestamp for frame odom at time 2929.680000 according to authority /pose_integrator\n",
      "         at line 278 in /tmp/binarydeb/ros-noetic-tf2-0.7.6/src/buffer_core.cpp\n",
      "Warning: TF_REPEATED_DATA ignoring data with redundant timestamp for frame odom at time 2936.320000 according to authority /pose_integrator\n",
      "         at line 278 in /tmp/binarydeb/ros-noetic-tf2-0.7.6/src/buffer_core.cpp\n",
      "Warning: TF_REPEATED_DATA ignoring data with redundant timestamp for frame odom at time 2942.043000 according to authority /pose_integrator\n",
      "         at line 278 in /tmp/binarydeb/ros-noetic-tf2-0.7.6/src/buffer_core.cpp\n",
      "Warning: TF_REPEATED_DATA ignoring data with redundant timestamp for frame odom at time 2949.294000 according to authority /pose_integrator\n",
      "         at line 278 in /tmp/binarydeb/ros-noetic-tf2-0.7.6/src/buffer_core.cpp\n",
      "Warning: TF_REPEATED_DATA ignoring data with redundant timestamp for frame odom at time 2955.271000 according to authority /pose_integrator\n",
      "         at line 278 in /tmp/binarydeb/ros-noetic-tf2-0.7.6/src/buffer_core.cpp\n",
      "Warning: TF_REPEATED_DATA ignoring data with redundant timestamp for frame odom at time 2958.985000 according to authority /pose_integrator\n",
      "         at line 278 in /tmp/binarydeb/ros-noetic-tf2-0.7.6/src/buffer_core.cpp\n",
      "Warning: TF_REPEATED_DATA ignoring data with redundant timestamp for frame odom at time 2963.035000 according to authority /pose_integrator\n",
      "         at line 278 in /tmp/binarydeb/ros-noetic-tf2-0.7.6/src/buffer_core.cpp\n",
      "Warning: TF_REPEATED_DATA ignoring data with redundant timestamp for frame odom at time 2972.511000 according to authority /pose_integrator\n",
      "         at line 278 in /tmp/binarydeb/ros-noetic-tf2-0.7.6/src/buffer_core.cpp\n",
      "Warning: TF_REPEATED_DATA ignoring data with redundant timestamp for frame odom at time 2982.599000 according to authority /pose_integrator\n",
      "         at line 278 in /tmp/binarydeb/ros-noetic-tf2-0.7.6/src/buffer_core.cpp\n",
      "Warning: TF_REPEATED_DATA ignoring data with redundant timestamp for frame odom at time 2989.492000 according to authority /pose_integrator\n",
      "         at line 278 in /tmp/binarydeb/ros-noetic-tf2-0.7.6/src/buffer_core.cpp\n",
      "Warning: TF_REPEATED_DATA ignoring data with redundant timestamp for frame odom at time 2994.428000 according to authority /pose_integrator\n",
      "         at line 278 in /tmp/binarydeb/ros-noetic-tf2-0.7.6/src/buffer_core.cpp\n",
      "Warning: TF_REPEATED_DATA ignoring data with redundant timestamp for frame odom at time 3004.637000 according to authority /pose_integrator\n",
      "         at line 278 in /tmp/binarydeb/ros-noetic-tf2-0.7.6/src/buffer_core.cpp\n",
      "Warning: TF_REPEATED_DATA ignoring data with redundant timestamp for frame odom at time 3005.343000 according to authority /pose_integrator\n",
      "         at line 278 in /tmp/binarydeb/ros-noetic-tf2-0.7.6/src/buffer_core.cpp\n",
      "Warning: TF_REPEATED_DATA ignoring data with redundant timestamp for frame odom at time 3007.768000 according to authority /pose_integrator\n",
      "         at line 278 in /tmp/binarydeb/ros-noetic-tf2-0.7.6/src/buffer_core.cpp\n",
      "Warning: TF_REPEATED_DATA ignoring data with redundant timestamp for frame odom at time 3010.003000 according to authority /pose_integrator\n",
      "         at line 278 in /tmp/binarydeb/ros-noetic-tf2-0.7.6/src/buffer_core.cpp\n",
      "Warning: TF_REPEATED_DATA ignoring data with redundant timestamp for frame odom at time 3015.959000 according to authority /pose_integrator\n",
      "         at line 278 in /tmp/binarydeb/ros-noetic-tf2-0.7.6/src/buffer_core.cpp\n",
      "Warning: TF_REPEATED_DATA ignoring data with redundant timestamp for frame odom at time 3018.410000 according to authority /pose_integrator\n",
      "         at line 278 in /tmp/binarydeb/ros-noetic-tf2-0.7.6/src/buffer_core.cpp\n",
      "Warning: TF_REPEATED_DATA ignoring data with redundant timestamp for frame odom at time 3024.315000 according to authority /pose_integrator\n",
      "         at line 278 in /tmp/binarydeb/ros-noetic-tf2-0.7.6/src/buffer_core.cpp\n",
      "Warning: TF_REPEATED_DATA ignoring data with redundant timestamp for frame odom at time 3029.518000 according to authority /pose_integrator\n",
      "         at line 278 in /tmp/binarydeb/ros-noetic-tf2-0.7.6/src/buffer_core.cpp\n",
      "Warning: TF_REPEATED_DATA ignoring data with redundant timestamp for frame odom at time 3031.946000 according to authority /pose_integrator\n",
      "         at line 278 in /tmp/binarydeb/ros-noetic-tf2-0.7.6/src/buffer_core.cpp\n",
      "Warning: TF_REPEATED_DATA ignoring data with redundant timestamp for frame odom at time 3034.805000 according to authority /pose_integrator\n",
      "         at line 278 in /tmp/binarydeb/ros-noetic-tf2-0.7.6/src/buffer_core.cpp\n",
      "Warning: TF_REPEATED_DATA ignoring data with redundant timestamp for frame odom at time 3034.926000 according to authority /pose_integrator\n",
      "         at line 278 in /tmp/binarydeb/ros-noetic-tf2-0.7.6/src/buffer_core.cpp\n"
     ]
    },
    {
     "name": "stderr",
     "output_type": "stream",
     "text": [
      "Warning: TF_REPEATED_DATA ignoring data with redundant timestamp for frame odom at time 3036.889000 according to authority /pose_integrator\n",
      "         at line 278 in /tmp/binarydeb/ros-noetic-tf2-0.7.6/src/buffer_core.cpp\n",
      "Warning: TF_REPEATED_DATA ignoring data with redundant timestamp for frame odom at time 3043.916000 according to authority /pose_integrator\n",
      "         at line 278 in /tmp/binarydeb/ros-noetic-tf2-0.7.6/src/buffer_core.cpp\n",
      "Warning: TF_REPEATED_DATA ignoring data with redundant timestamp for frame odom at time 3047.579000 according to authority /pose_integrator\n",
      "         at line 278 in /tmp/binarydeb/ros-noetic-tf2-0.7.6/src/buffer_core.cpp\n",
      "Warning: TF_REPEATED_DATA ignoring data with redundant timestamp for frame odom at time 3049.139000 according to authority /pose_integrator\n",
      "         at line 278 in /tmp/binarydeb/ros-noetic-tf2-0.7.6/src/buffer_core.cpp\n",
      "Warning: TF_REPEATED_DATA ignoring data with redundant timestamp for frame odom at time 3052.887000 according to authority /pose_integrator\n",
      "         at line 278 in /tmp/binarydeb/ros-noetic-tf2-0.7.6/src/buffer_core.cpp\n",
      "Warning: TF_REPEATED_DATA ignoring data with redundant timestamp for frame odom at time 3055.039000 according to authority /pose_integrator\n",
      "         at line 278 in /tmp/binarydeb/ros-noetic-tf2-0.7.6/src/buffer_core.cpp\n",
      "Warning: TF_REPEATED_DATA ignoring data with redundant timestamp for frame odom at time 3058.192000 according to authority /pose_integrator\n",
      "         at line 278 in /tmp/binarydeb/ros-noetic-tf2-0.7.6/src/buffer_core.cpp\n",
      "Warning: TF_REPEATED_DATA ignoring data with redundant timestamp for frame odom at time 3058.280000 according to authority /pose_integrator\n",
      "         at line 278 in /tmp/binarydeb/ros-noetic-tf2-0.7.6/src/buffer_core.cpp\n",
      "Warning: TF_REPEATED_DATA ignoring data with redundant timestamp for frame odom at time 3059.114000 according to authority /pose_integrator\n",
      "         at line 278 in /tmp/binarydeb/ros-noetic-tf2-0.7.6/src/buffer_core.cpp\n",
      "Warning: TF_REPEATED_DATA ignoring data with redundant timestamp for frame odom at time 3066.242000 according to authority /pose_integrator\n",
      "         at line 278 in /tmp/binarydeb/ros-noetic-tf2-0.7.6/src/buffer_core.cpp\n",
      "Warning: TF_REPEATED_DATA ignoring data with redundant timestamp for frame odom at time 3067.045000 according to authority /pose_integrator\n",
      "         at line 278 in /tmp/binarydeb/ros-noetic-tf2-0.7.6/src/buffer_core.cpp\n",
      "Warning: TF_REPEATED_DATA ignoring data with redundant timestamp for frame odom at time 3071.567000 according to authority /pose_integrator\n",
      "         at line 278 in /tmp/binarydeb/ros-noetic-tf2-0.7.6/src/buffer_core.cpp\n",
      "Warning: TF_REPEATED_DATA ignoring data with redundant timestamp for frame odom at time 3072.495000 according to authority /pose_integrator\n",
      "         at line 278 in /tmp/binarydeb/ros-noetic-tf2-0.7.6/src/buffer_core.cpp\n",
      "Warning: TF_REPEATED_DATA ignoring data with redundant timestamp for frame odom at time 3074.821000 according to authority /pose_integrator\n",
      "         at line 278 in /tmp/binarydeb/ros-noetic-tf2-0.7.6/src/buffer_core.cpp\n",
      "Warning: TF_REPEATED_DATA ignoring data with redundant timestamp for frame odom at time 3086.026000 according to authority /pose_integrator\n",
      "         at line 278 in /tmp/binarydeb/ros-noetic-tf2-0.7.6/src/buffer_core.cpp\n",
      "Warning: TF_REPEATED_DATA ignoring data with redundant timestamp for frame odom at time 3089.944000 according to authority /pose_integrator\n",
      "         at line 278 in /tmp/binarydeb/ros-noetic-tf2-0.7.6/src/buffer_core.cpp\n",
      "Warning: TF_REPEATED_DATA ignoring data with redundant timestamp for frame odom at time 3091.914000 according to authority /pose_integrator\n",
      "         at line 278 in /tmp/binarydeb/ros-noetic-tf2-0.7.6/src/buffer_core.cpp\n",
      "Warning: TF_REPEATED_DATA ignoring data with redundant timestamp for frame odom at time 3097.768000 according to authority /pose_integrator\n",
      "         at line 278 in /tmp/binarydeb/ros-noetic-tf2-0.7.6/src/buffer_core.cpp\n",
      "Warning: TF_REPEATED_DATA ignoring data with redundant timestamp for frame odom at time 3104.995000 according to authority /pose_integrator\n",
      "         at line 278 in /tmp/binarydeb/ros-noetic-tf2-0.7.6/src/buffer_core.cpp\n",
      "Warning: TF_REPEATED_DATA ignoring data with redundant timestamp for frame odom at time 3113.121000 according to authority /pose_integrator\n",
      "         at line 278 in /tmp/binarydeb/ros-noetic-tf2-0.7.6/src/buffer_core.cpp\n",
      "Warning: TF_REPEATED_DATA ignoring data with redundant timestamp for frame odom at time 3114.722000 according to authority /pose_integrator\n",
      "         at line 278 in /tmp/binarydeb/ros-noetic-tf2-0.7.6/src/buffer_core.cpp\n",
      "Warning: TF_REPEATED_DATA ignoring data with redundant timestamp for frame odom at time 3118.517000 according to authority /pose_integrator\n",
      "         at line 278 in /tmp/binarydeb/ros-noetic-tf2-0.7.6/src/buffer_core.cpp\n"
     ]
    }
   ],
   "source": [
    "succ"
   ]
  },
  {
   "cell_type": "code",
   "execution_count": 24,
   "metadata": {},
   "outputs": [
    {
     "data": {
      "text/plain": [
       "[0.0, -0.0, 0.0]"
      ]
     },
     "execution_count": 24,
     "metadata": {},
     "output_type": "execute_result"
    }
   ],
   "source": [
    "tf_man.quat_to_eu([0,0,0,1])"
   ]
  },
  {
   "cell_type": "code",
   "execution_count": 3,
   "metadata": {},
   "outputs": [
    {
     "data": {
      "text/plain": [
       "[0.3391637121084278,\n",
       " 0.6346839187697675,\n",
       " -0.5912692919093465,\n",
       " 0.36406719721625946]"
      ]
     },
     "execution_count": 3,
     "metadata": {},
     "output_type": "execute_result"
    },
    {
     "name": "stderr",
     "output_type": "stream",
     "text": [
      "Warning: TF_REPEATED_DATA ignoring data with redundant timestamp for frame odom at time 2577.874000 according to authority /pose_integrator\n",
      "         at line 278 in /tmp/binarydeb/ros-noetic-tf2-0.7.6/src/buffer_core.cpp\n",
      "Warning: TF_REPEATED_DATA ignoring data with redundant timestamp for frame odom at time 2581.600000 according to authority /pose_integrator\n",
      "         at line 278 in /tmp/binarydeb/ros-noetic-tf2-0.7.6/src/buffer_core.cpp\n",
      "Warning: TF_REPEATED_DATA ignoring data with redundant timestamp for frame odom at time 2585.205000 according to authority /pose_integrator\n",
      "         at line 278 in /tmp/binarydeb/ros-noetic-tf2-0.7.6/src/buffer_core.cpp\n",
      "Warning: TF_REPEATED_DATA ignoring data with redundant timestamp for frame odom at time 2593.140000 according to authority /pose_integrator\n",
      "         at line 278 in /tmp/binarydeb/ros-noetic-tf2-0.7.6/src/buffer_core.cpp\n",
      "Warning: TF_REPEATED_DATA ignoring data with redundant timestamp for frame odom at time 2594.393000 according to authority /pose_integrator\n",
      "         at line 278 in /tmp/binarydeb/ros-noetic-tf2-0.7.6/src/buffer_core.cpp\n",
      "Warning: TF_REPEATED_DATA ignoring data with redundant timestamp for frame odom at time 2595.100000 according to authority /pose_integrator\n",
      "         at line 278 in /tmp/binarydeb/ros-noetic-tf2-0.7.6/src/buffer_core.cpp\n",
      "Warning: TF_REPEATED_DATA ignoring data with redundant timestamp for frame odom at time 2602.747000 according to authority /pose_integrator\n",
      "         at line 278 in /tmp/binarydeb/ros-noetic-tf2-0.7.6/src/buffer_core.cpp\n",
      "Warning: TF_REPEATED_DATA ignoring data with redundant timestamp for frame odom at time 2605.091000 according to authority /pose_integrator\n",
      "         at line 278 in /tmp/binarydeb/ros-noetic-tf2-0.7.6/src/buffer_core.cpp\n",
      "Warning: TF_REPEATED_DATA ignoring data with redundant timestamp for frame odom at time 2605.154000 according to authority /pose_integrator\n",
      "         at line 278 in /tmp/binarydeb/ros-noetic-tf2-0.7.6/src/buffer_core.cpp\n",
      "Warning: TF_REPEATED_DATA ignoring data with redundant timestamp for frame odom at time 2613.110000 according to authority /pose_integrator\n",
      "         at line 278 in /tmp/binarydeb/ros-noetic-tf2-0.7.6/src/buffer_core.cpp\n",
      "Warning: TF_REPEATED_DATA ignoring data with redundant timestamp for frame odom at time 2617.800000 according to authority /pose_integrator\n",
      "         at line 278 in /tmp/binarydeb/ros-noetic-tf2-0.7.6/src/buffer_core.cpp\n",
      "Warning: TF_REPEATED_DATA ignoring data with redundant timestamp for frame odom at time 2621.444000 according to authority /pose_integrator\n",
      "         at line 278 in /tmp/binarydeb/ros-noetic-tf2-0.7.6/src/buffer_core.cpp\n",
      "Warning: TF_REPEATED_DATA ignoring data with redundant timestamp for frame odom at time 2626.764000 according to authority /pose_integrator\n",
      "         at line 278 in /tmp/binarydeb/ros-noetic-tf2-0.7.6/src/buffer_core.cpp\n",
      "Warning: TF_REPEATED_DATA ignoring data with redundant timestamp for frame odom at time 2626.863000 according to authority /pose_integrator\n",
      "         at line 278 in /tmp/binarydeb/ros-noetic-tf2-0.7.6/src/buffer_core.cpp\n",
      "Warning: TF_REPEATED_DATA ignoring data with redundant timestamp for frame odom at time 2628.794000 according to authority /pose_integrator\n",
      "         at line 278 in /tmp/binarydeb/ros-noetic-tf2-0.7.6/src/buffer_core.cpp\n",
      "Warning: TF_REPEATED_DATA ignoring data with redundant timestamp for frame odom at time 2630.561000 according to authority /pose_integrator\n",
      "         at line 278 in /tmp/binarydeb/ros-noetic-tf2-0.7.6/src/buffer_core.cpp\n",
      "Warning: TF_REPEATED_DATA ignoring data with redundant timestamp for frame odom at time 2649.271000 according to authority /pose_integrator\n",
      "         at line 278 in /tmp/binarydeb/ros-noetic-tf2-0.7.6/src/buffer_core.cpp\n",
      "Warning: TF_REPEATED_DATA ignoring data with redundant timestamp for frame odom at time 2657.789000 according to authority /pose_integrator\n",
      "         at line 278 in /tmp/binarydeb/ros-noetic-tf2-0.7.6/src/buffer_core.cpp\n",
      "Warning: TF_REPEATED_DATA ignoring data with redundant timestamp for frame odom at time 2660.684000 according to authority /pose_integrator\n",
      "         at line 278 in /tmp/binarydeb/ros-noetic-tf2-0.7.6/src/buffer_core.cpp\n",
      "Warning: TF_REPEATED_DATA ignoring data with redundant timestamp for frame odom at time 2660.808000 according to authority /pose_integrator\n",
      "         at line 278 in /tmp/binarydeb/ros-noetic-tf2-0.7.6/src/buffer_core.cpp\n",
      "Warning: TF_REPEATED_DATA ignoring data with redundant timestamp for frame odom at time 2668.425000 according to authority /pose_integrator\n",
      "         at line 278 in /tmp/binarydeb/ros-noetic-tf2-0.7.6/src/buffer_core.cpp\n",
      "Warning: TF_REPEATED_DATA ignoring data with redundant timestamp for frame odom at time 2669.162000 according to authority /pose_integrator\n",
      "         at line 278 in /tmp/binarydeb/ros-noetic-tf2-0.7.6/src/buffer_core.cpp\n",
      "Warning: TF_REPEATED_DATA ignoring data with redundant timestamp for frame odom at time 2669.233000 according to authority /pose_integrator\n",
      "         at line 278 in /tmp/binarydeb/ros-noetic-tf2-0.7.6/src/buffer_core.cpp\n",
      "Warning: TF_REPEATED_DATA ignoring data with redundant timestamp for frame odom at time 2676.793000 according to authority /pose_integrator\n",
      "         at line 278 in /tmp/binarydeb/ros-noetic-tf2-0.7.6/src/buffer_core.cpp\n",
      "Warning: TF_REPEATED_DATA ignoring data with redundant timestamp for frame odom at time 2678.399000 according to authority /pose_integrator\n",
      "         at line 278 in /tmp/binarydeb/ros-noetic-tf2-0.7.6/src/buffer_core.cpp\n",
      "Warning: TF_REPEATED_DATA ignoring data with redundant timestamp for frame odom at time 2678.549000 according to authority /pose_integrator\n",
      "         at line 278 in /tmp/binarydeb/ros-noetic-tf2-0.7.6/src/buffer_core.cpp\n",
      "Warning: TF_REPEATED_DATA ignoring data with redundant timestamp for frame odom at time 2679.822000 according to authority /pose_integrator\n",
      "         at line 278 in /tmp/binarydeb/ros-noetic-tf2-0.7.6/src/buffer_core.cpp\n",
      "Warning: TF_REPEATED_DATA ignoring data with redundant timestamp for frame odom at time 2684.609000 according to authority /pose_integrator\n",
      "         at line 278 in /tmp/binarydeb/ros-noetic-tf2-0.7.6/src/buffer_core.cpp\n",
      "Warning: TF_REPEATED_DATA ignoring data with redundant timestamp for frame odom at time 2687.850000 according to authority /pose_integrator\n",
      "         at line 278 in /tmp/binarydeb/ros-noetic-tf2-0.7.6/src/buffer_core.cpp\n",
      "Warning: TF_REPEATED_DATA ignoring data with redundant timestamp for frame odom at time 2688.674000 according to authority /pose_integrator\n",
      "         at line 278 in /tmp/binarydeb/ros-noetic-tf2-0.7.6/src/buffer_core.cpp\n",
      "Warning: TF_REPEATED_DATA ignoring data with redundant timestamp for frame odom at time 2692.038000 according to authority /pose_integrator\n",
      "         at line 278 in /tmp/binarydeb/ros-noetic-tf2-0.7.6/src/buffer_core.cpp\n",
      "Warning: TF_REPEATED_DATA ignoring data with redundant timestamp for frame odom at time 2694.137000 according to authority /pose_integrator\n",
      "         at line 278 in /tmp/binarydeb/ros-noetic-tf2-0.7.6/src/buffer_core.cpp\n",
      "Warning: TF_REPEATED_DATA ignoring data with redundant timestamp for frame odom at time 2696.263000 according to authority /pose_integrator\n",
      "         at line 278 in /tmp/binarydeb/ros-noetic-tf2-0.7.6/src/buffer_core.cpp\n",
      "Warning: TF_REPEATED_DATA ignoring data with redundant timestamp for frame odom at time 2704.192000 according to authority /pose_integrator\n",
      "         at line 278 in /tmp/binarydeb/ros-noetic-tf2-0.7.6/src/buffer_core.cpp\n",
      "Warning: TF_REPEATED_DATA ignoring data with redundant timestamp for frame odom at time 2714.152000 according to authority /pose_integrator\n",
      "         at line 278 in /tmp/binarydeb/ros-noetic-tf2-0.7.6/src/buffer_core.cpp\n",
      "Warning: TF_REPEATED_DATA ignoring data with redundant timestamp for frame odom at time 2718.333000 according to authority /pose_integrator\n",
      "         at line 278 in /tmp/binarydeb/ros-noetic-tf2-0.7.6/src/buffer_core.cpp\n",
      "Warning: TF_REPEATED_DATA ignoring data with redundant timestamp for frame odom at time 2718.411000 according to authority /pose_integrator\n",
      "         at line 278 in /tmp/binarydeb/ros-noetic-tf2-0.7.6/src/buffer_core.cpp\n",
      "Warning: TF_REPEATED_DATA ignoring data with redundant timestamp for frame odom at time 2719.439000 according to authority /pose_integrator\n",
      "         at line 278 in /tmp/binarydeb/ros-noetic-tf2-0.7.6/src/buffer_core.cpp\n"
     ]
    },
    {
     "name": "stderr",
     "output_type": "stream",
     "text": [
      "Warning: TF_REPEATED_DATA ignoring data with redundant timestamp for frame odom at time 2725.898000 according to authority /pose_integrator\n",
      "         at line 278 in /tmp/binarydeb/ros-noetic-tf2-0.7.6/src/buffer_core.cpp\n",
      "Warning: TF_REPEATED_DATA ignoring data with redundant timestamp for frame odom at time 2730.561000 according to authority /pose_integrator\n",
      "         at line 278 in /tmp/binarydeb/ros-noetic-tf2-0.7.6/src/buffer_core.cpp\n",
      "Warning: TF_REPEATED_DATA ignoring data with redundant timestamp for frame odom at time 2733.426000 according to authority /pose_integrator\n",
      "         at line 278 in /tmp/binarydeb/ros-noetic-tf2-0.7.6/src/buffer_core.cpp\n",
      "Warning: TF_REPEATED_DATA ignoring data with redundant timestamp for frame odom at time 2736.189000 according to authority /pose_integrator\n",
      "         at line 278 in /tmp/binarydeb/ros-noetic-tf2-0.7.6/src/buffer_core.cpp\n",
      "Warning: TF_REPEATED_DATA ignoring data with redundant timestamp for frame odom at time 2738.089000 according to authority /pose_integrator\n",
      "         at line 278 in /tmp/binarydeb/ros-noetic-tf2-0.7.6/src/buffer_core.cpp\n",
      "Warning: TF_REPEATED_DATA ignoring data with redundant timestamp for frame odom at time 2739.011000 according to authority /pose_integrator\n",
      "         at line 278 in /tmp/binarydeb/ros-noetic-tf2-0.7.6/src/buffer_core.cpp\n",
      "Warning: TF_REPEATED_DATA ignoring data with redundant timestamp for frame odom at time 2742.207000 according to authority /pose_integrator\n",
      "         at line 278 in /tmp/binarydeb/ros-noetic-tf2-0.7.6/src/buffer_core.cpp\n",
      "Warning: TF_REPEATED_DATA ignoring data with redundant timestamp for frame odom at time 2750.156000 according to authority /pose_integrator\n",
      "         at line 278 in /tmp/binarydeb/ros-noetic-tf2-0.7.6/src/buffer_core.cpp\n",
      "Warning: TF_REPEATED_DATA ignoring data with redundant timestamp for frame odom at time 2751.114000 according to authority /pose_integrator\n",
      "         at line 278 in /tmp/binarydeb/ros-noetic-tf2-0.7.6/src/buffer_core.cpp\n",
      "Warning: TF_REPEATED_DATA ignoring data with redundant timestamp for frame odom at time 2762.430000 according to authority /pose_integrator\n",
      "         at line 278 in /tmp/binarydeb/ros-noetic-tf2-0.7.6/src/buffer_core.cpp\n",
      "Warning: TF_REPEATED_DATA ignoring data with redundant timestamp for frame odom at time 2764.266000 according to authority /pose_integrator\n",
      "         at line 278 in /tmp/binarydeb/ros-noetic-tf2-0.7.6/src/buffer_core.cpp\n",
      "Warning: TF_REPEATED_DATA ignoring data with redundant timestamp for frame odom at time 2765.925000 according to authority /pose_integrator\n",
      "         at line 278 in /tmp/binarydeb/ros-noetic-tf2-0.7.6/src/buffer_core.cpp\n",
      "Warning: TF_REPEATED_DATA ignoring data with redundant timestamp for frame odom at time 2767.329000 according to authority /pose_integrator\n",
      "         at line 278 in /tmp/binarydeb/ros-noetic-tf2-0.7.6/src/buffer_core.cpp\n",
      "Warning: TF_REPEATED_DATA ignoring data with redundant timestamp for frame odom at time 2767.471000 according to authority /pose_integrator\n",
      "         at line 278 in /tmp/binarydeb/ros-noetic-tf2-0.7.6/src/buffer_core.cpp\n",
      "Warning: TF_REPEATED_DATA ignoring data with redundant timestamp for frame odom at time 2767.789000 according to authority /pose_integrator\n",
      "         at line 278 in /tmp/binarydeb/ros-noetic-tf2-0.7.6/src/buffer_core.cpp\n",
      "Warning: TF_REPEATED_DATA ignoring data with redundant timestamp for frame odom at time 2781.607000 according to authority /pose_integrator\n",
      "         at line 278 in /tmp/binarydeb/ros-noetic-tf2-0.7.6/src/buffer_core.cpp\n",
      "Warning: TF_REPEATED_DATA ignoring data with redundant timestamp for frame odom at time 2782.473000 according to authority /pose_integrator\n",
      "         at line 278 in /tmp/binarydeb/ros-noetic-tf2-0.7.6/src/buffer_core.cpp\n",
      "Warning: TF_REPEATED_DATA ignoring data with redundant timestamp for frame odom at time 2785.843000 according to authority /pose_integrator\n",
      "         at line 278 in /tmp/binarydeb/ros-noetic-tf2-0.7.6/src/buffer_core.cpp\n",
      "Warning: TF_REPEATED_DATA ignoring data with redundant timestamp for frame odom at time 2789.629000 according to authority /pose_integrator\n",
      "         at line 278 in /tmp/binarydeb/ros-noetic-tf2-0.7.6/src/buffer_core.cpp\n",
      "Warning: TF_REPEATED_DATA ignoring data with redundant timestamp for frame odom at time 2792.718000 according to authority /pose_integrator\n",
      "         at line 278 in /tmp/binarydeb/ros-noetic-tf2-0.7.6/src/buffer_core.cpp\n",
      "Warning: TF_REPEATED_DATA ignoring data with redundant timestamp for frame odom at time 2795.758000 according to authority /pose_integrator\n",
      "         at line 278 in /tmp/binarydeb/ros-noetic-tf2-0.7.6/src/buffer_core.cpp\n",
      "Warning: TF_REPEATED_DATA ignoring data with redundant timestamp for frame odom at time 2801.365000 according to authority /pose_integrator\n",
      "         at line 278 in /tmp/binarydeb/ros-noetic-tf2-0.7.6/src/buffer_core.cpp\n",
      "Warning: TF_REPEATED_DATA ignoring data with redundant timestamp for frame odom at time 2804.449000 according to authority /pose_integrator\n",
      "         at line 278 in /tmp/binarydeb/ros-noetic-tf2-0.7.6/src/buffer_core.cpp\n",
      "Warning: TF_REPEATED_DATA ignoring data with redundant timestamp for frame odom at time 2806.463000 according to authority /pose_integrator\n",
      "         at line 278 in /tmp/binarydeb/ros-noetic-tf2-0.7.6/src/buffer_core.cpp\n",
      "Warning: TF_REPEATED_DATA ignoring data with redundant timestamp for frame odom at time 2817.686000 according to authority /pose_integrator\n",
      "         at line 278 in /tmp/binarydeb/ros-noetic-tf2-0.7.6/src/buffer_core.cpp\n",
      "Warning: TF_REPEATED_DATA ignoring data with redundant timestamp for frame odom at time 2823.312000 according to authority /pose_integrator\n",
      "         at line 278 in /tmp/binarydeb/ros-noetic-tf2-0.7.6/src/buffer_core.cpp\n",
      "Warning: TF_REPEATED_DATA ignoring data with redundant timestamp for frame odom at time 2831.675000 according to authority /pose_integrator\n",
      "         at line 278 in /tmp/binarydeb/ros-noetic-tf2-0.7.6/src/buffer_core.cpp\n",
      "Warning: TF_REPEATED_DATA ignoring data with redundant timestamp for frame odom at time 2832.789000 according to authority /pose_integrator\n",
      "         at line 278 in /tmp/binarydeb/ros-noetic-tf2-0.7.6/src/buffer_core.cpp\n",
      "Warning: TF_REPEATED_DATA ignoring data with redundant timestamp for frame odom at time 2840.269000 according to authority /pose_integrator\n",
      "         at line 278 in /tmp/binarydeb/ros-noetic-tf2-0.7.6/src/buffer_core.cpp\n",
      "Warning: TF_REPEATED_DATA ignoring data with redundant timestamp for frame odom at time 2842.867000 according to authority /pose_integrator\n",
      "         at line 278 in /tmp/binarydeb/ros-noetic-tf2-0.7.6/src/buffer_core.cpp\n",
      "Warning: TF_REPEATED_DATA ignoring data with redundant timestamp for frame odom at time 2842.930000 according to authority /pose_integrator\n",
      "         at line 278 in /tmp/binarydeb/ros-noetic-tf2-0.7.6/src/buffer_core.cpp\n",
      "Warning: TF_REPEATED_DATA ignoring data with redundant timestamp for frame odom at time 2843.543000 according to authority /pose_integrator\n",
      "         at line 278 in /tmp/binarydeb/ros-noetic-tf2-0.7.6/src/buffer_core.cpp\n",
      "Warning: TF_REPEATED_DATA ignoring data with redundant timestamp for frame odom at time 2852.537000 according to authority /pose_integrator\n",
      "         at line 278 in /tmp/binarydeb/ros-noetic-tf2-0.7.6/src/buffer_core.cpp\n",
      "Warning: TF_REPEATED_DATA ignoring data with redundant timestamp for frame odom at time 2858.636000 according to authority /pose_integrator\n",
      "         at line 278 in /tmp/binarydeb/ros-noetic-tf2-0.7.6/src/buffer_core.cpp\n",
      "Warning: TF_REPEATED_DATA ignoring data with redundant timestamp for frame odom at time 2859.167000 according to authority /pose_integrator\n",
      "         at line 278 in /tmp/binarydeb/ros-noetic-tf2-0.7.6/src/buffer_core.cpp\n",
      "Warning: TF_REPEATED_DATA ignoring data with redundant timestamp for frame odom at time 2866.070000 according to authority /pose_integrator\n",
      "         at line 278 in /tmp/binarydeb/ros-noetic-tf2-0.7.6/src/buffer_core.cpp\n",
      "Warning: TF_REPEATED_DATA ignoring data with redundant timestamp for frame odom at time 2875.159000 according to authority /pose_integrator\n",
      "         at line 278 in /tmp/binarydeb/ros-noetic-tf2-0.7.6/src/buffer_core.cpp\n",
      "Warning: TF_REPEATED_DATA ignoring data with redundant timestamp for frame odom at time 2877.313000 according to authority /pose_integrator\n",
      "         at line 278 in /tmp/binarydeb/ros-noetic-tf2-0.7.6/src/buffer_core.cpp\n"
     ]
    },
    {
     "name": "stderr",
     "output_type": "stream",
     "text": [
      "Warning: TF_REPEATED_DATA ignoring data with redundant timestamp for frame odom at time 2888.240000 according to authority /pose_integrator\n",
      "         at line 278 in /tmp/binarydeb/ros-noetic-tf2-0.7.6/src/buffer_core.cpp\n",
      "Warning: TF_REPEATED_DATA ignoring data with redundant timestamp for frame odom at time 2888.346000 according to authority /pose_integrator\n",
      "         at line 278 in /tmp/binarydeb/ros-noetic-tf2-0.7.6/src/buffer_core.cpp\n",
      "Warning: TF_REPEATED_DATA ignoring data with redundant timestamp for frame odom at time 2892.997000 according to authority /pose_integrator\n",
      "         at line 278 in /tmp/binarydeb/ros-noetic-tf2-0.7.6/src/buffer_core.cpp\n",
      "Warning: TF_REPEATED_DATA ignoring data with redundant timestamp for frame odom at time 2893.161000 according to authority /pose_integrator\n",
      "         at line 278 in /tmp/binarydeb/ros-noetic-tf2-0.7.6/src/buffer_core.cpp\n",
      "Warning: TF_REPEATED_DATA ignoring data with redundant timestamp for frame odom at time 2893.284000 according to authority /pose_integrator\n",
      "         at line 278 in /tmp/binarydeb/ros-noetic-tf2-0.7.6/src/buffer_core.cpp\n",
      "Warning: TF_REPEATED_DATA ignoring data with redundant timestamp for frame odom at time 2904.192000 according to authority /pose_integrator\n",
      "         at line 278 in /tmp/binarydeb/ros-noetic-tf2-0.7.6/src/buffer_core.cpp\n",
      "Warning: TF_REPEATED_DATA ignoring data with redundant timestamp for frame odom at time 2905.684000 according to authority /pose_integrator\n",
      "         at line 278 in /tmp/binarydeb/ros-noetic-tf2-0.7.6/src/buffer_core.cpp\n",
      "Warning: TF_REPEATED_DATA ignoring data with redundant timestamp for frame odom at time 2909.153000 according to authority /pose_integrator\n",
      "         at line 278 in /tmp/binarydeb/ros-noetic-tf2-0.7.6/src/buffer_core.cpp\n",
      "Warning: TF_REPEATED_DATA ignoring data with redundant timestamp for frame odom at time 2916.472000 according to authority /pose_integrator\n",
      "         at line 278 in /tmp/binarydeb/ros-noetic-tf2-0.7.6/src/buffer_core.cpp\n",
      "Warning: TF_REPEATED_DATA ignoring data with redundant timestamp for frame odom at time 2920.436000 according to authority /pose_integrator\n",
      "         at line 278 in /tmp/binarydeb/ros-noetic-tf2-0.7.6/src/buffer_core.cpp\n",
      "Warning: TF_REPEATED_DATA ignoring data with redundant timestamp for frame odom at time 2925.104000 according to authority /pose_integrator\n",
      "         at line 278 in /tmp/binarydeb/ros-noetic-tf2-0.7.6/src/buffer_core.cpp\n",
      "Warning: TF_REPEATED_DATA ignoring data with redundant timestamp for frame odom at time 2925.740000 according to authority /pose_integrator\n",
      "         at line 278 in /tmp/binarydeb/ros-noetic-tf2-0.7.6/src/buffer_core.cpp\n",
      "Warning: TF_REPEATED_DATA ignoring data with redundant timestamp for frame odom at time 2931.132000 according to authority /pose_integrator\n",
      "         at line 278 in /tmp/binarydeb/ros-noetic-tf2-0.7.6/src/buffer_core.cpp\n",
      "Warning: TF_REPEATED_DATA ignoring data with redundant timestamp for frame odom at time 2933.025000 according to authority /pose_integrator\n",
      "         at line 278 in /tmp/binarydeb/ros-noetic-tf2-0.7.6/src/buffer_core.cpp\n",
      "Warning: TF_REPEATED_DATA ignoring data with redundant timestamp for frame odom at time 2939.857000 according to authority /pose_integrator\n",
      "         at line 278 in /tmp/binarydeb/ros-noetic-tf2-0.7.6/src/buffer_core.cpp\n",
      "Warning: TF_REPEATED_DATA ignoring data with redundant timestamp for frame odom at time 2944.592000 according to authority /pose_integrator\n",
      "         at line 278 in /tmp/binarydeb/ros-noetic-tf2-0.7.6/src/buffer_core.cpp\n",
      "Warning: TF_REPEATED_DATA ignoring data with redundant timestamp for frame odom at time 2950.250000 according to authority /pose_integrator\n",
      "         at line 278 in /tmp/binarydeb/ros-noetic-tf2-0.7.6/src/buffer_core.cpp\n",
      "Warning: TF_REPEATED_DATA ignoring data with redundant timestamp for frame odom at time 2950.926000 according to authority /pose_integrator\n",
      "         at line 278 in /tmp/binarydeb/ros-noetic-tf2-0.7.6/src/buffer_core.cpp\n",
      "Warning: TF_REPEATED_DATA ignoring data with redundant timestamp for frame odom at time 2953.912000 according to authority /pose_integrator\n",
      "         at line 278 in /tmp/binarydeb/ros-noetic-tf2-0.7.6/src/buffer_core.cpp\n",
      "Warning: TF_REPEATED_DATA ignoring data with redundant timestamp for frame odom at time 2958.676000 according to authority /pose_integrator\n",
      "         at line 278 in /tmp/binarydeb/ros-noetic-tf2-0.7.6/src/buffer_core.cpp\n",
      "Warning: TF_REPEATED_DATA ignoring data with redundant timestamp for frame odom at time 2958.751000 according to authority /pose_integrator\n",
      "         at line 278 in /tmp/binarydeb/ros-noetic-tf2-0.7.6/src/buffer_core.cpp\n",
      "Warning: TF_REPEATED_DATA ignoring data with redundant timestamp for frame odom at time 2961.410000 according to authority /pose_integrator\n",
      "         at line 278 in /tmp/binarydeb/ros-noetic-tf2-0.7.6/src/buffer_core.cpp\n",
      "Warning: TF_REPEATED_DATA ignoring data with redundant timestamp for frame odom at time 2963.235000 according to authority /pose_integrator\n",
      "         at line 278 in /tmp/binarydeb/ros-noetic-tf2-0.7.6/src/buffer_core.cpp\n",
      "Warning: TF_REPEATED_DATA ignoring data with redundant timestamp for frame odom at time 2974.497000 according to authority /pose_integrator\n",
      "         at line 278 in /tmp/binarydeb/ros-noetic-tf2-0.7.6/src/buffer_core.cpp\n",
      "Warning: TF_REPEATED_DATA ignoring data with redundant timestamp for frame odom at time 2978.921000 according to authority /pose_integrator\n",
      "         at line 278 in /tmp/binarydeb/ros-noetic-tf2-0.7.6/src/buffer_core.cpp\n",
      "Warning: TF_REPEATED_DATA ignoring data with redundant timestamp for frame odom at time 2979.954000 according to authority /pose_integrator\n",
      "         at line 278 in /tmp/binarydeb/ros-noetic-tf2-0.7.6/src/buffer_core.cpp\n",
      "Warning: TF_REPEATED_DATA ignoring data with redundant timestamp for frame odom at time 2981.755000 according to authority /pose_integrator\n",
      "         at line 278 in /tmp/binarydeb/ros-noetic-tf2-0.7.6/src/buffer_core.cpp\n",
      "Warning: TF_REPEATED_DATA ignoring data with redundant timestamp for frame odom at time 2987.081000 according to authority /pose_integrator\n",
      "         at line 278 in /tmp/binarydeb/ros-noetic-tf2-0.7.6/src/buffer_core.cpp\n",
      "Warning: TF_REPEATED_DATA ignoring data with redundant timestamp for frame odom at time 2991.555000 according to authority /pose_integrator\n",
      "         at line 278 in /tmp/binarydeb/ros-noetic-tf2-0.7.6/src/buffer_core.cpp\n",
      "Warning: TF_REPEATED_DATA ignoring data with redundant timestamp for frame odom at time 3000.482000 according to authority /pose_integrator\n",
      "         at line 278 in /tmp/binarydeb/ros-noetic-tf2-0.7.6/src/buffer_core.cpp\n",
      "Warning: TF_REPEATED_DATA ignoring data with redundant timestamp for frame odom at time 3001.114000 according to authority /pose_integrator\n",
      "         at line 278 in /tmp/binarydeb/ros-noetic-tf2-0.7.6/src/buffer_core.cpp\n",
      "Warning: TF_REPEATED_DATA ignoring data with redundant timestamp for frame odom at time 3001.413000 according to authority /pose_integrator\n",
      "         at line 278 in /tmp/binarydeb/ros-noetic-tf2-0.7.6/src/buffer_core.cpp\n",
      "Warning: TF_REPEATED_DATA ignoring data with redundant timestamp for frame odom at time 3004.125000 according to authority /pose_integrator\n",
      "         at line 278 in /tmp/binarydeb/ros-noetic-tf2-0.7.6/src/buffer_core.cpp\n",
      "Warning: TF_REPEATED_DATA ignoring data with redundant timestamp for frame odom at time 3005.008000 according to authority /pose_integrator\n",
      "         at line 278 in /tmp/binarydeb/ros-noetic-tf2-0.7.6/src/buffer_core.cpp\n",
      "Warning: TF_REPEATED_DATA ignoring data with redundant timestamp for frame odom at time 3005.854000 according to authority /pose_integrator\n",
      "         at line 278 in /tmp/binarydeb/ros-noetic-tf2-0.7.6/src/buffer_core.cpp\n",
      "Warning: TF_REPEATED_DATA ignoring data with redundant timestamp for frame odom at time 3006.116000 according to authority /pose_integrator\n",
      "         at line 278 in /tmp/binarydeb/ros-noetic-tf2-0.7.6/src/buffer_core.cpp\n",
      "Warning: TF_REPEATED_DATA ignoring data with redundant timestamp for frame odom at time 3016.902000 according to authority /pose_integrator\n",
      "         at line 278 in /tmp/binarydeb/ros-noetic-tf2-0.7.6/src/buffer_core.cpp\n",
      "Warning: TF_REPEATED_DATA ignoring data with redundant timestamp for frame odom at time 3020.133000 according to authority /pose_integrator\n",
      "         at line 278 in /tmp/binarydeb/ros-noetic-tf2-0.7.6/src/buffer_core.cpp\n"
     ]
    },
    {
     "name": "stderr",
     "output_type": "stream",
     "text": [
      "Warning: TF_REPEATED_DATA ignoring data with redundant timestamp for frame odom at time 3034.986000 according to authority /pose_integrator\n",
      "         at line 278 in /tmp/binarydeb/ros-noetic-tf2-0.7.6/src/buffer_core.cpp\n",
      "Warning: TF_REPEATED_DATA ignoring data with redundant timestamp for frame odom at time 3044.912000 according to authority /pose_integrator\n",
      "         at line 278 in /tmp/binarydeb/ros-noetic-tf2-0.7.6/src/buffer_core.cpp\n",
      "Warning: TF_REPEATED_DATA ignoring data with redundant timestamp for frame odom at time 3049.615000 according to authority /pose_integrator\n",
      "         at line 278 in /tmp/binarydeb/ros-noetic-tf2-0.7.6/src/buffer_core.cpp\n",
      "Warning: TF_REPEATED_DATA ignoring data with redundant timestamp for frame odom at time 3055.365000 according to authority /pose_integrator\n",
      "         at line 278 in /tmp/binarydeb/ros-noetic-tf2-0.7.6/src/buffer_core.cpp\n",
      "Warning: TF_REPEATED_DATA ignoring data with redundant timestamp for frame odom at time 3059.575000 according to authority /pose_integrator\n",
      "         at line 278 in /tmp/binarydeb/ros-noetic-tf2-0.7.6/src/buffer_core.cpp\n",
      "Warning: TF_REPEATED_DATA ignoring data with redundant timestamp for frame odom at time 3062.341000 according to authority /pose_integrator\n",
      "         at line 278 in /tmp/binarydeb/ros-noetic-tf2-0.7.6/src/buffer_core.cpp\n",
      "Warning: TF_REPEATED_DATA ignoring data with redundant timestamp for frame odom at time 3062.401000 according to authority /pose_integrator\n",
      "         at line 278 in /tmp/binarydeb/ros-noetic-tf2-0.7.6/src/buffer_core.cpp\n",
      "Warning: TF_REPEATED_DATA ignoring data with redundant timestamp for frame odom at time 3065.079000 according to authority /pose_integrator\n",
      "         at line 278 in /tmp/binarydeb/ros-noetic-tf2-0.7.6/src/buffer_core.cpp\n",
      "Warning: TF_REPEATED_DATA ignoring data with redundant timestamp for frame odom at time 3065.407000 according to authority /pose_integrator\n",
      "         at line 278 in /tmp/binarydeb/ros-noetic-tf2-0.7.6/src/buffer_core.cpp\n",
      "Warning: TF_REPEATED_DATA ignoring data with redundant timestamp for frame odom at time 3067.870000 according to authority /pose_integrator\n",
      "         at line 278 in /tmp/binarydeb/ros-noetic-tf2-0.7.6/src/buffer_core.cpp\n",
      "Warning: TF_REPEATED_DATA ignoring data with redundant timestamp for frame odom at time 3068.860000 according to authority /pose_integrator\n",
      "         at line 278 in /tmp/binarydeb/ros-noetic-tf2-0.7.6/src/buffer_core.cpp\n"
     ]
    }
   ],
   "source": [
    "tf_man.eu_to_quat([1.5,2.1,0.0])"
   ]
  },
  {
   "cell_type": "code",
   "execution_count": 2,
   "metadata": {
    "scrolled": true
   },
   "outputs": [
    {
     "name": "stderr",
     "output_type": "stream",
     "text": [
      "Warning: TF_REPEATED_DATA ignoring data with redundant timestamp for frame odom at time 3125.444000 according to authority /pose_integrator\n",
      "         at line 278 in /tmp/binarydeb/ros-noetic-tf2-0.7.6/src/buffer_core.cpp\n",
      "Warning: TF_REPEATED_DATA ignoring data with redundant timestamp for frame odom at time 3125.444000 according to authority /pose_integrator\n",
      "         at line 278 in /tmp/binarydeb/ros-noetic-tf2-0.7.6/src/buffer_core.cpp\n",
      "Warning: TF_REPEATED_DATA ignoring data with redundant timestamp for frame odom at time 3125.444000 according to authority /pose_integrator\n",
      "         at line 278 in /tmp/binarydeb/ros-noetic-tf2-0.7.6/src/buffer_core.cpp\n",
      "Warning: TF_REPEATED_DATA ignoring data with redundant timestamp for frame odom at time 3125.444000 according to authority /pose_integrator\n",
      "         at line 278 in /tmp/binarydeb/ros-noetic-tf2-0.7.6/src/buffer_core.cpp\n",
      "Warning: TF_REPEATED_DATA ignoring data with redundant timestamp for frame odom at time 3125.544000 according to authority /pose_integrator\n",
      "         at line 278 in /tmp/binarydeb/ros-noetic-tf2-0.7.6/src/buffer_core.cpp\n",
      "Warning: TF_REPEATED_DATA ignoring data with redundant timestamp for frame odom at time 3125.544000 according to authority /pose_integrator\n",
      "         at line 278 in /tmp/binarydeb/ros-noetic-tf2-0.7.6/src/buffer_core.cpp\n",
      "Warning: TF_REPEATED_DATA ignoring data with redundant timestamp for frame odom at time 3125.544000 according to authority /pose_integrator\n",
      "         at line 278 in /tmp/binarydeb/ros-noetic-tf2-0.7.6/src/buffer_core.cpp\n",
      "Warning: TF_REPEATED_DATA ignoring data with redundant timestamp for frame odom at time 3125.544000 according to authority /pose_integrator\n",
      "         at line 278 in /tmp/binarydeb/ros-noetic-tf2-0.7.6/src/buffer_core.cpp\n",
      "Warning: TF_REPEATED_DATA ignoring data with redundant timestamp for frame odom at time 3126.142000 according to authority /pose_integrator\n",
      "         at line 278 in /tmp/binarydeb/ros-noetic-tf2-0.7.6/src/buffer_core.cpp\n",
      "Warning: TF_REPEATED_DATA ignoring data with redundant timestamp for frame odom at time 3126.142000 according to authority /pose_integrator\n",
      "         at line 278 in /tmp/binarydeb/ros-noetic-tf2-0.7.6/src/buffer_core.cpp\n",
      "Warning: TF_REPEATED_DATA ignoring data with redundant timestamp for frame odom at time 3126.142000 according to authority /pose_integrator\n",
      "         at line 278 in /tmp/binarydeb/ros-noetic-tf2-0.7.6/src/buffer_core.cpp\n",
      "Warning: TF_REPEATED_DATA ignoring data with redundant timestamp for frame odom at time 3126.142000 according to authority /pose_integrator\n",
      "         at line 278 in /tmp/binarydeb/ros-noetic-tf2-0.7.6/src/buffer_core.cpp\n",
      "Warning: TF_REPEATED_DATA ignoring data with redundant timestamp for frame odom at time 3127.589000 according to authority /pose_integrator\n",
      "         at line 278 in /tmp/binarydeb/ros-noetic-tf2-0.7.6/src/buffer_core.cpp\n",
      "Warning: TF_REPEATED_DATA ignoring data with redundant timestamp for frame odom at time 3127.589000 according to authority /pose_integrator\n",
      "         at line 278 in /tmp/binarydeb/ros-noetic-tf2-0.7.6/src/buffer_core.cpp\n",
      "Warning: TF_REPEATED_DATA ignoring data with redundant timestamp for frame odom at time 3127.589000 according to authority /pose_integrator\n",
      "         at line 278 in /tmp/binarydeb/ros-noetic-tf2-0.7.6/src/buffer_core.cpp\n",
      "Warning: TF_REPEATED_DATA ignoring data with redundant timestamp for frame odom at time 3127.589000 according to authority /pose_integrator\n",
      "         at line 278 in /tmp/binarydeb/ros-noetic-tf2-0.7.6/src/buffer_core.cpp\n",
      "Warning: TF_REPEATED_DATA ignoring data with redundant timestamp for frame odom at time 3133.241000 according to authority /pose_integrator\n",
      "         at line 278 in /tmp/binarydeb/ros-noetic-tf2-0.7.6/src/buffer_core.cpp\n",
      "Warning: TF_REPEATED_DATA ignoring data with redundant timestamp for frame odom at time 3133.241000 according to authority /pose_integrator\n",
      "         at line 278 in /tmp/binarydeb/ros-noetic-tf2-0.7.6/src/buffer_core.cpp\n",
      "Warning: TF_REPEATED_DATA ignoring data with redundant timestamp for frame odom at time 3133.241000 according to authority /pose_integrator\n",
      "         at line 278 in /tmp/binarydeb/ros-noetic-tf2-0.7.6/src/buffer_core.cpp\n",
      "Warning: TF_REPEATED_DATA ignoring data with redundant timestamp for frame odom at time 3133.241000 according to authority /pose_integrator\n",
      "         at line 278 in /tmp/binarydeb/ros-noetic-tf2-0.7.6/src/buffer_core.cpp\n",
      "Warning: TF_REPEATED_DATA ignoring data with redundant timestamp for frame odom at time 3134.605000 according to authority /pose_integrator\n",
      "         at line 278 in /tmp/binarydeb/ros-noetic-tf2-0.7.6/src/buffer_core.cpp\n",
      "Warning: TF_REPEATED_DATA ignoring data with redundant timestamp for frame odom at time 3134.605000 according to authority /pose_integrator\n",
      "         at line 278 in /tmp/binarydeb/ros-noetic-tf2-0.7.6/src/buffer_core.cpp\n",
      "Warning: TF_REPEATED_DATA ignoring data with redundant timestamp for frame odom at time 3134.605000 according to authority /pose_integrator\n",
      "         at line 278 in /tmp/binarydeb/ros-noetic-tf2-0.7.6/src/buffer_core.cpp\n",
      "Warning: TF_REPEATED_DATA ignoring data with redundant timestamp for frame odom at time 3134.605000 according to authority /pose_integrator\n",
      "         at line 278 in /tmp/binarydeb/ros-noetic-tf2-0.7.6/src/buffer_core.cpp\n"
     ]
    }
   ],
   "source": [
    "arm.set_named_target('go')"
   ]
  },
  {
   "cell_type": "code",
   "execution_count": 5,
   "metadata": {
    "scrolled": true
   },
   "outputs": [],
   "source": [
    "head.to_tf('prueba')"
   ]
  },
  {
   "cell_type": "code",
   "execution_count": 10,
   "metadata": {},
   "outputs": [
    {
     "name": "stderr",
     "output_type": "stream",
     "text": [
      "Warning: TF_REPEATED_DATA ignoring data with redundant timestamp for frame odom at time 3266.162000 according to authority /pose_integrator\n",
      "         at line 278 in /tmp/binarydeb/ros-noetic-tf2-0.7.6/src/buffer_core.cpp\n",
      "Warning: TF_REPEATED_DATA ignoring data with redundant timestamp for frame odom at time 3266.162000 according to authority /pose_integrator\n",
      "         at line 278 in /tmp/binarydeb/ros-noetic-tf2-0.7.6/src/buffer_core.cpp\n",
      "Warning: TF_REPEATED_DATA ignoring data with redundant timestamp for frame odom at time 3266.162000 according to authority /pose_integrator\n",
      "         at line 278 in /tmp/binarydeb/ros-noetic-tf2-0.7.6/src/buffer_core.cpp\n",
      "Warning: TF_REPEATED_DATA ignoring data with redundant timestamp for frame odom at time 3266.162000 according to authority /pose_integrator\n",
      "         at line 278 in /tmp/binarydeb/ros-noetic-tf2-0.7.6/src/buffer_core.cpp\n",
      "Warning: TF_REPEATED_DATA ignoring data with redundant timestamp for frame odom at time 3266.162000 according to authority /pose_integrator\n",
      "         at line 278 in /tmp/binarydeb/ros-noetic-tf2-0.7.6/src/buffer_core.cpp\n",
      "Warning: TF_REPEATED_DATA ignoring data with redundant timestamp for frame odom at time 3266.162000 according to authority /pose_integrator\n",
      "         at line 278 in /tmp/binarydeb/ros-noetic-tf2-0.7.6/src/buffer_core.cpp\n",
      "Warning: TF_REPEATED_DATA ignoring data with redundant timestamp for frame odom at time 3266.162000 according to authority /pose_integrator\n",
      "         at line 278 in /tmp/binarydeb/ros-noetic-tf2-0.7.6/src/buffer_core.cpp\n",
      "Warning: TF_REPEATED_DATA ignoring data with redundant timestamp for frame odom at time 3266.341000 according to authority /pose_integrator\n",
      "         at line 278 in /tmp/binarydeb/ros-noetic-tf2-0.7.6/src/buffer_core.cpp\n",
      "Warning: TF_REPEATED_DATA ignoring data with redundant timestamp for frame odom at time 3266.341000 according to authority /pose_integrator\n",
      "         at line 278 in /tmp/binarydeb/ros-noetic-tf2-0.7.6/src/buffer_core.cpp\n",
      "Warning: TF_REPEATED_DATA ignoring data with redundant timestamp for frame odom at time 3266.341000 according to authority /pose_integrator\n",
      "         at line 278 in /tmp/binarydeb/ros-noetic-tf2-0.7.6/src/buffer_core.cpp\n",
      "Warning: TF_REPEATED_DATA ignoring data with redundant timestamp for frame odom at time 3266.341000 according to authority /pose_integrator\n",
      "         at line 278 in /tmp/binarydeb/ros-noetic-tf2-0.7.6/src/buffer_core.cpp\n",
      "Warning: TF_REPEATED_DATA ignoring data with redundant timestamp for frame odom at time 3266.341000 according to authority /pose_integrator\n",
      "         at line 278 in /tmp/binarydeb/ros-noetic-tf2-0.7.6/src/buffer_core.cpp\n",
      "Warning: TF_REPEATED_DATA ignoring data with redundant timestamp for frame odom at time 3266.341000 according to authority /pose_integrator\n",
      "         at line 278 in /tmp/binarydeb/ros-noetic-tf2-0.7.6/src/buffer_core.cpp\n",
      "Warning: TF_REPEATED_DATA ignoring data with redundant timestamp for frame odom at time 3266.341000 according to authority /pose_integrator\n",
      "         at line 278 in /tmp/binarydeb/ros-noetic-tf2-0.7.6/src/buffer_core.cpp\n",
      "Warning: TF_REPEATED_DATA ignoring data with redundant timestamp for frame odom at time 3266.949000 according to authority /pose_integrator\n",
      "         at line 278 in /tmp/binarydeb/ros-noetic-tf2-0.7.6/src/buffer_core.cpp\n",
      "Warning: TF_REPEATED_DATA ignoring data with redundant timestamp for frame odom at time 3266.949000 according to authority /pose_integrator\n",
      "         at line 278 in /tmp/binarydeb/ros-noetic-tf2-0.7.6/src/buffer_core.cpp\n",
      "Warning: TF_REPEATED_DATA ignoring data with redundant timestamp for frame odom at time 3266.949000 according to authority /pose_integrator\n",
      "         at line 278 in /tmp/binarydeb/ros-noetic-tf2-0.7.6/src/buffer_core.cpp\n",
      "Warning: TF_REPEATED_DATA ignoring data with redundant timestamp for frame odom at time 3266.949000 according to authority /pose_integrator\n",
      "         at line 278 in /tmp/binarydeb/ros-noetic-tf2-0.7.6/src/buffer_core.cpp\n",
      "Warning: TF_REPEATED_DATA ignoring data with redundant timestamp for frame odom at time 3266.949000 according to authority /pose_integrator\n",
      "         at line 278 in /tmp/binarydeb/ros-noetic-tf2-0.7.6/src/buffer_core.cpp\n",
      "Warning: TF_REPEATED_DATA ignoring data with redundant timestamp for frame odom at time 3266.949000 according to authority /pose_integrator\n",
      "         at line 278 in /tmp/binarydeb/ros-noetic-tf2-0.7.6/src/buffer_core.cpp\n",
      "Warning: TF_REPEATED_DATA ignoring data with redundant timestamp for frame odom at time 3266.949000 according to authority /pose_integrator\n",
      "         at line 278 in /tmp/binarydeb/ros-noetic-tf2-0.7.6/src/buffer_core.cpp\n",
      "Warning: TF_REPEATED_DATA ignoring data with redundant timestamp for frame odom at time 3269.093000 according to authority /pose_integrator\n",
      "         at line 278 in /tmp/binarydeb/ros-noetic-tf2-0.7.6/src/buffer_core.cpp\n",
      "Warning: TF_REPEATED_DATA ignoring data with redundant timestamp for frame odom at time 3269.093000 according to authority /pose_integrator\n",
      "         at line 278 in /tmp/binarydeb/ros-noetic-tf2-0.7.6/src/buffer_core.cpp\n",
      "Warning: TF_REPEATED_DATA ignoring data with redundant timestamp for frame odom at time 3269.093000 according to authority /pose_integrator\n",
      "         at line 278 in /tmp/binarydeb/ros-noetic-tf2-0.7.6/src/buffer_core.cpp\n",
      "Warning: TF_REPEATED_DATA ignoring data with redundant timestamp for frame odom at time 3269.093000 according to authority /pose_integrator\n",
      "         at line 278 in /tmp/binarydeb/ros-noetic-tf2-0.7.6/src/buffer_core.cpp\n",
      "Warning: TF_REPEATED_DATA ignoring data with redundant timestamp for frame odom at time 3269.093000 according to authority /pose_integrator\n",
      "         at line 278 in /tmp/binarydeb/ros-noetic-tf2-0.7.6/src/buffer_core.cpp\n",
      "Warning: TF_REPEATED_DATA ignoring data with redundant timestamp for frame odom at time 3269.093000 according to authority /pose_integrator\n",
      "         at line 278 in /tmp/binarydeb/ros-noetic-tf2-0.7.6/src/buffer_core.cpp\n",
      "Warning: TF_REPEATED_DATA ignoring data with redundant timestamp for frame odom at time 3269.093000 according to authority /pose_integrator\n",
      "         at line 278 in /tmp/binarydeb/ros-noetic-tf2-0.7.6/src/buffer_core.cpp\n",
      "Warning: TF_REPEATED_DATA ignoring data with redundant timestamp for frame odom at time 3270.219000 according to authority /pose_integrator\n",
      "         at line 278 in /tmp/binarydeb/ros-noetic-tf2-0.7.6/src/buffer_core.cpp\n",
      "Warning: TF_REPEATED_DATA ignoring data with redundant timestamp for frame odom at time 3270.219000 according to authority /pose_integrator\n",
      "         at line 278 in /tmp/binarydeb/ros-noetic-tf2-0.7.6/src/buffer_core.cpp\n",
      "Warning: TF_REPEATED_DATA ignoring data with redundant timestamp for frame odom at time 3270.219000 according to authority /pose_integrator\n",
      "         at line 278 in /tmp/binarydeb/ros-noetic-tf2-0.7.6/src/buffer_core.cpp\n",
      "Warning: TF_REPEATED_DATA ignoring data with redundant timestamp for frame odom at time 3270.219000 according to authority /pose_integrator\n",
      "         at line 278 in /tmp/binarydeb/ros-noetic-tf2-0.7.6/src/buffer_core.cpp\n",
      "Warning: TF_REPEATED_DATA ignoring data with redundant timestamp for frame odom at time 3270.219000 according to authority /pose_integrator\n",
      "         at line 278 in /tmp/binarydeb/ros-noetic-tf2-0.7.6/src/buffer_core.cpp\n",
      "Warning: TF_REPEATED_DATA ignoring data with redundant timestamp for frame odom at time 3270.219000 according to authority /pose_integrator\n",
      "         at line 278 in /tmp/binarydeb/ros-noetic-tf2-0.7.6/src/buffer_core.cpp\n",
      "Warning: TF_REPEATED_DATA ignoring data with redundant timestamp for frame odom at time 3270.219000 according to authority /pose_integrator\n",
      "         at line 278 in /tmp/binarydeb/ros-noetic-tf2-0.7.6/src/buffer_core.cpp\n",
      "Warning: TF_REPEATED_DATA ignoring data with redundant timestamp for frame odom at time 3272.566000 according to authority /pose_integrator\n",
      "         at line 278 in /tmp/binarydeb/ros-noetic-tf2-0.7.6/src/buffer_core.cpp\n",
      "Warning: TF_REPEATED_DATA ignoring data with redundant timestamp for frame odom at time 3272.566000 according to authority /pose_integrator\n",
      "         at line 278 in /tmp/binarydeb/ros-noetic-tf2-0.7.6/src/buffer_core.cpp\n",
      "Warning: TF_REPEATED_DATA ignoring data with redundant timestamp for frame odom at time 3272.566000 according to authority /pose_integrator\n",
      "         at line 278 in /tmp/binarydeb/ros-noetic-tf2-0.7.6/src/buffer_core.cpp\n",
      "Warning: TF_REPEATED_DATA ignoring data with redundant timestamp for frame odom at time 3272.566000 according to authority /pose_integrator\n",
      "         at line 278 in /tmp/binarydeb/ros-noetic-tf2-0.7.6/src/buffer_core.cpp\n",
      "Warning: TF_REPEATED_DATA ignoring data with redundant timestamp for frame odom at time 3272.566000 according to authority /pose_integrator\n",
      "         at line 278 in /tmp/binarydeb/ros-noetic-tf2-0.7.6/src/buffer_core.cpp\n",
      "Warning: TF_REPEATED_DATA ignoring data with redundant timestamp for frame odom at time 3272.566000 according to authority /pose_integrator\n",
      "         at line 278 in /tmp/binarydeb/ros-noetic-tf2-0.7.6/src/buffer_core.cpp\n",
      "Warning: TF_REPEATED_DATA ignoring data with redundant timestamp for frame odom at time 3272.566000 according to authority /pose_integrator\n",
      "         at line 278 in /tmp/binarydeb/ros-noetic-tf2-0.7.6/src/buffer_core.cpp\n"
     ]
    },
    {
     "name": "stderr",
     "output_type": "stream",
     "text": [
      "Warning: TF_REPEATED_DATA ignoring data with redundant timestamp for frame odom at time 3274.413000 according to authority /pose_integrator\n",
      "         at line 278 in /tmp/binarydeb/ros-noetic-tf2-0.7.6/src/buffer_core.cpp\n",
      "Warning: TF_REPEATED_DATA ignoring data with redundant timestamp for frame odom at time 3274.413000 according to authority /pose_integrator\n",
      "         at line 278 in /tmp/binarydeb/ros-noetic-tf2-0.7.6/src/buffer_core.cpp\n",
      "Warning: TF_REPEATED_DATA ignoring data with redundant timestamp for frame odom at time 3274.413000 according to authority /pose_integrator\n",
      "         at line 278 in /tmp/binarydeb/ros-noetic-tf2-0.7.6/src/buffer_core.cpp\n",
      "Warning: TF_REPEATED_DATA ignoring data with redundant timestamp for frame odom at time 3274.413000 according to authority /pose_integrator\n",
      "         at line 278 in /tmp/binarydeb/ros-noetic-tf2-0.7.6/src/buffer_core.cpp\n",
      "Warning: TF_REPEATED_DATA ignoring data with redundant timestamp for frame odom at time 3274.413000 according to authority /pose_integrator\n",
      "         at line 278 in /tmp/binarydeb/ros-noetic-tf2-0.7.6/src/buffer_core.cpp\n",
      "Warning: TF_REPEATED_DATA ignoring data with redundant timestamp for frame odom at time 3274.413000 according to authority /pose_integrator\n",
      "         at line 278 in /tmp/binarydeb/ros-noetic-tf2-0.7.6/src/buffer_core.cpp\n",
      "Warning: TF_REPEATED_DATA ignoring data with redundant timestamp for frame odom at time 3274.413000 according to authority /pose_integrator\n",
      "         at line 278 in /tmp/binarydeb/ros-noetic-tf2-0.7.6/src/buffer_core.cpp\n",
      "Warning: TF_REPEATED_DATA ignoring data with redundant timestamp for frame odom at time 3274.806000 according to authority /pose_integrator\n",
      "         at line 278 in /tmp/binarydeb/ros-noetic-tf2-0.7.6/src/buffer_core.cpp\n",
      "Warning: TF_REPEATED_DATA ignoring data with redundant timestamp for frame odom at time 3274.806000 according to authority /pose_integrator\n",
      "         at line 278 in /tmp/binarydeb/ros-noetic-tf2-0.7.6/src/buffer_core.cpp\n",
      "Warning: TF_REPEATED_DATA ignoring data with redundant timestamp for frame odom at time 3274.806000 according to authority /pose_integrator\n",
      "         at line 278 in /tmp/binarydeb/ros-noetic-tf2-0.7.6/src/buffer_core.cpp\n",
      "Warning: TF_REPEATED_DATA ignoring data with redundant timestamp for frame odom at time 3274.806000 according to authority /pose_integrator\n",
      "         at line 278 in /tmp/binarydeb/ros-noetic-tf2-0.7.6/src/buffer_core.cpp\n",
      "Warning: TF_REPEATED_DATA ignoring data with redundant timestamp for frame odom at time 3274.806000 according to authority /pose_integrator\n",
      "         at line 278 in /tmp/binarydeb/ros-noetic-tf2-0.7.6/src/buffer_core.cpp\n",
      "Warning: TF_REPEATED_DATA ignoring data with redundant timestamp for frame odom at time 3274.806000 according to authority /pose_integrator\n",
      "         at line 278 in /tmp/binarydeb/ros-noetic-tf2-0.7.6/src/buffer_core.cpp\n",
      "Warning: TF_REPEATED_DATA ignoring data with redundant timestamp for frame odom at time 3274.806000 according to authority /pose_integrator\n",
      "         at line 278 in /tmp/binarydeb/ros-noetic-tf2-0.7.6/src/buffer_core.cpp\n",
      "Warning: TF_REPEATED_DATA ignoring data with redundant timestamp for frame odom at time 3276.256000 according to authority /pose_integrator\n",
      "         at line 278 in /tmp/binarydeb/ros-noetic-tf2-0.7.6/src/buffer_core.cpp\n",
      "Warning: TF_REPEATED_DATA ignoring data with redundant timestamp for frame odom at time 3276.256000 according to authority /pose_integrator\n",
      "         at line 278 in /tmp/binarydeb/ros-noetic-tf2-0.7.6/src/buffer_core.cpp\n",
      "Warning: TF_REPEATED_DATA ignoring data with redundant timestamp for frame odom at time 3276.256000 according to authority /pose_integrator\n",
      "         at line 278 in /tmp/binarydeb/ros-noetic-tf2-0.7.6/src/buffer_core.cpp\n",
      "Warning: TF_REPEATED_DATA ignoring data with redundant timestamp for frame odom at time 3276.256000 according to authority /pose_integrator\n",
      "         at line 278 in /tmp/binarydeb/ros-noetic-tf2-0.7.6/src/buffer_core.cpp\n",
      "Warning: TF_REPEATED_DATA ignoring data with redundant timestamp for frame odom at time 3276.256000 according to authority /pose_integrator\n",
      "         at line 278 in /tmp/binarydeb/ros-noetic-tf2-0.7.6/src/buffer_core.cpp\n",
      "Warning: TF_REPEATED_DATA ignoring data with redundant timestamp for frame odom at time 3276.256000 according to authority /pose_integrator\n",
      "         at line 278 in /tmp/binarydeb/ros-noetic-tf2-0.7.6/src/buffer_core.cpp\n",
      "Warning: TF_REPEATED_DATA ignoring data with redundant timestamp for frame odom at time 3276.256000 according to authority /pose_integrator\n",
      "         at line 278 in /tmp/binarydeb/ros-noetic-tf2-0.7.6/src/buffer_core.cpp\n",
      "Warning: TF_REPEATED_DATA ignoring data with redundant timestamp for frame odom at time 3277.318000 according to authority /pose_integrator\n",
      "         at line 278 in /tmp/binarydeb/ros-noetic-tf2-0.7.6/src/buffer_core.cpp\n",
      "Warning: TF_REPEATED_DATA ignoring data with redundant timestamp for frame odom at time 3277.318000 according to authority /pose_integrator\n",
      "         at line 278 in /tmp/binarydeb/ros-noetic-tf2-0.7.6/src/buffer_core.cpp\n",
      "Warning: TF_REPEATED_DATA ignoring data with redundant timestamp for frame odom at time 3277.318000 according to authority /pose_integrator\n",
      "         at line 278 in /tmp/binarydeb/ros-noetic-tf2-0.7.6/src/buffer_core.cpp\n",
      "Warning: TF_REPEATED_DATA ignoring data with redundant timestamp for frame odom at time 3277.318000 according to authority /pose_integrator\n",
      "         at line 278 in /tmp/binarydeb/ros-noetic-tf2-0.7.6/src/buffer_core.cpp\n",
      "Warning: TF_REPEATED_DATA ignoring data with redundant timestamp for frame odom at time 3277.318000 according to authority /pose_integrator\n",
      "         at line 278 in /tmp/binarydeb/ros-noetic-tf2-0.7.6/src/buffer_core.cpp\n",
      "Warning: TF_REPEATED_DATA ignoring data with redundant timestamp for frame odom at time 3277.318000 according to authority /pose_integrator\n",
      "         at line 278 in /tmp/binarydeb/ros-noetic-tf2-0.7.6/src/buffer_core.cpp\n",
      "Warning: TF_REPEATED_DATA ignoring data with redundant timestamp for frame odom at time 3277.318000 according to authority /pose_integrator\n",
      "         at line 278 in /tmp/binarydeb/ros-noetic-tf2-0.7.6/src/buffer_core.cpp\n",
      "Warning: TF_REPEATED_DATA ignoring data with redundant timestamp for frame odom at time 3282.557000 according to authority /pose_integrator\n",
      "         at line 278 in /tmp/binarydeb/ros-noetic-tf2-0.7.6/src/buffer_core.cpp\n",
      "Warning: TF_REPEATED_DATA ignoring data with redundant timestamp for frame odom at time 3282.557000 according to authority /pose_integrator\n",
      "         at line 278 in /tmp/binarydeb/ros-noetic-tf2-0.7.6/src/buffer_core.cpp\n",
      "Warning: TF_REPEATED_DATA ignoring data with redundant timestamp for frame odom at time 3282.557000 according to authority /pose_integrator\n",
      "         at line 278 in /tmp/binarydeb/ros-noetic-tf2-0.7.6/src/buffer_core.cpp\n",
      "Warning: TF_REPEATED_DATA ignoring data with redundant timestamp for frame odom at time 3282.557000 according to authority /pose_integrator\n",
      "         at line 278 in /tmp/binarydeb/ros-noetic-tf2-0.7.6/src/buffer_core.cpp\n",
      "Warning: TF_REPEATED_DATA ignoring data with redundant timestamp for frame odom at time 3282.557000 according to authority /pose_integrator\n",
      "         at line 278 in /tmp/binarydeb/ros-noetic-tf2-0.7.6/src/buffer_core.cpp\n",
      "Warning: TF_REPEATED_DATA ignoring data with redundant timestamp for frame odom at time 3282.557000 according to authority /pose_integrator\n",
      "         at line 278 in /tmp/binarydeb/ros-noetic-tf2-0.7.6/src/buffer_core.cpp\n",
      "Warning: TF_REPEATED_DATA ignoring data with redundant timestamp for frame odom at time 3282.557000 according to authority /pose_integrator\n",
      "         at line 278 in /tmp/binarydeb/ros-noetic-tf2-0.7.6/src/buffer_core.cpp\n",
      "Warning: TF_REPEATED_DATA ignoring data with redundant timestamp for frame odom at time 3284.061000 according to authority /pose_integrator\n",
      "         at line 278 in /tmp/binarydeb/ros-noetic-tf2-0.7.6/src/buffer_core.cpp\n",
      "Warning: TF_REPEATED_DATA ignoring data with redundant timestamp for frame odom at time 3284.061000 according to authority /pose_integrator\n",
      "         at line 278 in /tmp/binarydeb/ros-noetic-tf2-0.7.6/src/buffer_core.cpp\n",
      "Warning: TF_REPEATED_DATA ignoring data with redundant timestamp for frame odom at time 3284.061000 according to authority /pose_integrator\n",
      "         at line 278 in /tmp/binarydeb/ros-noetic-tf2-0.7.6/src/buffer_core.cpp\n",
      "Warning: TF_REPEATED_DATA ignoring data with redundant timestamp for frame odom at time 3284.061000 according to authority /pose_integrator\n",
      "         at line 278 in /tmp/binarydeb/ros-noetic-tf2-0.7.6/src/buffer_core.cpp\n",
      "Warning: TF_REPEATED_DATA ignoring data with redundant timestamp for frame odom at time 3284.061000 according to authority /pose_integrator\n",
      "         at line 278 in /tmp/binarydeb/ros-noetic-tf2-0.7.6/src/buffer_core.cpp\n",
      "Warning: TF_REPEATED_DATA ignoring data with redundant timestamp for frame odom at time 3284.061000 according to authority /pose_integrator\n",
      "         at line 278 in /tmp/binarydeb/ros-noetic-tf2-0.7.6/src/buffer_core.cpp\n",
      "Warning: TF_REPEATED_DATA ignoring data with redundant timestamp for frame odom at time 3284.061000 according to authority /pose_integrator\n",
      "         at line 278 in /tmp/binarydeb/ros-noetic-tf2-0.7.6/src/buffer_core.cpp\n"
     ]
    },
    {
     "name": "stderr",
     "output_type": "stream",
     "text": [
      "Warning: TF_REPEATED_DATA ignoring data with redundant timestamp for frame odom at time 3284.930000 according to authority /pose_integrator\n",
      "         at line 278 in /tmp/binarydeb/ros-noetic-tf2-0.7.6/src/buffer_core.cpp\n",
      "Warning: TF_REPEATED_DATA ignoring data with redundant timestamp for frame odom at time 3284.930000 according to authority /pose_integrator\n",
      "         at line 278 in /tmp/binarydeb/ros-noetic-tf2-0.7.6/src/buffer_core.cpp\n",
      "Warning: TF_REPEATED_DATA ignoring data with redundant timestamp for frame odom at time 3284.930000 according to authority /pose_integrator\n",
      "         at line 278 in /tmp/binarydeb/ros-noetic-tf2-0.7.6/src/buffer_core.cpp\n",
      "Warning: TF_REPEATED_DATA ignoring data with redundant timestamp for frame odom at time 3284.930000 according to authority /pose_integrator\n",
      "         at line 278 in /tmp/binarydeb/ros-noetic-tf2-0.7.6/src/buffer_core.cpp\n",
      "Warning: TF_REPEATED_DATA ignoring data with redundant timestamp for frame odom at time 3284.930000 according to authority /pose_integrator\n",
      "         at line 278 in /tmp/binarydeb/ros-noetic-tf2-0.7.6/src/buffer_core.cpp\n",
      "Warning: TF_REPEATED_DATA ignoring data with redundant timestamp for frame odom at time 3284.930000 according to authority /pose_integrator\n",
      "         at line 278 in /tmp/binarydeb/ros-noetic-tf2-0.7.6/src/buffer_core.cpp\n",
      "Warning: TF_REPEATED_DATA ignoring data with redundant timestamp for frame odom at time 3284.930000 according to authority /pose_integrator\n",
      "         at line 278 in /tmp/binarydeb/ros-noetic-tf2-0.7.6/src/buffer_core.cpp\n",
      "Warning: TF_REPEATED_DATA ignoring data with redundant timestamp for frame odom at time 3287.630000 according to authority /pose_integrator\n",
      "         at line 278 in /tmp/binarydeb/ros-noetic-tf2-0.7.6/src/buffer_core.cpp\n",
      "Warning: TF_REPEATED_DATA ignoring data with redundant timestamp for frame odom at time 3287.630000 according to authority /pose_integrator\n",
      "         at line 278 in /tmp/binarydeb/ros-noetic-tf2-0.7.6/src/buffer_core.cpp\n",
      "Warning: TF_REPEATED_DATA ignoring data with redundant timestamp for frame odom at time 3287.630000 according to authority /pose_integrator\n",
      "         at line 278 in /tmp/binarydeb/ros-noetic-tf2-0.7.6/src/buffer_core.cpp\n",
      "Warning: TF_REPEATED_DATA ignoring data with redundant timestamp for frame odom at time 3287.630000 according to authority /pose_integrator\n",
      "         at line 278 in /tmp/binarydeb/ros-noetic-tf2-0.7.6/src/buffer_core.cpp\n",
      "Warning: TF_REPEATED_DATA ignoring data with redundant timestamp for frame odom at time 3287.630000 according to authority /pose_integrator\n",
      "         at line 278 in /tmp/binarydeb/ros-noetic-tf2-0.7.6/src/buffer_core.cpp\n",
      "Warning: TF_REPEATED_DATA ignoring data with redundant timestamp for frame odom at time 3287.630000 according to authority /pose_integrator\n",
      "         at line 278 in /tmp/binarydeb/ros-noetic-tf2-0.7.6/src/buffer_core.cpp\n",
      "Warning: TF_REPEATED_DATA ignoring data with redundant timestamp for frame odom at time 3287.630000 according to authority /pose_integrator\n",
      "         at line 278 in /tmp/binarydeb/ros-noetic-tf2-0.7.6/src/buffer_core.cpp\n",
      "Warning: TF_REPEATED_DATA ignoring data with redundant timestamp for frame odom at time 3292.229000 according to authority /pose_integrator\n",
      "         at line 278 in /tmp/binarydeb/ros-noetic-tf2-0.7.6/src/buffer_core.cpp\n",
      "Warning: TF_REPEATED_DATA ignoring data with redundant timestamp for frame odom at time 3292.229000 according to authority /pose_integrator\n",
      "         at line 278 in /tmp/binarydeb/ros-noetic-tf2-0.7.6/src/buffer_core.cpp\n",
      "Warning: TF_REPEATED_DATA ignoring data with redundant timestamp for frame odom at time 3292.229000 according to authority /pose_integrator\n",
      "         at line 278 in /tmp/binarydeb/ros-noetic-tf2-0.7.6/src/buffer_core.cpp\n",
      "Warning: TF_REPEATED_DATA ignoring data with redundant timestamp for frame odom at time 3292.229000 according to authority /pose_integrator\n",
      "         at line 278 in /tmp/binarydeb/ros-noetic-tf2-0.7.6/src/buffer_core.cpp\n",
      "Warning: TF_REPEATED_DATA ignoring data with redundant timestamp for frame odom at time 3292.229000 according to authority /pose_integrator\n",
      "         at line 278 in /tmp/binarydeb/ros-noetic-tf2-0.7.6/src/buffer_core.cpp\n",
      "Warning: TF_REPEATED_DATA ignoring data with redundant timestamp for frame odom at time 3292.229000 according to authority /pose_integrator\n",
      "         at line 278 in /tmp/binarydeb/ros-noetic-tf2-0.7.6/src/buffer_core.cpp\n",
      "Warning: TF_REPEATED_DATA ignoring data with redundant timestamp for frame odom at time 3292.229000 according to authority /pose_integrator\n",
      "         at line 278 in /tmp/binarydeb/ros-noetic-tf2-0.7.6/src/buffer_core.cpp\n",
      "Warning: TF_REPEATED_DATA ignoring data with redundant timestamp for frame odom at time 3293.474000 according to authority /pose_integrator\n",
      "         at line 278 in /tmp/binarydeb/ros-noetic-tf2-0.7.6/src/buffer_core.cpp\n",
      "Warning: TF_REPEATED_DATA ignoring data with redundant timestamp for frame odom at time 3293.474000 according to authority /pose_integrator\n",
      "         at line 278 in /tmp/binarydeb/ros-noetic-tf2-0.7.6/src/buffer_core.cpp\n",
      "Warning: TF_REPEATED_DATA ignoring data with redundant timestamp for frame odom at time 3293.474000 according to authority /pose_integrator\n",
      "         at line 278 in /tmp/binarydeb/ros-noetic-tf2-0.7.6/src/buffer_core.cpp\n",
      "Warning: TF_REPEATED_DATA ignoring data with redundant timestamp for frame odom at time 3293.474000 according to authority /pose_integrator\n",
      "         at line 278 in /tmp/binarydeb/ros-noetic-tf2-0.7.6/src/buffer_core.cpp\n",
      "Warning: TF_REPEATED_DATA ignoring data with redundant timestamp for frame odom at time 3293.474000 according to authority /pose_integrator\n",
      "         at line 278 in /tmp/binarydeb/ros-noetic-tf2-0.7.6/src/buffer_core.cpp\n",
      "Warning: TF_REPEATED_DATA ignoring data with redundant timestamp for frame odom at time 3293.474000 according to authority /pose_integrator\n",
      "         at line 278 in /tmp/binarydeb/ros-noetic-tf2-0.7.6/src/buffer_core.cpp\n",
      "Warning: TF_REPEATED_DATA ignoring data with redundant timestamp for frame odom at time 3293.474000 according to authority /pose_integrator\n",
      "         at line 278 in /tmp/binarydeb/ros-noetic-tf2-0.7.6/src/buffer_core.cpp\n"
     ]
    },
    {
     "ename": "KeyboardInterrupt",
     "evalue": "",
     "output_type": "error",
     "traceback": [
      "\u001b[0;31m---------------------------------------------------------------------------\u001b[0m",
      "\u001b[0;31mKeyboardInterrupt\u001b[0m                         Traceback (most recent call last)",
      "Input \u001b[0;32mIn [10]\u001b[0m, in \u001b[0;36m<cell line: 1>\u001b[0;34m()\u001b[0m\n\u001b[0;32m----> 1\u001b[0m \u001b[43mhead\u001b[49m\u001b[38;5;241;43m.\u001b[39;49m\u001b[43mturn_base_gaze\u001b[49m\u001b[43m(\u001b[49m\u001b[38;5;124;43m'\u001b[39;49m\u001b[38;5;124;43mprueba\u001b[39;49m\u001b[38;5;124;43m'\u001b[39;49m\u001b[43m,\u001b[49m\u001b[43m \u001b[49m\u001b[43malign\u001b[49m\u001b[43m \u001b[49m\u001b[38;5;241;43m=\u001b[39;49m\u001b[43m \u001b[49m\u001b[38;5;124;43m'\u001b[39;49m\u001b[38;5;124;43mbl\u001b[39;49m\u001b[38;5;124;43m'\u001b[39;49m\u001b[43m)\u001b[49m\n",
      "File \u001b[0;32m~/catkin_extras/src/utils/src/utils/grasp_utils.py:346\u001b[0m, in \u001b[0;36mHEAD.turn_base_gaze\u001b[0;34m(self, tf, align)\u001b[0m\n\u001b[1;32m    344\u001b[0m     \u001b[38;5;28;01mif\u001b[39;00m succ:\n\u001b[1;32m    345\u001b[0m         eT \u001b[38;5;241m=\u001b[39m \u001b[38;5;241m0\u001b[39m\n\u001b[0;32m--> 346\u001b[0m     \u001b[43mbase\u001b[49m\u001b[38;5;241;43m.\u001b[39;49m\u001b[43mtiny_move\u001b[49m\u001b[43m(\u001b[49m\u001b[43mvelT\u001b[49m\u001b[43m \u001b[49m\u001b[38;5;241;43m=\u001b[39;49m\u001b[43m \u001b[49m\u001b[43meT\u001b[49m\u001b[43m,\u001b[49m\u001b[43m \u001b[49m\u001b[43mMAX_VEL_THETA\u001b[49m\u001b[38;5;241;43m=\u001b[39;49m\u001b[38;5;241;43m0.9\u001b[39;49m\u001b[43m)\u001b[49m\n\u001b[1;32m    347\u001b[0m \u001b[38;5;28;01mreturn\u001b[39;00m \u001b[38;5;28;01mTrue\u001b[39;00m\n",
      "File \u001b[0;32m~/catkin_extras/src/utils/src/utils/nav_utils.py:51\u001b[0m, in \u001b[0;36mOMNIBASE.tiny_move\u001b[0;34m(self, velX, velY, velT, std_time, MAX_VEL, MAX_VEL_THETA)\u001b[0m\n\u001b[1;32m     49\u001b[0m \u001b[38;5;28;01melse\u001b[39;00m:\n\u001b[1;32m     50\u001b[0m     \u001b[38;5;28mself\u001b[39m\u001b[38;5;241m.\u001b[39mvelT \u001b[38;5;241m=\u001b[39m velT\n\u001b[0;32m---> 51\u001b[0m \u001b[38;5;28;43mself\u001b[39;49m\u001b[38;5;241;43m.\u001b[39;49m\u001b[43m_move_base_time\u001b[49m\u001b[43m(\u001b[49m\u001b[43m)\u001b[49m\n",
      "File \u001b[0;32m~/catkin_extras/src/utils/src/utils/nav_utils.py:32\u001b[0m, in \u001b[0;36mOMNIBASE._move_base_time\u001b[0;34m(self)\u001b[0m\n\u001b[1;32m     30\u001b[0m start_time \u001b[38;5;241m=\u001b[39m rospy\u001b[38;5;241m.\u001b[39mTime\u001b[38;5;241m.\u001b[39mnow()\u001b[38;5;241m.\u001b[39mto_sec()\n\u001b[1;32m     31\u001b[0m \u001b[38;5;28;01mwhile\u001b[39;00m rospy\u001b[38;5;241m.\u001b[39mTime\u001b[38;5;241m.\u001b[39mnow()\u001b[38;5;241m.\u001b[39mto_sec() \u001b[38;5;241m-\u001b[39m start_time \u001b[38;5;241m<\u001b[39m \u001b[38;5;28mself\u001b[39m\u001b[38;5;241m.\u001b[39mtimeout:\n\u001b[0;32m---> 32\u001b[0m     \u001b[38;5;28;43mself\u001b[39;49m\u001b[38;5;241;43m.\u001b[39;49m\u001b[43m_move_base_vel\u001b[49m\u001b[43m(\u001b[49m\u001b[43m)\u001b[49m\n",
      "File \u001b[0;32m~/catkin_extras/src/utils/src/utils/nav_utils.py:27\u001b[0m, in \u001b[0;36mOMNIBASE._move_base_vel\u001b[0;34m(self)\u001b[0m\n\u001b[1;32m     25\u001b[0m twist\u001b[38;5;241m.\u001b[39mlinear\u001b[38;5;241m.\u001b[39my \u001b[38;5;241m=\u001b[39m \u001b[38;5;28mself\u001b[39m\u001b[38;5;241m.\u001b[39mvelY\n\u001b[1;32m     26\u001b[0m twist\u001b[38;5;241m.\u001b[39mangular\u001b[38;5;241m.\u001b[39mz \u001b[38;5;241m=\u001b[39m \u001b[38;5;28mself\u001b[39m\u001b[38;5;241m.\u001b[39mvelT\n\u001b[0;32m---> 27\u001b[0m \u001b[38;5;28;43mself\u001b[39;49m\u001b[38;5;241;43m.\u001b[39;49m\u001b[43m_base_vel_pub\u001b[49m\u001b[38;5;241;43m.\u001b[39;49m\u001b[43mpublish\u001b[49m\u001b[43m(\u001b[49m\u001b[43mtwist\u001b[49m\u001b[43m)\u001b[49m\n",
      "File \u001b[0;32m/opt/ros/noetic/lib/python3/dist-packages/rospy/topics.py:882\u001b[0m, in \u001b[0;36mPublisher.publish\u001b[0;34m(self, *args, **kwds)\u001b[0m\n\u001b[1;32m    880\u001b[0m \u001b[38;5;28;01mtry\u001b[39;00m:\n\u001b[1;32m    881\u001b[0m     \u001b[38;5;28mself\u001b[39m\u001b[38;5;241m.\u001b[39mimpl\u001b[38;5;241m.\u001b[39macquire()\n\u001b[0;32m--> 882\u001b[0m     \u001b[38;5;28;43mself\u001b[39;49m\u001b[38;5;241;43m.\u001b[39;49m\u001b[43mimpl\u001b[49m\u001b[38;5;241;43m.\u001b[39;49m\u001b[43mpublish\u001b[49m\u001b[43m(\u001b[49m\u001b[43mdata\u001b[49m\u001b[43m)\u001b[49m\n\u001b[1;32m    883\u001b[0m \u001b[38;5;28;01mexcept\u001b[39;00m genpy\u001b[38;5;241m.\u001b[39mSerializationError \u001b[38;5;28;01mas\u001b[39;00m e:\n\u001b[1;32m    884\u001b[0m     \u001b[38;5;66;03m# can't go to rospy.logerr(), b/c this could potentially recurse\u001b[39;00m\n\u001b[1;32m    885\u001b[0m     _logger\u001b[38;5;241m.\u001b[39merror(traceback\u001b[38;5;241m.\u001b[39mformat_exc())\n",
      "File \u001b[0;32m/opt/ros/noetic/lib/python3/dist-packages/rospy/topics.py:1066\u001b[0m, in \u001b[0;36m_PublisherImpl.publish\u001b[0;34m(self, message, connection_override)\u001b[0m\n\u001b[1;32m   1064\u001b[0m \u001b[38;5;66;03m# serialize the message\u001b[39;00m\n\u001b[1;32m   1065\u001b[0m \u001b[38;5;28mself\u001b[39m\u001b[38;5;241m.\u001b[39mseq \u001b[38;5;241m+\u001b[39m\u001b[38;5;241m=\u001b[39m \u001b[38;5;241m1\u001b[39m \u001b[38;5;66;03m#count messages published to the topic\u001b[39;00m\n\u001b[0;32m-> 1066\u001b[0m \u001b[43mserialize_message\u001b[49m\u001b[43m(\u001b[49m\u001b[43mb\u001b[49m\u001b[43m,\u001b[49m\u001b[43m \u001b[49m\u001b[38;5;28;43mself\u001b[39;49m\u001b[38;5;241;43m.\u001b[39;49m\u001b[43mseq\u001b[49m\u001b[43m,\u001b[49m\u001b[43m \u001b[49m\u001b[43mmessage\u001b[49m\u001b[43m)\u001b[49m\n\u001b[1;32m   1068\u001b[0m \u001b[38;5;66;03m# send the buffer to all connections\u001b[39;00m\n\u001b[1;32m   1069\u001b[0m err_con \u001b[38;5;241m=\u001b[39m []\n",
      "File \u001b[0;32m/opt/ros/noetic/lib/python3/dist-packages/rospy/msg.py:140\u001b[0m, in \u001b[0;36mserialize_message\u001b[0;34m(b, seq, msg)\u001b[0m\n\u001b[1;32m    127\u001b[0m \u001b[38;5;124;03m\"\"\"\u001b[39;00m\n\u001b[1;32m    128\u001b[0m \u001b[38;5;124;03mSerialize the message to the buffer \u001b[39;00m\n\u001b[1;32m    129\u001b[0m \u001b[38;5;124;03m@param b: buffer to write to. WARNING: buffer will be reset after call\u001b[39;00m\n\u001b[0;32m   (...)\u001b[0m\n\u001b[1;32m    137\u001b[0m \u001b[38;5;124;03mfields.\u001b[39;00m\n\u001b[1;32m    138\u001b[0m \u001b[38;5;124;03m\"\"\"\u001b[39;00m\n\u001b[1;32m    139\u001b[0m start \u001b[38;5;241m=\u001b[39m b\u001b[38;5;241m.\u001b[39mtell()\n\u001b[0;32m--> 140\u001b[0m b\u001b[38;5;241m.\u001b[39mseek(\u001b[43mstart\u001b[49m\u001b[38;5;241;43m+\u001b[39;49m\u001b[38;5;241;43m4\u001b[39;49m) \u001b[38;5;66;03m#reserve 4-bytes for length\u001b[39;00m\n\u001b[1;32m    142\u001b[0m \u001b[38;5;66;03m#update Header object in top-level message\u001b[39;00m\n\u001b[1;32m    143\u001b[0m \u001b[38;5;28;01mif\u001b[39;00m \u001b[38;5;28mgetattr\u001b[39m(msg\u001b[38;5;241m.\u001b[39m\u001b[38;5;18m__class__\u001b[39m, \u001b[38;5;124m\"\u001b[39m\u001b[38;5;124m_has_header\u001b[39m\u001b[38;5;124m\"\u001b[39m, \u001b[38;5;28;01mFalse\u001b[39;00m):\n",
      "\u001b[0;31mKeyboardInterrupt\u001b[0m: "
     ]
    }
   ],
   "source": [
    "head.turn_base_gaze('prueba', align = 'bl')"
   ]
  },
  {
   "cell_type": "code",
   "execution_count": null,
   "metadata": {},
   "outputs": [],
   "source": []
  }
 ],
 "metadata": {
  "kernelspec": {
   "display_name": "Python 3 (ipykernel)",
   "language": "python",
   "name": "python3"
  },
  "language_info": {
   "codemirror_mode": {
    "name": "ipython",
    "version": 3
   },
   "file_extension": ".py",
   "mimetype": "text/x-python",
   "name": "python",
   "nbconvert_exporter": "python",
   "pygments_lexer": "ipython3",
   "version": "3.8.10"
  }
 },
 "nbformat": 4,
 "nbformat_minor": 4
}
