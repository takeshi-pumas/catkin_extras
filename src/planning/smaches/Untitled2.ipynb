{
 "cells": [
  {
   "cell_type": "code",
   "execution_count": 20,
   "id": "e22e204b",
   "metadata": {},
   "outputs": [],
   "source": [
    "import yaml\n",
    "import rospkg\n",
    "\n",
    "##check\n",
    "def load_data_from_yaml(known_locations_file='/receptionist_knowledge2.yaml'):\n",
    "    rospack = rospkg.RosPack()\n",
    "    file_path = rospack.get_path('config_files') + known_locations_file\n",
    "\n",
    "    with open(file_path, 'r') as file:\n",
    "        content = yaml.safe_load(file)\n",
    "    return content\n",
    "\n",
    "#check\n",
    "def save_data_to_yaml(new_knowledge):\n",
    "    rospack = rospkg.RosPack()\n",
    "    file_path = rospack.get_path('config_files') + \\\n",
    "        '/receptionist_knowledge2.yaml'\n",
    "    with open(file_path, 'w') as file:\n",
    "        documents = yaml.dump(new_knowledge, file)\n",
    "\n",
    "\n",
    "def get_available_seats():\n",
    "    data = load_data_from_yaml()\n",
    "    available_seats = []\n",
    "    for place, info in data['Places'].items():\n",
    "        if info['occupied'] == \"None\":\n",
    "            available_seats.append(place)\n",
    "    return available_seats\n",
    "\n",
    "def assign_seat_to_guest(guest_name, seat):\n",
    "    data = load_data_from_yaml()\n",
    "    if seat in data['Places']:\n",
    "        if data['Places'][seat]['occupied'] is None:\n",
    "            data['Places'][seat]['occupied'] = guest_name\n",
    "            data['People'][guest_name]['location'] = seat\n",
    "            #data['People'][guest_name]['description'] = 'Assigned seat: ' + seat\n",
    "            return True\n",
    "        else:\n",
    "            print(f\"Seat {seat} is already occupied.\")\n",
    "            return False\n",
    "    else:\n",
    "        return False\n",
    "\n",
    "def update_seat_assignment(guest_name, new_seat):\n",
    "    data = load_data_from_yaml()\n",
    "    if new_seat in data['Places']:\n",
    "        data['Places'][new_seat]['occupied'] = guest_name\n",
    "        data['People'][guest_name]['location'] = new_seat\n",
    "        #data['People'][guest_name]['description'] = 'Assigned seat: ' + new_seat\n",
    "\n",
    "def process_guests():\n",
    "    data = load_data_from_yaml()\n",
    "    for guest, info in data['People'].items():\n",
    "        if info['location'] == 'waiting':\n",
    "            available_seats = get_available_seats(data)\n",
    "            if available_seats:\n",
    "                seat_assigned = assign_seat_to_guest(data, guest, available_seats[0])\n",
    "                if seat_assigned:\n",
    "                    print(f\"Assigned seat {available_seats[0]} to {guest}\")\n",
    "                else:\n",
    "                    print(f\"No available seats for {guest}\")\n",
    "            else:\n",
    "                print(f\"No available seats for {guest}\")\n",
    "\n",
    "# Carga los datos desde el archivo YAML\n",
    "#data = load_data_from_yaml()\n",
    "\n",
    "# Procesa los invitados y asigna los asientos\n",
    "#process_guests()\n",
    "\n",
    "# Actualiza la asignación de asientos si hay un supuesto lugar vacío ocupado\n",
    "#update_seat_assignment('Michael', 'Place_2')\n",
    "\n",
    "# Guarda los datos actualizados en el archivo YAML\n",
    "#save_data_to_yaml(data)\n"
   ]
  },
  {
   "cell_type": "code",
   "execution_count": 21,
   "id": "32396ca1",
   "metadata": {},
   "outputs": [
    {
     "data": {
      "text/plain": [
       "['Place_2', 'Place_3']"
      ]
     },
     "execution_count": 21,
     "metadata": {},
     "output_type": "execute_result"
    }
   ],
   "source": [
    "get_available_seats()"
   ]
  },
  {
   "cell_type": "code",
   "execution_count": 99,
   "id": "5b4e516d",
   "metadata": {},
   "outputs": [],
   "source": [
    "import yaml\n",
    "import rospkg\n",
    "class SCENE():\n",
    "    def __init__(self, knowlegde_file = '/receptionist_knowledge2.yaml'):\n",
    "        rospack = rospkg.RosPack()\n",
    "        self.file_path = rospack.get_path('config_files') + knowlegde_file\n",
    "        #self.knowledge = self.load_data_from_yaml()\n",
    "        \n",
    "        self.last_seat_assigned = \"None\" #Place_0, Place_1, Place_2\n",
    "        self.active_guest = \"None\"       #Guest_0, Guest_1, Guest_2\n",
    "        \n",
    "    #-------YAML read and write------------\n",
    "    def load_data_from_yaml(self):\n",
    "        with open(self.file_path, 'r') as file:\n",
    "            data = yaml.safe_load(file)\n",
    "        return data\n",
    "\n",
    "    def save_data_to_yaml(self, new_knowledge):\n",
    "        with open(self.file_path, 'w') as file:\n",
    "            documents = yaml.dump(new_knowledge, file)\n",
    "    \n",
    "    #------Add--------------------\n",
    "    def add_guest(self, name, drink):\n",
    "        data = self.load_data_from_yaml()\n",
    "        guests_len = len(data['People'])\n",
    "        new_guest = f'Guest_{guests_len}'\n",
    "        data['People'][new_guest] = {\n",
    "            'drink': drink, \n",
    "            'location': 'None', \n",
    "            'name': name, \n",
    "            'description': 'None'}\n",
    "        self.save_data_to_yaml(data)\n",
    "        self.active_guest = new_guest\n",
    "        \n",
    "    def add_description(self, description):\n",
    "        data = self.load_data_from_yaml()\n",
    "        data['People'][self.active_guest]['description'] = description\n",
    "        self.save_data_to_yaml(data)\n",
    "        \n",
    "        \n",
    "    #------Gets-------------------    \n",
    "    def get_available_seats(self):\n",
    "        data = self.load_data_from_yaml()\n",
    "        available_seats = []\n",
    "        for place, info in data['Places'].items():\n",
    "            if info['occupied'] == \"None\":\n",
    "                available_seats.append(place)\n",
    "        return available_seats\n",
    "    \n",
    "    def get_guest_by_name(self, guest_name):\n",
    "        data = self.load_data_from_yaml()\n",
    "        for guest, info in data['People'].items():\n",
    "            if info['name'] == guest_name:\n",
    "                return guest\n",
    "        return 'None'\n",
    "    \n",
    "    def get_guest_seat(self, guest_name):\n",
    "        data = self.load_data_from_yaml()\n",
    "        for place, info in data['Places'].items():\n",
    "            if info['occupied'] == guest_name:\n",
    "                return place\n",
    "        return 'None'\n",
    "    \n",
    "    def get_places_location(self):\n",
    "        data = self.load_data_from_yaml()\n",
    "        locs = []\n",
    "        for place, info in data['Places'].items():\n",
    "            if place != 'Place_0':\n",
    "                xyt = []\n",
    "                xyt.append(info['location']['x'])\n",
    "                xyt.append(info['location']['y'])\n",
    "                xyt.append(info['location']['theta'])\n",
    "                locs.append(xyt)\n",
    "        return locs\n",
    "    \n",
    "    #-----------Seat methods---------------\n",
    "    def assign_seat_to_guest(self, seat):\n",
    "        data = self.load_data_from_yaml()\n",
    "        #guest = self.get_guest_by_name(guest_name)\n",
    "        guest = self.active_guest\n",
    "        if guest != 'None':\n",
    "            guest_name = data['People'][guest]['name']\n",
    "            data['Places'][seat]['occupied'] = guest_name\n",
    "            data['People'][guest]['location'] = seat\n",
    "            self.save_data_to_yaml(data)\n",
    "            return True\n",
    "        else:\n",
    "            return False\n",
    "        \n",
    "    def update_seat_assignment(self, guest_name, new_seat):\n",
    "        data = self.load_data_from_yaml()\n",
    "        place = self.get_guest_seat(guest_name)\n",
    "        guest = self.get_guest_by_name(guest_name)\n",
    "        if place != 'None' and guest != 'None':\n",
    "            data['Places'][place]['occupied'] = 'None'\n",
    "            data['Places'][new_seat]['occupied'] = guest_name\n",
    "            data['People'][guest]['location'] = new_seat\n",
    "            self.save_data_to_yaml(data)\n",
    "            return True\n",
    "        else:\n",
    "            return False\n",
    "    \n",
    "    def clean_knowledge(self, host_name, host_location):\n",
    "        data = self.load_data_from_yaml()\n",
    "        host = data['People']['Guest_0']\n",
    "        host['name'] = host_name\n",
    "        host['location'] = host_location\n",
    "        data['People'] = {'Guest_0': host}\n",
    "        for place, info in data['Places'].items():\n",
    "            if place == host_location:\n",
    "                info['occupied'] = host_name\n",
    "            elif place == 'Place_0':\n",
    "                info['occupied'] = 'Not available'\n",
    "            else:\n",
    "                info['occupied'] = 'None'\n",
    "        self.save_data_to_yaml(data)\n",
    "        \n"
   ]
  },
  {
   "cell_type": "code",
   "execution_count": 100,
   "id": "feca7b8a",
   "metadata": {},
   "outputs": [],
   "source": [
    "party = SCENE()"
   ]
  },
  {
   "cell_type": "code",
   "execution_count": 101,
   "id": "2735531a",
   "metadata": {},
   "outputs": [],
   "source": [
    "party.clean_knowledge('ruben', 'Place_1')"
   ]
  },
  {
   "cell_type": "code",
   "execution_count": 102,
   "id": "f1e72100",
   "metadata": {},
   "outputs": [],
   "source": [
    "party.add_guest('george', 'water')"
   ]
  },
  {
   "cell_type": "code",
   "execution_count": 103,
   "id": "1661857e",
   "metadata": {},
   "outputs": [],
   "source": [
    "party.add_description('Good friend')"
   ]
  },
  {
   "cell_type": "code",
   "execution_count": 110,
   "id": "7f011ee9",
   "metadata": {},
   "outputs": [
    {
     "data": {
      "text/plain": [
       "['Place_2']"
      ]
     },
     "execution_count": 110,
     "metadata": {},
     "output_type": "execute_result"
    }
   ],
   "source": [
    "party.get_available_seats()"
   ]
  },
  {
   "cell_type": "code",
   "execution_count": 105,
   "id": "a8f35693",
   "metadata": {},
   "outputs": [
    {
     "data": {
      "text/plain": [
       "'None'"
      ]
     },
     "execution_count": 105,
     "metadata": {},
     "output_type": "execute_result"
    }
   ],
   "source": [
    "party.get_guest_by_name('oscar')"
   ]
  },
  {
   "cell_type": "code",
   "execution_count": 106,
   "id": "b8b4646a",
   "metadata": {},
   "outputs": [
    {
     "data": {
      "text/plain": [
       "'None'"
      ]
     },
     "execution_count": 106,
     "metadata": {},
     "output_type": "execute_result"
    }
   ],
   "source": [
    "party.get_guest_seat('george')"
   ]
  },
  {
   "cell_type": "code",
   "execution_count": 107,
   "id": "3ac8a4e4",
   "metadata": {},
   "outputs": [
    {
     "data": {
      "text/plain": [
       "[[10.05, -2.15, 0.05], [10.14, -3.08, 0.15], [9.52, -3.18, 4.8]]"
      ]
     },
     "execution_count": 107,
     "metadata": {},
     "output_type": "execute_result"
    }
   ],
   "source": [
    "party.get_places_location()"
   ]
  },
  {
   "cell_type": "code",
   "execution_count": 112,
   "id": "c9c9aaf1",
   "metadata": {},
   "outputs": [
    {
     "data": {
      "text/plain": [
       "True"
      ]
     },
     "execution_count": 112,
     "metadata": {},
     "output_type": "execute_result"
    }
   ],
   "source": [
    "seats = party.get_available_seats()\n",
    "party.assign_seat_to_guest(seats[0])"
   ]
  },
  {
   "cell_type": "code",
   "execution_count": 109,
   "id": "0b9ea346",
   "metadata": {},
   "outputs": [
    {
     "data": {
      "text/plain": [
       "True"
      ]
     },
     "execution_count": 109,
     "metadata": {},
     "output_type": "execute_result"
    }
   ],
   "source": [
    "party.update_seat_assignment('george', 'Place_3')"
   ]
  },
  {
   "cell_type": "code",
   "execution_count": 111,
   "id": "e6dae4e9",
   "metadata": {},
   "outputs": [],
   "source": [
    "party.add_guest('michael', 'wine')"
   ]
  },
  {
   "cell_type": "code",
   "execution_count": 114,
   "id": "c858c797",
   "metadata": {},
   "outputs": [
    {
     "data": {
      "text/plain": [
       "0"
      ]
     },
     "execution_count": 114,
     "metadata": {},
     "output_type": "execute_result"
    }
   ],
   "source": [
    "len(party.get_available_seats())"
   ]
  },
  {
   "cell_type": "code",
   "execution_count": 118,
   "id": "014f4383",
   "metadata": {},
   "outputs": [
    {
     "ename": "IndexError",
     "evalue": "list index out of range",
     "output_type": "error",
     "traceback": [
      "\u001b[0;31m---------------------------------------------------------------------------\u001b[0m",
      "\u001b[0;31mIndexError\u001b[0m                                Traceback (most recent call last)",
      "Input \u001b[0;32mIn [118]\u001b[0m, in \u001b[0;36m<cell line: 1>\u001b[0;34m()\u001b[0m\n\u001b[0;32m----> 1\u001b[0m \u001b[43mparty\u001b[49m\u001b[38;5;241;43m.\u001b[39;49m\u001b[43mget_available_seats\u001b[49m\u001b[43m(\u001b[49m\u001b[43m)\u001b[49m\u001b[43m[\u001b[49m\u001b[38;5;241;43m0\u001b[39;49m\u001b[43m]\u001b[49m\n",
      "\u001b[0;31mIndexError\u001b[0m: list index out of range"
     ]
    }
   ],
   "source": [
    "party.get_available_seats()[0]"
   ]
  },
  {
   "cell_type": "code",
   "execution_count": null,
   "id": "23e7b4aa",
   "metadata": {},
   "outputs": [],
   "source": []
  }
 ],
 "metadata": {
  "kernelspec": {
   "display_name": "Python 3 (ipykernel)",
   "language": "python",
   "name": "python3"
  },
  "language_info": {
   "codemirror_mode": {
    "name": "ipython",
    "version": 3
   },
   "file_extension": ".py",
   "mimetype": "text/x-python",
   "name": "python",
   "nbconvert_exporter": "python",
   "pygments_lexer": "ipython3",
   "version": "3.8.10"
  }
 },
 "nbformat": 4,
 "nbformat_minor": 5
}
