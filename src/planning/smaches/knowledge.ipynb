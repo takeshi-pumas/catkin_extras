{
 "cells": [
  {
   "cell_type": "code",
   "execution_count": 3,
   "id": "2ca81f6a",
   "metadata": {},
   "outputs": [],
   "source": [
    "import rospkg\n",
    "import yaml\n",
    "from utils.grasp_utils import *\n",
    "from utils.nav_utils import *\n",
    "#from utils.know_utils import *\n",
    "import rospy"
   ]
  },
  {
   "cell_type": "code",
   "execution_count": 4,
   "id": "e5943aaf",
   "metadata": {},
   "outputs": [],
   "source": [
    "rospy.init_node('knowledge')"
   ]
  },
  {
   "cell_type": "code",
   "execution_count": 3,
   "id": "3d6851ae",
   "metadata": {},
   "outputs": [
    {
     "name": "stdout",
     "output_type": "stream",
     "text": [
      "5.12\n",
      "-2.41\n"
     ]
    }
   ],
   "source": [
    "known_loc = read_yaml('/known_locations.yaml')\n",
    "loc = known_loc['bedroom']\n",
    "print(loc[0]['x'])\n",
    "print(loc[1]['y'])"
   ]
  },
  {
   "cell_type": "code",
   "execution_count": 4,
   "id": "626a525d",
   "metadata": {},
   "outputs": [
    {
     "data": {
      "text/plain": [
       "'dining_room'"
      ]
     },
     "execution_count": 4,
     "metadata": {},
     "output_type": "execute_result"
    }
   ],
   "source": [
    "find_room([15,-7])"
   ]
  },
  {
   "cell_type": "code",
   "execution_count": 5,
   "id": "46af70e8",
   "metadata": {},
   "outputs": [],
   "source": [
    "tf_man = TF_MANAGER()"
   ]
  },
  {
   "cell_type": "code",
   "execution_count": 6,
   "id": "fcd5eb93",
   "metadata": {},
   "outputs": [
    {
     "data": {
      "text/plain": [
       "[[0.2861301089103859, 0.08794750970108, 0.6731188206756689],\n",
       " [-0.7063602068922445,\n",
       "  -0.025154993601199407,\n",
       "  -0.7069651451896782,\n",
       "  0.024955318130736703]]"
      ]
     },
     "execution_count": 6,
     "metadata": {},
     "output_type": "execute_result"
    }
   ],
   "source": [
    "tf_man.getTF(target_frame='hand_palm_link', ref_frame='base_link')"
   ]
  },
  {
   "cell_type": "code",
   "execution_count": 1,
   "id": "a6541711",
   "metadata": {},
   "outputs": [],
   "source": [
    "import rospy\n",
    "from geometry_msgs.msg import PoseStamped\n",
    "from std_msgs.msg import Header\n",
    "import tf\n",
    "\n",
    "rospy.init_node('rviz_coordinates_node')\n",
    "\n",
    "# Crea un objeto de publicación del mensaje \"PoseStamped\"\n",
    "pose_pub = rospy.Publisher('/rviz_coordinates', PoseStamped, queue_size=10)\n",
    "\n",
    "# Crea un mensaje \"PoseStamped\" con las coordenadas x, y y theta\n",
    "pose = PoseStamped()\n",
    "pose.header = Header()\n",
    "pose.header.frame_id = \"map\"  # El marco de referencia deseado\n",
    "\n",
    "pose.pose.position.x = 1.0  # Coordenada x\n",
    "pose.pose.position.y = 2.0  # Coordenada y\n",
    "\n",
    "# Convierte el ángulo theta a una representación de cuaternión\n",
    "yaw = 0.5  # Ángulo theta en radianes\n",
    "quaternion = tf.transformations.quaternion_from_euler(0, 0, yaw)\n",
    "pose.pose.orientation.x = quaternion[0]\n",
    "pose.pose.orientation.y = quaternion[1]\n",
    "pose.pose.orientation.z = quaternion[2]\n",
    "pose.pose.orientation.w = quaternion[3]\n",
    "\n",
    "# Publica el mensaje en el tema \"rviz_coordinates\"\n",
    "pose_pub.publish(pose)\n",
    "\n",
    "#rospy.spin()\n"
   ]
  },
  {
   "cell_type": "code",
   "execution_count": null,
   "id": "3e8f98c1",
   "metadata": {},
   "outputs": [],
   "source": []
  }
 ],
 "metadata": {
  "kernelspec": {
   "display_name": "Python 3 (ipykernel)",
   "language": "python",
   "name": "python3"
  },
  "language_info": {
   "codemirror_mode": {
    "name": "ipython",
    "version": 3
   },
   "file_extension": ".py",
   "mimetype": "text/x-python",
   "name": "python",
   "nbconvert_exporter": "python",
   "pygments_lexer": "ipython3",
   "version": "3.8.10"
  }
 },
 "nbformat": 4,
 "nbformat_minor": 5
}
