{
 "cells": [
  {
   "cell_type": "code",
   "execution_count": 1,
   "id": "b878d9d1",
   "metadata": {},
   "outputs": [],
   "source": [
    "import rospy\n"
   ]
  },
  {
   "cell_type": "code",
   "execution_count": 4,
   "id": "2979f285",
   "metadata": {},
   "outputs": [],
   "source": [
    "from viterbi_server.srv import Viterbify ,ViterbifyRequest , ViterbifyResponse"
   ]
  },
  {
   "cell_type": "code",
   "execution_count": 5,
   "id": "a87b42ee",
   "metadata": {},
   "outputs": [],
   "source": [
    "from viterbi_server.msg import Obs_symbols ,States_estimated"
   ]
  },
  {
   "cell_type": "code",
   "execution_count": 6,
   "id": "4d122a64",
   "metadata": {},
   "outputs": [],
   "source": [
    "states= States_estimated()"
   ]
  },
  {
   "cell_type": "code",
   "execution_count": 8,
   "id": "11a14447",
   "metadata": {},
   "outputs": [],
   "source": [
    "states.data.append(0)"
   ]
  },
  {
   "cell_type": "code",
   "execution_count": 9,
   "id": "36534bc0",
   "metadata": {},
   "outputs": [
    {
     "data": {
      "text/plain": [
       "data: [0]"
      ]
     },
     "execution_count": 9,
     "metadata": {},
     "output_type": "execute_result"
    }
   ],
   "source": [
    "states"
   ]
  },
  {
   "cell_type": "code",
   "execution_count": 11,
   "id": "e7d91acd",
   "metadata": {},
   "outputs": [
    {
     "data": {
      "text/plain": [
       "0"
      ]
     },
     "execution_count": 11,
     "metadata": {},
     "output_type": "execute_result"
    }
   ],
   "source": [
    "states.data[0]"
   ]
  },
  {
   "cell_type": "code",
   "execution_count": null,
   "id": "18a0a09f",
   "metadata": {},
   "outputs": [],
   "source": []
  }
 ],
 "metadata": {
  "kernelspec": {
   "display_name": "Python 3 (ipykernel)",
   "language": "python",
   "name": "python3"
  },
  "language_info": {
   "codemirror_mode": {
    "name": "ipython",
    "version": 3
   },
   "file_extension": ".py",
   "mimetype": "text/x-python",
   "name": "python",
   "nbconvert_exporter": "python",
   "pygments_lexer": "ipython3",
   "version": "3.8.10"
  }
 },
 "nbformat": 4,
 "nbformat_minor": 5
}
