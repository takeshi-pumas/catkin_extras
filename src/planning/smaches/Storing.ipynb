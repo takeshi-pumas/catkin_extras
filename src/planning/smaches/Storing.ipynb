{
 "cells": [
  {
   "cell_type": "code",
   "execution_count": 1,
   "id": "62014059",
   "metadata": {},
   "outputs": [
    {
     "name": "stderr",
     "output_type": "stream",
     "text": [
      "\u001b[33m[ WARN] [1680633446.555018405]: Link hand_l_finger_vacuum_frame has visual geometry but no collision geometry. Collision geometry will be left empty. Fix your URDF file by explicitly specifying collision geometry.\u001b[0m\n",
      "\u001b[33m[ WARN] [1680633446.558909743]: Link head_l_stereo_camera_link has visual geometry but no collision geometry. Collision geometry will be left empty. Fix your URDF file by explicitly specifying collision geometry.\u001b[0m\n",
      "\u001b[33m[ WARN] [1680633446.558932961]: Link head_r_stereo_camera_link has visual geometry but no collision geometry. Collision geometry will be left empty. Fix your URDF file by explicitly specifying collision geometry.\u001b[0m\n",
      "\u001b[33m[ WARN] [1680633446.559828562]: Group state 'neutral' doesn't specify all group joints in group 'arm'. wrist_ft_sensor_frame_joint is missing.\u001b[0m\n",
      "\u001b[33m[ WARN] [1680633446.559848238]: Group state 'go' doesn't specify all group joints in group 'arm'. wrist_ft_sensor_frame_joint is missing.\u001b[0m\n",
      "\u001b[33m[ WARN] [1680633447.030878949]: Kinematics solver doesn't support #attempts anymore, but only a timeout.\n",
      "Please remove the parameter '/robot_description_kinematics/arm/kinematics_solver_attempts' from your configuration.\u001b[0m\n",
      "\u001b[33m[ WARN] [1680633447.233630169]: IK plugin for group 'whole_body' relies on deprecated API. Please implement initialize(RobotModel, ...).\u001b[0m\n",
      "\u001b[33m[ WARN] [1680633447.258378598]: IK plugin for group 'whole_body_weighted' relies on deprecated API. Please implement initialize(RobotModel, ...).\u001b[0m\n",
      "\u001b[33m[ WARN] [1680633447.279658477]: IK plugin for group 'whole_body_light' relies on deprecated API. Please implement initialize(RobotModel, ...).\u001b[0m\n"
     ]
    }
   ],
   "source": [
    "from smach_utils2 import *\n"
   ]
  },
  {
   "cell_type": "code",
   "execution_count": 2,
   "id": "1dda0b83",
   "metadata": {},
   "outputs": [],
   "source": [
    "def detect_human_to_tf():\n",
    "    humanpose=human_detect_server.call()\n",
    "    print (humanpose)\n",
    "    if (np.asarray((humanpose.x,humanpose.y,humanpose.z)).all()== np.zeros(3).all()):\n",
    "        print (np.asarray((humanpose.x,humanpose.y,humanpose.z)))\n",
    "        return False\n",
    "    else:\n",
    "        tf_man.pub_static_tf(np.asarray((humanpose.x,humanpose.x,humanpose.z)),point_name='human', ref='head_rgbd_sensor_link')\n",
    "        succ=tf_man.change_ref_frame_tf('human')\n",
    "        return succ\n"
   ]
  },
  {
   "cell_type": "code",
   "execution_count": 10,
   "id": "215b7368",
   "metadata": {
    "scrolled": true
   },
   "outputs": [
    {
     "name": "stderr",
     "output_type": "stream",
     "text": [
      "\u001b[33m[ WARN] [1680534968.546887512]: TF_REPEATED_DATA ignoring data with redundant timestamp for frame odom at time 121.979000 according to authority /pose_integrator\u001b[0m\n",
      "\u001b[33m[ WARN] [1680534968.546942815]: TF_REPEATED_DATA ignoring data with redundant timestamp for frame odom at time 121.979000 according to authority /pose_integrator\u001b[0m\n",
      "\u001b[33m[ WARN] [1680534968.546974773]: TF_REPEATED_DATA ignoring data with redundant timestamp for frame odom at time 121.979000 according to authority /pose_integrator\u001b[0m\n",
      "\u001b[33m[ WARN] [1680534968.547018539]: TF_REPEATED_DATA ignoring data with redundant timestamp for frame odom at time 121.979000 according to authority /pose_integrator\u001b[0m\n",
      "\u001b[33m[ WARN] [1680534968.826286822]: TF_REPEATED_DATA ignoring data with redundant timestamp for frame odom at time 122.087000 according to authority /pose_integrator\u001b[0m\n",
      "\u001b[33m[ WARN] [1680534968.826354934]: TF_REPEATED_DATA ignoring data with redundant timestamp for frame odom at time 122.087000 according to authority /pose_integrator\u001b[0m\n",
      "\u001b[33m[ WARN] [1680534968.826394749]: TF_REPEATED_DATA ignoring data with redundant timestamp for frame odom at time 122.087000 according to authority /pose_integrator\u001b[0m\n",
      "\u001b[33m[ WARN] [1680534968.826433047]: TF_REPEATED_DATA ignoring data with redundant timestamp for frame odom at time 122.087000 according to authority /pose_integrator\u001b[0m\n",
      "\u001b[33m[ WARN] [1680534989.924989047]: TF_REPEATED_DATA ignoring data with redundant timestamp for frame odom at time 128.068000 according to authority /pose_integrator\u001b[0m\n",
      "\u001b[33m[ WARN] [1680534989.925052417]: TF_REPEATED_DATA ignoring data with redundant timestamp for frame odom at time 128.068000 according to authority /pose_integrator\u001b[0m\n",
      "\u001b[33m[ WARN] [1680534989.925082784]: TF_REPEATED_DATA ignoring data with redundant timestamp for frame odom at time 128.068000 according to authority /pose_integrator\u001b[0m\n",
      "\u001b[33m[ WARN] [1680534989.925108561]: TF_REPEATED_DATA ignoring data with redundant timestamp for frame odom at time 128.068000 according to authority /pose_integrator\u001b[0m\n",
      "\u001b[33m[ WARN] [1680534994.381903243]: TF_REPEATED_DATA ignoring data with redundant timestamp for frame odom at time 129.372000 according to authority /pose_integrator\u001b[0m\n",
      "\u001b[33m[ WARN] [1680534994.382012690]: TF_REPEATED_DATA ignoring data with redundant timestamp for frame odom at time 129.372000 according to authority /pose_integrator\u001b[0m\n",
      "\u001b[33m[ WARN] [1680534994.382068191]: TF_REPEATED_DATA ignoring data with redundant timestamp for frame odom at time 129.372000 according to authority /pose_integrator\u001b[0m\n",
      "\u001b[33m[ WARN] [1680534994.382112501]: TF_REPEATED_DATA ignoring data with redundant timestamp for frame odom at time 129.372000 according to authority /pose_integrator\u001b[0m\n"
     ]
    },
    {
     "name": "stdout",
     "output_type": "stream",
     "text": [
      "x: -0.31356313824653625\n",
      "y: -0.7879580855369568\n",
      "z: 2.300804376602173\n"
     ]
    }
   ],
   "source": [
    "head.set_joint_values([0.0,0.3])\n",
    "\n",
    "humanpose=detect_human_to_tf()"
   ]
  },
  {
   "cell_type": "code",
   "execution_count": 11,
   "id": "a06cb013",
   "metadata": {},
   "outputs": [
    {
     "data": {
      "text/plain": [
       "True"
      ]
     },
     "execution_count": 11,
     "metadata": {},
     "output_type": "execute_result"
    },
    {
     "name": "stderr",
     "output_type": "stream",
     "text": [
      "\u001b[33m[ WARN] [1680535002.847622830]: TF_REPEATED_DATA ignoring data with redundant timestamp for frame odom at time 132.676000 according to authority /pose_integrator\u001b[0m\n",
      "\u001b[33m[ WARN] [1680535002.847685049]: TF_REPEATED_DATA ignoring data with redundant timestamp for frame odom at time 132.676000 according to authority /pose_integrator\u001b[0m\n",
      "\u001b[33m[ WARN] [1680535002.847732515]: TF_REPEATED_DATA ignoring data with redundant timestamp for frame odom at time 132.676000 according to authority /pose_integrator\u001b[0m\n",
      "\u001b[33m[ WARN] [1680535002.847774614]: TF_REPEATED_DATA ignoring data with redundant timestamp for frame odom at time 132.676000 according to authority /pose_integrator\u001b[0m\n"
     ]
    }
   ],
   "source": [
    "humanpose "
   ]
  },
  {
   "cell_type": "code",
   "execution_count": 12,
   "id": "2f99f81a",
   "metadata": {},
   "outputs": [
    {
     "name": "stdout",
     "output_type": "stream",
     "text": [
      "getting close to human\n"
     ]
    },
    {
     "name": "stderr",
     "output_type": "stream",
     "text": [
      "\u001b[33m[ WARN] [1680535005.344008205]: TF_REPEATED_DATA ignoring data with redundant timestamp for frame odom at time 133.618000 according to authority /pose_integrator\u001b[0m\n",
      "\u001b[33m[ WARN] [1680535005.344085149]: TF_REPEATED_DATA ignoring data with redundant timestamp for frame odom at time 133.618000 according to authority /pose_integrator\u001b[0m\n",
      "\u001b[33m[ WARN] [1680535005.344118839]: TF_REPEATED_DATA ignoring data with redundant timestamp for frame odom at time 133.618000 according to authority /pose_integrator\u001b[0m\n",
      "\u001b[33m[ WARN] [1680535005.344154298]: TF_REPEATED_DATA ignoring data with redundant timestamp for frame odom at time 133.618000 according to authority /pose_integrator\u001b[0m\n"
     ]
    },
    {
     "name": "stdout",
     "output_type": "stream",
     "text": [
      "header: \n",
      "  seq: 0\n",
      "  stamp: \n",
      "    secs: 0\n",
      "    nsecs:         0\n",
      "  frame_id: ''\n",
      "goal_id: \n",
      "  stamp: \n",
      "    secs: 0\n",
      "    nsecs:         0\n",
      "  id: ''\n",
      "goal: \n",
      "  x: 2.0959229445912944\n",
      "  y: 0.5975385581853991\n",
      "  yaw: -3.129952652349871\n",
      "  timeout: 30\n",
      "  known_location: \"None\"\n"
     ]
    },
    {
     "name": "stderr",
     "output_type": "stream",
     "text": [
      "\u001b[33m[ WARN] [1680535011.861126038]: TF_REPEATED_DATA ignoring data with redundant timestamp for frame odom at time 135.896000 according to authority /pose_integrator\u001b[0m\n",
      "\u001b[33m[ WARN] [1680535011.861170959]: TF_REPEATED_DATA ignoring data with redundant timestamp for frame odom at time 135.896000 according to authority /pose_integrator\u001b[0m\n",
      "\u001b[33m[ WARN] [1680535011.861208239]: TF_REPEATED_DATA ignoring data with redundant timestamp for frame odom at time 135.896000 according to authority /pose_integrator\u001b[0m\n",
      "\u001b[33m[ WARN] [1680535011.861232882]: TF_REPEATED_DATA ignoring data with redundant timestamp for frame odom at time 135.896000 according to authority /pose_integrator\u001b[0m\n"
     ]
    },
    {
     "name": "stdout",
     "output_type": "stream",
     "text": [
      "is he drinking?\n"
     ]
    },
    {
     "name": "stderr",
     "output_type": "stream",
     "text": [
      "\u001b[33m[ WARN] [1680535020.538433378]: TF_REPEATED_DATA ignoring data with redundant timestamp for frame odom at time 139.146000 according to authority /pose_integrator\u001b[0m\n",
      "\u001b[33m[ WARN] [1680535020.538482780]: TF_REPEATED_DATA ignoring data with redundant timestamp for frame odom at time 139.146000 according to authority /pose_integrator\u001b[0m\n",
      "\u001b[33m[ WARN] [1680535020.538513933]: TF_REPEATED_DATA ignoring data with redundant timestamp for frame odom at time 139.146000 according to authority /pose_integrator\u001b[0m\n",
      "\u001b[33m[ WARN] [1680535020.538540416]: TF_REPEATED_DATA ignoring data with redundant timestamp for frame odom at time 139.146000 according to authority /pose_integrator\u001b[0m\n",
      "\u001b[33m[ WARN] [1680535022.732213697]: TF_REPEATED_DATA ignoring data with redundant timestamp for frame odom at time 139.906000 according to authority /pose_integrator\u001b[0m\n",
      "\u001b[33m[ WARN] [1680535022.732274144]: TF_REPEATED_DATA ignoring data with redundant timestamp for frame odom at time 139.906000 according to authority /pose_integrator\u001b[0m\n",
      "\u001b[33m[ WARN] [1680535022.732316525]: TF_REPEATED_DATA ignoring data with redundant timestamp for frame odom at time 139.906000 according to authority /pose_integrator\u001b[0m\n",
      "\u001b[33m[ WARN] [1680535022.732347375]: TF_REPEATED_DATA ignoring data with redundant timestamp for frame odom at time 139.906000 according to authority /pose_integrator\u001b[0m\n",
      "\u001b[33m[ WARN] [1680535024.436480015]: TF_REPEATED_DATA ignoring data with redundant timestamp for frame odom at time 140.571000 according to authority /pose_integrator\u001b[0m\n",
      "\u001b[33m[ WARN] [1680535024.436533759]: TF_REPEATED_DATA ignoring data with redundant timestamp for frame odom at time 140.571000 according to authority /pose_integrator\u001b[0m\n",
      "\u001b[33m[ WARN] [1680535024.436568157]: TF_REPEATED_DATA ignoring data with redundant timestamp for frame odom at time 140.571000 according to authority /pose_integrator\u001b[0m\n",
      "\u001b[33m[ WARN] [1680535024.436600909]: TF_REPEATED_DATA ignoring data with redundant timestamp for frame odom at time 140.571000 according to authority /pose_integrator\u001b[0m\n",
      "\u001b[33m[ WARN] [1680535024.916809305]: TF_REPEATED_DATA ignoring data with redundant timestamp for frame odom at time 140.756000 according to authority /pose_integrator\u001b[0m\n",
      "\u001b[33m[ WARN] [1680535024.916856716]: TF_REPEATED_DATA ignoring data with redundant timestamp for frame odom at time 140.756000 according to authority /pose_integrator\u001b[0m\n",
      "\u001b[33m[ WARN] [1680535024.916884029]: TF_REPEATED_DATA ignoring data with redundant timestamp for frame odom at time 140.756000 according to authority /pose_integrator\u001b[0m\n",
      "\u001b[33m[ WARN] [1680535024.916917556]: TF_REPEATED_DATA ignoring data with redundant timestamp for frame odom at time 140.756000 according to authority /pose_integrator\u001b[0m\n",
      "\u001b[33m[ WARN] [1680535027.899745572]: TF_REPEATED_DATA ignoring data with redundant timestamp for frame odom at time 141.895000 according to authority /pose_integrator\u001b[0m\n",
      "\u001b[33m[ WARN] [1680535027.899806808]: TF_REPEATED_DATA ignoring data with redundant timestamp for frame odom at time 141.895000 according to authority /pose_integrator\u001b[0m\n",
      "\u001b[33m[ WARN] [1680535027.899838316]: TF_REPEATED_DATA ignoring data with redundant timestamp for frame odom at time 141.895000 according to authority /pose_integrator\u001b[0m\n",
      "\u001b[33m[ WARN] [1680535027.899867736]: TF_REPEATED_DATA ignoring data with redundant timestamp for frame odom at time 141.895000 according to authority /pose_integrator\u001b[0m\n",
      "\u001b[33m[ WARN] [1680535039.514141462]: TF_REPEATED_DATA ignoring data with redundant timestamp for frame odom at time 146.200000 according to authority /pose_integrator\u001b[0m\n",
      "\u001b[33m[ WARN] [1680535039.514208330]: TF_REPEATED_DATA ignoring data with redundant timestamp for frame odom at time 146.200000 according to authority /pose_integrator\u001b[0m\n",
      "\u001b[33m[ WARN] [1680535039.514246601]: TF_REPEATED_DATA ignoring data with redundant timestamp for frame odom at time 146.200000 according to authority /pose_integrator\u001b[0m\n",
      "\u001b[33m[ WARN] [1680535039.514292386]: TF_REPEATED_DATA ignoring data with redundant timestamp for frame odom at time 146.200000 according to authority /pose_integrator\u001b[0m\n"
     ]
    }
   ],
   "source": [
    "if humanpose== False:\n",
    "    print ('no human ')\n",
    "    #omni_base.move_base(1,3.4,np.pi)\n",
    "        \n",
    "    res = omni_base.move_base(known_location='room1')\n",
    "\n",
    "\n",
    "else:\n",
    "    print('getting close to human')\n",
    "    head.to_tf('human')\n",
    "    omni_base.move_d_to(1.6,'human')\n",
    "    head.to_tf('human')\n",
    "    print ( \"is he drinking?\")\n",
    "    "
   ]
  },
  {
   "cell_type": "code",
   "execution_count": 13,
   "id": "4b090552",
   "metadata": {},
   "outputs": [
    {
     "name": "stderr",
     "output_type": "stream",
     "text": [
      "\u001b[33m[ WARN] [1680535043.581568924]: TF_REPEATED_DATA ignoring data with redundant timestamp for frame odom at time 147.688000 according to authority /pose_integrator\u001b[0m\n",
      "\u001b[33m[ WARN] [1680535043.581613953]: TF_REPEATED_DATA ignoring data with redundant timestamp for frame odom at time 147.688000 according to authority /pose_integrator\u001b[0m\n",
      "\u001b[33m[ WARN] [1680535043.581645508]: TF_REPEATED_DATA ignoring data with redundant timestamp for frame odom at time 147.688000 according to authority /pose_integrator\u001b[0m\n",
      "\u001b[33m[ WARN] [1680535043.581668873]: TF_REPEATED_DATA ignoring data with redundant timestamp for frame odom at time 147.688000 according to authority /pose_integrator\u001b[0m\n",
      "\u001b[33m[ WARN] [1680535047.091200229]: TF_REPEATED_DATA ignoring data with redundant timestamp for frame odom at time 148.827000 according to authority /pose_integrator\u001b[0m\n",
      "\u001b[33m[ WARN] [1680535047.091247168]: TF_REPEATED_DATA ignoring data with redundant timestamp for frame odom at time 148.827000 according to authority /pose_integrator\u001b[0m\n",
      "\u001b[33m[ WARN] [1680535047.091275278]: TF_REPEATED_DATA ignoring data with redundant timestamp for frame odom at time 148.827000 according to authority /pose_integrator\u001b[0m\n",
      "\u001b[33m[ WARN] [1680535047.091301212]: TF_REPEATED_DATA ignoring data with redundant timestamp for frame odom at time 148.827000 according to authority /pose_integrator\u001b[0m\n",
      "\u001b[33m[ WARN] [1680535063.350272784]: TF_REPEATED_DATA ignoring data with redundant timestamp for frame odom at time 155.111000 according to authority /pose_integrator\u001b[0m\n",
      "\u001b[33m[ WARN] [1680535063.350351938]: TF_REPEATED_DATA ignoring data with redundant timestamp for frame odom at time 155.111000 according to authority /pose_integrator\u001b[0m\n",
      "\u001b[33m[ WARN] [1680535063.350388393]: TF_REPEATED_DATA ignoring data with redundant timestamp for frame odom at time 155.111000 according to authority /pose_integrator\u001b[0m\n",
      "\u001b[33m[ WARN] [1680535063.350426472]: TF_REPEATED_DATA ignoring data with redundant timestamp for frame odom at time 155.111000 according to authority /pose_integrator\u001b[0m\n",
      "\u001b[33m[ WARN] [1680535064.794266381]: TF_REPEATED_DATA ignoring data with redundant timestamp for frame odom at time 155.659000 according to authority /pose_integrator\u001b[0m\n",
      "\u001b[33m[ WARN] [1680535064.794317390]: TF_REPEATED_DATA ignoring data with redundant timestamp for frame odom at time 155.659000 according to authority /pose_integrator\u001b[0m\n",
      "\u001b[33m[ WARN] [1680535064.794359324]: TF_REPEATED_DATA ignoring data with redundant timestamp for frame odom at time 155.659000 according to authority /pose_integrator\u001b[0m\n",
      "\u001b[33m[ WARN] [1680535064.794397429]: TF_REPEATED_DATA ignoring data with redundant timestamp for frame odom at time 155.659000 according to authority /pose_integrator\u001b[0m\n",
      "\u001b[33m[ WARN] [1680535071.713729971]: TF_REPEATED_DATA ignoring data with redundant timestamp for frame odom at time 158.268000 according to authority /pose_integrator\u001b[0m\n",
      "\u001b[33m[ WARN] [1680535071.713772441]: TF_REPEATED_DATA ignoring data with redundant timestamp for frame odom at time 158.268000 according to authority /pose_integrator\u001b[0m\n",
      "\u001b[33m[ WARN] [1680535071.713795740]: TF_REPEATED_DATA ignoring data with redundant timestamp for frame odom at time 158.268000 according to authority /pose_integrator\u001b[0m\n",
      "\u001b[33m[ WARN] [1680535071.713817658]: TF_REPEATED_DATA ignoring data with redundant timestamp for frame odom at time 158.268000 according to authority /pose_integrator\u001b[0m\n",
      "\u001b[33m[ WARN] [1680535076.988690807]: TF_REPEATED_DATA ignoring data with redundant timestamp for frame odom at time 160.417000 according to authority /pose_integrator\u001b[0m\n",
      "\u001b[33m[ WARN] [1680535076.988741074]: TF_REPEATED_DATA ignoring data with redundant timestamp for frame odom at time 160.417000 according to authority /pose_integrator\u001b[0m\n",
      "\u001b[33m[ WARN] [1680535076.988776797]: TF_REPEATED_DATA ignoring data with redundant timestamp for frame odom at time 160.417000 according to authority /pose_integrator\u001b[0m\n",
      "\u001b[33m[ WARN] [1680535076.988805743]: TF_REPEATED_DATA ignoring data with redundant timestamp for frame odom at time 160.417000 according to authority /pose_integrator\u001b[0m\n",
      "\u001b[33m[ WARN] [1680535081.797743980]: TF_REPEATED_DATA ignoring data with redundant timestamp for frame odom at time 162.377000 according to authority /pose_integrator\u001b[0m\n",
      "\u001b[33m[ WARN] [1680535081.797790779]: TF_REPEATED_DATA ignoring data with redundant timestamp for frame odom at time 162.377000 according to authority /pose_integrator\u001b[0m\n",
      "\u001b[33m[ WARN] [1680535081.797825079]: TF_REPEATED_DATA ignoring data with redundant timestamp for frame odom at time 162.377000 according to authority /pose_integrator\u001b[0m\n",
      "\u001b[33m[ WARN] [1680535081.797849936]: TF_REPEATED_DATA ignoring data with redundant timestamp for frame odom at time 162.377000 according to authority /pose_integrator\u001b[0m\n",
      "\u001b[33m[ WARN] [1680535081.994826926]: TF_REPEATED_DATA ignoring data with redundant timestamp for frame odom at time 162.496000 according to authority /pose_integrator\u001b[0m\n",
      "\u001b[33m[ WARN] [1680535081.994878512]: TF_REPEATED_DATA ignoring data with redundant timestamp for frame odom at time 162.496000 according to authority /pose_integrator\u001b[0m\n",
      "\u001b[33m[ WARN] [1680535081.994906050]: TF_REPEATED_DATA ignoring data with redundant timestamp for frame odom at time 162.496000 according to authority /pose_integrator\u001b[0m\n",
      "\u001b[33m[ WARN] [1680535081.994944773]: TF_REPEATED_DATA ignoring data with redundant timestamp for frame odom at time 162.496000 according to authority /pose_integrator\u001b[0m\n",
      "\u001b[33m[ WARN] [1680535088.222496011]: TF_REPEATED_DATA ignoring data with redundant timestamp for frame odom at time 164.954000 according to authority /pose_integrator\u001b[0m\n",
      "\u001b[33m[ WARN] [1680535088.222545527]: TF_REPEATED_DATA ignoring data with redundant timestamp for frame odom at time 164.954000 according to authority /pose_integrator\u001b[0m\n",
      "\u001b[33m[ WARN] [1680535088.222585970]: TF_REPEATED_DATA ignoring data with redundant timestamp for frame odom at time 164.954000 according to authority /pose_integrator\u001b[0m\n",
      "\u001b[33m[ WARN] [1680535088.222675698]: TF_REPEATED_DATA ignoring data with redundant timestamp for frame odom at time 164.954000 according to authority /pose_integrator\u001b[0m\n",
      "\u001b[33m[ WARN] [1680535088.376303923]: TF_REPEATED_DATA ignoring data with redundant timestamp for frame odom at time 165.036000 according to authority /pose_integrator\u001b[0m\n",
      "\u001b[33m[ WARN] [1680535088.376361927]: TF_REPEATED_DATA ignoring data with redundant timestamp for frame odom at time 165.036000 according to authority /pose_integrator\u001b[0m\n",
      "\u001b[33m[ WARN] [1680535088.376400510]: TF_REPEATED_DATA ignoring data with redundant timestamp for frame odom at time 165.036000 according to authority /pose_integrator\u001b[0m\n",
      "\u001b[33m[ WARN] [1680535088.376439288]: TF_REPEATED_DATA ignoring data with redundant timestamp for frame odom at time 165.036000 according to authority /pose_integrator\u001b[0m\n",
      "\u001b[33m[ WARN] [1680535098.444801640]: TF_REPEATED_DATA ignoring data with redundant timestamp for frame odom at time 168.872000 according to authority /pose_integrator\u001b[0m\n",
      "\u001b[33m[ WARN] [1680535098.444850561]: TF_REPEATED_DATA ignoring data with redundant timestamp for frame odom at time 168.872000 according to authority /pose_integrator\u001b[0m\n",
      "\u001b[33m[ WARN] [1680535098.444882714]: TF_REPEATED_DATA ignoring data with redundant timestamp for frame odom at time 168.872000 according to authority /pose_integrator\u001b[0m\n",
      "\u001b[33m[ WARN] [1680535098.444921650]: TF_REPEATED_DATA ignoring data with redundant timestamp for frame odom at time 168.872000 according to authority /pose_integrator\u001b[0m\n",
      "\u001b[33m[ WARN] [1680535101.640279984]: TF_REPEATED_DATA ignoring data with redundant timestamp for frame odom at time 170.135000 according to authority /pose_integrator\u001b[0m\n",
      "\u001b[33m[ WARN] [1680535101.640325837]: TF_REPEATED_DATA ignoring data with redundant timestamp for frame odom at time 170.135000 according to authority /pose_integrator\u001b[0m\n",
      "\u001b[33m[ WARN] [1680535101.640354468]: TF_REPEATED_DATA ignoring data with redundant timestamp for frame odom at time 170.135000 according to authority /pose_integrator\u001b[0m\n",
      "\u001b[33m[ WARN] [1680535101.640380463]: TF_REPEATED_DATA ignoring data with redundant timestamp for frame odom at time 170.135000 according to authority /pose_integrator\u001b[0m\n"
     ]
    },
    {
     "name": "stderr",
     "output_type": "stream",
     "text": [
      "\u001b[33m[ WARN] [1680535102.471232760]: TF_REPEATED_DATA ignoring data with redundant timestamp for frame odom at time 170.466000 according to authority /pose_integrator\u001b[0m\n",
      "\u001b[33m[ WARN] [1680535102.471322505]: TF_REPEATED_DATA ignoring data with redundant timestamp for frame odom at time 170.466000 according to authority /pose_integrator\u001b[0m\n",
      "\u001b[33m[ WARN] [1680535102.471356662]: TF_REPEATED_DATA ignoring data with redundant timestamp for frame odom at time 170.466000 according to authority /pose_integrator\u001b[0m\n",
      "\u001b[33m[ WARN] [1680535102.471384214]: TF_REPEATED_DATA ignoring data with redundant timestamp for frame odom at time 170.466000 according to authority /pose_integrator\u001b[0m\n",
      "\u001b[33m[ WARN] [1680535109.291681355]: TF_REPEATED_DATA ignoring data with redundant timestamp for frame odom at time 173.225000 according to authority /pose_integrator\u001b[0m\n",
      "\u001b[33m[ WARN] [1680535109.291739991]: TF_REPEATED_DATA ignoring data with redundant timestamp for frame odom at time 173.225000 according to authority /pose_integrator\u001b[0m\n",
      "\u001b[33m[ WARN] [1680535109.291796313]: TF_REPEATED_DATA ignoring data with redundant timestamp for frame odom at time 173.225000 according to authority /pose_integrator\u001b[0m\n",
      "\u001b[33m[ WARN] [1680535109.291845075]: TF_REPEATED_DATA ignoring data with redundant timestamp for frame odom at time 173.225000 according to authority /pose_integrator\u001b[0m\n",
      "\u001b[33m[ WARN] [1680535111.329008975]: TF_REPEATED_DATA ignoring data with redundant timestamp for frame odom at time 173.994000 according to authority /pose_integrator\u001b[0m\n",
      "\u001b[33m[ WARN] [1680535111.329058245]: TF_REPEATED_DATA ignoring data with redundant timestamp for frame odom at time 173.994000 according to authority /pose_integrator\u001b[0m\n",
      "\u001b[33m[ WARN] [1680535111.329116788]: TF_REPEATED_DATA ignoring data with redundant timestamp for frame odom at time 173.994000 according to authority /pose_integrator\u001b[0m\n",
      "\u001b[33m[ WARN] [1680535111.329154851]: TF_REPEATED_DATA ignoring data with redundant timestamp for frame odom at time 173.994000 according to authority /pose_integrator\u001b[0m\n",
      "\u001b[33m[ WARN] [1680535113.101178279]: TF_REPEATED_DATA ignoring data with redundant timestamp for frame odom at time 174.714000 according to authority /pose_integrator\u001b[0m\n",
      "\u001b[33m[ WARN] [1680535113.101221077]: TF_REPEATED_DATA ignoring data with redundant timestamp for frame odom at time 174.714000 according to authority /pose_integrator\u001b[0m\n",
      "\u001b[33m[ WARN] [1680535113.101249351]: TF_REPEATED_DATA ignoring data with redundant timestamp for frame odom at time 174.714000 according to authority /pose_integrator\u001b[0m\n",
      "\u001b[33m[ WARN] [1680535113.101275630]: TF_REPEATED_DATA ignoring data with redundant timestamp for frame odom at time 174.714000 according to authority /pose_integrator\u001b[0m\n",
      "\u001b[33m[ WARN] [1680535126.578982762]: TF_REPEATED_DATA ignoring data with redundant timestamp for frame odom at time 179.824000 according to authority /pose_integrator\u001b[0m\n",
      "\u001b[33m[ WARN] [1680535126.579033833]: TF_REPEATED_DATA ignoring data with redundant timestamp for frame odom at time 179.824000 according to authority /pose_integrator\u001b[0m\n",
      "\u001b[33m[ WARN] [1680535126.579061742]: TF_REPEATED_DATA ignoring data with redundant timestamp for frame odom at time 179.824000 according to authority /pose_integrator\u001b[0m\n",
      "\u001b[33m[ WARN] [1680535126.579087362]: TF_REPEATED_DATA ignoring data with redundant timestamp for frame odom at time 179.824000 according to authority /pose_integrator\u001b[0m\n",
      "\u001b[33m[ WARN] [1680535138.973459044]: TF_REPEATED_DATA ignoring data with redundant timestamp for frame odom at time 184.696000 according to authority /pose_integrator\u001b[0m\n",
      "\u001b[33m[ WARN] [1680535138.973510524]: TF_REPEATED_DATA ignoring data with redundant timestamp for frame odom at time 184.696000 according to authority /pose_integrator\u001b[0m\n",
      "\u001b[33m[ WARN] [1680535138.973544811]: TF_REPEATED_DATA ignoring data with redundant timestamp for frame odom at time 184.696000 according to authority /pose_integrator\u001b[0m\n",
      "\u001b[33m[ WARN] [1680535138.973578691]: TF_REPEATED_DATA ignoring data with redundant timestamp for frame odom at time 184.696000 according to authority /pose_integrator\u001b[0m\n",
      "\u001b[33m[ WARN] [1680535141.363255544]: TF_REPEATED_DATA ignoring data with redundant timestamp for frame odom at time 185.688000 according to authority /pose_integrator\u001b[0m\n",
      "\u001b[33m[ WARN] [1680535141.363306219]: TF_REPEATED_DATA ignoring data with redundant timestamp for frame odom at time 185.688000 according to authority /pose_integrator\u001b[0m\n",
      "\u001b[33m[ WARN] [1680535141.363344251]: TF_REPEATED_DATA ignoring data with redundant timestamp for frame odom at time 185.688000 according to authority /pose_integrator\u001b[0m\n",
      "\u001b[33m[ WARN] [1680535141.363370655]: TF_REPEATED_DATA ignoring data with redundant timestamp for frame odom at time 185.688000 according to authority /pose_integrator\u001b[0m\n",
      "\u001b[33m[ WARN] [1680535155.699885417]: TF_REPEATED_DATA ignoring data with redundant timestamp for frame odom at time 191.392000 according to authority /pose_integrator\u001b[0m\n",
      "\u001b[33m[ WARN] [1680535155.699943640]: TF_REPEATED_DATA ignoring data with redundant timestamp for frame odom at time 191.392000 according to authority /pose_integrator\u001b[0m\n",
      "\u001b[33m[ WARN] [1680535155.699977406]: TF_REPEATED_DATA ignoring data with redundant timestamp for frame odom at time 191.392000 according to authority /pose_integrator\u001b[0m\n",
      "\u001b[33m[ WARN] [1680535155.700008104]: TF_REPEATED_DATA ignoring data with redundant timestamp for frame odom at time 191.392000 according to authority /pose_integrator\u001b[0m\n",
      "\u001b[33m[ WARN] [1680535157.823102690]: TF_REPEATED_DATA ignoring data with redundant timestamp for frame odom at time 192.280000 according to authority /pose_integrator\u001b[0m\n",
      "\u001b[33m[ WARN] [1680535157.823144802]: TF_REPEATED_DATA ignoring data with redundant timestamp for frame odom at time 192.280000 according to authority /pose_integrator\u001b[0m\n",
      "\u001b[33m[ WARN] [1680535157.823186840]: TF_REPEATED_DATA ignoring data with redundant timestamp for frame odom at time 192.280000 according to authority /pose_integrator\u001b[0m\n",
      "\u001b[33m[ WARN] [1680535157.823229542]: TF_REPEATED_DATA ignoring data with redundant timestamp for frame odom at time 192.280000 according to authority /pose_integrator\u001b[0m\n",
      "\u001b[33m[ WARN] [1680535177.441042523]: TF_REPEATED_DATA ignoring data with redundant timestamp for frame odom at time 200.208000 according to authority /pose_integrator\u001b[0m\n",
      "\u001b[33m[ WARN] [1680535177.441100354]: TF_REPEATED_DATA ignoring data with redundant timestamp for frame odom at time 200.208000 according to authority /pose_integrator\u001b[0m\n",
      "\u001b[33m[ WARN] [1680535177.441321303]: TF_REPEATED_DATA ignoring data with redundant timestamp for frame odom at time 200.208000 according to authority /pose_integrator\u001b[0m\n",
      "\u001b[33m[ WARN] [1680535177.441354766]: TF_REPEATED_DATA ignoring data with redundant timestamp for frame odom at time 200.208000 according to authority /pose_integrator\u001b[0m\n",
      "\u001b[33m[ WARN] [1680535180.194795579]: TF_REPEATED_DATA ignoring data with redundant timestamp for frame odom at time 201.285000 according to authority /pose_integrator\u001b[0m\n",
      "\u001b[33m[ WARN] [1680535180.194869924]: TF_REPEATED_DATA ignoring data with redundant timestamp for frame odom at time 201.285000 according to authority /pose_integrator\u001b[0m\n",
      "\u001b[33m[ WARN] [1680535180.194908602]: TF_REPEATED_DATA ignoring data with redundant timestamp for frame odom at time 201.285000 according to authority /pose_integrator\u001b[0m\n",
      "\u001b[33m[ WARN] [1680535180.194945872]: TF_REPEATED_DATA ignoring data with redundant timestamp for frame odom at time 201.285000 according to authority /pose_integrator\u001b[0m\n",
      "\u001b[33m[ WARN] [1680535185.110812433]: TF_REPEATED_DATA ignoring data with redundant timestamp for frame odom at time 203.261000 according to authority /pose_integrator\u001b[0m\n",
      "\u001b[33m[ WARN] [1680535185.110871048]: TF_REPEATED_DATA ignoring data with redundant timestamp for frame odom at time 203.261000 according to authority /pose_integrator\u001b[0m\n",
      "\u001b[33m[ WARN] [1680535185.110912340]: TF_REPEATED_DATA ignoring data with redundant timestamp for frame odom at time 203.261000 according to authority /pose_integrator\u001b[0m\n",
      "\u001b[33m[ WARN] [1680535185.110940497]: TF_REPEATED_DATA ignoring data with redundant timestamp for frame odom at time 203.261000 according to authority /pose_integrator\u001b[0m\n"
     ]
    },
    {
     "name": "stderr",
     "output_type": "stream",
     "text": [
      "\u001b[33m[ WARN] [1680535196.872238103]: TF_REPEATED_DATA ignoring data with redundant timestamp for frame odom at time 207.685000 according to authority /pose_integrator\u001b[0m\n",
      "\u001b[33m[ WARN] [1680535196.872300075]: TF_REPEATED_DATA ignoring data with redundant timestamp for frame odom at time 207.685000 according to authority /pose_integrator\u001b[0m\n",
      "\u001b[33m[ WARN] [1680535196.872339433]: TF_REPEATED_DATA ignoring data with redundant timestamp for frame odom at time 207.685000 according to authority /pose_integrator\u001b[0m\n",
      "\u001b[33m[ WARN] [1680535196.872377334]: TF_REPEATED_DATA ignoring data with redundant timestamp for frame odom at time 207.685000 according to authority /pose_integrator\u001b[0m\n",
      "\u001b[33m[ WARN] [1680535197.384063101]: TF_REPEATED_DATA ignoring data with redundant timestamp for frame odom at time 207.917000 according to authority /pose_integrator\u001b[0m\n",
      "\u001b[33m[ WARN] [1680535197.384122873]: TF_REPEATED_DATA ignoring data with redundant timestamp for frame odom at time 207.917000 according to authority /pose_integrator\u001b[0m\n",
      "\u001b[33m[ WARN] [1680535197.384171796]: TF_REPEATED_DATA ignoring data with redundant timestamp for frame odom at time 207.917000 according to authority /pose_integrator\u001b[0m\n",
      "\u001b[33m[ WARN] [1680535197.384215297]: TF_REPEATED_DATA ignoring data with redundant timestamp for frame odom at time 207.917000 according to authority /pose_integrator\u001b[0m\n"
     ]
    }
   ],
   "source": [
    "### Wearing shoes?\n",
    "##Look at human's feet\n",
    "human_pos,_=tf_man.getTF('human')\n",
    "head.absolute(human_pos[0],human_pos[1],0.1)\n",
    "res=segmentation_server.call()"
   ]
  },
  {
   "cell_type": "code",
   "execution_count": 14,
   "id": "8dc93787",
   "metadata": {},
   "outputs": [
    {
     "data": {
      "text/plain": [
       "<matplotlib.image.AxesImage at 0x7f19a04e37c0>"
      ]
     },
     "execution_count": 14,
     "metadata": {},
     "output_type": "execute_result"
    },
    {
     "data": {
      "image/png": "[encoded data removed]",
      "text/plain": [
       "<Figure size 432x288 with 1 Axes>"
      ]
     },
     "metadata": {
      "needs_background": "light"
     },
     "output_type": "display_data"
    },
    {
     "name": "stderr",
     "output_type": "stream",
     "text": [
      "\u001b[33m[ WARN] [1680535209.276817030]: TF_REPEATED_DATA ignoring data with redundant timestamp for frame odom at time 212.526000 according to authority /pose_integrator\u001b[0m\n",
      "\u001b[33m[ WARN] [1680535209.276868663]: TF_REPEATED_DATA ignoring data with redundant timestamp for frame odom at time 212.526000 according to authority /pose_integrator\u001b[0m\n",
      "\u001b[33m[ WARN] [1680535209.276905954]: TF_REPEATED_DATA ignoring data with redundant timestamp for frame odom at time 212.526000 according to authority /pose_integrator\u001b[0m\n",
      "\u001b[33m[ WARN] [1680535209.276941701]: TF_REPEATED_DATA ignoring data with redundant timestamp for frame odom at time 212.526000 according to authority /pose_integrator\u001b[0m\n",
      "\u001b[33m[ WARN] [1680535227.318951931]: TF_REPEATED_DATA ignoring data with redundant timestamp for frame odom at time 219.466000 according to authority /pose_integrator\u001b[0m\n",
      "\u001b[33m[ WARN] [1680535227.319008274]: TF_REPEATED_DATA ignoring data with redundant timestamp for frame odom at time 219.466000 according to authority /pose_integrator\u001b[0m\n",
      "\u001b[33m[ WARN] [1680535227.319047467]: TF_REPEATED_DATA ignoring data with redundant timestamp for frame odom at time 219.466000 according to authority /pose_integrator\u001b[0m\n",
      "\u001b[33m[ WARN] [1680535227.319084956]: TF_REPEATED_DATA ignoring data with redundant timestamp for frame odom at time 219.466000 according to authority /pose_integrator\u001b[0m\n",
      "\u001b[33m[ WARN] [1680535229.138043561]: TF_REPEATED_DATA ignoring data with redundant timestamp for frame odom at time 220.233000 according to authority /pose_integrator\u001b[0m\n",
      "\u001b[33m[ WARN] [1680535229.138106099]: TF_REPEATED_DATA ignoring data with redundant timestamp for frame odom at time 220.233000 according to authority /pose_integrator\u001b[0m\n",
      "\u001b[33m[ WARN] [1680535229.138164943]: TF_REPEATED_DATA ignoring data with redundant timestamp for frame odom at time 220.233000 according to authority /pose_integrator\u001b[0m\n",
      "\u001b[33m[ WARN] [1680535229.138205595]: TF_REPEATED_DATA ignoring data with redundant timestamp for frame odom at time 220.233000 according to authority /pose_integrator\u001b[0m\n",
      "\u001b[33m[ WARN] [1680535233.812822407]: TF_REPEATED_DATA ignoring data with redundant timestamp for frame odom at time 222.071000 according to authority /pose_integrator\u001b[0m\n",
      "\u001b[33m[ WARN] [1680535233.812868548]: TF_REPEATED_DATA ignoring data with redundant timestamp for frame odom at time 222.071000 according to authority /pose_integrator\u001b[0m\n",
      "\u001b[33m[ WARN] [1680535233.812897038]: TF_REPEATED_DATA ignoring data with redundant timestamp for frame odom at time 222.071000 according to authority /pose_integrator\u001b[0m\n",
      "\u001b[33m[ WARN] [1680535233.812924807]: TF_REPEATED_DATA ignoring data with redundant timestamp for frame odom at time 222.071000 according to authority /pose_integrator\u001b[0m\n",
      "\u001b[33m[ WARN] [1680535233.903765008]: TF_REPEATED_DATA ignoring data with redundant timestamp for frame odom at time 222.115000 according to authority /pose_integrator\u001b[0m\n",
      "\u001b[33m[ WARN] [1680535233.903816614]: TF_REPEATED_DATA ignoring data with redundant timestamp for frame odom at time 222.115000 according to authority /pose_integrator\u001b[0m\n",
      "\u001b[33m[ WARN] [1680535233.903851106]: TF_REPEATED_DATA ignoring data with redundant timestamp for frame odom at time 222.115000 according to authority /pose_integrator\u001b[0m\n",
      "\u001b[33m[ WARN] [1680535233.903883291]: TF_REPEATED_DATA ignoring data with redundant timestamp for frame odom at time 222.115000 according to authority /pose_integrator\u001b[0m\n",
      "\u001b[33m[ WARN] [1680535234.271896140]: TF_REPEATED_DATA ignoring data with redundant timestamp for frame odom at time 222.283000 according to authority /pose_integrator\u001b[0m\n",
      "\u001b[33m[ WARN] [1680535234.271952049]: TF_REPEATED_DATA ignoring data with redundant timestamp for frame odom at time 222.283000 according to authority /pose_integrator\u001b[0m\n",
      "\u001b[33m[ WARN] [1680535234.271981589]: TF_REPEATED_DATA ignoring data with redundant timestamp for frame odom at time 222.283000 according to authority /pose_integrator\u001b[0m\n",
      "\u001b[33m[ WARN] [1680535234.272007887]: TF_REPEATED_DATA ignoring data with redundant timestamp for frame odom at time 222.283000 according to authority /pose_integrator\u001b[0m\n",
      "\u001b[33m[ WARN] [1680535256.406596798]: TF_REPEATED_DATA ignoring data with redundant timestamp for frame odom at time 230.550000 according to authority /pose_integrator\u001b[0m\n",
      "\u001b[33m[ WARN] [1680535256.406655321]: TF_REPEATED_DATA ignoring data with redundant timestamp for frame odom at time 230.550000 according to authority /pose_integrator\u001b[0m\n",
      "\u001b[33m[ WARN] [1680535256.406689008]: TF_REPEATED_DATA ignoring data with redundant timestamp for frame odom at time 230.550000 according to authority /pose_integrator\u001b[0m\n",
      "\u001b[33m[ WARN] [1680535256.406739995]: TF_REPEATED_DATA ignoring data with redundant timestamp for frame odom at time 230.550000 according to authority /pose_integrator\u001b[0m\n",
      "\u001b[33m[ WARN] [1680535259.971693221]: TF_REPEATED_DATA ignoring data with redundant timestamp for frame odom at time 231.847000 according to authority /pose_integrator\u001b[0m\n",
      "\u001b[33m[ WARN] [1680535259.971739053]: TF_REPEATED_DATA ignoring data with redundant timestamp for frame odom at time 231.847000 according to authority /pose_integrator\u001b[0m\n",
      "\u001b[33m[ WARN] [1680535259.971771214]: TF_REPEATED_DATA ignoring data with redundant timestamp for frame odom at time 231.847000 according to authority /pose_integrator\u001b[0m\n",
      "\u001b[33m[ WARN] [1680535259.971800943]: TF_REPEATED_DATA ignoring data with redundant timestamp for frame odom at time 231.847000 according to authority /pose_integrator\u001b[0m\n",
      "\u001b[33m[ WARN] [1680535260.897733105]: TF_REPEATED_DATA ignoring data with redundant timestamp for frame odom at time 232.227000 according to authority /pose_integrator\u001b[0m\n",
      "\u001b[33m[ WARN] [1680535260.897795255]: TF_REPEATED_DATA ignoring data with redundant timestamp for frame odom at time 232.227000 according to authority /pose_integrator\u001b[0m\n",
      "\u001b[33m[ WARN] [1680535260.897832960]: TF_REPEATED_DATA ignoring data with redundant timestamp for frame odom at time 232.227000 according to authority /pose_integrator\u001b[0m\n",
      "\u001b[33m[ WARN] [1680535260.897859546]: TF_REPEATED_DATA ignoring data with redundant timestamp for frame odom at time 232.227000 according to authority /pose_integrator\u001b[0m\n",
      "\u001b[33m[ WARN] [1680535263.924572419]: TF_REPEATED_DATA ignoring data with redundant timestamp for frame odom at time 233.430000 according to authority /pose_integrator\u001b[0m\n",
      "\u001b[33m[ WARN] [1680535263.924619411]: TF_REPEATED_DATA ignoring data with redundant timestamp for frame odom at time 233.430000 according to authority /pose_integrator\u001b[0m\n",
      "\u001b[33m[ WARN] [1680535263.924655039]: TF_REPEATED_DATA ignoring data with redundant timestamp for frame odom at time 233.430000 according to authority /pose_integrator\u001b[0m\n",
      "\u001b[33m[ WARN] [1680535263.924689671]: TF_REPEATED_DATA ignoring data with redundant timestamp for frame odom at time 233.430000 according to authority /pose_integrator\u001b[0m\n",
      "\u001b[33m[ WARN] [1680535266.177818256]: TF_REPEATED_DATA ignoring data with redundant timestamp for frame odom at time 234.304000 according to authority /pose_integrator\u001b[0m\n",
      "\u001b[33m[ WARN] [1680535266.177866622]: TF_REPEATED_DATA ignoring data with redundant timestamp for frame odom at time 234.304000 according to authority /pose_integrator\u001b[0m\n",
      "\u001b[33m[ WARN] [1680535266.177894062]: TF_REPEATED_DATA ignoring data with redundant timestamp for frame odom at time 234.304000 according to authority /pose_integrator\u001b[0m\n",
      "\u001b[33m[ WARN] [1680535266.177923623]: TF_REPEATED_DATA ignoring data with redundant timestamp for frame odom at time 234.304000 according to authority /pose_integrator\u001b[0m\n",
      "\u001b[33m[ WARN] [1680535268.006977024]: TF_REPEATED_DATA ignoring data with redundant timestamp for frame odom at time 235.027000 according to authority /pose_integrator\u001b[0m\n",
      "\u001b[33m[ WARN] [1680535268.007037153]: TF_REPEATED_DATA ignoring data with redundant timestamp for frame odom at time 235.027000 according to authority /pose_integrator\u001b[0m\n",
      "\u001b[33m[ WARN] [1680535268.007082354]: TF_REPEATED_DATA ignoring data with redundant timestamp for frame odom at time 235.027000 according to authority /pose_integrator\u001b[0m\n",
      "\u001b[33m[ WARN] [1680535268.007123799]: TF_REPEATED_DATA ignoring data with redundant timestamp for frame odom at time 235.027000 according to authority /pose_integrator\u001b[0m\n"
     ]
    },
    {
     "name": "stderr",
     "output_type": "stream",
     "text": [
      "\u001b[33m[ WARN] [1680535268.416773604]: TF_REPEATED_DATA ignoring data with redundant timestamp for frame odom at time 235.216000 according to authority /pose_integrator\u001b[0m\n",
      "\u001b[33m[ WARN] [1680535268.416852213]: TF_REPEATED_DATA ignoring data with redundant timestamp for frame odom at time 235.216000 according to authority /pose_integrator\u001b[0m\n",
      "\u001b[33m[ WARN] [1680535268.416892694]: TF_REPEATED_DATA ignoring data with redundant timestamp for frame odom at time 235.216000 according to authority /pose_integrator\u001b[0m\n",
      "\u001b[33m[ WARN] [1680535268.416927608]: TF_REPEATED_DATA ignoring data with redundant timestamp for frame odom at time 235.216000 according to authority /pose_integrator\u001b[0m\n",
      "\u001b[33m[ WARN] [1680535270.165341848]: TF_REPEATED_DATA ignoring data with redundant timestamp for frame odom at time 235.822000 according to authority /pose_integrator\u001b[0m\n",
      "\u001b[33m[ WARN] [1680535270.165383269]: TF_REPEATED_DATA ignoring data with redundant timestamp for frame odom at time 235.822000 according to authority /pose_integrator\u001b[0m\n",
      "\u001b[33m[ WARN] [1680535270.165412491]: TF_REPEATED_DATA ignoring data with redundant timestamp for frame odom at time 235.822000 according to authority /pose_integrator\u001b[0m\n",
      "\u001b[33m[ WARN] [1680535270.165447276]: TF_REPEATED_DATA ignoring data with redundant timestamp for frame odom at time 235.822000 according to authority /pose_integrator\u001b[0m\n"
     ]
    }
   ],
   "source": [
    "import matplotlib.pyplot as plt\n",
    "img=rgbd.get_image()\n",
    "plt.imshow(img)"
   ]
  },
  {
   "cell_type": "code",
   "execution_count": null,
   "id": "dc5134a1",
   "metadata": {},
   "outputs": [],
   "source": [
    "##Look for rubish near human\n",
    "head.set_joint_values((0.3,-0.94))\n",
    "res=segmentation_server.call()\n"
   ]
  },
  {
   "cell_type": "code",
   "execution_count": 6,
   "id": "9df766b2",
   "metadata": {},
   "outputs": [
    {
     "name": "stdout",
     "output_type": "stream",
     "text": [
      "header: \n",
      "  seq: 0\n",
      "  stamp: \n",
      "    secs: 0\n",
      "    nsecs:         0\n",
      "  frame_id: ''\n",
      "goal_id: \n",
      "  stamp: \n",
      "    secs: 0\n",
      "    nsecs:         0\n",
      "  id: ''\n",
      "goal: \n",
      "  x: 0.0\n",
      "  y: 0.0\n",
      "  yaw: 0.0\n",
      "  timeout: 30\n",
      "  known_location: \"room1\"\n"
     ]
    },
    {
     "data": {
      "text/plain": [
       "3"
      ]
     },
     "execution_count": 6,
     "metadata": {},
     "output_type": "execute_result"
    },
    {
     "name": "stderr",
     "output_type": "stream",
     "text": [
      "\u001b[33m[ WARN] [1680534857.628739466]: TF_REPEATED_DATA ignoring data with redundant timestamp for frame odom at time 82.620000 according to authority /pose_integrator\u001b[0m\n",
      "\u001b[33m[ WARN] [1680534857.628786847]: TF_REPEATED_DATA ignoring data with redundant timestamp for frame odom at time 82.620000 according to authority /pose_integrator\u001b[0m\n",
      "\u001b[33m[ WARN] [1680534857.628824673]: TF_REPEATED_DATA ignoring data with redundant timestamp for frame odom at time 82.620000 according to authority /pose_integrator\u001b[0m\n",
      "\u001b[33m[ WARN] [1680534857.628859377]: TF_REPEATED_DATA ignoring data with redundant timestamp for frame odom at time 82.620000 according to authority /pose_integrator\u001b[0m\n",
      "\u001b[33m[ WARN] [1680534858.470266214]: TF_REPEATED_DATA ignoring data with redundant timestamp for frame odom at time 82.997000 according to authority /pose_integrator\u001b[0m\n",
      "\u001b[33m[ WARN] [1680534858.470307026]: TF_REPEATED_DATA ignoring data with redundant timestamp for frame odom at time 82.997000 according to authority /pose_integrator\u001b[0m\n",
      "\u001b[33m[ WARN] [1680534858.470332497]: TF_REPEATED_DATA ignoring data with redundant timestamp for frame odom at time 82.997000 according to authority /pose_integrator\u001b[0m\n",
      "\u001b[33m[ WARN] [1680534858.470356131]: TF_REPEATED_DATA ignoring data with redundant timestamp for frame odom at time 82.997000 according to authority /pose_integrator\u001b[0m\n",
      "\u001b[33m[ WARN] [1680534868.627180412]: TF_REPEATED_DATA ignoring data with redundant timestamp for frame odom at time 87.195000 according to authority /pose_integrator\u001b[0m\n",
      "\u001b[33m[ WARN] [1680534868.627232811]: TF_REPEATED_DATA ignoring data with redundant timestamp for frame odom at time 87.195000 according to authority /pose_integrator\u001b[0m\n",
      "\u001b[33m[ WARN] [1680534868.627273699]: TF_REPEATED_DATA ignoring data with redundant timestamp for frame odom at time 87.195000 according to authority /pose_integrator\u001b[0m\n",
      "\u001b[33m[ WARN] [1680534868.627313493]: TF_REPEATED_DATA ignoring data with redundant timestamp for frame odom at time 87.195000 according to authority /pose_integrator\u001b[0m\n",
      "\u001b[33m[ WARN] [1680534871.471536634]: TF_REPEATED_DATA ignoring data with redundant timestamp for frame odom at time 88.378000 according to authority /pose_integrator\u001b[0m\n",
      "\u001b[33m[ WARN] [1680534871.471586203]: TF_REPEATED_DATA ignoring data with redundant timestamp for frame odom at time 88.378000 according to authority /pose_integrator\u001b[0m\n",
      "\u001b[33m[ WARN] [1680534871.471614341]: TF_REPEATED_DATA ignoring data with redundant timestamp for frame odom at time 88.378000 according to authority /pose_integrator\u001b[0m\n",
      "\u001b[33m[ WARN] [1680534871.471645388]: TF_REPEATED_DATA ignoring data with redundant timestamp for frame odom at time 88.378000 according to authority /pose_integrator\u001b[0m\n",
      "\u001b[33m[ WARN] [1680534876.499305092]: TF_REPEATED_DATA ignoring data with redundant timestamp for frame odom at time 90.438000 according to authority /pose_integrator\u001b[0m\n",
      "\u001b[33m[ WARN] [1680534876.499367892]: TF_REPEATED_DATA ignoring data with redundant timestamp for frame odom at time 90.438000 according to authority /pose_integrator\u001b[0m\n",
      "\u001b[33m[ WARN] [1680534876.499715933]: TF_REPEATED_DATA ignoring data with redundant timestamp for frame odom at time 90.438000 according to authority /pose_integrator\u001b[0m\n",
      "\u001b[33m[ WARN] [1680534876.499762752]: TF_REPEATED_DATA ignoring data with redundant timestamp for frame odom at time 90.438000 according to authority /pose_integrator\u001b[0m\n",
      "\u001b[33m[ WARN] [1680534880.742137805]: TF_REPEATED_DATA ignoring data with redundant timestamp for frame odom at time 92.106000 according to authority /pose_integrator\u001b[0m\n",
      "\u001b[33m[ WARN] [1680534880.742189711]: TF_REPEATED_DATA ignoring data with redundant timestamp for frame odom at time 92.106000 according to authority /pose_integrator\u001b[0m\n",
      "\u001b[33m[ WARN] [1680534880.742225223]: TF_REPEATED_DATA ignoring data with redundant timestamp for frame odom at time 92.106000 according to authority /pose_integrator\u001b[0m\n",
      "\u001b[33m[ WARN] [1680534880.742253454]: TF_REPEATED_DATA ignoring data with redundant timestamp for frame odom at time 92.106000 according to authority /pose_integrator\u001b[0m\n",
      "\u001b[33m[ WARN] [1680534883.572865898]: TF_REPEATED_DATA ignoring data with redundant timestamp for frame odom at time 93.174000 according to authority /pose_integrator\u001b[0m\n",
      "\u001b[33m[ WARN] [1680534883.572924706]: TF_REPEATED_DATA ignoring data with redundant timestamp for frame odom at time 93.174000 according to authority /pose_integrator\u001b[0m\n",
      "\u001b[33m[ WARN] [1680534883.572965590]: TF_REPEATED_DATA ignoring data with redundant timestamp for frame odom at time 93.174000 according to authority /pose_integrator\u001b[0m\n",
      "\u001b[33m[ WARN] [1680534883.573004580]: TF_REPEATED_DATA ignoring data with redundant timestamp for frame odom at time 93.174000 according to authority /pose_integrator\u001b[0m\n",
      "\u001b[33m[ WARN] [1680534885.255546311]: TF_REPEATED_DATA ignoring data with redundant timestamp for frame odom at time 93.851000 according to authority /pose_integrator\u001b[0m\n",
      "\u001b[33m[ WARN] [1680534885.255583822]: TF_REPEATED_DATA ignoring data with redundant timestamp for frame odom at time 93.851000 according to authority /pose_integrator\u001b[0m\n",
      "\u001b[33m[ WARN] [1680534885.255609232]: TF_REPEATED_DATA ignoring data with redundant timestamp for frame odom at time 93.851000 according to authority /pose_integrator\u001b[0m\n",
      "\u001b[33m[ WARN] [1680534885.255635536]: TF_REPEATED_DATA ignoring data with redundant timestamp for frame odom at time 93.851000 according to authority /pose_integrator\u001b[0m\n",
      "\u001b[33m[ WARN] [1680534890.494685575]: TF_REPEATED_DATA ignoring data with redundant timestamp for frame odom at time 95.849000 according to authority /pose_integrator\u001b[0m\n",
      "\u001b[33m[ WARN] [1680534890.494738704]: TF_REPEATED_DATA ignoring data with redundant timestamp for frame odom at time 95.849000 according to authority /pose_integrator\u001b[0m\n",
      "\u001b[33m[ WARN] [1680534890.494779384]: TF_REPEATED_DATA ignoring data with redundant timestamp for frame odom at time 95.849000 according to authority /pose_integrator\u001b[0m\n",
      "\u001b[33m[ WARN] [1680534890.494806375]: TF_REPEATED_DATA ignoring data with redundant timestamp for frame odom at time 95.849000 according to authority /pose_integrator\u001b[0m\n",
      "\u001b[33m[ WARN] [1680534890.797559887]: TF_REPEATED_DATA ignoring data with redundant timestamp for frame odom at time 95.974000 according to authority /pose_integrator\u001b[0m\n",
      "\u001b[33m[ WARN] [1680534890.797603298]: TF_REPEATED_DATA ignoring data with redundant timestamp for frame odom at time 95.974000 according to authority /pose_integrator\u001b[0m\n",
      "\u001b[33m[ WARN] [1680534890.798018057]: TF_REPEATED_DATA ignoring data with redundant timestamp for frame odom at time 95.974000 according to authority /pose_integrator\u001b[0m\n",
      "\u001b[33m[ WARN] [1680534890.798051781]: TF_REPEATED_DATA ignoring data with redundant timestamp for frame odom at time 95.974000 according to authority /pose_integrator\u001b[0m\n",
      "\u001b[33m[ WARN] [1680534895.790452625]: TF_REPEATED_DATA ignoring data with redundant timestamp for frame odom at time 98.055000 according to authority /pose_integrator\u001b[0m\n",
      "\u001b[33m[ WARN] [1680534895.790489901]: TF_REPEATED_DATA ignoring data with redundant timestamp for frame odom at time 98.055000 according to authority /pose_integrator\u001b[0m\n",
      "\u001b[33m[ WARN] [1680534895.790512169]: TF_REPEATED_DATA ignoring data with redundant timestamp for frame odom at time 98.055000 according to authority /pose_integrator\u001b[0m\n",
      "\u001b[33m[ WARN] [1680534895.790532724]: TF_REPEATED_DATA ignoring data with redundant timestamp for frame odom at time 98.055000 according to authority /pose_integrator\u001b[0m\n"
     ]
    }
   ],
   "source": [
    "res = omni_base.move_base(known_location='room1')\n",
    "#res = omni_base.move_base(known_location='Origin')\n",
    "res"
   ]
  },
  {
   "cell_type": "code",
   "execution_count": null,
   "id": "8cce0a46",
   "metadata": {},
   "outputs": [],
   "source": [
    "img=rgbd.get_image()\n",
    "plt.imshow(img)"
   ]
  },
  {
   "cell_type": "code",
   "execution_count": null,
   "id": "4dfe043d",
   "metadata": {},
   "outputs": [],
   "source": [
    "head.to_tf('human')\n",
    "omni_base.move_d_to(1,'human')\n",
    "head.to_tf('human')\n",
    "print ( \"is he drinking?\")"
   ]
  },
  {
   "cell_type": "code",
   "execution_count": null,
   "id": "84e1948d",
   "metadata": {},
   "outputs": [],
   "source": [
    "human_pos,_=tf_man.getTF('human')\n",
    "human_pos"
   ]
  },
  {
   "cell_type": "code",
   "execution_count": null,
   "id": "b28dbed6",
   "metadata": {},
   "outputs": [],
   "source": [
    "res"
   ]
  },
  {
   "cell_type": "code",
   "execution_count": null,
   "id": "88a273dc",
   "metadata": {},
   "outputs": [],
   "source": [
    "omni_base.move_base(0.0,1.6,np.pi*0.5,10)"
   ]
  },
  {
   "cell_type": "code",
   "execution_count": null,
   "id": "a9c8b841",
   "metadata": {},
   "outputs": [],
   "source": [
    "head.absolute(1.2,1.9,.5)"
   ]
  },
  {
   "cell_type": "code",
   "execution_count": null,
   "id": "68562881",
   "metadata": {},
   "outputs": [],
   "source": [
    "res=segmentation_server.call()"
   ]
  },
  {
   "cell_type": "code",
   "execution_count": null,
   "id": "5b7ea457",
   "metadata": {},
   "outputs": [],
   "source": [
    "if len( res.poses.data)!=0:\n",
    "    head.to_tf('human')\n",
    "    print('talk: trash detected, please pick up') #talk to closest human"
   ]
  },
  {
   "cell_type": "code",
   "execution_count": null,
   "id": "95e0c982",
   "metadata": {},
   "outputs": [],
   "source": [
    "from segmetnation_utils import *"
   ]
  },
  {
   "cell_type": "code",
   "execution_count": null,
   "id": "d1edb94e",
   "metadata": {
    "scrolled": true
   },
   "outputs": [],
   "source": [
    "points_msg=rospy.wait_for_message(\"/hsrb/head_rgbd_sensor/depth_registered/rectified_points\",PointCloud2,timeout=5)\n",
    "cents,xyz, images, img = plane_seg2(points_msg,plot=False)"
   ]
  },
  {
   "cell_type": "code",
   "execution_count": null,
   "id": "afb9a1ae",
   "metadata": {},
   "outputs": [],
   "source": [
    "plt.imshow(images[0])"
   ]
  },
  {
   "cell_type": "code",
   "execution_count": null,
   "id": "39d32f56",
   "metadata": {},
   "outputs": [],
   "source": [
    "rospy.get_param()"
   ]
  },
  {
   "cell_type": "code",
   "execution_count": null,
   "id": "9c2d11f3",
   "metadata": {},
   "outputs": [],
   "source": [
    "full_param_name = rospy.get_param('~inflation_radius')"
   ]
  },
  {
   "cell_type": "code",
   "execution_count": null,
   "id": "d6ef5d1c",
   "metadata": {},
   "outputs": [],
   "source": [
    "full_param_name"
   ]
  },
  {
   "cell_type": "code",
   "execution_count": null,
   "id": "defb981b",
   "metadata": {},
   "outputs": [],
   "source": [
    "joint_names    = rospy.get_param(\"~joint_names\", [])\n"
   ]
  },
  {
   "cell_type": "code",
   "execution_count": null,
   "id": "01f30195",
   "metadata": {},
   "outputs": [],
   "source": [
    "joint_names"
   ]
  },
  {
   "cell_type": "code",
   "execution_count": null,
   "id": "7d5f5dee",
   "metadata": {},
   "outputs": [],
   "source": []
  },
  {
   "cell_type": "code",
   "execution_count": null,
   "id": "d2d87414",
   "metadata": {},
   "outputs": [],
   "source": []
  },
  {
   "cell_type": "code",
   "execution_count": null,
   "id": "7fb49909",
   "metadata": {},
   "outputs": [],
   "source": [
    "import rospkg"
   ]
  },
  {
   "cell_type": "code",
   "execution_count": null,
   "id": "36701914",
   "metadata": {},
   "outputs": [],
   "source": [
    "rospack = rospkg.RosPack()\n",
    "known_locations_file='/known_locations_stickler.yaml'"
   ]
  },
  {
   "cell_type": "code",
   "execution_count": null,
   "id": "57f9afb6",
   "metadata": {},
   "outputs": [],
   "source": [
    " file_path = rospack.get_path('config_files')  + known_locations_file\n",
    "file_name='/known_locations_stickler.yaml'"
   ]
  },
  {
   "cell_type": "code",
   "execution_count": null,
   "id": "a3e2c373",
   "metadata": {},
   "outputs": [],
   "source": [
    "file_path"
   ]
  },
  {
   "cell_type": "code",
   "execution_count": null,
   "id": "b1f1c39b",
   "metadata": {},
   "outputs": [],
   "source": [
    "def yaml_to_df():\n",
    "    con = read_yaml(known_locations_file = file_name)\n",
    "    values=[]\n",
    "    locations=[]\n",
    "    for c in con:\n",
    "        locations.append(c)\n",
    "\n",
    "        for i in range(len(con[c])):\n",
    "            values.append(list(con[c][i].values())[0])\n",
    "\n",
    "    data=np.asarray(values).reshape((int(len(values)/7),7))    #x , y ,theta  ,quat   since z always 0\n",
    "    df= pd.DataFrame( data)\n",
    "    df.columns=['x','y','th','qx','qy','qz','qw']\n",
    "    df['child_id_frame']=locations\n",
    "    return df\n",
    "def read_yaml(known_locations_file = '/known_locations.yaml'):\n",
    "    \n",
    "    file_path = rospack.get_path('config_files')  + known_locations_file\n",
    "\n",
    "    with open(file_path, 'r') as file:\n",
    "        content = yaml.safe_load(file)\n",
    "    return content\n"
   ]
  },
  {
   "cell_type": "code",
   "execution_count": null,
   "id": "bb5f3ba3",
   "metadata": {},
   "outputs": [],
   "source": [
    "df=yaml_to_df()"
   ]
  },
  {
   "cell_type": "code",
   "execution_count": null,
   "id": "0442ca7b",
   "metadata": {},
   "outputs": [],
   "source": [
    "import yaml"
   ]
  },
  {
   "cell_type": "code",
   "execution_count": null,
   "id": "f253c46b",
   "metadata": {},
   "outputs": [],
   "source": [
    "df[['x','y','th']].values"
   ]
  },
  {
   "cell_type": "code",
   "execution_count": null,
   "id": "a1ea4556",
   "metadata": {
    "scrolled": true
   },
   "outputs": [],
   "source": [
    "fileth = rospack.get_path('config_files')  + '/knownlocs'\n",
    "np.save(fileth,xyth)\n",
    "#np.save('xyth_locs',xyth)"
   ]
  },
  {
   "cell_type": "code",
   "execution_count": null,
   "id": "9b1a9744",
   "metadata": {},
   "outputs": [],
   "source": [
    "fileth"
   ]
  },
  {
   "cell_type": "code",
   "execution_count": null,
   "id": "7aa9f798",
   "metadata": {},
   "outputs": [],
   "source": [
    "xyth=df[['x','y','th']].values"
   ]
  },
  {
   "cell_type": "code",
   "execution_count": null,
   "id": "e9da432f",
   "metadata": {},
   "outputs": [],
   "source": []
  },
  {
   "cell_type": "code",
   "execution_count": 15,
   "id": "6726de35",
   "metadata": {},
   "outputs": [],
   "source": [
    "xyth= np.load('xyth_locs.npy')"
   ]
  },
  {
   "cell_type": "code",
   "execution_count": 16,
   "id": "f519b4d5",
   "metadata": {},
   "outputs": [
    {
     "data": {
      "text/plain": [
       "array([[-0.001, -0.001, -0.016],\n",
       "       [ 0.717,  0.893,  0.017]])"
      ]
     },
     "execution_count": 16,
     "metadata": {},
     "output_type": "execute_result"
    },
    {
     "name": "stderr",
     "output_type": "stream",
     "text": [
      "\u001b[33m[ WARN] [1680535292.480508139]: TF_REPEATED_DATA ignoring data with redundant timestamp for frame odom at time 244.391000 according to authority /pose_integrator\u001b[0m\n",
      "\u001b[33m[ WARN] [1680535292.480548026]: TF_REPEATED_DATA ignoring data with redundant timestamp for frame odom at time 244.391000 according to authority /pose_integrator\u001b[0m\n",
      "\u001b[33m[ WARN] [1680535292.480575337]: TF_REPEATED_DATA ignoring data with redundant timestamp for frame odom at time 244.391000 according to authority /pose_integrator\u001b[0m\n",
      "\u001b[33m[ WARN] [1680535292.480600679]: TF_REPEATED_DATA ignoring data with redundant timestamp for frame odom at time 244.391000 according to authority /pose_integrator\u001b[0m\n",
      "\u001b[33m[ WARN] [1680535294.290434649]: TF_REPEATED_DATA ignoring data with redundant timestamp for frame odom at time 245.117000 according to authority /pose_integrator\u001b[0m\n",
      "\u001b[33m[ WARN] [1680535294.290504527]: TF_REPEATED_DATA ignoring data with redundant timestamp for frame odom at time 245.117000 according to authority /pose_integrator\u001b[0m\n",
      "\u001b[33m[ WARN] [1680535294.290553582]: TF_REPEATED_DATA ignoring data with redundant timestamp for frame odom at time 245.117000 according to authority /pose_integrator\u001b[0m\n",
      "\u001b[33m[ WARN] [1680535294.290595371]: TF_REPEATED_DATA ignoring data with redundant timestamp for frame odom at time 245.117000 according to authority /pose_integrator\u001b[0m\n",
      "\u001b[33m[ WARN] [1680535298.381509753]: TF_REPEATED_DATA ignoring data with redundant timestamp for frame odom at time 246.704000 according to authority /pose_integrator\u001b[0m\n",
      "\u001b[33m[ WARN] [1680535298.381557031]: TF_REPEATED_DATA ignoring data with redundant timestamp for frame odom at time 246.704000 according to authority /pose_integrator\u001b[0m\n",
      "\u001b[33m[ WARN] [1680535298.381588268]: TF_REPEATED_DATA ignoring data with redundant timestamp for frame odom at time 246.704000 according to authority /pose_integrator\u001b[0m\n",
      "\u001b[33m[ WARN] [1680535298.381613934]: TF_REPEATED_DATA ignoring data with redundant timestamp for frame odom at time 246.704000 according to authority /pose_integrator\u001b[0m\n",
      "\u001b[33m[ WARN] [1680535299.364460598]: TF_REPEATED_DATA ignoring data with redundant timestamp for frame odom at time 247.169000 according to authority /pose_integrator\u001b[0m\n",
      "\u001b[33m[ WARN] [1680535299.364607003]: TF_REPEATED_DATA ignoring data with redundant timestamp for frame odom at time 247.169000 according to authority /pose_integrator\u001b[0m\n",
      "\u001b[33m[ WARN] [1680535299.364652374]: TF_REPEATED_DATA ignoring data with redundant timestamp for frame odom at time 247.169000 according to authority /pose_integrator\u001b[0m\n",
      "\u001b[33m[ WARN] [1680535299.364707750]: TF_REPEATED_DATA ignoring data with redundant timestamp for frame odom at time 247.169000 according to authority /pose_integrator\u001b[0m\n",
      "\u001b[33m[ WARN] [1680535305.600355336]: TF_REPEATED_DATA ignoring data with redundant timestamp for frame odom at time 249.636000 according to authority /pose_integrator\u001b[0m\n",
      "\u001b[33m[ WARN] [1680535305.600406827]: TF_REPEATED_DATA ignoring data with redundant timestamp for frame odom at time 249.636000 according to authority /pose_integrator\u001b[0m\n",
      "\u001b[33m[ WARN] [1680535305.600441841]: TF_REPEATED_DATA ignoring data with redundant timestamp for frame odom at time 249.636000 according to authority /pose_integrator\u001b[0m\n",
      "\u001b[33m[ WARN] [1680535305.600472365]: TF_REPEATED_DATA ignoring data with redundant timestamp for frame odom at time 249.636000 according to authority /pose_integrator\u001b[0m\n",
      "\u001b[33m[ WARN] [1680535305.857338602]: TF_REPEATED_DATA ignoring data with redundant timestamp for frame odom at time 249.744000 according to authority /pose_integrator\u001b[0m\n",
      "\u001b[33m[ WARN] [1680535305.857393116]: TF_REPEATED_DATA ignoring data with redundant timestamp for frame odom at time 249.744000 according to authority /pose_integrator\u001b[0m\n",
      "\u001b[33m[ WARN] [1680535305.857423312]: TF_REPEATED_DATA ignoring data with redundant timestamp for frame odom at time 249.744000 according to authority /pose_integrator\u001b[0m\n",
      "\u001b[33m[ WARN] [1680535305.857451481]: TF_REPEATED_DATA ignoring data with redundant timestamp for frame odom at time 249.744000 according to authority /pose_integrator\u001b[0m\n"
     ]
    }
   ],
   "source": [
    "xyth"
   ]
  },
  {
   "cell_type": "code",
   "execution_count": 53,
   "id": "a71f2c04",
   "metadata": {},
   "outputs": [],
   "source": [
    "human_loc,_=tf_man.getTF('human')"
   ]
  },
  {
   "cell_type": "code",
   "execution_count": 55,
   "id": "984e3dfb",
   "metadata": {},
   "outputs": [
    {
     "data": {
      "text/plain": [
       "0"
      ]
     },
     "execution_count": 55,
     "metadata": {},
     "output_type": "execute_result"
    }
   ],
   "source": [
    "np.linalg.norm((human_loc[:2]-xyth[:,:2]), axis=0).argmin()"
   ]
  },
  {
   "cell_type": "code",
   "execution_count": 32,
   "id": "ffae3e35",
   "metadata": {},
   "outputs": [
    {
     "data": {
      "text/plain": [
       "array([[-0.001, -0.001],\n",
       "       [ 0.717,  0.893]])"
      ]
     },
     "execution_count": 32,
     "metadata": {},
     "output_type": "execute_result"
    },
    {
     "name": "stderr",
     "output_type": "stream",
     "text": [
      "\u001b[33m[ WARN] [1680535474.156857764]: TF_REPEATED_DATA ignoring data with redundant timestamp for frame odom at time 311.671000 according to authority /pose_integrator\u001b[0m\n",
      "\u001b[33m[ WARN] [1680535474.156887176]: TF_REPEATED_DATA ignoring data with redundant timestamp for frame odom at time 311.671000 according to authority /pose_integrator\u001b[0m\n",
      "\u001b[33m[ WARN] [1680535474.156902532]: TF_REPEATED_DATA ignoring data with redundant timestamp for frame odom at time 311.671000 according to authority /pose_integrator\u001b[0m\n",
      "\u001b[33m[ WARN] [1680535474.156916862]: TF_REPEATED_DATA ignoring data with redundant timestamp for frame odom at time 311.671000 according to authority /pose_integrator\u001b[0m\n",
      "\u001b[33m[ WARN] [1680535483.919631268]: TF_REPEATED_DATA ignoring data with redundant timestamp for frame odom at time 315.243000 according to authority /pose_integrator\u001b[0m\n",
      "\u001b[33m[ WARN] [1680535483.919702373]: TF_REPEATED_DATA ignoring data with redundant timestamp for frame odom at time 315.243000 according to authority /pose_integrator\u001b[0m\n",
      "\u001b[33m[ WARN] [1680535483.919753936]: TF_REPEATED_DATA ignoring data with redundant timestamp for frame odom at time 315.243000 according to authority /pose_integrator\u001b[0m\n",
      "\u001b[33m[ WARN] [1680535483.919815808]: TF_REPEATED_DATA ignoring data with redundant timestamp for frame odom at time 315.243000 according to authority /pose_integrator\u001b[0m\n",
      "\u001b[33m[ WARN] [1680535487.885766720]: TF_REPEATED_DATA ignoring data with redundant timestamp for frame odom at time 316.849000 according to authority /pose_integrator\u001b[0m\n",
      "\u001b[33m[ WARN] [1680535487.885822926]: TF_REPEATED_DATA ignoring data with redundant timestamp for frame odom at time 316.849000 according to authority /pose_integrator\u001b[0m\n",
      "\u001b[33m[ WARN] [1680535487.885866077]: TF_REPEATED_DATA ignoring data with redundant timestamp for frame odom at time 316.849000 according to authority /pose_integrator\u001b[0m\n",
      "\u001b[33m[ WARN] [1680535487.885902139]: TF_REPEATED_DATA ignoring data with redundant timestamp for frame odom at time 316.849000 according to authority /pose_integrator\u001b[0m\n"
     ]
    }
   ],
   "source": [
    "xyth[:,:2]"
   ]
  },
  {
   "cell_type": "code",
   "execution_count": 51,
   "id": "5c0f284b",
   "metadata": {},
   "outputs": [],
   "source": [
    "xyth=np.concatenate((xyth,room2))"
   ]
  },
  {
   "cell_type": "code",
   "execution_count": 52,
   "id": "9176c862",
   "metadata": {},
   "outputs": [
    {
     "data": {
      "text/plain": [
       "array([[-1.00e-03, -1.00e-03, -1.60e-02],\n",
       "       [ 7.17e-01,  8.93e-01,  1.70e-02],\n",
       "       [ 2.50e+00,  3.10e+00,  0.00e+00]])"
      ]
     },
     "execution_count": 52,
     "metadata": {},
     "output_type": "execute_result"
    },
    {
     "name": "stderr",
     "output_type": "stream",
     "text": [
      "\u001b[33m[ WARN] [1680535757.469373648]: TF_REPEATED_DATA ignoring data with redundant timestamp for frame odom at time 415.367000 according to authority /pose_integrator\u001b[0m\n",
      "\u001b[33m[ WARN] [1680535757.469434883]: TF_REPEATED_DATA ignoring data with redundant timestamp for frame odom at time 415.367000 according to authority /pose_integrator\u001b[0m\n",
      "\u001b[33m[ WARN] [1680535757.469474733]: TF_REPEATED_DATA ignoring data with redundant timestamp for frame odom at time 415.367000 according to authority /pose_integrator\u001b[0m\n",
      "\u001b[33m[ WARN] [1680535757.469517007]: TF_REPEATED_DATA ignoring data with redundant timestamp for frame odom at time 415.367000 according to authority /pose_integrator\u001b[0m\n"
     ]
    }
   ],
   "source": [
    "xyth"
   ]
  },
  {
   "cell_type": "code",
   "execution_count": 49,
   "id": "3396a48a",
   "metadata": {},
   "outputs": [
    {
     "data": {
      "text/plain": [
       "(1, 3)"
      ]
     },
     "execution_count": 49,
     "metadata": {},
     "output_type": "execute_result"
    },
    {
     "name": "stderr",
     "output_type": "stream",
     "text": [
      "\u001b[33m[ WARN] [1680535739.249249238]: TF_REPEATED_DATA ignoring data with redundant timestamp for frame odom at time 408.593000 according to authority /pose_integrator\u001b[0m\n",
      "\u001b[33m[ WARN] [1680535739.249300550]: TF_REPEATED_DATA ignoring data with redundant timestamp for frame odom at time 408.593000 according to authority /pose_integrator\u001b[0m\n",
      "\u001b[33m[ WARN] [1680535739.249331679]: TF_REPEATED_DATA ignoring data with redundant timestamp for frame odom at time 408.593000 according to authority /pose_integrator\u001b[0m\n",
      "\u001b[33m[ WARN] [1680535739.249361582]: TF_REPEATED_DATA ignoring data with redundant timestamp for frame odom at time 408.593000 according to authority /pose_integrator\u001b[0m\n",
      "\u001b[33m[ WARN] [1680535743.030315020]: TF_REPEATED_DATA ignoring data with redundant timestamp for frame odom at time 409.975000 according to authority /pose_integrator\u001b[0m\n",
      "\u001b[33m[ WARN] [1680535743.030449298]: TF_REPEATED_DATA ignoring data with redundant timestamp for frame odom at time 409.975000 according to authority /pose_integrator\u001b[0m\n",
      "\u001b[33m[ WARN] [1680535743.030485284]: TF_REPEATED_DATA ignoring data with redundant timestamp for frame odom at time 409.975000 according to authority /pose_integrator\u001b[0m\n",
      "\u001b[33m[ WARN] [1680535743.030513538]: TF_REPEATED_DATA ignoring data with redundant timestamp for frame odom at time 409.975000 according to authority /pose_integrator\u001b[0m\n"
     ]
    }
   ],
   "source": [
    "room2.shape"
   ]
  },
  {
   "cell_type": "code",
   "execution_count": 44,
   "id": "552d1046",
   "metadata": {},
   "outputs": [
    {
     "data": {
      "text/plain": [
       "(2, 3)"
      ]
     },
     "execution_count": 44,
     "metadata": {},
     "output_type": "execute_result"
    }
   ],
   "source": [
    "xyth.shape"
   ]
  },
  {
   "cell_type": "code",
   "execution_count": 3,
   "id": "e46f6c4c",
   "metadata": {},
   "outputs": [
    {
     "data": {
      "text/plain": [
       "(0, '')"
      ]
     },
     "execution_count": 3,
     "metadata": {},
     "output_type": "execute_result"
    },
    {
     "name": "stdout",
     "output_type": "stream",
     "text": [
      "shutdown request: [/smach] Reason: new node registered with same name\n"
     ]
    }
   ],
   "source": [
    "get_waiting_guests()"
   ]
  },
  {
   "cell_type": "code",
   "execution_count": 2,
   "id": "6be738d0",
   "metadata": {},
   "outputs": [
    {
     "data": {
      "text/plain": [
       "True"
      ]
     },
     "execution_count": 2,
     "metadata": {},
     "output_type": "execute_result"
    },
    {
     "name": "stdout",
     "output_type": "stream",
     "text": [
      "shutdown request: [/smach] Reason: new node registered with same name\n"
     ]
    }
   ],
   "source": [
    "arm.set_named_target('neutral')\n",
    "arm.go()"
   ]
  },
  {
   "cell_type": "code",
   "execution_count": null,
   "id": "4f904d29",
   "metadata": {},
   "outputs": [],
   "source": []
  }
 ],
 "metadata": {
  "kernelspec": {
   "display_name": "Python 3 (ipykernel)",
   "language": "python",
   "name": "python3"
  },
  "language_info": {
   "codemirror_mode": {
    "name": "ipython",
    "version": 3
   },
   "file_extension": ".py",
   "mimetype": "text/x-python",
   "name": "python",
   "nbconvert_exporter": "python",
   "pygments_lexer": "ipython3",
   "version": "3.8.10"
  }
 },
 "nbformat": 4,
 "nbformat_minor": 5
}
