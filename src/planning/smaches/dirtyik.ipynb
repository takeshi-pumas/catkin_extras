{
 "cells": [
  {
   "cell_type": "code",
   "execution_count": 1,
   "id": "a0dd1e73",
   "metadata": {},
   "outputs": [
    {
     "name": "stderr",
     "output_type": "stream",
     "text": [
      "\u001b[33m[ WARN] [1686105947.613785145, 2376.798000000]: Link hand_l_finger_vacuum_frame has visual geometry but no collision geometry. Collision geometry will be left empty. Fix your URDF file by explicitly specifying collision geometry.\u001b[0m\n",
      "\u001b[33m[ WARN] [1686105947.619698658, 2376.799000000]: Link head_l_stereo_camera_link has visual geometry but no collision geometry. Collision geometry will be left empty. Fix your URDF file by explicitly specifying collision geometry.\u001b[0m\n",
      "\u001b[33m[ WARN] [1686105947.620026096, 2376.799000000]: Link head_r_stereo_camera_link has visual geometry but no collision geometry. Collision geometry will be left empty. Fix your URDF file by explicitly specifying collision geometry.\u001b[0m\n",
      "\u001b[33m[ WARN] [1686105947.627884439, 2376.799000000]: Group state 'neutral' doesn't specify all group joints in group 'arm'. wrist_ft_sensor_frame_joint is missing.\u001b[0m\n",
      "\u001b[33m[ WARN] [1686105947.628142376, 2376.799000000]: Group state 'go' doesn't specify all group joints in group 'arm'. wrist_ft_sensor_frame_joint is missing.\u001b[0m\n",
      "\u001b[33m[ WARN] [1686105947.789617154, 2376.837000000]: Kinematics solver doesn't support #attempts anymore, but only a timeout.\n",
      "Please remove the parameter '/robot_description_kinematics/arm/kinematics_solver_attempts' from your configuration.\u001b[0m\n",
      "\u001b[33m[ WARN] [1686105947.928520398, 2376.889000000]: IK plugin for group 'whole_body' relies on deprecated API. Please implement initialize(RobotModel, ...).\u001b[0m\n",
      "\u001b[33m[ WARN] [1686105947.945140884, 2376.889000000]: IK plugin for group 'whole_body_weighted' relies on deprecated API. Please implement initialize(RobotModel, ...).\u001b[0m\n",
      "\u001b[33m[ WARN] [1686105947.959036429, 2376.895000000]: IK plugin for group 'whole_body_light' relies on deprecated API. Please implement initialize(RobotModel, ...).\u001b[0m\n"
     ]
    }
   ],
   "source": [
    "from smach_utils2 import *\n"
   ]
  },
  {
   "cell_type": "code",
   "execution_count": null,
   "id": "7931a046",
   "metadata": {},
   "outputs": [],
   "source": []
  },
  {
   "cell_type": "code",
   "execution_count": 20,
   "id": "e6e78344",
   "metadata": {},
   "outputs": [
    {
     "name": "stdout",
     "output_type": "stream",
     "text": [
      "Joint names: ['arm_lift_joint', 'arm_flex_joint', 'arm_roll_joint', 'wrist_flex_joint', 'wrist_roll_joint']\n",
      "max_iterations: 20\n"
     ]
    }
   ],
   "source": [
    "joint_names    = rospy.get_param(\"~joint_names\", [])\n",
    "max_iterations = rospy.get_param(\"~max_iterations\", 20)\n",
    "print(prompt+\"Joint names: \" + str(joint_names))\n",
    "print(prompt+\"max_iterations: \" + str(max_iterations))1"
   ]
  },
  {
   "cell_type": "code",
   "execution_count": 21,
   "id": "03cbf4a3",
   "metadata": {},
   "outputs": [
    {
     "name": "stderr",
     "output_type": "stream",
     "text": [
      "Unknown tag \"hardwareInterface\" in /robot[@name='hsrb']/transmission[@name='base_transmission']/actuator[@name='base_r_drive_wheel_joint_actuator']\n",
      "Unknown tag \"hardwareInterface\" in /robot[@name='hsrb']/transmission[@name='base_transmission']/actuator[@name='base_l_drive_wheel_joint_actuator']\n",
      "Unknown tag \"hardwareInterface\" in /robot[@name='hsrb']/transmission[@name='base_roll_joint_transmission']/actuator[@name='base_roll_joint_actuator']\n",
      "Unknown tag \"hardwareInterface\" in /robot[@name='hsrb']/transmission[@name='head_pan_joint_transmission']/actuator[@name='head_pan_joint_actuator']\n",
      "Unknown tag \"hardwareInterface\" in /robot[@name='hsrb']/transmission[@name='head_tilt_joint_transmission']/actuator[@name='head_tilt_joint_actuator']\n",
      "Unknown tag \"hardwareInterface\" in /robot[@name='hsrb']/transmission[@name='arm_lift_joint_transmission']/actuator[@name='arm_lift_joint_actuator']\n",
      "Unknown tag \"hardwareInterface\" in /robot[@name='hsrb']/transmission[@name='arm_flex_joint_transmission']/actuator[@name='arm_flex_joint_actuator']\n",
      "Unknown tag \"hardwareInterface\" in /robot[@name='hsrb']/transmission[@name='arm_roll_joint_transmission']/actuator[@name='arm_roll_joint_actuator']\n",
      "Unknown tag \"hardwareInterface\" in /robot[@name='hsrb']/transmission[@name='wrist_flex_joint_transmission']/actuator[@name='wrist_flex_joint_actuator']\n",
      "Unknown tag \"hardwareInterface\" in /robot[@name='hsrb']/transmission[@name='wrist_roll_joint_transmission']/actuator[@name='wrist_roll_joint_actuator']\n",
      "Unknown tag \"hardwareInterface\" in /robot[@name='hsrb']/transmission[@name='hand_motor_joint_transmission']/actuator[@name='hand_motor_joint_actuator']\n",
      "Unknown tag \"hardwareInterface\" in /robot[@name='hsrb']/transmission[@name='hand_l_spring_proximal_joint_transmission']/actuator[@name='hand_l_spring_proximal_joint_actuator']\n",
      "Unknown tag \"hardwareInterface\" in /robot[@name='hsrb']/transmission[@name='hand_r_spring_proximal_joint_transmission']/actuator[@name='hand_r_spring_proximal_joint_actuator']\n"
     ]
    },
    {
     "data": {
      "text/plain": [
       "([<urdf_parser_py.urdf.Joint at 0x7f019af3f3d0>,\n",
       "  <urdf_parser_py.urdf.Joint at 0x7f019af495b0>,\n",
       "  <urdf_parser_py.urdf.Joint at 0x7f019af49eb0>,\n",
       "  <urdf_parser_py.urdf.Joint at 0x7f019af49d60>,\n",
       "  <urdf_parser_py.urdf.Joint at 0x7f019af4afa0>],\n",
       " [array([[1.  , 0.  , 0.  , 0.  ],\n",
       "         [0.  , 1.  , 0.  , 0.  ],\n",
       "         [0.  , 0.  , 1.  , 0.34],\n",
       "         [0.  , 0.  , 0.  , 1.  ]]),\n",
       "  array([[1.   , 0.   , 0.   , 0.141],\n",
       "         [0.   , 1.   , 0.   , 0.078],\n",
       "         [0.   , 0.   , 1.   , 0.   ],\n",
       "         [0.   , 0.   , 0.   , 1.   ]]),\n",
       "  array([[1.   , 0.   , 0.   , 0.005],\n",
       "         [0.   , 1.   , 0.   , 0.   ],\n",
       "         [0.   , 0.   , 1.   , 0.345],\n",
       "         [0.   , 0.   , 0.   , 1.   ]]),\n",
       "  array([[1., 0., 0., 0.],\n",
       "         [0., 1., 0., 0.],\n",
       "         [0., 0., 1., 0.],\n",
       "         [0., 0., 0., 1.]]),\n",
       "  array([[1., 0., 0., 0.],\n",
       "         [0., 1., 0., 0.],\n",
       "         [0., 0., 1., 0.],\n",
       "         [0., 0., 0., 1.]])])"
      ]
     },
     "execution_count": 21,
     "metadata": {},
     "output_type": "execute_result"
    }
   ],
   "source": [
    "get_model_info(joint_names)"
   ]
  },
  {
   "cell_type": "code",
   "execution_count": null,
   "id": "f689b200",
   "metadata": {},
   "outputs": [],
   "source": [
    "#!/usr/bin/env python\n",
    "import math\n",
    "import sys\n",
    "import rospy\n",
    "import numpy\n",
    "import tf\n",
    "import tf.transformations as tft\n",
    "import urdf_parser_py.urdf\n",
    "from std_msgs.msg import Float64MultiArray\n",
    "from manip_msgs.srv import *\n",
    "from trajectory_msgs.msg import JointTrajectory, JointTrajectoryPoint\n",
    "\n",
    "\n",
    "\n",
    "\"\"\"\n",
    "    para 17 de febrero revisar la cinematica inversa y corregirla si es posible\n",
    "\"\"\"\n",
    "\n",
    "prompt = \"\"\n",
    "\n",
    "def get_model_info(joint_names):\n",
    "    robot_model = urdf_parser_py.urdf.URDF.from_parameter_server()\n",
    "    joints = []\n",
    "    transforms = []\n",
    "    for name in joint_names:\n",
    "        for joint in robot_model.joints:\n",
    "            if joint.name == name:\n",
    "                joints.append(joint)\n",
    "    for joint in joints:\n",
    "        T = tft.translation_matrix(joint.origin.xyz)\n",
    "        R = tft.euler_matrix(joint.origin.rpy[0], joint.origin.rpy[1], joint.origin.rpy[2])\n",
    "        transforms.append(tft.concatenate_matrices(T,R))\n",
    "    return joints, transforms\n",
    "\n",
    "def angles_in_joint_limits(q):\n",
    "    for i in range(len(q)):\n",
    "        if q[i] < joints[i].limit.lower or q[i] > joints[i].limit.upper:\n",
    "            #print(prompt+\"Articular position out of joint bounds\")\n",
    "            return False\n",
    "    return True\n",
    "    \n",
    "def forward_kinematics(q):\n",
    "    global transforms, joints\n",
    "    H = tft.identity_matrix()\n",
    "    for i in range(len(q)):\n",
    "        H  = tft.concatenate_matrices(H, transforms[i], tft.rotation_matrix(q[i], joints[i].axis))\n",
    "    H  = tft.concatenate_matrices(H, transforms[7])\n",
    "    return numpy.asarray([H[0,3], H[1,3], H[2,3]] + list(tft.euler_from_matrix(H)))\n",
    "\n",
    "def jacobian(q):\n",
    "    delta_q = 0.000001   \n",
    "    J = numpy.asarray([[0.0 for a in q] for i in range(6)])##numpy, ndarray\n",
    "    qn = numpy.asarray([q,]*len(q)) + delta_q*numpy.identity(len(q))\n",
    "    qp = numpy.asarray([q,]*len(q)) - delta_q*numpy.identity(len(q)) \n",
    "    for i in range(len(q)):\n",
    "        J[:,i] = (forward_kinematics(qn[i]) - forward_kinematics(qp[i]))/delta_q/2.0\n",
    "     \n",
    "    return J\n",
    "\n",
    "def inverse_kinematics(x, y, z, roll, pitch, yaw, initial_guess=numpy.zeros(7), max_iterations=20):\n",
    "    only_xyz = math.isnan(roll) or math.isnan(pitch) or math.isnan(yaw)\n",
    "    q = [qi for qi in initial_guess]\n",
    "    pd = numpy.asarray([x,y,z,roll,pitch,yaw])\n",
    "    p  = forward_kinematics(q)\n",
    "    iterations = 0\n",
    "    err = p-pd\n",
    "    if only_xyz:\n",
    "        err = err[0:3]\n",
    "    while numpy.linalg.norm(err) > 0.00001 and iterations < max_iterations:\n",
    "        J = jacobian(q)\n",
    "        err = p - pd\n",
    "        if only_xyz:\n",
    "            J = J[0:3]\n",
    "            err = err[0:3]\n",
    "        else:\n",
    "            err[3:6] = (err[3:6] + math.pi)%(2*math.pi) - math.pi\n",
    "        q = (q - numpy.dot(numpy.linalg.pinv(J), err) + math.pi)%(2*math.pi) - math.pi\n",
    "        p = forward_kinematics(q)\n",
    "        err = p - pd\n",
    "        if only_xyz:\n",
    "            err = err[0:3]\n",
    "        iterations +=1\n",
    "    return iterations < max_iterations and angles_in_joint_limits(q), q\n",
    "\n",
    "def get_polynomial_trajectory(q_initial, q_final, qp_initial=0, qp_final=0, qpp_initial=0, qpp_final=0, duration=1.0, time_step=0.05):\n",
    "    #\n",
    "    # This function calculates a polynomial trajectory for a single variable.\n",
    "    # It is intended to be called N times for a N-DoF trajectory. \n",
    "    #\n",
    "    t = duration\n",
    "    A = [[   t**5,    t**4,   t**3, t**2, t, 1],\n",
    "         [ 5*t**4,  4*t**3, 3*t**2,  2*t, 1, 0],\n",
    "         [20*t**3, 12*t**2,    6*t,    2, 0, 0],\n",
    "         [      0,       0,      0,    0, 0, 1],\n",
    "         [      0,       0,      0,    0, 1, 0],\n",
    "         [      0,       0,      0,    2, 0, 0]]\n",
    "    A = numpy.asarray(A)\n",
    "    B = [[q_final  ],\n",
    "         [qp_final ],\n",
    "         [qpp_final],\n",
    "         [q_initial  ],\n",
    "         [qp_initial ],\n",
    "         [qpp_initial]]\n",
    "    B = numpy.asarray(B)\n",
    "    X = numpy.dot(numpy.linalg.inv(A),B)\n",
    "    a5, a4, a3, a2, a1, a0 = X[0,0], X[1,0], X[2,0], X[3,0], X[4,0], X[5,0]\n",
    "    T = numpy.arange(0, t, time_step)\n",
    "    Q = numpy.zeros(len(T))\n",
    "    for i in range(len(T)):\n",
    "        Q[i] = a5*T[i]**5 + a4*T[i]**4 + a3*T[i]**3 + a2*T[i]**2 + a1*T[i] + a0\n",
    "\n",
    "    return T, Q\n",
    "    \n",
    "def get_polynomial_trajectory_multi_dof(Q_start, Q_end, Qp_start=[], Qp_end=[], Qpp_start=[], Qpp_end=[], duration=1.0, time_step=0.05):\n",
    "    Q = []\n",
    "    T = []\n",
    "    if Qp_start == []:\n",
    "        Qp_start = numpy.zeros(len(Q_start))\n",
    "    if Qpp_start == []:\n",
    "        Qpp_start = numpy.zeros(len(Q_start))\n",
    "    if Qp_end == []:\n",
    "        Qp_end = numpy.zeros(len(Q_end))\n",
    "    if Qpp_end == []:\n",
    "        Qpp_end = numpy.zeros(len(Q_end))\n",
    "    for i in range(len(Q_start)):\n",
    "        T, Qi = get_polynomial_trajectory(Q_start[i], Q_end[i], Qp_start[i], Qp_end[i], Qpp_start[i], Qpp_end[i], duration, time_step)\n",
    "        Q.append(Qi)\n",
    "    Q = numpy.asarray(Q)\n",
    "    Q = Q.transpose()\n",
    "    return Q,T\n",
    "\n",
    "def callback_forward_kinematics(req):\n",
    "    if len(req.q) != 7:\n",
    "        print(prompt+\"By the moment, only 7-DOF arm is supported\")\n",
    "        return False\n",
    "    resp = ForwardKinematicsResponse()\n",
    "    resp.x, resp.y, resp.z, resp.roll, resp.pitch, resp.yaw = forward_kinematics(req.q)\n",
    "    return resp\n",
    "\n",
    "def get_trajectory_time(p1, p2, speed_factor):\n",
    "    p1 = numpy.asarray(p1)\n",
    "    p2 = numpy.asarray(p2)\n",
    "    m = max(numpy.absolute(p1 - p2))\n",
    "    return m/speed_factor + 0.5\n",
    "\n",
    "def callback_ik_for_trajectory(req):\n",
    "    \n",
    "    global max_iterations\n",
    "    # entra una Pose\n",
    "    print(prompt+\"Calculating inverse kinematics and trajectory for \" + str([req.x, req.y, req.z, req.roll, req.pitch, req.yaw]))\n",
    "    # si no hay suposicion inicial toma la pose actual de brazo\n",
    "    if len(req.initial_guess) <= 0 or req.initial_guess == None:\n",
    "        initial_guess = rospy.wait_for_message(\"/hardware/arm/current_pose\", Float64MultiArray)\n",
    "        initial_guess = initial_guess.data\n",
    "    else:\n",
    "        initial_guess = req.initial_guess\n",
    "\n",
    "    # obtenemos la pose supuesta a cinematica directa, es el punto inicial\n",
    "    p1 = forward_kinematics(initial_guess)\n",
    "    # el punto final de la trayectoria es el punto o pose objetivo\n",
    "    p2 = [req.x, req.y, req.z, req.roll, req.pitch, req.yaw]\n",
    "    t  = req.duration if req.duration > 0 else get_trajectory_time(p1, p2, 0.25)\n",
    "    dt = req.time_step if req.time_step > 0 else 0.05\n",
    "    # obtiene la trayectoria que lleva de punto inicial a punto final (objetivo)\n",
    "    X,T = get_polynomial_trajectory_multi_dof(p1, p2, duration=t, time_step=dt)\n",
    "    trj = JointTrajectory()\n",
    "    trj.header.stamp = rospy.Time.now()\n",
    "    q = initial_guess\n",
    "    for i in range(len(X)): # para cada ....\n",
    "        x, y, z, roll, pitch, yaw = X[i]    # punto de la trayectoria en espacio cartesiano\n",
    "        # ik para cada punto de la trayectoria\n",
    "        success, q = inverse_kinematics(x, y, z, roll, pitch, yaw, q, max_iterations)  \n",
    "        if not success:\n",
    "            return False\n",
    "        p = JointTrajectoryPoint()\n",
    "        p.positions = q\n",
    "        p.time_from_start = rospy.Duration.from_sec(T[i])\n",
    "        trj.points.append(p)\n",
    "    resp = InverseKinematicsPose2TrajResponse()\n",
    "    resp.articular_trajectory = trj\n",
    "    return resp\n",
    "    \n",
    "        \n",
    "def callback_ik_for_pose(req):\n",
    "    global max_iterations\n",
    "    print(prompt+\"Calculating inverse kinematics for pose: \" + str([req.x, req.y, req.z, req.roll, req.pitch, req.yaw]))\n",
    "    if len(req.initial_guess) <= 0 or req.initial_guess == None:\n",
    "        initial_guess = rospy.wait_for_message(\"/hardware/arm/current_pose\", Float64MultiArray, 5.0)\n",
    "        initial_guess = initial_guess.data\n",
    "    else:\n",
    "        initial_guess = req.initial_guess\n",
    "    resp = InverseKinematicsPose2PoseResponse()\n",
    "    success, q = inverse_kinematics(req.x, req.y, req.z, req.roll, req.pitch, req.yaw, initial_guess, max_iterations)\n",
    "    if not success:\n",
    "        return False\n",
    "    resp.q = q\n",
    "    return resp        \n",
    "    \n",
    "\n",
    "def main():\n",
    "    global joint_names, max_iterations, joints, transforms, prompt\n",
    "    print(\"INITIALIZING INVERSE KINEMATIC NODE BY MARCOSOFT...\")\n",
    "    rospy.init_node(\"ik_geometric\")\n",
    "    prompt = rospy.get_name().upper() + \".->\"\n",
    "    joint_names    = rospy.get_param(\"~joint_names\", [])\n",
    "    max_iterations = rospy.get_param(\"~max_iterations\", 20)\n",
    "    print(prompt+\"Joint names: \" + str(joint_names))\n",
    "    print(prompt+\"max_iterations: \" + str(max_iterations))\n",
    "\n",
    "    joints, transforms = get_model_info(joint_names)\n",
    "    if not (len(joints) > 6 and len(transforms) > 6):\n",
    "        print(\"Inverse kinematics.->Cannot get model info from parameter server\")\n",
    "        sys.exit(-1)\n",
    "\n",
    "    rospy.Service(\"/manipulation/forward_kinematics\"   , ForwardKinematics, callback_forward_kinematics)    \n",
    "    rospy.Service(\"/manipulation/ik_trajectory\"        , InverseKinematicsPose2Traj, callback_ik_for_trajectory)\n",
    "    rospy.Service(\"/manipulation/ik_pose\"              , InverseKinematicsPose2Pose, callback_ik_for_pose)\n",
    "    loop = rospy.Rate(10)\n",
    "    while not rospy.is_shutdown():\n",
    "        loop.sleep()\n",
    "\n",
    "if __name__ == '__main__':\n",
    "    main()\n",
    "\n",
    "\n"
   ]
  },
  {
   "cell_type": "code",
   "execution_count": 5,
   "id": "16a3a2f8",
   "metadata": {},
   "outputs": [
    {
     "name": "stderr",
     "output_type": "stream",
     "text": [
      "\u001b[33m[ WARN] [1677532083.849866396, 93.202000000]: TF_REPEATED_DATA ignoring data with redundant timestamp for frame odom at time 93.202000 according to authority unknown_publisher\u001b[0m\n",
      "\u001b[33m[ WARN] [1677532083.852442260, 93.202000000]: TF_REPEATED_DATA ignoring data with redundant timestamp for frame odom at time 93.202000 according to authority /pose_integrator\u001b[0m\n",
      "\u001b[33m[ WARN] [1677532083.852543477, 93.202000000]: TF_REPEATED_DATA ignoring data with redundant timestamp for frame odom at time 93.202000 according to authority /pose_integrator\u001b[0m\n",
      "\u001b[33m[ WARN] [1677532083.852577887, 93.202000000]: TF_REPEATED_DATA ignoring data with redundant timestamp for frame odom at time 93.202000 according to authority /pose_integrator\u001b[0m\n",
      "\u001b[33m[ WARN] [1677532083.852607587, 93.202000000]: TF_REPEATED_DATA ignoring data with redundant timestamp for frame odom at time 93.202000 according to authority /pose_integrator\u001b[0m\n",
      "\u001b[33m[ WARN] [1677532100.316520443, 94.485000000]: TF_REPEATED_DATA ignoring data with redundant timestamp for frame odom at time 94.485000 according to authority unknown_publisher\u001b[0m\n",
      "\u001b[33m[ WARN] [1677532100.318017505, 94.485000000]: TF_REPEATED_DATA ignoring data with redundant timestamp for frame odom at time 94.485000 according to authority /pose_integrator\u001b[0m\n",
      "\u001b[33m[ WARN] [1677532100.318067710, 94.485000000]: TF_REPEATED_DATA ignoring data with redundant timestamp for frame odom at time 94.485000 according to authority /pose_integrator\u001b[0m\n",
      "\u001b[33m[ WARN] [1677532100.318094628, 94.485000000]: TF_REPEATED_DATA ignoring data with redundant timestamp for frame odom at time 94.485000 according to authority /pose_integrator\u001b[0m\n",
      "\u001b[33m[ WARN] [1677532100.318117054, 94.485000000]: TF_REPEATED_DATA ignoring data with redundant timestamp for frame odom at time 94.485000 according to authority /pose_integrator\u001b[0m\n",
      "\u001b[33m[ WARN] [1677532111.737016923, 95.440000000]: TF_REPEATED_DATA ignoring data with redundant timestamp for frame odom at time 95.440000 according to authority /pose_integrator\u001b[0m\n",
      "\u001b[33m[ WARN] [1677532111.737068528, 95.440000000]: TF_REPEATED_DATA ignoring data with redundant timestamp for frame odom at time 95.440000 according to authority /pose_integrator\u001b[0m\n",
      "\u001b[33m[ WARN] [1677532111.737092845, 95.440000000]: TF_REPEATED_DATA ignoring data with redundant timestamp for frame odom at time 95.440000 according to authority /pose_integrator\u001b[0m\n",
      "\u001b[33m[ WARN] [1677532111.737114644, 95.440000000]: TF_REPEATED_DATA ignoring data with redundant timestamp for frame odom at time 95.440000 according to authority /pose_integrator\u001b[0m\n",
      "\u001b[33m[ WARN] [1677532111.738809211, 95.440000000]: TF_REPEATED_DATA ignoring data with redundant timestamp for frame odom at time 95.440000 according to authority unknown_publisher\u001b[0m\n",
      "\u001b[33m[ WARN] [1677532113.764015077, 95.677000000]: TF_REPEATED_DATA ignoring data with redundant timestamp for frame odom at time 95.677000 according to authority /pose_integrator\u001b[0m\n",
      "\u001b[33m[ WARN] [1677532113.764073772, 95.677000000]: TF_REPEATED_DATA ignoring data with redundant timestamp for frame odom at time 95.677000 according to authority /pose_integrator\u001b[0m\n",
      "\u001b[33m[ WARN] [1677532113.764103241, 95.677000000]: TF_REPEATED_DATA ignoring data with redundant timestamp for frame odom at time 95.677000 according to authority /pose_integrator\u001b[0m\n",
      "\u001b[33m[ WARN] [1677532113.764127775, 95.677000000]: TF_REPEATED_DATA ignoring data with redundant timestamp for frame odom at time 95.677000 according to authority /pose_integrator\u001b[0m\n",
      "\u001b[33m[ WARN] [1677532113.764472497, 95.677000000]: TF_REPEATED_DATA ignoring data with redundant timestamp for frame odom at time 95.677000 according to authority unknown_publisher\u001b[0m\n",
      "\u001b[33m[ WARN] [1677532123.350864881, 96.290000000]: TF_REPEATED_DATA ignoring data with redundant timestamp for frame odom at time 96.290000 according to authority /pose_integrator\u001b[0m\n",
      "\u001b[33m[ WARN] [1677532123.350930228, 96.290000000]: TF_REPEATED_DATA ignoring data with redundant timestamp for frame odom at time 96.290000 according to authority /pose_integrator\u001b[0m\n",
      "\u001b[33m[ WARN] [1677532123.350953374, 96.290000000]: TF_REPEATED_DATA ignoring data with redundant timestamp for frame odom at time 96.290000 according to authority /pose_integrator\u001b[0m\n",
      "\u001b[33m[ WARN] [1677532123.350973706, 96.290000000]: TF_REPEATED_DATA ignoring data with redundant timestamp for frame odom at time 96.290000 according to authority /pose_integrator\u001b[0m\n",
      "\u001b[33m[ WARN] [1677532123.351267844, 96.290000000]: TF_REPEATED_DATA ignoring data with redundant timestamp for frame odom at time 96.290000 according to authority unknown_publisher\u001b[0m\n"
     ]
    }
   ],
   "source": [
    "import math\n",
    "import sys\n",
    "import rospy\n",
    "import numpy\n",
    "import tf\n",
    "import tf.transformations as tft\n",
    "import urdf_parser_py.urdf\n",
    "from std_msgs.msg import Float64MultiArray\n",
    "\n",
    "from trajectory_msgs.msg import JointTrajectory, JointTrajectoryPoint\n",
    "\n",
    "\n",
    "\n",
    "\"\"\"\n",
    "    para 17 de febrero revisar la cinematica inversa y corregirla si es posible\n",
    "\"\"\"\n",
    "\n",
    "prompt = \"\"\n",
    "\n",
    "def get_model_info(joint_names):\n",
    "    robot_model = urdf_parser_py.urdf.URDF.from_parameter_server()\n",
    "    joints = []\n",
    "    transforms = []\n",
    "    for name in joint_names:\n",
    "        for joint in robot_model.joints:\n",
    "            if joint.name == name:\n",
    "                joints.append(joint)\n",
    "    for joint in joints:\n",
    "        T = tft.translation_matrix(joint.origin.xyz)\n",
    "        R = tft.euler_matrix(joint.origin.rpy[0], joint.origin.rpy[1], joint.origin.rpy[2])\n",
    "        transforms.append(tft.concatenate_matrices(T,R))\n",
    "    return joints, transforms\n",
    "\n",
    "def angles_in_joint_limits(q):\n",
    "    for i in range(len(q)):\n",
    "        if q[i] < joints[i].limit.lower or q[i] > joints[i].limit.upper:\n",
    "            #print(prompt+\"Articular position out of joint bounds\")\n",
    "            return False\n",
    "    return True\n",
    "    \n",
    "def forward_kinematics(q):\n",
    "    global transforms, joints\n",
    "    H = tft.identity_matrix()\n",
    "    for i in range(len(q)):\n",
    "        H  = tft.concatenate_matrices(H, transforms[i], tft.rotation_matrix(q[i], joints[i].axis))\n",
    "    H  = tft.concatenate_matrices(H, transforms[7])\n",
    "    return numpy.asarray([H[0,3], H[1,3], H[2,3]] + list(tft.euler_from_matrix(H)))\n",
    "\n",
    "def jacobian(q):\n",
    "    delta_q = 0.000001   \n",
    "    J = numpy.asarray([[0.0 for a in q] for i in range(6)])##numpy, ndarray\n",
    "    qn = numpy.asarray([q,]*len(q)) + delta_q*numpy.identity(len(q))\n",
    "    qp = numpy.asarray([q,]*len(q)) - delta_q*numpy.identity(len(q)) \n",
    "    for i in range(len(q)):\n",
    "        J[:,i] = (forward_kinematics(qn[i]) - forward_kinematics(qp[i]))/delta_q/2.0\n",
    "     \n",
    "    return J\n",
    "\n",
    "def inverse_kinematics(x, y, z, roll, pitch, yaw, initial_guess=numpy.zeros(7), max_iterations=20):\n",
    "    only_xyz = math.isnan(roll) or math.isnan(pitch) or math.isnan(yaw)\n",
    "    q = [qi for qi in initial_guess]\n",
    "    pd = numpy.asarray([x,y,z,roll,pitch,yaw])\n",
    "    p  = forward_kinematics(q)\n",
    "    iterations = 0\n",
    "    err = p-pd\n",
    "    if only_xyz:\n",
    "        err = err[0:3]\n",
    "    while numpy.linalg.norm(err) > 0.00001 and iterations < max_iterations:\n",
    "        J = jacobian(q)\n",
    "        err = p - pd\n",
    "        if only_xyz:\n",
    "            J = J[0:3]\n",
    "            err = err[0:3]\n",
    "        else:\n",
    "            err[3:6] = (err[3:6] + math.pi)%(2*math.pi) - math.pi\n",
    "        q = (q - numpy.dot(numpy.linalg.pinv(J), err) + math.pi)%(2*math.pi) - math.pi\n",
    "        p = forward_kinematics(q)\n",
    "        err = p - pd\n",
    "        if only_xyz:\n",
    "            err = err[0:3]\n",
    "        iterations +=1\n",
    "    return iterations < max_iterations and angles_in_joint_limits(q), q\n",
    "\n",
    "def get_polynomial_trajectory(q_initial, q_final, qp_initial=0, qp_final=0, qpp_initial=0, qpp_final=0, duration=1.0, time_step=0.05):\n",
    "    #\n",
    "    # This function calculates a polynomial trajectory for a single variable.\n",
    "    # It is intended to be called N times for a N-DoF trajectory. \n",
    "    #\n",
    "    t = duration\n",
    "    A = [[   t**5,    t**4,   t**3, t**2, t, 1],\n",
    "         [ 5*t**4,  4*t**3, 3*t**2,  2*t, 1, 0],\n",
    "         [20*t**3, 12*t**2,    6*t,    2, 0, 0],\n",
    "         [      0,       0,      0,    0, 0, 1],\n",
    "         [      0,       0,      0,    0, 1, 0],\n",
    "         [      0,       0,      0,    2, 0, 0]]\n",
    "    A = numpy.asarray(A)\n",
    "    B = [[q_final  ],\n",
    "         [qp_final ],\n",
    "         [qpp_final],\n",
    "         [q_initial  ],\n",
    "         [qp_initial ],\n",
    "         [qpp_initial]]\n",
    "    B = numpy.asarray(B)\n",
    "    X = numpy.dot(numpy.linalg.inv(A),B)\n",
    "    a5, a4, a3, a2, a1, a0 = X[0,0], X[1,0], X[2,0], X[3,0], X[4,0], X[5,0]\n",
    "    T = numpy.arange(0, t, time_step)\n",
    "    Q = numpy.zeros(len(T))\n",
    "    for i in range(len(T)):\n",
    "        Q[i] = a5*T[i]**5 + a4*T[i]**4 + a3*T[i]**3 + a2*T[i]**2 + a1*T[i] + a0\n",
    "\n",
    "    return T, Q\n",
    "    \n",
    "def get_polynomial_trajectory_multi_dof(Q_start, Q_end, Qp_start=[], Qp_end=[], Qpp_start=[], Qpp_end=[], duration=1.0, time_step=0.05):\n",
    "    Q = []\n",
    "    T = []\n",
    "    if Qp_start == []:\n",
    "        Qp_start = numpy.zeros(len(Q_start))\n",
    "    if Qpp_start == []:\n",
    "        Qpp_start = numpy.zeros(len(Q_start))\n",
    "    if Qp_end == []:\n",
    "        Qp_end = numpy.zeros(len(Q_end))\n",
    "    if Qpp_end == []:\n",
    "        Qpp_end = numpy.zeros(len(Q_end))\n",
    "    for i in range(len(Q_start)):\n",
    "        T, Qi = get_polynomial_trajectory(Q_start[i], Q_end[i], Qp_start[i], Qp_end[i], Qpp_start[i], Qpp_end[i], duration, time_step)\n",
    "        Q.append(Qi)\n",
    "    Q = numpy.asarray(Q)\n",
    "    Q = Q.transpose()\n",
    "    return Q,T\n",
    "\n",
    "def callback_forward_kinematics(req):\n",
    "    if len(req.q) != 7:\n",
    "        print(prompt+\"By the moment, only 7-DOF arm is supported\")\n",
    "        return False\n",
    "    resp = ForwardKinematicsResponse()\n",
    "    resp.x, resp.y, resp.z, resp.roll, resp.pitch, resp.yaw = forward_kinematics(req.q)\n",
    "    return resp\n",
    "\n",
    "def get_trajectory_time(p1, p2, speed_factor):\n",
    "    p1 = numpy.asarray(p1)\n",
    "    p2 = numpy.asarray(p2)\n",
    "    m = max(numpy.absolute(p1 - p2))\n",
    "    return m/speed_factor + 0.5\n",
    "\n",
    "def callback_ik_for_trajectory(req):\n",
    "    \n",
    "    global max_iterations\n",
    "    # entra una Pose\n",
    "    print(prompt+\"Calculating inverse kinematics and trajectory for \" + str([req.x, req.y, req.z, req.roll, req.pitch, req.yaw]))\n",
    "    # si no hay suposicion inicial toma la pose actual de brazo\n",
    "    if len(req.initial_guess) <= 0 or req.initial_guess == None:\n",
    "        initial_guess = rospy.wait_for_message(\"/hardware/arm/current_pose\", Float64MultiArray)\n",
    "        initial_guess = initial_guess.data\n",
    "    else:\n",
    "        initial_guess = req.initial_guess\n",
    "\n",
    "    # obtenemos la pose supuesta a cinematica directa, es el punto inicial\n",
    "    p1 = forward_kinematics(initial_guess)\n",
    "    # el punto final de la trayectoria es el punto o pose objetivo\n",
    "    p2 = [req.x, req.y, req.z, req.roll, req.pitch, req.yaw]\n",
    "    t  = req.duration if req.duration > 0 else get_trajectory_time(p1, p2, 0.25)\n",
    "    dt = req.time_step if req.time_step > 0 else 0.05\n",
    "    # obtiene la trayectoria que lleva de punto inicial a punto final (objetivo)\n",
    "    X,T = get_polynomial_trajectory_multi_dof(p1, p2, duration=t, time_step=dt)\n",
    "    trj = JointTrajectory()\n",
    "    trj.header.stamp = rospy.Time.now()\n",
    "    q = initial_guess\n",
    "    for i in range(len(X)): # para cada ....\n",
    "        x, y, z, roll, pitch, yaw = X[i]    # punto de la trayectoria en espacio cartesiano\n",
    "        # ik para cada punto de la trayectoria\n",
    "        success, q = inverse_kinematics(x, y, z, roll, pitch, yaw, q, max_iterations)  \n",
    "        if not success:\n",
    "            return False\n",
    "        p = JointTrajectoryPoint()\n",
    "        p.positions = q\n",
    "        p.time_from_start = rospy.Duration.from_sec(T[i])\n",
    "        trj.points.append(p)\n",
    "    resp = InverseKinematicsPose2TrajResponse()\n",
    "    resp.articular_trajectory = trj\n",
    "    return resp\n",
    "    \n",
    "        \n",
    "def callback_ik_for_pose(req):\n",
    "    global max_iterations\n",
    "    print(prompt+\"Calculating inverse kinematics for pose: \" + str([req.x, req.y, req.z, req.roll, req.pitch, req.yaw]))\n",
    "    if len(req.initial_guess) <= 0 or req.initial_guess == None:\n",
    "        initial_guess = rospy.wait_for_message(\"/hardware/arm/current_pose\", Float64MultiArray, 5.0)\n",
    "        initial_guess = initial_guess.data\n",
    "    else:\n",
    "        initial_guess = req.initial_guess\n",
    "    resp = InverseKinematicsPose2PoseResponse()\n",
    "    success, q = inverse_kinematics(req.x, req.y, req.z, req.roll, req.pitch, req.yaw, initial_guess, max_iterations)\n",
    "    if not success:\n",
    "        return False\n",
    "    resp.q = q\n",
    "    return resp        \n",
    "    \n"
   ]
  },
  {
   "cell_type": "code",
   "execution_count": 8,
   "id": "35bf19bd",
   "metadata": {},
   "outputs": [
    {
     "name": "stderr",
     "output_type": "stream",
     "text": [
      "\u001b[33m[ WARN] [1677532271.652047252, 109.342000000]: TF_REPEATED_DATA ignoring data with redundant timestamp for frame odom at time 109.342000 according to authority unknown_publisher\u001b[0m\n",
      "\u001b[33m[ WARN] [1677532271.656049207, 109.342000000]: TF_REPEATED_DATA ignoring data with redundant timestamp for frame odom at time 109.342000 according to authority /pose_integrator\u001b[0m\n",
      "\u001b[33m[ WARN] [1677532271.656115621, 109.342000000]: TF_REPEATED_DATA ignoring data with redundant timestamp for frame odom at time 109.342000 according to authority /pose_integrator\u001b[0m\n",
      "\u001b[33m[ WARN] [1677532271.656139866, 109.342000000]: TF_REPEATED_DATA ignoring data with redundant timestamp for frame odom at time 109.342000 according to authority /pose_integrator\u001b[0m\n",
      "\u001b[33m[ WARN] [1677532271.656159559, 109.342000000]: TF_REPEATED_DATA ignoring data with redundant timestamp for frame odom at time 109.342000 according to authority /pose_integrator\u001b[0m\n"
     ]
    }
   ],
   "source": [
    "joint_names    = rospy.get_param(\"~joint_names\", [])"
   ]
  },
  {
   "cell_type": "code",
   "execution_count": null,
   "id": "87776251",
   "metadata": {},
   "outputs": [],
   "source": []
  },
  {
   "cell_type": "code",
   "execution_count": 9,
   "id": "e78b851c",
   "metadata": {},
   "outputs": [
    {
     "data": {
      "text/plain": [
       "[]"
      ]
     },
     "execution_count": 9,
     "metadata": {},
     "output_type": "execute_result"
    },
    {
     "name": "stderr",
     "output_type": "stream",
     "text": [
      "\u001b[33m[ WARN] [1677532282.096172516, 110.457000000]: TF_REPEATED_DATA ignoring data with redundant timestamp for frame odom at time 110.457000 according to authority unknown_publisher\u001b[0m\n",
      "\u001b[33m[ WARN] [1677532282.096310736, 110.457000000]: TF_REPEATED_DATA ignoring data with redundant timestamp for frame odom at time 110.457000 according to authority /pose_integrator\u001b[0m\n",
      "\u001b[33m[ WARN] [1677532282.096347637, 110.457000000]: TF_REPEATED_DATA ignoring data with redundant timestamp for frame odom at time 110.457000 according to authority /pose_integrator\u001b[0m\n",
      "\u001b[33m[ WARN] [1677532282.096371259, 110.457000000]: TF_REPEATED_DATA ignoring data with redundant timestamp for frame odom at time 110.457000 according to authority /pose_integrator\u001b[0m\n",
      "\u001b[33m[ WARN] [1677532282.096392054, 110.457000000]: TF_REPEATED_DATA ignoring data with redundant timestamp for frame odom at time 110.457000 according to authority /pose_integrator\u001b[0m\n",
      "\u001b[33m[ WARN] [1677532301.166205581, 112.545000000]: TF_REPEATED_DATA ignoring data with redundant timestamp for frame odom at time 112.545000 according to authority unknown_publisher\u001b[0m\n",
      "\u001b[33m[ WARN] [1677532301.166354741, 112.545000000]: TF_REPEATED_DATA ignoring data with redundant timestamp for frame odom at time 112.545000 according to authority /pose_integrator\u001b[0m\n",
      "\u001b[33m[ WARN] [1677532301.166389685, 112.545000000]: TF_REPEATED_DATA ignoring data with redundant timestamp for frame odom at time 112.545000 according to authority /pose_integrator\u001b[0m\n",
      "\u001b[33m[ WARN] [1677532301.166414334, 112.545000000]: TF_REPEATED_DATA ignoring data with redundant timestamp for frame odom at time 112.545000 according to authority /pose_integrator\u001b[0m\n",
      "\u001b[33m[ WARN] [1677532301.166434008, 112.545000000]: TF_REPEATED_DATA ignoring data with redundant timestamp for frame odom at time 112.545000 according to authority /pose_integrator\u001b[0m\n"
     ]
    }
   ],
   "source": [
    "joint_names"
   ]
  },
  {
   "cell_type": "code",
   "execution_count": null,
   "id": "1665dedd",
   "metadata": {},
   "outputs": [],
   "source": []
  },
  {
   "cell_type": "code",
   "execution_count": 6,
   "id": "c3c4d12a",
   "metadata": {},
   "outputs": [
    {
     "name": "stderr",
     "output_type": "stream",
     "text": [
      "Unknown tag \"hardwareInterface\" in /robot[@name='hsrb']/transmission[@name='base_transmission']/actuator[@name='base_r_drive_wheel_joint_actuator']\n",
      "Unknown tag \"hardwareInterface\" in /robot[@name='hsrb']/transmission[@name='base_transmission']/actuator[@name='base_l_drive_wheel_joint_actuator']\n",
      "Unknown tag \"hardwareInterface\" in /robot[@name='hsrb']/transmission[@name='base_roll_joint_transmission']/actuator[@name='base_roll_joint_actuator']\n",
      "Unknown tag \"hardwareInterface\" in /robot[@name='hsrb']/transmission[@name='head_pan_joint_transmission']/actuator[@name='head_pan_joint_actuator']\n",
      "Unknown tag \"hardwareInterface\" in /robot[@name='hsrb']/transmission[@name='head_tilt_joint_transmission']/actuator[@name='head_tilt_joint_actuator']\n",
      "Unknown tag \"hardwareInterface\" in /robot[@name='hsrb']/transmission[@name='arm_lift_joint_transmission']/actuator[@name='arm_lift_joint_actuator']\n",
      "Unknown tag \"hardwareInterface\" in /robot[@name='hsrb']/transmission[@name='arm_flex_joint_transmission']/actuator[@name='arm_flex_joint_actuator']\n",
      "Unknown tag \"hardwareInterface\" in /robot[@name='hsrb']/transmission[@name='arm_roll_joint_transmission']/actuator[@name='arm_roll_joint_actuator']\n",
      "Unknown tag \"hardwareInterface\" in /robot[@name='hsrb']/transmission[@name='wrist_flex_joint_transmission']/actuator[@name='wrist_flex_joint_actuator']\n",
      "Unknown tag \"hardwareInterface\" in /robot[@name='hsrb']/transmission[@name='wrist_roll_joint_transmission']/actuator[@name='wrist_roll_joint_actuator']\n",
      "Unknown tag \"hardwareInterface\" in /robot[@name='hsrb']/transmission[@name='hand_motor_joint_transmission']/actuator[@name='hand_motor_joint_actuator']\n",
      "Unknown tag \"hardwareInterface\" in /robot[@name='hsrb']/transmission[@name='hand_l_spring_proximal_joint_transmission']/actuator[@name='hand_l_spring_proximal_joint_actuator']\n",
      "Unknown tag \"hardwareInterface\" in /robot[@name='hsrb']/transmission[@name='hand_r_spring_proximal_joint_transmission']/actuator[@name='hand_r_spring_proximal_joint_actuator']\n"
     ]
    }
   ],
   "source": [
    "robot_model = urdf_parser_py.urdf.URDF.from_parameter_server()"
   ]
  },
  {
   "cell_type": "code",
   "execution_count": 11,
   "id": "4f325586",
   "metadata": {},
   "outputs": [
    {
     "data": {
      "text/plain": [
       "<function list.extend(iterable, /)>"
      ]
     },
     "execution_count": 11,
     "metadata": {},
     "output_type": "execute_result"
    }
   ],
   "source": [
    "robot_model.joints."
   ]
  },
  {
   "cell_type": "code",
   "execution_count": 13,
   "id": "0e187b83",
   "metadata": {},
   "outputs": [
    {
     "name": "stdout",
     "output_type": "stream",
     "text": [
      "base_footprint_joint\n",
      "base_roll_joint\n",
      "base_r_drive_wheel_joint\n",
      "base_l_drive_wheel_joint\n",
      "base_r_passive_wheel_x_frame_joint\n",
      "base_r_passive_wheel_y_frame_joint\n",
      "base_r_passive_wheel_z_joint\n",
      "base_l_passive_wheel_x_frame_joint\n",
      "base_l_passive_wheel_y_frame_joint\n",
      "base_l_passive_wheel_z_joint\n",
      "base_range_sensor_joint\n",
      "base_imu_frame_joint\n",
      "base_f_bumper_joint\n",
      "base_b_bumper_joint\n",
      "torso_lift_joint\n",
      "head_pan_joint\n",
      "head_tilt_joint\n",
      "head_l_stereo_camera_joint\n",
      "head_l_stereo_camera_gazebo_frame_joint\n",
      "head_r_stereo_camera_joint\n",
      "head_r_stereo_camera_gazebo_frame_joint\n",
      "head_center_camera_frame_joint\n",
      "head_center_camera_gazebo_frame_joint\n",
      "head_rgbd_sensor_joint\n",
      "head_rgbd_sensor_gazebo_frame_joint\n",
      "arm_lift_joint\n",
      "arm_flex_joint\n",
      "arm_roll_joint\n",
      "wrist_flex_joint\n",
      "wrist_roll_joint\n",
      "wrist_ft_sensor_frame_inverse_joint\n",
      "wrist_ft_sensor_frame_joint\n",
      "hand_palm_joint\n",
      "hand_motor_joint\n",
      "hand_l_proximal_joint\n",
      "hand_l_spring_proximal_joint\n",
      "hand_l_mimic_distal_joint\n",
      "hand_l_distal_joint\n",
      "hand_l_finger_tip_frame_joint\n",
      "hand_l_finger_vacuum_frame_joint\n",
      "hand_r_proximal_joint\n",
      "hand_r_spring_proximal_joint\n",
      "hand_r_mimic_distal_joint\n",
      "hand_r_distal_joint\n",
      "hand_r_finger_tip_frame_joint\n",
      "hand_camera_frame_joint\n",
      "hand_camera_gazebo_frame_joint\n"
     ]
    }
   ],
   "source": [
    "for joint in robot_model.joints:\n",
    "    print (joint.name)"
   ]
  },
  {
   "cell_type": "code",
   "execution_count": 19,
   "id": "fd982f2b",
   "metadata": {},
   "outputs": [
    {
     "data": {
      "text/plain": [
       "['arm_lift_joint',\n",
       " 'arm_flex_joint',\n",
       " 'arm_roll_joint',\n",
       " 'wrist_flex_joint',\n",
       " 'wrist_roll_joint']"
      ]
     },
     "execution_count": 19,
     "metadata": {},
     "output_type": "execute_result"
    }
   ],
   "source": [
    "rospy.get_param(\"~joint_names\", [])"
   ]
  },
  {
   "cell_type": "code",
   "execution_count": 18,
   "id": "b002a7ab",
   "metadata": {},
   "outputs": [],
   "source": [
    "\n",
    "rospy.set_param(\"~joint_names\", [\"arm_lift_joint\",\n",
    "\"arm_flex_joint\",\n",
    "\"arm_roll_joint\",\n",
    "\"wrist_flex_joint\",\n",
    "\"wrist_roll_joint\"])"
   ]
  },
  {
   "cell_type": "code",
   "execution_count": 1,
   "id": "db32504a",
   "metadata": {},
   "outputs": [],
   "source": [
    "import numpy as np"
   ]
  },
  {
   "cell_type": "code",
   "execution_count": 5,
   "id": "1e47d6ce",
   "metadata": {},
   "outputs": [
    {
     "data": {
      "text/plain": [
       "10"
      ]
     },
     "execution_count": 5,
     "metadata": {},
     "output_type": "execute_result"
    }
   ],
   "source": [
    "(190+180)%360\n"
   ]
  },
  {
   "cell_type": "code",
   "execution_count": 1,
   "id": "1a0e2488",
   "metadata": {},
   "outputs": [
    {
     "name": "stderr",
     "output_type": "stream",
     "text": [
      "2023-03-03 14:15:49.178919: I tensorflow/core/platform/cpu_feature_guard.cc:193] This TensorFlow binary is optimized with oneAPI Deep Neural Network Library (oneDNN) to use the following CPU instructions in performance-critical operations:  AVX2 FMA\n",
      "To enable them in other operations, rebuild TensorFlow with the appropriate compiler flags.\n"
     ]
    },
    {
     "ename": "RuntimeError",
     "evalue": "module compiled against API version 0xe but this version of numpy is 0xd",
     "output_type": "error",
     "traceback": [
      "\u001b[0;31m---------------------------------------------------------------------------\u001b[0m",
      "\u001b[0;31mRuntimeError\u001b[0m                              Traceback (most recent call last)",
      "\u001b[0;31mRuntimeError\u001b[0m: module compiled against API version 0xe but this version of numpy is 0xd"
     ]
    },
    {
     "ename": "ImportError",
     "evalue": "initialization failed",
     "output_type": "error",
     "traceback": [
      "\u001b[0;31m---------------------------------------------------------------------------\u001b[0m",
      "\u001b[0;31mImportError\u001b[0m                               Traceback (most recent call last)",
      "\u001b[0;31mImportError\u001b[0m: numpy.core.multiarray failed to import",
      "\nThe above exception was the direct cause of the following exception:\n",
      "\u001b[0;31mSystemError\u001b[0m                               Traceback (most recent call last)",
      "\u001b[0;31mSystemError\u001b[0m: <built-in method __contains__ of dict object at 0x7fd90421f780> returned a result with an error set",
      "\nThe above exception was the direct cause of the following exception:\n",
      "\u001b[0;31mImportError\u001b[0m                               Traceback (most recent call last)",
      "Cell \u001b[0;32mIn[1], line 1\u001b[0m\n\u001b[0;32m----> 1\u001b[0m \u001b[38;5;28;01mimport\u001b[39;00m \u001b[38;5;21;01mtensorflow\u001b[39;00m\n",
      "File \u001b[0;32m~/.local/lib/python3.8/site-packages/tensorflow/__init__.py:37\u001b[0m\n\u001b[1;32m     34\u001b[0m \u001b[38;5;28;01mimport\u001b[39;00m \u001b[38;5;21;01msys\u001b[39;00m \u001b[38;5;28;01mas\u001b[39;00m \u001b[38;5;21;01m_sys\u001b[39;00m\n\u001b[1;32m     35\u001b[0m \u001b[38;5;28;01mimport\u001b[39;00m \u001b[38;5;21;01mtyping\u001b[39;00m \u001b[38;5;28;01mas\u001b[39;00m \u001b[38;5;21;01m_typing\u001b[39;00m\n\u001b[0;32m---> 37\u001b[0m \u001b[38;5;28;01mfrom\u001b[39;00m \u001b[38;5;21;01mtensorflow\u001b[39;00m\u001b[38;5;21;01m.\u001b[39;00m\u001b[38;5;21;01mpython\u001b[39;00m\u001b[38;5;21;01m.\u001b[39;00m\u001b[38;5;21;01mtools\u001b[39;00m \u001b[38;5;28;01mimport\u001b[39;00m module_util \u001b[38;5;28;01mas\u001b[39;00m _module_util\n\u001b[1;32m     38\u001b[0m \u001b[38;5;28;01mfrom\u001b[39;00m \u001b[38;5;21;01mtensorflow\u001b[39;00m\u001b[38;5;21;01m.\u001b[39;00m\u001b[38;5;21;01mpython\u001b[39;00m\u001b[38;5;21;01m.\u001b[39;00m\u001b[38;5;21;01mutil\u001b[39;00m\u001b[38;5;21;01m.\u001b[39;00m\u001b[38;5;21;01mlazy_loader\u001b[39;00m \u001b[38;5;28;01mimport\u001b[39;00m LazyLoader \u001b[38;5;28;01mas\u001b[39;00m _LazyLoader\n\u001b[1;32m     40\u001b[0m \u001b[38;5;66;03m# Make sure code inside the TensorFlow codebase can use tf2.enabled() at import.\u001b[39;00m\n",
      "File \u001b[0;32m~/.local/lib/python3.8/site-packages/tensorflow/python/__init__.py:37\u001b[0m\n\u001b[1;32m     29\u001b[0m \u001b[38;5;66;03m# We aim to keep this file minimal and ideally remove completely.\u001b[39;00m\n\u001b[1;32m     30\u001b[0m \u001b[38;5;66;03m# If you are adding a new file with @tf_export decorators,\u001b[39;00m\n\u001b[1;32m     31\u001b[0m \u001b[38;5;66;03m# import it in modules_with_exports.py instead.\u001b[39;00m\n\u001b[1;32m     32\u001b[0m \n\u001b[1;32m     33\u001b[0m \u001b[38;5;66;03m# go/tf-wildcard-import\u001b[39;00m\n\u001b[1;32m     34\u001b[0m \u001b[38;5;66;03m# pylint: disable=wildcard-import,g-bad-import-order,g-import-not-at-top\u001b[39;00m\n\u001b[1;32m     36\u001b[0m \u001b[38;5;28;01mfrom\u001b[39;00m \u001b[38;5;21;01mtensorflow\u001b[39;00m\u001b[38;5;21;01m.\u001b[39;00m\u001b[38;5;21;01mpython\u001b[39;00m \u001b[38;5;28;01mimport\u001b[39;00m pywrap_tensorflow \u001b[38;5;28;01mas\u001b[39;00m _pywrap_tensorflow\n\u001b[0;32m---> 37\u001b[0m \u001b[38;5;28;01mfrom\u001b[39;00m \u001b[38;5;21;01mtensorflow\u001b[39;00m\u001b[38;5;21;01m.\u001b[39;00m\u001b[38;5;21;01mpython\u001b[39;00m\u001b[38;5;21;01m.\u001b[39;00m\u001b[38;5;21;01meager\u001b[39;00m \u001b[38;5;28;01mimport\u001b[39;00m context\n\u001b[1;32m     39\u001b[0m \u001b[38;5;66;03m# pylint: enable=wildcard-import\u001b[39;00m\n\u001b[1;32m     40\u001b[0m \n\u001b[1;32m     41\u001b[0m \u001b[38;5;66;03m# Bring in subpackages.\u001b[39;00m\n\u001b[1;32m     42\u001b[0m \u001b[38;5;28;01mfrom\u001b[39;00m \u001b[38;5;21;01mtensorflow\u001b[39;00m\u001b[38;5;21;01m.\u001b[39;00m\u001b[38;5;21;01mpython\u001b[39;00m \u001b[38;5;28;01mimport\u001b[39;00m data\n",
      "File \u001b[0;32m~/.local/lib/python3.8/site-packages/tensorflow/python/eager/context.py:34\u001b[0m\n\u001b[1;32m     32\u001b[0m \u001b[38;5;28;01mfrom\u001b[39;00m \u001b[38;5;21;01mtensorflow\u001b[39;00m\u001b[38;5;21;01m.\u001b[39;00m\u001b[38;5;21;01mpython\u001b[39;00m \u001b[38;5;28;01mimport\u001b[39;00m pywrap_tfe\n\u001b[1;32m     33\u001b[0m \u001b[38;5;28;01mfrom\u001b[39;00m \u001b[38;5;21;01mtensorflow\u001b[39;00m\u001b[38;5;21;01m.\u001b[39;00m\u001b[38;5;21;01mpython\u001b[39;00m \u001b[38;5;28;01mimport\u001b[39;00m tf2\n\u001b[0;32m---> 34\u001b[0m \u001b[38;5;28;01mfrom\u001b[39;00m \u001b[38;5;21;01mtensorflow\u001b[39;00m\u001b[38;5;21;01m.\u001b[39;00m\u001b[38;5;21;01mpython\u001b[39;00m\u001b[38;5;21;01m.\u001b[39;00m\u001b[38;5;21;01mclient\u001b[39;00m \u001b[38;5;28;01mimport\u001b[39;00m pywrap_tf_session\n\u001b[1;32m     35\u001b[0m \u001b[38;5;28;01mfrom\u001b[39;00m \u001b[38;5;21;01mtensorflow\u001b[39;00m\u001b[38;5;21;01m.\u001b[39;00m\u001b[38;5;21;01mpython\u001b[39;00m\u001b[38;5;21;01m.\u001b[39;00m\u001b[38;5;21;01meager\u001b[39;00m \u001b[38;5;28;01mimport\u001b[39;00m executor\n\u001b[1;32m     36\u001b[0m \u001b[38;5;28;01mfrom\u001b[39;00m \u001b[38;5;21;01mtensorflow\u001b[39;00m\u001b[38;5;21;01m.\u001b[39;00m\u001b[38;5;21;01mpython\u001b[39;00m\u001b[38;5;21;01m.\u001b[39;00m\u001b[38;5;21;01meager\u001b[39;00m \u001b[38;5;28;01mimport\u001b[39;00m monitoring\n",
      "File \u001b[0;32m~/.local/lib/python3.8/site-packages/tensorflow/python/client/pywrap_tf_session.py:19\u001b[0m\n\u001b[1;32m     17\u001b[0m \u001b[38;5;66;03m# pylint: disable=invalid-import-order,g-bad-import-order, wildcard-import, unused-import\u001b[39;00m\n\u001b[1;32m     18\u001b[0m \u001b[38;5;28;01mfrom\u001b[39;00m \u001b[38;5;21;01mtensorflow\u001b[39;00m\u001b[38;5;21;01m.\u001b[39;00m\u001b[38;5;21;01mpython\u001b[39;00m \u001b[38;5;28;01mimport\u001b[39;00m pywrap_tensorflow\n\u001b[0;32m---> 19\u001b[0m \u001b[38;5;28;01mfrom\u001b[39;00m \u001b[38;5;21;01mtensorflow\u001b[39;00m\u001b[38;5;21;01m.\u001b[39;00m\u001b[38;5;21;01mpython\u001b[39;00m\u001b[38;5;21;01m.\u001b[39;00m\u001b[38;5;21;01mclient\u001b[39;00m\u001b[38;5;21;01m.\u001b[39;00m\u001b[38;5;21;01m_pywrap_tf_session\u001b[39;00m \u001b[38;5;28;01mimport\u001b[39;00m \u001b[38;5;241m*\u001b[39m\n\u001b[1;32m     20\u001b[0m \u001b[38;5;28;01mfrom\u001b[39;00m \u001b[38;5;21;01mtensorflow\u001b[39;00m\u001b[38;5;21;01m.\u001b[39;00m\u001b[38;5;21;01mpython\u001b[39;00m\u001b[38;5;21;01m.\u001b[39;00m\u001b[38;5;21;01mclient\u001b[39;00m\u001b[38;5;21;01m.\u001b[39;00m\u001b[38;5;21;01m_pywrap_tf_session\u001b[39;00m \u001b[38;5;28;01mimport\u001b[39;00m _TF_SetTarget\n\u001b[1;32m     21\u001b[0m \u001b[38;5;28;01mfrom\u001b[39;00m \u001b[38;5;21;01mtensorflow\u001b[39;00m\u001b[38;5;21;01m.\u001b[39;00m\u001b[38;5;21;01mpython\u001b[39;00m\u001b[38;5;21;01m.\u001b[39;00m\u001b[38;5;21;01mclient\u001b[39;00m\u001b[38;5;21;01m.\u001b[39;00m\u001b[38;5;21;01m_pywrap_tf_session\u001b[39;00m \u001b[38;5;28;01mimport\u001b[39;00m _TF_SetConfig\n",
      "\u001b[0;31mImportError\u001b[0m: initialization failed"
     ]
    }
   ],
   "source": [
    "import tensorflow\n"
   ]
  },
  {
   "cell_type": "code",
   "execution_count": 1,
   "id": "a1694a8f",
   "metadata": {},
   "outputs": [
    {
     "name": "stderr",
     "output_type": "stream",
     "text": [
      "the rosdep view is empty: call 'sudo rosdep init' and 'rosdep update'\n",
      "\u001b[33m[ WARN] [1678668004.529397639]: Link hand_l_finger_vacuum_frame has visual geometry but no collision geometry. Collision geometry will be left empty. Fix your URDF file by explicitly specifying collision geometry.\u001b[0m\n",
      "\u001b[33m[ WARN] [1678668004.546842425, 2367.138000000]: Link head_l_stereo_camera_link has visual geometry but no collision geometry. Collision geometry will be left empty. Fix your URDF file by explicitly specifying collision geometry.\u001b[0m\n",
      "\u001b[33m[ WARN] [1678668004.548284446, 2367.138000000]: Link head_r_stereo_camera_link has visual geometry but no collision geometry. Collision geometry will be left empty. Fix your URDF file by explicitly specifying collision geometry.\u001b[0m\n",
      "\u001b[33m[ WARN] [1678668004.551369651, 2367.138000000]: Group state 'neutral' doesn't specify all group joints in group 'arm'. wrist_ft_sensor_frame_joint is missing.\u001b[0m\n",
      "\u001b[33m[ WARN] [1678668004.552195347, 2367.138000000]: Group state 'go' doesn't specify all group joints in group 'arm'. wrist_ft_sensor_frame_joint is missing.\u001b[0m\n",
      "\u001b[33m[ WARN] [1678668004.944113979, 2367.147000000]: Kinematics solver doesn't support #attempts anymore, but only a timeout.\n",
      "Please remove the parameter '/robot_description_kinematics/arm/kinematics_solver_attempts' from your configuration.\u001b[0m\n",
      "\u001b[33m[ WARN] [1678668005.045752325, 2367.147000000]: IK plugin for group 'whole_body' relies on deprecated API. Please implement initialize(RobotModel, ...).\u001b[0m\n",
      "\u001b[33m[ WARN] [1678668005.063059812, 2367.147000000]: IK plugin for group 'whole_body_weighted' relies on deprecated API. Please implement initialize(RobotModel, ...).\u001b[0m\n",
      "\u001b[33m[ WARN] [1678668005.071711470, 2367.147000000]: IK plugin for group 'whole_body_light' relies on deprecated API. Please implement initialize(RobotModel, ...).\u001b[0m\n",
      "\u001b[33m[ WARN] [1678668014.575562319, 2367.898000000]: TF_REPEATED_DATA ignoring data with redundant timestamp for frame odom at time 2367.929000 according to authority /pose_integrator\u001b[0m\n",
      "\u001b[33m[ WARN] [1678668014.576309795, 2367.898000000]: TF_REPEATED_DATA ignoring data with redundant timestamp for frame odom at time 2367.929000 according to authority unknown_publisher\u001b[0m\n"
     ]
    }
   ],
   "source": [
    "from smach_utils2 import *"
   ]
  },
  {
   "cell_type": "code",
   "execution_count": 3,
   "id": "d2256a4c",
   "metadata": {},
   "outputs": [
    {
     "name": "stderr",
     "output_type": "stream",
     "text": [
      "\u001b[33m[ WARN] [1678658286.727390780]: TF_REPEATED_DATA ignoring data with redundant timestamp for frame odom at time 2287.102000 according to authority /pose_integrator\u001b[0m\n",
      "\u001b[33m[ WARN] [1678658286.727450321]: TF_REPEATED_DATA ignoring data with redundant timestamp for frame odom at time 2287.102000 according to authority /pose_integrator\u001b[0m\n",
      "\u001b[33m[ WARN] [1678658286.727477231]: TF_REPEATED_DATA ignoring data with redundant timestamp for frame odom at time 2287.102000 according to authority /pose_integrator\u001b[0m\n",
      "\u001b[33m[ WARN] [1678658286.727500771]: TF_REPEATED_DATA ignoring data with redundant timestamp for frame odom at time 2287.102000 according to authority /pose_integrator\u001b[0m\n",
      "\u001b[33m[ WARN] [1678658286.728171769]: TF_REPEATED_DATA ignoring data with redundant timestamp for frame odom at time 2287.102000 according to authority unknown_publisher\u001b[0m\n"
     ]
    }
   ],
   "source": [
    "from nav_msgs.msg import OccupancyGrid\n",
    "#"
   ]
  },
  {
   "cell_type": "code",
   "execution_count": 2,
   "id": "ab314655",
   "metadata": {},
   "outputs": [],
   "source": [
    "inflated_map= np.asarray(map_msg.data)"
   ]
  },
  {
   "cell_type": "code",
   "execution_count": null,
   "id": "c5ec663f",
   "metadata": {},
   "outputs": [],
   "source": []
  },
  {
   "cell_type": "code",
   "execution_count": 5,
   "id": "d42cf29b",
   "metadata": {},
   "outputs": [],
   "source": [
    "import pickle"
   ]
  },
  {
   "cell_type": "code",
   "execution_count": 6,
   "id": "8c4443c3",
   "metadata": {},
   "outputs": [
    {
     "ename": "NameError",
     "evalue": "name 'img' is not defined",
     "output_type": "error",
     "traceback": [
      "\u001b[0;31m---------------------------------------------------------------------------\u001b[0m",
      "\u001b[0;31mNameError\u001b[0m                                 Traceback (most recent call last)",
      "Cell \u001b[0;32mIn[6], line 2\u001b[0m\n\u001b[1;32m      1\u001b[0m \u001b[38;5;28;01mwith\u001b[39;00m \u001b[38;5;28mopen\u001b[39m(\u001b[38;5;124m'\u001b[39m\u001b[38;5;124m/home/oscar/Desktop/img_map.pkl\u001b[39m\u001b[38;5;124m'\u001b[39m, \u001b[38;5;124m'\u001b[39m\u001b[38;5;124mwb\u001b[39m\u001b[38;5;124m'\u001b[39m) \u001b[38;5;28;01mas\u001b[39;00m f:  \u001b[38;5;66;03m# open a text file\u001b[39;00m\n\u001b[0;32m----> 2\u001b[0m     pickle\u001b[38;5;241m.\u001b[39mdump(\u001b[43mimg\u001b[49m,f)\n",
      "\u001b[0;31mNameError\u001b[0m: name 'img' is not defined"
     ]
    }
   ],
   "source": [
    "with open('/home/oscar/Desktop/img_map.pkl', 'wb') as f:  # open a text file\n",
    "    pickle.dump(img,f)"
   ]
  },
  {
   "cell_type": "code",
   "execution_count": 7,
   "id": "c653df9e",
   "metadata": {},
   "outputs": [
    {
     "ename": "EOFError",
     "evalue": "Ran out of input",
     "output_type": "error",
     "traceback": [
      "\u001b[0;31m---------------------------------------------------------------------------\u001b[0m",
      "\u001b[0;31mEOFError\u001b[0m                                  Traceback (most recent call last)",
      "Cell \u001b[0;32mIn[7], line 4\u001b[0m\n\u001b[1;32m      1\u001b[0m \u001b[38;5;66;03m##UNPÏCKLE\u001b[39;00m\n\u001b[1;32m      2\u001b[0m \u001b[38;5;28;01mwith\u001b[39;00m \u001b[38;5;28mopen\u001b[39m(\u001b[38;5;124m'\u001b[39m\u001b[38;5;124m/home/oscar/Desktop/img_map.pkl\u001b[39m\u001b[38;5;124m'\u001b[39m, \u001b[38;5;124m'\u001b[39m\u001b[38;5;124mrb\u001b[39m\u001b[38;5;124m'\u001b[39m) \u001b[38;5;28;01mas\u001b[39;00m f:\n\u001b[0;32m----> 4\u001b[0m     img2 \u001b[38;5;241m=\u001b[39m \u001b[43mpickle\u001b[49m\u001b[38;5;241;43m.\u001b[39;49m\u001b[43mload\u001b[49m\u001b[43m(\u001b[49m\u001b[43mf\u001b[49m\u001b[43m)\u001b[49m \u001b[38;5;66;03m# deserialize using load()\u001b[39;00m\n",
      "\u001b[0;31mEOFError\u001b[0m: Ran out of input"
     ]
    },
    {
     "name": "stderr",
     "output_type": "stream",
     "text": [
      "\u001b[33m[ WARN] [1678658293.520413442]: TF_REPEATED_DATA ignoring data with redundant timestamp for frame odom at time 2287.701000 according to authority /pose_integrator\u001b[0m\n",
      "\u001b[33m[ WARN] [1678658293.520458639]: TF_REPEATED_DATA ignoring data with redundant timestamp for frame odom at time 2287.701000 according to authority /pose_integrator\u001b[0m\n",
      "\u001b[33m[ WARN] [1678658293.520490441]: TF_REPEATED_DATA ignoring data with redundant timestamp for frame odom at time 2287.701000 according to authority /pose_integrator\u001b[0m\n",
      "\u001b[33m[ WARN] [1678658293.520513176]: TF_REPEATED_DATA ignoring data with redundant timestamp for frame odom at time 2287.701000 according to authority /pose_integrator\u001b[0m\n",
      "\u001b[33m[ WARN] [1678658293.520841378]: TF_REPEATED_DATA ignoring data with redundant timestamp for frame odom at time 2287.701000 according to authority unknown_publisher\u001b[0m\n"
     ]
    }
   ],
   "source": [
    "##UNPÏCKLE\n",
    "with open('/home/oscar/Desktop/img_map.pkl', 'rb') as f:\n",
    "\n",
    "    img2 = pickle.load(f) # deserialize using load()"
   ]
  },
  {
   "cell_type": "code",
   "execution_count": 11,
   "id": "c01a9aa1",
   "metadata": {},
   "outputs": [],
   "source": [
    "img= map_msg"
   ]
  },
  {
   "cell_type": "code",
   "execution_count": 6,
   "id": "c89a1dbb",
   "metadata": {},
   "outputs": [],
   "source": [
    "\n",
    "from nav_msgs.msg import OccupancyGrid\n",
    "map_msg= rospy.wait_for_message('/augmented_map', OccupancyGrid)\n",
    "\n",
    "inflated_map= np.asarray(map_msg.data)"
   ]
  },
  {
   "cell_type": "code",
   "execution_count": 9,
   "id": "5badafe0",
   "metadata": {},
   "outputs": [],
   "source": [
    "import matplotlib.pyplot as plt\n"
   ]
  },
  {
   "cell_type": "code",
   "execution_count": 12,
   "id": "6d393e28",
   "metadata": {},
   "outputs": [
    {
     "data": {
      "text/plain": [
       "<matplotlib.image.AxesImage at 0x7fdb50250ca0>"
      ]
     },
     "execution_count": 12,
     "metadata": {},
     "output_type": "execute_result"
    },
    {
     "data": {
      "image/png": "[encoded data removed]",
      "text/plain": [
       "<Figure size 640x480 with 1 Axes>"
      ]
     },
     "metadata": {},
     "output_type": "display_data"
    }
   ],
   "source": [
    "import matplotlib.pyplot as plt\n",
    "\n",
    "img_map=inflated_map.reshape((img.info.width,img.info.height))\n",
    "\n",
    "plt.imshow (img_map[750:1250,750:1250])"
   ]
  },
  {
   "cell_type": "code",
   "execution_count": 13,
   "id": "ec9d9be6",
   "metadata": {
    "scrolled": true
   },
   "outputs": [],
   "source": [
    "pix_per_m=img.info.resolution\n",
    "point_origin=np.asarray((img.info.origin.position.x,img.info.origin.position.y))\n",
    "map_quat= img.info.origin.orientation"
   ]
  },
  {
   "cell_type": "code",
   "execution_count": 14,
   "id": "1191f391",
   "metadata": {},
   "outputs": [
    {
     "name": "stderr",
     "output_type": "stream",
     "text": [
      "\u001b[33m[ WARN] [1678658348.022475877]: TF_REPEATED_DATA ignoring data with redundant timestamp for frame odom at time 2292.855000 according to authority unknown_publisher\u001b[0m\n",
      "\u001b[33m[ WARN] [1678658348.022537335]: TF_REPEATED_DATA ignoring data with redundant timestamp for frame odom at time 2292.855000 according to authority /pose_integrator\u001b[0m\n",
      "\u001b[33m[ WARN] [1678658348.022592652]: TF_REPEATED_DATA ignoring data with redundant timestamp for frame odom at time 2292.855000 according to authority /pose_integrator\u001b[0m\n",
      "\u001b[33m[ WARN] [1678658348.022620471]: TF_REPEATED_DATA ignoring data with redundant timestamp for frame odom at time 2292.855000 according to authority /pose_integrator\u001b[0m\n",
      "\u001b[33m[ WARN] [1678658348.022648684]: TF_REPEATED_DATA ignoring data with redundant timestamp for frame odom at time 2292.855000 according to authority /pose_integrator\u001b[0m\n"
     ]
    }
   ],
   "source": [
    "def draw_at (px,py, contoured):\n",
    "    contoured[px-5:px+5,py-5:py+5]=200\n",
    "    return contoured\n",
    "    "
   ]
  },
  {
   "cell_type": "code",
   "execution_count": 196,
   "id": "35a4acb7",
   "metadata": {},
   "outputs": [],
   "source": [
    "img_map=inflated_map.reshape((map_msg.info.width,map_msg.info.height))\n",
    "\n",
    "\n",
    "pix_per_m=map_msg.info.resolution\n",
    "def get_robot_px():\n",
    "    trans, rot=tf_man.getTF('base_link')\n",
    "    robot=np.asarray(trans[:2])\n",
    "    print (trans)\n",
    "    return np.asarray((robot/pix_per_m).round(),dtype='int')\n",
    "\n",
    "\n",
    "def check_point_map(x,y):\n",
    "    # Quiero saber punto 0,-7 m esta libre?\n",
    "    ##meters, map (not pixels)\n",
    "    #x,y=0.2,8\n",
    "    xrob,yrob=get_robot_px()\n",
    "    safe_xy=np.asarray((x,-1*y))\n",
    "    safe_xy_px=point_to_px (x,y)\n",
    "    delta_px=  safe_xy_px-np.asarray((xrob,yrob))\n",
    "    delta_px= delta_px / np.linalg.norm(delta_px).round()\n",
    "    delta_px=np.round(delta_px*10)\n",
    "    newxy=np.zeros(2)\n",
    "    \n",
    "    for i in range(9):\n",
    "        if (contoured[1024+ safe_xy_px[1].astype('int'),1024-safe_xy_px[0].astype('int')]!=0):   ## axis are twisted cause y sign\n",
    "                    print ('not safe at', safe_xy_px , safe_xy_px*pix_per_m)\n",
    "                    draw_at(1024-safe_xy_px[1].astype('int'),1024+ safe_xy_px[0].astype('int'),contoured)\n",
    "                    #draw_at(1024+safe_xy_px[1].astype('int'),1024- safe_xy_px[0].astype('int'),contoured)\n",
    "                    xrob,yrob=get_robot_px()\n",
    "                    delta_px=  safe_xy_px-np.asarray((xrob,yrob))\n",
    "                    delta_px= delta_px / np.linalg.norm(delta_px).round()\n",
    "                    delta_px=np.round(delta_px*10)\n",
    "\n",
    "\n",
    "                    newxy[0]=safe_xy_px[0]-delta_px[0].astype('int')\n",
    "                    newxy[1]=safe_xy_px[1]-delta_px[1].astype('int')\n",
    "                    safe_xy_px=newxy\n",
    "        else:\n",
    "                print ('safe at', safe_xy_px, safe_xy_px*pix_per_m)\n",
    "                return (safe_xy_px)\n",
    "    \n",
    "\n",
    "def point_to_px(x,y):\n",
    "    safe_xy=np.asarray((x,y))\n",
    "    return np.round(safe_xy/pix_per_m).astype('int')\n",
    "def px_to_point(px,py):\n",
    "\n",
    "    return np.asarray((px,py))*pix_per_m\n",
    "\n",
    "    \n",
    "    \n",
    "    \n",
    "\n",
    "\n",
    "contours, hierarchy = cv2.findContours(img_map.astype('uint8'),cv2.RETR_TREE,cv2.CHAIN_APPROX_SIMPLE)\n",
    "contoured=cv2.drawContours(img_map.astype('uint8'), contours, 1, (255,255,255), 1)"
   ]
  },
  {
   "cell_type": "code",
   "execution_count": 1,
   "id": "e061450e",
   "metadata": {},
   "outputs": [
    {
     "name": "stderr",
     "output_type": "stream",
     "text": [
      "the rosdep view is empty: call 'sudo rosdep init' and 'rosdep update'\n",
      "\u001b[33m[ WARN] [1678668163.648680101]: Link hand_l_finger_vacuum_frame has visual geometry but no collision geometry. Collision geometry will be left empty. Fix your URDF file by explicitly specifying collision geometry.\u001b[0m\n",
      "\u001b[33m[ WARN] [1678668163.715148806]: Link head_l_stereo_camera_link has visual geometry but no collision geometry. Collision geometry will be left empty. Fix your URDF file by explicitly specifying collision geometry.\u001b[0m\n",
      "\u001b[33m[ WARN] [1678668163.722119760]: Link head_r_stereo_camera_link has visual geometry but no collision geometry. Collision geometry will be left empty. Fix your URDF file by explicitly specifying collision geometry.\u001b[0m\n",
      "\u001b[33m[ WARN] [1678668163.740185015]: Group state 'neutral' doesn't specify all group joints in group 'arm'. wrist_ft_sensor_frame_joint is missing.\u001b[0m\n",
      "\u001b[33m[ WARN] [1678668163.744670443]: Group state 'go' doesn't specify all group joints in group 'arm'. wrist_ft_sensor_frame_joint is missing.\u001b[0m\n",
      "\u001b[33m[ WARN] [1678668164.108241324]: Kinematics solver doesn't support #attempts anymore, but only a timeout.\n",
      "Please remove the parameter '/robot_description_kinematics/arm/kinematics_solver_attempts' from your configuration.\u001b[0m\n",
      "\u001b[33m[ WARN] [1678668164.241583804]: IK plugin for group 'whole_body' relies on deprecated API. Please implement initialize(RobotModel, ...).\u001b[0m\n",
      "\u001b[33m[ WARN] [1678668164.259440334]: IK plugin for group 'whole_body_weighted' relies on deprecated API. Please implement initialize(RobotModel, ...).\u001b[0m\n",
      "\u001b[33m[ WARN] [1678668164.272083219]: IK plugin for group 'whole_body_light' relies on deprecated API. Please implement initialize(RobotModel, ...).\u001b[0m\n"
     ]
    }
   ],
   "source": [
    "from smach_utils2 import *"
   ]
  },
  {
   "cell_type": "code",
   "execution_count": 10,
   "id": "588d2727",
   "metadata": {},
   "outputs": [
    {
     "name": "stdout",
     "output_type": "stream",
     "text": [
      "[0.0017284227161501148, -0.0011566897939386167, 0.0]\n",
      "not safe at [  0 160] [0.         8.00000012]\n",
      "[0.0017284227161501148, -0.0011566897939386167, 0.0]\n",
      "not safe at [  0. 150.] [0.         7.50000011]\n",
      "[0.0017284227161501148, -0.0011566897939386167, 0.0]\n",
      "not safe at [  0. 140.] [0.        7.0000001]\n",
      "[0.0017284227161501148, -0.0011566897939386167, 0.0]\n",
      "not safe at [  0. 130.] [0.        6.5000001]\n",
      "[0.0017284227161501148, -0.0011566897939386167, 0.0]\n",
      "safe at [  0. 120.] [0.         6.00000009]\n"
     ]
    },
    {
     "data": {
      "text/plain": [
       "array([0.        , 6.00000009])"
      ]
     },
     "execution_count": 10,
     "metadata": {},
     "output_type": "execute_result"
    },
    {
     "name": "stderr",
     "output_type": "stream",
     "text": [
      "\u001b[33m[ WARN] [1678668354.094733494, 2396.168000000]: TF_REPEATED_DATA ignoring data with redundant timestamp for frame odom at time 2396.194000 according to authority /pose_integrator\u001b[0m\n",
      "\u001b[33m[ WARN] [1678668354.094811438, 2396.168000000]: TF_REPEATED_DATA ignoring data with redundant timestamp for frame odom at time 2396.194000 according to authority /pose_integrator\u001b[0m\n",
      "\u001b[33m[ WARN] [1678668354.094836273, 2396.168000000]: TF_REPEATED_DATA ignoring data with redundant timestamp for frame odom at time 2396.194000 according to authority /pose_integrator\u001b[0m\n",
      "\u001b[33m[ WARN] [1678668354.094860461, 2396.168000000]: TF_REPEATED_DATA ignoring data with redundant timestamp for frame odom at time 2396.194000 according to authority /pose_integrator\u001b[0m\n",
      "\u001b[33m[ WARN] [1678668354.099383125, 2396.168000000]: TF_REPEATED_DATA ignoring data with redundant timestamp for frame odom at time 2396.194000 according to authority unknown_publisher\u001b[0m\n"
     ]
    }
   ],
   "source": [
    "px=check_point_map(0,8)\n",
    "px*pix_per_m"
   ]
  },
  {
   "cell_type": "code",
   "execution_count": 150,
   "id": "f19326f5",
   "metadata": {},
   "outputs": [],
   "source": [
    "#robot= np.asarray((-46,34),dtype=int)"
   ]
  },
  {
   "cell_type": "code",
   "execution_count": 3,
   "id": "b20641c0",
   "metadata": {},
   "outputs": [],
   "source": [
    "trans, rot=tf_man.getTF('base_link')"
   ]
  },
  {
   "cell_type": "code",
   "execution_count": 4,
   "id": "6086f500",
   "metadata": {},
   "outputs": [
    {
     "data": {
      "text/plain": [
       "[0.0015515132074916669, -0.0010973632143046431, 0.0]"
      ]
     },
     "execution_count": 4,
     "metadata": {},
     "output_type": "execute_result"
    }
   ],
   "source": [
    "trans"
   ]
  },
  {
   "cell_type": "code",
   "execution_count": null,
   "id": "ed23e77f",
   "metadata": {},
   "outputs": [],
   "source": []
  },
  {
   "cell_type": "code",
   "execution_count": 152,
   "id": "c206cda1",
   "metadata": {},
   "outputs": [
    {
     "data": {
      "text/plain": [
       "array([-2.56124994, -2.56124994])"
      ]
     },
     "execution_count": 152,
     "metadata": {},
     "output_type": "execute_result"
    }
   ],
   "source": [
    "(point_origin*pix_per_m)"
   ]
  },
  {
   "cell_type": "code",
   "execution_count": null,
   "id": "12486f6f",
   "metadata": {},
   "outputs": [],
   "source": []
  },
  {
   "cell_type": "code",
   "execution_count": 153,
   "id": "eb8cd70f",
   "metadata": {},
   "outputs": [
    {
     "data": {
      "text/plain": [
       "20"
      ]
     },
     "execution_count": 153,
     "metadata": {},
     "output_type": "execute_result"
    }
   ],
   "source": [
    "round(1/pix_per_m)\n"
   ]
  },
  {
   "cell_type": "code",
   "execution_count": 20,
   "id": "cf6fe046",
   "metadata": {},
   "outputs": [
    {
     "name": "stdout",
     "output_type": "stream",
     "text": [
      "[-0.15772325944099946, 0.5112574501540845, 0.0]\n"
     ]
    },
    {
     "data": {
      "text/plain": [
       "array([-3, 10])"
      ]
     },
     "execution_count": 20,
     "metadata": {},
     "output_type": "execute_result"
    },
    {
     "name": "stderr",
     "output_type": "stream",
     "text": [
      "\u001b[33m[ WARN] [1678658493.783801751]: TF_REPEATED_DATA ignoring data with redundant timestamp for frame odom at time 2306.297000 according to authority unknown_publisher\u001b[0m\n",
      "\u001b[33m[ WARN] [1678658493.784285127]: TF_REPEATED_DATA ignoring data with redundant timestamp for frame odom at time 2306.297000 according to authority /pose_integrator\u001b[0m\n",
      "\u001b[33m[ WARN] [1678658493.784343995]: TF_REPEATED_DATA ignoring data with redundant timestamp for frame odom at time 2306.297000 according to authority /pose_integrator\u001b[0m\n",
      "\u001b[33m[ WARN] [1678658493.784374761]: TF_REPEATED_DATA ignoring data with redundant timestamp for frame odom at time 2306.297000 according to authority /pose_integrator\u001b[0m\n",
      "\u001b[33m[ WARN] [1678658493.784401212]: TF_REPEATED_DATA ignoring data with redundant timestamp for frame odom at time 2306.297000 according to authority /pose_integrator\u001b[0m\n",
      "\u001b[33m[ WARN] [1678658499.009016713]: TF_REPEATED_DATA ignoring data with redundant timestamp for frame odom at time 2306.652000 according to authority unknown_publisher\u001b[0m\n",
      "\u001b[33m[ WARN] [1678658499.010601052]: TF_REPEATED_DATA ignoring data with redundant timestamp for frame odom at time 2306.652000 according to authority /pose_integrator\u001b[0m\n",
      "\u001b[33m[ WARN] [1678658499.010651609]: TF_REPEATED_DATA ignoring data with redundant timestamp for frame odom at time 2306.652000 according to authority /pose_integrator\u001b[0m\n",
      "\u001b[33m[ WARN] [1678658499.010683758]: TF_REPEATED_DATA ignoring data with redundant timestamp for frame odom at time 2306.652000 according to authority /pose_integrator\u001b[0m\n",
      "\u001b[33m[ WARN] [1678658499.010712043]: TF_REPEATED_DATA ignoring data with redundant timestamp for frame odom at time 2306.652000 according to authority /pose_integrator\u001b[0m\n",
      "\u001b[33m[ WARN] [1678658501.832786668]: TF_REPEATED_DATA ignoring data with redundant timestamp for frame odom at time 2306.815000 according to authority /pose_integrator\u001b[0m\n",
      "\u001b[33m[ WARN] [1678658501.832843413]: TF_REPEATED_DATA ignoring data with redundant timestamp for frame odom at time 2306.815000 according to authority /pose_integrator\u001b[0m\n",
      "\u001b[33m[ WARN] [1678658501.832870988]: TF_REPEATED_DATA ignoring data with redundant timestamp for frame odom at time 2306.815000 according to authority /pose_integrator\u001b[0m\n",
      "\u001b[33m[ WARN] [1678658501.832895288]: TF_REPEATED_DATA ignoring data with redundant timestamp for frame odom at time 2306.815000 according to authority /pose_integrator\u001b[0m\n",
      "\u001b[33m[ WARN] [1678658501.835508527]: TF_REPEATED_DATA ignoring data with redundant timestamp for frame odom at time 2306.815000 according to authority unknown_publisher\u001b[0m\n",
      "\u001b[33m[ WARN] [1678658503.050451050]: TF_REPEATED_DATA ignoring data with redundant timestamp for frame odom at time 2306.912000 according to authority /pose_integrator\u001b[0m\n",
      "\u001b[33m[ WARN] [1678658503.050501719]: TF_REPEATED_DATA ignoring data with redundant timestamp for frame odom at time 2306.912000 according to authority /pose_integrator\u001b[0m\n",
      "\u001b[33m[ WARN] [1678658503.050532210]: TF_REPEATED_DATA ignoring data with redundant timestamp for frame odom at time 2306.912000 according to authority /pose_integrator\u001b[0m\n",
      "\u001b[33m[ WARN] [1678658503.050556209]: TF_REPEATED_DATA ignoring data with redundant timestamp for frame odom at time 2306.912000 according to authority /pose_integrator\u001b[0m\n",
      "\u001b[33m[ WARN] [1678658503.050584908]: TF_REPEATED_DATA ignoring data with redundant timestamp for frame odom at time 2306.912000 according to authority unknown_publisher\u001b[0m\n"
     ]
    }
   ],
   "source": [
    "robot=get_robot_px()\n",
    "\n",
    "robot"
   ]
  },
  {
   "cell_type": "code",
   "execution_count": 21,
   "id": "d8388316",
   "metadata": {},
   "outputs": [],
   "source": [
    " contours, hierarchy = cv2.findContours(img_map.astype('uint8'),cv2.RETR_TREE,cv2.CHAIN_APPROX_SIMPLE)"
   ]
  },
  {
   "cell_type": "code",
   "execution_count": 22,
   "id": "fc8aca3a",
   "metadata": {},
   "outputs": [
    {
     "data": {
      "text/plain": [
       "9"
      ]
     },
     "execution_count": 22,
     "metadata": {},
     "output_type": "execute_result"
    }
   ],
   "source": [
    "len(contours)"
   ]
  },
  {
   "cell_type": "code",
   "execution_count": 190,
   "id": "5c71b2a8",
   "metadata": {},
   "outputs": [
    {
     "data": {
      "text/plain": [
       "<matplotlib.image.AxesImage at 0x7fdacb7dc8e0>"
      ]
     },
     "execution_count": 190,
     "metadata": {},
     "output_type": "execute_result"
    },
    {
     "name": "stderr",
     "output_type": "stream",
     "text": [
      "\u001b[33m[ WARN] [1678664909.666271889]: TF_REPEATED_DATA ignoring data with redundant timestamp for frame odom at time 2911.110000 according to authority unknown_publisher\u001b[0m\n",
      "\u001b[33m[ WARN] [1678664909.667078006]: TF_REPEATED_DATA ignoring data with redundant timestamp for frame odom at time 2911.110000 according to authority /pose_integrator\u001b[0m\n",
      "\u001b[33m[ WARN] [1678664909.667214747]: TF_REPEATED_DATA ignoring data with redundant timestamp for frame odom at time 2911.110000 according to authority /pose_integrator\u001b[0m\n",
      "\u001b[33m[ WARN] [1678664909.667262318]: TF_REPEATED_DATA ignoring data with redundant timestamp for frame odom at time 2911.110000 according to authority /pose_integrator\u001b[0m\n",
      "\u001b[33m[ WARN] [1678664909.667305984]: TF_REPEATED_DATA ignoring data with redundant timestamp for frame odom at time 2911.110000 according to authority /pose_integrator\u001b[0m\n"
     ]
    },
    {
     "data": {
      "image/png": "[encoded data removed]",
      "text/plain": [
       "<Figure size 640x480 with 1 Axes>"
      ]
     },
     "metadata": {},
     "output_type": "display_data"
    },
    {
     "name": "stderr",
     "output_type": "stream",
     "text": [
      "\u001b[33m[ WARN] [1678664916.389136868]: TF_REPEATED_DATA ignoring data with redundant timestamp for frame odom at time 2911.737000 according to authority unknown_publisher\u001b[0m\n",
      "\u001b[33m[ WARN] [1678664916.390619062]: TF_REPEATED_DATA ignoring data with redundant timestamp for frame odom at time 2911.737000 according to authority /pose_integrator\u001b[0m\n",
      "\u001b[33m[ WARN] [1678664916.390665972]: TF_REPEATED_DATA ignoring data with redundant timestamp for frame odom at time 2911.737000 according to authority /pose_integrator\u001b[0m\n",
      "\u001b[33m[ WARN] [1678664916.390694413]: TF_REPEATED_DATA ignoring data with redundant timestamp for frame odom at time 2911.737000 according to authority /pose_integrator\u001b[0m\n",
      "\u001b[33m[ WARN] [1678664916.390718805]: TF_REPEATED_DATA ignoring data with redundant timestamp for frame odom at time 2911.737000 according to authority /pose_integrator\u001b[0m\n",
      "\u001b[33m[ WARN] [1678664944.801534894]: TF_REPEATED_DATA ignoring data with redundant timestamp for frame odom at time 2915.009000 according to authority unknown_publisher\u001b[0m\n",
      "\u001b[33m[ WARN] [1678664944.802340854]: TF_REPEATED_DATA ignoring data with redundant timestamp for frame odom at time 2915.009000 according to authority /pose_integrator\u001b[0m\n",
      "\u001b[33m[ WARN] [1678664944.802406172]: TF_REPEATED_DATA ignoring data with redundant timestamp for frame odom at time 2915.009000 according to authority /pose_integrator\u001b[0m\n",
      "\u001b[33m[ WARN] [1678664944.802452884]: TF_REPEATED_DATA ignoring data with redundant timestamp for frame odom at time 2915.009000 according to authority /pose_integrator\u001b[0m\n",
      "\u001b[33m[ WARN] [1678664944.802498141]: TF_REPEATED_DATA ignoring data with redundant timestamp for frame odom at time 2915.009000 according to authority /pose_integrator\u001b[0m\n"
     ]
    }
   ],
   "source": [
    "contoured=cv2.drawContours(img_map.astype('uint8'), contours, 1, (255,255,255), 1)\n",
    "plt.imshow(contoured[750:1250,750:1250])"
   ]
  },
  {
   "cell_type": "raw",
   "id": "c79e83d0",
   "metadata": {},
   "source": []
  },
  {
   "cell_type": "code",
   "execution_count": 149,
   "id": "55246a89",
   "metadata": {},
   "outputs": [
    {
     "data": {
      "text/plain": [
       "dtype('int64')"
      ]
     },
     "execution_count": 149,
     "metadata": {},
     "output_type": "execute_result"
    }
   ],
   "source": [
    "robot.dtype"
   ]
  },
  {
   "cell_type": "code",
   "execution_count": 150,
   "id": "8381c5bb",
   "metadata": {},
   "outputs": [
    {
     "name": "stdout",
     "output_type": "stream",
     "text": [
      "[2.3321864880638437, -0.47865903021689604, 0.0]\n",
      "robot Pose (tf)\n"
     ]
    },
    {
     "data": {
      "image/png": "[encoded data removed]",
      "text/plain": [
       "<Figure size 640x480 with 1 Axes>"
      ]
     },
     "metadata": {},
     "output_type": "display_data"
    },
    {
     "name": "stderr",
     "output_type": "stream",
     "text": [
      "\u001b[33m[ WARN] [1678663824.327547780]: TF_REPEATED_DATA ignoring data with redundant timestamp for frame odom at time 2811.335000 according to authority unknown_publisher\u001b[0m\n",
      "\u001b[33m[ WARN] [1678663824.329063457]: TF_REPEATED_DATA ignoring data with redundant timestamp for frame odom at time 2811.335000 according to authority /pose_integrator\u001b[0m\n",
      "\u001b[33m[ WARN] [1678663824.329130892]: TF_REPEATED_DATA ignoring data with redundant timestamp for frame odom at time 2811.335000 according to authority /pose_integrator\u001b[0m\n",
      "\u001b[33m[ WARN] [1678663824.329167265]: TF_REPEATED_DATA ignoring data with redundant timestamp for frame odom at time 2811.335000 according to authority /pose_integrator\u001b[0m\n",
      "\u001b[33m[ WARN] [1678663824.329220732]: TF_REPEATED_DATA ignoring data with redundant timestamp for frame odom at time 2811.335000 according to authority /pose_integrator\u001b[0m\n",
      "\u001b[33m[ WARN] [1678663828.151163448]: TF_REPEATED_DATA ignoring data with redundant timestamp for frame odom at time 2811.708000 according to authority /pose_integrator\u001b[0m\n",
      "\u001b[33m[ WARN] [1678663828.151386654]: TF_REPEATED_DATA ignoring data with redundant timestamp for frame odom at time 2811.708000 according to authority /pose_integrator\u001b[0m\n",
      "\u001b[33m[ WARN] [1678663828.151514014]: TF_REPEATED_DATA ignoring data with redundant timestamp for frame odom at time 2811.708000 according to authority /pose_integrator\u001b[0m\n",
      "\u001b[33m[ WARN] [1678663828.151568292]: TF_REPEATED_DATA ignoring data with redundant timestamp for frame odom at time 2811.708000 according to authority /pose_integrator\u001b[0m\n",
      "\u001b[33m[ WARN] [1678663828.152398523]: TF_REPEATED_DATA ignoring data with redundant timestamp for frame odom at time 2811.708000 according to authority unknown_publisher\u001b[0m\n",
      "\u001b[33m[ WARN] [1678663832.466339879]: TF_REPEATED_DATA ignoring data with redundant timestamp for frame odom at time 2812.029000 according to authority /pose_integrator\u001b[0m\n",
      "\u001b[33m[ WARN] [1678663832.466652034]: TF_REPEATED_DATA ignoring data with redundant timestamp for frame odom at time 2812.029000 according to authority /pose_integrator\u001b[0m\n",
      "\u001b[33m[ WARN] [1678663832.466867582]: TF_REPEATED_DATA ignoring data with redundant timestamp for frame odom at time 2812.029000 according to authority /pose_integrator\u001b[0m\n",
      "\u001b[33m[ WARN] [1678663832.467166097]: TF_REPEATED_DATA ignoring data with redundant timestamp for frame odom at time 2812.029000 according to authority /pose_integrator\u001b[0m\n",
      "\u001b[33m[ WARN] [1678663832.468452086]: TF_REPEATED_DATA ignoring data with redundant timestamp for frame odom at time 2812.029000 according to authority unknown_publisher\u001b[0m\n",
      "\u001b[33m[ WARN] [1678663833.136180625]: TF_REPEATED_DATA ignoring data with redundant timestamp for frame odom at time 2812.115000 according to authority /pose_integrator\u001b[0m\n",
      "\u001b[33m[ WARN] [1678663833.136229636]: TF_REPEATED_DATA ignoring data with redundant timestamp for frame odom at time 2812.115000 according to authority /pose_integrator\u001b[0m\n",
      "\u001b[33m[ WARN] [1678663833.136260039]: TF_REPEATED_DATA ignoring data with redundant timestamp for frame odom at time 2812.115000 according to authority /pose_integrator\u001b[0m\n",
      "\u001b[33m[ WARN] [1678663833.136286357]: TF_REPEATED_DATA ignoring data with redundant timestamp for frame odom at time 2812.115000 according to authority /pose_integrator\u001b[0m\n",
      "\u001b[33m[ WARN] [1678663833.136414411]: TF_REPEATED_DATA ignoring data with redundant timestamp for frame odom at time 2812.115000 according to authority unknown_publisher\u001b[0m\n",
      "\u001b[33m[ WARN] [1678663837.526446614]: TF_REPEATED_DATA ignoring data with redundant timestamp for frame odom at time 2812.446000 according to authority /pose_integrator\u001b[0m\n",
      "\u001b[33m[ WARN] [1678663837.526563791]: TF_REPEATED_DATA ignoring data with redundant timestamp for frame odom at time 2812.446000 according to authority /pose_integrator\u001b[0m\n",
      "\u001b[33m[ WARN] [1678663837.526611200]: TF_REPEATED_DATA ignoring data with redundant timestamp for frame odom at time 2812.446000 according to authority /pose_integrator\u001b[0m\n",
      "\u001b[33m[ WARN] [1678663837.526644906]: TF_REPEATED_DATA ignoring data with redundant timestamp for frame odom at time 2812.446000 according to authority /pose_integrator\u001b[0m\n",
      "\u001b[33m[ WARN] [1678663837.526942418]: TF_REPEATED_DATA ignoring data with redundant timestamp for frame odom at time 2812.446000 according to authority unknown_publisher\u001b[0m\n",
      "\u001b[33m[ WARN] [1678663842.303212345]: TF_REPEATED_DATA ignoring data with redundant timestamp for frame odom at time 2812.865000 according to authority /pose_integrator\u001b[0m\n",
      "\u001b[33m[ WARN] [1678663842.303345727]: TF_REPEATED_DATA ignoring data with redundant timestamp for frame odom at time 2812.865000 according to authority /pose_integrator\u001b[0m\n",
      "\u001b[33m[ WARN] [1678663842.303401009]: TF_REPEATED_DATA ignoring data with redundant timestamp for frame odom at time 2812.865000 according to authority /pose_integrator\u001b[0m\n",
      "\u001b[33m[ WARN] [1678663842.303430486]: TF_REPEATED_DATA ignoring data with redundant timestamp for frame odom at time 2812.865000 according to authority /pose_integrator\u001b[0m\n",
      "\u001b[33m[ WARN] [1678663842.303558380]: TF_REPEATED_DATA ignoring data with redundant timestamp for frame odom at time 2812.865000 according to authority unknown_publisher\u001b[0m\n"
     ]
    }
   ],
   "source": [
    "robot=get_robot_px()\n",
    "draw_at(1024+robot[1],1024+robot[0],contoured)\n",
    "plt.imshow(contoured[750:1250,750:1250])\n",
    "print ('robot Pose (tf)')"
   ]
  },
  {
   "cell_type": "code",
   "execution_count": null,
   "id": "c23ba657",
   "metadata": {},
   "outputs": [],
   "source": []
  },
  {
   "cell_type": "code",
   "execution_count": null,
   "id": "0966b27c",
   "metadata": {},
   "outputs": [],
   "source": []
  },
  {
   "cell_type": "code",
   "execution_count": 71,
   "id": "43c2e4df",
   "metadata": {},
   "outputs": [
    {
     "data": {
      "text/plain": [
       "<matplotlib.image.AxesImage at 0x7fdad1758550>"
      ]
     },
     "execution_count": 71,
     "metadata": {},
     "output_type": "execute_result"
    },
    {
     "data": {
      "image/png": "[encoded data removed]",
      "text/plain": [
       "<Figure size 640x480 with 1 Axes>"
      ]
     },
     "metadata": {},
     "output_type": "display_data"
    },
    {
     "name": "stderr",
     "output_type": "stream",
     "text": [
      "\u001b[33m[ WARN] [1678659996.112771801]: TF_REPEATED_DATA ignoring data with redundant timestamp for frame odom at time 2440.420000 according to authority /pose_integrator\u001b[0m\n",
      "\u001b[33m[ WARN] [1678659996.113063243]: TF_REPEATED_DATA ignoring data with redundant timestamp for frame odom at time 2440.420000 according to authority /pose_integrator\u001b[0m\n",
      "\u001b[33m[ WARN] [1678659996.113134329]: TF_REPEATED_DATA ignoring data with redundant timestamp for frame odom at time 2440.420000 according to authority /pose_integrator\u001b[0m\n",
      "\u001b[33m[ WARN] [1678659996.113190373]: TF_REPEATED_DATA ignoring data with redundant timestamp for frame odom at time 2440.420000 according to authority /pose_integrator\u001b[0m\n",
      "\u001b[33m[ WARN] [1678659996.113716942]: TF_REPEATED_DATA ignoring data with redundant timestamp for frame odom at time 2440.420000 according to authority unknown_publisher\u001b[0m\n",
      "\u001b[33m[ WARN] [1678660001.514141096]: TF_REPEATED_DATA ignoring data with redundant timestamp for frame odom at time 2441.031000 according to authority /pose_integrator\u001b[0m\n",
      "\u001b[33m[ WARN] [1678660001.514199970]: TF_REPEATED_DATA ignoring data with redundant timestamp for frame odom at time 2441.031000 according to authority /pose_integrator\u001b[0m\n",
      "\u001b[33m[ WARN] [1678660001.514227747]: TF_REPEATED_DATA ignoring data with redundant timestamp for frame odom at time 2441.031000 according to authority /pose_integrator\u001b[0m\n",
      "\u001b[33m[ WARN] [1678660001.514251827]: TF_REPEATED_DATA ignoring data with redundant timestamp for frame odom at time 2441.031000 according to authority /pose_integrator\u001b[0m\n",
      "\u001b[33m[ WARN] [1678660001.514379447]: TF_REPEATED_DATA ignoring data with redundant timestamp for frame odom at time 2441.031000 according to authority unknown_publisher\u001b[0m\n"
     ]
    }
   ],
   "source": [
    "safe_xy_px=point_to_px(-3.4,1.3)\n",
    "\n",
    "\n",
    "#draw_at(1024+ round(safe_\n",
    "draw_at(1024 +safe_xy_px[1],1024+safe_xy_px[0],contoured)\n",
    "plt.imshow(contoured[750:1250,750:1250])\n"
   ]
  },
  {
   "cell_type": "code",
   "execution_count": 159,
   "id": "e56c0251",
   "metadata": {},
   "outputs": [
    {
     "data": {
      "text/plain": [
       "array([ -40, -200])"
      ]
     },
     "execution_count": 159,
     "metadata": {},
     "output_type": "execute_result"
    }
   ],
   "source": [
    "safe_xy_px=point_to_px (x,y)\n",
    "safe_xy_px"
   ]
  },
  {
   "cell_type": "code",
   "execution_count": 173,
   "id": "a29c653b",
   "metadata": {},
   "outputs": [
    {
     "name": "stdout",
     "output_type": "stream",
     "text": [
      "[2.335110251893277, -0.4807940628163633, 0.0]\n"
     ]
    },
    {
     "data": {
      "text/plain": [
       "array([200, -10])"
      ]
     },
     "execution_count": 173,
     "metadata": {},
     "output_type": "execute_result"
    },
    {
     "data": {
      "image/png": "[encoded data removed]",
      "text/plain": [
       "<Figure size 640x480 with 1 Axes>"
      ]
     },
     "metadata": {},
     "output_type": "display_data"
    }
   ],
   "source": [
    "# Quiero saber punto 0,-7 m esta libre?\n",
    "y=-0.5   ## MAP and pixels are not aligned\n",
    "x=10\n",
    "\n",
    "xrob,yrob=get_robot_px()\n",
    "safe_xy=np.asarray((x,y))\n",
    "safe_xy_px=point_to_px (x,y)\n",
    "draw_at(1024-safe_xy_px[1],1024+ safe_xy_px[0],contoured)\n",
    "\n",
    "plt.imshow(contoured[750:1250,750:1250])\n",
    "safe_xy_px"
   ]
  },
  {
   "cell_type": "code",
   "execution_count": 174,
   "id": "7ace070b",
   "metadata": {},
   "outputs": [
    {
     "data": {
      "text/plain": [
       "array([1., 0.])"
      ]
     },
     "execution_count": 174,
     "metadata": {},
     "output_type": "execute_result"
    },
    {
     "name": "stderr",
     "output_type": "stream",
     "text": [
      "\u001b[33m[ WARN] [1678664313.354177345]: TF_REPEATED_DATA ignoring data with redundant timestamp for frame odom at time 2856.802000 according to authority unknown_publisher\u001b[0m\n",
      "\u001b[33m[ WARN] [1678664313.357454663]: TF_REPEATED_DATA ignoring data with redundant timestamp for frame odom at time 2856.802000 according to authority /pose_integrator\u001b[0m\n",
      "\u001b[33m[ WARN] [1678664313.357506330]: TF_REPEATED_DATA ignoring data with redundant timestamp for frame odom at time 2856.802000 according to authority /pose_integrator\u001b[0m\n",
      "\u001b[33m[ WARN] [1678664313.357541349]: TF_REPEATED_DATA ignoring data with redundant timestamp for frame odom at time 2856.802000 according to authority /pose_integrator\u001b[0m\n",
      "\u001b[33m[ WARN] [1678664313.357573219]: TF_REPEATED_DATA ignoring data with redundant timestamp for frame odom at time 2856.802000 according to authority /pose_integrator\u001b[0m\n",
      "\u001b[33m[ WARN] [1678664324.822570720]: TF_REPEATED_DATA ignoring data with redundant timestamp for frame odom at time 2857.838000 according to authority /pose_integrator\u001b[0m\n",
      "\u001b[33m[ WARN] [1678664324.822752266]: TF_REPEATED_DATA ignoring data with redundant timestamp for frame odom at time 2857.838000 according to authority /pose_integrator\u001b[0m\n",
      "\u001b[33m[ WARN] [1678664324.822806570]: TF_REPEATED_DATA ignoring data with redundant timestamp for frame odom at time 2857.838000 according to authority /pose_integrator\u001b[0m\n",
      "\u001b[33m[ WARN] [1678664324.822832469]: TF_REPEATED_DATA ignoring data with redundant timestamp for frame odom at time 2857.838000 according to authority /pose_integrator\u001b[0m\n",
      "\u001b[33m[ WARN] [1678664324.822877930]: TF_REPEATED_DATA ignoring data with redundant timestamp for frame odom at time 2857.838000 according to authority unknown_publisher\u001b[0m\n"
     ]
    }
   ],
   "source": [
    "delta_px=  safe_xy_px-np.asarray((xrob,yrob))\n",
    "delta_px= (delta_px / np.linalg.norm(delta_px)).round()\n",
    "delta_px"
   ]
  },
  {
   "cell_type": "code",
   "execution_count": 195,
   "id": "ef5623cf",
   "metadata": {},
   "outputs": [
    {
     "name": "stdout",
     "output_type": "stream",
     "text": [
      "[2.3370591894494908, -0.48167351320001145, 0.0]\n",
      "[-2. 10.]\n",
      "not safe at [  4 160] [0.2        8.00000012]\n",
      "[2.3370591894494908, -0.48167351320001145, 0.0]\n",
      "not safe at [  6. 150.] [0.3        7.50000011]\n",
      "[2.3370591894494908, -0.48167351320001145, 0.0]\n",
      "not safe at [  8. 140.] [0.40000001 7.0000001 ]\n",
      "[2.3370591894494908, -0.48167351320001145, 0.0]\n",
      "not safe at [ 11. 130.] [0.55000001 6.5000001 ]\n",
      "[2.3370591894494908, -0.48167351320001145, 0.0]\n",
      "not safe at [ 13. 120.] [0.65000001 6.00000009]\n",
      "[2.3370591894494908, -0.48167351320001145, 0.0]\n",
      "safe at [ 16. 110.] [0.80000001 5.50000008]\n"
     ]
    },
    {
     "data": {
      "text/plain": [
       "<matplotlib.image.AxesImage at 0x7fdacb6a8c40>"
      ]
     },
     "execution_count": 195,
     "metadata": {},
     "output_type": "execute_result"
    },
    {
     "data": {
      "image/png": "[encoded data removed]",
      "text/plain": [
       "<Figure size 640x480 with 1 Axes>"
      ]
     },
     "metadata": {},
     "output_type": "display_data"
    },
    {
     "name": "stderr",
     "output_type": "stream",
     "text": [
      "\u001b[33m[ WARN] [1678665108.046769116]: TF_REPEATED_DATA ignoring data with redundant timestamp for frame odom at time 2930.513000 according to authority /pose_integrator\u001b[0m\n",
      "\u001b[33m[ WARN] [1678665108.046819986]: TF_REPEATED_DATA ignoring data with redundant timestamp for frame odom at time 2930.513000 according to authority /pose_integrator\u001b[0m\n",
      "\u001b[33m[ WARN] [1678665108.046854446]: TF_REPEATED_DATA ignoring data with redundant timestamp for frame odom at time 2930.513000 according to authority /pose_integrator\u001b[0m\n",
      "\u001b[33m[ WARN] [1678665108.046883170]: TF_REPEATED_DATA ignoring data with redundant timestamp for frame odom at time 2930.513000 according to authority /pose_integrator\u001b[0m\n",
      "\u001b[33m[ WARN] [1678665108.046932100]: TF_REPEATED_DATA ignoring data with redundant timestamp for frame odom at time 2930.513000 according to authority unknown_publisher\u001b[0m\n",
      "\u001b[33m[ WARN] [1678665120.784472007]: TF_REPEATED_DATA ignoring data with redundant timestamp for frame odom at time 2932.034000 according to authority /pose_integrator\u001b[0m\n",
      "\u001b[33m[ WARN] [1678665120.784517774]: TF_REPEATED_DATA ignoring data with redundant timestamp for frame odom at time 2932.034000 according to authority /pose_integrator\u001b[0m\n",
      "\u001b[33m[ WARN] [1678665120.784545154]: TF_REPEATED_DATA ignoring data with redundant timestamp for frame odom at time 2932.034000 according to authority /pose_integrator\u001b[0m\n",
      "\u001b[33m[ WARN] [1678665120.784569410]: TF_REPEATED_DATA ignoring data with redundant timestamp for frame odom at time 2932.034000 according to authority /pose_integrator\u001b[0m\n",
      "\u001b[33m[ WARN] [1678665120.784608563]: TF_REPEATED_DATA ignoring data with redundant timestamp for frame odom at time 2932.034000 according to authority unknown_publisher\u001b[0m\n",
      "\u001b[33m[ WARN] [1678665145.212887515]: TF_REPEATED_DATA ignoring data with redundant timestamp for frame odom at time 2934.478000 according to authority /pose_integrator\u001b[0m\n",
      "\u001b[33m[ WARN] [1678665145.212943211]: TF_REPEATED_DATA ignoring data with redundant timestamp for frame odom at time 2934.478000 according to authority /pose_integrator\u001b[0m\n",
      "\u001b[33m[ WARN] [1678665145.212974020]: TF_REPEATED_DATA ignoring data with redundant timestamp for frame odom at time 2934.478000 according to authority /pose_integrator\u001b[0m\n",
      "\u001b[33m[ WARN] [1678665145.213000554]: TF_REPEATED_DATA ignoring data with redundant timestamp for frame odom at time 2934.478000 according to authority /pose_integrator\u001b[0m\n",
      "\u001b[33m[ WARN] [1678665145.213580292]: TF_REPEATED_DATA ignoring data with redundant timestamp for frame odom at time 2934.478000 according to authority unknown_publisher\u001b[0m\n",
      "\u001b[33m[ WARN] [1678665148.710238915]: TF_REPEATED_DATA ignoring data with redundant timestamp for frame odom at time 2934.839000 according to authority /pose_integrator\u001b[0m\n",
      "\u001b[33m[ WARN] [1678665148.710294456]: TF_REPEATED_DATA ignoring data with redundant timestamp for frame odom at time 2934.839000 according to authority /pose_integrator\u001b[0m\n",
      "\u001b[33m[ WARN] [1678665148.710325705]: TF_REPEATED_DATA ignoring data with redundant timestamp for frame odom at time 2934.839000 according to authority /pose_integrator\u001b[0m\n",
      "\u001b[33m[ WARN] [1678665148.710353564]: TF_REPEATED_DATA ignoring data with redundant timestamp for frame odom at time 2934.839000 according to authority /pose_integrator\u001b[0m\n",
      "\u001b[33m[ WARN] [1678665148.711254193]: TF_REPEATED_DATA ignoring data with redundant timestamp for frame odom at time 2934.839000 according to authority unknown_publisher\u001b[0m\n",
      "\u001b[33m[ WARN] [1678665160.558807173]: TF_REPEATED_DATA ignoring data with redundant timestamp for frame odom at time 2935.779000 according to authority unknown_publisher\u001b[0m\n",
      "\u001b[33m[ WARN] [1678665160.562171618]: TF_REPEATED_DATA ignoring data with redundant timestamp for frame odom at time 2935.779000 according to authority /pose_integrator\u001b[0m\n",
      "\u001b[33m[ WARN] [1678665160.562259215]: TF_REPEATED_DATA ignoring data with redundant timestamp for frame odom at time 2935.779000 according to authority /pose_integrator\u001b[0m\n",
      "\u001b[33m[ WARN] [1678665160.562293571]: TF_REPEATED_DATA ignoring data with redundant timestamp for frame odom at time 2935.779000 according to authority /pose_integrator\u001b[0m\n",
      "\u001b[33m[ WARN] [1678665160.562320205]: TF_REPEATED_DATA ignoring data with redundant timestamp for frame odom at time 2935.779000 according to authority /pose_integrator\u001b[0m\n",
      "\u001b[33m[ WARN] [1678665194.360867953]: TF_REPEATED_DATA ignoring data with redundant timestamp for frame odom at time 2938.602000 according to authority unknown_publisher\u001b[0m\n",
      "\u001b[33m[ WARN] [1678665194.362199457]: TF_REPEATED_DATA ignoring data with redundant timestamp for frame odom at time 2938.602000 according to authority /pose_integrator\u001b[0m\n",
      "\u001b[33m[ WARN] [1678665194.362312190]: TF_REPEATED_DATA ignoring data with redundant timestamp for frame odom at time 2938.602000 according to authority /pose_integrator\u001b[0m\n",
      "\u001b[33m[ WARN] [1678665194.362364604]: TF_REPEATED_DATA ignoring data with redundant timestamp for frame odom at time 2938.602000 according to authority /pose_integrator\u001b[0m\n",
      "\u001b[33m[ WARN] [1678665194.362434199]: TF_REPEATED_DATA ignoring data with redundant timestamp for frame odom at time 2938.602000 according to authority /pose_integrator\u001b[0m\n",
      "\u001b[33m[ WARN] [1678665195.538429632]: TF_REPEATED_DATA ignoring data with redundant timestamp for frame odom at time 2938.713000 according to authority /pose_integrator\u001b[0m\n",
      "\u001b[33m[ WARN] [1678665195.538592794]: TF_REPEATED_DATA ignoring data with redundant timestamp for frame odom at time 2938.713000 according to authority /pose_integrator\u001b[0m\n",
      "\u001b[33m[ WARN] [1678665195.538653916]: TF_REPEATED_DATA ignoring data with redundant timestamp for frame odom at time 2938.713000 according to authority /pose_integrator\u001b[0m\n",
      "\u001b[33m[ WARN] [1678665195.538700230]: TF_REPEATED_DATA ignoring data with redundant timestamp for frame odom at time 2938.713000 according to authority /pose_integrator\u001b[0m\n",
      "\u001b[33m[ WARN] [1678665195.539846582]: TF_REPEATED_DATA ignoring data with redundant timestamp for frame odom at time 2938.713000 according to authority unknown_publisher\u001b[0m\n",
      "\u001b[33m[ WARN] [1678665197.055414481]: TF_REPEATED_DATA ignoring data with redundant timestamp for frame odom at time 2938.832000 according to authority /pose_integrator\u001b[0m\n",
      "\u001b[33m[ WARN] [1678665197.055472253]: TF_REPEATED_DATA ignoring data with redundant timestamp for frame odom at time 2938.832000 according to authority /pose_integrator\u001b[0m\n",
      "\u001b[33m[ WARN] [1678665197.055502423]: TF_REPEATED_DATA ignoring data with redundant timestamp for frame odom at time 2938.832000 according to authority /pose_integrator\u001b[0m\n",
      "\u001b[33m[ WARN] [1678665197.055529965]: TF_REPEATED_DATA ignoring data with redundant timestamp for frame odom at time 2938.832000 according to authority /pose_integrator\u001b[0m\n",
      "\u001b[33m[ WARN] [1678665197.060760731]: TF_REPEATED_DATA ignoring data with redundant timestamp for frame odom at time 2938.832000 according to authority unknown_publisher\u001b[0m\n",
      "\u001b[33m[ WARN] [1678665213.672838798]: TF_REPEATED_DATA ignoring data with redundant timestamp for frame odom at time 2940.418000 according to authority /pose_integrator\u001b[0m\n",
      "\u001b[33m[ WARN] [1678665213.673017149]: TF_REPEATED_DATA ignoring data with redundant timestamp for frame odom at time 2940.418000 according to authority /pose_integrator\u001b[0m\n",
      "\u001b[33m[ WARN] [1678665213.673093434]: TF_REPEATED_DATA ignoring data with redundant timestamp for frame odom at time 2940.418000 according to authority /pose_integrator\u001b[0m\n",
      "\u001b[33m[ WARN] [1678665213.673146001]: TF_REPEATED_DATA ignoring data with redundant timestamp for frame odom at time 2940.418000 according to authority /pose_integrator\u001b[0m\n",
      "\u001b[33m[ WARN] [1678665213.691656452]: TF_REPEATED_DATA ignoring data with redundant timestamp for frame odom at time 2940.418000 according to authority unknown_publisher\u001b[0m\n",
      "\u001b[33m[ WARN] [1678665214.187838965]: TF_REPEATED_DATA ignoring data with redundant timestamp for frame odom at time 2940.494000 according to authority /pose_integrator\u001b[0m\n",
      "\u001b[33m[ WARN] [1678665214.187890203]: TF_REPEATED_DATA ignoring data with redundant timestamp for frame odom at time 2940.494000 according to authority /pose_integrator\u001b[0m\n",
      "\u001b[33m[ WARN] [1678665214.187918897]: TF_REPEATED_DATA ignoring data with redundant timestamp for frame odom at time 2940.494000 according to authority /pose_integrator\u001b[0m\n",
      "\u001b[33m[ WARN] [1678665214.187944918]: TF_REPEATED_DATA ignoring data with redundant timestamp for frame odom at time 2940.494000 according to authority /pose_integrator\u001b[0m\n",
      "\u001b[33m[ WARN] [1678665214.188267780]: TF_REPEATED_DATA ignoring data with redundant timestamp for frame odom at time 2940.494000 according to authority unknown_publisher\u001b[0m\n"
     ]
    },
    {
     "name": "stderr",
     "output_type": "stream",
     "text": [
      "\u001b[33m[ WARN] [1678665227.140074391]: TF_REPEATED_DATA ignoring data with redundant timestamp for frame odom at time 2941.744000 according to authority unknown_publisher\u001b[0m\n",
      "\u001b[33m[ WARN] [1678665227.145323786]: TF_REPEATED_DATA ignoring data with redundant timestamp for frame odom at time 2941.744000 according to authority /pose_integrator\u001b[0m\n",
      "\u001b[33m[ WARN] [1678665227.145422587]: TF_REPEATED_DATA ignoring data with redundant timestamp for frame odom at time 2941.744000 according to authority /pose_integrator\u001b[0m\n",
      "\u001b[33m[ WARN] [1678665227.145470135]: TF_REPEATED_DATA ignoring data with redundant timestamp for frame odom at time 2941.744000 according to authority /pose_integrator\u001b[0m\n",
      "\u001b[33m[ WARN] [1678665227.145517971]: TF_REPEATED_DATA ignoring data with redundant timestamp for frame odom at time 2941.744000 according to authority /pose_integrator\u001b[0m\n",
      "\u001b[33m[ WARN] [1678665232.605902515]: TF_REPEATED_DATA ignoring data with redundant timestamp for frame odom at time 2942.392000 according to authority /pose_integrator\u001b[0m\n",
      "\u001b[33m[ WARN] [1678665232.605952949]: TF_REPEATED_DATA ignoring data with redundant timestamp for frame odom at time 2942.392000 according to authority /pose_integrator\u001b[0m\n",
      "\u001b[33m[ WARN] [1678665232.605990586]: TF_REPEATED_DATA ignoring data with redundant timestamp for frame odom at time 2942.392000 according to authority /pose_integrator\u001b[0m\n",
      "\u001b[33m[ WARN] [1678665232.606015426]: TF_REPEATED_DATA ignoring data with redundant timestamp for frame odom at time 2942.392000 according to authority /pose_integrator\u001b[0m\n",
      "\u001b[33m[ WARN] [1678665232.606373076]: TF_REPEATED_DATA ignoring data with redundant timestamp for frame odom at time 2942.392000 according to authority unknown_publisher\u001b[0m\n",
      "\u001b[33m[ WARN] [1678665242.241897154]: TF_REPEATED_DATA ignoring data with redundant timestamp for frame odom at time 2943.274000 according to authority /pose_integrator\u001b[0m\n",
      "\u001b[33m[ WARN] [1678665242.241954111]: TF_REPEATED_DATA ignoring data with redundant timestamp for frame odom at time 2943.274000 according to authority /pose_integrator\u001b[0m\n",
      "\u001b[33m[ WARN] [1678665242.241992194]: TF_REPEATED_DATA ignoring data with redundant timestamp for frame odom at time 2943.274000 according to authority /pose_integrator\u001b[0m\n",
      "\u001b[33m[ WARN] [1678665242.242024603]: TF_REPEATED_DATA ignoring data with redundant timestamp for frame odom at time 2943.274000 according to authority /pose_integrator\u001b[0m\n",
      "\u001b[33m[ WARN] [1678665242.243604304]: TF_REPEATED_DATA ignoring data with redundant timestamp for frame odom at time 2943.274000 according to authority unknown_publisher\u001b[0m\n"
     ]
    }
   ],
   "source": [
    "x,y=0.2,8\n",
    "xrob,yrob=get_robot_px()\n",
    "safe_xy=np.asarray((x,-1*y))\n",
    "safe_xy_px=point_to_px (x,y)\n",
    "delta_px=  safe_xy_px-np.asarray((xrob,yrob))\n",
    "delta_px= delta_px / np.linalg.norm(delta_px).round()\n",
    "delta_px=np.round(delta_px*10)\n",
    "print (delta_px.round())\n",
    "newxy=np.zeros(2)\n",
    "for i in range(9):\n",
    "    if (contoured[1024+ safe_xy_px[1].astype('int'),1024-safe_xy_px[0].astype('int')]!=0):   ## axis are twisted cause y sign\n",
    "                print ('not safe at', safe_xy_px , safe_xy_px*pix_per_m)\n",
    "                draw_at(1024-safe_xy_px[1].astype('int'),1024+ safe_xy_px[0].astype('int'),contoured)\n",
    "                #draw_at(1024+safe_xy_px[1].astype('int'),1024- safe_xy_px[0].astype('int'),contoured)\n",
    "                xrob,yrob=get_robot_px()\n",
    "                delta_px=  safe_xy_px-np.asarray((xrob,yrob))\n",
    "                delta_px= delta_px / np.linalg.norm(delta_px).round()\n",
    "                delta_px=np.round(delta_px*10)\n",
    "                \n",
    "                \n",
    "                newxy[0]=safe_xy_px[0]-delta_px[0].astype('int')\n",
    "                newxy[1]=safe_xy_px[1]-delta_px[1].astype('int')\n",
    "                safe_xy_px=newxy\n",
    "    else:\n",
    "            print ('safe at', safe_xy_px, safe_xy_px*pix_per_m)\n",
    "            break\n",
    "draw_at(1024+safe_xy_px[1].astype('int'),1024- safe_xy_px[0].astype('int'),contoured)\n",
    "plt.imshow(contoured[750:1250,750:1250])"
   ]
  },
  {
   "cell_type": "code",
   "execution_count": null,
   "id": "768a1bd0",
   "metadata": {},
   "outputs": [],
   "source": []
  },
  {
   "cell_type": "code",
   "execution_count": null,
   "id": "cff73e7c",
   "metadata": {},
   "outputs": [],
   "source": [
    " for t in range (3):\n",
    "        if (contoured[1024+ round(safe_xy[0]/pix_per_m),1024- round(safe_xy[1]/pix_per_m)]!=0):   ## axis are twisted cause y sign\n",
    "            delta=  safe_xy-np.asarray((xrob,yrob))\n",
    "            delta= delta / np.linalg.norm(delta) \n",
    "            #print(delta,'delta')\n",
    "            print ('not safe at', safe_xy,contoured[1024+ round(safe_xy[0]/pix_per_m),1024- round(safe_xy[1]/pix_per_m)])\n",
    "            newxy[0]=safe_xy[0]+delta[0]\n",
    "            newxy[1]=safe_xy[1]-delta[1]\n",
    "            #print ('try', newxy)\n",
    "            #draw_at(1024+ round(safe_xy[1]/pix_per_m),1024- round(safe_xy[0]/pix_per_m),contoured)##AXIS\n",
    "            draw_at(1024+safe_xy_px[1],1024- safe_xy_px[0],contoured)\n",
    "            safe_xy=newxy\n",
    "        else:\n",
    "            print ('safe at', safe_xy)\n",
    "            break"
   ]
  },
  {
   "cell_type": "code",
   "execution_count": 79,
   "id": "ad879dea",
   "metadata": {},
   "outputs": [
    {
     "name": "stderr",
     "output_type": "stream",
     "text": [
      "\u001b[33m[ WARN] [1678660403.331744359]: TF_REPEATED_DATA ignoring data with redundant timestamp for frame odom at time 2476.360000 according to authority unknown_publisher\u001b[0m\n",
      "\u001b[33m[ WARN] [1678660403.334429626]: TF_REPEATED_DATA ignoring data with redundant timestamp for frame odom at time 2476.360000 according to authority /pose_integrator\u001b[0m\n",
      "\u001b[33m[ WARN] [1678660403.334481003]: TF_REPEATED_DATA ignoring data with redundant timestamp for frame odom at time 2476.360000 according to authority /pose_integrator\u001b[0m\n",
      "\u001b[33m[ WARN] [1678660403.334508933]: TF_REPEATED_DATA ignoring data with redundant timestamp for frame odom at time 2476.360000 according to authority /pose_integrator\u001b[0m\n",
      "\u001b[33m[ WARN] [1678660403.334534620]: TF_REPEATED_DATA ignoring data with redundant timestamp for frame odom at time 2476.360000 according to authority /pose_integrator\u001b[0m\n"
     ]
    }
   ],
   "source": [
    "# Quiero saber punto 0,-7 m esta libre?\n",
    "y=8   ## MAP and pixels are not aligned\n",
    "x=0\n",
    "def check_point_map(x,y):\n",
    "    ##meters, map (not pixels)\n",
    "    xrob,yrob=get_robot()\n",
    "    safe_xy=np.asarray((x,y))\n",
    "    safe_xy_px=point_to_px (x,y)\n",
    "    \n",
    "\n",
    "    \n",
    "    delta=  safe_xy-np.asarray((xrob,yrob))\n",
    "    delta= delta / np.linalg.norm(delta)\n",
    "    print (delta)\n",
    "    \n",
    "    delta_px=  safe_xy_px-np.asarray((xrob,yrob))\n",
    "    delta_px= delta_px / np.linalg.norm(delta_px)\n",
    "    print (delta_px)\n",
    "\n",
    "\n",
    "\n",
    "    newxy=np.zeros(2)\n",
    "    #print (delta)\n",
    "\n",
    "    for t in range (3):\n",
    "        if (contoured[1024+ round(safe_xy[0]/pix_per_m),1024- round(safe_xy[1]/pix_per_m)]!=0):   ## axis are twisted cause y sign\n",
    "            delta=  safe_xy-np.asarray((xrob,yrob))\n",
    "            delta= delta / np.linalg.norm(delta) \n",
    "            #print(delta,'delta')\n",
    "            print ('not safe at', safe_xy,contoured[1024+ round(safe_xy[0]/pix_per_m),1024- round(safe_xy[1]/pix_per_m)])\n",
    "            newxy[0]=safe_xy[0]+delta[0]\n",
    "            newxy[1]=safe_xy[1]-delta[1]\n",
    "            #print ('try', newxy)\n",
    "            #draw_at(1024+ round(safe_xy[1]/pix_per_m),1024- round(safe_xy[0]/pix_per_m),contoured)##AXIS\n",
    "            draw_at(1024+safe_xy_px[1],1024- safe_xy_px[0],contoured)\n",
    "            safe_xy=newxy\n",
    "        else:\n",
    "            print ('safe at', safe_xy)\n",
    "            break\n",
    "\n",
    "\n"
   ]
  },
  {
   "cell_type": "code",
   "execution_count": 181,
   "id": "4c6e9cf0",
   "metadata": {},
   "outputs": [
    {
     "name": "stdout",
     "output_type": "stream",
     "text": [
      "[0.4481991173588523, -0.987738132317624, 0.0]\n",
      "[  9 -20]\n",
      "[-0.03569153  0.99936285]\n",
      "[-0.03569153  0.99936285] delta\n",
      "not safe at [8 8] 200\n",
      "[-0.03832985  0.99926514] delta\n",
      "not safe at [7.96430847 7.00063715] 255\n",
      "[-0.04127114  0.99914798] delta\n",
      "not safe at [7.92597862 6.001372  ] 100\n",
      "[-0.04456342  0.99900656] delta\n",
      "not safe at [7.88470748 5.00222402] 100\n",
      "[-0.04826454  0.99883459] delta\n",
      "not safe at [7.84014406 4.00321746] 255\n",
      "[-0.0524447   0.99862383] delta\n",
      "not safe at [7.79187952 3.00438288] 255\n",
      "[-0.05718967  0.99836333] delta\n",
      "not safe at [7.73943482 2.00575905] 255\n",
      "[-0.06260509  0.99803838] delta\n",
      "not safe at [7.68224515 1.00739571] 255\n",
      "[-0.06882215  0.99762894] delta\n",
      "not safe at [7.61964006 0.00935734] 255\n",
      "[-0.0760052   0.99710742] delta\n",
      "not safe at [ 7.55081791 -0.98827161] 255\n",
      "safe at [ 7.47481271 -1.98537903]\n"
     ]
    },
    {
     "data": {
      "text/plain": [
       "<matplotlib.image.AxesImage at 0x7f7ca23bfdf0>"
      ]
     },
     "execution_count": 181,
     "metadata": {},
     "output_type": "execute_result"
    },
    {
     "data": {
      "image/png": "[encoded data removed]",
      "text/plain": [
       "<Figure size 640x480 with 1 Axes>"
      ]
     },
     "metadata": {},
     "output_type": "display_data"
    },
    {
     "name": "stderr",
     "output_type": "stream",
     "text": [
      "\u001b[33m[ WARN] [1678650214.232972575, 2539.134000000]: TF_REPEATED_DATA ignoring data with redundant timestamp for frame odom at time 2539.171000 according to authority /pose_integrator\u001b[0m\n",
      "\u001b[33m[ WARN] [1678650214.233024068, 2539.134000000]: TF_REPEATED_DATA ignoring data with redundant timestamp for frame odom at time 2539.171000 according to authority /pose_integrator\u001b[0m\n",
      "\u001b[33m[ WARN] [1678650214.233049164, 2539.134000000]: TF_REPEATED_DATA ignoring data with redundant timestamp for frame odom at time 2539.171000 according to authority /pose_integrator\u001b[0m\n",
      "\u001b[33m[ WARN] [1678650214.233074390, 2539.134000000]: TF_REPEATED_DATA ignoring data with redundant timestamp for frame odom at time 2539.171000 according to authority /pose_integrator\u001b[0m\n",
      "\u001b[33m[ WARN] [1678650214.233236798, 2539.134000000]: TF_REPEATED_DATA ignoring data with redundant timestamp for frame odom at time 2539.171000 according to authority unknown_publisher\u001b[0m\n",
      "\u001b[33m[ WARN] [1678650225.870177073, 2540.109000000]: TF_REPEATED_DATA ignoring data with redundant timestamp for frame odom at time 2540.155000 according to authority /pose_integrator\u001b[0m\n",
      "\u001b[33m[ WARN] [1678650225.870306036, 2540.109000000]: TF_REPEATED_DATA ignoring data with redundant timestamp for frame odom at time 2540.155000 according to authority /pose_integrator\u001b[0m\n",
      "\u001b[33m[ WARN] [1678650225.870340747, 2540.109000000]: TF_REPEATED_DATA ignoring data with redundant timestamp for frame odom at time 2540.155000 according to authority /pose_integrator\u001b[0m\n",
      "\u001b[33m[ WARN] [1678650225.870381389, 2540.109000000]: TF_REPEATED_DATA ignoring data with redundant timestamp for frame odom at time 2540.155000 according to authority /pose_integrator\u001b[0m\n",
      "\u001b[33m[ WARN] [1678650225.872029100, 2540.109000000]: TF_REPEATED_DATA ignoring data with redundant timestamp for frame odom at time 2540.155000 according to authority unknown_publisher\u001b[0m\n",
      "\u001b[33m[ WARN] [1678650231.130594336, 2540.526000000]: TF_REPEATED_DATA ignoring data with redundant timestamp for frame odom at time 2540.616000 according to authority /pose_integrator\u001b[0m\n",
      "\u001b[33m[ WARN] [1678650231.130681366, 2540.526000000]: TF_REPEATED_DATA ignoring data with redundant timestamp for frame odom at time 2540.616000 according to authority /pose_integrator\u001b[0m\n",
      "\u001b[33m[ WARN] [1678650231.130713428, 2540.526000000]: TF_REPEATED_DATA ignoring data with redundant timestamp for frame odom at time 2540.616000 according to authority /pose_integrator\u001b[0m\n",
      "\u001b[33m[ WARN] [1678650231.130738716, 2540.526000000]: TF_REPEATED_DATA ignoring data with redundant timestamp for frame odom at time 2540.616000 according to authority /pose_integrator\u001b[0m\n",
      "\u001b[33m[ WARN] [1678650231.130985057, 2540.526000000]: TF_REPEATED_DATA ignoring data with redundant timestamp for frame odom at time 2540.616000 according to authority unknown_publisher\u001b[0m\n",
      "\u001b[33m[ WARN] [1678650296.125064866, 2545.114000000]: TF_REPEATED_DATA ignoring data with redundant timestamp for frame odom at time 2545.148000 according to authority /pose_integrator\u001b[0m\n",
      "\u001b[33m[ WARN] [1678650296.125175683, 2545.114000000]: TF_REPEATED_DATA ignoring data with redundant timestamp for frame odom at time 2545.148000 according to authority /pose_integrator\u001b[0m\n",
      "\u001b[33m[ WARN] [1678650296.125209358, 2545.114000000]: TF_REPEATED_DATA ignoring data with redundant timestamp for frame odom at time 2545.148000 according to authority /pose_integrator\u001b[0m\n",
      "\u001b[33m[ WARN] [1678650296.125250667, 2545.114000000]: TF_REPEATED_DATA ignoring data with redundant timestamp for frame odom at time 2545.148000 according to authority /pose_integrator\u001b[0m\n",
      "\u001b[33m[ WARN] [1678650296.130076783, 2545.114000000]: TF_REPEATED_DATA ignoring data with redundant timestamp for frame odom at time 2545.148000 according to authority unknown_publisher\u001b[0m\n",
      "\u001b[33m[ WARN] [1678650305.936599767, 2545.962000000]: TF_REPEATED_DATA ignoring data with redundant timestamp for frame odom at time 2545.991000 according to authority /pose_integrator\u001b[0m\n",
      "\u001b[33m[ WARN] [1678650305.936656020, 2545.962000000]: TF_REPEATED_DATA ignoring data with redundant timestamp for frame odom at time 2545.991000 according to authority /pose_integrator\u001b[0m\n",
      "\u001b[33m[ WARN] [1678650305.936681588, 2545.962000000]: TF_REPEATED_DATA ignoring data with redundant timestamp for frame odom at time 2545.991000 according to authority /pose_integrator\u001b[0m\n",
      "\u001b[33m[ WARN] [1678650305.936703677, 2545.962000000]: TF_REPEATED_DATA ignoring data with redundant timestamp for frame odom at time 2545.991000 according to authority /pose_integrator\u001b[0m\n",
      "\u001b[33m[ WARN] [1678650305.938029002, 2545.962000000]: TF_REPEATED_DATA ignoring data with redundant timestamp for frame odom at time 2545.991000 according to authority unknown_publisher\u001b[0m\n",
      "\u001b[33m[ WARN] [1678650315.620872963, 2546.685000000]: TF_REPEATED_DATA ignoring data with redundant timestamp for frame odom at time 2546.730000 according to authority unknown_publisher\u001b[0m\n",
      "\u001b[33m[ WARN] [1678650315.621144280, 2546.685000000]: TF_REPEATED_DATA ignoring data with redundant timestamp for frame odom at time 2546.730000 according to authority /pose_integrator\u001b[0m\n",
      "\u001b[33m[ WARN] [1678650315.621184858, 2546.685000000]: TF_REPEATED_DATA ignoring data with redundant timestamp for frame odom at time 2546.730000 according to authority /pose_integrator\u001b[0m\n",
      "\u001b[33m[ WARN] [1678650315.621216436, 2546.685000000]: TF_REPEATED_DATA ignoring data with redundant timestamp for frame odom at time 2546.730000 according to authority /pose_integrator\u001b[0m\n",
      "\u001b[33m[ WARN] [1678650315.621245619, 2546.685000000]: TF_REPEATED_DATA ignoring data with redundant timestamp for frame odom at time 2546.730000 according to authority /pose_integrator\u001b[0m\n",
      "\u001b[33m[ WARN] [1678650390.623022311, 2551.966000000]: TF_REPEATED_DATA ignoring data with redundant timestamp for frame odom at time 2551.988000 according to authority /pose_integrator\u001b[0m\n",
      "\u001b[33m[ WARN] [1678650390.623127317, 2551.966000000]: TF_REPEATED_DATA ignoring data with redundant timestamp for frame odom at time 2551.988000 according to authority /pose_integrator\u001b[0m\n",
      "\u001b[33m[ WARN] [1678650390.623158309, 2551.966000000]: TF_REPEATED_DATA ignoring data with redundant timestamp for frame odom at time 2551.988000 according to authority /pose_integrator\u001b[0m\n",
      "\u001b[33m[ WARN] [1678650390.623196279, 2551.966000000]: TF_REPEATED_DATA ignoring data with redundant timestamp for frame odom at time 2551.988000 according to authority /pose_integrator\u001b[0m\n",
      "\u001b[33m[ WARN] [1678650390.623745160, 2551.966000000]: TF_REPEATED_DATA ignoring data with redundant timestamp for frame odom at time 2551.988000 according to authority unknown_publisher\u001b[0m\n",
      "\u001b[33m[ WARN] [1678650434.316250156, 2554.732000000]: TF_REPEATED_DATA ignoring data with redundant timestamp for frame odom at time 2554.777000 according to authority /pose_integrator\u001b[0m\n",
      "\u001b[33m[ WARN] [1678650434.316541130, 2554.732000000]: TF_REPEATED_DATA ignoring data with redundant timestamp for frame odom at time 2554.777000 according to authority /pose_integrator\u001b[0m\n",
      "\u001b[33m[ WARN] [1678650434.316606933, 2554.732000000]: TF_REPEATED_DATA ignoring data with redundant timestamp for frame odom at time 2554.777000 according to authority /pose_integrator\u001b[0m\n",
      "\u001b[33m[ WARN] [1678650434.316653216, 2554.732000000]: TF_REPEATED_DATA ignoring data with redundant timestamp for frame odom at time 2554.777000 according to authority /pose_integrator\u001b[0m\n",
      "\u001b[33m[ WARN] [1678650434.324674009, 2554.732000000]: TF_REPEATED_DATA ignoring data with redundant timestamp for frame odom at time 2554.777000 according to authority unknown_publisher\u001b[0m\n",
      "\u001b[33m[ WARN] [1678650469.369388381, 2557.180000000]: TF_REPEATED_DATA ignoring data with redundant timestamp for frame odom at time 2557.222000 according to authority unknown_publisher\u001b[0m\n",
      "\u001b[33m[ WARN] [1678650469.370366723, 2557.180000000]: TF_REPEATED_DATA ignoring data with redundant timestamp for frame odom at time 2557.222000 according to authority /pose_integrator\u001b[0m\n",
      "\u001b[33m[ WARN] [1678650469.370463970, 2557.180000000]: TF_REPEATED_DATA ignoring data with redundant timestamp for frame odom at time 2557.222000 according to authority /pose_integrator\u001b[0m\n",
      "\u001b[33m[ WARN] [1678650469.370499483, 2557.180000000]: TF_REPEATED_DATA ignoring data with redundant timestamp for frame odom at time 2557.222000 according to authority /pose_integrator\u001b[0m\n",
      "\u001b[33m[ WARN] [1678650469.370530276, 2557.180000000]: TF_REPEATED_DATA ignoring data with redundant timestamp for frame odom at time 2557.222000 according to authority /pose_integrator\u001b[0m\n"
     ]
    },
    {
     "name": "stderr",
     "output_type": "stream",
     "text": [
      "\u001b[33m[ WARN] [1678650490.078436311, 2558.732000000]: TF_REPEATED_DATA ignoring data with redundant timestamp for frame odom at time 2558.777000 according to authority /pose_integrator\u001b[0m\n",
      "\u001b[33m[ WARN] [1678650490.078491835, 2558.732000000]: TF_REPEATED_DATA ignoring data with redundant timestamp for frame odom at time 2558.777000 according to authority /pose_integrator\u001b[0m\n",
      "\u001b[33m[ WARN] [1678650490.078517604, 2558.732000000]: TF_REPEATED_DATA ignoring data with redundant timestamp for frame odom at time 2558.777000 according to authority /pose_integrator\u001b[0m\n",
      "\u001b[33m[ WARN] [1678650490.078540777, 2558.732000000]: TF_REPEATED_DATA ignoring data with redundant timestamp for frame odom at time 2558.777000 according to authority /pose_integrator\u001b[0m\n",
      "\u001b[33m[ WARN] [1678650490.082631550, 2558.732000000]: TF_REPEATED_DATA ignoring data with redundant timestamp for frame odom at time 2558.777000 according to authority unknown_publisher\u001b[0m\n",
      "\u001b[33m[ WARN] [1678650506.328293383, 2559.655000000]: TF_REPEATED_DATA ignoring data with redundant timestamp for frame odom at time 2559.698000 according to authority /pose_integrator\u001b[0m\n",
      "\u001b[33m[ WARN] [1678650506.328374373, 2559.655000000]: TF_REPEATED_DATA ignoring data with redundant timestamp for frame odom at time 2559.698000 according to authority /pose_integrator\u001b[0m\n",
      "\u001b[33m[ WARN] [1678650506.329033299, 2559.655000000]: TF_REPEATED_DATA ignoring data with redundant timestamp for frame odom at time 2559.698000 according to authority /pose_integrator\u001b[0m\n",
      "\u001b[33m[ WARN] [1678650506.329331101, 2559.655000000]: TF_REPEATED_DATA ignoring data with redundant timestamp for frame odom at time 2559.698000 according to authority /pose_integrator\u001b[0m\n",
      "\u001b[33m[ WARN] [1678650506.330411361, 2559.655000000]: TF_REPEATED_DATA ignoring data with redundant timestamp for frame odom at time 2559.698000 according to authority unknown_publisher\u001b[0m\n",
      "\u001b[33m[ WARN] [1678650521.300759052, 2560.713000000]: TF_REPEATED_DATA ignoring data with redundant timestamp for frame odom at time 2560.750000 according to authority /pose_integrator\u001b[0m\n",
      "\u001b[33m[ WARN] [1678650521.300838781, 2560.713000000]: TF_REPEATED_DATA ignoring data with redundant timestamp for frame odom at time 2560.750000 according to authority /pose_integrator\u001b[0m\n",
      "\u001b[33m[ WARN] [1678650521.300882996, 2560.713000000]: TF_REPEATED_DATA ignoring data with redundant timestamp for frame odom at time 2560.750000 according to authority /pose_integrator\u001b[0m\n",
      "\u001b[33m[ WARN] [1678650521.300967218, 2560.713000000]: TF_REPEATED_DATA ignoring data with redundant timestamp for frame odom at time 2560.750000 according to authority /pose_integrator\u001b[0m\n",
      "\u001b[33m[ WARN] [1678650521.302061291, 2560.713000000]: TF_REPEATED_DATA ignoring data with redundant timestamp for frame odom at time 2560.750000 according to authority unknown_publisher\u001b[0m\n",
      "\u001b[33m[ WARN] [1678650539.434352647, 2561.973000000]: TF_REPEATED_DATA ignoring data with redundant timestamp for frame odom at time 2562.038000 according to authority unknown_publisher\u001b[0m\n",
      "\u001b[33m[ WARN] [1678650539.435124089, 2561.973000000]: TF_REPEATED_DATA ignoring data with redundant timestamp for frame odom at time 2562.038000 according to authority /pose_integrator\u001b[0m\n",
      "\u001b[33m[ WARN] [1678650539.435223686, 2561.973000000]: TF_REPEATED_DATA ignoring data with redundant timestamp for frame odom at time 2562.038000 according to authority /pose_integrator\u001b[0m\n",
      "\u001b[33m[ WARN] [1678650539.435286563, 2561.973000000]: TF_REPEATED_DATA ignoring data with redundant timestamp for frame odom at time 2562.038000 according to authority /pose_integrator\u001b[0m\n",
      "\u001b[33m[ WARN] [1678650539.435348365, 2561.973000000]: TF_REPEATED_DATA ignoring data with redundant timestamp for frame odom at time 2562.038000 according to authority /pose_integrator\u001b[0m\n",
      "\u001b[33m[ WARN] [1678650557.458804091, 2563.218000000]: TF_REPEATED_DATA ignoring data with redundant timestamp for frame odom at time 2563.265000 according to authority unknown_publisher\u001b[0m\n",
      "\u001b[33m[ WARN] [1678650557.461616311, 2563.218000000]: TF_REPEATED_DATA ignoring data with redundant timestamp for frame odom at time 2563.265000 according to authority /pose_integrator\u001b[0m\n",
      "\u001b[33m[ WARN] [1678650557.461764564, 2563.218000000]: TF_REPEATED_DATA ignoring data with redundant timestamp for frame odom at time 2563.265000 according to authority /pose_integrator\u001b[0m\n",
      "\u001b[33m[ WARN] [1678650557.461814567, 2563.218000000]: TF_REPEATED_DATA ignoring data with redundant timestamp for frame odom at time 2563.265000 according to authority /pose_integrator\u001b[0m\n",
      "\u001b[33m[ WARN] [1678650557.461853018, 2563.218000000]: TF_REPEATED_DATA ignoring data with redundant timestamp for frame odom at time 2563.265000 according to authority /pose_integrator\u001b[0m\n",
      "\u001b[33m[ WARN] [1678650564.571272268, 2563.672000000]: TF_REPEATED_DATA ignoring data with redundant timestamp for frame odom at time 2563.722000 according to authority /pose_integrator\u001b[0m\n",
      "\u001b[33m[ WARN] [1678650564.571795632, 2563.672000000]: TF_REPEATED_DATA ignoring data with redundant timestamp for frame odom at time 2563.722000 according to authority /pose_integrator\u001b[0m\n",
      "\u001b[33m[ WARN] [1678650564.571983748, 2563.672000000]: TF_REPEATED_DATA ignoring data with redundant timestamp for frame odom at time 2563.722000 according to authority /pose_integrator\u001b[0m\n",
      "\u001b[33m[ WARN] [1678650564.572047491, 2563.672000000]: TF_REPEATED_DATA ignoring data with redundant timestamp for frame odom at time 2563.722000 according to authority /pose_integrator\u001b[0m\n",
      "\u001b[33m[ WARN] [1678650564.573291876, 2563.672000000]: TF_REPEATED_DATA ignoring data with redundant timestamp for frame odom at time 2563.722000 according to authority unknown_publisher\u001b[0m\n",
      "\u001b[33m[ WARN] [1678650565.433027193, 2563.722000000]: TF_REPEATED_DATA ignoring data with redundant timestamp for frame odom at time 2563.781000 according to authority unknown_publisher\u001b[0m\n",
      "\u001b[33m[ WARN] [1678650565.433123239, 2563.722000000]: TF_REPEATED_DATA ignoring data with redundant timestamp for frame odom at time 2563.781000 according to authority /pose_integrator\u001b[0m\n",
      "\u001b[33m[ WARN] [1678650565.433215254, 2563.722000000]: TF_REPEATED_DATA ignoring data with redundant timestamp for frame odom at time 2563.781000 according to authority /pose_integrator\u001b[0m\n",
      "\u001b[33m[ WARN] [1678650565.433253578, 2563.722000000]: TF_REPEATED_DATA ignoring data with redundant timestamp for frame odom at time 2563.781000 according to authority /pose_integrator\u001b[0m\n",
      "\u001b[33m[ WARN] [1678650565.433283192, 2563.722000000]: TF_REPEATED_DATA ignoring data with redundant timestamp for frame odom at time 2563.781000 according to authority /pose_integrator\u001b[0m\n",
      "\u001b[33m[ WARN] [1678650574.925068601, 2564.362000000]: TF_REPEATED_DATA ignoring data with redundant timestamp for frame odom at time 2564.392000 according to authority /pose_integrator\u001b[0m\n",
      "\u001b[33m[ WARN] [1678650574.925132594, 2564.362000000]: TF_REPEATED_DATA ignoring data with redundant timestamp for frame odom at time 2564.392000 according to authority /pose_integrator\u001b[0m\n",
      "\u001b[33m[ WARN] [1678650574.925170343, 2564.362000000]: TF_REPEATED_DATA ignoring data with redundant timestamp for frame odom at time 2564.392000 according to authority /pose_integrator\u001b[0m\n",
      "\u001b[33m[ WARN] [1678650574.925195017, 2564.362000000]: TF_REPEATED_DATA ignoring data with redundant timestamp for frame odom at time 2564.392000 according to authority /pose_integrator\u001b[0m\n",
      "\u001b[33m[ WARN] [1678650574.925713247, 2564.362000000]: TF_REPEATED_DATA ignoring data with redundant timestamp for frame odom at time 2564.392000 according to authority unknown_publisher\u001b[0m\n",
      "\u001b[33m[ WARN] [1678650614.603183578, 2567.365000000]: TF_REPEATED_DATA ignoring data with redundant timestamp for frame odom at time 2567.433000 according to authority unknown_publisher\u001b[0m\n",
      "\u001b[33m[ WARN] [1678650614.604193909, 2567.365000000]: TF_REPEATED_DATA ignoring data with redundant timestamp for frame odom at time 2567.433000 according to authority /pose_integrator\u001b[0m\n",
      "\u001b[33m[ WARN] [1678650614.604252193, 2567.365000000]: TF_REPEATED_DATA ignoring data with redundant timestamp for frame odom at time 2567.433000 according to authority /pose_integrator\u001b[0m\n",
      "\u001b[33m[ WARN] [1678650614.604280545, 2567.365000000]: TF_REPEATED_DATA ignoring data with redundant timestamp for frame odom at time 2567.433000 according to authority /pose_integrator\u001b[0m\n",
      "\u001b[33m[ WARN] [1678650614.604305290, 2567.365000000]: TF_REPEATED_DATA ignoring data with redundant timestamp for frame odom at time 2567.433000 according to authority /pose_integrator\u001b[0m\n"
     ]
    },
    {
     "name": "stderr",
     "output_type": "stream",
     "text": [
      "\u001b[33m[ WARN] [1678650624.769016421, 2568.225000000]: TF_REPEATED_DATA ignoring data with redundant timestamp for frame odom at time 2568.275000 according to authority /pose_integrator\u001b[0m\n",
      "\u001b[33m[ WARN] [1678650624.769098350, 2568.225000000]: TF_REPEATED_DATA ignoring data with redundant timestamp for frame odom at time 2568.275000 according to authority /pose_integrator\u001b[0m\n",
      "\u001b[33m[ WARN] [1678650624.769129281, 2568.225000000]: TF_REPEATED_DATA ignoring data with redundant timestamp for frame odom at time 2568.275000 according to authority /pose_integrator\u001b[0m\n",
      "\u001b[33m[ WARN] [1678650624.769155979, 2568.225000000]: TF_REPEATED_DATA ignoring data with redundant timestamp for frame odom at time 2568.275000 according to authority /pose_integrator\u001b[0m\n",
      "\u001b[33m[ WARN] [1678650624.769563092, 2568.225000000]: TF_REPEATED_DATA ignoring data with redundant timestamp for frame odom at time 2568.275000 according to authority unknown_publisher\u001b[0m\n",
      "\u001b[33m[ WARN] [1678650627.988318818, 2568.501000000]: TF_REPEATED_DATA ignoring data with redundant timestamp for frame odom at time 2568.598000 according to authority /pose_integrator\u001b[0m\n",
      "\u001b[33m[ WARN] [1678650627.988409140, 2568.501000000]: TF_REPEATED_DATA ignoring data with redundant timestamp for frame odom at time 2568.598000 according to authority /pose_integrator\u001b[0m\n",
      "\u001b[33m[ WARN] [1678650627.988442992, 2568.501000000]: TF_REPEATED_DATA ignoring data with redundant timestamp for frame odom at time 2568.598000 according to authority /pose_integrator\u001b[0m\n",
      "\u001b[33m[ WARN] [1678650627.988472272, 2568.501000000]: TF_REPEATED_DATA ignoring data with redundant timestamp for frame odom at time 2568.598000 according to authority /pose_integrator\u001b[0m\n",
      "\u001b[33m[ WARN] [1678650627.994566301, 2568.501000000]: TF_REPEATED_DATA ignoring data with redundant timestamp for frame odom at time 2568.598000 according to authority unknown_publisher\u001b[0m\n",
      "\u001b[33m[ WARN] [1678650632.388565954, 2568.881000000]: TF_REPEATED_DATA ignoring data with redundant timestamp for frame odom at time 2568.924000 according to authority /pose_integrator\u001b[0m\n",
      "\u001b[33m[ WARN] [1678650632.388681966, 2568.881000000]: TF_REPEATED_DATA ignoring data with redundant timestamp for frame odom at time 2568.924000 according to authority /pose_integrator\u001b[0m\n",
      "\u001b[33m[ WARN] [1678650632.388716756, 2568.881000000]: TF_REPEATED_DATA ignoring data with redundant timestamp for frame odom at time 2568.924000 according to authority /pose_integrator\u001b[0m\n",
      "\u001b[33m[ WARN] [1678650632.388754033, 2568.881000000]: TF_REPEATED_DATA ignoring data with redundant timestamp for frame odom at time 2568.924000 according to authority /pose_integrator\u001b[0m\n",
      "\u001b[33m[ WARN] [1678650632.390147149, 2568.881000000]: TF_REPEATED_DATA ignoring data with redundant timestamp for frame odom at time 2568.924000 according to authority unknown_publisher\u001b[0m\n",
      "\u001b[33m[ WARN] [1678650677.366564488, 2572.486000000]: TF_REPEATED_DATA ignoring data with redundant timestamp for frame odom at time 2572.522000 according to authority /pose_integrator\u001b[0m\n",
      "\u001b[33m[ WARN] [1678650677.366635042, 2572.486000000]: TF_REPEATED_DATA ignoring data with redundant timestamp for frame odom at time 2572.522000 according to authority /pose_integrator\u001b[0m\n",
      "\u001b[33m[ WARN] [1678650677.366663718, 2572.486000000]: TF_REPEATED_DATA ignoring data with redundant timestamp for frame odom at time 2572.522000 according to authority /pose_integrator\u001b[0m\n",
      "\u001b[33m[ WARN] [1678650677.366689746, 2572.486000000]: TF_REPEATED_DATA ignoring data with redundant timestamp for frame odom at time 2572.522000 according to authority /pose_integrator\u001b[0m\n",
      "\u001b[33m[ WARN] [1678650677.366801369, 2572.486000000]: TF_REPEATED_DATA ignoring data with redundant timestamp for frame odom at time 2572.522000 according to authority unknown_publisher\u001b[0m\n",
      "\u001b[33m[ WARN] [1678650679.693511763, 2572.637000000]: TF_REPEATED_DATA ignoring data with redundant timestamp for frame odom at time 2572.685000 according to authority /pose_integrator\u001b[0m\n",
      "\u001b[33m[ WARN] [1678650679.693660307, 2572.637000000]: TF_REPEATED_DATA ignoring data with redundant timestamp for frame odom at time 2572.685000 according to authority /pose_integrator\u001b[0m\n",
      "\u001b[33m[ WARN] [1678650679.693687457, 2572.637000000]: TF_REPEATED_DATA ignoring data with redundant timestamp for frame odom at time 2572.685000 according to authority /pose_integrator\u001b[0m\n",
      "\u001b[33m[ WARN] [1678650679.693711307, 2572.637000000]: TF_REPEATED_DATA ignoring data with redundant timestamp for frame odom at time 2572.685000 according to authority /pose_integrator\u001b[0m\n",
      "\u001b[33m[ WARN] [1678650679.693932240, 2572.637000000]: TF_REPEATED_DATA ignoring data with redundant timestamp for frame odom at time 2572.685000 according to authority unknown_publisher\u001b[0m\n",
      "\u001b[33m[ WARN] [1678650708.867163415, 2574.733000000]: TF_REPEATED_DATA ignoring data with redundant timestamp for frame odom at time 2574.761000 according to authority unknown_publisher\u001b[0m\n",
      "\u001b[33m[ WARN] [1678650708.867814290, 2574.733000000]: TF_REPEATED_DATA ignoring data with redundant timestamp for frame odom at time 2574.761000 according to authority /pose_integrator\u001b[0m\n",
      "\u001b[33m[ WARN] [1678650708.867897571, 2574.733000000]: TF_REPEATED_DATA ignoring data with redundant timestamp for frame odom at time 2574.761000 according to authority /pose_integrator\u001b[0m\n",
      "\u001b[33m[ WARN] [1678650708.867928836, 2574.733000000]: TF_REPEATED_DATA ignoring data with redundant timestamp for frame odom at time 2574.761000 according to authority /pose_integrator\u001b[0m\n",
      "\u001b[33m[ WARN] [1678650708.867955339, 2574.733000000]: TF_REPEATED_DATA ignoring data with redundant timestamp for frame odom at time 2574.761000 according to authority /pose_integrator\u001b[0m\n",
      "\u001b[33m[ WARN] [1678650743.457057897, 2577.504000000]: TF_REPEATED_DATA ignoring data with redundant timestamp for frame odom at time 2577.533000 according to authority unknown_publisher\u001b[0m\n",
      "\u001b[33m[ WARN] [1678650743.458602005, 2577.504000000]: TF_REPEATED_DATA ignoring data with redundant timestamp for frame odom at time 2577.533000 according to authority /pose_integrator\u001b[0m\n",
      "\u001b[33m[ WARN] [1678650743.458648606, 2577.504000000]: TF_REPEATED_DATA ignoring data with redundant timestamp for frame odom at time 2577.533000 according to authority /pose_integrator\u001b[0m\n",
      "\u001b[33m[ WARN] [1678650743.458675454, 2577.504000000]: TF_REPEATED_DATA ignoring data with redundant timestamp for frame odom at time 2577.533000 according to authority /pose_integrator\u001b[0m\n",
      "\u001b[33m[ WARN] [1678650743.458704315, 2577.504000000]: TF_REPEATED_DATA ignoring data with redundant timestamp for frame odom at time 2577.533000 according to authority /pose_integrator\u001b[0m\n",
      "\u001b[33m[ WARN] [1678650746.979655183, 2577.728000000]: TF_REPEATED_DATA ignoring data with redundant timestamp for frame odom at time 2577.748000 according to authority unknown_publisher\u001b[0m\n",
      "\u001b[33m[ WARN] [1678650746.983913970, 2577.728000000]: TF_REPEATED_DATA ignoring data with redundant timestamp for frame odom at time 2577.748000 according to authority /pose_integrator\u001b[0m\n",
      "\u001b[33m[ WARN] [1678650746.984009733, 2577.728000000]: TF_REPEATED_DATA ignoring data with redundant timestamp for frame odom at time 2577.748000 according to authority /pose_integrator\u001b[0m\n",
      "\u001b[33m[ WARN] [1678650746.984038045, 2577.728000000]: TF_REPEATED_DATA ignoring data with redundant timestamp for frame odom at time 2577.748000 according to authority /pose_integrator\u001b[0m\n",
      "\u001b[33m[ WARN] [1678650746.984061566, 2577.728000000]: TF_REPEATED_DATA ignoring data with redundant timestamp for frame odom at time 2577.748000 according to authority /pose_integrator\u001b[0m\n",
      "\u001b[33m[ WARN] [1678650754.049533263, 2578.504000000]: TF_REPEATED_DATA ignoring data with redundant timestamp for frame odom at time 2578.546000 according to authority unknown_publisher\u001b[0m\n",
      "\u001b[33m[ WARN] [1678650754.054580439, 2578.504000000]: TF_REPEATED_DATA ignoring data with redundant timestamp for frame odom at time 2578.546000 according to authority /pose_integrator\u001b[0m\n",
      "\u001b[33m[ WARN] [1678650754.054633512, 2578.504000000]: TF_REPEATED_DATA ignoring data with redundant timestamp for frame odom at time 2578.546000 according to authority /pose_integrator\u001b[0m\n",
      "\u001b[33m[ WARN] [1678650754.054662917, 2578.504000000]: TF_REPEATED_DATA ignoring data with redundant timestamp for frame odom at time 2578.546000 according to authority /pose_integrator\u001b[0m\n",
      "\u001b[33m[ WARN] [1678650754.054685968, 2578.504000000]: TF_REPEATED_DATA ignoring data with redundant timestamp for frame odom at time 2578.546000 according to authority /pose_integrator\u001b[0m\n"
     ]
    },
    {
     "name": "stderr",
     "output_type": "stream",
     "text": [
      "\u001b[33m[ WARN] [1678650755.089350357, 2578.580000000]: TF_REPEATED_DATA ignoring data with redundant timestamp for frame odom at time 2578.612000 according to authority unknown_publisher\u001b[0m\n",
      "\u001b[33m[ WARN] [1678650755.098828773, 2578.580000000]: TF_REPEATED_DATA ignoring data with redundant timestamp for frame odom at time 2578.612000 according to authority /pose_integrator\u001b[0m\n",
      "\u001b[33m[ WARN] [1678650755.099897369, 2578.580000000]: TF_REPEATED_DATA ignoring data with redundant timestamp for frame odom at time 2578.612000 according to authority /pose_integrator\u001b[0m\n",
      "\u001b[33m[ WARN] [1678650755.100707546, 2578.580000000]: TF_REPEATED_DATA ignoring data with redundant timestamp for frame odom at time 2578.612000 according to authority /pose_integrator\u001b[0m\n",
      "\u001b[33m[ WARN] [1678650755.101056719, 2578.580000000]: TF_REPEATED_DATA ignoring data with redundant timestamp for frame odom at time 2578.612000 according to authority /pose_integrator\u001b[0m\n",
      "\u001b[33m[ WARN] [1678650772.059652112, 2580.172000000]: TF_REPEATED_DATA ignoring data with redundant timestamp for frame odom at time 2580.191000 according to authority /pose_integrator\u001b[0m\n",
      "\u001b[33m[ WARN] [1678650772.059726678, 2580.172000000]: TF_REPEATED_DATA ignoring data with redundant timestamp for frame odom at time 2580.191000 according to authority /pose_integrator\u001b[0m\n",
      "\u001b[33m[ WARN] [1678650772.059755300, 2580.172000000]: TF_REPEATED_DATA ignoring data with redundant timestamp for frame odom at time 2580.191000 according to authority /pose_integrator\u001b[0m\n",
      "\u001b[33m[ WARN] [1678650772.059780914, 2580.172000000]: TF_REPEATED_DATA ignoring data with redundant timestamp for frame odom at time 2580.191000 according to authority /pose_integrator\u001b[0m\n",
      "\u001b[33m[ WARN] [1678650772.060310801, 2580.172000000]: TF_REPEATED_DATA ignoring data with redundant timestamp for frame odom at time 2580.191000 according to authority unknown_publisher\u001b[0m\n",
      "\u001b[33m[ WARN] [1678650794.029593403, 2581.999000000]: TF_REPEATED_DATA ignoring data with redundant timestamp for frame odom at time 2582.041000 according to authority /pose_integrator\u001b[0m\n",
      "\u001b[33m[ WARN] [1678650794.029687243, 2581.999000000]: TF_REPEATED_DATA ignoring data with redundant timestamp for frame odom at time 2582.041000 according to authority /pose_integrator\u001b[0m\n",
      "\u001b[33m[ WARN] [1678650794.029713727, 2581.999000000]: TF_REPEATED_DATA ignoring data with redundant timestamp for frame odom at time 2582.041000 according to authority /pose_integrator\u001b[0m\n",
      "\u001b[33m[ WARN] [1678650794.029747514, 2581.999000000]: TF_REPEATED_DATA ignoring data with redundant timestamp for frame odom at time 2582.041000 according to authority /pose_integrator\u001b[0m\n",
      "\u001b[33m[ WARN] [1678650794.032764242, 2581.999000000]: TF_REPEATED_DATA ignoring data with redundant timestamp for frame odom at time 2582.041000 according to authority unknown_publisher\u001b[0m\n",
      "\u001b[33m[ WARN] [1678650809.392680010, 2583.149000000]: TF_REPEATED_DATA ignoring data with redundant timestamp for frame odom at time 2583.185000 according to authority /pose_integrator\u001b[0m\n",
      "\u001b[33m[ WARN] [1678650809.392767148, 2583.149000000]: TF_REPEATED_DATA ignoring data with redundant timestamp for frame odom at time 2583.185000 according to authority /pose_integrator\u001b[0m\n",
      "\u001b[33m[ WARN] [1678650809.392797128, 2583.149000000]: TF_REPEATED_DATA ignoring data with redundant timestamp for frame odom at time 2583.185000 according to authority /pose_integrator\u001b[0m\n",
      "\u001b[33m[ WARN] [1678650809.392822759, 2583.149000000]: TF_REPEATED_DATA ignoring data with redundant timestamp for frame odom at time 2583.185000 according to authority /pose_integrator\u001b[0m\n",
      "\u001b[33m[ WARN] [1678650809.400003851, 2583.149000000]: TF_REPEATED_DATA ignoring data with redundant timestamp for frame odom at time 2583.185000 according to authority unknown_publisher\u001b[0m\n",
      "\u001b[33m[ WARN] [1678650810.251562456, 2583.204000000]: TF_REPEATED_DATA ignoring data with redundant timestamp for frame odom at time 2583.233000 according to authority /pose_integrator\u001b[0m\n",
      "\u001b[33m[ WARN] [1678650810.251659529, 2583.204000000]: TF_REPEATED_DATA ignoring data with redundant timestamp for frame odom at time 2583.233000 according to authority /pose_integrator\u001b[0m\n",
      "\u001b[33m[ WARN] [1678650810.251687757, 2583.204000000]: TF_REPEATED_DATA ignoring data with redundant timestamp for frame odom at time 2583.233000 according to authority /pose_integrator\u001b[0m\n",
      "\u001b[33m[ WARN] [1678650810.251710706, 2583.204000000]: TF_REPEATED_DATA ignoring data with redundant timestamp for frame odom at time 2583.233000 according to authority /pose_integrator\u001b[0m\n",
      "\u001b[33m[ WARN] [1678650810.256461599, 2583.204000000]: TF_REPEATED_DATA ignoring data with redundant timestamp for frame odom at time 2583.233000 according to authority unknown_publisher\u001b[0m\n",
      "\u001b[33m[ WARN] [1678650813.483793075, 2583.382000000]: TF_REPEATED_DATA ignoring data with redundant timestamp for frame odom at time 2583.411000 according to authority /pose_integrator\u001b[0m\n",
      "\u001b[33m[ WARN] [1678650813.483882367, 2583.382000000]: TF_REPEATED_DATA ignoring data with redundant timestamp for frame odom at time 2583.411000 according to authority /pose_integrator\u001b[0m\n",
      "\u001b[33m[ WARN] [1678650813.483908918, 2583.382000000]: TF_REPEATED_DATA ignoring data with redundant timestamp for frame odom at time 2583.411000 according to authority /pose_integrator\u001b[0m\n",
      "\u001b[33m[ WARN] [1678650813.483933897, 2583.382000000]: TF_REPEATED_DATA ignoring data with redundant timestamp for frame odom at time 2583.411000 according to authority /pose_integrator\u001b[0m\n",
      "\u001b[33m[ WARN] [1678650813.484376210, 2583.382000000]: TF_REPEATED_DATA ignoring data with redundant timestamp for frame odom at time 2583.411000 according to authority unknown_publisher\u001b[0m\n",
      "\u001b[33m[ WARN] [1678650823.905288838, 2584.356000000]: TF_REPEATED_DATA ignoring data with redundant timestamp for frame odom at time 2584.370000 according to authority /pose_integrator\u001b[0m\n",
      "\u001b[33m[ WARN] [1678650823.905332647, 2584.356000000]: TF_REPEATED_DATA ignoring data with redundant timestamp for frame odom at time 2584.370000 according to authority /pose_integrator\u001b[0m\n",
      "\u001b[33m[ WARN] [1678650823.905358064, 2584.356000000]: TF_REPEATED_DATA ignoring data with redundant timestamp for frame odom at time 2584.370000 according to authority /pose_integrator\u001b[0m\n",
      "\u001b[33m[ WARN] [1678650823.905381498, 2584.356000000]: TF_REPEATED_DATA ignoring data with redundant timestamp for frame odom at time 2584.370000 according to authority /pose_integrator\u001b[0m\n",
      "\u001b[33m[ WARN] [1678650823.905798312, 2584.356000000]: TF_REPEATED_DATA ignoring data with redundant timestamp for frame odom at time 2584.370000 according to authority unknown_publisher\u001b[0m\n",
      "\u001b[33m[ WARN] [1678650830.997720919, 2584.887000000]: TF_REPEATED_DATA ignoring data with redundant timestamp for frame odom at time 2584.934000 according to authority /pose_integrator\u001b[0m\n",
      "\u001b[33m[ WARN] [1678650830.997799166, 2584.887000000]: TF_REPEATED_DATA ignoring data with redundant timestamp for frame odom at time 2584.934000 according to authority /pose_integrator\u001b[0m\n",
      "\u001b[33m[ WARN] [1678650830.997829380, 2584.887000000]: TF_REPEATED_DATA ignoring data with redundant timestamp for frame odom at time 2584.934000 according to authority /pose_integrator\u001b[0m\n",
      "\u001b[33m[ WARN] [1678650830.997856624, 2584.887000000]: TF_REPEATED_DATA ignoring data with redundant timestamp for frame odom at time 2584.934000 according to authority /pose_integrator\u001b[0m\n",
      "\u001b[33m[ WARN] [1678650831.007255279, 2584.887000000]: TF_REPEATED_DATA ignoring data with redundant timestamp for frame odom at time 2584.934000 according to authority unknown_publisher\u001b[0m\n",
      "\u001b[33m[ WARN] [1678650846.315694428, 2586.074000000]: TF_REPEATED_DATA ignoring data with redundant timestamp for frame odom at time 2586.107000 according to authority /pose_integrator\u001b[0m\n",
      "\u001b[33m[ WARN] [1678650846.315760429, 2586.074000000]: TF_REPEATED_DATA ignoring data with redundant timestamp for frame odom at time 2586.107000 according to authority /pose_integrator\u001b[0m\n",
      "\u001b[33m[ WARN] [1678650846.315785603, 2586.074000000]: TF_REPEATED_DATA ignoring data with redundant timestamp for frame odom at time 2586.107000 according to authority /pose_integrator\u001b[0m\n",
      "\u001b[33m[ WARN] [1678650846.315807089, 2586.074000000]: TF_REPEATED_DATA ignoring data with redundant timestamp for frame odom at time 2586.107000 according to authority /pose_integrator\u001b[0m\n",
      "\u001b[33m[ WARN] [1678650846.318515550, 2586.074000000]: TF_REPEATED_DATA ignoring data with redundant timestamp for frame odom at time 2586.107000 according to authority unknown_publisher\u001b[0m\n"
     ]
    },
    {
     "name": "stderr",
     "output_type": "stream",
     "text": [
      "\u001b[33m[ WARN] [1678650848.877972662, 2586.216000000]: TF_REPEATED_DATA ignoring data with redundant timestamp for frame odom at time 2586.253000 according to authority unknown_publisher\u001b[0m\n",
      "\u001b[33m[ WARN] [1678650848.881614832, 2586.216000000]: TF_REPEATED_DATA ignoring data with redundant timestamp for frame odom at time 2586.253000 according to authority /pose_integrator\u001b[0m\n",
      "\u001b[33m[ WARN] [1678650848.881665998, 2586.216000000]: TF_REPEATED_DATA ignoring data with redundant timestamp for frame odom at time 2586.253000 according to authority /pose_integrator\u001b[0m\n",
      "\u001b[33m[ WARN] [1678650848.881690206, 2586.216000000]: TF_REPEATED_DATA ignoring data with redundant timestamp for frame odom at time 2586.253000 according to authority /pose_integrator\u001b[0m\n",
      "\u001b[33m[ WARN] [1678650848.881710483, 2586.216000000]: TF_REPEATED_DATA ignoring data with redundant timestamp for frame odom at time 2586.253000 according to authority /pose_integrator\u001b[0m\n",
      "\u001b[33m[ WARN] [1678650864.418415533, 2587.399000000]: TF_REPEATED_DATA ignoring data with redundant timestamp for frame odom at time 2587.419000 according to authority /pose_integrator\u001b[0m\n",
      "\u001b[33m[ WARN] [1678650864.418564533, 2587.399000000]: TF_REPEATED_DATA ignoring data with redundant timestamp for frame odom at time 2587.419000 according to authority /pose_integrator\u001b[0m\n",
      "\u001b[33m[ WARN] [1678650864.418598630, 2587.399000000]: TF_REPEATED_DATA ignoring data with redundant timestamp for frame odom at time 2587.419000 according to authority /pose_integrator\u001b[0m\n",
      "\u001b[33m[ WARN] [1678650864.418629875, 2587.399000000]: TF_REPEATED_DATA ignoring data with redundant timestamp for frame odom at time 2587.419000 according to authority /pose_integrator\u001b[0m\n",
      "\u001b[33m[ WARN] [1678650864.419458337, 2587.399000000]: TF_REPEATED_DATA ignoring data with redundant timestamp for frame odom at time 2587.419000 according to authority unknown_publisher\u001b[0m\n",
      "\u001b[33m[ WARN] [1678650866.926960129, 2587.546000000]: TF_REPEATED_DATA ignoring data with redundant timestamp for frame odom at time 2587.578000 according to authority unknown_publisher\u001b[0m\n",
      "\u001b[33m[ WARN] [1678650866.930481819, 2587.546000000]: TF_REPEATED_DATA ignoring data with redundant timestamp for frame odom at time 2587.578000 according to authority /pose_integrator\u001b[0m\n",
      "\u001b[33m[ WARN] [1678650866.930601964, 2587.546000000]: TF_REPEATED_DATA ignoring data with redundant timestamp for frame odom at time 2587.578000 according to authority /pose_integrator\u001b[0m\n",
      "\u001b[33m[ WARN] [1678650866.930632624, 2587.546000000]: TF_REPEATED_DATA ignoring data with redundant timestamp for frame odom at time 2587.578000 according to authority /pose_integrator\u001b[0m\n",
      "\u001b[33m[ WARN] [1678650866.930660857, 2587.546000000]: TF_REPEATED_DATA ignoring data with redundant timestamp for frame odom at time 2587.578000 according to authority /pose_integrator\u001b[0m\n",
      "\u001b[33m[ WARN] [1678650873.459338157, 2587.971000000]: TF_REPEATED_DATA ignoring data with redundant timestamp for frame odom at time 2588.005000 according to authority unknown_publisher\u001b[0m\n",
      "\u001b[33m[ WARN] [1678650873.469676972, 2587.971000000]: TF_REPEATED_DATA ignoring data with redundant timestamp for frame odom at time 2588.005000 according to authority /pose_integrator\u001b[0m\n",
      "\u001b[33m[ WARN] [1678650873.469809082, 2587.971000000]: TF_REPEATED_DATA ignoring data with redundant timestamp for frame odom at time 2588.005000 according to authority /pose_integrator\u001b[0m\n",
      "\u001b[33m[ WARN] [1678650873.469840808, 2587.971000000]: TF_REPEATED_DATA ignoring data with redundant timestamp for frame odom at time 2588.005000 according to authority /pose_integrator\u001b[0m\n",
      "\u001b[33m[ WARN] [1678650873.469868833, 2587.971000000]: TF_REPEATED_DATA ignoring data with redundant timestamp for frame odom at time 2588.005000 according to authority /pose_integrator\u001b[0m\n",
      "\u001b[33m[ WARN] [1678650880.656746743, 2588.624000000]: TF_REPEATED_DATA ignoring data with redundant timestamp for frame odom at time 2588.650000 according to authority unknown_publisher\u001b[0m\n",
      "\u001b[33m[ WARN] [1678650880.657014855, 2588.624000000]: TF_REPEATED_DATA ignoring data with redundant timestamp for frame odom at time 2588.650000 according to authority /pose_integrator\u001b[0m\n",
      "\u001b[33m[ WARN] [1678650880.657067666, 2588.624000000]: TF_REPEATED_DATA ignoring data with redundant timestamp for frame odom at time 2588.650000 according to authority /pose_integrator\u001b[0m\n",
      "\u001b[33m[ WARN] [1678650880.657095374, 2588.624000000]: TF_REPEATED_DATA ignoring data with redundant timestamp for frame odom at time 2588.650000 according to authority /pose_integrator\u001b[0m\n",
      "\u001b[33m[ WARN] [1678650880.657118234, 2588.624000000]: TF_REPEATED_DATA ignoring data with redundant timestamp for frame odom at time 2588.650000 according to authority /pose_integrator\u001b[0m\n",
      "\u001b[33m[ WARN] [1678650883.431898530, 2588.920000000]: TF_REPEATED_DATA ignoring data with redundant timestamp for frame odom at time 2588.952000 according to authority /pose_integrator\u001b[0m\n",
      "\u001b[33m[ WARN] [1678650883.431941572, 2588.920000000]: TF_REPEATED_DATA ignoring data with redundant timestamp for frame odom at time 2588.952000 according to authority /pose_integrator\u001b[0m\n",
      "\u001b[33m[ WARN] [1678650883.431965118, 2588.920000000]: TF_REPEATED_DATA ignoring data with redundant timestamp for frame odom at time 2588.952000 according to authority /pose_integrator\u001b[0m\n",
      "\u001b[33m[ WARN] [1678650883.431987071, 2588.920000000]: TF_REPEATED_DATA ignoring data with redundant timestamp for frame odom at time 2588.952000 according to authority /pose_integrator\u001b[0m\n",
      "\u001b[33m[ WARN] [1678650883.432303335, 2588.920000000]: TF_REPEATED_DATA ignoring data with redundant timestamp for frame odom at time 2588.952000 according to authority unknown_publisher\u001b[0m\n",
      "\u001b[33m[ WARN] [1678650886.184086079, 2589.135000000]: TF_REPEATED_DATA ignoring data with redundant timestamp for frame odom at time 2589.201000 according to authority /pose_integrator\u001b[0m\n",
      "\u001b[33m[ WARN] [1678650886.184137787, 2589.135000000]: TF_REPEATED_DATA ignoring data with redundant timestamp for frame odom at time 2589.201000 according to authority /pose_integrator\u001b[0m\n",
      "\u001b[33m[ WARN] [1678650886.184166160, 2589.135000000]: TF_REPEATED_DATA ignoring data with redundant timestamp for frame odom at time 2589.201000 according to authority /pose_integrator\u001b[0m\n",
      "\u001b[33m[ WARN] [1678650886.184188481, 2589.135000000]: TF_REPEATED_DATA ignoring data with redundant timestamp for frame odom at time 2589.201000 according to authority /pose_integrator\u001b[0m\n",
      "\u001b[33m[ WARN] [1678650886.184580654, 2589.135000000]: TF_REPEATED_DATA ignoring data with redundant timestamp for frame odom at time 2589.201000 according to authority unknown_publisher\u001b[0m\n",
      "\u001b[33m[ WARN] [1678650888.200374505, 2589.306000000]: TF_REPEATED_DATA ignoring data with redundant timestamp for frame odom at time 2589.337000 according to authority /pose_integrator\u001b[0m\n",
      "\u001b[33m[ WARN] [1678650888.200415118, 2589.306000000]: TF_REPEATED_DATA ignoring data with redundant timestamp for frame odom at time 2589.337000 according to authority /pose_integrator\u001b[0m\n",
      "\u001b[33m[ WARN] [1678650888.200438676, 2589.306000000]: TF_REPEATED_DATA ignoring data with redundant timestamp for frame odom at time 2589.337000 according to authority /pose_integrator\u001b[0m\n",
      "\u001b[33m[ WARN] [1678650888.200464741, 2589.306000000]: TF_REPEATED_DATA ignoring data with redundant timestamp for frame odom at time 2589.337000 according to authority /pose_integrator\u001b[0m\n",
      "\u001b[33m[ WARN] [1678650888.200848985, 2589.306000000]: TF_REPEATED_DATA ignoring data with redundant timestamp for frame odom at time 2589.337000 according to authority unknown_publisher\u001b[0m\n",
      "\u001b[33m[ WARN] [1678650898.457069051, 2590.108000000]: TF_REPEATED_DATA ignoring data with redundant timestamp for frame odom at time 2590.140000 according to authority /pose_integrator\u001b[0m\n",
      "\u001b[33m[ WARN] [1678650898.457164375, 2590.108000000]: TF_REPEATED_DATA ignoring data with redundant timestamp for frame odom at time 2590.140000 according to authority /pose_integrator\u001b[0m\n",
      "\u001b[33m[ WARN] [1678650898.457196187, 2590.108000000]: TF_REPEATED_DATA ignoring data with redundant timestamp for frame odom at time 2590.140000 according to authority /pose_integrator\u001b[0m\n",
      "\u001b[33m[ WARN] [1678650898.457225101, 2590.108000000]: TF_REPEATED_DATA ignoring data with redundant timestamp for frame odom at time 2590.140000 according to authority /pose_integrator\u001b[0m\n",
      "\u001b[33m[ WARN] [1678650898.461342087, 2590.108000000]: TF_REPEATED_DATA ignoring data with redundant timestamp for frame odom at time 2590.140000 according to authority unknown_publisher\u001b[0m\n"
     ]
    },
    {
     "name": "stderr",
     "output_type": "stream",
     "text": [
      "\u001b[33m[ WARN] [1678650906.612541460, 2590.786000000]: TF_REPEATED_DATA ignoring data with redundant timestamp for frame odom at time 2590.815000 according to authority /pose_integrator\u001b[0m\n",
      "\u001b[33m[ WARN] [1678650906.612610413, 2590.786000000]: TF_REPEATED_DATA ignoring data with redundant timestamp for frame odom at time 2590.815000 according to authority /pose_integrator\u001b[0m\n",
      "\u001b[33m[ WARN] [1678650906.612637208, 2590.786000000]: TF_REPEATED_DATA ignoring data with redundant timestamp for frame odom at time 2590.815000 according to authority /pose_integrator\u001b[0m\n",
      "\u001b[33m[ WARN] [1678650906.612662640, 2590.786000000]: TF_REPEATED_DATA ignoring data with redundant timestamp for frame odom at time 2590.815000 according to authority /pose_integrator\u001b[0m\n",
      "\u001b[33m[ WARN] [1678650906.613373175, 2590.786000000]: TF_REPEATED_DATA ignoring data with redundant timestamp for frame odom at time 2590.815000 according to authority unknown_publisher\u001b[0m\n",
      "\u001b[33m[ WARN] [1678650911.042592256, 2591.060000000]: TF_REPEATED_DATA ignoring data with redundant timestamp for frame odom at time 2591.133000 according to authority unknown_publisher\u001b[0m\n",
      "\u001b[33m[ WARN] [1678650911.042890840, 2591.060000000]: TF_REPEATED_DATA ignoring data with redundant timestamp for frame odom at time 2591.133000 according to authority /pose_integrator\u001b[0m\n",
      "\u001b[33m[ WARN] [1678650911.042985587, 2591.060000000]: TF_REPEATED_DATA ignoring data with redundant timestamp for frame odom at time 2591.133000 according to authority /pose_integrator\u001b[0m\n",
      "\u001b[33m[ WARN] [1678650911.043041493, 2591.060000000]: TF_REPEATED_DATA ignoring data with redundant timestamp for frame odom at time 2591.133000 according to authority /pose_integrator\u001b[0m\n",
      "\u001b[33m[ WARN] [1678650911.043070341, 2591.060000000]: TF_REPEATED_DATA ignoring data with redundant timestamp for frame odom at time 2591.133000 according to authority /pose_integrator\u001b[0m\n",
      "\u001b[33m[ WARN] [1678650925.344421287, 2592.265000000]: TF_REPEATED_DATA ignoring data with redundant timestamp for frame odom at time 2592.321000 according to authority /pose_integrator\u001b[0m\n",
      "\u001b[33m[ WARN] [1678650925.344474059, 2592.265000000]: TF_REPEATED_DATA ignoring data with redundant timestamp for frame odom at time 2592.321000 according to authority /pose_integrator\u001b[0m\n",
      "\u001b[33m[ WARN] [1678650925.344500475, 2592.265000000]: TF_REPEATED_DATA ignoring data with redundant timestamp for frame odom at time 2592.321000 according to authority /pose_integrator\u001b[0m\n",
      "\u001b[33m[ WARN] [1678650925.344523165, 2592.265000000]: TF_REPEATED_DATA ignoring data with redundant timestamp for frame odom at time 2592.321000 according to authority /pose_integrator\u001b[0m\n",
      "\u001b[33m[ WARN] [1678650925.344653239, 2592.265000000]: TF_REPEATED_DATA ignoring data with redundant timestamp for frame odom at time 2592.321000 according to authority unknown_publisher\u001b[0m\n",
      "\u001b[33m[ WARN] [1678650927.538666100, 2592.425000000]: TF_REPEATED_DATA ignoring data with redundant timestamp for frame odom at time 2592.462000 according to authority /pose_integrator\u001b[0m\n",
      "\u001b[33m[ WARN] [1678650927.538710965, 2592.425000000]: TF_REPEATED_DATA ignoring data with redundant timestamp for frame odom at time 2592.462000 according to authority /pose_integrator\u001b[0m\n",
      "\u001b[33m[ WARN] [1678650927.538737315, 2592.425000000]: TF_REPEATED_DATA ignoring data with redundant timestamp for frame odom at time 2592.462000 according to authority /pose_integrator\u001b[0m\n",
      "\u001b[33m[ WARN] [1678650927.538757817, 2592.425000000]: TF_REPEATED_DATA ignoring data with redundant timestamp for frame odom at time 2592.462000 according to authority /pose_integrator\u001b[0m\n",
      "\u001b[33m[ WARN] [1678650927.539024900, 2592.425000000]: TF_REPEATED_DATA ignoring data with redundant timestamp for frame odom at time 2592.462000 according to authority unknown_publisher\u001b[0m\n",
      "\u001b[33m[ WARN] [1678650940.088451070, 2593.456000000]: TF_REPEATED_DATA ignoring data with redundant timestamp for frame odom at time 2593.479000 according to authority unknown_publisher\u001b[0m\n",
      "\u001b[33m[ WARN] [1678650940.108388501, 2593.479000000]: TF_REPEATED_DATA ignoring data with redundant timestamp for frame odom at time 2593.479000 according to authority /pose_integrator\u001b[0m\n",
      "\u001b[33m[ WARN] [1678650940.108584813, 2593.479000000]: TF_REPEATED_DATA ignoring data with redundant timestamp for frame odom at time 2593.479000 according to authority /pose_integrator\u001b[0m\n",
      "\u001b[33m[ WARN] [1678650940.108674283, 2593.479000000]: TF_REPEATED_DATA ignoring data with redundant timestamp for frame odom at time 2593.479000 according to authority /pose_integrator\u001b[0m\n",
      "\u001b[33m[ WARN] [1678650940.108761430, 2593.479000000]: TF_REPEATED_DATA ignoring data with redundant timestamp for frame odom at time 2593.479000 according to authority /pose_integrator\u001b[0m\n",
      "\u001b[33m[ WARN] [1678650975.407386381, 2596.148000000]: TF_REPEATED_DATA ignoring data with redundant timestamp for frame odom at time 2596.229000 according to authority /pose_integrator\u001b[0m\n",
      "\u001b[33m[ WARN] [1678650975.407470145, 2596.148000000]: TF_REPEATED_DATA ignoring data with redundant timestamp for frame odom at time 2596.229000 according to authority /pose_integrator\u001b[0m\n",
      "\u001b[33m[ WARN] [1678650975.407515592, 2596.148000000]: TF_REPEATED_DATA ignoring data with redundant timestamp for frame odom at time 2596.229000 according to authority /pose_integrator\u001b[0m\n",
      "\u001b[33m[ WARN] [1678650975.407544331, 2596.148000000]: TF_REPEATED_DATA ignoring data with redundant timestamp for frame odom at time 2596.229000 according to authority /pose_integrator\u001b[0m\n",
      "\u001b[33m[ WARN] [1678650975.413810346, 2596.148000000]: TF_REPEATED_DATA ignoring data with redundant timestamp for frame odom at time 2596.229000 according to authority unknown_publisher\u001b[0m\n",
      "\u001b[33m[ WARN] [1678650980.084303781, 2596.482000000]: TF_REPEATED_DATA ignoring data with redundant timestamp for frame odom at time 2596.538000 according to authority /pose_integrator\u001b[0m\n",
      "\u001b[33m[ WARN] [1678650980.084380194, 2596.482000000]: TF_REPEATED_DATA ignoring data with redundant timestamp for frame odom at time 2596.538000 according to authority /pose_integrator\u001b[0m\n",
      "\u001b[33m[ WARN] [1678650980.084412146, 2596.482000000]: TF_REPEATED_DATA ignoring data with redundant timestamp for frame odom at time 2596.538000 according to authority /pose_integrator\u001b[0m\n",
      "\u001b[33m[ WARN] [1678650980.084440246, 2596.482000000]: TF_REPEATED_DATA ignoring data with redundant timestamp for frame odom at time 2596.538000 according to authority /pose_integrator\u001b[0m\n",
      "\u001b[33m[ WARN] [1678650980.086606724, 2596.482000000]: TF_REPEATED_DATA ignoring data with redundant timestamp for frame odom at time 2596.538000 according to authority unknown_publisher\u001b[0m\n",
      "\u001b[33m[ WARN] [1678650993.534666835, 2597.477000000]: TF_REPEATED_DATA ignoring data with redundant timestamp for frame odom at time 2597.549000 according to authority unknown_publisher\u001b[0m\n",
      "\u001b[33m[ WARN] [1678650993.539653781, 2597.477000000]: TF_REPEATED_DATA ignoring data with redundant timestamp for frame odom at time 2597.549000 according to authority /pose_integrator\u001b[0m\n",
      "\u001b[33m[ WARN] [1678650993.539736055, 2597.477000000]: TF_REPEATED_DATA ignoring data with redundant timestamp for frame odom at time 2597.549000 according to authority /pose_integrator\u001b[0m\n",
      "\u001b[33m[ WARN] [1678650993.539767849, 2597.477000000]: TF_REPEATED_DATA ignoring data with redundant timestamp for frame odom at time 2597.549000 according to authority /pose_integrator\u001b[0m\n",
      "\u001b[33m[ WARN] [1678650993.539792495, 2597.477000000]: TF_REPEATED_DATA ignoring data with redundant timestamp for frame odom at time 2597.549000 according to authority /pose_integrator\u001b[0m\n",
      "\u001b[33m[ WARN] [1678650994.279450111, 2597.558000000]: TF_REPEATED_DATA ignoring data with redundant timestamp for frame odom at time 2597.616000 according to authority /pose_integrator\u001b[0m\n",
      "\u001b[33m[ WARN] [1678650994.279555521, 2597.558000000]: TF_REPEATED_DATA ignoring data with redundant timestamp for frame odom at time 2597.616000 according to authority /pose_integrator\u001b[0m\n",
      "\u001b[33m[ WARN] [1678650994.279582492, 2597.558000000]: TF_REPEATED_DATA ignoring data with redundant timestamp for frame odom at time 2597.616000 according to authority /pose_integrator\u001b[0m\n",
      "\u001b[33m[ WARN] [1678650994.279606435, 2597.558000000]: TF_REPEATED_DATA ignoring data with redundant timestamp for frame odom at time 2597.616000 according to authority /pose_integrator\u001b[0m\n",
      "\u001b[33m[ WARN] [1678650994.281793090, 2597.558000000]: TF_REPEATED_DATA ignoring data with redundant timestamp for frame odom at time 2597.616000 according to authority unknown_publisher\u001b[0m\n"
     ]
    },
    {
     "name": "stderr",
     "output_type": "stream",
     "text": [
      "\u001b[33m[ WARN] [1678651004.655270859, 2598.360000000]: TF_REPEATED_DATA ignoring data with redundant timestamp for frame odom at time 2598.382000 according to authority /pose_integrator\u001b[0m\n",
      "\u001b[33m[ WARN] [1678651004.655346713, 2598.360000000]: TF_REPEATED_DATA ignoring data with redundant timestamp for frame odom at time 2598.382000 according to authority /pose_integrator\u001b[0m\n",
      "\u001b[33m[ WARN] [1678651004.655374285, 2598.360000000]: TF_REPEATED_DATA ignoring data with redundant timestamp for frame odom at time 2598.382000 according to authority /pose_integrator\u001b[0m\n",
      "\u001b[33m[ WARN] [1678651004.655399785, 2598.360000000]: TF_REPEATED_DATA ignoring data with redundant timestamp for frame odom at time 2598.382000 according to authority /pose_integrator\u001b[0m\n",
      "\u001b[33m[ WARN] [1678651004.657174537, 2598.360000000]: TF_REPEATED_DATA ignoring data with redundant timestamp for frame odom at time 2598.382000 according to authority unknown_publisher\u001b[0m\n",
      "\u001b[33m[ WARN] [1678651007.369947035, 2598.602000000]: TF_REPEATED_DATA ignoring data with redundant timestamp for frame odom at time 2598.635000 according to authority /pose_integrator\u001b[0m\n",
      "\u001b[33m[ WARN] [1678651007.370159484, 2598.602000000]: TF_REPEATED_DATA ignoring data with redundant timestamp for frame odom at time 2598.635000 according to authority /pose_integrator\u001b[0m\n",
      "\u001b[33m[ WARN] [1678651007.370220103, 2598.602000000]: TF_REPEATED_DATA ignoring data with redundant timestamp for frame odom at time 2598.635000 according to authority /pose_integrator\u001b[0m\n",
      "\u001b[33m[ WARN] [1678651007.370262821, 2598.602000000]: TF_REPEATED_DATA ignoring data with redundant timestamp for frame odom at time 2598.635000 according to authority /pose_integrator\u001b[0m\n",
      "\u001b[33m[ WARN] [1678651007.371064048, 2598.602000000]: TF_REPEATED_DATA ignoring data with redundant timestamp for frame odom at time 2598.635000 according to authority unknown_publisher\u001b[0m\n",
      "\u001b[33m[ WARN] [1678651012.903618921, 2599.084000000]: TF_REPEATED_DATA ignoring data with redundant timestamp for frame odom at time 2599.143000 according to authority /pose_integrator\u001b[0m\n",
      "\u001b[33m[ WARN] [1678651012.903747335, 2599.084000000]: TF_REPEATED_DATA ignoring data with redundant timestamp for frame odom at time 2599.143000 according to authority /pose_integrator\u001b[0m\n",
      "\u001b[33m[ WARN] [1678651012.903805275, 2599.084000000]: TF_REPEATED_DATA ignoring data with redundant timestamp for frame odom at time 2599.143000 according to authority /pose_integrator\u001b[0m\n",
      "\u001b[33m[ WARN] [1678651012.903851567, 2599.084000000]: TF_REPEATED_DATA ignoring data with redundant timestamp for frame odom at time 2599.143000 according to authority /pose_integrator\u001b[0m\n",
      "\u001b[33m[ WARN] [1678651012.906960806, 2599.084000000]: TF_REPEATED_DATA ignoring data with redundant timestamp for frame odom at time 2599.143000 according to authority unknown_publisher\u001b[0m\n",
      "\u001b[33m[ WARN] [1678651020.917583340, 2599.748000000]: TF_REPEATED_DATA ignoring data with redundant timestamp for frame odom at time 2599.779000 according to authority /pose_integrator\u001b[0m\n",
      "\u001b[33m[ WARN] [1678651020.917694290, 2599.748000000]: TF_REPEATED_DATA ignoring data with redundant timestamp for frame odom at time 2599.779000 according to authority /pose_integrator\u001b[0m\n",
      "\u001b[33m[ WARN] [1678651020.917728865, 2599.748000000]: TF_REPEATED_DATA ignoring data with redundant timestamp for frame odom at time 2599.779000 according to authority /pose_integrator\u001b[0m\n",
      "\u001b[33m[ WARN] [1678651020.917757772, 2599.748000000]: TF_REPEATED_DATA ignoring data with redundant timestamp for frame odom at time 2599.779000 according to authority /pose_integrator\u001b[0m\n",
      "\u001b[33m[ WARN] [1678651020.922566227, 2599.748000000]: TF_REPEATED_DATA ignoring data with redundant timestamp for frame odom at time 2599.779000 according to authority unknown_publisher\u001b[0m\n",
      "\u001b[33m[ WARN] [1678651039.803343091, 2601.122000000]: TF_REPEATED_DATA ignoring data with redundant timestamp for frame odom at time 2601.211000 according to authority unknown_publisher\u001b[0m\n",
      "\u001b[33m[ WARN] [1678651039.804221795, 2601.122000000]: TF_REPEATED_DATA ignoring data with redundant timestamp for frame odom at time 2601.211000 according to authority /pose_integrator\u001b[0m\n",
      "\u001b[33m[ WARN] [1678651039.804305507, 2601.122000000]: TF_REPEATED_DATA ignoring data with redundant timestamp for frame odom at time 2601.211000 according to authority /pose_integrator\u001b[0m\n",
      "\u001b[33m[ WARN] [1678651039.804337180, 2601.122000000]: TF_REPEATED_DATA ignoring data with redundant timestamp for frame odom at time 2601.211000 according to authority /pose_integrator\u001b[0m\n",
      "\u001b[33m[ WARN] [1678651039.804364315, 2601.122000000]: TF_REPEATED_DATA ignoring data with redundant timestamp for frame odom at time 2601.211000 according to authority /pose_integrator\u001b[0m\n",
      "\u001b[33m[ WARN] [1678651057.652830761, 2602.480000000]: TF_REPEATED_DATA ignoring data with redundant timestamp for frame odom at time 2602.498000 according to authority /pose_integrator\u001b[0m\n",
      "\u001b[33m[ WARN] [1678651057.652902865, 2602.480000000]: TF_REPEATED_DATA ignoring data with redundant timestamp for frame odom at time 2602.498000 according to authority /pose_integrator\u001b[0m\n",
      "\u001b[33m[ WARN] [1678651057.652937772, 2602.480000000]: TF_REPEATED_DATA ignoring data with redundant timestamp for frame odom at time 2602.498000 according to authority /pose_integrator\u001b[0m\n",
      "\u001b[33m[ WARN] [1678651057.652962202, 2602.480000000]: TF_REPEATED_DATA ignoring data with redundant timestamp for frame odom at time 2602.498000 according to authority /pose_integrator\u001b[0m\n",
      "\u001b[33m[ WARN] [1678651057.653746695, 2602.480000000]: TF_REPEATED_DATA ignoring data with redundant timestamp for frame odom at time 2602.498000 according to authority unknown_publisher\u001b[0m\n",
      "\u001b[33m[ WARN] [1678651076.320050464, 2603.960000000]: TF_REPEATED_DATA ignoring data with redundant timestamp for frame odom at time 2603.999000 according to authority /pose_integrator\u001b[0m\n",
      "\u001b[33m[ WARN] [1678651076.320157944, 2603.960000000]: TF_REPEATED_DATA ignoring data with redundant timestamp for frame odom at time 2603.999000 according to authority /pose_integrator\u001b[0m\n",
      "\u001b[33m[ WARN] [1678651076.320187824, 2603.960000000]: TF_REPEATED_DATA ignoring data with redundant timestamp for frame odom at time 2603.999000 according to authority /pose_integrator\u001b[0m\n",
      "\u001b[33m[ WARN] [1678651076.320214094, 2603.960000000]: TF_REPEATED_DATA ignoring data with redundant timestamp for frame odom at time 2603.999000 according to authority /pose_integrator\u001b[0m\n",
      "\u001b[33m[ WARN] [1678651076.320998864, 2603.960000000]: TF_REPEATED_DATA ignoring data with redundant timestamp for frame odom at time 2603.999000 according to authority unknown_publisher\u001b[0m\n",
      "\u001b[33m[ WARN] [1678651095.114048818, 2605.544000000]: TF_REPEATED_DATA ignoring data with redundant timestamp for frame odom at time 2605.638000 according to authority /pose_integrator\u001b[0m\n",
      "\u001b[33m[ WARN] [1678651095.114132112, 2605.544000000]: TF_REPEATED_DATA ignoring data with redundant timestamp for frame odom at time 2605.638000 according to authority /pose_integrator\u001b[0m\n",
      "\u001b[33m[ WARN] [1678651095.114176636, 2605.544000000]: TF_REPEATED_DATA ignoring data with redundant timestamp for frame odom at time 2605.638000 according to authority /pose_integrator\u001b[0m\n",
      "\u001b[33m[ WARN] [1678651095.114217107, 2605.544000000]: TF_REPEATED_DATA ignoring data with redundant timestamp for frame odom at time 2605.638000 according to authority /pose_integrator\u001b[0m\n",
      "\u001b[33m[ WARN] [1678651095.114658690, 2605.544000000]: TF_REPEATED_DATA ignoring data with redundant timestamp for frame odom at time 2605.638000 according to authority unknown_publisher\u001b[0m\n",
      "\u001b[33m[ WARN] [1678651111.557096010, 2606.778000000]: TF_REPEATED_DATA ignoring data with redundant timestamp for frame odom at time 2606.826000 according to authority /pose_integrator\u001b[0m\n",
      "\u001b[33m[ WARN] [1678651111.557186499, 2606.778000000]: TF_REPEATED_DATA ignoring data with redundant timestamp for frame odom at time 2606.826000 according to authority /pose_integrator\u001b[0m\n",
      "\u001b[33m[ WARN] [1678651111.557229680, 2606.778000000]: TF_REPEATED_DATA ignoring data with redundant timestamp for frame odom at time 2606.826000 according to authority /pose_integrator\u001b[0m\n",
      "\u001b[33m[ WARN] [1678651111.557273995, 2606.778000000]: TF_REPEATED_DATA ignoring data with redundant timestamp for frame odom at time 2606.826000 according to authority /pose_integrator\u001b[0m\n",
      "\u001b[33m[ WARN] [1678651111.558488202, 2606.778000000]: TF_REPEATED_DATA ignoring data with redundant timestamp for frame odom at time 2606.826000 according to authority unknown_publisher\u001b[0m\n"
     ]
    },
    {
     "name": "stderr",
     "output_type": "stream",
     "text": [
      "\u001b[33m[ WARN] [1678651120.647477425, 2607.456000000]: TF_REPEATED_DATA ignoring data with redundant timestamp for frame odom at time 2607.485000 according to authority unknown_publisher\u001b[0m\n",
      "\u001b[33m[ WARN] [1678651120.647705044, 2607.456000000]: TF_REPEATED_DATA ignoring data with redundant timestamp for frame odom at time 2607.485000 according to authority /pose_integrator\u001b[0m\n",
      "\u001b[33m[ WARN] [1678651120.647923487, 2607.456000000]: TF_REPEATED_DATA ignoring data with redundant timestamp for frame odom at time 2607.485000 according to authority /pose_integrator\u001b[0m\n",
      "\u001b[33m[ WARN] [1678651120.647957111, 2607.456000000]: TF_REPEATED_DATA ignoring data with redundant timestamp for frame odom at time 2607.485000 according to authority /pose_integrator\u001b[0m\n",
      "\u001b[33m[ WARN] [1678651120.648010542, 2607.456000000]: TF_REPEATED_DATA ignoring data with redundant timestamp for frame odom at time 2607.485000 according to authority /pose_integrator\u001b[0m\n",
      "\u001b[33m[ WARN] [1678651124.356341420, 2607.651000000]: TF_REPEATED_DATA ignoring data with redundant timestamp for frame odom at time 2607.700000 according to authority /pose_integrator\u001b[0m\n",
      "\u001b[33m[ WARN] [1678651124.356471660, 2607.651000000]: TF_REPEATED_DATA ignoring data with redundant timestamp for frame odom at time 2607.700000 according to authority /pose_integrator\u001b[0m\n",
      "\u001b[33m[ WARN] [1678651124.356508440, 2607.651000000]: TF_REPEATED_DATA ignoring data with redundant timestamp for frame odom at time 2607.700000 according to authority /pose_integrator\u001b[0m\n",
      "\u001b[33m[ WARN] [1678651124.356540301, 2607.651000000]: TF_REPEATED_DATA ignoring data with redundant timestamp for frame odom at time 2607.700000 according to authority /pose_integrator\u001b[0m\n",
      "\u001b[33m[ WARN] [1678651124.361705335, 2607.651000000]: TF_REPEATED_DATA ignoring data with redundant timestamp for frame odom at time 2607.700000 according to authority unknown_publisher\u001b[0m\n",
      "\u001b[33m[ WARN] [1678651135.327325515, 2608.414000000]: TF_REPEATED_DATA ignoring data with redundant timestamp for frame odom at time 2608.431000 according to authority /pose_integrator\u001b[0m\n",
      "\u001b[33m[ WARN] [1678651135.327450510, 2608.414000000]: TF_REPEATED_DATA ignoring data with redundant timestamp for frame odom at time 2608.431000 according to authority /pose_integrator\u001b[0m\n",
      "\u001b[33m[ WARN] [1678651135.327484420, 2608.414000000]: TF_REPEATED_DATA ignoring data with redundant timestamp for frame odom at time 2608.431000 according to authority /pose_integrator\u001b[0m\n",
      "\u001b[33m[ WARN] [1678651135.327511381, 2608.414000000]: TF_REPEATED_DATA ignoring data with redundant timestamp for frame odom at time 2608.431000 according to authority /pose_integrator\u001b[0m\n",
      "\u001b[33m[ WARN] [1678651135.334738467, 2608.414000000]: TF_REPEATED_DATA ignoring data with redundant timestamp for frame odom at time 2608.431000 according to authority unknown_publisher\u001b[0m\n",
      "\u001b[33m[ WARN] [1678651140.235991981, 2608.838000000]: TF_REPEATED_DATA ignoring data with redundant timestamp for frame odom at time 2608.858000 according to authority unknown_publisher\u001b[0m\n",
      "\u001b[33m[ WARN] [1678651140.236874327, 2608.838000000]: TF_REPEATED_DATA ignoring data with redundant timestamp for frame odom at time 2608.858000 according to authority /pose_integrator\u001b[0m\n",
      "\u001b[33m[ WARN] [1678651140.236913532, 2608.838000000]: TF_REPEATED_DATA ignoring data with redundant timestamp for frame odom at time 2608.858000 according to authority /pose_integrator\u001b[0m\n",
      "\u001b[33m[ WARN] [1678651140.236937787, 2608.838000000]: TF_REPEATED_DATA ignoring data with redundant timestamp for frame odom at time 2608.858000 according to authority /pose_integrator\u001b[0m\n",
      "\u001b[33m[ WARN] [1678651140.236960069, 2608.838000000]: TF_REPEATED_DATA ignoring data with redundant timestamp for frame odom at time 2608.858000 according to authority /pose_integrator\u001b[0m\n",
      "\u001b[33m[ WARN] [1678651155.405747219, 2610.372000000]: TF_REPEATED_DATA ignoring data with redundant timestamp for frame odom at time 2610.420000 according to authority /pose_integrator\u001b[0m\n",
      "\u001b[33m[ WARN] [1678651155.405833432, 2610.372000000]: TF_REPEATED_DATA ignoring data with redundant timestamp for frame odom at time 2610.420000 according to authority /pose_integrator\u001b[0m\n",
      "\u001b[33m[ WARN] [1678651155.405865203, 2610.372000000]: TF_REPEATED_DATA ignoring data with redundant timestamp for frame odom at time 2610.420000 according to authority /pose_integrator\u001b[0m\n",
      "\u001b[33m[ WARN] [1678651155.405893132, 2610.372000000]: TF_REPEATED_DATA ignoring data with redundant timestamp for frame odom at time 2610.420000 according to authority /pose_integrator\u001b[0m\n",
      "\u001b[33m[ WARN] [1678651155.406122603, 2610.372000000]: TF_REPEATED_DATA ignoring data with redundant timestamp for frame odom at time 2610.420000 according to authority unknown_publisher\u001b[0m\n",
      "\u001b[33m[ WARN] [1678651158.943248163, 2610.584000000]: TF_REPEATED_DATA ignoring data with redundant timestamp for frame odom at time 2610.620000 according to authority /pose_integrator\u001b[0m\n",
      "\u001b[33m[ WARN] [1678651158.943310672, 2610.584000000]: TF_REPEATED_DATA ignoring data with redundant timestamp for frame odom at time 2610.620000 according to authority /pose_integrator\u001b[0m\n",
      "\u001b[33m[ WARN] [1678651158.943415819, 2610.584000000]: TF_REPEATED_DATA ignoring data with redundant timestamp for frame odom at time 2610.620000 according to authority /pose_integrator\u001b[0m\n",
      "\u001b[33m[ WARN] [1678651158.943527676, 2610.584000000]: TF_REPEATED_DATA ignoring data with redundant timestamp for frame odom at time 2610.620000 according to authority /pose_integrator\u001b[0m\n",
      "\u001b[33m[ WARN] [1678651158.944586412, 2610.584000000]: TF_REPEATED_DATA ignoring data with redundant timestamp for frame odom at time 2610.620000 according to authority unknown_publisher\u001b[0m\n",
      "\u001b[33m[ WARN] [1678651165.398946689, 2611.067000000]: TF_REPEATED_DATA ignoring data with redundant timestamp for frame odom at time 2611.149000 according to authority /pose_integrator\u001b[0m\n",
      "\u001b[33m[ WARN] [1678651165.399036320, 2611.067000000]: TF_REPEATED_DATA ignoring data with redundant timestamp for frame odom at time 2611.149000 according to authority /pose_integrator\u001b[0m\n",
      "\u001b[33m[ WARN] [1678651165.399077949, 2611.067000000]: TF_REPEATED_DATA ignoring data with redundant timestamp for frame odom at time 2611.149000 according to authority /pose_integrator\u001b[0m\n",
      "\u001b[33m[ WARN] [1678651165.399107192, 2611.067000000]: TF_REPEATED_DATA ignoring data with redundant timestamp for frame odom at time 2611.149000 according to authority /pose_integrator\u001b[0m\n",
      "\u001b[33m[ WARN] [1678651165.399263073, 2611.067000000]: TF_REPEATED_DATA ignoring data with redundant timestamp for frame odom at time 2611.149000 according to authority unknown_publisher\u001b[0m\n",
      "\u001b[33m[ WARN] [1678651190.154075204, 2613.147000000]: TF_REPEATED_DATA ignoring data with redundant timestamp for frame odom at time 2613.231000 according to authority /pose_integrator\u001b[0m\n",
      "\u001b[33m[ WARN] [1678651190.154173178, 2613.147000000]: TF_REPEATED_DATA ignoring data with redundant timestamp for frame odom at time 2613.231000 according to authority /pose_integrator\u001b[0m\n",
      "\u001b[33m[ WARN] [1678651190.154201302, 2613.147000000]: TF_REPEATED_DATA ignoring data with redundant timestamp for frame odom at time 2613.231000 according to authority /pose_integrator\u001b[0m\n",
      "\u001b[33m[ WARN] [1678651190.154223816, 2613.147000000]: TF_REPEATED_DATA ignoring data with redundant timestamp for frame odom at time 2613.231000 according to authority /pose_integrator\u001b[0m\n",
      "\u001b[33m[ WARN] [1678651190.156341957, 2613.147000000]: TF_REPEATED_DATA ignoring data with redundant timestamp for frame odom at time 2613.231000 according to authority unknown_publisher\u001b[0m\n",
      "\u001b[33m[ WARN] [1678651194.342844787, 2613.531000000]: TF_REPEATED_DATA ignoring data with redundant timestamp for frame odom at time 2613.567000 according to authority /pose_integrator\u001b[0m\n",
      "\u001b[33m[ WARN] [1678651194.342967110, 2613.531000000]: TF_REPEATED_DATA ignoring data with redundant timestamp for frame odom at time 2613.567000 according to authority /pose_integrator\u001b[0m\n",
      "\u001b[33m[ WARN] [1678651194.343002280, 2613.531000000]: TF_REPEATED_DATA ignoring data with redundant timestamp for frame odom at time 2613.567000 according to authority /pose_integrator\u001b[0m\n",
      "\u001b[33m[ WARN] [1678651194.343032572, 2613.531000000]: TF_REPEATED_DATA ignoring data with redundant timestamp for frame odom at time 2613.567000 according to authority /pose_integrator\u001b[0m\n",
      "\u001b[33m[ WARN] [1678651194.348938229, 2613.531000000]: TF_REPEATED_DATA ignoring data with redundant timestamp for frame odom at time 2613.567000 according to authority unknown_publisher\u001b[0m\n"
     ]
    },
    {
     "name": "stderr",
     "output_type": "stream",
     "text": [
      "\u001b[33m[ WARN] [1678651196.840652494, 2613.682000000]: TF_REPEATED_DATA ignoring data with redundant timestamp for frame odom at time 2613.738000 according to authority /pose_integrator\u001b[0m\n",
      "\u001b[33m[ WARN] [1678651196.840772936, 2613.682000000]: TF_REPEATED_DATA ignoring data with redundant timestamp for frame odom at time 2613.738000 according to authority /pose_integrator\u001b[0m\n",
      "\u001b[33m[ WARN] [1678651196.840827944, 2613.682000000]: TF_REPEATED_DATA ignoring data with redundant timestamp for frame odom at time 2613.738000 according to authority /pose_integrator\u001b[0m\n",
      "\u001b[33m[ WARN] [1678651196.840872535, 2613.682000000]: TF_REPEATED_DATA ignoring data with redundant timestamp for frame odom at time 2613.738000 according to authority /pose_integrator\u001b[0m\n",
      "\u001b[33m[ WARN] [1678651196.842667043, 2613.682000000]: TF_REPEATED_DATA ignoring data with redundant timestamp for frame odom at time 2613.738000 according to authority unknown_publisher\u001b[0m\n",
      "\u001b[33m[ WARN] [1678651207.392240249, 2614.536000000]: TF_REPEATED_DATA ignoring data with redundant timestamp for frame odom at time 2614.572000 according to authority /pose_integrator\u001b[0m\n",
      "\u001b[33m[ WARN] [1678651207.392320928, 2614.536000000]: TF_REPEATED_DATA ignoring data with redundant timestamp for frame odom at time 2614.572000 according to authority /pose_integrator\u001b[0m\n",
      "\u001b[33m[ WARN] [1678651207.392355371, 2614.536000000]: TF_REPEATED_DATA ignoring data with redundant timestamp for frame odom at time 2614.572000 according to authority /pose_integrator\u001b[0m\n",
      "\u001b[33m[ WARN] [1678651207.392397858, 2614.536000000]: TF_REPEATED_DATA ignoring data with redundant timestamp for frame odom at time 2614.572000 according to authority /pose_integrator\u001b[0m\n",
      "\u001b[33m[ WARN] [1678651207.392636780, 2614.536000000]: TF_REPEATED_DATA ignoring data with redundant timestamp for frame odom at time 2614.572000 according to authority unknown_publisher\u001b[0m\n",
      "\u001b[33m[ WARN] [1678651222.583020263, 2615.902000000]: TF_REPEATED_DATA ignoring data with redundant timestamp for frame odom at time 2616.002000 according to authority /pose_integrator\u001b[0m\n",
      "\u001b[33m[ WARN] [1678651222.583072831, 2615.902000000]: TF_REPEATED_DATA ignoring data with redundant timestamp for frame odom at time 2616.002000 according to authority /pose_integrator\u001b[0m\n",
      "\u001b[33m[ WARN] [1678651222.583099158, 2615.902000000]: TF_REPEATED_DATA ignoring data with redundant timestamp for frame odom at time 2616.002000 according to authority /pose_integrator\u001b[0m\n",
      "\u001b[33m[ WARN] [1678651222.583121777, 2615.902000000]: TF_REPEATED_DATA ignoring data with redundant timestamp for frame odom at time 2616.002000 according to authority /pose_integrator\u001b[0m\n",
      "\u001b[33m[ WARN] [1678651222.585337561, 2615.902000000]: TF_REPEATED_DATA ignoring data with redundant timestamp for frame odom at time 2616.002000 according to authority unknown_publisher\u001b[0m\n",
      "\u001b[33m[ WARN] [1678651223.545158565, 2616.133000000]: TF_REPEATED_DATA ignoring data with redundant timestamp for frame odom at time 2616.161000 according to authority unknown_publisher\u001b[0m\n",
      "\u001b[33m[ WARN] [1678651223.546226115, 2616.133000000]: TF_REPEATED_DATA ignoring data with redundant timestamp for frame odom at time 2616.161000 according to authority /pose_integrator\u001b[0m\n",
      "\u001b[33m[ WARN] [1678651223.546352437, 2616.133000000]: TF_REPEATED_DATA ignoring data with redundant timestamp for frame odom at time 2616.161000 according to authority /pose_integrator\u001b[0m\n",
      "\u001b[33m[ WARN] [1678651223.546387295, 2616.133000000]: TF_REPEATED_DATA ignoring data with redundant timestamp for frame odom at time 2616.161000 according to authority /pose_integrator\u001b[0m\n",
      "\u001b[33m[ WARN] [1678651223.546414871, 2616.133000000]: TF_REPEATED_DATA ignoring data with redundant timestamp for frame odom at time 2616.161000 according to authority /pose_integrator\u001b[0m\n",
      "\u001b[33m[ WARN] [1678651251.796386149, 2618.517000000]: TF_REPEATED_DATA ignoring data with redundant timestamp for frame odom at time 2618.558000 according to authority /pose_integrator\u001b[0m\n",
      "\u001b[33m[ WARN] [1678651251.796441208, 2618.517000000]: TF_REPEATED_DATA ignoring data with redundant timestamp for frame odom at time 2618.558000 according to authority /pose_integrator\u001b[0m\n",
      "\u001b[33m[ WARN] [1678651251.796469594, 2618.517000000]: TF_REPEATED_DATA ignoring data with redundant timestamp for frame odom at time 2618.558000 according to authority /pose_integrator\u001b[0m\n",
      "\u001b[33m[ WARN] [1678651251.796494303, 2618.517000000]: TF_REPEATED_DATA ignoring data with redundant timestamp for frame odom at time 2618.558000 according to authority /pose_integrator\u001b[0m\n",
      "\u001b[33m[ WARN] [1678651251.798867567, 2618.517000000]: TF_REPEATED_DATA ignoring data with redundant timestamp for frame odom at time 2618.558000 according to authority unknown_publisher\u001b[0m\n",
      "\u001b[33m[ WARN] [1678651254.674292150, 2618.749000000]: TF_REPEATED_DATA ignoring data with redundant timestamp for frame odom at time 2618.772000 according to authority unknown_publisher\u001b[0m\n",
      "\u001b[33m[ WARN] [1678651254.676685633, 2618.749000000]: TF_REPEATED_DATA ignoring data with redundant timestamp for frame odom at time 2618.772000 according to authority /pose_integrator\u001b[0m\n",
      "\u001b[33m[ WARN] [1678651254.676767922, 2618.749000000]: TF_REPEATED_DATA ignoring data with redundant timestamp for frame odom at time 2618.772000 according to authority /pose_integrator\u001b[0m\n",
      "\u001b[33m[ WARN] [1678651254.676796368, 2618.749000000]: TF_REPEATED_DATA ignoring data with redundant timestamp for frame odom at time 2618.772000 according to authority /pose_integrator\u001b[0m\n",
      "\u001b[33m[ WARN] [1678651254.676820533, 2618.749000000]: TF_REPEATED_DATA ignoring data with redundant timestamp for frame odom at time 2618.772000 according to authority /pose_integrator\u001b[0m\n",
      "\u001b[33m[ WARN] [1678651257.163210382, 2618.920000000]: TF_REPEATED_DATA ignoring data with redundant timestamp for frame odom at time 2618.955000 according to authority /pose_integrator\u001b[0m\n",
      "\u001b[33m[ WARN] [1678651257.163296889, 2618.920000000]: TF_REPEATED_DATA ignoring data with redundant timestamp for frame odom at time 2618.955000 according to authority /pose_integrator\u001b[0m\n",
      "\u001b[33m[ WARN] [1678651257.163325899, 2618.920000000]: TF_REPEATED_DATA ignoring data with redundant timestamp for frame odom at time 2618.955000 according to authority /pose_integrator\u001b[0m\n",
      "\u001b[33m[ WARN] [1678651257.163355746, 2618.920000000]: TF_REPEATED_DATA ignoring data with redundant timestamp for frame odom at time 2618.955000 according to authority /pose_integrator\u001b[0m\n",
      "\u001b[33m[ WARN] [1678651257.164060360, 2618.920000000]: TF_REPEATED_DATA ignoring data with redundant timestamp for frame odom at time 2618.955000 according to authority unknown_publisher\u001b[0m\n",
      "\u001b[33m[ WARN] [1678651262.746606430, 2619.251000000]: TF_REPEATED_DATA ignoring data with redundant timestamp for frame odom at time 2619.265000 according to authority /pose_integrator\u001b[0m\n",
      "\u001b[33m[ WARN] [1678651262.746685947, 2619.251000000]: TF_REPEATED_DATA ignoring data with redundant timestamp for frame odom at time 2619.265000 according to authority /pose_integrator\u001b[0m\n",
      "\u001b[33m[ WARN] [1678651262.746718431, 2619.251000000]: TF_REPEATED_DATA ignoring data with redundant timestamp for frame odom at time 2619.265000 according to authority /pose_integrator\u001b[0m\n",
      "\u001b[33m[ WARN] [1678651262.746747338, 2619.251000000]: TF_REPEATED_DATA ignoring data with redundant timestamp for frame odom at time 2619.265000 according to authority /pose_integrator\u001b[0m\n",
      "\u001b[33m[ WARN] [1678651262.750936387, 2619.251000000]: TF_REPEATED_DATA ignoring data with redundant timestamp for frame odom at time 2619.265000 according to authority unknown_publisher\u001b[0m\n",
      "\u001b[33m[ WARN] [1678651289.266040628, 2621.458000000]: TF_REPEATED_DATA ignoring data with redundant timestamp for frame odom at time 2621.514000 according to authority unknown_publisher\u001b[0m\n",
      "\u001b[33m[ WARN] [1678651289.266545490, 2621.458000000]: TF_REPEATED_DATA ignoring data with redundant timestamp for frame odom at time 2621.514000 according to authority /pose_integrator\u001b[0m\n",
      "\u001b[33m[ WARN] [1678651289.266589011, 2621.458000000]: TF_REPEATED_DATA ignoring data with redundant timestamp for frame odom at time 2621.514000 according to authority /pose_integrator\u001b[0m\n",
      "\u001b[33m[ WARN] [1678651289.266618906, 2621.458000000]: TF_REPEATED_DATA ignoring data with redundant timestamp for frame odom at time 2621.514000 according to authority /pose_integrator\u001b[0m\n",
      "\u001b[33m[ WARN] [1678651289.266643377, 2621.458000000]: TF_REPEATED_DATA ignoring data with redundant timestamp for frame odom at time 2621.514000 according to authority /pose_integrator\u001b[0m\n"
     ]
    },
    {
     "name": "stderr",
     "output_type": "stream",
     "text": [
      "\u001b[33m[ WARN] [1678651291.110258556, 2621.574000000]: TF_REPEATED_DATA ignoring data with redundant timestamp for frame odom at time 2621.592000 according to authority /pose_integrator\u001b[0m\n",
      "\u001b[33m[ WARN] [1678651291.110432167, 2621.574000000]: TF_REPEATED_DATA ignoring data with redundant timestamp for frame odom at time 2621.592000 according to authority /pose_integrator\u001b[0m\n",
      "\u001b[33m[ WARN] [1678651291.110467219, 2621.574000000]: TF_REPEATED_DATA ignoring data with redundant timestamp for frame odom at time 2621.592000 according to authority /pose_integrator\u001b[0m\n",
      "\u001b[33m[ WARN] [1678651291.110492995, 2621.574000000]: TF_REPEATED_DATA ignoring data with redundant timestamp for frame odom at time 2621.592000 according to authority /pose_integrator\u001b[0m\n",
      "\u001b[33m[ WARN] [1678651291.119814451, 2621.574000000]: TF_REPEATED_DATA ignoring data with redundant timestamp for frame odom at time 2621.592000 according to authority unknown_publisher\u001b[0m\n",
      "\u001b[33m[ WARN] [1678651297.069683695, 2622.082000000]: TF_REPEATED_DATA ignoring data with redundant timestamp for frame odom at time 2622.109000 according to authority unknown_publisher\u001b[0m\n",
      "\u001b[33m[ WARN] [1678651297.070446385, 2622.082000000]: TF_REPEATED_DATA ignoring data with redundant timestamp for frame odom at time 2622.109000 according to authority /pose_integrator\u001b[0m\n",
      "\u001b[33m[ WARN] [1678651297.070509197, 2622.082000000]: TF_REPEATED_DATA ignoring data with redundant timestamp for frame odom at time 2622.109000 according to authority /pose_integrator\u001b[0m\n",
      "\u001b[33m[ WARN] [1678651297.070536041, 2622.082000000]: TF_REPEATED_DATA ignoring data with redundant timestamp for frame odom at time 2622.109000 according to authority /pose_integrator\u001b[0m\n",
      "\u001b[33m[ WARN] [1678651297.070559252, 2622.082000000]: TF_REPEATED_DATA ignoring data with redundant timestamp for frame odom at time 2622.109000 according to authority /pose_integrator\u001b[0m\n",
      "\u001b[33m[ WARN] [1678651319.399268227, 2623.826000000]: TF_REPEATED_DATA ignoring data with redundant timestamp for frame odom at time 2623.852000 according to authority /pose_integrator\u001b[0m\n",
      "\u001b[33m[ WARN] [1678651319.399357973, 2623.826000000]: TF_REPEATED_DATA ignoring data with redundant timestamp for frame odom at time 2623.852000 according to authority /pose_integrator\u001b[0m\n",
      "\u001b[33m[ WARN] [1678651319.399389788, 2623.826000000]: TF_REPEATED_DATA ignoring data with redundant timestamp for frame odom at time 2623.852000 according to authority /pose_integrator\u001b[0m\n",
      "\u001b[33m[ WARN] [1678651319.399417399, 2623.826000000]: TF_REPEATED_DATA ignoring data with redundant timestamp for frame odom at time 2623.852000 according to authority /pose_integrator\u001b[0m\n",
      "\u001b[33m[ WARN] [1678651319.403258050, 2623.826000000]: TF_REPEATED_DATA ignoring data with redundant timestamp for frame odom at time 2623.852000 according to authority unknown_publisher\u001b[0m\n",
      "\u001b[33m[ WARN] [1678651321.826354858, 2623.981000000]: TF_REPEATED_DATA ignoring data with redundant timestamp for frame odom at time 2624.004000 according to authority unknown_publisher\u001b[0m\n",
      "\u001b[33m[ WARN] [1678651321.827406355, 2623.981000000]: TF_REPEATED_DATA ignoring data with redundant timestamp for frame odom at time 2624.004000 according to authority /pose_integrator\u001b[0m\n",
      "\u001b[33m[ WARN] [1678651321.827489682, 2623.981000000]: TF_REPEATED_DATA ignoring data with redundant timestamp for frame odom at time 2624.004000 according to authority /pose_integrator\u001b[0m\n",
      "\u001b[33m[ WARN] [1678651321.827523251, 2623.981000000]: TF_REPEATED_DATA ignoring data with redundant timestamp for frame odom at time 2624.004000 according to authority /pose_integrator\u001b[0m\n",
      "\u001b[33m[ WARN] [1678651321.827551376, 2623.981000000]: TF_REPEATED_DATA ignoring data with redundant timestamp for frame odom at time 2624.004000 according to authority /pose_integrator\u001b[0m\n",
      "\u001b[33m[ WARN] [1678651359.350699512, 2627.055000000]: TF_REPEATED_DATA ignoring data with redundant timestamp for frame odom at time 2627.108000 according to authority unknown_publisher\u001b[0m\n",
      "\u001b[33m[ WARN] [1678651359.351180792, 2627.055000000]: TF_REPEATED_DATA ignoring data with redundant timestamp for frame odom at time 2627.108000 according to authority /pose_integrator\u001b[0m\n",
      "\u001b[33m[ WARN] [1678651359.351288975, 2627.055000000]: TF_REPEATED_DATA ignoring data with redundant timestamp for frame odom at time 2627.108000 according to authority /pose_integrator\u001b[0m\n",
      "\u001b[33m[ WARN] [1678651359.351354373, 2627.055000000]: TF_REPEATED_DATA ignoring data with redundant timestamp for frame odom at time 2627.108000 according to authority /pose_integrator\u001b[0m\n",
      "\u001b[33m[ WARN] [1678651359.351400788, 2627.055000000]: TF_REPEATED_DATA ignoring data with redundant timestamp for frame odom at time 2627.108000 according to authority /pose_integrator\u001b[0m\n",
      "\u001b[33m[ WARN] [1678651366.806878445, 2627.773000000]: TF_REPEATED_DATA ignoring data with redundant timestamp for frame odom at time 2627.867000 according to authority /pose_integrator\u001b[0m\n",
      "\u001b[33m[ WARN] [1678651366.806970402, 2627.773000000]: TF_REPEATED_DATA ignoring data with redundant timestamp for frame odom at time 2627.867000 according to authority /pose_integrator\u001b[0m\n",
      "\u001b[33m[ WARN] [1678651366.807009201, 2627.773000000]: TF_REPEATED_DATA ignoring data with redundant timestamp for frame odom at time 2627.867000 according to authority /pose_integrator\u001b[0m\n",
      "\u001b[33m[ WARN] [1678651366.807035383, 2627.773000000]: TF_REPEATED_DATA ignoring data with redundant timestamp for frame odom at time 2627.867000 according to authority /pose_integrator\u001b[0m\n",
      "\u001b[33m[ WARN] [1678651366.810050133, 2627.773000000]: TF_REPEATED_DATA ignoring data with redundant timestamp for frame odom at time 2627.867000 according to authority unknown_publisher\u001b[0m\n",
      "\u001b[33m[ WARN] [1678651372.383040759, 2628.277000000]: TF_REPEATED_DATA ignoring data with redundant timestamp for frame odom at time 2628.302000 according to authority /pose_integrator\u001b[0m\n",
      "\u001b[33m[ WARN] [1678651372.383148251, 2628.277000000]: TF_REPEATED_DATA ignoring data with redundant timestamp for frame odom at time 2628.302000 according to authority /pose_integrator\u001b[0m\n",
      "\u001b[33m[ WARN] [1678651372.383178698, 2628.277000000]: TF_REPEATED_DATA ignoring data with redundant timestamp for frame odom at time 2628.302000 according to authority /pose_integrator\u001b[0m\n",
      "\u001b[33m[ WARN] [1678651372.383202839, 2628.277000000]: TF_REPEATED_DATA ignoring data with redundant timestamp for frame odom at time 2628.302000 according to authority /pose_integrator\u001b[0m\n",
      "\u001b[33m[ WARN] [1678651372.383960802, 2628.277000000]: TF_REPEATED_DATA ignoring data with redundant timestamp for frame odom at time 2628.302000 according to authority unknown_publisher\u001b[0m\n",
      "\u001b[33m[ WARN] [1678651374.393787454, 2628.411000000]: TF_REPEATED_DATA ignoring data with redundant timestamp for frame odom at time 2628.445000 according to authority /pose_integrator\u001b[0m\n",
      "\u001b[33m[ WARN] [1678651374.393904966, 2628.411000000]: TF_REPEATED_DATA ignoring data with redundant timestamp for frame odom at time 2628.445000 according to authority /pose_integrator\u001b[0m\n",
      "\u001b[33m[ WARN] [1678651374.393950687, 2628.411000000]: TF_REPEATED_DATA ignoring data with redundant timestamp for frame odom at time 2628.445000 according to authority /pose_integrator\u001b[0m\n",
      "\u001b[33m[ WARN] [1678651374.393986076, 2628.411000000]: TF_REPEATED_DATA ignoring data with redundant timestamp for frame odom at time 2628.445000 according to authority /pose_integrator\u001b[0m\n",
      "\u001b[33m[ WARN] [1678651374.394373000, 2628.411000000]: TF_REPEATED_DATA ignoring data with redundant timestamp for frame odom at time 2628.445000 according to authority unknown_publisher\u001b[0m\n",
      "\u001b[33m[ WARN] [1678651385.965284332, 2629.360000000]: TF_REPEATED_DATA ignoring data with redundant timestamp for frame odom at time 2629.403000 according to authority unknown_publisher\u001b[0m\n",
      "\u001b[33m[ WARN] [1678651386.002889952, 2629.360000000]: TF_REPEATED_DATA ignoring data with redundant timestamp for frame odom at time 2629.403000 according to authority /pose_integrator\u001b[0m\n",
      "\u001b[33m[ WARN] [1678651386.002991057, 2629.360000000]: TF_REPEATED_DATA ignoring data with redundant timestamp for frame odom at time 2629.403000 according to authority /pose_integrator\u001b[0m\n",
      "\u001b[33m[ WARN] [1678651386.003036807, 2629.360000000]: TF_REPEATED_DATA ignoring data with redundant timestamp for frame odom at time 2629.403000 according to authority /pose_integrator\u001b[0m\n",
      "\u001b[33m[ WARN] [1678651386.003064007, 2629.360000000]: TF_REPEATED_DATA ignoring data with redundant timestamp for frame odom at time 2629.403000 according to authority /pose_integrator\u001b[0m\n"
     ]
    },
    {
     "name": "stderr",
     "output_type": "stream",
     "text": [
      "\u001b[33m[ WARN] [1678651388.614101912, 2629.595000000]: TF_REPEATED_DATA ignoring data with redundant timestamp for frame odom at time 2629.632000 according to authority unknown_publisher\u001b[0m\n",
      "\u001b[33m[ WARN] [1678651388.619453792, 2629.595000000]: TF_REPEATED_DATA ignoring data with redundant timestamp for frame odom at time 2629.632000 according to authority /pose_integrator\u001b[0m\n",
      "\u001b[33m[ WARN] [1678651388.619552542, 2629.595000000]: TF_REPEATED_DATA ignoring data with redundant timestamp for frame odom at time 2629.632000 according to authority /pose_integrator\u001b[0m\n",
      "\u001b[33m[ WARN] [1678651388.619582295, 2629.595000000]: TF_REPEATED_DATA ignoring data with redundant timestamp for frame odom at time 2629.632000 according to authority /pose_integrator\u001b[0m\n",
      "\u001b[33m[ WARN] [1678651388.619609797, 2629.595000000]: TF_REPEATED_DATA ignoring data with redundant timestamp for frame odom at time 2629.632000 according to authority /pose_integrator\u001b[0m\n",
      "\u001b[33m[ WARN] [1678651437.601132319, 2633.353000000]: TF_REPEATED_DATA ignoring data with redundant timestamp for frame odom at time 2633.380000 according to authority /pose_integrator\u001b[0m\n",
      "\u001b[33m[ WARN] [1678651437.601224337, 2633.353000000]: TF_REPEATED_DATA ignoring data with redundant timestamp for frame odom at time 2633.380000 according to authority /pose_integrator\u001b[0m\n",
      "\u001b[33m[ WARN] [1678651437.601256185, 2633.353000000]: TF_REPEATED_DATA ignoring data with redundant timestamp for frame odom at time 2633.380000 according to authority /pose_integrator\u001b[0m\n",
      "\u001b[33m[ WARN] [1678651437.601283745, 2633.353000000]: TF_REPEATED_DATA ignoring data with redundant timestamp for frame odom at time 2633.380000 according to authority /pose_integrator\u001b[0m\n",
      "\u001b[33m[ WARN] [1678651437.615723479, 2633.353000000]: TF_REPEATED_DATA ignoring data with redundant timestamp for frame odom at time 2633.380000 according to authority unknown_publisher\u001b[0m\n",
      "\u001b[33m[ WARN] [1678651448.463250781, 2634.204000000]: TF_REPEATED_DATA ignoring data with redundant timestamp for frame odom at time 2634.251000 according to authority /pose_integrator\u001b[0m\n",
      "\u001b[33m[ WARN] [1678651448.463300886, 2634.204000000]: TF_REPEATED_DATA ignoring data with redundant timestamp for frame odom at time 2634.251000 according to authority /pose_integrator\u001b[0m\n",
      "\u001b[33m[ WARN] [1678651448.463327311, 2634.204000000]: TF_REPEATED_DATA ignoring data with redundant timestamp for frame odom at time 2634.251000 according to authority /pose_integrator\u001b[0m\n",
      "\u001b[33m[ WARN] [1678651448.463350145, 2634.204000000]: TF_REPEATED_DATA ignoring data with redundant timestamp for frame odom at time 2634.251000 according to authority /pose_integrator\u001b[0m\n",
      "\u001b[33m[ WARN] [1678651448.466310857, 2634.204000000]: TF_REPEATED_DATA ignoring data with redundant timestamp for frame odom at time 2634.251000 according to authority unknown_publisher\u001b[0m\n",
      "\u001b[33m[ WARN] [1678651462.573090044, 2635.361000000]: TF_REPEATED_DATA ignoring data with redundant timestamp for frame odom at time 2635.418000 according to authority /pose_integrator\u001b[0m\n",
      "\u001b[33m[ WARN] [1678651462.573173081, 2635.361000000]: TF_REPEATED_DATA ignoring data with redundant timestamp for frame odom at time 2635.418000 according to authority /pose_integrator\u001b[0m\n",
      "\u001b[33m[ WARN] [1678651462.573203750, 2635.361000000]: TF_REPEATED_DATA ignoring data with redundant timestamp for frame odom at time 2635.418000 according to authority /pose_integrator\u001b[0m\n",
      "\u001b[33m[ WARN] [1678651462.573239264, 2635.361000000]: TF_REPEATED_DATA ignoring data with redundant timestamp for frame odom at time 2635.418000 according to authority /pose_integrator\u001b[0m\n",
      "\u001b[33m[ WARN] [1678651462.588705135, 2635.361000000]: TF_REPEATED_DATA ignoring data with redundant timestamp for frame odom at time 2635.418000 according to authority unknown_publisher\u001b[0m\n",
      "\u001b[33m[ WARN] [1678651463.593425498, 2635.455000000]: TF_REPEATED_DATA ignoring data with redundant timestamp for frame odom at time 2635.479000 according to authority /pose_integrator\u001b[0m\n",
      "\u001b[33m[ WARN] [1678651463.593616664, 2635.455000000]: TF_REPEATED_DATA ignoring data with redundant timestamp for frame odom at time 2635.479000 according to authority /pose_integrator\u001b[0m\n",
      "\u001b[33m[ WARN] [1678651463.593734171, 2635.455000000]: TF_REPEATED_DATA ignoring data with redundant timestamp for frame odom at time 2635.479000 according to authority /pose_integrator\u001b[0m\n",
      "\u001b[33m[ WARN] [1678651463.593797942, 2635.455000000]: TF_REPEATED_DATA ignoring data with redundant timestamp for frame odom at time 2635.479000 according to authority /pose_integrator\u001b[0m\n",
      "\u001b[33m[ WARN] [1678651463.595668224, 2635.455000000]: TF_REPEATED_DATA ignoring data with redundant timestamp for frame odom at time 2635.479000 according to authority unknown_publisher\u001b[0m\n",
      "\u001b[33m[ WARN] [1678651477.108653568, 2636.550000000]: TF_REPEATED_DATA ignoring data with redundant timestamp for frame odom at time 2636.585000 according to authority /pose_integrator\u001b[0m\n",
      "\u001b[33m[ WARN] [1678651477.108710617, 2636.550000000]: TF_REPEATED_DATA ignoring data with redundant timestamp for frame odom at time 2636.585000 according to authority /pose_integrator\u001b[0m\n",
      "\u001b[33m[ WARN] [1678651477.108735342, 2636.550000000]: TF_REPEATED_DATA ignoring data with redundant timestamp for frame odom at time 2636.585000 according to authority /pose_integrator\u001b[0m\n",
      "\u001b[33m[ WARN] [1678651477.108756849, 2636.550000000]: TF_REPEATED_DATA ignoring data with redundant timestamp for frame odom at time 2636.585000 according to authority /pose_integrator\u001b[0m\n",
      "\u001b[33m[ WARN] [1678651477.109230703, 2636.550000000]: TF_REPEATED_DATA ignoring data with redundant timestamp for frame odom at time 2636.585000 according to authority unknown_publisher\u001b[0m\n",
      "\u001b[33m[ WARN] [1678651479.859152069, 2636.799000000]: TF_REPEATED_DATA ignoring data with redundant timestamp for frame odom at time 2636.869000 according to authority /pose_integrator\u001b[0m\n",
      "\u001b[33m[ WARN] [1678651479.859212089, 2636.799000000]: TF_REPEATED_DATA ignoring data with redundant timestamp for frame odom at time 2636.869000 according to authority /pose_integrator\u001b[0m\n",
      "\u001b[33m[ WARN] [1678651479.859238316, 2636.799000000]: TF_REPEATED_DATA ignoring data with redundant timestamp for frame odom at time 2636.869000 according to authority /pose_integrator\u001b[0m\n",
      "\u001b[33m[ WARN] [1678651479.859261194, 2636.799000000]: TF_REPEATED_DATA ignoring data with redundant timestamp for frame odom at time 2636.869000 according to authority /pose_integrator\u001b[0m\n",
      "\u001b[33m[ WARN] [1678651479.859806737, 2636.799000000]: TF_REPEATED_DATA ignoring data with redundant timestamp for frame odom at time 2636.869000 according to authority unknown_publisher\u001b[0m\n",
      "\u001b[33m[ WARN] [1678651488.900860320, 2637.499000000]: TF_REPEATED_DATA ignoring data with redundant timestamp for frame odom at time 2637.568000 according to authority /pose_integrator\u001b[0m\n",
      "\u001b[33m[ WARN] [1678651488.900958697, 2637.499000000]: TF_REPEATED_DATA ignoring data with redundant timestamp for frame odom at time 2637.568000 according to authority /pose_integrator\u001b[0m\n",
      "\u001b[33m[ WARN] [1678651488.900990581, 2637.499000000]: TF_REPEATED_DATA ignoring data with redundant timestamp for frame odom at time 2637.568000 according to authority /pose_integrator\u001b[0m\n",
      "\u001b[33m[ WARN] [1678651488.901017094, 2637.499000000]: TF_REPEATED_DATA ignoring data with redundant timestamp for frame odom at time 2637.568000 according to authority /pose_integrator\u001b[0m\n",
      "\u001b[33m[ WARN] [1678651488.904426250, 2637.499000000]: TF_REPEATED_DATA ignoring data with redundant timestamp for frame odom at time 2637.568000 according to authority unknown_publisher\u001b[0m\n",
      "\u001b[33m[ WARN] [1678651495.588031195, 2638.026000000]: TF_REPEATED_DATA ignoring data with redundant timestamp for frame odom at time 2638.044000 according to authority /pose_integrator\u001b[0m\n",
      "\u001b[33m[ WARN] [1678651495.588105418, 2638.026000000]: TF_REPEATED_DATA ignoring data with redundant timestamp for frame odom at time 2638.044000 according to authority /pose_integrator\u001b[0m\n",
      "\u001b[33m[ WARN] [1678651495.588135113, 2638.026000000]: TF_REPEATED_DATA ignoring data with redundant timestamp for frame odom at time 2638.044000 according to authority /pose_integrator\u001b[0m\n",
      "\u001b[33m[ WARN] [1678651495.588158761, 2638.026000000]: TF_REPEATED_DATA ignoring data with redundant timestamp for frame odom at time 2638.044000 according to authority /pose_integrator\u001b[0m\n",
      "\u001b[33m[ WARN] [1678651495.588547055, 2638.026000000]: TF_REPEATED_DATA ignoring data with redundant timestamp for frame odom at time 2638.044000 according to authority unknown_publisher\u001b[0m\n"
     ]
    },
    {
     "name": "stderr",
     "output_type": "stream",
     "text": [
      "\u001b[33m[ WARN] [1678651496.529848897, 2638.096000000]: TF_REPEATED_DATA ignoring data with redundant timestamp for frame odom at time 2638.186000 according to authority /pose_integrator\u001b[0m\n",
      "\u001b[33m[ WARN] [1678651496.529892566, 2638.096000000]: TF_REPEATED_DATA ignoring data with redundant timestamp for frame odom at time 2638.186000 according to authority /pose_integrator\u001b[0m\n",
      "\u001b[33m[ WARN] [1678651496.529916296, 2638.096000000]: TF_REPEATED_DATA ignoring data with redundant timestamp for frame odom at time 2638.186000 according to authority /pose_integrator\u001b[0m\n",
      "\u001b[33m[ WARN] [1678651496.529942185, 2638.096000000]: TF_REPEATED_DATA ignoring data with redundant timestamp for frame odom at time 2638.186000 according to authority /pose_integrator\u001b[0m\n",
      "\u001b[33m[ WARN] [1678651496.530162830, 2638.096000000]: TF_REPEATED_DATA ignoring data with redundant timestamp for frame odom at time 2638.186000 according to authority unknown_publisher\u001b[0m\n",
      "\u001b[33m[ WARN] [1678651516.501508798, 2640.164000000]: TF_REPEATED_DATA ignoring data with redundant timestamp for frame odom at time 2640.181000 according to authority /pose_integrator\u001b[0m\n",
      "\u001b[33m[ WARN] [1678651516.501606940, 2640.164000000]: TF_REPEATED_DATA ignoring data with redundant timestamp for frame odom at time 2640.181000 according to authority /pose_integrator\u001b[0m\n",
      "\u001b[33m[ WARN] [1678651516.501672453, 2640.164000000]: TF_REPEATED_DATA ignoring data with redundant timestamp for frame odom at time 2640.181000 according to authority /pose_integrator\u001b[0m\n",
      "\u001b[33m[ WARN] [1678651516.501720986, 2640.164000000]: TF_REPEATED_DATA ignoring data with redundant timestamp for frame odom at time 2640.181000 according to authority /pose_integrator\u001b[0m\n",
      "\u001b[33m[ WARN] [1678651516.510254929, 2640.164000000]: TF_REPEATED_DATA ignoring data with redundant timestamp for frame odom at time 2640.181000 according to authority unknown_publisher\u001b[0m\n",
      "\u001b[33m[ WARN] [1678651524.640607054, 2640.791000000]: TF_REPEATED_DATA ignoring data with redundant timestamp for frame odom at time 2640.817000 according to authority /pose_integrator\u001b[0m\n",
      "\u001b[33m[ WARN] [1678651524.640654807, 2640.791000000]: TF_REPEATED_DATA ignoring data with redundant timestamp for frame odom at time 2640.817000 according to authority /pose_integrator\u001b[0m\n",
      "\u001b[33m[ WARN] [1678651524.640680928, 2640.791000000]: TF_REPEATED_DATA ignoring data with redundant timestamp for frame odom at time 2640.817000 according to authority /pose_integrator\u001b[0m\n",
      "\u001b[33m[ WARN] [1678651524.640701777, 2640.791000000]: TF_REPEATED_DATA ignoring data with redundant timestamp for frame odom at time 2640.817000 according to authority /pose_integrator\u001b[0m\n",
      "\u001b[33m[ WARN] [1678651524.641501766, 2640.791000000]: TF_REPEATED_DATA ignoring data with redundant timestamp for frame odom at time 2640.817000 according to authority unknown_publisher\u001b[0m\n",
      "\u001b[33m[ WARN] [1678651539.101816864, 2642.134000000]: TF_REPEATED_DATA ignoring data with redundant timestamp for frame odom at time 2642.168000 according to authority unknown_publisher\u001b[0m\n",
      "\u001b[33m[ WARN] [1678651539.116082230, 2642.134000000]: TF_REPEATED_DATA ignoring data with redundant timestamp for frame odom at time 2642.168000 according to authority /pose_integrator\u001b[0m\n",
      "\u001b[33m[ WARN] [1678651539.116176961, 2642.134000000]: TF_REPEATED_DATA ignoring data with redundant timestamp for frame odom at time 2642.168000 according to authority /pose_integrator\u001b[0m\n",
      "\u001b[33m[ WARN] [1678651539.116209151, 2642.134000000]: TF_REPEATED_DATA ignoring data with redundant timestamp for frame odom at time 2642.168000 according to authority /pose_integrator\u001b[0m\n",
      "\u001b[33m[ WARN] [1678651539.116234558, 2642.134000000]: TF_REPEATED_DATA ignoring data with redundant timestamp for frame odom at time 2642.168000 according to authority /pose_integrator\u001b[0m\n",
      "\u001b[33m[ WARN] [1678651581.779453834, 2645.858000000]: TF_REPEATED_DATA ignoring data with redundant timestamp for frame odom at time 2645.877000 according to authority /pose_integrator\u001b[0m\n",
      "\u001b[33m[ WARN] [1678651581.779507708, 2645.858000000]: TF_REPEATED_DATA ignoring data with redundant timestamp for frame odom at time 2645.877000 according to authority /pose_integrator\u001b[0m\n",
      "\u001b[33m[ WARN] [1678651581.779533779, 2645.858000000]: TF_REPEATED_DATA ignoring data with redundant timestamp for frame odom at time 2645.877000 according to authority /pose_integrator\u001b[0m\n",
      "\u001b[33m[ WARN] [1678651581.779556633, 2645.858000000]: TF_REPEATED_DATA ignoring data with redundant timestamp for frame odom at time 2645.877000 according to authority /pose_integrator\u001b[0m\n",
      "\u001b[33m[ WARN] [1678651581.781893006, 2645.858000000]: TF_REPEATED_DATA ignoring data with redundant timestamp for frame odom at time 2645.877000 according to authority unknown_publisher\u001b[0m\n",
      "\u001b[33m[ WARN] [1678651594.705200168, 2646.980000000]: TF_REPEATED_DATA ignoring data with redundant timestamp for frame odom at time 2647.031000 according to authority unknown_publisher\u001b[0m\n",
      "\u001b[33m[ WARN] [1678651594.705286513, 2646.980000000]: TF_REPEATED_DATA ignoring data with redundant timestamp for frame odom at time 2647.031000 according to authority /pose_integrator\u001b[0m\n",
      "\u001b[33m[ WARN] [1678651594.705367918, 2646.980000000]: TF_REPEATED_DATA ignoring data with redundant timestamp for frame odom at time 2647.031000 according to authority /pose_integrator\u001b[0m\n",
      "\u001b[33m[ WARN] [1678651594.705402521, 2646.980000000]: TF_REPEATED_DATA ignoring data with redundant timestamp for frame odom at time 2647.031000 according to authority /pose_integrator\u001b[0m\n",
      "\u001b[33m[ WARN] [1678651594.705431729, 2646.980000000]: TF_REPEATED_DATA ignoring data with redundant timestamp for frame odom at time 2647.031000 according to authority /pose_integrator\u001b[0m\n",
      "\u001b[33m[ WARN] [1678651599.678630716, 2647.391000000]: TF_REPEATED_DATA ignoring data with redundant timestamp for frame odom at time 2647.432000 according to authority /pose_integrator\u001b[0m\n",
      "\u001b[33m[ WARN] [1678651599.678717604, 2647.391000000]: TF_REPEATED_DATA ignoring data with redundant timestamp for frame odom at time 2647.432000 according to authority /pose_integrator\u001b[0m\n",
      "\u001b[33m[ WARN] [1678651599.678750348, 2647.391000000]: TF_REPEATED_DATA ignoring data with redundant timestamp for frame odom at time 2647.432000 according to authority /pose_integrator\u001b[0m\n",
      "\u001b[33m[ WARN] [1678651599.678778648, 2647.391000000]: TF_REPEATED_DATA ignoring data with redundant timestamp for frame odom at time 2647.432000 according to authority /pose_integrator\u001b[0m\n",
      "\u001b[33m[ WARN] [1678651599.681011829, 2647.391000000]: TF_REPEATED_DATA ignoring data with redundant timestamp for frame odom at time 2647.432000 according to authority unknown_publisher\u001b[0m\n",
      "\u001b[33m[ WARN] [1678651605.255030259, 2647.851000000]: TF_REPEATED_DATA ignoring data with redundant timestamp for frame odom at time 2647.893000 according to authority /pose_integrator\u001b[0m\n",
      "\u001b[33m[ WARN] [1678651605.255140352, 2647.851000000]: TF_REPEATED_DATA ignoring data with redundant timestamp for frame odom at time 2647.893000 according to authority /pose_integrator\u001b[0m\n",
      "\u001b[33m[ WARN] [1678651605.255180208, 2647.851000000]: TF_REPEATED_DATA ignoring data with redundant timestamp for frame odom at time 2647.893000 according to authority /pose_integrator\u001b[0m\n",
      "\u001b[33m[ WARN] [1678651605.255208446, 2647.851000000]: TF_REPEATED_DATA ignoring data with redundant timestamp for frame odom at time 2647.893000 according to authority /pose_integrator\u001b[0m\n",
      "\u001b[33m[ WARN] [1678651605.255787047, 2647.851000000]: TF_REPEATED_DATA ignoring data with redundant timestamp for frame odom at time 2647.893000 according to authority unknown_publisher\u001b[0m\n",
      "\u001b[33m[ WARN] [1678651607.308213666, 2647.942000000]: TF_REPEATED_DATA ignoring data with redundant timestamp for frame odom at time 2647.982000 according to authority /pose_integrator\u001b[0m\n",
      "\u001b[33m[ WARN] [1678651607.308313471, 2647.942000000]: TF_REPEATED_DATA ignoring data with redundant timestamp for frame odom at time 2647.982000 according to authority /pose_integrator\u001b[0m\n",
      "\u001b[33m[ WARN] [1678651607.308347717, 2647.942000000]: TF_REPEATED_DATA ignoring data with redundant timestamp for frame odom at time 2647.982000 according to authority /pose_integrator\u001b[0m\n",
      "\u001b[33m[ WARN] [1678651607.308375155, 2647.942000000]: TF_REPEATED_DATA ignoring data with redundant timestamp for frame odom at time 2647.982000 according to authority /pose_integrator\u001b[0m\n",
      "\u001b[33m[ WARN] [1678651607.314996239, 2647.942000000]: TF_REPEATED_DATA ignoring data with redundant timestamp for frame odom at time 2647.982000 according to authority unknown_publisher\u001b[0m\n"
     ]
    },
    {
     "name": "stderr",
     "output_type": "stream",
     "text": [
      "\u001b[33m[ WARN] [1678651638.621778053, 2650.445000000]: TF_REPEATED_DATA ignoring data with redundant timestamp for frame odom at time 2650.468000 according to authority unknown_publisher\u001b[0m\n",
      "\u001b[33m[ WARN] [1678651638.622998603, 2650.445000000]: TF_REPEATED_DATA ignoring data with redundant timestamp for frame odom at time 2650.468000 according to authority /pose_integrator\u001b[0m\n",
      "\u001b[33m[ WARN] [1678651638.623104599, 2650.445000000]: TF_REPEATED_DATA ignoring data with redundant timestamp for frame odom at time 2650.468000 according to authority /pose_integrator\u001b[0m\n",
      "\u001b[33m[ WARN] [1678651638.623153099, 2650.445000000]: TF_REPEATED_DATA ignoring data with redundant timestamp for frame odom at time 2650.468000 according to authority /pose_integrator\u001b[0m\n",
      "\u001b[33m[ WARN] [1678651638.623186060, 2650.445000000]: TF_REPEATED_DATA ignoring data with redundant timestamp for frame odom at time 2650.468000 according to authority /pose_integrator\u001b[0m\n",
      "\u001b[33m[ WARN] [1678651642.685153645, 2650.693000000]: TF_REPEATED_DATA ignoring data with redundant timestamp for frame odom at time 2650.739000 according to authority /pose_integrator\u001b[0m\n",
      "\u001b[33m[ WARN] [1678651642.685260548, 2650.693000000]: TF_REPEATED_DATA ignoring data with redundant timestamp for frame odom at time 2650.739000 according to authority /pose_integrator\u001b[0m\n",
      "\u001b[33m[ WARN] [1678651642.685293981, 2650.693000000]: TF_REPEATED_DATA ignoring data with redundant timestamp for frame odom at time 2650.739000 according to authority /pose_integrator\u001b[0m\n",
      "\u001b[33m[ WARN] [1678651642.685323773, 2650.693000000]: TF_REPEATED_DATA ignoring data with redundant timestamp for frame odom at time 2650.739000 according to authority /pose_integrator\u001b[0m\n",
      "\u001b[33m[ WARN] [1678651642.686312193, 2650.693000000]: TF_REPEATED_DATA ignoring data with redundant timestamp for frame odom at time 2650.739000 according to authority unknown_publisher\u001b[0m\n",
      "\u001b[33m[ WARN] [1678651648.869244625, 2651.229000000]: TF_REPEATED_DATA ignoring data with redundant timestamp for frame odom at time 2651.249000 according to authority /pose_integrator\u001b[0m\n",
      "\u001b[33m[ WARN] [1678651648.869327373, 2651.229000000]: TF_REPEATED_DATA ignoring data with redundant timestamp for frame odom at time 2651.249000 according to authority /pose_integrator\u001b[0m\n",
      "\u001b[33m[ WARN] [1678651648.869360566, 2651.229000000]: TF_REPEATED_DATA ignoring data with redundant timestamp for frame odom at time 2651.249000 according to authority /pose_integrator\u001b[0m\n",
      "\u001b[33m[ WARN] [1678651648.869386660, 2651.229000000]: TF_REPEATED_DATA ignoring data with redundant timestamp for frame odom at time 2651.249000 according to authority /pose_integrator\u001b[0m\n",
      "\u001b[33m[ WARN] [1678651648.869880056, 2651.229000000]: TF_REPEATED_DATA ignoring data with redundant timestamp for frame odom at time 2651.249000 according to authority unknown_publisher\u001b[0m\n",
      "\u001b[33m[ WARN] [1678651655.268431589, 2651.740000000]: TF_REPEATED_DATA ignoring data with redundant timestamp for frame odom at time 2651.779000 according to authority /pose_integrator\u001b[0m\n",
      "\u001b[33m[ WARN] [1678651655.268515306, 2651.740000000]: TF_REPEATED_DATA ignoring data with redundant timestamp for frame odom at time 2651.779000 according to authority /pose_integrator\u001b[0m\n",
      "\u001b[33m[ WARN] [1678651655.268547875, 2651.740000000]: TF_REPEATED_DATA ignoring data with redundant timestamp for frame odom at time 2651.779000 according to authority /pose_integrator\u001b[0m\n",
      "\u001b[33m[ WARN] [1678651655.268574194, 2651.740000000]: TF_REPEATED_DATA ignoring data with redundant timestamp for frame odom at time 2651.779000 according to authority /pose_integrator\u001b[0m\n",
      "\u001b[33m[ WARN] [1678651655.268702493, 2651.740000000]: TF_REPEATED_DATA ignoring data with redundant timestamp for frame odom at time 2651.779000 according to authority unknown_publisher\u001b[0m\n",
      "\u001b[33m[ WARN] [1678651658.830769128, 2651.969000000]: TF_REPEATED_DATA ignoring data with redundant timestamp for frame odom at time 2651.998000 according to authority /pose_integrator\u001b[0m\n",
      "\u001b[33m[ WARN] [1678651658.830866253, 2651.969000000]: TF_REPEATED_DATA ignoring data with redundant timestamp for frame odom at time 2651.998000 according to authority /pose_integrator\u001b[0m\n",
      "\u001b[33m[ WARN] [1678651658.830898978, 2651.969000000]: TF_REPEATED_DATA ignoring data with redundant timestamp for frame odom at time 2651.998000 according to authority /pose_integrator\u001b[0m\n",
      "\u001b[33m[ WARN] [1678651658.830925719, 2651.969000000]: TF_REPEATED_DATA ignoring data with redundant timestamp for frame odom at time 2651.998000 according to authority /pose_integrator\u001b[0m\n",
      "\u001b[33m[ WARN] [1678651658.831158738, 2651.969000000]: TF_REPEATED_DATA ignoring data with redundant timestamp for frame odom at time 2651.998000 according to authority unknown_publisher\u001b[0m\n",
      "\u001b[33m[ WARN] [1678651667.421531194, 2652.561000000]: TF_REPEATED_DATA ignoring data with redundant timestamp for frame odom at time 2652.596000 according to authority unknown_publisher\u001b[0m\n",
      "\u001b[33m[ WARN] [1678651667.427450828, 2652.561000000]: TF_REPEATED_DATA ignoring data with redundant timestamp for frame odom at time 2652.596000 according to authority /pose_integrator\u001b[0m\n",
      "\u001b[33m[ WARN] [1678651667.427534768, 2652.561000000]: TF_REPEATED_DATA ignoring data with redundant timestamp for frame odom at time 2652.596000 according to authority /pose_integrator\u001b[0m\n",
      "\u001b[33m[ WARN] [1678651667.427564829, 2652.561000000]: TF_REPEATED_DATA ignoring data with redundant timestamp for frame odom at time 2652.596000 according to authority /pose_integrator\u001b[0m\n",
      "\u001b[33m[ WARN] [1678651667.427590255, 2652.561000000]: TF_REPEATED_DATA ignoring data with redundant timestamp for frame odom at time 2652.596000 according to authority /pose_integrator\u001b[0m\n",
      "\u001b[33m[ WARN] [1678651669.329903122, 2652.652000000]: TF_REPEATED_DATA ignoring data with redundant timestamp for frame odom at time 2652.705000 according to authority /pose_integrator\u001b[0m\n",
      "\u001b[33m[ WARN] [1678651669.329950146, 2652.652000000]: TF_REPEATED_DATA ignoring data with redundant timestamp for frame odom at time 2652.705000 according to authority /pose_integrator\u001b[0m\n",
      "\u001b[33m[ WARN] [1678651669.329973753, 2652.652000000]: TF_REPEATED_DATA ignoring data with redundant timestamp for frame odom at time 2652.705000 according to authority /pose_integrator\u001b[0m\n",
      "\u001b[33m[ WARN] [1678651669.329994938, 2652.652000000]: TF_REPEATED_DATA ignoring data with redundant timestamp for frame odom at time 2652.705000 according to authority /pose_integrator\u001b[0m\n",
      "\u001b[33m[ WARN] [1678651669.332154750, 2652.652000000]: TF_REPEATED_DATA ignoring data with redundant timestamp for frame odom at time 2652.705000 according to authority unknown_publisher\u001b[0m\n",
      "\u001b[33m[ WARN] [1678651673.087158857, 2653.020000000]: TF_REPEATED_DATA ignoring data with redundant timestamp for frame odom at time 2653.060000 according to authority /pose_integrator\u001b[0m\n",
      "\u001b[33m[ WARN] [1678651673.087247318, 2653.020000000]: TF_REPEATED_DATA ignoring data with redundant timestamp for frame odom at time 2653.060000 according to authority /pose_integrator\u001b[0m\n",
      "\u001b[33m[ WARN] [1678651673.087279610, 2653.020000000]: TF_REPEATED_DATA ignoring data with redundant timestamp for frame odom at time 2653.060000 according to authority /pose_integrator\u001b[0m\n",
      "\u001b[33m[ WARN] [1678651673.087307948, 2653.020000000]: TF_REPEATED_DATA ignoring data with redundant timestamp for frame odom at time 2653.060000 according to authority /pose_integrator\u001b[0m\n",
      "\u001b[33m[ WARN] [1678651673.091331268, 2653.020000000]: TF_REPEATED_DATA ignoring data with redundant timestamp for frame odom at time 2653.060000 according to authority unknown_publisher\u001b[0m\n",
      "\u001b[33m[ WARN] [1678651682.947352419, 2653.641000000]: TF_REPEATED_DATA ignoring data with redundant timestamp for frame odom at time 2653.658000 according to authority /pose_integrator\u001b[0m\n",
      "\u001b[33m[ WARN] [1678651682.947455728, 2653.641000000]: TF_REPEATED_DATA ignoring data with redundant timestamp for frame odom at time 2653.658000 according to authority /pose_integrator\u001b[0m\n",
      "\u001b[33m[ WARN] [1678651682.947503802, 2653.641000000]: TF_REPEATED_DATA ignoring data with redundant timestamp for frame odom at time 2653.658000 according to authority /pose_integrator\u001b[0m\n",
      "\u001b[33m[ WARN] [1678651682.947559731, 2653.641000000]: TF_REPEATED_DATA ignoring data with redundant timestamp for frame odom at time 2653.658000 according to authority /pose_integrator\u001b[0m\n",
      "\u001b[33m[ WARN] [1678651682.952833309, 2653.641000000]: TF_REPEATED_DATA ignoring data with redundant timestamp for frame odom at time 2653.658000 according to authority unknown_publisher\u001b[0m\n"
     ]
    },
    {
     "name": "stderr",
     "output_type": "stream",
     "text": [
      "\u001b[33m[ WARN] [1678651688.257301328, 2654.121000000]: TF_REPEATED_DATA ignoring data with redundant timestamp for frame odom at time 2654.186000 according to authority unknown_publisher\u001b[0m\n",
      "\u001b[33m[ WARN] [1678651688.257976142, 2654.121000000]: TF_REPEATED_DATA ignoring data with redundant timestamp for frame odom at time 2654.186000 according to authority /pose_integrator\u001b[0m\n",
      "\u001b[33m[ WARN] [1678651688.258037433, 2654.121000000]: TF_REPEATED_DATA ignoring data with redundant timestamp for frame odom at time 2654.186000 according to authority /pose_integrator\u001b[0m\n",
      "\u001b[33m[ WARN] [1678651688.258065611, 2654.121000000]: TF_REPEATED_DATA ignoring data with redundant timestamp for frame odom at time 2654.186000 according to authority /pose_integrator\u001b[0m\n",
      "\u001b[33m[ WARN] [1678651688.258090739, 2654.121000000]: TF_REPEATED_DATA ignoring data with redundant timestamp for frame odom at time 2654.186000 according to authority /pose_integrator\u001b[0m\n",
      "\u001b[33m[ WARN] [1678651697.221329034, 2654.769000000]: TF_REPEATED_DATA ignoring data with redundant timestamp for frame odom at time 2654.865000 according to authority /pose_integrator\u001b[0m\n",
      "\u001b[33m[ WARN] [1678651697.221411345, 2654.769000000]: TF_REPEATED_DATA ignoring data with redundant timestamp for frame odom at time 2654.865000 according to authority /pose_integrator\u001b[0m\n",
      "\u001b[33m[ WARN] [1678651697.221441778, 2654.769000000]: TF_REPEATED_DATA ignoring data with redundant timestamp for frame odom at time 2654.865000 according to authority /pose_integrator\u001b[0m\n",
      "\u001b[33m[ WARN] [1678651697.221465572, 2654.769000000]: TF_REPEATED_DATA ignoring data with redundant timestamp for frame odom at time 2654.865000 according to authority /pose_integrator\u001b[0m\n",
      "\u001b[33m[ WARN] [1678651697.222256821, 2654.769000000]: TF_REPEATED_DATA ignoring data with redundant timestamp for frame odom at time 2654.865000 according to authority unknown_publisher\u001b[0m\n",
      "\u001b[33m[ WARN] [1678651706.162437592, 2655.612000000]: TF_REPEATED_DATA ignoring data with redundant timestamp for frame odom at time 2655.721000 according to authority /pose_integrator\u001b[0m\n",
      "\u001b[33m[ WARN] [1678651706.162523116, 2655.612000000]: TF_REPEATED_DATA ignoring data with redundant timestamp for frame odom at time 2655.721000 according to authority /pose_integrator\u001b[0m\n",
      "\u001b[33m[ WARN] [1678651706.162556283, 2655.612000000]: TF_REPEATED_DATA ignoring data with redundant timestamp for frame odom at time 2655.721000 according to authority /pose_integrator\u001b[0m\n",
      "\u001b[33m[ WARN] [1678651706.162582990, 2655.612000000]: TF_REPEATED_DATA ignoring data with redundant timestamp for frame odom at time 2655.721000 according to authority /pose_integrator\u001b[0m\n",
      "\u001b[33m[ WARN] [1678651706.162651849, 2655.612000000]: TF_REPEATED_DATA ignoring data with redundant timestamp for frame odom at time 2655.721000 according to authority unknown_publisher\u001b[0m\n",
      "\u001b[33m[ WARN] [1678651707.469503202, 2655.791000000]: TF_REPEATED_DATA ignoring data with redundant timestamp for frame odom at time 2655.814000 according to authority /pose_integrator\u001b[0m\n",
      "\u001b[33m[ WARN] [1678651707.469554031, 2655.791000000]: TF_REPEATED_DATA ignoring data with redundant timestamp for frame odom at time 2655.814000 according to authority /pose_integrator\u001b[0m\n",
      "\u001b[33m[ WARN] [1678651707.469577843, 2655.791000000]: TF_REPEATED_DATA ignoring data with redundant timestamp for frame odom at time 2655.814000 according to authority /pose_integrator\u001b[0m\n",
      "\u001b[33m[ WARN] [1678651707.469599087, 2655.791000000]: TF_REPEATED_DATA ignoring data with redundant timestamp for frame odom at time 2655.814000 according to authority /pose_integrator\u001b[0m\n",
      "\u001b[33m[ WARN] [1678651707.472380608, 2655.791000000]: TF_REPEATED_DATA ignoring data with redundant timestamp for frame odom at time 2655.814000 according to authority unknown_publisher\u001b[0m\n",
      "\u001b[33m[ WARN] [1678651718.484456347, 2656.665000000]: TF_REPEATED_DATA ignoring data with redundant timestamp for frame odom at time 2656.733000 according to authority /pose_integrator\u001b[0m\n",
      "\u001b[33m[ WARN] [1678651718.484602701, 2656.665000000]: TF_REPEATED_DATA ignoring data with redundant timestamp for frame odom at time 2656.733000 according to authority /pose_integrator\u001b[0m\n",
      "\u001b[33m[ WARN] [1678651718.484690317, 2656.665000000]: TF_REPEATED_DATA ignoring data with redundant timestamp for frame odom at time 2656.733000 according to authority /pose_integrator\u001b[0m\n",
      "\u001b[33m[ WARN] [1678651718.484771242, 2656.665000000]: TF_REPEATED_DATA ignoring data with redundant timestamp for frame odom at time 2656.733000 according to authority /pose_integrator\u001b[0m\n",
      "\u001b[33m[ WARN] [1678651718.485139406, 2656.665000000]: TF_REPEATED_DATA ignoring data with redundant timestamp for frame odom at time 2656.733000 according to authority unknown_publisher\u001b[0m\n",
      "\u001b[33m[ WARN] [1678651723.970855754, 2657.220000000]: TF_REPEATED_DATA ignoring data with redundant timestamp for frame odom at time 2657.274000 according to authority /pose_integrator\u001b[0m\n",
      "\u001b[33m[ WARN] [1678651723.970957225, 2657.220000000]: TF_REPEATED_DATA ignoring data with redundant timestamp for frame odom at time 2657.274000 according to authority /pose_integrator\u001b[0m\n",
      "\u001b[33m[ WARN] [1678651723.970991978, 2657.220000000]: TF_REPEATED_DATA ignoring data with redundant timestamp for frame odom at time 2657.274000 according to authority /pose_integrator\u001b[0m\n",
      "\u001b[33m[ WARN] [1678651723.971021226, 2657.220000000]: TF_REPEATED_DATA ignoring data with redundant timestamp for frame odom at time 2657.274000 according to authority /pose_integrator\u001b[0m\n",
      "\u001b[33m[ WARN] [1678651723.978232431, 2657.220000000]: TF_REPEATED_DATA ignoring data with redundant timestamp for frame odom at time 2657.274000 according to authority unknown_publisher\u001b[0m\n",
      "\u001b[33m[ WARN] [1678651728.956288274, 2657.607000000]: TF_REPEATED_DATA ignoring data with redundant timestamp for frame odom at time 2657.651000 according to authority /pose_integrator\u001b[0m\n",
      "\u001b[33m[ WARN] [1678651728.956342784, 2657.607000000]: TF_REPEATED_DATA ignoring data with redundant timestamp for frame odom at time 2657.651000 according to authority /pose_integrator\u001b[0m\n",
      "\u001b[33m[ WARN] [1678651728.956368134, 2657.607000000]: TF_REPEATED_DATA ignoring data with redundant timestamp for frame odom at time 2657.651000 according to authority /pose_integrator\u001b[0m\n",
      "\u001b[33m[ WARN] [1678651728.956389840, 2657.607000000]: TF_REPEATED_DATA ignoring data with redundant timestamp for frame odom at time 2657.651000 according to authority /pose_integrator\u001b[0m\n",
      "\u001b[33m[ WARN] [1678651728.958742764, 2657.607000000]: TF_REPEATED_DATA ignoring data with redundant timestamp for frame odom at time 2657.651000 according to authority unknown_publisher\u001b[0m\n",
      "\u001b[33m[ WARN] [1678651732.884468142, 2657.856000000]: TF_REPEATED_DATA ignoring data with redundant timestamp for frame odom at time 2657.905000 according to authority unknown_publisher\u001b[0m\n",
      "\u001b[33m[ WARN] [1678651732.885428945, 2657.856000000]: TF_REPEATED_DATA ignoring data with redundant timestamp for frame odom at time 2657.905000 according to authority /pose_integrator\u001b[0m\n",
      "\u001b[33m[ WARN] [1678651732.885517061, 2657.856000000]: TF_REPEATED_DATA ignoring data with redundant timestamp for frame odom at time 2657.905000 according to authority /pose_integrator\u001b[0m\n",
      "\u001b[33m[ WARN] [1678651732.885553425, 2657.856000000]: TF_REPEATED_DATA ignoring data with redundant timestamp for frame odom at time 2657.905000 according to authority /pose_integrator\u001b[0m\n",
      "\u001b[33m[ WARN] [1678651732.885580518, 2657.856000000]: TF_REPEATED_DATA ignoring data with redundant timestamp for frame odom at time 2657.905000 according to authority /pose_integrator\u001b[0m\n",
      "\u001b[33m[ WARN] [1678651739.479108473, 2658.345000000]: TF_REPEATED_DATA ignoring data with redundant timestamp for frame odom at time 2658.375000 according to authority /pose_integrator\u001b[0m\n",
      "\u001b[33m[ WARN] [1678651739.479202534, 2658.345000000]: TF_REPEATED_DATA ignoring data with redundant timestamp for frame odom at time 2658.375000 according to authority /pose_integrator\u001b[0m\n",
      "\u001b[33m[ WARN] [1678651739.479235933, 2658.345000000]: TF_REPEATED_DATA ignoring data with redundant timestamp for frame odom at time 2658.375000 according to authority /pose_integrator\u001b[0m\n",
      "\u001b[33m[ WARN] [1678651739.479265051, 2658.345000000]: TF_REPEATED_DATA ignoring data with redundant timestamp for frame odom at time 2658.375000 according to authority /pose_integrator\u001b[0m\n",
      "\u001b[33m[ WARN] [1678651739.480033112, 2658.345000000]: TF_REPEATED_DATA ignoring data with redundant timestamp for frame odom at time 2658.375000 according to authority unknown_publisher\u001b[0m\n"
     ]
    },
    {
     "name": "stderr",
     "output_type": "stream",
     "text": [
      "\u001b[33m[ WARN] [1678651745.737233559, 2658.722000000]: TF_REPEATED_DATA ignoring data with redundant timestamp for frame odom at time 2658.747000 according to authority /pose_integrator\u001b[0m\n",
      "\u001b[33m[ WARN] [1678651745.737282772, 2658.722000000]: TF_REPEATED_DATA ignoring data with redundant timestamp for frame odom at time 2658.747000 according to authority /pose_integrator\u001b[0m\n",
      "\u001b[33m[ WARN] [1678651745.737319088, 2658.722000000]: TF_REPEATED_DATA ignoring data with redundant timestamp for frame odom at time 2658.747000 according to authority /pose_integrator\u001b[0m\n",
      "\u001b[33m[ WARN] [1678651745.737344897, 2658.722000000]: TF_REPEATED_DATA ignoring data with redundant timestamp for frame odom at time 2658.747000 according to authority /pose_integrator\u001b[0m\n",
      "\u001b[33m[ WARN] [1678651745.737470204, 2658.722000000]: TF_REPEATED_DATA ignoring data with redundant timestamp for frame odom at time 2658.747000 according to authority unknown_publisher\u001b[0m\n",
      "\u001b[33m[ WARN] [1678651782.414935534, 2661.754000000]: TF_REPEATED_DATA ignoring data with redundant timestamp for frame odom at time 2661.774000 according to authority /pose_integrator\u001b[0m\n",
      "\u001b[33m[ WARN] [1678651782.415074714, 2661.754000000]: TF_REPEATED_DATA ignoring data with redundant timestamp for frame odom at time 2661.774000 according to authority /pose_integrator\u001b[0m\n",
      "\u001b[33m[ WARN] [1678651782.415132379, 2661.754000000]: TF_REPEATED_DATA ignoring data with redundant timestamp for frame odom at time 2661.774000 according to authority /pose_integrator\u001b[0m\n",
      "\u001b[33m[ WARN] [1678651782.415179767, 2661.754000000]: TF_REPEATED_DATA ignoring data with redundant timestamp for frame odom at time 2661.774000 according to authority /pose_integrator\u001b[0m\n",
      "\u001b[33m[ WARN] [1678651782.415300761, 2661.754000000]: TF_REPEATED_DATA ignoring data with redundant timestamp for frame odom at time 2661.774000 according to authority unknown_publisher\u001b[0m\n",
      "\u001b[33m[ WARN] [1678651803.966632452, 2663.232000000]: TF_REPEATED_DATA ignoring data with redundant timestamp for frame odom at time 2663.254000 according to authority unknown_publisher\u001b[0m\n",
      "\u001b[33m[ WARN] [1678651803.969291740, 2663.232000000]: TF_REPEATED_DATA ignoring data with redundant timestamp for frame odom at time 2663.254000 according to authority /pose_integrator\u001b[0m\n",
      "\u001b[33m[ WARN] [1678651803.969340710, 2663.232000000]: TF_REPEATED_DATA ignoring data with redundant timestamp for frame odom at time 2663.254000 according to authority /pose_integrator\u001b[0m\n",
      "\u001b[33m[ WARN] [1678651803.969366807, 2663.232000000]: TF_REPEATED_DATA ignoring data with redundant timestamp for frame odom at time 2663.254000 according to authority /pose_integrator\u001b[0m\n",
      "\u001b[33m[ WARN] [1678651803.969387963, 2663.232000000]: TF_REPEATED_DATA ignoring data with redundant timestamp for frame odom at time 2663.254000 according to authority /pose_integrator\u001b[0m\n",
      "\u001b[33m[ WARN] [1678651810.174601893, 2663.737000000]: TF_REPEATED_DATA ignoring data with redundant timestamp for frame odom at time 2663.749000 according to authority unknown_publisher\u001b[0m\n",
      "\u001b[33m[ WARN] [1678651810.178165656, 2663.737000000]: TF_REPEATED_DATA ignoring data with redundant timestamp for frame odom at time 2663.749000 according to authority /pose_integrator\u001b[0m\n",
      "\u001b[33m[ WARN] [1678651810.178499363, 2663.737000000]: TF_REPEATED_DATA ignoring data with redundant timestamp for frame odom at time 2663.749000 according to authority /pose_integrator\u001b[0m\n",
      "\u001b[33m[ WARN] [1678651810.178633578, 2663.737000000]: TF_REPEATED_DATA ignoring data with redundant timestamp for frame odom at time 2663.749000 according to authority /pose_integrator\u001b[0m\n",
      "\u001b[33m[ WARN] [1678651810.178736818, 2663.737000000]: TF_REPEATED_DATA ignoring data with redundant timestamp for frame odom at time 2663.749000 according to authority /pose_integrator\u001b[0m\n"
     ]
    }
   ],
   "source": [
    "# Quiero saber punto 0,-7 m esta libre?\n",
    "y=8   ## MAP and pixels are not aligned\n",
    "x=8\n",
    "\n",
    "xrob,yrob=get_robot()\n",
    "print(np.asarray((xrob,yrob)))\n",
    "safe_xy=np.asarray((x,y))\n",
    "delta=  safe_xy-np.asarray((xrob,yrob))\n",
    "delta= delta / np.linalg.norm(delta)\n",
    "print (delta)\n",
    "\n",
    "\n",
    "\n",
    "newxy=np.zeros(2)\n",
    "#print (delta)\n",
    "\n",
    "for t in range (34):\n",
    "    if (contoured[1024+ round(safe_xy[0]/pix_per_m),1024- round(safe_xy[1]/pix_per_m)]!=0):   ## axis are twisted cause y sign\n",
    "        delta=  safe_xy-np.asarray((xrob,yrob))\n",
    "        delta= delta / np.linalg.norm(delta) \n",
    "        print(delta,'delta')\n",
    "        print ('not safe at', safe_xy,contoured[1024+ round(safe_xy[0]/pix_per_m),1024- round(safe_xy[1]/pix_per_m)])\n",
    "        newxy[0]=safe_xy[0]+delta[0]\n",
    "        newxy[1]=safe_xy[1]-delta[1]\n",
    "        #print ('try', newxy)\n",
    "        draw_at(1024+ round(safe_xy[1]/pix_per_m),1024- round(safe_xy[0]/pix_per_m),contoured)##AXIS\n",
    "        safe_xy=newxy\n",
    "    else:\n",
    "        print ('safe at', safe_xy)\n",
    "        break\n",
    "    \n",
    "draw_at(1024+ round(safe_xy[1]/pix_per_m),1024- round(safe_xy[0]/pix_per_m),contoured)\n",
    "\n",
    "plt.imshow(contoured[750:1250,750:1250])\n",
    "\n"
   ]
  },
  {
   "cell_type": "code",
   "execution_count": 143,
   "id": "faeb5b61",
   "metadata": {},
   "outputs": [
    {
     "data": {
      "text/plain": [
       "0"
      ]
     },
     "execution_count": 143,
     "metadata": {},
     "output_type": "execute_result"
    },
    {
     "name": "stderr",
     "output_type": "stream",
     "text": [
      "\u001b[33m[ WARN] [1678649212.622273044, 2474.732000000]: TF_REPEATED_DATA ignoring data with redundant timestamp for frame odom at time 2474.758000 according to authority unknown_publisher\u001b[0m\n",
      "\u001b[33m[ WARN] [1678649212.622430317, 2474.732000000]: TF_REPEATED_DATA ignoring data with redundant timestamp for frame odom at time 2474.758000 according to authority /pose_integrator\u001b[0m\n",
      "\u001b[33m[ WARN] [1678649212.622500914, 2474.732000000]: TF_REPEATED_DATA ignoring data with redundant timestamp for frame odom at time 2474.758000 according to authority /pose_integrator\u001b[0m\n",
      "\u001b[33m[ WARN] [1678649212.622534108, 2474.732000000]: TF_REPEATED_DATA ignoring data with redundant timestamp for frame odom at time 2474.758000 according to authority /pose_integrator\u001b[0m\n",
      "\u001b[33m[ WARN] [1678649212.622566264, 2474.732000000]: TF_REPEATED_DATA ignoring data with redundant timestamp for frame odom at time 2474.758000 according to authority /pose_integrator\u001b[0m\n"
     ]
    }
   ],
   "source": [
    "contoured[1024+ round(safe_xy[0]/pix_per_m),1024+ round(safe_xy[1]/pix_per_m)]"
   ]
  },
  {
   "cell_type": "code",
   "execution_count": 55,
   "id": "f02dba67",
   "metadata": {},
   "outputs": [
    {
     "name": "stderr",
     "output_type": "stream",
     "text": [
      "\u001b[33m[ WARN] [1678646863.850084700, 2323.085000000]: TF_REPEATED_DATA ignoring data with redundant timestamp for frame odom at time 2323.115000 according to authority /pose_integrator\u001b[0m\n",
      "\u001b[33m[ WARN] [1678646863.850128641, 2323.085000000]: TF_REPEATED_DATA ignoring data with redundant timestamp for frame odom at time 2323.115000 according to authority /pose_integrator\u001b[0m\n",
      "\u001b[33m[ WARN] [1678646863.850151251, 2323.085000000]: TF_REPEATED_DATA ignoring data with redundant timestamp for frame odom at time 2323.115000 according to authority /pose_integrator\u001b[0m\n",
      "\u001b[33m[ WARN] [1678646863.850171183, 2323.085000000]: TF_REPEATED_DATA ignoring data with redundant timestamp for frame odom at time 2323.115000 according to authority /pose_integrator\u001b[0m\n",
      "\u001b[33m[ WARN] [1678646863.851545175, 2323.085000000]: TF_REPEATED_DATA ignoring data with redundant timestamp for frame odom at time 2323.115000 according to authority unknown_publisher\u001b[0m\n",
      "\u001b[33m[ WARN] [1678646864.424464254, 2323.160000000]: TF_REPEATED_DATA ignoring data with redundant timestamp for frame odom at time 2323.193000 according to authority /pose_integrator\u001b[0m\n",
      "\u001b[33m[ WARN] [1678646864.424544439, 2323.160000000]: TF_REPEATED_DATA ignoring data with redundant timestamp for frame odom at time 2323.193000 according to authority /pose_integrator\u001b[0m\n",
      "\u001b[33m[ WARN] [1678646864.424571569, 2323.160000000]: TF_REPEATED_DATA ignoring data with redundant timestamp for frame odom at time 2323.193000 according to authority /pose_integrator\u001b[0m\n",
      "\u001b[33m[ WARN] [1678646864.424594516, 2323.160000000]: TF_REPEATED_DATA ignoring data with redundant timestamp for frame odom at time 2323.193000 according to authority /pose_integrator\u001b[0m\n",
      "\u001b[33m[ WARN] [1678646864.424991999, 2323.160000000]: TF_REPEATED_DATA ignoring data with redundant timestamp for frame odom at time 2323.193000 according to authority unknown_publisher\u001b[0m\n",
      "\u001b[33m[ WARN] [1678646889.437925419, 2324.653000000]: TF_REPEATED_DATA ignoring data with redundant timestamp for frame odom at time 2324.716000 according to authority /pose_integrator\u001b[0m\n",
      "\u001b[33m[ WARN] [1678646889.438021549, 2324.653000000]: TF_REPEATED_DATA ignoring data with redundant timestamp for frame odom at time 2324.716000 according to authority /pose_integrator\u001b[0m\n",
      "\u001b[33m[ WARN] [1678646889.438096944, 2324.653000000]: TF_REPEATED_DATA ignoring data with redundant timestamp for frame odom at time 2324.716000 according to authority /pose_integrator\u001b[0m\n",
      "\u001b[33m[ WARN] [1678646889.438125808, 2324.653000000]: TF_REPEATED_DATA ignoring data with redundant timestamp for frame odom at time 2324.716000 according to authority /pose_integrator\u001b[0m\n",
      "\u001b[33m[ WARN] [1678646889.438718908, 2324.653000000]: TF_REPEATED_DATA ignoring data with redundant timestamp for frame odom at time 2324.716000 according to authority unknown_publisher\u001b[0m\n",
      "\u001b[33m[ WARN] [1678646903.825062298, 2325.729000000]: TF_REPEATED_DATA ignoring data with redundant timestamp for frame odom at time 2325.780000 according to authority /pose_integrator\u001b[0m\n",
      "\u001b[33m[ WARN] [1678646903.825150921, 2325.729000000]: TF_REPEATED_DATA ignoring data with redundant timestamp for frame odom at time 2325.780000 according to authority /pose_integrator\u001b[0m\n",
      "\u001b[33m[ WARN] [1678646903.825210820, 2325.729000000]: TF_REPEATED_DATA ignoring data with redundant timestamp for frame odom at time 2325.780000 according to authority /pose_integrator\u001b[0m\n",
      "\u001b[33m[ WARN] [1678646903.825248075, 2325.729000000]: TF_REPEATED_DATA ignoring data with redundant timestamp for frame odom at time 2325.780000 according to authority /pose_integrator\u001b[0m\n",
      "\u001b[33m[ WARN] [1678646903.833565836, 2325.729000000]: TF_REPEATED_DATA ignoring data with redundant timestamp for frame odom at time 2325.780000 according to authority unknown_publisher\u001b[0m\n",
      "\u001b[33m[ WARN] [1678646907.991331402, 2326.004000000]: TF_REPEATED_DATA ignoring data with redundant timestamp for frame odom at time 2326.062000 according to authority /pose_integrator\u001b[0m\n",
      "\u001b[33m[ WARN] [1678646907.991461623, 2326.004000000]: TF_REPEATED_DATA ignoring data with redundant timestamp for frame odom at time 2326.062000 according to authority /pose_integrator\u001b[0m\n",
      "\u001b[33m[ WARN] [1678646907.991493261, 2326.004000000]: TF_REPEATED_DATA ignoring data with redundant timestamp for frame odom at time 2326.062000 according to authority /pose_integrator\u001b[0m\n",
      "\u001b[33m[ WARN] [1678646907.991518907, 2326.004000000]: TF_REPEATED_DATA ignoring data with redundant timestamp for frame odom at time 2326.062000 according to authority /pose_integrator\u001b[0m\n",
      "\u001b[33m[ WARN] [1678646907.999450433, 2326.004000000]: TF_REPEATED_DATA ignoring data with redundant timestamp for frame odom at time 2326.062000 according to authority unknown_publisher\u001b[0m\n",
      "\u001b[33m[ WARN] [1678646933.721414520, 2327.906000000]: TF_REPEATED_DATA ignoring data with redundant timestamp for frame odom at time 2327.956000 according to authority unknown_publisher\u001b[0m\n",
      "\u001b[33m[ WARN] [1678646933.724144731, 2327.906000000]: TF_REPEATED_DATA ignoring data with redundant timestamp for frame odom at time 2327.956000 according to authority /pose_integrator\u001b[0m\n",
      "\u001b[33m[ WARN] [1678646933.724199319, 2327.906000000]: TF_REPEATED_DATA ignoring data with redundant timestamp for frame odom at time 2327.956000 according to authority /pose_integrator\u001b[0m\n",
      "\u001b[33m[ WARN] [1678646933.724224806, 2327.906000000]: TF_REPEATED_DATA ignoring data with redundant timestamp for frame odom at time 2327.956000 according to authority /pose_integrator\u001b[0m\n",
      "\u001b[33m[ WARN] [1678646933.724247039, 2327.906000000]: TF_REPEATED_DATA ignoring data with redundant timestamp for frame odom at time 2327.956000 according to authority /pose_integrator\u001b[0m\n",
      "\u001b[33m[ WARN] [1678646936.377446044, 2328.105000000]: TF_REPEATED_DATA ignoring data with redundant timestamp for frame odom at time 2328.187000 according to authority /pose_integrator\u001b[0m\n",
      "\u001b[33m[ WARN] [1678646936.377563331, 2328.105000000]: TF_REPEATED_DATA ignoring data with redundant timestamp for frame odom at time 2328.187000 according to authority /pose_integrator\u001b[0m\n",
      "\u001b[33m[ WARN] [1678646936.377602691, 2328.105000000]: TF_REPEATED_DATA ignoring data with redundant timestamp for frame odom at time 2328.187000 according to authority /pose_integrator\u001b[0m\n",
      "\u001b[33m[ WARN] [1678646936.377628826, 2328.105000000]: TF_REPEATED_DATA ignoring data with redundant timestamp for frame odom at time 2328.187000 according to authority /pose_integrator\u001b[0m\n",
      "\u001b[33m[ WARN] [1678646936.377731700, 2328.105000000]: TF_REPEATED_DATA ignoring data with redundant timestamp for frame odom at time 2328.187000 according to authority unknown_publisher\u001b[0m\n"
     ]
    }
   ],
   "source": [
    "delta=  safe_xy-np.asarray((xrob,yrob))"
   ]
  },
  {
   "cell_type": "code",
   "execution_count": 140,
   "id": "a8f50e93",
   "metadata": {},
   "outputs": [
    {
     "data": {
      "text/plain": [
       "array([0., 1.])"
      ]
     },
     "execution_count": 140,
     "metadata": {},
     "output_type": "execute_result"
    },
    {
     "name": "stderr",
     "output_type": "stream",
     "text": [
      "\u001b[33m[ WARN] [1678578210.906983050, 2533.518000000]: TF_REPEATED_DATA ignoring data with redundant timestamp for frame odom at time 2533.543000 according to authority unknown_publisher\u001b[0m\n",
      "\u001b[33m[ WARN] [1678578210.915211922, 2533.518000000]: TF_REPEATED_DATA ignoring data with redundant timestamp for frame odom at time 2533.543000 according to authority /pose_integrator\u001b[0m\n",
      "\u001b[33m[ WARN] [1678578210.915299190, 2533.518000000]: TF_REPEATED_DATA ignoring data with redundant timestamp for frame odom at time 2533.543000 according to authority /pose_integrator\u001b[0m\n",
      "\u001b[33m[ WARN] [1678578210.915324091, 2533.518000000]: TF_REPEATED_DATA ignoring data with redundant timestamp for frame odom at time 2533.543000 according to authority /pose_integrator\u001b[0m\n",
      "\u001b[33m[ WARN] [1678578210.915346640, 2533.518000000]: TF_REPEATED_DATA ignoring data with redundant timestamp for frame odom at time 2533.543000 according to authority /pose_integrator\u001b[0m\n"
     ]
    }
   ],
   "source": [
    "delta"
   ]
  },
  {
   "cell_type": "code",
   "execution_count": 131,
   "id": "574061a1",
   "metadata": {},
   "outputs": [
    {
     "data": {
      "text/plain": [
       "<matplotlib.image.AxesImage at 0x7fc88e07e760>"
      ]
     },
     "execution_count": 131,
     "metadata": {},
     "output_type": "execute_result"
    },
    {
     "data": {
      "image/png": "[encoded data removed]",
      "text/plain": [
       "<Figure size 640x480 with 1 Axes>"
      ]
     },
     "metadata": {},
     "output_type": "display_data"
    }
   ],
   "source": [
    "draw_at(1024+ round(safe_xy[0]/pix_per_m),1024+ round(safe_xy[1]/pix_per_m),contoured)\n",
    "plt.imshow(contoured[750:1250,750:1250])\n"
   ]
  },
  {
   "cell_type": "code",
   "execution_count": 87,
   "id": "b5bcf030",
   "metadata": {},
   "outputs": [
    {
     "name": "stdout",
     "output_type": "stream",
     "text": [
      "[-1.3241845213801982, 2.1420530801051645, 0.0]\n"
     ]
    },
    {
     "data": {
      "text/plain": [
       "(-26, 43)"
      ]
     },
     "execution_count": 87,
     "metadata": {},
     "output_type": "execute_result"
    },
    {
     "name": "stderr",
     "output_type": "stream",
     "text": [
      "\u001b[33m[ WARN] [1678577204.868103694, 2476.192000000]: TF_REPEATED_DATA ignoring data with redundant timestamp for frame odom at time 2476.221000 according to authority unknown_publisher\u001b[0m\n",
      "\u001b[33m[ WARN] [1678577204.873089633, 2476.192000000]: TF_REPEATED_DATA ignoring data with redundant timestamp for frame odom at time 2476.221000 according to authority /pose_integrator\u001b[0m\n",
      "\u001b[33m[ WARN] [1678577204.873420286, 2476.192000000]: TF_REPEATED_DATA ignoring data with redundant timestamp for frame odom at time 2476.221000 according to authority /pose_integrator\u001b[0m\n",
      "\u001b[33m[ WARN] [1678577204.873839664, 2476.192000000]: TF_REPEATED_DATA ignoring data with redundant timestamp for frame odom at time 2476.221000 according to authority /pose_integrator\u001b[0m\n",
      "\u001b[33m[ WARN] [1678577204.874046087, 2476.192000000]: TF_REPEATED_DATA ignoring data with redundant timestamp for frame odom at time 2476.221000 according to authority /pose_integrator\u001b[0m\n",
      "\u001b[33m[ WARN] [1678577211.502806514, 2476.632000000]: TF_REPEATED_DATA ignoring data with redundant timestamp for frame odom at time 2476.686000 according to authority unknown_publisher\u001b[0m\n",
      "\u001b[33m[ WARN] [1678577211.504474372, 2476.632000000]: TF_REPEATED_DATA ignoring data with redundant timestamp for frame odom at time 2476.686000 according to authority /pose_integrator\u001b[0m\n",
      "\u001b[33m[ WARN] [1678577211.504559080, 2476.632000000]: TF_REPEATED_DATA ignoring data with redundant timestamp for frame odom at time 2476.686000 according to authority /pose_integrator\u001b[0m\n",
      "\u001b[33m[ WARN] [1678577211.504585620, 2476.632000000]: TF_REPEATED_DATA ignoring data with redundant timestamp for frame odom at time 2476.686000 according to authority /pose_integrator\u001b[0m\n",
      "\u001b[33m[ WARN] [1678577211.504609616, 2476.632000000]: TF_REPEATED_DATA ignoring data with redundant timestamp for frame odom at time 2476.686000 according to authority /pose_integrator\u001b[0m\n",
      "\u001b[33m[ WARN] [1678577222.921087584, 2477.215000000]: TF_REPEATED_DATA ignoring data with redundant timestamp for frame odom at time 2477.247000 according to authority unknown_publisher\u001b[0m\n",
      "\u001b[33m[ WARN] [1678577222.922306839, 2477.215000000]: TF_REPEATED_DATA ignoring data with redundant timestamp for frame odom at time 2477.247000 according to authority /pose_integrator\u001b[0m\n",
      "\u001b[33m[ WARN] [1678577222.922407305, 2477.215000000]: TF_REPEATED_DATA ignoring data with redundant timestamp for frame odom at time 2477.247000 according to authority /pose_integrator\u001b[0m\n",
      "\u001b[33m[ WARN] [1678577222.922456717, 2477.215000000]: TF_REPEATED_DATA ignoring data with redundant timestamp for frame odom at time 2477.247000 according to authority /pose_integrator\u001b[0m\n",
      "\u001b[33m[ WARN] [1678577222.922483010, 2477.215000000]: TF_REPEATED_DATA ignoring data with redundant timestamp for frame odom at time 2477.247000 according to authority /pose_integrator\u001b[0m\n",
      "\u001b[33m[ WARN] [1678577224.480685927, 2477.356000000]: TF_REPEATED_DATA ignoring data with redundant timestamp for frame arm_flex_link at time 2477.479000 according to authority unknown_publisher\u001b[0m\n",
      "\u001b[33m[ WARN] [1678577224.484856031, 2477.356000000]: TF_REPEATED_DATA ignoring data with redundant timestamp for frame arm_lift_link at time 2477.479000 according to authority unknown_publisher\u001b[0m\n",
      "\u001b[33m[ WARN] [1678577224.484902799, 2477.356000000]: TF_REPEATED_DATA ignoring data with redundant timestamp for frame arm_roll_link at time 2477.479000 according to authority unknown_publisher\u001b[0m\n",
      "\u001b[33m[ WARN] [1678577224.484918341, 2477.356000000]: TF_REPEATED_DATA ignoring data with redundant timestamp for frame base_b_bumper_link at time 2477.479000 according to authority unknown_publisher\u001b[0m\n",
      "\u001b[33m[ WARN] [1678577224.484932063, 2477.356000000]: TF_REPEATED_DATA ignoring data with redundant timestamp for frame base_f_bumper_link at time 2477.479000 according to authority unknown_publisher\u001b[0m\n",
      "\u001b[33m[ WARN] [1678577224.484944328, 2477.356000000]: TF_REPEATED_DATA ignoring data with redundant timestamp for frame base_l_drive_wheel_link at time 2477.479000 according to authority unknown_publisher\u001b[0m\n",
      "\u001b[33m[ WARN] [1678577224.484956794, 2477.356000000]: TF_REPEATED_DATA ignoring data with redundant timestamp for frame base_l_passive_wheel_x_frame at time 2477.479000 according to authority unknown_publisher\u001b[0m\n",
      "\u001b[33m[ WARN] [1678577224.484968390, 2477.356000000]: TF_REPEATED_DATA ignoring data with redundant timestamp for frame base_l_passive_wheel_y_frame at time 2477.479000 according to authority unknown_publisher\u001b[0m\n",
      "\u001b[33m[ WARN] [1678577224.484984579, 2477.356000000]: TF_REPEATED_DATA ignoring data with redundant timestamp for frame base_l_passive_wheel_z_link at time 2477.479000 according to authority unknown_publisher\u001b[0m\n",
      "\u001b[33m[ WARN] [1678577224.484995716, 2477.356000000]: TF_REPEATED_DATA ignoring data with redundant timestamp for frame base_r_drive_wheel_link at time 2477.479000 according to authority unknown_publisher\u001b[0m\n",
      "\u001b[33m[ WARN] [1678577224.485006860, 2477.356000000]: TF_REPEATED_DATA ignoring data with redundant timestamp for frame base_r_passive_wheel_x_frame at time 2477.479000 according to authority unknown_publisher\u001b[0m\n",
      "\u001b[33m[ WARN] [1678577224.485017284, 2477.356000000]: TF_REPEATED_DATA ignoring data with redundant timestamp for frame base_r_passive_wheel_y_frame at time 2477.479000 according to authority unknown_publisher\u001b[0m\n",
      "\u001b[33m[ WARN] [1678577224.485027950, 2477.356000000]: TF_REPEATED_DATA ignoring data with redundant timestamp for frame base_r_passive_wheel_z_link at time 2477.479000 according to authority unknown_publisher\u001b[0m\n",
      "\u001b[33m[ WARN] [1678577224.485039859, 2477.356000000]: TF_REPEATED_DATA ignoring data with redundant timestamp for frame base_roll_link at time 2477.479000 according to authority unknown_publisher\u001b[0m\n",
      "\u001b[33m[ WARN] [1678577224.485052560, 2477.356000000]: TF_REPEATED_DATA ignoring data with redundant timestamp for frame hand_l_distal_link at time 2477.479000 according to authority unknown_publisher\u001b[0m\n",
      "\u001b[33m[ WARN] [1678577224.485067319, 2477.356000000]: TF_REPEATED_DATA ignoring data with redundant timestamp for frame hand_l_mimic_distal_link at time 2477.479000 according to authority unknown_publisher\u001b[0m\n",
      "\u001b[33m[ WARN] [1678577224.485078121, 2477.356000000]: TF_REPEATED_DATA ignoring data with redundant timestamp for frame hand_l_proximal_link at time 2477.479000 according to authority unknown_publisher\u001b[0m\n",
      "\u001b[33m[ WARN] [1678577224.485088865, 2477.356000000]: TF_REPEATED_DATA ignoring data with redundant timestamp for frame hand_l_spring_proximal_link at time 2477.479000 according to authority unknown_publisher\u001b[0m\n",
      "\u001b[33m[ WARN] [1678577224.485099536, 2477.356000000]: TF_REPEATED_DATA ignoring data with redundant timestamp for frame hand_motor_dummy_link at time 2477.479000 according to authority unknown_publisher\u001b[0m\n",
      "\u001b[33m[ WARN] [1678577224.485110917, 2477.356000000]: TF_REPEATED_DATA ignoring data with redundant timestamp for frame hand_r_distal_link at time 2477.479000 according to authority unknown_publisher\u001b[0m\n",
      "\u001b[33m[ WARN] [1678577224.485122166, 2477.356000000]: TF_REPEATED_DATA ignoring data with redundant timestamp for frame hand_r_mimic_distal_link at time 2477.479000 according to authority unknown_publisher\u001b[0m\n",
      "\u001b[33m[ WARN] [1678577224.485143611, 2477.356000000]: TF_REPEATED_DATA ignoring data with redundant timestamp for frame hand_r_proximal_link at time 2477.479000 according to authority unknown_publisher\u001b[0m\n",
      "\u001b[33m[ WARN] [1678577224.485154554, 2477.356000000]: TF_REPEATED_DATA ignoring data with redundant timestamp for frame hand_r_spring_proximal_link at time 2477.479000 according to authority unknown_publisher\u001b[0m\n",
      "\u001b[33m[ WARN] [1678577224.485171781, 2477.356000000]: TF_REPEATED_DATA ignoring data with redundant timestamp for frame head_pan_link at time 2477.479000 according to authority unknown_publisher\u001b[0m\n",
      "\u001b[33m[ WARN] [1678577224.485182274, 2477.356000000]: TF_REPEATED_DATA ignoring data with redundant timestamp for frame head_tilt_link at time 2477.479000 according to authority unknown_publisher\u001b[0m\n",
      "\u001b[33m[ WARN] [1678577224.485193288, 2477.356000000]: TF_REPEATED_DATA ignoring data with redundant timestamp for frame torso_lift_link at time 2477.479000 according to authority unknown_publisher\u001b[0m\n",
      "\u001b[33m[ WARN] [1678577224.485204660, 2477.356000000]: TF_REPEATED_DATA ignoring data with redundant timestamp for frame wrist_flex_link at time 2477.479000 according to authority unknown_publisher\u001b[0m\n",
      "\u001b[33m[ WARN] [1678577224.485218385, 2477.356000000]: TF_REPEATED_DATA ignoring data with redundant timestamp for frame wrist_ft_sensor_frame at time 2477.479000 according to authority unknown_publisher\u001b[0m\n",
      "\u001b[33m[ WARN] [1678577224.485229127, 2477.356000000]: TF_REPEATED_DATA ignoring data with redundant timestamp for frame wrist_ft_sensor_mount_link at time 2477.479000 according to authority unknown_publisher\u001b[0m\n",
      "\u001b[33m[ WARN] [1678577224.510501130, 2477.356000000]: TF_REPEATED_DATA ignoring data with redundant timestamp for frame arm_flex_link at time 2477.479000 according to authority /robot_state_publisher\u001b[0m\n",
      "\u001b[33m[ WARN] [1678577224.510557425, 2477.356000000]: TF_REPEATED_DATA ignoring data with redundant timestamp for frame arm_lift_link at time 2477.479000 according to authority /robot_state_publisher\u001b[0m\n",
      "\u001b[33m[ WARN] [1678577224.510577176, 2477.356000000]: TF_REPEATED_DATA ignoring data with redundant timestamp for frame arm_roll_link at time 2477.479000 according to authority /robot_state_publisher\u001b[0m\n",
      "\u001b[33m[ WARN] [1678577224.510593793, 2477.356000000]: TF_REPEATED_DATA ignoring data with redundant timestamp for frame base_b_bumper_link at time 2477.479000 according to authority /robot_state_publisher\u001b[0m\n",
      "\u001b[33m[ WARN] [1678577224.510610613, 2477.356000000]: TF_REPEATED_DATA ignoring data with redundant timestamp for frame base_f_bumper_link at time 2477.479000 according to authority /robot_state_publisher\u001b[0m\n",
      "\u001b[33m[ WARN] [1678577224.510626580, 2477.356000000]: TF_REPEATED_DATA ignoring data with redundant timestamp for frame base_l_drive_wheel_link at time 2477.479000 according to authority /robot_state_publisher\u001b[0m\n",
      "\u001b[33m[ WARN] [1678577224.510642720, 2477.356000000]: TF_REPEATED_DATA ignoring data with redundant timestamp for frame base_l_passive_wheel_x_frame at time 2477.479000 according to authority /robot_state_publisher\u001b[0m\n",
      "\u001b[33m[ WARN] [1678577224.510658721, 2477.356000000]: TF_REPEATED_DATA ignoring data with redundant timestamp for frame base_l_passive_wheel_y_frame at time 2477.479000 according to authority /robot_state_publisher\u001b[0m\n",
      "\u001b[33m[ WARN] [1678577224.510674356, 2477.356000000]: TF_REPEATED_DATA ignoring data with redundant timestamp for frame base_l_passive_wheel_z_link at time 2477.479000 according to authority /robot_state_publisher\u001b[0m\n",
      "\u001b[33m[ WARN] [1678577224.510690429, 2477.356000000]: TF_REPEATED_DATA ignoring data with redundant timestamp for frame base_r_drive_wheel_link at time 2477.479000 according to authority /robot_state_publisher\u001b[0m\n",
      "\u001b[33m[ WARN] [1678577224.510706037, 2477.356000000]: TF_REPEATED_DATA ignoring data with redundant timestamp for frame base_r_passive_wheel_x_frame at time 2477.479000 according to authority /robot_state_publisher\u001b[0m\n",
      "\u001b[33m[ WARN] [1678577224.510725245, 2477.356000000]: TF_REPEATED_DATA ignoring data with redundant timestamp for frame base_r_passive_wheel_y_frame at time 2477.479000 according to authority /robot_state_publisher\u001b[0m\n",
      "\u001b[33m[ WARN] [1678577224.510741079, 2477.356000000]: TF_REPEATED_DATA ignoring data with redundant timestamp for frame base_r_passive_wheel_z_link at time 2477.479000 according to authority /robot_state_publisher\u001b[0m\n",
      "\u001b[33m[ WARN] [1678577224.510756114, 2477.356000000]: TF_REPEATED_DATA ignoring data with redundant timestamp for frame base_roll_link at time 2477.479000 according to authority /robot_state_publisher\u001b[0m\n",
      "\u001b[33m[ WARN] [1678577224.510771513, 2477.356000000]: TF_REPEATED_DATA ignoring data with redundant timestamp for frame hand_l_distal_link at time 2477.479000 according to authority /robot_state_publisher\u001b[0m\n",
      "\u001b[33m[ WARN] [1678577224.510786624, 2477.356000000]: TF_REPEATED_DATA ignoring data with redundant timestamp for frame hand_l_mimic_distal_link at time 2477.479000 according to authority /robot_state_publisher\u001b[0m\n",
      "\u001b[33m[ WARN] [1678577224.510800982, 2477.356000000]: TF_REPEATED_DATA ignoring data with redundant timestamp for frame hand_l_proximal_link at time 2477.479000 according to authority /robot_state_publisher\u001b[0m\n",
      "\u001b[33m[ WARN] [1678577224.510815588, 2477.356000000]: TF_REPEATED_DATA ignoring data with redundant timestamp for frame hand_l_spring_proximal_link at time 2477.479000 according to authority /robot_state_publisher\u001b[0m\n",
      "\u001b[33m[ WARN] [1678577224.510830082, 2477.356000000]: TF_REPEATED_DATA ignoring data with redundant timestamp for frame hand_motor_dummy_link at time 2477.479000 according to authority /robot_state_publisher\u001b[0m\n",
      "\u001b[33m[ WARN] [1678577224.510844604, 2477.356000000]: TF_REPEATED_DATA ignoring data with redundant timestamp for frame hand_r_distal_link at time 2477.479000 according to authority /robot_state_publisher\u001b[0m\n",
      "\u001b[33m[ WARN] [1678577224.510859352, 2477.356000000]: TF_REPEATED_DATA ignoring data with redundant timestamp for frame hand_r_mimic_distal_link at time 2477.479000 according to authority /robot_state_publisher\u001b[0m\n",
      "\u001b[33m[ WARN] [1678577224.510874006, 2477.356000000]: TF_REPEATED_DATA ignoring data with redundant timestamp for frame hand_r_proximal_link at time 2477.479000 according to authority /robot_state_publisher\u001b[0m\n",
      "\u001b[33m[ WARN] [1678577224.510888623, 2477.356000000]: TF_REPEATED_DATA ignoring data with redundant timestamp for frame hand_r_spring_proximal_link at time 2477.479000 according to authority /robot_state_publisher\u001b[0m\n",
      "\u001b[33m[ WARN] [1678577224.510902817, 2477.356000000]: TF_REPEATED_DATA ignoring data with redundant timestamp for frame head_pan_link at time 2477.479000 according to authority /robot_state_publisher\u001b[0m\n",
      "\u001b[33m[ WARN] [1678577224.510917232, 2477.356000000]: TF_REPEATED_DATA ignoring data with redundant timestamp for frame head_tilt_link at time 2477.479000 according to authority /robot_state_publisher\u001b[0m\n",
      "\u001b[33m[ WARN] [1678577224.510931291, 2477.356000000]: TF_REPEATED_DATA ignoring data with redundant timestamp for frame torso_lift_link at time 2477.479000 according to authority /robot_state_publisher\u001b[0m\n",
      "\u001b[33m[ WARN] [1678577224.510945583, 2477.356000000]: TF_REPEATED_DATA ignoring data with redundant timestamp for frame wrist_flex_link at time 2477.479000 according to authority /robot_state_publisher\u001b[0m\n",
      "\u001b[33m[ WARN] [1678577224.510959634, 2477.356000000]: TF_REPEATED_DATA ignoring data with redundant timestamp for frame wrist_ft_sensor_frame at time 2477.479000 according to authority /robot_state_publisher\u001b[0m\n",
      "\u001b[33m[ WARN] [1678577224.510974026, 2477.356000000]: TF_REPEATED_DATA ignoring data with redundant timestamp for frame wrist_ft_sensor_mount_link at time 2477.479000 according to authority /robot_state_publisher\u001b[0m\n",
      "\u001b[33m[ WARN] [1678577224.510994277, 2477.356000000]: TF_REPEATED_DATA ignoring data with redundant timestamp for frame arm_flex_link at time 2477.479000 according to authority /robot_state_publisher\u001b[0m\n",
      "\u001b[33m[ WARN] [1678577224.511010220, 2477.356000000]: TF_REPEATED_DATA ignoring data with redundant timestamp for frame arm_lift_link at time 2477.479000 according to authority /robot_state_publisher\u001b[0m\n",
      "\u001b[33m[ WARN] [1678577224.511024398, 2477.356000000]: TF_REPEATED_DATA ignoring data with redundant timestamp for frame arm_roll_link at time 2477.479000 according to authority /robot_state_publisher\u001b[0m\n",
      "\u001b[33m[ WARN] [1678577224.511038673, 2477.356000000]: TF_REPEATED_DATA ignoring data with redundant timestamp for frame base_b_bumper_link at time 2477.479000 according to authority /robot_state_publisher\u001b[0m\n",
      "\u001b[33m[ WARN] [1678577224.511053085, 2477.356000000]: TF_REPEATED_DATA ignoring data with redundant timestamp for frame base_f_bumper_link at time 2477.479000 according to authority /robot_state_publisher\u001b[0m\n",
      "\u001b[33m[ WARN] [1678577224.511067195, 2477.356000000]: TF_REPEATED_DATA ignoring data with redundant timestamp for frame base_l_drive_wheel_link at time 2477.479000 according to authority /robot_state_publisher\u001b[0m\n",
      "\u001b[33m[ WARN] [1678577224.511081369, 2477.356000000]: TF_REPEATED_DATA ignoring data with redundant timestamp for frame base_l_passive_wheel_x_frame at time 2477.479000 according to authority /robot_state_publisher\u001b[0m\n",
      "\u001b[33m[ WARN] [1678577224.511095771, 2477.356000000]: TF_REPEATED_DATA ignoring data with redundant timestamp for frame base_l_passive_wheel_y_frame at time 2477.479000 according to authority /robot_state_publisher\u001b[0m\n",
      "\u001b[33m[ WARN] [1678577224.511110018, 2477.356000000]: TF_REPEATED_DATA ignoring data with redundant timestamp for frame base_l_passive_wheel_z_link at time 2477.479000 according to authority /robot_state_publisher\u001b[0m\n",
      "\u001b[33m[ WARN] [1678577224.511123963, 2477.356000000]: TF_REPEATED_DATA ignoring data with redundant timestamp for frame base_r_drive_wheel_link at time 2477.479000 according to authority /robot_state_publisher\u001b[0m\n",
      "\u001b[33m[ WARN] [1678577224.511137886, 2477.356000000]: TF_REPEATED_DATA ignoring data with redundant timestamp for frame base_r_passive_wheel_x_frame at time 2477.479000 according to authority /robot_state_publisher\u001b[0m\n",
      "\u001b[33m[ WARN] [1678577224.511151981, 2477.356000000]: TF_REPEATED_DATA ignoring data with redundant timestamp for frame base_r_passive_wheel_y_frame at time 2477.479000 according to authority /robot_state_publisher\u001b[0m\n",
      "\u001b[33m[ WARN] [1678577224.511165851, 2477.356000000]: TF_REPEATED_DATA ignoring data with redundant timestamp for frame base_r_passive_wheel_z_link at time 2477.479000 according to authority /robot_state_publisher\u001b[0m\n",
      "\u001b[33m[ WARN] [1678577224.511179806, 2477.356000000]: TF_REPEATED_DATA ignoring data with redundant timestamp for frame base_roll_link at time 2477.479000 according to authority /robot_state_publisher\u001b[0m\n",
      "\u001b[33m[ WARN] [1678577224.511194087, 2477.356000000]: TF_REPEATED_DATA ignoring data with redundant timestamp for frame hand_l_distal_link at time 2477.479000 according to authority /robot_state_publisher\u001b[0m\n",
      "\u001b[33m[ WARN] [1678577224.511208443, 2477.356000000]: TF_REPEATED_DATA ignoring data with redundant timestamp for frame hand_l_mimic_distal_link at time 2477.479000 according to authority /robot_state_publisher\u001b[0m\n",
      "\u001b[33m[ WARN] [1678577224.511222510, 2477.356000000]: TF_REPEATED_DATA ignoring data with redundant timestamp for frame hand_l_proximal_link at time 2477.479000 according to authority /robot_state_publisher\u001b[0m\n",
      "\u001b[33m[ WARN] [1678577224.511236559, 2477.356000000]: TF_REPEATED_DATA ignoring data with redundant timestamp for frame hand_l_spring_proximal_link at time 2477.479000 according to authority /robot_state_publisher\u001b[0m\n",
      "\u001b[33m[ WARN] [1678577224.511250971, 2477.356000000]: TF_REPEATED_DATA ignoring data with redundant timestamp for frame hand_motor_dummy_link at time 2477.479000 according to authority /robot_state_publisher\u001b[0m\n",
      "\u001b[33m[ WARN] [1678577224.511265173, 2477.356000000]: TF_REPEATED_DATA ignoring data with redundant timestamp for frame hand_r_distal_link at time 2477.479000 according to authority /robot_state_publisher\u001b[0m\n",
      "\u001b[33m[ WARN] [1678577224.511280035, 2477.356000000]: TF_REPEATED_DATA ignoring data with redundant timestamp for frame hand_r_mimic_distal_link at time 2477.479000 according to authority /robot_state_publisher\u001b[0m\n",
      "\u001b[33m[ WARN] [1678577224.511293993, 2477.356000000]: TF_REPEATED_DATA ignoring data with redundant timestamp for frame hand_r_proximal_link at time 2477.479000 according to authority /robot_state_publisher\u001b[0m\n",
      "\u001b[33m[ WARN] [1678577224.511773625, 2477.356000000]: TF_REPEATED_DATA ignoring data with redundant timestamp for frame hand_r_spring_proximal_link at time 2477.479000 according to authority /robot_state_publisher\u001b[0m\n",
      "\u001b[33m[ WARN] [1678577224.511807649, 2477.356000000]: TF_REPEATED_DATA ignoring data with redundant timestamp for frame head_pan_link at time 2477.479000 according to authority /robot_state_publisher\u001b[0m\n",
      "\u001b[33m[ WARN] [1678577224.511824222, 2477.356000000]: TF_REPEATED_DATA ignoring data with redundant timestamp for frame head_tilt_link at time 2477.479000 according to authority /robot_state_publisher\u001b[0m\n",
      "\u001b[33m[ WARN] [1678577224.511843484, 2477.356000000]: TF_REPEATED_DATA ignoring data with redundant timestamp for frame torso_lift_link at time 2477.479000 according to authority /robot_state_publisher\u001b[0m\n",
      "\u001b[33m[ WARN] [1678577224.511858618, 2477.356000000]: TF_REPEATED_DATA ignoring data with redundant timestamp for frame wrist_flex_link at time 2477.479000 according to authority /robot_state_publisher\u001b[0m\n",
      "\u001b[33m[ WARN] [1678577224.511873379, 2477.356000000]: TF_REPEATED_DATA ignoring data with redundant timestamp for frame wrist_ft_sensor_frame at time 2477.479000 according to authority /robot_state_publisher\u001b[0m\n",
      "\u001b[33m[ WARN] [1678577224.511887735, 2477.356000000]: TF_REPEATED_DATA ignoring data with redundant timestamp for frame wrist_ft_sensor_mount_link at time 2477.479000 according to authority /robot_state_publisher\u001b[0m\n",
      "\u001b[33m[ WARN] [1678577224.511912094, 2477.356000000]: TF_REPEATED_DATA ignoring data with redundant timestamp for frame arm_flex_link at time 2477.479000 according to authority /robot_state_publisher\u001b[0m\n",
      "\u001b[33m[ WARN] [1678577224.511927297, 2477.356000000]: TF_REPEATED_DATA ignoring data with redundant timestamp for frame arm_lift_link at time 2477.479000 according to authority /robot_state_publisher\u001b[0m\n",
      "\u001b[33m[ WARN] [1678577224.511941757, 2477.356000000]: TF_REPEATED_DATA ignoring data with redundant timestamp for frame arm_roll_link at time 2477.479000 according to authority /robot_state_publisher\u001b[0m\n",
      "\u001b[33m[ WARN] [1678577224.511956718, 2477.356000000]: TF_REPEATED_DATA ignoring data with redundant timestamp for frame base_b_bumper_link at time 2477.479000 according to authority /robot_state_publisher\u001b[0m\n",
      "\u001b[33m[ WARN] [1678577224.511970902, 2477.356000000]: TF_REPEATED_DATA ignoring data with redundant timestamp for frame base_f_bumper_link at time 2477.479000 according to authority /robot_state_publisher\u001b[0m\n",
      "\u001b[33m[ WARN] [1678577224.511985324, 2477.356000000]: TF_REPEATED_DATA ignoring data with redundant timestamp for frame base_l_drive_wheel_link at time 2477.479000 according to authority /robot_state_publisher\u001b[0m\n",
      "\u001b[33m[ WARN] [1678577224.512000315, 2477.356000000]: TF_REPEATED_DATA ignoring data with redundant timestamp for frame base_l_passive_wheel_x_frame at time 2477.479000 according to authority /robot_state_publisher\u001b[0m\n",
      "\u001b[33m[ WARN] [1678577224.512014927, 2477.356000000]: TF_REPEATED_DATA ignoring data with redundant timestamp for frame base_l_passive_wheel_y_frame at time 2477.479000 according to authority /robot_state_publisher\u001b[0m\n",
      "\u001b[33m[ WARN] [1678577224.512029563, 2477.356000000]: TF_REPEATED_DATA ignoring data with redundant timestamp for frame base_l_passive_wheel_z_link at time 2477.479000 according to authority /robot_state_publisher\u001b[0m\n",
      "\u001b[33m[ WARN] [1678577224.512044631, 2477.356000000]: TF_REPEATED_DATA ignoring data with redundant timestamp for frame base_r_drive_wheel_link at time 2477.479000 according to authority /robot_state_publisher\u001b[0m\n",
      "\u001b[33m[ WARN] [1678577224.512061559, 2477.356000000]: TF_REPEATED_DATA ignoring data with redundant timestamp for frame base_r_passive_wheel_x_frame at time 2477.479000 according to authority /robot_state_publisher\u001b[0m\n",
      "\u001b[33m[ WARN] [1678577224.512077229, 2477.356000000]: TF_REPEATED_DATA ignoring data with redundant timestamp for frame base_r_passive_wheel_y_frame at time 2477.479000 according to authority /robot_state_publisher\u001b[0m\n",
      "\u001b[33m[ WARN] [1678577224.512092205, 2477.356000000]: TF_REPEATED_DATA ignoring data with redundant timestamp for frame base_r_passive_wheel_z_link at time 2477.479000 according to authority /robot_state_publisher\u001b[0m\n",
      "\u001b[33m[ WARN] [1678577224.512106397, 2477.356000000]: TF_REPEATED_DATA ignoring data with redundant timestamp for frame base_roll_link at time 2477.479000 according to authority /robot_state_publisher\u001b[0m\n",
      "\u001b[33m[ WARN] [1678577224.512121387, 2477.356000000]: TF_REPEATED_DATA ignoring data with redundant timestamp for frame hand_l_distal_link at time 2477.479000 according to authority /robot_state_publisher\u001b[0m\n",
      "\u001b[33m[ WARN] [1678577224.512137191, 2477.356000000]: TF_REPEATED_DATA ignoring data with redundant timestamp for frame hand_l_mimic_distal_link at time 2477.479000 according to authority /robot_state_publisher\u001b[0m\n",
      "\u001b[33m[ WARN] [1678577224.512151910, 2477.356000000]: TF_REPEATED_DATA ignoring data with redundant timestamp for frame hand_l_proximal_link at time 2477.479000 according to authority /robot_state_publisher\u001b[0m\n",
      "\u001b[33m[ WARN] [1678577224.512166312, 2477.356000000]: TF_REPEATED_DATA ignoring data with redundant timestamp for frame hand_l_spring_proximal_link at time 2477.479000 according to authority /robot_state_publisher\u001b[0m\n",
      "\u001b[33m[ WARN] [1678577224.512183129, 2477.356000000]: TF_REPEATED_DATA ignoring data with redundant timestamp for frame hand_motor_dummy_link at time 2477.479000 according to authority /robot_state_publisher\u001b[0m\n",
      "\u001b[33m[ WARN] [1678577224.512203540, 2477.356000000]: TF_REPEATED_DATA ignoring data with redundant timestamp for frame hand_r_distal_link at time 2477.479000 according to authority /robot_state_publisher\u001b[0m\n",
      "\u001b[33m[ WARN] [1678577224.512217659, 2477.356000000]: TF_REPEATED_DATA ignoring data with redundant timestamp for frame hand_r_mimic_distal_link at time 2477.479000 according to authority /robot_state_publisher\u001b[0m\n",
      "\u001b[33m[ WARN] [1678577224.512232791, 2477.356000000]: TF_REPEATED_DATA ignoring data with redundant timestamp for frame hand_r_proximal_link at time 2477.479000 according to authority /robot_state_publisher\u001b[0m\n",
      "\u001b[33m[ WARN] [1678577224.512246994, 2477.356000000]: TF_REPEATED_DATA ignoring data with redundant timestamp for frame hand_r_spring_proximal_link at time 2477.479000 according to authority /robot_state_publisher\u001b[0m\n",
      "\u001b[33m[ WARN] [1678577224.512261403, 2477.356000000]: TF_REPEATED_DATA ignoring data with redundant timestamp for frame head_pan_link at time 2477.479000 according to authority /robot_state_publisher\u001b[0m\n",
      "\u001b[33m[ WARN] [1678577224.512275657, 2477.356000000]: TF_REPEATED_DATA ignoring data with redundant timestamp for frame head_tilt_link at time 2477.479000 according to authority /robot_state_publisher\u001b[0m\n",
      "\u001b[33m[ WARN] [1678577224.512289670, 2477.356000000]: TF_REPEATED_DATA ignoring data with redundant timestamp for frame torso_lift_link at time 2477.479000 according to authority /robot_state_publisher\u001b[0m\n",
      "\u001b[33m[ WARN] [1678577224.512310939, 2477.356000000]: TF_REPEATED_DATA ignoring data with redundant timestamp for frame wrist_flex_link at time 2477.479000 according to authority /robot_state_publisher\u001b[0m\n",
      "\u001b[33m[ WARN] [1678577224.512325873, 2477.356000000]: TF_REPEATED_DATA ignoring data with redundant timestamp for frame wrist_ft_sensor_frame at time 2477.479000 according to authority /robot_state_publisher\u001b[0m\n",
      "\u001b[33m[ WARN] [1678577224.512340129, 2477.356000000]: TF_REPEATED_DATA ignoring data with redundant timestamp for frame wrist_ft_sensor_mount_link at time 2477.479000 according to authority /robot_state_publisher\u001b[0m\n",
      "\u001b[33m[ WARN] [1678577224.512361809, 2477.356000000]: TF_REPEATED_DATA ignoring data with redundant timestamp for frame arm_flex_link at time 2477.479000 according to authority /robot_state_publisher\u001b[0m\n",
      "\u001b[33m[ WARN] [1678577224.512376824, 2477.356000000]: TF_REPEATED_DATA ignoring data with redundant timestamp for frame arm_lift_link at time 2477.479000 according to authority /robot_state_publisher\u001b[0m\n",
      "\u001b[33m[ WARN] [1678577224.512391065, 2477.356000000]: TF_REPEATED_DATA ignoring data with redundant timestamp for frame arm_roll_link at time 2477.479000 according to authority /robot_state_publisher\u001b[0m\n",
      "\u001b[33m[ WARN] [1678577224.512405750, 2477.356000000]: TF_REPEATED_DATA ignoring data with redundant timestamp for frame base_b_bumper_link at time 2477.479000 according to authority /robot_state_publisher\u001b[0m\n",
      "\u001b[33m[ WARN] [1678577224.512713885, 2477.356000000]: TF_REPEATED_DATA ignoring data with redundant timestamp for frame base_f_bumper_link at time 2477.479000 according to authority /robot_state_publisher\u001b[0m\n",
      "\u001b[33m[ WARN] [1678577224.512733173, 2477.356000000]: TF_REPEATED_DATA ignoring data with redundant timestamp for frame base_l_drive_wheel_link at time 2477.479000 according to authority /robot_state_publisher\u001b[0m\n",
      "\u001b[33m[ WARN] [1678577224.512749149, 2477.356000000]: TF_REPEATED_DATA ignoring data with redundant timestamp for frame base_l_passive_wheel_x_frame at time 2477.479000 according to authority /robot_state_publisher\u001b[0m\n",
      "\u001b[33m[ WARN] [1678577224.512765612, 2477.356000000]: TF_REPEATED_DATA ignoring data with redundant timestamp for frame base_l_passive_wheel_y_frame at time 2477.479000 according to authority /robot_state_publisher\u001b[0m\n",
      "\u001b[33m[ WARN] [1678577224.512781698, 2477.356000000]: TF_REPEATED_DATA ignoring data with redundant timestamp for frame base_l_passive_wheel_z_link at time 2477.479000 according to authority /robot_state_publisher\u001b[0m\n",
      "\u001b[33m[ WARN] [1678577224.512797512, 2477.356000000]: TF_REPEATED_DATA ignoring data with redundant timestamp for frame base_r_drive_wheel_link at time 2477.479000 according to authority /robot_state_publisher\u001b[0m\n",
      "\u001b[33m[ WARN] [1678577224.512813395, 2477.356000000]: TF_REPEATED_DATA ignoring data with redundant timestamp for frame base_r_passive_wheel_x_frame at time 2477.479000 according to authority /robot_state_publisher\u001b[0m\n",
      "\u001b[33m[ WARN] [1678577224.512829878, 2477.356000000]: TF_REPEATED_DATA ignoring data with redundant timestamp for frame base_r_passive_wheel_y_frame at time 2477.479000 according to authority /robot_state_publisher\u001b[0m\n",
      "\u001b[33m[ WARN] [1678577224.512845435, 2477.356000000]: TF_REPEATED_DATA ignoring data with redundant timestamp for frame base_r_passive_wheel_z_link at time 2477.479000 according to authority /robot_state_publisher\u001b[0m\n",
      "\u001b[33m[ WARN] [1678577224.512860374, 2477.356000000]: TF_REPEATED_DATA ignoring data with redundant timestamp for frame base_roll_link at time 2477.479000 according to authority /robot_state_publisher\u001b[0m\n",
      "\u001b[33m[ WARN] [1678577224.512875545, 2477.356000000]: TF_REPEATED_DATA ignoring data with redundant timestamp for frame hand_l_distal_link at time 2477.479000 according to authority /robot_state_publisher\u001b[0m\n",
      "\u001b[33m[ WARN] [1678577224.512890461, 2477.356000000]: TF_REPEATED_DATA ignoring data with redundant timestamp for frame hand_l_mimic_distal_link at time 2477.479000 according to authority /robot_state_publisher\u001b[0m\n",
      "\u001b[33m[ WARN] [1678577224.512905479, 2477.356000000]: TF_REPEATED_DATA ignoring data with redundant timestamp for frame hand_l_proximal_link at time 2477.479000 according to authority /robot_state_publisher\u001b[0m\n",
      "\u001b[33m[ WARN] [1678577224.512920294, 2477.356000000]: TF_REPEATED_DATA ignoring data with redundant timestamp for frame hand_l_spring_proximal_link at time 2477.479000 according to authority /robot_state_publisher\u001b[0m\n",
      "\u001b[33m[ WARN] [1678577224.512935167, 2477.356000000]: TF_REPEATED_DATA ignoring data with redundant timestamp for frame hand_motor_dummy_link at time 2477.479000 according to authority /robot_state_publisher\u001b[0m\n",
      "\u001b[33m[ WARN] [1678577224.512951962, 2477.356000000]: TF_REPEATED_DATA ignoring data with redundant timestamp for frame hand_r_distal_link at time 2477.479000 according to authority /robot_state_publisher\u001b[0m\n",
      "\u001b[33m[ WARN] [1678577224.512967207, 2477.356000000]: TF_REPEATED_DATA ignoring data with redundant timestamp for frame hand_r_mimic_distal_link at time 2477.479000 according to authority /robot_state_publisher\u001b[0m\n",
      "\u001b[33m[ WARN] [1678577224.512992649, 2477.356000000]: TF_REPEATED_DATA ignoring data with redundant timestamp for frame hand_r_proximal_link at time 2477.479000 according to authority /robot_state_publisher\u001b[0m\n",
      "\u001b[33m[ WARN] [1678577224.513007755, 2477.356000000]: TF_REPEATED_DATA ignoring data with redundant timestamp for frame hand_r_spring_proximal_link at time 2477.479000 according to authority /robot_state_publisher\u001b[0m\n",
      "\u001b[33m[ WARN] [1678577224.513025510, 2477.356000000]: TF_REPEATED_DATA ignoring data with redundant timestamp for frame head_pan_link at time 2477.479000 according to authority /robot_state_publisher\u001b[0m\n",
      "\u001b[33m[ WARN] [1678577224.513047834, 2477.356000000]: TF_REPEATED_DATA ignoring data with redundant timestamp for frame head_tilt_link at time 2477.479000 according to authority /robot_state_publisher\u001b[0m\n",
      "\u001b[33m[ WARN] [1678577224.513062798, 2477.356000000]: TF_REPEATED_DATA ignoring data with redundant timestamp for frame torso_lift_link at time 2477.479000 according to authority /robot_state_publisher\u001b[0m\n",
      "\u001b[33m[ WARN] [1678577224.513077291, 2477.356000000]: TF_REPEATED_DATA ignoring data with redundant timestamp for frame wrist_flex_link at time 2477.479000 according to authority /robot_state_publisher\u001b[0m\n",
      "\u001b[33m[ WARN] [1678577224.513092163, 2477.356000000]: TF_REPEATED_DATA ignoring data with redundant timestamp for frame wrist_ft_sensor_frame at time 2477.479000 according to authority /robot_state_publisher\u001b[0m\n",
      "\u001b[33m[ WARN] [1678577224.513110113, 2477.356000000]: TF_REPEATED_DATA ignoring data with redundant timestamp for frame wrist_ft_sensor_mount_link at time 2477.479000 according to authority /robot_state_publisher\u001b[0m\n"
     ]
    }
   ],
   "source": [
    "robot=get_robot()\n",
    "y,x=(int)(robot[0]),(int)(robot[1])\n",
    "y,x"
   ]
  },
  {
   "cell_type": "code",
   "execution_count": null,
   "id": "53e526fb",
   "metadata": {},
   "outputs": [],
   "source": []
  },
  {
   "cell_type": "code",
   "execution_count": 54,
   "id": "ac433c28",
   "metadata": {},
   "outputs": [],
   "source": [
    "origin=np.asarray((1024,1024))\n",
    "deltax=round(round((safe_xy[1]-y)/pix_per_m)/round((safe_xy[0]+x)/pix_per_m)*10)\n",
    "deltay=10"
   ]
  },
  {
   "cell_type": "code",
   "execution_count": 55,
   "id": "f34d1dca",
   "metadata": {},
   "outputs": [
    {
     "name": "stdout",
     "output_type": "stream",
     "text": [
      "free 1008 1072 -0.800000011920929 2.400000035762787\n",
      "free 1018 1077 -0.30000000447034836 2.650000039488077\n",
      "free 1028 1082 0.20000000298023224 2.9000000432133675\n",
      "free 1038 1087 0.7000000104308128 3.1500000469386578\n"
     ]
    },
    {
     "data": {
      "text/plain": [
       "<matplotlib.image.AxesImage at 0x7fc8c0302730>"
      ]
     },
     "execution_count": 55,
     "metadata": {},
     "output_type": "execute_result"
    },
    {
     "data": {
      "image/png": "[encoded data removed]",
      "text/plain": [
       "<Figure size 640x480 with 1 Axes>"
      ]
     },
     "metadata": {},
     "output_type": "display_data"
    }
   ],
   "source": [
    "y,x=1024+(int)(robot[0]),1024+(int)(robot[1])\n",
    "\n",
    "for i in range (100):\n",
    "    if (contoured[y,x])==0 or (contoured[y,x])==200:\n",
    "        y+=deltay\n",
    "        x+=deltax\n",
    "        draw_at(y,x,contoured)\n",
    "        print('free',y,x,(y-1024)*pix_per_m, (x-1024)*pix_per_m)\n",
    "plt.imshow(contoured[750:1250,750:1250])\n",
    "    "
   ]
  },
  {
   "cell_type": "code",
   "execution_count": 75,
   "id": "5c086f6c",
   "metadata": {},
   "outputs": [
    {
     "data": {
      "text/plain": [
       "(-46, 34)"
      ]
     },
     "execution_count": 75,
     "metadata": {},
     "output_type": "execute_result"
    },
    {
     "name": "stderr",
     "output_type": "stream",
     "text": [
      "\u001b[33m[ WARN] [1678572936.436903094, 2364.849000000]: TF_REPEATED_DATA ignoring data with redundant timestamp for frame odom at time 2364.869000 according to authority /pose_integrator\u001b[0m\n",
      "\u001b[33m[ WARN] [1678572936.437004887, 2364.849000000]: TF_REPEATED_DATA ignoring data with redundant timestamp for frame odom at time 2364.869000 according to authority /pose_integrator\u001b[0m\n",
      "\u001b[33m[ WARN] [1678572936.437035536, 2364.849000000]: TF_REPEATED_DATA ignoring data with redundant timestamp for frame odom at time 2364.869000 according to authority /pose_integrator\u001b[0m\n",
      "\u001b[33m[ WARN] [1678572936.437060181, 2364.849000000]: TF_REPEATED_DATA ignoring data with redundant timestamp for frame odom at time 2364.869000 according to authority /pose_integrator\u001b[0m\n",
      "\u001b[33m[ WARN] [1678572936.442388994, 2364.849000000]: TF_REPEATED_DATA ignoring data with redundant timestamp for frame odom at time 2364.869000 according to authority unknown_publisher\u001b[0m\n"
     ]
    }
   ],
   "source": [
    "\n",
    "y,x"
   ]
  },
  {
   "cell_type": "code",
   "execution_count": 76,
   "id": "8fd98eb9",
   "metadata": {},
   "outputs": [
    {
     "data": {
      "text/plain": [
       "<matplotlib.image.AxesImage at 0x7f2b7e0f26a0>"
      ]
     },
     "execution_count": 76,
     "metadata": {},
     "output_type": "execute_result"
    },
    {
     "data": {
      "image/png": "[encoded data removed]",
      "text/plain": [
       "<Figure size 640x480 with 1 Axes>"
      ]
     },
     "metadata": {},
     "output_type": "display_data"
    },
    {
     "name": "stderr",
     "output_type": "stream",
     "text": [
      "\u001b[33m[ WARN] [1678572943.169188567, 2365.210000000]: TF_REPEATED_DATA ignoring data with redundant timestamp for frame odom at time 2365.243000 according to authority /pose_integrator\u001b[0m\n",
      "\u001b[33m[ WARN] [1678572943.169279312, 2365.210000000]: TF_REPEATED_DATA ignoring data with redundant timestamp for frame odom at time 2365.243000 according to authority /pose_integrator\u001b[0m\n",
      "\u001b[33m[ WARN] [1678572943.169326987, 2365.210000000]: TF_REPEATED_DATA ignoring data with redundant timestamp for frame odom at time 2365.243000 according to authority /pose_integrator\u001b[0m\n",
      "\u001b[33m[ WARN] [1678572943.169353442, 2365.210000000]: TF_REPEATED_DATA ignoring data with redundant timestamp for frame odom at time 2365.243000 according to authority /pose_integrator\u001b[0m\n",
      "\u001b[33m[ WARN] [1678572943.175041157, 2365.210000000]: TF_REPEATED_DATA ignoring data with redundant timestamp for frame odom at time 2365.243000 according to authority unknown_publisher\u001b[0m\n"
     ]
    }
   ],
   "source": [
    "plt.imshow(contoured[750:1250,750:1250])"
   ]
  },
  {
   "cell_type": "code",
   "execution_count": 77,
   "id": "d67bcb80",
   "metadata": {},
   "outputs": [
    {
     "data": {
      "text/plain": [
       "255"
      ]
     },
     "execution_count": 77,
     "metadata": {},
     "output_type": "execute_result"
    }
   ],
   "source": [
    "contoured[y,x]"
   ]
  },
  {
   "cell_type": "code",
   "execution_count": 78,
   "id": "167f3656",
   "metadata": {},
   "outputs": [
    {
     "data": {
      "text/plain": [
       "<matplotlib.image.AxesImage at 0x7f2b7e115850>"
      ]
     },
     "execution_count": 78,
     "metadata": {},
     "output_type": "execute_result"
    },
    {
     "data": {
      "image/png": "[encoded data removed]",
      "text/plain": [
       "<Figure size 640x480 with 1 Axes>"
      ]
     },
     "metadata": {},
     "output_type": "display_data"
    },
    {
     "name": "stderr",
     "output_type": "stream",
     "text": [
      "\u001b[33m[ WARN] [1678572980.542467896, 2367.398000000]: TF_REPEATED_DATA ignoring data with redundant timestamp for frame odom at time 2367.448000 according to authority unknown_publisher\u001b[0m\n",
      "\u001b[33m[ WARN] [1678572980.544223238, 2367.398000000]: TF_REPEATED_DATA ignoring data with redundant timestamp for frame odom at time 2367.448000 according to authority /pose_integrator\u001b[0m\n",
      "\u001b[33m[ WARN] [1678572980.544310346, 2367.398000000]: TF_REPEATED_DATA ignoring data with redundant timestamp for frame odom at time 2367.448000 according to authority /pose_integrator\u001b[0m\n",
      "\u001b[33m[ WARN] [1678572980.544354132, 2367.398000000]: TF_REPEATED_DATA ignoring data with redundant timestamp for frame odom at time 2367.448000 according to authority /pose_integrator\u001b[0m\n",
      "\u001b[33m[ WARN] [1678572980.544378628, 2367.398000000]: TF_REPEATED_DATA ignoring data with redundant timestamp for frame odom at time 2367.448000 according to authority /pose_integrator\u001b[0m\n"
     ]
    }
   ],
   "source": [
    "robot=get_robot()\n",
    "draw_at(1024+(int)(robot[0]),1024-(int)(robot[1]),img_flip)\n",
    "plt.imshow (img_flip[750:1250,750:1250])\n"
   ]
  },
  {
   "cell_type": "code",
   "execution_count": 20,
   "id": "4ff1a606",
   "metadata": {},
   "outputs": [
    {
     "data": {
      "text/plain": [
       "<matplotlib.image.AxesImage at 0x7ff090f97880>"
      ]
     },
     "execution_count": 20,
     "metadata": {},
     "output_type": "execute_result"
    },
    {
     "data": {
      "image/png": "[encoded data removed]",
      "text/plain": [
       "<Figure size 640x480 with 1 Axes>"
      ]
     },
     "metadata": {},
     "output_type": "display_data"
    }
   ],
   "source": [
    "plt.imshow(img_flip)"
   ]
  },
  {
   "cell_type": "code",
   "execution_count": 49,
   "id": "028e6201",
   "metadata": {},
   "outputs": [],
   "source": [
    "data=img.data\n",
    "w=img.info.width\n",
    "h=img.info.height\n",
    "resolution=img.info.resolution\n",
    "Xstartx=img.info.origin.position.x\n",
    "Xstarty=img.info.origin.position.y\n",
    " \n",
    "ima= np.zeros((h, w, 1), np.uint8)"
   ]
  },
  {
   "cell_type": "code",
   "execution_count": 50,
   "id": "d501a476",
   "metadata": {},
   "outputs": [],
   "source": [
    "\n",
    "for i in range(0,h):\n",
    "    for j in range(0,w):\n",
    "        if data[i*w+j]==100:\n",
    "            ima[i,j]=0\n",
    "        elif data[i*w+j]==0:\n",
    "            ima[i,j]=255\n",
    "        elif data[i*w+j]==-1:\n",
    "            ima[i,j]=205"
   ]
  },
  {
   "cell_type": "code",
   "execution_count": 71,
   "id": "e4c93d88",
   "metadata": {},
   "outputs": [],
   "source": [
    "o=cv2.inRange(ima,0,1)\n",
    "edges = cv2.Canny(ima,0,255)"
   ]
  },
  {
   "cell_type": "code",
   "execution_count": 72,
   "id": "94d86bf3",
   "metadata": {},
   "outputs": [
    {
     "data": {
      "text/plain": [
       "<matplotlib.image.AxesImage at 0x7ff0654deeb0>"
      ]
     },
     "execution_count": 72,
     "metadata": {},
     "output_type": "execute_result"
    },
    {
     "data": {
      "image/png": "[encoded data removed]",
      "text/plain": [
       "<Figure size 640x480 with 1 Axes>"
      ]
     },
     "metadata": {},
     "output_type": "display_data"
    }
   ],
   "source": [
    "plt.imshow(o[600:1300,600:1300])"
   ]
  },
  {
   "cell_type": "code",
   "execution_count": 73,
   "id": "2fd964e0",
   "metadata": {},
   "outputs": [
    {
     "data": {
      "text/plain": [
       "<matplotlib.image.AxesImage at 0x7ff0654bb490>"
      ]
     },
     "execution_count": 73,
     "metadata": {},
     "output_type": "execute_result"
    },
    {
     "data": {
      "image/png": "[encoded data removed]",
      "text/plain": [
       "<Figure size 640x480 with 1 Axes>"
      ]
     },
     "metadata": {},
     "output_type": "display_data"
    }
   ],
   "source": [
    "o=cv2.inRange(ima,0,1)\n",
    "edges = cv2.Canny(ima,0,255)\n",
    "contours, hierarchy = cv2.findContours(o,cv2.RETR_TREE,cv2.CHAIN_APPROX_SIMPLE)\n",
    "cv2.drawContours(o, contours, -1, (255,255,255), 5)\n",
    "o=cv2.bitwise_not(o) \n",
    "res = cv2.bitwise_and(o,edges)\n",
    "plt.imshow(res[900:1300,600:1300])"
   ]
  },
  {
   "cell_type": "code",
   "execution_count": 74,
   "id": "52bc730d",
   "metadata": {},
   "outputs": [
    {
     "data": {
      "text/plain": [
       "<matplotlib.image.AxesImage at 0x7ff065411220>"
      ]
     },
     "execution_count": 74,
     "metadata": {},
     "output_type": "execute_result"
    },
    {
     "data": {
      "image/png": "[encoded data removed]",
      "text/plain": [
       "<Figure size 640x480 with 1 Axes>"
      ]
     },
     "metadata": {},
     "output_type": "display_data"
    }
   ],
   "source": [
    "o=cv2.inRange(ima,0,1)\n",
    "edges = cv2.Canny(ima,0,255)\n",
    "contours, hierarchy = cv2.findContours(o,cv2.RETR_TREE,cv2.CHAIN_APPROX_SIMPLE)\n",
    "cv2.drawContours(o, contours, -1, (255,255,255), 5)\n",
    "o=cv2.bitwise_not(o) \n",
    "res = cv2.bitwise_and(o,edges)\n",
    "\n",
    "frontier=np.copy(res)\n",
    "contours, hierarchy = cv2.findContours(frontier,cv2.RETR_TREE,cv2.CHAIN_APPROX_SIMPLE)\n",
    "cv2.drawContours(frontier, contours, -1, (255,255,255), 2)\n",
    "contours, hierarchy = cv2.findContours(frontier,cv2.RETR_TREE,cv2.CHAIN_APPROX_SIMPLE)\n",
    "aa=cv2.drawContours(frontier, contours, -1, (255,255,255), 2)\n",
    "plt.imshow(aa[900:1300,600:1300])"
   ]
  },
  {
   "cell_type": "code",
   "execution_count": 55,
   "id": "1856fe90",
   "metadata": {},
   "outputs": [],
   "source": [
    "contours, hierarchy = cv2.findContours(frontier,cv2.RETR_TREE,cv2.CHAIN_APPROX_SIMPLE)"
   ]
  },
  {
   "cell_type": "code",
   "execution_count": 56,
   "id": "82bd3a6f",
   "metadata": {},
   "outputs": [
    {
     "data": {
      "text/plain": [
       "<matplotlib.image.AxesImage at 0x7ff0657fcf40>"
      ]
     },
     "execution_count": 56,
     "metadata": {},
     "output_type": "execute_result"
    },
    {
     "data": {
      "image/png": "[encoded data removed]",
      "text/plain": [
       "<Figure size 640x480 with 1 Axes>"
      ]
     },
     "metadata": {},
     "output_type": "display_data"
    }
   ],
   "source": [
    "plt.imshow(frontier[600:1300,600:1300])\n"
   ]
  },
  {
   "cell_type": "code",
   "execution_count": 61,
   "id": "84152214",
   "metadata": {},
   "outputs": [
    {
     "data": {
      "text/plain": [
       "array([[-5.52499732,  4.52500283],\n",
       "       [-8.97499737,  1.47500279]])"
      ]
     },
     "execution_count": 61,
     "metadata": {},
     "output_type": "execute_result"
    }
   ],
   "source": [
    "all_pts=[]\n",
    "if len(contours)>0:\n",
    "    upto=len(contours)-1\n",
    "    i=0\n",
    "    maxx=0\n",
    "    maxind=0\n",
    "        \n",
    "    for i in range(0,len(contours)):\n",
    "            cnt = contours[i]\n",
    "            M = cv2.moments(cnt)\n",
    "            cx = int(M['m10']/M['m00'])\n",
    "            cy = int(M['m01']/M['m00'])\n",
    "            xr=cx*resolution+Xstartx\n",
    "            yr=cy*resolution+Xstarty\n",
    "            pt=[np.array([xr,yr])]\n",
    "            if len(all_pts)>0:\n",
    "                all_pts=np.vstack([all_pts,pt])\n",
    "            else:\n",
    "\n",
    "                all_pts=pt\n",
    "all_pts"
   ]
  },
  {
   "cell_type": "code",
   "execution_count": 82,
   "id": "935d316d",
   "metadata": {},
   "outputs": [],
   "source": [
    "def get_frontier(img):\n",
    "    data=img.data\n",
    "    w=img.info.width\n",
    "    h=img.info.height\n",
    "    resolution=img.info.resolution\n",
    "    Xstartx=img.info.origin.position.x\n",
    "    Xstarty=img.info.origin.position.y\n",
    "\n",
    "    ima= np.zeros((h, w, 1), np.uint8)\n",
    "    for i in range(0,h):\n",
    "        for j in range(0,w):\n",
    "            if data[i*w+j]==100:\n",
    "                ima[i,j]=0\n",
    "            elif data[i*w+j]==0:\n",
    "                ima[i,j]=255\n",
    "            elif data[i*w+j]==-1:\n",
    "                ima[i,j]=205\n",
    "    o=cv2.inRange(ima,0,1)\n",
    "    edges = cv2.Canny(ima,0,255)\n",
    "    contours, hierarchy = cv2.findContours(o,cv2.RETR_TREE,cv2.CHAIN_APPROX_SIMPLE)\n",
    "    cv2.drawContours(o, contours, -1, (255,255,255), 5)\n",
    "    o=cv2.bitwise_not(o) \n",
    "    res = cv2.bitwise_and(o,edges)\n",
    "    frontier=np.copy(res)\n",
    "    contours, hierarchy = cv2.findContours(frontier,cv2.RETR_TREE,cv2.CHAIN_APPROX_SIMPLE)\n",
    "    cv2.drawContours(frontier, contours, -1, (255,255,255), 2)\n",
    "    contours, hierarchy = cv2.findContours(frontier,cv2.RETR_TREE,cv2.CHAIN_APPROX_SIMPLE)\n",
    "    \n",
    "    all_pts=[]\n",
    "    if len(contours)>0:\n",
    "        upto=len(contours)-1\n",
    "        i=0\n",
    "        maxx=0\n",
    "        maxind=0\n",
    "\n",
    "        for i in range(0,len(contours)):\n",
    "                cnt = contours[i]\n",
    "                M = cv2.moments(cnt)\n",
    "                cx = int(M['m10']/M['m00'])\n",
    "                cy = int(M['m01']/M['m00'])\n",
    "                xr=cx*resolution+Xstartx\n",
    "                yr=cy*resolution+Xstarty\n",
    "                pt=[np.array([xr,yr])]\n",
    "                if len(all_pts)>0:\n",
    "                    all_pts=np.vstack([all_pts,pt])\n",
    "                else:\n",
    "\n",
    "                    all_pts=pt\n",
    "    return all_pts\n",
    "\n",
    "                \n",
    "                \n",
    "                \n",
    "    \n",
    "\n"
   ]
  },
  {
   "cell_type": "code",
   "execution_count": 90,
   "id": "0f064054",
   "metadata": {},
   "outputs": [],
   "source": [
    "frontiers=get_frontier(img)"
   ]
  },
  {
   "cell_type": "code",
   "execution_count": 117,
   "id": "d65d085d",
   "metadata": {},
   "outputs": [],
   "source": [
    "def index_of_point(mapData, Xp):\n",
    "    resolution = mapData.info.resolution\n",
    "    Xstartx = mapData.info.origin.position.x\n",
    "    Xstarty = mapData.info.origin.position.y\n",
    "    width = mapData.info.width\n",
    "    Data = mapData.data\n",
    "    index = int((np.floor((Xp[1]-Xstarty)/resolution) *width)+(np.floor((Xp[0]-Xstartx)/resolution)))\n",
    "    return index\n"
   ]
  },
  {
   "cell_type": "code",
   "execution_count": 125,
   "id": "a491a0b6",
   "metadata": {},
   "outputs": [],
   "source": [
    "def point_of_index(mapData, i):\n",
    "    y = mapData.info.origin.position.y + \\\n",
    "        (i//mapData.info.width)*mapData.info.resolution\n",
    "    x = mapData.info.origin.position.x + \\\n",
    "        (i-(i//mapData.info.width)*(mapData.info.width))*mapData.info.resolution\n",
    "    return np.array([x, y])"
   ]
  },
  {
   "cell_type": "code",
   "execution_count": 118,
   "id": "de669e2f",
   "metadata": {},
   "outputs": [],
   "source": [
    "def informationGain(mapData, point, r):\n",
    "    infoGain = 0\n",
    "    index = index_of_point(mapData, point)\n",
    "    r_region = int(r/mapData.info.resolution)\n",
    "    init_index = index-r_region*(mapData.info.width+1)\n",
    "    for n in range(0, 2*r_region+1):\n",
    "        start = n*mapData.info.width+init_index\n",
    "        end = start+2*r_region\n",
    "        limit = ((start/mapData.info.width)+2)*mapData.info.width\n",
    "        for i in range(start, end+1):\n",
    "            if (i >= 0 and i < limit and i < len(mapData.data)):\n",
    "                if(mapData.data[i] == -1 and np.linalg.norm(np.array(point)-point_of_index(mapData, i)) <= r):\n",
    "                    infoGain += 1\n",
    "    return infoGain*(mapData.info.resolution**2)"
   ]
  },
  {
   "cell_type": "code",
   "execution_count": 119,
   "id": "1258b4f7",
   "metadata": {},
   "outputs": [],
   "source": [
    "from copy import copy\n",
    "from sklearn.cluster import MeanShift\n",
    "centroids=[]\n",
    "front =copy(frontiers)\n",
    "if len(front) > 1:\n",
    "    ms = MeanShift(bandwidth=0.3)\n",
    "    ms.fit(front)\n",
    "    centroids = ms.cluster_centers_  # centroids array is the centers of each cluster\n",
    "\n",
    "    # if there is only one frontier no need for clustering, i.e. centroids=frontiers\n",
    "if len(front) == 1:\n",
    "    centroids = front\n",
    "    frontiers = copy(centroids)\n",
    "\n"
   ]
  },
  {
   "cell_type": "code",
   "execution_count": 120,
   "id": "dc2a50e2",
   "metadata": {},
   "outputs": [
    {
     "data": {
      "text/plain": [
       "(array([[-5.52499732,  4.52500283],\n",
       "        [-8.97499737,  1.47500279]]),\n",
       " array([[-5.52499732,  4.52500283],\n",
       "        [-8.97499737,  1.47500279]]))"
      ]
     },
     "execution_count": 120,
     "metadata": {},
     "output_type": "execute_result"
    }
   ],
   "source": [
    "centroids,frontiers\n"
   ]
  },
  {
   "cell_type": "code",
   "execution_count": 126,
   "id": "2227773e",
   "metadata": {},
   "outputs": [],
   "source": [
    "infoGain=[]\n",
    "info_radius=1\n",
    "for ip in range(0,len(centroids)):\n",
    "    infoGain.append(informationGain(img,[centroids[ip][0],centroids[ip][1]],info_radius))"
   ]
  },
  {
   "cell_type": "code",
   "execution_count": 127,
   "id": "ec15f3bb",
   "metadata": {},
   "outputs": [
    {
     "data": {
      "text/plain": [
       "[0.5225000155717135, 2.6200000780820853]"
      ]
     },
     "execution_count": 127,
     "metadata": {},
     "output_type": "execute_result"
    }
   ],
   "source": [
    "infoGain"
   ]
  },
  {
   "cell_type": "code",
   "execution_count": 32,
   "id": "8c96b616",
   "metadata": {},
   "outputs": [
    {
     "name": "stderr",
     "output_type": "stream",
     "text": [
      "\u001b[33m[ WARN] [1678572200.210830356, 2320.759000000]: TF_REPEATED_DATA ignoring data with redundant timestamp for frame odom at time 2320.817000 according to authority /pose_integrator\u001b[0m\n",
      "\u001b[33m[ WARN] [1678572200.210942671, 2320.759000000]: TF_REPEATED_DATA ignoring data with redundant timestamp for frame odom at time 2320.817000 according to authority /pose_integrator\u001b[0m\n",
      "\u001b[33m[ WARN] [1678572200.210976094, 2320.759000000]: TF_REPEATED_DATA ignoring data with redundant timestamp for frame odom at time 2320.817000 according to authority /pose_integrator\u001b[0m\n",
      "\u001b[33m[ WARN] [1678572200.211002779, 2320.759000000]: TF_REPEATED_DATA ignoring data with redundant timestamp for frame odom at time 2320.817000 according to authority /pose_integrator\u001b[0m\n",
      "\u001b[33m[ WARN] [1678572200.215158266, 2320.759000000]: TF_REPEATED_DATA ignoring data with redundant timestamp for frame odom at time 2320.817000 according to authority unknown_publisher\u001b[0m\n"
     ]
    }
   ],
   "source": []
  },
  {
   "cell_type": "code",
   "execution_count": 191,
   "id": "74b88d27",
   "metadata": {},
   "outputs": [
    {
     "ename": "TypeError",
     "evalue": "unsupported operand type(s) for +: 'int' and 'function'",
     "output_type": "error",
     "traceback": [
      "\u001b[0;31m---------------------------------------------------------------------------\u001b[0m",
      "\u001b[0;31mTypeError\u001b[0m                                 Traceback (most recent call last)",
      "Cell \u001b[0;32mIn[191], line 2\u001b[0m\n\u001b[1;32m      1\u001b[0m get_robot()\n\u001b[0;32m----> 2\u001b[0m \u001b[43morigin\u001b[49m\u001b[43m \u001b[49m\u001b[38;5;241;43m+\u001b[39;49m\u001b[43m \u001b[49m\u001b[43mget_robot\u001b[49m\n",
      "\u001b[0;31mTypeError\u001b[0m: unsupported operand type(s) for +: 'int' and 'function'"
     ]
    }
   ],
   "source": [
    "get_robot()\n",
    "origin + get_robot"
   ]
  },
  {
   "cell_type": "code",
   "execution_count": 192,
   "id": "3b28ca1a",
   "metadata": {},
   "outputs": [
    {
     "data": {
      "text/plain": [
       "array([ 104., 1704.])"
      ]
     },
     "execution_count": 192,
     "metadata": {},
     "output_type": "execute_result"
    }
   ],
   "source": [
    "origin+(robot/pix_per_m).round()\n"
   ]
  },
  {
   "cell_type": "code",
   "execution_count": 3,
   "id": "7a8f0e3d",
   "metadata": {},
   "outputs": [],
   "source": [
    "import rospy"
   ]
  },
  {
   "cell_type": "code",
   "execution_count": null,
   "id": "f822cb9a",
   "metadata": {},
   "outputs": [],
   "source": [
    "from vis"
   ]
  }
 ],
 "metadata": {
  "kernelspec": {
   "display_name": "Python 3 (ipykernel)",
   "language": "python",
   "name": "python3"
  },
  "language_info": {
   "codemirror_mode": {
    "name": "ipython",
    "version": 3
   },
   "file_extension": ".py",
   "mimetype": "text/x-python",
   "name": "python",
   "nbconvert_exporter": "python",
   "pygments_lexer": "ipython3",
   "version": "3.8.10"
  }
 },
 "nbformat": 4,
 "nbformat_minor": 5
}
